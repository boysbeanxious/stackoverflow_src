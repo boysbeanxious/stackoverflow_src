{
 "cells": [
  {
   "cell_type": "code",
   "execution_count": 1,
   "metadata": {},
   "outputs": [],
   "source": [
    "import pandas as pd\n",
    "import numpy as np\n",
    "import statsmodels.api as sm\n",
    "import statsmodels.formula.api as smf\n",
    "import matplotlib.pyplot as plt\n",
    "import seaborn as sns\n",
    "\n",
    "# 데이터 읽기 및 전처리\n",
    "q_LIWC = pd.read_csv(\"../../R/data/LIWC_questions.csv\")\n",
    "df_q = pd.read_csv(\"../../R/data/questions.csv\")\n",
    "df_q = df_q.merge(q_LIWC[['q_Id', 'BigWords']], on='q_Id', how='left')\n",
    "\n",
    "\n",
    "# 필터링\n",
    "df_filtered = df_q[(df_q['q_rel_week'] >= -8) & (df_q['q_rel_week'] <= 20)]"
   ]
  },
  {
   "cell_type": "code",
   "execution_count": 2,
   "metadata": {},
   "outputs": [],
   "source": [
    "model = smf.ols('BigWords ~ C(q_rel_week, Treatment(reference=-8)) * q_treat', data=df_filtered).fit(cov_type='HC1')"
   ]
  },
  {
   "cell_type": "code",
   "execution_count": 3,
   "metadata": {},
   "outputs": [],
   "source": [
    "coefs = pd.DataFrame({\n",
    "    'Estimate': model.params,\n",
    "    'Std. Error': model.bse\n",
    "})\n",
    "coefs = coefs[coefs.index.str.contains('q_rel_week')]\n",
    "coefs = coefs.reset_index()\n",
    "coefs.columns = ['term', 'Estimate', 'Std. Error']\n"
   ]
  },
  {
   "cell_type": "code",
   "execution_count": 4,
   "metadata": {},
   "outputs": [
    {
     "data": {
      "text/html": [
       "<div>\n",
       "<style scoped>\n",
       "    .dataframe tbody tr th:only-of-type {\n",
       "        vertical-align: middle;\n",
       "    }\n",
       "\n",
       "    .dataframe tbody tr th {\n",
       "        vertical-align: top;\n",
       "    }\n",
       "\n",
       "    .dataframe thead th {\n",
       "        text-align: right;\n",
       "    }\n",
       "</style>\n",
       "<table border=\"1\" class=\"dataframe\">\n",
       "  <thead>\n",
       "    <tr style=\"text-align: right;\">\n",
       "      <th></th>\n",
       "      <th>term</th>\n",
       "      <th>Estimate</th>\n",
       "      <th>Std. Error</th>\n",
       "    </tr>\n",
       "  </thead>\n",
       "  <tbody>\n",
       "    <tr>\n",
       "      <th>0</th>\n",
       "      <td>C(q_rel_week, Treatment(reference=-8))[T.-7]</td>\n",
       "      <td>0.034362</td>\n",
       "      <td>0.075676</td>\n",
       "    </tr>\n",
       "    <tr>\n",
       "      <th>1</th>\n",
       "      <td>C(q_rel_week, Treatment(reference=-8))[T.-6]</td>\n",
       "      <td>0.007989</td>\n",
       "      <td>0.075328</td>\n",
       "    </tr>\n",
       "    <tr>\n",
       "      <th>2</th>\n",
       "      <td>C(q_rel_week, Treatment(reference=-8))[T.-5]</td>\n",
       "      <td>-0.142499</td>\n",
       "      <td>0.076199</td>\n",
       "    </tr>\n",
       "    <tr>\n",
       "      <th>3</th>\n",
       "      <td>C(q_rel_week, Treatment(reference=-8))[T.-4]</td>\n",
       "      <td>-0.082699</td>\n",
       "      <td>0.076250</td>\n",
       "    </tr>\n",
       "    <tr>\n",
       "      <th>4</th>\n",
       "      <td>C(q_rel_week, Treatment(reference=-8))[T.-3]</td>\n",
       "      <td>-0.195548</td>\n",
       "      <td>0.075334</td>\n",
       "    </tr>\n",
       "    <tr>\n",
       "      <th>5</th>\n",
       "      <td>C(q_rel_week, Treatment(reference=-8))[T.-2]</td>\n",
       "      <td>-0.038952</td>\n",
       "      <td>0.075262</td>\n",
       "    </tr>\n",
       "    <tr>\n",
       "      <th>6</th>\n",
       "      <td>C(q_rel_week, Treatment(reference=-8))[T.-1]</td>\n",
       "      <td>0.009776</td>\n",
       "      <td>0.076470</td>\n",
       "    </tr>\n",
       "    <tr>\n",
       "      <th>7</th>\n",
       "      <td>C(q_rel_week, Treatment(reference=-8))[T.0]</td>\n",
       "      <td>-0.119697</td>\n",
       "      <td>0.075729</td>\n",
       "    </tr>\n",
       "    <tr>\n",
       "      <th>8</th>\n",
       "      <td>C(q_rel_week, Treatment(reference=-8))[T.1]</td>\n",
       "      <td>-0.162229</td>\n",
       "      <td>0.075535</td>\n",
       "    </tr>\n",
       "    <tr>\n",
       "      <th>9</th>\n",
       "      <td>C(q_rel_week, Treatment(reference=-8))[T.2]</td>\n",
       "      <td>0.139090</td>\n",
       "      <td>0.076359</td>\n",
       "    </tr>\n",
       "    <tr>\n",
       "      <th>10</th>\n",
       "      <td>C(q_rel_week, Treatment(reference=-8))[T.3]</td>\n",
       "      <td>0.274104</td>\n",
       "      <td>0.081166</td>\n",
       "    </tr>\n",
       "    <tr>\n",
       "      <th>11</th>\n",
       "      <td>C(q_rel_week, Treatment(reference=-8))[T.4]</td>\n",
       "      <td>0.298325</td>\n",
       "      <td>0.080298</td>\n",
       "    </tr>\n",
       "    <tr>\n",
       "      <th>12</th>\n",
       "      <td>C(q_rel_week, Treatment(reference=-8))[T.5]</td>\n",
       "      <td>0.244382</td>\n",
       "      <td>0.075959</td>\n",
       "    </tr>\n",
       "    <tr>\n",
       "      <th>13</th>\n",
       "      <td>C(q_rel_week, Treatment(reference=-8))[T.6]</td>\n",
       "      <td>0.219114</td>\n",
       "      <td>0.075838</td>\n",
       "    </tr>\n",
       "    <tr>\n",
       "      <th>14</th>\n",
       "      <td>C(q_rel_week, Treatment(reference=-8))[T.7]</td>\n",
       "      <td>0.266434</td>\n",
       "      <td>0.074797</td>\n",
       "    </tr>\n",
       "    <tr>\n",
       "      <th>15</th>\n",
       "      <td>C(q_rel_week, Treatment(reference=-8))[T.8]</td>\n",
       "      <td>0.113426</td>\n",
       "      <td>0.074946</td>\n",
       "    </tr>\n",
       "    <tr>\n",
       "      <th>16</th>\n",
       "      <td>C(q_rel_week, Treatment(reference=-8))[T.9]</td>\n",
       "      <td>0.216162</td>\n",
       "      <td>0.074647</td>\n",
       "    </tr>\n",
       "    <tr>\n",
       "      <th>17</th>\n",
       "      <td>C(q_rel_week, Treatment(reference=-8))[T.10]</td>\n",
       "      <td>0.164319</td>\n",
       "      <td>0.075172</td>\n",
       "    </tr>\n",
       "    <tr>\n",
       "      <th>18</th>\n",
       "      <td>C(q_rel_week, Treatment(reference=-8))[T.11]</td>\n",
       "      <td>0.115308</td>\n",
       "      <td>0.074552</td>\n",
       "    </tr>\n",
       "    <tr>\n",
       "      <th>19</th>\n",
       "      <td>C(q_rel_week, Treatment(reference=-8))[T.12]</td>\n",
       "      <td>0.173451</td>\n",
       "      <td>0.076405</td>\n",
       "    </tr>\n",
       "    <tr>\n",
       "      <th>20</th>\n",
       "      <td>C(q_rel_week, Treatment(reference=-8))[T.13]</td>\n",
       "      <td>-0.030151</td>\n",
       "      <td>0.076031</td>\n",
       "    </tr>\n",
       "    <tr>\n",
       "      <th>21</th>\n",
       "      <td>C(q_rel_week, Treatment(reference=-8))[T.14]</td>\n",
       "      <td>0.073479</td>\n",
       "      <td>0.076075</td>\n",
       "    </tr>\n",
       "    <tr>\n",
       "      <th>22</th>\n",
       "      <td>C(q_rel_week, Treatment(reference=-8))[T.15]</td>\n",
       "      <td>0.039848</td>\n",
       "      <td>0.087772</td>\n",
       "    </tr>\n",
       "    <tr>\n",
       "      <th>23</th>\n",
       "      <td>C(q_rel_week, Treatment(reference=-8))[T.-7]:q...</td>\n",
       "      <td>0.024717</td>\n",
       "      <td>0.104455</td>\n",
       "    </tr>\n",
       "    <tr>\n",
       "      <th>24</th>\n",
       "      <td>C(q_rel_week, Treatment(reference=-8))[T.-6]:q...</td>\n",
       "      <td>-0.117683</td>\n",
       "      <td>0.104547</td>\n",
       "    </tr>\n",
       "    <tr>\n",
       "      <th>25</th>\n",
       "      <td>C(q_rel_week, Treatment(reference=-8))[T.-5]:q...</td>\n",
       "      <td>-0.035728</td>\n",
       "      <td>0.104854</td>\n",
       "    </tr>\n",
       "    <tr>\n",
       "      <th>26</th>\n",
       "      <td>C(q_rel_week, Treatment(reference=-8))[T.-4]:q...</td>\n",
       "      <td>-0.113739</td>\n",
       "      <td>0.104016</td>\n",
       "    </tr>\n",
       "    <tr>\n",
       "      <th>27</th>\n",
       "      <td>C(q_rel_week, Treatment(reference=-8))[T.-3]:q...</td>\n",
       "      <td>0.030875</td>\n",
       "      <td>0.103542</td>\n",
       "    </tr>\n",
       "    <tr>\n",
       "      <th>28</th>\n",
       "      <td>C(q_rel_week, Treatment(reference=-8))[T.-2]:q...</td>\n",
       "      <td>-0.076843</td>\n",
       "      <td>0.103353</td>\n",
       "    </tr>\n",
       "    <tr>\n",
       "      <th>29</th>\n",
       "      <td>C(q_rel_week, Treatment(reference=-8))[T.-1]:q...</td>\n",
       "      <td>0.095592</td>\n",
       "      <td>0.105124</td>\n",
       "    </tr>\n",
       "    <tr>\n",
       "      <th>30</th>\n",
       "      <td>C(q_rel_week, Treatment(reference=-8))[T.0]:q_...</td>\n",
       "      <td>0.039390</td>\n",
       "      <td>0.104018</td>\n",
       "    </tr>\n",
       "    <tr>\n",
       "      <th>31</th>\n",
       "      <td>C(q_rel_week, Treatment(reference=-8))[T.1]:q_...</td>\n",
       "      <td>0.263913</td>\n",
       "      <td>0.104586</td>\n",
       "    </tr>\n",
       "    <tr>\n",
       "      <th>32</th>\n",
       "      <td>C(q_rel_week, Treatment(reference=-8))[T.2]:q_...</td>\n",
       "      <td>0.143517</td>\n",
       "      <td>0.105806</td>\n",
       "    </tr>\n",
       "    <tr>\n",
       "      <th>33</th>\n",
       "      <td>C(q_rel_week, Treatment(reference=-8))[T.3]:q_...</td>\n",
       "      <td>0.162522</td>\n",
       "      <td>0.112085</td>\n",
       "    </tr>\n",
       "    <tr>\n",
       "      <th>34</th>\n",
       "      <td>C(q_rel_week, Treatment(reference=-8))[T.4]:q_...</td>\n",
       "      <td>0.270793</td>\n",
       "      <td>0.112318</td>\n",
       "    </tr>\n",
       "    <tr>\n",
       "      <th>35</th>\n",
       "      <td>C(q_rel_week, Treatment(reference=-8))[T.5]:q_...</td>\n",
       "      <td>0.225164</td>\n",
       "      <td>0.105388</td>\n",
       "    </tr>\n",
       "    <tr>\n",
       "      <th>36</th>\n",
       "      <td>C(q_rel_week, Treatment(reference=-8))[T.6]:q_...</td>\n",
       "      <td>0.289351</td>\n",
       "      <td>0.105492</td>\n",
       "    </tr>\n",
       "    <tr>\n",
       "      <th>37</th>\n",
       "      <td>C(q_rel_week, Treatment(reference=-8))[T.7]:q_...</td>\n",
       "      <td>0.116386</td>\n",
       "      <td>0.104695</td>\n",
       "    </tr>\n",
       "    <tr>\n",
       "      <th>38</th>\n",
       "      <td>C(q_rel_week, Treatment(reference=-8))[T.8]:q_...</td>\n",
       "      <td>0.397202</td>\n",
       "      <td>0.104765</td>\n",
       "    </tr>\n",
       "    <tr>\n",
       "      <th>39</th>\n",
       "      <td>C(q_rel_week, Treatment(reference=-8))[T.9]:q_...</td>\n",
       "      <td>0.244545</td>\n",
       "      <td>0.104682</td>\n",
       "    </tr>\n",
       "    <tr>\n",
       "      <th>40</th>\n",
       "      <td>C(q_rel_week, Treatment(reference=-8))[T.10]:q...</td>\n",
       "      <td>0.365627</td>\n",
       "      <td>0.104997</td>\n",
       "    </tr>\n",
       "    <tr>\n",
       "      <th>41</th>\n",
       "      <td>C(q_rel_week, Treatment(reference=-8))[T.11]:q...</td>\n",
       "      <td>0.493278</td>\n",
       "      <td>0.105074</td>\n",
       "    </tr>\n",
       "    <tr>\n",
       "      <th>42</th>\n",
       "      <td>C(q_rel_week, Treatment(reference=-8))[T.12]:q...</td>\n",
       "      <td>0.476852</td>\n",
       "      <td>0.106498</td>\n",
       "    </tr>\n",
       "    <tr>\n",
       "      <th>43</th>\n",
       "      <td>C(q_rel_week, Treatment(reference=-8))[T.13]:q...</td>\n",
       "      <td>0.713947</td>\n",
       "      <td>0.106781</td>\n",
       "    </tr>\n",
       "    <tr>\n",
       "      <th>44</th>\n",
       "      <td>C(q_rel_week, Treatment(reference=-8))[T.14]:q...</td>\n",
       "      <td>0.630295</td>\n",
       "      <td>0.106974</td>\n",
       "    </tr>\n",
       "    <tr>\n",
       "      <th>45</th>\n",
       "      <td>C(q_rel_week, Treatment(reference=-8))[T.15]:q...</td>\n",
       "      <td>0.785014</td>\n",
       "      <td>0.121734</td>\n",
       "    </tr>\n",
       "  </tbody>\n",
       "</table>\n",
       "</div>"
      ],
      "text/plain": [
       "                                                 term  Estimate  Std. Error\n",
       "0        C(q_rel_week, Treatment(reference=-8))[T.-7]  0.034362    0.075676\n",
       "1        C(q_rel_week, Treatment(reference=-8))[T.-6]  0.007989    0.075328\n",
       "2        C(q_rel_week, Treatment(reference=-8))[T.-5] -0.142499    0.076199\n",
       "3        C(q_rel_week, Treatment(reference=-8))[T.-4] -0.082699    0.076250\n",
       "4        C(q_rel_week, Treatment(reference=-8))[T.-3] -0.195548    0.075334\n",
       "5        C(q_rel_week, Treatment(reference=-8))[T.-2] -0.038952    0.075262\n",
       "6        C(q_rel_week, Treatment(reference=-8))[T.-1]  0.009776    0.076470\n",
       "7         C(q_rel_week, Treatment(reference=-8))[T.0] -0.119697    0.075729\n",
       "8         C(q_rel_week, Treatment(reference=-8))[T.1] -0.162229    0.075535\n",
       "9         C(q_rel_week, Treatment(reference=-8))[T.2]  0.139090    0.076359\n",
       "10        C(q_rel_week, Treatment(reference=-8))[T.3]  0.274104    0.081166\n",
       "11        C(q_rel_week, Treatment(reference=-8))[T.4]  0.298325    0.080298\n",
       "12        C(q_rel_week, Treatment(reference=-8))[T.5]  0.244382    0.075959\n",
       "13        C(q_rel_week, Treatment(reference=-8))[T.6]  0.219114    0.075838\n",
       "14        C(q_rel_week, Treatment(reference=-8))[T.7]  0.266434    0.074797\n",
       "15        C(q_rel_week, Treatment(reference=-8))[T.8]  0.113426    0.074946\n",
       "16        C(q_rel_week, Treatment(reference=-8))[T.9]  0.216162    0.074647\n",
       "17       C(q_rel_week, Treatment(reference=-8))[T.10]  0.164319    0.075172\n",
       "18       C(q_rel_week, Treatment(reference=-8))[T.11]  0.115308    0.074552\n",
       "19       C(q_rel_week, Treatment(reference=-8))[T.12]  0.173451    0.076405\n",
       "20       C(q_rel_week, Treatment(reference=-8))[T.13] -0.030151    0.076031\n",
       "21       C(q_rel_week, Treatment(reference=-8))[T.14]  0.073479    0.076075\n",
       "22       C(q_rel_week, Treatment(reference=-8))[T.15]  0.039848    0.087772\n",
       "23  C(q_rel_week, Treatment(reference=-8))[T.-7]:q...  0.024717    0.104455\n",
       "24  C(q_rel_week, Treatment(reference=-8))[T.-6]:q... -0.117683    0.104547\n",
       "25  C(q_rel_week, Treatment(reference=-8))[T.-5]:q... -0.035728    0.104854\n",
       "26  C(q_rel_week, Treatment(reference=-8))[T.-4]:q... -0.113739    0.104016\n",
       "27  C(q_rel_week, Treatment(reference=-8))[T.-3]:q...  0.030875    0.103542\n",
       "28  C(q_rel_week, Treatment(reference=-8))[T.-2]:q... -0.076843    0.103353\n",
       "29  C(q_rel_week, Treatment(reference=-8))[T.-1]:q...  0.095592    0.105124\n",
       "30  C(q_rel_week, Treatment(reference=-8))[T.0]:q_...  0.039390    0.104018\n",
       "31  C(q_rel_week, Treatment(reference=-8))[T.1]:q_...  0.263913    0.104586\n",
       "32  C(q_rel_week, Treatment(reference=-8))[T.2]:q_...  0.143517    0.105806\n",
       "33  C(q_rel_week, Treatment(reference=-8))[T.3]:q_...  0.162522    0.112085\n",
       "34  C(q_rel_week, Treatment(reference=-8))[T.4]:q_...  0.270793    0.112318\n",
       "35  C(q_rel_week, Treatment(reference=-8))[T.5]:q_...  0.225164    0.105388\n",
       "36  C(q_rel_week, Treatment(reference=-8))[T.6]:q_...  0.289351    0.105492\n",
       "37  C(q_rel_week, Treatment(reference=-8))[T.7]:q_...  0.116386    0.104695\n",
       "38  C(q_rel_week, Treatment(reference=-8))[T.8]:q_...  0.397202    0.104765\n",
       "39  C(q_rel_week, Treatment(reference=-8))[T.9]:q_...  0.244545    0.104682\n",
       "40  C(q_rel_week, Treatment(reference=-8))[T.10]:q...  0.365627    0.104997\n",
       "41  C(q_rel_week, Treatment(reference=-8))[T.11]:q...  0.493278    0.105074\n",
       "42  C(q_rel_week, Treatment(reference=-8))[T.12]:q...  0.476852    0.106498\n",
       "43  C(q_rel_week, Treatment(reference=-8))[T.13]:q...  0.713947    0.106781\n",
       "44  C(q_rel_week, Treatment(reference=-8))[T.14]:q...  0.630295    0.106974\n",
       "45  C(q_rel_week, Treatment(reference=-8))[T.15]:q...  0.785014    0.121734"
      ]
     },
     "execution_count": 4,
     "metadata": {},
     "output_type": "execute_result"
    }
   ],
   "source": [
    "coefs"
   ]
  },
  {
   "cell_type": "code",
   "execution_count": 5,
   "metadata": {},
   "outputs": [],
   "source": [
    "import pandas as pd\n",
    "import seaborn as sns\n",
    "import matplotlib.pyplot as plt\n",
    "import seaborn as sns\n",
    "import numpy as np\n",
    "import pickle\n",
    "import re\n",
    "from collections import deque\n",
    "import datetime\n",
    "from wordcloud import WordCloud\n",
    "import math\n",
    "import statsmodels.api as sm\n",
    "import statsmodels.formula.api as smf"
   ]
  },
  {
   "cell_type": "markdown",
   "metadata": {},
   "source": [
    "## 1. 파일호출"
   ]
  },
  {
   "cell_type": "code",
   "execution_count": 6,
   "metadata": {},
   "outputs": [],
   "source": [
    "# 파일 불러오기\n",
    "with open('../../data/df_wl.pkl', 'rb') as f:\n",
    "    df_wl = pickle.load(f)\n"
   ]
  },
  {
   "cell_type": "code",
   "execution_count": 7,
   "metadata": {},
   "outputs": [
    {
     "data": {
      "text/plain": [
       "Timestamp('2021-10-01 00:00:26.287000')"
      ]
     },
     "execution_count": 7,
     "metadata": {},
     "output_type": "execute_result"
    }
   ],
   "source": [
    "df_wl['creationdate'].min()"
   ]
  },
  {
   "cell_type": "code",
   "execution_count": 8,
   "metadata": {},
   "outputs": [],
   "source": [
    "# df_wl['wl_list'] = df_wl['over4'].apply(lambda x : [len(w) for w in x])"
   ]
  },
  {
   "cell_type": "code",
   "execution_count": 9,
   "metadata": {},
   "outputs": [],
   "source": [
    "df_wl['wl_6'] = df_wl['over4'].apply(lambda x : [w for w in x if len(w) ==6])\n",
    "df_wl['over6'] = df_wl['over4'].apply(lambda x : [w for w in x if len(w) >=6])\n",
    "df_wl['over7'] = df_wl['over4'].apply(lambda x : [w for w in x if len(w) >=7])\n",
    "df_wl['over8'] = df_wl['over4'].apply(lambda x : [w for w in x if len(w) >=8])\n"
   ]
  },
  {
   "cell_type": "code",
   "execution_count": 10,
   "metadata": {},
   "outputs": [],
   "source": [
    "df_wl['wl_6_len'] = df_wl['wl_6'].apply(lambda x : len(x) )\n",
    "df_wl['wl_over6_len'] = df_wl['over6'].apply(lambda x : len(x) )\n",
    "df_wl['wl_over7_len'] = df_wl['over7'].apply(lambda x : len(x) )\n",
    "df_wl['wl_over8_len'] = df_wl['over8'].apply(lambda x : len(x) )"
   ]
  },
  {
   "cell_type": "code",
   "execution_count": null,
   "metadata": {},
   "outputs": [],
   "source": [
    "df_wl_bf = df_wl[(df_wl['creationdate']>= '2021-10-01') & (df_wl['creationdate']<= '2022-03-19') ]\n",
    "df_wl_af = df_wl[(df_wl['creationdate']>= '2022-10-01') & (df_wl['creationdate']<= '2023-03-19') ]"
   ]
  },
  {
   "cell_type": "code",
   "execution_count": null,
   "metadata": {},
   "outputs": [],
   "source": [
    "df_wl_bf['q_treat'] =0\n",
    "df_wl_af['q_treat'] =1"
   ]
  },
  {
   "cell_type": "code",
   "execution_count": null,
   "metadata": {},
   "outputs": [],
   "source": [
    "bf_std_date = datetime.date(2021,11,30)\n",
    "af_std_date = datetime.date(2022,11,30)"
   ]
  },
  {
   "cell_type": "code",
   "execution_count": null,
   "metadata": {},
   "outputs": [],
   "source": [
    "df_wl_bf['c_date'] = pd.to_datetime(df_wl_bf['creationdate']).dt.date\n",
    "df_wl_af['c_date'] = pd.to_datetime(df_wl_af['creationdate']).dt.date"
   ]
  },
  {
   "cell_type": "code",
   "execution_count": null,
   "metadata": {},
   "outputs": [],
   "source": [
    "df_wl_bf['diff_day'] = df_wl_bf['c_date'].values - bf_std_date\n",
    "df_wl_bf['diff_day'] = df_wl_bf['diff_day'].dt.days\n",
    "\n",
    "df_wl_af['diff_day'] = df_wl_af['c_date'].values - af_std_date\n",
    "df_wl_af['diff_day'] = df_wl_af['diff_day'].dt.days\n"
   ]
  },
  {
   "cell_type": "code",
   "execution_count": null,
   "metadata": {},
   "outputs": [],
   "source": [
    "df_wl_bf['diff_week'] = df_wl_bf['diff_day'].apply(lambda x  : math.ceil(x/7))\n",
    "df_wl_af['diff_week'] = df_wl_af['diff_day'].apply(lambda x  : math.ceil(x/7))"
   ]
  },
  {
   "cell_type": "code",
   "execution_count": null,
   "metadata": {},
   "outputs": [],
   "source": [
    "print(df_wl_bf['diff_week'].min())\n",
    "print(df_wl_bf['diff_week'].max())\n",
    "print(df_wl_af['diff_week'].min())\n",
    "print(df_wl_af['diff_week'].max())"
   ]
  },
  {
   "cell_type": "code",
   "execution_count": null,
   "metadata": {},
   "outputs": [],
   "source": [
    "df_wl_bf"
   ]
  },
  {
   "cell_type": "code",
   "execution_count": null,
   "metadata": {},
   "outputs": [],
   "source": [
    "df_wl_cc = pd.concat([df_wl_bf, df_wl_af], axis =0)"
   ]
  },
  {
   "cell_type": "code",
   "execution_count": null,
   "metadata": {},
   "outputs": [],
   "source": [
    "df_wl_cc.head()"
   ]
  },
  {
   "cell_type": "code",
   "execution_count": null,
   "metadata": {},
   "outputs": [],
   "source": [
    "df_wl_cc['diff_week'].max()"
   ]
  },
  {
   "cell_type": "code",
   "execution_count": null,
   "metadata": {},
   "outputs": [],
   "source": [
    "df_filtered_chk = df_filtered[['q_Id','BigWords', 'q_treat']]\n",
    "df_filtered_chk.shape"
   ]
  },
  {
   "cell_type": "code",
   "execution_count": null,
   "metadata": {},
   "outputs": [],
   "source": [
    "df_len_chk = pd.merge(df_filtered, df_wl_cc[['id', 'body_prep', 'wl_over6_len', 'wl_over7_len', 'wl_over8_len', 'diff_week']], left_on='q_Id', right_on = 'id')"
   ]
  },
  {
   "cell_type": "code",
   "execution_count": null,
   "metadata": {},
   "outputs": [],
   "source": [
    "print(df_len_chk.loc[df_len_chk['id'].isna(), 'q_CreationDate'].min())\n",
    "print(df_len_chk.loc[df_len_chk['id'].isna(), 'q_CreationDate'].max())"
   ]
  },
  {
   "cell_type": "code",
   "execution_count": null,
   "metadata": {},
   "outputs": [],
   "source": [
    "df_len_chk.loc[df_len_chk['id'].isna(), :]"
   ]
  },
  {
   "cell_type": "markdown",
   "metadata": {},
   "source": []
  },
  {
   "cell_type": "code",
   "execution_count": null,
   "metadata": {},
   "outputs": [],
   "source": [
    "# 여기가 문제임!!\n",
    "df_len_chk.loc[df_len_chk['q_rel_week']!=df_len_chk['diff_week'], ['q_rel_week', 'diff_week']]"
   ]
  },
  {
   "cell_type": "code",
   "execution_count": null,
   "metadata": {},
   "outputs": [],
   "source": [
    "df_len_chk.loc[df_len_chk['id'] == 73954723, 'body_prep'].values"
   ]
  },
  {
   "cell_type": "code",
   "execution_count": null,
   "metadata": {},
   "outputs": [],
   "source": [
    "df_wl_cc.loc[df_wl_cc['id'] == 73954723, 'over6'].values[0]"
   ]
  },
  {
   "cell_type": "code",
   "execution_count": null,
   "metadata": {},
   "outputs": [],
   "source": [
    "len(df_wl_cc.loc[df_wl_cc['id'] == 73954723, 'over6'].values[0])"
   ]
  },
  {
   "cell_type": "code",
   "execution_count": null,
   "metadata": {},
   "outputs": [],
   "source": [
    "df_wl_cc"
   ]
  },
  {
   "cell_type": "code",
   "execution_count": null,
   "metadata": {},
   "outputs": [],
   "source": []
  },
  {
   "cell_type": "code",
   "execution_count": null,
   "metadata": {},
   "outputs": [],
   "source": []
  },
  {
   "cell_type": "code",
   "execution_count": null,
   "metadata": {},
   "outputs": [],
   "source": [
    "df_len_chk[['wl_over7_len', 'wl_over8_len']]"
   ]
  },
  {
   "cell_type": "code",
   "execution_count": null,
   "metadata": {},
   "outputs": [],
   "source": [
    "model = smf.ols('wl_over8_len ~ C(q_rel_week, Treatment(reference=-8)) * q_treat', data=df_len_chk).fit(cov_type='HC1')"
   ]
  },
  {
   "cell_type": "code",
   "execution_count": null,
   "metadata": {},
   "outputs": [],
   "source": [
    "coefs = pd.DataFrame({\n",
    "    'Estimate': model.params,\n",
    "    'Std. Error': model.bse\n",
    "})\n",
    "coefs = coefs[coefs.index.str.contains('q_rel_week')]\n",
    "coefs = coefs.reset_index()\n",
    "coefs.columns = ['term', 'Estimate', 'Std. Error']\n"
   ]
  },
  {
   "cell_type": "code",
   "execution_count": null,
   "metadata": {},
   "outputs": [],
   "source": [
    "coefs"
   ]
  },
  {
   "cell_type": "code",
   "execution_count": null,
   "metadata": {},
   "outputs": [],
   "source": [
    "# 예를 들어 'C(q_rel_week, Treatment(reference=-8))[T.-7]:q_treat[T.True]'에서 숫자 부분을 추출\n",
    "coefs['period'] = coefs['term'].str.extract(r'\\[T\\.(-?\\d+)\\]')[0].astype(int)\n"
   ]
  },
  {
   "cell_type": "code",
   "execution_count": null,
   "metadata": {},
   "outputs": [],
   "source": [
    "coefs['ll_95'] = coefs['Estimate'] - 1.965 * coefs['Std. Error']\n",
    "coefs['ul_95'] = coefs['Estimate'] + 1.965 * coefs['Std. Error']\n",
    "\n",
    "coefs_ = coefs.iloc[24:, :]"
   ]
  },
  {
   "cell_type": "code",
   "execution_count": null,
   "metadata": {},
   "outputs": [],
   "source": [
    "coefs_"
   ]
  },
  {
   "cell_type": "code",
   "execution_count": null,
   "metadata": {},
   "outputs": [],
   "source": [
    "plt.figure(figsize=(10, 6))\n",
    "sns.lineplot(x='period', y='Estimate', data=coefs_, linewidth=2, color='black')\n",
    "plt.fill_between(coefs_['period'], coefs_['ll_95'], coefs_['ul_95'], color='gray', alpha=0.5)\n",
    "sns.scatterplot(x='period', y='Estimate', data=coefs_, s=100, color='black')\n",
    "plt.axvline(x=0, color='red', linestyle='--', linewidth=1)\n",
    "plt.axhline(y=0, color='black', linestyle='--')\n",
    "plt.xlabel(\"Week Relative to ChatGPT Release\", fontsize=15)\n",
    "plt.ylabel(\"Effect on Question's Count of Complex Words\", fontsize=15)\n",
    "plt.xticks(rotation=45)\n",
    "plt.title(\"Effect on Question's Count of Complex Words Over Time\", fontsize=18)\n",
    "plt.show()\n"
   ]
  },
  {
   "cell_type": "code",
   "execution_count": null,
   "metadata": {},
   "outputs": [],
   "source": []
  },
  {
   "cell_type": "code",
   "execution_count": null,
   "metadata": {},
   "outputs": [],
   "source": [
    "df_wl[df_wl['id'] ==75056565]"
   ]
  },
  {
   "cell_type": "code",
   "execution_count": null,
   "metadata": {},
   "outputs": [],
   "source": [
    "df_wl.loc[df_wl['id'] ==75056565, 'body_prep'].values"
   ]
  },
  {
   "cell_type": "code",
   "execution_count": null,
   "metadata": {},
   "outputs": [],
   "source": [
    "df_wl.loc[df_wl['id'] ==75056565, 'over6'].values"
   ]
  },
  {
   "cell_type": "code",
   "execution_count": null,
   "metadata": {},
   "outputs": [],
   "source": [
    "df_wl.tail(20)"
   ]
  },
  {
   "cell_type": "code",
   "execution_count": null,
   "metadata": {},
   "outputs": [],
   "source": []
  },
  {
   "cell_type": "code",
   "execution_count": null,
   "metadata": {},
   "outputs": [],
   "source": [
    "model = smf.ols('wl_over7_len ~ C(q_rel_week, Treatment(reference=-8)) * q_treat', data=df_len_chk).fit(cov_type='HC1')"
   ]
  },
  {
   "cell_type": "code",
   "execution_count": null,
   "metadata": {},
   "outputs": [],
   "source": [
    "coefs = pd.DataFrame({\n",
    "    'Estimate': model.params,\n",
    "    'Std. Error': model.bse\n",
    "})\n",
    "coefs = coefs[coefs.index.str.contains('q_rel_week')]\n",
    "coefs = coefs.reset_index()\n",
    "coefs.columns = ['term', 'Estimate', 'Std. Error']\n"
   ]
  },
  {
   "cell_type": "code",
   "execution_count": null,
   "metadata": {},
   "outputs": [],
   "source": [
    "coefs"
   ]
  },
  {
   "cell_type": "code",
   "execution_count": null,
   "metadata": {},
   "outputs": [],
   "source": [
    "# 예를 들어 'C(q_rel_week, Treatment(reference=-8))[T.-7]:q_treat[T.True]'에서 숫자 부분을 추출\n",
    "coefs['period'] = coefs['term'].str.extract(r'\\[T\\.(-?\\d+)\\]')[0].astype(int)\n"
   ]
  },
  {
   "cell_type": "code",
   "execution_count": null,
   "metadata": {},
   "outputs": [],
   "source": [
    "coefs['ll_95'] = coefs['Estimate'] - 1.965 * coefs['Std. Error']\n",
    "coefs['ul_95'] = coefs['Estimate'] + 1.965 * coefs['Std. Error']\n",
    "\n",
    "coefs_ = coefs.iloc[24:, :]"
   ]
  },
  {
   "cell_type": "code",
   "execution_count": null,
   "metadata": {},
   "outputs": [],
   "source": [
    "coefs_"
   ]
  },
  {
   "cell_type": "code",
   "execution_count": null,
   "metadata": {},
   "outputs": [],
   "source": [
    "plt.figure(figsize=(10, 6))\n",
    "sns.lineplot(x='period', y='Estimate', data=coefs_, linewidth=2, color='black')\n",
    "plt.fill_between(coefs_['period'], coefs_['ll_95'], coefs_['ul_95'], color='gray', alpha=0.5)\n",
    "sns.scatterplot(x='period', y='Estimate', data=coefs_, s=100, color='black')\n",
    "plt.axvline(x=0, color='red', linestyle='--', linewidth=1)\n",
    "plt.axhline(y=0, color='black', linestyle='--')\n",
    "plt.xlabel(\"Week Relative to ChatGPT Release\", fontsize=15)\n",
    "plt.ylabel(\"Effect on Question's Count of Complex Words\", fontsize=15)\n",
    "plt.xticks(rotation=45)\n",
    "plt.title(\"Effect on Question's Count of Complex Words Over Time\", fontsize=18)\n",
    "plt.show()\n"
   ]
  },
  {
   "cell_type": "code",
   "execution_count": null,
   "metadata": {},
   "outputs": [],
   "source": []
  },
  {
   "cell_type": "code",
   "execution_count": null,
   "metadata": {},
   "outputs": [],
   "source": []
  },
  {
   "cell_type": "code",
   "execution_count": 13,
   "metadata": {},
   "outputs": [],
   "source": [
    "df_wl['date'] = pd.to_datetime(df_wl['creationdate']).dt.date"
   ]
  },
  {
   "cell_type": "code",
   "execution_count": 23,
   "metadata": {},
   "outputs": [],
   "source": [
    "df_wl = df_wl[df_wl['posttypeid'].isin(['1', '2'])]"
   ]
  },
  {
   "cell_type": "code",
   "execution_count": 24,
   "metadata": {},
   "outputs": [],
   "source": [
    "df_wl_pt = df_wl.groupby(['date', 'posttypeid']).sum([['wl_over6_len', 'wl_over7_len', 'wl_over8_len']]).reset_index()"
   ]
  },
  {
   "cell_type": "code",
   "execution_count": 26,
   "metadata": {},
   "outputs": [],
   "source": [
    "df_wl_pt = df_wl_pt.pivot_table(index = 'date', columns = 'posttypeid', values = ['wl_over6_len', 'wl_over7_len', 'wl_over8_len']).reset_index()"
   ]
  },
  {
   "cell_type": "code",
   "execution_count": 39,
   "metadata": {},
   "outputs": [],
   "source": [
    "df_wl_pt['wl_over6_rate'] = df_wl_pt[('wl_over6_len', '2')]/df_wl_pt[('wl_over6_len', '1')]\n",
    "df_wl_pt['wl_over7_rate'] = df_wl_pt[('wl_over7_len', '2')]/df_wl_pt[('wl_over7_len', '1')]\n",
    "df_wl_pt['wl_over8_rate'] = df_wl_pt[('wl_over8_len', '2')]/df_wl_pt[('wl_over8_len', '1')]"
   ]
  },
  {
   "cell_type": "code",
   "execution_count": 40,
   "metadata": {},
   "outputs": [
    {
     "data": {
      "text/html": [
       "<div>\n",
       "<style scoped>\n",
       "    .dataframe tbody tr th:only-of-type {\n",
       "        vertical-align: middle;\n",
       "    }\n",
       "\n",
       "    .dataframe tbody tr th {\n",
       "        vertical-align: top;\n",
       "    }\n",
       "\n",
       "    .dataframe thead tr th {\n",
       "        text-align: left;\n",
       "    }\n",
       "</style>\n",
       "<table border=\"1\" class=\"dataframe\">\n",
       "  <thead>\n",
       "    <tr>\n",
       "      <th></th>\n",
       "      <th>date</th>\n",
       "      <th colspan=\"2\" halign=\"left\">wl_over6_len</th>\n",
       "      <th colspan=\"2\" halign=\"left\">wl_over7_len</th>\n",
       "      <th colspan=\"2\" halign=\"left\">wl_over8_len</th>\n",
       "      <th>wl_over6_rate</th>\n",
       "      <th>wl_over7_rate</th>\n",
       "      <th>wl_over8_rate</th>\n",
       "    </tr>\n",
       "    <tr>\n",
       "      <th>posttypeid</th>\n",
       "      <th></th>\n",
       "      <th>1</th>\n",
       "      <th>2</th>\n",
       "      <th>1</th>\n",
       "      <th>2</th>\n",
       "      <th>1</th>\n",
       "      <th>2</th>\n",
       "      <th>2</th>\n",
       "      <th>2</th>\n",
       "      <th>2</th>\n",
       "    </tr>\n",
       "  </thead>\n",
       "  <tbody>\n",
       "    <tr>\n",
       "      <th>0</th>\n",
       "      <td>2021-10-01</td>\n",
       "      <td>98193.0</td>\n",
       "      <td>88772.0</td>\n",
       "      <td>71641.0</td>\n",
       "      <td>64817.0</td>\n",
       "      <td>47294.0</td>\n",
       "      <td>43674.0</td>\n",
       "      <td>0.904056</td>\n",
       "      <td>0.904747</td>\n",
       "      <td>0.923458</td>\n",
       "    </tr>\n",
       "    <tr>\n",
       "      <th>1</th>\n",
       "      <td>2021-10-02</td>\n",
       "      <td>58970.0</td>\n",
       "      <td>55916.0</td>\n",
       "      <td>42831.0</td>\n",
       "      <td>40804.0</td>\n",
       "      <td>28621.0</td>\n",
       "      <td>27582.0</td>\n",
       "      <td>0.948211</td>\n",
       "      <td>0.952674</td>\n",
       "      <td>0.963698</td>\n",
       "    </tr>\n",
       "    <tr>\n",
       "      <th>2</th>\n",
       "      <td>2021-10-03</td>\n",
       "      <td>62422.0</td>\n",
       "      <td>60323.0</td>\n",
       "      <td>45307.0</td>\n",
       "      <td>44010.0</td>\n",
       "      <td>30049.0</td>\n",
       "      <td>29642.0</td>\n",
       "      <td>0.966374</td>\n",
       "      <td>0.971373</td>\n",
       "      <td>0.986455</td>\n",
       "    </tr>\n",
       "    <tr>\n",
       "      <th>3</th>\n",
       "      <td>2021-10-04</td>\n",
       "      <td>103943.0</td>\n",
       "      <td>91025.0</td>\n",
       "      <td>75623.0</td>\n",
       "      <td>66513.0</td>\n",
       "      <td>49768.0</td>\n",
       "      <td>45253.0</td>\n",
       "      <td>0.875720</td>\n",
       "      <td>0.879534</td>\n",
       "      <td>0.909279</td>\n",
       "    </tr>\n",
       "    <tr>\n",
       "      <th>4</th>\n",
       "      <td>2021-10-05</td>\n",
       "      <td>114249.0</td>\n",
       "      <td>97722.0</td>\n",
       "      <td>83167.0</td>\n",
       "      <td>71081.0</td>\n",
       "      <td>55451.0</td>\n",
       "      <td>48237.0</td>\n",
       "      <td>0.855342</td>\n",
       "      <td>0.854678</td>\n",
       "      <td>0.869903</td>\n",
       "    </tr>\n",
       "    <tr>\n",
       "      <th>...</th>\n",
       "      <td>...</td>\n",
       "      <td>...</td>\n",
       "      <td>...</td>\n",
       "      <td>...</td>\n",
       "      <td>...</td>\n",
       "      <td>...</td>\n",
       "      <td>...</td>\n",
       "      <td>...</td>\n",
       "      <td>...</td>\n",
       "      <td>...</td>\n",
       "    </tr>\n",
       "    <tr>\n",
       "      <th>786</th>\n",
       "      <td>2023-11-26</td>\n",
       "      <td>53174.0</td>\n",
       "      <td>34097.0</td>\n",
       "      <td>39521.0</td>\n",
       "      <td>25069.0</td>\n",
       "      <td>26375.0</td>\n",
       "      <td>17189.0</td>\n",
       "      <td>0.641234</td>\n",
       "      <td>0.634321</td>\n",
       "      <td>0.651716</td>\n",
       "    </tr>\n",
       "    <tr>\n",
       "      <th>787</th>\n",
       "      <td>2023-11-27</td>\n",
       "      <td>94981.0</td>\n",
       "      <td>54454.0</td>\n",
       "      <td>70482.0</td>\n",
       "      <td>40276.0</td>\n",
       "      <td>47064.0</td>\n",
       "      <td>27691.0</td>\n",
       "      <td>0.573315</td>\n",
       "      <td>0.571437</td>\n",
       "      <td>0.588369</td>\n",
       "    </tr>\n",
       "    <tr>\n",
       "      <th>788</th>\n",
       "      <td>2023-11-28</td>\n",
       "      <td>105000.0</td>\n",
       "      <td>54141.0</td>\n",
       "      <td>78157.0</td>\n",
       "      <td>40275.0</td>\n",
       "      <td>52784.0</td>\n",
       "      <td>27768.0</td>\n",
       "      <td>0.515629</td>\n",
       "      <td>0.515309</td>\n",
       "      <td>0.526069</td>\n",
       "    </tr>\n",
       "    <tr>\n",
       "      <th>789</th>\n",
       "      <td>2023-11-29</td>\n",
       "      <td>107619.0</td>\n",
       "      <td>58050.0</td>\n",
       "      <td>80425.0</td>\n",
       "      <td>42892.0</td>\n",
       "      <td>54278.0</td>\n",
       "      <td>29104.0</td>\n",
       "      <td>0.539403</td>\n",
       "      <td>0.533317</td>\n",
       "      <td>0.536203</td>\n",
       "    </tr>\n",
       "    <tr>\n",
       "      <th>790</th>\n",
       "      <td>2023-11-30</td>\n",
       "      <td>106219.0</td>\n",
       "      <td>58633.0</td>\n",
       "      <td>79011.0</td>\n",
       "      <td>43443.0</td>\n",
       "      <td>53542.0</td>\n",
       "      <td>29648.0</td>\n",
       "      <td>0.552001</td>\n",
       "      <td>0.549835</td>\n",
       "      <td>0.553734</td>\n",
       "    </tr>\n",
       "  </tbody>\n",
       "</table>\n",
       "<p>791 rows × 10 columns</p>\n",
       "</div>"
      ],
      "text/plain": [
       "                  date wl_over6_len          wl_over7_len           \\\n",
       "posttypeid                        1        2            1        2   \n",
       "0           2021-10-01      98193.0  88772.0      71641.0  64817.0   \n",
       "1           2021-10-02      58970.0  55916.0      42831.0  40804.0   \n",
       "2           2021-10-03      62422.0  60323.0      45307.0  44010.0   \n",
       "3           2021-10-04     103943.0  91025.0      75623.0  66513.0   \n",
       "4           2021-10-05     114249.0  97722.0      83167.0  71081.0   \n",
       "..                 ...          ...      ...          ...      ...   \n",
       "786         2023-11-26      53174.0  34097.0      39521.0  25069.0   \n",
       "787         2023-11-27      94981.0  54454.0      70482.0  40276.0   \n",
       "788         2023-11-28     105000.0  54141.0      78157.0  40275.0   \n",
       "789         2023-11-29     107619.0  58050.0      80425.0  42892.0   \n",
       "790         2023-11-30     106219.0  58633.0      79011.0  43443.0   \n",
       "\n",
       "           wl_over8_len          wl_over6_rate wl_over7_rate wl_over8_rate  \n",
       "posttypeid            1        2             2             2             2  \n",
       "0               47294.0  43674.0      0.904056      0.904747      0.923458  \n",
       "1               28621.0  27582.0      0.948211      0.952674      0.963698  \n",
       "2               30049.0  29642.0      0.966374      0.971373      0.986455  \n",
       "3               49768.0  45253.0      0.875720      0.879534      0.909279  \n",
       "4               55451.0  48237.0      0.855342      0.854678      0.869903  \n",
       "..                  ...      ...           ...           ...           ...  \n",
       "786             26375.0  17189.0      0.641234      0.634321      0.651716  \n",
       "787             47064.0  27691.0      0.573315      0.571437      0.588369  \n",
       "788             52784.0  27768.0      0.515629      0.515309      0.526069  \n",
       "789             54278.0  29104.0      0.539403      0.533317      0.536203  \n",
       "790             53542.0  29648.0      0.552001      0.549835      0.553734  \n",
       "\n",
       "[791 rows x 10 columns]"
      ]
     },
     "execution_count": 40,
     "metadata": {},
     "output_type": "execute_result"
    }
   ],
   "source": [
    "df_wl_pt"
   ]
  },
  {
   "cell_type": "code",
   "execution_count": 42,
   "metadata": {},
   "outputs": [
    {
     "data": {
      "text/plain": [
       "MultiIndex([(         'date',  ''),\n",
       "            ( 'wl_over6_len', '1'),\n",
       "            ( 'wl_over6_len', '2'),\n",
       "            ( 'wl_over7_len', '1'),\n",
       "            ( 'wl_over7_len', '2'),\n",
       "            ( 'wl_over8_len', '1'),\n",
       "            ( 'wl_over8_len', '2'),\n",
       "            ('wl_over6_rate', '2'),\n",
       "            ('wl_over7_rate', '2'),\n",
       "            ('wl_over8_rate', '2')],\n",
       "           names=[None, 'posttypeid'])"
      ]
     },
     "execution_count": 42,
     "metadata": {},
     "output_type": "execute_result"
    }
   ],
   "source": [
    "df_wl_pt.columns"
   ]
  },
  {
   "cell_type": "code",
   "execution_count": 46,
   "metadata": {},
   "outputs": [
    {
     "data": {
      "image/png": "[encoded data removed]",
      "text/plain": [
       "<Figure size 640x480 with 1 Axes>"
      ]
     },
     "metadata": {},
     "output_type": "display_data"
    }
   ],
   "source": [
    "fig, ax = plt.subplots()\n",
    "\n",
    "\n",
    "ax.bar(df_wl_pt.date\n",
    "    ,  height = df_wl_pt[('wl_over6_rate', '2')]\n",
    "    ,  color = 'skyblue'\n",
    "    ,  label = 'Mean'\n",
    "    # ,  edgecolor = 'black'\n",
    "      ) # hist type\n",
    "\n",
    "ax.set_title(\"Number of words over 6 character in Answers over Number of words over 6 character in Quseions\", # add title\n",
    "             fontsize = 12.5,\n",
    "             weight = 'bold',\n",
    "             pad = 10,\n",
    "             loc = 'center')\n",
    "ax.set_xlabel(\"Date\", # add x-axis label\n",
    "              fontsize = 12.5)\n",
    "ax.set_ylabel(\"A/Q\", # add y-axis label\n",
    "              fontsize = 12.5)\n",
    "\n",
    "ax.axvline(['2022-11-30'], # add vertical line\n",
    "           color = 'blue',\n",
    "           linestyle = '--',\n",
    "           linewidth = 1.5)\n",
    "plt.xticks(rotation=45)\n",
    "plt.show();\n",
    "\n"
   ]
  },
  {
   "cell_type": "code",
   "execution_count": 44,
   "metadata": {},
   "outputs": [
    {
     "data": {
      "image/png": "[encoded data removed]",
      "text/plain": [
       "<Figure size 640x480 with 1 Axes>"
      ]
     },
     "metadata": {},
     "output_type": "display_data"
    }
   ],
   "source": [
    "fig, ax = plt.subplots()\n",
    "\n",
    "\n",
    "ax.bar(df_wl_pt.date\n",
    "    ,  height = df_wl_pt[('wl_over7_rate', '2')]\n",
    "    ,  color = 'skyblue'\n",
    "    ,  label = 'Mean'\n",
    "    # ,  edgecolor = 'black'\n",
    "      ) # hist type\n",
    "\n",
    "ax.set_title(\"Answer over Question\", # add title\n",
    "             fontsize = 12.5,\n",
    "             weight = 'bold',\n",
    "             pad = 10,\n",
    "             loc = 'center')\n",
    "ax.set_xlabel(\"Date\", # add x-axis label\n",
    "              fontsize = 12.5)\n",
    "ax.set_ylabel(\"A/Q\", # add y-axis label\n",
    "              fontsize = 12.5)\n",
    "\n",
    "ax.axvline(['2022-11-30'], # add vertical line\n",
    "           color = 'blue',\n",
    "           linestyle = '--',\n",
    "           linewidth = 1.5)\n",
    "plt.xticks(rotation=45)\n",
    "plt.show();\n",
    "\n"
   ]
  },
  {
   "cell_type": "code",
   "execution_count": 45,
   "metadata": {},
   "outputs": [
    {
     "data": {
      "image/png": "[encoded data removed]",
      "text/plain": [
       "<Figure size 640x480 with 1 Axes>"
      ]
     },
     "metadata": {},
     "output_type": "display_data"
    }
   ],
   "source": [
    "fig, ax = plt.subplots()\n",
    "\n",
    "\n",
    "ax.bar(df_wl_pt.date\n",
    "    ,  height = df_wl_pt[('wl_over8_rate', '2')]\n",
    "    ,  color = 'skyblue'\n",
    "    ,  label = 'Mean'\n",
    "    # ,  edgecolor = 'black'\n",
    "      ) # hist type\n",
    "\n",
    "ax.set_title(\"Answer over Question\", # add title\n",
    "             fontsize = 12.5,\n",
    "             weight = 'bold',\n",
    "             pad = 10,\n",
    "             loc = 'center')\n",
    "ax.set_xlabel(\"Date\", # add x-axis label\n",
    "              fontsize = 12.5)\n",
    "ax.set_ylabel(\"A/Q\", # add y-axis label\n",
    "              fontsize = 12.5)\n",
    "\n",
    "ax.axvline(['2022-11-30'], # add vertical line\n",
    "           color = 'blue',\n",
    "           linestyle = '--',\n",
    "           linewidth = 1.5)\n",
    "plt.xticks(rotation=45)\n",
    "plt.show();\n",
    "\n"
   ]
  },
  {
   "cell_type": "code",
   "execution_count": null,
   "metadata": {},
   "outputs": [],
   "source": [
    "import matplotlib.pyplot as plt\n",
    "import seaborn as sns\n",
    "\n",
    "# 예시 데이터 생성\n",
    "# data = pd.DataFrame({\n",
    "#     'date': ...,  # 날짜 데이터 (예: '2024-01-01' 등)\n",
    "#     'A': ...,     # 답변 수\n",
    "#     'Q': ...,     # 질문 수\n",
    "#     'difficulty': ...  # 난이도 (예: 'easy', 'medium', 'hard')\n",
    "# })\n",
    "\n",
    "# A/Q 계산\n",
    "data['A/Q'] = data['A'] / data['Q']\n",
    "\n",
    "# 그래프 그리기\n",
    "plt.figure(figsize=(12, 6))\n",
    "sns.scatterplot(x='date', y='A/Q', hue='difficulty', data=data, palette='viridis')\n",
    "\n",
    "# 그래프 제목 및 라벨 설정\n",
    "plt.title('A/Q over Time by Difficulty')\n",
    "plt.xlabel('Date')\n",
    "plt.ylabel('A/Q (Answers per Question)')\n",
    "plt.xticks(rotation=45)\n",
    "\n",
    "# 그래프 표시\n",
    "plt.show()"
   ]
  }
 ],
 "metadata": {
  "kernelspec": {
   "display_name": "Python 3 (ipykernel)",
   "language": "python",
   "name": "python3"
  },
  "language_info": {
   "codemirror_mode": {
    "name": "ipython",
    "version": 3
   },
   "file_extension": ".py",
   "mimetype": "text/x-python",
   "name": "python",
   "nbconvert_exporter": "python",
   "pygments_lexer": "ipython3",
   "version": "3.9.6"
  }
 },
 "nbformat": 4,
 "nbformat_minor": 4
}
