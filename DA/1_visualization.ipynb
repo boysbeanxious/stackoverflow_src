{
 "cells": [
  {
   "cell_type": "code",
   "execution_count": 1,
   "metadata": {},
   "outputs": [],
   "source": [
    "import pandas as pd\n",
    "import seaborn as sns\n",
    "import matplotlib.pyplot as plt\n",
    "import seaborn as sns\n",
    "import numpy as np\n",
    "import pickle\n",
    "import re\n",
    "from collections import deque\n",
    "import datetime"
   ]
  },
  {
   "cell_type": "markdown",
   "metadata": {},
   "source": [
    "## 1. 파일호출"
   ]
  },
  {
   "cell_type": "code",
   "execution_count": null,
   "metadata": {},
   "outputs": [],
   "source": [
    "# 파일 불러오기\n",
    "with open('../../data/df_da.pkl', 'rb') as f:\n",
    "    df_da = pickle.load(f)\n"
   ]
  },
  {
   "cell_type": "code",
   "execution_count": null,
   "metadata": {},
   "outputs": [],
   "source": [
    "# 파일 불러오기\n",
    "with open('../../data/df_body.pkl', 'rb') as f:\n",
    "    df_body = pickle.load(f)\n"
   ]
  },
  {
   "cell_type": "code",
   "execution_count": null,
   "metadata": {},
   "outputs": [],
   "source": [
    "# 파일 불러오기\n",
    "with open('../../data/df_user.pkl', 'rb') as f:\n",
    "    df_user = pickle.load(f)\n",
    "\n"
   ]
  },
  {
   "cell_type": "code",
   "execution_count": null,
   "metadata": {},
   "outputs": [],
   "source": [
    "# 파일 불러오기\n",
    "with open('../../data/df_answer_cnt.pkl', 'rb') as f:\n",
    "    df_answer_cnt = pickle.load(f)"
   ]
  },
  {
   "cell_type": "code",
   "execution_count": null,
   "metadata": {},
   "outputs": [],
   "source": [
    "# 파일 불러오기\n",
    "with open('../../data/df_year_from_signup_a.pkl', 'rb') as f:\n",
    "    df_year_from_signup_a = pickle.load(f)"
   ]
  },
  {
   "cell_type": "code",
   "execution_count": 2,
   "metadata": {},
   "outputs": [],
   "source": [
    "# 파일 불러오기\n",
    "with open('../../data/df_year_from_signup_qna.pkl', 'rb') as f:\n",
    "    df_year_from_signup_qna = pickle.load(f)"
   ]
  },
  {
   "cell_type": "code",
   "execution_count": 3,
   "metadata": {},
   "outputs": [],
   "source": [
    "# 파일 불러오기\n",
    "with open('../../data/df_year_from_signup_q.pkl', 'rb') as f:\n",
    "    df_year_from_signup_q = pickle.load(f)"
   ]
  },
  {
   "cell_type": "code",
   "execution_count": 9,
   "metadata": {},
   "outputs": [],
   "source": [
    "# 파일 불러오기\n",
    "with open('../../data/df_year_from_signup_a.pkl', 'rb') as f:\n",
    "    df_year_from_signup_a = pickle.load(f)"
   ]
  },
  {
   "cell_type": "code",
   "execution_count": 4,
   "metadata": {},
   "outputs": [],
   "source": [
    "# 파일 불러오기\n",
    "with open('../../data/df_year_from_signup_a_mm.pkl', 'rb') as f:\n",
    "    df_year_from_signup_a_mm = pickle.load(f)\n"
   ]
  },
  {
   "cell_type": "code",
   "execution_count": 5,
   "metadata": {},
   "outputs": [],
   "source": [
    "# 파일 불러오기\n",
    "with open('../../data/df_year_from_signup_q_mm.pkl', 'rb') as f:\n",
    "    df_year_from_signup_q_mm = pickle.load(f)\n"
   ]
  },
  {
   "cell_type": "code",
   "execution_count": 6,
   "metadata": {},
   "outputs": [],
   "source": [
    "# 파일 불러오기\n",
    "with open('../../data/df_year_from_signup_qna_mm.pkl', 'rb') as f:\n",
    "    df_year_from_signup_qna_mm = pickle.load(f)\n"
   ]
  },
  {
   "cell_type": "code",
   "execution_count": null,
   "metadata": {},
   "outputs": [],
   "source": [
    "df_da['date']   = df_da['q_creationdate'].dt.date\n",
    "df_da['year']   = df_da['q_creationdate'].dt.year\n",
    "df_da['month']  = df_da['q_creationdate'].dt.month\n",
    "df_da['day']    = df_da['q_creationdate'].dt.day"
   ]
  },
  {
   "cell_type": "code",
   "execution_count": null,
   "metadata": {},
   "outputs": [],
   "source": [
    "df_body['date'] = df_body['creationdate'].dt.date\n",
    "df_body['year'] = df_body['creationdate'].dt.year\n",
    "df_body['month'] = df_body['creationdate'].dt.month\n",
    "df_body['day'] = df_body['creationdate'].dt.day"
   ]
  },
  {
   "cell_type": "code",
   "execution_count": null,
   "metadata": {},
   "outputs": [],
   "source": [
    "df_da['date']   = df_da['q_creationdate'].dt.date\n",
    "df_da['year']   = df_da['q_creationdate'].dt.year\n",
    "df_da['month']  = df_da['q_creationdate'].dt.month\n",
    "df_da['day']    = df_da['q_creationdate'].dt.day"
   ]
  },
  {
   "cell_type": "markdown",
   "metadata": {},
   "source": [
    "## 2. POST"
   ]
  },
  {
   "cell_type": "markdown",
   "metadata": {},
   "source": [
    "### Number of Questions and Answers over time"
   ]
  },
  {
   "cell_type": "code",
   "execution_count": null,
   "metadata": {},
   "outputs": [],
   "source": [
    "# Q&A 만 추출 \n",
    "df_body = df_body[df_body['posttypeid'].isin(['1','2'])]"
   ]
  },
  {
   "cell_type": "code",
   "execution_count": null,
   "metadata": {},
   "outputs": [],
   "source": [
    "df_qna_num = df_body.groupby(['date', 'posttypeid']).count()[['id']].reset_index()"
   ]
  },
  {
   "cell_type": "code",
   "execution_count": null,
   "metadata": {},
   "outputs": [],
   "source": [
    "df_qna_num[df_qna_num['posttypeid'] =='1'].date"
   ]
  },
  {
   "cell_type": "code",
   "execution_count": null,
   "metadata": {},
   "outputs": [],
   "source": [
    "sharey = True ## 또는 sharey=False\n",
    "sharex = True ## 또는 sharex=False\n",
    "\n",
    "fig, axs = plt.subplots(1, 2, figsize = (20, 5), sharey=sharey, sharex=sharex)\n",
    "# plt.xticks(rotation=45)\n",
    "major_xticks = ['2013-11-30','2014-11-30','2015-11-30','2016-11-30','2017-11-30','2018-11-30','2019-11-30','2020-11-30'\n",
    "                ,'2021-11-30', '2022-11-30', '2023-11-30']\n",
    "# yticks = np.arange(200, 2000, 400)\n",
    "axs[0].bar(df_qna_num[df_qna_num['posttypeid'] =='1'].date\n",
    "        ,  df_qna_num[df_qna_num['posttypeid'] =='1'].id\n",
    "        ,  color = 'skyblue'\n",
    "        # ,  edgecolor = 'black'\n",
    "      ) # hist type\n",
    "\n",
    "axs[0].set_title('Number of Questions over time', fontsize = 15)\n",
    "axs[0].set_xlabel('Date', fontsize = 15)\n",
    "axs[0].set_ylabel('# of Q', fontsize = 15)\n",
    "axs[0].set_xticks(major_xticks)\n",
    "# axs[0].set_yticks(yticks)\n",
    "axs[0].axvline([major_xticks[-2]], # add vertical line\n",
    "           color = 'blue',\n",
    "           linestyle = '--',\n",
    "           linewidth = 1.5)\n",
    "axs[0].tick_params(axis='x', rotation=45)\n",
    "# axs[0].yticks(yt)\n",
    "\n",
    "axs[1].bar(df_qna_num[df_qna_num['posttypeid'] =='2'].date\n",
    "        ,  df_qna_num[df_qna_num['posttypeid'] =='2'].id\n",
    "        ,  color = 'lightgreen'\n",
    "        # ,  edgecolor = 'black'\n",
    "      ) # hist type\n",
    "\n",
    "axs[1].set_title('Number of Answers over time', fontsize = 15)\n",
    "axs[1].set_xlabel('Date', fontsize = 15)\n",
    "axs[1].set_ylabel('# of A', fontsize = 15)\n",
    "axs[1].set_xticks(major_xticks)\n",
    "# axs[1].set_yticks(yticks)\n",
    "axs[1].axvline([major_xticks[-2]], # add vertical line\n",
    "           color = 'blue',\n",
    "           linestyle = '--',\n",
    "           linewidth = 1.5)\n",
    "axs[1].tick_params(axis='x', rotation=45)\n",
    "\n",
    "plt.show();\n"
   ]
  },
  {
   "cell_type": "code",
   "execution_count": null,
   "metadata": {},
   "outputs": [],
   "source": [
    "df_body.groupby(['posttypeid']).count()[['id']]"
   ]
  },
  {
   "cell_type": "code",
   "execution_count": null,
   "metadata": {},
   "outputs": [],
   "source": [
    "df_body['body_len'] = df_body['body'].apply(lambda x : len(x))"
   ]
  },
  {
   "cell_type": "code",
   "execution_count": null,
   "metadata": {},
   "outputs": [],
   "source": [
    "df_body.groupby(['year', 'month', 'day', 'posttypeid']).mean(['body_len'])"
   ]
  },
  {
   "cell_type": "code",
   "execution_count": null,
   "metadata": {},
   "outputs": [],
   "source": [
    "df_bodycnt = df_body.groupby(['date', 'posttypeid']).count()[['id']].reset_index()"
   ]
  },
  {
   "cell_type": "code",
   "execution_count": null,
   "metadata": {},
   "outputs": [],
   "source": [
    "df_bodycnt = pd.pivot_table(df_bodycnt, index = 'date', columns = 'posttypeid', values = 'id').reset_index()"
   ]
  },
  {
   "cell_type": "code",
   "execution_count": null,
   "metadata": {},
   "outputs": [],
   "source": [
    "df_bodycnt['q_over_a'] = df_bodycnt['2'].div(df_bodycnt['1'])"
   ]
  },
  {
   "cell_type": "markdown",
   "metadata": {},
   "source": [
    "### Question over Answer"
   ]
  },
  {
   "cell_type": "code",
   "execution_count": null,
   "metadata": {},
   "outputs": [],
   "source": [
    "fig, ax = plt.subplots()\n",
    "\n",
    "\n",
    "ax.bar(df_bodycnt.date\n",
    "    ,  height = df_bodycnt['q_over_a']\n",
    "    ,  color = 'skyblue'\n",
    "    ,  label = 'Mean'\n",
    "    # ,  edgecolor = 'black'\n",
    "      ) # hist type\n",
    "\n",
    "ax.set_title(\"Question over Answer\", # add title\n",
    "             fontsize = 12.5,\n",
    "             weight = 'bold',\n",
    "             pad = 10,\n",
    "             loc = 'center')\n",
    "ax.set_xlabel(\"Date\", # add x-axis label\n",
    "              fontsize = 12.5)\n",
    "ax.set_ylabel(\"A/Q\", # add y-axis label\n",
    "              fontsize = 12.5)\n",
    "\n",
    "major_xticks = ['2013-11-30','2014-11-30','2015-11-30','2016-11-30','2017-11-30','2018-11-30','2019-11-30','2020-11-30'\n",
    "                ,'2021-11-30', '2022-11-30', '2023-11-30']\n",
    "ax.set_xticks(major_xticks)\n",
    "\n",
    "ax.axvline(['2022-11-30'], # add vertical line\n",
    "           color = 'red',\n",
    "           linestyle = '--',\n",
    "           linewidth = 1.5)\n",
    "plt.xticks(rotation=45)\n",
    "plt.show();\n",
    "\n"
   ]
  },
  {
   "cell_type": "code",
   "execution_count": null,
   "metadata": {},
   "outputs": [],
   "source": [
    "df_bodyanswerdyn = df_body[df_body['posttypeid'] =='1'].groupby(['date', 'answered_yn']).count()[['id']].reset_index()"
   ]
  },
  {
   "cell_type": "code",
   "execution_count": null,
   "metadata": {},
   "outputs": [],
   "source": [
    "df_bodyanswerdyn = pd.pivot_table(df_bodyanswerdyn, index = 'date', columns = 'answered_yn', values = 'id').reset_index()"
   ]
  },
  {
   "cell_type": "code",
   "execution_count": null,
   "metadata": {},
   "outputs": [],
   "source": [
    "df_bodyanswerdyn['rate'] = df_bodyanswerdyn[1] / (df_bodyanswerdyn[1] + df_bodyanswerdyn[0])"
   ]
  },
  {
   "cell_type": "markdown",
   "metadata": {},
   "source": [
    "### Ratio of Answered Question"
   ]
  },
  {
   "cell_type": "code",
   "execution_count": null,
   "metadata": {},
   "outputs": [],
   "source": [
    "fig, ax = plt.subplots()\n",
    "\n",
    "\n",
    "ax.bar(df_bodyanswerdyn.date\n",
    "    ,  height = df_bodyanswerdyn['rate']\n",
    "    ,  color = 'skyblue'\n",
    "    ,  label = 'Mean'\n",
    "    # ,  edgecolor = 'black'\n",
    "      ) # hist type\n",
    "\n",
    "ax.set_title(\"Ratio of Answered Question\", # add title\n",
    "             fontsize = 12.5,\n",
    "             weight = 'bold',\n",
    "             pad = 10,\n",
    "             loc = 'center')\n",
    "ax.set_xlabel(\"Date\", # add x-axis label\n",
    "              fontsize = 12.5)\n",
    "ax.set_ylabel(\"Ratio\", # add y-axis label\n",
    "              fontsize = 12.5)\n",
    "\n",
    "major_xticks = ['2013-11-30','2014-11-30','2015-11-30','2016-11-30','2017-11-30','2018-11-30','2019-11-30','2020-11-30'\n",
    "                ,'2021-11-30', '2022-11-30', '2023-11-30']\n",
    "ax.set_xticks(major_xticks)\n",
    "\n",
    "ax.axvline(['2022-11-30'], # add vertical line\n",
    "           color = 'red',\n",
    "           linestyle = '--',\n",
    "           linewidth = 1.5)\n",
    "plt.xticks(rotation=45)\n",
    "plt.show();"
   ]
  },
  {
   "cell_type": "markdown",
   "metadata": {},
   "source": [
    "### Answer Count line plot"
   ]
  },
  {
   "cell_type": "code",
   "execution_count": null,
   "metadata": {},
   "outputs": [],
   "source": [
    "df_answer_cnt"
   ]
  },
  {
   "cell_type": "code",
   "execution_count": null,
   "metadata": {},
   "outputs": [],
   "source": [
    "df_answer_cnt.loc[(df_answer_cnt['year']== '2020'), 'cnt'].value_counts().sort_index().to_frame()['count']"
   ]
  },
  {
   "cell_type": "code",
   "execution_count": null,
   "metadata": {},
   "outputs": [],
   "source": [
    "fig, ax = plt.subplots()\n",
    "\n",
    "\n",
    "ax.plot(df_answer_cnt.loc[(df_answer_cnt['year']== '2019'), 'cnt'].value_counts().sort_index().to_frame()['count'].values, # specify data\n",
    "        color = 'red',\n",
    "        label = '2019.11'\n",
    ") \n",
    "\n",
    "ax.plot(df_answer_cnt.loc[(df_answer_cnt['year']== '2020'), 'cnt'].value_counts().sort_index().to_frame()['count'].values, # specify data\n",
    "        color = 'orange',\n",
    "        label = '2020.11'\n",
    ") \n",
    "\n",
    "ax.plot(df_answer_cnt.loc[(df_answer_cnt['year']== '2021'), 'cnt'].value_counts().sort_index().to_frame()['count'].values, # specify data\n",
    "        color = 'green',\n",
    "        label = '2021.11'\n",
    "# label = ['question', 'answer']\n",
    ") # create legened labels\n",
    "\n",
    "ax.plot(df_answer_cnt.loc[(df_answer_cnt['year']== '2022'), 'cnt'].value_counts().sort_index().to_frame()['count'].values, # specify data\n",
    "        color = 'blue',\n",
    "         label = '2022.11'\n",
    "        # label = ['question', 'answer']\n",
    "        ) # create legened labels\n",
    "\n",
    "ax.plot(df_answer_cnt.loc[(df_answer_cnt['year']== '2023'), 'cnt'].value_counts().sort_index().to_frame()['count'].values, # specify data\n",
    "        color = 'purple', # bar color\n",
    "        label = '2023.11'\n",
    "        ) # create legened labels\n",
    "\n",
    "\n",
    "\n",
    "\n",
    "\n",
    "ax.set_title('Answer Count line plot', fontsize = 15) # title\n",
    "ax.set_xlabel('count', fontsize = 12.5) # x-axis label\n",
    "ax.set_ylabel('value', fontsize = 12.5) # y-axis label\n",
    "\n",
    "ax.legend(loc = 'upper right', fontsize = 10) # add legend\n",
    "\n",
    "ax.grid(True, linestyle = ':', linewidth = 0.5) # grid\n",
    "\n",
    "plt.show();"
   ]
  },
  {
   "cell_type": "markdown",
   "metadata": {},
   "source": [
    "### Minimun timedelta to get response per Date\n",
    "* 질문과 첫번째 답 사이 gap 에 대한 time distribution"
   ]
  },
  {
   "cell_type": "code",
   "execution_count": null,
   "metadata": {},
   "outputs": [],
   "source": [
    "df_da['qna_diff'] = df_da['a_creationdate'] - df_da['q_creationdate']"
   ]
  },
  {
   "cell_type": "code",
   "execution_count": null,
   "metadata": {},
   "outputs": [],
   "source": [
    "df_da_df = df_da.sort_values(by = ['date', 'q_id','qna_diff'], ascending=True).groupby(['date', 'q_id']).head(1)"
   ]
  },
  {
   "cell_type": "code",
   "execution_count": null,
   "metadata": {},
   "outputs": [],
   "source": [
    "df_da_df['qna_diff_int'] = df_da_df['qna_diff']/ pd.Timedelta(minutes=1)"
   ]
  },
  {
   "cell_type": "code",
   "execution_count": null,
   "metadata": {},
   "outputs": [],
   "source": [
    "df_da_df[['qna_diff', 'qna_diff_int', 'date']]"
   ]
  },
  {
   "cell_type": "code",
   "execution_count": null,
   "metadata": {},
   "outputs": [],
   "source": [
    "df_da_df_dff        = df_da_df[['date','year', 'month', 'day','qna_diff_int']].groupby(['date','year', 'month', 'day']).mean().reset_index()\n",
    "df_da_df_dff_min    = df_da_df[['date','year', 'month', 'day','qna_diff_int']].groupby(['date','year', 'month', 'day']).min().reset_index()\n",
    "df_da_df_dff_max    = df_da_df[['date','year', 'month', 'day','qna_diff_int']].groupby(['date','year', 'month', 'day']).max().reset_index()\n",
    "df_da_df_dff_median = df_da_df[['date','year', 'month', 'day','qna_diff_int']].groupby(['date','year', 'month', 'day']).median().reset_index()\n"
   ]
  },
  {
   "cell_type": "code",
   "execution_count": null,
   "metadata": {},
   "outputs": [],
   "source": [
    "df_da_df_dff.head()"
   ]
  },
  {
   "cell_type": "code",
   "execution_count": null,
   "metadata": {},
   "outputs": [],
   "source": [
    "fig, ax = plt.subplots()\n",
    "\n",
    "ax.bar(df_da_df_dff.date\n",
    "    ,  height = df_da_df_dff['qna_diff_int']\n",
    "    ,  color = 'skyblue'\n",
    "    ,  label = 'Median'\n",
    "    # ,  edgecolor = 'black'\n",
    "      ) # hist type\n",
    "\n",
    "ax.set_title(\"Minimum timedelta to get response per Date\", # add title\n",
    "             fontsize = 12.5,\n",
    "             weight = 'bold',\n",
    "             pad = 10,\n",
    "             loc = 'center')\n",
    "ax.set_xlabel(\"Date\", # add x-axis label\n",
    "              fontsize = 12.5)\n",
    "ax.set_ylabel(\"Timedelta\", # add y-axis label\n",
    "              fontsize = 12.5)\n",
    "\n",
    "major_xticks = ['2013-11-30','2014-11-30','2015-11-30','2016-11-30','2017-11-30','2018-11-30','2019-11-30','2020-11-30'\n",
    "                ,'2021-11-30', '2022-11-30', '2023-11-30']\n",
    "ax.set_xticks(major_xticks)\n",
    "\n",
    "ax.axvline(['2022-11-30'], # add vertical line\n",
    "           color = 'blue',\n",
    "           linestyle = '--',\n",
    "           linewidth = 1.5)\n",
    "plt.xticks(rotation=45)\n",
    "\n",
    "\n",
    "\n",
    "ax.legend( title_fontsize = 10, fontsize = 10,\n",
    "          bbox_to_anchor = (1, 0.55))\n",
    "\n",
    "plt.show();"
   ]
  },
  {
   "cell_type": "code",
   "execution_count": null,
   "metadata": {},
   "outputs": [],
   "source": [
    "fig, ax = plt.subplots()\n",
    "\n",
    "ax.bar(df_da_df_dff_median.date\n",
    "    ,  height = df_da_df_dff_median['qna_diff_int']\n",
    "    ,  color = 'red'\n",
    "    ,  label = 'Median'\n",
    "    # ,  edgecolor = 'black'\n",
    "      ) # hist type\n",
    "\n",
    "ax.set_title(\"Minimum timedelta to get response per Date\", # add title\n",
    "             fontsize = 12.5,\n",
    "             weight = 'bold',\n",
    "             pad = 10,\n",
    "             loc = 'center')\n",
    "ax.set_xlabel(\"Date\", # add x-axis label\n",
    "              fontsize = 12.5)\n",
    "ax.set_ylabel(\"Timedelta\", # add y-axis label\n",
    "              fontsize = 12.5)\n",
    "\n",
    "major_xticks = ['2013-11-30','2014-11-30','2015-11-30','2016-11-30','2017-11-30','2018-11-30','2019-11-30','2020-11-30'\n",
    "                ,'2021-11-30', '2022-11-30', '2023-11-30']\n",
    "ax.set_xticks(major_xticks)\n",
    "\n",
    "ax.axvline(['2022-11-30'], # add vertical line\n",
    "           color = 'blue',\n",
    "           linestyle = '--',\n",
    "           linewidth = 1.5)\n",
    "plt.xticks(rotation=45)\n",
    "\n",
    "\n",
    "\n",
    "ax.legend( title_fontsize = 10, fontsize = 10,\n",
    "          bbox_to_anchor = (1, 0.55))\n",
    "\n",
    "plt.show();"
   ]
  },
  {
   "cell_type": "markdown",
   "metadata": {},
   "source": [
    "### Minimun timedelta to get response per Day in 1 month \n",
    "* 질문과 첫번째 답 사이 gap 에 대한 time distribution"
   ]
  },
  {
   "cell_type": "code",
   "execution_count": null,
   "metadata": {},
   "outputs": [],
   "source": [
    "df_da_in_month = df_da[df_da['qna_diff'].dt.days <=30]"
   ]
  },
  {
   "cell_type": "code",
   "execution_count": null,
   "metadata": {},
   "outputs": [],
   "source": [
    "df_da_in_month_df = df_da_in_month.sort_values(by = ['date', 'q_id','qna_diff'], ascending=True).groupby(['date', 'q_id']).head(1)"
   ]
  },
  {
   "cell_type": "code",
   "execution_count": null,
   "metadata": {},
   "outputs": [],
   "source": [
    "df_da_in_month_df['qna_diff_int'] = df_da_in_month_df['qna_diff']/ pd.Timedelta(minutes=1)"
   ]
  },
  {
   "cell_type": "code",
   "execution_count": null,
   "metadata": {},
   "outputs": [],
   "source": [
    "df_da_in_month_df        = df_da_in_month_df[['date','year', 'month', 'day','qna_diff_int']].groupby(['date','year', 'month', 'day']).mean().reset_index()\n",
    "df_da_in_month_df_min    = df_da_in_month_df[['date','year', 'month', 'day','qna_diff_int']].groupby(['date','year', 'month', 'day']).min().reset_index()\n",
    "df_da_in_month_df_max    = df_da_in_month_df[['date','year', 'month', 'day','qna_diff_int']].groupby(['date','year', 'month', 'day']).max().reset_index()\n",
    "df_da_in_month_df_median = df_da_in_month_df[['date','year', 'month', 'day','qna_diff_int']].groupby(['date','year', 'month', 'day']).median().reset_index()\n"
   ]
  },
  {
   "cell_type": "code",
   "execution_count": null,
   "metadata": {},
   "outputs": [],
   "source": [
    "fig, ax = plt.subplots()\n",
    "\n",
    "ax.bar(df_da_in_month_df.date\n",
    "    ,  height = df_da_in_month_df['qna_diff_int']\n",
    "    ,  color = 'skyblue'\n",
    "    ,  label = 'Mean'\n",
    "    # ,  edgecolor = 'black'\n",
    "      ) # hist type\n",
    "\n",
    "ax.set_title(\"Minimum timedelta to get response per Day in 1 Month\", # add title\n",
    "             fontsize = 12.5,\n",
    "             weight = 'bold',\n",
    "             pad = 10,\n",
    "             loc = 'center')\n",
    "ax.set_xlabel(\"Date\", # add x-axis label\n",
    "              fontsize = 12.5)\n",
    "ax.set_ylabel(\"Timedelta\", # add y-axis label\n",
    "              fontsize = 12.5)\n",
    "\n",
    "major_xticks = ['2013-11-30','2014-11-30','2015-11-30','2016-11-30','2017-11-30','2018-11-30','2019-11-30','2020-11-30'\n",
    "                ,'2021-11-30', '2022-11-30', '2023-11-30']\n",
    "ax.set_xticks(major_xticks)\n",
    "\n",
    "ax.axvline(['2022-11-30'], # add vertical line\n",
    "           color = 'blue',\n",
    "           linestyle = '--',\n",
    "           linewidth = 1.5)\n",
    "plt.xticks(rotation=45)\n",
    "\n",
    "\n",
    "\n",
    "ax.legend( title_fontsize = 10, fontsize = 10,\n",
    "          bbox_to_anchor = (1, 0.55))\n",
    "\n",
    "plt.show();"
   ]
  },
  {
   "cell_type": "code",
   "execution_count": null,
   "metadata": {},
   "outputs": [],
   "source": [
    "fig, ax = plt.subplots()\n",
    "\n",
    "ax.bar(df_da_in_month_df_median.date\n",
    "    ,  height = df_da_in_month_df_median['qna_diff_int']\n",
    "    ,  color = 'red'\n",
    "    ,  label = 'Median'\n",
    "    # ,  edgecolor = 'black'\n",
    "      ) # hist type\n",
    "\n",
    "ax.set_title(\"Minimum timedelta to get response per Day in 1 Month\", # add title\n",
    "             fontsize = 12.5,\n",
    "             weight = 'bold',\n",
    "             pad = 10,\n",
    "             loc = 'center')\n",
    "ax.set_xlabel(\"Date\", # add x-axis label\n",
    "              fontsize = 12.5)\n",
    "ax.set_ylabel(\"Timedelta\", # add y-axis label\n",
    "              fontsize = 12.5)\n",
    "\n",
    "major_xticks = ['2013-11-30','2014-11-30','2015-11-30','2016-11-30','2017-11-30','2018-11-30','2019-11-30','2020-11-30'\n",
    "                ,'2021-11-30', '2022-11-30', '2023-11-30']\n",
    "ax.set_xticks(major_xticks)\n",
    "\n",
    "ax.axvline(['2022-11-30'], # add vertical line\n",
    "           color = 'blue',\n",
    "           linestyle = '--',\n",
    "           linewidth = 1.5)\n",
    "plt.xticks(rotation=45)\n",
    "\n",
    "\n",
    "\n",
    "ax.legend( title_fontsize = 10, fontsize = 10,\n",
    "          bbox_to_anchor = (1, 0.55))\n",
    "\n",
    "plt.show();"
   ]
  },
  {
   "cell_type": "code",
   "execution_count": null,
   "metadata": {},
   "outputs": [],
   "source": []
  },
  {
   "cell_type": "code",
   "execution_count": null,
   "metadata": {},
   "outputs": [],
   "source": []
  },
  {
   "cell_type": "markdown",
   "metadata": {},
   "source": [
    "### Distribution of Timedelta"
   ]
  },
  {
   "cell_type": "code",
   "execution_count": null,
   "metadata": {},
   "outputs": [],
   "source": [
    "fig, ax = plt.subplots()\n",
    "\n",
    "\n",
    "# ax.bar(df_date_per_len_max_q.index\n",
    "#     ,  height = df_date_per_len_max_q['body_len']\n",
    "#     ,  color = 'green'\n",
    "#     # ,  edgecolor = 'black'\n",
    "#       ) # hist type\n",
    "\n",
    "ax.hist(df_da_df_dff['qna_diff_int'], # specify data\n",
    "        bins = 20, # number of bins\n",
    "\n",
    "        edgecolor = 'black', # bar edge color\n",
    "        histtype = 'bar', # type of histogram\n",
    "        label = ['Answer Count', 'User Count']) # create legened labels\n",
    "\n",
    "# ax.bar(df_date_per_len_min_q.index\n",
    "#     ,  height = df_date_per_len_min_q['body_len']\n",
    "#     ,  color = 'red'\n",
    "#     # ,  edgecolor = 'black'\n",
    "#       ) # hist type\n",
    "\n",
    "ax.set_title(\"Distribution of Timedelta\", # add title\n",
    "             fontsize = 12.5,\n",
    "             weight = 'bold',\n",
    "             pad = 10,\n",
    "             loc = 'center')\n",
    "ax.set_xlabel(\"Timedelta\", # add x-axis label\n",
    "              fontsize = 12.5)\n",
    "ax.set_ylabel(\"Count\", # add y-axis label\n",
    "              fontsize = 12.5)\n",
    "\n",
    "# major_xticks = ['2013-11-30','2014-11-30','2015-11-30','2016-11-30','2017-11-30','2018-11-30','2019-11-30','2020-11-30'\n",
    "#                 ,'2021-11-30', '2022-11-30', '2023-11-30']\n",
    "# ax.set_xticks(major_xticks)\n",
    "\n",
    "# ax.axvline(['2022-11-30'], # add vertical line\n",
    "#            color = 'red',\n",
    "#            linestyle = '--',\n",
    "#            linewidth = 1.5)\n",
    "plt.xticks(rotation=45)\n",
    "\n",
    "\n",
    "\n",
    "# ax.legend( title_fontsize = 10, fontsize = 10,\n",
    "#           bbox_to_anchor = (1, 0.55))\n",
    "\n",
    "plt.show();"
   ]
  },
  {
   "cell_type": "markdown",
   "metadata": {},
   "source": [
    "### Length of Questions per Date"
   ]
  },
  {
   "cell_type": "code",
   "execution_count": null,
   "metadata": {},
   "outputs": [],
   "source": [
    "df_body.groupby(['year', 'month', 'day', 'posttypeid']).mean(['body_len'])"
   ]
  },
  {
   "cell_type": "code",
   "execution_count": null,
   "metadata": {},
   "outputs": [],
   "source": [
    "df_date_per_len = df_body.groupby(['date','year', 'month', 'day', 'posttypeid']).mean(['body_len']).reset_index()\n",
    "df_date_per_len_min = df_body.groupby(['date','year', 'month', 'day', 'posttypeid']).min(['body_len']).reset_index()\n",
    "df_date_per_len_max = df_body.groupby(['date','year', 'month', 'day', 'posttypeid']).max(['body_len']).reset_index()\n",
    "df_date_per_len_median = df_body.groupby(['date','year', 'month', 'day', 'posttypeid']).median(['body_len']).reset_index()"
   ]
  },
  {
   "cell_type": "code",
   "execution_count": null,
   "metadata": {},
   "outputs": [],
   "source": [
    "df_body.groupby(['date','year', 'month', 'day', 'posttypeid']).max(['body_len'])"
   ]
  },
  {
   "cell_type": "code",
   "execution_count": null,
   "metadata": {},
   "outputs": [],
   "source": [
    "df_date_per_len_q = df_date_per_len[df_date_per_len['posttypeid'] =='1']\n",
    "df_date_per_len_q = df_date_per_len_q.set_index('date')\n",
    "df_date_per_len_a = df_date_per_len[df_date_per_len['posttypeid'] =='2']\n",
    "df_date_per_len_a = df_date_per_len_a.set_index('date')"
   ]
  },
  {
   "cell_type": "code",
   "execution_count": null,
   "metadata": {},
   "outputs": [],
   "source": [
    "df_date_per_len_min_q = df_date_per_len_min[df_date_per_len_min['posttypeid'] =='1']\n",
    "df_date_per_len_min_q = df_date_per_len_min_q.set_index('date')\n",
    "df_date_per_len_min_a = df_date_per_len_min[df_date_per_len_min['posttypeid'] =='2']\n",
    "df_date_per_len_min_a = df_date_per_len_min_a.set_index('date')"
   ]
  },
  {
   "cell_type": "code",
   "execution_count": null,
   "metadata": {},
   "outputs": [],
   "source": [
    "df_date_per_len_max_q = df_date_per_len_max[df_date_per_len_max['posttypeid'] =='1']\n",
    "df_date_per_len_max_q = df_date_per_len_max_q.set_index('date')\n",
    "df_date_per_len_max_a = df_date_per_len_max[df_date_per_len_max['posttypeid'] =='2']\n",
    "df_date_per_len_max_a = df_date_per_len_max_a.set_index('date')"
   ]
  },
  {
   "cell_type": "code",
   "execution_count": null,
   "metadata": {},
   "outputs": [],
   "source": [
    "df_date_per_len_median_q = df_date_per_len_median[df_date_per_len_median['posttypeid'] =='1']\n",
    "df_date_per_len_median_q = df_date_per_len_median_q.set_index('date')\n",
    "df_date_per_len_median_a = df_date_per_len_median[df_date_per_len_median['posttypeid'] =='2']\n",
    "df_date_per_len_median_a = df_date_per_len_median_a.set_index('date')"
   ]
  },
  {
   "cell_type": "code",
   "execution_count": null,
   "metadata": {},
   "outputs": [],
   "source": [
    "fig, ax = plt.subplots()\n",
    "\n",
    "\n",
    "# ax.bar(df_date_per_len_max_q.index\n",
    "#     ,  height = df_date_per_len_max_q['body_len']\n",
    "#     ,  color = 'green'\n",
    "#     # ,  edgecolor = 'black'\n",
    "#       ) # hist type\n",
    "\n",
    "ax.bar(df_date_per_len_q.index\n",
    "    ,  height = df_date_per_len_q['body_len']\n",
    "    ,  color = 'skyblue'\n",
    "    ,  label = 'Mean'\n",
    "    # ,  edgecolor = 'black'\n",
    "      ) # hist type\n",
    "\n",
    "ax.bar(df_date_per_len_median_q.index\n",
    "    ,  height = df_date_per_len_median_q['body_len']\n",
    "    ,  color = 'red'\n",
    "    ,  label = 'Median'\n",
    "    # ,  edgecolor = 'black'\n",
    "      ) # hist type\n",
    "\n",
    "\n",
    "# ax.bar(df_date_per_len_min_q.index\n",
    "#     ,  height = df_date_per_len_min_q['body_len']\n",
    "#     ,  color = 'red'\n",
    "#     # ,  edgecolor = 'black'\n",
    "#       ) # hist type\n",
    "\n",
    "ax.set_title(\"Length of Questions per Date\", # add title\n",
    "             fontsize = 12.5,\n",
    "             weight = 'bold',\n",
    "             pad = 10,\n",
    "             loc = 'center')\n",
    "ax.set_xlabel(\"Date\", # add x-axis label\n",
    "              fontsize = 12.5)\n",
    "ax.set_ylabel(\"Length\", # add y-axis label\n",
    "              fontsize = 12.5)\n",
    "\n",
    "major_xticks = ['2013-11-30','2014-11-30','2015-11-30','2016-11-30','2017-11-30','2018-11-30','2019-11-30','2020-11-30'\n",
    "                ,'2021-11-30', '2022-11-30', '2023-11-30']\n",
    "ax.set_xticks(major_xticks)\n",
    "\n",
    "ax.axvline(['2022-11-30'], # add vertical line\n",
    "           color = 'blue',\n",
    "           linestyle = '--',\n",
    "           linewidth = 1.5)\n",
    "plt.xticks(rotation=45)\n",
    "\n",
    "\n",
    "\n",
    "ax.legend( title_fontsize = 10, fontsize = 10,\n",
    "          bbox_to_anchor = (1, 0.55))\n",
    "\n",
    "plt.show();"
   ]
  },
  {
   "cell_type": "code",
   "execution_count": null,
   "metadata": {},
   "outputs": [],
   "source": [
    "df_date_per_len_diff = (df_date_per_len_max_q['body_len'] - df_date_per_len_min_q['body_len']).to_frame()"
   ]
  },
  {
   "cell_type": "code",
   "execution_count": null,
   "metadata": {},
   "outputs": [],
   "source": [
    "fig, ax = plt.subplots()\n",
    "\n",
    "\n",
    "ax.bar(df_date_per_len_diff.index\n",
    "    ,  height = df_date_per_len_diff['body_len']\n",
    "    ,  color = 'skyblue'\n",
    "    ,  label = 'Mean'\n",
    "    # ,  edgecolor = 'black'\n",
    "      ) # hist type\n",
    "\n",
    "ax.set_title(\"Length of Questions per Date\", # add title\n",
    "             fontsize = 12.5,\n",
    "             weight = 'bold',\n",
    "             pad = 10,\n",
    "             loc = 'center')\n",
    "ax.set_xlabel(\"Date\", # add x-axis label\n",
    "              fontsize = 12.5)\n",
    "ax.set_ylabel(\"Length\", # add y-axis label\n",
    "              fontsize = 12.5)\n",
    "\n",
    "major_xticks = ['2013-11-30','2014-11-30','2015-11-30','2016-11-30','2017-11-30','2018-11-30','2019-11-30','2020-11-30'\n",
    "                ,'2021-11-30', '2022-11-30', '2023-11-30']\n",
    "ax.set_xticks(major_xticks)\n",
    "\n",
    "ax.axvline(['2022-11-30'], # add vertical line\n",
    "           color = 'red',\n",
    "           linestyle = '--',\n",
    "           linewidth = 1.5)\n",
    "plt.xticks(rotation=45)\n",
    "plt.show();"
   ]
  },
  {
   "cell_type": "markdown",
   "metadata": {},
   "source": [
    "### Length of Answers per Date"
   ]
  },
  {
   "cell_type": "code",
   "execution_count": null,
   "metadata": {},
   "outputs": [],
   "source": [
    "fig, ax = plt.subplots()\n",
    "\n",
    "ax.bar(df_date_per_len_a.index\n",
    "    ,  height = df_date_per_len_a['body_len']\n",
    "    ,  color = 'skyblue'\n",
    "    ,  label = 'Mean'\n",
    "    # ,  edgecolor = 'black'\n",
    "      ) # hist type\n",
    "\n",
    "ax.bar(df_date_per_len_median_a.index\n",
    "    ,  height = df_date_per_len_median_a['body_len']\n",
    "    ,  color = 'red'\n",
    "    ,  label = 'Median'\n",
    "    # ,  edgecolor = 'black'\n",
    "      ) # hist type\n",
    "\n",
    "ax.set_title(\"Length of Answers per Date\", # add title\n",
    "             fontsize = 12.5,\n",
    "             weight = 'bold',\n",
    "             pad = 10,\n",
    "             loc = 'center')\n",
    "ax.set_xlabel(\"Date\", # add x-axis label\n",
    "              fontsize = 12.5)\n",
    "ax.set_ylabel(\"Length\", # add y-axis label\n",
    "              fontsize = 12.5)\n",
    "\n",
    "major_xticks = ['2013-11-30','2014-11-30','2015-11-30','2016-11-30','2017-11-30','2018-11-30','2019-11-30','2020-11-30'\n",
    "                ,'2021-11-30', '2022-11-30', '2023-11-30']\n",
    "ax.set_xticks(major_xticks)\n",
    "\n",
    "ax.axvline(['2022-11-30'], # add vertical line\n",
    "           color = 'blue',\n",
    "           linestyle = '--',\n",
    "           linewidth = 1.5)\n",
    "\n",
    "ax.legend( title_fontsize = 10, fontsize = 10,\n",
    "          bbox_to_anchor = (1, 0.55))\n",
    "\n",
    "plt.xticks(rotation=45)\n",
    "plt.show();"
   ]
  },
  {
   "cell_type": "markdown",
   "metadata": {},
   "source": [
    "### Answer Length over Question Length per Date"
   ]
  },
  {
   "cell_type": "code",
   "execution_count": null,
   "metadata": {},
   "outputs": [],
   "source": [
    "df_date_per_len_rate = df_date_per_len_a['body_len'].div( df_date_per_len_q['body_len']).to_frame()"
   ]
  },
  {
   "cell_type": "code",
   "execution_count": null,
   "metadata": {},
   "outputs": [],
   "source": [
    "df_date_per_len_rate.head()"
   ]
  },
  {
   "cell_type": "code",
   "execution_count": null,
   "metadata": {},
   "outputs": [],
   "source": [
    "fig, ax = plt.subplots()\n",
    "\n",
    "ax.bar(df_date_per_len_rate.index\n",
    "    ,  height = df_date_per_len_rate['body_len']\n",
    "    ,  color = 'skyblue'\n",
    "    # ,  edgecolor = 'black'\n",
    "      ) # hist type\n",
    "\n",
    "ax.set_title(\"Answer Length over Question Length per Date\", # add title\n",
    "             fontsize = 12.5,\n",
    "             weight = 'bold',\n",
    "             pad = 10,\n",
    "             loc = 'center')\n",
    "ax.set_xlabel(\"Date\", # add x-axis label\n",
    "              fontsize = 12.5)\n",
    "ax.set_ylabel(\"A Len/Q Len\", # add y-axis label\n",
    "              fontsize = 12.5)\n",
    "\n",
    "major_xticks = ['2013-11-30','2014-11-30','2015-11-30','2016-11-30','2017-11-30','2018-11-30','2019-11-30','2020-11-30'\n",
    "                ,'2021-11-30', '2022-11-30', '2023-11-30']\n",
    "ax.set_xticks(major_xticks)\n",
    "\n",
    "ax.axvline(['2022-11-30'], # add vertical line\n",
    "           color = 'red',\n",
    "           linestyle = '--',\n",
    "           linewidth = 1.5)\n",
    "plt.xticks(rotation=45)\n",
    "plt.show();\n",
    "\n",
    "\n",
    "\n",
    "\n",
    "\n"
   ]
  },
  {
   "cell_type": "markdown",
   "metadata": {},
   "source": [
    "### Length of SRC in Questions per Date"
   ]
  },
  {
   "cell_type": "code",
   "execution_count": null,
   "metadata": {},
   "outputs": [],
   "source": [
    "def cleanhtml(raw_html):\n",
    "  # 1.Source code in python language is hard to understand, so replace all the <code> tag first\n",
    "  cleantext_1 = re.findall(r'(?<=\\<code>)(.*?)(?=<\\/code>)', raw_html.replace('\\n', '_**_'))\n",
    "  cleantext_1 = [x.replace('_**_', '\\n') for x in cleantext_1]\n",
    "  # 2. replace html tags\n",
    "  # <p>\n",
    "  tag_re = re.compile('<.*?>')\n",
    "  cleantext_2 = [re.sub(tag_re, '', x) for x in cleantext_1]\n",
    "  return cleantext_2"
   ]
  },
  {
   "cell_type": "code",
   "execution_count": null,
   "metadata": {},
   "outputs": [],
   "source": [
    "# # apply the function, cleanhtml to the question and body text\n",
    "# df_body.loc[:, 'prep_body'] = df_body['body'].apply(cleanhtml)\n",
    "# 15분 걸림\n",
    "# 전체 데이터셋 \n",
    "# with open('../../data/df_body_prep.pkl', 'wb') as f:\n",
    "#     pickle.dump(df_body, f)\n",
    "# 파일 불러오기\n",
    "with open('../../data/df_body_prep.pkl', 'rb') as f:\n",
    "    df_body = pickle.load(f)"
   ]
  },
  {
   "cell_type": "code",
   "execution_count": null,
   "metadata": {},
   "outputs": [],
   "source": [
    "df_body['concat_prep_body'] = df_body['prep_body'].apply(lambda x : ''.join(x))"
   ]
  },
  {
   "cell_type": "code",
   "execution_count": null,
   "metadata": {},
   "outputs": [],
   "source": [
    "df_body['src_len'] = df_body['concat_prep_body'].apply(lambda x:len(x))"
   ]
  },
  {
   "cell_type": "code",
   "execution_count": null,
   "metadata": {},
   "outputs": [],
   "source": [
    "len(df_body['id'].unique())\n",
    "# 43352042"
   ]
  },
  {
   "cell_type": "code",
   "execution_count": null,
   "metadata": {},
   "outputs": [],
   "source": [
    "df_date_per_src_len = df_body.groupby(['date','year', 'month', 'day', 'posttypeid']).mean(['src_len']).reset_index()\n",
    "df_date_per_src_len_min = df_body.groupby(['date','year', 'month', 'day', 'posttypeid']).min(['src_len']).reset_index()\n",
    "df_date_per_src_len_max = df_body.groupby(['date','year', 'month', 'day', 'posttypeid']).max(['src_len']).reset_index()\n",
    "df_date_per_src_len_median = df_body.groupby(['date','year', 'month', 'day', 'posttypeid']).median(['src_len']).reset_index()"
   ]
  },
  {
   "cell_type": "code",
   "execution_count": null,
   "metadata": {},
   "outputs": [],
   "source": [
    "df_date_per_src_len_q = df_date_per_src_len[df_date_per_src_len['posttypeid'] =='1']\n",
    "df_date_per_src_len_q = df_date_per_src_len_q.set_index('date')\n",
    "df_date_per_src_len_a = df_date_per_src_len[df_date_per_src_len['posttypeid'] =='2']\n",
    "df_date_per_src_len_a = df_date_per_src_len_a.set_index('date')"
   ]
  },
  {
   "cell_type": "code",
   "execution_count": null,
   "metadata": {},
   "outputs": [],
   "source": [
    "df_date_per_src_len_median_q = df_date_per_src_len_median[df_date_per_src_len_median['posttypeid'] =='1']\n",
    "df_date_per_src_len_median_q = df_date_per_src_len_median_q.set_index('date')\n",
    "df_date_per_src_len_median_a = df_date_per_src_len_median[df_date_per_src_len_median['posttypeid'] =='2']\n",
    "df_date_per_src_len_median_a = df_date_per_src_len_median_a.set_index('date')"
   ]
  },
  {
   "cell_type": "code",
   "execution_count": null,
   "metadata": {},
   "outputs": [],
   "source": [
    "fig, ax = plt.subplots()\n",
    "\n",
    "ax.bar(df_date_per_src_len_q.index\n",
    "    ,  height = df_date_per_src_len_q['src_len']\n",
    "    ,  color = 'skyblue'\n",
    "    ,  label = 'Mean'\n",
    "    # ,  edgecolor = 'black'\n",
    "      ) # hist type\n",
    "\n",
    "\n",
    "ax.bar(df_date_per_src_len_median_q.index\n",
    "    ,  height = df_date_per_src_len_median_q['src_len']\n",
    "    ,  color = 'red'\n",
    "    ,  label = 'Median'\n",
    "    # ,  edgecolor = 'black'\n",
    "      ) # hist type\n",
    "\n",
    "ax.set_title(\"Length of SRC in Questions per Date\", # add title\n",
    "             fontsize = 12.5,\n",
    "             weight = 'bold',\n",
    "             pad = 10,\n",
    "             loc = 'center')\n",
    "ax.set_xlabel(\"Date\", # add x-axis label\n",
    "              fontsize = 12.5)\n",
    "ax.set_ylabel(\"Length\", # add y-axis label\n",
    "              fontsize = 12.5)\n",
    "\n",
    "major_xticks = ['2013-11-30','2014-11-30','2015-11-30','2016-11-30','2017-11-30','2018-11-30','2019-11-30','2020-11-30'\n",
    "                ,'2021-11-30', '2022-11-30', '2023-11-30']\n",
    "ax.set_xticks(major_xticks)\n",
    "\n",
    "ax.axvline(['2022-11-30'], # add vertical line\n",
    "           color = 'blue',\n",
    "           linestyle = '--',\n",
    "           linewidth = 1.5)\n",
    "\n",
    "ax.legend( title_fontsize = 10, fontsize = 10,\n",
    "          bbox_to_anchor = (1, 0.55))\n",
    "\n",
    "\n",
    "plt.xticks(rotation=45)\n",
    "plt.show();"
   ]
  },
  {
   "cell_type": "markdown",
   "metadata": {},
   "source": [
    "### Length  of SRC in Answers per Date"
   ]
  },
  {
   "cell_type": "code",
   "execution_count": null,
   "metadata": {},
   "outputs": [],
   "source": [
    "fig, ax = plt.subplots()\n",
    "\n",
    "ax.bar(df_date_per_src_len_a.index\n",
    "    ,  height = df_date_per_src_len_a['src_len']\n",
    "    ,  color = 'skyblue'\n",
    "    ,  label = 'Mean'\n",
    "    # ,  edgecolor = 'black'\n",
    "      ) # hist type\n",
    "\n",
    "ax.bar(df_date_per_src_len_median_a.index\n",
    "    ,  height = df_date_per_src_len_median_a['src_len']\n",
    "    ,  color = 'red'\n",
    "    ,  label = 'Median'\n",
    "    # ,  edgecolor = 'black'\n",
    "      ) # hist type\n",
    "\n",
    "ax.set_title(\"Length  of SRC in Answers per Date\", # add title\n",
    "             fontsize = 12.5,\n",
    "             weight = 'bold',\n",
    "             pad = 10,\n",
    "             loc = 'center')\n",
    "ax.set_xlabel(\"Date\", # add x-axis label\n",
    "              fontsize = 12.5)\n",
    "ax.set_ylabel(\"Length\", # add y-axis label\n",
    "              fontsize = 12.5)\n",
    "\n",
    "major_xticks = ['2013-11-30','2014-11-30','2015-11-30','2016-11-30','2017-11-30','2018-11-30','2019-11-30','2020-11-30'\n",
    "                ,'2021-11-30', '2022-11-30', '2023-11-30']\n",
    "ax.set_xticks(major_xticks)\n",
    "\n",
    "ax.axvline(['2022-11-30'], # add vertical line\n",
    "           color = 'blue',\n",
    "           linestyle = '--',\n",
    "           linewidth = 1.5)\n",
    "\n",
    "ax.legend( title_fontsize = 10, fontsize = 10,\n",
    "          bbox_to_anchor = (1, 0.55))\n",
    "\n",
    "plt.xticks(rotation=45)\n",
    "plt.show();"
   ]
  },
  {
   "cell_type": "code",
   "execution_count": null,
   "metadata": {},
   "outputs": [],
   "source": [
    "df_date_per_src_len_rate = df_date_per_src_len_a['src_len'].div( df_date_per_src_len_q['src_len']).to_frame()"
   ]
  },
  {
   "cell_type": "code",
   "execution_count": null,
   "metadata": {},
   "outputs": [],
   "source": [
    "fig, ax = plt.subplots()\n",
    "\n",
    "ax.bar(df_date_per_src_len_rate.index\n",
    "    ,  height = df_date_per_src_len_rate['src_len']\n",
    "    ,  color = 'skyblue'\n",
    "    # ,  edgecolor = 'black'\n",
    "      ) # hist type\n",
    "\n",
    "ax.set_title(\"Question and Answer Count per Date\", # add title\n",
    "             fontsize = 12.5,\n",
    "             weight = 'bold',\n",
    "             pad = 10,\n",
    "             loc = 'center')\n",
    "ax.set_xlabel(\"Date\", # add x-axis label\n",
    "              fontsize = 12.5)\n",
    "ax.set_ylabel(\"Count\", # add y-axis label\n",
    "              fontsize = 12.5)\n",
    "\n",
    "major_xticks = ['2013-11-30','2014-11-30','2015-11-30','2016-11-30','2017-11-30','2018-11-30','2019-11-30','2020-11-30'\n",
    "                ,'2021-11-30', '2022-11-30', '2023-11-30']\n",
    "ax.set_xticks(major_xticks)\n",
    "\n",
    "# ax.axvline('2022-11-30', # add vertical line\n",
    "#            color = 'red',\n",
    "#            linestyle = '--',\n",
    "#            linewidth = 1.5)\n",
    "plt.xticks(rotation=45)\n",
    "plt.show();"
   ]
  },
  {
   "cell_type": "code",
   "execution_count": null,
   "metadata": {},
   "outputs": [],
   "source": [
    "df_q_a = df_body[(df_body['posttypeid']=='1')&(df_body['answered_yn']==1)]\n",
    "df_q = df_body[(df_body['posttypeid']=='1')&(df_body['answered_yn']==0)]\n",
    "# df_body.groupby(['date','year', 'month', 'day', 'posttypeid']).mean(['body_len']).reset_index()"
   ]
  },
  {
   "cell_type": "code",
   "execution_count": null,
   "metadata": {},
   "outputs": [],
   "source": [
    "# df_date_per_src_len = \n",
    "df_q_a_m = df_q_a.groupby(['date','year', 'month', 'day']).mean(['src_per_body']).reset_index()\n",
    "df_q_a_m_median = df_q_a.groupby(['date','year', 'month', 'day']).median(['src_per_body']).reset_index()\n",
    "\n",
    "df_q_m = df_q.groupby(['date','year', 'month', 'day']).mean(['src_per_body']).reset_index()\n",
    "df_q_m_median = df_q.groupby(['date','year', 'month', 'day']).median(['src_per_body']).reset_index()"
   ]
  },
  {
   "cell_type": "code",
   "execution_count": null,
   "metadata": {},
   "outputs": [],
   "source": [
    "df_q_m"
   ]
  },
  {
   "cell_type": "code",
   "execution_count": null,
   "metadata": {},
   "outputs": [],
   "source": [
    "# df_q_a_m['src_per_body'].div(df_q_m['src_per_body'])"
   ]
  },
  {
   "cell_type": "markdown",
   "metadata": {},
   "source": [
    "### SRC length of Answered Questions"
   ]
  },
  {
   "cell_type": "code",
   "execution_count": null,
   "metadata": {},
   "outputs": [],
   "source": [
    "### create a figure with multiple subplots\n",
    "\n",
    "\n",
    "sharey = True ## 또는 sharey=False\n",
    "sharex = True ## 또는 sharex=False\n",
    "\n",
    "fig, axs = plt.subplots(1, 2, figsize = (20, 5), sharey=sharey, sharex=sharex)\n",
    "# plt.xticks(rotation=45)\n",
    "major_xticks = ['2013-11-30','2014-11-30','2015-11-30','2016-11-30','2017-11-30','2018-11-30','2019-11-30','2020-11-30'\n",
    "                ,'2021-11-30', '2022-11-30', '2023-11-30']\n",
    "yticks = np.arange(200, 2000, 400)\n",
    "axs[0].bar(df_q_a_m['date']\n",
    "        ,  df_q_a_m['src_len']\n",
    "        ,  color = 'skyblue'\n",
    "        # ,  edgecolor = 'black'\n",
    "      ) # hist type\n",
    "\n",
    "\n",
    "axs[0].bar(df_q_a_m_median['date']\n",
    "        ,  df_q_a_m_median['src_len']\n",
    "        ,  color = 'red'\n",
    "        # ,  edgecolor = 'black'\n",
    "      ) # hist type\n",
    "\n",
    "axs[0].set_title('SRC length of Answered Questions ', fontsize = 15)\n",
    "axs[0].set_xlabel('Date', fontsize = 15)\n",
    "axs[0].set_ylabel('Length', fontsize = 15)\n",
    "axs[0].set_xticks(major_xticks)\n",
    "axs[0].set_yticks(yticks)\n",
    "axs[0].axvline([major_xticks[-2]], # add vertical line\n",
    "           color = 'blue',\n",
    "           linestyle = '--',\n",
    "           linewidth = 1.5)\n",
    "axs[0].tick_params(axis='x', rotation=45)\n",
    "# axs[0].yticks(yt)\n",
    "\n",
    "axs[1].bar(df_q_m['date']\n",
    "        ,  df_q_m['src_len']\n",
    "        ,  color = 'lightgreen'\n",
    "        # ,  edgecolor = 'black'\n",
    "      ) # hist type\n",
    "axs[1].bar(df_q_m_median['date']\n",
    "        ,  df_q_m_median['src_len']\n",
    "        ,  color = 'red'\n",
    "        # ,  edgecolor = 'black'\n",
    "      ) # hist type\n",
    "\n",
    "axs[1].set_title('SRC length of not Answered Questions ', fontsize = 15)\n",
    "axs[1].set_xlabel('Date', fontsize = 15)\n",
    "axs[1].set_ylabel('Length', fontsize = 15)\n",
    "axs[1].set_xticks(major_xticks)\n",
    "axs[1].set_yticks(yticks)\n",
    "axs[1].axvline([major_xticks[-2]], # add vertical line\n",
    "           color = 'blue',\n",
    "           linestyle = '--',\n",
    "           linewidth = 1.5)\n",
    "axs[1].tick_params(axis='x', rotation=45)\n",
    "\n",
    "plt.show();"
   ]
  },
  {
   "cell_type": "code",
   "execution_count": null,
   "metadata": {},
   "outputs": [],
   "source": [
    "# fig, ax = plt.subplots()\n",
    "\n",
    "# ax.bar(df_date_per_src_len_rate.index\n",
    "#     ,  height = df_q_a_m['src_per_body'].div(df_q_m['src_per_body'])\n",
    "#     ,  color = 'skyblue'\n",
    "#     # ,  edgecolor = 'black'\n",
    "#       ) # hist type\n",
    "\n",
    "# ax.set_title(\"Question and Answer Count per Date\", # add title\n",
    "#              fontsize = 12.5,\n",
    "#              weight = 'bold',\n",
    "#              pad = 10,\n",
    "#              loc = 'center')\n",
    "# ax.set_xlabel(\"Date\", # add x-axis label\n",
    "#               fontsize = 12.5)\n",
    "# ax.set_ylabel(\"Count\", # add y-axis label\n",
    "#               fontsize = 12.5)\n",
    "\n",
    "# major_xticks = ['2013-11-30','2014-11-30','2015-11-30','2016-11-30','2017-11-30','2018-11-30','2019-11-30','2020-11-30'\n",
    "#                 ,'2021-11-30', '2022-11-30', '2023-11-30']\n",
    "# ax.set_xticks(major_xticks)\n",
    "\n",
    "# # ax.axvline('2022-11-30', # add vertical line\n",
    "# #            color = 'red',\n",
    "# #            linestyle = '--',\n",
    "# #            linewidth = 1.5)\n",
    "\n",
    "\n",
    "# ax.legend( title_fontsize = 10, fontsize = 10,\n",
    "#           bbox_to_anchor = (1, 0.55))\n",
    "\n",
    "# plt.xticks(rotation=45)\n",
    "# plt.show();"
   ]
  },
  {
   "cell_type": "markdown",
   "metadata": {},
   "source": [
    "### Length of Title per Day"
   ]
  },
  {
   "cell_type": "code",
   "execution_count": null,
   "metadata": {},
   "outputs": [],
   "source": [
    "df_body_q = df_body[df_body['posttypeid'] =='1']"
   ]
  },
  {
   "cell_type": "code",
   "execution_count": null,
   "metadata": {},
   "outputs": [],
   "source": [
    "df_body_q['title_len'] = df_body_q['title'].apply(lambda x : len(x))"
   ]
  },
  {
   "cell_type": "code",
   "execution_count": null,
   "metadata": {},
   "outputs": [],
   "source": [
    "df_date_per_t_len         = df_body_q.groupby(['date','year', 'month', 'day']).mean(['title_len']).reset_index()\n",
    "df_date_per_len_t_min     = df_body_q.groupby(['date','year', 'month', 'day']).min(['title_len']).reset_index()\n",
    "df_date_per_len_t_max     = df_body_q.groupby(['date','year', 'month', 'day']).max(['title_len']).reset_index()\n",
    "df_date_per_len_t_median  = df_body_q.groupby(['date','year', 'month', 'day']).median(['title_len']).reset_index()"
   ]
  },
  {
   "cell_type": "code",
   "execution_count": null,
   "metadata": {},
   "outputs": [],
   "source": [
    "fig, ax = plt.subplots()\n",
    "\n",
    "ax.bar(df_date_per_t_len.date\n",
    "    ,  height = df_date_per_t_len['title_len']\n",
    "    ,  color = 'skyblue'\n",
    "    ,  label = 'mean'\n",
    "    # ,  edgecolor = 'black'\n",
    "      ) # hist type\n",
    "\n",
    "\n",
    "ax.bar(df_date_per_len_t_median.date\n",
    "    ,  height = df_date_per_len_t_median['title_len']\n",
    "    ,  color = 'green'\n",
    "    ,  label = 'median'\n",
    "    # ,  edgecolor = 'black'\n",
    "      ) # hist type\n",
    "\n",
    "\n",
    "ax.set_title(\"Length of Title per Day\", # add title\n",
    "             fontsize = 12.5,\n",
    "             weight = 'bold',\n",
    "             pad = 10,\n",
    "             loc = 'center')\n",
    "ax.set_xlabel(\"Date\", # add x-axis label\n",
    "              fontsize = 12.5)\n",
    "ax.set_ylabel(\"Count\", # add y-axis label\n",
    "              fontsize = 12.5)\n",
    "\n",
    "major_xticks = ['2013-11-30','2014-11-30','2015-11-30','2016-11-30','2017-11-30','2018-11-30','2019-11-30','2020-11-30'\n",
    "                ,'2021-11-30', '2022-11-30', '2023-11-30']\n",
    "ax.set_xticks(major_xticks)\n",
    "\n",
    "ax.axvline(['2022-11-30'], # add vertical line\n",
    "           color = 'red',\n",
    "           linestyle = '--',\n",
    "           linewidth = 1.5)\n",
    "\n",
    "ax.legend( title_fontsize = 10, fontsize = 10,\n",
    "          bbox_to_anchor = (1, 0.55))\n",
    "\n",
    "plt.xticks(rotation=45)\n",
    "plt.show();"
   ]
  },
  {
   "cell_type": "code",
   "execution_count": null,
   "metadata": {},
   "outputs": [],
   "source": []
  },
  {
   "cell_type": "markdown",
   "metadata": {},
   "source": [
    "## 3. Tag"
   ]
  },
  {
   "cell_type": "markdown",
   "metadata": {},
   "source": [
    "### Number of Tag per Day"
   ]
  },
  {
   "cell_type": "code",
   "execution_count": null,
   "metadata": {},
   "outputs": [],
   "source": [
    "df_da_q = df_da[['q_id', 'q_creationdate','q_tags']].drop_duplicates()"
   ]
  },
  {
   "cell_type": "code",
   "execution_count": null,
   "metadata": {},
   "outputs": [],
   "source": [
    "df_da_q['year'] = df_da_q['q_creationdate'].dt.year\n",
    "df_da_q['month'] = df_da_q['q_creationdate'].dt.month\n",
    "df_da_q['day'] = df_da_q['q_creationdate'].dt.day\n",
    "df_da_q['date'] = df_da_q['q_creationdate'].dt.date"
   ]
  },
  {
   "cell_type": "code",
   "execution_count": null,
   "metadata": {},
   "outputs": [],
   "source": [
    "df_da_q['q_tags_list'] = df_da_q['q_tags'].apply(lambda x : x.strip().split(' '))"
   ]
  },
  {
   "cell_type": "code",
   "execution_count": null,
   "metadata": {},
   "outputs": [],
   "source": [
    "print(df_da_q[['q_id']].shape)\n",
    "print(df_da_q[['q_id']].drop_duplicates().shape)"
   ]
  },
  {
   "cell_type": "code",
   "execution_count": null,
   "metadata": {},
   "outputs": [],
   "source": [
    "df_da_q = df_da_q.reset_index(drop=True)"
   ]
  },
  {
   "cell_type": "code",
   "execution_count": null,
   "metadata": {},
   "outputs": [],
   "source": [
    "df_da_q_ex = df_da_q[['q_id', 'q_tags_list']].apply(pd.Series.explode)"
   ]
  },
  {
   "cell_type": "code",
   "execution_count": null,
   "metadata": {},
   "outputs": [],
   "source": [
    "df_da_q_ex['q_tags_list'].value_counts().head(20)"
   ]
  },
  {
   "cell_type": "code",
   "execution_count": null,
   "metadata": {},
   "outputs": [],
   "source": [
    "df_da_q_ex"
   ]
  },
  {
   "cell_type": "code",
   "execution_count": null,
   "metadata": {},
   "outputs": [],
   "source": [
    "df_da_q['q_tagslen'] = df_da_q['q_tags'].apply(lambda x : len(x.strip().split(' ')))"
   ]
  },
  {
   "cell_type": "code",
   "execution_count": null,
   "metadata": {},
   "outputs": [],
   "source": [
    "df_da_q_year = pd.merge(df_da_q[['q_id', 'year']], df_da_q_ex, on = 'q_id')"
   ]
  },
  {
   "cell_type": "code",
   "execution_count": null,
   "metadata": {},
   "outputs": [],
   "source": [
    "df_da_q_year = df_da_q_year.groupby(['year','q_tags_list']).count()['q_id'].reset_index()\n",
    "#  df_da.sort_values(by = ['date', 'q_id','qna_diff'], ascending=True).groupby(['date', 'q_id']).head(1) > 확인필요 "
   ]
  },
  {
   "cell_type": "code",
   "execution_count": null,
   "metadata": {},
   "outputs": [],
   "source": [
    "df_da_q_year = df_da_q_year.sort_values(by = ['year', 'q_id'], ascending = False).groupby(['year']).head(10)"
   ]
  },
  {
   "cell_type": "code",
   "execution_count": null,
   "metadata": {},
   "outputs": [],
   "source": [
    "df_da_q_year"
   ]
  },
  {
   "cell_type": "code",
   "execution_count": null,
   "metadata": {},
   "outputs": [],
   "source": [
    "### create a figure with multiple subplots\n",
    "\n",
    "\n",
    "sharey = False ## 또는 sharey=False\n",
    "sharex = False ## 또는 sharex=False\n",
    "\n",
    "fig, axs = plt.subplots(2, 5, figsize = (20, 10), sharey=sharey, sharex=sharex)\n",
    "\n",
    "for x in range(0, 2):\n",
    "    for y in range(0,5):\n",
    "        standard_year = 2014\n",
    "        loop_year = standard_year + (x*5 + y*1)\n",
    "        axs[x][y].bar( df_da_q_year[df_da_q_year['year'] ==loop_year].q_tags_list\n",
    "                    ,  df_da_q_year[df_da_q_year['year'] ==loop_year].q_id\n",
    "                    ,  color = 'skyblue'\n",
    "                ) # hist type\n",
    "        axs[x][y].set_title(str(loop_year), # add title\n",
    "             pad = 10,\n",
    "             loc = 'center')\n",
    "        axs[x][y].tick_params(axis='x', rotation=45)\n",
    "\n",
    "\n",
    " \n",
    "plt.suptitle(\"Top 10 Tags of Questions over 10 years\")      \n",
    "plt.tight_layout()    \n",
    "plt.show();"
   ]
  },
  {
   "cell_type": "code",
   "execution_count": null,
   "metadata": {},
   "outputs": [],
   "source": [
    "df_da_q_per_len         = df_da_q.groupby(['date','year', 'month', 'day']).mean(['q_tagslen']).reset_index()\n",
    "df_da_q_per_len_min     = df_da_q.groupby(['date','year', 'month', 'day']).min(['q_tagslen']).reset_index()\n",
    "df_da_q_per_len_max     = df_da_q.groupby(['date','year', 'month', 'day']).max(['q_tagslen']).reset_index()\n",
    "df_da_q_per_len_median  = df_da_q.groupby(['date','year', 'month', 'day']).median(['q_tagslen']).reset_index()\n"
   ]
  },
  {
   "cell_type": "code",
   "execution_count": null,
   "metadata": {},
   "outputs": [],
   "source": [
    "df_da_q_per_len"
   ]
  },
  {
   "cell_type": "code",
   "execution_count": null,
   "metadata": {},
   "outputs": [],
   "source": [
    "fig, ax = plt.subplots()\n",
    "\n",
    "ax.bar(df_da_q_per_len_median.date\n",
    "    ,  height = df_da_q_per_len_median['q_tagslen']\n",
    "    ,  color = 'green'\n",
    "    ,  label = 'median'\n",
    "    # ,  edgecolor = 'black'\n",
    "      ) # hist type\n",
    "\n",
    "\n",
    "ax.bar(df_da_q_per_len.date\n",
    "    ,  height = df_da_q_per_len['q_tagslen']\n",
    "    ,  color = 'skyblue'\n",
    "    ,  label = 'mean'\n",
    "    # ,  edgecolor = 'black'\n",
    "      ) # hist type\n",
    "\n",
    "\n",
    "\n",
    "ax.set_title(\"Number of tag per Day\", # add title\n",
    "             fontsize = 12.5,\n",
    "             weight = 'bold',\n",
    "             pad = 10,\n",
    "             loc = 'center')\n",
    "ax.set_xlabel(\"Date\", # add x-axis label\n",
    "              fontsize = 12.5)\n",
    "ax.set_ylabel(\"Count\", # add y-axis label\n",
    "              fontsize = 12.5)\n",
    "\n",
    "major_xticks = ['2013-11-30','2014-11-30','2015-11-30','2016-11-30','2017-11-30','2018-11-30','2019-11-30','2020-11-30'\n",
    "                ,'2021-11-30', '2022-11-30', '2023-11-30']\n",
    "ax.set_xticks(major_xticks)\n",
    "\n",
    "# ax.axvline('2022-11-30', # add vertical line\n",
    "#            color = 'red',\n",
    "#            linestyle = '--',\n",
    "#            linewidth = 1.5)\n",
    "\n",
    "ax.legend( title_fontsize = 10, fontsize = 10,\n",
    "          bbox_to_anchor = (1, 0.55))\n",
    "\n",
    "plt.xticks(rotation=45)\n",
    "plt.show();"
   ]
  },
  {
   "cell_type": "code",
   "execution_count": null,
   "metadata": {},
   "outputs": [],
   "source": [
    "df_da_q_per_len_median"
   ]
  },
  {
   "cell_type": "code",
   "execution_count": null,
   "metadata": {},
   "outputs": [],
   "source": [
    "df_user['year'] = df_user['creationdate'].dt.year\n",
    "df_user['month'] = df_user['creationdate'].dt.month\n",
    "df_user['day'] = df_user['creationdate'].dt.day\n",
    "df_user['date'] = df_user['creationdate'].dt.date\n"
   ]
  },
  {
   "cell_type": "code",
   "execution_count": null,
   "metadata": {},
   "outputs": [],
   "source": [
    "df_user.groupby(['date','year', 'month', 'day']).count()[['id']].reset_index()"
   ]
  },
  {
   "cell_type": "code",
   "execution_count": null,
   "metadata": {},
   "outputs": [],
   "source": [
    "df_user_per_date         = df_user.groupby(['date','year', 'month', 'day']).count()[['id']].reset_index()"
   ]
  },
  {
   "cell_type": "code",
   "execution_count": null,
   "metadata": {},
   "outputs": [],
   "source": [
    "df_user_per_date"
   ]
  },
  {
   "cell_type": "code",
   "execution_count": null,
   "metadata": {},
   "outputs": [],
   "source": [
    "fig, ax = plt.subplots()\n",
    "\n",
    "ax.bar(df_user_per_date.date\n",
    "    ,  height = df_user_per_date['id']\n",
    "    ,  color = 'skyblue'\n",
    "    ,  label = 'mean'\n",
    "    # ,  edgecolor = 'black'\n",
    "      ) # hist type\n",
    "\n",
    "ax.set_title(\"Sign up Users per Day\", # add title\n",
    "             fontsize = 12.5,\n",
    "             weight = 'bold',\n",
    "             pad = 10,\n",
    "             loc = 'center')\n",
    "ax.set_xlabel(\"Date\", # add x-axis label\n",
    "              fontsize = 12.5)\n",
    "ax.set_ylabel(\"Count\", # add y-axis label\n",
    "              fontsize = 12.5)\n",
    "\n",
    "major_xticks = ['2013-11-30','2014-11-30','2015-11-30','2016-11-30','2017-11-30','2018-11-30','2019-11-30','2020-11-30'\n",
    "                ,'2021-11-30', '2022-11-30', '2023-11-30']\n",
    "ax.set_xticks(major_xticks)\n",
    "\n",
    "ax.axvline(['2022-11-30'], # add vertical line\n",
    "           color = 'red',\n",
    "           linestyle = '--',\n",
    "           linewidth = 1.5)\n",
    "\n",
    "# ax.legend( title_fontsize = 10, fontsize = 10,\n",
    "#           bbox_to_anchor = (1, 0.55))\n",
    "\n",
    "plt.xticks(rotation=45)\n",
    "plt.show();"
   ]
  },
  {
   "cell_type": "code",
   "execution_count": null,
   "metadata": {},
   "outputs": [],
   "source": [
    "df_user"
   ]
  },
  {
   "cell_type": "code",
   "execution_count": null,
   "metadata": {},
   "outputs": [],
   "source": [
    "df_da_q = df_da[['q_id', 'q_owneruserid']].drop_duplicates()\n",
    "df_da_a = df_da[['a_id', 'a_owneruserid']].drop_duplicates()"
   ]
  },
  {
   "cell_type": "code",
   "execution_count": null,
   "metadata": {},
   "outputs": [],
   "source": [
    "df_da_q_cnt = df_da_q.groupby(['q_owneruserid']).count()[['q_id']]\n",
    "df_da_a_cnt = df_da_a.groupby(['a_owneruserid']).count()[['a_id']]"
   ]
  },
  {
   "cell_type": "code",
   "execution_count": null,
   "metadata": {},
   "outputs": [],
   "source": [
    "df_user_qna = pd.merge(df_user, df_da_q_cnt, left_on = 'id', right_on = 'q_owneruserid', how= 'left')\n",
    "df_user_qna = pd.merge(df_user_qna, df_da_a_cnt, left_on = 'id', right_on = 'a_owneruserid', how= 'left')"
   ]
  },
  {
   "cell_type": "code",
   "execution_count": null,
   "metadata": {},
   "outputs": [],
   "source": [
    "df_user_qna.fillna(0, inplace=True)"
   ]
  },
  {
   "cell_type": "code",
   "execution_count": null,
   "metadata": {},
   "outputs": [],
   "source": [
    "df_user_qna"
   ]
  },
  {
   "cell_type": "code",
   "execution_count": null,
   "metadata": {},
   "outputs": [],
   "source": [
    "fig_scatter_reg, ax = plt.subplots(figsize = (10, 6))\n",
    "\n",
    "ax.scatter(df_user_qna['q_id'], df_user_qna['a_id'], color = 'purple', alpha = 0.6)\n",
    "\n",
    "ax.set_title('Question and Answer')\n",
    "ax.set_xlabel('Question')\n",
    "ax.set_ylabel('Answer')\n",
    "\n",
    "\n",
    "plt.show();"
   ]
  },
  {
   "cell_type": "code",
   "execution_count": null,
   "metadata": {},
   "outputs": [],
   "source": [
    "df_user_qna['gpt_af_yn'] = np.where(df_user_qna['date'] >= datetime.date(2022,11,30), 1, 0)"
   ]
  },
  {
   "cell_type": "code",
   "execution_count": null,
   "metadata": {},
   "outputs": [],
   "source": [
    "df_user_qna"
   ]
  },
  {
   "cell_type": "code",
   "execution_count": null,
   "metadata": {},
   "outputs": [],
   "source": [
    "fig_scatter_reg, ax = plt.subplots(figsize = (10, 6))\n",
    "sns.scatterplot(data = df_user_qna, x = 'q_id', y = 'a_id', hue = 'gpt_af_yn' )\n",
    "\n",
    "ax.set_title('Question and Answer')\n",
    "ax.set_xlabel('Question')\n",
    "ax.set_ylabel('Answer')\n",
    "\n",
    "\n",
    "plt.show();"
   ]
  },
  {
   "cell_type": "code",
   "execution_count": null,
   "metadata": {},
   "outputs": [],
   "source": [
    "fig_scatter_reg, ax = plt.subplots(figsize = (10, 6))\n",
    "sns.scatterplot(data = df_user_qna[df_user_qna['gpt_af_yn'] ==1] , x = 'q_id', y = 'a_id', hue = 'gpt_af_yn' )\n",
    "\n",
    "ax.set_title('Question and Answer')\n",
    "ax.set_xlabel('Question')\n",
    "ax.set_ylabel('Answer')\n",
    "\n",
    "\n",
    "plt.show();"
   ]
  },
  {
   "cell_type": "code",
   "execution_count": null,
   "metadata": {},
   "outputs": [],
   "source": [
    "df_user_qna[df_user_qna['a_id']>70000]"
   ]
  },
  {
   "cell_type": "markdown",
   "metadata": {},
   "source": [
    "아니 혼자 7만건은 좀 너무한거 아닙니까...ㅎㅎㅎㅎㅎ"
   ]
  },
  {
   "cell_type": "code",
   "execution_count": null,
   "metadata": {},
   "outputs": [],
   "source": [
    "df_q_1144035 = df_da.loc[df_da['a_owneruserid'] == 1144035, ['q_id', 'a_creationdate']]"
   ]
  },
  {
   "cell_type": "code",
   "execution_count": null,
   "metadata": {},
   "outputs": [],
   "source": [
    "df_q_1144035 = df_q_1144035[['q_id', 'a_creationdate']].drop_duplicates()"
   ]
  },
  {
   "cell_type": "code",
   "execution_count": null,
   "metadata": {},
   "outputs": [],
   "source": [
    "df_q_1144035['date'] = df_q_1144035['a_creationdate'].dt.date"
   ]
  },
  {
   "cell_type": "code",
   "execution_count": null,
   "metadata": {},
   "outputs": [],
   "source": [
    "df_q_1144035"
   ]
  },
  {
   "cell_type": "code",
   "execution_count": 7,
   "metadata": {},
   "outputs": [
    {
     "ename": "NameError",
     "evalue": "name 'df_q_1144035' is not defined",
     "output_type": "error",
     "traceback": [
      "\u001b[0;31m---------------------------------------------------------------------------\u001b[0m",
      "\u001b[0;31mNameError\u001b[0m                                 Traceback (most recent call last)",
      "Cell \u001b[0;32mIn[7], line 3\u001b[0m\n\u001b[1;32m      1\u001b[0m fig_scatter_reg, ax \u001b[38;5;241m=\u001b[39m plt\u001b[38;5;241m.\u001b[39msubplots(figsize \u001b[38;5;241m=\u001b[39m (\u001b[38;5;241m10\u001b[39m, \u001b[38;5;241m6\u001b[39m))\n\u001b[0;32m----> 3\u001b[0m ax\u001b[38;5;241m.\u001b[39mscatter(\u001b[43mdf_q_1144035\u001b[49m[\u001b[38;5;124m'\u001b[39m\u001b[38;5;124mdate\u001b[39m\u001b[38;5;124m'\u001b[39m], df_q_1144035[\u001b[38;5;124m'\u001b[39m\u001b[38;5;124mq_id\u001b[39m\u001b[38;5;124m'\u001b[39m], color \u001b[38;5;241m=\u001b[39m \u001b[38;5;124m'\u001b[39m\u001b[38;5;124mpurple\u001b[39m\u001b[38;5;124m'\u001b[39m, alpha \u001b[38;5;241m=\u001b[39m \u001b[38;5;241m0.6\u001b[39m)\n\u001b[1;32m      5\u001b[0m ax\u001b[38;5;241m.\u001b[39mset_title(\u001b[38;5;124m'\u001b[39m\u001b[38;5;124mQuestion and Answer\u001b[39m\u001b[38;5;124m'\u001b[39m)\n\u001b[1;32m      6\u001b[0m ax\u001b[38;5;241m.\u001b[39mset_xlabel(\u001b[38;5;124m'\u001b[39m\u001b[38;5;124mQuestion\u001b[39m\u001b[38;5;124m'\u001b[39m)\n",
      "\u001b[0;31mNameError\u001b[0m: name 'df_q_1144035' is not defined"
     ]
    },
    {
     "data": {
      "image/png": "[encoded data removed]",
      "text/plain": [
       "<Figure size 1000x600 with 1 Axes>"
      ]
     },
     "metadata": {},
     "output_type": "display_data"
    }
   ],
   "source": [
    "fig_scatter_reg, ax = plt.subplots(figsize = (10, 6))\n",
    "\n",
    "ax.scatter(df_q_1144035['date'], df_q_1144035['q_id'], color = 'purple', alpha = 0.6)\n",
    "\n",
    "ax.set_title('Question and Answer')\n",
    "ax.set_xlabel('Question')\n",
    "ax.set_ylabel('Answer')\n",
    "\n",
    "\n",
    "plt.show();"
   ]
  },
  {
   "cell_type": "code",
   "execution_count": null,
   "metadata": {},
   "outputs": [],
   "source": [
    "df_q_1144035['date'].max()"
   ]
  },
  {
   "cell_type": "code",
   "execution_count": null,
   "metadata": {},
   "outputs": [],
   "source": [
    "df_q_1144035.groupby('date').count()[['q_id']].sort_values(by = ['date'])"
   ]
  },
  {
   "cell_type": "code",
   "execution_count": null,
   "metadata": {},
   "outputs": [],
   "source": []
  },
  {
   "cell_type": "code",
   "execution_count": 10,
   "metadata": {},
   "outputs": [
    {
     "data": {
      "image/png": "[encoded data removed]",
      "text/plain": [
       "<Figure size 640x480 with 1 Axes>"
      ]
     },
     "metadata": {},
     "output_type": "display_data"
    }
   ],
   "source": [
    "fig, ax = plt.subplots()\n",
    "\n",
    "\n",
    "ax.plot(df_year_from_signup_qna.loc[df_year_from_signup_qna['yeardiff']>0, 'cnt'].values, # specify data\n",
    "        color = 'red',\n",
    "        label = 'Question and Answer'\n",
    ") \n",
    "\n",
    "\n",
    "ax.plot(df_year_from_signup_a.loc[df_year_from_signup_a['yeardiff']>0, 'cnt'].values, # specify data\n",
    "        color = 'green',\n",
    "        label = 'Answer only'\n",
    ") \n",
    "\n",
    "ax.plot(df_year_from_signup_q.loc[df_year_from_signup_q['yeardiff']>0, 'cnt'].values, # specify data\n",
    "        color = 'lightgreen',\n",
    "        label = 'Question only'\n",
    ") \n",
    "\n",
    "# \n",
    "\n",
    "ax.set_title('Number of Posts after year from signup', fontsize = 15) # title\n",
    "ax.set_xlabel('year', fontsize = 12.5) # x-axis label\n",
    "ax.set_ylabel('Number of Posts', fontsize = 12.5) # y-axis label\n",
    "\n",
    "ax.legend(loc = 'upper right', fontsize = 10) # add legend\n",
    "\n",
    "ax.grid(True, linestyle = ':', linewidth = 0.5) # grid\n",
    "\n",
    "plt.show();"
   ]
  },
  {
   "cell_type": "code",
   "execution_count": 11,
   "metadata": {},
   "outputs": [
    {
     "data": {
      "text/html": [
       "<div>\n",
       "<style scoped>\n",
       "    .dataframe tbody tr th:only-of-type {\n",
       "        vertical-align: middle;\n",
       "    }\n",
       "\n",
       "    .dataframe tbody tr th {\n",
       "        vertical-align: top;\n",
       "    }\n",
       "\n",
       "    .dataframe thead th {\n",
       "        text-align: right;\n",
       "    }\n",
       "</style>\n",
       "<table border=\"1\" class=\"dataframe\">\n",
       "  <thead>\n",
       "    <tr style=\"text-align: right;\">\n",
       "      <th></th>\n",
       "      <th>yeardiff</th>\n",
       "      <th>mean_cnt</th>\n",
       "      <th>med_cnt</th>\n",
       "    </tr>\n",
       "  </thead>\n",
       "  <tbody>\n",
       "    <tr>\n",
       "      <th>0</th>\n",
       "      <td>0.0</td>\n",
       "      <td>1.3047028659561701</td>\n",
       "      <td>1.00000000000000000000</td>\n",
       "    </tr>\n",
       "    <tr>\n",
       "      <th>1</th>\n",
       "      <td>3.0</td>\n",
       "      <td>7.3689943065111956</td>\n",
       "      <td>2.0000000000000000</td>\n",
       "    </tr>\n",
       "    <tr>\n",
       "      <th>2</th>\n",
       "      <td>7.0</td>\n",
       "      <td>5.9069062515155924</td>\n",
       "      <td>1.00000000000000000000</td>\n",
       "    </tr>\n",
       "    <tr>\n",
       "      <th>3</th>\n",
       "      <td>16.0</td>\n",
       "      <td>5.6255319148936170</td>\n",
       "      <td>1.00000000000000000000</td>\n",
       "    </tr>\n",
       "    <tr>\n",
       "      <th>4</th>\n",
       "      <td>8.0</td>\n",
       "      <td>5.8324806624854869</td>\n",
       "      <td>1.00000000000000000000</td>\n",
       "    </tr>\n",
       "    <tr>\n",
       "      <th>5</th>\n",
       "      <td>12.0</td>\n",
       "      <td>5.9828585224529213</td>\n",
       "      <td>1.00000000000000000000</td>\n",
       "    </tr>\n",
       "    <tr>\n",
       "      <th>6</th>\n",
       "      <td>5.0</td>\n",
       "      <td>6.4731326369728025</td>\n",
       "      <td>1.00000000000000000000</td>\n",
       "    </tr>\n",
       "    <tr>\n",
       "      <th>7</th>\n",
       "      <td>14.0</td>\n",
       "      <td>7.6241604563437299</td>\n",
       "      <td>1.00000000000000000000</td>\n",
       "    </tr>\n",
       "    <tr>\n",
       "      <th>8</th>\n",
       "      <td>10.0</td>\n",
       "      <td>5.6546481363256887</td>\n",
       "      <td>1.00000000000000000000</td>\n",
       "    </tr>\n",
       "    <tr>\n",
       "      <th>9</th>\n",
       "      <td>11.0</td>\n",
       "      <td>5.5347968849886674</td>\n",
       "      <td>1.00000000000000000000</td>\n",
       "    </tr>\n",
       "    <tr>\n",
       "      <th>10</th>\n",
       "      <td>15.0</td>\n",
       "      <td>8.1127933383800151</td>\n",
       "      <td>1.00000000000000000000</td>\n",
       "    </tr>\n",
       "    <tr>\n",
       "      <th>11</th>\n",
       "      <td>9.0</td>\n",
       "      <td>5.7418442739414606</td>\n",
       "      <td>1.00000000000000000000</td>\n",
       "    </tr>\n",
       "    <tr>\n",
       "      <th>12</th>\n",
       "      <td>4.0</td>\n",
       "      <td>6.8941619615152185</td>\n",
       "      <td>2.0000000000000000</td>\n",
       "    </tr>\n",
       "    <tr>\n",
       "      <th>13</th>\n",
       "      <td>1.0</td>\n",
       "      <td>6.9200686388849982</td>\n",
       "      <td>1.00000000000000000000</td>\n",
       "    </tr>\n",
       "    <tr>\n",
       "      <th>14</th>\n",
       "      <td>2.0</td>\n",
       "      <td>7.6728078535908393</td>\n",
       "      <td>2.0000000000000000</td>\n",
       "    </tr>\n",
       "    <tr>\n",
       "      <th>15</th>\n",
       "      <td>6.0</td>\n",
       "      <td>6.1445397857485477</td>\n",
       "      <td>1.00000000000000000000</td>\n",
       "    </tr>\n",
       "    <tr>\n",
       "      <th>16</th>\n",
       "      <td>13.0</td>\n",
       "      <td>6.8438234641827456</td>\n",
       "      <td>1.00000000000000000000</td>\n",
       "    </tr>\n",
       "  </tbody>\n",
       "</table>\n",
       "</div>"
      ],
      "text/plain": [
       "    yeardiff            mean_cnt                 med_cnt\n",
       "0        0.0  1.3047028659561701  1.00000000000000000000\n",
       "1        3.0  7.3689943065111956      2.0000000000000000\n",
       "2        7.0  5.9069062515155924  1.00000000000000000000\n",
       "3       16.0  5.6255319148936170  1.00000000000000000000\n",
       "4        8.0  5.8324806624854869  1.00000000000000000000\n",
       "5       12.0  5.9828585224529213  1.00000000000000000000\n",
       "6        5.0  6.4731326369728025  1.00000000000000000000\n",
       "7       14.0  7.6241604563437299  1.00000000000000000000\n",
       "8       10.0  5.6546481363256887  1.00000000000000000000\n",
       "9       11.0  5.5347968849886674  1.00000000000000000000\n",
       "10      15.0  8.1127933383800151  1.00000000000000000000\n",
       "11       9.0  5.7418442739414606  1.00000000000000000000\n",
       "12       4.0  6.8941619615152185      2.0000000000000000\n",
       "13       1.0  6.9200686388849982  1.00000000000000000000\n",
       "14       2.0  7.6728078535908393      2.0000000000000000\n",
       "15       6.0  6.1445397857485477  1.00000000000000000000\n",
       "16      13.0  6.8438234641827456  1.00000000000000000000"
      ]
     },
     "execution_count": 11,
     "metadata": {},
     "output_type": "execute_result"
    }
   ],
   "source": [
    "df_year_from_signup_a_mm"
   ]
  },
  {
   "cell_type": "code",
   "execution_count": 13,
   "metadata": {},
   "outputs": [
    {
     "data": {
      "image/png": "[encoded data removed]",
      "text/plain": [
       "<Figure size 640x480 with 1 Axes>"
      ]
     },
     "metadata": {},
     "output_type": "display_data"
    }
   ],
   "source": [
    "fig, ax = plt.subplots()\n",
    "\n",
    "\n",
    "ax.plot(df_year_from_signup_qna_mm['mean_cnt'].values, # specify data\n",
    "        color = 'red',\n",
    "        label = 'Question and Answer'\n",
    ") \n",
    "\n",
    "\n",
    "ax.plot(df_year_from_signup_q_mm['mean_cnt'].values, # specify data\n",
    "        color = 'green',\n",
    "        label = 'Answer only'\n",
    ") \n",
    "\n",
    "ax.plot(df_year_from_signup_a_mm['mean_cnt'].values, # specify data\n",
    "        color = 'lightgreen',\n",
    "        label = 'Question only'\n",
    ") \n",
    "\n",
    "# \n",
    "\n",
    "ax.set_title('Average Number of Posts after year from signup', fontsize = 15) # title\n",
    "ax.set_xlabel('year', fontsize = 12.5) # x-axis label\n",
    "ax.set_ylabel('Number of Posts', fontsize = 12.5) # y-axis label\n",
    "\n",
    "ax.legend(loc = 'upper right', fontsize = 10) # add legend\n",
    "\n",
    "ax.grid(True, linestyle = ':', linewidth = 0.5) # grid\n",
    "\n",
    "plt.show();"
   ]
  },
  {
   "cell_type": "code",
   "execution_count": 19,
   "metadata": {},
   "outputs": [
    {
     "data": {
      "image/png": "[encoded data removed]",
      "text/plain": [
       "<Figure size 640x480 with 1 Axes>"
      ]
     },
     "metadata": {},
     "output_type": "display_data"
    }
   ],
   "source": [
    "fig, ax = plt.subplots()\n",
    "\n",
    "\n",
    "ax.plot(df_year_from_signup_qna_mm['med_cnt'].values, # specify data\n",
    "        color = 'red',\n",
    "        label = 'Question and Answer'\n",
    ") \n",
    "\n",
    "\n",
    "ax.plot(df_year_from_signup_q_mm['med_cnt'].values, # specify data\n",
    "        color = 'green',\n",
    "        label = 'Answer only'\n",
    ") \n",
    "\n",
    "# ax.plot(df_year_from_signup_a_mm['med_cnt'].values, # specify data\n",
    "#         color = 'lightgreen',\n",
    "#         label = 'Question only'\n",
    "# ) \n",
    "\n",
    "# \n",
    "\n",
    "ax.set_title('Median Number of Posts after year from signup', fontsize = 15) # title\n",
    "ax.set_xlabel('year', fontsize = 12.5) # x-axis label\n",
    "ax.set_ylabel('Number of Posts', fontsize = 12.5) # y-axis label\n",
    "\n",
    "ax.legend(loc = 'upper right', fontsize = 10) # add legend\n",
    "\n",
    "ax.grid(True, linestyle = ':', linewidth = 0.5) # grid\n",
    "\n",
    "plt.show();"
   ]
  },
  {
   "cell_type": "code",
   "execution_count": null,
   "metadata": {},
   "outputs": [],
   "source": [
    "fig, ax = plt.subplots()\n",
    "\n",
    "\n",
    "ax.plot(df_year_from_signup_qna_mm['mean_cnt'].values, # specify data\n",
    "        color = 'green',\n",
    "        label = 'Mean'\n",
    ") \n",
    "\n",
    "ax.plot(df_year_from_signup_qna_mm['med_cnt'].values, # specify data\n",
    "        color = 'lightgreen',\n",
    "        label = 'Median'\n",
    ") \n",
    "\n",
    "\n",
    "\n",
    "ax.set_title('Comparing Median/Average Number of Questions after year from signup', fontsize = 15) # title\n",
    "ax.set_xlabel('year', fontsize = 12.5) # x-axis label\n",
    "ax.set_ylabel('Number of Posts', fontsize = 12.5) # y-axis label\n",
    "\n",
    "ax.legend(loc = 'upper right', fontsize = 10) # add legend\n",
    "\n",
    "ax.grid(True, linestyle = ':', linewidth = 0.5) # grid\n",
    "\n",
    "plt.show();"
   ]
  },
  {
   "cell_type": "code",
   "execution_count": 23,
   "metadata": {},
   "outputs": [
    {
     "data": {
      "image/png": "[encoded data removed]",
      "text/plain": [
       "<Figure size 640x480 with 1 Axes>"
      ]
     },
     "metadata": {},
     "output_type": "display_data"
    }
   ],
   "source": [
    "fig, ax = plt.subplots()\n",
    "\n",
    "\n",
    "ax.plot(df_year_from_signup_q_mm['mean_cnt'].values, # specify data\n",
    "        color = 'green',\n",
    "        label = 'Mean'\n",
    ") \n",
    "\n",
    "ax.plot(df_year_from_signup_q_mm['med_cnt'].values, # specify data\n",
    "        color = 'lightgreen',\n",
    "        label = 'Median'\n",
    ") \n",
    "\n",
    "\n",
    "\n",
    "ax.set_title('Comparing Median/Average Number of Questions after year from signup', fontsize = 15) # title\n",
    "ax.set_xlabel('year', fontsize = 12.5) # x-axis label\n",
    "ax.set_ylabel('Number of Posts', fontsize = 12.5) # y-axis label\n",
    "\n",
    "ax.legend(loc = 'upper right', fontsize = 10) # add legend\n",
    "\n",
    "ax.grid(True, linestyle = ':', linewidth = 0.5) # grid\n",
    "\n",
    "plt.show();"
   ]
  },
  {
   "cell_type": "code",
   "execution_count": 24,
   "metadata": {},
   "outputs": [
    {
     "data": {
      "image/png": "[encoded data removed]",
      "text/plain": [
       "<Figure size 640x480 with 1 Axes>"
      ]
     },
     "metadata": {},
     "output_type": "display_data"
    }
   ],
   "source": [
    "fig, ax = plt.subplots()\n",
    "\n",
    "\n",
    "ax.plot(df_year_from_signup_a_mm['mean_cnt'].values, # specify data\n",
    "        color = 'green',\n",
    "        label = 'Mean'\n",
    ") \n",
    "\n",
    "ax.plot(df_year_from_signup_a_mm['med_cnt'].values, # specify data\n",
    "        color = 'lightgreen',\n",
    "        label = 'Median'\n",
    ") \n",
    "\n",
    "\n",
    "\n",
    "ax.set_title('Comparing Median/Average Number of Answers after year from signup', fontsize = 15) # title\n",
    "ax.set_xlabel('year', fontsize = 12.5) # x-axis label\n",
    "ax.set_ylabel('Number of Posts', fontsize = 12.5) # y-axis label\n",
    "\n",
    "ax.legend(loc = 'upper right', fontsize = 10) # add legend\n",
    "\n",
    "ax.grid(True, linestyle = ':', linewidth = 0.5) # grid\n",
    "\n",
    "plt.show();"
   ]
  },
  {
   "cell_type": "code",
   "execution_count": null,
   "metadata": {},
   "outputs": [],
   "source": []
  }
 ],
 "metadata": {
  "kernelspec": {
   "display_name": "Python 3 (ipykernel)",
   "language": "python",
   "name": "python3"
  },
  "language_info": {
   "codemirror_mode": {
    "name": "ipython",
    "version": 3
   },
   "file_extension": ".py",
   "mimetype": "text/x-python",
   "name": "python",
   "nbconvert_exporter": "python",
   "pygments_lexer": "ipython3",
   "version": "3.9.6"
  }
 },
 "nbformat": 4,
 "nbformat_minor": 4
}
