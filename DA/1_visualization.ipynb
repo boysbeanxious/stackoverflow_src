{
 "cells": [
  {
   "cell_type": "code",
   "execution_count": 1,
   "metadata": {},
   "outputs": [],
   "source": [
    "import pandas as pd\n",
    "import seaborn as sns\n",
    "import matplotlib.pyplot as plt\n",
    "import seaborn as sns\n",
    "import numpy as np\n",
    "import pickle\n",
    "import re\n",
    "from collections import deque\n",
    "import datetime"
   ]
  },
  {
   "cell_type": "markdown",
   "metadata": {},
   "source": [
    "## 1. 파일호출"
   ]
  },
  {
   "cell_type": "code",
   "execution_count": 2,
   "metadata": {},
   "outputs": [],
   "source": [
    "# 파일 불러오기\n",
    "with open('../../data/df_da.pkl', 'rb') as f:\n",
    "    df_da = pickle.load(f)\n"
   ]
  },
  {
   "cell_type": "code",
   "execution_count": 3,
   "metadata": {},
   "outputs": [],
   "source": [
    "# 파일 불러오기\n",
    "with open('../../data/df_body.pkl', 'rb') as f:\n",
    "    df_body = pickle.load(f)\n"
   ]
  },
  {
   "cell_type": "code",
   "execution_count": 4,
   "metadata": {},
   "outputs": [],
   "source": [
    "# 파일 불러오기\n",
    "with open('../../data/df_user.pkl', 'rb') as f:\n",
    "    df_user = pickle.load(f)\n",
    "\n"
   ]
  },
  {
   "cell_type": "code",
   "execution_count": 5,
   "metadata": {},
   "outputs": [],
   "source": [
    "# 파일 불러오기\n",
    "with open('../../data/df_answer_cnt.pkl', 'rb') as f:\n",
    "    df_answer_cnt = pickle.load(f)"
   ]
  },
  {
   "cell_type": "code",
   "execution_count": 6,
   "metadata": {},
   "outputs": [],
   "source": [
    "df_da['date']   = df_da['q_creationdate'].dt.date\n",
    "df_da['year']   = df_da['q_creationdate'].dt.year\n",
    "df_da['month']  = df_da['q_creationdate'].dt.month\n",
    "df_da['day']    = df_da['q_creationdate'].dt.day"
   ]
  },
  {
   "cell_type": "code",
   "execution_count": 7,
   "metadata": {},
   "outputs": [],
   "source": [
    "df_body['date'] = df_body['creationdate'].dt.date\n",
    "df_body['year'] = df_body['creationdate'].dt.year\n",
    "df_body['month'] = df_body['creationdate'].dt.month\n",
    "df_body['day'] = df_body['creationdate'].dt.day"
   ]
  },
  {
   "cell_type": "code",
   "execution_count": 8,
   "metadata": {},
   "outputs": [],
   "source": [
    "df_da['date']   = df_da['q_creationdate'].dt.date\n",
    "df_da['year']   = df_da['q_creationdate'].dt.year\n",
    "df_da['month']  = df_da['q_creationdate'].dt.month\n",
    "df_da['day']    = df_da['q_creationdate'].dt.day"
   ]
  },
  {
   "cell_type": "markdown",
   "metadata": {},
   "source": [
    "## 2. POST"
   ]
  },
  {
   "cell_type": "markdown",
   "metadata": {},
   "source": [
    "### Number of Questions and Answers over time"
   ]
  },
  {
   "cell_type": "code",
   "execution_count": null,
   "metadata": {},
   "outputs": [],
   "source": [
    "# Q&A 만 추출 \n",
    "df_body = df_body[df_body['posttypeid'].isin(['1','2'])]"
   ]
  },
  {
   "cell_type": "code",
   "execution_count": null,
   "metadata": {},
   "outputs": [],
   "source": [
    "df_qna_num = df_body.groupby(['date', 'posttypeid']).count()[['id']].reset_index()"
   ]
  },
  {
   "cell_type": "code",
   "execution_count": null,
   "metadata": {},
   "outputs": [],
   "source": [
    "df_qna_num[df_qna_num['posttypeid'] =='1'].date"
   ]
  },
  {
   "cell_type": "code",
   "execution_count": null,
   "metadata": {},
   "outputs": [],
   "source": [
    "sharey = True ## 또는 sharey=False\n",
    "sharex = True ## 또는 sharex=False\n",
    "\n",
    "fig, axs = plt.subplots(1, 2, figsize = (20, 5), sharey=sharey, sharex=sharex)\n",
    "# plt.xticks(rotation=45)\n",
    "major_xticks = ['2013-11-30','2014-11-30','2015-11-30','2016-11-30','2017-11-30','2018-11-30','2019-11-30','2020-11-30'\n",
    "                ,'2021-11-30', '2022-11-30', '2023-11-30']\n",
    "# yticks = np.arange(200, 2000, 400)\n",
    "axs[0].bar(df_qna_num[df_qna_num['posttypeid'] =='1'].date\n",
    "        ,  df_qna_num[df_qna_num['posttypeid'] =='1'].id\n",
    "        ,  color = 'skyblue'\n",
    "        # ,  edgecolor = 'black'\n",
    "      ) # hist type\n",
    "\n",
    "axs[0].set_title('Number of Questions over time', fontsize = 15)\n",
    "axs[0].set_xlabel('Date', fontsize = 15)\n",
    "axs[0].set_ylabel('# of Q', fontsize = 15)\n",
    "axs[0].set_xticks(major_xticks)\n",
    "# axs[0].set_yticks(yticks)\n",
    "axs[0].axvline([major_xticks[-2]], # add vertical line\n",
    "           color = 'blue',\n",
    "           linestyle = '--',\n",
    "           linewidth = 1.5)\n",
    "axs[0].tick_params(axis='x', rotation=45)\n",
    "# axs[0].yticks(yt)\n",
    "\n",
    "axs[1].bar(df_qna_num[df_qna_num['posttypeid'] =='2'].date\n",
    "        ,  df_qna_num[df_qna_num['posttypeid'] =='2'].id\n",
    "        ,  color = 'lightgreen'\n",
    "        # ,  edgecolor = 'black'\n",
    "      ) # hist type\n",
    "\n",
    "axs[1].set_title('Number of Answers over time', fontsize = 15)\n",
    "axs[1].set_xlabel('Date', fontsize = 15)\n",
    "axs[1].set_ylabel('# of A', fontsize = 15)\n",
    "axs[1].set_xticks(major_xticks)\n",
    "# axs[1].set_yticks(yticks)\n",
    "axs[1].axvline([major_xticks[-2]], # add vertical line\n",
    "           color = 'blue',\n",
    "           linestyle = '--',\n",
    "           linewidth = 1.5)\n",
    "axs[1].tick_params(axis='x', rotation=45)\n",
    "\n",
    "plt.show();\n"
   ]
  },
  {
   "cell_type": "code",
   "execution_count": null,
   "metadata": {},
   "outputs": [],
   "source": [
    "df_body.groupby(['posttypeid']).count()[['id']]"
   ]
  },
  {
   "cell_type": "code",
   "execution_count": null,
   "metadata": {},
   "outputs": [],
   "source": [
    "df_body['body_len'] = df_body['body'].apply(lambda x : len(x))"
   ]
  },
  {
   "cell_type": "code",
   "execution_count": null,
   "metadata": {},
   "outputs": [],
   "source": [
    "df_body.groupby(['year', 'month', 'day', 'posttypeid']).mean(['body_len'])"
   ]
  },
  {
   "cell_type": "code",
   "execution_count": null,
   "metadata": {},
   "outputs": [],
   "source": [
    "df_bodycnt = df_body.groupby(['date', 'posttypeid']).count()[['id']].reset_index()"
   ]
  },
  {
   "cell_type": "code",
   "execution_count": null,
   "metadata": {},
   "outputs": [],
   "source": [
    "df_bodycnt = pd.pivot_table(df_bodycnt, index = 'date', columns = 'posttypeid', values = 'id').reset_index()"
   ]
  },
  {
   "cell_type": "code",
   "execution_count": null,
   "metadata": {},
   "outputs": [],
   "source": [
    "df_bodycnt['q_over_a'] = df_bodycnt['2'].div(df_bodycnt['1'])"
   ]
  },
  {
   "cell_type": "markdown",
   "metadata": {},
   "source": [
    "### Question over Answer"
   ]
  },
  {
   "cell_type": "code",
   "execution_count": null,
   "metadata": {},
   "outputs": [],
   "source": [
    "fig, ax = plt.subplots()\n",
    "\n",
    "\n",
    "ax.bar(df_bodycnt.date\n",
    "    ,  height = df_bodycnt['q_over_a']\n",
    "    ,  color = 'skyblue'\n",
    "    ,  label = 'Mean'\n",
    "    # ,  edgecolor = 'black'\n",
    "      ) # hist type\n",
    "\n",
    "ax.set_title(\"Question over Answer\", # add title\n",
    "             fontsize = 12.5,\n",
    "             weight = 'bold',\n",
    "             pad = 10,\n",
    "             loc = 'center')\n",
    "ax.set_xlabel(\"Date\", # add x-axis label\n",
    "              fontsize = 12.5)\n",
    "ax.set_ylabel(\"A/Q\", # add y-axis label\n",
    "              fontsize = 12.5)\n",
    "\n",
    "major_xticks = ['2013-11-30','2014-11-30','2015-11-30','2016-11-30','2017-11-30','2018-11-30','2019-11-30','2020-11-30'\n",
    "                ,'2021-11-30', '2022-11-30', '2023-11-30']\n",
    "ax.set_xticks(major_xticks)\n",
    "\n",
    "ax.axvline(['2022-11-30'], # add vertical line\n",
    "           color = 'red',\n",
    "           linestyle = '--',\n",
    "           linewidth = 1.5)\n",
    "plt.xticks(rotation=45)\n",
    "plt.show();\n",
    "\n"
   ]
  },
  {
   "cell_type": "code",
   "execution_count": null,
   "metadata": {},
   "outputs": [],
   "source": [
    "df_bodyanswerdyn = df_body[df_body['posttypeid'] =='1'].groupby(['date', 'answered_yn']).count()[['id']].reset_index()"
   ]
  },
  {
   "cell_type": "code",
   "execution_count": null,
   "metadata": {},
   "outputs": [],
   "source": [
    "df_bodyanswerdyn = pd.pivot_table(df_bodyanswerdyn, index = 'date', columns = 'answered_yn', values = 'id').reset_index()"
   ]
  },
  {
   "cell_type": "code",
   "execution_count": null,
   "metadata": {},
   "outputs": [],
   "source": [
    "df_bodyanswerdyn['rate'] = df_bodyanswerdyn[1] / (df_bodyanswerdyn[1] + df_bodyanswerdyn[0])"
   ]
  },
  {
   "cell_type": "markdown",
   "metadata": {},
   "source": [
    "### Ratio of Answered Question"
   ]
  },
  {
   "cell_type": "code",
   "execution_count": null,
   "metadata": {},
   "outputs": [],
   "source": [
    "fig, ax = plt.subplots()\n",
    "\n",
    "\n",
    "ax.bar(df_bodyanswerdyn.date\n",
    "    ,  height = df_bodyanswerdyn['rate']\n",
    "    ,  color = 'skyblue'\n",
    "    ,  label = 'Mean'\n",
    "    # ,  edgecolor = 'black'\n",
    "      ) # hist type\n",
    "\n",
    "ax.set_title(\"Ratio of Answered Question\", # add title\n",
    "             fontsize = 12.5,\n",
    "             weight = 'bold',\n",
    "             pad = 10,\n",
    "             loc = 'center')\n",
    "ax.set_xlabel(\"Date\", # add x-axis label\n",
    "              fontsize = 12.5)\n",
    "ax.set_ylabel(\"Ratio\", # add y-axis label\n",
    "              fontsize = 12.5)\n",
    "\n",
    "major_xticks = ['2013-11-30','2014-11-30','2015-11-30','2016-11-30','2017-11-30','2018-11-30','2019-11-30','2020-11-30'\n",
    "                ,'2021-11-30', '2022-11-30', '2023-11-30']\n",
    "ax.set_xticks(major_xticks)\n",
    "\n",
    "ax.axvline(['2022-11-30'], # add vertical line\n",
    "           color = 'red',\n",
    "           linestyle = '--',\n",
    "           linewidth = 1.5)\n",
    "plt.xticks(rotation=45)\n",
    "plt.show();"
   ]
  },
  {
   "cell_type": "markdown",
   "metadata": {},
   "source": [
    "### Answer Count line plot"
   ]
  },
  {
   "cell_type": "code",
   "execution_count": 9,
   "metadata": {},
   "outputs": [
    {
     "data": {
      "text/html": [
       "<div>\n",
       "<style scoped>\n",
       "    .dataframe tbody tr th:only-of-type {\n",
       "        vertical-align: middle;\n",
       "    }\n",
       "\n",
       "    .dataframe tbody tr th {\n",
       "        vertical-align: top;\n",
       "    }\n",
       "\n",
       "    .dataframe thead th {\n",
       "        text-align: right;\n",
       "    }\n",
       "</style>\n",
       "<table border=\"1\" class=\"dataframe\">\n",
       "  <thead>\n",
       "    <tr style=\"text-align: right;\">\n",
       "      <th></th>\n",
       "      <th>year</th>\n",
       "      <th>id</th>\n",
       "      <th>cnt</th>\n",
       "    </tr>\n",
       "  </thead>\n",
       "  <tbody>\n",
       "    <tr>\n",
       "      <th>0</th>\n",
       "      <td>2019</td>\n",
       "      <td>58652589</td>\n",
       "      <td>1</td>\n",
       "    </tr>\n",
       "    <tr>\n",
       "      <th>1</th>\n",
       "      <td>2019</td>\n",
       "      <td>58652591</td>\n",
       "      <td>0</td>\n",
       "    </tr>\n",
       "    <tr>\n",
       "      <th>2</th>\n",
       "      <td>2019</td>\n",
       "      <td>58652594</td>\n",
       "      <td>1</td>\n",
       "    </tr>\n",
       "    <tr>\n",
       "      <th>3</th>\n",
       "      <td>2019</td>\n",
       "      <td>58652601</td>\n",
       "      <td>1</td>\n",
       "    </tr>\n",
       "    <tr>\n",
       "      <th>4</th>\n",
       "      <td>2019</td>\n",
       "      <td>58652602</td>\n",
       "      <td>0</td>\n",
       "    </tr>\n",
       "    <tr>\n",
       "      <th>...</th>\n",
       "      <td>...</td>\n",
       "      <td>...</td>\n",
       "      <td>...</td>\n",
       "    </tr>\n",
       "    <tr>\n",
       "      <th>594474</th>\n",
       "      <td>2023</td>\n",
       "      <td>77582335</td>\n",
       "      <td>0</td>\n",
       "    </tr>\n",
       "    <tr>\n",
       "      <th>594475</th>\n",
       "      <td>2023</td>\n",
       "      <td>77582336</td>\n",
       "      <td>1</td>\n",
       "    </tr>\n",
       "    <tr>\n",
       "      <th>594476</th>\n",
       "      <td>2023</td>\n",
       "      <td>77582339</td>\n",
       "      <td>1</td>\n",
       "    </tr>\n",
       "    <tr>\n",
       "      <th>594477</th>\n",
       "      <td>2023</td>\n",
       "      <td>77582341</td>\n",
       "      <td>2</td>\n",
       "    </tr>\n",
       "    <tr>\n",
       "      <th>594478</th>\n",
       "      <td>2023</td>\n",
       "      <td>77586426</td>\n",
       "      <td>1</td>\n",
       "    </tr>\n",
       "  </tbody>\n",
       "</table>\n",
       "<p>594479 rows × 3 columns</p>\n",
       "</div>"
      ],
      "text/plain": [
       "        year        id  cnt\n",
       "0       2019  58652589    1\n",
       "1       2019  58652591    0\n",
       "2       2019  58652594    1\n",
       "3       2019  58652601    1\n",
       "4       2019  58652602    0\n",
       "...      ...       ...  ...\n",
       "594474  2023  77582335    0\n",
       "594475  2023  77582336    1\n",
       "594476  2023  77582339    1\n",
       "594477  2023  77582341    2\n",
       "594478  2023  77586426    1\n",
       "\n",
       "[594479 rows x 3 columns]"
      ]
     },
     "execution_count": 9,
     "metadata": {},
     "output_type": "execute_result"
    }
   ],
   "source": [
    "df_answer_cnt"
   ]
  },
  {
   "cell_type": "code",
   "execution_count": 10,
   "metadata": {},
   "outputs": [
    {
     "data": {
      "text/plain": [
       "cnt\n",
       "0     30669\n",
       "1     77741\n",
       "2     20824\n",
       "3      4912\n",
       "4      1181\n",
       "5       310\n",
       "6        80\n",
       "7        24\n",
       "8         8\n",
       "9         7\n",
       "10        1\n",
       "11        1\n",
       "12        3\n",
       "13        1\n",
       "14        1\n",
       "Name: count, dtype: int64"
      ]
     },
     "execution_count": 10,
     "metadata": {},
     "output_type": "execute_result"
    }
   ],
   "source": [
    "df_answer_cnt.loc[(df_answer_cnt['year']== '2020'), 'cnt'].value_counts().sort_index().to_frame()['count']"
   ]
  },
  {
   "cell_type": "code",
   "execution_count": 11,
   "metadata": {},
   "outputs": [
    {
     "data": {
      "image/png": "[encoded data removed]",
      "text/plain": [
       "<Figure size 640x480 with 1 Axes>"
      ]
     },
     "metadata": {},
     "output_type": "display_data"
    }
   ],
   "source": [
    "fig, ax = plt.subplots()\n",
    "\n",
    "\n",
    "ax.plot(df_answer_cnt.loc[(df_answer_cnt['year']== '2019'), 'cnt'].value_counts().sort_index().to_frame()['count'].values, # specify data\n",
    "        color = 'red',\n",
    "        label = '2019.11'\n",
    ") \n",
    "\n",
    "ax.plot(df_answer_cnt.loc[(df_answer_cnt['year']== '2020'), 'cnt'].value_counts().sort_index().to_frame()['count'].values, # specify data\n",
    "        color = 'orange',\n",
    "        label = '2020.11'\n",
    ") \n",
    "\n",
    "ax.plot(df_answer_cnt.loc[(df_answer_cnt['year']== '2021'), 'cnt'].value_counts().sort_index().to_frame()['count'].values, # specify data\n",
    "        color = 'green',\n",
    "        label = '2021.11'\n",
    "# label = ['question', 'answer']\n",
    ") # create legened labels\n",
    "\n",
    "ax.plot(df_answer_cnt.loc[(df_answer_cnt['year']== '2022'), 'cnt'].value_counts().sort_index().to_frame()['count'].values, # specify data\n",
    "        color = 'blue',\n",
    "         label = '2022.11'\n",
    "        # label = ['question', 'answer']\n",
    "        ) # create legened labels\n",
    "\n",
    "ax.plot(df_answer_cnt.loc[(df_answer_cnt['year']== '2023'), 'cnt'].value_counts().sort_index().to_frame()['count'].values, # specify data\n",
    "        color = 'purple', # bar color\n",
    "        label = '2023.11'\n",
    "        ) # create legened labels\n",
    "\n",
    "\n",
    "\n",
    "\n",
    "\n",
    "ax.set_title('Answer Count line plot', fontsize = 15) # title\n",
    "ax.set_xlabel('count', fontsize = 12.5) # x-axis label\n",
    "ax.set_ylabel('value', fontsize = 12.5) # y-axis label\n",
    "\n",
    "ax.legend(loc = 'upper right', fontsize = 10) # add legend\n",
    "\n",
    "ax.grid(True, linestyle = ':', linewidth = 0.5) # grid\n",
    "\n",
    "plt.show();"
   ]
  },
  {
   "cell_type": "markdown",
   "metadata": {},
   "source": [
    "### Minimun timedelta to get response per Date\n",
    "* 질문과 첫번째 답 사이 gap 에 대한 time distribution"
   ]
  },
  {
   "cell_type": "code",
   "execution_count": 12,
   "metadata": {},
   "outputs": [],
   "source": [
    "df_da['qna_diff'] = df_da['a_creationdate'] - df_da['q_creationdate']"
   ]
  },
  {
   "cell_type": "code",
   "execution_count": 13,
   "metadata": {},
   "outputs": [],
   "source": [
    "df_da_df = df_da.sort_values(by = ['date', 'q_id','qna_diff'], ascending=True).groupby(['date', 'q_id']).head(1)"
   ]
  },
  {
   "cell_type": "code",
   "execution_count": 14,
   "metadata": {},
   "outputs": [],
   "source": [
    "df_da_df['qna_diff_int'] = df_da_df['qna_diff']/ pd.Timedelta(minutes=1)"
   ]
  },
  {
   "cell_type": "code",
   "execution_count": 15,
   "metadata": {},
   "outputs": [
    {
     "data": {
      "text/html": [
       "<div>\n",
       "<style scoped>\n",
       "    .dataframe tbody tr th:only-of-type {\n",
       "        vertical-align: middle;\n",
       "    }\n",
       "\n",
       "    .dataframe tbody tr th {\n",
       "        vertical-align: top;\n",
       "    }\n",
       "\n",
       "    .dataframe thead th {\n",
       "        text-align: right;\n",
       "    }\n",
       "</style>\n",
       "<table border=\"1\" class=\"dataframe\">\n",
       "  <thead>\n",
       "    <tr style=\"text-align: right;\">\n",
       "      <th></th>\n",
       "      <th>qna_diff</th>\n",
       "      <th>qna_diff_int</th>\n",
       "      <th>date</th>\n",
       "    </tr>\n",
       "  </thead>\n",
       "  <tbody>\n",
       "    <tr>\n",
       "      <th>4773871</th>\n",
       "      <td>0 days 00:27:55.227000</td>\n",
       "      <td>27.920450</td>\n",
       "      <td>2013-11-01</td>\n",
       "    </tr>\n",
       "    <tr>\n",
       "      <th>14555946</th>\n",
       "      <td>0 days 00:01:21.357000</td>\n",
       "      <td>1.355950</td>\n",
       "      <td>2013-11-01</td>\n",
       "    </tr>\n",
       "    <tr>\n",
       "      <th>21165579</th>\n",
       "      <td>0 days 00:08:15.753000</td>\n",
       "      <td>8.262550</td>\n",
       "      <td>2013-11-01</td>\n",
       "    </tr>\n",
       "    <tr>\n",
       "      <th>14555949</th>\n",
       "      <td>0 days 00:05:28.213000</td>\n",
       "      <td>5.470217</td>\n",
       "      <td>2013-11-01</td>\n",
       "    </tr>\n",
       "    <tr>\n",
       "      <th>2123150</th>\n",
       "      <td>0 days 01:10:06.263000</td>\n",
       "      <td>70.104383</td>\n",
       "      <td>2013-11-01</td>\n",
       "    </tr>\n",
       "    <tr>\n",
       "      <th>...</th>\n",
       "      <td>...</td>\n",
       "      <td>...</td>\n",
       "      <td>...</td>\n",
       "    </tr>\n",
       "    <tr>\n",
       "      <th>22889919</th>\n",
       "      <td>0 days 00:12:22.637000</td>\n",
       "      <td>12.377283</td>\n",
       "      <td>2023-11-30</td>\n",
       "    </tr>\n",
       "    <tr>\n",
       "      <th>20771525</th>\n",
       "      <td>0 days 00:15:07.043000</td>\n",
       "      <td>15.117383</td>\n",
       "      <td>2023-11-30</td>\n",
       "    </tr>\n",
       "    <tr>\n",
       "      <th>14092975</th>\n",
       "      <td>0 days 00:03:40.630000</td>\n",
       "      <td>3.677167</td>\n",
       "      <td>2023-11-30</td>\n",
       "    </tr>\n",
       "    <tr>\n",
       "      <th>941025</th>\n",
       "      <td>0 days 04:54:11.874000</td>\n",
       "      <td>294.197900</td>\n",
       "      <td>2023-11-30</td>\n",
       "    </tr>\n",
       "    <tr>\n",
       "      <th>16662934</th>\n",
       "      <td>0 days 21:49:01.530000</td>\n",
       "      <td>1309.025500</td>\n",
       "      <td>2023-11-30</td>\n",
       "    </tr>\n",
       "  </tbody>\n",
       "</table>\n",
       "<p>14875408 rows × 3 columns</p>\n",
       "</div>"
      ],
      "text/plain": [
       "                       qna_diff  qna_diff_int        date\n",
       "4773871  0 days 00:27:55.227000     27.920450  2013-11-01\n",
       "14555946 0 days 00:01:21.357000      1.355950  2013-11-01\n",
       "21165579 0 days 00:08:15.753000      8.262550  2013-11-01\n",
       "14555949 0 days 00:05:28.213000      5.470217  2013-11-01\n",
       "2123150  0 days 01:10:06.263000     70.104383  2013-11-01\n",
       "...                         ...           ...         ...\n",
       "22889919 0 days 00:12:22.637000     12.377283  2023-11-30\n",
       "20771525 0 days 00:15:07.043000     15.117383  2023-11-30\n",
       "14092975 0 days 00:03:40.630000      3.677167  2023-11-30\n",
       "941025   0 days 04:54:11.874000    294.197900  2023-11-30\n",
       "16662934 0 days 21:49:01.530000   1309.025500  2023-11-30\n",
       "\n",
       "[14875408 rows x 3 columns]"
      ]
     },
     "execution_count": 15,
     "metadata": {},
     "output_type": "execute_result"
    }
   ],
   "source": [
    "df_da_df[['qna_diff', 'qna_diff_int', 'date']]"
   ]
  },
  {
   "cell_type": "code",
   "execution_count": 16,
   "metadata": {},
   "outputs": [],
   "source": [
    "df_da_df_dff        = df_da_df[['date','year', 'month', 'day','qna_diff_int']].groupby(['date','year', 'month', 'day']).mean().reset_index()\n",
    "df_da_df_dff_min    = df_da_df[['date','year', 'month', 'day','qna_diff_int']].groupby(['date','year', 'month', 'day']).min().reset_index()\n",
    "df_da_df_dff_max    = df_da_df[['date','year', 'month', 'day','qna_diff_int']].groupby(['date','year', 'month', 'day']).max().reset_index()\n",
    "df_da_df_dff_median = df_da_df[['date','year', 'month', 'day','qna_diff_int']].groupby(['date','year', 'month', 'day']).median().reset_index()\n"
   ]
  },
  {
   "cell_type": "code",
   "execution_count": 17,
   "metadata": {},
   "outputs": [
    {
     "data": {
      "text/html": [
       "<div>\n",
       "<style scoped>\n",
       "    .dataframe tbody tr th:only-of-type {\n",
       "        vertical-align: middle;\n",
       "    }\n",
       "\n",
       "    .dataframe tbody tr th {\n",
       "        vertical-align: top;\n",
       "    }\n",
       "\n",
       "    .dataframe thead th {\n",
       "        text-align: right;\n",
       "    }\n",
       "</style>\n",
       "<table border=\"1\" class=\"dataframe\">\n",
       "  <thead>\n",
       "    <tr style=\"text-align: right;\">\n",
       "      <th></th>\n",
       "      <th>date</th>\n",
       "      <th>year</th>\n",
       "      <th>month</th>\n",
       "      <th>day</th>\n",
       "      <th>qna_diff_int</th>\n",
       "    </tr>\n",
       "  </thead>\n",
       "  <tbody>\n",
       "    <tr>\n",
       "      <th>0</th>\n",
       "      <td>2013-11-01</td>\n",
       "      <td>2013</td>\n",
       "      <td>11</td>\n",
       "      <td>1</td>\n",
       "      <td>30290.791568</td>\n",
       "    </tr>\n",
       "    <tr>\n",
       "      <th>1</th>\n",
       "      <td>2013-11-02</td>\n",
       "      <td>2013</td>\n",
       "      <td>11</td>\n",
       "      <td>2</td>\n",
       "      <td>28129.797441</td>\n",
       "    </tr>\n",
       "    <tr>\n",
       "      <th>2</th>\n",
       "      <td>2013-11-03</td>\n",
       "      <td>2013</td>\n",
       "      <td>11</td>\n",
       "      <td>3</td>\n",
       "      <td>37157.496537</td>\n",
       "    </tr>\n",
       "    <tr>\n",
       "      <th>3</th>\n",
       "      <td>2013-11-04</td>\n",
       "      <td>2013</td>\n",
       "      <td>11</td>\n",
       "      <td>4</td>\n",
       "      <td>33486.547305</td>\n",
       "    </tr>\n",
       "    <tr>\n",
       "      <th>4</th>\n",
       "      <td>2013-11-05</td>\n",
       "      <td>2013</td>\n",
       "      <td>11</td>\n",
       "      <td>5</td>\n",
       "      <td>31900.980285</td>\n",
       "    </tr>\n",
       "  </tbody>\n",
       "</table>\n",
       "</div>"
      ],
      "text/plain": [
       "         date  year  month  day  qna_diff_int\n",
       "0  2013-11-01  2013     11    1  30290.791568\n",
       "1  2013-11-02  2013     11    2  28129.797441\n",
       "2  2013-11-03  2013     11    3  37157.496537\n",
       "3  2013-11-04  2013     11    4  33486.547305\n",
       "4  2013-11-05  2013     11    5  31900.980285"
      ]
     },
     "execution_count": 17,
     "metadata": {},
     "output_type": "execute_result"
    }
   ],
   "source": [
    "df_da_df_dff.head()"
   ]
  },
  {
   "cell_type": "code",
   "execution_count": 29,
   "metadata": {},
   "outputs": [
    {
     "data": {
      "image/png": "[encoded data removed]",
      "text/plain": [
       "<Figure size 640x480 with 1 Axes>"
      ]
     },
     "metadata": {},
     "output_type": "display_data"
    }
   ],
   "source": [
    "fig, ax = plt.subplots()\n",
    "\n",
    "ax.bar(df_da_df_dff.date\n",
    "    ,  height = df_da_df_dff['qna_diff_int']\n",
    "    ,  color = 'skyblue'\n",
    "    ,  label = 'Median'\n",
    "    # ,  edgecolor = 'black'\n",
    "      ) # hist type\n",
    "\n",
    "ax.set_title(\"Minimum timedelta to get response per Date\", # add title\n",
    "             fontsize = 12.5,\n",
    "             weight = 'bold',\n",
    "             pad = 10,\n",
    "             loc = 'center')\n",
    "ax.set_xlabel(\"Date\", # add x-axis label\n",
    "              fontsize = 12.5)\n",
    "ax.set_ylabel(\"Timedelta\", # add y-axis label\n",
    "              fontsize = 12.5)\n",
    "\n",
    "major_xticks = ['2013-11-30','2014-11-30','2015-11-30','2016-11-30','2017-11-30','2018-11-30','2019-11-30','2020-11-30'\n",
    "                ,'2021-11-30', '2022-11-30', '2023-11-30']\n",
    "ax.set_xticks(major_xticks)\n",
    "\n",
    "ax.axvline(['2022-11-30'], # add vertical line\n",
    "           color = 'blue',\n",
    "           linestyle = '--',\n",
    "           linewidth = 1.5)\n",
    "plt.xticks(rotation=45)\n",
    "\n",
    "\n",
    "\n",
    "ax.legend( title_fontsize = 10, fontsize = 10,\n",
    "          bbox_to_anchor = (1, 0.55))\n",
    "\n",
    "plt.show();"
   ]
  },
  {
   "cell_type": "code",
   "execution_count": 18,
   "metadata": {},
   "outputs": [
    {
     "data": {
      "image/png": "[encoded data removed]",
      "text/plain": [
       "<Figure size 640x480 with 1 Axes>"
      ]
     },
     "metadata": {},
     "output_type": "display_data"
    }
   ],
   "source": [
    "fig, ax = plt.subplots()\n",
    "\n",
    "ax.bar(df_da_df_dff_median.date\n",
    "    ,  height = df_da_df_dff_median['qna_diff_int']\n",
    "    ,  color = 'red'\n",
    "    ,  label = 'Median'\n",
    "    # ,  edgecolor = 'black'\n",
    "      ) # hist type\n",
    "\n",
    "ax.set_title(\"Minimum timedelta to get response per Date\", # add title\n",
    "             fontsize = 12.5,\n",
    "             weight = 'bold',\n",
    "             pad = 10,\n",
    "             loc = 'center')\n",
    "ax.set_xlabel(\"Date\", # add x-axis label\n",
    "              fontsize = 12.5)\n",
    "ax.set_ylabel(\"Timedelta\", # add y-axis label\n",
    "              fontsize = 12.5)\n",
    "\n",
    "major_xticks = ['2013-11-30','2014-11-30','2015-11-30','2016-11-30','2017-11-30','2018-11-30','2019-11-30','2020-11-30'\n",
    "                ,'2021-11-30', '2022-11-30', '2023-11-30']\n",
    "ax.set_xticks(major_xticks)\n",
    "\n",
    "ax.axvline(['2022-11-30'], # add vertical line\n",
    "           color = 'blue',\n",
    "           linestyle = '--',\n",
    "           linewidth = 1.5)\n",
    "plt.xticks(rotation=45)\n",
    "\n",
    "\n",
    "\n",
    "ax.legend( title_fontsize = 10, fontsize = 10,\n",
    "          bbox_to_anchor = (1, 0.55))\n",
    "\n",
    "plt.show();"
   ]
  },
  {
   "cell_type": "markdown",
   "metadata": {},
   "source": [
    "### Minimun timedelta to get response per Day in 1 month \n",
    "* 질문과 첫번째 답 사이 gap 에 대한 time distribution"
   ]
  },
  {
   "cell_type": "code",
   "execution_count": 19,
   "metadata": {},
   "outputs": [],
   "source": [
    "df_da_in_month = df_da[df_da['qna_diff'].dt.days <=30]"
   ]
  },
  {
   "cell_type": "code",
   "execution_count": 20,
   "metadata": {},
   "outputs": [],
   "source": [
    "df_da_in_month_df = df_da_in_month.sort_values(by = ['date', 'q_id','qna_diff'], ascending=True).groupby(['date', 'q_id']).head(1)"
   ]
  },
  {
   "cell_type": "code",
   "execution_count": 21,
   "metadata": {},
   "outputs": [],
   "source": [
    "df_da_in_month_df['qna_diff_int'] = df_da_in_month_df['qna_diff']/ pd.Timedelta(minutes=1)"
   ]
  },
  {
   "cell_type": "code",
   "execution_count": 23,
   "metadata": {},
   "outputs": [],
   "source": [
    "df_da_in_month_df        = df_da_in_month_df[['date','year', 'month', 'day','qna_diff_int']].groupby(['date','year', 'month', 'day']).mean().reset_index()\n",
    "df_da_in_month_df_min    = df_da_in_month_df[['date','year', 'month', 'day','qna_diff_int']].groupby(['date','year', 'month', 'day']).min().reset_index()\n",
    "df_da_in_month_df_max    = df_da_in_month_df[['date','year', 'month', 'day','qna_diff_int']].groupby(['date','year', 'month', 'day']).max().reset_index()\n",
    "df_da_in_month_df_median = df_da_in_month_df[['date','year', 'month', 'day','qna_diff_int']].groupby(['date','year', 'month', 'day']).median().reset_index()\n"
   ]
  },
  {
   "cell_type": "code",
   "execution_count": 30,
   "metadata": {},
   "outputs": [
    {
     "data": {
      "image/png": "[encoded data removed]",
      "text/plain": [
       "<Figure size 640x480 with 1 Axes>"
      ]
     },
     "metadata": {},
     "output_type": "display_data"
    }
   ],
   "source": [
    "fig, ax = plt.subplots()\n",
    "\n",
    "ax.bar(df_da_in_month_df.date\n",
    "    ,  height = df_da_in_month_df['qna_diff_int']\n",
    "    ,  color = 'skyblue'\n",
    "    ,  label = 'Mean'\n",
    "    # ,  edgecolor = 'black'\n",
    "      ) # hist type\n",
    "\n",
    "ax.set_title(\"Minimum timedelta to get response per Day in 1 Month\", # add title\n",
    "             fontsize = 12.5,\n",
    "             weight = 'bold',\n",
    "             pad = 10,\n",
    "             loc = 'center')\n",
    "ax.set_xlabel(\"Date\", # add x-axis label\n",
    "              fontsize = 12.5)\n",
    "ax.set_ylabel(\"Timedelta\", # add y-axis label\n",
    "              fontsize = 12.5)\n",
    "\n",
    "major_xticks = ['2013-11-30','2014-11-30','2015-11-30','2016-11-30','2017-11-30','2018-11-30','2019-11-30','2020-11-30'\n",
    "                ,'2021-11-30', '2022-11-30', '2023-11-30']\n",
    "ax.set_xticks(major_xticks)\n",
    "\n",
    "ax.axvline(['2022-11-30'], # add vertical line\n",
    "           color = 'blue',\n",
    "           linestyle = '--',\n",
    "           linewidth = 1.5)\n",
    "plt.xticks(rotation=45)\n",
    "\n",
    "\n",
    "\n",
    "ax.legend( title_fontsize = 10, fontsize = 10,\n",
    "          bbox_to_anchor = (1, 0.55))\n",
    "\n",
    "plt.show();"
   ]
  },
  {
   "cell_type": "code",
   "execution_count": 31,
   "metadata": {},
   "outputs": [
    {
     "data": {
      "image/png": "[encoded data removed]",
      "text/plain": [
       "<Figure size 640x480 with 1 Axes>"
      ]
     },
     "metadata": {},
     "output_type": "display_data"
    }
   ],
   "source": [
    "fig, ax = plt.subplots()\n",
    "\n",
    "ax.bar(df_da_in_month_df_median.date\n",
    "    ,  height = df_da_in_month_df_median['qna_diff_int']\n",
    "    ,  color = 'red'\n",
    "    ,  label = 'Median'\n",
    "    # ,  edgecolor = 'black'\n",
    "      ) # hist type\n",
    "\n",
    "ax.set_title(\"Minimum timedelta to get response per Day in 1 Month\", # add title\n",
    "             fontsize = 12.5,\n",
    "             weight = 'bold',\n",
    "             pad = 10,\n",
    "             loc = 'center')\n",
    "ax.set_xlabel(\"Date\", # add x-axis label\n",
    "              fontsize = 12.5)\n",
    "ax.set_ylabel(\"Timedelta\", # add y-axis label\n",
    "              fontsize = 12.5)\n",
    "\n",
    "major_xticks = ['2013-11-30','2014-11-30','2015-11-30','2016-11-30','2017-11-30','2018-11-30','2019-11-30','2020-11-30'\n",
    "                ,'2021-11-30', '2022-11-30', '2023-11-30']\n",
    "ax.set_xticks(major_xticks)\n",
    "\n",
    "ax.axvline(['2022-11-30'], # add vertical line\n",
    "           color = 'blue',\n",
    "           linestyle = '--',\n",
    "           linewidth = 1.5)\n",
    "plt.xticks(rotation=45)\n",
    "\n",
    "\n",
    "\n",
    "ax.legend( title_fontsize = 10, fontsize = 10,\n",
    "          bbox_to_anchor = (1, 0.55))\n",
    "\n",
    "plt.show();"
   ]
  },
  {
   "cell_type": "code",
   "execution_count": null,
   "metadata": {},
   "outputs": [],
   "source": []
  },
  {
   "cell_type": "code",
   "execution_count": null,
   "metadata": {},
   "outputs": [],
   "source": []
  },
  {
   "cell_type": "markdown",
   "metadata": {},
   "source": [
    "### Distribution of Timedelta"
   ]
  },
  {
   "cell_type": "code",
   "execution_count": null,
   "metadata": {},
   "outputs": [],
   "source": [
    "fig, ax = plt.subplots()\n",
    "\n",
    "\n",
    "# ax.bar(df_date_per_len_max_q.index\n",
    "#     ,  height = df_date_per_len_max_q['body_len']\n",
    "#     ,  color = 'green'\n",
    "#     # ,  edgecolor = 'black'\n",
    "#       ) # hist type\n",
    "\n",
    "ax.hist(df_da_df_dff['qna_diff_int'], # specify data\n",
    "        bins = 20, # number of bins\n",
    "\n",
    "        edgecolor = 'black', # bar edge color\n",
    "        histtype = 'bar', # type of histogram\n",
    "        label = ['Answer Count', 'User Count']) # create legened labels\n",
    "\n",
    "# ax.bar(df_date_per_len_min_q.index\n",
    "#     ,  height = df_date_per_len_min_q['body_len']\n",
    "#     ,  color = 'red'\n",
    "#     # ,  edgecolor = 'black'\n",
    "#       ) # hist type\n",
    "\n",
    "ax.set_title(\"Distribution of Timedelta\", # add title\n",
    "             fontsize = 12.5,\n",
    "             weight = 'bold',\n",
    "             pad = 10,\n",
    "             loc = 'center')\n",
    "ax.set_xlabel(\"Timedelta\", # add x-axis label\n",
    "              fontsize = 12.5)\n",
    "ax.set_ylabel(\"Count\", # add y-axis label\n",
    "              fontsize = 12.5)\n",
    "\n",
    "# major_xticks = ['2013-11-30','2014-11-30','2015-11-30','2016-11-30','2017-11-30','2018-11-30','2019-11-30','2020-11-30'\n",
    "#                 ,'2021-11-30', '2022-11-30', '2023-11-30']\n",
    "# ax.set_xticks(major_xticks)\n",
    "\n",
    "# ax.axvline(['2022-11-30'], # add vertical line\n",
    "#            color = 'red',\n",
    "#            linestyle = '--',\n",
    "#            linewidth = 1.5)\n",
    "plt.xticks(rotation=45)\n",
    "\n",
    "\n",
    "\n",
    "# ax.legend( title_fontsize = 10, fontsize = 10,\n",
    "#           bbox_to_anchor = (1, 0.55))\n",
    "\n",
    "plt.show();"
   ]
  },
  {
   "cell_type": "markdown",
   "metadata": {},
   "source": [
    "### Length of Questions per Date"
   ]
  },
  {
   "cell_type": "code",
   "execution_count": null,
   "metadata": {},
   "outputs": [],
   "source": [
    "df_body.groupby(['year', 'month', 'day', 'posttypeid']).mean(['body_len'])"
   ]
  },
  {
   "cell_type": "code",
   "execution_count": null,
   "metadata": {},
   "outputs": [],
   "source": [
    "df_date_per_len = df_body.groupby(['date','year', 'month', 'day', 'posttypeid']).mean(['body_len']).reset_index()\n",
    "df_date_per_len_min = df_body.groupby(['date','year', 'month', 'day', 'posttypeid']).min(['body_len']).reset_index()\n",
    "df_date_per_len_max = df_body.groupby(['date','year', 'month', 'day', 'posttypeid']).max(['body_len']).reset_index()\n",
    "df_date_per_len_median = df_body.groupby(['date','year', 'month', 'day', 'posttypeid']).median(['body_len']).reset_index()"
   ]
  },
  {
   "cell_type": "code",
   "execution_count": null,
   "metadata": {},
   "outputs": [],
   "source": [
    "df_body.groupby(['date','year', 'month', 'day', 'posttypeid']).max(['body_len'])"
   ]
  },
  {
   "cell_type": "code",
   "execution_count": null,
   "metadata": {},
   "outputs": [],
   "source": [
    "df_date_per_len_q = df_date_per_len[df_date_per_len['posttypeid'] =='1']\n",
    "df_date_per_len_q = df_date_per_len_q.set_index('date')\n",
    "df_date_per_len_a = df_date_per_len[df_date_per_len['posttypeid'] =='2']\n",
    "df_date_per_len_a = df_date_per_len_a.set_index('date')"
   ]
  },
  {
   "cell_type": "code",
   "execution_count": null,
   "metadata": {},
   "outputs": [],
   "source": [
    "df_date_per_len_min_q = df_date_per_len_min[df_date_per_len_min['posttypeid'] =='1']\n",
    "df_date_per_len_min_q = df_date_per_len_min_q.set_index('date')\n",
    "df_date_per_len_min_a = df_date_per_len_min[df_date_per_len_min['posttypeid'] =='2']\n",
    "df_date_per_len_min_a = df_date_per_len_min_a.set_index('date')"
   ]
  },
  {
   "cell_type": "code",
   "execution_count": null,
   "metadata": {},
   "outputs": [],
   "source": [
    "df_date_per_len_max_q = df_date_per_len_max[df_date_per_len_max['posttypeid'] =='1']\n",
    "df_date_per_len_max_q = df_date_per_len_max_q.set_index('date')\n",
    "df_date_per_len_max_a = df_date_per_len_max[df_date_per_len_max['posttypeid'] =='2']\n",
    "df_date_per_len_max_a = df_date_per_len_max_a.set_index('date')"
   ]
  },
  {
   "cell_type": "code",
   "execution_count": null,
   "metadata": {},
   "outputs": [],
   "source": [
    "df_date_per_len_median_q = df_date_per_len_median[df_date_per_len_median['posttypeid'] =='1']\n",
    "df_date_per_len_median_q = df_date_per_len_median_q.set_index('date')\n",
    "df_date_per_len_median_a = df_date_per_len_median[df_date_per_len_median['posttypeid'] =='2']\n",
    "df_date_per_len_median_a = df_date_per_len_median_a.set_index('date')"
   ]
  },
  {
   "cell_type": "code",
   "execution_count": null,
   "metadata": {},
   "outputs": [],
   "source": [
    "fig, ax = plt.subplots()\n",
    "\n",
    "\n",
    "# ax.bar(df_date_per_len_max_q.index\n",
    "#     ,  height = df_date_per_len_max_q['body_len']\n",
    "#     ,  color = 'green'\n",
    "#     # ,  edgecolor = 'black'\n",
    "#       ) # hist type\n",
    "\n",
    "ax.bar(df_date_per_len_q.index\n",
    "    ,  height = df_date_per_len_q['body_len']\n",
    "    ,  color = 'skyblue'\n",
    "    ,  label = 'Mean'\n",
    "    # ,  edgecolor = 'black'\n",
    "      ) # hist type\n",
    "\n",
    "ax.bar(df_date_per_len_median_q.index\n",
    "    ,  height = df_date_per_len_median_q['body_len']\n",
    "    ,  color = 'red'\n",
    "    ,  label = 'Median'\n",
    "    # ,  edgecolor = 'black'\n",
    "      ) # hist type\n",
    "\n",
    "\n",
    "# ax.bar(df_date_per_len_min_q.index\n",
    "#     ,  height = df_date_per_len_min_q['body_len']\n",
    "#     ,  color = 'red'\n",
    "#     # ,  edgecolor = 'black'\n",
    "#       ) # hist type\n",
    "\n",
    "ax.set_title(\"Length of Questions per Date\", # add title\n",
    "             fontsize = 12.5,\n",
    "             weight = 'bold',\n",
    "             pad = 10,\n",
    "             loc = 'center')\n",
    "ax.set_xlabel(\"Date\", # add x-axis label\n",
    "              fontsize = 12.5)\n",
    "ax.set_ylabel(\"Length\", # add y-axis label\n",
    "              fontsize = 12.5)\n",
    "\n",
    "major_xticks = ['2013-11-30','2014-11-30','2015-11-30','2016-11-30','2017-11-30','2018-11-30','2019-11-30','2020-11-30'\n",
    "                ,'2021-11-30', '2022-11-30', '2023-11-30']\n",
    "ax.set_xticks(major_xticks)\n",
    "\n",
    "ax.axvline(['2022-11-30'], # add vertical line\n",
    "           color = 'blue',\n",
    "           linestyle = '--',\n",
    "           linewidth = 1.5)\n",
    "plt.xticks(rotation=45)\n",
    "\n",
    "\n",
    "\n",
    "ax.legend( title_fontsize = 10, fontsize = 10,\n",
    "          bbox_to_anchor = (1, 0.55))\n",
    "\n",
    "plt.show();"
   ]
  },
  {
   "cell_type": "code",
   "execution_count": null,
   "metadata": {},
   "outputs": [],
   "source": [
    "df_date_per_len_diff = (df_date_per_len_max_q['body_len'] - df_date_per_len_min_q['body_len']).to_frame()"
   ]
  },
  {
   "cell_type": "code",
   "execution_count": null,
   "metadata": {},
   "outputs": [],
   "source": [
    "fig, ax = plt.subplots()\n",
    "\n",
    "\n",
    "ax.bar(df_date_per_len_diff.index\n",
    "    ,  height = df_date_per_len_diff['body_len']\n",
    "    ,  color = 'skyblue'\n",
    "    ,  label = 'Mean'\n",
    "    # ,  edgecolor = 'black'\n",
    "      ) # hist type\n",
    "\n",
    "ax.set_title(\"Length of Questions per Date\", # add title\n",
    "             fontsize = 12.5,\n",
    "             weight = 'bold',\n",
    "             pad = 10,\n",
    "             loc = 'center')\n",
    "ax.set_xlabel(\"Date\", # add x-axis label\n",
    "              fontsize = 12.5)\n",
    "ax.set_ylabel(\"Length\", # add y-axis label\n",
    "              fontsize = 12.5)\n",
    "\n",
    "major_xticks = ['2013-11-30','2014-11-30','2015-11-30','2016-11-30','2017-11-30','2018-11-30','2019-11-30','2020-11-30'\n",
    "                ,'2021-11-30', '2022-11-30', '2023-11-30']\n",
    "ax.set_xticks(major_xticks)\n",
    "\n",
    "ax.axvline(['2022-11-30'], # add vertical line\n",
    "           color = 'red',\n",
    "           linestyle = '--',\n",
    "           linewidth = 1.5)\n",
    "plt.xticks(rotation=45)\n",
    "plt.show();"
   ]
  },
  {
   "cell_type": "markdown",
   "metadata": {},
   "source": [
    "### Length of Answers per Date"
   ]
  },
  {
   "cell_type": "code",
   "execution_count": null,
   "metadata": {},
   "outputs": [],
   "source": [
    "fig, ax = plt.subplots()\n",
    "\n",
    "ax.bar(df_date_per_len_a.index\n",
    "    ,  height = df_date_per_len_a['body_len']\n",
    "    ,  color = 'skyblue'\n",
    "    ,  label = 'Mean'\n",
    "    # ,  edgecolor = 'black'\n",
    "      ) # hist type\n",
    "\n",
    "ax.bar(df_date_per_len_median_a.index\n",
    "    ,  height = df_date_per_len_median_a['body_len']\n",
    "    ,  color = 'red'\n",
    "    ,  label = 'Median'\n",
    "    # ,  edgecolor = 'black'\n",
    "      ) # hist type\n",
    "\n",
    "ax.set_title(\"Length of Answers per Date\", # add title\n",
    "             fontsize = 12.5,\n",
    "             weight = 'bold',\n",
    "             pad = 10,\n",
    "             loc = 'center')\n",
    "ax.set_xlabel(\"Date\", # add x-axis label\n",
    "              fontsize = 12.5)\n",
    "ax.set_ylabel(\"Length\", # add y-axis label\n",
    "              fontsize = 12.5)\n",
    "\n",
    "major_xticks = ['2013-11-30','2014-11-30','2015-11-30','2016-11-30','2017-11-30','2018-11-30','2019-11-30','2020-11-30'\n",
    "                ,'2021-11-30', '2022-11-30', '2023-11-30']\n",
    "ax.set_xticks(major_xticks)\n",
    "\n",
    "ax.axvline(['2022-11-30'], # add vertical line\n",
    "           color = 'blue',\n",
    "           linestyle = '--',\n",
    "           linewidth = 1.5)\n",
    "\n",
    "ax.legend( title_fontsize = 10, fontsize = 10,\n",
    "          bbox_to_anchor = (1, 0.55))\n",
    "\n",
    "plt.xticks(rotation=45)\n",
    "plt.show();"
   ]
  },
  {
   "cell_type": "markdown",
   "metadata": {},
   "source": [
    "### Answer Length over Question Length per Date"
   ]
  },
  {
   "cell_type": "code",
   "execution_count": null,
   "metadata": {},
   "outputs": [],
   "source": [
    "df_date_per_len_rate = df_date_per_len_a['body_len'].div( df_date_per_len_q['body_len']).to_frame()"
   ]
  },
  {
   "cell_type": "code",
   "execution_count": null,
   "metadata": {},
   "outputs": [],
   "source": [
    "df_date_per_len_rate.head()"
   ]
  },
  {
   "cell_type": "code",
   "execution_count": null,
   "metadata": {},
   "outputs": [],
   "source": [
    "fig, ax = plt.subplots()\n",
    "\n",
    "ax.bar(df_date_per_len_rate.index\n",
    "    ,  height = df_date_per_len_rate['body_len']\n",
    "    ,  color = 'skyblue'\n",
    "    # ,  edgecolor = 'black'\n",
    "      ) # hist type\n",
    "\n",
    "ax.set_title(\"Answer Length over Question Length per Date\", # add title\n",
    "             fontsize = 12.5,\n",
    "             weight = 'bold',\n",
    "             pad = 10,\n",
    "             loc = 'center')\n",
    "ax.set_xlabel(\"Date\", # add x-axis label\n",
    "              fontsize = 12.5)\n",
    "ax.set_ylabel(\"A Len/Q Len\", # add y-axis label\n",
    "              fontsize = 12.5)\n",
    "\n",
    "major_xticks = ['2013-11-30','2014-11-30','2015-11-30','2016-11-30','2017-11-30','2018-11-30','2019-11-30','2020-11-30'\n",
    "                ,'2021-11-30', '2022-11-30', '2023-11-30']\n",
    "ax.set_xticks(major_xticks)\n",
    "\n",
    "ax.axvline(['2022-11-30'], # add vertical line\n",
    "           color = 'red',\n",
    "           linestyle = '--',\n",
    "           linewidth = 1.5)\n",
    "plt.xticks(rotation=45)\n",
    "plt.show();\n",
    "\n",
    "\n",
    "\n",
    "\n",
    "\n"
   ]
  },
  {
   "cell_type": "markdown",
   "metadata": {},
   "source": [
    "### Length of SRC in Questions per Date"
   ]
  },
  {
   "cell_type": "code",
   "execution_count": null,
   "metadata": {},
   "outputs": [],
   "source": [
    "def cleanhtml(raw_html):\n",
    "  # 1.Source code in python language is hard to understand, so replace all the <code> tag first\n",
    "  cleantext_1 = re.findall(r'(?<=\\<code>)(.*?)(?=<\\/code>)', raw_html.replace('\\n', '_**_'))\n",
    "  cleantext_1 = [x.replace('_**_', '\\n') for x in cleantext_1]\n",
    "  # 2. replace html tags\n",
    "  # <p>\n",
    "  tag_re = re.compile('<.*?>')\n",
    "  cleantext_2 = [re.sub(tag_re, '', x) for x in cleantext_1]\n",
    "  return cleantext_2"
   ]
  },
  {
   "cell_type": "code",
   "execution_count": null,
   "metadata": {},
   "outputs": [],
   "source": [
    "# # apply the function, cleanhtml to the question and body text\n",
    "# df_body.loc[:, 'prep_body'] = df_body['body'].apply(cleanhtml)\n",
    "# 15분 걸림\n",
    "# 전체 데이터셋 \n",
    "# with open('../../data/df_body_prep.pkl', 'wb') as f:\n",
    "#     pickle.dump(df_body, f)\n",
    "# 파일 불러오기\n",
    "with open('../../data/df_body_prep.pkl', 'rb') as f:\n",
    "    df_body = pickle.load(f)"
   ]
  },
  {
   "cell_type": "code",
   "execution_count": null,
   "metadata": {},
   "outputs": [],
   "source": [
    "df_body['concat_prep_body'] = df_body['prep_body'].apply(lambda x : ''.join(x))"
   ]
  },
  {
   "cell_type": "code",
   "execution_count": null,
   "metadata": {},
   "outputs": [],
   "source": [
    "df_body['src_len'] = df_body['concat_prep_body'].apply(lambda x:len(x))"
   ]
  },
  {
   "cell_type": "code",
   "execution_count": null,
   "metadata": {},
   "outputs": [],
   "source": [
    "len(df_body['id'].unique())\n",
    "# 43352042"
   ]
  },
  {
   "cell_type": "code",
   "execution_count": null,
   "metadata": {},
   "outputs": [],
   "source": [
    "df_date_per_src_len = df_body.groupby(['date','year', 'month', 'day', 'posttypeid']).mean(['src_len']).reset_index()\n",
    "df_date_per_src_len_min = df_body.groupby(['date','year', 'month', 'day', 'posttypeid']).min(['src_len']).reset_index()\n",
    "df_date_per_src_len_max = df_body.groupby(['date','year', 'month', 'day', 'posttypeid']).max(['src_len']).reset_index()\n",
    "df_date_per_src_len_median = df_body.groupby(['date','year', 'month', 'day', 'posttypeid']).median(['src_len']).reset_index()"
   ]
  },
  {
   "cell_type": "code",
   "execution_count": null,
   "metadata": {},
   "outputs": [],
   "source": [
    "df_date_per_src_len_q = df_date_per_src_len[df_date_per_src_len['posttypeid'] =='1']\n",
    "df_date_per_src_len_q = df_date_per_src_len_q.set_index('date')\n",
    "df_date_per_src_len_a = df_date_per_src_len[df_date_per_src_len['posttypeid'] =='2']\n",
    "df_date_per_src_len_a = df_date_per_src_len_a.set_index('date')"
   ]
  },
  {
   "cell_type": "code",
   "execution_count": null,
   "metadata": {},
   "outputs": [],
   "source": [
    "df_date_per_src_len_median_q = df_date_per_src_len_median[df_date_per_src_len_median['posttypeid'] =='1']\n",
    "df_date_per_src_len_median_q = df_date_per_src_len_median_q.set_index('date')\n",
    "df_date_per_src_len_median_a = df_date_per_src_len_median[df_date_per_src_len_median['posttypeid'] =='2']\n",
    "df_date_per_src_len_median_a = df_date_per_src_len_median_a.set_index('date')"
   ]
  },
  {
   "cell_type": "code",
   "execution_count": null,
   "metadata": {},
   "outputs": [],
   "source": [
    "fig, ax = plt.subplots()\n",
    "\n",
    "ax.bar(df_date_per_src_len_q.index\n",
    "    ,  height = df_date_per_src_len_q['src_len']\n",
    "    ,  color = 'skyblue'\n",
    "    ,  label = 'Mean'\n",
    "    # ,  edgecolor = 'black'\n",
    "      ) # hist type\n",
    "\n",
    "\n",
    "ax.bar(df_date_per_src_len_median_q.index\n",
    "    ,  height = df_date_per_src_len_median_q['src_len']\n",
    "    ,  color = 'red'\n",
    "    ,  label = 'Median'\n",
    "    # ,  edgecolor = 'black'\n",
    "      ) # hist type\n",
    "\n",
    "ax.set_title(\"Length of SRC in Questions per Date\", # add title\n",
    "             fontsize = 12.5,\n",
    "             weight = 'bold',\n",
    "             pad = 10,\n",
    "             loc = 'center')\n",
    "ax.set_xlabel(\"Date\", # add x-axis label\n",
    "              fontsize = 12.5)\n",
    "ax.set_ylabel(\"Length\", # add y-axis label\n",
    "              fontsize = 12.5)\n",
    "\n",
    "major_xticks = ['2013-11-30','2014-11-30','2015-11-30','2016-11-30','2017-11-30','2018-11-30','2019-11-30','2020-11-30'\n",
    "                ,'2021-11-30', '2022-11-30', '2023-11-30']\n",
    "ax.set_xticks(major_xticks)\n",
    "\n",
    "ax.axvline(['2022-11-30'], # add vertical line\n",
    "           color = 'blue',\n",
    "           linestyle = '--',\n",
    "           linewidth = 1.5)\n",
    "\n",
    "ax.legend( title_fontsize = 10, fontsize = 10,\n",
    "          bbox_to_anchor = (1, 0.55))\n",
    "\n",
    "\n",
    "plt.xticks(rotation=45)\n",
    "plt.show();"
   ]
  },
  {
   "cell_type": "markdown",
   "metadata": {},
   "source": [
    "### Length  of SRC in Answers per Date"
   ]
  },
  {
   "cell_type": "code",
   "execution_count": null,
   "metadata": {},
   "outputs": [],
   "source": [
    "fig, ax = plt.subplots()\n",
    "\n",
    "ax.bar(df_date_per_src_len_a.index\n",
    "    ,  height = df_date_per_src_len_a['src_len']\n",
    "    ,  color = 'skyblue'\n",
    "    ,  label = 'Mean'\n",
    "    # ,  edgecolor = 'black'\n",
    "      ) # hist type\n",
    "\n",
    "ax.bar(df_date_per_src_len_median_a.index\n",
    "    ,  height = df_date_per_src_len_median_a['src_len']\n",
    "    ,  color = 'red'\n",
    "    ,  label = 'Median'\n",
    "    # ,  edgecolor = 'black'\n",
    "      ) # hist type\n",
    "\n",
    "ax.set_title(\"Length  of SRC in Answers per Date\", # add title\n",
    "             fontsize = 12.5,\n",
    "             weight = 'bold',\n",
    "             pad = 10,\n",
    "             loc = 'center')\n",
    "ax.set_xlabel(\"Date\", # add x-axis label\n",
    "              fontsize = 12.5)\n",
    "ax.set_ylabel(\"Length\", # add y-axis label\n",
    "              fontsize = 12.5)\n",
    "\n",
    "major_xticks = ['2013-11-30','2014-11-30','2015-11-30','2016-11-30','2017-11-30','2018-11-30','2019-11-30','2020-11-30'\n",
    "                ,'2021-11-30', '2022-11-30', '2023-11-30']\n",
    "ax.set_xticks(major_xticks)\n",
    "\n",
    "ax.axvline(['2022-11-30'], # add vertical line\n",
    "           color = 'blue',\n",
    "           linestyle = '--',\n",
    "           linewidth = 1.5)\n",
    "\n",
    "ax.legend( title_fontsize = 10, fontsize = 10,\n",
    "          bbox_to_anchor = (1, 0.55))\n",
    "\n",
    "plt.xticks(rotation=45)\n",
    "plt.show();"
   ]
  },
  {
   "cell_type": "code",
   "execution_count": null,
   "metadata": {},
   "outputs": [],
   "source": [
    "df_date_per_src_len_rate = df_date_per_src_len_a['src_len'].div( df_date_per_src_len_q['src_len']).to_frame()"
   ]
  },
  {
   "cell_type": "code",
   "execution_count": null,
   "metadata": {},
   "outputs": [],
   "source": [
    "fig, ax = plt.subplots()\n",
    "\n",
    "ax.bar(df_date_per_src_len_rate.index\n",
    "    ,  height = df_date_per_src_len_rate['src_len']\n",
    "    ,  color = 'skyblue'\n",
    "    # ,  edgecolor = 'black'\n",
    "      ) # hist type\n",
    "\n",
    "ax.set_title(\"Question and Answer Count per Date\", # add title\n",
    "             fontsize = 12.5,\n",
    "             weight = 'bold',\n",
    "             pad = 10,\n",
    "             loc = 'center')\n",
    "ax.set_xlabel(\"Date\", # add x-axis label\n",
    "              fontsize = 12.5)\n",
    "ax.set_ylabel(\"Count\", # add y-axis label\n",
    "              fontsize = 12.5)\n",
    "\n",
    "major_xticks = ['2013-11-30','2014-11-30','2015-11-30','2016-11-30','2017-11-30','2018-11-30','2019-11-30','2020-11-30'\n",
    "                ,'2021-11-30', '2022-11-30', '2023-11-30']\n",
    "ax.set_xticks(major_xticks)\n",
    "\n",
    "# ax.axvline('2022-11-30', # add vertical line\n",
    "#            color = 'red',\n",
    "#            linestyle = '--',\n",
    "#            linewidth = 1.5)\n",
    "plt.xticks(rotation=45)\n",
    "plt.show();"
   ]
  },
  {
   "cell_type": "code",
   "execution_count": null,
   "metadata": {},
   "outputs": [],
   "source": [
    "df_q_a = df_body[(df_body['posttypeid']=='1')&(df_body['answered_yn']==1)]\n",
    "df_q = df_body[(df_body['posttypeid']=='1')&(df_body['answered_yn']==0)]\n",
    "# df_body.groupby(['date','year', 'month', 'day', 'posttypeid']).mean(['body_len']).reset_index()"
   ]
  },
  {
   "cell_type": "code",
   "execution_count": null,
   "metadata": {},
   "outputs": [],
   "source": [
    "# df_date_per_src_len = \n",
    "df_q_a_m = df_q_a.groupby(['date','year', 'month', 'day']).mean(['src_per_body']).reset_index()\n",
    "df_q_a_m_median = df_q_a.groupby(['date','year', 'month', 'day']).median(['src_per_body']).reset_index()\n",
    "\n",
    "df_q_m = df_q.groupby(['date','year', 'month', 'day']).mean(['src_per_body']).reset_index()\n",
    "df_q_m_median = df_q.groupby(['date','year', 'month', 'day']).median(['src_per_body']).reset_index()"
   ]
  },
  {
   "cell_type": "code",
   "execution_count": null,
   "metadata": {},
   "outputs": [],
   "source": [
    "df_q_m"
   ]
  },
  {
   "cell_type": "code",
   "execution_count": null,
   "metadata": {},
   "outputs": [],
   "source": [
    "# df_q_a_m['src_per_body'].div(df_q_m['src_per_body'])"
   ]
  },
  {
   "cell_type": "markdown",
   "metadata": {},
   "source": [
    "### SRC length of Answered Questions"
   ]
  },
  {
   "cell_type": "code",
   "execution_count": null,
   "metadata": {},
   "outputs": [],
   "source": [
    "### create a figure with multiple subplots\n",
    "\n",
    "\n",
    "sharey = True ## 또는 sharey=False\n",
    "sharex = True ## 또는 sharex=False\n",
    "\n",
    "fig, axs = plt.subplots(1, 2, figsize = (20, 5), sharey=sharey, sharex=sharex)\n",
    "# plt.xticks(rotation=45)\n",
    "major_xticks = ['2013-11-30','2014-11-30','2015-11-30','2016-11-30','2017-11-30','2018-11-30','2019-11-30','2020-11-30'\n",
    "                ,'2021-11-30', '2022-11-30', '2023-11-30']\n",
    "yticks = np.arange(200, 2000, 400)\n",
    "axs[0].bar(df_q_a_m['date']\n",
    "        ,  df_q_a_m['src_len']\n",
    "        ,  color = 'skyblue'\n",
    "        # ,  edgecolor = 'black'\n",
    "      ) # hist type\n",
    "\n",
    "\n",
    "axs[0].bar(df_q_a_m_median['date']\n",
    "        ,  df_q_a_m_median['src_len']\n",
    "        ,  color = 'red'\n",
    "        # ,  edgecolor = 'black'\n",
    "      ) # hist type\n",
    "\n",
    "axs[0].set_title('SRC length of Answered Questions ', fontsize = 15)\n",
    "axs[0].set_xlabel('Date', fontsize = 15)\n",
    "axs[0].set_ylabel('Length', fontsize = 15)\n",
    "axs[0].set_xticks(major_xticks)\n",
    "axs[0].set_yticks(yticks)\n",
    "axs[0].axvline([major_xticks[-2]], # add vertical line\n",
    "           color = 'blue',\n",
    "           linestyle = '--',\n",
    "           linewidth = 1.5)\n",
    "axs[0].tick_params(axis='x', rotation=45)\n",
    "# axs[0].yticks(yt)\n",
    "\n",
    "axs[1].bar(df_q_m['date']\n",
    "        ,  df_q_m['src_len']\n",
    "        ,  color = 'lightgreen'\n",
    "        # ,  edgecolor = 'black'\n",
    "      ) # hist type\n",
    "axs[1].bar(df_q_m_median['date']\n",
    "        ,  df_q_m_median['src_len']\n",
    "        ,  color = 'red'\n",
    "        # ,  edgecolor = 'black'\n",
    "      ) # hist type\n",
    "\n",
    "axs[1].set_title('SRC length of not Answered Questions ', fontsize = 15)\n",
    "axs[1].set_xlabel('Date', fontsize = 15)\n",
    "axs[1].set_ylabel('Length', fontsize = 15)\n",
    "axs[1].set_xticks(major_xticks)\n",
    "axs[1].set_yticks(yticks)\n",
    "axs[1].axvline([major_xticks[-2]], # add vertical line\n",
    "           color = 'blue',\n",
    "           linestyle = '--',\n",
    "           linewidth = 1.5)\n",
    "axs[1].tick_params(axis='x', rotation=45)\n",
    "\n",
    "plt.show();"
   ]
  },
  {
   "cell_type": "code",
   "execution_count": null,
   "metadata": {},
   "outputs": [],
   "source": [
    "# fig, ax = plt.subplots()\n",
    "\n",
    "# ax.bar(df_date_per_src_len_rate.index\n",
    "#     ,  height = df_q_a_m['src_per_body'].div(df_q_m['src_per_body'])\n",
    "#     ,  color = 'skyblue'\n",
    "#     # ,  edgecolor = 'black'\n",
    "#       ) # hist type\n",
    "\n",
    "# ax.set_title(\"Question and Answer Count per Date\", # add title\n",
    "#              fontsize = 12.5,\n",
    "#              weight = 'bold',\n",
    "#              pad = 10,\n",
    "#              loc = 'center')\n",
    "# ax.set_xlabel(\"Date\", # add x-axis label\n",
    "#               fontsize = 12.5)\n",
    "# ax.set_ylabel(\"Count\", # add y-axis label\n",
    "#               fontsize = 12.5)\n",
    "\n",
    "# major_xticks = ['2013-11-30','2014-11-30','2015-11-30','2016-11-30','2017-11-30','2018-11-30','2019-11-30','2020-11-30'\n",
    "#                 ,'2021-11-30', '2022-11-30', '2023-11-30']\n",
    "# ax.set_xticks(major_xticks)\n",
    "\n",
    "# # ax.axvline('2022-11-30', # add vertical line\n",
    "# #            color = 'red',\n",
    "# #            linestyle = '--',\n",
    "# #            linewidth = 1.5)\n",
    "\n",
    "\n",
    "# ax.legend( title_fontsize = 10, fontsize = 10,\n",
    "#           bbox_to_anchor = (1, 0.55))\n",
    "\n",
    "# plt.xticks(rotation=45)\n",
    "# plt.show();"
   ]
  },
  {
   "cell_type": "markdown",
   "metadata": {},
   "source": [
    "### Length of Title per Day"
   ]
  },
  {
   "cell_type": "code",
   "execution_count": null,
   "metadata": {},
   "outputs": [],
   "source": [
    "df_body_q = df_body[df_body['posttypeid'] =='1']"
   ]
  },
  {
   "cell_type": "code",
   "execution_count": null,
   "metadata": {},
   "outputs": [],
   "source": [
    "df_body_q['title_len'] = df_body_q['title'].apply(lambda x : len(x))"
   ]
  },
  {
   "cell_type": "code",
   "execution_count": null,
   "metadata": {},
   "outputs": [],
   "source": [
    "df_date_per_t_len         = df_body_q.groupby(['date','year', 'month', 'day']).mean(['title_len']).reset_index()\n",
    "df_date_per_len_t_min     = df_body_q.groupby(['date','year', 'month', 'day']).min(['title_len']).reset_index()\n",
    "df_date_per_len_t_max     = df_body_q.groupby(['date','year', 'month', 'day']).max(['title_len']).reset_index()\n",
    "df_date_per_len_t_median  = df_body_q.groupby(['date','year', 'month', 'day']).median(['title_len']).reset_index()"
   ]
  },
  {
   "cell_type": "code",
   "execution_count": null,
   "metadata": {},
   "outputs": [],
   "source": [
    "fig, ax = plt.subplots()\n",
    "\n",
    "ax.bar(df_date_per_t_len.date\n",
    "    ,  height = df_date_per_t_len['title_len']\n",
    "    ,  color = 'skyblue'\n",
    "    ,  label = 'mean'\n",
    "    # ,  edgecolor = 'black'\n",
    "      ) # hist type\n",
    "\n",
    "\n",
    "ax.bar(df_date_per_len_t_median.date\n",
    "    ,  height = df_date_per_len_t_median['title_len']\n",
    "    ,  color = 'green'\n",
    "    ,  label = 'median'\n",
    "    # ,  edgecolor = 'black'\n",
    "      ) # hist type\n",
    "\n",
    "\n",
    "ax.set_title(\"Length of Title per Day\", # add title\n",
    "             fontsize = 12.5,\n",
    "             weight = 'bold',\n",
    "             pad = 10,\n",
    "             loc = 'center')\n",
    "ax.set_xlabel(\"Date\", # add x-axis label\n",
    "              fontsize = 12.5)\n",
    "ax.set_ylabel(\"Count\", # add y-axis label\n",
    "              fontsize = 12.5)\n",
    "\n",
    "major_xticks = ['2013-11-30','2014-11-30','2015-11-30','2016-11-30','2017-11-30','2018-11-30','2019-11-30','2020-11-30'\n",
    "                ,'2021-11-30', '2022-11-30', '2023-11-30']\n",
    "ax.set_xticks(major_xticks)\n",
    "\n",
    "ax.axvline(['2022-11-30'], # add vertical line\n",
    "           color = 'red',\n",
    "           linestyle = '--',\n",
    "           linewidth = 1.5)\n",
    "\n",
    "ax.legend( title_fontsize = 10, fontsize = 10,\n",
    "          bbox_to_anchor = (1, 0.55))\n",
    "\n",
    "plt.xticks(rotation=45)\n",
    "plt.show();"
   ]
  },
  {
   "cell_type": "code",
   "execution_count": null,
   "metadata": {},
   "outputs": [],
   "source": []
  },
  {
   "cell_type": "markdown",
   "metadata": {},
   "source": [
    "## 3. Tag"
   ]
  },
  {
   "cell_type": "markdown",
   "metadata": {},
   "source": [
    "### Number of Tag per Day"
   ]
  },
  {
   "cell_type": "code",
   "execution_count": 32,
   "metadata": {},
   "outputs": [],
   "source": [
    "df_da_q = df_da[['q_id', 'q_creationdate','q_tags']].drop_duplicates()"
   ]
  },
  {
   "cell_type": "code",
   "execution_count": 33,
   "metadata": {},
   "outputs": [],
   "source": [
    "df_da_q['year'] = df_da_q['q_creationdate'].dt.year\n",
    "df_da_q['month'] = df_da_q['q_creationdate'].dt.month\n",
    "df_da_q['day'] = df_da_q['q_creationdate'].dt.day\n",
    "df_da_q['date'] = df_da_q['q_creationdate'].dt.date"
   ]
  },
  {
   "cell_type": "code",
   "execution_count": 34,
   "metadata": {},
   "outputs": [],
   "source": [
    "df_da_q['q_tags_list'] = df_da_q['q_tags'].apply(lambda x : x.strip().split(' '))"
   ]
  },
  {
   "cell_type": "code",
   "execution_count": 35,
   "metadata": {},
   "outputs": [
    {
     "name": "stdout",
     "output_type": "stream",
     "text": [
      "(14875408, 1)\n",
      "(14875408, 1)\n"
     ]
    }
   ],
   "source": [
    "print(df_da_q[['q_id']].shape)\n",
    "print(df_da_q[['q_id']].drop_duplicates().shape)"
   ]
  },
  {
   "cell_type": "code",
   "execution_count": 36,
   "metadata": {},
   "outputs": [],
   "source": [
    "df_da_q = df_da_q.reset_index(drop=True)"
   ]
  },
  {
   "cell_type": "code",
   "execution_count": 37,
   "metadata": {},
   "outputs": [],
   "source": [
    "df_da_q_ex = df_da_q[['q_id', 'q_tags_list']].apply(pd.Series.explode)"
   ]
  },
  {
   "cell_type": "code",
   "execution_count": 38,
   "metadata": {},
   "outputs": [
    {
     "data": {
      "text/plain": [
       "q_tags_list\n",
       "javascript    1690363\n",
       "python        1586623\n",
       "java          1154509\n",
       "c#             879425\n",
       "php            829929\n",
       "android        809265\n",
       "html           783760\n",
       "jquery         557185\n",
       "css            534381\n",
       "c++            466645\n",
       "sql            449856\n",
       "ios            404899\n",
       "mysql          391689\n",
       "r              375403\n",
       "reactjs        366063\n",
       "node.js        340276\n",
       "arrays         310251\n",
       "python-3.x     269758\n",
       "swift          267676\n",
       "json           254917\n",
       "Name: count, dtype: int64"
      ]
     },
     "execution_count": 38,
     "metadata": {},
     "output_type": "execute_result"
    }
   ],
   "source": [
    "df_da_q_ex['q_tags_list'].value_counts().head(20)"
   ]
  },
  {
   "cell_type": "code",
   "execution_count": 44,
   "metadata": {},
   "outputs": [
    {
     "data": {
      "text/html": [
       "<div>\n",
       "<style scoped>\n",
       "    .dataframe tbody tr th:only-of-type {\n",
       "        vertical-align: middle;\n",
       "    }\n",
       "\n",
       "    .dataframe tbody tr th {\n",
       "        vertical-align: top;\n",
       "    }\n",
       "\n",
       "    .dataframe thead th {\n",
       "        text-align: right;\n",
       "    }\n",
       "</style>\n",
       "<table border=\"1\" class=\"dataframe\">\n",
       "  <thead>\n",
       "    <tr style=\"text-align: right;\">\n",
       "      <th></th>\n",
       "      <th>q_id</th>\n",
       "      <th>q_tags_list</th>\n",
       "    </tr>\n",
       "  </thead>\n",
       "  <tbody>\n",
       "    <tr>\n",
       "      <th>0</th>\n",
       "      <td>74640391</td>\n",
       "      <td>javascript</td>\n",
       "    </tr>\n",
       "    <tr>\n",
       "      <th>0</th>\n",
       "      <td>74640391</td>\n",
       "      <td>arrays</td>\n",
       "    </tr>\n",
       "    <tr>\n",
       "      <th>1</th>\n",
       "      <td>74323741</td>\n",
       "      <td>ruby</td>\n",
       "    </tr>\n",
       "    <tr>\n",
       "      <th>1</th>\n",
       "      <td>74323741</td>\n",
       "      <td>jekyll</td>\n",
       "    </tr>\n",
       "    <tr>\n",
       "      <th>1</th>\n",
       "      <td>74323741</td>\n",
       "      <td>jekyll-extensions</td>\n",
       "    </tr>\n",
       "    <tr>\n",
       "      <th>...</th>\n",
       "      <td>...</td>\n",
       "      <td>...</td>\n",
       "    </tr>\n",
       "    <tr>\n",
       "      <th>14875407</th>\n",
       "      <td>74641964</td>\n",
       "      <td>python</td>\n",
       "    </tr>\n",
       "    <tr>\n",
       "      <th>14875407</th>\n",
       "      <td>74641964</td>\n",
       "      <td>time</td>\n",
       "    </tr>\n",
       "    <tr>\n",
       "      <th>14875407</th>\n",
       "      <td>74641964</td>\n",
       "      <td>geopandas</td>\n",
       "    </tr>\n",
       "    <tr>\n",
       "      <th>14875407</th>\n",
       "      <td>74641964</td>\n",
       "      <td>folium</td>\n",
       "    </tr>\n",
       "    <tr>\n",
       "      <th>14875407</th>\n",
       "      <td>74641964</td>\n",
       "      <td>timelapse</td>\n",
       "    </tr>\n",
       "  </tbody>\n",
       "</table>\n",
       "<p>44210187 rows × 2 columns</p>\n",
       "</div>"
      ],
      "text/plain": [
       "              q_id        q_tags_list\n",
       "0         74640391         javascript\n",
       "0         74640391             arrays\n",
       "1         74323741               ruby\n",
       "1         74323741             jekyll\n",
       "1         74323741  jekyll-extensions\n",
       "...            ...                ...\n",
       "14875407  74641964             python\n",
       "14875407  74641964               time\n",
       "14875407  74641964          geopandas\n",
       "14875407  74641964             folium\n",
       "14875407  74641964          timelapse\n",
       "\n",
       "[44210187 rows x 2 columns]"
      ]
     },
     "execution_count": 44,
     "metadata": {},
     "output_type": "execute_result"
    }
   ],
   "source": [
    "df_da_q_ex"
   ]
  },
  {
   "cell_type": "code",
   "execution_count": 39,
   "metadata": {},
   "outputs": [],
   "source": [
    "df_da_q['q_tagslen'] = df_da_q['q_tags'].apply(lambda x : len(x.strip().split(' ')))"
   ]
  },
  {
   "cell_type": "code",
   "execution_count": 49,
   "metadata": {},
   "outputs": [],
   "source": [
    "df_da_q_year = pd.merge(df_da_q[['q_id', 'year']], df_da_q_ex, on = 'q_id')"
   ]
  },
  {
   "cell_type": "code",
   "execution_count": 57,
   "metadata": {},
   "outputs": [],
   "source": [
    "df_da_q_year = df_da_q_year.groupby(['year','q_tags_list']).count()['q_id'].reset_index()\n",
    "#  df_da.sort_values(by = ['date', 'q_id','qna_diff'], ascending=True).groupby(['date', 'q_id']).head(1) > 확인필요 "
   ]
  },
  {
   "cell_type": "code",
   "execution_count": 61,
   "metadata": {},
   "outputs": [],
   "source": [
    "df_da_q_year = df_da_q_year.sort_values(by = ['year', 'q_id'], ascending = False).groupby(['year']).head(10)"
   ]
  },
  {
   "cell_type": "code",
   "execution_count": 65,
   "metadata": {},
   "outputs": [
    {
     "data": {
      "text/html": [
       "<div>\n",
       "<style scoped>\n",
       "    .dataframe tbody tr th:only-of-type {\n",
       "        vertical-align: middle;\n",
       "    }\n",
       "\n",
       "    .dataframe tbody tr th {\n",
       "        vertical-align: top;\n",
       "    }\n",
       "\n",
       "    .dataframe thead th {\n",
       "        text-align: right;\n",
       "    }\n",
       "</style>\n",
       "<table border=\"1\" class=\"dataframe\">\n",
       "  <thead>\n",
       "    <tr style=\"text-align: right;\">\n",
       "      <th></th>\n",
       "      <th>year</th>\n",
       "      <th>q_tags_list</th>\n",
       "      <th>q_id</th>\n",
       "    </tr>\n",
       "  </thead>\n",
       "  <tbody>\n",
       "    <tr>\n",
       "      <th>392871</th>\n",
       "      <td>2023</td>\n",
       "      <td>python</td>\n",
       "      <td>82379</td>\n",
       "    </tr>\n",
       "    <tr>\n",
       "      <th>384066</th>\n",
       "      <td>2023</td>\n",
       "      <td>javascript</td>\n",
       "      <td>51909</td>\n",
       "    </tr>\n",
       "    <tr>\n",
       "      <th>394235</th>\n",
       "      <td>2023</td>\n",
       "      <td>reactjs</td>\n",
       "      <td>29215</td>\n",
       "    </tr>\n",
       "    <tr>\n",
       "      <th>373088</th>\n",
       "      <td>2023</td>\n",
       "      <td>c#</td>\n",
       "      <td>27188</td>\n",
       "    </tr>\n",
       "    <tr>\n",
       "      <th>383956</th>\n",
       "      <td>2023</td>\n",
       "      <td>java</td>\n",
       "      <td>26864</td>\n",
       "    </tr>\n",
       "    <tr>\n",
       "      <th>...</th>\n",
       "      <td>...</td>\n",
       "      <td>...</td>\n",
       "      <td>...</td>\n",
       "    </tr>\n",
       "    <tr>\n",
       "      <th>9724</th>\n",
       "      <td>2013</td>\n",
       "      <td>jquery</td>\n",
       "      <td>21686</td>\n",
       "    </tr>\n",
       "    <tr>\n",
       "      <th>8313</th>\n",
       "      <td>2013</td>\n",
       "      <td>html</td>\n",
       "      <td>18990</td>\n",
       "    </tr>\n",
       "    <tr>\n",
       "      <th>15064</th>\n",
       "      <td>2013</td>\n",
       "      <td>python</td>\n",
       "      <td>16494</td>\n",
       "    </tr>\n",
       "    <tr>\n",
       "      <th>2449</th>\n",
       "      <td>2013</td>\n",
       "      <td>c++</td>\n",
       "      <td>13705</td>\n",
       "    </tr>\n",
       "    <tr>\n",
       "      <th>3966</th>\n",
       "      <td>2013</td>\n",
       "      <td>css</td>\n",
       "      <td>13111</td>\n",
       "    </tr>\n",
       "  </tbody>\n",
       "</table>\n",
       "<p>110 rows × 3 columns</p>\n",
       "</div>"
      ],
      "text/plain": [
       "        year q_tags_list   q_id\n",
       "392871  2023      python  82379\n",
       "384066  2023  javascript  51909\n",
       "394235  2023     reactjs  29215\n",
       "373088  2023          c#  27188\n",
       "383956  2023        java  26864\n",
       "...      ...         ...    ...\n",
       "9724    2013      jquery  21686\n",
       "8313    2013        html  18990\n",
       "15064   2013      python  16494\n",
       "2449    2013         c++  13705\n",
       "3966    2013         css  13111\n",
       "\n",
       "[110 rows x 3 columns]"
      ]
     },
     "execution_count": 65,
     "metadata": {},
     "output_type": "execute_result"
    }
   ],
   "source": [
    "df_da_q_year"
   ]
  },
  {
   "cell_type": "code",
   "execution_count": 107,
   "metadata": {},
   "outputs": [
    {
     "data": {
      "image/png": "[encoded data removed]",
      "text/plain": [
       "<Figure size 2000x1000 with 10 Axes>"
      ]
     },
     "metadata": {},
     "output_type": "display_data"
    }
   ],
   "source": [
    "### create a figure with multiple subplots\n",
    "\n",
    "\n",
    "sharey = False ## 또는 sharey=False\n",
    "sharex = False ## 또는 sharex=False\n",
    "\n",
    "fig, axs = plt.subplots(2, 5, figsize = (20, 10), sharey=sharey, sharex=sharex)\n",
    "\n",
    "for x in range(0, 2):\n",
    "    for y in range(0,5):\n",
    "        standard_year = 2014\n",
    "        loop_year = standard_year + (x*5 + y*1)\n",
    "        axs[x][y].bar( df_da_q_year[df_da_q_year['year'] ==loop_year].q_tags_list\n",
    "                    ,  df_da_q_year[df_da_q_year['year'] ==loop_year].q_id\n",
    "                    ,  color = 'skyblue'\n",
    "                ) # hist type\n",
    "        axs[x][y].set_title(str(loop_year), # add title\n",
    "             pad = 10,\n",
    "             loc = 'center')\n",
    "        axs[x][y].tick_params(axis='x', rotation=45)\n",
    "\n",
    "\n",
    " \n",
    "plt.suptitle(\"Top 10 Tags of Questions over 10 years\")      \n",
    "plt.tight_layout()    \n",
    "plt.show();"
   ]
  },
  {
   "cell_type": "code",
   "execution_count": 41,
   "metadata": {},
   "outputs": [],
   "source": [
    "df_da_q_per_len         = df_da_q.groupby(['date','year', 'month', 'day']).mean(['q_tagslen']).reset_index()\n",
    "df_da_q_per_len_min     = df_da_q.groupby(['date','year', 'month', 'day']).min(['q_tagslen']).reset_index()\n",
    "df_da_q_per_len_max     = df_da_q.groupby(['date','year', 'month', 'day']).max(['q_tagslen']).reset_index()\n",
    "df_da_q_per_len_median  = df_da_q.groupby(['date','year', 'month', 'day']).median(['q_tagslen']).reset_index()\n"
   ]
  },
  {
   "cell_type": "code",
   "execution_count": 42,
   "metadata": {},
   "outputs": [
    {
     "data": {
      "text/html": [
       "<div>\n",
       "<style scoped>\n",
       "    .dataframe tbody tr th:only-of-type {\n",
       "        vertical-align: middle;\n",
       "    }\n",
       "\n",
       "    .dataframe tbody tr th {\n",
       "        vertical-align: top;\n",
       "    }\n",
       "\n",
       "    .dataframe thead th {\n",
       "        text-align: right;\n",
       "    }\n",
       "</style>\n",
       "<table border=\"1\" class=\"dataframe\">\n",
       "  <thead>\n",
       "    <tr style=\"text-align: right;\">\n",
       "      <th></th>\n",
       "      <th>date</th>\n",
       "      <th>year</th>\n",
       "      <th>month</th>\n",
       "      <th>day</th>\n",
       "      <th>q_id</th>\n",
       "      <th>q_tagslen</th>\n",
       "    </tr>\n",
       "  </thead>\n",
       "  <tbody>\n",
       "    <tr>\n",
       "      <th>0</th>\n",
       "      <td>2013-11-01</td>\n",
       "      <td>2013</td>\n",
       "      <td>11</td>\n",
       "      <td>1</td>\n",
       "      <td>1.972806e+07</td>\n",
       "      <td>2.990741</td>\n",
       "    </tr>\n",
       "    <tr>\n",
       "      <th>1</th>\n",
       "      <td>2013-11-02</td>\n",
       "      <td>2013</td>\n",
       "      <td>11</td>\n",
       "      <td>2</td>\n",
       "      <td>1.974292e+07</td>\n",
       "      <td>2.947686</td>\n",
       "    </tr>\n",
       "    <tr>\n",
       "      <th>2</th>\n",
       "      <td>2013-11-03</td>\n",
       "      <td>2013</td>\n",
       "      <td>11</td>\n",
       "      <td>3</td>\n",
       "      <td>1.975407e+07</td>\n",
       "      <td>2.977130</td>\n",
       "    </tr>\n",
       "    <tr>\n",
       "      <th>3</th>\n",
       "      <td>2013-11-04</td>\n",
       "      <td>2013</td>\n",
       "      <td>11</td>\n",
       "      <td>4</td>\n",
       "      <td>1.976974e+07</td>\n",
       "      <td>2.978964</td>\n",
       "    </tr>\n",
       "    <tr>\n",
       "      <th>4</th>\n",
       "      <td>2013-11-05</td>\n",
       "      <td>2013</td>\n",
       "      <td>11</td>\n",
       "      <td>5</td>\n",
       "      <td>1.979053e+07</td>\n",
       "      <td>2.977150</td>\n",
       "    </tr>\n",
       "    <tr>\n",
       "      <th>...</th>\n",
       "      <td>...</td>\n",
       "      <td>...</td>\n",
       "      <td>...</td>\n",
       "      <td>...</td>\n",
       "      <td>...</td>\n",
       "      <td>...</td>\n",
       "    </tr>\n",
       "    <tr>\n",
       "      <th>3677</th>\n",
       "      <td>2023-11-26</td>\n",
       "      <td>2023</td>\n",
       "      <td>11</td>\n",
       "      <td>26</td>\n",
       "      <td>7.755191e+07</td>\n",
       "      <td>3.031455</td>\n",
       "    </tr>\n",
       "    <tr>\n",
       "      <th>3678</th>\n",
       "      <td>2023-11-27</td>\n",
       "      <td>2023</td>\n",
       "      <td>11</td>\n",
       "      <td>27</td>\n",
       "      <td>7.755734e+07</td>\n",
       "      <td>2.996209</td>\n",
       "    </tr>\n",
       "    <tr>\n",
       "      <th>3679</th>\n",
       "      <td>2023-11-28</td>\n",
       "      <td>2023</td>\n",
       "      <td>11</td>\n",
       "      <td>28</td>\n",
       "      <td>7.756431e+07</td>\n",
       "      <td>3.021692</td>\n",
       "    </tr>\n",
       "    <tr>\n",
       "      <th>3680</th>\n",
       "      <td>2023-11-29</td>\n",
       "      <td>2023</td>\n",
       "      <td>11</td>\n",
       "      <td>29</td>\n",
       "      <td>7.757156e+07</td>\n",
       "      <td>3.031519</td>\n",
       "    </tr>\n",
       "    <tr>\n",
       "      <th>3681</th>\n",
       "      <td>2023-11-30</td>\n",
       "      <td>2023</td>\n",
       "      <td>11</td>\n",
       "      <td>30</td>\n",
       "      <td>7.757876e+07</td>\n",
       "      <td>3.032950</td>\n",
       "    </tr>\n",
       "  </tbody>\n",
       "</table>\n",
       "<p>3682 rows × 6 columns</p>\n",
       "</div>"
      ],
      "text/plain": [
       "            date  year  month  day          q_id  q_tagslen\n",
       "0     2013-11-01  2013     11    1  1.972806e+07   2.990741\n",
       "1     2013-11-02  2013     11    2  1.974292e+07   2.947686\n",
       "2     2013-11-03  2013     11    3  1.975407e+07   2.977130\n",
       "3     2013-11-04  2013     11    4  1.976974e+07   2.978964\n",
       "4     2013-11-05  2013     11    5  1.979053e+07   2.977150\n",
       "...          ...   ...    ...  ...           ...        ...\n",
       "3677  2023-11-26  2023     11   26  7.755191e+07   3.031455\n",
       "3678  2023-11-27  2023     11   27  7.755734e+07   2.996209\n",
       "3679  2023-11-28  2023     11   28  7.756431e+07   3.021692\n",
       "3680  2023-11-29  2023     11   29  7.757156e+07   3.031519\n",
       "3681  2023-11-30  2023     11   30  7.757876e+07   3.032950\n",
       "\n",
       "[3682 rows x 6 columns]"
      ]
     },
     "execution_count": 42,
     "metadata": {},
     "output_type": "execute_result"
    }
   ],
   "source": [
    "df_da_q_per_len"
   ]
  },
  {
   "cell_type": "code",
   "execution_count": 43,
   "metadata": {},
   "outputs": [
    {
     "data": {
      "image/png": "[encoded data removed]",
      "text/plain": [
       "<Figure size 640x480 with 1 Axes>"
      ]
     },
     "metadata": {},
     "output_type": "display_data"
    }
   ],
   "source": [
    "fig, ax = plt.subplots()\n",
    "\n",
    "ax.bar(df_da_q_per_len_median.date\n",
    "    ,  height = df_da_q_per_len_median['q_tagslen']\n",
    "    ,  color = 'green'\n",
    "    ,  label = 'median'\n",
    "    # ,  edgecolor = 'black'\n",
    "      ) # hist type\n",
    "\n",
    "\n",
    "ax.bar(df_da_q_per_len.date\n",
    "    ,  height = df_da_q_per_len['q_tagslen']\n",
    "    ,  color = 'skyblue'\n",
    "    ,  label = 'mean'\n",
    "    # ,  edgecolor = 'black'\n",
    "      ) # hist type\n",
    "\n",
    "\n",
    "\n",
    "ax.set_title(\"Number of tag per Day\", # add title\n",
    "             fontsize = 12.5,\n",
    "             weight = 'bold',\n",
    "             pad = 10,\n",
    "             loc = 'center')\n",
    "ax.set_xlabel(\"Date\", # add x-axis label\n",
    "              fontsize = 12.5)\n",
    "ax.set_ylabel(\"Count\", # add y-axis label\n",
    "              fontsize = 12.5)\n",
    "\n",
    "major_xticks = ['2013-11-30','2014-11-30','2015-11-30','2016-11-30','2017-11-30','2018-11-30','2019-11-30','2020-11-30'\n",
    "                ,'2021-11-30', '2022-11-30', '2023-11-30']\n",
    "ax.set_xticks(major_xticks)\n",
    "\n",
    "# ax.axvline('2022-11-30', # add vertical line\n",
    "#            color = 'red',\n",
    "#            linestyle = '--',\n",
    "#            linewidth = 1.5)\n",
    "\n",
    "ax.legend( title_fontsize = 10, fontsize = 10,\n",
    "          bbox_to_anchor = (1, 0.55))\n",
    "\n",
    "plt.xticks(rotation=45)\n",
    "plt.show();"
   ]
  },
  {
   "cell_type": "code",
   "execution_count": null,
   "metadata": {},
   "outputs": [],
   "source": [
    "df_da_q_per_len_median"
   ]
  },
  {
   "cell_type": "code",
   "execution_count": null,
   "metadata": {},
   "outputs": [],
   "source": [
    "df_user['year'] = df_user['creationdate'].dt.year\n",
    "df_user['month'] = df_user['creationdate'].dt.month\n",
    "df_user['day'] = df_user['creationdate'].dt.day\n",
    "df_user['date'] = df_user['creationdate'].dt.date\n"
   ]
  },
  {
   "cell_type": "code",
   "execution_count": null,
   "metadata": {},
   "outputs": [],
   "source": [
    "df_user.groupby(['date','year', 'month', 'day']).count()[['id']].reset_index()"
   ]
  },
  {
   "cell_type": "code",
   "execution_count": null,
   "metadata": {},
   "outputs": [],
   "source": [
    "df_user_per_date         = df_user.groupby(['date','year', 'month', 'day']).count()[['id']].reset_index()"
   ]
  },
  {
   "cell_type": "code",
   "execution_count": null,
   "metadata": {},
   "outputs": [],
   "source": [
    "df_user_per_date"
   ]
  },
  {
   "cell_type": "code",
   "execution_count": null,
   "metadata": {},
   "outputs": [],
   "source": [
    "fig, ax = plt.subplots()\n",
    "\n",
    "ax.bar(df_user_per_date.date\n",
    "    ,  height = df_user_per_date['id']\n",
    "    ,  color = 'skyblue'\n",
    "    ,  label = 'mean'\n",
    "    # ,  edgecolor = 'black'\n",
    "      ) # hist type\n",
    "\n",
    "ax.set_title(\"Sign up Users per Day\", # add title\n",
    "             fontsize = 12.5,\n",
    "             weight = 'bold',\n",
    "             pad = 10,\n",
    "             loc = 'center')\n",
    "ax.set_xlabel(\"Date\", # add x-axis label\n",
    "              fontsize = 12.5)\n",
    "ax.set_ylabel(\"Count\", # add y-axis label\n",
    "              fontsize = 12.5)\n",
    "\n",
    "major_xticks = ['2013-11-30','2014-11-30','2015-11-30','2016-11-30','2017-11-30','2018-11-30','2019-11-30','2020-11-30'\n",
    "                ,'2021-11-30', '2022-11-30', '2023-11-30']\n",
    "ax.set_xticks(major_xticks)\n",
    "\n",
    "ax.axvline(['2022-11-30'], # add vertical line\n",
    "           color = 'red',\n",
    "           linestyle = '--',\n",
    "           linewidth = 1.5)\n",
    "\n",
    "# ax.legend( title_fontsize = 10, fontsize = 10,\n",
    "#           bbox_to_anchor = (1, 0.55))\n",
    "\n",
    "plt.xticks(rotation=45)\n",
    "plt.show();"
   ]
  },
  {
   "cell_type": "code",
   "execution_count": null,
   "metadata": {},
   "outputs": [],
   "source": [
    "df_user"
   ]
  },
  {
   "cell_type": "code",
   "execution_count": null,
   "metadata": {},
   "outputs": [],
   "source": [
    "df_da_q = df_da[['q_id', 'q_owneruserid']].drop_duplicates()\n",
    "df_da_a = df_da[['a_id', 'a_owneruserid']].drop_duplicates()"
   ]
  },
  {
   "cell_type": "code",
   "execution_count": null,
   "metadata": {},
   "outputs": [],
   "source": [
    "df_da_q_cnt = df_da_q.groupby(['q_owneruserid']).count()[['q_id']]\n",
    "df_da_a_cnt = df_da_a.groupby(['a_owneruserid']).count()[['a_id']]"
   ]
  },
  {
   "cell_type": "code",
   "execution_count": null,
   "metadata": {},
   "outputs": [],
   "source": [
    "df_user_qna = pd.merge(df_user, df_da_q_cnt, left_on = 'id', right_on = 'q_owneruserid', how= 'left')\n",
    "df_user_qna = pd.merge(df_user_qna, df_da_a_cnt, left_on = 'id', right_on = 'a_owneruserid', how= 'left')"
   ]
  },
  {
   "cell_type": "code",
   "execution_count": null,
   "metadata": {},
   "outputs": [],
   "source": [
    "df_user_qna.fillna(0, inplace=True)"
   ]
  },
  {
   "cell_type": "code",
   "execution_count": null,
   "metadata": {},
   "outputs": [],
   "source": [
    "df_user_qna"
   ]
  },
  {
   "cell_type": "code",
   "execution_count": null,
   "metadata": {},
   "outputs": [],
   "source": [
    "fig_scatter_reg, ax = plt.subplots(figsize = (10, 6))\n",
    "\n",
    "ax.scatter(df_user_qna['q_id'], df_user_qna['a_id'], color = 'purple', alpha = 0.6)\n",
    "\n",
    "ax.set_title('Question and Answer')\n",
    "ax.set_xlabel('Question')\n",
    "ax.set_ylabel('Answer')\n",
    "\n",
    "\n",
    "plt.show();"
   ]
  },
  {
   "cell_type": "code",
   "execution_count": null,
   "metadata": {},
   "outputs": [],
   "source": [
    "df_user_qna['gpt_af_yn'] = np.where(df_user_qna['date'] >= datetime.date(2022,11,30), 1, 0)"
   ]
  },
  {
   "cell_type": "code",
   "execution_count": null,
   "metadata": {},
   "outputs": [],
   "source": [
    "df_user_qna"
   ]
  },
  {
   "cell_type": "code",
   "execution_count": null,
   "metadata": {},
   "outputs": [],
   "source": [
    "fig_scatter_reg, ax = plt.subplots(figsize = (10, 6))\n",
    "sns.scatterplot(data = df_user_qna, x = 'q_id', y = 'a_id', hue = 'gpt_af_yn' )\n",
    "\n",
    "ax.set_title('Question and Answer')\n",
    "ax.set_xlabel('Question')\n",
    "ax.set_ylabel('Answer')\n",
    "\n",
    "\n",
    "plt.show();"
   ]
  },
  {
   "cell_type": "code",
   "execution_count": null,
   "metadata": {},
   "outputs": [],
   "source": [
    "fig_scatter_reg, ax = plt.subplots(figsize = (10, 6))\n",
    "sns.scatterplot(data = df_user_qna[df_user_qna['gpt_af_yn'] ==1] , x = 'q_id', y = 'a_id', hue = 'gpt_af_yn' )\n",
    "\n",
    "ax.set_title('Question and Answer')\n",
    "ax.set_xlabel('Question')\n",
    "ax.set_ylabel('Answer')\n",
    "\n",
    "\n",
    "plt.show();"
   ]
  },
  {
   "cell_type": "code",
   "execution_count": null,
   "metadata": {},
   "outputs": [],
   "source": [
    "df_user_qna[df_user_qna['a_id']>70000]"
   ]
  },
  {
   "cell_type": "markdown",
   "metadata": {},
   "source": [
    "아니 혼자 7만건은 좀 너무한거 아닙니까...ㅎㅎㅎㅎㅎ"
   ]
  },
  {
   "cell_type": "code",
   "execution_count": null,
   "metadata": {},
   "outputs": [],
   "source": [
    "df_q_1144035 = df_da.loc[df_da['a_owneruserid'] == 1144035, ['q_id', 'a_creationdate']]"
   ]
  },
  {
   "cell_type": "code",
   "execution_count": null,
   "metadata": {},
   "outputs": [],
   "source": [
    "df_q_1144035 = df_q_1144035[['q_id', 'a_creationdate']].drop_duplicates()"
   ]
  },
  {
   "cell_type": "code",
   "execution_count": null,
   "metadata": {},
   "outputs": [],
   "source": [
    "df_q_1144035['date'] = df_q_1144035['a_creationdate'].dt.date"
   ]
  },
  {
   "cell_type": "code",
   "execution_count": null,
   "metadata": {},
   "outputs": [],
   "source": [
    "df_q_1144035"
   ]
  },
  {
   "cell_type": "code",
   "execution_count": null,
   "metadata": {},
   "outputs": [],
   "source": [
    "fig_scatter_reg, ax = plt.subplots(figsize = (10, 6))\n",
    "\n",
    "ax.scatter(df_q_1144035['date'], df_q_1144035['q_id'], color = 'purple', alpha = 0.6)\n",
    "\n",
    "ax.set_title('Question and Answer')\n",
    "ax.set_xlabel('Question')\n",
    "ax.set_ylabel('Answer')\n",
    "\n",
    "\n",
    "plt.show();"
   ]
  },
  {
   "cell_type": "code",
   "execution_count": null,
   "metadata": {},
   "outputs": [],
   "source": [
    "df_q_1144035['date'].max()"
   ]
  },
  {
   "cell_type": "code",
   "execution_count": null,
   "metadata": {},
   "outputs": [],
   "source": [
    "df_q_1144035.groupby('date').count()[['q_id']].sort_values(by = ['date'])"
   ]
  },
  {
   "cell_type": "code",
   "execution_count": null,
   "metadata": {},
   "outputs": [],
   "source": []
  }
 ],
 "metadata": {
  "kernelspec": {
   "display_name": "Python 3 (ipykernel)",
   "language": "python",
   "name": "python3"
  },
  "language_info": {
   "codemirror_mode": {
    "name": "ipython",
    "version": 3
   },
   "file_extension": ".py",
   "mimetype": "text/x-python",
   "name": "python",
   "nbconvert_exporter": "python",
   "pygments_lexer": "ipython3",
   "version": "3.9.6"
  }
 },
 "nbformat": 4,
 "nbformat_minor": 4
}
