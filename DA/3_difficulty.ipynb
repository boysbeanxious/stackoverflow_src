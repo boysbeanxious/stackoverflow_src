{
 "cells": [
  {
   "cell_type": "code",
   "execution_count": 3,
   "metadata": {},
   "outputs": [],
   "source": [
    "import pandas as pd\n",
    "import seaborn as sns\n",
    "import matplotlib.pyplot as plt\n",
    "import seaborn as sns\n",
    "import numpy as np\n",
    "import pickle\n",
    "import re\n",
    "from collections import deque\n",
    "import datetime"
   ]
  },
  {
   "cell_type": "markdown",
   "metadata": {},
   "source": [
    "## 1. 파일호출"
   ]
  },
  {
   "cell_type": "code",
   "execution_count": 4,
   "metadata": {},
   "outputs": [],
   "source": [
    "# 파일 불러오기\n",
    "with open('../../data/df_da.pkl', 'rb') as f:\n",
    "    df_da = pickle.load(f)\n"
   ]
  },
  {
   "cell_type": "code",
   "execution_count": 5,
   "metadata": {},
   "outputs": [],
   "source": [
    "# 파일 불러오기\n",
    "with open('../../data/df_body.pkl', 'rb') as f:\n",
    "    df_body = pickle.load(f)\n"
   ]
  },
  {
   "cell_type": "code",
   "execution_count": 6,
   "metadata": {},
   "outputs": [],
   "source": [
    "df_da['date']   = df_da['q_creationdate'].dt.date\n",
    "df_da['year']   = df_da['q_creationdate'].dt.year\n",
    "df_da['month']  = df_da['q_creationdate'].dt.month\n",
    "df_da['day']    = df_da['q_creationdate'].dt.day"
   ]
  },
  {
   "cell_type": "code",
   "execution_count": 7,
   "metadata": {},
   "outputs": [],
   "source": [
    "df_body['date'] = df_body['creationdate'].dt.date\n",
    "df_body['year'] = df_body['creationdate'].dt.year\n",
    "df_body['month'] = df_body['creationdate'].dt.month\n",
    "df_body['day'] = df_body['creationdate'].dt.day"
   ]
  },
  {
   "cell_type": "code",
   "execution_count": 8,
   "metadata": {},
   "outputs": [
    {
     "data": {
      "text/html": [
       "<div>\n",
       "<style scoped>\n",
       "    .dataframe tbody tr th:only-of-type {\n",
       "        vertical-align: middle;\n",
       "    }\n",
       "\n",
       "    .dataframe tbody tr th {\n",
       "        vertical-align: top;\n",
       "    }\n",
       "\n",
       "    .dataframe thead th {\n",
       "        text-align: right;\n",
       "    }\n",
       "</style>\n",
       "<table border=\"1\" class=\"dataframe\">\n",
       "  <thead>\n",
       "    <tr style=\"text-align: right;\">\n",
       "      <th></th>\n",
       "      <th>creationdate</th>\n",
       "      <th>id</th>\n",
       "      <th>posttypeid</th>\n",
       "      <th>title</th>\n",
       "      <th>owneruserid</th>\n",
       "      <th>body</th>\n",
       "      <th>answered_yn</th>\n",
       "      <th>date</th>\n",
       "      <th>year</th>\n",
       "      <th>month</th>\n",
       "      <th>day</th>\n",
       "    </tr>\n",
       "  </thead>\n",
       "  <tbody>\n",
       "    <tr>\n",
       "      <th>0</th>\n",
       "      <td>2023-10-26 15:34:53.830</td>\n",
       "      <td>77368423</td>\n",
       "      <td>2</td>\n",
       "      <td>None</td>\n",
       "      <td>508057.0</td>\n",
       "      <td>&lt;p&gt;If all machines are on the same LAN, then y...</td>\n",
       "      <td>0</td>\n",
       "      <td>2023-10-26</td>\n",
       "      <td>2023</td>\n",
       "      <td>10</td>\n",
       "      <td>26</td>\n",
       "    </tr>\n",
       "    <tr>\n",
       "      <th>1</th>\n",
       "      <td>2023-11-01 08:52:42.577</td>\n",
       "      <td>77401389</td>\n",
       "      <td>1</td>\n",
       "      <td>Unable to do File Upload using sendkeys method...</td>\n",
       "      <td>22838353.0</td>\n",
       "      <td>&lt;p&gt;I am trying to automate a webpage using Sel...</td>\n",
       "      <td>0</td>\n",
       "      <td>2023-11-01</td>\n",
       "      <td>2023</td>\n",
       "      <td>11</td>\n",
       "      <td>1</td>\n",
       "    </tr>\n",
       "    <tr>\n",
       "      <th>2</th>\n",
       "      <td>2023-10-30 14:32:47.247</td>\n",
       "      <td>77389520</td>\n",
       "      <td>1</td>\n",
       "      <td>Run macro based on cell contents if cell changes</td>\n",
       "      <td>22828175.0</td>\n",
       "      <td>&lt;p&gt;I want to run a macro if a cell changes bas...</td>\n",
       "      <td>0</td>\n",
       "      <td>2023-10-30</td>\n",
       "      <td>2023</td>\n",
       "      <td>10</td>\n",
       "      <td>30</td>\n",
       "    </tr>\n",
       "    <tr>\n",
       "      <th>3</th>\n",
       "      <td>2023-10-30 14:36:20.843</td>\n",
       "      <td>77389551</td>\n",
       "      <td>2</td>\n",
       "      <td>None</td>\n",
       "      <td>12500315.0</td>\n",
       "      <td>&lt;p&gt;Whilst you &lt;em&gt;could&lt;/em&gt; write your own wr...</td>\n",
       "      <td>0</td>\n",
       "      <td>2023-10-30</td>\n",
       "      <td>2023</td>\n",
       "      <td>10</td>\n",
       "      <td>30</td>\n",
       "    </tr>\n",
       "    <tr>\n",
       "      <th>4</th>\n",
       "      <td>2023-10-23 09:20:47.107</td>\n",
       "      <td>77344034</td>\n",
       "      <td>1</td>\n",
       "      <td>Asp.Net chunking cookie issue</td>\n",
       "      <td>3365923.0</td>\n",
       "      <td>&lt;p&gt;I am using ASP.NET Identity. The login app ...</td>\n",
       "      <td>0</td>\n",
       "      <td>2023-10-23</td>\n",
       "      <td>2023</td>\n",
       "      <td>10</td>\n",
       "      <td>23</td>\n",
       "    </tr>\n",
       "  </tbody>\n",
       "</table>\n",
       "</div>"
      ],
      "text/plain": [
       "             creationdate        id posttypeid  \\\n",
       "0 2023-10-26 15:34:53.830  77368423          2   \n",
       "1 2023-11-01 08:52:42.577  77401389          1   \n",
       "2 2023-10-30 14:32:47.247  77389520          1   \n",
       "3 2023-10-30 14:36:20.843  77389551          2   \n",
       "4 2023-10-23 09:20:47.107  77344034          1   \n",
       "\n",
       "                                               title  owneruserid  \\\n",
       "0                                               None     508057.0   \n",
       "1  Unable to do File Upload using sendkeys method...   22838353.0   \n",
       "2   Run macro based on cell contents if cell changes   22828175.0   \n",
       "3                                               None   12500315.0   \n",
       "4                      Asp.Net chunking cookie issue    3365923.0   \n",
       "\n",
       "                                                body  answered_yn        date  \\\n",
       "0  <p>If all machines are on the same LAN, then y...            0  2023-10-26   \n",
       "1  <p>I am trying to automate a webpage using Sel...            0  2023-11-01   \n",
       "2  <p>I want to run a macro if a cell changes bas...            0  2023-10-30   \n",
       "3  <p>Whilst you <em>could</em> write your own wr...            0  2023-10-30   \n",
       "4  <p>I am using ASP.NET Identity. The login app ...            0  2023-10-23   \n",
       "\n",
       "   year  month  day  \n",
       "0  2023     10   26  \n",
       "1  2023     11    1  \n",
       "2  2023     10   30  \n",
       "3  2023     10   30  \n",
       "4  2023     10   23  "
      ]
     },
     "execution_count": 8,
     "metadata": {},
     "output_type": "execute_result"
    }
   ],
   "source": [
    "df_body.head()"
   ]
  },
  {
   "cell_type": "markdown",
   "metadata": {},
   "source": [
    "## 2. Preprocessing "
   ]
  },
  {
   "cell_type": "code",
   "execution_count": 9,
   "metadata": {},
   "outputs": [],
   "source": [
    "# def cleanhtml(raw_html):\n",
    "#   cleanr = re.compile('<(/)?([a-zA-Z0-9]*)(\\\\s[a-zA-Z0-9]*=[^>]*)?(\\\\s)*(/)?>')\n",
    "#   cleantext = re.sub(cleanr, '', raw_html)\n",
    "#   cleantext = re.sub(r\"\\n\", \"\", cleantext)\n",
    "#   cleantext = re.sub(r\"\\r\", \"\", cleantext)\n",
    "#   cleantext = re.sub(r\"\\t\", \"\", cleantext)\n",
    "#   return cleantext"
   ]
  },
  {
   "cell_type": "code",
   "execution_count": 10,
   "metadata": {},
   "outputs": [],
   "source": [
    "def cleanhtml(raw_html):\n",
    "  #1. replace newline to space\n",
    "  # To analyze the text, it would be hard to understand all source code in python, so replace all the <code> tag first\n",
    "  # src_re = re.compile('<code>(?=[^<]*\\n)[\\s\\S]*?<\\/code>')\n",
    "  # src_re = re.compile('<code>[^<]*\\\\n[^<]*<\\/code>')\n",
    "  src_re = re.compile('<code>(.*?)<\\/code>')\n",
    "  cleantext_1 = re.sub(src_re, '', raw_html.replace('\\n', '_**_'))\n",
    "  cleantext_1 = cleantext_1.replace('_**_', '\\n')\n",
    "\n",
    "  tag_re = re.compile('<.*?>')\n",
    "  cleantext_2 = re.sub(tag_re, '', cleantext_1)\n",
    "\n",
    "  cleantext_2 = re.sub(r\"\\n\", \"\", cleantext_2)\n",
    "  cleantext_2 = re.sub(r\"\\r\", \"\", cleantext_2)\n",
    "  cleantext_2 = re.sub(r\"\\t\", \"\", cleantext_2)\n",
    "\n",
    "  return cleantext_2"
   ]
  },
  {
   "cell_type": "code",
   "execution_count": 11,
   "metadata": {},
   "outputs": [],
   "source": [
    "# apply the function, cleanhtml to the question and body text\n",
    "df_body['body_prep'] = df_body['body'].apply(cleanhtml)"
   ]
  },
  {
   "cell_type": "code",
   "execution_count": 12,
   "metadata": {},
   "outputs": [],
   "source": [
    "df_wl = df_body[['id', 'creationdate', 'body_prep']].copy()"
   ]
  },
  {
   "cell_type": "code",
   "execution_count": 13,
   "metadata": {},
   "outputs": [],
   "source": [
    "def wordlen(text):\n",
    "    return [x for x in text.split(' ') if len(x) > 6]"
   ]
  },
  {
   "cell_type": "code",
   "execution_count": 14,
   "metadata": {},
   "outputs": [],
   "source": [
    "df_wl['over6'] = df_wl['body_prep'].apply(wordlen)"
   ]
  },
  {
   "cell_type": "code",
   "execution_count": null,
   "metadata": {},
   "outputs": [],
   "source": []
  }
 ],
 "metadata": {
  "kernelspec": {
   "display_name": "Python 3 (ipykernel)",
   "language": "python",
   "name": "python3"
  },
  "language_info": {
   "codemirror_mode": {
    "name": "ipython",
    "version": 3
   },
   "file_extension": ".py",
   "mimetype": "text/x-python",
   "name": "python",
   "nbconvert_exporter": "python",
   "pygments_lexer": "ipython3",
   "version": "3.9.6"
  }
 },
 "nbformat": 4,
 "nbformat_minor": 4
}
