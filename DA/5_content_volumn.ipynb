{
 "cells": [
  {
   "cell_type": "code",
   "execution_count": 1,
   "metadata": {},
   "outputs": [],
   "source": [
    "import pandas as pd\n",
    "import numpy as np\n",
    "import statsmodels.api as sm\n",
    "import statsmodels.formula.api as smf\n",
    "import matplotlib.pyplot as plt\n",
    "import seaborn as sns\n",
    "from linearmodels.panel import PanelOLS\n",
    "from linearmodels.panel import compare\n",
    "import datetime\n",
    "\n",
    "\n",
    "# 데이터 읽기 및 전처리\n",
    "df_topic_day = pd.read_csv(\"../../R/data/topic_day_panel.csv\")\n",
    "sede_treat_0 = pd.read_csv(\"../../data/treat_0.csv\")\n",
    "sede_treat_1 = pd.read_csv(\"../../data/treat_1.csv\")"
   ]
  },
  {
   "cell_type": "code",
   "execution_count": 2,
   "metadata": {},
   "outputs": [
    {
     "name": "stdout",
     "output_type": "stream",
     "text": [
      "<class 'pandas.core.frame.DataFrame'>\n",
      "RangeIndex: 16100 entries, 0 to 16099\n",
      "Data columns (total 15 columns):\n",
      " #   Column          Non-Null Count  Dtype  \n",
      "---  ------          --------------  -----  \n",
      " 0   date            16100 non-null  object \n",
      " 1   tag             16100 non-null  object \n",
      " 2   q_count         16100 non-null  int64  \n",
      " 3   treat           16100 non-null  int64  \n",
      " 4   post            16100 non-null  int64  \n",
      " 5   rel_day         16100 non-null  int64  \n",
      " 6   rel_week        16100 non-null  int64  \n",
      " 7   subreddit_name  9982 non-null   object \n",
      " 8   subs            9387 non-null   float64\n",
      " 9   posts           8316 non-null   float64\n",
      " 10  comments        9044 non-null   float64\n",
      " 11  rel_month       16100 non-null  int64  \n",
      " 12  treated         16100 non-null  int64  \n",
      " 13  fect_id         16100 non-null  int64  \n",
      " 14  ln_q_count      16100 non-null  float64\n",
      "dtypes: float64(4), int64(8), object(3)\n",
      "memory usage: 1.8+ MB\n"
     ]
    }
   ],
   "source": [
    "df_topic_day.info()"
   ]
  },
  {
   "cell_type": "code",
   "execution_count": 3,
   "metadata": {},
   "outputs": [
    {
     "name": "stdout",
     "output_type": "stream",
     "text": [
      "<class 'pandas.core.frame.DataFrame'>\n",
      "RangeIndex: 5735 entries, 0 to 5734\n",
      "Data columns (total 3 columns):\n",
      " #   Column  Non-Null Count  Dtype \n",
      "---  ------  --------------  ----- \n",
      " 0   cdate   5735 non-null   object\n",
      " 1   tag     5735 non-null   object\n",
      " 2   cnt     5735 non-null   int64 \n",
      "dtypes: int64(1), object(2)\n",
      "memory usage: 134.5+ KB\n"
     ]
    }
   ],
   "source": [
    "sede_treat_0.info()"
   ]
  },
  {
   "cell_type": "code",
   "execution_count": 4,
   "metadata": {},
   "outputs": [
    {
     "name": "stdout",
     "output_type": "stream",
     "text": [
      "<class 'pandas.core.frame.DataFrame'>\n",
      "RangeIndex: 5726 entries, 0 to 5725\n",
      "Data columns (total 3 columns):\n",
      " #   Column  Non-Null Count  Dtype \n",
      "---  ------  --------------  ----- \n",
      " 0   cdate   5726 non-null   object\n",
      " 1   tag     5726 non-null   object\n",
      " 2   cnt     5726 non-null   int64 \n",
      "dtypes: int64(1), object(2)\n",
      "memory usage: 134.3+ KB\n"
     ]
    }
   ],
   "source": [
    "sede_treat_1.info()"
   ]
  },
  {
   "cell_type": "code",
   "execution_count": 7,
   "metadata": {},
   "outputs": [
    {
     "data": {
      "text/plain": [
       "36"
      ]
     },
     "execution_count": 7,
     "metadata": {},
     "output_type": "execute_result"
    }
   ],
   "source": [
    "len(df_topic_day['tag'].unique())\n",
    "len(sede_treat_1['tag'].unique())"
   ]
  },
  {
   "cell_type": "code",
   "execution_count": 8,
   "metadata": {},
   "outputs": [
    {
     "data": {
      "text/plain": [
       "array(['c#', 'c++', 'css', 'docker', 'excel', 'javascript', 'python-3.x',\n",
       "       'react-native', 'reactjs', 'spring', 'spring-boot', 'sql-server',\n",
       "       'typescript', 'visual-studio-code'], dtype=object)"
      ]
     },
     "execution_count": 8,
     "metadata": {},
     "output_type": "execute_result"
    }
   ],
   "source": [
    "np.setdiff1d(df_topic_day['tag'].unique(),sede_treat_1['tag'].unique() )"
   ]
  },
  {
   "cell_type": "code",
   "execution_count": 10,
   "metadata": {},
   "outputs": [],
   "source": [
    "topic_arr = df_topic_day['tag'].unique()"
   ]
  },
  {
   "cell_type": "code",
   "execution_count": 11,
   "metadata": {},
   "outputs": [
    {
     "data": {
      "text/plain": [
       "\"tags like '%<.net>%' or tags like '%<amazon-web-services>%' or tags like '%<android>%' or tags like '%<angular>%' or tags like '%<api>%' or tags like '%<arrays>%' or tags like '%<azure>%' or tags like '%<c>%' or tags like '%<c#>%' or tags like '%<c++>%' or tags like '%<css>%' or tags like '%<dart>%' or tags like '%<dataframe>%' or tags like '%<django>%' or tags like '%<docker>%' or tags like '%<excel>%' or tags like '%<firebase>%' or tags like '%<flutter>%' or tags like '%<html>%' or tags like '%<ios>%' or tags like '%<java>%' or tags like '%<javascript>%' or tags like '%<jquery>%' or tags like '%<json>%' or tags like '%<kotlin>%' or tags like '%<laravel>%' or tags like '%<linux>%' or tags like '%<list>%' or tags like '%<mongodb>%' or tags like '%<mysql>%' or tags like '%<next.js>%' or tags like '%<node.js>%' or tags like '%<numpy>%' or tags like '%<pandas>%' or tags like '%<php>%' or tags like '%<postgresql>%' or tags like '%<python>%' or tags like '%<python-3.x>%' or tags like '%<r>%' or tags like '%<react-native>%' or tags like '%<reactjs>%' or tags like '%<spring>%' or tags like '%<spring-boot>%' or tags like '%<sql>%' or tags like '%<sql-server>%' or tags like '%<swift>%' or tags like '%<typescript>%' or tags like '%<vba>%' or tags like '%<visual-studio-code>%' or tags like '%<vue.js>%' or\""
      ]
     },
     "execution_count": 11,
     "metadata": {},
     "output_type": "execute_result"
    }
   ],
   "source": [
    "' '.join(['tags like ' + \"'%<\"+x +\">%'\"+  ' or' for x in topic_arr])"
   ]
  },
  {
   "cell_type": "code",
   "execution_count": 12,
   "metadata": {},
   "outputs": [
    {
     "data": {
      "text/plain": [
       "\"when tags like '%<.net>%' then '.net' when tags like '%<amazon-web-services>%' then 'amazon-web-services' when tags like '%<android>%' then 'android' when tags like '%<angular>%' then 'angular' when tags like '%<api>%' then 'api' when tags like '%<arrays>%' then 'arrays' when tags like '%<azure>%' then 'azure' when tags like '%<c>%' then 'c' when tags like '%<c#>%' then 'c#' when tags like '%<c++>%' then 'c++' when tags like '%<css>%' then 'css' when tags like '%<dart>%' then 'dart' when tags like '%<dataframe>%' then 'dataframe' when tags like '%<django>%' then 'django' when tags like '%<docker>%' then 'docker' when tags like '%<excel>%' then 'excel' when tags like '%<firebase>%' then 'firebase' when tags like '%<flutter>%' then 'flutter' when tags like '%<html>%' then 'html' when tags like '%<ios>%' then 'ios' when tags like '%<java>%' then 'java' when tags like '%<javascript>%' then 'javascript' when tags like '%<jquery>%' then 'jquery' when tags like '%<json>%' then 'json' when tags like '%<kotlin>%' then 'kotlin' when tags like '%<laravel>%' then 'laravel' when tags like '%<linux>%' then 'linux' when tags like '%<list>%' then 'list' when tags like '%<mongodb>%' then 'mongodb' when tags like '%<mysql>%' then 'mysql' when tags like '%<next.js>%' then 'next.js' when tags like '%<node.js>%' then 'node.js' when tags like '%<numpy>%' then 'numpy' when tags like '%<pandas>%' then 'pandas' when tags like '%<php>%' then 'php' when tags like '%<postgresql>%' then 'postgresql' when tags like '%<python>%' then 'python' when tags like '%<python-3.x>%' then 'python-3.x' when tags like '%<r>%' then 'r' when tags like '%<react-native>%' then 'react-native' when tags like '%<reactjs>%' then 'reactjs' when tags like '%<spring>%' then 'spring' when tags like '%<spring-boot>%' then 'spring-boot' when tags like '%<sql>%' then 'sql' when tags like '%<sql-server>%' then 'sql-server' when tags like '%<swift>%' then 'swift' when tags like '%<typescript>%' then 'typescript' when tags like '%<vba>%' then 'vba' when tags like '%<visual-studio-code>%' then 'visual-studio-code' when tags like '%<vue.js>%' then 'vue.js'\""
      ]
     },
     "execution_count": 12,
     "metadata": {},
     "output_type": "execute_result"
    }
   ],
   "source": [
    "' '.join(['when tags like ' + \"'%<\"+x +\">%'\"+  ' then ' + \"'\"+x+\"'\" for x in topic_arr])"
   ]
  },
  {
   "cell_type": "code",
   "execution_count": null,
   "metadata": {},
   "outputs": [],
   "source": [
    "len(df_topic_day['tag'].value_counts())"
   ]
  },
  {
   "cell_type": "code",
   "execution_count": null,
   "metadata": {},
   "outputs": [],
   "source": [
    "len(df_topic_day['date'].value_counts())"
   ]
  },
  {
   "cell_type": "code",
   "execution_count": 29,
   "metadata": {},
   "outputs": [],
   "source": [
    "pd.DataFrame(df_topic_day['date'].unique()).to_csv('chk.csv')\n",
    "# .to_csv('chk.csv')"
   ]
  },
  {
   "cell_type": "code",
   "execution_count": null,
   "metadata": {},
   "outputs": [],
   "source": [
    "print(df_topic_day['date'].min())\n",
    "print(df_topic_day['date'].max())"
   ]
  },
  {
   "cell_type": "code",
   "execution_count": null,
   "metadata": {},
   "outputs": [],
   "source": [
    "datetime.date(2023,3,14) - datetime.date(2021,10,6)"
   ]
  },
  {
   "cell_type": "code",
   "execution_count": null,
   "metadata": {},
   "outputs": [],
   "source": [
    "df_topic_day[df_topic_day['date'] =='2021-10-20']"
   ]
  },
  {
   "cell_type": "code",
   "execution_count": null,
   "metadata": {},
   "outputs": [],
   "source": [
    "print(df_topic_day.loc[df_topic_day['treat']==0, 'date'].min())\n",
    "print(df_topic_day.loc[df_topic_day['treat']==0, 'date'].max())"
   ]
  },
  {
   "cell_type": "code",
   "execution_count": null,
   "metadata": {},
   "outputs": [],
   "source": [
    "print(df_topic_day.loc[df_topic_day['treat']==1, 'date'].min())\n",
    "print(df_topic_day.loc[df_topic_day['treat']==1, 'date'].max())"
   ]
  },
  {
   "cell_type": "code",
   "execution_count": 8,
   "metadata": {},
   "outputs": [],
   "source": [
    "df_tmp1 = df_topic_day.loc[df_topic_day['treat']==0, :].head(4)"
   ]
  },
  {
   "cell_type": "code",
   "execution_count": null,
   "metadata": {},
   "outputs": [],
   "source": [
    "df_tmp1"
   ]
  },
  {
   "cell_type": "code",
   "execution_count": 71,
   "metadata": {},
   "outputs": [],
   "source": [
    "df_tmp2 = df_topic_day.loc[(df_topic_day['treat']==0) &(df_topic_day['tag']=='vue.js'), :].head(3)"
   ]
  },
  {
   "cell_type": "code",
   "execution_count": null,
   "metadata": {},
   "outputs": [],
   "source": [
    "pd.concat([df_tmp1,df_tmp2], axis = 0)"
   ]
  },
  {
   "cell_type": "code",
   "execution_count": null,
   "metadata": {},
   "outputs": [],
   "source": [
    "df_topic_day[['date', 'tag']].drop_duplicates()"
   ]
  },
  {
   "cell_type": "code",
   "execution_count": 4,
   "metadata": {},
   "outputs": [],
   "source": [
    "df_topic_day['date'] = pd.to_datetime(df_topic_day['date'])"
   ]
  },
  {
   "cell_type": "code",
   "execution_count": 5,
   "metadata": {},
   "outputs": [],
   "source": [
    "# rel_week을 범주형 변수로 변환 (주차별 처리)\n",
    "df_topic_day['rel_week'] = pd.Categorical(df_topic_day['rel_week'])"
   ]
  },
  {
   "cell_type": "code",
   "execution_count": 9,
   "metadata": {},
   "outputs": [],
   "source": [
    "df_topic_day = df_topic_day.set_index(['tag', 'date'])"
   ]
  },
  {
   "cell_type": "code",
   "execution_count": 7,
   "metadata": {},
   "outputs": [],
   "source": [
    "# post와 treat 상호작용 변수 추가 (R의 i(post, ref=0):treat 대응)\n",
    "# df_topic_day['post_treat'] = df_topic_day['post'] * df_topic_day['treat']"
   ]
  },
  {
   "cell_type": "code",
   "execution_count": 10,
   "metadata": {},
   "outputs": [],
   "source": [
    "# 고정 효과 모델 (tag를 고정 효과로 포함하고, rel_week도 설명 변수로 포함)\n",
    "mod_quest_vol_so_dyn = PanelOLS.from_formula('q_count ~ C(rel_week) * treat + EntityEffects',\n",
    "                                             data=df_topic_day)\n",
    "result_dyn = mod_quest_vol_so_dyn.fit(cov_type='clustered', cluster_entity=True)\n"
   ]
  },
  {
   "cell_type": "code",
   "execution_count": 11,
   "metadata": {},
   "outputs": [],
   "source": [
    "# 동적 효과 계수 추출\n",
    "coefs = result_dyn.params\n",
    "std_errors = result_dyn.std_errors\n",
    "conf_int = result_dyn.conf_int()"
   ]
  },
  {
   "cell_type": "code",
   "execution_count": 14,
   "metadata": {},
   "outputs": [],
   "source": [
    "periods = np.arange(-7, 15, 1)\n"
   ]
  },
  {
   "cell_type": "code",
   "execution_count": null,
   "metadata": {},
   "outputs": [],
   "source": [
    "[f'C(rel_week)[T.{i}]:treat' for i in periods]"
   ]
  },
  {
   "cell_type": "code",
   "execution_count": null,
   "metadata": {},
   "outputs": [],
   "source": [
    "coefs['C(rel_week)[T.14]:treat']\n",
    "#     'C(rel_week)[T.14]:treat'"
   ]
  },
  {
   "cell_type": "code",
   "execution_count": 30,
   "metadata": {},
   "outputs": [],
   "source": [
    "coefs_filtered = coefs.loc[[f'C(rel_week)[T.{i}]:treat' for i in periods]].values\n",
    "std_errors_filtered = std_errors.loc[[f'C(rel_week)[T.{i}]:treat' for i in periods]].values\n"
   ]
  },
  {
   "cell_type": "code",
   "execution_count": 31,
   "metadata": {},
   "outputs": [],
   "source": [
    "# 신뢰구간 계산\n",
    "ll_95 = coefs_filtered - 1.965 * std_errors_filtered\n",
    "ul_95 = coefs_filtered + 1.965 * std_errors_filtered\n",
    "\n",
    "# 데이터프레임 생성 (계수와 신뢰구간)\n",
    "df_coefs = pd.DataFrame({\n",
    "    'period': periods,\n",
    "    'Estimate': coefs_filtered,\n",
    "    'll_95': ll_95,\n",
    "    'ul_95': ul_95\n",
    "})"
   ]
  },
  {
   "cell_type": "code",
   "execution_count": 35,
   "metadata": {},
   "outputs": [],
   "source": [
    "df_coefs.to_csv('chk.csv')"
   ]
  },
  {
   "cell_type": "code",
   "execution_count": null,
   "metadata": {},
   "outputs": [],
   "source": [
    "# Plot 그리기\n",
    "plt.figure(figsize=(10, 6))\n",
    "plt.fill_between(df_coefs['period'], df_coefs['ll_95'], df_coefs['ul_95'], color='gray', alpha=0.5)\n",
    "plt.plot(df_coefs['period'], df_coefs['Estimate'], color='black', linewidth=2)\n",
    "plt.axvline(x=0, color='red', linestyle='-.', linewidth=1)\n",
    "plt.axhline(y=0, color='black', linestyle='--')\n",
    "\n",
    "# 그래프 설정\n",
    "plt.xlabel(\"Week Relative to ChatGPT Release\", fontsize=14)\n",
    "plt.ylabel(\"Content Volume Effect and 95% CI\", fontsize=14)\n",
    "plt.title(\"Stack Overflow\", fontsize=16)\n",
    "plt.xticks(rotation=45)\n",
    "plt.grid(False)\n",
    "plt.show()"
   ]
  },
  {
   "cell_type": "code",
   "execution_count": null,
   "metadata": {},
   "outputs": [],
   "source": [
    "df_topic_day\n",
    "-- 알수가 없음....나쁜놈들...."
   ]
  },
  {
   "cell_type": "code",
   "execution_count": null,
   "metadata": {},
   "outputs": [],
   "source": []
  }
 ],
 "metadata": {
  "kernelspec": {
   "display_name": "Python 3 (ipykernel)",
   "language": "python",
   "name": "python3"
  },
  "language_info": {
   "codemirror_mode": {
    "name": "ipython",
    "version": 3
   },
   "file_extension": ".py",
   "mimetype": "text/x-python",
   "name": "python",
   "nbconvert_exporter": "python",
   "pygments_lexer": "ipython3",
   "version": "3.9.6"
  }
 },
 "nbformat": 4,
 "nbformat_minor": 4
}
