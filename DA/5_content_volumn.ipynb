{
 "cells": [
  {
   "cell_type": "code",
   "execution_count": 1,
   "metadata": {},
   "outputs": [],
   "source": [
    "import pandas as pd\n",
    "import numpy as np\n",
    "import statsmodels.api as sm\n",
    "import statsmodels.formula.api as smf\n",
    "import matplotlib.pyplot as plt\n",
    "import seaborn as sns\n",
    "from linearmodels.panel import PanelOLS\n",
    "from linearmodels.panel import compare\n",
    "import datetime\n",
    "\n",
    "\n",
    "# 데이터 읽기 및 전처리\n",
    "df_topic_day = pd.read_csv(\"../../R/data/topic_day_panel.csv\")\n",
    "sede_treat_0 = pd.read_csv(\"../../data/treat_0.csv\")\n",
    "sede_treat_1 = pd.read_csv(\"../../data/treat_1.csv\")\n",
    "\n",
    "sede_treat_0_1 = pd.read_csv(\"../../data/treat_0_1.csv\")\n",
    "sede_treat_0_2 = pd.read_csv(\"../../data/treat_0_2.csv\")\n",
    "sede_treat_1_1 = pd.read_csv(\"../../data/treat_1_1.csv\")\n",
    "sede_treat_1_2 = pd.read_csv(\"../../data/treat_1_2.csv\")"
   ]
  },
  {
   "cell_type": "code",
   "execution_count": 2,
   "metadata": {},
   "outputs": [
    {
     "name": "stdout",
     "output_type": "stream",
     "text": [
      "<class 'pandas.core.frame.DataFrame'>\n",
      "RangeIndex: 16100 entries, 0 to 16099\n",
      "Data columns (total 15 columns):\n",
      " #   Column          Non-Null Count  Dtype  \n",
      "---  ------          --------------  -----  \n",
      " 0   date            16100 non-null  object \n",
      " 1   tag             16100 non-null  object \n",
      " 2   q_count         16100 non-null  int64  \n",
      " 3   treat           16100 non-null  int64  \n",
      " 4   post            16100 non-null  int64  \n",
      " 5   rel_day         16100 non-null  int64  \n",
      " 6   rel_week        16100 non-null  int64  \n",
      " 7   subreddit_name  9982 non-null   object \n",
      " 8   subs            9387 non-null   float64\n",
      " 9   posts           8316 non-null   float64\n",
      " 10  comments        9044 non-null   float64\n",
      " 11  rel_month       16100 non-null  int64  \n",
      " 12  treated         16100 non-null  int64  \n",
      " 13  fect_id         16100 non-null  int64  \n",
      " 14  ln_q_count      16100 non-null  float64\n",
      "dtypes: float64(4), int64(8), object(3)\n",
      "memory usage: 1.8+ MB\n"
     ]
    }
   ],
   "source": [
    "df_topic_day.info()"
   ]
  },
  {
   "cell_type": "code",
   "execution_count": 3,
   "metadata": {},
   "outputs": [],
   "source": [
    "df_topic_day['date'] = pd.to_datetime(df_topic_day['date'])"
   ]
  },
  {
   "cell_type": "code",
   "execution_count": 4,
   "metadata": {},
   "outputs": [
    {
     "name": "stdout",
     "output_type": "stream",
     "text": [
      "<class 'pandas.core.frame.DataFrame'>\n",
      "RangeIndex: 87 entries, 0 to 86\n",
      "Data columns (total 51 columns):\n",
      " #   Column               Non-Null Count  Dtype \n",
      "---  ------               --------------  ----- \n",
      " 0   cdate                87 non-null     object\n",
      " 1   net                  87 non-null     int64 \n",
      " 2   amazon_web_services  87 non-null     int64 \n",
      " 3   android              87 non-null     int64 \n",
      " 4   angular              87 non-null     int64 \n",
      " 5   api                  87 non-null     int64 \n",
      " 6   arrays               87 non-null     int64 \n",
      " 7   azure                87 non-null     int64 \n",
      " 8   c                    87 non-null     int64 \n",
      " 9   c#                   87 non-null     int64 \n",
      " 10  cplusplus            87 non-null     int64 \n",
      " 11  css                  87 non-null     int64 \n",
      " 12  dart                 87 non-null     int64 \n",
      " 13  dataframe            87 non-null     int64 \n",
      " 14  django               87 non-null     int64 \n",
      " 15  docker               87 non-null     int64 \n",
      " 16  excel                87 non-null     int64 \n",
      " 17  firebase             87 non-null     int64 \n",
      " 18  flutter              87 non-null     int64 \n",
      " 19  html                 87 non-null     int64 \n",
      " 20  ios                  87 non-null     int64 \n",
      " 21  java                 87 non-null     int64 \n",
      " 22  javascript           87 non-null     int64 \n",
      " 23  jquery               87 non-null     int64 \n",
      " 24  json                 87 non-null     int64 \n",
      " 25  kotlin               87 non-null     int64 \n",
      " 26  laravel              87 non-null     int64 \n",
      " 27  linux                87 non-null     int64 \n",
      " 28  list                 87 non-null     int64 \n",
      " 29  mongodb              87 non-null     int64 \n",
      " 30  mysql                87 non-null     int64 \n",
      " 31  nextjs               87 non-null     int64 \n",
      " 32  nodejs               87 non-null     int64 \n",
      " 33  numpy                87 non-null     int64 \n",
      " 34  pandas               87 non-null     int64 \n",
      " 35  php                  87 non-null     int64 \n",
      " 36  postgresql           87 non-null     int64 \n",
      " 37  python               87 non-null     int64 \n",
      " 38  python_3x            87 non-null     int64 \n",
      " 39  r                    87 non-null     int64 \n",
      " 40  react_native         87 non-null     int64 \n",
      " 41  reactjs              87 non-null     int64 \n",
      " 42  spring               87 non-null     int64 \n",
      " 43  spring_boot          87 non-null     int64 \n",
      " 44  sql                  87 non-null     int64 \n",
      " 45  sql_server           87 non-null     int64 \n",
      " 46  swift                87 non-null     int64 \n",
      " 47  typescript           87 non-null     int64 \n",
      " 48  vba                  87 non-null     int64 \n",
      " 49  visual_studio_code   87 non-null     int64 \n",
      " 50  vuejs                87 non-null     int64 \n",
      "dtypes: int64(50), object(1)\n",
      "memory usage: 34.8+ KB\n"
     ]
    }
   ],
   "source": [
    "sede_treat_0_1.info()"
   ]
  },
  {
   "cell_type": "code",
   "execution_count": 5,
   "metadata": {},
   "outputs": [
    {
     "name": "stdout",
     "output_type": "stream",
     "text": [
      "<class 'pandas.core.frame.DataFrame'>\n",
      "RangeIndex: 74 entries, 0 to 73\n",
      "Data columns (total 51 columns):\n",
      " #   Column               Non-Null Count  Dtype \n",
      "---  ------               --------------  ----- \n",
      " 0   cdate                74 non-null     object\n",
      " 1   net                  74 non-null     int64 \n",
      " 2   amazon_web_services  74 non-null     int64 \n",
      " 3   android              74 non-null     int64 \n",
      " 4   angular              74 non-null     int64 \n",
      " 5   api                  74 non-null     int64 \n",
      " 6   arrays               74 non-null     int64 \n",
      " 7   azure                74 non-null     int64 \n",
      " 8   c                    74 non-null     int64 \n",
      " 9   c#                   74 non-null     int64 \n",
      " 10  cplusplus            74 non-null     int64 \n",
      " 11  css                  74 non-null     int64 \n",
      " 12  dart                 74 non-null     int64 \n",
      " 13  dataframe            74 non-null     int64 \n",
      " 14  django               74 non-null     int64 \n",
      " 15  docker               74 non-null     int64 \n",
      " 16  excel                74 non-null     int64 \n",
      " 17  firebase             74 non-null     int64 \n",
      " 18  flutter              74 non-null     int64 \n",
      " 19  html                 74 non-null     int64 \n",
      " 20  ios                  74 non-null     int64 \n",
      " 21  java                 74 non-null     int64 \n",
      " 22  javascript           74 non-null     int64 \n",
      " 23  jquery               74 non-null     int64 \n",
      " 24  json                 74 non-null     int64 \n",
      " 25  kotlin               74 non-null     int64 \n",
      " 26  laravel              74 non-null     int64 \n",
      " 27  linux                74 non-null     int64 \n",
      " 28  list                 74 non-null     int64 \n",
      " 29  mongodb              74 non-null     int64 \n",
      " 30  mysql                74 non-null     int64 \n",
      " 31  nextjs               74 non-null     int64 \n",
      " 32  nodejs               74 non-null     int64 \n",
      " 33  numpy                74 non-null     int64 \n",
      " 34  pandas               74 non-null     int64 \n",
      " 35  php                  74 non-null     int64 \n",
      " 36  postgresql           74 non-null     int64 \n",
      " 37  python               74 non-null     int64 \n",
      " 38  python_3x            74 non-null     int64 \n",
      " 39  r                    74 non-null     int64 \n",
      " 40  react_native         74 non-null     int64 \n",
      " 41  reactjs              74 non-null     int64 \n",
      " 42  spring               74 non-null     int64 \n",
      " 43  spring_boot          74 non-null     int64 \n",
      " 44  sql                  74 non-null     int64 \n",
      " 45  sql_server           74 non-null     int64 \n",
      " 46  swift                74 non-null     int64 \n",
      " 47  typescript           74 non-null     int64 \n",
      " 48  vba                  74 non-null     int64 \n",
      " 49  visual_studio_code   74 non-null     int64 \n",
      " 50  vuejs                74 non-null     int64 \n",
      "dtypes: int64(50), object(1)\n",
      "memory usage: 29.6+ KB\n"
     ]
    }
   ],
   "source": [
    "sede_treat_0_2.info()"
   ]
  },
  {
   "cell_type": "code",
   "execution_count": 6,
   "metadata": {},
   "outputs": [],
   "source": [
    "old_col = [ x for x in df_topic_day['tag'].unique()]\n",
    "new_col = [ x.replace('.', '').replace('-', '_').replace('+', 'plus') for x in df_topic_day['tag'].unique()]"
   ]
  },
  {
   "cell_type": "code",
   "execution_count": 7,
   "metadata": {},
   "outputs": [],
   "source": [
    "col_dict = { x.replace('.', '').replace('-', '_').replace('+', 'plus') :x for x in df_topic_day['tag'].unique()}"
   ]
  },
  {
   "cell_type": "code",
   "execution_count": 8,
   "metadata": {},
   "outputs": [],
   "source": [
    "sede_treat = pd.concat([sede_treat_0_1, sede_treat_0_2, sede_treat_1_1, sede_treat_1_2], axis = 0)"
   ]
  },
  {
   "cell_type": "code",
   "execution_count": 9,
   "metadata": {},
   "outputs": [
    {
     "data": {
      "text/plain": [
       "Index(['amazon_web_services', 'android', 'angular', 'api', 'arrays', 'azure',\n",
       "       'c', 'c#', 'cplusplus', 'css', 'dart', 'dataframe', 'django', 'docker',\n",
       "       'excel', 'firebase', 'flutter', 'html', 'ios', 'java', 'javascript',\n",
       "       'jquery', 'json', 'kotlin', 'laravel', 'linux', 'list', 'mongodb',\n",
       "       'mysql', 'nextjs', 'nodejs', 'numpy', 'pandas', 'php', 'postgresql',\n",
       "       'python', 'python_3x', 'r', 'react_native', 'reactjs', 'spring',\n",
       "       'spring_boot', 'sql', 'sql_server', 'swift', 'typescript', 'vba',\n",
       "       'visual_studio_code', 'vuejs'],\n",
       "      dtype='object')"
      ]
     },
     "execution_count": 9,
     "metadata": {},
     "output_type": "execute_result"
    }
   ],
   "source": [
    "sede_treat.columns[2:]"
   ]
  },
  {
   "cell_type": "code",
   "execution_count": 10,
   "metadata": {},
   "outputs": [
    {
     "data": {
      "text/plain": [
       "{'net': '.net',\n",
       " 'amazon_web_services': 'amazon-web-services',\n",
       " 'android': 'android',\n",
       " 'angular': 'angular',\n",
       " 'api': 'api',\n",
       " 'arrays': 'arrays',\n",
       " 'azure': 'azure',\n",
       " 'c': 'c',\n",
       " 'c#': 'c#',\n",
       " 'cplusplus': 'c++',\n",
       " 'css': 'css',\n",
       " 'dart': 'dart',\n",
       " 'dataframe': 'dataframe',\n",
       " 'django': 'django',\n",
       " 'docker': 'docker',\n",
       " 'excel': 'excel',\n",
       " 'firebase': 'firebase',\n",
       " 'flutter': 'flutter',\n",
       " 'html': 'html',\n",
       " 'ios': 'ios',\n",
       " 'java': 'java',\n",
       " 'javascript': 'javascript',\n",
       " 'jquery': 'jquery',\n",
       " 'json': 'json',\n",
       " 'kotlin': 'kotlin',\n",
       " 'laravel': 'laravel',\n",
       " 'linux': 'linux',\n",
       " 'list': 'list',\n",
       " 'mongodb': 'mongodb',\n",
       " 'mysql': 'mysql',\n",
       " 'nextjs': 'next.js',\n",
       " 'nodejs': 'node.js',\n",
       " 'numpy': 'numpy',\n",
       " 'pandas': 'pandas',\n",
       " 'php': 'php',\n",
       " 'postgresql': 'postgresql',\n",
       " 'python': 'python',\n",
       " 'python_3x': 'python-3.x',\n",
       " 'r': 'r',\n",
       " 'react_native': 'react-native',\n",
       " 'reactjs': 'reactjs',\n",
       " 'spring': 'spring',\n",
       " 'spring_boot': 'spring-boot',\n",
       " 'sql': 'sql',\n",
       " 'sql_server': 'sql-server',\n",
       " 'swift': 'swift',\n",
       " 'typescript': 'typescript',\n",
       " 'vba': 'vba',\n",
       " 'visual_studio_code': 'visual-studio-code',\n",
       " 'vuejs': 'vue.js'}"
      ]
     },
     "execution_count": 10,
     "metadata": {},
     "output_type": "execute_result"
    }
   ],
   "source": [
    "col_dict"
   ]
  },
  {
   "cell_type": "code",
   "execution_count": 12,
   "metadata": {},
   "outputs": [
    {
     "name": "stdout",
     "output_type": "stream",
     "text": [
      "amazon_web_services\n",
      "amazon-web-services\n",
      "android\n",
      "android\n",
      "angular\n",
      "angular\n",
      "api\n",
      "api\n",
      "arrays\n",
      "arrays\n",
      "azure\n",
      "azure\n",
      "c\n",
      "c\n",
      "c#\n",
      "c#\n",
      "cplusplus\n",
      "c++\n",
      "css\n",
      "css\n",
      "dart\n",
      "dart\n",
      "dataframe\n",
      "dataframe\n",
      "django\n",
      "django\n",
      "docker\n",
      "docker\n",
      "excel\n",
      "excel\n",
      "firebase\n",
      "firebase\n",
      "flutter\n",
      "flutter\n",
      "html\n",
      "html\n",
      "ios\n",
      "ios\n",
      "java\n",
      "java\n",
      "javascript\n",
      "javascript\n",
      "jquery\n",
      "jquery\n",
      "json\n",
      "json\n",
      "kotlin\n",
      "kotlin\n",
      "laravel\n",
      "laravel\n",
      "linux\n",
      "linux\n",
      "list\n",
      "list\n",
      "mongodb\n",
      "mongodb\n",
      "mysql\n",
      "mysql\n",
      "nextjs\n",
      "next.js\n",
      "nodejs\n",
      "node.js\n",
      "numpy\n",
      "numpy\n",
      "pandas\n",
      "pandas\n",
      "php\n",
      "php\n",
      "postgresql\n",
      "postgresql\n",
      "python\n",
      "python\n",
      "python_3x\n",
      "python-3.x\n",
      "r\n",
      "r\n",
      "react_native\n",
      "react-native\n",
      "reactjs\n",
      "reactjs\n",
      "spring\n",
      "spring\n",
      "spring_boot\n",
      "spring-boot\n",
      "sql\n",
      "sql\n",
      "sql_server\n",
      "sql-server\n",
      "swift\n",
      "swift\n",
      "typescript\n",
      "typescript\n",
      "vba\n",
      "vba\n",
      "visual_studio_code\n",
      "visual-studio-code\n",
      "vuejs\n",
      "vue.js\n"
     ]
    }
   ],
   "source": [
    "for col_nm in sede_treat.columns[2:] : \n",
    "    print(col_nm)\n",
    "    print(col_dict[col_nm])\n",
    "    sede_treat.rename(columns = {col_nm: col_dict[col_nm]}, inplace=True)\n"
   ]
  },
  {
   "cell_type": "code",
   "execution_count": 13,
   "metadata": {},
   "outputs": [
    {
     "data": {
      "text/plain": [
       "Index(['cdate', 'net', 'amazon-web-services', 'android', 'angular', 'api',\n",
       "       'arrays', 'azure', 'c', 'c#', 'c++', 'css', 'dart', 'dataframe',\n",
       "       'django', 'docker', 'excel', 'firebase', 'flutter', 'html', 'ios',\n",
       "       'java', 'javascript', 'jquery', 'json', 'kotlin', 'laravel', 'linux',\n",
       "       'list', 'mongodb', 'mysql', 'next.js', 'node.js', 'numpy', 'pandas',\n",
       "       'php', 'postgresql', 'python', 'python-3.x', 'r', 'react-native',\n",
       "       'reactjs', 'spring', 'spring-boot', 'sql', 'sql-server', 'swift',\n",
       "       'typescript', 'vba', 'visual-studio-code', 'vue.js'],\n",
       "      dtype='object')"
      ]
     },
     "execution_count": 13,
     "metadata": {},
     "output_type": "execute_result"
    }
   ],
   "source": [
    "sede_treat.columns"
   ]
  },
  {
   "cell_type": "code",
   "execution_count": 17,
   "metadata": {},
   "outputs": [],
   "source": [
    "sede_treat = sede_treat.melt(id_vars = 'cdate', value_vars=sede_treat.columns[1:])"
   ]
  },
  {
   "cell_type": "code",
   "execution_count": 18,
   "metadata": {},
   "outputs": [
    {
     "data": {
      "text/plain": [
       "(16100, 3)"
      ]
     },
     "execution_count": 18,
     "metadata": {},
     "output_type": "execute_result"
    }
   ],
   "source": [
    "sede_treat.shape"
   ]
  },
  {
   "cell_type": "code",
   "execution_count": 19,
   "metadata": {},
   "outputs": [],
   "source": [
    "sede_treat['cdate'] = pd.to_datetime(sede_treat['cdate'])"
   ]
  },
  {
   "cell_type": "code",
   "execution_count": 20,
   "metadata": {},
   "outputs": [],
   "source": [
    "sede_treat.columns = ['cdate', 'sede_tag', 'sede_q_count']"
   ]
  },
  {
   "cell_type": "code",
   "execution_count": 26,
   "metadata": {},
   "outputs": [],
   "source": [
    "sede_treat.loc[sede_treat['sede_tag'] =='net', 'sede_tag'] ='.net'"
   ]
  },
  {
   "cell_type": "code",
   "execution_count": 27,
   "metadata": {},
   "outputs": [
    {
     "data": {
      "text/html": [
       "<div>\n",
       "<style scoped>\n",
       "    .dataframe tbody tr th:only-of-type {\n",
       "        vertical-align: middle;\n",
       "    }\n",
       "\n",
       "    .dataframe tbody tr th {\n",
       "        vertical-align: top;\n",
       "    }\n",
       "\n",
       "    .dataframe thead th {\n",
       "        text-align: right;\n",
       "    }\n",
       "</style>\n",
       "<table border=\"1\" class=\"dataframe\">\n",
       "  <thead>\n",
       "    <tr style=\"text-align: right;\">\n",
       "      <th></th>\n",
       "      <th>cdate</th>\n",
       "      <th>sede_tag</th>\n",
       "      <th>sede_q_count</th>\n",
       "    </tr>\n",
       "  </thead>\n",
       "  <tbody>\n",
       "    <tr>\n",
       "      <th>0</th>\n",
       "      <td>2021-10-12</td>\n",
       "      <td>.net</td>\n",
       "      <td>150</td>\n",
       "    </tr>\n",
       "    <tr>\n",
       "      <th>1</th>\n",
       "      <td>2021-10-13</td>\n",
       "      <td>.net</td>\n",
       "      <td>144</td>\n",
       "    </tr>\n",
       "    <tr>\n",
       "      <th>2</th>\n",
       "      <td>2021-10-26</td>\n",
       "      <td>.net</td>\n",
       "      <td>136</td>\n",
       "    </tr>\n",
       "    <tr>\n",
       "      <th>3</th>\n",
       "      <td>2021-10-27</td>\n",
       "      <td>.net</td>\n",
       "      <td>122</td>\n",
       "    </tr>\n",
       "    <tr>\n",
       "      <th>4</th>\n",
       "      <td>2021-11-13</td>\n",
       "      <td>.net</td>\n",
       "      <td>80</td>\n",
       "    </tr>\n",
       "    <tr>\n",
       "      <th>...</th>\n",
       "      <td>...</td>\n",
       "      <td>...</td>\n",
       "      <td>...</td>\n",
       "    </tr>\n",
       "    <tr>\n",
       "      <th>16095</th>\n",
       "      <td>2023-01-31</td>\n",
       "      <td>vue.js</td>\n",
       "      <td>52</td>\n",
       "    </tr>\n",
       "    <tr>\n",
       "      <th>16096</th>\n",
       "      <td>2023-02-15</td>\n",
       "      <td>vue.js</td>\n",
       "      <td>45</td>\n",
       "    </tr>\n",
       "    <tr>\n",
       "      <th>16097</th>\n",
       "      <td>2023-02-17</td>\n",
       "      <td>vue.js</td>\n",
       "      <td>45</td>\n",
       "    </tr>\n",
       "    <tr>\n",
       "      <th>16098</th>\n",
       "      <td>2023-03-04</td>\n",
       "      <td>vue.js</td>\n",
       "      <td>27</td>\n",
       "    </tr>\n",
       "    <tr>\n",
       "      <th>16099</th>\n",
       "      <td>2023-03-06</td>\n",
       "      <td>vue.js</td>\n",
       "      <td>40</td>\n",
       "    </tr>\n",
       "  </tbody>\n",
       "</table>\n",
       "<p>16100 rows × 3 columns</p>\n",
       "</div>"
      ],
      "text/plain": [
       "           cdate sede_tag  sede_q_count\n",
       "0     2021-10-12     .net           150\n",
       "1     2021-10-13     .net           144\n",
       "2     2021-10-26     .net           136\n",
       "3     2021-10-27     .net           122\n",
       "4     2021-11-13     .net            80\n",
       "...          ...      ...           ...\n",
       "16095 2023-01-31   vue.js            52\n",
       "16096 2023-02-15   vue.js            45\n",
       "16097 2023-02-17   vue.js            45\n",
       "16098 2023-03-04   vue.js            27\n",
       "16099 2023-03-06   vue.js            40\n",
       "\n",
       "[16100 rows x 3 columns]"
      ]
     },
     "execution_count": 27,
     "metadata": {},
     "output_type": "execute_result"
    }
   ],
   "source": [
    "sede_treat"
   ]
  },
  {
   "cell_type": "code",
   "execution_count": 29,
   "metadata": {},
   "outputs": [],
   "source": [
    "tt = pd.merge(df_topic_day, sede_treat, left_on = ['date', 'tag'], right_on = ['cdate', 'sede_tag'], how= 'left')"
   ]
  },
  {
   "cell_type": "code",
   "execution_count": 31,
   "metadata": {},
   "outputs": [],
   "source": [
    "df_topic_day['date'] = pd.to_datetime(df_topic_day['date'])\n",
    "tt['date'] = pd.to_datetime(tt['date'])"
   ]
  },
  {
   "cell_type": "code",
   "execution_count": 32,
   "metadata": {},
   "outputs": [],
   "source": [
    "# rel_week을 범주형 변수로 변환 (주차별 처리)\n",
    "df_topic_day['rel_week'] = pd.Categorical(df_topic_day['rel_week'])\n",
    "tt['rel_week'] = pd.Categorical(tt['rel_week'])"
   ]
  },
  {
   "cell_type": "code",
   "execution_count": 33,
   "metadata": {},
   "outputs": [],
   "source": [
    "df_topic_day = df_topic_day.set_index(['tag', 'date'])\n",
    "tt = tt.set_index(['tag', 'date'])"
   ]
  },
  {
   "cell_type": "code",
   "execution_count": null,
   "metadata": {},
   "outputs": [],
   "source": [
    "# post와 treat 상호작용 변수 추가 (R의 i(post, ref=0):treat 대응)\n",
    "# df_topic_day['post_treat'] = df_topic_day['post'] * df_topic_day['treat']"
   ]
  },
  {
   "cell_type": "code",
   "execution_count": 42,
   "metadata": {},
   "outputs": [],
   "source": [
    "# 고정 효과 모델 (tag를 고정 효과로 포함하고, rel_week도 설명 변수로 포함)\n",
    "mod_quest_vol_so_dyn = PanelOLS.from_formula('q_count ~ C(rel_week) * treat + EntityEffects',\n",
    "                                             data=df_topic_day)\n",
    "result_dyn = mod_quest_vol_so_dyn.fit(cov_type='clustered', cluster_entity=True)\n"
   ]
  },
  {
   "cell_type": "code",
   "execution_count": 43,
   "metadata": {},
   "outputs": [],
   "source": [
    "# 고정 효과 모델 (tag를 고정 효과로 포함하고, rel_week도 설명 변수로 포함)\n",
    "tt_mod_quest_vol_so_dyn = PanelOLS.from_formula('sede_q_count ~ C(rel_week) * treat + EntityEffects',\n",
    "                                             data=tt)\n",
    "tt_result_dyn = tt_mod_quest_vol_so_dyn.fit(cov_type='clustered', cluster_entity=True)\n"
   ]
  },
  {
   "cell_type": "code",
   "execution_count": null,
   "metadata": {},
   "outputs": [],
   "source": [
    "tt"
   ]
  },
  {
   "cell_type": "code",
   "execution_count": 35,
   "metadata": {},
   "outputs": [],
   "source": [
    "# 동적 효과 계수 추출\n",
    "coefs = result_dyn.params\n",
    "std_errors = result_dyn.std_errors\n",
    "conf_int = result_dyn.conf_int()"
   ]
  },
  {
   "cell_type": "code",
   "execution_count": 44,
   "metadata": {},
   "outputs": [],
   "source": [
    "# 동적 효과 계수 추출\n",
    "tt_coefs = tt_result_dyn.params\n",
    "tt_std_errors = tt_result_dyn.std_errors\n",
    "tt_conf_int = tt_result_dyn.conf_int()"
   ]
  },
  {
   "cell_type": "code",
   "execution_count": 36,
   "metadata": {},
   "outputs": [],
   "source": [
    "periods = np.arange(-7, 15, 1)\n"
   ]
  },
  {
   "cell_type": "code",
   "execution_count": 38,
   "metadata": {},
   "outputs": [
    {
     "data": {
      "text/plain": [
       "-28.911428571425265"
      ]
     },
     "execution_count": 38,
     "metadata": {},
     "output_type": "execute_result"
    }
   ],
   "source": [
    "coefs['C(rel_week)[T.14]:treat']\n",
    "#     'C(rel_week)[T.14]:treat'"
   ]
  },
  {
   "cell_type": "code",
   "execution_count": 39,
   "metadata": {},
   "outputs": [],
   "source": [
    "coefs_filtered = coefs.loc[[f'C(rel_week)[T.{i}]:treat' for i in periods]].values\n",
    "std_errors_filtered = std_errors.loc[[f'C(rel_week)[T.{i}]:treat' for i in periods]].values\n"
   ]
  },
  {
   "cell_type": "code",
   "execution_count": 45,
   "metadata": {},
   "outputs": [],
   "source": [
    "tt_coefs_filtered = tt_coefs.loc[[f'C(rel_week)[T.{i}]:treat' for i in periods]].values\n",
    "tt_std_errors_filtered = tt_std_errors.loc[[f'C(rel_week)[T.{i}]:treat' for i in periods]].values\n"
   ]
  },
  {
   "cell_type": "code",
   "execution_count": 40,
   "metadata": {},
   "outputs": [],
   "source": [
    "# 신뢰구간 계산\n",
    "ll_95 = coefs_filtered - 1.965 * std_errors_filtered\n",
    "ul_95 = coefs_filtered + 1.965 * std_errors_filtered\n",
    "\n",
    "# 데이터프레임 생성 (계수와 신뢰구간)\n",
    "df_coefs = pd.DataFrame({\n",
    "    'period': periods,\n",
    "    'Estimate': coefs_filtered,\n",
    "    'll_95': ll_95,\n",
    "    'ul_95': ul_95\n",
    "})"
   ]
  },
  {
   "cell_type": "code",
   "execution_count": 46,
   "metadata": {},
   "outputs": [],
   "source": [
    "# 신뢰구간 계산\n",
    "tt_ll_95 = tt_coefs_filtered - 1.965 * tt_std_errors_filtered\n",
    "tt_ul_95 = tt_coefs_filtered + 1.965 * tt_std_errors_filtered\n",
    "\n",
    "# 데이터프레임 생성 (계수와 신뢰구간)\n",
    "tt_df_coefs = pd.DataFrame({\n",
    "    'period': periods,\n",
    "    'Estimate': tt_coefs_filtered,\n",
    "    'll_95': tt_ll_95,\n",
    "    'ul_95': tt_ul_95\n",
    "})"
   ]
  },
  {
   "cell_type": "code",
   "execution_count": 63,
   "metadata": {},
   "outputs": [
    {
     "ename": "AttributeError",
     "evalue": "'Axes' object has no attribute 'xticks'",
     "output_type": "error",
     "traceback": [
      "\u001b[0;31m---------------------------------------------------------------------------\u001b[0m",
      "\u001b[0;31mAttributeError\u001b[0m                            Traceback (most recent call last)",
      "Cell \u001b[0;32mIn[63], line 12\u001b[0m\n\u001b[1;32m     10\u001b[0m axs[\u001b[38;5;241m0\u001b[39m]\u001b[38;5;241m.\u001b[39mset_ylabel(\u001b[38;5;124m\"\u001b[39m\u001b[38;5;124mContent Volume Effect and 95\u001b[39m\u001b[38;5;124m%\u001b[39m\u001b[38;5;124m CI\u001b[39m\u001b[38;5;124m\"\u001b[39m, fontsize \u001b[38;5;241m=\u001b[39m \u001b[38;5;241m12.5\u001b[39m)\n\u001b[1;32m     11\u001b[0m axs[\u001b[38;5;241m0\u001b[39m]\u001b[38;5;241m.\u001b[39mset_title(\u001b[38;5;124m\"\u001b[39m\u001b[38;5;124mStack Overflow\u001b[39m\u001b[38;5;124m\"\u001b[39m, fontsize\u001b[38;5;241m=\u001b[39m\u001b[38;5;241m16\u001b[39m)\n\u001b[0;32m---> 12\u001b[0m \u001b[43maxs\u001b[49m\u001b[43m[\u001b[49m\u001b[38;5;241;43m0\u001b[39;49m\u001b[43m]\u001b[49m\u001b[38;5;241;43m.\u001b[39;49m\u001b[43mxticks\u001b[49m(rotation\u001b[38;5;241m=\u001b[39m\u001b[38;5;241m45\u001b[39m)\n\u001b[1;32m     13\u001b[0m axs[\u001b[38;5;241m0\u001b[39m]\u001b[38;5;241m.\u001b[39mtick_params(axis\u001b[38;5;241m=\u001b[39m\u001b[38;5;124m'\u001b[39m\u001b[38;5;124mx\u001b[39m\u001b[38;5;124m'\u001b[39m, rotation\u001b[38;5;241m=\u001b[39m\u001b[38;5;241m45\u001b[39m)\n\u001b[1;32m     14\u001b[0m axs[\u001b[38;5;241m0\u001b[39m]\u001b[38;5;241m.\u001b[39mgrid(\u001b[38;5;28;01mFalse\u001b[39;00m)\n",
      "\u001b[0;31mAttributeError\u001b[0m: 'Axes' object has no attribute 'xticks'"
     ]
    },
    {
     "data": {
      "image/png": "[encoded data removed]",
      "text/plain": [
       "<Figure size 640x480 with 2 Axes>"
      ]
     },
     "metadata": {},
     "output_type": "display_data"
    }
   ],
   "source": [
    "### create a figure with multiple subplots\n",
    "\n",
    "fig, axs = plt.subplots(1, 2)\n",
    "\n",
    "axs[0].fill_between(df_coefs['period'], df_coefs['ll_95'], df_coefs['ul_95'], color='gray', alpha=0.5)\n",
    "axs[0].plot(df_coefs['period'], df_coefs['Estimate'], color='black', linewidth=2)\n",
    "axs[0].axvline(x=0, color='red', linestyle='-.', linewidth=1)\n",
    "axs[0].axhline(y=0, color='black', linestyle='--')\n",
    "axs[0].set_xlabel(\"Week Relative to ChatGPT Release\", fontsize = 12.5)\n",
    "axs[0].set_ylabel(\"Content Volume Effect and 95% CI\", fontsize = 12.5)\n",
    "axs[0].set_title(\"Stack Overflow\", fontsize=16)\n",
    "axs[0].xticks(rotation=45)\n",
    "axs[0].tick_params(axis='x', rotation=45)\n",
    "axs[0].grid(False)\n",
    "\n",
    "\n",
    "axs[1].fill_between(tt_df_coefs['period'], tt_df_coefs['ll_95'], tt_df_coefs['ul_95'], color='gray', alpha=0.5)\n",
    "axs[1].plot(tt_df_coefs['period'], tt_df_coefs['Estimate'], color='black', linewidth=2)\n",
    "axs[1].axvline(x=0, color='red', linestyle='-.', linewidth=1)\n",
    "axs[1].axhline(y=0, color='black', linestyle='--')\n",
    "axs[1].set_xlabel(\"Week Relative to ChatGPT Release\", fontsize = 12.5)\n",
    "axs[1].set_ylabel(\"Content Volume Effect and 95% CI\", fontsize = 12.5)\n",
    "axs[1].set_title(\"Stack Overflow\", fontsize=16)\n",
    "axs[1].tick_params(axis='x', rotation=45)\n",
    "axs[1].grid(False)\n",
    "\n",
    "plt.show();"
   ]
  },
  {
   "cell_type": "code",
   "execution_count": 60,
   "metadata": {},
   "outputs": [
    {
     "ename": "TypeError",
     "evalue": "figure() got multiple values for argument 'figsize'",
     "output_type": "error",
     "traceback": [
      "\u001b[0;31m---------------------------------------------------------------------------\u001b[0m",
      "\u001b[0;31mTypeError\u001b[0m                                 Traceback (most recent call last)",
      "Cell \u001b[0;32mIn[60], line 2\u001b[0m\n\u001b[1;32m      1\u001b[0m \u001b[38;5;66;03m# Plot 그리기\u001b[39;00m\n\u001b[0;32m----> 2\u001b[0m \u001b[43mplt\u001b[49m\u001b[38;5;241;43m.\u001b[39;49m\u001b[43mfigure\u001b[49m\u001b[43m(\u001b[49m\u001b[38;5;241;43m1\u001b[39;49m\u001b[43m,\u001b[49m\u001b[43m \u001b[49m\u001b[38;5;241;43m2\u001b[39;49m\u001b[43m,\u001b[49m\u001b[43m \u001b[49m\u001b[43mfigsize\u001b[49m\u001b[38;5;241;43m=\u001b[39;49m\u001b[43m(\u001b[49m\u001b[38;5;241;43m10\u001b[39;49m\u001b[43m,\u001b[49m\u001b[43m \u001b[49m\u001b[38;5;241;43m6\u001b[39;49m\u001b[43m)\u001b[49m\u001b[43m)\u001b[49m\n\u001b[1;32m      3\u001b[0m plt\u001b[38;5;241m.\u001b[39mfill_between(df_coefs[\u001b[38;5;124m'\u001b[39m\u001b[38;5;124mperiod\u001b[39m\u001b[38;5;124m'\u001b[39m], df_coefs[\u001b[38;5;124m'\u001b[39m\u001b[38;5;124mll_95\u001b[39m\u001b[38;5;124m'\u001b[39m], df_coefs[\u001b[38;5;124m'\u001b[39m\u001b[38;5;124mul_95\u001b[39m\u001b[38;5;124m'\u001b[39m], color\u001b[38;5;241m=\u001b[39m\u001b[38;5;124m'\u001b[39m\u001b[38;5;124mgray\u001b[39m\u001b[38;5;124m'\u001b[39m, alpha\u001b[38;5;241m=\u001b[39m\u001b[38;5;241m0.5\u001b[39m)\n\u001b[1;32m      4\u001b[0m plt\u001b[38;5;241m.\u001b[39mplot(df_coefs[\u001b[38;5;124m'\u001b[39m\u001b[38;5;124mperiod\u001b[39m\u001b[38;5;124m'\u001b[39m], df_coefs[\u001b[38;5;124m'\u001b[39m\u001b[38;5;124mEstimate\u001b[39m\u001b[38;5;124m'\u001b[39m], color\u001b[38;5;241m=\u001b[39m\u001b[38;5;124m'\u001b[39m\u001b[38;5;124mblack\u001b[39m\u001b[38;5;124m'\u001b[39m, linewidth\u001b[38;5;241m=\u001b[39m\u001b[38;5;241m2\u001b[39m)\n",
      "\u001b[0;31mTypeError\u001b[0m: figure() got multiple values for argument 'figsize'"
     ]
    }
   ],
   "source": [
    "# Plot 그리기\n",
    "plt.figure(1, 2, figsize=(10, 6))\n",
    "plt.fill_between(df_coefs['period'], df_coefs['ll_95'], df_coefs['ul_95'], color='gray', alpha=0.5)\n",
    "plt.plot(df_coefs['period'], df_coefs['Estimate'], color='black', linewidth=2)\n",
    "plt.axvline(x=0, color='red', linestyle='-.', linewidth=1)\n",
    "plt.axhline(y=0, color='black', linestyle='--')\n",
    "\n",
    "# 그래프 설정\n",
    "plt.xlabel(\"Week Relative to ChatGPT Release\", fontsize=14)\n",
    "plt.ylabel(\"Content Volume Effect and 95% CI\", fontsize=14)\n",
    "plt.title(\"Stack Overflow\", fontsize=16)\n",
    "plt.xticks(rotation=45)\n",
    "plt.grid(False)\n",
    "plt.show()"
   ]
  },
  {
   "cell_type": "code",
   "execution_count": null,
   "metadata": {},
   "outputs": [],
   "source": []
  },
  {
   "cell_type": "code",
   "execution_count": null,
   "metadata": {},
   "outputs": [],
   "source": []
  }
 ],
 "metadata": {
  "kernelspec": {
   "display_name": "Python 3 (ipykernel)",
   "language": "python",
   "name": "python3"
  },
  "language_info": {
   "codemirror_mode": {
    "name": "ipython",
    "version": 3
   },
   "file_extension": ".py",
   "mimetype": "text/x-python",
   "name": "python",
   "nbconvert_exporter": "python",
   "pygments_lexer": "ipython3",
   "version": "3.9.6"
  }
 },
 "nbformat": 4,
 "nbformat_minor": 4
}
