{
 "cells": [
  {
   "cell_type": "code",
   "execution_count": 1,
   "metadata": {},
   "outputs": [],
   "source": [
    "import sys, os\n",
    "p = os.path.abspath('..')\n",
    "# p = p+r'\\config'\n",
    "sys.path.insert(1, p)"
   ]
  },
  {
   "cell_type": "code",
   "execution_count": 2,
   "metadata": {},
   "outputs": [],
   "source": [
    "import psycopg2\n",
    "import pandas as pd\n",
    "import seaborn as sns\n",
    "import matplotlib.pyplot as plt\n",
    "import networkx as nx\n",
    "import numpy as np\n",
    "import time\n",
    "import pprint\n",
    "from itertools import combinations\n",
    "import pickle\n",
    "import config.config as conf"
   ]
  },
  {
   "cell_type": "code",
   "execution_count": null,
   "metadata": {},
   "outputs": [],
   "source": [
    "conn = psycopg2.connect(host = conf.database_user['host'], dbname=conf.database_user['dbname'], user=conf.database_user['user'], password=conf.database_user['password'])\n",
    "try:\n",
    "    cur = conn.cursor()\n",
    "    cur.execute(\"\\\n",
    "select \\\n",
    "                  x.q_id \\\n",
    "                , x.q_posttypeid \\\n",
    "                , x.q_acceptedanswerid \\\n",
    "                , x.q_parentid \\\n",
    "                , x.q_creationdate \\\n",
    "                , x.q_score \\\n",
    "                , x.q_viewcount \\\n",
    "                , x.q_owneruserid \\\n",
    "                , x.q_title \\\n",
    "                , x.q_tags \\\n",
    "                , x.q_answercount \\\n",
    "                , x.q_commentcount \\\n",
    "                , x.q_favoritecount \\\n",
    "                , x.q_closeddate \\\n",
    "                , b.id               as a_id \\\n",
    "                , b.posttypeid       as a_posttypeid \\\n",
    "                , b.acceptedanswerid as a_acceptedanswerid \\\n",
    "                , b.parentid         as a_parentid \\\n",
    "                , b.creationdate     as a_creationdate \\\n",
    "                , b.score            as a_score \\\n",
    "                , b.viewcount        as a_viewcount \\\n",
    "                , b.owneruserid      as a_owneruserid \\\n",
    "                , b.title            as a_title \\\n",
    "                , b.tags             as a_tags \\\n",
    "                , b.answercount      as a_answercount \\\n",
    "                , b.commentcount     as a_commentcount \\\n",
    "                , b.favoritecount    as a_favoritecount \\\n",
    "                , b.closeddate       as a_closeddate \\\n",
    "  from ( \\\n",
    "           select a.id               as q_id \\\n",
    "                , a.posttypeid       as q_posttypeid \\\n",
    "                , a.acceptedanswerid as q_acceptedanswerid \\\n",
    "                , a.parentid         as q_parentid \\\n",
    "                , a.creationdate     as q_creationdate \\\n",
    "                , a.score            as q_score \\\n",
    "                , a.viewcount        as q_viewcount \\\n",
    "                , a.owneruserid      as q_owneruserid \\\n",
    "                , a.title            as q_title \\\n",
    "                , a.answercount      as q_answercount \\\n",
    "                , a.commentcount     as q_commentcount \\\n",
    "                , a.favoritecount    as q_favoritecount \\\n",
    "                , a.closeddate       as q_closeddate \\\n",
    "                , replace(replace(lower(a.tags), '<', ''), '>', ' ')as q_tags \\\n",
    "           from posts a \\\n",
    "           where a.creationdate between '2013-11-01' and '2023-12-01' \\\n",
    "             and a.posttypeid = '1' \\\n",
    "             and a.owneruserid is not null \\\n",
    "       )   x \\\n",
    "        , posts b \\\n",
    "where b.parentid = x.q_id \\\n",
    "; \\\n",
    "                \" \n",
    "   )\n",
    "    rows = cur.fetchall()\n",
    "    \n",
    "\n",
    "except psycopg2.DatabaseError as db_err:\n",
    "    print(db_err)\n",
    "finally : \n",
    "  cur.close()"
   ]
  },
  {
   "cell_type": "code",
   "execution_count": null,
   "metadata": {},
   "outputs": [],
   "source": [
    "df_da = pd.DataFrame(rows, columns = [\n",
    "  'q_id' \n",
    ", 'q_posttypeid' \n",
    ", 'q_acceptedanswerid'\n",
    ", 'q_parentid' \n",
    ", 'q_creationdate' \n",
    ", 'q_score' \n",
    ", 'q_viewcount' \n",
    ", 'q_owneruserid' \n",
    ", 'q_title' \n",
    ", 'q_tags' \n",
    ", 'q_answercount' \n",
    ", 'q_commentcount' \n",
    ", 'q_favoritecount'\n",
    ", 'q_closeddate' \n",
    ", 'a_id' \n",
    ", 'a_posttypeid' \n",
    ", 'a_acceptedanswerid' \n",
    ", 'a_parentid' \n",
    ", 'a_creationdate' \n",
    ", 'a_score' \n",
    ", 'a_viewcount' \n",
    ", 'a_owneruserid' \n",
    ", 'a_title' \n",
    ", 'a_tags' \n",
    ", 'a_answercount'\n",
    ", 'a_commentcount'\n",
    ", 'a_favoritecount'\n",
    ", 'a_closeddate' \n",
    "])"
   ]
  },
  {
   "cell_type": "code",
   "execution_count": null,
   "metadata": {},
   "outputs": [],
   "source": [
    "# 전체 데이터셋 \n",
    "with open('../../data/df_da.pkl', 'wb') as f:\n",
    "    pickle.dump(df_da, f)"
   ]
  },
  {
   "cell_type": "code",
   "execution_count": 3,
   "metadata": {},
   "outputs": [],
   "source": [
    "conn = psycopg2.connect(host = conf.database_user['host'], dbname=conf.database_user['dbname'], user=conf.database_user['user'], password=conf.database_user['password'])\n",
    "try:\n",
    "    cur = conn.cursor()\n",
    "    cur.execute(\"\\\n",
    "select a.creationdate \\\n",
    "     , a.id \\\n",
    "     , a.posttypeid \\\n",
    "     , a.title \\\n",
    "     , a.owneruserid \\\n",
    "     , b.body \\\n",
    "     , case when c.id is null then 0 else 1 end as answered_yn \\\n",
    "  from posts as a \\\n",
    "     inner join postsbody b \\\n",
    "     on a.id = b.id \\\n",
    "     left outer join vw_posts_get_answer as c \\\n",
    "     on a.id = c.id \\\n",
    "where a.creationdate between '2013-11-01' and '2023-12-01' \\\n",
    "  ; \\\n",
    "                \" \n",
    "   )\n",
    "    rows = cur.fetchall()\n",
    "    \n",
    "\n",
    "except psycopg2.DatabaseError as db_err:\n",
    "    print(db_err)\n",
    "finally : \n",
    "  cur.close()"
   ]
  },
  {
   "cell_type": "code",
   "execution_count": 6,
   "metadata": {},
   "outputs": [],
   "source": [
    "df_body = pd.DataFrame(rows, columns = [\n",
    "  'creationdate' \n",
    ", 'id' \n",
    ", 'posttypeid'\n",
    ", 'title'\n",
    ", 'owneruserid'\n",
    ", 'body' \n",
    ", 'answered_yn'\n",
    "])"
   ]
  },
  {
   "cell_type": "code",
   "execution_count": 7,
   "metadata": {},
   "outputs": [],
   "source": [
    "# 전체 데이터셋 \n",
    "with open('../../data/df_body.pkl', 'wb') as f:\n",
    "    pickle.dump(df_body, f)"
   ]
  },
  {
   "cell_type": "code",
   "execution_count": null,
   "metadata": {},
   "outputs": [],
   "source": [
    "conn = psycopg2.connect(host = conf.database_user['host'], dbname=conf.database_user['dbname'], user=conf.database_user['user'], password=conf.database_user['password'])\n",
    "try:\n",
    "    cur = conn.cursor()\n",
    "    cur.execute(\"\\\n",
    "select id, creationdate, displayname, lastaccessdate \\\n",
    "  from users \\\n",
    "                \" \n",
    "   )\n",
    "    rows = cur.fetchall()\n",
    "    \n",
    "\n",
    "except psycopg2.DatabaseError as db_err:\n",
    "    print(db_err)\n",
    "finally : \n",
    "  cur.close()"
   ]
  },
  {
   "cell_type": "code",
   "execution_count": null,
   "metadata": {},
   "outputs": [],
   "source": [
    "df_user = pd.DataFrame(rows, columns = [\n",
    "  'id' \n",
    ", 'creationdate' \n",
    ", 'displayname'\n",
    ", 'lastaccessdate'\n",
    "])"
   ]
  },
  {
   "cell_type": "code",
   "execution_count": null,
   "metadata": {},
   "outputs": [],
   "source": [
    "# 전체 데이터셋 \n",
    "with open('../../data/df_user.pkl', 'wb') as f:\n",
    "    pickle.dump(df_user, f)"
   ]
  },
  {
   "cell_type": "code",
   "execution_count": 8,
   "metadata": {},
   "outputs": [],
   "source": [
    "conn = psycopg2.connect(host = conf.database_user['host'], dbname=conf.database_user['dbname'], user=conf.database_user['user'], password=conf.database_user['password'])\n",
    "try:\n",
    "    cur = conn.cursor()\n",
    "    cur.execute(\"\\\n",
    "select to_char(p.creationdate, 'yyyy') as year, p.id, count(a.id) as cnt \\\n",
    "  from posts p \\\n",
    "     left join posts a \\\n",
    "     on p.id = a.parentid \\\n",
    "     and a.posttypeid = '2' \\\n",
    "     and a.creationdate - p.creationdate <= '30 days' \\\n",
    " where ((p.creationdate between '2023-11-01' and '2023-12-01') \\\n",
    " \t or (p.creationdate between '2022-11-01' and '2022-12-01') \\\n",
    " \t or (p.creationdate between '2021-11-01' and '2021-12-01') \\\n",
    " \t or (p.creationdate between '2020-11-01' and '2020-12-01') \\\n",
    " \t or (p.creationdate between '2019-11-01' and '2019-12-01') \\\n",
    " \t ) \\\n",
    "   and p.posttypeid ='1' \\\n",
    "  group by p.id \\\n",
    "  ; \\\n",
    "                \" \n",
    "   )\n",
    "    rows = cur.fetchall()\n",
    "    \n",
    "\n",
    "except psycopg2.DatabaseError as db_err:\n",
    "    print(db_err)\n",
    "finally : \n",
    "  cur.close()"
   ]
  },
  {
   "cell_type": "code",
   "execution_count": 9,
   "metadata": {},
   "outputs": [],
   "source": [
    "df_answer_cnt = pd.DataFrame(rows, columns = [\n",
    "  'year' \n",
    ", 'id'\n",
    ", 'cnt' \n",
    "])"
   ]
  },
  {
   "cell_type": "code",
   "execution_count": 10,
   "metadata": {},
   "outputs": [],
   "source": [
    "# 전체 데이터셋 \n",
    "with open('../../data/df_answer_cnt.pkl', 'wb') as f:\n",
    "    pickle.dump(df_answer_cnt, f)"
   ]
  },
  {
   "cell_type": "code",
   "execution_count": 9,
   "metadata": {},
   "outputs": [],
   "source": [
    "conn = psycopg2.connect(host = conf.database_user['host'], dbname=conf.database_user['dbname'], user=conf.database_user['user'], password=conf.database_user['password'])\n",
    "try:\n",
    "    cur = conn.cursor()\n",
    "    cur.execute(\"\\\n",
    "select xx.year, xx.usr_id, count(xx.q_id) as cnt \\\n",
    "  from ( \\\n",
    " select x.usr_id, x.usr_creationdate, x.year, p.id as q_id, p.creationdate as q_date \\\n",
    "   from ( \\\n",
    "  \tselect u.id as usr_id, u.creationdate as usr_creationdate, m.year \\\n",
    "     from users u \\\n",
    "        , ma_year m \\\n",
    " \twhere to_char(u.creationdate, 'yyyy') <= m.year \\\n",
    "   \t  and m.year between '2013' and '2023' \\\n",
    "      and u.id >1 \\\n",
    "  \t) x \\\n",
    "   left join posts p \\\n",
    "   on x.usr_id = p.owneruserid \\\n",
    "   and p.posttypeid = '1' \\\n",
    "   and x.year = to_char(p.creationdate, 'yyyy') \\\n",
    ") xx \\\n",
    "group by xx.year, xx.usr_id \\\n",
    "; \\\n",
    "                \" \n",
    "   )\n",
    "    rows = cur.fetchall()\n",
    "    \n",
    "\n",
    "except psycopg2.DatabaseError as db_err:\n",
    "    print(db_err)\n",
    "finally : \n",
    "  cur.close()"
   ]
  },
  {
   "cell_type": "code",
   "execution_count": 10,
   "metadata": {},
   "outputs": [],
   "source": [
    "df_usr_q_cnt = pd.DataFrame(rows, columns = [\n",
    "  'year' \n",
    ", 'usr_id'\n",
    ", 'cnt' \n",
    "])"
   ]
  },
  {
   "cell_type": "code",
   "execution_count": 11,
   "metadata": {},
   "outputs": [],
   "source": [
    "# 전체 데이터셋 \n",
    "with open('../../data/df_usr_q_cnt.pkl', 'wb') as f:\n",
    "    pickle.dump(df_usr_q_cnt, f)"
   ]
  },
  {
   "cell_type": "code",
   "execution_count": 12,
   "metadata": {},
   "outputs": [],
   "source": [
    "conn = psycopg2.connect(host = conf.database_user['host'], dbname=conf.database_user['dbname'], user=conf.database_user['user'], password=conf.database_user['password'])\n",
    "try:\n",
    "    cur = conn.cursor()\n",
    "    cur.execute(\"\\\n",
    "select xxx.year, avg(xxx.cnt) as avg cnt \\\n",
    "  from ( \\\n",
    "\t\t  select xx.year, xx.usr_id, count(xx.q_id) as cnt \\\n",
    "\t\t  from (select x.usr_id, x.usr_creationdate, x.year, p.id as q_id, p.creationdate as q_date \\\n",
    "\t\t   from ( \\\n",
    "\t\t  \tselect u.id as usr_id, u.creationdate as usr_creationdate, m.year \\\n",
    "\t\t     from users u \\\n",
    "\t\t        , ma_year m \\\n",
    "\t\t \twhere to_char(u.creationdate, 'yyyy') <= m.year \\\n",
    "\t\t   \t  and m.year between '2013' and '2023' \\\n",
    "\t\t      and u.id >1 \\\n",
    "\t\t  \t) x \\\n",
    "\t\t   left join posts p \\\n",
    "\t\t   on x.usr_id = p.owneruserid \\\n",
    "\t\t   and p.posttypeid = '2' \\\n",
    "\t\t   and x.year = to_char(p.creationdate, 'yyyy') \\\n",
    "\t\t) xx \\\n",
    "\t\tgroup by xx.year, xx.usr_id \\\n",
    "  ) xxx \\\n",
    " group by xxx.year \\\n",
    "  ;              \"\n",
    "   )\n",
    "    rows = cur.fetchall()\n",
    "    \n",
    "\n",
    "except psycopg2.DatabaseError as db_err:\n",
    "    print(db_err)\n",
    "finally : \n",
    "  cur.close()"
   ]
  },
  {
   "cell_type": "code",
   "execution_count": 13,
   "metadata": {},
   "outputs": [],
   "source": [
    "df_usr_a_cnt = pd.DataFrame(rows, columns = [\n",
    "  'year' \n",
    ", 'usr_id'\n",
    ", 'cnt' \n",
    "])"
   ]
  },
  {
   "cell_type": "code",
   "execution_count": 14,
   "metadata": {},
   "outputs": [
    {
     "ename": "",
     "evalue": "",
     "output_type": "error",
     "traceback": [
      "\u001b[1;31m현재 셀 또는 이전 셀에서 코드를 실행하는 동안 Kernel이 충돌했습니다. \n",
      "\u001b[1;31m셀의 코드를 검토하여 가능한 오류 원인을 식별하세요. \n",
      "\u001b[1;31m자세한 내용을 보려면 <a href='https://aka.ms/vscodeJupyterKernelCrash'>여기</a>를 클릭하세요. \n",
      "\u001b[1;31m자세한 내용은 Jupyter <a href='command:jupyter.viewOutput'>로그</a>를 참조하세요."
     ]
    }
   ],
   "source": [
    "# 전체 데이터셋 \n",
    "with open('../../data/df_usr_a_cnt.pkl', 'wb') as f:\n",
    "    pickle.dump(df_usr_a_cnt, f)"
   ]
  },
  {
   "cell_type": "code",
   "execution_count": null,
   "metadata": {},
   "outputs": [],
   "source": [
    "# create table tt_year_from_signup_qna as\n",
    "# select x.usr_id\n",
    "#      , p.id as q_id\n",
    "#      , ceil(DATE_PART('day',p.creationdate::timestamp-x.usr_creationdate::timestamp)/365) as yeardiff\n",
    "#      , p.creationdate, x.usr_creationdate\n",
    "#   from (\n",
    "#         select u.id as usr_id, u.creationdate as usr_creationdate\n",
    "#           from users u\n",
    "#          where u.id >1\n",
    "#         ) x\n",
    "#         left join posts p\n",
    "#           on x.usr_id = p.owneruserid\n",
    "#          and p.posttypeid in( '1', '2')\n",
    "# ;\n"
   ]
  },
  {
   "cell_type": "code",
   "execution_count": 3,
   "metadata": {},
   "outputs": [],
   "source": [
    "conn = psycopg2.connect(host = conf.database_user['host'], dbname=conf.database_user['dbname'], user=conf.database_user['user'], password=conf.database_user['password'])\n",
    "try:\n",
    "    cur = conn.cursor()\n",
    "    cur.execute(\"\\\n",
    "select yeardiff, count(q_id) as cnt \\\n",
    "  from public.tt_year_from_signup_a \\\n",
    " group by yeardiff \\\n",
    " ;\"\n",
    "   )\n",
    "    rows = cur.fetchall()\n",
    "    \n",
    "\n",
    "except psycopg2.DatabaseError as db_err:\n",
    "    print(db_err)\n",
    "finally : \n",
    "  cur.close()"
   ]
  },
  {
   "cell_type": "code",
   "execution_count": 4,
   "metadata": {},
   "outputs": [],
   "source": [
    "df_year_from_signup_a = pd.DataFrame(rows, columns = [\n",
    "  'yeardiff' \n",
    ", 'cnt' \n",
    "])\n"
   ]
  },
  {
   "cell_type": "code",
   "execution_count": 5,
   "metadata": {},
   "outputs": [],
   "source": [
    "# 전체 데이터셋 \n",
    "with open('../../data/df_year_from_signup_a.pkl', 'wb') as f:\n",
    "    pickle.dump(df_year_from_signup_a, f)"
   ]
  },
  {
   "cell_type": "code",
   "execution_count": 6,
   "metadata": {},
   "outputs": [],
   "source": [
    "conn = psycopg2.connect(host = conf.database_user['host'], dbname=conf.database_user['dbname'], user=conf.database_user['user'], password=conf.database_user['password'])\n",
    "try:\n",
    "    cur = conn.cursor()\n",
    "    cur.execute(\"\\\n",
    "select yeardiff, count(q_id) as cnt \\\n",
    "  from public.tt_year_from_signup_qna \\\n",
    " group by yeardiff \\\n",
    " ;\"\n",
    "   )\n",
    "    rows = cur.fetchall()\n",
    "    \n",
    "\n",
    "except psycopg2.DatabaseError as db_err:\n",
    "    print(db_err)\n",
    "finally : \n",
    "  cur.close()"
   ]
  },
  {
   "cell_type": "code",
   "execution_count": 7,
   "metadata": {},
   "outputs": [],
   "source": [
    "df_year_from_signup_qna = pd.DataFrame(rows, columns = [\n",
    "  'yeardiff' \n",
    ", 'cnt' \n",
    "])\n"
   ]
  },
  {
   "cell_type": "code",
   "execution_count": 8,
   "metadata": {},
   "outputs": [],
   "source": [
    "# 전체 데이터셋 \n",
    "with open('../../data/df_year_from_signup_qna.pkl', 'wb') as f:\n",
    "    pickle.dump(df_year_from_signup_qna, f)"
   ]
  },
  {
   "cell_type": "code",
   "execution_count": null,
   "metadata": {},
   "outputs": [],
   "source": []
  },
  {
   "cell_type": "code",
   "execution_count": 9,
   "metadata": {},
   "outputs": [],
   "source": [
    "conn = psycopg2.connect(host = conf.database_user['host'], dbname=conf.database_user['dbname'], user=conf.database_user['user'], password=conf.database_user['password'])\n",
    "try:\n",
    "    cur = conn.cursor()\n",
    "    cur.execute(\"\\\n",
    "select yeardiff, count(q_id) as cnt \\\n",
    "  from public.tt_year_from_signup_q \\\n",
    " group by yeardiff \\\n",
    " ;\"\n",
    "   )\n",
    "    rows = cur.fetchall()\n",
    "    \n",
    "\n",
    "except psycopg2.DatabaseError as db_err:\n",
    "    print(db_err)\n",
    "finally : \n",
    "  cur.close()"
   ]
  },
  {
   "cell_type": "code",
   "execution_count": 12,
   "metadata": {},
   "outputs": [],
   "source": [
    "df_year_from_signup_q = pd.DataFrame(rows, columns = [\n",
    "  'yeardiff' \n",
    ", 'cnt' \n",
    "])\n"
   ]
  },
  {
   "cell_type": "code",
   "execution_count": 13,
   "metadata": {},
   "outputs": [],
   "source": [
    "# 전체 데이터셋 \n",
    "with open('../../data/df_year_from_signup_q.pkl', 'wb') as f:\n",
    "    pickle.dump(df_year_from_signup_q, f)"
   ]
  },
  {
   "cell_type": "code",
   "execution_count": null,
   "metadata": {},
   "outputs": [],
   "source": [
    "conn = psycopg2.connect(host = conf.database_user['host'], dbname=conf.database_user['dbname'], user=conf.database_user['user'], password=conf.database_user['password'])\n",
    "try:\n",
    "    cur = conn.cursor()\n",
    "    cur.execute(\"\\\n",
    "select x.yeardiff, avg(x.cnt) as mean_cnt , median(x.cnt) as med_cnt \\\n",
    "  from ( \\\n",
    "select a.yeardiff, a.usr_id, count(a.q_id) as cnt \\\n",
    "  from public.tt_year_from_signup_qna a \\\n",
    " where a.yeardiff >=0 \\\n",
    " group by a.yeardiff, a.usr_id \\\n",
    "  ) x \\\n",
    " group by x.yeardiff \\\n",
    " ;\"\n",
    "   )\n",
    "    rows = cur.fetchall()\n",
    "    \n",
    "\n",
    "except psycopg2.DatabaseError as db_err:\n",
    "    print(db_err)\n",
    "finally : \n",
    "  cur.close()"
   ]
  },
  {
   "cell_type": "code",
   "execution_count": null,
   "metadata": {},
   "outputs": [],
   "source": [
    "df_year_from_signup_q_mm = pd.DataFrame(rows, columns = [\n",
    "  'yeardiff' \n",
    ", 'mean_cnt' \n",
    ", 'med_cnt'\n",
    "])\n"
   ]
  },
  {
   "cell_type": "code",
   "execution_count": null,
   "metadata": {},
   "outputs": [],
   "source": [
    "# 전체 데이터셋 \n",
    "with open('../../data/df_year_from_signup_q_mm.pkl', 'wb') as f:\n",
    "    pickle.dump(df_year_from_signup_q_mm, f)"
   ]
  }
 ],
 "metadata": {
  "kernelspec": {
   "display_name": "Python 3 (ipykernel)",
   "language": "python",
   "name": "python3"
  },
  "language_info": {
   "codemirror_mode": {
    "name": "ipython",
    "version": 3
   },
   "file_extension": ".py",
   "mimetype": "text/x-python",
   "name": "python",
   "nbconvert_exporter": "python",
   "pygments_lexer": "ipython3",
   "version": "3.9.6"
  }
 },
 "nbformat": 4,
 "nbformat_minor": 4
}
