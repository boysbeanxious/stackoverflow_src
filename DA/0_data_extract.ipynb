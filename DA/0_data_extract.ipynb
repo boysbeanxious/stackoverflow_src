{
 "cells": [
  {
   "cell_type": "code",
   "execution_count": 1,
   "metadata": {},
   "outputs": [],
   "source": [
    "import sys, os\n",
    "p = os.path.abspath('..')\n",
    "# p = p+r'\\config'\n",
    "sys.path.insert(1, p)"
   ]
  },
  {
   "cell_type": "code",
   "execution_count": 2,
   "metadata": {},
   "outputs": [],
   "source": [
    "import psycopg2\n",
    "import pandas as pd\n",
    "import seaborn as sns\n",
    "import matplotlib.pyplot as plt\n",
    "import networkx as nx\n",
    "import numpy as np\n",
    "import time\n",
    "import pprint\n",
    "from itertools import combinations\n",
    "import pickle\n",
    "import config.config as conf\n",
    "import string\n",
    "import re"
   ]
  },
  {
   "cell_type": "code",
   "execution_count": null,
   "metadata": {},
   "outputs": [],
   "source": [
    "conn = psycopg2.connect(host = conf.database_user['host'], dbname=conf.database_user['dbname'], user=conf.database_user['user'], password=conf.database_user['password'])\n",
    "try:\n",
    "    cur = conn.cursor()\n",
    "    cur.execute(\"\\\n",
    "select \\\n",
    "                  x.q_id \\\n",
    "                , x.q_posttypeid \\\n",
    "                , x.q_acceptedanswerid \\\n",
    "                , x.q_parentid \\\n",
    "                , x.q_creationdate \\\n",
    "                , x.q_score \\\n",
    "                , x.q_viewcount \\\n",
    "                , x.q_owneruserid \\\n",
    "                , x.q_title \\\n",
    "                , x.q_tags \\\n",
    "                , x.q_answercount \\\n",
    "                , x.q_commentcount \\\n",
    "                , x.q_favoritecount \\\n",
    "                , x.q_closeddate \\\n",
    "                , b.id               as a_id \\\n",
    "                , b.posttypeid       as a_posttypeid \\\n",
    "                , b.acceptedanswerid as a_acceptedanswerid \\\n",
    "                , b.parentid         as a_parentid \\\n",
    "                , b.creationdate     as a_creationdate \\\n",
    "                , b.score            as a_score \\\n",
    "                , b.viewcount        as a_viewcount \\\n",
    "                , b.owneruserid      as a_owneruserid \\\n",
    "                , b.title            as a_title \\\n",
    "                , b.tags             as a_tags \\\n",
    "                , b.answercount      as a_answercount \\\n",
    "                , b.commentcount     as a_commentcount \\\n",
    "                , b.favoritecount    as a_favoritecount \\\n",
    "                , b.closeddate       as a_closeddate \\\n",
    "  from ( \\\n",
    "           select a.id               as q_id \\\n",
    "                , a.posttypeid       as q_posttypeid \\\n",
    "                , a.acceptedanswerid as q_acceptedanswerid \\\n",
    "                , a.parentid         as q_parentid \\\n",
    "                , a.creationdate     as q_creationdate \\\n",
    "                , a.score            as q_score \\\n",
    "                , a.viewcount        as q_viewcount \\\n",
    "                , a.owneruserid      as q_owneruserid \\\n",
    "                , a.title            as q_title \\\n",
    "                , a.answercount      as q_answercount \\\n",
    "                , a.commentcount     as q_commentcount \\\n",
    "                , a.favoritecount    as q_favoritecount \\\n",
    "                , a.closeddate       as q_closeddate \\\n",
    "                , replace(replace(lower(a.tags), '<', ''), '>', ' ')as q_tags \\\n",
    "           from posts a \\\n",
    "           where a.creationdate between '2013-11-01' and '2023-12-01' \\\n",
    "             and a.posttypeid = '1' \\\n",
    "             and a.owneruserid is not null \\\n",
    "       )   x \\\n",
    "        , posts b \\\n",
    "where b.parentid = x.q_id \\\n",
    "; \\\n",
    "                \" \n",
    "   )\n",
    "    rows = cur.fetchall()\n",
    "    \n",
    "\n",
    "except psycopg2.DatabaseError as db_err:\n",
    "    print(db_err)\n",
    "finally : \n",
    "  cur.close()"
   ]
  },
  {
   "cell_type": "code",
   "execution_count": null,
   "metadata": {},
   "outputs": [],
   "source": [
    "df_da = pd.DataFrame(rows, columns = [\n",
    "  'q_id' \n",
    ", 'q_posttypeid' \n",
    ", 'q_acceptedanswerid'\n",
    ", 'q_parentid' \n",
    ", 'q_creationdate' \n",
    ", 'q_score' \n",
    ", 'q_viewcount' \n",
    ", 'q_owneruserid' \n",
    ", 'q_title' \n",
    ", 'q_tags' \n",
    ", 'q_answercount' \n",
    ", 'q_commentcount' \n",
    ", 'q_favoritecount'\n",
    ", 'q_closeddate' \n",
    ", 'a_id' \n",
    ", 'a_posttypeid' \n",
    ", 'a_acceptedanswerid' \n",
    ", 'a_parentid' \n",
    ", 'a_creationdate' \n",
    ", 'a_score' \n",
    ", 'a_viewcount' \n",
    ", 'a_owneruserid' \n",
    ", 'a_title' \n",
    ", 'a_tags' \n",
    ", 'a_answercount'\n",
    ", 'a_commentcount'\n",
    ", 'a_favoritecount'\n",
    ", 'a_closeddate' \n",
    "])"
   ]
  },
  {
   "cell_type": "code",
   "execution_count": null,
   "metadata": {},
   "outputs": [],
   "source": [
    "# 전체 데이터셋 \n",
    "with open('../../data/df_da.pkl', 'wb') as f:\n",
    "    pickle.dump(df_da, f)"
   ]
  },
  {
   "cell_type": "code",
   "execution_count": null,
   "metadata": {},
   "outputs": [],
   "source": [
    "conn = psycopg2.connect(host = conf.database_user['host'], dbname=conf.database_user['dbname'], user=conf.database_user['user'], password=conf.database_user['password'])\n",
    "try:\n",
    "    cur = conn.cursor()\n",
    "    cur.execute(\"\\\n",
    "select a.creationdate \\\n",
    "     , a.id \\\n",
    "     , a.posttypeid \\\n",
    "     , a.title \\\n",
    "     , a.owneruserid \\\n",
    "     , b.body \\\n",
    "     , case when c.id is null then 0 else 1 end as answered_yn \\\n",
    "  from posts as a \\\n",
    "     inner join postsbody b \\\n",
    "     on a.id = b.id \\\n",
    "     left outer join vw_posts_get_answer as c \\\n",
    "     on a.id = c.id \\\n",
    "where a.creationdate between '2013-11-01' and '2023-12-01' \\\n",
    "  ; \\\n",
    "                \" \n",
    "   )\n",
    "    rows = cur.fetchall()\n",
    "    \n",
    "\n",
    "except psycopg2.DatabaseError as db_err:\n",
    "    print(db_err)\n",
    "finally : \n",
    "  cur.close()"
   ]
  },
  {
   "cell_type": "code",
   "execution_count": null,
   "metadata": {},
   "outputs": [],
   "source": [
    "df_body = pd.DataFrame(rows, columns = [\n",
    "  'creationdate' \n",
    ", 'id' \n",
    ", 'posttypeid'\n",
    ", 'title'\n",
    ", 'owneruserid'\n",
    ", 'body' \n",
    ", 'answered_yn'\n",
    "])"
   ]
  },
  {
   "cell_type": "code",
   "execution_count": null,
   "metadata": {},
   "outputs": [],
   "source": [
    "# 전체 데이터셋 \n",
    "with open('../../data/df_body.pkl', 'wb') as f:\n",
    "    pickle.dump(df_body, f)"
   ]
  },
  {
   "cell_type": "code",
   "execution_count": null,
   "metadata": {},
   "outputs": [],
   "source": [
    "conn = psycopg2.connect(host = conf.database_user['host'], dbname=conf.database_user['dbname'], user=conf.database_user['user'], password=conf.database_user['password'])\n",
    "try:\n",
    "    cur = conn.cursor()\n",
    "    cur.execute(\"\\\n",
    "select id, creationdate, displayname, lastaccessdate \\\n",
    "  from users \\\n",
    "                \" \n",
    "   )\n",
    "    rows = cur.fetchall()\n",
    "    \n",
    "\n",
    "except psycopg2.DatabaseError as db_err:\n",
    "    print(db_err)\n",
    "finally : \n",
    "  cur.close()"
   ]
  },
  {
   "cell_type": "code",
   "execution_count": null,
   "metadata": {},
   "outputs": [],
   "source": [
    "df_user = pd.DataFrame(rows, columns = [\n",
    "  'id' \n",
    ", 'creationdate' \n",
    ", 'displayname'\n",
    ", 'lastaccessdate'\n",
    "])"
   ]
  },
  {
   "cell_type": "code",
   "execution_count": null,
   "metadata": {},
   "outputs": [],
   "source": [
    "# 전체 데이터셋 \n",
    "with open('../../data/df_user.pkl', 'wb') as f:\n",
    "    pickle.dump(df_user, f)"
   ]
  },
  {
   "cell_type": "code",
   "execution_count": null,
   "metadata": {},
   "outputs": [],
   "source": [
    "conn = psycopg2.connect(host = conf.database_user['host'], dbname=conf.database_user['dbname'], user=conf.database_user['user'], password=conf.database_user['password'])\n",
    "try:\n",
    "    cur = conn.cursor()\n",
    "    cur.execute(\"\\\n",
    "select to_char(p.creationdate, 'yyyy') as year, p.id, count(a.id) as cnt \\\n",
    "  from posts p \\\n",
    "     left join posts a \\\n",
    "     on p.id = a.parentid \\\n",
    "     and a.posttypeid = '2' \\\n",
    "     and a.creationdate - p.creationdate <= '30 days' \\\n",
    " where ((p.creationdate between '2023-11-01' and '2023-12-01') \\\n",
    " \t or (p.creationdate between '2022-11-01' and '2022-12-01') \\\n",
    " \t or (p.creationdate between '2021-11-01' and '2021-12-01') \\\n",
    " \t or (p.creationdate between '2020-11-01' and '2020-12-01') \\\n",
    " \t or (p.creationdate between '2019-11-01' and '2019-12-01') \\\n",
    " \t ) \\\n",
    "   and p.posttypeid ='1' \\\n",
    "  group by p.id \\\n",
    "  ; \\\n",
    "                \" \n",
    "   )\n",
    "    rows = cur.fetchall()\n",
    "    \n",
    "\n",
    "except psycopg2.DatabaseError as db_err:\n",
    "    print(db_err)\n",
    "finally : \n",
    "  cur.close()"
   ]
  },
  {
   "cell_type": "code",
   "execution_count": null,
   "metadata": {},
   "outputs": [],
   "source": [
    "df_answer_cnt = pd.DataFrame(rows, columns = [\n",
    "  'year' \n",
    ", 'id'\n",
    ", 'cnt' \n",
    "])"
   ]
  },
  {
   "cell_type": "code",
   "execution_count": null,
   "metadata": {},
   "outputs": [],
   "source": [
    "# 전체 데이터셋 \n",
    "with open('../../data/df_answer_cnt.pkl', 'wb') as f:\n",
    "    pickle.dump(df_answer_cnt, f)"
   ]
  },
  {
   "cell_type": "code",
   "execution_count": null,
   "metadata": {},
   "outputs": [],
   "source": [
    "conn = psycopg2.connect(host = conf.database_user['host'], dbname=conf.database_user['dbname'], user=conf.database_user['user'], password=conf.database_user['password'])\n",
    "try:\n",
    "    cur = conn.cursor()\n",
    "    cur.execute(\"\\\n",
    "select xx.year, xx.usr_id, count(xx.q_id) as cnt \\\n",
    "  from ( \\\n",
    " select x.usr_id, x.usr_creationdate, x.year, p.id as q_id, p.creationdate as q_date \\\n",
    "   from ( \\\n",
    "  \tselect u.id as usr_id, u.creationdate as usr_creationdate, m.year \\\n",
    "     from users u \\\n",
    "        , ma_year m \\\n",
    " \twhere to_char(u.creationdate, 'yyyy') <= m.year \\\n",
    "   \t  and m.year between '2013' and '2023' \\\n",
    "      and u.id >1 \\\n",
    "  \t) x \\\n",
    "   left join posts p \\\n",
    "   on x.usr_id = p.owneruserid \\\n",
    "   and p.posttypeid = '1' \\\n",
    "   and x.year = to_char(p.creationdate, 'yyyy') \\\n",
    ") xx \\\n",
    "group by xx.year, xx.usr_id \\\n",
    "; \\\n",
    "                \" \n",
    "   )\n",
    "    rows = cur.fetchall()\n",
    "    \n",
    "\n",
    "except psycopg2.DatabaseError as db_err:\n",
    "    print(db_err)\n",
    "finally : \n",
    "  cur.close()"
   ]
  },
  {
   "cell_type": "code",
   "execution_count": null,
   "metadata": {},
   "outputs": [],
   "source": [
    "df_usr_q_cnt = pd.DataFrame(rows, columns = [\n",
    "  'year' \n",
    ", 'usr_id'\n",
    ", 'cnt' \n",
    "])"
   ]
  },
  {
   "cell_type": "code",
   "execution_count": null,
   "metadata": {},
   "outputs": [],
   "source": [
    "# 전체 데이터셋 \n",
    "with open('../../data/df_usr_q_cnt.pkl', 'wb') as f:\n",
    "    pickle.dump(df_usr_q_cnt, f)"
   ]
  },
  {
   "cell_type": "code",
   "execution_count": null,
   "metadata": {},
   "outputs": [],
   "source": [
    "conn = psycopg2.connect(host = conf.database_user['host'], dbname=conf.database_user['dbname'], user=conf.database_user['user'], password=conf.database_user['password'])\n",
    "try:\n",
    "    cur = conn.cursor()\n",
    "    cur.execute(\"\\\n",
    "select xxx.year, avg(xxx.cnt) as avg cnt \\\n",
    "  from ( \\\n",
    "\t\t  select xx.year, xx.usr_id, count(xx.q_id) as cnt \\\n",
    "\t\t  from (select x.usr_id, x.usr_creationdate, x.year, p.id as q_id, p.creationdate as q_date \\\n",
    "\t\t   from ( \\\n",
    "\t\t  \tselect u.id as usr_id, u.creationdate as usr_creationdate, m.year \\\n",
    "\t\t     from users u \\\n",
    "\t\t        , ma_year m \\\n",
    "\t\t \twhere to_char(u.creationdate, 'yyyy') <= m.year \\\n",
    "\t\t   \t  and m.year between '2013' and '2023' \\\n",
    "\t\t      and u.id >1 \\\n",
    "\t\t  \t) x \\\n",
    "\t\t   left join posts p \\\n",
    "\t\t   on x.usr_id = p.owneruserid \\\n",
    "\t\t   and p.posttypeid = '2' \\\n",
    "\t\t   and x.year = to_char(p.creationdate, 'yyyy') \\\n",
    "\t\t) xx \\\n",
    "\t\tgroup by xx.year, xx.usr_id \\\n",
    "  ) xxx \\\n",
    " group by xxx.year \\\n",
    "  ;              \"\n",
    "   )\n",
    "    rows = cur.fetchall()\n",
    "    \n",
    "\n",
    "except psycopg2.DatabaseError as db_err:\n",
    "    print(db_err)\n",
    "finally : \n",
    "  cur.close()"
   ]
  },
  {
   "cell_type": "code",
   "execution_count": null,
   "metadata": {},
   "outputs": [],
   "source": [
    "df_usr_a_cnt = pd.DataFrame(rows, columns = [\n",
    "  'year' \n",
    ", 'usr_id'\n",
    ", 'cnt' \n",
    "])"
   ]
  },
  {
   "cell_type": "code",
   "execution_count": null,
   "metadata": {},
   "outputs": [],
   "source": [
    "# 전체 데이터셋 \n",
    "with open('../../data/df_usr_a_cnt.pkl', 'wb') as f:\n",
    "    pickle.dump(df_usr_a_cnt, f)"
   ]
  },
  {
   "cell_type": "code",
   "execution_count": null,
   "metadata": {},
   "outputs": [],
   "source": [
    "# create table tt_year_from_signup_qna as\n",
    "# select x.usr_id\n",
    "#      , p.id as q_id\n",
    "#      , ceil(DATE_PART('day',p.creationdate::timestamp-x.usr_creationdate::timestamp)/365) as yeardiff\n",
    "#      , p.creationdate, x.usr_creationdate\n",
    "#   from (\n",
    "#         select u.id as usr_id, u.creationdate as usr_creationdate\n",
    "#           from users u\n",
    "#          where u.id >1\n",
    "#         ) x\n",
    "#         left join posts p\n",
    "#           on x.usr_id = p.owneruserid\n",
    "#          and p.posttypeid in( '1', '2')\n",
    "# ;\n"
   ]
  },
  {
   "cell_type": "code",
   "execution_count": null,
   "metadata": {},
   "outputs": [],
   "source": [
    "conn = psycopg2.connect(host = conf.database_user['host'], dbname=conf.database_user['dbname'], user=conf.database_user['user'], password=conf.database_user['password'])\n",
    "try:\n",
    "    cur = conn.cursor()\n",
    "    cur.execute(\"\\\n",
    "select yeardiff, count(q_id) as cnt \\\n",
    "  from public.tt_year_from_signup_a \\\n",
    " group by yeardiff \\\n",
    " ;\"\n",
    "   )\n",
    "    rows = cur.fetchall()\n",
    "    \n",
    "\n",
    "except psycopg2.DatabaseError as db_err:\n",
    "    print(db_err)\n",
    "finally : \n",
    "  cur.close()"
   ]
  },
  {
   "cell_type": "code",
   "execution_count": null,
   "metadata": {},
   "outputs": [],
   "source": [
    "df_year_from_signup_a = pd.DataFrame(rows, columns = [\n",
    "  'yeardiff' \n",
    ", 'cnt' \n",
    "])\n"
   ]
  },
  {
   "cell_type": "code",
   "execution_count": null,
   "metadata": {},
   "outputs": [],
   "source": [
    "# 전체 데이터셋 \n",
    "with open('../../data/df_year_from_signup_a.pkl', 'wb') as f:\n",
    "    pickle.dump(df_year_from_signup_a, f)"
   ]
  },
  {
   "cell_type": "code",
   "execution_count": null,
   "metadata": {},
   "outputs": [],
   "source": [
    "conn = psycopg2.connect(host = conf.database_user['host'], dbname=conf.database_user['dbname'], user=conf.database_user['user'], password=conf.database_user['password'])\n",
    "try:\n",
    "    cur = conn.cursor()\n",
    "    cur.execute(\"\\\n",
    "select yeardiff, count(q_id) as cnt \\\n",
    "  from public.tt_year_from_signup_qna \\\n",
    " group by yeardiff \\\n",
    " ;\"\n",
    "   )\n",
    "    rows = cur.fetchall()\n",
    "    \n",
    "\n",
    "except psycopg2.DatabaseError as db_err:\n",
    "    print(db_err)\n",
    "finally : \n",
    "  cur.close()"
   ]
  },
  {
   "cell_type": "code",
   "execution_count": null,
   "metadata": {},
   "outputs": [],
   "source": [
    "df_year_from_signup_qna = pd.DataFrame(rows, columns = [\n",
    "  'yeardiff' \n",
    ", 'cnt' \n",
    "])\n"
   ]
  },
  {
   "cell_type": "code",
   "execution_count": null,
   "metadata": {},
   "outputs": [],
   "source": [
    "# 전체 데이터셋 \n",
    "with open('../../data/df_year_from_signup_qna.pkl', 'wb') as f:\n",
    "    pickle.dump(df_year_from_signup_qna, f)"
   ]
  },
  {
   "cell_type": "code",
   "execution_count": null,
   "metadata": {},
   "outputs": [],
   "source": []
  },
  {
   "cell_type": "code",
   "execution_count": null,
   "metadata": {},
   "outputs": [],
   "source": [
    "conn = psycopg2.connect(host = conf.database_user['host'], dbname=conf.database_user['dbname'], user=conf.database_user['user'], password=conf.database_user['password'])\n",
    "try:\n",
    "    cur = conn.cursor()\n",
    "    cur.execute(\"\\\n",
    "select yeardiff, count(q_id) as cnt \\\n",
    "  from public.tt_year_from_signup_q \\\n",
    " group by yeardiff \\\n",
    " ;\"\n",
    "   )\n",
    "    rows = cur.fetchall()\n",
    "    \n",
    "\n",
    "except psycopg2.DatabaseError as db_err:\n",
    "    print(db_err)\n",
    "finally : \n",
    "  cur.close()"
   ]
  },
  {
   "cell_type": "code",
   "execution_count": null,
   "metadata": {},
   "outputs": [],
   "source": [
    "df_year_from_signup_q = pd.DataFrame(rows, columns = [\n",
    "  'yeardiff' \n",
    ", 'cnt' \n",
    "])\n"
   ]
  },
  {
   "cell_type": "code",
   "execution_count": null,
   "metadata": {},
   "outputs": [],
   "source": [
    "# 전체 데이터셋 \n",
    "with open('../../data/df_year_from_signup_q.pkl', 'wb') as f:\n",
    "    pickle.dump(df_year_from_signup_q, f)"
   ]
  },
  {
   "cell_type": "code",
   "execution_count": null,
   "metadata": {},
   "outputs": [],
   "source": [
    "conn = psycopg2.connect(host = conf.database_user['host'], dbname=conf.database_user['dbname'], user=conf.database_user['user'], password=conf.database_user['password'])\n",
    "try:\n",
    "    cur = conn.cursor()\n",
    "    cur.execute(\"\\\n",
    "select x.yeardiff, avg(x.cnt) as mean_cnt , median(x.cnt) as med_cnt \\\n",
    "  from ( \\\n",
    "select a.yeardiff, a.usr_id, count(a.q_id) as cnt \\\n",
    "  from public.tt_year_from_signup_qna a \\\n",
    " where a.yeardiff >=0 \\\n",
    " group by a.yeardiff, a.usr_id \\\n",
    "  ) x \\\n",
    " group by x.yeardiff \\\n",
    " ;\"\n",
    "   )\n",
    "    rows = cur.fetchall()\n",
    "    \n",
    "\n",
    "except psycopg2.DatabaseError as db_err:\n",
    "    print(db_err)\n",
    "finally : \n",
    "  cur.close()"
   ]
  },
  {
   "cell_type": "code",
   "execution_count": null,
   "metadata": {},
   "outputs": [],
   "source": [
    "df_year_from_signup_qna_mm = pd.DataFrame(rows, columns = [\n",
    "  'yeardiff' \n",
    ", 'mean_cnt' \n",
    ", 'med_cnt'\n",
    "])\n"
   ]
  },
  {
   "cell_type": "code",
   "execution_count": null,
   "metadata": {},
   "outputs": [],
   "source": [
    "# 전체 데이터셋 \n",
    "with open('../../data/df_year_from_signup_qna_mm.pkl', 'wb') as f:\n",
    "    pickle.dump(df_year_from_signup_qna_mm, f)"
   ]
  },
  {
   "cell_type": "code",
   "execution_count": null,
   "metadata": {},
   "outputs": [],
   "source": [
    "# create table tt_year_from_signup_qna as\n",
    "# select x.usr_id\n",
    "#      , p.id as q_id\n",
    "#      , ceil(DATE_PART('day',p.creationdate::timestamp-x.usr_creationdate::timestamp)/365) as yeardiff\n",
    "#      , p.creationdate, x.usr_creationdate\n",
    "#   from (\n",
    "#         select u.id as usr_id, u.creationdate as usr_creationdate\n",
    "#           from users u\n",
    "#          where u.id >1\n",
    "#         ) x\n",
    "#         left join posts p\n",
    "#           on x.usr_id = p.owneruserid\n",
    "#          and p.posttypeid in( '1', '2')\n",
    "# ;\n"
   ]
  },
  {
   "cell_type": "code",
   "execution_count": null,
   "metadata": {},
   "outputs": [],
   "source": [
    "conn = psycopg2.connect(host = conf.database_user['host'], dbname=conf.database_user['dbname'], user=conf.database_user['user'], password=conf.database_user['password'])\n",
    "try:\n",
    "    cur = conn.cursor()\n",
    "    cur.execute(\"\\\n",
    "select x.yeardiff, avg(x.cnt) as mean_cnt , median(x.cnt) as med_cnt \\\n",
    "  from ( \\\n",
    "select a.yeardiff, a.usr_id, count(a.q_id) as cnt \\\n",
    "  from public.tt_year_from_signup_q a \\\n",
    " where a.yeardiff >=0 \\\n",
    " group by a.yeardiff, a.usr_id \\\n",
    "  ) x \\\n",
    " group by x.yeardiff \\\n",
    " ;\"\n",
    "   )\n",
    "    rows = cur.fetchall()\n",
    "    \n",
    "\n",
    "except psycopg2.DatabaseError as db_err:\n",
    "    print(db_err)\n",
    "finally : \n",
    "  cur.close()"
   ]
  },
  {
   "cell_type": "code",
   "execution_count": null,
   "metadata": {},
   "outputs": [],
   "source": [
    "df_year_from_signup_q_mm = pd.DataFrame(rows, columns = [\n",
    "  'yeardiff' \n",
    ", 'mean_cnt' \n",
    ", 'med_cnt'\n",
    "])\n"
   ]
  },
  {
   "cell_type": "code",
   "execution_count": null,
   "metadata": {},
   "outputs": [],
   "source": [
    "# 전체 데이터셋 \n",
    "with open('../../data/df_year_from_signup_q_mm.pkl', 'wb') as f:\n",
    "    pickle.dump(df_year_from_signup_q_mm, f)"
   ]
  },
  {
   "cell_type": "code",
   "execution_count": null,
   "metadata": {},
   "outputs": [],
   "source": []
  },
  {
   "cell_type": "code",
   "execution_count": null,
   "metadata": {},
   "outputs": [],
   "source": [
    "conn = psycopg2.connect(host = conf.database_user['host'], dbname=conf.database_user['dbname'], user=conf.database_user['user'], password=conf.database_user['password'])\n",
    "try:\n",
    "    cur = conn.cursor()\n",
    "    cur.execute(\"\\\n",
    "select x.yeardiff, avg(x.cnt) as mean_cnt , median(x.cnt) as med_cnt \\\n",
    "  from ( \\\n",
    "select a.yeardiff, a.usr_id, count(a.q_id) as cnt \\\n",
    "  from public.tt_year_from_signup_a a \\\n",
    " where a.yeardiff >=0 \\\n",
    " group by a.yeardiff, a.usr_id \\\n",
    "  ) x \\\n",
    " group by x.yeardiff \\\n",
    " ;\"\n",
    "   )\n",
    "    rows = cur.fetchall()\n",
    "    \n",
    "\n",
    "except psycopg2.DatabaseError as db_err:\n",
    "    print(db_err)\n",
    "finally : \n",
    "  cur.close()"
   ]
  },
  {
   "cell_type": "code",
   "execution_count": null,
   "metadata": {},
   "outputs": [],
   "source": [
    "df_year_from_signup_a_mm = pd.DataFrame(rows, columns = [\n",
    "  'yeardiff' \n",
    ", 'mean_cnt' \n",
    ", 'med_cnt'\n",
    "])\n"
   ]
  },
  {
   "cell_type": "code",
   "execution_count": null,
   "metadata": {},
   "outputs": [],
   "source": [
    "# 전체 데이터셋 \n",
    "with open('../../data/df_year_from_signup_a_mm.pkl', 'wb') as f:\n",
    "    pickle.dump(df_year_from_signup_a_mm, f)"
   ]
  },
  {
   "cell_type": "code",
   "execution_count": null,
   "metadata": {},
   "outputs": [],
   "source": []
  },
  {
   "cell_type": "code",
   "execution_count": null,
   "metadata": {},
   "outputs": [],
   "source": [
    "conn = psycopg2.connect(host = conf.database_user['host'], dbname=conf.database_user['dbname'], user=conf.database_user['user'], password=conf.database_user['password'])\n",
    "try:\n",
    "    cur = conn.cursor()\n",
    "    cur.execute(\"\\\n",
    "select x.yeardiff, x.c_gpt_yn, x.u_c_gpt_yn, count(distinct x.q_id) as q_cnt, count(distinct x.usr_id) as usr_cnt \\\n",
    "  from ( \\\n",
    "\t\tselect a.yeardiff \\\n",
    "\t\t\t, case when to_char(a.creationdate, 'yyyy-mm-dd') >= '2022-11-30' then 1 else 0 end as c_gpt_yn \\\n",
    "\t\t\t, case when to_char(a.usr_creationdate, 'yyyy-mm-dd') >= '2022-11-30' then 1 else 0 end as u_c_gpt_yn \\\n",
    "\t\t\t, a.q_id \\\n",
    "\t\t\t, a.usr_id \\\n",
    "\t\t  from public.tt_year_from_signup_qna a \\\n",
    "  ) x \\\n",
    "group by x.yeardiff, x.c_gpt_yn, x.u_c_gpt_yn \\\n",
    " ;\"\n",
    "   )\n",
    "    rows = cur.fetchall()\n",
    "    \n",
    "\n",
    "except psycopg2.DatabaseError as db_err:\n",
    "    print(db_err)\n",
    "finally : \n",
    "  cur.close()"
   ]
  },
  {
   "cell_type": "code",
   "execution_count": null,
   "metadata": {},
   "outputs": [],
   "source": [
    "df_year_gpt_yn = pd.DataFrame(rows, columns = [\n",
    "  'yeardiff' \n",
    ", 'c_gpt_yn' \n",
    ", 'u_c_gpt_yn'\n",
    ", 'q_cnt'\n",
    ", 'usr_cnt'\n",
    "])\n"
   ]
  },
  {
   "cell_type": "code",
   "execution_count": null,
   "metadata": {},
   "outputs": [],
   "source": [
    "# 전체 데이터셋 \n",
    "with open('../../data/df_year_gpt_yn.pkl', 'wb') as f:\n",
    "    pickle.dump(df_year_gpt_yn, f)"
   ]
  },
  {
   "cell_type": "code",
   "execution_count": null,
   "metadata": {},
   "outputs": [],
   "source": []
  },
  {
   "cell_type": "code",
   "execution_count": null,
   "metadata": {},
   "outputs": [],
   "source": [
    "conn = psycopg2.connect(host = conf.database_user['host'], dbname=conf.database_user['dbname'], user=conf.database_user['user'], password=conf.database_user['password'])\n",
    "try:\n",
    "    cur = conn.cursor()\n",
    "    cur.execute(\"\\\n",
    "select x.yeardiff, x.c_gpt_yn, x.u_c_gpt_yn, count(distinct x.q_id) as q_cnt, count(distinct x.usr_id) as usr_cnt \\\n",
    "  from ( \\\n",
    "\t\tselect a.yeardiff \\\n",
    "\t\t\t, case when to_char(a.creationdate, 'yyyy-mm-dd') >= '2022-11-30' then 1 else 0 end as c_gpt_yn \\\n",
    "\t\t\t, case when to_char(a.usr_creationdate, 'yyyy-mm-dd') >= '2022-11-30' then 1 else 0 end as u_c_gpt_yn \\\n",
    "\t\t\t, a.q_id \\\n",
    "\t\t\t, a.usr_id \\\n",
    "\t\t  from public.tt_year_from_signup_a a \\\n",
    "  ) x \\\n",
    "group by x.yeardiff, x.c_gpt_yn, x.u_c_gpt_yn \\\n",
    " ;\"\n",
    "   )\n",
    "    rows = cur.fetchall()\n",
    "    \n",
    "\n",
    "except psycopg2.DatabaseError as db_err:\n",
    "    print(db_err)\n",
    "finally : \n",
    "  cur.close()"
   ]
  },
  {
   "cell_type": "code",
   "execution_count": null,
   "metadata": {},
   "outputs": [],
   "source": [
    "df_year_gpt_yn_a = pd.DataFrame(rows, columns = [\n",
    "  'yeardiff' \n",
    ", 'c_gpt_yn' \n",
    ", 'u_c_gpt_yn'\n",
    ", 'q_cnt'\n",
    ", 'usr_cnt'\n",
    "])\n"
   ]
  },
  {
   "cell_type": "code",
   "execution_count": null,
   "metadata": {},
   "outputs": [],
   "source": [
    "# 전체 데이터셋 \n",
    "with open('../../data/df_year_gpt_yn_a.pkl', 'wb') as f:\n",
    "    pickle.dump(df_year_gpt_yn_a, f)"
   ]
  },
  {
   "cell_type": "code",
   "execution_count": null,
   "metadata": {},
   "outputs": [],
   "source": [
    "# select xx.usr_creationyear, xx.postcreationyear, avg(post_cnt) as avg_post_cnt, median(post_cnt) as med_post_cnt\n",
    "#   from (\n",
    "#         select x.usr_creationyear, x.usr_id, x.postcreationyear, sum(post_cnt) as post_cnt\n",
    "#           from (select a.usr_id, a.postcreationyear, a.posttypeid,a.post_cnt, b.creationyear as usr_creationyear\n",
    "#           from tt_year_per_post_cnt_01 a\n",
    "#              , users b\n",
    "#         where a.usr_id = b.id\n",
    "#               )x\n",
    "#         group by x.usr_creationyear, x.usr_id, x.postcreationyear\n",
    "       \n",
    "#            ) xx \n",
    "# group by xx.usr_creationyear, xx.postcreationyear\n",
    "# ;"
   ]
  },
  {
   "cell_type": "code",
   "execution_count": null,
   "metadata": {},
   "outputs": [],
   "source": [
    "conn = psycopg2.connect(host = conf.database_user['host'], dbname=conf.database_user['dbname'], user=conf.database_user['user'], password=conf.database_user['password'])\n",
    "try:\n",
    "    cur = conn.cursor()\n",
    "    cur.execute(\"\\\n",
    "select xx.usr_creationyear, xx.postcreationyear, avg(post_cnt) as avg_post_cnt, median(post_cnt) as med_post_cnt \\\n",
    "  from ( \\\n",
    "        select x.usr_creationyear, x.usr_id, x.postcreationyear, sum(post_cnt) as post_cnt \\\n",
    "          from (select a.usr_id, a.postcreationyear, a.posttypeid,a.post_cnt, b.creationyear as usr_creationyear \\\n",
    "          from tt_year_per_post_cnt_01 a \\\n",
    "             , users b \\\n",
    "        where a.usr_id = b.id \\\n",
    "              )x \\\n",
    "        group by x.usr_creationyear, x.usr_id, x.postcreationyear \\\n",
    "           ) xx \\\n",
    "group by xx.usr_creationyear, xx.postcreationyear \\\n",
    "; \\\n",
    "\" \n",
    "   )\n",
    "    rows = cur.fetchall()\n",
    "    \n",
    "\n",
    "except psycopg2.DatabaseError as db_err:\n",
    "    print(db_err)\n",
    "finally : \n",
    "  cur.close()"
   ]
  },
  {
   "cell_type": "code",
   "execution_count": null,
   "metadata": {},
   "outputs": [],
   "source": [
    "df = pd.DataFrame(rows, columns = [\n",
    "  'usr_creationyear' \n",
    ", 'post_creationyear'\n",
    ", 'avg_post_cnt' \n",
    ", 'med_post_cnt' \n",
    "])"
   ]
  },
  {
   "cell_type": "code",
   "execution_count": null,
   "metadata": {},
   "outputs": [],
   "source": [
    "# 전체 데이터셋 \n",
    "with open('../../data/df_usr_post_cre_avg_med.pkl', 'wb') as f:\n",
    "    pickle.dump(df, f)"
   ]
  },
  {
   "cell_type": "code",
   "execution_count": null,
   "metadata": {},
   "outputs": [],
   "source": []
  },
  {
   "cell_type": "code",
   "execution_count": null,
   "metadata": {},
   "outputs": [],
   "source": [
    "conn = psycopg2.connect(host = conf.database_user['host'], dbname=conf.database_user['dbname'], user=conf.database_user['user'], password=conf.database_user['password'])\n",
    "try:\n",
    "    cur = conn.cursor()\n",
    "    cur.execute(\"\\\n",
    "select xx.usr_creationyear, xx.postcreationyear, avg(post_cnt) as avg_post_cnt, median(post_cnt) as med_post_cnt \\\n",
    "  from ( \\\n",
    "        select x.usr_creationyear, x.usr_id, x.postcreationyear, sum(post_cnt) as post_cnt \\\n",
    "          from (select a.usr_id, a.postcreationyear, a.posttypeid,a.post_cnt, b.creationyear as usr_creationyear \\\n",
    "          from tt_year_per_post_cnt_01 a \\\n",
    "             , users b \\\n",
    "        where a.usr_id = b.id \\\n",
    "          and a.posttypeid = '1' \\\n",
    "              )x \\\n",
    "        group by x.usr_creationyear, x.usr_id, x.postcreationyear \\\n",
    "           ) xx \\\n",
    "group by xx.usr_creationyear, xx.postcreationyear \\\n",
    "; \\\n",
    "\" \n",
    "   )\n",
    "    rows = cur.fetchall()\n",
    "    \n",
    "\n",
    "except psycopg2.DatabaseError as db_err:\n",
    "    print(db_err)\n",
    "finally : \n",
    "  cur.close()"
   ]
  },
  {
   "cell_type": "code",
   "execution_count": null,
   "metadata": {},
   "outputs": [],
   "source": [
    "df = pd.DataFrame(rows, columns = [\n",
    "  'usr_creationyear' \n",
    ", 'q_creationyear'\n",
    ", 'avg_post_cnt' \n",
    ", 'med_post_cnt' \n",
    "])"
   ]
  },
  {
   "cell_type": "code",
   "execution_count": null,
   "metadata": {},
   "outputs": [],
   "source": [
    "# 전체 데이터셋 \n",
    "with open('../../data/df_usr_q_cre_avg_med.pkl', 'wb') as f:\n",
    "    pickle.dump(df, f)"
   ]
  },
  {
   "cell_type": "code",
   "execution_count": null,
   "metadata": {},
   "outputs": [],
   "source": []
  },
  {
   "cell_type": "code",
   "execution_count": null,
   "metadata": {},
   "outputs": [],
   "source": []
  },
  {
   "cell_type": "code",
   "execution_count": null,
   "metadata": {},
   "outputs": [],
   "source": [
    "conn = psycopg2.connect(host = conf.database_user['host'], dbname=conf.database_user['dbname'], user=conf.database_user['user'], password=conf.database_user['password'])\n",
    "try:\n",
    "    cur = conn.cursor()\n",
    "    cur.execute(\"\\\n",
    "select xx.usr_creationyear, xx.postcreationyear, avg(post_cnt) as avg_post_cnt, median(post_cnt) as med_post_cnt \\\n",
    "  from ( \\\n",
    "        select x.usr_creationyear, x.usr_id, x.postcreationyear, sum(post_cnt) as post_cnt \\\n",
    "          from (select a.usr_id, a.postcreationyear, a.posttypeid,a.post_cnt, b.creationyear as usr_creationyear \\\n",
    "          from tt_year_per_post_cnt_01 a \\\n",
    "             , users b \\\n",
    "        where a.usr_id = b.id \\\n",
    "          and a.posttypeid = '2' \\\n",
    "              )x \\\n",
    "        group by x.usr_creationyear, x.usr_id, x.postcreationyear \\\n",
    "           ) xx \\\n",
    "group by xx.usr_creationyear, xx.postcreationyear \\\n",
    "; \\\n",
    "\" \n",
    "   )\n",
    "    rows = cur.fetchall()\n",
    "    \n",
    "\n",
    "except psycopg2.DatabaseError as db_err:\n",
    "    print(db_err)\n",
    "finally : \n",
    "  cur.close()"
   ]
  },
  {
   "cell_type": "code",
   "execution_count": null,
   "metadata": {},
   "outputs": [],
   "source": [
    "df = pd.DataFrame(rows, columns = [\n",
    "  'usr_creationyear' \n",
    ", 'a_creationyear'\n",
    ", 'avg_post_cnt' \n",
    ", 'med_post_cnt' \n",
    "])"
   ]
  },
  {
   "cell_type": "code",
   "execution_count": null,
   "metadata": {},
   "outputs": [],
   "source": [
    "# 전체 데이터셋 \n",
    "with open('../../data/df_usr_a_cre_avg_med.pkl', 'wb') as f:\n",
    "    pickle.dump(df, f)"
   ]
  },
  {
   "cell_type": "code",
   "execution_count": null,
   "metadata": {},
   "outputs": [],
   "source": [
    "conn = psycopg2.connect(host = conf.database_user['host'], dbname=conf.database_user['dbname'], user=conf.database_user['user'], password=conf.database_user['password'])\n",
    "try:\n",
    "    cur = conn.cursor()\n",
    "    cur.execute(\"\\\n",
    "select x.usr_creationyear,x.posttypeid, x.postcreationyear, sum(post_cnt) as post_cnt \\\n",
    "  from (select a.usr_id, a.postcreationyear, a.posttypeid,a.post_cnt, b.creationyear as usr_creationyear \\\n",
    "  from tt_year_per_post_cnt_01 a \\\n",
    "     , users b \\\n",
    "where a.usr_id = b.id \\\n",
    "      )x \\\n",
    "group by x.usr_creationyear,x.posttypeid, x.postcreationyear \\\n",
    "; \\\n",
    "\" \n",
    "   )\n",
    "    rows = cur.fetchall()\n",
    "    \n",
    "\n",
    "except psycopg2.DatabaseError as db_err:\n",
    "    print(db_err)\n",
    "finally : \n",
    "  cur.close()"
   ]
  },
  {
   "cell_type": "code",
   "execution_count": null,
   "metadata": {},
   "outputs": [],
   "source": [
    "df = pd.DataFrame(rows, columns = [\n",
    "  'usr_creationyear' \n",
    ", 'posttypeid'\n",
    ", 'postcreationyear' \n",
    ", 'post_cnt' \n",
    "])"
   ]
  },
  {
   "cell_type": "code",
   "execution_count": null,
   "metadata": {},
   "outputs": [],
   "source": [
    "# 전체 데이터셋 \n",
    "with open('../../data/df_usr_post_cre_cnt.pkl', 'wb') as f:\n",
    "    pickle.dump(df, f)"
   ]
  },
  {
   "cell_type": "code",
   "execution_count": null,
   "metadata": {},
   "outputs": [],
   "source": []
  },
  {
   "cell_type": "code",
   "execution_count": null,
   "metadata": {},
   "outputs": [],
   "source": []
  },
  {
   "cell_type": "code",
   "execution_count": null,
   "metadata": {},
   "outputs": [],
   "source": []
  },
  {
   "cell_type": "code",
   "execution_count": null,
   "metadata": {},
   "outputs": [],
   "source": [
    "conn = psycopg2.connect(host = conf.database_user['host'], dbname=conf.database_user['dbname'], user=conf.database_user['user'], password=conf.database_user['password'])\n",
    "try:\n",
    "    cur = conn.cursor()\n",
    "    cur.execute(\"\\\n",
    "select x.yeardiff, x.usr_creationyear, avg(x.cnt) as avg_cnt, median(x.cnt) as med_cnt \\\n",
    "  from ( \\\n",
    "        select a.yeardiff, a.usr_id, b.creationyear as usr_creationyear, count(a.q_id) as cnt \\\n",
    "          from public.tt_year_from_signup_qna a \\\n",
    "             , users b \\\n",
    "        where a.usr_id = b.id \\\n",
    "          and a.yeardiff >=0 \\\n",
    "         group by a.yeardiff, a.usr_id, b.creationyear \\\n",
    "        ) x \\\n",
    "group by x.yeardiff, x.usr_creationyear \\\n",
    "; \\\n",
    "\" \n",
    "   )\n",
    "    rows = cur.fetchall()\n",
    "    \n",
    "\n",
    "except psycopg2.DatabaseError as db_err:\n",
    "    print(db_err)\n",
    "finally : \n",
    "  cur.close()"
   ]
  },
  {
   "cell_type": "code",
   "execution_count": null,
   "metadata": {},
   "outputs": [],
   "source": [
    "df = pd.DataFrame(rows, columns = [\n",
    "  'yeardiff' \n",
    ", 'usr_creationyear'\n",
    ", 'avg_cnt' \n",
    ", 'med_cnt' \n",
    "])"
   ]
  },
  {
   "cell_type": "code",
   "execution_count": null,
   "metadata": {},
   "outputs": [],
   "source": [
    "# 전체 데이터셋 \n",
    "with open('../../data/df_diff_usrcre_avg_med.pkl', 'wb') as f:\n",
    "    pickle.dump(df, f)"
   ]
  },
  {
   "cell_type": "code",
   "execution_count": null,
   "metadata": {},
   "outputs": [],
   "source": [
    "conn = psycopg2.connect(host = conf.database_user['host'], dbname=conf.database_user['dbname'], user=conf.database_user['user'], password=conf.database_user['password'])\n",
    "try:\n",
    "    cur = conn.cursor()\n",
    "    cur.execute(\"\\\n",
    "select xx.usr_creationyear, xx.postcreationyear, count(xx.usr_id) as usr_cnt , sum(post_yn) post_y_usr_cnt \\\n",
    " from ( select x.usr_creationyear, x.usr_id, x.postcreationyear, case when sum(post_cnt) =0 then 1 else 0 end as post_yn \\\n",
    "          from (select a.usr_id, a.postcreationyear, a.posttypeid,a.post_cnt, b.creationyear as usr_creationyear \\\n",
    "          from tt_year_per_post_cnt_01 a \\\n",
    "             , users b \\\n",
    "        where a.usr_id = b.id \\\n",
    "              )x \\\n",
    "        group by x.usr_creationyear, x.usr_id, x.postcreationyear \\\n",
    "    ) xx \\\n",
    "group by xx.usr_creationyear, xx.postcreationyear \\\n",
    "; \\\n",
    "\" \n",
    "   )\n",
    "    rows = cur.fetchall()\n",
    "    \n",
    "\n",
    "except psycopg2.DatabaseError as db_err:\n",
    "    print(db_err)\n",
    "finally : \n",
    "  cur.close()"
   ]
  },
  {
   "cell_type": "code",
   "execution_count": null,
   "metadata": {},
   "outputs": [],
   "source": [
    "df = pd.DataFrame(rows, columns = [\n",
    "  'usr_creationyear' \n",
    ", 'postcreationyear' \n",
    ", 'usr_cnt'\n",
    ", 'post_y_usr_cnt'\n",
    "])"
   ]
  },
  {
   "cell_type": "code",
   "execution_count": null,
   "metadata": {},
   "outputs": [],
   "source": [
    "# 전체 데이터셋 \n",
    "with open('../../data/df_no_post_per_year.pkl', 'wb') as f:\n",
    "    pickle.dump(df, f)"
   ]
  },
  {
   "cell_type": "code",
   "execution_count": null,
   "metadata": {},
   "outputs": [],
   "source": []
  },
  {
   "cell_type": "code",
   "execution_count": null,
   "metadata": {},
   "outputs": [],
   "source": [
    "conn = psycopg2.connect(host = conf.database_user['host'], dbname=conf.database_user['dbname'], user=conf.database_user['user'], password=conf.database_user['password'])\n",
    "try:\n",
    "    cur = conn.cursor()\n",
    "    cur.execute(\"\\\n",
    "select tot.yeardiff, tot.usr_cnt as tot_usr_cnt, qq.usr_cnt as q_usr_cnt, aa.usr_cnt as a_usr_cnt \\\n",
    "from (select a.yeardiff, count(distinct a.usr_id) as usr_cnt \\\n",
    "  from public.tt_year_from_signup_qna a \\\n",
    "group by a.yeardiff \\\n",
    "order by a.yeardiff) tot, \\\n",
    "(select a.yeardiff, count(distinct a.usr_id) as usr_cnt \\\n",
    "  from public.tt_year_from_signup_q a \\\n",
    "group by a.yeardiff \\\n",
    "order by a.yeardiff) qq, \\\n",
    "(select a.yeardiff, count(distinct a.usr_id) as usr_cnt \\\n",
    "  from public.tt_year_from_signup_a a \\\n",
    "group by a.yeardiff \\\n",
    "order by a.yeardiff) aa \\\n",
    "where tot.yeardiff = qq.yeardiff \\\n",
    "  and tot.yeardiff = aa.yeardiff \\\n",
    "; \\\n",
    "\" \n",
    "   )\n",
    "    rows = cur.fetchall()\n",
    "    \n",
    "\n",
    "except psycopg2.DatabaseError as db_err:\n",
    "    print(db_err)\n",
    "finally : \n",
    "  cur.close()"
   ]
  },
  {
   "cell_type": "code",
   "execution_count": null,
   "metadata": {},
   "outputs": [],
   "source": [
    "df = pd.DataFrame(rows, columns = [\n",
    "  'yeardiff' \n",
    ", 'tot_usr_cnt' \n",
    ", 'q_usr_cnt'\n",
    ", 'a_usr_cnt'\n",
    "])"
   ]
  },
  {
   "cell_type": "code",
   "execution_count": null,
   "metadata": {},
   "outputs": [],
   "source": [
    "# 전체 데이터셋 \n",
    "with open('../../data/df_year_from_signup_cnt.pkl', 'wb') as f:\n",
    "    pickle.dump(df, f)"
   ]
  },
  {
   "cell_type": "code",
   "execution_count": null,
   "metadata": {},
   "outputs": [],
   "source": []
  },
  {
   "cell_type": "code",
   "execution_count": null,
   "metadata": {},
   "outputs": [],
   "source": []
  },
  {
   "cell_type": "code",
   "execution_count": null,
   "metadata": {},
   "outputs": [],
   "source": [
    "conn = psycopg2.connect(host = conf.database_user['host'], dbname=conf.database_user['dbname'], user=conf.database_user['user'], password=conf.database_user['password'])\n",
    "try:\n",
    "    cur = conn.cursor()\n",
    "    cur.execute(\"\\\n",
    "select creationyear, posttypeid, count(distinct owneruserid) as usr_cnt \\\n",
    "  from posts \\\n",
    " where posttypeid in ('1', '2') \\\n",
    " group by creationyear, posttypeid \\\n",
    "; \\\n",
    "\" \n",
    "   )\n",
    "    rows = cur.fetchall()\n",
    "    \n",
    "\n",
    "except psycopg2.DatabaseError as db_err:\n",
    "    print(db_err)\n",
    "finally : \n",
    "  cur.close()"
   ]
  },
  {
   "cell_type": "code",
   "execution_count": null,
   "metadata": {},
   "outputs": [],
   "source": [
    "v"
   ]
  },
  {
   "cell_type": "code",
   "execution_count": null,
   "metadata": {},
   "outputs": [],
   "source": [
    "# 전체 데이터셋 \n",
    "with open('../../data/df_active_usr_per_year.pkl', 'wb') as f:\n",
    "    pickle.dump(df, f)"
   ]
  },
  {
   "cell_type": "code",
   "execution_count": null,
   "metadata": {},
   "outputs": [],
   "source": [
    "\n",
    "conn = psycopg2.connect(host = conf.database_user['host'], dbname=conf.database_user['dbname'], user=conf.database_user['user'], password=conf.database_user['password'])\n",
    "try:\n",
    "    cur = conn.cursor()\n",
    "    cur.execute(\"\\\n",
    " select x. creationdate, x. posttypeid, count(distinct x.owneruserid) as usr_cnt \\\n",
    "   from ( \\\n",
    "   select to_char(creationdate, 'yyyy-mm-dd') as creationdate , posttypeid, owneruserid \\\n",
    "  from posts \\\n",
    " where posttypeid in ('1', '2') \\\n",
    "   ) x \\\n",
    " group by x. creationdate, x. posttypeid \\\n",
    "; \\\n",
    "\" \n",
    ")\n",
    "    rows = cur.fetchall()\n",
    "    \n",
    "\n",
    "except psycopg2.DatabaseError as db_err:\n",
    "    print(db_err)\n",
    "finally : \n",
    "  cur.close()\n"
   ]
  },
  {
   "cell_type": "code",
   "execution_count": null,
   "metadata": {},
   "outputs": [],
   "source": [
    "df = pd.DataFrame(rows, columns = [\n",
    "  'creationdate' \n",
    ", 'posttypeid' \n",
    ", 'usr_cnt'\n",
    "])"
   ]
  },
  {
   "cell_type": "code",
   "execution_count": null,
   "metadata": {},
   "outputs": [],
   "source": [
    "# 전체 데이터셋 \n",
    "with open('../../data/df_active_usr_per_day.pkl', 'wb') as f:\n",
    "    pickle.dump(df, f)"
   ]
  },
  {
   "cell_type": "code",
   "execution_count": null,
   "metadata": {},
   "outputs": [],
   "source": []
  },
  {
   "cell_type": "code",
   "execution_count": null,
   "metadata": {},
   "outputs": [],
   "source": [
    "\n",
    "conn = psycopg2.connect(host = conf.database_user['host'], dbname=conf.database_user['dbname'], user=conf.database_user['user'], password=conf.database_user['password'])\n",
    "try:\n",
    "    cur = conn.cursor()\n",
    "    cur.execute(\"\\\n",
    "select x.vote_creationdate, count(id) as cnt \\\n",
    "    from ( \\\n",
    "    select to_char(creationdate, 'yyyy-mm-dd') as vote_creationdate, id \\\n",
    "      from votes \\\n",
    "    ) x \\\n",
    "  group by x.vote_creationdate \\\n",
    "     ; \\\n",
    "\" \n",
    ")\n",
    "    rows = cur.fetchall()\n",
    "    \n",
    "\n",
    "except psycopg2.DatabaseError as db_err:\n",
    "    print(db_err)\n",
    "finally : \n",
    "  cur.close()\n"
   ]
  },
  {
   "cell_type": "code",
   "execution_count": null,
   "metadata": {},
   "outputs": [],
   "source": [
    "df = pd.DataFrame(rows, columns = [\n",
    "  'vote_creationdate' \n",
    ", 'cnt' \n",
    "])"
   ]
  },
  {
   "cell_type": "code",
   "execution_count": null,
   "metadata": {},
   "outputs": [],
   "source": [
    "# 전체 데이터셋 \n",
    "with open('../../data/df_vote_cnt_per_day.pkl', 'wb') as f:\n",
    "    pickle.dump(df, f)"
   ]
  },
  {
   "cell_type": "code",
   "execution_count": null,
   "metadata": {},
   "outputs": [],
   "source": []
  },
  {
   "cell_type": "code",
   "execution_count": null,
   "metadata": {},
   "outputs": [],
   "source": []
  },
  {
   "cell_type": "code",
   "execution_count": null,
   "metadata": {},
   "outputs": [],
   "source": [
    "\n",
    "conn = psycopg2.connect(host = conf.database_user['host'], dbname=conf.database_user['dbname'], user=conf.database_user['user'], password=conf.database_user['password'])\n",
    "try:\n",
    "    cur = conn.cursor()\n",
    "    cur.execute(\"\\\n",
    "select post_creationdate, count(vote_id) as cnt \\\n",
    "   from (select to_char(a.creationdate, 'yyyy-mm-dd') post_creationdate, b.id as vote_id \\\n",
    "   from posts a \\\n",
    "      , votes b \\\n",
    "     where a.id = b.postid \\\n",
    "       and b.creationdate - a.creationdate <= '30 days' \\\n",
    "       and a.posttypeid in ('1', '2') \\\n",
    " ) x \\\n",
    " group by post_creationdate \\\n",
    "     ; \\\n",
    "\" \n",
    ")\n",
    "    rows = cur.fetchall()\n",
    "    \n",
    "\n",
    "except psycopg2.DatabaseError as db_err:\n",
    "    print(db_err)\n",
    "finally : \n",
    "  cur.close()\n"
   ]
  },
  {
   "cell_type": "code",
   "execution_count": null,
   "metadata": {},
   "outputs": [],
   "source": [
    "df = pd.DataFrame(rows, columns = [\n",
    "  'post_creationdate' \n",
    ", 'cnt' \n",
    "])"
   ]
  },
  {
   "cell_type": "code",
   "execution_count": null,
   "metadata": {},
   "outputs": [],
   "source": [
    "# 전체 데이터셋 \n",
    "with open('../../data/df_vote_cnt_within_1month_per_day.pkl', 'wb') as f:\n",
    "    pickle.dump(df, f)"
   ]
  },
  {
   "cell_type": "code",
   "execution_count": null,
   "metadata": {},
   "outputs": [],
   "source": []
  },
  {
   "cell_type": "code",
   "execution_count": null,
   "metadata": {},
   "outputs": [],
   "source": []
  },
  {
   "cell_type": "code",
   "execution_count": null,
   "metadata": {},
   "outputs": [],
   "source": [
    "\n",
    "conn = psycopg2.connect(host = conf.database_user['host'], dbname=conf.database_user['dbname'], user=conf.database_user['user'], password=conf.database_user['password'])\n",
    "try:\n",
    "    cur = conn.cursor()\n",
    "    cur.execute(\"\\\n",
    "select post_creationdate, count(vote_id) as cnt \\\n",
    "   from (select to_char(a.creationdate, 'yyyy-mm-dd') post_creationdate, b.id as vote_id \\\n",
    "   from posts a \\\n",
    "      , votes b \\\n",
    "     where a.id = b.postid \\\n",
    "       and b.creationdate - a.creationdate <= '30 days' \\\n",
    "       and a.posttypeid in ('1', '2') \\\n",
    "       and b.votetypeid in ('2', '3') \\\n",
    " ) x \\\n",
    " group by post_creationdate \\\n",
    "     ; \\\n",
    "\" \n",
    ")\n",
    "    rows = cur.fetchall()\n",
    "    \n",
    "\n",
    "except psycopg2.DatabaseError as db_err:\n",
    "    print(db_err)\n",
    "finally : \n",
    "  cur.close()\n"
   ]
  },
  {
   "cell_type": "code",
   "execution_count": null,
   "metadata": {},
   "outputs": [],
   "source": [
    "df = pd.DataFrame(rows, columns = [\n",
    "  'post_creationdate' \n",
    ", 'cnt' \n",
    "])"
   ]
  },
  {
   "cell_type": "code",
   "execution_count": null,
   "metadata": {},
   "outputs": [],
   "source": [
    "# 전체 데이터셋 \n",
    "with open('../../data/df_vote_cnt_within_1month_per_day_qna.pkl', 'wb') as f:\n",
    "    pickle.dump(df, f)"
   ]
  },
  {
   "cell_type": "code",
   "execution_count": null,
   "metadata": {},
   "outputs": [],
   "source": []
  },
  {
   "cell_type": "code",
   "execution_count": null,
   "metadata": {},
   "outputs": [],
   "source": []
  },
  {
   "cell_type": "code",
   "execution_count": null,
   "metadata": {},
   "outputs": [],
   "source": [
    "\n",
    "conn = psycopg2.connect(host = conf.database_user['host'], dbname=conf.database_user['dbname'], user=conf.database_user['user'], password=conf.database_user['password'])\n",
    "try:\n",
    "    cur = conn.cursor()\n",
    "    cur.execute(\"\\\n",
    "select x.post_creationdate, x.posttypeid, count(x.vote_id) as cnt \\\n",
    "  from (select to_char(a.creationdate, 'yyyy-mm-dd') post_creationdate, b.id as vote_id, a.posttypeid \\\n",
    "  from posts a \\\n",
    "    , votes b \\\n",
    "    where a.id = b.postid \\\n",
    "      and b.creationdate - a.creationdate <= '30 days' \\\n",
    "      and a.posttypeid in ('1', '2') \\\n",
    "      and b.votetypeid in ('2', '3') \\\n",
    ") x \\\n",
    "group by x.post_creationdate, x.posttypeid \\\n",
    "; \\\n",
    "\" \n",
    ")\n",
    "    rows = cur.fetchall()\n",
    "    \n",
    "\n",
    "except psycopg2.DatabaseError as db_err:\n",
    "    print(db_err)\n",
    "finally : \n",
    "  cur.close()\n"
   ]
  },
  {
   "cell_type": "code",
   "execution_count": null,
   "metadata": {},
   "outputs": [],
   "source": [
    "df = pd.DataFrame(rows, columns = [\n",
    "  'post_creationdate' \n",
    ", 'posttypeid' \n",
    ", 'vote_cnt'\n",
    "])"
   ]
  },
  {
   "cell_type": "code",
   "execution_count": null,
   "metadata": {},
   "outputs": [],
   "source": [
    "# 전체 데이터셋 \n",
    "with open('../../data/df_vote_cnt_within_1month_per_daytype_qna.pkl', 'wb') as f:\n",
    "    pickle.dump(df, f)"
   ]
  },
  {
   "cell_type": "code",
   "execution_count": null,
   "metadata": {},
   "outputs": [],
   "source": []
  },
  {
   "cell_type": "code",
   "execution_count": null,
   "metadata": {},
   "outputs": [],
   "source": [
    "\n",
    "conn = psycopg2.connect(host = conf.database_user['host'], dbname=conf.database_user['dbname'], user=conf.database_user['user'], password=conf.database_user['password'])\n",
    "try:\n",
    "    cur = conn.cursor()\n",
    "    cur.execute(\"\\\n",
    "select date, posttypeid, count(*) as cnt \\\n",
    "  from (select to_char(creationdate, 'yyyy-mm-dd') as date, posttypeid , id \\\n",
    "  from posts \\\n",
    ") x \\\n",
    "group by date, posttypeid \\\n",
    "  ; \\\n",
    "\" \n",
    ")\n",
    "    rows = cur.fetchall()\n",
    "    \n",
    "\n",
    "except psycopg2.DatabaseError as db_err:\n",
    "    print(db_err)\n",
    "finally : \n",
    "  cur.close()\n"
   ]
  },
  {
   "cell_type": "code",
   "execution_count": null,
   "metadata": {},
   "outputs": [],
   "source": [
    "df = pd.DataFrame(rows, columns = [\n",
    "  'post_creationdate' \n",
    ", 'posttypeid' \n",
    ", 'vote_cnt'\n",
    "])"
   ]
  },
  {
   "cell_type": "code",
   "execution_count": null,
   "metadata": {},
   "outputs": [],
   "source": [
    "# 전체 데이터셋 \n",
    "with open('../../data/df_vote_cnt_within_1month_per_daytype_qna.pkl', 'wb') as f:\n",
    "    pickle.dump(df, f)"
   ]
  },
  {
   "cell_type": "code",
   "execution_count": null,
   "metadata": {},
   "outputs": [],
   "source": []
  },
  {
   "cell_type": "code",
   "execution_count": null,
   "metadata": {},
   "outputs": [],
   "source": []
  },
  {
   "cell_type": "code",
   "execution_count": 3,
   "metadata": {},
   "outputs": [],
   "source": [
    "# 파일 불러오기\n",
    "with open('../../data/df_body.pkl', 'rb') as f:\n",
    "    df_body = pickle.load(f)\n"
   ]
  },
  {
   "cell_type": "code",
   "execution_count": 4,
   "metadata": {},
   "outputs": [],
   "source": [
    "df_body['date'] = df_body['creationdate'].dt.date\n",
    "df_body['year'] = df_body['creationdate'].dt.year\n",
    "df_body['month'] = df_body['creationdate'].dt.month\n",
    "df_body['day'] = df_body['creationdate'].dt.day"
   ]
  },
  {
   "cell_type": "code",
   "execution_count": 24,
   "metadata": {},
   "outputs": [],
   "source": [
    "df_body1 = df_body[(df_body['creationdate']>='2022-10-01') & (df_body['creationdate']<='2022-10-30')]\n",
    "df_body2 = df_body[(df_body['creationdate']>='2021-10-01') & (df_body['creationdate']<='2021-10-30')]\n",
    "df_body3 = df_body[(df_body['creationdate']>='2020-10-01') & (df_body['creationdate']<='2020-10-30')]\n",
    "df_body4 = df_body[(df_body['creationdate']>='2019-10-01') & (df_body['creationdate']<='2019-10-30')]\n",
    "df_body5 = df_body[(df_body['creationdate']>='2018-10-01') & (df_body['creationdate']<='2018-10-30')]\n",
    "df_body6 = df_body[(df_body['creationdate']>='2023-10-01') & (df_body['creationdate']<='2023-10-30')]"
   ]
  },
  {
   "cell_type": "code",
   "execution_count": 25,
   "metadata": {},
   "outputs": [],
   "source": [
    "df_bodyconcat = pd.concat([df_body1, df_body2, df_body3, df_body4, df_body5, df_body6], axis = 0)"
   ]
  },
  {
   "cell_type": "code",
   "execution_count": 33,
   "metadata": {},
   "outputs": [
    {
     "data": {
      "text/plain": [
       "(1629546, 12)"
      ]
     },
     "execution_count": 33,
     "metadata": {},
     "output_type": "execute_result"
    }
   ],
   "source": [
    "df_bodyconcat.shape"
   ]
  },
  {
   "cell_type": "code",
   "execution_count": null,
   "metadata": {},
   "outputs": [],
   "source": [
    "df_body = df_body[df_body['creationdate']>='2021-10-01']"
   ]
  },
  {
   "cell_type": "markdown",
   "metadata": {},
   "source": [
    "## 2. Preprocessing "
   ]
  },
  {
   "cell_type": "code",
   "execution_count": 8,
   "metadata": {},
   "outputs": [],
   "source": [
    "def cleanhtml(raw_html):\n",
    "  #1. replace newline to space\n",
    "  # To analyze the text, it would be hard to understand all source code in python, so replace all the <code> tag first\n",
    "  # src_re = re.compile('<code>(?=[^<]*\\n)[\\s\\S]*?<\\/code>')\n",
    "  # src_re = re.compile('<code>[^<]*\\\\n[^<]*<\\/code>')\n",
    "  src_re = re.compile('<code>(.*?)<\\/code>')\n",
    "  cleantext_1 = re.sub(src_re, '', raw_html.replace('\\n', '_**_'))\n",
    "  cleantext_1 = cleantext_1.replace('_**_', '\\n')\n",
    "\n",
    "  tag_re = re.compile('<.*?>')\n",
    "  cleantext_2 = re.sub(tag_re, '', cleantext_1)\n",
    "\n",
    "  cleantext_2 = re.sub(r\"\\n\", \"\", cleantext_2)\n",
    "  cleantext_2 = re.sub(r\"\\r\", \"\", cleantext_2)\n",
    "  cleantext_2 = re.sub(r\"\\t\", \"\", cleantext_2)\n",
    "  cleantext_2 = ''.join([x for x in cleantext_2 if x not in string.punctuation])\n",
    "  return cleantext_2"
   ]
  },
  {
   "cell_type": "code",
   "execution_count": null,
   "metadata": {},
   "outputs": [],
   "source": [
    "# apply the function, cleanhtml to the question and body text\n",
    "df_body['body_prep'] = df_body['body'].apply(cleanhtml)"
   ]
  },
  {
   "cell_type": "code",
   "execution_count": 27,
   "metadata": {},
   "outputs": [],
   "source": [
    "df_bodyconcat['body_prep'] = df_bodyconcat['body'].apply(cleanhtml)"
   ]
  },
  {
   "cell_type": "code",
   "execution_count": null,
   "metadata": {},
   "outputs": [],
   "source": [
    "df_wl = df_body[['id', 'creationdate', 'body_prep']].copy()"
   ]
  },
  {
   "cell_type": "code",
   "execution_count": 19,
   "metadata": {},
   "outputs": [],
   "source": [
    "df_bodyconcat_wl = df_bodyconcat[['id', 'creationdate', 'body_prep']].copy()"
   ]
  },
  {
   "cell_type": "code",
   "execution_count": 28,
   "metadata": {},
   "outputs": [],
   "source": [
    "def wordlen(text):\n",
    "    return [x for x in text.split(' ') if len(x) > 4]"
   ]
  },
  {
   "cell_type": "code",
   "execution_count": 21,
   "metadata": {},
   "outputs": [
    {
     "ename": "NameError",
     "evalue": "name 'df_wl' is not defined",
     "output_type": "error",
     "traceback": [
      "\u001b[0;31m---------------------------------------------------------------------------\u001b[0m",
      "\u001b[0;31mNameError\u001b[0m                                 Traceback (most recent call last)",
      "Cell \u001b[0;32mIn[21], line 1\u001b[0m\n\u001b[0;32m----> 1\u001b[0m df_wl[\u001b[38;5;124m'\u001b[39m\u001b[38;5;124mover4\u001b[39m\u001b[38;5;124m'\u001b[39m] \u001b[38;5;241m=\u001b[39m \u001b[43mdf_wl\u001b[49m[\u001b[38;5;124m'\u001b[39m\u001b[38;5;124mbody_prep\u001b[39m\u001b[38;5;124m'\u001b[39m]\u001b[38;5;241m.\u001b[39mapply(wordlen)\n",
      "\u001b[0;31mNameError\u001b[0m: name 'df_wl' is not defined"
     ]
    }
   ],
   "source": [
    "df_wl['over4'] = df_wl['body_prep'].apply(wordlen)"
   ]
  },
  {
   "cell_type": "code",
   "execution_count": 29,
   "metadata": {},
   "outputs": [],
   "source": [
    "df_bodyconcat_wl['over4'] = df_bodyconcat_wl['body_prep'].apply(wordlen)"
   ]
  },
  {
   "cell_type": "code",
   "execution_count": null,
   "metadata": {},
   "outputs": [],
   "source": [
    "# 전체 데이터셋 \n",
    "with open('../../data/df_wl.pkl', 'wb') as f:\n",
    "    pickle.dump(df_wl, f)"
   ]
  },
  {
   "cell_type": "code",
   "execution_count": 30,
   "metadata": {},
   "outputs": [],
   "source": [
    "# 전체 데이터셋 \n",
    "with open('../../data/df_bodyconcat_wl.pkl', 'wb') as f:\n",
    "    pickle.dump(df_bodyconcat_wl, f)"
   ]
  },
  {
   "cell_type": "code",
   "execution_count": null,
   "metadata": {},
   "outputs": [],
   "source": []
  }
 ],
 "metadata": {
  "kernelspec": {
   "display_name": "Python 3 (ipykernel)",
   "language": "python",
   "name": "python3"
  },
  "language_info": {
   "codemirror_mode": {
    "name": "ipython",
    "version": 3
   },
   "file_extension": ".py",
   "mimetype": "text/x-python",
   "name": "python",
   "nbconvert_exporter": "python",
   "pygments_lexer": "ipython3",
   "version": "3.9.6"
  }
 },
 "nbformat": 4,
 "nbformat_minor": 4
}
