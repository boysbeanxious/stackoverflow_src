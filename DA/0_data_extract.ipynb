{
 "cells": [
  {
   "cell_type": "code",
   "execution_count": 1,
   "metadata": {},
   "outputs": [],
   "source": [
    "import sys, os\n",
    "p = os.path.abspath('..')\n",
    "# p = p+r'\\config'\n",
    "sys.path.insert(1, p)"
   ]
  },
  {
   "cell_type": "code",
   "execution_count": 2,
   "metadata": {},
   "outputs": [],
   "source": [
    "import psycopg2\n",
    "import pandas as pd\n",
    "import seaborn as sns\n",
    "import matplotlib.pyplot as plt\n",
    "import networkx as nx\n",
    "import numpy as np\n",
    "import time\n",
    "import pprint\n",
    "from itertools import combinations\n",
    "import pickle\n",
    "import config.config as conf"
   ]
  },
  {
   "cell_type": "code",
   "execution_count": 3,
   "metadata": {},
   "outputs": [],
   "source": [
    "conn = psycopg2.connect(host = conf.database_user['host'], dbname=conf.database_user['dbname'], user=conf.database_user['user'], password=conf.database_user['password'])\n",
    "try:\n",
    "    cur = conn.cursor()\n",
    "    cur.execute(\"\\\n",
    "select \\\n",
    "                  x.q_id \\\n",
    "                , x.q_posttypeid \\\n",
    "                , x.q_acceptedanswerid \\\n",
    "                , x.q_parentid \\\n",
    "                , x.q_creationdate \\\n",
    "                , x.q_score \\\n",
    "                , x.q_viewcount \\\n",
    "                , x.q_owneruserid \\\n",
    "                , x.q_title \\\n",
    "                , x.q_tags \\\n",
    "                , x.q_answercount \\\n",
    "                , x.q_commentcount \\\n",
    "                , x.q_favoritecount \\\n",
    "                , x.q_closeddate \\\n",
    "                , b.id               as a_id \\\n",
    "                , b.posttypeid       as a_posttypeid \\\n",
    "                , b.acceptedanswerid as a_acceptedanswerid \\\n",
    "                , b.parentid         as a_parentid \\\n",
    "                , b.creationdate     as a_creationdate \\\n",
    "                , b.score            as a_score \\\n",
    "                , b.viewcount        as a_viewcount \\\n",
    "                , b.owneruserid      as a_owneruserid \\\n",
    "                , b.title            as a_title \\\n",
    "                , b.tags             as a_tags \\\n",
    "                , b.answercount      as a_answercount \\\n",
    "                , b.commentcount     as a_commentcount \\\n",
    "                , b.favoritecount    as a_favoritecount \\\n",
    "                , b.closeddate       as a_closeddate \\\n",
    "  from ( \\\n",
    "           select a.id               as q_id \\\n",
    "                , a.posttypeid       as q_posttypeid \\\n",
    "                , a.acceptedanswerid as q_acceptedanswerid \\\n",
    "                , a.parentid         as q_parentid \\\n",
    "                , a.creationdate     as q_creationdate \\\n",
    "                , a.score            as q_score \\\n",
    "                , a.viewcount        as q_viewcount \\\n",
    "                , a.owneruserid      as q_owneruserid \\\n",
    "                , a.title            as q_title \\\n",
    "                , a.answercount      as q_answercount \\\n",
    "                , a.commentcount     as q_commentcount \\\n",
    "                , a.favoritecount    as q_favoritecount \\\n",
    "                , a.closeddate       as q_closeddate \\\n",
    "                , replace(replace(lower(a.tags), '<', ''), '>', ' ')as q_tags \\\n",
    "           from posts a \\\n",
    "           where a.creationdate between '2013-11-01' and '2023-12-01' \\\n",
    "             and a.posttypeid = '1' \\\n",
    "             and a.owneruserid is not null \\\n",
    "       )   x \\\n",
    "        , posts b \\\n",
    "where b.parentid = x.q_id \\\n",
    "; \\\n",
    "                \" \n",
    "   )\n",
    "    rows = cur.fetchall()\n",
    "    \n",
    "\n",
    "except psycopg2.DatabaseError as db_err:\n",
    "    print(db_err)\n",
    "finally : \n",
    "  cur.close()"
   ]
  },
  {
   "cell_type": "code",
   "execution_count": 4,
   "metadata": {},
   "outputs": [],
   "source": [
    "df_da = pd.DataFrame(rows, columns = [\n",
    "  'q_id' \n",
    ", 'q_posttypeid' \n",
    ", 'q_acceptedanswerid'\n",
    ", 'q_parentid' \n",
    ", 'q_creationdate' \n",
    ", 'q_score' \n",
    ", 'q_viewcount' \n",
    ", 'q_owneruserid' \n",
    ", 'q_title' \n",
    ", 'q_tags' \n",
    ", 'q_answercount' \n",
    ", 'q_commentcount' \n",
    ", 'q_favoritecount'\n",
    ", 'q_closeddate' \n",
    ", 'a_id' \n",
    ", 'a_posttypeid' \n",
    ", 'a_acceptedanswerid' \n",
    ", 'a_parentid' \n",
    ", 'a_creationdate' \n",
    ", 'a_score' \n",
    ", 'a_viewcount' \n",
    ", 'a_owneruserid' \n",
    ", 'a_title' \n",
    ", 'a_tags' \n",
    ", 'a_answercount'\n",
    ", 'a_commentcount'\n",
    ", 'a_favoritecount'\n",
    ", 'a_closeddate' \n",
    "])"
   ]
  },
  {
   "cell_type": "code",
   "execution_count": 5,
   "metadata": {},
   "outputs": [],
   "source": [
    "# 전체 데이터셋 \n",
    "with open('../../data/df_da.pkl', 'wb') as f:\n",
    "    pickle.dump(df_da, f)"
   ]
  },
  {
   "cell_type": "code",
   "execution_count": 6,
   "metadata": {},
   "outputs": [],
   "source": [
    "conn = psycopg2.connect(host = conf.database_user['host'], dbname=conf.database_user['dbname'], user=conf.database_user['user'], password=conf.database_user['password'])\n",
    "try:\n",
    "    cur = conn.cursor()\n",
    "    cur.execute(\"\\\n",
    "select a.creationdate \\\n",
    "     , a.id \\\n",
    "     , a.posttypeid \\\n",
    "     , a.title \\\n",
    "     , b.body \\\n",
    "     , case when c.id is null then 0 else 1 end as answered_yn \\\n",
    "  from posts as a \\\n",
    "     inner join postsbody b \\\n",
    "     on a.id = b.id \\\n",
    "     left outer join vw_posts_get_answer as c \\\n",
    "     on a.id = c.id \\\n",
    "where a.creationdate between '2013-11-01' and '2023-12-01' \\\n",
    "  ; \\\n",
    "                \" \n",
    "   )\n",
    "    rows = cur.fetchall()\n",
    "    \n",
    "\n",
    "except psycopg2.DatabaseError as db_err:\n",
    "    print(db_err)\n",
    "finally : \n",
    "  cur.close()"
   ]
  },
  {
   "cell_type": "code",
   "execution_count": 7,
   "metadata": {},
   "outputs": [],
   "source": [
    "df_body = pd.DataFrame(rows, columns = [\n",
    "  'creationdate' \n",
    ", 'id' \n",
    ", 'posttypeid'\n",
    ", 'title'\n",
    ", 'body' \n",
    ", 'answered_yn'\n",
    "])"
   ]
  },
  {
   "cell_type": "code",
   "execution_count": 8,
   "metadata": {},
   "outputs": [],
   "source": [
    "# 전체 데이터셋 \n",
    "with open('../../data/df_body.pkl', 'wb') as f:\n",
    "    pickle.dump(df_body, f)"
   ]
  },
  {
   "cell_type": "code",
   "execution_count": null,
   "metadata": {},
   "outputs": [],
   "source": [
    "conn = psycopg2.connect(host = conf.database_user['host'], dbname=conf.database_user['dbname'], user=conf.database_user['user'], password=conf.database_user['password'])\n",
    "try:\n",
    "    cur = conn.cursor()\n",
    "    cur.execute(\"\\\n",
    "select id, creationdate, displayname, lastaccessdate \\\n",
    "  from users \\\n",
    "                \" \n",
    "   )\n",
    "    rows = cur.fetchall()\n",
    "    \n",
    "\n",
    "except psycopg2.DatabaseError as db_err:\n",
    "    print(db_err)\n",
    "finally : \n",
    "  cur.close()"
   ]
  },
  {
   "cell_type": "code",
   "execution_count": null,
   "metadata": {},
   "outputs": [],
   "source": [
    "df_user = pd.DataFrame(rows, columns = [\n",
    "  'id' \n",
    ", 'creationdate' \n",
    ", 'displayname'\n",
    ", 'lastaccessdate'\n",
    "])"
   ]
  },
  {
   "cell_type": "code",
   "execution_count": null,
   "metadata": {},
   "outputs": [],
   "source": [
    "# 전체 데이터셋 \n",
    "with open('../../data/df_user.pkl', 'wb') as f:\n",
    "    pickle.dump(df_user, f)"
   ]
  }
 ],
 "metadata": {
  "kernelspec": {
   "display_name": "Python 3 (ipykernel)",
   "language": "python",
   "name": "python3"
  },
  "language_info": {
   "codemirror_mode": {
    "name": "ipython",
    "version": 3
   },
   "file_extension": ".py",
   "mimetype": "text/x-python",
   "name": "python",
   "nbconvert_exporter": "python",
   "pygments_lexer": "ipython3",
   "version": "3.9.6"
  }
 },
 "nbformat": 4,
 "nbformat_minor": 4
}
