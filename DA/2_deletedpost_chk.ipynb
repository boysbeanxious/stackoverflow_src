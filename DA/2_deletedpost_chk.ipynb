{
 "cells": [
  {
   "cell_type": "markdown",
   "metadata": {},
   "source": [
    "삭제된 포스트 체크 하는 파일 \n",
    "\n",
    "* 이슈  \n",
    "    * postwithdeleted테이블에는 있지만 db에 있는 post테이블에는 없는 질의 응답 존재 \n",
    "    * 예시 아이디 > 2335608\n",
    "    * db에 있는 데이터와 SEDE에 있는 데이터를 짬뽕해서는 숫자를 맞출 수 없음 \n",
    "    * 그래서 SEDE에 있는 데이터 만드로 확인 "
   ]
  },
  {
   "cell_type": "code",
   "execution_count": 1,
   "metadata": {},
   "outputs": [],
   "source": [
    "import pandas as pd\n",
    "import seaborn as sns\n",
    "import matplotlib.pyplot as plt\n",
    "import seaborn as sns\n",
    "import numpy as np\n",
    "import pickle\n",
    "import re\n",
    "from collections import deque\n",
    "import datetime"
   ]
  },
  {
   "cell_type": "code",
   "execution_count": 3,
   "metadata": {},
   "outputs": [],
   "source": [
    "postwithdeleted = pd.read_csv('../../data/postwithdeleted.csv')"
   ]
  },
  {
   "cell_type": "code",
   "execution_count": 4,
   "metadata": {},
   "outputs": [
    {
     "name": "stdout",
     "output_type": "stream",
     "text": [
      "<class 'pandas.core.frame.DataFrame'>\n",
      "RangeIndex: 22412 entries, 0 to 22411\n",
      "Data columns (total 4 columns):\n",
      " #   Column      Non-Null Count  Dtype \n",
      "---  ------      --------------  ----- \n",
      " 0   date        22412 non-null  object\n",
      " 1   posttypeid  22412 non-null  int64 \n",
      " 2   del_yn      22412 non-null  object\n",
      " 3   tot_cnt     22412 non-null  int64 \n",
      "dtypes: int64(2), object(2)\n",
      "memory usage: 700.5+ KB\n"
     ]
    }
   ],
   "source": [
    "postwithdeleted.info()"
   ]
  },
  {
   "cell_type": "code",
   "execution_count": 6,
   "metadata": {},
   "outputs": [],
   "source": [
    "postwithdeleted['date_mod'] = pd.to_datetime(postwithdeleted['date'])\n"
   ]
  },
  {
   "cell_type": "code",
   "execution_count": 7,
   "metadata": {},
   "outputs": [],
   "source": [
    "postwithdeleted = postwithdeleted.sort_values(by = ['date_mod'], ascending=True).reset_index(drop=True)"
   ]
  },
  {
   "cell_type": "code",
   "execution_count": 9,
   "metadata": {},
   "outputs": [],
   "source": [
    "postwithdeleted_pivot = pd.pivot_table(data = postwithdeleted, index='date_mod', columns=['posttypeid', 'del_yn'], values = ['tot_cnt']).reset_index()"
   ]
  },
  {
   "cell_type": "code",
   "execution_count": 10,
   "metadata": {},
   "outputs": [
    {
     "data": {
      "text/html": [
       "<div>\n",
       "<style scoped>\n",
       "    .dataframe tbody tr th:only-of-type {\n",
       "        vertical-align: middle;\n",
       "    }\n",
       "\n",
       "    .dataframe tbody tr th {\n",
       "        vertical-align: top;\n",
       "    }\n",
       "\n",
       "    .dataframe thead tr th {\n",
       "        text-align: left;\n",
       "    }\n",
       "</style>\n",
       "<table border=\"1\" class=\"dataframe\">\n",
       "  <thead>\n",
       "    <tr>\n",
       "      <th></th>\n",
       "      <th>date_mod</th>\n",
       "      <th colspan=\"4\" halign=\"left\">tot_cnt</th>\n",
       "    </tr>\n",
       "    <tr>\n",
       "      <th>posttypeid</th>\n",
       "      <th></th>\n",
       "      <th colspan=\"2\" halign=\"left\">1</th>\n",
       "      <th colspan=\"2\" halign=\"left\">2</th>\n",
       "    </tr>\n",
       "    <tr>\n",
       "      <th>del_yn</th>\n",
       "      <th></th>\n",
       "      <th>N</th>\n",
       "      <th>Y</th>\n",
       "      <th>N</th>\n",
       "      <th>Y</th>\n",
       "    </tr>\n",
       "  </thead>\n",
       "  <tbody>\n",
       "    <tr>\n",
       "      <th>0</th>\n",
       "      <td>2008-07-31</td>\n",
       "      <td>4.0</td>\n",
       "      <td>2.0</td>\n",
       "      <td>2.0</td>\n",
       "      <td>4.0</td>\n",
       "    </tr>\n",
       "    <tr>\n",
       "      <th>1</th>\n",
       "      <td>2008-08-01</td>\n",
       "      <td>48.0</td>\n",
       "      <td>14.0</td>\n",
       "      <td>89.0</td>\n",
       "      <td>112.0</td>\n",
       "    </tr>\n",
       "    <tr>\n",
       "      <th>2</th>\n",
       "      <td>2008-08-02</td>\n",
       "      <td>25.0</td>\n",
       "      <td>22.0</td>\n",
       "      <td>68.0</td>\n",
       "      <td>197.0</td>\n",
       "    </tr>\n",
       "    <tr>\n",
       "      <th>3</th>\n",
       "      <td>2008-08-03</td>\n",
       "      <td>33.0</td>\n",
       "      <td>21.0</td>\n",
       "      <td>97.0</td>\n",
       "      <td>158.0</td>\n",
       "    </tr>\n",
       "    <tr>\n",
       "      <th>4</th>\n",
       "      <td>2008-08-04</td>\n",
       "      <td>77.0</td>\n",
       "      <td>49.0</td>\n",
       "      <td>238.0</td>\n",
       "      <td>465.0</td>\n",
       "    </tr>\n",
       "  </tbody>\n",
       "</table>\n",
       "</div>"
      ],
      "text/plain": [
       "             date_mod tot_cnt                    \n",
       "posttypeid                  1            2       \n",
       "del_yn                      N     Y      N      Y\n",
       "0          2008-07-31     4.0   2.0    2.0    4.0\n",
       "1          2008-08-01    48.0  14.0   89.0  112.0\n",
       "2          2008-08-02    25.0  22.0   68.0  197.0\n",
       "3          2008-08-03    33.0  21.0   97.0  158.0\n",
       "4          2008-08-04    77.0  49.0  238.0  465.0"
      ]
     },
     "execution_count": 10,
     "metadata": {},
     "output_type": "execute_result"
    }
   ],
   "source": [
    "postwithdeleted_pivot.head()"
   ]
  },
  {
   "cell_type": "code",
   "execution_count": 11,
   "metadata": {},
   "outputs": [
    {
     "data": {
      "text/plain": [
       "MultiIndex([('date_mod', '',  ''),\n",
       "            ( 'tot_cnt',  1, 'N'),\n",
       "            ( 'tot_cnt',  1, 'Y'),\n",
       "            ( 'tot_cnt',  2, 'N'),\n",
       "            ( 'tot_cnt',  2, 'Y')],\n",
       "           names=[None, 'posttypeid', 'del_yn'])"
      ]
     },
     "execution_count": 11,
     "metadata": {},
     "output_type": "execute_result"
    }
   ],
   "source": [
    "postwithdeleted_pivot.columns"
   ]
  },
  {
   "cell_type": "code",
   "execution_count": 12,
   "metadata": {},
   "outputs": [],
   "source": [
    "postwithdeleted_pivot.columns = ['date_mod', 'q_cnt', 'q_d_cnt', 'a_cnt', 'a_d_cnt']"
   ]
  },
  {
   "cell_type": "code",
   "execution_count": 13,
   "metadata": {},
   "outputs": [
    {
     "data": {
      "text/html": [
       "<div>\n",
       "<style scoped>\n",
       "    .dataframe tbody tr th:only-of-type {\n",
       "        vertical-align: middle;\n",
       "    }\n",
       "\n",
       "    .dataframe tbody tr th {\n",
       "        vertical-align: top;\n",
       "    }\n",
       "\n",
       "    .dataframe thead th {\n",
       "        text-align: right;\n",
       "    }\n",
       "</style>\n",
       "<table border=\"1\" class=\"dataframe\">\n",
       "  <thead>\n",
       "    <tr style=\"text-align: right;\">\n",
       "      <th></th>\n",
       "      <th>date_mod</th>\n",
       "      <th>q_cnt</th>\n",
       "      <th>q_d_cnt</th>\n",
       "      <th>a_cnt</th>\n",
       "      <th>a_d_cnt</th>\n",
       "    </tr>\n",
       "  </thead>\n",
       "  <tbody>\n",
       "    <tr>\n",
       "      <th>0</th>\n",
       "      <td>2008-07-31</td>\n",
       "      <td>4.0</td>\n",
       "      <td>2.0</td>\n",
       "      <td>2.0</td>\n",
       "      <td>4.0</td>\n",
       "    </tr>\n",
       "    <tr>\n",
       "      <th>1</th>\n",
       "      <td>2008-08-01</td>\n",
       "      <td>48.0</td>\n",
       "      <td>14.0</td>\n",
       "      <td>89.0</td>\n",
       "      <td>112.0</td>\n",
       "    </tr>\n",
       "    <tr>\n",
       "      <th>2</th>\n",
       "      <td>2008-08-02</td>\n",
       "      <td>25.0</td>\n",
       "      <td>22.0</td>\n",
       "      <td>68.0</td>\n",
       "      <td>197.0</td>\n",
       "    </tr>\n",
       "    <tr>\n",
       "      <th>3</th>\n",
       "      <td>2008-08-03</td>\n",
       "      <td>33.0</td>\n",
       "      <td>21.0</td>\n",
       "      <td>97.0</td>\n",
       "      <td>158.0</td>\n",
       "    </tr>\n",
       "    <tr>\n",
       "      <th>4</th>\n",
       "      <td>2008-08-04</td>\n",
       "      <td>77.0</td>\n",
       "      <td>49.0</td>\n",
       "      <td>238.0</td>\n",
       "      <td>465.0</td>\n",
       "    </tr>\n",
       "  </tbody>\n",
       "</table>\n",
       "</div>"
      ],
      "text/plain": [
       "    date_mod  q_cnt  q_d_cnt  a_cnt  a_d_cnt\n",
       "0 2008-07-31    4.0      2.0    2.0      4.0\n",
       "1 2008-08-01   48.0     14.0   89.0    112.0\n",
       "2 2008-08-02   25.0     22.0   68.0    197.0\n",
       "3 2008-08-03   33.0     21.0   97.0    158.0\n",
       "4 2008-08-04   77.0     49.0  238.0    465.0"
      ]
     },
     "execution_count": 13,
     "metadata": {},
     "output_type": "execute_result"
    }
   ],
   "source": [
    "postwithdeleted_pivot.head()"
   ]
  },
  {
   "cell_type": "code",
   "execution_count": 14,
   "metadata": {},
   "outputs": [],
   "source": [
    "postwithdeleted_pivot['tot_d_cnt'] = postwithdeleted_pivot['q_d_cnt']+postwithdeleted_pivot['a_d_cnt']\n",
    "postwithdeleted_pivot['tot_qna_cnt'] = postwithdeleted_pivot['q_cnt']+postwithdeleted_pivot['a_cnt']"
   ]
  },
  {
   "cell_type": "code",
   "execution_count": 15,
   "metadata": {},
   "outputs": [
    {
     "data": {
      "text/html": [
       "<div>\n",
       "<style scoped>\n",
       "    .dataframe tbody tr th:only-of-type {\n",
       "        vertical-align: middle;\n",
       "    }\n",
       "\n",
       "    .dataframe tbody tr th {\n",
       "        vertical-align: top;\n",
       "    }\n",
       "\n",
       "    .dataframe thead th {\n",
       "        text-align: right;\n",
       "    }\n",
       "</style>\n",
       "<table border=\"1\" class=\"dataframe\">\n",
       "  <thead>\n",
       "    <tr style=\"text-align: right;\">\n",
       "      <th></th>\n",
       "      <th>date_mod</th>\n",
       "      <th>q_cnt</th>\n",
       "      <th>q_d_cnt</th>\n",
       "      <th>a_cnt</th>\n",
       "      <th>a_d_cnt</th>\n",
       "      <th>tot_d_cnt</th>\n",
       "      <th>tot_qna_cnt</th>\n",
       "    </tr>\n",
       "  </thead>\n",
       "  <tbody>\n",
       "    <tr>\n",
       "      <th>0</th>\n",
       "      <td>2008-07-31</td>\n",
       "      <td>4.0</td>\n",
       "      <td>2.0</td>\n",
       "      <td>2.0</td>\n",
       "      <td>4.0</td>\n",
       "      <td>6.0</td>\n",
       "      <td>6.0</td>\n",
       "    </tr>\n",
       "    <tr>\n",
       "      <th>1</th>\n",
       "      <td>2008-08-01</td>\n",
       "      <td>48.0</td>\n",
       "      <td>14.0</td>\n",
       "      <td>89.0</td>\n",
       "      <td>112.0</td>\n",
       "      <td>126.0</td>\n",
       "      <td>137.0</td>\n",
       "    </tr>\n",
       "    <tr>\n",
       "      <th>2</th>\n",
       "      <td>2008-08-02</td>\n",
       "      <td>25.0</td>\n",
       "      <td>22.0</td>\n",
       "      <td>68.0</td>\n",
       "      <td>197.0</td>\n",
       "      <td>219.0</td>\n",
       "      <td>93.0</td>\n",
       "    </tr>\n",
       "    <tr>\n",
       "      <th>3</th>\n",
       "      <td>2008-08-03</td>\n",
       "      <td>33.0</td>\n",
       "      <td>21.0</td>\n",
       "      <td>97.0</td>\n",
       "      <td>158.0</td>\n",
       "      <td>179.0</td>\n",
       "      <td>130.0</td>\n",
       "    </tr>\n",
       "    <tr>\n",
       "      <th>4</th>\n",
       "      <td>2008-08-04</td>\n",
       "      <td>77.0</td>\n",
       "      <td>49.0</td>\n",
       "      <td>238.0</td>\n",
       "      <td>465.0</td>\n",
       "      <td>514.0</td>\n",
       "      <td>315.0</td>\n",
       "    </tr>\n",
       "    <tr>\n",
       "      <th>...</th>\n",
       "      <td>...</td>\n",
       "      <td>...</td>\n",
       "      <td>...</td>\n",
       "      <td>...</td>\n",
       "      <td>...</td>\n",
       "      <td>...</td>\n",
       "      <td>...</td>\n",
       "    </tr>\n",
       "    <tr>\n",
       "      <th>5598</th>\n",
       "      <td>2023-11-28</td>\n",
       "      <td>3422.0</td>\n",
       "      <td>510.0</td>\n",
       "      <td>2812.0</td>\n",
       "      <td>448.0</td>\n",
       "      <td>958.0</td>\n",
       "      <td>6234.0</td>\n",
       "    </tr>\n",
       "    <tr>\n",
       "      <th>5599</th>\n",
       "      <td>2023-11-29</td>\n",
       "      <td>3522.0</td>\n",
       "      <td>463.0</td>\n",
       "      <td>2876.0</td>\n",
       "      <td>421.0</td>\n",
       "      <td>884.0</td>\n",
       "      <td>6398.0</td>\n",
       "    </tr>\n",
       "    <tr>\n",
       "      <th>5600</th>\n",
       "      <td>2023-11-30</td>\n",
       "      <td>3467.0</td>\n",
       "      <td>424.0</td>\n",
       "      <td>2884.0</td>\n",
       "      <td>385.0</td>\n",
       "      <td>809.0</td>\n",
       "      <td>6351.0</td>\n",
       "    </tr>\n",
       "    <tr>\n",
       "      <th>5601</th>\n",
       "      <td>2023-12-01</td>\n",
       "      <td>3007.0</td>\n",
       "      <td>388.0</td>\n",
       "      <td>2571.0</td>\n",
       "      <td>295.0</td>\n",
       "      <td>683.0</td>\n",
       "      <td>5578.0</td>\n",
       "    </tr>\n",
       "    <tr>\n",
       "      <th>5602</th>\n",
       "      <td>2023-12-02</td>\n",
       "      <td>1970.0</td>\n",
       "      <td>222.0</td>\n",
       "      <td>1640.0</td>\n",
       "      <td>135.0</td>\n",
       "      <td>357.0</td>\n",
       "      <td>3610.0</td>\n",
       "    </tr>\n",
       "  </tbody>\n",
       "</table>\n",
       "<p>5603 rows × 7 columns</p>\n",
       "</div>"
      ],
      "text/plain": [
       "       date_mod   q_cnt  q_d_cnt   a_cnt  a_d_cnt  tot_d_cnt  tot_qna_cnt\n",
       "0    2008-07-31     4.0      2.0     2.0      4.0        6.0          6.0\n",
       "1    2008-08-01    48.0     14.0    89.0    112.0      126.0        137.0\n",
       "2    2008-08-02    25.0     22.0    68.0    197.0      219.0         93.0\n",
       "3    2008-08-03    33.0     21.0    97.0    158.0      179.0        130.0\n",
       "4    2008-08-04    77.0     49.0   238.0    465.0      514.0        315.0\n",
       "...         ...     ...      ...     ...      ...        ...          ...\n",
       "5598 2023-11-28  3422.0    510.0  2812.0    448.0      958.0       6234.0\n",
       "5599 2023-11-29  3522.0    463.0  2876.0    421.0      884.0       6398.0\n",
       "5600 2023-11-30  3467.0    424.0  2884.0    385.0      809.0       6351.0\n",
       "5601 2023-12-01  3007.0    388.0  2571.0    295.0      683.0       5578.0\n",
       "5602 2023-12-02  1970.0    222.0  1640.0    135.0      357.0       3610.0\n",
       "\n",
       "[5603 rows x 7 columns]"
      ]
     },
     "execution_count": 15,
     "metadata": {},
     "output_type": "execute_result"
    }
   ],
   "source": [
    "postwithdeleted_pivot"
   ]
  },
  {
   "cell_type": "code",
   "execution_count": 19,
   "metadata": {},
   "outputs": [],
   "source": [
    "postwithdeleted_pivot['ad_over_qd'] = postwithdeleted_pivot['a_d_cnt']/ postwithdeleted_pivot['q_d_cnt']"
   ]
  },
  {
   "cell_type": "code",
   "execution_count": 23,
   "metadata": {},
   "outputs": [],
   "source": [
    "postwithdeleted_pivot = postwithdeleted_pivot[postwithdeleted_pivot['date_mod']>='2013-11-30']"
   ]
  },
  {
   "cell_type": "code",
   "execution_count": 25,
   "metadata": {},
   "outputs": [
    {
     "data": {
      "image/png": "[encoded data removed]",
      "text/plain": [
       "<Figure size 640x480 with 1 Axes>"
      ]
     },
     "metadata": {},
     "output_type": "display_data"
    }
   ],
   "source": [
    "fig, ax = plt.subplots()\n",
    "\n",
    "\n",
    "ax.bar(postwithdeleted_pivot.date_mod\n",
    "    ,  height = postwithdeleted_pivot['ad_over_qd']\n",
    "    ,  color = 'skyblue'\n",
    "    ,  label = 'Mean'\n",
    "    # ,  edgecolor = 'black'\n",
    "      ) # hist type\n",
    "\n",
    "ax.set_title(\"Number of Deleted Answer over Number of Deleted Question\", # add title\n",
    "             fontsize = 12.5,\n",
    "             weight = 'bold',\n",
    "             pad = 10,\n",
    "             loc = 'center')\n",
    "ax.set_xlabel(\"Date\", # add x-axis label\n",
    "              fontsize = 12.5)\n",
    "ax.set_ylabel(\"Ratio\", # add y-axis label\n",
    "              fontsize = 12.5)\n",
    "\n",
    "major_xticks = ['2013-11-30','2014-11-30','2015-11-30','2016-11-30','2017-11-30','2018-11-30','2019-11-30','2020-11-30'\n",
    "                ,'2021-11-30', '2022-11-30', '2023-11-30']\n",
    "ax.set_xticks(major_xticks)\n",
    "\n",
    "ax.axvline(['2022-11-30'], # add vertical line\n",
    "           color = 'red',\n",
    "           linestyle = '--',\n",
    "           linewidth = 1.5)\n",
    "plt.xticks(rotation=45)\n",
    "plt.show();"
   ]
  },
  {
   "cell_type": "code",
   "execution_count": null,
   "metadata": {},
   "outputs": [],
   "source": [
    "fig, ax = plt.subplots()\n",
    "\n",
    "\n",
    "ax.bar(df_qna_d_merge.ddate_mod\n",
    "    ,  height = df_qna_d_merge['a_d_cnt']\n",
    "    ,  color = 'skyblue'\n",
    "    ,  label = 'Mean'\n",
    "    # ,  edgecolor = 'black'\n",
    "      ) # hist type\n",
    "\n",
    "ax.set_title(\"Ratio of Answered Question\", # add title\n",
    "             fontsize = 12.5,\n",
    "             weight = 'bold',\n",
    "             pad = 10,\n",
    "             loc = 'center')\n",
    "ax.set_xlabel(\"Date\", # add x-axis label\n",
    "              fontsize = 12.5)\n",
    "ax.set_ylabel(\"Ratio\", # add y-axis label\n",
    "              fontsize = 12.5)\n",
    "\n",
    "major_xticks = ['2013-11-30','2014-11-30','2015-11-30','2016-11-30','2017-11-30','2018-11-30','2019-11-30','2020-11-30'\n",
    "                ,'2021-11-30', '2022-11-30', '2023-11-30']\n",
    "ax.set_xticks(major_xticks)\n",
    "\n",
    "ax.axvline(['2022-11-30'], # add vertical line\n",
    "           color = 'red',\n",
    "           linestyle = '--',\n",
    "           linewidth = 1.5)\n",
    "plt.xticks(rotation=45)\n",
    "plt.show();"
   ]
  },
  {
   "cell_type": "code",
   "execution_count": null,
   "metadata": {},
   "outputs": [],
   "source": [
    "df_qna_d_merge['a_d_over_q_d'] = df_qna_d_merge['a_d_cnt']/df_qna_d_merge['q_d_cnt']"
   ]
  },
  {
   "cell_type": "code",
   "execution_count": null,
   "metadata": {},
   "outputs": [],
   "source": [
    "fig, ax = plt.subplots()\n",
    "\n",
    "\n",
    "ax.bar(df_qna_d_merge.ddate_mod\n",
    "    ,  height = df_qna_d_merge['a_d_over_q_d']\n",
    "    ,  color = 'skyblue'\n",
    "    ,  label = 'Mean'\n",
    "    # ,  edgecolor = 'black'\n",
    "      ) # hist type\n",
    "\n",
    "ax.set_title(\"Ratio of Answered Question\", # add title\n",
    "             fontsize = 12.5,\n",
    "             weight = 'bold',\n",
    "             pad = 10,\n",
    "             loc = 'center')\n",
    "ax.set_xlabel(\"Date\", # add x-axis label\n",
    "              fontsize = 12.5)\n",
    "ax.set_ylabel(\"Ratio\", # add y-axis label\n",
    "              fontsize = 12.5)\n",
    "\n",
    "major_xticks = ['2013-11-30','2014-11-30','2015-11-30','2016-11-30','2017-11-30','2018-11-30','2019-11-30','2020-11-30'\n",
    "                ,'2021-11-30', '2022-11-30', '2023-11-30']\n",
    "ax.set_xticks(major_xticks)\n",
    "\n",
    "ax.axvline(['2022-11-30'], # add vertical line\n",
    "           color = 'red',\n",
    "           linestyle = '--',\n",
    "           linewidth = 1.5)\n",
    "plt.xticks(rotation=45)\n",
    "plt.show();"
   ]
  },
  {
   "cell_type": "code",
   "execution_count": null,
   "metadata": {},
   "outputs": [],
   "source": []
  }
 ],
 "metadata": {
  "kernelspec": {
   "display_name": "Python 3",
   "language": "python",
   "name": "python3"
  },
  "language_info": {
   "codemirror_mode": {
    "name": "ipython",
    "version": 3
   },
   "file_extension": ".py",
   "mimetype": "text/x-python",
   "name": "python",
   "nbconvert_exporter": "python",
   "pygments_lexer": "ipython3",
   "version": "3.9.6"
  }
 },
 "nbformat": 4,
 "nbformat_minor": 2
}
