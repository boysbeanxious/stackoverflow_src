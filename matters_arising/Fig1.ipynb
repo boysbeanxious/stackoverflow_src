{
 "cells": [
  {
   "cell_type": "code",
   "execution_count": 1,
   "metadata": {},
   "outputs": [],
   "source": [
    "import pandas as pd\n",
    "import numpy as np\n",
    "import statsmodels.api as sm\n",
    "import statsmodels.formula.api as smf\n",
    "import matplotlib.pyplot as plt\n",
    "# import seaborn as sns\n",
    "from linearmodels.panel import PanelOLS\n",
    "from linearmodels.panel import compare\n",
    "import datetime\n",
    "import pickle\n",
    "\n",
    "# 데이터 읽기 및 전처리\n",
    "cond3_treat_0_1 = pd.read_csv(\"../../data/treat_0_1_condition3.csv\")\n",
    "cond3_treat_0_2 = pd.read_csv(\"../../data/treat_0_2_condition3.csv\")\n",
    "cond3_treat_0_3 = pd.read_csv(\"../../data/treat_0_3_condition3.csv\")\n",
    "cond3_treat_0_4 = pd.read_csv(\"../../data/treat_0_4_condition3.csv\")\n",
    "\n",
    "cond3_treat_1_1 = pd.read_csv(\"../../data/treat_1_1_condition3.csv\")\n",
    "cond3_treat_1_2 = pd.read_csv(\"../../data/treat_1_2_condition3.csv\")\n",
    "cond3_treat_1_3 = pd.read_csv(\"../../data/treat_1_3_condition3.csv\")\n",
    "cond3_treat_1_4 = pd.read_csv(\"../../data/treat_1_4_condition3.csv\")\n",
    "\n",
    "# 데이터 읽기 및 전처리\n",
    "df_topic_day = pd.read_csv(\"../../R/data/topic_day_panel.csv\")"
   ]
  },
  {
   "cell_type": "markdown",
   "metadata": {},
   "source": [
    "전처리"
   ]
  },
  {
   "cell_type": "code",
   "execution_count": 2,
   "metadata": {},
   "outputs": [],
   "source": [
    "\n",
    "cond3_sede = pd.concat([  cond3_treat_0_1\n",
    "                        , cond3_treat_0_2\n",
    "                        , cond3_treat_1_1\n",
    "                        , cond3_treat_1_2], axis = 0)\n",
    "\n",
    "cond3_long_sede = pd.concat([ cond3_treat_0_1\n",
    "                            , cond3_treat_0_2\n",
    "                            , cond3_treat_0_3\n",
    "                            , cond3_treat_0_4\n",
    "                            , cond3_treat_1_1\n",
    "                            , cond3_treat_1_2\n",
    "                            , cond3_treat_1_3\n",
    "                            , cond3_treat_1_4], axis = 0)"
   ]
  },
  {
   "cell_type": "code",
   "execution_count": 3,
   "metadata": {},
   "outputs": [],
   "source": [
    "cond3_sede = cond3_sede.melt(id_vars = ['cdate', 'del_yn'], value_vars=cond3_sede.columns[1:])\n",
    "cond3_long_sede = cond3_long_sede.melt(id_vars = ['cdate', 'del_yn'], value_vars=cond3_long_sede.columns[1:])"
   ]
  },
  {
   "cell_type": "code",
   "execution_count": 4,
   "metadata": {},
   "outputs": [
    {
     "data": {
      "text/html": [
       "<div>\n",
       "<style scoped>\n",
       "    .dataframe tbody tr th:only-of-type {\n",
       "        vertical-align: middle;\n",
       "    }\n",
       "\n",
       "    .dataframe tbody tr th {\n",
       "        vertical-align: top;\n",
       "    }\n",
       "\n",
       "    .dataframe thead th {\n",
       "        text-align: right;\n",
       "    }\n",
       "</style>\n",
       "<table border=\"1\" class=\"dataframe\">\n",
       "  <thead>\n",
       "    <tr style=\"text-align: right;\">\n",
       "      <th></th>\n",
       "      <th>cdate</th>\n",
       "      <th>del_yn</th>\n",
       "      <th>variable</th>\n",
       "      <th>value</th>\n",
       "    </tr>\n",
       "  </thead>\n",
       "  <tbody>\n",
       "    <tr>\n",
       "      <th>0</th>\n",
       "      <td>2021-10-09 00:00:00</td>\n",
       "      <td>0</td>\n",
       "      <td>python</td>\n",
       "      <td>517</td>\n",
       "    </tr>\n",
       "    <tr>\n",
       "      <th>1</th>\n",
       "      <td>2021-10-12 00:00:00</td>\n",
       "      <td>0</td>\n",
       "      <td>python</td>\n",
       "      <td>864</td>\n",
       "    </tr>\n",
       "    <tr>\n",
       "      <th>2</th>\n",
       "      <td>2021-10-15 00:00:00</td>\n",
       "      <td>0</td>\n",
       "      <td>python</td>\n",
       "      <td>756</td>\n",
       "    </tr>\n",
       "    <tr>\n",
       "      <th>3</th>\n",
       "      <td>2021-10-18 00:00:00</td>\n",
       "      <td>0</td>\n",
       "      <td>python</td>\n",
       "      <td>766</td>\n",
       "    </tr>\n",
       "    <tr>\n",
       "      <th>4</th>\n",
       "      <td>2021-11-10 00:00:00</td>\n",
       "      <td>0</td>\n",
       "      <td>python</td>\n",
       "      <td>844</td>\n",
       "    </tr>\n",
       "    <tr>\n",
       "      <th>...</th>\n",
       "      <td>...</td>\n",
       "      <td>...</td>\n",
       "      <td>...</td>\n",
       "      <td>...</td>\n",
       "    </tr>\n",
       "    <tr>\n",
       "      <th>1059</th>\n",
       "      <td>2023-06-07 00:00:00</td>\n",
       "      <td>0</td>\n",
       "      <td>python</td>\n",
       "      <td>458</td>\n",
       "    </tr>\n",
       "    <tr>\n",
       "      <th>1060</th>\n",
       "      <td>2023-06-10 00:00:00</td>\n",
       "      <td>0</td>\n",
       "      <td>python</td>\n",
       "      <td>240</td>\n",
       "    </tr>\n",
       "    <tr>\n",
       "      <th>1061</th>\n",
       "      <td>2023-06-02 00:00:00</td>\n",
       "      <td>1</td>\n",
       "      <td>python</td>\n",
       "      <td>171</td>\n",
       "    </tr>\n",
       "    <tr>\n",
       "      <th>1062</th>\n",
       "      <td>2023-06-05 00:00:00</td>\n",
       "      <td>1</td>\n",
       "      <td>python</td>\n",
       "      <td>165</td>\n",
       "    </tr>\n",
       "    <tr>\n",
       "      <th>1063</th>\n",
       "      <td>2023-06-25 00:00:00</td>\n",
       "      <td>1</td>\n",
       "      <td>python</td>\n",
       "      <td>97</td>\n",
       "    </tr>\n",
       "  </tbody>\n",
       "</table>\n",
       "<p>1064 rows × 4 columns</p>\n",
       "</div>"
      ],
      "text/plain": [
       "                    cdate  del_yn variable  value\n",
       "0     2021-10-09 00:00:00       0   python    517\n",
       "1     2021-10-12 00:00:00       0   python    864\n",
       "2     2021-10-15 00:00:00       0   python    756\n",
       "3     2021-10-18 00:00:00       0   python    766\n",
       "4     2021-11-10 00:00:00       0   python    844\n",
       "...                   ...     ...      ...    ...\n",
       "1059  2023-06-07 00:00:00       0   python    458\n",
       "1060  2023-06-10 00:00:00       0   python    240\n",
       "1061  2023-06-02 00:00:00       1   python    171\n",
       "1062  2023-06-05 00:00:00       1   python    165\n",
       "1063  2023-06-25 00:00:00       1   python     97\n",
       "\n",
       "[1064 rows x 4 columns]"
      ]
     },
     "execution_count": 4,
     "metadata": {},
     "output_type": "execute_result"
    }
   ],
   "source": [
    "cond3_long_sede[cond3_long_sede['variable'] =='python']"
   ]
  },
  {
   "cell_type": "code",
   "execution_count": 5,
   "metadata": {},
   "outputs": [],
   "source": [
    "cond3_sede['cdate'] = pd.to_datetime(cond3_sede['cdate'])\n",
    "cond3_long_sede['cdate'] = pd.to_datetime(cond3_long_sede['cdate'])\n",
    "df_topic_day['date'] = pd.to_datetime(df_topic_day['date'])"
   ]
  },
  {
   "cell_type": "code",
   "execution_count": 6,
   "metadata": {},
   "outputs": [],
   "source": [
    "\n",
    "cond3_sede.columns = ['cdate', 'del_yn', 'sede_tag', 'sede_q_count']\n",
    "cond3_long_sede.columns = ['cdate', 'del_yn', 'sede_tag', 'sede_q_count']\n"
   ]
  },
  {
   "cell_type": "code",
   "execution_count": 7,
   "metadata": {},
   "outputs": [],
   "source": [
    "\n",
    "cond3_sede.loc[cond3_sede['sede_tag'] =='net', 'sede_tag']='.net'\n",
    "cond3_long_sede.loc[cond3_long_sede['sede_tag'] =='net', 'sede_tag']='.net'\n",
    "\n"
   ]
  },
  {
   "cell_type": "code",
   "execution_count": 8,
   "metadata": {},
   "outputs": [],
   "source": [
    "\n",
    "\n",
    "cond3_sede_y = cond3_sede.loc[cond3_sede['del_yn'] ==1, ['cdate', 'sede_tag', 'sede_q_count']]\n",
    "cond3_sede_n = cond3_sede.loc[cond3_sede['del_yn'] ==0, ['cdate', 'sede_tag', 'sede_q_count']]\n",
    "\n",
    "\n",
    "cond3_long_sede_y = cond3_long_sede.loc[cond3_long_sede['del_yn'] ==1, ['cdate', 'sede_tag', 'sede_q_count']]\n",
    "cond3_long_sede_n = cond3_long_sede.loc[cond3_long_sede['del_yn'] ==0, ['cdate', 'sede_tag', 'sede_q_count']]\n",
    "\n",
    "\n"
   ]
  },
  {
   "cell_type": "code",
   "execution_count": 9,
   "metadata": {},
   "outputs": [],
   "source": [
    "cond3_sede_yn = cond3_sede.groupby(['cdate', 'sede_tag']).sum()[['sede_q_count']].reset_index()\n",
    "cond3_long_sede_yn = cond3_long_sede.groupby(['cdate', 'sede_tag']).sum()[['sede_q_count']].reset_index()"
   ]
  },
  {
   "cell_type": "code",
   "execution_count": 10,
   "metadata": {},
   "outputs": [],
   "source": [
    "# cond3_long_sede_y['cdate'] = pd.to_datetime(cond3_long_sede_y['cdate'])\n",
    "# cond3_long_sede_n['cdate'] = pd.to_datetime(cond3_long_sede_n['cdate'])\n",
    "# cond3_long_sede_yn['cdate'] = pd.to_datetime(cond3_long_sede_yn['cdate'])\n",
    "\n"
   ]
  },
  {
   "cell_type": "code",
   "execution_count": 11,
   "metadata": {},
   "outputs": [],
   "source": [
    "# treat_0_1_condition1.csv\n",
    "# cast(creationdate as date) between '2021-10-06' and '2021-12-31'\n",
    "# treat_0_2_condition1.csv\n",
    "# cast(creationdate as date) between '2022-01-01' and '2022-03-15'\n",
    "# treat_1_1_condition1.csv\n",
    "# cast(creationdate as date) between '2022-10-05' and '2022-12-31'\n",
    "# treat_1_2_condition1.csv\n",
    "# cast(creationdate as date) between '2023-01-01' and '2023-03-14'\n",
    "\n",
    "\n",
    "###################################################################################condition3\n",
    "cond9  = cond3_sede_yn['cdate']>='2021-10-06'\n",
    "cond10 = cond3_sede_yn['cdate']<='2022-03-15'\n",
    "cond11 = cond3_sede_yn['cdate']>='2022-10-05'\n",
    "cond12 = cond3_sede_yn['cdate']<='2023-03-14'\n",
    "\n",
    "\n",
    "cond13  = cond3_sede_y['cdate']>='2021-10-06'\n",
    "cond14 = cond3_sede_y['cdate']<='2022-03-15'\n",
    "cond15 = cond3_sede_y['cdate']>='2022-10-05'\n",
    "cond16 = cond3_sede_y['cdate']<='2023-03-14'\n",
    "\n",
    "\n",
    "cond17  = cond3_sede_n['cdate']>='2021-10-06'\n",
    "cond18 = cond3_sede_n['cdate']<='2022-03-15'\n",
    "cond19 = cond3_sede_n['cdate']>='2022-10-05'\n",
    "cond20 = cond3_sede_n['cdate']<='2023-03-14'\n",
    "\n",
    "\n",
    "###################################################################################condition3_long\n",
    "cond45  = cond3_long_sede_yn['cdate']>='2021-10-06'\n",
    "cond46 = cond3_long_sede_yn['cdate']<='2022-06-28'\n",
    "cond47 = cond3_long_sede_yn['cdate']>='2022-10-05'\n",
    "cond48 = cond3_long_sede_yn['cdate']<='2023-06-27'\n",
    "\n",
    "\n",
    "cond49  = cond3_long_sede_y['cdate']>='2021-10-06'\n",
    "cond50  = cond3_long_sede_y['cdate']<='2022-06-28'\n",
    "cond51  = cond3_long_sede_y['cdate']>='2022-10-05'\n",
    "cond52  = cond3_long_sede_y['cdate']<='2023-06-27'\n",
    "\n",
    "\n",
    "cond53  = cond3_long_sede_n['cdate']>='2021-10-06'\n",
    "cond54  = cond3_long_sede_n['cdate']<='2022-06-28'\n",
    "cond55  = cond3_long_sede_n['cdate']>='2022-10-05'\n",
    "cond56  = cond3_long_sede_n['cdate']<='2023-06-27'\n"
   ]
  },
  {
   "cell_type": "code",
   "execution_count": 12,
   "metadata": {},
   "outputs": [],
   "source": [
    "###################################################################################condition3\n",
    "cond3_sede_yn.loc[(cond9&cond10),  'rel_days'] = cond3_sede_yn.loc[(cond9&cond10),  'cdate'] - datetime.datetime(2021,12,1)\n",
    "cond3_sede_yn.loc[(cond11&cond12), 'rel_days'] = cond3_sede_yn.loc[(cond11&cond12), 'cdate'] - datetime.datetime(2022,11,30)\n",
    "\n",
    "\n",
    "cond3_sede_y.loc[(cond13&cond14),  'rel_days'] = cond3_sede_y.loc[(cond13&cond14),  'cdate'] - datetime.datetime(2021,12,1)\n",
    "cond3_sede_y.loc[(cond15&cond16), 'rel_days'] = cond3_sede_y.loc[(cond15&cond16), 'cdate'] - datetime.datetime(2022,11,30)\n",
    "\n",
    "cond3_sede_n.loc[(cond17&cond18),  'rel_days'] = cond3_sede_n.loc[(cond17&cond18),  'cdate'] - datetime.datetime(2021,12,1)\n",
    "cond3_sede_n.loc[(cond19&cond20), 'rel_days'] =  cond3_sede_n.loc[(cond19&cond20), 'cdate'] - datetime.datetime(2022,11,30)\n",
    "\n",
    "###################################################################################condition3_long\n",
    "cond3_long_sede_yn.loc[(cond45&cond46),  'rel_days'] = cond3_long_sede_yn.loc[(cond45&cond46),  'cdate'] - datetime.datetime(2021,12,1)\n",
    "cond3_long_sede_yn.loc[(cond47&cond48), 'rel_days']  = cond3_long_sede_yn.loc[(cond47&cond48), 'cdate'] - datetime.datetime(2022,11,30)\n",
    "\n",
    "\n",
    "cond3_long_sede_y.loc[(cond49&cond50),  'rel_days'] = cond3_long_sede_y.loc[(cond49&cond50),  'cdate'] - datetime.datetime(2021,12,1)\n",
    "cond3_long_sede_y.loc[(cond51&cond52), 'rel_days']  = cond3_long_sede_y.loc[(cond51&cond52), 'cdate'] - datetime.datetime(2022,11,30)\n",
    "\n",
    "cond3_long_sede_n.loc[(cond53&cond54),  'rel_days'] = cond3_long_sede_n.loc[(cond53&cond54),  'cdate'] - datetime.datetime(2021,12,1)\n",
    "cond3_long_sede_n.loc[(cond55&cond56), 'rel_days']  = cond3_long_sede_n.loc[(cond55&cond56), 'cdate'] - datetime.datetime(2022,11,30)\n"
   ]
  },
  {
   "cell_type": "code",
   "execution_count": 13,
   "metadata": {},
   "outputs": [],
   "source": [
    "###################################################################################condition3\n",
    "cond3_sede_yn.loc[(cond9&cond10), 'treat'] = 0\n",
    "cond3_sede_yn.loc[(cond11&cond12), 'treat'] = 1\n",
    "\n",
    "cond3_sede_y.loc[(cond13&cond14), 'treat'] = 0\n",
    "cond3_sede_y.loc[(cond15&cond16), 'treat'] = 1\n",
    "\n",
    "cond3_sede_n.loc[(cond17&cond18), 'treat'] = 0\n",
    "cond3_sede_n.loc[(cond19&cond20), 'treat'] = 1\n",
    "\n",
    "###################################################################################condition3_long\n",
    "cond3_long_sede_yn.loc[(cond45&cond46), 'treat'] = 0\n",
    "cond3_long_sede_yn.loc[(cond47&cond48), 'treat'] = 1\n",
    "\n",
    "cond3_long_sede_y.loc[(cond49&cond50), 'treat'] = 0\n",
    "cond3_long_sede_y.loc[(cond51&cond52), 'treat'] = 1\n",
    "\n",
    "cond3_long_sede_n.loc[(cond53&cond54), 'treat'] = 0\n",
    "cond3_long_sede_n.loc[(cond55&cond56), 'treat'] = 1\n"
   ]
  },
  {
   "cell_type": "code",
   "execution_count": 17,
   "metadata": {},
   "outputs": [
    {
     "data": {
      "text/html": [
       "<div>\n",
       "<style scoped>\n",
       "    .dataframe tbody tr th:only-of-type {\n",
       "        vertical-align: middle;\n",
       "    }\n",
       "\n",
       "    .dataframe tbody tr th {\n",
       "        vertical-align: top;\n",
       "    }\n",
       "\n",
       "    .dataframe thead th {\n",
       "        text-align: right;\n",
       "    }\n",
       "</style>\n",
       "<table border=\"1\" class=\"dataframe\">\n",
       "  <thead>\n",
       "    <tr style=\"text-align: right;\">\n",
       "      <th></th>\n",
       "      <th>cdate</th>\n",
       "      <th>sede_tag</th>\n",
       "      <th>sede_q_count</th>\n",
       "      <th>rel_days</th>\n",
       "      <th>treat</th>\n",
       "    </tr>\n",
       "  </thead>\n",
       "  <tbody>\n",
       "    <tr>\n",
       "      <th>0</th>\n",
       "      <td>2021-10-06</td>\n",
       "      <td>.net</td>\n",
       "      <td>0</td>\n",
       "      <td>-56 days</td>\n",
       "      <td>0.0</td>\n",
       "    </tr>\n",
       "    <tr>\n",
       "      <th>1</th>\n",
       "      <td>2021-10-06</td>\n",
       "      <td>amazon_web_services</td>\n",
       "      <td>100</td>\n",
       "      <td>-56 days</td>\n",
       "      <td>0.0</td>\n",
       "    </tr>\n",
       "    <tr>\n",
       "      <th>2</th>\n",
       "      <td>2021-10-06</td>\n",
       "      <td>android</td>\n",
       "      <td>284</td>\n",
       "      <td>-56 days</td>\n",
       "      <td>0.0</td>\n",
       "    </tr>\n",
       "    <tr>\n",
       "      <th>3</th>\n",
       "      <td>2021-10-06</td>\n",
       "      <td>angular</td>\n",
       "      <td>177</td>\n",
       "      <td>-56 days</td>\n",
       "      <td>0.0</td>\n",
       "    </tr>\n",
       "    <tr>\n",
       "      <th>4</th>\n",
       "      <td>2021-10-06</td>\n",
       "      <td>arrays</td>\n",
       "      <td>132</td>\n",
       "      <td>-56 days</td>\n",
       "      <td>0.0</td>\n",
       "    </tr>\n",
       "    <tr>\n",
       "      <th>...</th>\n",
       "      <td>...</td>\n",
       "      <td>...</td>\n",
       "      <td>...</td>\n",
       "      <td>...</td>\n",
       "      <td>...</td>\n",
       "    </tr>\n",
       "    <tr>\n",
       "      <th>8045</th>\n",
       "      <td>2022-03-15</td>\n",
       "      <td>string</td>\n",
       "      <td>58</td>\n",
       "      <td>104 days</td>\n",
       "      <td>0.0</td>\n",
       "    </tr>\n",
       "    <tr>\n",
       "      <th>8046</th>\n",
       "      <td>2022-03-15</td>\n",
       "      <td>swift</td>\n",
       "      <td>108</td>\n",
       "      <td>104 days</td>\n",
       "      <td>0.0</td>\n",
       "    </tr>\n",
       "    <tr>\n",
       "      <th>8047</th>\n",
       "      <td>2022-03-15</td>\n",
       "      <td>typescript</td>\n",
       "      <td>175</td>\n",
       "      <td>104 days</td>\n",
       "      <td>0.0</td>\n",
       "    </tr>\n",
       "    <tr>\n",
       "      <th>8048</th>\n",
       "      <td>2022-03-15</td>\n",
       "      <td>vba</td>\n",
       "      <td>62</td>\n",
       "      <td>104 days</td>\n",
       "      <td>0.0</td>\n",
       "    </tr>\n",
       "    <tr>\n",
       "      <th>8049</th>\n",
       "      <td>2022-03-15</td>\n",
       "      <td>vuejs</td>\n",
       "      <td>73</td>\n",
       "      <td>104 days</td>\n",
       "      <td>0.0</td>\n",
       "    </tr>\n",
       "  </tbody>\n",
       "</table>\n",
       "<p>8050 rows × 5 columns</p>\n",
       "</div>"
      ],
      "text/plain": [
       "          cdate             sede_tag  sede_q_count rel_days  treat\n",
       "0    2021-10-06                 .net             0 -56 days    0.0\n",
       "1    2021-10-06  amazon_web_services           100 -56 days    0.0\n",
       "2    2021-10-06              android           284 -56 days    0.0\n",
       "3    2021-10-06              angular           177 -56 days    0.0\n",
       "4    2021-10-06               arrays           132 -56 days    0.0\n",
       "...         ...                  ...           ...      ...    ...\n",
       "8045 2022-03-15               string            58 104 days    0.0\n",
       "8046 2022-03-15                swift           108 104 days    0.0\n",
       "8047 2022-03-15           typescript           175 104 days    0.0\n",
       "8048 2022-03-15                  vba            62 104 days    0.0\n",
       "8049 2022-03-15                vuejs            73 104 days    0.0\n",
       "\n",
       "[8050 rows x 5 columns]"
      ]
     },
     "execution_count": 17,
     "metadata": {},
     "output_type": "execute_result"
    }
   ],
   "source": [
    "cond3_sede_yn[cond3_sede_yn['treat']==0]"
   ]
  },
  {
   "cell_type": "code",
   "execution_count": null,
   "metadata": {},
   "outputs": [],
   "source": [
    "###################################################################################condition3\n",
    "cond3_sede_yn['rel_week'] = np.floor(cond3_sede_yn['rel_days'].dt.days/7)\n",
    "cond3_sede_y['rel_week'] = np.floor(cond3_sede_y['rel_days'].dt.days/7)\n",
    "cond3_sede_n['rel_week'] = np.floor(cond3_sede_n['rel_days'].dt.days/7)\n",
    "\n",
    "\n",
    "###################################################################################condition3_long\n",
    "cond3_long_sede_yn['rel_week'] = np.floor(cond3_long_sede_yn['rel_days'].dt.days/7)\n",
    "cond3_long_sede_y['rel_week'] = np.floor(cond3_long_sede_y['rel_days'].dt.days/7)\n",
    "cond3_long_sede_n['rel_week'] = np.floor(cond3_long_sede_n['rel_days'].dt.days/7)"
   ]
  },
  {
   "cell_type": "code",
   "execution_count": null,
   "metadata": {},
   "outputs": [],
   "source": [
    "cond3_sede_yn"
   ]
  },
  {
   "cell_type": "code",
   "execution_count": null,
   "metadata": {},
   "outputs": [],
   "source": [
    "###################################################################################condition3\n",
    "cond3_sede_yn[['treat', 'rel_week']] = cond3_sede_yn[['treat', 'rel_week']].astype(int)\n",
    "cond3_sede_y[['treat', 'rel_week']] = cond3_sede_y[['treat', 'rel_week']].astype(int)\n",
    "cond3_sede_n[['treat', 'rel_week']] = cond3_sede_n[['treat', 'rel_week']].astype(int)\n",
    "\n",
    "###################################################################################condition3_long\n",
    "cond3_long_sede_yn[['treat', 'rel_week']] = cond3_long_sede_yn[['treat', 'rel_week']].astype(int)\n",
    "cond3_long_sede_y[['treat', 'rel_week']] = cond3_long_sede_y[['treat', 'rel_week']].astype(int)\n",
    "cond3_long_sede_n[['treat', 'rel_week']] = cond3_long_sede_n[['treat', 'rel_week']].astype(int)"
   ]
  },
  {
   "cell_type": "code",
   "execution_count": null,
   "metadata": {},
   "outputs": [],
   "source": [
    "cond3_long_sede_yn"
   ]
  },
  {
   "cell_type": "code",
   "execution_count": null,
   "metadata": {},
   "outputs": [],
   "source": [
    "# rel_week을 범주형 변수로 변환 (주차별 처리)\n",
    "###################################################################################condition3\n",
    "cond3_sede_yn['rel_week'] = pd.Categorical(cond3_sede_yn['rel_week'])\n",
    "cond3_sede_y['rel_week'] = pd.Categorical(cond3_sede_y['rel_week'])\n",
    "cond3_sede_n['rel_week'] = pd.Categorical(cond3_sede_n['rel_week'])\n",
    "\n",
    "###################################################################################condition3_long\n",
    "cond3_long_sede_yn['rel_week'] = pd.Categorical(cond3_long_sede_yn['rel_week'])\n",
    "cond3_long_sede_y['rel_week'] = pd.Categorical(cond3_long_sede_y['rel_week'])\n",
    "cond3_long_sede_n['rel_week'] = pd.Categorical(cond3_long_sede_n['rel_week'])\n",
    "\n",
    "df_topic_day['rel_week'] = pd.Categorical(df_topic_day['rel_week'])\n"
   ]
  },
  {
   "cell_type": "code",
   "execution_count": null,
   "metadata": {},
   "outputs": [],
   "source": [
    "# .net의 경우 데이터가 비어있어 분석에서 제외\n",
    "\n",
    "###################################################################################condition3\n",
    "cond3_sede_yn = cond3_sede_yn[cond3_sede_yn['sede_tag'] != '.net']\n",
    "cond3_sede_y = cond3_sede_y[cond3_sede_y['sede_tag'] != '.net']\n",
    "cond3_sede_n = cond3_sede_n[cond3_sede_n['sede_tag'] != '.net']\n",
    "\n",
    "\n",
    "###################################################################################condition3_long\n",
    "cond3_long_sede_yn = cond3_long_sede_yn[cond3_long_sede_yn['sede_tag'] != '.net']\n",
    "cond3_long_sede_y = cond3_long_sede_y[cond3_long_sede_y['sede_tag'] != '.net']\n",
    "cond3_long_sede_n = cond3_long_sede_n[cond3_long_sede_n['sede_tag'] != '.net']\n",
    "\n",
    "\n",
    "df_topic_day = df_topic_day[df_topic_day['tag'] != '.net']\n"
   ]
  },
  {
   "cell_type": "code",
   "execution_count": null,
   "metadata": {},
   "outputs": [],
   "source": [
    "cond3_sede_n = cond3_sede_n.sort_values(by = ['sede_tag', 'cdate'], ascending=[True, True])\n",
    "cond3_sede_y = cond3_sede_y.sort_values(by = ['sede_tag', 'cdate'], ascending=[True, True])\n",
    "cond3_sede_yn = cond3_sede_yn.sort_values(by = ['sede_tag', 'cdate'], ascending=[True, True])"
   ]
  },
  {
   "cell_type": "code",
   "execution_count": null,
   "metadata": {},
   "outputs": [],
   "source": [
    "cond3_long_sede_n  = cond3_long_sede_n.sort_values(by = ['sede_tag', 'cdate'], ascending=[True, True])\n",
    "cond3_long_sede_y  = cond3_long_sede_y.sort_values(by = ['sede_tag', 'cdate'], ascending=[True, True])\n",
    "cond3_long_sede_yn = cond3_long_sede_yn.sort_values(by = ['sede_tag', 'cdate'], ascending=[True, True])"
   ]
  },
  {
   "cell_type": "code",
   "execution_count": null,
   "metadata": {},
   "outputs": [],
   "source": [
    "###################################################################################condition3\n",
    "cond3_sede_yn = cond3_sede_yn.set_index(['sede_tag', 'cdate'])\n",
    "cond3_sede_y = cond3_sede_y.set_index(['sede_tag', 'cdate'])\n",
    "cond3_sede_n = cond3_sede_n.set_index(['sede_tag', 'cdate'])\n",
    "\n",
    "\n",
    "###################################################################################condition3_long\n",
    "cond3_long_sede_yn = cond3_long_sede_yn.set_index(['sede_tag', 'cdate'])\n",
    "cond3_long_sede_y = cond3_long_sede_y.set_index(['sede_tag', 'cdate'])\n",
    "cond3_long_sede_n = cond3_long_sede_n.set_index(['sede_tag', 'cdate'])\n",
    "\n",
    "\n",
    "df_topic_day = df_topic_day.set_index(['tag', 'date'])\n"
   ]
  },
  {
   "cell_type": "code",
   "execution_count": null,
   "metadata": {},
   "outputs": [],
   "source": [
    "cond3_long_sede_n"
   ]
  },
  {
   "cell_type": "markdown",
   "metadata": {},
   "source": [
    "### 모델적용"
   ]
  },
  {
   "cell_type": "code",
   "execution_count": null,
   "metadata": {},
   "outputs": [],
   "source": [
    "periods = np.arange(-7, 15, 1)"
   ]
  },
  {
   "cell_type": "markdown",
   "metadata": {},
   "source": [
    "#### Q1."
   ]
  },
  {
   "cell_type": "markdown",
   "metadata": {},
   "source": [
    "##### Target "
   ]
  },
  {
   "cell_type": "code",
   "execution_count": null,
   "metadata": {},
   "outputs": [],
   "source": [
    "# 고정 효과 모델 (tag를 고정 효과로 포함하고, rel_week도 설명 변수로 포함)\n",
    "mod_quest_vol_so_dyn = PanelOLS.from_formula('q_count ~ C(rel_week) * treat + EntityEffects',\n",
    "                                             data=df_topic_day)\n",
    "result_dyn = mod_quest_vol_so_dyn.fit(cov_type='clustered', cluster_entity=True)\n"
   ]
  },
  {
   "cell_type": "code",
   "execution_count": null,
   "metadata": {},
   "outputs": [],
   "source": [
    "# 동적 효과 계수 추출\n",
    "coefs = result_dyn.params\n",
    "std_errors = result_dyn.std_errors\n",
    "conf_int = result_dyn.conf_int()"
   ]
  },
  {
   "cell_type": "code",
   "execution_count": null,
   "metadata": {},
   "outputs": [],
   "source": [
    "coefs_filtered      = coefs.loc[[f'C(rel_week)[T.{i}]:treat' for i in periods]].values\n",
    "std_errors_filtered = std_errors.loc[[f'C(rel_week)[T.{i}]:treat' for i in periods]].values"
   ]
  },
  {
   "cell_type": "code",
   "execution_count": null,
   "metadata": {},
   "outputs": [],
   "source": [
    "# 신뢰구간 계산\n",
    "ll_95 = coefs_filtered - 1.965 * std_errors_filtered\n",
    "ul_95 = coefs_filtered + 1.965 * std_errors_filtered\n",
    "\n",
    "# 데이터프레임 생성 (계수와 신뢰구간)\n",
    "df_coefs = pd.DataFrame({\n",
    "    'period'    : periods,\n",
    "    'Estimate'  : coefs_filtered,\n",
    "    'll_95'     : ll_95,\n",
    "    'ul_95'     : ul_95\n",
    "})"
   ]
  },
  {
   "cell_type": "code",
   "execution_count": null,
   "metadata": {},
   "outputs": [],
   "source": []
  },
  {
   "cell_type": "code",
   "execution_count": null,
   "metadata": {},
   "outputs": [],
   "source": []
  },
  {
   "cell_type": "markdown",
   "metadata": {},
   "source": [
    "##### Condition3"
   ]
  },
  {
   "cell_type": "code",
   "execution_count": null,
   "metadata": {},
   "outputs": [],
   "source": [
    "# 고정 효과 모델 (tag를 고정 효과로 포함하고, rel_week도 설명 변수로 포함)\n",
    "cond3_mod_quest_vol_so_dyn = PanelOLS.from_formula('sede_q_count ~ C(rel_week) * treat + EntityEffects',\n",
    "                                             data=cond3_sede_yn)\n",
    "cond3_result_dyn = cond3_mod_quest_vol_so_dyn.fit(cov_type='clustered', cluster_entity=True)\n"
   ]
  },
  {
   "cell_type": "code",
   "execution_count": null,
   "metadata": {},
   "outputs": [],
   "source": [
    "# 고정 효과 모델 (tag를 고정 효과로 포함하고, rel_week도 설명 변수로 포함)\n",
    "cond3_y_mod_quest_vol_so_dyn = PanelOLS.from_formula('sede_q_count ~ C(rel_week) * treat + EntityEffects',\n",
    "                                             data=cond3_sede_y)\n",
    "cond3_y_result_dyn = cond3_y_mod_quest_vol_so_dyn.fit(cov_type='clustered', cluster_entity=True)\n"
   ]
  },
  {
   "cell_type": "code",
   "execution_count": null,
   "metadata": {},
   "outputs": [],
   "source": [
    "# 고정 효과 모델 (tag를 고정 효과로 포함하고, rel_week도 설명 변수로 포함)\n",
    "cond3_n_mod_quest_vol_so_dyn = PanelOLS.from_formula('sede_q_count ~ C(rel_week) * treat + EntityEffects',\n",
    "                                             data=cond3_sede_n)\n",
    "cond3_n_result_dyn = cond3_n_mod_quest_vol_so_dyn.fit(cov_type='clustered', cluster_entity=True)\n"
   ]
  },
  {
   "cell_type": "code",
   "execution_count": null,
   "metadata": {},
   "outputs": [],
   "source": [
    "cond3_sede_y"
   ]
  },
  {
   "cell_type": "code",
   "execution_count": null,
   "metadata": {},
   "outputs": [],
   "source": [
    "cond3_sede_n"
   ]
  },
  {
   "cell_type": "code",
   "execution_count": null,
   "metadata": {},
   "outputs": [],
   "source": [
    "# 동적 효과 계수 추출\n",
    "cond3_coefs = cond3_result_dyn.params\n",
    "cond3_std_errors = cond3_result_dyn.std_errors\n",
    "cond3_conf_int = cond3_result_dyn.conf_int()"
   ]
  },
  {
   "cell_type": "code",
   "execution_count": null,
   "metadata": {},
   "outputs": [],
   "source": [
    "# 동적 효과 계수 추출\n",
    "cond3_y_coefs       = cond3_y_result_dyn.params\n",
    "cond3_y_std_errors  = cond3_y_result_dyn.std_errors\n",
    "cond3_y_conf_int    = cond3_y_result_dyn.conf_int()"
   ]
  },
  {
   "cell_type": "code",
   "execution_count": null,
   "metadata": {},
   "outputs": [],
   "source": [
    "# 동적 효과 계수 추출\n",
    "cond3_n_coefs       = cond3_n_result_dyn.params\n",
    "cond3_n_std_errors  = cond3_n_result_dyn.std_errors\n",
    "cond3_n_conf_int    = cond3_n_result_dyn.conf_int()"
   ]
  },
  {
   "cell_type": "code",
   "execution_count": null,
   "metadata": {},
   "outputs": [],
   "source": [
    "cond3_coefs_filtered      = cond3_coefs.loc[[f'C(rel_week)[T.{i}]:treat' for i in periods]].values\n",
    "cond3_std_errors_filtered = cond3_std_errors.loc[[f'C(rel_week)[T.{i}]:treat' for i in periods]].values\n"
   ]
  },
  {
   "cell_type": "code",
   "execution_count": null,
   "metadata": {},
   "outputs": [],
   "source": [
    "cond3_y_coefs_filtered      = cond3_y_coefs.loc[[f'C(rel_week)[T.{i}]:treat' for i in periods]].values\n",
    "cond3_y_std_errors_filtered = cond3_y_std_errors.loc[[f'C(rel_week)[T.{i}]:treat' for i in periods]].values\n",
    "\n"
   ]
  },
  {
   "cell_type": "code",
   "execution_count": null,
   "metadata": {},
   "outputs": [],
   "source": [
    "cond3_n_coefs_filtered      = cond3_n_coefs.loc[[f'C(rel_week)[T.{i}]:treat' for i in periods]].values\n",
    "cond3_n_std_errors_filtered = cond3_n_std_errors.loc[[f'C(rel_week)[T.{i}]:treat' for i in periods]].values\n"
   ]
  },
  {
   "cell_type": "code",
   "execution_count": null,
   "metadata": {},
   "outputs": [],
   "source": [
    "# 신뢰구간 계산\n",
    "cond3_ll_95 = cond3_coefs_filtered - 1.965 * cond3_std_errors_filtered\n",
    "cond3_ul_95 = cond3_coefs_filtered + 1.965 * cond3_std_errors_filtered\n",
    "\n",
    "# 데이터프레임 생성 (계수와 신뢰구간)\n",
    "cond3_df_coefs = pd.DataFrame({\n",
    "    'period'    : periods,\n",
    "    'Estimate'  : cond3_coefs_filtered,\n",
    "    'll_95'     : cond3_ll_95,\n",
    "    'ul_95'     : cond3_ul_95\n",
    "})"
   ]
  },
  {
   "cell_type": "code",
   "execution_count": null,
   "metadata": {},
   "outputs": [],
   "source": [
    "# 신뢰구간 계산\n",
    "cond3_y_ll_95 = cond3_y_coefs_filtered - 1.965 * cond3_y_std_errors_filtered\n",
    "cond3_y_ul_95 = cond3_y_coefs_filtered + 1.965 * cond3_y_std_errors_filtered\n",
    "\n",
    "# 데이터프레임 생성 (계수와 신뢰구간)\n",
    "cond3_y_df_coefs = pd.DataFrame({\n",
    "    'period'    : periods,\n",
    "    'Estimate'  : cond3_y_coefs_filtered,\n",
    "    'll_95'     : cond3_y_ll_95,\n",
    "    'ul_95'     : cond3_y_ul_95\n",
    "})"
   ]
  },
  {
   "cell_type": "code",
   "execution_count": null,
   "metadata": {},
   "outputs": [],
   "source": [
    "# 신뢰구간 계산\n",
    "cond3_n_ll_95 = cond3_n_coefs_filtered - 1.965 * cond3_n_std_errors_filtered\n",
    "cond3_n_ul_95 = cond3_n_coefs_filtered + 1.965 * cond3_n_std_errors_filtered\n",
    "\n",
    "# 데이터프레임 생성 (계수와 신뢰구간)\n",
    "cond3_n_df_coefs = pd.DataFrame({\n",
    "    'period'    : periods,\n",
    "    'Estimate'  : cond3_n_coefs_filtered,\n",
    "    'll_95'     : cond3_n_ll_95,\n",
    "    'ul_95'     : cond3_n_ul_95\n",
    "})"
   ]
  },
  {
   "cell_type": "code",
   "execution_count": null,
   "metadata": {},
   "outputs": [],
   "source": [
    "### create a figure with multiple subplots\n",
    "sharey = True ## 또는 sharey=False\n",
    "sharex = True ## 또는 sharex=False\n",
    "\n",
    "fig, axs = plt.subplots(1, 4, figsize = (20, 5), sharey=sharey, sharex=sharex)\n",
    "\n",
    "\n",
    "axs[0].fill_between(df_coefs['period'], df_coefs['ll_95'], df_coefs['ul_95'], color='gray', alpha=0.5)\n",
    "axs[0].plot(df_coefs['period'], df_coefs['Estimate'], color='black', linewidth=2)\n",
    "axs[0].axvline(x=0,     color='red',    linestyle='-.', linewidth=1)\n",
    "axs[0].axhline(y=0,     color='black',  linestyle='--')\n",
    "axs[0].axhline(y=-20.9, color='green',  linestyle='--')\n",
    "axs[0].set_xlabel(\"Week Relative to ChatGPT Release\", fontsize = 10.5)\n",
    "axs[0].set_ylabel(\"Content Volume Effect and 95% CI\", fontsize = 10.5)\n",
    "axs[0].set_title(\"Stack Overflow(origin)\", fontsize=15)\n",
    "axs[0].tick_params(axis='x', rotation=45)\n",
    "axs[0].grid(False)\n",
    "\n",
    "axs[1].fill_between(cond3_df_coefs['period'], cond3_df_coefs['ll_95'], cond3_df_coefs['ul_95'], color='gray', alpha=0.5)\n",
    "axs[1].plot(cond3_df_coefs['period'], cond3_df_coefs['Estimate'], color='black', linewidth=2)\n",
    "axs[1].axvline(x=0,     color='red',    linestyle='-.', linewidth=1)\n",
    "axs[1].axhline(y=0,     color='black',  linestyle='--')\n",
    "axs[1].axvline(x=3, color='blue', linestyle='-.', linewidth=1)\n",
    "axs[1].axhline(y=-20.9, color='green',  linestyle='--')\n",
    "axs[1].set_xlabel(\"Week Relative to ChatGPT Release\", fontsize = 10.5)\n",
    "axs[1].set_ylabel(\"Content Volume Effect and 95% CI\", fontsize = 10.5)\n",
    "axs[1].set_title(\"Stack Overflow(cond3:Deleted+Survived)\", fontsize=15)\n",
    "axs[1].tick_params(axis='x', rotation=45)\n",
    "axs[1].grid(False)\n",
    "\n",
    "\n",
    "axs[2].fill_between(cond3_n_df_coefs['period'], cond3_n_df_coefs['ll_95'], cond3_n_df_coefs['ul_95'], color='gray', alpha=0.5)\n",
    "axs[2].plot(cond3_n_df_coefs['period'], cond3_n_df_coefs['Estimate'], color='black', linewidth=2)\n",
    "axs[2].axvline(x=0, color='red', linestyle='-.', linewidth=1)\n",
    "axs[2].axhline(y=0, color='black', linestyle='--')\n",
    "axs[2].axvline(x=3, color='blue', linestyle='-.', linewidth=1)\n",
    "axs[2].axhline(y=-20.9, color='green',  linestyle='--')\n",
    "axs[2].set_xlabel(\"Week Relative to ChatGPT Release\", fontsize = 10.5)\n",
    "axs[2].set_ylabel(\"Content Volume Effect and 95% CI\", fontsize = 10.5)\n",
    "axs[2].set_title(\"Stack Overflow(cond3:Survived)\", fontsize=15)\n",
    "axs[2].tick_params(axis='x', rotation=45)\n",
    "axs[2].grid(False)\n",
    "\n",
    "axs[3].fill_between(cond3_y_df_coefs['period'], cond3_y_df_coefs['ll_95'], cond3_y_df_coefs['ul_95'], color='gray', alpha=0.5)\n",
    "axs[3].plot(cond3_y_df_coefs['period'], cond3_y_df_coefs['Estimate'], color='black', linewidth=2)\n",
    "axs[3].axvline(x=0, color='red', linestyle='-.', linewidth=1)\n",
    "axs[3].axhline(y=0, color='black', linestyle='--')\n",
    "axs[3].axvline(x=3, color='blue', linestyle='-.', linewidth=1)\n",
    "axs[3].axhline(y=-20.9, color='green',  linestyle='--')\n",
    "axs[3].set_xlabel(\"Week Relative to ChatGPT Release\", fontsize = 10.5)\n",
    "axs[3].set_ylabel(\"Content Volume Effect and 95% CI\", fontsize = 10.5)\n",
    "axs[3].set_title(\"Stack Overflow(cond3:Deleted)\", fontsize=15)\n",
    "axs[3].tick_params(axis='x', rotation=45)\n",
    "axs[3].grid(False)\n",
    "\n",
    "\n",
    "\n",
    "plt.show();"
   ]
  },
  {
   "cell_type": "code",
   "execution_count": null,
   "metadata": {},
   "outputs": [],
   "source": []
  },
  {
   "cell_type": "code",
   "execution_count": null,
   "metadata": {},
   "outputs": [],
   "source": []
  },
  {
   "cell_type": "markdown",
   "metadata": {},
   "source": [
    "##### Condition3_long"
   ]
  },
  {
   "cell_type": "code",
   "execution_count": null,
   "metadata": {},
   "outputs": [],
   "source": [
    "long_periods = np.arange(-7, 30, 1)"
   ]
  },
  {
   "cell_type": "code",
   "execution_count": null,
   "metadata": {},
   "outputs": [],
   "source": [
    "# 고정 효과 모델 (tag를 고정 효과로 포함하고, rel_week도 설명 변수로 포함)\n",
    "cond3_long_mod_quest_vol_so_dyn = PanelOLS.from_formula('sede_q_count ~ C(rel_week) * treat + EntityEffects',\n",
    "                                             data=cond3_long_sede_yn)\n",
    "cond3_long_result_dyn = cond3_long_mod_quest_vol_so_dyn.fit(cov_type='clustered', cluster_entity=True)\n"
   ]
  },
  {
   "cell_type": "code",
   "execution_count": null,
   "metadata": {},
   "outputs": [],
   "source": [
    "# 고정 효과 모델 (tag를 고정 효과로 포함하고, rel_week도 설명 변수로 포함)\n",
    "cond3_long_y_mod_quest_vol_so_dyn = PanelOLS.from_formula('sede_q_count ~ C(rel_week) * treat + EntityEffects',\n",
    "                                             data=cond3_long_sede_y)\n",
    "cond3_long_y_result_dyn = cond3_long_y_mod_quest_vol_so_dyn.fit(cov_type='clustered', cluster_entity=True)\n"
   ]
  },
  {
   "cell_type": "code",
   "execution_count": null,
   "metadata": {},
   "outputs": [],
   "source": [
    "# 고정 효과 모델 (tag를 고정 효과로 포함하고, rel_week도 설명 변수로 포함)\n",
    "cond3_long_n_mod_quest_vol_so_dyn = PanelOLS.from_formula('sede_q_count ~ C(rel_week) * treat + EntityEffects',\n",
    "                                             data=cond3_long_sede_n)\n",
    "cond3_long_n_result_dyn = cond3_long_n_mod_quest_vol_so_dyn.fit(cov_type='clustered', cluster_entity=True)\n"
   ]
  },
  {
   "cell_type": "code",
   "execution_count": null,
   "metadata": {},
   "outputs": [],
   "source": [
    "# 동적 효과 계수 추출\n",
    "cond3_long_coefs         = cond3_long_result_dyn.params\n",
    "cond3_long_std_errors    = cond3_long_result_dyn.std_errors\n",
    "cond3_long_conf_int      = cond3_long_result_dyn.conf_int()"
   ]
  },
  {
   "cell_type": "code",
   "execution_count": null,
   "metadata": {},
   "outputs": [],
   "source": [
    "# 동적 효과 계수 추출\n",
    "cond3_long_y_coefs       = cond3_long_y_result_dyn.params\n",
    "cond3_long_y_std_errors  = cond3_long_y_result_dyn.std_errors\n",
    "cond3_long_y_conf_int    = cond3_long_y_result_dyn.conf_int()"
   ]
  },
  {
   "cell_type": "code",
   "execution_count": null,
   "metadata": {},
   "outputs": [],
   "source": [
    "# 동적 효과 계수 추출\n",
    "cond3_long_n_coefs       = cond3_long_n_result_dyn.params\n",
    "cond3_long_n_std_errors  = cond3_long_n_result_dyn.std_errors\n",
    "cond3_long_n_conf_int    = cond3_long_n_result_dyn.conf_int()"
   ]
  },
  {
   "cell_type": "code",
   "execution_count": null,
   "metadata": {},
   "outputs": [],
   "source": [
    "cond3_long_sede_y"
   ]
  },
  {
   "cell_type": "code",
   "execution_count": null,
   "metadata": {},
   "outputs": [],
   "source": [
    "cond3_long_coefs"
   ]
  },
  {
   "cell_type": "code",
   "execution_count": null,
   "metadata": {},
   "outputs": [],
   "source": [
    "cond3_long_coefs_filtered      = cond3_long_coefs.loc[[f'C(rel_week)[T.{i}]:treat' for i in long_periods]].values\n",
    "cond3_long_std_errors_filtered = cond3_long_std_errors.loc[[f'C(rel_week)[T.{i}]:treat' for i in long_periods]].values\n"
   ]
  },
  {
   "cell_type": "code",
   "execution_count": null,
   "metadata": {},
   "outputs": [],
   "source": [
    "cond3_long_y_coefs"
   ]
  },
  {
   "cell_type": "code",
   "execution_count": null,
   "metadata": {},
   "outputs": [],
   "source": [
    "cond3_long_y_coefs_filtered      = cond3_long_y_coefs.loc[[f'C(rel_week)[T.{i}]:treat' for i in long_periods]].values\n",
    "cond3_long_y_std_errors_filtered = cond3_long_y_std_errors.loc[[f'C(rel_week)[T.{i}]:treat' for i in long_periods]].values\n",
    "\n"
   ]
  },
  {
   "cell_type": "code",
   "execution_count": null,
   "metadata": {},
   "outputs": [],
   "source": [
    "cond3_long_n_coefs_filtered      = cond3_long_n_coefs.loc[[f'C(rel_week)[T.{i}]:treat' for i in long_periods]].values\n",
    "cond3_long_n_std_errors_filtered = cond3_long_n_std_errors.loc[[f'C(rel_week)[T.{i}]:treat' for i in long_periods]].values\n"
   ]
  },
  {
   "cell_type": "code",
   "execution_count": null,
   "metadata": {},
   "outputs": [],
   "source": [
    "# 신뢰구간 계산\n",
    "cond3_long_ll_95 = cond3_long_coefs_filtered - 1.965 * cond3_long_std_errors_filtered\n",
    "cond3_long_ul_95 = cond3_long_coefs_filtered + 1.965 * cond3_long_std_errors_filtered\n",
    "\n",
    "# 데이터프레임 생성 (계수와 신뢰구간)\n",
    "cond3_long_df_coefs = pd.DataFrame({\n",
    "    'period'    : long_periods,\n",
    "    'Estimate'  : cond3_long_coefs_filtered,\n",
    "    'll_95'     : cond3_long_ll_95,\n",
    "    'ul_95'     : cond3_long_ul_95\n",
    "})"
   ]
  },
  {
   "cell_type": "code",
   "execution_count": null,
   "metadata": {},
   "outputs": [],
   "source": [
    "# 신뢰구간 계산\n",
    "cond3_long_y_ll_95 = cond3_long_y_coefs_filtered - 1.965 * cond3_long_y_std_errors_filtered\n",
    "cond3_long_y_ul_95 = cond3_long_y_coefs_filtered + 1.965 * cond3_long_y_std_errors_filtered\n",
    "\n",
    "# 데이터프레임 생성 (계수와 신뢰구간)\n",
    "cond3_long_y_df_coefs = pd.DataFrame({\n",
    "    'period'    : long_periods,\n",
    "    'Estimate'  : cond3_long_y_coefs_filtered,\n",
    "    'll_95'     : cond3_long_y_ll_95,\n",
    "    'ul_95'     : cond3_long_y_ul_95\n",
    "})"
   ]
  },
  {
   "cell_type": "code",
   "execution_count": null,
   "metadata": {},
   "outputs": [],
   "source": [
    "# 신뢰구간 계산\n",
    "cond3_long_n_ll_95 = cond3_long_n_coefs_filtered - 1.965 * cond3_long_n_std_errors_filtered\n",
    "cond3_long_n_ul_95 = cond3_long_n_coefs_filtered + 1.965 * cond3_long_n_std_errors_filtered\n",
    "\n",
    "# 데이터프레임 생성 (계수와 신뢰구간)\n",
    "cond3_long_n_df_coefs = pd.DataFrame({\n",
    "    'period'    : long_periods,\n",
    "    'Estimate'  : cond3_long_n_coefs_filtered,\n",
    "    'll_95'     : cond3_long_n_ll_95,\n",
    "    'ul_95'     : cond3_long_n_ul_95\n",
    "})"
   ]
  },
  {
   "cell_type": "code",
   "execution_count": null,
   "metadata": {},
   "outputs": [],
   "source": [
    "cond3_long_df_coefs"
   ]
  },
  {
   "cell_type": "code",
   "execution_count": null,
   "metadata": {},
   "outputs": [],
   "source": [
    "### create a figure with multiple subplots\n",
    "sharey = True ## 또는 sharey=False\n",
    "sharex = True ## 또는 sharex=False\n",
    "\n",
    "fig, axs = plt.subplots(1, 3, figsize = (20, 5), sharey=sharey, sharex=True)\n",
    "\n",
    "axs[0].fill_between(cond3_long_df_coefs['period'], cond3_long_df_coefs['ll_95'], cond3_long_df_coefs['ul_95'], color='gray', alpha=0.5)\n",
    "axs[0].plot(cond3_long_df_coefs['period'], cond3_long_df_coefs['Estimate'], color='black', linewidth=2)\n",
    "axs[0].axvline(x=0,     color='red',    linestyle='-.', linewidth=1)\n",
    "axs[0].axhline(y=0,     color='black',  linestyle='--')\n",
    "axs[0].axvline(x=3, color='blue', linestyle='-.', linewidth=1)\n",
    "axs[0].axhline(y=-20.9, color='green',  linestyle='--')\n",
    "axs[0].set_xlabel(\"Week Relative to ChatGPT Release\", fontsize = 10.5)\n",
    "axs[0].set_ylabel(\"Content Volume Effect and 95% CI\", fontsize = 10.5)\n",
    "axs[0].set_title(\"B\", fontsize=15)\n",
    "axs[0].tick_params(axis='x', rotation=45)\n",
    "axs[0].grid(False)\n",
    "\n",
    "\n",
    "axs[1].fill_between(cond3_long_n_df_coefs['period'], cond3_long_n_df_coefs['ll_95'], cond3_long_n_df_coefs['ul_95'], color='gray', alpha=0.5)\n",
    "axs[1].plot(cond3_long_n_df_coefs['period'], cond3_long_n_df_coefs['Estimate'], color='black', linewidth=2)\n",
    "axs[1].axvline(x=0, color='red', linestyle='-.', linewidth=1)\n",
    "axs[1].axhline(y=0, color='black', linestyle='--')\n",
    "axs[1].axvline(x=3, color='blue', linestyle='-.', linewidth=1)\n",
    "axs[1].axhline(y=-20.9, color='green',  linestyle='--')\n",
    "axs[1].set_xlabel(\"Week Relative to ChatGPT Release\", fontsize = 10.5)\n",
    "axs[1].set_ylabel(\"Content Volume Effect and 95% CI\", fontsize = 10.5)\n",
    "axs[1].set_title(\"C\", fontsize=15)\n",
    "axs[1].tick_params(axis='x', rotation=45)\n",
    "axs[1].grid(False)\n",
    "\n",
    "axs[2].fill_between(cond3_long_y_df_coefs['period'], cond3_long_y_df_coefs['ll_95'], cond3_long_y_df_coefs['ul_95'], color='gray', alpha=0.5)\n",
    "axs[2].plot(cond3_long_y_df_coefs['period'], cond3_long_y_df_coefs['Estimate'], color='black', linewidth=2)\n",
    "axs[2].axvline(x=0, color='red', linestyle='-.', linewidth=1)\n",
    "axs[2].axhline(y=0, color='black', linestyle='--')\n",
    "axs[2].axvline(x=3, color='blue', linestyle='-.', linewidth=1)\n",
    "axs[2].axhline(y=-20.9, color='green',  linestyle='--')\n",
    "axs[2].set_xlabel(\"Week Relative to ChatGPT Release\", fontsize = 10.5)\n",
    "axs[2].set_ylabel(\"Content Volume Effect and 95% CI\", fontsize = 10.5)\n",
    "axs[2].set_title(\"D\", fontsize=15)\n",
    "axs[2].tick_params(axis='x', rotation=45)\n",
    "axs[2].grid(False)\n",
    "\n",
    "\n",
    "\n",
    "plt.show();"
   ]
  },
  {
   "cell_type": "code",
   "execution_count": null,
   "metadata": {},
   "outputs": [],
   "source": [
    "df_es = pd.concat([df_coefs['Estimate'], cond3_n_df_coefs['Estimate']], axis = 1)\n",
    "df_es.columns = ['origin_es', 'cond3_es']"
   ]
  },
  {
   "cell_type": "code",
   "execution_count": null,
   "metadata": {},
   "outputs": [],
   "source": [
    "corr_value = np.round(df_es.corr(method='spearman').iloc[0, 1], 2)\n",
    "corr_value = str(corr_value)[1:]"
   ]
  },
  {
   "cell_type": "code",
   "execution_count": null,
   "metadata": {},
   "outputs": [],
   "source": [
    "### create a figure with multiple subplots\n",
    "sharey = True ## 또는 sharey=False\n",
    "sharex = True ## 또는 sharex=False\n",
    "\n",
    "fig, axs = plt.subplots(1, 4, figsize = (20, 5), sharey=sharey, sharex=False)\n",
    "\n",
    "\n",
    "axs[0].fill_between(df_coefs['period'], df_coefs['ll_95'], df_coefs['ul_95'], color='skyblue', alpha=0.5)\n",
    "axs[0].plot(df_coefs['period'], df_coefs['Estimate'], color='blue', linewidth=2, label='Origin')\n",
    "\n",
    "axs[0].fill_between(cond3_n_df_coefs['period'], cond3_n_df_coefs['ll_95'], cond3_n_df_coefs['ul_95'], color='gray', alpha=0.5)\n",
    "axs[0].plot(cond3_n_df_coefs['period'], cond3_n_df_coefs['Estimate'], color='black', linewidth=2, label='Replicated')\n",
    "\n",
    "axs[0].axvline(x=0,     color='red',    linestyle='-.', linewidth=1)\n",
    "axs[0].axhline(y=0,     color='black',  linestyle='--')\n",
    "axs[0].axhline(y=-21, color='green',  linestyle='--')\n",
    "axs[0].set_xlabel(\"Week Relative to ChatGPT Release\", fontsize = 10.5)\n",
    "axs[0].set_ylabel(\"Content Volume Effect and 95% CI\", fontsize = 10.5)\n",
    "axs[0].set_title(\"A. Origin vs Replicated\", fontsize=13)\n",
    "axs[0].tick_params(axis='x', rotation=45)\n",
    "\n",
    "axs[0].text(9.5, 15, s='Cor = '+corr_value) #\n",
    "axs[0].legend(loc = 'lower right', fontsize = 10, ncols = 1) # add legend\n",
    "axs[0].grid(False)\n",
    "\n",
    "\n",
    "axs[1].fill_between(cond3_long_df_coefs['period'], cond3_long_df_coefs['ll_95'], cond3_long_df_coefs['ul_95'], color='gray', alpha=0.5)\n",
    "axs[1].plot(cond3_long_df_coefs['period'], cond3_long_df_coefs['Estimate'], color='black', linewidth=2)\n",
    "axs[1].axvline(x=0,     color='red',    linestyle='-.', linewidth=1)\n",
    "axs[1].axhline(y=0,     color='black',  linestyle='--')\n",
    "axs[1].axhline(y=-20.9, color='green',  linestyle='--')\n",
    "axs[1].set_xlabel(\"Week Relative to ChatGPT Release\", fontsize = 10.5)\n",
    "axs[1].set_ylabel(\"Content Volume Effect and 95% CI\", fontsize = 10.5)\n",
    "axs[1].set_title(\"B. Survival + Deleted\", fontsize=13)\n",
    "axs[1].tick_params(axis='x', rotation=45)\n",
    "axs[1].grid(False)\n",
    "\n",
    "\n",
    "axs[2].fill_between(cond3_long_n_df_coefs['period'], cond3_long_n_df_coefs['ll_95'], cond3_long_n_df_coefs['ul_95'], color='gray', alpha=0.5)\n",
    "axs[2].plot(cond3_long_n_df_coefs['period'], cond3_long_n_df_coefs['Estimate'], color='black', linewidth=2)\n",
    "axs[2].axvline(x=0, color='red', linestyle='-.', linewidth=1)\n",
    "axs[2].axhline(y=0, color='black', linestyle='--')\n",
    "axs[2].axhline(y=-20.9, color='green',  linestyle='--')\n",
    "axs[2].set_xlabel(\"Week Relative to ChatGPT Release\", fontsize = 10.5)\n",
    "axs[2].set_ylabel(\"Content Volume Effect and 95% CI\", fontsize = 10.5)\n",
    "axs[2].set_title(\"C. Survival\", fontsize=13)\n",
    "axs[2].tick_params(axis='x', rotation=45)\n",
    "axs[2].grid(False)\n",
    "\n",
    "axs[3].fill_between(cond3_long_y_df_coefs['period'], cond3_long_y_df_coefs['ll_95'], cond3_long_y_df_coefs['ul_95'], color='gray', alpha=0.5)\n",
    "axs[3].plot(cond3_long_y_df_coefs['period'], cond3_long_y_df_coefs['Estimate'], color='black', linewidth=2)\n",
    "axs[3].axvline(x=0, color='red', linestyle='-.', linewidth=1)\n",
    "axs[3].axhline(y=0, color='black', linestyle='--')\n",
    "axs[3].axhline(y=-20.9, color='green',  linestyle='--')\n",
    "axs[3].set_xlabel(\"Week Relative to ChatGPT Release\", fontsize = 10.5)\n",
    "axs[3].set_ylabel(\"Content Volume Effect and 95% CI\", fontsize = 10.5)\n",
    "axs[3].set_title(\"D. Deleted\", fontsize=13)\n",
    "axs[3].tick_params(axis='x', rotation=45)\n",
    "axs[3].grid(False)\n",
    "\n",
    "\n",
    "\n",
    "\n",
    "plt.show();"
   ]
  },
  {
   "cell_type": "code",
   "execution_count": null,
   "metadata": {},
   "outputs": [],
   "source": [
    "### create a figure with multiple subplots\n",
    "sharey = True ## 또는 sharey=False\n",
    "sharex = True ## 또는 sharex=False\n",
    "\n",
    "fig, axs = plt.subplots(1, 4, figsize = (20, 5), sharey=sharey, sharex=sharex)\n",
    "\n",
    "\n",
    "axs[0].fill_between(df_coefs['period'], df_coefs['ll_95'], df_coefs['ul_95'], color='skyblue', alpha=0.5)\n",
    "axs[0].plot(df_coefs['period'], df_coefs['Estimate'], color='blue', linewidth=2, label='Original')\n",
    "\n",
    "axs[0].fill_between(cond3_n_df_coefs['period'], cond3_n_df_coefs['ll_95'], cond3_n_df_coefs['ul_95'], color='gray', alpha=0.5)\n",
    "axs[0].plot(cond3_n_df_coefs['period'], cond3_n_df_coefs['Estimate'], color='black', linewidth=2, label='Replicated')\n",
    "\n",
    "axs[0].axvline(x=0,     color='red',    linestyle='-.', linewidth=1)\n",
    "axs[0].axhline(y=0,     color='black',  linestyle='--')\n",
    "axs[0].set_xlabel(\"Week Relative to ChatGPT Release\", fontsize = 12)\n",
    "axs[0].set_ylabel(\"Content Volume Effect and 95% CI\", fontsize = 12)\n",
    "axs[0].set_title(\"A. Original vs Replicated (=Surviving)\", fontsize = 17.5)\n",
    "axs[0].tick_params(axis='x', rotation=45)\n",
    "axs[0].axhline(y=-21, color='green',  linestyle='--')\n",
    "axs[0].text(19, 15, s=r'Pearson’s $r$ = ' + corr_value, fontsize = 10) #\n",
    "axs[0].legend(loc = 'lower right', fontsize = 10, ncols = 1) # add legend\n",
    "axs[0].grid(False)\n",
    "\n",
    "axs[1].fill_between(cond3_long_n_df_coefs['period'], cond3_long_n_df_coefs['ll_95'], cond3_long_n_df_coefs['ul_95'], color='gray', alpha=0.5)\n",
    "axs[1].plot(cond3_long_n_df_coefs['period'], cond3_long_n_df_coefs['Estimate'], color='black', linewidth=2)\n",
    "axs[1].axvline(x=0, color='red', linestyle='-.', linewidth=1)\n",
    "axs[1].axhline(y=0, color='black', linestyle='--')\n",
    "axs[1].axhline(y=-21.5, color='green',  linestyle='--')\n",
    "axs[1].set_xlabel(\"Week Relative to ChatGPT Release\", fontsize = 12)\n",
    "axs[1].set_ylabel(\"Content Volume Effect and 95% CI\", fontsize = 12)\n",
    "axs[1].set_title(\"B. Surviving\", fontsize = 17.5)\n",
    "axs[1].tick_params(axis='x', rotation=45)\n",
    "axs[1].grid(False)\n",
    "\n",
    "axs[2].fill_between(cond3_long_y_df_coefs['period'], cond3_long_y_df_coefs['ll_95'], cond3_long_y_df_coefs['ul_95'], color='gray', alpha=0.5)\n",
    "axs[2].plot(cond3_long_y_df_coefs['period'], cond3_long_y_df_coefs['Estimate'], color='black', linewidth=2)\n",
    "axs[2].axvline(x=0, color='red', linestyle='-.', linewidth=1)\n",
    "axs[2].axhline(y=0, color='black', linestyle='--')\n",
    "axs[2].axhline(y=-21, color='green',  linestyle='--')\n",
    "axs[2].set_xlabel(\"Week Relative to ChatGPT Release\", fontsize = 12)\n",
    "axs[2].set_ylabel(\"Content Volume Effect and 95% CI\", fontsize = 12)\n",
    "axs[2].set_title(\"C. Deleted\", fontsize = 17.5)\n",
    "axs[2].tick_params(axis='x', rotation=45)\n",
    "axs[2].grid(False)\n",
    "\n",
    "\n",
    "axs[3].fill_between(cond3_long_df_coefs['period'], cond3_long_df_coefs['ll_95'], cond3_long_df_coefs['ul_95'], color='gray', alpha=0.5)\n",
    "axs[3].plot(cond3_long_df_coefs['period'], cond3_long_df_coefs['Estimate'], color='black', linewidth=2)\n",
    "axs[3].axvline(x=0,     color='red',    linestyle='-.', linewidth=1)\n",
    "axs[3].axhline(y=0,     color='black',  linestyle='--')\n",
    "axs[3].axhline(y=-21, color='green',  linestyle='--')\n",
    "axs[3].set_xlabel(\"Week Relative to ChatGPT Release\", fontsize = 12)\n",
    "axs[3].set_ylabel(\"Content Volume Effect and 95% CI\", fontsize = 12)\n",
    "axs[3].set_title(\"D. Surviving + Deleted\", fontsize = 17.5)\n",
    "axs[3].tick_params(axis='x', rotation=45)\n",
    "axs[3].grid(False)\n",
    "\n",
    "fig.tight_layout()\n",
    "plt.show();"
   ]
  },
  {
   "cell_type": "code",
   "execution_count": null,
   "metadata": {},
   "outputs": [],
   "source": [
    "print(cond3_long_n_df_coefs.loc[cond3_long_n_df_coefs['period'] == 29, 'Estimate'])\n",
    "print(cond3_long_df_coefs.loc[cond3_long_df_coefs['period'] == 29, 'Estimate'])"
   ]
  },
  {
   "cell_type": "code",
   "execution_count": null,
   "metadata": {},
   "outputs": [],
   "source": [
    "### create a figure with multiple subplots\n",
    "sharey = True ## 또는 sharey=False\n",
    "sharex = True ## 또는 sharex=False\n",
    "\n",
    "fig, axs = plt.subplots(1, 3, figsize = (15, 5), sharey=sharey, sharex=sharex)\n",
    "\n",
    "\n",
    "\n",
    "axs[0].fill_between(cond3_long_n_df_coefs['period'], cond3_long_n_df_coefs['ll_95'], cond3_long_n_df_coefs['ul_95'], color='gray', alpha=0.5)\n",
    "axs[0].plot(cond3_long_n_df_coefs['period'], cond3_long_n_df_coefs['Estimate'], color='black', linewidth=2)\n",
    "axs[0].axvline(x=0, color='red', linestyle='-.', linewidth=1)\n",
    "axs[0].axhline(y=0, color='black', linestyle='--')\n",
    "axs[0].axhline(y=-21.5, color='green',  linestyle='--')\n",
    "axs[0].set_xlabel(\"Week Relative to ChatGPT Release\", fontsize = 12)\n",
    "axs[0].set_ylabel(\"Content Volume Effect and 95% CI\", fontsize = 12)\n",
    "axs[0].set_title(\"A. Surviving\", fontsize = 17.5)\n",
    "axs[0].tick_params(axis='x', rotation=45)\n",
    "axs[0].grid(False)\n",
    "\n",
    "axs[1].fill_between(cond3_long_y_df_coefs['period'], cond3_long_y_df_coefs['ll_95'], cond3_long_y_df_coefs['ul_95'], color='gray', alpha=0.5)\n",
    "axs[1].plot(cond3_long_y_df_coefs['period'], cond3_long_y_df_coefs['Estimate'], color='black', linewidth=2)\n",
    "axs[1].axvline(x=0, color='red', linestyle='-.', linewidth=1)\n",
    "axs[1].axhline(y=0, color='black', linestyle='--')\n",
    "axs[1].axhline(y=-21, color='green',  linestyle='--')\n",
    "axs[1].set_xlabel(\"Week Relative to ChatGPT Release\", fontsize = 12)\n",
    "axs[1].set_ylabel(\"Content Volume Effect and 95% CI\", fontsize = 12)\n",
    "axs[1].set_title(\"B. Deleted\", fontsize = 17.5)\n",
    "axs[1].tick_params(axis='x', rotation=45)\n",
    "axs[1].grid(False)\n",
    "\n",
    "\n",
    "axs[2].fill_between(cond3_long_df_coefs['period'], cond3_long_df_coefs['ll_95'], cond3_long_df_coefs['ul_95'], color='gray', alpha=0.5)\n",
    "axs[2].plot(cond3_long_df_coefs['period'], cond3_long_df_coefs['Estimate'], color='black', linewidth=2)\n",
    "axs[2].axvline(x=0,     color='red',    linestyle='-.', linewidth=1)\n",
    "axs[2].axhline(y=0,     color='black',  linestyle='--')\n",
    "axs[2].axhline(y=-21, color='green',  linestyle='--')\n",
    "axs[2].set_xlabel(\"Week Relative to ChatGPT Release\", fontsize = 12)\n",
    "axs[2].set_ylabel(\"Content Volume Effect and 95% CI\", fontsize = 12)\n",
    "axs[2].set_title(\"C. Surviving + Deleted\", fontsize = 17.5)\n",
    "axs[2].tick_params(axis='x', rotation=45)\n",
    "axs[2].grid(False)\n",
    "\n",
    "fig.tight_layout()\n",
    "plt.show();"
   ]
  },
  {
   "cell_type": "code",
   "execution_count": null,
   "metadata": {},
   "outputs": [],
   "source": []
  }
 ],
 "metadata": {
  "kernelspec": {
   "display_name": "Python 3",
   "language": "python",
   "name": "python3"
  },
  "language_info": {
   "codemirror_mode": {
    "name": "ipython",
    "version": 3
   },
   "file_extension": ".py",
   "mimetype": "text/x-python",
   "name": "python",
   "nbconvert_exporter": "python",
   "pygments_lexer": "ipython3",
   "version": "3.9.6"
  }
 },
 "nbformat": 4,
 "nbformat_minor": 4
}
