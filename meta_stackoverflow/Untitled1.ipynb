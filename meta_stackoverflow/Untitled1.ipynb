{
 "cells": [
  {
   "cell_type": "code",
   "execution_count": 2,
   "metadata": {},
   "outputs": [],
   "source": [
    "# xml 파일 파싱을 위해 패키지 첨부\n",
    "import xml.etree.ElementTree as et \n",
    "\n",
    "import networkx as nx\n",
    "from networkx.algorithms import bipartite\n",
    "import numpy as np\n",
    "import pandas as pd\n",
    "import matplotlib.pyplot as plt\n",
    "%matplotlib inline\n",
    "import datetime\n",
    "import seaborn as sns\n",
    "from sklearn.preprocessing import MinMaxScaler\n",
    "from itertools import combinations\n",
    "\n",
    "import warnings\n",
    "warnings.filterwarnings(action='ignore')\n",
    "# scale 전처리를 위한 패키지 첨부  \n",
    "from sklearn.preprocessing import MinMaxScaler, StandardScaler"
   ]
  },
  {
   "cell_type": "code",
   "execution_count": 3,
   "metadata": {},
   "outputs": [],
   "source": [
    "xtree = et.parse(\"/Users/boysbeanxious/Downloads/article/metastackoverflowcom/Posts.xml\")\n",
    "xroot = xtree.getroot()"
   ]
  },
  {
   "cell_type": "code",
   "execution_count": 4,
   "metadata": {},
   "outputs": [],
   "source": [
    "arr=[]\n",
    "# xml의 node를 대상으로\n",
    "for node in xroot: \n",
    "    # 노드의 key 값을 arr리스트에 붙여넣기     \n",
    "    arr.extend(list(node.attrib.keys()))\n",
    "# 중복을 제거하여 xml의 컬럼 정보를 arr 배열에 저장\n",
    "arr = list(set(arr))"
   ]
  },
  {
   "cell_type": "code",
   "execution_count": 5,
   "metadata": {},
   "outputs": [],
   "source": [
    "df = pd.DataFrame()\n",
    "tot_arr = []\n",
    "# xml의 node를 대상으로\n",
    "for node in xroot: \n",
    "    # 이전 셀에서 만든 컬럼정보를 기반으로 데이터프레임의 한 행을 tmp_arr에 저장     \n",
    "    tmp_arr = [node.attrib.get(column) if node is not np.NaN else None for column in arr]\n",
    "    # tmp_arr을 tot_arr에 append\n",
    "    tot_arr.append(tmp_arr)"
   ]
  },
  {
   "cell_type": "code",
   "execution_count": 6,
   "metadata": {},
   "outputs": [],
   "source": [
    "post_df = pd.DataFrame(tot_arr, columns =arr)"
   ]
  },
  {
   "cell_type": "code",
   "execution_count": 11,
   "metadata": {},
   "outputs": [
    {
     "data": {
      "text/plain": [
       "Index(['Title', 'LastActivityDate', 'AnswerCount', 'OwnerDisplayName',\n",
       "       'OwnerUserId', 'Tags', 'ClosedDate', 'CommunityOwnedDate',\n",
       "       'ContentLicense', 'Score', 'LastEditDate', 'Id', 'LastEditorUserId',\n",
       "       'AcceptedAnswerId', 'ViewCount', 'PostTypeId', 'FavoriteCount',\n",
       "       'LastEditorDisplayName', 'CreationDate', 'Body', 'CommentCount',\n",
       "       'ParentId'],\n",
       "      dtype='object')"
      ]
     },
     "execution_count": 11,
     "metadata": {},
     "output_type": "execute_result"
    }
   ],
   "source": [
    "post_df.columns"
   ]
  },
  {
   "cell_type": "code",
   "execution_count": 12,
   "metadata": {},
   "outputs": [
    {
     "data": {
      "text/plain": [
       "111987    2022-12-05T05:34:36.263\n",
       "Name: CreationDate, dtype: object"
      ]
     },
     "execution_count": 12,
     "metadata": {},
     "output_type": "execute_result"
    }
   ],
   "source": [
    "post_df.loc[post_df['Id'] == '421831', 'CreationDate']"
   ]
  },
  {
   "cell_type": "code",
   "execution_count": null,
   "metadata": {},
   "outputs": [],
   "source": []
  }
 ],
 "metadata": {
  "kernelspec": {
   "display_name": "Python 3",
   "language": "python",
   "name": "python3"
  },
  "language_info": {
   "codemirror_mode": {
    "name": "ipython",
    "version": 3
   },
   "file_extension": ".py",
   "mimetype": "text/x-python",
   "name": "python",
   "nbconvert_exporter": "python",
   "pygments_lexer": "ipython3",
   "version": "3.7.6"
  }
 },
 "nbformat": 4,
 "nbformat_minor": 4
}
