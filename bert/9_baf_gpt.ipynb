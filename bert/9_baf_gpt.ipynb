{
 "cells": [
  {
   "cell_type": "markdown",
   "metadata": {},
   "source": [
    "전체 임베딩 저장 "
   ]
  },
  {
   "cell_type": "code",
   "execution_count": 1,
   "metadata": {},
   "outputs": [
    {
     "name": "stderr",
     "output_type": "stream",
     "text": [
      "/Users/cslab/anaconda3/lib/python3.11/site-packages/transformers/utils/generic.py:260: UserWarning: torch.utils._pytree._register_pytree_node is deprecated. Please use torch.utils._pytree.register_pytree_node instead.\n",
      "  torch.utils._pytree._register_pytree_node(\n"
     ]
    }
   ],
   "source": [
    "import pandas as pd\n",
    "import seaborn as sns\n",
    "import matplotlib.pyplot as plt\n",
    "import numpy as np\n",
    "from transformers import RobertaTokenizer, RobertaConfig, RobertaModel\n",
    "from collections.abc import Iterable\n",
    "from transformers import AutoTokenizer, AutoModel\n",
    "import torch\n",
    "from collections import deque\n",
    "from tqdm import tqdm\n",
    "import pickle\n",
    "import re\n",
    "from itertools import product"
   ]
  },
  {
   "cell_type": "markdown",
   "metadata": {},
   "source": [
    "임베딩 만드는 소스 코드 (챗지피티 전후로의 임베딩)"
   ]
  },
  {
   "cell_type": "code",
   "execution_count": 2,
   "metadata": {},
   "outputs": [],
   "source": [
    "# 파일 불러오기\n",
    "with open('../../data/bert_src_df.pkl', 'rb') as f:\n",
    "    bert_src_df = pickle.load(f)\n"
   ]
  },
  {
   "cell_type": "code",
   "execution_count": 3,
   "metadata": {},
   "outputs": [
    {
     "name": "stdout",
     "output_type": "stream",
     "text": [
      "<class 'pandas.core.frame.DataFrame'>\n",
      "RangeIndex: 5227010 entries, 0 to 5227009\n",
      "Data columns (total 5 columns):\n",
      " #   Column          Dtype         \n",
      "---  ------          -----         \n",
      " 0   q_id            int64         \n",
      " 1   a_id            float64       \n",
      " 2   q_creationdate  datetime64[ns]\n",
      " 3   tags            object        \n",
      " 4   body            object        \n",
      "dtypes: datetime64[ns](1), float64(1), int64(1), object(2)\n",
      "memory usage: 199.4+ MB\n"
     ]
    }
   ],
   "source": [
    "bert_src_df.info()"
   ]
  },
  {
   "cell_type": "code",
   "execution_count": 4,
   "metadata": {},
   "outputs": [],
   "source": [
    "cond1 = bert_src_df['q_creationdate']<='2022-11-30'\n",
    "cond2 = bert_src_df['q_creationdate']>='2021-11-30'\n",
    "cond3 = bert_src_df['a_id'].isna()\n",
    "cond4 = bert_src_df['tags'].str.contains('python')\n",
    "cond5 = bert_src_df['q_creationdate']>='2022-12-01'"
   ]
  },
  {
   "cell_type": "code",
   "execution_count": 5,
   "metadata": {},
   "outputs": [],
   "source": [
    "bert_src = bert_src_df.loc[cond2 & cond4, :]"
   ]
  },
  {
   "cell_type": "code",
   "execution_count": 6,
   "metadata": {},
   "outputs": [
    {
     "data": {
      "text/html": [
       "<div>\n",
       "<style scoped>\n",
       "    .dataframe tbody tr th:only-of-type {\n",
       "        vertical-align: middle;\n",
       "    }\n",
       "\n",
       "    .dataframe tbody tr th {\n",
       "        vertical-align: top;\n",
       "    }\n",
       "\n",
       "    .dataframe thead th {\n",
       "        text-align: right;\n",
       "    }\n",
       "</style>\n",
       "<table border=\"1\" class=\"dataframe\">\n",
       "  <thead>\n",
       "    <tr style=\"text-align: right;\">\n",
       "      <th></th>\n",
       "      <th>q_id</th>\n",
       "      <th>a_id</th>\n",
       "      <th>q_creationdate</th>\n",
       "      <th>tags</th>\n",
       "      <th>body</th>\n",
       "    </tr>\n",
       "  </thead>\n",
       "  <tbody>\n",
       "    <tr>\n",
       "      <th>1</th>\n",
       "      <td>76125232</td>\n",
       "      <td>NaN</td>\n",
       "      <td>2023-04-27 23:10:20.003</td>\n",
       "      <td>&lt;python&gt;&lt;python-3.x&gt;&lt;django&gt;&lt;django-rest-frame...</td>\n",
       "      <td>&lt;p&gt;Perfoming a crud api rest in django rest fr...</td>\n",
       "    </tr>\n",
       "    <tr>\n",
       "      <th>3</th>\n",
       "      <td>72041563</td>\n",
       "      <td>72041734.0</td>\n",
       "      <td>2022-04-28 09:50:22.723</td>\n",
       "      <td>&lt;python&gt;&lt;pandas&gt;&lt;dataframe&gt;</td>\n",
       "      <td>&lt;p&gt;I want to replace some strings in a column ...</td>\n",
       "    </tr>\n",
       "    <tr>\n",
       "      <th>4</th>\n",
       "      <td>70538493</td>\n",
       "      <td>70637062.0</td>\n",
       "      <td>2021-12-31 02:31:59.197</td>\n",
       "      <td>&lt;python&gt;&lt;selenium&gt;&lt;google-chrome&gt;&lt;selenium-chr...</td>\n",
       "      <td>&lt;p&gt;I have a selenium script that I execute in ...</td>\n",
       "    </tr>\n",
       "    <tr>\n",
       "      <th>5</th>\n",
       "      <td>70538493</td>\n",
       "      <td>70642594.0</td>\n",
       "      <td>2021-12-31 02:31:59.197</td>\n",
       "      <td>&lt;python&gt;&lt;selenium&gt;&lt;google-chrome&gt;&lt;selenium-chr...</td>\n",
       "      <td>&lt;p&gt;I have a selenium script that I execute in ...</td>\n",
       "    </tr>\n",
       "    <tr>\n",
       "      <th>26</th>\n",
       "      <td>76917614</td>\n",
       "      <td>76918200.0</td>\n",
       "      <td>2023-08-16 23:26:19.093</td>\n",
       "      <td>&lt;python&gt;&lt;list&gt;</td>\n",
       "      <td>&lt;p&gt;My list consists on several items:&lt;/p&gt;\\n&lt;pr...</td>\n",
       "    </tr>\n",
       "  </tbody>\n",
       "</table>\n",
       "</div>"
      ],
      "text/plain": [
       "        q_id        a_id          q_creationdate  \\\n",
       "1   76125232         NaN 2023-04-27 23:10:20.003   \n",
       "3   72041563  72041734.0 2022-04-28 09:50:22.723   \n",
       "4   70538493  70637062.0 2021-12-31 02:31:59.197   \n",
       "5   70538493  70642594.0 2021-12-31 02:31:59.197   \n",
       "26  76917614  76918200.0 2023-08-16 23:26:19.093   \n",
       "\n",
       "                                                 tags  \\\n",
       "1   <python><python-3.x><django><django-rest-frame...   \n",
       "3                         <python><pandas><dataframe>   \n",
       "4   <python><selenium><google-chrome><selenium-chr...   \n",
       "5   <python><selenium><google-chrome><selenium-chr...   \n",
       "26                                     <python><list>   \n",
       "\n",
       "                                                 body  \n",
       "1   <p>Perfoming a crud api rest in django rest fr...  \n",
       "3   <p>I want to replace some strings in a column ...  \n",
       "4   <p>I have a selenium script that I execute in ...  \n",
       "5   <p>I have a selenium script that I execute in ...  \n",
       "26  <p>My list consists on several items:</p>\\n<pr...  "
      ]
     },
     "execution_count": 6,
     "metadata": {},
     "output_type": "execute_result"
    }
   ],
   "source": [
    "bert_src.head()"
   ]
  },
  {
   "cell_type": "code",
   "execution_count": 7,
   "metadata": {},
   "outputs": [],
   "source": [
    "def cleanhtml(raw_html):\n",
    "  # 1.Source code in python language is hard to understand, so replace all the <code> tag first\n",
    "  cleantext_1 = re.findall(r'(?<=\\<code>)(.*?)(?=<\\/code>)', raw_html.replace('\\n', '_**_'))\n",
    "  cleantext_1 = [x.replace('_**_', '\\n') for x in cleantext_1]\n",
    "  # 2. replace html tags\n",
    "  # <p>\n",
    "  tag_re = re.compile('<.*?>')\n",
    "  cleantext_2 = [re.sub(tag_re, '', x) for x in cleantext_1]\n",
    "  return cleantext_2"
   ]
  },
  {
   "cell_type": "code",
   "execution_count": 8,
   "metadata": {},
   "outputs": [
    {
     "name": "stderr",
     "output_type": "stream",
     "text": [
      "/var/folders/lk/t243gzpx379bzd9mvx8dcsmm0000gp/T/ipykernel_17783/291002259.py:2: SettingWithCopyWarning: \n",
      "A value is trying to be set on a copy of a slice from a DataFrame.\n",
      "Try using .loc[row_indexer,col_indexer] = value instead\n",
      "\n",
      "See the caveats in the documentation: https://pandas.pydata.org/pandas-docs/stable/user_guide/indexing.html#returning-a-view-versus-a-copy\n",
      "  bert_src.loc[:, 'q_prep_text'] = bert_src['body'].apply(cleanhtml)\n"
     ]
    }
   ],
   "source": [
    "# apply the function, cleanhtml to the question and body text\n",
    "bert_src.loc[:, 'q_prep_text'] = bert_src['body'].apply(cleanhtml)"
   ]
  },
  {
   "cell_type": "code",
   "execution_count": 9,
   "metadata": {},
   "outputs": [],
   "source": [
    "bert_src = bert_src.reset_index(drop=True)"
   ]
  },
  {
   "cell_type": "code",
   "execution_count": 10,
   "metadata": {},
   "outputs": [],
   "source": [
    "bert_src_ex = bert_src[['q_id', 'q_prep_text']].apply(pd.Series.explode)"
   ]
  },
  {
   "cell_type": "code",
   "execution_count": 11,
   "metadata": {},
   "outputs": [],
   "source": [
    "bert_src_ex.dropna(inplace=True)"
   ]
  },
  {
   "cell_type": "code",
   "execution_count": 12,
   "metadata": {},
   "outputs": [],
   "source": [
    "bert_src = pd.merge(bert_src_ex, bert_src[['q_id', 'q_creationdate']], how ='left', left_on = 'q_id', right_on = 'q_id')"
   ]
  },
  {
   "cell_type": "code",
   "execution_count": 13,
   "metadata": {},
   "outputs": [],
   "source": [
    "bert_src['q_year'] = pd.to_datetime(bert_src['q_creationdate']).dt.year\n",
    "bert_src['q_month'] = pd.to_datetime(bert_src['q_creationdate']).dt.month"
   ]
  },
  {
   "cell_type": "code",
   "execution_count": 14,
   "metadata": {},
   "outputs": [],
   "source": [
    "# PREPROCESSING FOR CODE SCRIPT\n",
    "def preprocess_script(script):\n",
    "    new_script = deque()\n",
    "    old_script = script.split('\\n')\n",
    "    for line in old_script:\n",
    "        if line.lstrip().startswith('#'): # 주석으로 시작되는 행 skip\n",
    "            continue\n",
    "        line = line.rstrip()\n",
    "        if '#' in line:\n",
    "            line = line[:line.index('#')] # 주석 전까지 코드만 저장\n",
    "        line = line.replace('\\n','') # 개행 문자를 모두 삭제함\n",
    "        line = line.replace('    ','\\t') # 공백 4칸을 tab으로 변환\n",
    "        \n",
    "        if line == '': # 전처리 후 빈 라인은 skip\n",
    "            continue\n",
    "        \n",
    "        new_script.append(line)\n",
    "\n",
    "        \n",
    "    new_script = '\\n'.join(new_script) # 개행 문자로 합침\n",
    "    new_script = re.sub('(\"\"\"[\\w\\W]*?\"\"\")', '<str>', new_script)\n",
    "    new_script = re.sub(\"('''[\\w\\W]*?''')\", '<str>', new_script)\n",
    "    new_script = re.sub('/^(http?|https?):\\/\\/([a-z0-9-]+\\.)+[a-z0-9]{2,4}.*$/', '', new_script)\n",
    "    \n",
    "    return new_script\n"
   ]
  },
  {
   "cell_type": "code",
   "execution_count": 15,
   "metadata": {},
   "outputs": [],
   "source": [
    "bert_src['q_prep_text_non'] = bert_src['q_prep_text'].apply(preprocess_script)"
   ]
  },
  {
   "cell_type": "code",
   "execution_count": 16,
   "metadata": {},
   "outputs": [],
   "source": [
    "years = [2022, 2023]\n",
    "months = [x for x in range(1, 13)]"
   ]
  },
  {
   "cell_type": "code",
   "execution_count": 17,
   "metadata": {},
   "outputs": [],
   "source": [
    "ym = list(product(years, months))"
   ]
  },
  {
   "cell_type": "code",
   "execution_count": 18,
   "metadata": {},
   "outputs": [],
   "source": [
    "# CodeBERT 모델과 토크나이저 로드\n",
    "model_name = \"microsoft/codebert-base\"\n",
    "tokenizer = AutoTokenizer.from_pretrained(model_name)\n",
    "model = AutoModel.from_pretrained(model_name)"
   ]
  },
  {
   "cell_type": "code",
   "execution_count": 19,
   "metadata": {},
   "outputs": [],
   "source": [
    "# 임베딩 함수 정의\n",
    "def embed_text(text):\n",
    "    encoded_input = tokenizer(text, padding=True, truncation=True, return_tensors='pt')\n",
    "    with torch.no_grad():\n",
    "        model_output = model(**encoded_input)\n",
    "    return model_output.last_hidden_state[:, 0, :]"
   ]
  },
  {
   "cell_type": "code",
   "execution_count": 32,
   "metadata": {},
   "outputs": [
    {
     "data": {
      "text/plain": [
       "((2022, 10), (2022, 12))"
      ]
     },
     "execution_count": 32,
     "metadata": {},
     "output_type": "execute_result"
    }
   ],
   "source": [
    "ym[9], ym[11]"
   ]
  },
  {
   "cell_type": "code",
   "execution_count": 24,
   "metadata": {},
   "outputs": [
    {
     "name": "stdout",
     "output_type": "stream",
     "text": [
      "2022 11\n"
     ]
    },
    {
     "name": "stderr",
     "output_type": "stream",
     "text": [
      "100%|██████████| 119596/119596 [1:26:07<00:00, 23.14it/s] \n"
     ]
    },
    {
     "name": "stdout",
     "output_type": "stream",
     "text": [
      "2022 12\n"
     ]
    },
    {
     "name": "stderr",
     "output_type": "stream",
     "text": [
      "100%|██████████| 117094/117094 [1:28:03<00:00, 22.16it/s]  \n"
     ]
    }
   ],
   "source": [
    "for year, month in ym[10:12] : \n",
    "    cond1 = (bert_src['q_year'] ==year)\n",
    "    cond2 = (bert_src['q_month'] ==month)\n",
    "    src = bert_src.loc[cond1&cond2, 'q_prep_text_non'].tolist()\n",
    "\n",
    "    print(year, month)\n",
    "    embed_text_list = []\n",
    "    for i in tqdm(range(len(src))) : \n",
    "        embed_text_list.append(embed_text(src[i]))\n",
    "\n",
    "    file_nm = 'embed_text_list'+str(year)+str(month)+'.pkl'\n",
    "    # 전체 데이터셋 \n",
    "    with open('../../data/src/embeding/'+file_nm, 'wb') as f:\n",
    "        pickle.dump(embed_text_list, f)"
   ]
  },
  {
   "cell_type": "code",
   "execution_count": 35,
   "metadata": {},
   "outputs": [
    {
     "name": "stdout",
     "output_type": "stream",
     "text": [
      "2022 10\n"
     ]
    },
    {
     "name": "stderr",
     "output_type": "stream",
     "text": [
      " 30%|██▉       | 38718/130207 [41:39<1:03:31, 24.00it/s] "
     ]
    }
   ],
   "source": [
    "for year, month in ym[9], ym[11] : \n",
    "    cond1 = (bert_src['q_year'] ==year)\n",
    "    cond2 = (bert_src['q_month'] ==month)\n",
    "    src = bert_src.loc[cond1&cond2, 'q_prep_text_non'].tolist()\n",
    "\n",
    "    print(year, month)\n",
    "    embed_text_list = []\n",
    "    for i in tqdm(range(len(src))) : \n",
    "        embed_text_list.append(embed_text(src[i]))\n",
    "\n",
    "    file_nm = 'embed_text_list'+str(year)+str(month)+'.pkl'\n",
    "    # 전체 데이터셋 \n",
    "    with open('../../data/src/embeding/'+file_nm, 'wb') as f:\n",
    "        pickle.dump(embed_text_list, f)"
   ]
  },
  {
   "cell_type": "code",
   "execution_count": null,
   "metadata": {},
   "outputs": [],
   "source": []
  }
 ],
 "metadata": {
  "kernelspec": {
   "display_name": "Python 3",
   "language": "python",
   "name": "python3"
  },
  "language_info": {
   "codemirror_mode": {
    "name": "ipython",
    "version": 3
   },
   "file_extension": ".py",
   "mimetype": "text/x-python",
   "name": "python",
   "nbconvert_exporter": "python",
   "pygments_lexer": "ipython3",
   "version": "3.11.5"
  }
 },
 "nbformat": 4,
 "nbformat_minor": 2
}
