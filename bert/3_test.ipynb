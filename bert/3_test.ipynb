{
 "cells": [
  {
   "cell_type": "code",
   "execution_count": 1,
   "metadata": {},
   "outputs": [
    {
     "name": "stderr",
     "output_type": "stream",
     "text": [
      "/Users/cslab/Library/Python/3.9/lib/python/site-packages/urllib3/__init__.py:35: NotOpenSSLWarning: urllib3 v2 only supports OpenSSL 1.1.1+, currently the 'ssl' module is compiled with 'LibreSSL 2.8.3'. See: https://github.com/urllib3/urllib3/issues/3020\n",
      "  warnings.warn(\n"
     ]
    }
   ],
   "source": [
    "import pandas as pd\n",
    "import seaborn as sns\n",
    "import matplotlib.pyplot as plt\n",
    "import numpy as np\n",
    "import pickle\n",
    "import re\n",
    "import umap.umap_ as umap\n",
    "import torch\n",
    "from transformers import RobertaTokenizer, RobertaConfig, RobertaModel\n",
    "from collections.abc import Iterable\n",
    "from transformers import AutoTokenizer, AutoModel\n",
    "from bertopic import BERTopic\n",
    "from sklearn.datasets import fetch_20newsgroups\n",
    "import torch\n"
   ]
  },
  {
   "cell_type": "code",
   "execution_count": 2,
   "metadata": {},
   "outputs": [],
   "source": [
    "# 파일 불러오기\n",
    "with open('../../data/bert_df.pkl', 'rb') as f:\n",
    "    df = pickle.load(f)\n"
   ]
  },
  {
   "cell_type": "code",
   "execution_count": 3,
   "metadata": {},
   "outputs": [
    {
     "name": "stdout",
     "output_type": "stream",
     "text": [
      "<class 'pandas.core.frame.DataFrame'>\n",
      "RangeIndex: 3487 entries, 0 to 3486\n",
      "Data columns (total 28 columns):\n",
      " #   Column              Non-Null Count  Dtype         \n",
      "---  ------              --------------  -----         \n",
      " 0   q_id                3487 non-null   int64         \n",
      " 1   q_posttypeid        3487 non-null   object        \n",
      " 2   q_acceptedanswerid  1488 non-null   float64       \n",
      " 3   q_parentid          0 non-null      object        \n",
      " 4   q_creationdate      3487 non-null   datetime64[ns]\n",
      " 5   q_score             3487 non-null   int64         \n",
      " 6   q_viewcount         3487 non-null   int64         \n",
      " 7   q_owneruserid       3487 non-null   int64         \n",
      " 8   q_title             3487 non-null   object        \n",
      " 9   q_tags              3487 non-null   object        \n",
      " 10  q_answercount       3487 non-null   int64         \n",
      " 11  q_commentcount      3487 non-null   int64         \n",
      " 12  q_reputation        3487 non-null   int64         \n",
      " 13  q_text              3487 non-null   object        \n",
      " 14  a_id                3487 non-null   int64         \n",
      " 15  a_posttypeid        3487 non-null   object        \n",
      " 16  a_acceptedanswerid  0 non-null      object        \n",
      " 17  a_parentid          3487 non-null   int64         \n",
      " 18  a_creationdate      3487 non-null   datetime64[ns]\n",
      " 19  a_score             3487 non-null   int64         \n",
      " 20  a_viewcount         0 non-null      object        \n",
      " 21  a_owneruserid       3487 non-null   int64         \n",
      " 22  a_title             0 non-null      object        \n",
      " 23  a_tags              0 non-null      object        \n",
      " 24  a_answercount       0 non-null      object        \n",
      " 25  a_commentcount      3487 non-null   int64         \n",
      " 26  a_reputation        3487 non-null   int64         \n",
      " 27  a_text              3487 non-null   object        \n",
      "dtypes: datetime64[ns](2), float64(1), int64(13), object(12)\n",
      "memory usage: 762.9+ KB\n"
     ]
    }
   ],
   "source": [
    "df.info()"
   ]
  },
  {
   "cell_type": "code",
   "execution_count": 4,
   "metadata": {},
   "outputs": [],
   "source": [
    "# extract the  columns for text analysis\n",
    "## q_body : question body\n",
    "## a_body : answer body\n",
    "df_qna = df[['q_id','a_id','q_text', 'a_text']]"
   ]
  },
  {
   "cell_type": "code",
   "execution_count": 5,
   "metadata": {},
   "outputs": [
    {
     "name": "stdout",
     "output_type": "stream",
     "text": [
      "<class 'pandas.core.frame.DataFrame'>\n",
      "RangeIndex: 3487 entries, 0 to 3486\n",
      "Data columns (total 4 columns):\n",
      " #   Column  Non-Null Count  Dtype \n",
      "---  ------  --------------  ----- \n",
      " 0   q_id    3487 non-null   int64 \n",
      " 1   a_id    3487 non-null   int64 \n",
      " 2   q_text  3487 non-null   object\n",
      " 3   a_text  3487 non-null   object\n",
      "dtypes: int64(2), object(2)\n",
      "memory usage: 109.1+ KB\n"
     ]
    }
   ],
   "source": [
    "df_qna.info()"
   ]
  },
  {
   "cell_type": "code",
   "execution_count": 6,
   "metadata": {},
   "outputs": [],
   "source": [
    "def cleanhtml(raw_html):\n",
    "  # 1.Source code in python language is hard to understand, so replace all the <code> tag first\n",
    "  cleantext_1 = re.findall(r'(?<=\\<code>)(.*?)(?=<\\/code>)', raw_html.replace('\\n', '_**_'))\n",
    "  cleantext_1 = [x.replace('_**_', '\\n') for x in cleantext_1]\n",
    "  # 2. replace html tags\n",
    "  # <p>\n",
    "  tag_re = re.compile('<.*?>')\n",
    "  cleantext_2 = [re.sub(tag_re, '', x) for x in cleantext_1]\n",
    "  return cleantext_2"
   ]
  },
  {
   "cell_type": "code",
   "execution_count": 7,
   "metadata": {},
   "outputs": [],
   "source": [
    "# apply the function, cleanhtml to the question and body text\n",
    "df_qna.loc[:, 'q_prep_text'] = df_qna['q_text'].apply(cleanhtml)\n",
    "df_qna.loc[:, 'a_prep_text'] = df_qna['a_text'].apply(cleanhtml)"
   ]
  },
  {
   "cell_type": "code",
   "execution_count": 8,
   "metadata": {},
   "outputs": [
    {
     "data": {
      "text/html": [
       "<div>\n",
       "<style scoped>\n",
       "    .dataframe tbody tr th:only-of-type {\n",
       "        vertical-align: middle;\n",
       "    }\n",
       "\n",
       "    .dataframe tbody tr th {\n",
       "        vertical-align: top;\n",
       "    }\n",
       "\n",
       "    .dataframe thead th {\n",
       "        text-align: right;\n",
       "    }\n",
       "</style>\n",
       "<table border=\"1\" class=\"dataframe\">\n",
       "  <thead>\n",
       "    <tr style=\"text-align: right;\">\n",
       "      <th></th>\n",
       "      <th>q_id</th>\n",
       "      <th>q_prep_text</th>\n",
       "      <th>a_prep_text</th>\n",
       "    </tr>\n",
       "  </thead>\n",
       "  <tbody>\n",
       "    <tr>\n",
       "      <th>0</th>\n",
       "      <td>77593805</td>\n",
       "      <td>[]</td>\n",
       "      <td>[n = 20000\\nsum_of_numbers = (n * (n + 1)) // ...</td>\n",
       "    </tr>\n",
       "    <tr>\n",
       "      <th>1</th>\n",
       "      <td>77593717</td>\n",
       "      <td>[import hashlib\\n\\nuser_hash_dict = {}\\n\\nwith...</td>\n",
       "      <td>[from hashlib import sha256 as SHA256\\n\\ncpd =...</td>\n",
       "    </tr>\n",
       "    <tr>\n",
       "      <th>2</th>\n",
       "      <td>77591118</td>\n",
       "      <td>[London:Alpha\\nLondon\\nLondon:Beta\\nLondon:Del...</td>\n",
       "      <td>[s = pd.Series(['London:Alpha', 'London', 'Lon...</td>\n",
       "    </tr>\n",
       "    <tr>\n",
       "      <th>3</th>\n",
       "      <td>77590853</td>\n",
       "      <td>[-v, -o, -A, --script, -Pn, -IL]</td>\n",
       "      <td>[pip install python-nmap\\n,  import nmap\\n\\nde...</td>\n",
       "    </tr>\n",
       "    <tr>\n",
       "      <th>4</th>\n",
       "      <td>77591142</td>\n",
       "      <td>[]</td>\n",
       "      <td>[]</td>\n",
       "    </tr>\n",
       "    <tr>\n",
       "      <th>...</th>\n",
       "      <td>...</td>\n",
       "      <td>...</td>\n",
       "      <td>...</td>\n",
       "    </tr>\n",
       "    <tr>\n",
       "      <th>3482</th>\n",
       "      <td>77581497</td>\n",
       "      <td>[df\\n\\nDevice  int   In   Out  Bw_in  Bw_out\\n...</td>\n",
       "      <td>[duckdb, import duckdb\\n\\nconn = duckdb.connec...</td>\n",
       "    </tr>\n",
       "    <tr>\n",
       "      <th>3483</th>\n",
       "      <td>77580251</td>\n",
       "      <td>[55297173-0087-1  \\n56397873-0186  \\n57885358-...</td>\n",
       "      <td>[   df=pd.DataFrame([x.strip() for x in '''552...</td>\n",
       "    </tr>\n",
       "    <tr>\n",
       "      <th>3484</th>\n",
       "      <td>77567490</td>\n",
       "      <td>[onnxruntime-silicon, onnxruntime, Flask, # Se...</td>\n",
       "      <td>[load_model, post_worker_init, sess = None\\n\\n...</td>\n",
       "    </tr>\n",
       "    <tr>\n",
       "      <th>3485</th>\n",
       "      <td>77582066</td>\n",
       "      <td>[]</td>\n",
       "      <td>[Day, Store ID, Worker ID, # create datetime o...</td>\n",
       "    </tr>\n",
       "    <tr>\n",
       "      <th>3486</th>\n",
       "      <td>77582066</td>\n",
       "      <td>[]</td>\n",
       "      <td>[shifts['Day'] = pd.to_datetime(shifts['Day'])...</td>\n",
       "    </tr>\n",
       "  </tbody>\n",
       "</table>\n",
       "<p>3487 rows × 3 columns</p>\n",
       "</div>"
      ],
      "text/plain": [
       "          q_id                                        q_prep_text  \\\n",
       "0     77593805                                                 []   \n",
       "1     77593717  [import hashlib\\n\\nuser_hash_dict = {}\\n\\nwith...   \n",
       "2     77591118  [London:Alpha\\nLondon\\nLondon:Beta\\nLondon:Del...   \n",
       "3     77590853                   [-v, -o, -A, --script, -Pn, -IL]   \n",
       "4     77591142                                                 []   \n",
       "...        ...                                                ...   \n",
       "3482  77581497  [df\\n\\nDevice  int   In   Out  Bw_in  Bw_out\\n...   \n",
       "3483  77580251  [55297173-0087-1  \\n56397873-0186  \\n57885358-...   \n",
       "3484  77567490  [onnxruntime-silicon, onnxruntime, Flask, # Se...   \n",
       "3485  77582066                                                 []   \n",
       "3486  77582066                                                 []   \n",
       "\n",
       "                                            a_prep_text  \n",
       "0     [n = 20000\\nsum_of_numbers = (n * (n + 1)) // ...  \n",
       "1     [from hashlib import sha256 as SHA256\\n\\ncpd =...  \n",
       "2     [s = pd.Series(['London:Alpha', 'London', 'Lon...  \n",
       "3     [pip install python-nmap\\n,  import nmap\\n\\nde...  \n",
       "4                                                    []  \n",
       "...                                                 ...  \n",
       "3482  [duckdb, import duckdb\\n\\nconn = duckdb.connec...  \n",
       "3483  [   df=pd.DataFrame([x.strip() for x in '''552...  \n",
       "3484  [load_model, post_worker_init, sess = None\\n\\n...  \n",
       "3485  [Day, Store ID, Worker ID, # create datetime o...  \n",
       "3486  [shifts['Day'] = pd.to_datetime(shifts['Day'])...  \n",
       "\n",
       "[3487 rows x 3 columns]"
      ]
     },
     "execution_count": 8,
     "metadata": {},
     "output_type": "execute_result"
    }
   ],
   "source": [
    "df_qna.loc[:, [ 'q_id','q_prep_text', 'a_prep_text']] "
   ]
  },
  {
   "cell_type": "code",
   "execution_count": 9,
   "metadata": {},
   "outputs": [],
   "source": [
    "df_q_src = df_qna[['q_id', 'q_prep_text']].apply(pd.Series.explode)\n",
    "df_a_src = df_qna[['a_id', 'a_prep_text']].apply(pd.Series.explode)"
   ]
  },
  {
   "cell_type": "code",
   "execution_count": 10,
   "metadata": {},
   "outputs": [],
   "source": [
    "df_q_src = df_q_src.reset_index(drop=True)\n",
    "df_a_src = df_a_src.reset_index(drop=True)"
   ]
  },
  {
   "cell_type": "code",
   "execution_count": 11,
   "metadata": {},
   "outputs": [],
   "source": [
    "df_q_src.dropna(inplace=True)\n",
    "df_q_src['q_prep_text_non'] = df_q_src['q_prep_text'].str.replace('\\n', ' ')"
   ]
  },
  {
   "cell_type": "code",
   "execution_count": 12,
   "metadata": {},
   "outputs": [
    {
     "data": {
      "text/plain": [
       "1        import hashlib  user_hash_dict = {}  with open...\n",
       "2        London:Alpha London London:Beta London:Delta P...\n",
       "3        London_sub:Alpha London_sub London_sub:Beta Lo...\n",
       "4        names_df[0] = names_df[0] \\         .str.split...\n",
       "5                                     L:o:n:d:o:n:_:s:u:b \n",
       "                               ...                        \n",
       "11467    class GunicornApplication(BaseApplication):   ...\n",
       "11468    if __name__ == '__main__':     options = {'bin...\n",
       "11469    &gt;&gt;&gt; [ERROR] Worker (pid:10517) was se...\n",
       "11470    &gt;&gt;&gt; requests.exceptions.ConnectionErr...\n",
       "11471                                             Gunicorn\n",
       "Name: q_prep_text_non, Length: 11171, dtype: object"
      ]
     },
     "execution_count": 12,
     "metadata": {},
     "output_type": "execute_result"
    }
   ],
   "source": [
    "df_q_src['q_prep_text_non']"
   ]
  },
  {
   "cell_type": "code",
   "execution_count": 13,
   "metadata": {},
   "outputs": [],
   "source": [
    "src = df_q_src['q_prep_text_non'].tolist()\n",
    "# df['sentiments'].values.tolist()\n"
   ]
  },
  {
   "cell_type": "code",
   "execution_count": 14,
   "metadata": {},
   "outputs": [
    {
     "name": "stdout",
     "output_type": "stream",
     "text": [
      "<class 'list'>\n",
      "<class 'str'>\n",
      "11171\n"
     ]
    }
   ],
   "source": [
    "print(type(src))\n",
    "print(type(src[0]))\n",
    "print(len(src))"
   ]
  },
  {
   "cell_type": "code",
   "execution_count": 15,
   "metadata": {},
   "outputs": [],
   "source": [
    "src = src[:100]"
   ]
  },
  {
   "cell_type": "code",
   "execution_count": 16,
   "metadata": {},
   "outputs": [],
   "source": [
    "# 데이터 로드\n",
    "data = src"
   ]
  },
  {
   "cell_type": "code",
   "execution_count": 17,
   "metadata": {},
   "outputs": [],
   "source": [
    "data = data"
   ]
  },
  {
   "cell_type": "code",
   "execution_count": 18,
   "metadata": {},
   "outputs": [],
   "source": [
    "# CodeBERT 모델과 토크나이저 로드\n",
    "model_name = \"microsoft/codebert-base\"\n",
    "tokenizer = AutoTokenizer.from_pretrained(model_name)\n",
    "model = AutoModel.from_pretrained(model_name)"
   ]
  },
  {
   "cell_type": "code",
   "execution_count": 19,
   "metadata": {},
   "outputs": [],
   "source": [
    "# 임베딩 함수 정의\n",
    "def embed_text(text):\n",
    "    encoded_input = tokenizer(text, padding=True, truncation=True, max_length=512, return_tensors='pt')\n",
    "    with torch.no_grad():\n",
    "        model_output = model(**encoded_input)\n",
    "    return model_output.last_hidden_state[:, 0, :]"
   ]
  },
  {
   "cell_type": "code",
   "execution_count": 20,
   "metadata": {},
   "outputs": [],
   "source": [
    "# 모든 텍스트에 대한 임베딩 계산\n",
    "embeddings = torch.cat([embed_text(text) for text in data], dim=0).numpy()  # 텐서로 연결 후 numpy 배열로 변환"
   ]
  },
  {
   "cell_type": "code",
   "execution_count": 21,
   "metadata": {},
   "outputs": [
    {
     "name": "stderr",
     "output_type": "stream",
     "text": [
      "huggingface/tokenizers: The current process just got forked, after parallelism has already been used. Disabling parallelism to avoid deadlocks...\n",
      "To disable this warning, you can either:\n",
      "\t- Avoid using `tokenizers` before the fork if possible\n",
      "\t- Explicitly set the environment variable TOKENIZERS_PARALLELISM=(true | false)\n"
     ]
    }
   ],
   "source": [
    "\n",
    "# BERTopic 모델 초기화 및 훈련\n",
    "topic_model = BERTopic()  # 임베딩 모델 사용을 비활성화\n",
    "topics, probabilities = topic_model.fit_transform(data, embeddings)\n"
   ]
  },
  {
   "cell_type": "code",
   "execution_count": 22,
   "metadata": {},
   "outputs": [
    {
     "name": "stdout",
     "output_type": "stream",
     "text": [
      "   Topic  Count                         Name  \\\n",
      "0     -1     10  -1_namesdf0_hash_for_import   \n",
      "\n",
      "                                      Representation  \\\n",
      "0  [namesdf0, hash, for, import, columninteger, i...   \n",
      "\n",
      "                                 Representative_Docs  \n",
      "0  [-v, -o, -A, --script, -Pn, import hashlib  us...  \n"
     ]
    }
   ],
   "source": [
    "# 결과 출력\n",
    "print(topic_model.get_topic_info())  # 토픽 정보 출력"
   ]
  },
  {
   "cell_type": "code",
   "execution_count": 23,
   "metadata": {},
   "outputs": [
    {
     "data": {
      "text/html": [
       "<div>\n",
       "<style scoped>\n",
       "    .dataframe tbody tr th:only-of-type {\n",
       "        vertical-align: middle;\n",
       "    }\n",
       "\n",
       "    .dataframe tbody tr th {\n",
       "        vertical-align: top;\n",
       "    }\n",
       "\n",
       "    .dataframe thead th {\n",
       "        text-align: right;\n",
       "    }\n",
       "</style>\n",
       "<table border=\"1\" class=\"dataframe\">\n",
       "  <thead>\n",
       "    <tr style=\"text-align: right;\">\n",
       "      <th></th>\n",
       "      <th>Topic</th>\n",
       "      <th>Count</th>\n",
       "      <th>Name</th>\n",
       "      <th>Representation</th>\n",
       "      <th>Representative_Docs</th>\n",
       "    </tr>\n",
       "  </thead>\n",
       "  <tbody>\n",
       "    <tr>\n",
       "      <th>0</th>\n",
       "      <td>-1</td>\n",
       "      <td>10</td>\n",
       "      <td>-1_namesdf0_hash_for_import</td>\n",
       "      <td>[namesdf0, hash, for, import, columninteger, i...</td>\n",
       "      <td>[-v, -o, -A, --script, -Pn, import hashlib  us...</td>\n",
       "    </tr>\n",
       "  </tbody>\n",
       "</table>\n",
       "</div>"
      ],
      "text/plain": [
       "   Topic  Count                         Name  \\\n",
       "0     -1     10  -1_namesdf0_hash_for_import   \n",
       "\n",
       "                                      Representation  \\\n",
       "0  [namesdf0, hash, for, import, columninteger, i...   \n",
       "\n",
       "                                 Representative_Docs  \n",
       "0  [-v, -o, -A, --script, -Pn, import hashlib  us...  "
      ]
     },
     "execution_count": 23,
     "metadata": {},
     "output_type": "execute_result"
    }
   ],
   "source": [
    "topic_model.get_topic_info()"
   ]
  },
  {
   "cell_type": "code",
   "execution_count": null,
   "metadata": {},
   "outputs": [],
   "source": []
  }
 ],
 "metadata": {
  "kernelspec": {
   "display_name": "Python 3",
   "language": "python",
   "name": "python3"
  },
  "language_info": {
   "codemirror_mode": {
    "name": "ipython",
    "version": 3
   },
   "file_extension": ".py",
   "mimetype": "text/x-python",
   "name": "python",
   "nbconvert_exporter": "python",
   "pygments_lexer": "ipython3",
   "version": "3.9.6"
  }
 },
 "nbformat": 4,
 "nbformat_minor": 2
}
