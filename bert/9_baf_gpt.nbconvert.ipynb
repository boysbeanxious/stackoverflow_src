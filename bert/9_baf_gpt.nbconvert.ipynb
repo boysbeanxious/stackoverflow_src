{
 "cells": [
  {
   "cell_type": "code",
   "execution_count": 1,
   "metadata": {
    "execution": {
     "iopub.execute_input": "2024-05-28T04:25:08.435186Z",
     "iopub.status.busy": "2024-05-28T04:25:08.434689Z",
     "iopub.status.idle": "2024-05-28T04:25:09.631784Z",
     "shell.execute_reply": "2024-05-28T04:25:09.631456Z"
    }
   },
   "outputs": [
    {
     "name": "stderr",
     "output_type": "stream",
     "text": [
      "/Users/cslab/Library/Python/3.9/lib/python/site-packages/urllib3/__init__.py:35: NotOpenSSLWarning: urllib3 v2 only supports OpenSSL 1.1.1+, currently the 'ssl' module is compiled with 'LibreSSL 2.8.3'. See: https://github.com/urllib3/urllib3/issues/3020\n",
      "  warnings.warn(\n"
     ]
    }
   ],
   "source": [
    "import pandas as pd\n",
    "import seaborn as sns\n",
    "import matplotlib.pyplot as plt\n",
    "import numpy as np\n",
    "from transformers import RobertaTokenizer, RobertaConfig, RobertaModel\n",
    "from collections.abc import Iterable\n",
    "from transformers import AutoTokenizer, AutoModel\n",
    "import torch\n",
    "from collections import deque\n",
    "from tqdm import tqdm\n",
    "import pickle\n",
    "import re"
   ]
  },
  {
   "cell_type": "code",
   "execution_count": 2,
   "metadata": {
    "execution": {
     "iopub.execute_input": "2024-05-28T04:25:09.650788Z",
     "iopub.status.busy": "2024-05-28T04:25:09.650178Z",
     "iopub.status.idle": "2024-05-28T04:25:12.871295Z",
     "shell.execute_reply": "2024-05-28T04:25:12.871011Z"
    }
   },
   "outputs": [],
   "source": [
    "# 파일 불러오기\n",
    "with open('../../data/bert_src_df.pkl', 'rb') as f:\n",
    "    bert_src_df = pickle.load(f)\n"
   ]
  },
  {
   "cell_type": "code",
   "execution_count": 3,
   "metadata": {
    "execution": {
     "iopub.execute_input": "2024-05-28T04:25:12.872769Z",
     "iopub.status.busy": "2024-05-28T04:25:12.872696Z",
     "iopub.status.idle": "2024-05-28T04:25:12.876447Z",
     "shell.execute_reply": "2024-05-28T04:25:12.876208Z"
    }
   },
   "outputs": [
    {
     "name": "stdout",
     "output_type": "stream",
     "text": [
      "<class 'pandas.core.frame.DataFrame'>\n",
      "RangeIndex: 5223203 entries, 0 to 5223202\n",
      "Data columns (total 5 columns):\n",
      " #   Column          Dtype         \n",
      "---  ------          -----         \n",
      " 0   q_id            int64         \n",
      " 1   a_id            float64       \n",
      " 2   q_creationdate  datetime64[ns]\n",
      " 3   tags            object        \n",
      " 4   body            object        \n",
      "dtypes: datetime64[ns](1), float64(1), int64(1), object(2)\n",
      "memory usage: 199.2+ MB\n"
     ]
    }
   ],
   "source": [
    "bert_src_df.info()"
   ]
  },
  {
   "cell_type": "code",
   "execution_count": 4,
   "metadata": {
    "execution": {
     "iopub.execute_input": "2024-05-28T04:25:12.877585Z",
     "iopub.status.busy": "2024-05-28T04:25:12.877511Z",
     "iopub.status.idle": "2024-05-28T04:25:13.626742Z",
     "shell.execute_reply": "2024-05-28T04:25:13.626480Z"
    }
   },
   "outputs": [],
   "source": [
    "cond1 = bert_src_df['q_creationdate']<='2022-11-30'\n",
    "cond2 = bert_src_df['q_creationdate']>='2021-11-30'\n",
    "cond3 = bert_src_df['a_id'].isna()\n",
    "cond4 = bert_src_df['tags'].str.contains('python')\n",
    "cond5 = bert_src_df['q_creationdate']>='2022-12-01'"
   ]
  },
  {
   "cell_type": "code",
   "execution_count": 5,
   "metadata": {
    "execution": {
     "iopub.execute_input": "2024-05-28T04:25:13.628184Z",
     "iopub.status.busy": "2024-05-28T04:25:13.628113Z",
     "iopub.status.idle": "2024-05-28T04:25:13.663149Z",
     "shell.execute_reply": "2024-05-28T04:25:13.662894Z"
    }
   },
   "outputs": [],
   "source": [
    "bert_src = bert_src_df.loc[cond2 & cond4, :]"
   ]
  },
  {
   "cell_type": "code",
   "execution_count": 6,
   "metadata": {
    "execution": {
     "iopub.execute_input": "2024-05-28T04:25:13.664499Z",
     "iopub.status.busy": "2024-05-28T04:25:13.664427Z",
     "iopub.status.idle": "2024-05-28T04:25:13.669329Z",
     "shell.execute_reply": "2024-05-28T04:25:13.669111Z"
    }
   },
   "outputs": [
    {
     "data": {
      "text/html": [
       "<div>\n",
       "<style scoped>\n",
       "    .dataframe tbody tr th:only-of-type {\n",
       "        vertical-align: middle;\n",
       "    }\n",
       "\n",
       "    .dataframe tbody tr th {\n",
       "        vertical-align: top;\n",
       "    }\n",
       "\n",
       "    .dataframe thead th {\n",
       "        text-align: right;\n",
       "    }\n",
       "</style>\n",
       "<table border=\"1\" class=\"dataframe\">\n",
       "  <thead>\n",
       "    <tr style=\"text-align: right;\">\n",
       "      <th></th>\n",
       "      <th>q_id</th>\n",
       "      <th>a_id</th>\n",
       "      <th>q_creationdate</th>\n",
       "      <th>tags</th>\n",
       "      <th>body</th>\n",
       "    </tr>\n",
       "  </thead>\n",
       "  <tbody>\n",
       "    <tr>\n",
       "      <th>1</th>\n",
       "      <td>77042177</td>\n",
       "      <td>77042771.0</td>\n",
       "      <td>2023-09-05 06:31:45.120</td>\n",
       "      <td>&lt;python&gt;&lt;r&gt;&lt;websocket&gt;&lt;discord&gt;</td>\n",
       "      <td>&lt;p&gt;I am using the package (websocket) for R to...</td>\n",
       "    </tr>\n",
       "    <tr>\n",
       "      <th>8</th>\n",
       "      <td>77040069</td>\n",
       "      <td>77040480.0</td>\n",
       "      <td>2023-09-04 19:01:20.293</td>\n",
       "      <td>&lt;python&gt;</td>\n",
       "      <td>&lt;p&gt;I have a text file like this:&lt;/p&gt;\\n&lt;pre&gt;&lt;co...</td>\n",
       "    </tr>\n",
       "    <tr>\n",
       "      <th>9</th>\n",
       "      <td>77040069</td>\n",
       "      <td>77040243.0</td>\n",
       "      <td>2023-09-04 19:01:20.293</td>\n",
       "      <td>&lt;python&gt;</td>\n",
       "      <td>&lt;p&gt;I have a text file like this:&lt;/p&gt;\\n&lt;pre&gt;&lt;co...</td>\n",
       "    </tr>\n",
       "    <tr>\n",
       "      <th>10</th>\n",
       "      <td>77040321</td>\n",
       "      <td>77165037.0</td>\n",
       "      <td>2023-09-04 19:57:43.350</td>\n",
       "      <td>&lt;python&gt;&lt;indexing&gt;</td>\n",
       "      <td>&lt;p&gt;I am confused by the differences in my code...</td>\n",
       "    </tr>\n",
       "    <tr>\n",
       "      <th>38</th>\n",
       "      <td>77077227</td>\n",
       "      <td>NaN</td>\n",
       "      <td>2023-09-10 17:31:31.600</td>\n",
       "      <td>&lt;python&gt;&lt;opengl&gt;&lt;pyqt5&gt;&lt;pyopengl&gt;</td>\n",
       "      <td>&lt;p&gt;I want to display 3d object on top of PyQT5...</td>\n",
       "    </tr>\n",
       "  </tbody>\n",
       "</table>\n",
       "</div>"
      ],
      "text/plain": [
       "        q_id        a_id          q_creationdate  \\\n",
       "1   77042177  77042771.0 2023-09-05 06:31:45.120   \n",
       "8   77040069  77040480.0 2023-09-04 19:01:20.293   \n",
       "9   77040069  77040243.0 2023-09-04 19:01:20.293   \n",
       "10  77040321  77165037.0 2023-09-04 19:57:43.350   \n",
       "38  77077227         NaN 2023-09-10 17:31:31.600   \n",
       "\n",
       "                                 tags  \\\n",
       "1     <python><r><websocket><discord>   \n",
       "8                            <python>   \n",
       "9                            <python>   \n",
       "10                 <python><indexing>   \n",
       "38  <python><opengl><pyqt5><pyopengl>   \n",
       "\n",
       "                                                 body  \n",
       "1   <p>I am using the package (websocket) for R to...  \n",
       "8   <p>I have a text file like this:</p>\\n<pre><co...  \n",
       "9   <p>I have a text file like this:</p>\\n<pre><co...  \n",
       "10  <p>I am confused by the differences in my code...  \n",
       "38  <p>I want to display 3d object on top of PyQT5...  "
      ]
     },
     "execution_count": 6,
     "metadata": {},
     "output_type": "execute_result"
    }
   ],
   "source": [
    "bert_src.head()"
   ]
  },
  {
   "cell_type": "code",
   "execution_count": 7,
   "metadata": {
    "execution": {
     "iopub.execute_input": "2024-05-28T04:25:13.670507Z",
     "iopub.status.busy": "2024-05-28T04:25:13.670443Z",
     "iopub.status.idle": "2024-05-28T04:25:13.672464Z",
     "shell.execute_reply": "2024-05-28T04:25:13.672261Z"
    }
   },
   "outputs": [],
   "source": [
    "def cleanhtml(raw_html):\n",
    "  # 1.Source code in python language is hard to understand, so replace all the <code> tag first\n",
    "  cleantext_1 = re.findall(r'(?<=\\<code>)(.*?)(?=<\\/code>)', raw_html.replace('\\n', '_**_'))\n",
    "  cleantext_1 = [x.replace('_**_', '\\n') for x in cleantext_1]\n",
    "  # 2. replace html tags\n",
    "  # <p>\n",
    "  tag_re = re.compile('<.*?>')\n",
    "  cleantext_2 = [re.sub(tag_re, '', x) for x in cleantext_1]\n",
    "  return cleantext_2"
   ]
  },
  {
   "cell_type": "code",
   "execution_count": 8,
   "metadata": {
    "execution": {
     "iopub.execute_input": "2024-05-28T04:25:13.673598Z",
     "iopub.status.busy": "2024-05-28T04:25:13.673535Z",
     "iopub.status.idle": "2024-05-28T04:25:25.849015Z",
     "shell.execute_reply": "2024-05-28T04:25:25.848715Z"
    }
   },
   "outputs": [
    {
     "name": "stderr",
     "output_type": "stream",
     "text": [
      "/var/folders/lk/t243gzpx379bzd9mvx8dcsmm0000gp/T/ipykernel_66438/291002259.py:2: SettingWithCopyWarning: \n",
      "A value is trying to be set on a copy of a slice from a DataFrame.\n",
      "Try using .loc[row_indexer,col_indexer] = value instead\n",
      "\n",
      "See the caveats in the documentation: https://pandas.pydata.org/pandas-docs/stable/user_guide/indexing.html#returning-a-view-versus-a-copy\n",
      "  bert_src.loc[:, 'q_prep_text'] = bert_src['body'].apply(cleanhtml)\n"
     ]
    }
   ],
   "source": [
    "# apply the function, cleanhtml to the question and body text\n",
    "bert_src.loc[:, 'q_prep_text'] = bert_src['body'].apply(cleanhtml)"
   ]
  },
  {
   "cell_type": "code",
   "execution_count": 9,
   "metadata": {
    "execution": {
     "iopub.execute_input": "2024-05-28T04:25:25.850240Z",
     "iopub.status.busy": "2024-05-28T04:25:25.850168Z",
     "iopub.status.idle": "2024-05-28T04:25:25.902538Z",
     "shell.execute_reply": "2024-05-28T04:25:25.902263Z"
    }
   },
   "outputs": [],
   "source": [
    "bert_src = bert_src.reset_index(drop=True)"
   ]
  },
  {
   "cell_type": "code",
   "execution_count": 10,
   "metadata": {
    "execution": {
     "iopub.execute_input": "2024-05-28T04:25:25.903936Z",
     "iopub.status.busy": "2024-05-28T04:25:25.903864Z",
     "iopub.status.idle": "2024-05-28T04:25:26.030035Z",
     "shell.execute_reply": "2024-05-28T04:25:26.029771Z"
    }
   },
   "outputs": [],
   "source": [
    "bert_src = bert_src[['q_id', 'q_prep_text']].apply(pd.Series.explode)"
   ]
  },
  {
   "cell_type": "code",
   "execution_count": 11,
   "metadata": {
    "execution": {
     "iopub.execute_input": "2024-05-28T04:25:26.031522Z",
     "iopub.status.busy": "2024-05-28T04:25:26.031452Z",
     "iopub.status.idle": "2024-05-28T04:25:26.107130Z",
     "shell.execute_reply": "2024-05-28T04:25:26.106871Z"
    }
   },
   "outputs": [],
   "source": [
    "bert_src.dropna(inplace=True)"
   ]
  },
  {
   "cell_type": "code",
   "execution_count": 12,
   "metadata": {
    "execution": {
     "iopub.execute_input": "2024-05-28T04:25:26.108595Z",
     "iopub.status.busy": "2024-05-28T04:25:26.108527Z",
     "iopub.status.idle": "2024-05-28T04:25:26.110988Z",
     "shell.execute_reply": "2024-05-28T04:25:26.110784Z"
    }
   },
   "outputs": [],
   "source": [
    "# PREPROCESSING FOR CODE SCRIPT\n",
    "def preprocess_script(script):\n",
    "    new_script = deque()\n",
    "    old_script = script.split('\\n')\n",
    "    for line in old_script:\n",
    "        if line.lstrip().startswith('#'): # 주석으로 시작되는 행 skip\n",
    "            continue\n",
    "        line = line.rstrip()\n",
    "        if '#' in line:\n",
    "            line = line[:line.index('#')] # 주석 전까지 코드만 저장\n",
    "        line = line.replace('\\n','') # 개행 문자를 모두 삭제함\n",
    "        line = line.replace('    ','\\t') # 공백 4칸을 tab으로 변환\n",
    "        \n",
    "        if line == '': # 전처리 후 빈 라인은 skip\n",
    "            continue\n",
    "        \n",
    "        new_script.append(line)\n",
    "\n",
    "        \n",
    "    new_script = '\\n'.join(new_script) # 개행 문자로 합침\n",
    "    new_script = re.sub('(\"\"\"[\\w\\W]*?\"\"\")', '<str>', new_script)\n",
    "    new_script = re.sub(\"('''[\\w\\W]*?''')\", '<str>', new_script)\n",
    "    new_script = re.sub('/^(http?|https?):\\/\\/([a-z0-9-]+\\.)+[a-z0-9]{2,4}.*$/', '', new_script)\n",
    "    \n",
    "    return new_script\n"
   ]
  },
  {
   "cell_type": "code",
   "execution_count": 13,
   "metadata": {
    "execution": {
     "iopub.execute_input": "2024-05-28T04:25:26.112063Z",
     "iopub.status.busy": "2024-05-28T04:25:26.112004Z",
     "iopub.status.idle": "2024-05-28T04:25:31.994380Z",
     "shell.execute_reply": "2024-05-28T04:25:31.994104Z"
    }
   },
   "outputs": [],
   "source": [
    "bert_src['q_prep_text_non'] = bert_src['q_prep_text'].apply(preprocess_script)"
   ]
  },
  {
   "cell_type": "code",
   "execution_count": 14,
   "metadata": {
    "execution": {
     "iopub.execute_input": "2024-05-28T04:25:31.995810Z",
     "iopub.status.busy": "2024-05-28T04:25:31.995735Z",
     "iopub.status.idle": "2024-05-28T04:25:32.012494Z",
     "shell.execute_reply": "2024-05-28T04:25:32.012247Z"
    }
   },
   "outputs": [],
   "source": [
    "src = bert_src['q_prep_text_non'].tolist()\n",
    "# df['sentiments'].values.tolist()\n"
   ]
  },
  {
   "cell_type": "code",
   "execution_count": 15,
   "metadata": {
    "execution": {
     "iopub.execute_input": "2024-05-28T04:25:32.013681Z",
     "iopub.status.busy": "2024-05-28T04:25:32.013617Z",
     "iopub.status.idle": "2024-05-28T04:25:32.015337Z",
     "shell.execute_reply": "2024-05-28T04:25:32.015156Z"
    }
   },
   "outputs": [
    {
     "name": "stdout",
     "output_type": "stream",
     "text": [
      "<class 'list'>\n",
      "<class 'str'>\n",
      "1557955\n"
     ]
    }
   ],
   "source": [
    "print(type(src))\n",
    "print(type(src[0]))\n",
    "print(len(src))"
   ]
  },
  {
   "cell_type": "code",
   "execution_count": 16,
   "metadata": {
    "execution": {
     "iopub.execute_input": "2024-05-28T04:25:32.016500Z",
     "iopub.status.busy": "2024-05-28T04:25:32.016438Z",
     "iopub.status.idle": "2024-05-28T04:25:32.017912Z",
     "shell.execute_reply": "2024-05-28T04:25:32.017699Z"
    }
   },
   "outputs": [],
   "source": [
    "# src = src[:10000]"
   ]
  },
  {
   "cell_type": "code",
   "execution_count": 17,
   "metadata": {
    "execution": {
     "iopub.execute_input": "2024-05-28T04:25:32.018956Z",
     "iopub.status.busy": "2024-05-28T04:25:32.018899Z",
     "iopub.status.idle": "2024-05-28T04:25:32.020399Z",
     "shell.execute_reply": "2024-05-28T04:25:32.020195Z"
    }
   },
   "outputs": [],
   "source": [
    "# 데이터 로드\n",
    "data = src"
   ]
  },
  {
   "cell_type": "code",
   "execution_count": 18,
   "metadata": {
    "execution": {
     "iopub.execute_input": "2024-05-28T04:25:32.021409Z",
     "iopub.status.busy": "2024-05-28T04:25:32.021337Z",
     "iopub.status.idle": "2024-05-28T04:25:32.022761Z",
     "shell.execute_reply": "2024-05-28T04:25:32.022576Z"
    }
   },
   "outputs": [],
   "source": [
    "data = data"
   ]
  },
  {
   "cell_type": "code",
   "execution_count": 19,
   "metadata": {
    "execution": {
     "iopub.execute_input": "2024-05-28T04:25:32.023876Z",
     "iopub.status.busy": "2024-05-28T04:25:32.023818Z",
     "iopub.status.idle": "2024-05-28T04:25:33.554005Z",
     "shell.execute_reply": "2024-05-28T04:25:33.553531Z"
    }
   },
   "outputs": [],
   "source": [
    "# CodeBERT 모델과 토크나이저 로드\n",
    "model_name = \"microsoft/codebert-base\"\n",
    "tokenizer = AutoTokenizer.from_pretrained(model_name)\n",
    "model = AutoModel.from_pretrained(model_name)"
   ]
  },
  {
   "cell_type": "code",
   "execution_count": 20,
   "metadata": {
    "execution": {
     "iopub.execute_input": "2024-05-28T04:25:33.556661Z",
     "iopub.status.busy": "2024-05-28T04:25:33.556557Z",
     "iopub.status.idle": "2024-05-28T04:25:33.559215Z",
     "shell.execute_reply": "2024-05-28T04:25:33.558803Z"
    }
   },
   "outputs": [],
   "source": [
    "# 임베딩 함수 정의\n",
    "def embed_text(text):\n",
    "    encoded_input = tokenizer(text, padding=True, truncation=True, return_tensors='pt')\n",
    "    with torch.no_grad():\n",
    "        model_output = model(**encoded_input)\n",
    "    return model_output.last_hidden_state[:, 0, :]"
   ]
  },
  {
   "cell_type": "code",
   "execution_count": 21,
   "metadata": {
    "execution": {
     "iopub.execute_input": "2024-05-28T04:25:33.561627Z",
     "iopub.status.busy": "2024-05-28T04:25:33.561483Z",
     "iopub.status.idle": "2024-05-28T04:25:34.384489Z",
     "shell.execute_reply": "2024-05-28T04:25:34.383424Z"
    }
   },
   "outputs": [
    {
     "name": "stderr",
     "output_type": "stream",
     "text": [
      "100%|█████████████████████████████████████████████████████████████████████████████████████████████████████| 2/2 [00:00<00:00, 11.86it/s]\n"
     ]
    }
   ],
   "source": [
    "embed_text_list = []\n",
    "for i in tqdm(range(len(data[0:2]))) : \n",
    "    embed_text_list.append(embed_text(data[i]))"
   ]
  },
  {
   "cell_type": "code",
   "execution_count": 22,
   "metadata": {
    "execution": {
     "iopub.execute_input": "2024-05-28T04:25:34.387372Z",
     "iopub.status.busy": "2024-05-28T04:25:34.387232Z",
     "iopub.status.idle": "2024-05-28T04:25:34.391181Z",
     "shell.execute_reply": "2024-05-28T04:25:34.390735Z"
    }
   },
   "outputs": [],
   "source": [
    "# 전체 데이터셋 \n",
    "with open('../../data/embed_text_list.pkl', 'wb') as f:\n",
    "    pickle.dump(embed_text_list, f)\n"
   ]
  },
  {
   "cell_type": "code",
   "execution_count": null,
   "metadata": {},
   "outputs": [],
   "source": []
  }
 ],
 "metadata": {
  "kernelspec": {
   "display_name": "Python 3",
   "language": "python",
   "name": "python3"
  },
  "language_info": {
   "codemirror_mode": {
    "name": "ipython",
    "version": 3
   },
   "file_extension": ".py",
   "mimetype": "text/x-python",
   "name": "python",
   "nbconvert_exporter": "python",
   "pygments_lexer": "ipython3",
   "version": "3.11.5"
  }
 },
 "nbformat": 4,
 "nbformat_minor": 2
}
