{
 "cells": [
  {
   "cell_type": "code",
   "execution_count": 39,
   "metadata": {},
   "outputs": [],
   "source": [
    "import pandas as pd\n",
    "import seaborn as sns\n",
    "import matplotlib.pyplot as plt\n",
    "import numpy as np\n",
    "import pickle\n",
    "import re\n",
    "from umap import UMAP\n",
    "from hdbscan import HDBSCAN\n",
    "import torch\n",
    "from transformers import RobertaTokenizer, RobertaConfig, RobertaModel\n",
    "from collections.abc import Iterable\n",
    "from transformers import AutoTokenizer, AutoModel\n",
    "from bertopic import BERTopic\n",
    "import torch\n",
    "from collections import deque\n"
   ]
  },
  {
   "cell_type": "code",
   "execution_count": 40,
   "metadata": {},
   "outputs": [],
   "source": [
    "# 파일 불러오기\n",
    "with open('../../data/bert_df.pkl', 'rb') as f:\n",
    "    df = pickle.load(f)\n"
   ]
  },
  {
   "cell_type": "code",
   "execution_count": 41,
   "metadata": {},
   "outputs": [],
   "source": [
    "# 파일 불러오기\n",
    "with open('../../data/bert_src_df.pkl', 'rb') as f:\n",
    "    bert_src_df = pickle.load(f)\n"
   ]
  },
  {
   "cell_type": "code",
   "execution_count": 42,
   "metadata": {},
   "outputs": [
    {
     "name": "stdout",
     "output_type": "stream",
     "text": [
      "<class 'pandas.core.frame.DataFrame'>\n",
      "RangeIndex: 5223203 entries, 0 to 5223202\n",
      "Data columns (total 5 columns):\n",
      " #   Column          Dtype         \n",
      "---  ------          -----         \n",
      " 0   q_id            int64         \n",
      " 1   a_id            float64       \n",
      " 2   q_creationdate  datetime64[ns]\n",
      " 3   tags            object        \n",
      " 4   body            object        \n",
      "dtypes: datetime64[ns](1), float64(1), int64(1), object(2)\n",
      "memory usage: 199.2+ MB\n"
     ]
    }
   ],
   "source": [
    "bert_src_df.info()"
   ]
  },
  {
   "cell_type": "code",
   "execution_count": 43,
   "metadata": {},
   "outputs": [],
   "source": [
    "cond1 = bert_src_df['q_creationdate']<='2022-11-30'\n",
    "cond2 = bert_src_df['q_creationdate']>='2021-11-30'\n",
    "cond3 = bert_src_df['a_id'].isna()\n",
    "cond4 = bert_src_df['tags'].str.contains('python')\n",
    "cond5 = bert_src_df['q_creationdate']>='2022-12-01'"
   ]
  },
  {
   "cell_type": "code",
   "execution_count": 44,
   "metadata": {},
   "outputs": [],
   "source": [
    "bert_src_bf = bert_src_df.loc[cond1 & cond2 & cond3 & cond4, :]\n",
    "bert_src_af = bert_src_df.loc[cond3 & cond4 & cond5, :]"
   ]
  },
  {
   "cell_type": "code",
   "execution_count": 45,
   "metadata": {},
   "outputs": [
    {
     "data": {
      "text/html": [
       "<div>\n",
       "<style scoped>\n",
       "    .dataframe tbody tr th:only-of-type {\n",
       "        vertical-align: middle;\n",
       "    }\n",
       "\n",
       "    .dataframe tbody tr th {\n",
       "        vertical-align: top;\n",
       "    }\n",
       "\n",
       "    .dataframe thead th {\n",
       "        text-align: right;\n",
       "    }\n",
       "</style>\n",
       "<table border=\"1\" class=\"dataframe\">\n",
       "  <thead>\n",
       "    <tr style=\"text-align: right;\">\n",
       "      <th></th>\n",
       "      <th>q_id</th>\n",
       "      <th>a_id</th>\n",
       "      <th>q_creationdate</th>\n",
       "      <th>tags</th>\n",
       "      <th>body</th>\n",
       "    </tr>\n",
       "  </thead>\n",
       "  <tbody>\n",
       "    <tr>\n",
       "      <th>38</th>\n",
       "      <td>77077227</td>\n",
       "      <td>NaN</td>\n",
       "      <td>2023-09-10 17:31:31.600</td>\n",
       "      <td>&lt;python&gt;&lt;opengl&gt;&lt;pyqt5&gt;&lt;pyopengl&gt;</td>\n",
       "      <td>&lt;p&gt;I want to display 3d object on top of PyQT5...</td>\n",
       "    </tr>\n",
       "    <tr>\n",
       "      <th>65</th>\n",
       "      <td>77060888</td>\n",
       "      <td>NaN</td>\n",
       "      <td>2023-09-07 15:17:24.040</td>\n",
       "      <td>&lt;python&gt;&lt;django&gt;&lt;postgresql&gt;&lt;sleep&gt;&lt;pytest-dja...</td>\n",
       "      <td>&lt;p&gt;I need to make a pause in my Django project...</td>\n",
       "    </tr>\n",
       "    <tr>\n",
       "      <th>73</th>\n",
       "      <td>77052025</td>\n",
       "      <td>NaN</td>\n",
       "      <td>2023-09-06 12:43:17.777</td>\n",
       "      <td>&lt;python&gt;</td>\n",
       "      <td>&lt;p&gt;I am trying to get a list of all compartmen...</td>\n",
       "    </tr>\n",
       "    <tr>\n",
       "      <th>107</th>\n",
       "      <td>76937634</td>\n",
       "      <td>NaN</td>\n",
       "      <td>2023-08-20 01:18:19.203</td>\n",
       "      <td>&lt;python&gt;&lt;django&gt;&lt;asynchronous&gt;&lt;celery&gt;&lt;telegram&gt;</td>\n",
       "      <td>&lt;p&gt;I'm trying to make a parser like a web appl...</td>\n",
       "    </tr>\n",
       "    <tr>\n",
       "      <th>115</th>\n",
       "      <td>76934523</td>\n",
       "      <td>NaN</td>\n",
       "      <td>2023-08-19 09:57:53.073</td>\n",
       "      <td>&lt;python&gt;&lt;user-interface&gt;&lt;pyqt5&gt;</td>\n",
       "      <td>&lt;p&gt;guys I have a question, i have a code and I...</td>\n",
       "    </tr>\n",
       "    <tr>\n",
       "      <th>...</th>\n",
       "      <td>...</td>\n",
       "      <td>...</td>\n",
       "      <td>...</td>\n",
       "      <td>...</td>\n",
       "      <td>...</td>\n",
       "    </tr>\n",
       "    <tr>\n",
       "      <th>5223137</th>\n",
       "      <td>77545627</td>\n",
       "      <td>NaN</td>\n",
       "      <td>2023-11-24 20:54:56.123</td>\n",
       "      <td>&lt;python&gt;&lt;huggingface&gt;&lt;language-translation&gt;</td>\n",
       "      <td>&lt;h2&gt;Setup&lt;/h2&gt;\\n&lt;p&gt;I've created a HF Inference...</td>\n",
       "    </tr>\n",
       "    <tr>\n",
       "      <th>5223163</th>\n",
       "      <td>77442875</td>\n",
       "      <td>NaN</td>\n",
       "      <td>2023-11-08 04:40:57.380</td>\n",
       "      <td>&lt;python&gt;&lt;python-imaging-library&gt;&lt;height&gt;&lt;width&gt;</td>\n",
       "      <td>&lt;p&gt;We were given a image(The Traffic stop sign...</td>\n",
       "    </tr>\n",
       "    <tr>\n",
       "      <th>5223179</th>\n",
       "      <td>77374676</td>\n",
       "      <td>NaN</td>\n",
       "      <td>2023-10-27 13:47:11.517</td>\n",
       "      <td>&lt;python&gt;&lt;tensorflow&gt;&lt;keras&gt;</td>\n",
       "      <td>&lt;p&gt;I am having an issue I don't understand how...</td>\n",
       "    </tr>\n",
       "    <tr>\n",
       "      <th>5223196</th>\n",
       "      <td>77336446</td>\n",
       "      <td>NaN</td>\n",
       "      <td>2023-10-21 14:33:34.623</td>\n",
       "      <td>&lt;python&gt;&lt;animation&gt;&lt;sequence&gt;&lt;vtk&gt;</td>\n",
       "      <td>&lt;p&gt;I have succesfully managed to make a 3d ima...</td>\n",
       "    </tr>\n",
       "    <tr>\n",
       "      <th>5223198</th>\n",
       "      <td>77336843</td>\n",
       "      <td>NaN</td>\n",
       "      <td>2023-10-21 16:16:36.243</td>\n",
       "      <td>&lt;kubernetes&gt;&lt;grpc&gt;&lt;kubernetes-ingress&gt;&lt;istio&gt;&lt;...</td>\n",
       "      <td>&lt;p&gt;Trying to setup grpc service via istio ingr...</td>\n",
       "    </tr>\n",
       "  </tbody>\n",
       "</table>\n",
       "<p>63445 rows × 5 columns</p>\n",
       "</div>"
      ],
      "text/plain": [
       "             q_id  a_id          q_creationdate  \\\n",
       "38       77077227   NaN 2023-09-10 17:31:31.600   \n",
       "65       77060888   NaN 2023-09-07 15:17:24.040   \n",
       "73       77052025   NaN 2023-09-06 12:43:17.777   \n",
       "107      76937634   NaN 2023-08-20 01:18:19.203   \n",
       "115      76934523   NaN 2023-08-19 09:57:53.073   \n",
       "...           ...   ...                     ...   \n",
       "5223137  77545627   NaN 2023-11-24 20:54:56.123   \n",
       "5223163  77442875   NaN 2023-11-08 04:40:57.380   \n",
       "5223179  77374676   NaN 2023-10-27 13:47:11.517   \n",
       "5223196  77336446   NaN 2023-10-21 14:33:34.623   \n",
       "5223198  77336843   NaN 2023-10-21 16:16:36.243   \n",
       "\n",
       "                                                      tags  \\\n",
       "38                       <python><opengl><pyqt5><pyopengl>   \n",
       "65       <python><django><postgresql><sleep><pytest-dja...   \n",
       "73                                                <python>   \n",
       "107       <python><django><asynchronous><celery><telegram>   \n",
       "115                        <python><user-interface><pyqt5>   \n",
       "...                                                    ...   \n",
       "5223137        <python><huggingface><language-translation>   \n",
       "5223163    <python><python-imaging-library><height><width>   \n",
       "5223179                        <python><tensorflow><keras>   \n",
       "5223196                 <python><animation><sequence><vtk>   \n",
       "5223198  <kubernetes><grpc><kubernetes-ingress><istio><...   \n",
       "\n",
       "                                                      body  \n",
       "38       <p>I want to display 3d object on top of PyQT5...  \n",
       "65       <p>I need to make a pause in my Django project...  \n",
       "73       <p>I am trying to get a list of all compartmen...  \n",
       "107      <p>I'm trying to make a parser like a web appl...  \n",
       "115      <p>guys I have a question, i have a code and I...  \n",
       "...                                                    ...  \n",
       "5223137  <h2>Setup</h2>\\n<p>I've created a HF Inference...  \n",
       "5223163  <p>We were given a image(The Traffic stop sign...  \n",
       "5223179  <p>I am having an issue I don't understand how...  \n",
       "5223196  <p>I have succesfully managed to make a 3d ima...  \n",
       "5223198  <p>Trying to setup grpc service via istio ingr...  \n",
       "\n",
       "[63445 rows x 5 columns]"
      ]
     },
     "execution_count": 45,
     "metadata": {},
     "output_type": "execute_result"
    }
   ],
   "source": [
    "bert_src_af"
   ]
  },
  {
   "cell_type": "code",
   "execution_count": 46,
   "metadata": {},
   "outputs": [],
   "source": [
    "def cleanhtml(raw_html):\n",
    "  # 1.Source code in python language is hard to understand, so replace all the <code> tag first\n",
    "  cleantext_1 = re.findall(r'(?<=\\<code>)(.*?)(?=<\\/code>)', raw_html.replace('\\n', '_**_'))\n",
    "  cleantext_1 = [x.replace('_**_', '\\n') for x in cleantext_1]\n",
    "  # 2. replace html tags\n",
    "  # <p>\n",
    "  tag_re = re.compile('<.*?>')\n",
    "  cleantext_2 = [re.sub(tag_re, '', x) for x in cleantext_1]\n",
    "  return cleantext_2"
   ]
  },
  {
   "cell_type": "code",
   "execution_count": 47,
   "metadata": {},
   "outputs": [],
   "source": [
    "# apply the function, cleanhtml to the question and body text\n",
    "bert_src_bf.loc[:, 'q_prep_text'] = bert_src_bf['body'].apply(cleanhtml)\n",
    "bert_src_af.loc[:, 'q_prep_text'] = bert_src_af['body'].apply(cleanhtml)"
   ]
  },
  {
   "cell_type": "code",
   "execution_count": 48,
   "metadata": {},
   "outputs": [
    {
     "data": {
      "text/html": [
       "<div>\n",
       "<style scoped>\n",
       "    .dataframe tbody tr th:only-of-type {\n",
       "        vertical-align: middle;\n",
       "    }\n",
       "\n",
       "    .dataframe tbody tr th {\n",
       "        vertical-align: top;\n",
       "    }\n",
       "\n",
       "    .dataframe thead th {\n",
       "        text-align: right;\n",
       "    }\n",
       "</style>\n",
       "<table border=\"1\" class=\"dataframe\">\n",
       "  <thead>\n",
       "    <tr style=\"text-align: right;\">\n",
       "      <th></th>\n",
       "      <th>q_id</th>\n",
       "      <th>a_id</th>\n",
       "      <th>q_creationdate</th>\n",
       "      <th>tags</th>\n",
       "      <th>body</th>\n",
       "      <th>q_prep_text</th>\n",
       "    </tr>\n",
       "  </thead>\n",
       "  <tbody>\n",
       "    <tr>\n",
       "      <th>38</th>\n",
       "      <td>77077227</td>\n",
       "      <td>NaN</td>\n",
       "      <td>2023-09-10 17:31:31.600</td>\n",
       "      <td>&lt;python&gt;&lt;opengl&gt;&lt;pyqt5&gt;&lt;pyopengl&gt;</td>\n",
       "      <td>&lt;p&gt;I want to display 3d object on top of PyQT5...</td>\n",
       "      <td>[import sys\\nfrom OpenGL.GL import *\\nfrom Ope...</td>\n",
       "    </tr>\n",
       "    <tr>\n",
       "      <th>65</th>\n",
       "      <td>77060888</td>\n",
       "      <td>NaN</td>\n",
       "      <td>2023-09-07 15:17:24.040</td>\n",
       "      <td>&lt;python&gt;&lt;django&gt;&lt;postgresql&gt;&lt;sleep&gt;&lt;pytest-dja...</td>\n",
       "      <td>&lt;p&gt;I need to make a pause in my Django project...</td>\n",
       "      <td>[from pytest import mark, fixture, raises\\nfro...</td>\n",
       "    </tr>\n",
       "    <tr>\n",
       "      <th>73</th>\n",
       "      <td>77052025</td>\n",
       "      <td>NaN</td>\n",
       "      <td>2023-09-06 12:43:17.777</td>\n",
       "      <td>&lt;python&gt;</td>\n",
       "      <td>&lt;p&gt;I am trying to get a list of all compartmen...</td>\n",
       "      <td>[import oci\\n\\nconfig = oci.config.from_file()...</td>\n",
       "    </tr>\n",
       "    <tr>\n",
       "      <th>107</th>\n",
       "      <td>76937634</td>\n",
       "      <td>NaN</td>\n",
       "      <td>2023-08-20 01:18:19.203</td>\n",
       "      <td>&lt;python&gt;&lt;django&gt;&lt;asynchronous&gt;&lt;celery&gt;&lt;telegram&gt;</td>\n",
       "      <td>&lt;p&gt;I'm trying to make a parser like a web appl...</td>\n",
       "      <td>[from telethon.sync import TelegramClient\\nimp...</td>\n",
       "    </tr>\n",
       "    <tr>\n",
       "      <th>115</th>\n",
       "      <td>76934523</td>\n",
       "      <td>NaN</td>\n",
       "      <td>2023-08-19 09:57:53.073</td>\n",
       "      <td>&lt;python&gt;&lt;user-interface&gt;&lt;pyqt5&gt;</td>\n",
       "      <td>&lt;p&gt;guys I have a question, i have a code and I...</td>\n",
       "      <td>[1\\.when moving the icon instances the X and Y...</td>\n",
       "    </tr>\n",
       "    <tr>\n",
       "      <th>...</th>\n",
       "      <td>...</td>\n",
       "      <td>...</td>\n",
       "      <td>...</td>\n",
       "      <td>...</td>\n",
       "      <td>...</td>\n",
       "      <td>...</td>\n",
       "    </tr>\n",
       "    <tr>\n",
       "      <th>5223137</th>\n",
       "      <td>77545627</td>\n",
       "      <td>NaN</td>\n",
       "      <td>2023-11-24 20:54:56.123</td>\n",
       "      <td>&lt;python&gt;&lt;huggingface&gt;&lt;language-translation&gt;</td>\n",
       "      <td>&lt;h2&gt;Setup&lt;/h2&gt;\\n&lt;p&gt;I've created a HF Inference...</td>\n",
       "      <td>[request, concurrent, def translate_text(text)...</td>\n",
       "    </tr>\n",
       "    <tr>\n",
       "      <th>5223163</th>\n",
       "      <td>77442875</td>\n",
       "      <td>NaN</td>\n",
       "      <td>2023-11-08 04:40:57.380</td>\n",
       "      <td>&lt;python&gt;&lt;python-imaging-library&gt;&lt;height&gt;&lt;width&gt;</td>\n",
       "      <td>&lt;p&gt;We were given a image(The Traffic stop sign...</td>\n",
       "      <td>[    def fix_middle(picture):\\n        picture...</td>\n",
       "    </tr>\n",
       "    <tr>\n",
       "      <th>5223179</th>\n",
       "      <td>77374676</td>\n",
       "      <td>NaN</td>\n",
       "      <td>2023-10-27 13:47:11.517</td>\n",
       "      <td>&lt;python&gt;&lt;tensorflow&gt;&lt;keras&gt;</td>\n",
       "      <td>&lt;p&gt;I am having an issue I don't understand how...</td>\n",
       "      <td>[    def create_teacher_model(img_size, model_...</td>\n",
       "    </tr>\n",
       "    <tr>\n",
       "      <th>5223196</th>\n",
       "      <td>77336446</td>\n",
       "      <td>NaN</td>\n",
       "      <td>2023-10-21 14:33:34.623</td>\n",
       "      <td>&lt;python&gt;&lt;animation&gt;&lt;sequence&gt;&lt;vtk&gt;</td>\n",
       "      <td>&lt;p&gt;I have succesfully managed to make a 3d ima...</td>\n",
       "      <td>[import vtkmodules.all as vtk\\n\\n#Create a ren...</td>\n",
       "    </tr>\n",
       "    <tr>\n",
       "      <th>5223198</th>\n",
       "      <td>77336843</td>\n",
       "      <td>NaN</td>\n",
       "      <td>2023-10-21 16:16:36.243</td>\n",
       "      <td>&lt;kubernetes&gt;&lt;grpc&gt;&lt;kubernetes-ingress&gt;&lt;istio&gt;&lt;...</td>\n",
       "      <td>&lt;p&gt;Trying to setup grpc service via istio ingr...</td>\n",
       "      <td>[apiVersion: networking.k8s.io/v1\\nkind: Ingre...</td>\n",
       "    </tr>\n",
       "  </tbody>\n",
       "</table>\n",
       "<p>63445 rows × 6 columns</p>\n",
       "</div>"
      ],
      "text/plain": [
       "             q_id  a_id          q_creationdate  \\\n",
       "38       77077227   NaN 2023-09-10 17:31:31.600   \n",
       "65       77060888   NaN 2023-09-07 15:17:24.040   \n",
       "73       77052025   NaN 2023-09-06 12:43:17.777   \n",
       "107      76937634   NaN 2023-08-20 01:18:19.203   \n",
       "115      76934523   NaN 2023-08-19 09:57:53.073   \n",
       "...           ...   ...                     ...   \n",
       "5223137  77545627   NaN 2023-11-24 20:54:56.123   \n",
       "5223163  77442875   NaN 2023-11-08 04:40:57.380   \n",
       "5223179  77374676   NaN 2023-10-27 13:47:11.517   \n",
       "5223196  77336446   NaN 2023-10-21 14:33:34.623   \n",
       "5223198  77336843   NaN 2023-10-21 16:16:36.243   \n",
       "\n",
       "                                                      tags  \\\n",
       "38                       <python><opengl><pyqt5><pyopengl>   \n",
       "65       <python><django><postgresql><sleep><pytest-dja...   \n",
       "73                                                <python>   \n",
       "107       <python><django><asynchronous><celery><telegram>   \n",
       "115                        <python><user-interface><pyqt5>   \n",
       "...                                                    ...   \n",
       "5223137        <python><huggingface><language-translation>   \n",
       "5223163    <python><python-imaging-library><height><width>   \n",
       "5223179                        <python><tensorflow><keras>   \n",
       "5223196                 <python><animation><sequence><vtk>   \n",
       "5223198  <kubernetes><grpc><kubernetes-ingress><istio><...   \n",
       "\n",
       "                                                      body  \\\n",
       "38       <p>I want to display 3d object on top of PyQT5...   \n",
       "65       <p>I need to make a pause in my Django project...   \n",
       "73       <p>I am trying to get a list of all compartmen...   \n",
       "107      <p>I'm trying to make a parser like a web appl...   \n",
       "115      <p>guys I have a question, i have a code and I...   \n",
       "...                                                    ...   \n",
       "5223137  <h2>Setup</h2>\\n<p>I've created a HF Inference...   \n",
       "5223163  <p>We were given a image(The Traffic stop sign...   \n",
       "5223179  <p>I am having an issue I don't understand how...   \n",
       "5223196  <p>I have succesfully managed to make a 3d ima...   \n",
       "5223198  <p>Trying to setup grpc service via istio ingr...   \n",
       "\n",
       "                                               q_prep_text  \n",
       "38       [import sys\\nfrom OpenGL.GL import *\\nfrom Ope...  \n",
       "65       [from pytest import mark, fixture, raises\\nfro...  \n",
       "73       [import oci\\n\\nconfig = oci.config.from_file()...  \n",
       "107      [from telethon.sync import TelegramClient\\nimp...  \n",
       "115      [1\\.when moving the icon instances the X and Y...  \n",
       "...                                                    ...  \n",
       "5223137  [request, concurrent, def translate_text(text)...  \n",
       "5223163  [    def fix_middle(picture):\\n        picture...  \n",
       "5223179  [    def create_teacher_model(img_size, model_...  \n",
       "5223196  [import vtkmodules.all as vtk\\n\\n#Create a ren...  \n",
       "5223198  [apiVersion: networking.k8s.io/v1\\nkind: Ingre...  \n",
       "\n",
       "[63445 rows x 6 columns]"
      ]
     },
     "execution_count": 48,
     "metadata": {},
     "output_type": "execute_result"
    }
   ],
   "source": [
    "bert_src_af"
   ]
  },
  {
   "cell_type": "code",
   "execution_count": 49,
   "metadata": {},
   "outputs": [],
   "source": [
    "bert_src_bf = bert_src_bf.reset_index(drop=True)\n",
    "bert_src_af = bert_src_af.reset_index(drop=True)"
   ]
  },
  {
   "cell_type": "code",
   "execution_count": 53,
   "metadata": {},
   "outputs": [],
   "source": [
    "bert_src_bf = bert_src_bf[['q_id', 'q_prep_text']].apply(pd.Series.explode)\n",
    "bert_src_af = bert_src_af[['q_id', 'q_prep_text']].apply(pd.Series.explode)"
   ]
  },
  {
   "cell_type": "code",
   "execution_count": null,
   "metadata": {},
   "outputs": [],
   "source": [
    "bert_src_bf.dropna(inplace=True)\n",
    "bert_src_af.dropna(inplace=True)"
   ]
  },
  {
   "cell_type": "code",
   "execution_count": 54,
   "metadata": {},
   "outputs": [],
   "source": [
    "# PREPROCESSING FOR CODE SCRIPT\n",
    "def preprocess_script(script):\n",
    "    new_script = deque()\n",
    "    old_script = script.split('\\n')\n",
    "    for line in old_script:\n",
    "        if line.lstrip().startswith('#'): # 주석으로 시작되는 행 skip\n",
    "            continue\n",
    "        line = line.rstrip()\n",
    "        if '#' in line:\n",
    "            line = line[:line.index('#')] # 주석 전까지 코드만 저장\n",
    "        line = line.replace('\\n','') # 개행 문자를 모두 삭제함\n",
    "        line = line.replace('    ','\\t') # 공백 4칸을 tab으로 변환\n",
    "        \n",
    "        if line == '': # 전처리 후 빈 라인은 skip\n",
    "            continue\n",
    "        \n",
    "        new_script.append(line)\n",
    "\n",
    "        \n",
    "    new_script = '\\n'.join(new_script) # 개행 문자로 합침\n",
    "    new_script = re.sub('(\"\"\"[\\w\\W]*?\"\"\")', '<str>', new_script)\n",
    "    new_script = re.sub(\"('''[\\w\\W]*?''')\", '<str>', new_script)\n",
    "    new_script = re.sub('/^(http?|https?):\\/\\/([a-z0-9-]+\\.)+[a-z0-9]{2,4}.*$/', '', new_script)\n",
    "    \n",
    "    return new_script\n"
   ]
  },
  {
   "cell_type": "code",
   "execution_count": 55,
   "metadata": {},
   "outputs": [
    {
     "data": {
      "text/html": [
       "<div>\n",
       "<style scoped>\n",
       "    .dataframe tbody tr th:only-of-type {\n",
       "        vertical-align: middle;\n",
       "    }\n",
       "\n",
       "    .dataframe tbody tr th {\n",
       "        vertical-align: top;\n",
       "    }\n",
       "\n",
       "    .dataframe thead th {\n",
       "        text-align: right;\n",
       "    }\n",
       "</style>\n",
       "<table border=\"1\" class=\"dataframe\">\n",
       "  <thead>\n",
       "    <tr style=\"text-align: right;\">\n",
       "      <th></th>\n",
       "      <th>q_id</th>\n",
       "      <th>q_prep_text</th>\n",
       "    </tr>\n",
       "  </thead>\n",
       "  <tbody>\n",
       "    <tr>\n",
       "      <th>0</th>\n",
       "      <td>77077227</td>\n",
       "      <td>import sys\\nfrom OpenGL.GL import *\\nfrom Open...</td>\n",
       "    </tr>\n",
       "    <tr>\n",
       "      <th>1</th>\n",
       "      <td>77060888</td>\n",
       "      <td>from pytest import mark, fixture, raises\\nfrom...</td>\n",
       "    </tr>\n",
       "    <tr>\n",
       "      <th>1</th>\n",
       "      <td>77060888</td>\n",
       "      <td>========================================= test...</td>\n",
       "    </tr>\n",
       "    <tr>\n",
       "      <th>2</th>\n",
       "      <td>77052025</td>\n",
       "      <td>import oci\\n\\nconfig = oci.config.from_file()\\...</td>\n",
       "    </tr>\n",
       "    <tr>\n",
       "      <th>3</th>\n",
       "      <td>76937634</td>\n",
       "      <td>from telethon.sync import TelegramClient\\nimpo...</td>\n",
       "    </tr>\n",
       "    <tr>\n",
       "      <th>...</th>\n",
       "      <td>...</td>\n",
       "      <td>...</td>\n",
       "    </tr>\n",
       "    <tr>\n",
       "      <th>63443</th>\n",
       "      <td>77336446</td>\n",
       "      <td>import time\\nimport vtkmodules.all\\n\\nclass vt...</td>\n",
       "    </tr>\n",
       "    <tr>\n",
       "      <th>63444</th>\n",
       "      <td>77336843</td>\n",
       "      <td>apiVersion: networking.k8s.io/v1\\nkind: Ingres...</td>\n",
       "    </tr>\n",
       "    <tr>\n",
       "      <th>63444</th>\n",
       "      <td>77336843</td>\n",
       "      <td>apiVersion: networking.k8s.io/v1\\nkind: Ingres...</td>\n",
       "    </tr>\n",
       "    <tr>\n",
       "      <th>63444</th>\n",
       "      <td>77336843</td>\n",
       "      <td>apiVersion: v1\\nkind: Service\\nmetadata:\\n  na...</td>\n",
       "    </tr>\n",
       "    <tr>\n",
       "      <th>63444</th>\n",
       "      <td>77336843</td>\n",
       "      <td>export INGRESS_HOST=$(kubectl -n &amp;quot;$INGRES...</td>\n",
       "    </tr>\n",
       "  </tbody>\n",
       "</table>\n",
       "<p>182342 rows × 2 columns</p>\n",
       "</div>"
      ],
      "text/plain": [
       "           q_id                                        q_prep_text\n",
       "0      77077227  import sys\\nfrom OpenGL.GL import *\\nfrom Open...\n",
       "1      77060888  from pytest import mark, fixture, raises\\nfrom...\n",
       "1      77060888  ========================================= test...\n",
       "2      77052025  import oci\\n\\nconfig = oci.config.from_file()\\...\n",
       "3      76937634  from telethon.sync import TelegramClient\\nimpo...\n",
       "...         ...                                                ...\n",
       "63443  77336446  import time\\nimport vtkmodules.all\\n\\nclass vt...\n",
       "63444  77336843  apiVersion: networking.k8s.io/v1\\nkind: Ingres...\n",
       "63444  77336843  apiVersion: networking.k8s.io/v1\\nkind: Ingres...\n",
       "63444  77336843  apiVersion: v1\\nkind: Service\\nmetadata:\\n  na...\n",
       "63444  77336843  export INGRESS_HOST=$(kubectl -n &quot;$INGRES...\n",
       "\n",
       "[182342 rows x 2 columns]"
      ]
     },
     "execution_count": 55,
     "metadata": {},
     "output_type": "execute_result"
    }
   ],
   "source": [
    "bert_src_af"
   ]
  },
  {
   "cell_type": "code",
   "execution_count": 16,
   "metadata": {},
   "outputs": [],
   "source": [
    "bert_src_bf['q_prep_text_non'] = bert_src_bf['q_prep_text'].apply(preprocess_script)\n",
    "bert_src_af['q_prep_text_non'] = bert_src_af['q_prep_text'].apply(preprocess_script)"
   ]
  },
  {
   "cell_type": "code",
   "execution_count": 17,
   "metadata": {},
   "outputs": [],
   "source": [
    "src = bert_src_af['q_prep_text_non'].tolist()\n",
    "# df['sentiments'].values.tolist()\n"
   ]
  },
  {
   "cell_type": "code",
   "execution_count": 20,
   "metadata": {},
   "outputs": [
    {
     "data": {
      "text/plain": [
       "[]"
      ]
     },
     "execution_count": 20,
     "metadata": {},
     "output_type": "execute_result"
    }
   ],
   "source": [
    "src"
   ]
  },
  {
   "cell_type": "code",
   "execution_count": 18,
   "metadata": {},
   "outputs": [
    {
     "name": "stdout",
     "output_type": "stream",
     "text": [
      "<class 'list'>\n"
     ]
    },
    {
     "ename": "IndexError",
     "evalue": "list index out of range",
     "output_type": "error",
     "traceback": [
      "\u001b[0;31m---------------------------------------------------------------------------\u001b[0m",
      "\u001b[0;31mIndexError\u001b[0m                                Traceback (most recent call last)",
      "Cell \u001b[0;32mIn[18], line 2\u001b[0m\n\u001b[1;32m      1\u001b[0m \u001b[38;5;28mprint\u001b[39m(\u001b[38;5;28mtype\u001b[39m(src))\n\u001b[0;32m----> 2\u001b[0m \u001b[38;5;28mprint\u001b[39m(\u001b[38;5;28mtype\u001b[39m(\u001b[43msrc\u001b[49m\u001b[43m[\u001b[49m\u001b[38;5;241;43m0\u001b[39;49m\u001b[43m]\u001b[49m))\n\u001b[1;32m      3\u001b[0m \u001b[38;5;28mprint\u001b[39m(\u001b[38;5;28mlen\u001b[39m(src))\n",
      "\u001b[0;31mIndexError\u001b[0m: list index out of range"
     ]
    }
   ],
   "source": [
    "print(type(src))\n",
    "print(type(src[0]))\n",
    "print(len(src))"
   ]
  },
  {
   "cell_type": "code",
   "execution_count": null,
   "metadata": {},
   "outputs": [],
   "source": [
    "src = src[:10000]"
   ]
  },
  {
   "cell_type": "code",
   "execution_count": null,
   "metadata": {},
   "outputs": [],
   "source": [
    "# 데이터 로드\n",
    "data = src"
   ]
  },
  {
   "cell_type": "code",
   "execution_count": null,
   "metadata": {},
   "outputs": [],
   "source": [
    "data = data"
   ]
  },
  {
   "cell_type": "code",
   "execution_count": null,
   "metadata": {},
   "outputs": [],
   "source": [
    "# CodeBERT 모델과 토크나이저 로드\n",
    "model_name = \"microsoft/codebert-base\"\n",
    "tokenizer = AutoTokenizer.from_pretrained(model_name)\n",
    "model = AutoModel.from_pretrained(model_name)"
   ]
  },
  {
   "cell_type": "code",
   "execution_count": null,
   "metadata": {},
   "outputs": [],
   "source": [
    "# 임베딩 함수 정의\n",
    "def embed_text(text):\n",
    "    encoded_input = tokenizer(text, padding=True, truncation=True, return_tensors='pt')\n",
    "    with torch.no_grad():\n",
    "        model_output = model(**encoded_input)\n",
    "    return model_output.last_hidden_state[:, 0, :]"
   ]
  },
  {
   "cell_type": "code",
   "execution_count": null,
   "metadata": {},
   "outputs": [],
   "source": [
    "# 모든 텍스트에 대한 임베딩 계산\n",
    "embeddings = torch.cat([embed_text(text) for text in data], dim=0).numpy()  # 텐서로 연결 후 numpy 배열로 변환"
   ]
  },
  {
   "cell_type": "code",
   "execution_count": null,
   "metadata": {},
   "outputs": [],
   "source": [
    "embeddings.shape"
   ]
  },
  {
   "cell_type": "code",
   "execution_count": null,
   "metadata": {},
   "outputs": [],
   "source": [
    "umap_model = UMAP(n_neighbors=15, n_components=5, min_dist=0.0, metric='cosine', random_state=42)"
   ]
  },
  {
   "cell_type": "code",
   "execution_count": null,
   "metadata": {},
   "outputs": [],
   "source": [
    "hdbscan_model = HDBSCAN(min_cluster_size=50, metric='euclidean', cluster_selection_method='eom', prediction_data=True)"
   ]
  },
  {
   "cell_type": "code",
   "execution_count": null,
   "metadata": {},
   "outputs": [],
   "source": [
    "# BERTopic 모델 초기화 및 훈련\n",
    "topic_model = BERTopic( embedding_model=model,\n",
    "                        umap_model=umap_model,\n",
    "                        hdbscan_model=hdbscan_model)  # 임베딩 모델 사용을 비활성화\n",
    "topics, probabilities = topic_model.fit_transform(data, embeddings)\n"
   ]
  },
  {
   "cell_type": "code",
   "execution_count": null,
   "metadata": {},
   "outputs": [],
   "source": [
    "# 결과 출력\n",
    "print(topic_model.get_topic_info())  # 토픽 정보 출력"
   ]
  },
  {
   "cell_type": "code",
   "execution_count": null,
   "metadata": {},
   "outputs": [],
   "source": [
    "topic_model.get_topic_info()"
   ]
  },
  {
   "cell_type": "code",
   "execution_count": null,
   "metadata": {},
   "outputs": [],
   "source": [
    "topic_model.get_topic(0)"
   ]
  },
  {
   "cell_type": "code",
   "execution_count": null,
   "metadata": {},
   "outputs": [],
   "source": [
    "topic_model.get_topic(1)"
   ]
  },
  {
   "cell_type": "code",
   "execution_count": null,
   "metadata": {},
   "outputs": [],
   "source": [
    "topic_model.get_topic(6, full=True)"
   ]
  },
  {
   "cell_type": "code",
   "execution_count": null,
   "metadata": {},
   "outputs": [],
   "source": [
    "# # Label the topics yourself\n",
    "# topic_model.set_topic_labels({1: \"Space Travel\", 7: \"Religion\"})\n",
    "\n",
    "# # or use one of the other topic representations, like KeyBERTInspired\n",
    "# keybert_topic_labels = {topic: \" | \".join(list(zip(*values))[0][:3]) for topic, values in topic_model.topic_aspects_[\"KeyBERT\"].items()}\n",
    "# topic_model.set_topic_labels(keybert_topic_labels)\n",
    "\n",
    "# # or ChatGPT's labels\n",
    "# chatgpt_topic_labels = {topic: \" | \".join(list(zip(*values))[0]) for topic, values in topic_model.topic_aspects_[\"OpenAI\"].items()}\n",
    "# chatgpt_topic_labels[-1] = \"Outlier Topic\"\n",
    "# topic_model.set_topic_labels(chatgpt_topic_labels)"
   ]
  },
  {
   "cell_type": "code",
   "execution_count": null,
   "metadata": {},
   "outputs": [],
   "source": [
    "# topic_distr, _ = topic_model.approximate_distribution(data, window=8, stride=4)"
   ]
  },
  {
   "cell_type": "code",
   "execution_count": null,
   "metadata": {},
   "outputs": [],
   "source": [
    "# pip install nbformat>=4.2.0"
   ]
  },
  {
   "cell_type": "code",
   "execution_count": null,
   "metadata": {},
   "outputs": [],
   "source": [
    "# Visualize the topic-document distribution for a single document\n",
    "topic_model.visualize_topics()"
   ]
  },
  {
   "cell_type": "code",
   "execution_count": null,
   "metadata": {},
   "outputs": [],
   "source": [
    "topic_model.visualize_hierarchy()"
   ]
  },
  {
   "cell_type": "code",
   "execution_count": null,
   "metadata": {},
   "outputs": [],
   "source": [
    "reduced_embeddings = UMAP(n_neighbors=10, n_components=2, min_dist=0.0, metric='cosine').fit_transform(embeddings)"
   ]
  },
  {
   "cell_type": "code",
   "execution_count": null,
   "metadata": {},
   "outputs": [],
   "source": [
    "topic_model.visualize_documents(data, embeddings=embeddings)"
   ]
  },
  {
   "cell_type": "code",
   "execution_count": null,
   "metadata": {},
   "outputs": [],
   "source": [
    "topic_model.visualize_documents(data, reduced_embeddings=reduced_embeddings)"
   ]
  },
  {
   "cell_type": "code",
   "execution_count": null,
   "metadata": {},
   "outputs": [],
   "source": []
  }
 ],
 "metadata": {
  "kernelspec": {
   "display_name": "Python 3",
   "language": "python",
   "name": "python3"
  },
  "language_info": {
   "codemirror_mode": {
    "name": "ipython",
    "version": 3
   },
   "file_extension": ".py",
   "mimetype": "text/x-python",
   "name": "python",
   "nbconvert_exporter": "python",
   "pygments_lexer": "ipython3",
   "version": "3.9.6"
  }
 },
 "nbformat": 4,
 "nbformat_minor": 2
}
