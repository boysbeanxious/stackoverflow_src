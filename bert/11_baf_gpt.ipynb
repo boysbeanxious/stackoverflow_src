{
 "cells": [
  {
   "cell_type": "markdown",
   "metadata": {},
   "source": [
    "2021 ~ 2023년  \n",
    "월말 데이터 중 샘플링해서 토픽모델링 진행  \n",
    "+ 데이터는 10번 파일에서 추출한 것 기준으로 진행, 그대신에 Bertopic에 파라미터 추가하여 모델링  \n",
    "+ 결과가 별로....ㅎ  "
   ]
  },
  {
   "cell_type": "code",
   "execution_count": 89,
   "metadata": {},
   "outputs": [],
   "source": [
    "import pandas as pd\n",
    "import seaborn as sns\n",
    "import matplotlib.pyplot as plt\n",
    "import numpy as np\n",
    "import pickle\n",
    "import re\n",
    "from umap import UMAP\n",
    "from hdbscan import HDBSCAN\n",
    "import torch\n",
    "from transformers import RobertaTokenizer, RobertaConfig, RobertaModel\n",
    "from collections.abc import Iterable\n",
    "from transformers import AutoTokenizer, AutoModel\n",
    "from bertopic import BERTopic\n",
    "import torch\n",
    "from collections import deque\n",
    "from bertopic.representation import KeyBERTInspired\n",
    "from tqdm import tqdm\n",
    "from sklearn.cluster import KMeans\n",
    "import calendar\n",
    "from bertopic.vectorizers import ClassTfidfTransformer\n",
    "from sklearn.feature_extraction.text import CountVectorizer\n",
    "import openai\n",
    "from bertopic.representation import KeyBERTInspired, MaximalMarginalRelevance, OpenAI, PartOfSpeech"
   ]
  },
  {
   "cell_type": "code",
   "execution_count": 90,
   "metadata": {},
   "outputs": [],
   "source": [
    "# sample_df\n",
    "# 전체 데이터셋 \n",
    "with open('../../data/sample_df.pkl', 'rb') as f:\n",
    "    sample_df = pickle.load(f)"
   ]
  },
  {
   "cell_type": "code",
   "execution_count": 91,
   "metadata": {},
   "outputs": [],
   "source": [
    "with open('../../data/sample_src_df.pkl', 'rb') as f:\n",
    "    sample_src_df = pickle.load(f)"
   ]
  },
  {
   "cell_type": "code",
   "execution_count": 51,
   "metadata": {},
   "outputs": [],
   "source": [
    "# 파일 불러오기\n",
    "with open('../../data/embed_text_list.pkl', 'rb') as f:\n",
    "    embed_text_list = pickle.load(f)\n"
   ]
  },
  {
   "cell_type": "code",
   "execution_count": 52,
   "metadata": {},
   "outputs": [],
   "source": [
    "# 파일 불러오기\n",
    "with open('../../data/data.pkl', 'rb') as f:\n",
    "    data = pickle.load(f)\n"
   ]
  },
  {
   "cell_type": "code",
   "execution_count": 53,
   "metadata": {},
   "outputs": [],
   "source": [
    "# 파일 불러오기\n",
    "with open('../../data/reserved_list.pkl', 'rb') as f:\n",
    "    reserved_list = pickle.load(f)\n"
   ]
  },
  {
   "cell_type": "code",
   "execution_count": 54,
   "metadata": {},
   "outputs": [
    {
     "data": {
      "text/plain": [
       "list"
      ]
     },
     "execution_count": 54,
     "metadata": {},
     "output_type": "execute_result"
    }
   ],
   "source": [
    "type(reserved_list)"
   ]
  },
  {
   "cell_type": "code",
   "execution_count": 55,
   "metadata": {},
   "outputs": [],
   "source": [
    "# CodeBERT 모델과 토크나이저 로드\n",
    "model_name = \"microsoft/codebert-base\"\n",
    "tokenizer = AutoTokenizer.from_pretrained(model_name)\n",
    "model = AutoModel.from_pretrained(model_name)"
   ]
  },
  {
   "cell_type": "code",
   "execution_count": 56,
   "metadata": {},
   "outputs": [],
   "source": [
    "# 모든 텍스트에 대한 임베딩 계산\n",
    "embeddings = torch.cat(embed_text_list, dim=0).numpy()  # 텐서로 연결 후 numpy 배열로 변환"
   ]
  },
  {
   "cell_type": "code",
   "execution_count": 57,
   "metadata": {},
   "outputs": [
    {
     "data": {
      "text/plain": [
       "(41900, 768)"
      ]
     },
     "execution_count": 57,
     "metadata": {},
     "output_type": "execute_result"
    }
   ],
   "source": [
    "embeddings.shape"
   ]
  },
  {
   "cell_type": "code",
   "execution_count": 58,
   "metadata": {},
   "outputs": [],
   "source": [
    "umap_model = UMAP(n_neighbors=10, n_components=5, min_dist=0.0, metric='cosine', random_state=42)"
   ]
  },
  {
   "cell_type": "code",
   "execution_count": 59,
   "metadata": {},
   "outputs": [],
   "source": [
    "hdbscan_model = HDBSCAN(min_cluster_size=20, metric='euclidean', cluster_selection_method='eom', prediction_data=True)\n",
    "cluster_model = KMeans(n_clusters=30)"
   ]
  },
  {
   "cell_type": "code",
   "execution_count": 75,
   "metadata": {},
   "outputs": [],
   "source": [
    "# KeyBERT\n",
    "keybert_model = KeyBERTInspired()\n",
    "\n",
    "# Part-of-Speech\n",
    "# pos_model = PartOfSpeech(\"en_core_web_sm\")\n",
    "\n",
    "# MMR\n",
    "mmr_model = MaximalMarginalRelevance(diversity=0.3)\n",
    "\n",
    "# GPT-3.5\n",
    "prompt = \"\"\"\n",
    "I have a topic that contains the documents: [REPRESENTATIVE_DOCUMENT]\n",
    "The topic is described by the following keywords: [KEYWORDS]\n",
    "\n",
    "Based on the information above, extract a short but highly descriptive topic label of at most 5 words. Make sure it is in the following format:\n",
    "topic: <topic label>\n",
    "\"\"\"\n",
    "client = openai.OpenAI(api_key=\"sk-proj-Mm0FIOmjCUgXc2T40TarT3BlbkFJ7YO5SE9kJokyhFrRxEiB\")\n",
    "openai_model = OpenAI(client, model=\"gpt-3.5-turbo\", exponential_backoff=True, chat=True, prompt=prompt)\n",
    "\n",
    "# All representation models\n",
    "representation_model = {\n",
    "    \"KeyBERT\": keybert_model,\n",
    "    \"OpenAI\": openai_model,  # Uncomment if you will use OpenAI\n",
    "    \"MMR\": mmr_model\n",
    "    # ,\n",
    "    # \"POS\": pos_model\n",
    "}"
   ]
  },
  {
   "cell_type": "code",
   "execution_count": 76,
   "metadata": {},
   "outputs": [],
   "source": [
    "vectorizer_model = CountVectorizer(stop_words=reserved_list, min_df=2, ngram_range=(1, 2))"
   ]
  },
  {
   "cell_type": "code",
   "execution_count": 77,
   "metadata": {},
   "outputs": [],
   "source": [
    "ctfidf_model = ClassTfidfTransformer(reduce_frequent_words=True)\n"
   ]
  },
  {
   "cell_type": "code",
   "execution_count": 125,
   "metadata": {},
   "outputs": [],
   "source": [
    "# BERTopic 모델 초기화 및 훈련\n",
    "topic_model = BERTopic( embedding_model=model,\n",
    "                        umap_model=umap_model,\n",
    "                        # hdbscan_model=hdbscan_model,\n",
    "                        hdbscan_model=cluster_model,\n",
    "                        ctfidf_model=ctfidf_model,\n",
    "                        vectorizer_model = vectorizer_model,\n",
    "                        representation_model=representation_model)  # 임베딩 모델 사용을 비활성화\n",
    "topics, probabilities = topic_model.fit_transform(data, embeddings)\n"
   ]
  },
  {
   "cell_type": "code",
   "execution_count": 126,
   "metadata": {},
   "outputs": [
    {
     "name": "stdout",
     "output_type": "stream",
     "text": [
      "    Topic  Count                                               Name  \\\n",
      "0       0   5095                  0_scrollbar_pod_dockerfile_spanid   \n",
      "1       1   3531                                1_df_foo_select_amp   \n",
      "2       2   3359           2_elemnt_elemnt elemnt_localhost_install   \n",
      "3       3   3257                           3_public_string_new_this   \n",
      "4       4   2928                           4_000 000_000_cannot_x00   \n",
      "5       5   2862             5_unknown unknown_rbf_precomputed_poly   \n",
      "6       6   2703                         6_const_this_new_classname   \n",
      "7       7   2490                                    7_self_np_na_1l   \n",
      "8       8   2268                   8_public_background_border_color   \n",
      "9       9   2043                          9_npm run_install_npm_git   \n",
      "10     10   2009                              10_at_java_at org_lib   \n",
      "11     11   1729           11_feature feature_feature_lock lock_ger   \n",
      "12     12   1458                        12_gt lt_quot gt_lt div_div   \n",
      "13     13   1450                         13_js_package json_ts_json   \n",
      "14     14   1100                14_py_std__output_connect_map_depth   \n",
      "15     15    855        15_quot quot_quot react_quot name_quot true   \n",
      "16     16    658         16_minmax_df_useeffect useeffect_useeffect   \n",
      "17     17    333  17_undefined_undefined null_bar react_debug debug   \n",
      "18     18    266      18_false false_user false_user user_data data   \n",
      "19     19    242            19_string string_saturday_pre gt_lt pre   \n",
      "20     20    240                      20_hg_hg forget_lib1 so_filec   \n",
      "21     21    195      21_context context_df df_position position_df   \n",
      "22     22    166              22_list list_lt code_readable_code gt   \n",
      "23     23    159                   23_id id_page2 page3_page3_page2   \n",
      "24     24    124               24_where where_where_l2 l2_host host   \n",
      "25     25    103             25_npm start_name name_div div_qthread   \n",
      "26     26     79                26_action action_iboeing_action_df2   \n",
      "27     27     70             27_html html_html index_html_html test   \n",
      "28     28     70                    28_listbox_prod prod_prod_listb   \n",
      "29     29     58  29_true true_start_time_start_time start_time_...   \n",
      "\n",
      "                                       Representation  \\\n",
      "0   [scrollbar, pod, dockerfile, spanid, your text...   \n",
      "1   [df, foo, select, amp, name, where, gt gt, end...   \n",
      "2   [elemnt, elemnt elemnt, localhost, install, lo...   \n",
      "3   [public, string, new, this, const, void, var, ...   \n",
      "4   [000 000, 000, cannot, x00, found, to, the, of...   \n",
      "5   [unknown unknown, rbf, precomputed, poly, sigm...   \n",
      "6   [const, this, new, classname, var, the, string...   \n",
      "7   [self, np, na, 1l, df, end, c3, na na, dim, sl...   \n",
      "8   [public, background, border, color, margin, ba...   \n",
      "9   [npm run, install, npm, git, docker compose, c...   \n",
      "10  [at, java, at org, lib, org, py, packages, quo...   \n",
      "11  [feature feature, feature, lock lock, ger, enu...   \n",
      "12  [gt lt, quot gt, lt div, div, div gt, android,...   \n",
      "13  [js, package json, ts, json, yml, txt, yaml, c...   \n",
      "14  [py, std, _output_connect, map_depth, isfinish...   \n",
      "15  [quot quot, quot react, quot name, quot true, ...   \n",
      "16  [minmax, df, useeffect useeffect, useeffect, 5...   \n",
      "17  [undefined, undefined null, bar react, debug d...   \n",
      "18  [false false, user false, user user, data data...   \n",
      "19  [string string, saturday, pre gt, lt pre, date...   \n",
      "20  [hg, hg forget, lib1 so, filec, yaml, lib1, fi...   \n",
      "21  [context context, df df, position position, df...   \n",
      "22  [list list, lt code, readable, code gt, lg col...   \n",
      "23  [id id, page2 page3, page3, page2, idperson, p...   \n",
      "24  [where where, where, l2 l2, host host, l2, tra...   \n",
      "25  [npm start, name name, div div, qthread, start...   \n",
      "26  [action action, iboeing, action, df2, echo, pr...   \n",
      "27  [html html, html index, html, html test, index...   \n",
      "28  [listbox, prod prod, prod, listb, info info, l...   \n",
      "29  [true true, start_time, start_time start_time,...   \n",
      "\n",
      "                                              KeyBERT  \\\n",
      "0   [scrollbar, form page, page, user form, page u...   \n",
      "1   [name, john, name quot, json, curl, group, dat...   \n",
      "2   [pip install, manage py, pip3, pip, modulenotf...   \n",
      "3   [null, get set, public void, error, static voi...   \n",
      "4   [typeerror cannot, typeerror, error, invalid, ...   \n",
      "5   [table1, table, dataframe, group by, df1, pd d...   \n",
      "6   [react, usestate, quot const, const, button, p...   \n",
      "7   [numpy, numpy np, tf keras, keras, plot, data ...   \n",
      "8   [margin top, background color, display flex, m...   \n",
      "9   [docker compose, docker, compose up, docker pu...   \n",
      "10  [org springframework, error, gradle, failed, o...   \n",
      "11  [feature, feature feature, boost, foo, lock, m...   \n",
      "12  [href quot, css, lt href, lt div, href, div qu...   \n",
      "13  [docker compose, compose yml, package json, js...   \n",
      "14  [main py, py, main, py setup, setup py, __init...   \n",
      "15  [react native, react, quot react, quot eslint,...   \n",
      "16  [replace regex, df name, df, name df, to_datet...   \n",
      "17  [bar react, react js, react, bar, hg forget, u...   \n",
      "18  [user, user user, user false, false user, user...   \n",
      "19  [pre, lt pre, pre gt, afterfunc, so lt, impl f...   \n",
      "20  [yaml, hg forget, application yaml, yml, filea...   \n",
      "21  [df, df df, position df, path df, context, con...   \n",
      "22  [lt code, code, code gt, lt, writeable, var, g...   \n",
      "23  [page3, page3 page3, page2 page3, page3 page2,...   \n",
      "24   [where, where where, host where, at, , , , , , ]   \n",
      "25  [npm start, start npm, npm, name npm, start, s...   \n",
      "26      [iboeing, xcode, actions, action, , , , , , ]   \n",
      "27  [index html, html index, html, html html, main...   \n",
      "28  [listbox, listb, listservicename, info, info i...   \n",
      "29  [start_time, start_time start_time, start_time...   \n",
      "\n",
      "                                            OpenAI  \\\n",
      "0        [Scrollbar Pod Dockerfile Spanid Webview]   \n",
      "1             [Data Selection and Filtering Tests]   \n",
      "2            [Server Installation Errors Solution]   \n",
      "3          [Programming fundamentals and concepts]   \n",
      "4              [Unidentified Image Representation]   \n",
      "5              [Kernel Methods for Classification]   \n",
      "6       [Object-Oriented Programming Fundamentals]   \n",
      "7          [Self-representation in sleep analysis]   \n",
      "8                      [Styling Web Page Elements]   \n",
      "9           [Dockerized npm Installation with Git]   \n",
      "10            [Programming Libraries and Packages]   \n",
      "11        [Data Processing and Feature Conversion]   \n",
      "12                  [Android Development Keywords]   \n",
      "13           [File Formats and Package Management]   \n",
      "14                [Py Performance Boost with Rosa]   \n",
      "15                    [React Native Documentation]   \n",
      "16                  [Text Processing and Analysis]   \n",
      "17                      [Debugging React JS tasks]   \n",
      "18                            [User Data Analysis]   \n",
      "19      [Saturday Orders Datetime Representations]   \n",
      "20     [Version Control Management with Mercurial]   \n",
      "21            [Contextual Document Representation]   \n",
      "22                  [Code Readability Enhancement]   \n",
      "23      [document identification and appointments]   \n",
      "24           [Json Deserialization and Validation]   \n",
      "25                           [npm start post name]   \n",
      "26             [Action in Boeing Testing Standard]   \n",
      "27                   [HTML Web Development Basics]   \n",
      "28               [Information on Listbox Features]   \n",
      "29  [Time-related representation and measurements]   \n",
      "\n",
      "                                                  MMR  \\\n",
      "0   [scrollbar, pod, dockerfile, spanid, your text...   \n",
      "1   [df, foo, select, amp, name, where, gt gt, end...   \n",
      "2   [elemnt, elemnt elemnt, localhost, install, lo...   \n",
      "3   [public, string, new, this, const, void, var, ...   \n",
      "4   [000 000, 000, cannot, x00, found, to, the, of...   \n",
      "5   [unknown unknown, rbf, precomputed, poly, sigm...   \n",
      "6   [const, this, new, classname, var, the, string...   \n",
      "7   [self, np, na, 1l, df, end, c3, na na, dim, sl...   \n",
      "8   [public, background, border, color, margin, ba...   \n",
      "9   [npm run, install, npm, git, docker compose, c...   \n",
      "10  [at, java, at org, lib, org, py, packages, quo...   \n",
      "11  [feature feature, feature, lock lock, ger, enu...   \n",
      "12  [gt lt, quot gt, lt div, div, div gt, android,...   \n",
      "13  [js, package json, ts, json, yml, txt, yaml, c...   \n",
      "14  [py, std, _output_connect, map_depth, isfinish...   \n",
      "15  [quot quot, quot react, quot name, quot true, ...   \n",
      "16  [minmax, df, useeffect useeffect, useeffect, 5...   \n",
      "17  [undefined, undefined null, bar react, debug d...   \n",
      "18  [false false, user false, user user, data data...   \n",
      "19  [string string, saturday, pre gt, lt pre, date...   \n",
      "20  [hg, hg forget, lib1 so, filec, yaml, lib1, fi...   \n",
      "21  [context context, df df, position position, df...   \n",
      "22  [list list, lt code, readable, code gt, lg col...   \n",
      "23  [id id, page2 page3, page3, page2, idperson, p...   \n",
      "24  [where where, where, l2 l2, host host, l2, tra...   \n",
      "25  [npm start, name name, div div, qthread, start...   \n",
      "26  [action action, iboeing, action, df2, echo, pr...   \n",
      "27  [html html, html index, html, html test, index...   \n",
      "28  [listbox, prod prod, prod, listb, info info, l...   \n",
      "29  [true true, start_time, start_time start_time,...   \n",
      "\n",
      "                                  Representative_Docs  \n",
      "0       [pod install, User Form Page, User Form Page]  \n",
      "1   [curl --silent --show-error -L -X POST &quot;h...  \n",
      "2   [/etc/pki/ca-trust/extracted/pem/tls-ca-bundle...  \n",
      "3   [using Microsoft.EntityFrameworkCore;\\nusing S...  \n",
      "4   [ 'type' does not contain a definition for 'na...  \n",
      "5   [update table1 t1 set t4.datum = t.datum\\nfrom...  \n",
      "6   [class Intercom {\\n  /// private constructor t...  \n",
      "7   [import numpy as np\\nfrom keras.models import ...  \n",
      "8   [* {\\n  margin: 0;\\n  box-sizing: border-box\\n...  \n",
      "9   [docker compose up, docker-compose up -d, dock...  \n",
      "10  [023-06-30 09:27:56.458 DEBUG 93093\\no.s.t.s.T...  \n",
      "11            [feature, feature, Good morning Hadley]  \n",
      "12  [&lt;link rel=&quot;stylesheet&quot; href=&quo...  \n",
      "13  [docker-compose.yml, docker-compose.yml, docke...  \n",
      "14  [main.py, main.py, if Rails.application.assets...  \n",
      "15  [  &quot;name&quot;: &quot;*******&quot;,\\n  &...  \n",
      "16  [for regex, replacement in regex_replace.items...  \n",
      "17  [hg forget Bar.react.js, hg forget Bar.react.j...  \n",
      "18                                 [User, User, user]  \n",
      "19            [&lt;pre&gt;, &lt;pre&gt;, &lt;pre&gt;]  \n",
      "20  [fileA.yaml\\nfileB.yaml\\nfileC.yaml, fileA.yam...  \n",
      "21                          [df, df, context.Context]  \n",
      "22         [&lt;code&gt;, &lt;code&gt;, &lt;code&gt;]  \n",
      "23                              [page3, page3, page3]  \n",
      "24                              [where, WHERE, WHERE]  \n",
      "25                  [npm start, npm start, npm start]  \n",
      "26                        [IBoeing, IBoeing, IBoeing]  \n",
      "27               [index.html, index.html, index.html]  \n",
      "28                        [ListBox, listBox, ListBox]  \n",
      "29               [start_time, start_time, start_time]  \n"
     ]
    }
   ],
   "source": [
    "# 결과 출력\n",
    "print(topic_model.get_topic_info())  # 토픽 정보 출력"
   ]
  },
  {
   "cell_type": "code",
   "execution_count": 127,
   "metadata": {},
   "outputs": [
    {
     "data": {
      "text/html": [
       "<div>\n",
       "<style scoped>\n",
       "    .dataframe tbody tr th:only-of-type {\n",
       "        vertical-align: middle;\n",
       "    }\n",
       "\n",
       "    .dataframe tbody tr th {\n",
       "        vertical-align: top;\n",
       "    }\n",
       "\n",
       "    .dataframe thead th {\n",
       "        text-align: right;\n",
       "    }\n",
       "</style>\n",
       "<table border=\"1\" class=\"dataframe\">\n",
       "  <thead>\n",
       "    <tr style=\"text-align: right;\">\n",
       "      <th></th>\n",
       "      <th>Topic</th>\n",
       "      <th>Count</th>\n",
       "      <th>Name</th>\n",
       "      <th>Representation</th>\n",
       "      <th>KeyBERT</th>\n",
       "      <th>OpenAI</th>\n",
       "      <th>MMR</th>\n",
       "      <th>Representative_Docs</th>\n",
       "    </tr>\n",
       "  </thead>\n",
       "  <tbody>\n",
       "    <tr>\n",
       "      <th>0</th>\n",
       "      <td>0</td>\n",
       "      <td>5095</td>\n",
       "      <td>0_scrollbar_pod_dockerfile_spanid</td>\n",
       "      <td>[scrollbar, pod, dockerfile, spanid, your text...</td>\n",
       "      <td>[scrollbar, form page, page, user form, page u...</td>\n",
       "      <td>[Scrollbar Pod Dockerfile Spanid Webview]</td>\n",
       "      <td>[scrollbar, pod, dockerfile, spanid, your text...</td>\n",
       "      <td>[pod install, User Form Page, User Form Page]</td>\n",
       "    </tr>\n",
       "    <tr>\n",
       "      <th>1</th>\n",
       "      <td>1</td>\n",
       "      <td>3531</td>\n",
       "      <td>1_df_foo_select_amp</td>\n",
       "      <td>[df, foo, select, amp, name, where, gt gt, end...</td>\n",
       "      <td>[name, john, name quot, json, curl, group, dat...</td>\n",
       "      <td>[Data Selection and Filtering Tests]</td>\n",
       "      <td>[df, foo, select, amp, name, where, gt gt, end...</td>\n",
       "      <td>[curl --silent --show-error -L -X POST &amp;quot;h...</td>\n",
       "    </tr>\n",
       "    <tr>\n",
       "      <th>2</th>\n",
       "      <td>2</td>\n",
       "      <td>3359</td>\n",
       "      <td>2_elemnt_elemnt elemnt_localhost_install</td>\n",
       "      <td>[elemnt, elemnt elemnt, localhost, install, lo...</td>\n",
       "      <td>[pip install, manage py, pip3, pip, modulenotf...</td>\n",
       "      <td>[Server Installation Errors Solution]</td>\n",
       "      <td>[elemnt, elemnt elemnt, localhost, install, lo...</td>\n",
       "      <td>[/etc/pki/ca-trust/extracted/pem/tls-ca-bundle...</td>\n",
       "    </tr>\n",
       "    <tr>\n",
       "      <th>3</th>\n",
       "      <td>3</td>\n",
       "      <td>3257</td>\n",
       "      <td>3_public_string_new_this</td>\n",
       "      <td>[public, string, new, this, const, void, var, ...</td>\n",
       "      <td>[null, get set, public void, error, static voi...</td>\n",
       "      <td>[Programming fundamentals and concepts]</td>\n",
       "      <td>[public, string, new, this, const, void, var, ...</td>\n",
       "      <td>[using Microsoft.EntityFrameworkCore;\\nusing S...</td>\n",
       "    </tr>\n",
       "    <tr>\n",
       "      <th>4</th>\n",
       "      <td>4</td>\n",
       "      <td>2928</td>\n",
       "      <td>4_000 000_000_cannot_x00</td>\n",
       "      <td>[000 000, 000, cannot, x00, found, to, the, of...</td>\n",
       "      <td>[typeerror cannot, typeerror, error, invalid, ...</td>\n",
       "      <td>[Unidentified Image Representation]</td>\n",
       "      <td>[000 000, 000, cannot, x00, found, to, the, of...</td>\n",
       "      <td>[ 'type' does not contain a definition for 'na...</td>\n",
       "    </tr>\n",
       "    <tr>\n",
       "      <th>5</th>\n",
       "      <td>5</td>\n",
       "      <td>2862</td>\n",
       "      <td>5_unknown unknown_rbf_precomputed_poly</td>\n",
       "      <td>[unknown unknown, rbf, precomputed, poly, sigm...</td>\n",
       "      <td>[table1, table, dataframe, group by, df1, pd d...</td>\n",
       "      <td>[Kernel Methods for Classification]</td>\n",
       "      <td>[unknown unknown, rbf, precomputed, poly, sigm...</td>\n",
       "      <td>[update table1 t1 set t4.datum = t.datum\\nfrom...</td>\n",
       "    </tr>\n",
       "    <tr>\n",
       "      <th>6</th>\n",
       "      <td>6</td>\n",
       "      <td>2703</td>\n",
       "      <td>6_const_this_new_classname</td>\n",
       "      <td>[const, this, new, classname, var, the, string...</td>\n",
       "      <td>[react, usestate, quot const, const, button, p...</td>\n",
       "      <td>[Object-Oriented Programming Fundamentals]</td>\n",
       "      <td>[const, this, new, classname, var, the, string...</td>\n",
       "      <td>[class Intercom {\\n  /// private constructor t...</td>\n",
       "    </tr>\n",
       "    <tr>\n",
       "      <th>7</th>\n",
       "      <td>7</td>\n",
       "      <td>2490</td>\n",
       "      <td>7_self_np_na_1l</td>\n",
       "      <td>[self, np, na, 1l, df, end, c3, na na, dim, sl...</td>\n",
       "      <td>[numpy, numpy np, tf keras, keras, plot, data ...</td>\n",
       "      <td>[Self-representation in sleep analysis]</td>\n",
       "      <td>[self, np, na, 1l, df, end, c3, na na, dim, sl...</td>\n",
       "      <td>[import numpy as np\\nfrom keras.models import ...</td>\n",
       "    </tr>\n",
       "    <tr>\n",
       "      <th>8</th>\n",
       "      <td>8</td>\n",
       "      <td>2268</td>\n",
       "      <td>8_public_background_border_color</td>\n",
       "      <td>[public, background, border, color, margin, ba...</td>\n",
       "      <td>[margin top, background color, display flex, m...</td>\n",
       "      <td>[Styling Web Page Elements]</td>\n",
       "      <td>[public, background, border, color, margin, ba...</td>\n",
       "      <td>[* {\\n  margin: 0;\\n  box-sizing: border-box\\n...</td>\n",
       "    </tr>\n",
       "    <tr>\n",
       "      <th>9</th>\n",
       "      <td>9</td>\n",
       "      <td>2043</td>\n",
       "      <td>9_npm run_install_npm_git</td>\n",
       "      <td>[npm run, install, npm, git, docker compose, c...</td>\n",
       "      <td>[docker compose, docker, compose up, docker pu...</td>\n",
       "      <td>[Dockerized npm Installation with Git]</td>\n",
       "      <td>[npm run, install, npm, git, docker compose, c...</td>\n",
       "      <td>[docker compose up, docker-compose up -d, dock...</td>\n",
       "    </tr>\n",
       "    <tr>\n",
       "      <th>10</th>\n",
       "      <td>10</td>\n",
       "      <td>2009</td>\n",
       "      <td>10_at_java_at org_lib</td>\n",
       "      <td>[at, java, at org, lib, org, py, packages, quo...</td>\n",
       "      <td>[org springframework, error, gradle, failed, o...</td>\n",
       "      <td>[Programming Libraries and Packages]</td>\n",
       "      <td>[at, java, at org, lib, org, py, packages, quo...</td>\n",
       "      <td>[023-06-30 09:27:56.458 DEBUG 93093\\no.s.t.s.T...</td>\n",
       "    </tr>\n",
       "    <tr>\n",
       "      <th>11</th>\n",
       "      <td>11</td>\n",
       "      <td>1729</td>\n",
       "      <td>11_feature feature_feature_lock lock_ger</td>\n",
       "      <td>[feature feature, feature, lock lock, ger, enu...</td>\n",
       "      <td>[feature, feature feature, boost, foo, lock, m...</td>\n",
       "      <td>[Data Processing and Feature Conversion]</td>\n",
       "      <td>[feature feature, feature, lock lock, ger, enu...</td>\n",
       "      <td>[feature, feature, Good morning Hadley]</td>\n",
       "    </tr>\n",
       "    <tr>\n",
       "      <th>12</th>\n",
       "      <td>12</td>\n",
       "      <td>1458</td>\n",
       "      <td>12_gt lt_quot gt_lt div_div</td>\n",
       "      <td>[gt lt, quot gt, lt div, div, div gt, android,...</td>\n",
       "      <td>[href quot, css, lt href, lt div, href, div qu...</td>\n",
       "      <td>[Android Development Keywords]</td>\n",
       "      <td>[gt lt, quot gt, lt div, div, div gt, android,...</td>\n",
       "      <td>[&amp;lt;link rel=&amp;quot;stylesheet&amp;quot; href=&amp;quo...</td>\n",
       "    </tr>\n",
       "    <tr>\n",
       "      <th>13</th>\n",
       "      <td>13</td>\n",
       "      <td>1450</td>\n",
       "      <td>13_js_package json_ts_json</td>\n",
       "      <td>[js, package json, ts, json, yml, txt, yaml, c...</td>\n",
       "      <td>[docker compose, compose yml, package json, js...</td>\n",
       "      <td>[File Formats and Package Management]</td>\n",
       "      <td>[js, package json, ts, json, yml, txt, yaml, c...</td>\n",
       "      <td>[docker-compose.yml, docker-compose.yml, docke...</td>\n",
       "    </tr>\n",
       "    <tr>\n",
       "      <th>14</th>\n",
       "      <td>14</td>\n",
       "      <td>1100</td>\n",
       "      <td>14_py_std__output_connect_map_depth</td>\n",
       "      <td>[py, std, _output_connect, map_depth, isfinish...</td>\n",
       "      <td>[main py, py, main, py setup, setup py, __init...</td>\n",
       "      <td>[Py Performance Boost with Rosa]</td>\n",
       "      <td>[py, std, _output_connect, map_depth, isfinish...</td>\n",
       "      <td>[main.py, main.py, if Rails.application.assets...</td>\n",
       "    </tr>\n",
       "    <tr>\n",
       "      <th>15</th>\n",
       "      <td>15</td>\n",
       "      <td>855</td>\n",
       "      <td>15_quot quot_quot react_quot name_quot true</td>\n",
       "      <td>[quot quot, quot react, quot name, quot true, ...</td>\n",
       "      <td>[react native, react, quot react, quot eslint,...</td>\n",
       "      <td>[React Native Documentation]</td>\n",
       "      <td>[quot quot, quot react, quot name, quot true, ...</td>\n",
       "      <td>[  &amp;quot;name&amp;quot;: &amp;quot;*******&amp;quot;,\\n  &amp;...</td>\n",
       "    </tr>\n",
       "    <tr>\n",
       "      <th>16</th>\n",
       "      <td>16</td>\n",
       "      <td>658</td>\n",
       "      <td>16_minmax_df_useeffect useeffect_useeffect</td>\n",
       "      <td>[minmax, df, useeffect useeffect, useeffect, 5...</td>\n",
       "      <td>[replace regex, df name, df, name df, to_datet...</td>\n",
       "      <td>[Text Processing and Analysis]</td>\n",
       "      <td>[minmax, df, useeffect useeffect, useeffect, 5...</td>\n",
       "      <td>[for regex, replacement in regex_replace.items...</td>\n",
       "    </tr>\n",
       "    <tr>\n",
       "      <th>17</th>\n",
       "      <td>17</td>\n",
       "      <td>333</td>\n",
       "      <td>17_undefined_undefined null_bar react_debug debug</td>\n",
       "      <td>[undefined, undefined null, bar react, debug d...</td>\n",
       "      <td>[bar react, react js, react, bar, hg forget, u...</td>\n",
       "      <td>[Debugging React JS tasks]</td>\n",
       "      <td>[undefined, undefined null, bar react, debug d...</td>\n",
       "      <td>[hg forget Bar.react.js, hg forget Bar.react.j...</td>\n",
       "    </tr>\n",
       "    <tr>\n",
       "      <th>18</th>\n",
       "      <td>18</td>\n",
       "      <td>266</td>\n",
       "      <td>18_false false_user false_user user_data data</td>\n",
       "      <td>[false false, user false, user user, data data...</td>\n",
       "      <td>[user, user user, user false, false user, user...</td>\n",
       "      <td>[User Data Analysis]</td>\n",
       "      <td>[false false, user false, user user, data data...</td>\n",
       "      <td>[User, User, user]</td>\n",
       "    </tr>\n",
       "    <tr>\n",
       "      <th>19</th>\n",
       "      <td>19</td>\n",
       "      <td>242</td>\n",
       "      <td>19_string string_saturday_pre gt_lt pre</td>\n",
       "      <td>[string string, saturday, pre gt, lt pre, date...</td>\n",
       "      <td>[pre, lt pre, pre gt, afterfunc, so lt, impl f...</td>\n",
       "      <td>[Saturday Orders Datetime Representations]</td>\n",
       "      <td>[string string, saturday, pre gt, lt pre, date...</td>\n",
       "      <td>[&amp;lt;pre&amp;gt;, &amp;lt;pre&amp;gt;, &amp;lt;pre&amp;gt;]</td>\n",
       "    </tr>\n",
       "    <tr>\n",
       "      <th>20</th>\n",
       "      <td>20</td>\n",
       "      <td>240</td>\n",
       "      <td>20_hg_hg forget_lib1 so_filec</td>\n",
       "      <td>[hg, hg forget, lib1 so, filec, yaml, lib1, fi...</td>\n",
       "      <td>[yaml, hg forget, application yaml, yml, filea...</td>\n",
       "      <td>[Version Control Management with Mercurial]</td>\n",
       "      <td>[hg, hg forget, lib1 so, filec, yaml, lib1, fi...</td>\n",
       "      <td>[fileA.yaml\\nfileB.yaml\\nfileC.yaml, fileA.yam...</td>\n",
       "    </tr>\n",
       "    <tr>\n",
       "      <th>21</th>\n",
       "      <td>21</td>\n",
       "      <td>195</td>\n",
       "      <td>21_context context_df df_position position_df</td>\n",
       "      <td>[context context, df df, position position, df...</td>\n",
       "      <td>[df, df df, position df, path df, context, con...</td>\n",
       "      <td>[Contextual Document Representation]</td>\n",
       "      <td>[context context, df df, position position, df...</td>\n",
       "      <td>[df, df, context.Context]</td>\n",
       "    </tr>\n",
       "    <tr>\n",
       "      <th>22</th>\n",
       "      <td>22</td>\n",
       "      <td>166</td>\n",
       "      <td>22_list list_lt code_readable_code gt</td>\n",
       "      <td>[list list, lt code, readable, code gt, lg col...</td>\n",
       "      <td>[lt code, code, code gt, lt, writeable, var, g...</td>\n",
       "      <td>[Code Readability Enhancement]</td>\n",
       "      <td>[list list, lt code, readable, code gt, lg col...</td>\n",
       "      <td>[&amp;lt;code&amp;gt;, &amp;lt;code&amp;gt;, &amp;lt;code&amp;gt;]</td>\n",
       "    </tr>\n",
       "    <tr>\n",
       "      <th>23</th>\n",
       "      <td>23</td>\n",
       "      <td>159</td>\n",
       "      <td>23_id id_page2 page3_page3_page2</td>\n",
       "      <td>[id id, page2 page3, page3, page2, idperson, p...</td>\n",
       "      <td>[page3, page3 page3, page2 page3, page3 page2,...</td>\n",
       "      <td>[document identification and appointments]</td>\n",
       "      <td>[id id, page2 page3, page3, page2, idperson, p...</td>\n",
       "      <td>[page3, page3, page3]</td>\n",
       "    </tr>\n",
       "    <tr>\n",
       "      <th>24</th>\n",
       "      <td>24</td>\n",
       "      <td>124</td>\n",
       "      <td>24_where where_where_l2 l2_host host</td>\n",
       "      <td>[where where, where, l2 l2, host host, l2, tra...</td>\n",
       "      <td>[where, where where, host where, at, , , , , , ]</td>\n",
       "      <td>[Json Deserialization and Validation]</td>\n",
       "      <td>[where where, where, l2 l2, host host, l2, tra...</td>\n",
       "      <td>[where, WHERE, WHERE]</td>\n",
       "    </tr>\n",
       "    <tr>\n",
       "      <th>25</th>\n",
       "      <td>25</td>\n",
       "      <td>103</td>\n",
       "      <td>25_npm start_name name_div div_qthread</td>\n",
       "      <td>[npm start, name name, div div, qthread, start...</td>\n",
       "      <td>[npm start, start npm, npm, name npm, start, s...</td>\n",
       "      <td>[npm start post name]</td>\n",
       "      <td>[npm start, name name, div div, qthread, start...</td>\n",
       "      <td>[npm start, npm start, npm start]</td>\n",
       "    </tr>\n",
       "    <tr>\n",
       "      <th>26</th>\n",
       "      <td>26</td>\n",
       "      <td>79</td>\n",
       "      <td>26_action action_iboeing_action_df2</td>\n",
       "      <td>[action action, iboeing, action, df2, echo, pr...</td>\n",
       "      <td>[iboeing, xcode, actions, action, , , , , , ]</td>\n",
       "      <td>[Action in Boeing Testing Standard]</td>\n",
       "      <td>[action action, iboeing, action, df2, echo, pr...</td>\n",
       "      <td>[IBoeing, IBoeing, IBoeing]</td>\n",
       "    </tr>\n",
       "    <tr>\n",
       "      <th>27</th>\n",
       "      <td>27</td>\n",
       "      <td>70</td>\n",
       "      <td>27_html html_html index_html_html test</td>\n",
       "      <td>[html html, html index, html, html test, index...</td>\n",
       "      <td>[index html, html index, html, html html, main...</td>\n",
       "      <td>[HTML Web Development Basics]</td>\n",
       "      <td>[html html, html index, html, html test, index...</td>\n",
       "      <td>[index.html, index.html, index.html]</td>\n",
       "    </tr>\n",
       "    <tr>\n",
       "      <th>28</th>\n",
       "      <td>28</td>\n",
       "      <td>70</td>\n",
       "      <td>28_listbox_prod prod_prod_listb</td>\n",
       "      <td>[listbox, prod prod, prod, listb, info info, l...</td>\n",
       "      <td>[listbox, listb, listservicename, info, info i...</td>\n",
       "      <td>[Information on Listbox Features]</td>\n",
       "      <td>[listbox, prod prod, prod, listb, info info, l...</td>\n",
       "      <td>[ListBox, listBox, ListBox]</td>\n",
       "    </tr>\n",
       "    <tr>\n",
       "      <th>29</th>\n",
       "      <td>29</td>\n",
       "      <td>58</td>\n",
       "      <td>29_true true_start_time_start_time start_time_...</td>\n",
       "      <td>[true true, start_time, start_time start_time,...</td>\n",
       "      <td>[start_time, start_time start_time, start_time...</td>\n",
       "      <td>[Time-related representation and measurements]</td>\n",
       "      <td>[true true, start_time, start_time start_time,...</td>\n",
       "      <td>[start_time, start_time, start_time]</td>\n",
       "    </tr>\n",
       "  </tbody>\n",
       "</table>\n",
       "</div>"
      ],
      "text/plain": [
       "    Topic  Count                                               Name  \\\n",
       "0       0   5095                  0_scrollbar_pod_dockerfile_spanid   \n",
       "1       1   3531                                1_df_foo_select_amp   \n",
       "2       2   3359           2_elemnt_elemnt elemnt_localhost_install   \n",
       "3       3   3257                           3_public_string_new_this   \n",
       "4       4   2928                           4_000 000_000_cannot_x00   \n",
       "5       5   2862             5_unknown unknown_rbf_precomputed_poly   \n",
       "6       6   2703                         6_const_this_new_classname   \n",
       "7       7   2490                                    7_self_np_na_1l   \n",
       "8       8   2268                   8_public_background_border_color   \n",
       "9       9   2043                          9_npm run_install_npm_git   \n",
       "10     10   2009                              10_at_java_at org_lib   \n",
       "11     11   1729           11_feature feature_feature_lock lock_ger   \n",
       "12     12   1458                        12_gt lt_quot gt_lt div_div   \n",
       "13     13   1450                         13_js_package json_ts_json   \n",
       "14     14   1100                14_py_std__output_connect_map_depth   \n",
       "15     15    855        15_quot quot_quot react_quot name_quot true   \n",
       "16     16    658         16_minmax_df_useeffect useeffect_useeffect   \n",
       "17     17    333  17_undefined_undefined null_bar react_debug debug   \n",
       "18     18    266      18_false false_user false_user user_data data   \n",
       "19     19    242            19_string string_saturday_pre gt_lt pre   \n",
       "20     20    240                      20_hg_hg forget_lib1 so_filec   \n",
       "21     21    195      21_context context_df df_position position_df   \n",
       "22     22    166              22_list list_lt code_readable_code gt   \n",
       "23     23    159                   23_id id_page2 page3_page3_page2   \n",
       "24     24    124               24_where where_where_l2 l2_host host   \n",
       "25     25    103             25_npm start_name name_div div_qthread   \n",
       "26     26     79                26_action action_iboeing_action_df2   \n",
       "27     27     70             27_html html_html index_html_html test   \n",
       "28     28     70                    28_listbox_prod prod_prod_listb   \n",
       "29     29     58  29_true true_start_time_start_time start_time_...   \n",
       "\n",
       "                                       Representation  \\\n",
       "0   [scrollbar, pod, dockerfile, spanid, your text...   \n",
       "1   [df, foo, select, amp, name, where, gt gt, end...   \n",
       "2   [elemnt, elemnt elemnt, localhost, install, lo...   \n",
       "3   [public, string, new, this, const, void, var, ...   \n",
       "4   [000 000, 000, cannot, x00, found, to, the, of...   \n",
       "5   [unknown unknown, rbf, precomputed, poly, sigm...   \n",
       "6   [const, this, new, classname, var, the, string...   \n",
       "7   [self, np, na, 1l, df, end, c3, na na, dim, sl...   \n",
       "8   [public, background, border, color, margin, ba...   \n",
       "9   [npm run, install, npm, git, docker compose, c...   \n",
       "10  [at, java, at org, lib, org, py, packages, quo...   \n",
       "11  [feature feature, feature, lock lock, ger, enu...   \n",
       "12  [gt lt, quot gt, lt div, div, div gt, android,...   \n",
       "13  [js, package json, ts, json, yml, txt, yaml, c...   \n",
       "14  [py, std, _output_connect, map_depth, isfinish...   \n",
       "15  [quot quot, quot react, quot name, quot true, ...   \n",
       "16  [minmax, df, useeffect useeffect, useeffect, 5...   \n",
       "17  [undefined, undefined null, bar react, debug d...   \n",
       "18  [false false, user false, user user, data data...   \n",
       "19  [string string, saturday, pre gt, lt pre, date...   \n",
       "20  [hg, hg forget, lib1 so, filec, yaml, lib1, fi...   \n",
       "21  [context context, df df, position position, df...   \n",
       "22  [list list, lt code, readable, code gt, lg col...   \n",
       "23  [id id, page2 page3, page3, page2, idperson, p...   \n",
       "24  [where where, where, l2 l2, host host, l2, tra...   \n",
       "25  [npm start, name name, div div, qthread, start...   \n",
       "26  [action action, iboeing, action, df2, echo, pr...   \n",
       "27  [html html, html index, html, html test, index...   \n",
       "28  [listbox, prod prod, prod, listb, info info, l...   \n",
       "29  [true true, start_time, start_time start_time,...   \n",
       "\n",
       "                                              KeyBERT  \\\n",
       "0   [scrollbar, form page, page, user form, page u...   \n",
       "1   [name, john, name quot, json, curl, group, dat...   \n",
       "2   [pip install, manage py, pip3, pip, modulenotf...   \n",
       "3   [null, get set, public void, error, static voi...   \n",
       "4   [typeerror cannot, typeerror, error, invalid, ...   \n",
       "5   [table1, table, dataframe, group by, df1, pd d...   \n",
       "6   [react, usestate, quot const, const, button, p...   \n",
       "7   [numpy, numpy np, tf keras, keras, plot, data ...   \n",
       "8   [margin top, background color, display flex, m...   \n",
       "9   [docker compose, docker, compose up, docker pu...   \n",
       "10  [org springframework, error, gradle, failed, o...   \n",
       "11  [feature, feature feature, boost, foo, lock, m...   \n",
       "12  [href quot, css, lt href, lt div, href, div qu...   \n",
       "13  [docker compose, compose yml, package json, js...   \n",
       "14  [main py, py, main, py setup, setup py, __init...   \n",
       "15  [react native, react, quot react, quot eslint,...   \n",
       "16  [replace regex, df name, df, name df, to_datet...   \n",
       "17  [bar react, react js, react, bar, hg forget, u...   \n",
       "18  [user, user user, user false, false user, user...   \n",
       "19  [pre, lt pre, pre gt, afterfunc, so lt, impl f...   \n",
       "20  [yaml, hg forget, application yaml, yml, filea...   \n",
       "21  [df, df df, position df, path df, context, con...   \n",
       "22  [lt code, code, code gt, lt, writeable, var, g...   \n",
       "23  [page3, page3 page3, page2 page3, page3 page2,...   \n",
       "24   [where, where where, host where, at, , , , , , ]   \n",
       "25  [npm start, start npm, npm, name npm, start, s...   \n",
       "26      [iboeing, xcode, actions, action, , , , , , ]   \n",
       "27  [index html, html index, html, html html, main...   \n",
       "28  [listbox, listb, listservicename, info, info i...   \n",
       "29  [start_time, start_time start_time, start_time...   \n",
       "\n",
       "                                            OpenAI  \\\n",
       "0        [Scrollbar Pod Dockerfile Spanid Webview]   \n",
       "1             [Data Selection and Filtering Tests]   \n",
       "2            [Server Installation Errors Solution]   \n",
       "3          [Programming fundamentals and concepts]   \n",
       "4              [Unidentified Image Representation]   \n",
       "5              [Kernel Methods for Classification]   \n",
       "6       [Object-Oriented Programming Fundamentals]   \n",
       "7          [Self-representation in sleep analysis]   \n",
       "8                      [Styling Web Page Elements]   \n",
       "9           [Dockerized npm Installation with Git]   \n",
       "10            [Programming Libraries and Packages]   \n",
       "11        [Data Processing and Feature Conversion]   \n",
       "12                  [Android Development Keywords]   \n",
       "13           [File Formats and Package Management]   \n",
       "14                [Py Performance Boost with Rosa]   \n",
       "15                    [React Native Documentation]   \n",
       "16                  [Text Processing and Analysis]   \n",
       "17                      [Debugging React JS tasks]   \n",
       "18                            [User Data Analysis]   \n",
       "19      [Saturday Orders Datetime Representations]   \n",
       "20     [Version Control Management with Mercurial]   \n",
       "21            [Contextual Document Representation]   \n",
       "22                  [Code Readability Enhancement]   \n",
       "23      [document identification and appointments]   \n",
       "24           [Json Deserialization and Validation]   \n",
       "25                           [npm start post name]   \n",
       "26             [Action in Boeing Testing Standard]   \n",
       "27                   [HTML Web Development Basics]   \n",
       "28               [Information on Listbox Features]   \n",
       "29  [Time-related representation and measurements]   \n",
       "\n",
       "                                                  MMR  \\\n",
       "0   [scrollbar, pod, dockerfile, spanid, your text...   \n",
       "1   [df, foo, select, amp, name, where, gt gt, end...   \n",
       "2   [elemnt, elemnt elemnt, localhost, install, lo...   \n",
       "3   [public, string, new, this, const, void, var, ...   \n",
       "4   [000 000, 000, cannot, x00, found, to, the, of...   \n",
       "5   [unknown unknown, rbf, precomputed, poly, sigm...   \n",
       "6   [const, this, new, classname, var, the, string...   \n",
       "7   [self, np, na, 1l, df, end, c3, na na, dim, sl...   \n",
       "8   [public, background, border, color, margin, ba...   \n",
       "9   [npm run, install, npm, git, docker compose, c...   \n",
       "10  [at, java, at org, lib, org, py, packages, quo...   \n",
       "11  [feature feature, feature, lock lock, ger, enu...   \n",
       "12  [gt lt, quot gt, lt div, div, div gt, android,...   \n",
       "13  [js, package json, ts, json, yml, txt, yaml, c...   \n",
       "14  [py, std, _output_connect, map_depth, isfinish...   \n",
       "15  [quot quot, quot react, quot name, quot true, ...   \n",
       "16  [minmax, df, useeffect useeffect, useeffect, 5...   \n",
       "17  [undefined, undefined null, bar react, debug d...   \n",
       "18  [false false, user false, user user, data data...   \n",
       "19  [string string, saturday, pre gt, lt pre, date...   \n",
       "20  [hg, hg forget, lib1 so, filec, yaml, lib1, fi...   \n",
       "21  [context context, df df, position position, df...   \n",
       "22  [list list, lt code, readable, code gt, lg col...   \n",
       "23  [id id, page2 page3, page3, page2, idperson, p...   \n",
       "24  [where where, where, l2 l2, host host, l2, tra...   \n",
       "25  [npm start, name name, div div, qthread, start...   \n",
       "26  [action action, iboeing, action, df2, echo, pr...   \n",
       "27  [html html, html index, html, html test, index...   \n",
       "28  [listbox, prod prod, prod, listb, info info, l...   \n",
       "29  [true true, start_time, start_time start_time,...   \n",
       "\n",
       "                                  Representative_Docs  \n",
       "0       [pod install, User Form Page, User Form Page]  \n",
       "1   [curl --silent --show-error -L -X POST &quot;h...  \n",
       "2   [/etc/pki/ca-trust/extracted/pem/tls-ca-bundle...  \n",
       "3   [using Microsoft.EntityFrameworkCore;\\nusing S...  \n",
       "4   [ 'type' does not contain a definition for 'na...  \n",
       "5   [update table1 t1 set t4.datum = t.datum\\nfrom...  \n",
       "6   [class Intercom {\\n  /// private constructor t...  \n",
       "7   [import numpy as np\\nfrom keras.models import ...  \n",
       "8   [* {\\n  margin: 0;\\n  box-sizing: border-box\\n...  \n",
       "9   [docker compose up, docker-compose up -d, dock...  \n",
       "10  [023-06-30 09:27:56.458 DEBUG 93093\\no.s.t.s.T...  \n",
       "11            [feature, feature, Good morning Hadley]  \n",
       "12  [&lt;link rel=&quot;stylesheet&quot; href=&quo...  \n",
       "13  [docker-compose.yml, docker-compose.yml, docke...  \n",
       "14  [main.py, main.py, if Rails.application.assets...  \n",
       "15  [  &quot;name&quot;: &quot;*******&quot;,\\n  &...  \n",
       "16  [for regex, replacement in regex_replace.items...  \n",
       "17  [hg forget Bar.react.js, hg forget Bar.react.j...  \n",
       "18                                 [User, User, user]  \n",
       "19            [&lt;pre&gt;, &lt;pre&gt;, &lt;pre&gt;]  \n",
       "20  [fileA.yaml\\nfileB.yaml\\nfileC.yaml, fileA.yam...  \n",
       "21                          [df, df, context.Context]  \n",
       "22         [&lt;code&gt;, &lt;code&gt;, &lt;code&gt;]  \n",
       "23                              [page3, page3, page3]  \n",
       "24                              [where, WHERE, WHERE]  \n",
       "25                  [npm start, npm start, npm start]  \n",
       "26                        [IBoeing, IBoeing, IBoeing]  \n",
       "27               [index.html, index.html, index.html]  \n",
       "28                        [ListBox, listBox, ListBox]  \n",
       "29               [start_time, start_time, start_time]  "
      ]
     },
     "execution_count": 127,
     "metadata": {},
     "output_type": "execute_result"
    }
   ],
   "source": [
    "topic_model.get_topic_info()"
   ]
  },
  {
   "cell_type": "code",
   "execution_count": 128,
   "metadata": {},
   "outputs": [
    {
     "data": {
      "text/plain": [
       "[('scrollbar', 0.41966175039641973),\n",
       " ('pod', 0.3297022639699186),\n",
       " ('dockerfile', 0.29674060531508045),\n",
       " ('spanid', 0.2949959001923368),\n",
       " ('your text', 0.2923286310491116),\n",
       " ('yarn', 0.2912253559539932),\n",
       " ('nls', 0.28974244613711136),\n",
       " ('ssm ssm', 0.28974244613711136),\n",
       " ('form page', 0.28974244613711136),\n",
       " ('webview', 0.2847380824458261)]"
      ]
     },
     "execution_count": 128,
     "metadata": {},
     "output_type": "execute_result"
    }
   ],
   "source": [
    "topic_model.get_topic(0)"
   ]
  },
  {
   "cell_type": "code",
   "execution_count": 129,
   "metadata": {},
   "outputs": [
    {
     "data": {
      "text/plain": [
       "[('df', 0.19139235246275216),\n",
       " ('foo', 0.1805217969099929),\n",
       " ('select', 0.1676932631789555),\n",
       " ('amp', 0.1618631571296677),\n",
       " ('name', 0.1606033330139786),\n",
       " ('where', 0.1551573904053522),\n",
       " ('gt gt', 0.15458779970592212),\n",
       " ('end', 0.14793856528224394),\n",
       " ('test', 0.1474695927401739),\n",
       " ('data', 0.14729518701493188)]"
      ]
     },
     "execution_count": 129,
     "metadata": {},
     "output_type": "execute_result"
    }
   ],
   "source": [
    "topic_model.get_topic(1)"
   ]
  },
  {
   "cell_type": "code",
   "execution_count": 130,
   "metadata": {},
   "outputs": [
    {
     "data": {
      "text/plain": [
       "{'Main': [('const', 0.22803404083073767),\n",
       "  ('this', 0.19511332070834186),\n",
       "  ('new', 0.19429944612263847),\n",
       "  ('classname', 0.1894744053314764),\n",
       "  ('var', 0.18329867336233774),\n",
       "  ('the', 0.17919734134784532),\n",
       "  ('string', 0.17603662775173512),\n",
       "  ('amp', 0.1735908734504192),\n",
       "  ('function', 0.17228440847929127),\n",
       "  ('let', 0.17211065382607643)],\n",
       " 'KeyBERT': [('react', 0.53489137),\n",
       "  ('usestate', 0.45105374),\n",
       "  ('quot const', 0.3088873),\n",
       "  ('const', 0.27976972),\n",
       "  ('button', 0.22919855),\n",
       "  ('props', 0.2001075),\n",
       "  ('gt const', 0.18108594),\n",
       "  ('form', 0.18080057),\n",
       "  ('error', 0.17669988),\n",
       "  ('json', 0.15363276)],\n",
       " 'OpenAI': [('Object-Oriented Programming Fundamentals', 1)],\n",
       " 'MMR': [('const', 0.22803404083073767),\n",
       "  ('this', 0.19511332070834186),\n",
       "  ('new', 0.19429944612263847),\n",
       "  ('classname', 0.1894744053314764),\n",
       "  ('var', 0.18329867336233774),\n",
       "  ('the', 0.17919734134784532),\n",
       "  ('string', 0.17603662775173512),\n",
       "  ('amp', 0.1735908734504192),\n",
       "  ('function', 0.17228440847929127),\n",
       "  ('let', 0.17211065382607643)]}"
      ]
     },
     "execution_count": 130,
     "metadata": {},
     "output_type": "execute_result"
    }
   ],
   "source": [
    "topic_model.get_topic(6, full=True)"
   ]
  },
  {
   "cell_type": "code",
   "execution_count": 131,
   "metadata": {},
   "outputs": [],
   "source": [
    "# # Label the topics yourself\n",
    "# topic_model.set_topic_labels({1: \"Space Travel\", 7: \"Religion\"})\n",
    "\n",
    "# # or use one of the other topic representations, like KeyBERTInspired\n",
    "# keybert_topic_labels = {topic: \" | \".join(list(zip(*values))[0][:3]) for topic, values in topic_model.topic_aspects_[\"KeyBERT\"].items()}\n",
    "# topic_model.set_topic_labels(keybert_topic_labels)\n",
    "\n",
    "# # or ChatGPT's labels\n",
    "# chatgpt_topic_labels = {topic: \" | \".join(list(zip(*values))[0]) for topic, values in topic_model.topic_aspects_[\"OpenAI\"].items()}\n",
    "# chatgpt_topic_labels[-1] = \"Outlier Topic\"\n",
    "# topic_model.set_topic_labels(chatgpt_topic_labels)"
   ]
  },
  {
   "cell_type": "code",
   "execution_count": 132,
   "metadata": {},
   "outputs": [],
   "source": [
    "# topic_distr, _ = topic_model.approximate_distribution(data, window=8, stride=4)"
   ]
  },
  {
   "cell_type": "code",
   "execution_count": 133,
   "metadata": {},
   "outputs": [],
   "source": [
    "# pip install nbformat>=4.2.0"
   ]
  },
  {
   "cell_type": "code",
   "execution_count": 134,
   "metadata": {},
   "outputs": [
    {
     "data": {
      "application/vnd.plotly.v1+json": {
       "config": {
        "plotlyServerURL": "https://plot.ly"
       },
       "data": [
        {
         "customdata": [
          [
           0,
           "scrollbar | pod | dockerfile | spanid | your text",
           5095
          ],
          [
           1,
           "df | foo | select | amp | name",
           3531
          ],
          [
           2,
           "elemnt | elemnt elemnt | localhost | install | localhost 8080",
           3359
          ],
          [
           3,
           "public | string | new | this | const",
           3257
          ],
          [
           4,
           "000 000 | 000 | cannot | x00 | found",
           2928
          ],
          [
           5,
           "unknown unknown | rbf | precomputed | poly | sigmoid",
           2862
          ],
          [
           6,
           "const | this | new | classname | var",
           2703
          ],
          [
           7,
           "self | np | na | 1l | df",
           2490
          ],
          [
           8,
           "public | background | border | color | margin",
           2268
          ],
          [
           9,
           "npm run | install | npm | git | docker compose",
           2043
          ],
          [
           10,
           "at | java | at org | lib | org",
           2009
          ],
          [
           11,
           "feature feature | feature | lock lock | ger | enum",
           1729
          ],
          [
           12,
           "gt lt | quot gt | lt div | div | div gt",
           1458
          ],
          [
           13,
           "js | package json | ts | json | yml",
           1450
          ],
          [
           14,
           "py | std | _output_connect | map_depth | isfinishing",
           1100
          ],
          [
           15,
           "quot quot | quot react | quot name | quot true | true quot",
           855
          ],
          [
           16,
           "minmax | df | useeffect useeffect | useeffect | 527",
           658
          ],
          [
           17,
           "undefined | undefined null | bar react | debug debug | react js",
           333
          ],
          [
           18,
           "false false | user false | user user | data data | false user",
           266
          ],
          [
           19,
           "string string | saturday | pre gt | lt pre | datetime string",
           242
          ],
          [
           20,
           "hg | hg forget | lib1 so | filec | yaml",
           240
          ],
          [
           21,
           "context context | df df | position position | df | case case",
           195
          ],
          [
           22,
           "list list | lt code | readable | code gt | lg col",
           166
          ],
          [
           23,
           "id id | page2 page3 | page3 | page2 | idperson",
           159
          ],
          [
           24,
           "where where | where | l2 l2 | host host | l2",
           124
          ],
          [
           25,
           "npm start | name name | div div | qthread | start npm",
           103
          ],
          [
           26,
           "action action | iboeing | action | df2 | echo",
           79
          ],
          [
           27,
           "html html | html index | html | html test | index html",
           70
          ],
          [
           28,
           "listbox | prod prod | prod | listb | info info",
           70
          ],
          [
           29,
           "true true | start_time | start_time start_time | true | end_time",
           58
          ]
         ],
         "hovertemplate": "<b>Topic %{customdata[0]}</b><br>%{customdata[1]}<br>Size: %{customdata[2]}",
         "legendgroup": "",
         "marker": {
          "color": "#B0BEC5",
          "line": {
           "color": "DarkSlateGrey",
           "width": 2
          },
          "size": [
           5095,
           3531,
           3359,
           3257,
           2928,
           2862,
           2703,
           2490,
           2268,
           2043,
           2009,
           1729,
           1458,
           1450,
           1100,
           855,
           658,
           333,
           266,
           242,
           240,
           195,
           166,
           159,
           124,
           103,
           79,
           70,
           70,
           58
          ],
          "sizemode": "area",
          "sizeref": 3.184375,
          "symbol": "circle"
         },
         "mode": "markers",
         "name": "",
         "orientation": "v",
         "showlegend": false,
         "type": "scatter",
         "x": [
          17.8477840423584,
          18.559757232666016,
          18.715551376342773,
          2.249269485473633,
          18.750669479370117,
          -5.874746322631836,
          1.712466835975647,
          1.9104846715927124,
          -5.986629962921143,
          18.57598876953125,
          1.6278529167175293,
          15.040002822875977,
          2.218867063522339,
          1.1997228860855103,
          1.3633205890655518,
          2.3507747650146484,
          1.046287178993225,
          14.249624252319336,
          14.080443382263184,
          18.13960075378418,
          14.90613842010498,
          11.39650821685791,
          12.140198707580566,
          11.799341201782227,
          14.421027183532715,
          13.778109550476074,
          11.767158508300781,
          17.887861251831055,
          18.254558563232422,
          14.842788696289062
         ],
         "xaxis": "x",
         "y": [
          2.136873722076416,
          -0.31467312574386597,
          0.372885525226593,
          -1.1522884368896484,
          -0.14467978477478027,
          1.8251184225082397,
          -1.23225998878479,
          -1.5356372594833374,
          1.936156988143921,
          0.7690764665603638,
          -1.601093053817749,
          3.23559832572937,
          -0.9015094041824341,
          -5.532039165496826,
          -5.6945414543151855,
          -1.0547131299972534,
          -5.37843132019043,
          2.500152826309204,
          2.8690097332000732,
          2.158658266067505,
          2.9306952953338623,
          4.703416347503662,
          4.2842793464660645,
          4.680530071258545,
          3.227905750274658,
          3.3656835556030273,
          4.571085453033447,
          1.7167295217514038,
          1.962692141532898,
          3.4996161460876465
         ],
         "yaxis": "y"
        }
       ],
       "layout": {
        "annotations": [
         {
          "showarrow": false,
          "text": "D1",
          "x": -6.884624457359314,
          "y": -0.569896936416626,
          "yshift": 10
         },
         {
          "showarrow": false,
          "text": "D2",
          "x": 7.339322721958161,
          "xshift": 10,
          "y": 5.408928799629211
         }
        ],
        "height": 650,
        "hoverlabel": {
         "bgcolor": "white",
         "font": {
          "family": "Rockwell",
          "size": 16
         }
        },
        "legend": {
         "itemsizing": "constant",
         "tracegroupgap": 0
        },
        "margin": {
         "t": 60
        },
        "shapes": [
         {
          "line": {
           "color": "#CFD8DC",
           "width": 2
          },
          "type": "line",
          "x0": 7.339322721958161,
          "x1": 7.339322721958161,
          "y0": -6.548722672462463,
          "y1": 5.408928799629211
         },
         {
          "line": {
           "color": "#9E9E9E",
           "width": 2
          },
          "type": "line",
          "x0": -6.884624457359314,
          "x1": 21.563269901275635,
          "y0": -0.569896936416626,
          "y1": -0.569896936416626
         }
        ],
        "sliders": [
         {
          "active": 0,
          "pad": {
           "t": 50
          },
          "steps": [
           {
            "args": [
             {
              "marker.color": [
               [
                "red",
                "#B0BEC5",
                "#B0BEC5",
                "#B0BEC5",
                "#B0BEC5",
                "#B0BEC5",
                "#B0BEC5",
                "#B0BEC5",
                "#B0BEC5",
                "#B0BEC5",
                "#B0BEC5",
                "#B0BEC5",
                "#B0BEC5",
                "#B0BEC5",
                "#B0BEC5",
                "#B0BEC5",
                "#B0BEC5",
                "#B0BEC5",
                "#B0BEC5",
                "#B0BEC5",
                "#B0BEC5",
                "#B0BEC5",
                "#B0BEC5",
                "#B0BEC5",
                "#B0BEC5",
                "#B0BEC5",
                "#B0BEC5",
                "#B0BEC5",
                "#B0BEC5",
                "#B0BEC5"
               ]
              ]
             }
            ],
            "label": "Topic 0",
            "method": "update"
           },
           {
            "args": [
             {
              "marker.color": [
               [
                "#B0BEC5",
                "red",
                "#B0BEC5",
                "#B0BEC5",
                "#B0BEC5",
                "#B0BEC5",
                "#B0BEC5",
                "#B0BEC5",
                "#B0BEC5",
                "#B0BEC5",
                "#B0BEC5",
                "#B0BEC5",
                "#B0BEC5",
                "#B0BEC5",
                "#B0BEC5",
                "#B0BEC5",
                "#B0BEC5",
                "#B0BEC5",
                "#B0BEC5",
                "#B0BEC5",
                "#B0BEC5",
                "#B0BEC5",
                "#B0BEC5",
                "#B0BEC5",
                "#B0BEC5",
                "#B0BEC5",
                "#B0BEC5",
                "#B0BEC5",
                "#B0BEC5",
                "#B0BEC5"
               ]
              ]
             }
            ],
            "label": "Topic 1",
            "method": "update"
           },
           {
            "args": [
             {
              "marker.color": [
               [
                "#B0BEC5",
                "#B0BEC5",
                "red",
                "#B0BEC5",
                "#B0BEC5",
                "#B0BEC5",
                "#B0BEC5",
                "#B0BEC5",
                "#B0BEC5",
                "#B0BEC5",
                "#B0BEC5",
                "#B0BEC5",
                "#B0BEC5",
                "#B0BEC5",
                "#B0BEC5",
                "#B0BEC5",
                "#B0BEC5",
                "#B0BEC5",
                "#B0BEC5",
                "#B0BEC5",
                "#B0BEC5",
                "#B0BEC5",
                "#B0BEC5",
                "#B0BEC5",
                "#B0BEC5",
                "#B0BEC5",
                "#B0BEC5",
                "#B0BEC5",
                "#B0BEC5",
                "#B0BEC5"
               ]
              ]
             }
            ],
            "label": "Topic 2",
            "method": "update"
           },
           {
            "args": [
             {
              "marker.color": [
               [
                "#B0BEC5",
                "#B0BEC5",
                "#B0BEC5",
                "red",
                "#B0BEC5",
                "#B0BEC5",
                "#B0BEC5",
                "#B0BEC5",
                "#B0BEC5",
                "#B0BEC5",
                "#B0BEC5",
                "#B0BEC5",
                "#B0BEC5",
                "#B0BEC5",
                "#B0BEC5",
                "#B0BEC5",
                "#B0BEC5",
                "#B0BEC5",
                "#B0BEC5",
                "#B0BEC5",
                "#B0BEC5",
                "#B0BEC5",
                "#B0BEC5",
                "#B0BEC5",
                "#B0BEC5",
                "#B0BEC5",
                "#B0BEC5",
                "#B0BEC5",
                "#B0BEC5",
                "#B0BEC5"
               ]
              ]
             }
            ],
            "label": "Topic 3",
            "method": "update"
           },
           {
            "args": [
             {
              "marker.color": [
               [
                "#B0BEC5",
                "#B0BEC5",
                "#B0BEC5",
                "#B0BEC5",
                "red",
                "#B0BEC5",
                "#B0BEC5",
                "#B0BEC5",
                "#B0BEC5",
                "#B0BEC5",
                "#B0BEC5",
                "#B0BEC5",
                "#B0BEC5",
                "#B0BEC5",
                "#B0BEC5",
                "#B0BEC5",
                "#B0BEC5",
                "#B0BEC5",
                "#B0BEC5",
                "#B0BEC5",
                "#B0BEC5",
                "#B0BEC5",
                "#B0BEC5",
                "#B0BEC5",
                "#B0BEC5",
                "#B0BEC5",
                "#B0BEC5",
                "#B0BEC5",
                "#B0BEC5",
                "#B0BEC5"
               ]
              ]
             }
            ],
            "label": "Topic 4",
            "method": "update"
           },
           {
            "args": [
             {
              "marker.color": [
               [
                "#B0BEC5",
                "#B0BEC5",
                "#B0BEC5",
                "#B0BEC5",
                "#B0BEC5",
                "red",
                "#B0BEC5",
                "#B0BEC5",
                "#B0BEC5",
                "#B0BEC5",
                "#B0BEC5",
                "#B0BEC5",
                "#B0BEC5",
                "#B0BEC5",
                "#B0BEC5",
                "#B0BEC5",
                "#B0BEC5",
                "#B0BEC5",
                "#B0BEC5",
                "#B0BEC5",
                "#B0BEC5",
                "#B0BEC5",
                "#B0BEC5",
                "#B0BEC5",
                "#B0BEC5",
                "#B0BEC5",
                "#B0BEC5",
                "#B0BEC5",
                "#B0BEC5",
                "#B0BEC5"
               ]
              ]
             }
            ],
            "label": "Topic 5",
            "method": "update"
           },
           {
            "args": [
             {
              "marker.color": [
               [
                "#B0BEC5",
                "#B0BEC5",
                "#B0BEC5",
                "#B0BEC5",
                "#B0BEC5",
                "#B0BEC5",
                "red",
                "#B0BEC5",
                "#B0BEC5",
                "#B0BEC5",
                "#B0BEC5",
                "#B0BEC5",
                "#B0BEC5",
                "#B0BEC5",
                "#B0BEC5",
                "#B0BEC5",
                "#B0BEC5",
                "#B0BEC5",
                "#B0BEC5",
                "#B0BEC5",
                "#B0BEC5",
                "#B0BEC5",
                "#B0BEC5",
                "#B0BEC5",
                "#B0BEC5",
                "#B0BEC5",
                "#B0BEC5",
                "#B0BEC5",
                "#B0BEC5",
                "#B0BEC5"
               ]
              ]
             }
            ],
            "label": "Topic 6",
            "method": "update"
           },
           {
            "args": [
             {
              "marker.color": [
               [
                "#B0BEC5",
                "#B0BEC5",
                "#B0BEC5",
                "#B0BEC5",
                "#B0BEC5",
                "#B0BEC5",
                "#B0BEC5",
                "red",
                "#B0BEC5",
                "#B0BEC5",
                "#B0BEC5",
                "#B0BEC5",
                "#B0BEC5",
                "#B0BEC5",
                "#B0BEC5",
                "#B0BEC5",
                "#B0BEC5",
                "#B0BEC5",
                "#B0BEC5",
                "#B0BEC5",
                "#B0BEC5",
                "#B0BEC5",
                "#B0BEC5",
                "#B0BEC5",
                "#B0BEC5",
                "#B0BEC5",
                "#B0BEC5",
                "#B0BEC5",
                "#B0BEC5",
                "#B0BEC5"
               ]
              ]
             }
            ],
            "label": "Topic 7",
            "method": "update"
           },
           {
            "args": [
             {
              "marker.color": [
               [
                "#B0BEC5",
                "#B0BEC5",
                "#B0BEC5",
                "#B0BEC5",
                "#B0BEC5",
                "#B0BEC5",
                "#B0BEC5",
                "#B0BEC5",
                "red",
                "#B0BEC5",
                "#B0BEC5",
                "#B0BEC5",
                "#B0BEC5",
                "#B0BEC5",
                "#B0BEC5",
                "#B0BEC5",
                "#B0BEC5",
                "#B0BEC5",
                "#B0BEC5",
                "#B0BEC5",
                "#B0BEC5",
                "#B0BEC5",
                "#B0BEC5",
                "#B0BEC5",
                "#B0BEC5",
                "#B0BEC5",
                "#B0BEC5",
                "#B0BEC5",
                "#B0BEC5",
                "#B0BEC5"
               ]
              ]
             }
            ],
            "label": "Topic 8",
            "method": "update"
           },
           {
            "args": [
             {
              "marker.color": [
               [
                "#B0BEC5",
                "#B0BEC5",
                "#B0BEC5",
                "#B0BEC5",
                "#B0BEC5",
                "#B0BEC5",
                "#B0BEC5",
                "#B0BEC5",
                "#B0BEC5",
                "red",
                "#B0BEC5",
                "#B0BEC5",
                "#B0BEC5",
                "#B0BEC5",
                "#B0BEC5",
                "#B0BEC5",
                "#B0BEC5",
                "#B0BEC5",
                "#B0BEC5",
                "#B0BEC5",
                "#B0BEC5",
                "#B0BEC5",
                "#B0BEC5",
                "#B0BEC5",
                "#B0BEC5",
                "#B0BEC5",
                "#B0BEC5",
                "#B0BEC5",
                "#B0BEC5",
                "#B0BEC5"
               ]
              ]
             }
            ],
            "label": "Topic 9",
            "method": "update"
           },
           {
            "args": [
             {
              "marker.color": [
               [
                "#B0BEC5",
                "#B0BEC5",
                "#B0BEC5",
                "#B0BEC5",
                "#B0BEC5",
                "#B0BEC5",
                "#B0BEC5",
                "#B0BEC5",
                "#B0BEC5",
                "#B0BEC5",
                "red",
                "#B0BEC5",
                "#B0BEC5",
                "#B0BEC5",
                "#B0BEC5",
                "#B0BEC5",
                "#B0BEC5",
                "#B0BEC5",
                "#B0BEC5",
                "#B0BEC5",
                "#B0BEC5",
                "#B0BEC5",
                "#B0BEC5",
                "#B0BEC5",
                "#B0BEC5",
                "#B0BEC5",
                "#B0BEC5",
                "#B0BEC5",
                "#B0BEC5",
                "#B0BEC5"
               ]
              ]
             }
            ],
            "label": "Topic 10",
            "method": "update"
           },
           {
            "args": [
             {
              "marker.color": [
               [
                "#B0BEC5",
                "#B0BEC5",
                "#B0BEC5",
                "#B0BEC5",
                "#B0BEC5",
                "#B0BEC5",
                "#B0BEC5",
                "#B0BEC5",
                "#B0BEC5",
                "#B0BEC5",
                "#B0BEC5",
                "red",
                "#B0BEC5",
                "#B0BEC5",
                "#B0BEC5",
                "#B0BEC5",
                "#B0BEC5",
                "#B0BEC5",
                "#B0BEC5",
                "#B0BEC5",
                "#B0BEC5",
                "#B0BEC5",
                "#B0BEC5",
                "#B0BEC5",
                "#B0BEC5",
                "#B0BEC5",
                "#B0BEC5",
                "#B0BEC5",
                "#B0BEC5",
                "#B0BEC5"
               ]
              ]
             }
            ],
            "label": "Topic 11",
            "method": "update"
           },
           {
            "args": [
             {
              "marker.color": [
               [
                "#B0BEC5",
                "#B0BEC5",
                "#B0BEC5",
                "#B0BEC5",
                "#B0BEC5",
                "#B0BEC5",
                "#B0BEC5",
                "#B0BEC5",
                "#B0BEC5",
                "#B0BEC5",
                "#B0BEC5",
                "#B0BEC5",
                "red",
                "#B0BEC5",
                "#B0BEC5",
                "#B0BEC5",
                "#B0BEC5",
                "#B0BEC5",
                "#B0BEC5",
                "#B0BEC5",
                "#B0BEC5",
                "#B0BEC5",
                "#B0BEC5",
                "#B0BEC5",
                "#B0BEC5",
                "#B0BEC5",
                "#B0BEC5",
                "#B0BEC5",
                "#B0BEC5",
                "#B0BEC5"
               ]
              ]
             }
            ],
            "label": "Topic 12",
            "method": "update"
           },
           {
            "args": [
             {
              "marker.color": [
               [
                "#B0BEC5",
                "#B0BEC5",
                "#B0BEC5",
                "#B0BEC5",
                "#B0BEC5",
                "#B0BEC5",
                "#B0BEC5",
                "#B0BEC5",
                "#B0BEC5",
                "#B0BEC5",
                "#B0BEC5",
                "#B0BEC5",
                "#B0BEC5",
                "red",
                "#B0BEC5",
                "#B0BEC5",
                "#B0BEC5",
                "#B0BEC5",
                "#B0BEC5",
                "#B0BEC5",
                "#B0BEC5",
                "#B0BEC5",
                "#B0BEC5",
                "#B0BEC5",
                "#B0BEC5",
                "#B0BEC5",
                "#B0BEC5",
                "#B0BEC5",
                "#B0BEC5",
                "#B0BEC5"
               ]
              ]
             }
            ],
            "label": "Topic 13",
            "method": "update"
           },
           {
            "args": [
             {
              "marker.color": [
               [
                "#B0BEC5",
                "#B0BEC5",
                "#B0BEC5",
                "#B0BEC5",
                "#B0BEC5",
                "#B0BEC5",
                "#B0BEC5",
                "#B0BEC5",
                "#B0BEC5",
                "#B0BEC5",
                "#B0BEC5",
                "#B0BEC5",
                "#B0BEC5",
                "#B0BEC5",
                "red",
                "#B0BEC5",
                "#B0BEC5",
                "#B0BEC5",
                "#B0BEC5",
                "#B0BEC5",
                "#B0BEC5",
                "#B0BEC5",
                "#B0BEC5",
                "#B0BEC5",
                "#B0BEC5",
                "#B0BEC5",
                "#B0BEC5",
                "#B0BEC5",
                "#B0BEC5",
                "#B0BEC5"
               ]
              ]
             }
            ],
            "label": "Topic 14",
            "method": "update"
           },
           {
            "args": [
             {
              "marker.color": [
               [
                "#B0BEC5",
                "#B0BEC5",
                "#B0BEC5",
                "#B0BEC5",
                "#B0BEC5",
                "#B0BEC5",
                "#B0BEC5",
                "#B0BEC5",
                "#B0BEC5",
                "#B0BEC5",
                "#B0BEC5",
                "#B0BEC5",
                "#B0BEC5",
                "#B0BEC5",
                "#B0BEC5",
                "red",
                "#B0BEC5",
                "#B0BEC5",
                "#B0BEC5",
                "#B0BEC5",
                "#B0BEC5",
                "#B0BEC5",
                "#B0BEC5",
                "#B0BEC5",
                "#B0BEC5",
                "#B0BEC5",
                "#B0BEC5",
                "#B0BEC5",
                "#B0BEC5",
                "#B0BEC5"
               ]
              ]
             }
            ],
            "label": "Topic 15",
            "method": "update"
           },
           {
            "args": [
             {
              "marker.color": [
               [
                "#B0BEC5",
                "#B0BEC5",
                "#B0BEC5",
                "#B0BEC5",
                "#B0BEC5",
                "#B0BEC5",
                "#B0BEC5",
                "#B0BEC5",
                "#B0BEC5",
                "#B0BEC5",
                "#B0BEC5",
                "#B0BEC5",
                "#B0BEC5",
                "#B0BEC5",
                "#B0BEC5",
                "#B0BEC5",
                "red",
                "#B0BEC5",
                "#B0BEC5",
                "#B0BEC5",
                "#B0BEC5",
                "#B0BEC5",
                "#B0BEC5",
                "#B0BEC5",
                "#B0BEC5",
                "#B0BEC5",
                "#B0BEC5",
                "#B0BEC5",
                "#B0BEC5",
                "#B0BEC5"
               ]
              ]
             }
            ],
            "label": "Topic 16",
            "method": "update"
           },
           {
            "args": [
             {
              "marker.color": [
               [
                "#B0BEC5",
                "#B0BEC5",
                "#B0BEC5",
                "#B0BEC5",
                "#B0BEC5",
                "#B0BEC5",
                "#B0BEC5",
                "#B0BEC5",
                "#B0BEC5",
                "#B0BEC5",
                "#B0BEC5",
                "#B0BEC5",
                "#B0BEC5",
                "#B0BEC5",
                "#B0BEC5",
                "#B0BEC5",
                "#B0BEC5",
                "red",
                "#B0BEC5",
                "#B0BEC5",
                "#B0BEC5",
                "#B0BEC5",
                "#B0BEC5",
                "#B0BEC5",
                "#B0BEC5",
                "#B0BEC5",
                "#B0BEC5",
                "#B0BEC5",
                "#B0BEC5",
                "#B0BEC5"
               ]
              ]
             }
            ],
            "label": "Topic 17",
            "method": "update"
           },
           {
            "args": [
             {
              "marker.color": [
               [
                "#B0BEC5",
                "#B0BEC5",
                "#B0BEC5",
                "#B0BEC5",
                "#B0BEC5",
                "#B0BEC5",
                "#B0BEC5",
                "#B0BEC5",
                "#B0BEC5",
                "#B0BEC5",
                "#B0BEC5",
                "#B0BEC5",
                "#B0BEC5",
                "#B0BEC5",
                "#B0BEC5",
                "#B0BEC5",
                "#B0BEC5",
                "#B0BEC5",
                "red",
                "#B0BEC5",
                "#B0BEC5",
                "#B0BEC5",
                "#B0BEC5",
                "#B0BEC5",
                "#B0BEC5",
                "#B0BEC5",
                "#B0BEC5",
                "#B0BEC5",
                "#B0BEC5",
                "#B0BEC5"
               ]
              ]
             }
            ],
            "label": "Topic 18",
            "method": "update"
           },
           {
            "args": [
             {
              "marker.color": [
               [
                "#B0BEC5",
                "#B0BEC5",
                "#B0BEC5",
                "#B0BEC5",
                "#B0BEC5",
                "#B0BEC5",
                "#B0BEC5",
                "#B0BEC5",
                "#B0BEC5",
                "#B0BEC5",
                "#B0BEC5",
                "#B0BEC5",
                "#B0BEC5",
                "#B0BEC5",
                "#B0BEC5",
                "#B0BEC5",
                "#B0BEC5",
                "#B0BEC5",
                "#B0BEC5",
                "red",
                "#B0BEC5",
                "#B0BEC5",
                "#B0BEC5",
                "#B0BEC5",
                "#B0BEC5",
                "#B0BEC5",
                "#B0BEC5",
                "#B0BEC5",
                "#B0BEC5",
                "#B0BEC5"
               ]
              ]
             }
            ],
            "label": "Topic 19",
            "method": "update"
           },
           {
            "args": [
             {
              "marker.color": [
               [
                "#B0BEC5",
                "#B0BEC5",
                "#B0BEC5",
                "#B0BEC5",
                "#B0BEC5",
                "#B0BEC5",
                "#B0BEC5",
                "#B0BEC5",
                "#B0BEC5",
                "#B0BEC5",
                "#B0BEC5",
                "#B0BEC5",
                "#B0BEC5",
                "#B0BEC5",
                "#B0BEC5",
                "#B0BEC5",
                "#B0BEC5",
                "#B0BEC5",
                "#B0BEC5",
                "#B0BEC5",
                "red",
                "#B0BEC5",
                "#B0BEC5",
                "#B0BEC5",
                "#B0BEC5",
                "#B0BEC5",
                "#B0BEC5",
                "#B0BEC5",
                "#B0BEC5",
                "#B0BEC5"
               ]
              ]
             }
            ],
            "label": "Topic 20",
            "method": "update"
           },
           {
            "args": [
             {
              "marker.color": [
               [
                "#B0BEC5",
                "#B0BEC5",
                "#B0BEC5",
                "#B0BEC5",
                "#B0BEC5",
                "#B0BEC5",
                "#B0BEC5",
                "#B0BEC5",
                "#B0BEC5",
                "#B0BEC5",
                "#B0BEC5",
                "#B0BEC5",
                "#B0BEC5",
                "#B0BEC5",
                "#B0BEC5",
                "#B0BEC5",
                "#B0BEC5",
                "#B0BEC5",
                "#B0BEC5",
                "#B0BEC5",
                "#B0BEC5",
                "red",
                "#B0BEC5",
                "#B0BEC5",
                "#B0BEC5",
                "#B0BEC5",
                "#B0BEC5",
                "#B0BEC5",
                "#B0BEC5",
                "#B0BEC5"
               ]
              ]
             }
            ],
            "label": "Topic 21",
            "method": "update"
           },
           {
            "args": [
             {
              "marker.color": [
               [
                "#B0BEC5",
                "#B0BEC5",
                "#B0BEC5",
                "#B0BEC5",
                "#B0BEC5",
                "#B0BEC5",
                "#B0BEC5",
                "#B0BEC5",
                "#B0BEC5",
                "#B0BEC5",
                "#B0BEC5",
                "#B0BEC5",
                "#B0BEC5",
                "#B0BEC5",
                "#B0BEC5",
                "#B0BEC5",
                "#B0BEC5",
                "#B0BEC5",
                "#B0BEC5",
                "#B0BEC5",
                "#B0BEC5",
                "#B0BEC5",
                "red",
                "#B0BEC5",
                "#B0BEC5",
                "#B0BEC5",
                "#B0BEC5",
                "#B0BEC5",
                "#B0BEC5",
                "#B0BEC5"
               ]
              ]
             }
            ],
            "label": "Topic 22",
            "method": "update"
           },
           {
            "args": [
             {
              "marker.color": [
               [
                "#B0BEC5",
                "#B0BEC5",
                "#B0BEC5",
                "#B0BEC5",
                "#B0BEC5",
                "#B0BEC5",
                "#B0BEC5",
                "#B0BEC5",
                "#B0BEC5",
                "#B0BEC5",
                "#B0BEC5",
                "#B0BEC5",
                "#B0BEC5",
                "#B0BEC5",
                "#B0BEC5",
                "#B0BEC5",
                "#B0BEC5",
                "#B0BEC5",
                "#B0BEC5",
                "#B0BEC5",
                "#B0BEC5",
                "#B0BEC5",
                "#B0BEC5",
                "red",
                "#B0BEC5",
                "#B0BEC5",
                "#B0BEC5",
                "#B0BEC5",
                "#B0BEC5",
                "#B0BEC5"
               ]
              ]
             }
            ],
            "label": "Topic 23",
            "method": "update"
           },
           {
            "args": [
             {
              "marker.color": [
               [
                "#B0BEC5",
                "#B0BEC5",
                "#B0BEC5",
                "#B0BEC5",
                "#B0BEC5",
                "#B0BEC5",
                "#B0BEC5",
                "#B0BEC5",
                "#B0BEC5",
                "#B0BEC5",
                "#B0BEC5",
                "#B0BEC5",
                "#B0BEC5",
                "#B0BEC5",
                "#B0BEC5",
                "#B0BEC5",
                "#B0BEC5",
                "#B0BEC5",
                "#B0BEC5",
                "#B0BEC5",
                "#B0BEC5",
                "#B0BEC5",
                "#B0BEC5",
                "#B0BEC5",
                "red",
                "#B0BEC5",
                "#B0BEC5",
                "#B0BEC5",
                "#B0BEC5",
                "#B0BEC5"
               ]
              ]
             }
            ],
            "label": "Topic 24",
            "method": "update"
           },
           {
            "args": [
             {
              "marker.color": [
               [
                "#B0BEC5",
                "#B0BEC5",
                "#B0BEC5",
                "#B0BEC5",
                "#B0BEC5",
                "#B0BEC5",
                "#B0BEC5",
                "#B0BEC5",
                "#B0BEC5",
                "#B0BEC5",
                "#B0BEC5",
                "#B0BEC5",
                "#B0BEC5",
                "#B0BEC5",
                "#B0BEC5",
                "#B0BEC5",
                "#B0BEC5",
                "#B0BEC5",
                "#B0BEC5",
                "#B0BEC5",
                "#B0BEC5",
                "#B0BEC5",
                "#B0BEC5",
                "#B0BEC5",
                "#B0BEC5",
                "red",
                "#B0BEC5",
                "#B0BEC5",
                "#B0BEC5",
                "#B0BEC5"
               ]
              ]
             }
            ],
            "label": "Topic 25",
            "method": "update"
           },
           {
            "args": [
             {
              "marker.color": [
               [
                "#B0BEC5",
                "#B0BEC5",
                "#B0BEC5",
                "#B0BEC5",
                "#B0BEC5",
                "#B0BEC5",
                "#B0BEC5",
                "#B0BEC5",
                "#B0BEC5",
                "#B0BEC5",
                "#B0BEC5",
                "#B0BEC5",
                "#B0BEC5",
                "#B0BEC5",
                "#B0BEC5",
                "#B0BEC5",
                "#B0BEC5",
                "#B0BEC5",
                "#B0BEC5",
                "#B0BEC5",
                "#B0BEC5",
                "#B0BEC5",
                "#B0BEC5",
                "#B0BEC5",
                "#B0BEC5",
                "#B0BEC5",
                "red",
                "#B0BEC5",
                "#B0BEC5",
                "#B0BEC5"
               ]
              ]
             }
            ],
            "label": "Topic 26",
            "method": "update"
           },
           {
            "args": [
             {
              "marker.color": [
               [
                "#B0BEC5",
                "#B0BEC5",
                "#B0BEC5",
                "#B0BEC5",
                "#B0BEC5",
                "#B0BEC5",
                "#B0BEC5",
                "#B0BEC5",
                "#B0BEC5",
                "#B0BEC5",
                "#B0BEC5",
                "#B0BEC5",
                "#B0BEC5",
                "#B0BEC5",
                "#B0BEC5",
                "#B0BEC5",
                "#B0BEC5",
                "#B0BEC5",
                "#B0BEC5",
                "#B0BEC5",
                "#B0BEC5",
                "#B0BEC5",
                "#B0BEC5",
                "#B0BEC5",
                "#B0BEC5",
                "#B0BEC5",
                "#B0BEC5",
                "red",
                "#B0BEC5",
                "#B0BEC5"
               ]
              ]
             }
            ],
            "label": "Topic 27",
            "method": "update"
           },
           {
            "args": [
             {
              "marker.color": [
               [
                "#B0BEC5",
                "#B0BEC5",
                "#B0BEC5",
                "#B0BEC5",
                "#B0BEC5",
                "#B0BEC5",
                "#B0BEC5",
                "#B0BEC5",
                "#B0BEC5",
                "#B0BEC5",
                "#B0BEC5",
                "#B0BEC5",
                "#B0BEC5",
                "#B0BEC5",
                "#B0BEC5",
                "#B0BEC5",
                "#B0BEC5",
                "#B0BEC5",
                "#B0BEC5",
                "#B0BEC5",
                "#B0BEC5",
                "#B0BEC5",
                "#B0BEC5",
                "#B0BEC5",
                "#B0BEC5",
                "#B0BEC5",
                "#B0BEC5",
                "#B0BEC5",
                "red",
                "#B0BEC5"
               ]
              ]
             }
            ],
            "label": "Topic 28",
            "method": "update"
           },
           {
            "args": [
             {
              "marker.color": [
               [
                "#B0BEC5",
                "#B0BEC5",
                "#B0BEC5",
                "#B0BEC5",
                "#B0BEC5",
                "#B0BEC5",
                "#B0BEC5",
                "#B0BEC5",
                "#B0BEC5",
                "#B0BEC5",
                "#B0BEC5",
                "#B0BEC5",
                "#B0BEC5",
                "#B0BEC5",
                "#B0BEC5",
                "#B0BEC5",
                "#B0BEC5",
                "#B0BEC5",
                "#B0BEC5",
                "#B0BEC5",
                "#B0BEC5",
                "#B0BEC5",
                "#B0BEC5",
                "#B0BEC5",
                "#B0BEC5",
                "#B0BEC5",
                "#B0BEC5",
                "#B0BEC5",
                "#B0BEC5",
                "red"
               ]
              ]
             }
            ],
            "label": "Topic 29",
            "method": "update"
           }
          ]
         }
        ],
        "template": {
         "data": {
          "bar": [
           {
            "error_x": {
             "color": "rgb(36,36,36)"
            },
            "error_y": {
             "color": "rgb(36,36,36)"
            },
            "marker": {
             "line": {
              "color": "white",
              "width": 0.5
             },
             "pattern": {
              "fillmode": "overlay",
              "size": 10,
              "solidity": 0.2
             }
            },
            "type": "bar"
           }
          ],
          "barpolar": [
           {
            "marker": {
             "line": {
              "color": "white",
              "width": 0.5
             },
             "pattern": {
              "fillmode": "overlay",
              "size": 10,
              "solidity": 0.2
             }
            },
            "type": "barpolar"
           }
          ],
          "carpet": [
           {
            "aaxis": {
             "endlinecolor": "rgb(36,36,36)",
             "gridcolor": "white",
             "linecolor": "white",
             "minorgridcolor": "white",
             "startlinecolor": "rgb(36,36,36)"
            },
            "baxis": {
             "endlinecolor": "rgb(36,36,36)",
             "gridcolor": "white",
             "linecolor": "white",
             "minorgridcolor": "white",
             "startlinecolor": "rgb(36,36,36)"
            },
            "type": "carpet"
           }
          ],
          "choropleth": [
           {
            "colorbar": {
             "outlinewidth": 1,
             "tickcolor": "rgb(36,36,36)",
             "ticks": "outside"
            },
            "type": "choropleth"
           }
          ],
          "contour": [
           {
            "colorbar": {
             "outlinewidth": 1,
             "tickcolor": "rgb(36,36,36)",
             "ticks": "outside"
            },
            "colorscale": [
             [
              0,
              "#440154"
             ],
             [
              0.1111111111111111,
              "#482878"
             ],
             [
              0.2222222222222222,
              "#3e4989"
             ],
             [
              0.3333333333333333,
              "#31688e"
             ],
             [
              0.4444444444444444,
              "#26828e"
             ],
             [
              0.5555555555555556,
              "#1f9e89"
             ],
             [
              0.6666666666666666,
              "#35b779"
             ],
             [
              0.7777777777777778,
              "#6ece58"
             ],
             [
              0.8888888888888888,
              "#b5de2b"
             ],
             [
              1,
              "#fde725"
             ]
            ],
            "type": "contour"
           }
          ],
          "contourcarpet": [
           {
            "colorbar": {
             "outlinewidth": 1,
             "tickcolor": "rgb(36,36,36)",
             "ticks": "outside"
            },
            "type": "contourcarpet"
           }
          ],
          "heatmap": [
           {
            "colorbar": {
             "outlinewidth": 1,
             "tickcolor": "rgb(36,36,36)",
             "ticks": "outside"
            },
            "colorscale": [
             [
              0,
              "#440154"
             ],
             [
              0.1111111111111111,
              "#482878"
             ],
             [
              0.2222222222222222,
              "#3e4989"
             ],
             [
              0.3333333333333333,
              "#31688e"
             ],
             [
              0.4444444444444444,
              "#26828e"
             ],
             [
              0.5555555555555556,
              "#1f9e89"
             ],
             [
              0.6666666666666666,
              "#35b779"
             ],
             [
              0.7777777777777778,
              "#6ece58"
             ],
             [
              0.8888888888888888,
              "#b5de2b"
             ],
             [
              1,
              "#fde725"
             ]
            ],
            "type": "heatmap"
           }
          ],
          "heatmapgl": [
           {
            "colorbar": {
             "outlinewidth": 1,
             "tickcolor": "rgb(36,36,36)",
             "ticks": "outside"
            },
            "colorscale": [
             [
              0,
              "#440154"
             ],
             [
              0.1111111111111111,
              "#482878"
             ],
             [
              0.2222222222222222,
              "#3e4989"
             ],
             [
              0.3333333333333333,
              "#31688e"
             ],
             [
              0.4444444444444444,
              "#26828e"
             ],
             [
              0.5555555555555556,
              "#1f9e89"
             ],
             [
              0.6666666666666666,
              "#35b779"
             ],
             [
              0.7777777777777778,
              "#6ece58"
             ],
             [
              0.8888888888888888,
              "#b5de2b"
             ],
             [
              1,
              "#fde725"
             ]
            ],
            "type": "heatmapgl"
           }
          ],
          "histogram": [
           {
            "marker": {
             "line": {
              "color": "white",
              "width": 0.6
             }
            },
            "type": "histogram"
           }
          ],
          "histogram2d": [
           {
            "colorbar": {
             "outlinewidth": 1,
             "tickcolor": "rgb(36,36,36)",
             "ticks": "outside"
            },
            "colorscale": [
             [
              0,
              "#440154"
             ],
             [
              0.1111111111111111,
              "#482878"
             ],
             [
              0.2222222222222222,
              "#3e4989"
             ],
             [
              0.3333333333333333,
              "#31688e"
             ],
             [
              0.4444444444444444,
              "#26828e"
             ],
             [
              0.5555555555555556,
              "#1f9e89"
             ],
             [
              0.6666666666666666,
              "#35b779"
             ],
             [
              0.7777777777777778,
              "#6ece58"
             ],
             [
              0.8888888888888888,
              "#b5de2b"
             ],
             [
              1,
              "#fde725"
             ]
            ],
            "type": "histogram2d"
           }
          ],
          "histogram2dcontour": [
           {
            "colorbar": {
             "outlinewidth": 1,
             "tickcolor": "rgb(36,36,36)",
             "ticks": "outside"
            },
            "colorscale": [
             [
              0,
              "#440154"
             ],
             [
              0.1111111111111111,
              "#482878"
             ],
             [
              0.2222222222222222,
              "#3e4989"
             ],
             [
              0.3333333333333333,
              "#31688e"
             ],
             [
              0.4444444444444444,
              "#26828e"
             ],
             [
              0.5555555555555556,
              "#1f9e89"
             ],
             [
              0.6666666666666666,
              "#35b779"
             ],
             [
              0.7777777777777778,
              "#6ece58"
             ],
             [
              0.8888888888888888,
              "#b5de2b"
             ],
             [
              1,
              "#fde725"
             ]
            ],
            "type": "histogram2dcontour"
           }
          ],
          "mesh3d": [
           {
            "colorbar": {
             "outlinewidth": 1,
             "tickcolor": "rgb(36,36,36)",
             "ticks": "outside"
            },
            "type": "mesh3d"
           }
          ],
          "parcoords": [
           {
            "line": {
             "colorbar": {
              "outlinewidth": 1,
              "tickcolor": "rgb(36,36,36)",
              "ticks": "outside"
             }
            },
            "type": "parcoords"
           }
          ],
          "pie": [
           {
            "automargin": true,
            "type": "pie"
           }
          ],
          "scatter": [
           {
            "fillpattern": {
             "fillmode": "overlay",
             "size": 10,
             "solidity": 0.2
            },
            "type": "scatter"
           }
          ],
          "scatter3d": [
           {
            "line": {
             "colorbar": {
              "outlinewidth": 1,
              "tickcolor": "rgb(36,36,36)",
              "ticks": "outside"
             }
            },
            "marker": {
             "colorbar": {
              "outlinewidth": 1,
              "tickcolor": "rgb(36,36,36)",
              "ticks": "outside"
             }
            },
            "type": "scatter3d"
           }
          ],
          "scattercarpet": [
           {
            "marker": {
             "colorbar": {
              "outlinewidth": 1,
              "tickcolor": "rgb(36,36,36)",
              "ticks": "outside"
             }
            },
            "type": "scattercarpet"
           }
          ],
          "scattergeo": [
           {
            "marker": {
             "colorbar": {
              "outlinewidth": 1,
              "tickcolor": "rgb(36,36,36)",
              "ticks": "outside"
             }
            },
            "type": "scattergeo"
           }
          ],
          "scattergl": [
           {
            "marker": {
             "colorbar": {
              "outlinewidth": 1,
              "tickcolor": "rgb(36,36,36)",
              "ticks": "outside"
             }
            },
            "type": "scattergl"
           }
          ],
          "scattermapbox": [
           {
            "marker": {
             "colorbar": {
              "outlinewidth": 1,
              "tickcolor": "rgb(36,36,36)",
              "ticks": "outside"
             }
            },
            "type": "scattermapbox"
           }
          ],
          "scatterpolar": [
           {
            "marker": {
             "colorbar": {
              "outlinewidth": 1,
              "tickcolor": "rgb(36,36,36)",
              "ticks": "outside"
             }
            },
            "type": "scatterpolar"
           }
          ],
          "scatterpolargl": [
           {
            "marker": {
             "colorbar": {
              "outlinewidth": 1,
              "tickcolor": "rgb(36,36,36)",
              "ticks": "outside"
             }
            },
            "type": "scatterpolargl"
           }
          ],
          "scatterternary": [
           {
            "marker": {
             "colorbar": {
              "outlinewidth": 1,
              "tickcolor": "rgb(36,36,36)",
              "ticks": "outside"
             }
            },
            "type": "scatterternary"
           }
          ],
          "surface": [
           {
            "colorbar": {
             "outlinewidth": 1,
             "tickcolor": "rgb(36,36,36)",
             "ticks": "outside"
            },
            "colorscale": [
             [
              0,
              "#440154"
             ],
             [
              0.1111111111111111,
              "#482878"
             ],
             [
              0.2222222222222222,
              "#3e4989"
             ],
             [
              0.3333333333333333,
              "#31688e"
             ],
             [
              0.4444444444444444,
              "#26828e"
             ],
             [
              0.5555555555555556,
              "#1f9e89"
             ],
             [
              0.6666666666666666,
              "#35b779"
             ],
             [
              0.7777777777777778,
              "#6ece58"
             ],
             [
              0.8888888888888888,
              "#b5de2b"
             ],
             [
              1,
              "#fde725"
             ]
            ],
            "type": "surface"
           }
          ],
          "table": [
           {
            "cells": {
             "fill": {
              "color": "rgb(237,237,237)"
             },
             "line": {
              "color": "white"
             }
            },
            "header": {
             "fill": {
              "color": "rgb(217,217,217)"
             },
             "line": {
              "color": "white"
             }
            },
            "type": "table"
           }
          ]
         },
         "layout": {
          "annotationdefaults": {
           "arrowhead": 0,
           "arrowwidth": 1
          },
          "autotypenumbers": "strict",
          "coloraxis": {
           "colorbar": {
            "outlinewidth": 1,
            "tickcolor": "rgb(36,36,36)",
            "ticks": "outside"
           }
          },
          "colorscale": {
           "diverging": [
            [
             0,
             "rgb(103,0,31)"
            ],
            [
             0.1,
             "rgb(178,24,43)"
            ],
            [
             0.2,
             "rgb(214,96,77)"
            ],
            [
             0.3,
             "rgb(244,165,130)"
            ],
            [
             0.4,
             "rgb(253,219,199)"
            ],
            [
             0.5,
             "rgb(247,247,247)"
            ],
            [
             0.6,
             "rgb(209,229,240)"
            ],
            [
             0.7,
             "rgb(146,197,222)"
            ],
            [
             0.8,
             "rgb(67,147,195)"
            ],
            [
             0.9,
             "rgb(33,102,172)"
            ],
            [
             1,
             "rgb(5,48,97)"
            ]
           ],
           "sequential": [
            [
             0,
             "#440154"
            ],
            [
             0.1111111111111111,
             "#482878"
            ],
            [
             0.2222222222222222,
             "#3e4989"
            ],
            [
             0.3333333333333333,
             "#31688e"
            ],
            [
             0.4444444444444444,
             "#26828e"
            ],
            [
             0.5555555555555556,
             "#1f9e89"
            ],
            [
             0.6666666666666666,
             "#35b779"
            ],
            [
             0.7777777777777778,
             "#6ece58"
            ],
            [
             0.8888888888888888,
             "#b5de2b"
            ],
            [
             1,
             "#fde725"
            ]
           ],
           "sequentialminus": [
            [
             0,
             "#440154"
            ],
            [
             0.1111111111111111,
             "#482878"
            ],
            [
             0.2222222222222222,
             "#3e4989"
            ],
            [
             0.3333333333333333,
             "#31688e"
            ],
            [
             0.4444444444444444,
             "#26828e"
            ],
            [
             0.5555555555555556,
             "#1f9e89"
            ],
            [
             0.6666666666666666,
             "#35b779"
            ],
            [
             0.7777777777777778,
             "#6ece58"
            ],
            [
             0.8888888888888888,
             "#b5de2b"
            ],
            [
             1,
             "#fde725"
            ]
           ]
          },
          "colorway": [
           "#1F77B4",
           "#FF7F0E",
           "#2CA02C",
           "#D62728",
           "#9467BD",
           "#8C564B",
           "#E377C2",
           "#7F7F7F",
           "#BCBD22",
           "#17BECF"
          ],
          "font": {
           "color": "rgb(36,36,36)"
          },
          "geo": {
           "bgcolor": "white",
           "lakecolor": "white",
           "landcolor": "white",
           "showlakes": true,
           "showland": true,
           "subunitcolor": "white"
          },
          "hoverlabel": {
           "align": "left"
          },
          "hovermode": "closest",
          "mapbox": {
           "style": "light"
          },
          "paper_bgcolor": "white",
          "plot_bgcolor": "white",
          "polar": {
           "angularaxis": {
            "gridcolor": "rgb(232,232,232)",
            "linecolor": "rgb(36,36,36)",
            "showgrid": false,
            "showline": true,
            "ticks": "outside"
           },
           "bgcolor": "white",
           "radialaxis": {
            "gridcolor": "rgb(232,232,232)",
            "linecolor": "rgb(36,36,36)",
            "showgrid": false,
            "showline": true,
            "ticks": "outside"
           }
          },
          "scene": {
           "xaxis": {
            "backgroundcolor": "white",
            "gridcolor": "rgb(232,232,232)",
            "gridwidth": 2,
            "linecolor": "rgb(36,36,36)",
            "showbackground": true,
            "showgrid": false,
            "showline": true,
            "ticks": "outside",
            "zeroline": false,
            "zerolinecolor": "rgb(36,36,36)"
           },
           "yaxis": {
            "backgroundcolor": "white",
            "gridcolor": "rgb(232,232,232)",
            "gridwidth": 2,
            "linecolor": "rgb(36,36,36)",
            "showbackground": true,
            "showgrid": false,
            "showline": true,
            "ticks": "outside",
            "zeroline": false,
            "zerolinecolor": "rgb(36,36,36)"
           },
           "zaxis": {
            "backgroundcolor": "white",
            "gridcolor": "rgb(232,232,232)",
            "gridwidth": 2,
            "linecolor": "rgb(36,36,36)",
            "showbackground": true,
            "showgrid": false,
            "showline": true,
            "ticks": "outside",
            "zeroline": false,
            "zerolinecolor": "rgb(36,36,36)"
           }
          },
          "shapedefaults": {
           "fillcolor": "black",
           "line": {
            "width": 0
           },
           "opacity": 0.3
          },
          "ternary": {
           "aaxis": {
            "gridcolor": "rgb(232,232,232)",
            "linecolor": "rgb(36,36,36)",
            "showgrid": false,
            "showline": true,
            "ticks": "outside"
           },
           "baxis": {
            "gridcolor": "rgb(232,232,232)",
            "linecolor": "rgb(36,36,36)",
            "showgrid": false,
            "showline": true,
            "ticks": "outside"
           },
           "bgcolor": "white",
           "caxis": {
            "gridcolor": "rgb(232,232,232)",
            "linecolor": "rgb(36,36,36)",
            "showgrid": false,
            "showline": true,
            "ticks": "outside"
           }
          },
          "title": {
           "x": 0.05
          },
          "xaxis": {
           "automargin": true,
           "gridcolor": "rgb(232,232,232)",
           "linecolor": "rgb(36,36,36)",
           "showgrid": false,
           "showline": true,
           "ticks": "outside",
           "title": {
            "standoff": 15
           },
           "zeroline": false,
           "zerolinecolor": "rgb(36,36,36)"
          },
          "yaxis": {
           "automargin": true,
           "gridcolor": "rgb(232,232,232)",
           "linecolor": "rgb(36,36,36)",
           "showgrid": false,
           "showline": true,
           "ticks": "outside",
           "title": {
            "standoff": 15
           },
           "zeroline": false,
           "zerolinecolor": "rgb(36,36,36)"
          }
         }
        },
        "title": {
         "font": {
          "color": "Black",
          "size": 22
         },
         "text": "<b>Intertopic Distance Map</b>",
         "x": 0.5,
         "xanchor": "center",
         "y": 0.95,
         "yanchor": "top"
        },
        "width": 650,
        "xaxis": {
         "anchor": "y",
         "domain": [
          0,
          1
         ],
         "range": [
          -6.884624457359314,
          21.563269901275635
         ],
         "title": {
          "text": ""
         },
         "visible": false
        },
        "yaxis": {
         "anchor": "x",
         "domain": [
          0,
          1
         ],
         "range": [
          -6.548722672462463,
          5.408928799629211
         ],
         "title": {
          "text": ""
         },
         "visible": false
        }
       }
      },
      "text/html": [
       "<div>                            <div id=\"0afb6da8-3dc4-4ecb-8550-3c2e46671d4d\" class=\"plotly-graph-div\" style=\"height:650px; width:650px;\"></div>            <script type=\"text/javascript\">                require([\"plotly\"], function(Plotly) {                    window.PLOTLYENV=window.PLOTLYENV || {};                                    if (document.getElementById(\"0afb6da8-3dc4-4ecb-8550-3c2e46671d4d\")) {                    Plotly.newPlot(                        \"0afb6da8-3dc4-4ecb-8550-3c2e46671d4d\",                        [{\"customdata\":[[0,\"scrollbar | pod | dockerfile | spanid | your text\",5095],[1,\"df | foo | select | amp | name\",3531],[2,\"elemnt | elemnt elemnt | localhost | install | localhost 8080\",3359],[3,\"public | string | new | this | const\",3257],[4,\"000 000 | 000 | cannot | x00 | found\",2928],[5,\"unknown unknown | rbf | precomputed | poly | sigmoid\",2862],[6,\"const | this | new | classname | var\",2703],[7,\"self | np | na | 1l | df\",2490],[8,\"public | background | border | color | margin\",2268],[9,\"npm run | install | npm | git | docker compose\",2043],[10,\"at | java | at org | lib | org\",2009],[11,\"feature feature | feature | lock lock | ger | enum\",1729],[12,\"gt lt | quot gt | lt div | div | div gt\",1458],[13,\"js | package json | ts | json | yml\",1450],[14,\"py | std | _output_connect | map_depth | isfinishing\",1100],[15,\"quot quot | quot react | quot name | quot true | true quot\",855],[16,\"minmax | df | useeffect useeffect | useeffect | 527\",658],[17,\"undefined | undefined null | bar react | debug debug | react js\",333],[18,\"false false | user false | user user | data data | false user\",266],[19,\"string string | saturday | pre gt | lt pre | datetime string\",242],[20,\"hg | hg forget | lib1 so | filec | yaml\",240],[21,\"context context | df df | position position | df | case case\",195],[22,\"list list | lt code | readable | code gt | lg col\",166],[23,\"id id | page2 page3 | page3 | page2 | idperson\",159],[24,\"where where | where | l2 l2 | host host | l2\",124],[25,\"npm start | name name | div div | qthread | start npm\",103],[26,\"action action | iboeing | action | df2 | echo\",79],[27,\"html html | html index | html | html test | index html\",70],[28,\"listbox | prod prod | prod | listb | info info\",70],[29,\"true true | start_time | start_time start_time | true | end_time\",58]],\"hovertemplate\":\"\\u003cb\\u003eTopic %{customdata[0]}\\u003c\\u002fb\\u003e\\u003cbr\\u003e%{customdata[1]}\\u003cbr\\u003eSize: %{customdata[2]}\",\"legendgroup\":\"\",\"marker\":{\"color\":\"#B0BEC5\",\"size\":[5095,3531,3359,3257,2928,2862,2703,2490,2268,2043,2009,1729,1458,1450,1100,855,658,333,266,242,240,195,166,159,124,103,79,70,70,58],\"sizemode\":\"area\",\"sizeref\":3.184375,\"symbol\":\"circle\",\"line\":{\"color\":\"DarkSlateGrey\",\"width\":2}},\"mode\":\"markers\",\"name\":\"\",\"orientation\":\"v\",\"showlegend\":false,\"x\":[17.8477840423584,18.559757232666016,18.715551376342773,2.249269485473633,18.750669479370117,-5.874746322631836,1.712466835975647,1.9104846715927124,-5.986629962921143,18.57598876953125,1.6278529167175293,15.040002822875977,2.218867063522339,1.1997228860855103,1.3633205890655518,2.3507747650146484,1.046287178993225,14.249624252319336,14.080443382263184,18.13960075378418,14.90613842010498,11.39650821685791,12.140198707580566,11.799341201782227,14.421027183532715,13.778109550476074,11.767158508300781,17.887861251831055,18.254558563232422,14.842788696289062],\"xaxis\":\"x\",\"y\":[2.136873722076416,-0.31467312574386597,0.372885525226593,-1.1522884368896484,-0.14467978477478027,1.8251184225082397,-1.23225998878479,-1.5356372594833374,1.936156988143921,0.7690764665603638,-1.601093053817749,3.23559832572937,-0.9015094041824341,-5.532039165496826,-5.6945414543151855,-1.0547131299972534,-5.37843132019043,2.500152826309204,2.8690097332000732,2.158658266067505,2.9306952953338623,4.703416347503662,4.2842793464660645,4.680530071258545,3.227905750274658,3.3656835556030273,4.571085453033447,1.7167295217514038,1.962692141532898,3.4996161460876465],\"yaxis\":\"y\",\"type\":\"scatter\"}],                        {\"template\":{\"data\":{\"barpolar\":[{\"marker\":{\"line\":{\"color\":\"white\",\"width\":0.5},\"pattern\":{\"fillmode\":\"overlay\",\"size\":10,\"solidity\":0.2}},\"type\":\"barpolar\"}],\"bar\":[{\"error_x\":{\"color\":\"rgb(36,36,36)\"},\"error_y\":{\"color\":\"rgb(36,36,36)\"},\"marker\":{\"line\":{\"color\":\"white\",\"width\":0.5},\"pattern\":{\"fillmode\":\"overlay\",\"size\":10,\"solidity\":0.2}},\"type\":\"bar\"}],\"carpet\":[{\"aaxis\":{\"endlinecolor\":\"rgb(36,36,36)\",\"gridcolor\":\"white\",\"linecolor\":\"white\",\"minorgridcolor\":\"white\",\"startlinecolor\":\"rgb(36,36,36)\"},\"baxis\":{\"endlinecolor\":\"rgb(36,36,36)\",\"gridcolor\":\"white\",\"linecolor\":\"white\",\"minorgridcolor\":\"white\",\"startlinecolor\":\"rgb(36,36,36)\"},\"type\":\"carpet\"}],\"choropleth\":[{\"colorbar\":{\"outlinewidth\":1,\"tickcolor\":\"rgb(36,36,36)\",\"ticks\":\"outside\"},\"type\":\"choropleth\"}],\"contourcarpet\":[{\"colorbar\":{\"outlinewidth\":1,\"tickcolor\":\"rgb(36,36,36)\",\"ticks\":\"outside\"},\"type\":\"contourcarpet\"}],\"contour\":[{\"colorbar\":{\"outlinewidth\":1,\"tickcolor\":\"rgb(36,36,36)\",\"ticks\":\"outside\"},\"colorscale\":[[0.0,\"#440154\"],[0.1111111111111111,\"#482878\"],[0.2222222222222222,\"#3e4989\"],[0.3333333333333333,\"#31688e\"],[0.4444444444444444,\"#26828e\"],[0.5555555555555556,\"#1f9e89\"],[0.6666666666666666,\"#35b779\"],[0.7777777777777778,\"#6ece58\"],[0.8888888888888888,\"#b5de2b\"],[1.0,\"#fde725\"]],\"type\":\"contour\"}],\"heatmapgl\":[{\"colorbar\":{\"outlinewidth\":1,\"tickcolor\":\"rgb(36,36,36)\",\"ticks\":\"outside\"},\"colorscale\":[[0.0,\"#440154\"],[0.1111111111111111,\"#482878\"],[0.2222222222222222,\"#3e4989\"],[0.3333333333333333,\"#31688e\"],[0.4444444444444444,\"#26828e\"],[0.5555555555555556,\"#1f9e89\"],[0.6666666666666666,\"#35b779\"],[0.7777777777777778,\"#6ece58\"],[0.8888888888888888,\"#b5de2b\"],[1.0,\"#fde725\"]],\"type\":\"heatmapgl\"}],\"heatmap\":[{\"colorbar\":{\"outlinewidth\":1,\"tickcolor\":\"rgb(36,36,36)\",\"ticks\":\"outside\"},\"colorscale\":[[0.0,\"#440154\"],[0.1111111111111111,\"#482878\"],[0.2222222222222222,\"#3e4989\"],[0.3333333333333333,\"#31688e\"],[0.4444444444444444,\"#26828e\"],[0.5555555555555556,\"#1f9e89\"],[0.6666666666666666,\"#35b779\"],[0.7777777777777778,\"#6ece58\"],[0.8888888888888888,\"#b5de2b\"],[1.0,\"#fde725\"]],\"type\":\"heatmap\"}],\"histogram2dcontour\":[{\"colorbar\":{\"outlinewidth\":1,\"tickcolor\":\"rgb(36,36,36)\",\"ticks\":\"outside\"},\"colorscale\":[[0.0,\"#440154\"],[0.1111111111111111,\"#482878\"],[0.2222222222222222,\"#3e4989\"],[0.3333333333333333,\"#31688e\"],[0.4444444444444444,\"#26828e\"],[0.5555555555555556,\"#1f9e89\"],[0.6666666666666666,\"#35b779\"],[0.7777777777777778,\"#6ece58\"],[0.8888888888888888,\"#b5de2b\"],[1.0,\"#fde725\"]],\"type\":\"histogram2dcontour\"}],\"histogram2d\":[{\"colorbar\":{\"outlinewidth\":1,\"tickcolor\":\"rgb(36,36,36)\",\"ticks\":\"outside\"},\"colorscale\":[[0.0,\"#440154\"],[0.1111111111111111,\"#482878\"],[0.2222222222222222,\"#3e4989\"],[0.3333333333333333,\"#31688e\"],[0.4444444444444444,\"#26828e\"],[0.5555555555555556,\"#1f9e89\"],[0.6666666666666666,\"#35b779\"],[0.7777777777777778,\"#6ece58\"],[0.8888888888888888,\"#b5de2b\"],[1.0,\"#fde725\"]],\"type\":\"histogram2d\"}],\"histogram\":[{\"marker\":{\"line\":{\"color\":\"white\",\"width\":0.6}},\"type\":\"histogram\"}],\"mesh3d\":[{\"colorbar\":{\"outlinewidth\":1,\"tickcolor\":\"rgb(36,36,36)\",\"ticks\":\"outside\"},\"type\":\"mesh3d\"}],\"parcoords\":[{\"line\":{\"colorbar\":{\"outlinewidth\":1,\"tickcolor\":\"rgb(36,36,36)\",\"ticks\":\"outside\"}},\"type\":\"parcoords\"}],\"pie\":[{\"automargin\":true,\"type\":\"pie\"}],\"scatter3d\":[{\"line\":{\"colorbar\":{\"outlinewidth\":1,\"tickcolor\":\"rgb(36,36,36)\",\"ticks\":\"outside\"}},\"marker\":{\"colorbar\":{\"outlinewidth\":1,\"tickcolor\":\"rgb(36,36,36)\",\"ticks\":\"outside\"}},\"type\":\"scatter3d\"}],\"scattercarpet\":[{\"marker\":{\"colorbar\":{\"outlinewidth\":1,\"tickcolor\":\"rgb(36,36,36)\",\"ticks\":\"outside\"}},\"type\":\"scattercarpet\"}],\"scattergeo\":[{\"marker\":{\"colorbar\":{\"outlinewidth\":1,\"tickcolor\":\"rgb(36,36,36)\",\"ticks\":\"outside\"}},\"type\":\"scattergeo\"}],\"scattergl\":[{\"marker\":{\"colorbar\":{\"outlinewidth\":1,\"tickcolor\":\"rgb(36,36,36)\",\"ticks\":\"outside\"}},\"type\":\"scattergl\"}],\"scattermapbox\":[{\"marker\":{\"colorbar\":{\"outlinewidth\":1,\"tickcolor\":\"rgb(36,36,36)\",\"ticks\":\"outside\"}},\"type\":\"scattermapbox\"}],\"scatterpolargl\":[{\"marker\":{\"colorbar\":{\"outlinewidth\":1,\"tickcolor\":\"rgb(36,36,36)\",\"ticks\":\"outside\"}},\"type\":\"scatterpolargl\"}],\"scatterpolar\":[{\"marker\":{\"colorbar\":{\"outlinewidth\":1,\"tickcolor\":\"rgb(36,36,36)\",\"ticks\":\"outside\"}},\"type\":\"scatterpolar\"}],\"scatter\":[{\"fillpattern\":{\"fillmode\":\"overlay\",\"size\":10,\"solidity\":0.2},\"type\":\"scatter\"}],\"scatterternary\":[{\"marker\":{\"colorbar\":{\"outlinewidth\":1,\"tickcolor\":\"rgb(36,36,36)\",\"ticks\":\"outside\"}},\"type\":\"scatterternary\"}],\"surface\":[{\"colorbar\":{\"outlinewidth\":1,\"tickcolor\":\"rgb(36,36,36)\",\"ticks\":\"outside\"},\"colorscale\":[[0.0,\"#440154\"],[0.1111111111111111,\"#482878\"],[0.2222222222222222,\"#3e4989\"],[0.3333333333333333,\"#31688e\"],[0.4444444444444444,\"#26828e\"],[0.5555555555555556,\"#1f9e89\"],[0.6666666666666666,\"#35b779\"],[0.7777777777777778,\"#6ece58\"],[0.8888888888888888,\"#b5de2b\"],[1.0,\"#fde725\"]],\"type\":\"surface\"}],\"table\":[{\"cells\":{\"fill\":{\"color\":\"rgb(237,237,237)\"},\"line\":{\"color\":\"white\"}},\"header\":{\"fill\":{\"color\":\"rgb(217,217,217)\"},\"line\":{\"color\":\"white\"}},\"type\":\"table\"}]},\"layout\":{\"annotationdefaults\":{\"arrowhead\":0,\"arrowwidth\":1},\"autotypenumbers\":\"strict\",\"coloraxis\":{\"colorbar\":{\"outlinewidth\":1,\"tickcolor\":\"rgb(36,36,36)\",\"ticks\":\"outside\"}},\"colorscale\":{\"diverging\":[[0.0,\"rgb(103,0,31)\"],[0.1,\"rgb(178,24,43)\"],[0.2,\"rgb(214,96,77)\"],[0.3,\"rgb(244,165,130)\"],[0.4,\"rgb(253,219,199)\"],[0.5,\"rgb(247,247,247)\"],[0.6,\"rgb(209,229,240)\"],[0.7,\"rgb(146,197,222)\"],[0.8,\"rgb(67,147,195)\"],[0.9,\"rgb(33,102,172)\"],[1.0,\"rgb(5,48,97)\"]],\"sequential\":[[0.0,\"#440154\"],[0.1111111111111111,\"#482878\"],[0.2222222222222222,\"#3e4989\"],[0.3333333333333333,\"#31688e\"],[0.4444444444444444,\"#26828e\"],[0.5555555555555556,\"#1f9e89\"],[0.6666666666666666,\"#35b779\"],[0.7777777777777778,\"#6ece58\"],[0.8888888888888888,\"#b5de2b\"],[1.0,\"#fde725\"]],\"sequentialminus\":[[0.0,\"#440154\"],[0.1111111111111111,\"#482878\"],[0.2222222222222222,\"#3e4989\"],[0.3333333333333333,\"#31688e\"],[0.4444444444444444,\"#26828e\"],[0.5555555555555556,\"#1f9e89\"],[0.6666666666666666,\"#35b779\"],[0.7777777777777778,\"#6ece58\"],[0.8888888888888888,\"#b5de2b\"],[1.0,\"#fde725\"]]},\"colorway\":[\"#1F77B4\",\"#FF7F0E\",\"#2CA02C\",\"#D62728\",\"#9467BD\",\"#8C564B\",\"#E377C2\",\"#7F7F7F\",\"#BCBD22\",\"#17BECF\"],\"font\":{\"color\":\"rgb(36,36,36)\"},\"geo\":{\"bgcolor\":\"white\",\"lakecolor\":\"white\",\"landcolor\":\"white\",\"showlakes\":true,\"showland\":true,\"subunitcolor\":\"white\"},\"hoverlabel\":{\"align\":\"left\"},\"hovermode\":\"closest\",\"mapbox\":{\"style\":\"light\"},\"paper_bgcolor\":\"white\",\"plot_bgcolor\":\"white\",\"polar\":{\"angularaxis\":{\"gridcolor\":\"rgb(232,232,232)\",\"linecolor\":\"rgb(36,36,36)\",\"showgrid\":false,\"showline\":true,\"ticks\":\"outside\"},\"bgcolor\":\"white\",\"radialaxis\":{\"gridcolor\":\"rgb(232,232,232)\",\"linecolor\":\"rgb(36,36,36)\",\"showgrid\":false,\"showline\":true,\"ticks\":\"outside\"}},\"scene\":{\"xaxis\":{\"backgroundcolor\":\"white\",\"gridcolor\":\"rgb(232,232,232)\",\"gridwidth\":2,\"linecolor\":\"rgb(36,36,36)\",\"showbackground\":true,\"showgrid\":false,\"showline\":true,\"ticks\":\"outside\",\"zeroline\":false,\"zerolinecolor\":\"rgb(36,36,36)\"},\"yaxis\":{\"backgroundcolor\":\"white\",\"gridcolor\":\"rgb(232,232,232)\",\"gridwidth\":2,\"linecolor\":\"rgb(36,36,36)\",\"showbackground\":true,\"showgrid\":false,\"showline\":true,\"ticks\":\"outside\",\"zeroline\":false,\"zerolinecolor\":\"rgb(36,36,36)\"},\"zaxis\":{\"backgroundcolor\":\"white\",\"gridcolor\":\"rgb(232,232,232)\",\"gridwidth\":2,\"linecolor\":\"rgb(36,36,36)\",\"showbackground\":true,\"showgrid\":false,\"showline\":true,\"ticks\":\"outside\",\"zeroline\":false,\"zerolinecolor\":\"rgb(36,36,36)\"}},\"shapedefaults\":{\"fillcolor\":\"black\",\"line\":{\"width\":0},\"opacity\":0.3},\"ternary\":{\"aaxis\":{\"gridcolor\":\"rgb(232,232,232)\",\"linecolor\":\"rgb(36,36,36)\",\"showgrid\":false,\"showline\":true,\"ticks\":\"outside\"},\"baxis\":{\"gridcolor\":\"rgb(232,232,232)\",\"linecolor\":\"rgb(36,36,36)\",\"showgrid\":false,\"showline\":true,\"ticks\":\"outside\"},\"bgcolor\":\"white\",\"caxis\":{\"gridcolor\":\"rgb(232,232,232)\",\"linecolor\":\"rgb(36,36,36)\",\"showgrid\":false,\"showline\":true,\"ticks\":\"outside\"}},\"title\":{\"x\":0.05},\"xaxis\":{\"automargin\":true,\"gridcolor\":\"rgb(232,232,232)\",\"linecolor\":\"rgb(36,36,36)\",\"showgrid\":false,\"showline\":true,\"ticks\":\"outside\",\"title\":{\"standoff\":15},\"zeroline\":false,\"zerolinecolor\":\"rgb(36,36,36)\"},\"yaxis\":{\"automargin\":true,\"gridcolor\":\"rgb(232,232,232)\",\"linecolor\":\"rgb(36,36,36)\",\"showgrid\":false,\"showline\":true,\"ticks\":\"outside\",\"title\":{\"standoff\":15},\"zeroline\":false,\"zerolinecolor\":\"rgb(36,36,36)\"}}},\"xaxis\":{\"anchor\":\"y\",\"domain\":[0.0,1.0],\"title\":{\"text\":\"\"},\"visible\":false,\"range\":[-6.884624457359314,21.563269901275635]},\"yaxis\":{\"anchor\":\"x\",\"domain\":[0.0,1.0],\"title\":{\"text\":\"\"},\"visible\":false,\"range\":[-6.548722672462463,5.408928799629211]},\"legend\":{\"tracegroupgap\":0,\"itemsizing\":\"constant\"},\"margin\":{\"t\":60},\"title\":{\"font\":{\"size\":22,\"color\":\"Black\"},\"text\":\"\\u003cb\\u003eIntertopic Distance Map\\u003c\\u002fb\\u003e\",\"y\":0.95,\"x\":0.5,\"xanchor\":\"center\",\"yanchor\":\"top\"},\"hoverlabel\":{\"font\":{\"size\":16,\"family\":\"Rockwell\"},\"bgcolor\":\"white\"},\"width\":650,\"height\":650,\"sliders\":[{\"active\":0,\"pad\":{\"t\":50},\"steps\":[{\"args\":[{\"marker.color\":[[\"red\",\"#B0BEC5\",\"#B0BEC5\",\"#B0BEC5\",\"#B0BEC5\",\"#B0BEC5\",\"#B0BEC5\",\"#B0BEC5\",\"#B0BEC5\",\"#B0BEC5\",\"#B0BEC5\",\"#B0BEC5\",\"#B0BEC5\",\"#B0BEC5\",\"#B0BEC5\",\"#B0BEC5\",\"#B0BEC5\",\"#B0BEC5\",\"#B0BEC5\",\"#B0BEC5\",\"#B0BEC5\",\"#B0BEC5\",\"#B0BEC5\",\"#B0BEC5\",\"#B0BEC5\",\"#B0BEC5\",\"#B0BEC5\",\"#B0BEC5\",\"#B0BEC5\",\"#B0BEC5\"]]}],\"label\":\"Topic 0\",\"method\":\"update\"},{\"args\":[{\"marker.color\":[[\"#B0BEC5\",\"red\",\"#B0BEC5\",\"#B0BEC5\",\"#B0BEC5\",\"#B0BEC5\",\"#B0BEC5\",\"#B0BEC5\",\"#B0BEC5\",\"#B0BEC5\",\"#B0BEC5\",\"#B0BEC5\",\"#B0BEC5\",\"#B0BEC5\",\"#B0BEC5\",\"#B0BEC5\",\"#B0BEC5\",\"#B0BEC5\",\"#B0BEC5\",\"#B0BEC5\",\"#B0BEC5\",\"#B0BEC5\",\"#B0BEC5\",\"#B0BEC5\",\"#B0BEC5\",\"#B0BEC5\",\"#B0BEC5\",\"#B0BEC5\",\"#B0BEC5\",\"#B0BEC5\"]]}],\"label\":\"Topic 1\",\"method\":\"update\"},{\"args\":[{\"marker.color\":[[\"#B0BEC5\",\"#B0BEC5\",\"red\",\"#B0BEC5\",\"#B0BEC5\",\"#B0BEC5\",\"#B0BEC5\",\"#B0BEC5\",\"#B0BEC5\",\"#B0BEC5\",\"#B0BEC5\",\"#B0BEC5\",\"#B0BEC5\",\"#B0BEC5\",\"#B0BEC5\",\"#B0BEC5\",\"#B0BEC5\",\"#B0BEC5\",\"#B0BEC5\",\"#B0BEC5\",\"#B0BEC5\",\"#B0BEC5\",\"#B0BEC5\",\"#B0BEC5\",\"#B0BEC5\",\"#B0BEC5\",\"#B0BEC5\",\"#B0BEC5\",\"#B0BEC5\",\"#B0BEC5\"]]}],\"label\":\"Topic 2\",\"method\":\"update\"},{\"args\":[{\"marker.color\":[[\"#B0BEC5\",\"#B0BEC5\",\"#B0BEC5\",\"red\",\"#B0BEC5\",\"#B0BEC5\",\"#B0BEC5\",\"#B0BEC5\",\"#B0BEC5\",\"#B0BEC5\",\"#B0BEC5\",\"#B0BEC5\",\"#B0BEC5\",\"#B0BEC5\",\"#B0BEC5\",\"#B0BEC5\",\"#B0BEC5\",\"#B0BEC5\",\"#B0BEC5\",\"#B0BEC5\",\"#B0BEC5\",\"#B0BEC5\",\"#B0BEC5\",\"#B0BEC5\",\"#B0BEC5\",\"#B0BEC5\",\"#B0BEC5\",\"#B0BEC5\",\"#B0BEC5\",\"#B0BEC5\"]]}],\"label\":\"Topic 3\",\"method\":\"update\"},{\"args\":[{\"marker.color\":[[\"#B0BEC5\",\"#B0BEC5\",\"#B0BEC5\",\"#B0BEC5\",\"red\",\"#B0BEC5\",\"#B0BEC5\",\"#B0BEC5\",\"#B0BEC5\",\"#B0BEC5\",\"#B0BEC5\",\"#B0BEC5\",\"#B0BEC5\",\"#B0BEC5\",\"#B0BEC5\",\"#B0BEC5\",\"#B0BEC5\",\"#B0BEC5\",\"#B0BEC5\",\"#B0BEC5\",\"#B0BEC5\",\"#B0BEC5\",\"#B0BEC5\",\"#B0BEC5\",\"#B0BEC5\",\"#B0BEC5\",\"#B0BEC5\",\"#B0BEC5\",\"#B0BEC5\",\"#B0BEC5\"]]}],\"label\":\"Topic 4\",\"method\":\"update\"},{\"args\":[{\"marker.color\":[[\"#B0BEC5\",\"#B0BEC5\",\"#B0BEC5\",\"#B0BEC5\",\"#B0BEC5\",\"red\",\"#B0BEC5\",\"#B0BEC5\",\"#B0BEC5\",\"#B0BEC5\",\"#B0BEC5\",\"#B0BEC5\",\"#B0BEC5\",\"#B0BEC5\",\"#B0BEC5\",\"#B0BEC5\",\"#B0BEC5\",\"#B0BEC5\",\"#B0BEC5\",\"#B0BEC5\",\"#B0BEC5\",\"#B0BEC5\",\"#B0BEC5\",\"#B0BEC5\",\"#B0BEC5\",\"#B0BEC5\",\"#B0BEC5\",\"#B0BEC5\",\"#B0BEC5\",\"#B0BEC5\"]]}],\"label\":\"Topic 5\",\"method\":\"update\"},{\"args\":[{\"marker.color\":[[\"#B0BEC5\",\"#B0BEC5\",\"#B0BEC5\",\"#B0BEC5\",\"#B0BEC5\",\"#B0BEC5\",\"red\",\"#B0BEC5\",\"#B0BEC5\",\"#B0BEC5\",\"#B0BEC5\",\"#B0BEC5\",\"#B0BEC5\",\"#B0BEC5\",\"#B0BEC5\",\"#B0BEC5\",\"#B0BEC5\",\"#B0BEC5\",\"#B0BEC5\",\"#B0BEC5\",\"#B0BEC5\",\"#B0BEC5\",\"#B0BEC5\",\"#B0BEC5\",\"#B0BEC5\",\"#B0BEC5\",\"#B0BEC5\",\"#B0BEC5\",\"#B0BEC5\",\"#B0BEC5\"]]}],\"label\":\"Topic 6\",\"method\":\"update\"},{\"args\":[{\"marker.color\":[[\"#B0BEC5\",\"#B0BEC5\",\"#B0BEC5\",\"#B0BEC5\",\"#B0BEC5\",\"#B0BEC5\",\"#B0BEC5\",\"red\",\"#B0BEC5\",\"#B0BEC5\",\"#B0BEC5\",\"#B0BEC5\",\"#B0BEC5\",\"#B0BEC5\",\"#B0BEC5\",\"#B0BEC5\",\"#B0BEC5\",\"#B0BEC5\",\"#B0BEC5\",\"#B0BEC5\",\"#B0BEC5\",\"#B0BEC5\",\"#B0BEC5\",\"#B0BEC5\",\"#B0BEC5\",\"#B0BEC5\",\"#B0BEC5\",\"#B0BEC5\",\"#B0BEC5\",\"#B0BEC5\"]]}],\"label\":\"Topic 7\",\"method\":\"update\"},{\"args\":[{\"marker.color\":[[\"#B0BEC5\",\"#B0BEC5\",\"#B0BEC5\",\"#B0BEC5\",\"#B0BEC5\",\"#B0BEC5\",\"#B0BEC5\",\"#B0BEC5\",\"red\",\"#B0BEC5\",\"#B0BEC5\",\"#B0BEC5\",\"#B0BEC5\",\"#B0BEC5\",\"#B0BEC5\",\"#B0BEC5\",\"#B0BEC5\",\"#B0BEC5\",\"#B0BEC5\",\"#B0BEC5\",\"#B0BEC5\",\"#B0BEC5\",\"#B0BEC5\",\"#B0BEC5\",\"#B0BEC5\",\"#B0BEC5\",\"#B0BEC5\",\"#B0BEC5\",\"#B0BEC5\",\"#B0BEC5\"]]}],\"label\":\"Topic 8\",\"method\":\"update\"},{\"args\":[{\"marker.color\":[[\"#B0BEC5\",\"#B0BEC5\",\"#B0BEC5\",\"#B0BEC5\",\"#B0BEC5\",\"#B0BEC5\",\"#B0BEC5\",\"#B0BEC5\",\"#B0BEC5\",\"red\",\"#B0BEC5\",\"#B0BEC5\",\"#B0BEC5\",\"#B0BEC5\",\"#B0BEC5\",\"#B0BEC5\",\"#B0BEC5\",\"#B0BEC5\",\"#B0BEC5\",\"#B0BEC5\",\"#B0BEC5\",\"#B0BEC5\",\"#B0BEC5\",\"#B0BEC5\",\"#B0BEC5\",\"#B0BEC5\",\"#B0BEC5\",\"#B0BEC5\",\"#B0BEC5\",\"#B0BEC5\"]]}],\"label\":\"Topic 9\",\"method\":\"update\"},{\"args\":[{\"marker.color\":[[\"#B0BEC5\",\"#B0BEC5\",\"#B0BEC5\",\"#B0BEC5\",\"#B0BEC5\",\"#B0BEC5\",\"#B0BEC5\",\"#B0BEC5\",\"#B0BEC5\",\"#B0BEC5\",\"red\",\"#B0BEC5\",\"#B0BEC5\",\"#B0BEC5\",\"#B0BEC5\",\"#B0BEC5\",\"#B0BEC5\",\"#B0BEC5\",\"#B0BEC5\",\"#B0BEC5\",\"#B0BEC5\",\"#B0BEC5\",\"#B0BEC5\",\"#B0BEC5\",\"#B0BEC5\",\"#B0BEC5\",\"#B0BEC5\",\"#B0BEC5\",\"#B0BEC5\",\"#B0BEC5\"]]}],\"label\":\"Topic 10\",\"method\":\"update\"},{\"args\":[{\"marker.color\":[[\"#B0BEC5\",\"#B0BEC5\",\"#B0BEC5\",\"#B0BEC5\",\"#B0BEC5\",\"#B0BEC5\",\"#B0BEC5\",\"#B0BEC5\",\"#B0BEC5\",\"#B0BEC5\",\"#B0BEC5\",\"red\",\"#B0BEC5\",\"#B0BEC5\",\"#B0BEC5\",\"#B0BEC5\",\"#B0BEC5\",\"#B0BEC5\",\"#B0BEC5\",\"#B0BEC5\",\"#B0BEC5\",\"#B0BEC5\",\"#B0BEC5\",\"#B0BEC5\",\"#B0BEC5\",\"#B0BEC5\",\"#B0BEC5\",\"#B0BEC5\",\"#B0BEC5\",\"#B0BEC5\"]]}],\"label\":\"Topic 11\",\"method\":\"update\"},{\"args\":[{\"marker.color\":[[\"#B0BEC5\",\"#B0BEC5\",\"#B0BEC5\",\"#B0BEC5\",\"#B0BEC5\",\"#B0BEC5\",\"#B0BEC5\",\"#B0BEC5\",\"#B0BEC5\",\"#B0BEC5\",\"#B0BEC5\",\"#B0BEC5\",\"red\",\"#B0BEC5\",\"#B0BEC5\",\"#B0BEC5\",\"#B0BEC5\",\"#B0BEC5\",\"#B0BEC5\",\"#B0BEC5\",\"#B0BEC5\",\"#B0BEC5\",\"#B0BEC5\",\"#B0BEC5\",\"#B0BEC5\",\"#B0BEC5\",\"#B0BEC5\",\"#B0BEC5\",\"#B0BEC5\",\"#B0BEC5\"]]}],\"label\":\"Topic 12\",\"method\":\"update\"},{\"args\":[{\"marker.color\":[[\"#B0BEC5\",\"#B0BEC5\",\"#B0BEC5\",\"#B0BEC5\",\"#B0BEC5\",\"#B0BEC5\",\"#B0BEC5\",\"#B0BEC5\",\"#B0BEC5\",\"#B0BEC5\",\"#B0BEC5\",\"#B0BEC5\",\"#B0BEC5\",\"red\",\"#B0BEC5\",\"#B0BEC5\",\"#B0BEC5\",\"#B0BEC5\",\"#B0BEC5\",\"#B0BEC5\",\"#B0BEC5\",\"#B0BEC5\",\"#B0BEC5\",\"#B0BEC5\",\"#B0BEC5\",\"#B0BEC5\",\"#B0BEC5\",\"#B0BEC5\",\"#B0BEC5\",\"#B0BEC5\"]]}],\"label\":\"Topic 13\",\"method\":\"update\"},{\"args\":[{\"marker.color\":[[\"#B0BEC5\",\"#B0BEC5\",\"#B0BEC5\",\"#B0BEC5\",\"#B0BEC5\",\"#B0BEC5\",\"#B0BEC5\",\"#B0BEC5\",\"#B0BEC5\",\"#B0BEC5\",\"#B0BEC5\",\"#B0BEC5\",\"#B0BEC5\",\"#B0BEC5\",\"red\",\"#B0BEC5\",\"#B0BEC5\",\"#B0BEC5\",\"#B0BEC5\",\"#B0BEC5\",\"#B0BEC5\",\"#B0BEC5\",\"#B0BEC5\",\"#B0BEC5\",\"#B0BEC5\",\"#B0BEC5\",\"#B0BEC5\",\"#B0BEC5\",\"#B0BEC5\",\"#B0BEC5\"]]}],\"label\":\"Topic 14\",\"method\":\"update\"},{\"args\":[{\"marker.color\":[[\"#B0BEC5\",\"#B0BEC5\",\"#B0BEC5\",\"#B0BEC5\",\"#B0BEC5\",\"#B0BEC5\",\"#B0BEC5\",\"#B0BEC5\",\"#B0BEC5\",\"#B0BEC5\",\"#B0BEC5\",\"#B0BEC5\",\"#B0BEC5\",\"#B0BEC5\",\"#B0BEC5\",\"red\",\"#B0BEC5\",\"#B0BEC5\",\"#B0BEC5\",\"#B0BEC5\",\"#B0BEC5\",\"#B0BEC5\",\"#B0BEC5\",\"#B0BEC5\",\"#B0BEC5\",\"#B0BEC5\",\"#B0BEC5\",\"#B0BEC5\",\"#B0BEC5\",\"#B0BEC5\"]]}],\"label\":\"Topic 15\",\"method\":\"update\"},{\"args\":[{\"marker.color\":[[\"#B0BEC5\",\"#B0BEC5\",\"#B0BEC5\",\"#B0BEC5\",\"#B0BEC5\",\"#B0BEC5\",\"#B0BEC5\",\"#B0BEC5\",\"#B0BEC5\",\"#B0BEC5\",\"#B0BEC5\",\"#B0BEC5\",\"#B0BEC5\",\"#B0BEC5\",\"#B0BEC5\",\"#B0BEC5\",\"red\",\"#B0BEC5\",\"#B0BEC5\",\"#B0BEC5\",\"#B0BEC5\",\"#B0BEC5\",\"#B0BEC5\",\"#B0BEC5\",\"#B0BEC5\",\"#B0BEC5\",\"#B0BEC5\",\"#B0BEC5\",\"#B0BEC5\",\"#B0BEC5\"]]}],\"label\":\"Topic 16\",\"method\":\"update\"},{\"args\":[{\"marker.color\":[[\"#B0BEC5\",\"#B0BEC5\",\"#B0BEC5\",\"#B0BEC5\",\"#B0BEC5\",\"#B0BEC5\",\"#B0BEC5\",\"#B0BEC5\",\"#B0BEC5\",\"#B0BEC5\",\"#B0BEC5\",\"#B0BEC5\",\"#B0BEC5\",\"#B0BEC5\",\"#B0BEC5\",\"#B0BEC5\",\"#B0BEC5\",\"red\",\"#B0BEC5\",\"#B0BEC5\",\"#B0BEC5\",\"#B0BEC5\",\"#B0BEC5\",\"#B0BEC5\",\"#B0BEC5\",\"#B0BEC5\",\"#B0BEC5\",\"#B0BEC5\",\"#B0BEC5\",\"#B0BEC5\"]]}],\"label\":\"Topic 17\",\"method\":\"update\"},{\"args\":[{\"marker.color\":[[\"#B0BEC5\",\"#B0BEC5\",\"#B0BEC5\",\"#B0BEC5\",\"#B0BEC5\",\"#B0BEC5\",\"#B0BEC5\",\"#B0BEC5\",\"#B0BEC5\",\"#B0BEC5\",\"#B0BEC5\",\"#B0BEC5\",\"#B0BEC5\",\"#B0BEC5\",\"#B0BEC5\",\"#B0BEC5\",\"#B0BEC5\",\"#B0BEC5\",\"red\",\"#B0BEC5\",\"#B0BEC5\",\"#B0BEC5\",\"#B0BEC5\",\"#B0BEC5\",\"#B0BEC5\",\"#B0BEC5\",\"#B0BEC5\",\"#B0BEC5\",\"#B0BEC5\",\"#B0BEC5\"]]}],\"label\":\"Topic 18\",\"method\":\"update\"},{\"args\":[{\"marker.color\":[[\"#B0BEC5\",\"#B0BEC5\",\"#B0BEC5\",\"#B0BEC5\",\"#B0BEC5\",\"#B0BEC5\",\"#B0BEC5\",\"#B0BEC5\",\"#B0BEC5\",\"#B0BEC5\",\"#B0BEC5\",\"#B0BEC5\",\"#B0BEC5\",\"#B0BEC5\",\"#B0BEC5\",\"#B0BEC5\",\"#B0BEC5\",\"#B0BEC5\",\"#B0BEC5\",\"red\",\"#B0BEC5\",\"#B0BEC5\",\"#B0BEC5\",\"#B0BEC5\",\"#B0BEC5\",\"#B0BEC5\",\"#B0BEC5\",\"#B0BEC5\",\"#B0BEC5\",\"#B0BEC5\"]]}],\"label\":\"Topic 19\",\"method\":\"update\"},{\"args\":[{\"marker.color\":[[\"#B0BEC5\",\"#B0BEC5\",\"#B0BEC5\",\"#B0BEC5\",\"#B0BEC5\",\"#B0BEC5\",\"#B0BEC5\",\"#B0BEC5\",\"#B0BEC5\",\"#B0BEC5\",\"#B0BEC5\",\"#B0BEC5\",\"#B0BEC5\",\"#B0BEC5\",\"#B0BEC5\",\"#B0BEC5\",\"#B0BEC5\",\"#B0BEC5\",\"#B0BEC5\",\"#B0BEC5\",\"red\",\"#B0BEC5\",\"#B0BEC5\",\"#B0BEC5\",\"#B0BEC5\",\"#B0BEC5\",\"#B0BEC5\",\"#B0BEC5\",\"#B0BEC5\",\"#B0BEC5\"]]}],\"label\":\"Topic 20\",\"method\":\"update\"},{\"args\":[{\"marker.color\":[[\"#B0BEC5\",\"#B0BEC5\",\"#B0BEC5\",\"#B0BEC5\",\"#B0BEC5\",\"#B0BEC5\",\"#B0BEC5\",\"#B0BEC5\",\"#B0BEC5\",\"#B0BEC5\",\"#B0BEC5\",\"#B0BEC5\",\"#B0BEC5\",\"#B0BEC5\",\"#B0BEC5\",\"#B0BEC5\",\"#B0BEC5\",\"#B0BEC5\",\"#B0BEC5\",\"#B0BEC5\",\"#B0BEC5\",\"red\",\"#B0BEC5\",\"#B0BEC5\",\"#B0BEC5\",\"#B0BEC5\",\"#B0BEC5\",\"#B0BEC5\",\"#B0BEC5\",\"#B0BEC5\"]]}],\"label\":\"Topic 21\",\"method\":\"update\"},{\"args\":[{\"marker.color\":[[\"#B0BEC5\",\"#B0BEC5\",\"#B0BEC5\",\"#B0BEC5\",\"#B0BEC5\",\"#B0BEC5\",\"#B0BEC5\",\"#B0BEC5\",\"#B0BEC5\",\"#B0BEC5\",\"#B0BEC5\",\"#B0BEC5\",\"#B0BEC5\",\"#B0BEC5\",\"#B0BEC5\",\"#B0BEC5\",\"#B0BEC5\",\"#B0BEC5\",\"#B0BEC5\",\"#B0BEC5\",\"#B0BEC5\",\"#B0BEC5\",\"red\",\"#B0BEC5\",\"#B0BEC5\",\"#B0BEC5\",\"#B0BEC5\",\"#B0BEC5\",\"#B0BEC5\",\"#B0BEC5\"]]}],\"label\":\"Topic 22\",\"method\":\"update\"},{\"args\":[{\"marker.color\":[[\"#B0BEC5\",\"#B0BEC5\",\"#B0BEC5\",\"#B0BEC5\",\"#B0BEC5\",\"#B0BEC5\",\"#B0BEC5\",\"#B0BEC5\",\"#B0BEC5\",\"#B0BEC5\",\"#B0BEC5\",\"#B0BEC5\",\"#B0BEC5\",\"#B0BEC5\",\"#B0BEC5\",\"#B0BEC5\",\"#B0BEC5\",\"#B0BEC5\",\"#B0BEC5\",\"#B0BEC5\",\"#B0BEC5\",\"#B0BEC5\",\"#B0BEC5\",\"red\",\"#B0BEC5\",\"#B0BEC5\",\"#B0BEC5\",\"#B0BEC5\",\"#B0BEC5\",\"#B0BEC5\"]]}],\"label\":\"Topic 23\",\"method\":\"update\"},{\"args\":[{\"marker.color\":[[\"#B0BEC5\",\"#B0BEC5\",\"#B0BEC5\",\"#B0BEC5\",\"#B0BEC5\",\"#B0BEC5\",\"#B0BEC5\",\"#B0BEC5\",\"#B0BEC5\",\"#B0BEC5\",\"#B0BEC5\",\"#B0BEC5\",\"#B0BEC5\",\"#B0BEC5\",\"#B0BEC5\",\"#B0BEC5\",\"#B0BEC5\",\"#B0BEC5\",\"#B0BEC5\",\"#B0BEC5\",\"#B0BEC5\",\"#B0BEC5\",\"#B0BEC5\",\"#B0BEC5\",\"red\",\"#B0BEC5\",\"#B0BEC5\",\"#B0BEC5\",\"#B0BEC5\",\"#B0BEC5\"]]}],\"label\":\"Topic 24\",\"method\":\"update\"},{\"args\":[{\"marker.color\":[[\"#B0BEC5\",\"#B0BEC5\",\"#B0BEC5\",\"#B0BEC5\",\"#B0BEC5\",\"#B0BEC5\",\"#B0BEC5\",\"#B0BEC5\",\"#B0BEC5\",\"#B0BEC5\",\"#B0BEC5\",\"#B0BEC5\",\"#B0BEC5\",\"#B0BEC5\",\"#B0BEC5\",\"#B0BEC5\",\"#B0BEC5\",\"#B0BEC5\",\"#B0BEC5\",\"#B0BEC5\",\"#B0BEC5\",\"#B0BEC5\",\"#B0BEC5\",\"#B0BEC5\",\"#B0BEC5\",\"red\",\"#B0BEC5\",\"#B0BEC5\",\"#B0BEC5\",\"#B0BEC5\"]]}],\"label\":\"Topic 25\",\"method\":\"update\"},{\"args\":[{\"marker.color\":[[\"#B0BEC5\",\"#B0BEC5\",\"#B0BEC5\",\"#B0BEC5\",\"#B0BEC5\",\"#B0BEC5\",\"#B0BEC5\",\"#B0BEC5\",\"#B0BEC5\",\"#B0BEC5\",\"#B0BEC5\",\"#B0BEC5\",\"#B0BEC5\",\"#B0BEC5\",\"#B0BEC5\",\"#B0BEC5\",\"#B0BEC5\",\"#B0BEC5\",\"#B0BEC5\",\"#B0BEC5\",\"#B0BEC5\",\"#B0BEC5\",\"#B0BEC5\",\"#B0BEC5\",\"#B0BEC5\",\"#B0BEC5\",\"red\",\"#B0BEC5\",\"#B0BEC5\",\"#B0BEC5\"]]}],\"label\":\"Topic 26\",\"method\":\"update\"},{\"args\":[{\"marker.color\":[[\"#B0BEC5\",\"#B0BEC5\",\"#B0BEC5\",\"#B0BEC5\",\"#B0BEC5\",\"#B0BEC5\",\"#B0BEC5\",\"#B0BEC5\",\"#B0BEC5\",\"#B0BEC5\",\"#B0BEC5\",\"#B0BEC5\",\"#B0BEC5\",\"#B0BEC5\",\"#B0BEC5\",\"#B0BEC5\",\"#B0BEC5\",\"#B0BEC5\",\"#B0BEC5\",\"#B0BEC5\",\"#B0BEC5\",\"#B0BEC5\",\"#B0BEC5\",\"#B0BEC5\",\"#B0BEC5\",\"#B0BEC5\",\"#B0BEC5\",\"red\",\"#B0BEC5\",\"#B0BEC5\"]]}],\"label\":\"Topic 27\",\"method\":\"update\"},{\"args\":[{\"marker.color\":[[\"#B0BEC5\",\"#B0BEC5\",\"#B0BEC5\",\"#B0BEC5\",\"#B0BEC5\",\"#B0BEC5\",\"#B0BEC5\",\"#B0BEC5\",\"#B0BEC5\",\"#B0BEC5\",\"#B0BEC5\",\"#B0BEC5\",\"#B0BEC5\",\"#B0BEC5\",\"#B0BEC5\",\"#B0BEC5\",\"#B0BEC5\",\"#B0BEC5\",\"#B0BEC5\",\"#B0BEC5\",\"#B0BEC5\",\"#B0BEC5\",\"#B0BEC5\",\"#B0BEC5\",\"#B0BEC5\",\"#B0BEC5\",\"#B0BEC5\",\"#B0BEC5\",\"red\",\"#B0BEC5\"]]}],\"label\":\"Topic 28\",\"method\":\"update\"},{\"args\":[{\"marker.color\":[[\"#B0BEC5\",\"#B0BEC5\",\"#B0BEC5\",\"#B0BEC5\",\"#B0BEC5\",\"#B0BEC5\",\"#B0BEC5\",\"#B0BEC5\",\"#B0BEC5\",\"#B0BEC5\",\"#B0BEC5\",\"#B0BEC5\",\"#B0BEC5\",\"#B0BEC5\",\"#B0BEC5\",\"#B0BEC5\",\"#B0BEC5\",\"#B0BEC5\",\"#B0BEC5\",\"#B0BEC5\",\"#B0BEC5\",\"#B0BEC5\",\"#B0BEC5\",\"#B0BEC5\",\"#B0BEC5\",\"#B0BEC5\",\"#B0BEC5\",\"#B0BEC5\",\"#B0BEC5\",\"red\"]]}],\"label\":\"Topic 29\",\"method\":\"update\"}]}],\"shapes\":[{\"line\":{\"color\":\"#CFD8DC\",\"width\":2},\"type\":\"line\",\"x0\":7.339322721958161,\"x1\":7.339322721958161,\"y0\":-6.548722672462463,\"y1\":5.408928799629211},{\"line\":{\"color\":\"#9E9E9E\",\"width\":2},\"type\":\"line\",\"x0\":-6.884624457359314,\"x1\":21.563269901275635,\"y0\":-0.569896936416626,\"y1\":-0.569896936416626}],\"annotations\":[{\"showarrow\":false,\"text\":\"D1\",\"x\":-6.884624457359314,\"y\":-0.569896936416626,\"yshift\":10},{\"showarrow\":false,\"text\":\"D2\",\"x\":7.339322721958161,\"xshift\":10,\"y\":5.408928799629211}]},                        {\"responsive\": true}                    ).then(function(){\n",
       "                            \n",
       "var gd = document.getElementById('0afb6da8-3dc4-4ecb-8550-3c2e46671d4d');\n",
       "var x = new MutationObserver(function (mutations, observer) {{\n",
       "        var display = window.getComputedStyle(gd).display;\n",
       "        if (!display || display === 'none') {{\n",
       "            console.log([gd, 'removed!']);\n",
       "            Plotly.purge(gd);\n",
       "            observer.disconnect();\n",
       "        }}\n",
       "}});\n",
       "\n",
       "// Listen for the removal of the full notebook cells\n",
       "var notebookContainer = gd.closest('#notebook-container');\n",
       "if (notebookContainer) {{\n",
       "    x.observe(notebookContainer, {childList: true});\n",
       "}}\n",
       "\n",
       "// Listen for the clearing of the current output cell\n",
       "var outputEl = gd.closest('.output');\n",
       "if (outputEl) {{\n",
       "    x.observe(outputEl, {childList: true});\n",
       "}}\n",
       "\n",
       "                        })                };                });            </script>        </div>"
      ]
     },
     "metadata": {},
     "output_type": "display_data"
    }
   ],
   "source": [
    "# Visualize the topic-document distribution for a single document\n",
    "topic_model.visualize_topics()"
   ]
  },
  {
   "cell_type": "code",
   "execution_count": 135,
   "metadata": {},
   "outputs": [
    {
     "data": {
      "application/vnd.plotly.v1+json": {
       "config": {
        "plotlyServerURL": "https://plot.ly"
       },
       "data": [
        {
         "hoverinfo": "text",
         "marker": {
          "color": "rgb(61,153,112)"
         },
         "mode": "lines",
         "type": "scatter",
         "x": [
          0,
          0.30896668334064503,
          0.30896668334064503,
          0
         ],
         "xaxis": "x",
         "y": [
          -15,
          -15,
          -25,
          -25
         ],
         "yaxis": "y"
        },
        {
         "hoverinfo": "text",
         "marker": {
          "color": "rgb(61,153,112)"
         },
         "mode": "lines",
         "type": "scatter",
         "x": [
          0,
          0.5649507451784582,
          0.5649507451784582,
          0.30896668334064503
         ],
         "xaxis": "x",
         "y": [
          -5,
          -5,
          -20,
          -20
         ],
         "yaxis": "y"
        },
        {
         "hoverinfo": "text",
         "marker": {
          "color": "rgb(61,153,112)"
         },
         "mode": "lines",
         "type": "scatter",
         "x": [
          0.5649507451784582,
          0.6789763811068997,
          0.6789763811068997,
          0
         ],
         "xaxis": "x",
         "y": [
          -12.5,
          -12.5,
          -35,
          -35
         ],
         "yaxis": "y"
        },
        {
         "hoverinfo": "text",
         "marker": {
          "color": "rgb(61,153,112)"
         },
         "mode": "lines",
         "type": "scatter",
         "x": [
          0,
          0.5054342633242328,
          0.5054342633242328,
          0
         ],
         "xaxis": "x",
         "y": [
          -65,
          -65,
          -75,
          -75
         ],
         "yaxis": "y"
        },
        {
         "hoverinfo": "text",
         "marker": {
          "color": "rgb(61,153,112)"
         },
         "mode": "lines",
         "type": "scatter",
         "x": [
          0,
          0.5850743873879919,
          0.5850743873879919,
          0.5054342633242328
         ],
         "xaxis": "x",
         "y": [
          -55,
          -55,
          -70,
          -70
         ],
         "yaxis": "y"
        },
        {
         "hoverinfo": "text",
         "marker": {
          "color": "rgb(61,153,112)"
         },
         "mode": "lines",
         "type": "scatter",
         "x": [
          0.5850743873879919,
          0.6245055636863651,
          0.6245055636863651,
          0
         ],
         "xaxis": "x",
         "y": [
          -62.5,
          -62.5,
          -85,
          -85
         ],
         "yaxis": "y"
        },
        {
         "hoverinfo": "text",
         "marker": {
          "color": "rgb(61,153,112)"
         },
         "mode": "lines",
         "type": "scatter",
         "x": [
          0.6245055636863651,
          0.7185617777548551,
          0.7185617777548551,
          0
         ],
         "xaxis": "x",
         "y": [
          -73.75,
          -73.75,
          -95,
          -95
         ],
         "yaxis": "y"
        },
        {
         "hoverinfo": "text",
         "marker": {
          "color": "rgb(61,153,112)"
         },
         "mode": "lines",
         "type": "scatter",
         "x": [
          0,
          0.7329182930128338,
          0.7329182930128338,
          0.7185617777548551
         ],
         "xaxis": "x",
         "y": [
          -45,
          -45,
          -84.375,
          -84.375
         ],
         "yaxis": "y"
        },
        {
         "hoverinfo": "text",
         "marker": {
          "color": "rgb(61,153,112)"
         },
         "mode": "lines",
         "type": "scatter",
         "x": [
          0.6789763811068997,
          0.9829876159965539,
          0.9829876159965539,
          0.7329182930128338
         ],
         "xaxis": "x",
         "y": [
          -23.75,
          -23.75,
          -64.6875,
          -64.6875
         ],
         "yaxis": "y"
        },
        {
         "hoverinfo": "text",
         "marker": {
          "color": "rgb(255,65,54)"
         },
         "mode": "lines",
         "type": "scatter",
         "x": [
          0,
          0.9198716950182353,
          0.9198716950182353,
          0
         ],
         "xaxis": "x",
         "y": [
          -115,
          -115,
          -125,
          -125
         ],
         "yaxis": "y"
        },
        {
         "hoverinfo": "text",
         "marker": {
          "color": "rgb(255,65,54)"
         },
         "mode": "lines",
         "type": "scatter",
         "x": [
          0,
          0.9268085233669263,
          0.9268085233669263,
          0.9198716950182353
         ],
         "xaxis": "x",
         "y": [
          -105,
          -105,
          -120,
          -120
         ],
         "yaxis": "y"
        },
        {
         "hoverinfo": "text",
         "marker": {
          "color": "rgb(255,65,54)"
         },
         "mode": "lines",
         "type": "scatter",
         "x": [
          0,
          0.7831797128609616,
          0.7831797128609616,
          0
         ],
         "xaxis": "x",
         "y": [
          -145,
          -145,
          -155,
          -155
         ],
         "yaxis": "y"
        },
        {
         "hoverinfo": "text",
         "marker": {
          "color": "rgb(255,65,54)"
         },
         "mode": "lines",
         "type": "scatter",
         "x": [
          0,
          0.8892001004010556,
          0.8892001004010556,
          0.7831797128609616
         ],
         "xaxis": "x",
         "y": [
          -135,
          -135,
          -150,
          -150
         ],
         "yaxis": "y"
        },
        {
         "hoverinfo": "text",
         "marker": {
          "color": "rgb(255,65,54)"
         },
         "mode": "lines",
         "type": "scatter",
         "x": [
          0.8892001004010556,
          0.9019801281399034,
          0.9019801281399034,
          0
         ],
         "xaxis": "x",
         "y": [
          -142.5,
          -142.5,
          -165,
          -165
         ],
         "yaxis": "y"
        },
        {
         "hoverinfo": "text",
         "marker": {
          "color": "rgb(255,65,54)"
         },
         "mode": "lines",
         "type": "scatter",
         "x": [
          0.9268085233669263,
          0.9875494662616285,
          0.9875494662616285,
          0.9019801281399034
         ],
         "xaxis": "x",
         "y": [
          -112.5,
          -112.5,
          -153.75,
          -153.75
         ],
         "yaxis": "y"
        },
        {
         "hoverinfo": "text",
         "marker": {
          "color": "rgb(35,205,205)"
         },
         "mode": "lines",
         "type": "scatter",
         "x": [
          0,
          0.8648947596187463,
          0.8648947596187463,
          0
         ],
         "xaxis": "x",
         "y": [
          -175,
          -175,
          -185,
          -185
         ],
         "yaxis": "y"
        },
        {
         "hoverinfo": "text",
         "marker": {
          "color": "rgb(133,20,75)"
         },
         "mode": "lines",
         "type": "scatter",
         "x": [
          0,
          0.9902620309817768,
          0.9902620309817768,
          0
         ],
         "xaxis": "x",
         "y": [
          -195,
          -195,
          -205,
          -205
         ],
         "yaxis": "y"
        },
        {
         "hoverinfo": "text",
         "marker": {
          "color": "rgb(255,220,0)"
         },
         "mode": "lines",
         "type": "scatter",
         "x": [
          0,
          0.9731610091993803,
          0.9731610091993803,
          0
         ],
         "xaxis": "x",
         "y": [
          -215,
          -215,
          -225,
          -225
         ],
         "yaxis": "y"
        },
        {
         "hoverinfo": "text",
         "marker": {
          "color": "rgb(255,220,0)"
         },
         "mode": "lines",
         "type": "scatter",
         "x": [
          0.9731610091993803,
          0.9953810289616959,
          0.9953810289616959,
          0
         ],
         "xaxis": "x",
         "y": [
          -220,
          -220,
          -235,
          -235
         ],
         "yaxis": "y"
        },
        {
         "hoverinfo": "text",
         "marker": {
          "color": "rgb(0,116,217)"
         },
         "mode": "lines",
         "type": "scatter",
         "x": [
          0.9902620309817768,
          1.0060290189420056,
          1.0060290189420056,
          0.9953810289616959
         ],
         "xaxis": "x",
         "y": [
          -200,
          -200,
          -227.5,
          -227.5
         ],
         "yaxis": "y"
        },
        {
         "hoverinfo": "text",
         "marker": {
          "color": "rgb(0,116,217)"
         },
         "mode": "lines",
         "type": "scatter",
         "x": [
          0,
          1,
          1,
          0
         ],
         "xaxis": "x",
         "y": [
          -255,
          -255,
          -265,
          -265
         ],
         "yaxis": "y"
        },
        {
         "hoverinfo": "text",
         "marker": {
          "color": "rgb(0,116,217)"
         },
         "mode": "lines",
         "type": "scatter",
         "x": [
          1,
          1,
          1,
          0
         ],
         "xaxis": "x",
         "y": [
          -260,
          -260,
          -275,
          -275
         ],
         "yaxis": "y"
        },
        {
         "hoverinfo": "text",
         "marker": {
          "color": "rgb(0,116,217)"
         },
         "mode": "lines",
         "type": "scatter",
         "x": [
          0,
          1,
          1,
          1
         ],
         "xaxis": "x",
         "y": [
          -245,
          -245,
          -267.5,
          -267.5
         ],
         "yaxis": "y"
        },
        {
         "hoverinfo": "text",
         "marker": {
          "color": "rgb(40,35,35)"
         },
         "mode": "lines",
         "type": "scatter",
         "x": [
          0,
          0.9999999999999999,
          0.9999999999999999,
          0
         ],
         "xaxis": "x",
         "y": [
          -285,
          -285,
          -295,
          -295
         ],
         "yaxis": "y"
        },
        {
         "hoverinfo": "text",
         "marker": {
          "color": "rgb(0,116,217)"
         },
         "mode": "lines",
         "type": "scatter",
         "x": [
          1,
          1,
          1,
          0.9999999999999999
         ],
         "xaxis": "x",
         "y": [
          -256.25,
          -256.25,
          -290,
          -290
         ],
         "yaxis": "y"
        },
        {
         "hoverinfo": "text",
         "marker": {
          "color": "rgb(0,116,217)"
         },
         "mode": "lines",
         "type": "scatter",
         "x": [
          1.0060290189420056,
          1.0131704789096059,
          1.0131704789096059,
          1
         ],
         "xaxis": "x",
         "y": [
          -213.75,
          -213.75,
          -273.125,
          -273.125
         ],
         "yaxis": "y"
        },
        {
         "hoverinfo": "text",
         "marker": {
          "color": "rgb(0,116,217)"
         },
         "mode": "lines",
         "type": "scatter",
         "x": [
          0.8648947596187463,
          1.097976203728925,
          1.097976203728925,
          1.0131704789096059
         ],
         "xaxis": "x",
         "y": [
          -180,
          -180,
          -243.4375,
          -243.4375
         ],
         "yaxis": "y"
        },
        {
         "hoverinfo": "text",
         "marker": {
          "color": "rgb(0,116,217)"
         },
         "mode": "lines",
         "type": "scatter",
         "x": [
          0.9875494662616285,
          1.2131331637713239,
          1.2131331637713239,
          1.097976203728925
         ],
         "xaxis": "x",
         "y": [
          -133.125,
          -133.125,
          -211.71875,
          -211.71875
         ],
         "yaxis": "y"
        },
        {
         "hoverinfo": "text",
         "marker": {
          "color": "rgb(0,116,217)"
         },
         "mode": "lines",
         "type": "scatter",
         "x": [
          0.9829876159965539,
          1.7127287530764812,
          1.7127287530764812,
          1.2131331637713239
         ],
         "xaxis": "x",
         "y": [
          -44.21875,
          -44.21875,
          -172.421875,
          -172.421875
         ],
         "yaxis": "y"
        }
       ],
       "layout": {
        "autosize": false,
        "height": 650,
        "hoverlabel": {
         "bgcolor": "white",
         "font": {
          "family": "Rockwell",
          "size": 16
         }
        },
        "hovermode": "closest",
        "plot_bgcolor": "#ECEFF1",
        "showlegend": false,
        "template": {
         "data": {
          "bar": [
           {
            "error_x": {
             "color": "#2a3f5f"
            },
            "error_y": {
             "color": "#2a3f5f"
            },
            "marker": {
             "line": {
              "color": "white",
              "width": 0.5
             },
             "pattern": {
              "fillmode": "overlay",
              "size": 10,
              "solidity": 0.2
             }
            },
            "type": "bar"
           }
          ],
          "barpolar": [
           {
            "marker": {
             "line": {
              "color": "white",
              "width": 0.5
             },
             "pattern": {
              "fillmode": "overlay",
              "size": 10,
              "solidity": 0.2
             }
            },
            "type": "barpolar"
           }
          ],
          "carpet": [
           {
            "aaxis": {
             "endlinecolor": "#2a3f5f",
             "gridcolor": "#C8D4E3",
             "linecolor": "#C8D4E3",
             "minorgridcolor": "#C8D4E3",
             "startlinecolor": "#2a3f5f"
            },
            "baxis": {
             "endlinecolor": "#2a3f5f",
             "gridcolor": "#C8D4E3",
             "linecolor": "#C8D4E3",
             "minorgridcolor": "#C8D4E3",
             "startlinecolor": "#2a3f5f"
            },
            "type": "carpet"
           }
          ],
          "choropleth": [
           {
            "colorbar": {
             "outlinewidth": 0,
             "ticks": ""
            },
            "type": "choropleth"
           }
          ],
          "contour": [
           {
            "colorbar": {
             "outlinewidth": 0,
             "ticks": ""
            },
            "colorscale": [
             [
              0,
              "#0d0887"
             ],
             [
              0.1111111111111111,
              "#46039f"
             ],
             [
              0.2222222222222222,
              "#7201a8"
             ],
             [
              0.3333333333333333,
              "#9c179e"
             ],
             [
              0.4444444444444444,
              "#bd3786"
             ],
             [
              0.5555555555555556,
              "#d8576b"
             ],
             [
              0.6666666666666666,
              "#ed7953"
             ],
             [
              0.7777777777777778,
              "#fb9f3a"
             ],
             [
              0.8888888888888888,
              "#fdca26"
             ],
             [
              1,
              "#f0f921"
             ]
            ],
            "type": "contour"
           }
          ],
          "contourcarpet": [
           {
            "colorbar": {
             "outlinewidth": 0,
             "ticks": ""
            },
            "type": "contourcarpet"
           }
          ],
          "heatmap": [
           {
            "colorbar": {
             "outlinewidth": 0,
             "ticks": ""
            },
            "colorscale": [
             [
              0,
              "#0d0887"
             ],
             [
              0.1111111111111111,
              "#46039f"
             ],
             [
              0.2222222222222222,
              "#7201a8"
             ],
             [
              0.3333333333333333,
              "#9c179e"
             ],
             [
              0.4444444444444444,
              "#bd3786"
             ],
             [
              0.5555555555555556,
              "#d8576b"
             ],
             [
              0.6666666666666666,
              "#ed7953"
             ],
             [
              0.7777777777777778,
              "#fb9f3a"
             ],
             [
              0.8888888888888888,
              "#fdca26"
             ],
             [
              1,
              "#f0f921"
             ]
            ],
            "type": "heatmap"
           }
          ],
          "heatmapgl": [
           {
            "colorbar": {
             "outlinewidth": 0,
             "ticks": ""
            },
            "colorscale": [
             [
              0,
              "#0d0887"
             ],
             [
              0.1111111111111111,
              "#46039f"
             ],
             [
              0.2222222222222222,
              "#7201a8"
             ],
             [
              0.3333333333333333,
              "#9c179e"
             ],
             [
              0.4444444444444444,
              "#bd3786"
             ],
             [
              0.5555555555555556,
              "#d8576b"
             ],
             [
              0.6666666666666666,
              "#ed7953"
             ],
             [
              0.7777777777777778,
              "#fb9f3a"
             ],
             [
              0.8888888888888888,
              "#fdca26"
             ],
             [
              1,
              "#f0f921"
             ]
            ],
            "type": "heatmapgl"
           }
          ],
          "histogram": [
           {
            "marker": {
             "pattern": {
              "fillmode": "overlay",
              "size": 10,
              "solidity": 0.2
             }
            },
            "type": "histogram"
           }
          ],
          "histogram2d": [
           {
            "colorbar": {
             "outlinewidth": 0,
             "ticks": ""
            },
            "colorscale": [
             [
              0,
              "#0d0887"
             ],
             [
              0.1111111111111111,
              "#46039f"
             ],
             [
              0.2222222222222222,
              "#7201a8"
             ],
             [
              0.3333333333333333,
              "#9c179e"
             ],
             [
              0.4444444444444444,
              "#bd3786"
             ],
             [
              0.5555555555555556,
              "#d8576b"
             ],
             [
              0.6666666666666666,
              "#ed7953"
             ],
             [
              0.7777777777777778,
              "#fb9f3a"
             ],
             [
              0.8888888888888888,
              "#fdca26"
             ],
             [
              1,
              "#f0f921"
             ]
            ],
            "type": "histogram2d"
           }
          ],
          "histogram2dcontour": [
           {
            "colorbar": {
             "outlinewidth": 0,
             "ticks": ""
            },
            "colorscale": [
             [
              0,
              "#0d0887"
             ],
             [
              0.1111111111111111,
              "#46039f"
             ],
             [
              0.2222222222222222,
              "#7201a8"
             ],
             [
              0.3333333333333333,
              "#9c179e"
             ],
             [
              0.4444444444444444,
              "#bd3786"
             ],
             [
              0.5555555555555556,
              "#d8576b"
             ],
             [
              0.6666666666666666,
              "#ed7953"
             ],
             [
              0.7777777777777778,
              "#fb9f3a"
             ],
             [
              0.8888888888888888,
              "#fdca26"
             ],
             [
              1,
              "#f0f921"
             ]
            ],
            "type": "histogram2dcontour"
           }
          ],
          "mesh3d": [
           {
            "colorbar": {
             "outlinewidth": 0,
             "ticks": ""
            },
            "type": "mesh3d"
           }
          ],
          "parcoords": [
           {
            "line": {
             "colorbar": {
              "outlinewidth": 0,
              "ticks": ""
             }
            },
            "type": "parcoords"
           }
          ],
          "pie": [
           {
            "automargin": true,
            "type": "pie"
           }
          ],
          "scatter": [
           {
            "fillpattern": {
             "fillmode": "overlay",
             "size": 10,
             "solidity": 0.2
            },
            "type": "scatter"
           }
          ],
          "scatter3d": [
           {
            "line": {
             "colorbar": {
              "outlinewidth": 0,
              "ticks": ""
             }
            },
            "marker": {
             "colorbar": {
              "outlinewidth": 0,
              "ticks": ""
             }
            },
            "type": "scatter3d"
           }
          ],
          "scattercarpet": [
           {
            "marker": {
             "colorbar": {
              "outlinewidth": 0,
              "ticks": ""
             }
            },
            "type": "scattercarpet"
           }
          ],
          "scattergeo": [
           {
            "marker": {
             "colorbar": {
              "outlinewidth": 0,
              "ticks": ""
             }
            },
            "type": "scattergeo"
           }
          ],
          "scattergl": [
           {
            "marker": {
             "colorbar": {
              "outlinewidth": 0,
              "ticks": ""
             }
            },
            "type": "scattergl"
           }
          ],
          "scattermapbox": [
           {
            "marker": {
             "colorbar": {
              "outlinewidth": 0,
              "ticks": ""
             }
            },
            "type": "scattermapbox"
           }
          ],
          "scatterpolar": [
           {
            "marker": {
             "colorbar": {
              "outlinewidth": 0,
              "ticks": ""
             }
            },
            "type": "scatterpolar"
           }
          ],
          "scatterpolargl": [
           {
            "marker": {
             "colorbar": {
              "outlinewidth": 0,
              "ticks": ""
             }
            },
            "type": "scatterpolargl"
           }
          ],
          "scatterternary": [
           {
            "marker": {
             "colorbar": {
              "outlinewidth": 0,
              "ticks": ""
             }
            },
            "type": "scatterternary"
           }
          ],
          "surface": [
           {
            "colorbar": {
             "outlinewidth": 0,
             "ticks": ""
            },
            "colorscale": [
             [
              0,
              "#0d0887"
             ],
             [
              0.1111111111111111,
              "#46039f"
             ],
             [
              0.2222222222222222,
              "#7201a8"
             ],
             [
              0.3333333333333333,
              "#9c179e"
             ],
             [
              0.4444444444444444,
              "#bd3786"
             ],
             [
              0.5555555555555556,
              "#d8576b"
             ],
             [
              0.6666666666666666,
              "#ed7953"
             ],
             [
              0.7777777777777778,
              "#fb9f3a"
             ],
             [
              0.8888888888888888,
              "#fdca26"
             ],
             [
              1,
              "#f0f921"
             ]
            ],
            "type": "surface"
           }
          ],
          "table": [
           {
            "cells": {
             "fill": {
              "color": "#EBF0F8"
             },
             "line": {
              "color": "white"
             }
            },
            "header": {
             "fill": {
              "color": "#C8D4E3"
             },
             "line": {
              "color": "white"
             }
            },
            "type": "table"
           }
          ]
         },
         "layout": {
          "annotationdefaults": {
           "arrowcolor": "#2a3f5f",
           "arrowhead": 0,
           "arrowwidth": 1
          },
          "autotypenumbers": "strict",
          "coloraxis": {
           "colorbar": {
            "outlinewidth": 0,
            "ticks": ""
           }
          },
          "colorscale": {
           "diverging": [
            [
             0,
             "#8e0152"
            ],
            [
             0.1,
             "#c51b7d"
            ],
            [
             0.2,
             "#de77ae"
            ],
            [
             0.3,
             "#f1b6da"
            ],
            [
             0.4,
             "#fde0ef"
            ],
            [
             0.5,
             "#f7f7f7"
            ],
            [
             0.6,
             "#e6f5d0"
            ],
            [
             0.7,
             "#b8e186"
            ],
            [
             0.8,
             "#7fbc41"
            ],
            [
             0.9,
             "#4d9221"
            ],
            [
             1,
             "#276419"
            ]
           ],
           "sequential": [
            [
             0,
             "#0d0887"
            ],
            [
             0.1111111111111111,
             "#46039f"
            ],
            [
             0.2222222222222222,
             "#7201a8"
            ],
            [
             0.3333333333333333,
             "#9c179e"
            ],
            [
             0.4444444444444444,
             "#bd3786"
            ],
            [
             0.5555555555555556,
             "#d8576b"
            ],
            [
             0.6666666666666666,
             "#ed7953"
            ],
            [
             0.7777777777777778,
             "#fb9f3a"
            ],
            [
             0.8888888888888888,
             "#fdca26"
            ],
            [
             1,
             "#f0f921"
            ]
           ],
           "sequentialminus": [
            [
             0,
             "#0d0887"
            ],
            [
             0.1111111111111111,
             "#46039f"
            ],
            [
             0.2222222222222222,
             "#7201a8"
            ],
            [
             0.3333333333333333,
             "#9c179e"
            ],
            [
             0.4444444444444444,
             "#bd3786"
            ],
            [
             0.5555555555555556,
             "#d8576b"
            ],
            [
             0.6666666666666666,
             "#ed7953"
            ],
            [
             0.7777777777777778,
             "#fb9f3a"
            ],
            [
             0.8888888888888888,
             "#fdca26"
            ],
            [
             1,
             "#f0f921"
            ]
           ]
          },
          "colorway": [
           "#636efa",
           "#EF553B",
           "#00cc96",
           "#ab63fa",
           "#FFA15A",
           "#19d3f3",
           "#FF6692",
           "#B6E880",
           "#FF97FF",
           "#FECB52"
          ],
          "font": {
           "color": "#2a3f5f"
          },
          "geo": {
           "bgcolor": "white",
           "lakecolor": "white",
           "landcolor": "white",
           "showlakes": true,
           "showland": true,
           "subunitcolor": "#C8D4E3"
          },
          "hoverlabel": {
           "align": "left"
          },
          "hovermode": "closest",
          "mapbox": {
           "style": "light"
          },
          "paper_bgcolor": "white",
          "plot_bgcolor": "white",
          "polar": {
           "angularaxis": {
            "gridcolor": "#EBF0F8",
            "linecolor": "#EBF0F8",
            "ticks": ""
           },
           "bgcolor": "white",
           "radialaxis": {
            "gridcolor": "#EBF0F8",
            "linecolor": "#EBF0F8",
            "ticks": ""
           }
          },
          "scene": {
           "xaxis": {
            "backgroundcolor": "white",
            "gridcolor": "#DFE8F3",
            "gridwidth": 2,
            "linecolor": "#EBF0F8",
            "showbackground": true,
            "ticks": "",
            "zerolinecolor": "#EBF0F8"
           },
           "yaxis": {
            "backgroundcolor": "white",
            "gridcolor": "#DFE8F3",
            "gridwidth": 2,
            "linecolor": "#EBF0F8",
            "showbackground": true,
            "ticks": "",
            "zerolinecolor": "#EBF0F8"
           },
           "zaxis": {
            "backgroundcolor": "white",
            "gridcolor": "#DFE8F3",
            "gridwidth": 2,
            "linecolor": "#EBF0F8",
            "showbackground": true,
            "ticks": "",
            "zerolinecolor": "#EBF0F8"
           }
          },
          "shapedefaults": {
           "line": {
            "color": "#2a3f5f"
           }
          },
          "ternary": {
           "aaxis": {
            "gridcolor": "#DFE8F3",
            "linecolor": "#A2B1C6",
            "ticks": ""
           },
           "baxis": {
            "gridcolor": "#DFE8F3",
            "linecolor": "#A2B1C6",
            "ticks": ""
           },
           "bgcolor": "white",
           "caxis": {
            "gridcolor": "#DFE8F3",
            "linecolor": "#A2B1C6",
            "ticks": ""
           }
          },
          "title": {
           "x": 0.05
          },
          "xaxis": {
           "automargin": true,
           "gridcolor": "#EBF0F8",
           "linecolor": "#EBF0F8",
           "ticks": "",
           "title": {
            "standoff": 15
           },
           "zerolinecolor": "#EBF0F8",
           "zerolinewidth": 2
          },
          "yaxis": {
           "automargin": true,
           "gridcolor": "#EBF0F8",
           "linecolor": "#EBF0F8",
           "ticks": "",
           "title": {
            "standoff": 15
           },
           "zerolinecolor": "#EBF0F8",
           "zerolinewidth": 2
          }
         }
        },
        "title": {
         "font": {
          "color": "Black",
          "size": 22
         },
         "text": "<b>Hierarchical Clustering</b>",
         "x": 0.5,
         "xanchor": "center",
         "yanchor": "top"
        },
        "width": 1000,
        "xaxis": {
         "mirror": "allticks",
         "rangemode": "tozero",
         "showgrid": false,
         "showline": true,
         "showticklabels": true,
         "ticks": "outside",
         "type": "linear",
         "zeroline": false
        },
        "yaxis": {
         "mirror": "allticks",
         "range": [
          -300,
          0
         ],
         "rangemode": "tozero",
         "showgrid": false,
         "showline": true,
         "showticklabels": true,
         "tickmode": "array",
         "ticks": "outside",
         "ticktext": [
          "8_public_background_border",
          "6_const_this_new",
          "3_public_string_new",
          "12_gt lt_quot gt_lt div",
          "15_quot quot_quot react_quo...",
          "10_at_java_at org",
          "5_unknown unknown_rbf_preco...",
          "7_self_np_na",
          "1_df_foo_select",
          "4_000 000_000_cannot",
          "16_minmax_df_useeffect usee...",
          "14_py_std__output_connect",
          "11_feature feature_feature_...",
          "13_js_package json_ts",
          "2_elemnt_elemnt elemnt_loca...",
          "9_npm run_install_npm",
          "0_scrollbar_pod_dockerfile",
          "17_undefined_undefined null...",
          "20_hg_hg forget_lib1 so",
          "22_list list_lt code_readable",
          "19_string string_saturday_p...",
          "27_html html_html index_html",
          "24_where where_where_l2 l2",
          "18_false false_user false_u...",
          "26_action action_iboeing_ac...",
          "21_context context_df df_po...",
          "23_id id_page2 page3_page3",
          "25_npm start_name name_div ...",
          "29_true true_start_time_sta...",
          "28_listbox_prod prod_prod"
         ],
         "tickvals": [
          -5,
          -15,
          -25,
          -35,
          -45,
          -55,
          -65,
          -75,
          -85,
          -95,
          -105,
          -115,
          -125,
          -135,
          -145,
          -155,
          -165,
          -175,
          -185,
          -195,
          -205,
          -215,
          -225,
          -235,
          -245,
          -255,
          -265,
          -275,
          -285,
          -295
         ],
         "type": "linear",
         "zeroline": false
        }
       }
      },
      "text/html": [
       "<div>                            <div id=\"8487aba2-b6f5-4d3c-8e1c-3ed57e761baa\" class=\"plotly-graph-div\" style=\"height:650px; width:1000px;\"></div>            <script type=\"text/javascript\">                require([\"plotly\"], function(Plotly) {                    window.PLOTLYENV=window.PLOTLYENV || {};                                    if (document.getElementById(\"8487aba2-b6f5-4d3c-8e1c-3ed57e761baa\")) {                    Plotly.newPlot(                        \"8487aba2-b6f5-4d3c-8e1c-3ed57e761baa\",                        [{\"hoverinfo\":\"text\",\"marker\":{\"color\":\"rgb(61,153,112)\"},\"mode\":\"lines\",\"x\":[0.0,0.30896668334064503,0.30896668334064503,0.0],\"xaxis\":\"x\",\"y\":[-15.0,-15.0,-25.0,-25.0],\"yaxis\":\"y\",\"type\":\"scatter\"},{\"hoverinfo\":\"text\",\"marker\":{\"color\":\"rgb(61,153,112)\"},\"mode\":\"lines\",\"x\":[0.0,0.5649507451784582,0.5649507451784582,0.30896668334064503],\"xaxis\":\"x\",\"y\":[-5.0,-5.0,-20.0,-20.0],\"yaxis\":\"y\",\"type\":\"scatter\"},{\"hoverinfo\":\"text\",\"marker\":{\"color\":\"rgb(61,153,112)\"},\"mode\":\"lines\",\"x\":[0.5649507451784582,0.6789763811068997,0.6789763811068997,0.0],\"xaxis\":\"x\",\"y\":[-12.5,-12.5,-35.0,-35.0],\"yaxis\":\"y\",\"type\":\"scatter\"},{\"hoverinfo\":\"text\",\"marker\":{\"color\":\"rgb(61,153,112)\"},\"mode\":\"lines\",\"x\":[0.0,0.5054342633242328,0.5054342633242328,0.0],\"xaxis\":\"x\",\"y\":[-65.0,-65.0,-75.0,-75.0],\"yaxis\":\"y\",\"type\":\"scatter\"},{\"hoverinfo\":\"text\",\"marker\":{\"color\":\"rgb(61,153,112)\"},\"mode\":\"lines\",\"x\":[0.0,0.5850743873879919,0.5850743873879919,0.5054342633242328],\"xaxis\":\"x\",\"y\":[-55.0,-55.0,-70.0,-70.0],\"yaxis\":\"y\",\"type\":\"scatter\"},{\"hoverinfo\":\"text\",\"marker\":{\"color\":\"rgb(61,153,112)\"},\"mode\":\"lines\",\"x\":[0.5850743873879919,0.6245055636863651,0.6245055636863651,0.0],\"xaxis\":\"x\",\"y\":[-62.5,-62.5,-85.0,-85.0],\"yaxis\":\"y\",\"type\":\"scatter\"},{\"hoverinfo\":\"text\",\"marker\":{\"color\":\"rgb(61,153,112)\"},\"mode\":\"lines\",\"x\":[0.6245055636863651,0.7185617777548551,0.7185617777548551,0.0],\"xaxis\":\"x\",\"y\":[-73.75,-73.75,-95.0,-95.0],\"yaxis\":\"y\",\"type\":\"scatter\"},{\"hoverinfo\":\"text\",\"marker\":{\"color\":\"rgb(61,153,112)\"},\"mode\":\"lines\",\"x\":[0.0,0.7329182930128338,0.7329182930128338,0.7185617777548551],\"xaxis\":\"x\",\"y\":[-45.0,-45.0,-84.375,-84.375],\"yaxis\":\"y\",\"type\":\"scatter\"},{\"hoverinfo\":\"text\",\"marker\":{\"color\":\"rgb(61,153,112)\"},\"mode\":\"lines\",\"x\":[0.6789763811068997,0.9829876159965539,0.9829876159965539,0.7329182930128338],\"xaxis\":\"x\",\"y\":[-23.75,-23.75,-64.6875,-64.6875],\"yaxis\":\"y\",\"type\":\"scatter\"},{\"hoverinfo\":\"text\",\"marker\":{\"color\":\"rgb(255,65,54)\"},\"mode\":\"lines\",\"x\":[0.0,0.9198716950182353,0.9198716950182353,0.0],\"xaxis\":\"x\",\"y\":[-115.0,-115.0,-125.0,-125.0],\"yaxis\":\"y\",\"type\":\"scatter\"},{\"hoverinfo\":\"text\",\"marker\":{\"color\":\"rgb(255,65,54)\"},\"mode\":\"lines\",\"x\":[0.0,0.9268085233669263,0.9268085233669263,0.9198716950182353],\"xaxis\":\"x\",\"y\":[-105.0,-105.0,-120.0,-120.0],\"yaxis\":\"y\",\"type\":\"scatter\"},{\"hoverinfo\":\"text\",\"marker\":{\"color\":\"rgb(255,65,54)\"},\"mode\":\"lines\",\"x\":[0.0,0.7831797128609616,0.7831797128609616,0.0],\"xaxis\":\"x\",\"y\":[-145.0,-145.0,-155.0,-155.0],\"yaxis\":\"y\",\"type\":\"scatter\"},{\"hoverinfo\":\"text\",\"marker\":{\"color\":\"rgb(255,65,54)\"},\"mode\":\"lines\",\"x\":[0.0,0.8892001004010556,0.8892001004010556,0.7831797128609616],\"xaxis\":\"x\",\"y\":[-135.0,-135.0,-150.0,-150.0],\"yaxis\":\"y\",\"type\":\"scatter\"},{\"hoverinfo\":\"text\",\"marker\":{\"color\":\"rgb(255,65,54)\"},\"mode\":\"lines\",\"x\":[0.8892001004010556,0.9019801281399034,0.9019801281399034,0.0],\"xaxis\":\"x\",\"y\":[-142.5,-142.5,-165.0,-165.0],\"yaxis\":\"y\",\"type\":\"scatter\"},{\"hoverinfo\":\"text\",\"marker\":{\"color\":\"rgb(255,65,54)\"},\"mode\":\"lines\",\"x\":[0.9268085233669263,0.9875494662616285,0.9875494662616285,0.9019801281399034],\"xaxis\":\"x\",\"y\":[-112.5,-112.5,-153.75,-153.75],\"yaxis\":\"y\",\"type\":\"scatter\"},{\"hoverinfo\":\"text\",\"marker\":{\"color\":\"rgb(35,205,205)\"},\"mode\":\"lines\",\"x\":[0.0,0.8648947596187463,0.8648947596187463,0.0],\"xaxis\":\"x\",\"y\":[-175.0,-175.0,-185.0,-185.0],\"yaxis\":\"y\",\"type\":\"scatter\"},{\"hoverinfo\":\"text\",\"marker\":{\"color\":\"rgb(133,20,75)\"},\"mode\":\"lines\",\"x\":[0.0,0.9902620309817768,0.9902620309817768,0.0],\"xaxis\":\"x\",\"y\":[-195.0,-195.0,-205.0,-205.0],\"yaxis\":\"y\",\"type\":\"scatter\"},{\"hoverinfo\":\"text\",\"marker\":{\"color\":\"rgb(255,220,0)\"},\"mode\":\"lines\",\"x\":[0.0,0.9731610091993803,0.9731610091993803,0.0],\"xaxis\":\"x\",\"y\":[-215.0,-215.0,-225.0,-225.0],\"yaxis\":\"y\",\"type\":\"scatter\"},{\"hoverinfo\":\"text\",\"marker\":{\"color\":\"rgb(255,220,0)\"},\"mode\":\"lines\",\"x\":[0.9731610091993803,0.9953810289616959,0.9953810289616959,0.0],\"xaxis\":\"x\",\"y\":[-220.0,-220.0,-235.0,-235.0],\"yaxis\":\"y\",\"type\":\"scatter\"},{\"hoverinfo\":\"text\",\"marker\":{\"color\":\"rgb(0,116,217)\"},\"mode\":\"lines\",\"x\":[0.9902620309817768,1.0060290189420056,1.0060290189420056,0.9953810289616959],\"xaxis\":\"x\",\"y\":[-200.0,-200.0,-227.5,-227.5],\"yaxis\":\"y\",\"type\":\"scatter\"},{\"hoverinfo\":\"text\",\"marker\":{\"color\":\"rgb(0,116,217)\"},\"mode\":\"lines\",\"x\":[0.0,1.0,1.0,0.0],\"xaxis\":\"x\",\"y\":[-255.0,-255.0,-265.0,-265.0],\"yaxis\":\"y\",\"type\":\"scatter\"},{\"hoverinfo\":\"text\",\"marker\":{\"color\":\"rgb(0,116,217)\"},\"mode\":\"lines\",\"x\":[1.0,1.0,1.0,0.0],\"xaxis\":\"x\",\"y\":[-260.0,-260.0,-275.0,-275.0],\"yaxis\":\"y\",\"type\":\"scatter\"},{\"hoverinfo\":\"text\",\"marker\":{\"color\":\"rgb(0,116,217)\"},\"mode\":\"lines\",\"x\":[0.0,1.0,1.0,1.0],\"xaxis\":\"x\",\"y\":[-245.0,-245.0,-267.5,-267.5],\"yaxis\":\"y\",\"type\":\"scatter\"},{\"hoverinfo\":\"text\",\"marker\":{\"color\":\"rgb(40,35,35)\"},\"mode\":\"lines\",\"x\":[0.0,0.9999999999999999,0.9999999999999999,0.0],\"xaxis\":\"x\",\"y\":[-285.0,-285.0,-295.0,-295.0],\"yaxis\":\"y\",\"type\":\"scatter\"},{\"hoverinfo\":\"text\",\"marker\":{\"color\":\"rgb(0,116,217)\"},\"mode\":\"lines\",\"x\":[1.0,1.0,1.0,0.9999999999999999],\"xaxis\":\"x\",\"y\":[-256.25,-256.25,-290.0,-290.0],\"yaxis\":\"y\",\"type\":\"scatter\"},{\"hoverinfo\":\"text\",\"marker\":{\"color\":\"rgb(0,116,217)\"},\"mode\":\"lines\",\"x\":[1.0060290189420056,1.0131704789096059,1.0131704789096059,1.0],\"xaxis\":\"x\",\"y\":[-213.75,-213.75,-273.125,-273.125],\"yaxis\":\"y\",\"type\":\"scatter\"},{\"hoverinfo\":\"text\",\"marker\":{\"color\":\"rgb(0,116,217)\"},\"mode\":\"lines\",\"x\":[0.8648947596187463,1.097976203728925,1.097976203728925,1.0131704789096059],\"xaxis\":\"x\",\"y\":[-180.0,-180.0,-243.4375,-243.4375],\"yaxis\":\"y\",\"type\":\"scatter\"},{\"hoverinfo\":\"text\",\"marker\":{\"color\":\"rgb(0,116,217)\"},\"mode\":\"lines\",\"x\":[0.9875494662616285,1.2131331637713239,1.2131331637713239,1.097976203728925],\"xaxis\":\"x\",\"y\":[-133.125,-133.125,-211.71875,-211.71875],\"yaxis\":\"y\",\"type\":\"scatter\"},{\"hoverinfo\":\"text\",\"marker\":{\"color\":\"rgb(0,116,217)\"},\"mode\":\"lines\",\"x\":[0.9829876159965539,1.7127287530764812,1.7127287530764812,1.2131331637713239],\"xaxis\":\"x\",\"y\":[-44.21875,-44.21875,-172.421875,-172.421875],\"yaxis\":\"y\",\"type\":\"scatter\"}],                        {\"autosize\":false,\"height\":650,\"hovermode\":\"closest\",\"showlegend\":false,\"width\":1000,\"xaxis\":{\"mirror\":\"allticks\",\"rangemode\":\"tozero\",\"showgrid\":false,\"showline\":true,\"showticklabels\":true,\"ticks\":\"outside\",\"type\":\"linear\",\"zeroline\":false},\"yaxis\":{\"mirror\":\"allticks\",\"rangemode\":\"tozero\",\"showgrid\":false,\"showline\":true,\"showticklabels\":true,\"tickmode\":\"array\",\"ticks\":\"outside\",\"ticktext\":[\"8_public_background_border\",\"6_const_this_new\",\"3_public_string_new\",\"12_gt lt_quot gt_lt div\",\"15_quot quot_quot react_quo...\",\"10_at_java_at org\",\"5_unknown unknown_rbf_preco...\",\"7_self_np_na\",\"1_df_foo_select\",\"4_000 000_000_cannot\",\"16_minmax_df_useeffect usee...\",\"14_py_std__output_connect\",\"11_feature feature_feature_...\",\"13_js_package json_ts\",\"2_elemnt_elemnt elemnt_loca...\",\"9_npm run_install_npm\",\"0_scrollbar_pod_dockerfile\",\"17_undefined_undefined null...\",\"20_hg_hg forget_lib1 so\",\"22_list list_lt code_readable\",\"19_string string_saturday_p...\",\"27_html html_html index_html\",\"24_where where_where_l2 l2\",\"18_false false_user false_u...\",\"26_action action_iboeing_ac...\",\"21_context context_df df_po...\",\"23_id id_page2 page3_page3\",\"25_npm start_name name_div ...\",\"29_true true_start_time_sta...\",\"28_listbox_prod prod_prod\"],\"tickvals\":[-5.0,-15.0,-25.0,-35.0,-45.0,-55.0,-65.0,-75.0,-85.0,-95.0,-105.0,-115.0,-125.0,-135.0,-145.0,-155.0,-165.0,-175.0,-185.0,-195.0,-205.0,-215.0,-225.0,-235.0,-245.0,-255.0,-265.0,-275.0,-285.0,-295.0],\"type\":\"linear\",\"zeroline\":false,\"range\":[-300.0,0.0]},\"template\":{\"data\":{\"barpolar\":[{\"marker\":{\"line\":{\"color\":\"white\",\"width\":0.5},\"pattern\":{\"fillmode\":\"overlay\",\"size\":10,\"solidity\":0.2}},\"type\":\"barpolar\"}],\"bar\":[{\"error_x\":{\"color\":\"#2a3f5f\"},\"error_y\":{\"color\":\"#2a3f5f\"},\"marker\":{\"line\":{\"color\":\"white\",\"width\":0.5},\"pattern\":{\"fillmode\":\"overlay\",\"size\":10,\"solidity\":0.2}},\"type\":\"bar\"}],\"carpet\":[{\"aaxis\":{\"endlinecolor\":\"#2a3f5f\",\"gridcolor\":\"#C8D4E3\",\"linecolor\":\"#C8D4E3\",\"minorgridcolor\":\"#C8D4E3\",\"startlinecolor\":\"#2a3f5f\"},\"baxis\":{\"endlinecolor\":\"#2a3f5f\",\"gridcolor\":\"#C8D4E3\",\"linecolor\":\"#C8D4E3\",\"minorgridcolor\":\"#C8D4E3\",\"startlinecolor\":\"#2a3f5f\"},\"type\":\"carpet\"}],\"choropleth\":[{\"colorbar\":{\"outlinewidth\":0,\"ticks\":\"\"},\"type\":\"choropleth\"}],\"contourcarpet\":[{\"colorbar\":{\"outlinewidth\":0,\"ticks\":\"\"},\"type\":\"contourcarpet\"}],\"contour\":[{\"colorbar\":{\"outlinewidth\":0,\"ticks\":\"\"},\"colorscale\":[[0.0,\"#0d0887\"],[0.1111111111111111,\"#46039f\"],[0.2222222222222222,\"#7201a8\"],[0.3333333333333333,\"#9c179e\"],[0.4444444444444444,\"#bd3786\"],[0.5555555555555556,\"#d8576b\"],[0.6666666666666666,\"#ed7953\"],[0.7777777777777778,\"#fb9f3a\"],[0.8888888888888888,\"#fdca26\"],[1.0,\"#f0f921\"]],\"type\":\"contour\"}],\"heatmapgl\":[{\"colorbar\":{\"outlinewidth\":0,\"ticks\":\"\"},\"colorscale\":[[0.0,\"#0d0887\"],[0.1111111111111111,\"#46039f\"],[0.2222222222222222,\"#7201a8\"],[0.3333333333333333,\"#9c179e\"],[0.4444444444444444,\"#bd3786\"],[0.5555555555555556,\"#d8576b\"],[0.6666666666666666,\"#ed7953\"],[0.7777777777777778,\"#fb9f3a\"],[0.8888888888888888,\"#fdca26\"],[1.0,\"#f0f921\"]],\"type\":\"heatmapgl\"}],\"heatmap\":[{\"colorbar\":{\"outlinewidth\":0,\"ticks\":\"\"},\"colorscale\":[[0.0,\"#0d0887\"],[0.1111111111111111,\"#46039f\"],[0.2222222222222222,\"#7201a8\"],[0.3333333333333333,\"#9c179e\"],[0.4444444444444444,\"#bd3786\"],[0.5555555555555556,\"#d8576b\"],[0.6666666666666666,\"#ed7953\"],[0.7777777777777778,\"#fb9f3a\"],[0.8888888888888888,\"#fdca26\"],[1.0,\"#f0f921\"]],\"type\":\"heatmap\"}],\"histogram2dcontour\":[{\"colorbar\":{\"outlinewidth\":0,\"ticks\":\"\"},\"colorscale\":[[0.0,\"#0d0887\"],[0.1111111111111111,\"#46039f\"],[0.2222222222222222,\"#7201a8\"],[0.3333333333333333,\"#9c179e\"],[0.4444444444444444,\"#bd3786\"],[0.5555555555555556,\"#d8576b\"],[0.6666666666666666,\"#ed7953\"],[0.7777777777777778,\"#fb9f3a\"],[0.8888888888888888,\"#fdca26\"],[1.0,\"#f0f921\"]],\"type\":\"histogram2dcontour\"}],\"histogram2d\":[{\"colorbar\":{\"outlinewidth\":0,\"ticks\":\"\"},\"colorscale\":[[0.0,\"#0d0887\"],[0.1111111111111111,\"#46039f\"],[0.2222222222222222,\"#7201a8\"],[0.3333333333333333,\"#9c179e\"],[0.4444444444444444,\"#bd3786\"],[0.5555555555555556,\"#d8576b\"],[0.6666666666666666,\"#ed7953\"],[0.7777777777777778,\"#fb9f3a\"],[0.8888888888888888,\"#fdca26\"],[1.0,\"#f0f921\"]],\"type\":\"histogram2d\"}],\"histogram\":[{\"marker\":{\"pattern\":{\"fillmode\":\"overlay\",\"size\":10,\"solidity\":0.2}},\"type\":\"histogram\"}],\"mesh3d\":[{\"colorbar\":{\"outlinewidth\":0,\"ticks\":\"\"},\"type\":\"mesh3d\"}],\"parcoords\":[{\"line\":{\"colorbar\":{\"outlinewidth\":0,\"ticks\":\"\"}},\"type\":\"parcoords\"}],\"pie\":[{\"automargin\":true,\"type\":\"pie\"}],\"scatter3d\":[{\"line\":{\"colorbar\":{\"outlinewidth\":0,\"ticks\":\"\"}},\"marker\":{\"colorbar\":{\"outlinewidth\":0,\"ticks\":\"\"}},\"type\":\"scatter3d\"}],\"scattercarpet\":[{\"marker\":{\"colorbar\":{\"outlinewidth\":0,\"ticks\":\"\"}},\"type\":\"scattercarpet\"}],\"scattergeo\":[{\"marker\":{\"colorbar\":{\"outlinewidth\":0,\"ticks\":\"\"}},\"type\":\"scattergeo\"}],\"scattergl\":[{\"marker\":{\"colorbar\":{\"outlinewidth\":0,\"ticks\":\"\"}},\"type\":\"scattergl\"}],\"scattermapbox\":[{\"marker\":{\"colorbar\":{\"outlinewidth\":0,\"ticks\":\"\"}},\"type\":\"scattermapbox\"}],\"scatterpolargl\":[{\"marker\":{\"colorbar\":{\"outlinewidth\":0,\"ticks\":\"\"}},\"type\":\"scatterpolargl\"}],\"scatterpolar\":[{\"marker\":{\"colorbar\":{\"outlinewidth\":0,\"ticks\":\"\"}},\"type\":\"scatterpolar\"}],\"scatter\":[{\"fillpattern\":{\"fillmode\":\"overlay\",\"size\":10,\"solidity\":0.2},\"type\":\"scatter\"}],\"scatterternary\":[{\"marker\":{\"colorbar\":{\"outlinewidth\":0,\"ticks\":\"\"}},\"type\":\"scatterternary\"}],\"surface\":[{\"colorbar\":{\"outlinewidth\":0,\"ticks\":\"\"},\"colorscale\":[[0.0,\"#0d0887\"],[0.1111111111111111,\"#46039f\"],[0.2222222222222222,\"#7201a8\"],[0.3333333333333333,\"#9c179e\"],[0.4444444444444444,\"#bd3786\"],[0.5555555555555556,\"#d8576b\"],[0.6666666666666666,\"#ed7953\"],[0.7777777777777778,\"#fb9f3a\"],[0.8888888888888888,\"#fdca26\"],[1.0,\"#f0f921\"]],\"type\":\"surface\"}],\"table\":[{\"cells\":{\"fill\":{\"color\":\"#EBF0F8\"},\"line\":{\"color\":\"white\"}},\"header\":{\"fill\":{\"color\":\"#C8D4E3\"},\"line\":{\"color\":\"white\"}},\"type\":\"table\"}]},\"layout\":{\"annotationdefaults\":{\"arrowcolor\":\"#2a3f5f\",\"arrowhead\":0,\"arrowwidth\":1},\"autotypenumbers\":\"strict\",\"coloraxis\":{\"colorbar\":{\"outlinewidth\":0,\"ticks\":\"\"}},\"colorscale\":{\"diverging\":[[0,\"#8e0152\"],[0.1,\"#c51b7d\"],[0.2,\"#de77ae\"],[0.3,\"#f1b6da\"],[0.4,\"#fde0ef\"],[0.5,\"#f7f7f7\"],[0.6,\"#e6f5d0\"],[0.7,\"#b8e186\"],[0.8,\"#7fbc41\"],[0.9,\"#4d9221\"],[1,\"#276419\"]],\"sequential\":[[0.0,\"#0d0887\"],[0.1111111111111111,\"#46039f\"],[0.2222222222222222,\"#7201a8\"],[0.3333333333333333,\"#9c179e\"],[0.4444444444444444,\"#bd3786\"],[0.5555555555555556,\"#d8576b\"],[0.6666666666666666,\"#ed7953\"],[0.7777777777777778,\"#fb9f3a\"],[0.8888888888888888,\"#fdca26\"],[1.0,\"#f0f921\"]],\"sequentialminus\":[[0.0,\"#0d0887\"],[0.1111111111111111,\"#46039f\"],[0.2222222222222222,\"#7201a8\"],[0.3333333333333333,\"#9c179e\"],[0.4444444444444444,\"#bd3786\"],[0.5555555555555556,\"#d8576b\"],[0.6666666666666666,\"#ed7953\"],[0.7777777777777778,\"#fb9f3a\"],[0.8888888888888888,\"#fdca26\"],[1.0,\"#f0f921\"]]},\"colorway\":[\"#636efa\",\"#EF553B\",\"#00cc96\",\"#ab63fa\",\"#FFA15A\",\"#19d3f3\",\"#FF6692\",\"#B6E880\",\"#FF97FF\",\"#FECB52\"],\"font\":{\"color\":\"#2a3f5f\"},\"geo\":{\"bgcolor\":\"white\",\"lakecolor\":\"white\",\"landcolor\":\"white\",\"showlakes\":true,\"showland\":true,\"subunitcolor\":\"#C8D4E3\"},\"hoverlabel\":{\"align\":\"left\"},\"hovermode\":\"closest\",\"mapbox\":{\"style\":\"light\"},\"paper_bgcolor\":\"white\",\"plot_bgcolor\":\"white\",\"polar\":{\"angularaxis\":{\"gridcolor\":\"#EBF0F8\",\"linecolor\":\"#EBF0F8\",\"ticks\":\"\"},\"bgcolor\":\"white\",\"radialaxis\":{\"gridcolor\":\"#EBF0F8\",\"linecolor\":\"#EBF0F8\",\"ticks\":\"\"}},\"scene\":{\"xaxis\":{\"backgroundcolor\":\"white\",\"gridcolor\":\"#DFE8F3\",\"gridwidth\":2,\"linecolor\":\"#EBF0F8\",\"showbackground\":true,\"ticks\":\"\",\"zerolinecolor\":\"#EBF0F8\"},\"yaxis\":{\"backgroundcolor\":\"white\",\"gridcolor\":\"#DFE8F3\",\"gridwidth\":2,\"linecolor\":\"#EBF0F8\",\"showbackground\":true,\"ticks\":\"\",\"zerolinecolor\":\"#EBF0F8\"},\"zaxis\":{\"backgroundcolor\":\"white\",\"gridcolor\":\"#DFE8F3\",\"gridwidth\":2,\"linecolor\":\"#EBF0F8\",\"showbackground\":true,\"ticks\":\"\",\"zerolinecolor\":\"#EBF0F8\"}},\"shapedefaults\":{\"line\":{\"color\":\"#2a3f5f\"}},\"ternary\":{\"aaxis\":{\"gridcolor\":\"#DFE8F3\",\"linecolor\":\"#A2B1C6\",\"ticks\":\"\"},\"baxis\":{\"gridcolor\":\"#DFE8F3\",\"linecolor\":\"#A2B1C6\",\"ticks\":\"\"},\"bgcolor\":\"white\",\"caxis\":{\"gridcolor\":\"#DFE8F3\",\"linecolor\":\"#A2B1C6\",\"ticks\":\"\"}},\"title\":{\"x\":0.05},\"xaxis\":{\"automargin\":true,\"gridcolor\":\"#EBF0F8\",\"linecolor\":\"#EBF0F8\",\"ticks\":\"\",\"title\":{\"standoff\":15},\"zerolinecolor\":\"#EBF0F8\",\"zerolinewidth\":2},\"yaxis\":{\"automargin\":true,\"gridcolor\":\"#EBF0F8\",\"linecolor\":\"#EBF0F8\",\"ticks\":\"\",\"title\":{\"standoff\":15},\"zerolinecolor\":\"#EBF0F8\",\"zerolinewidth\":2}}},\"title\":{\"font\":{\"size\":22,\"color\":\"Black\"},\"text\":\"\\u003cb\\u003eHierarchical Clustering\\u003c\\u002fb\\u003e\",\"x\":0.5,\"xanchor\":\"center\",\"yanchor\":\"top\"},\"hoverlabel\":{\"font\":{\"size\":16,\"family\":\"Rockwell\"},\"bgcolor\":\"white\"},\"plot_bgcolor\":\"#ECEFF1\"},                        {\"responsive\": true}                    ).then(function(){\n",
       "                            \n",
       "var gd = document.getElementById('8487aba2-b6f5-4d3c-8e1c-3ed57e761baa');\n",
       "var x = new MutationObserver(function (mutations, observer) {{\n",
       "        var display = window.getComputedStyle(gd).display;\n",
       "        if (!display || display === 'none') {{\n",
       "            console.log([gd, 'removed!']);\n",
       "            Plotly.purge(gd);\n",
       "            observer.disconnect();\n",
       "        }}\n",
       "}});\n",
       "\n",
       "// Listen for the removal of the full notebook cells\n",
       "var notebookContainer = gd.closest('#notebook-container');\n",
       "if (notebookContainer) {{\n",
       "    x.observe(notebookContainer, {childList: true});\n",
       "}}\n",
       "\n",
       "// Listen for the clearing of the current output cell\n",
       "var outputEl = gd.closest('.output');\n",
       "if (outputEl) {{\n",
       "    x.observe(outputEl, {childList: true});\n",
       "}}\n",
       "\n",
       "                        })                };                });            </script>        </div>"
      ]
     },
     "metadata": {},
     "output_type": "display_data"
    }
   ],
   "source": [
    "topic_model.visualize_hierarchy()"
   ]
  },
  {
   "cell_type": "code",
   "execution_count": null,
   "metadata": {},
   "outputs": [],
   "source": [
    "reduced_embeddings = UMAP(n_neighbors=10, n_components=2, min_dist=0.0, metric='cosine').fit_transform(embeddings)"
   ]
  },
  {
   "cell_type": "code",
   "execution_count": null,
   "metadata": {},
   "outputs": [],
   "source": [
    "topic_model.visualize_documents(data, embeddings=embeddings)"
   ]
  },
  {
   "cell_type": "code",
   "execution_count": null,
   "metadata": {},
   "outputs": [],
   "source": [
    "topic_model.visualize_documents(data, reduced_embeddings=reduced_embeddings)"
   ]
  },
  {
   "cell_type": "code",
   "execution_count": 136,
   "metadata": {},
   "outputs": [],
   "source": [
    "topa_df = topic_model.get_document_info(data)"
   ]
  },
  {
   "cell_type": "code",
   "execution_count": 137,
   "metadata": {},
   "outputs": [
    {
     "data": {
      "text/html": [
       "<div>\n",
       "<style scoped>\n",
       "    .dataframe tbody tr th:only-of-type {\n",
       "        vertical-align: middle;\n",
       "    }\n",
       "\n",
       "    .dataframe tbody tr th {\n",
       "        vertical-align: top;\n",
       "    }\n",
       "\n",
       "    .dataframe thead th {\n",
       "        text-align: right;\n",
       "    }\n",
       "</style>\n",
       "<table border=\"1\" class=\"dataframe\">\n",
       "  <thead>\n",
       "    <tr style=\"text-align: right;\">\n",
       "      <th></th>\n",
       "      <th>Document</th>\n",
       "      <th>Topic</th>\n",
       "      <th>Name</th>\n",
       "      <th>Representation</th>\n",
       "      <th>KeyBERT</th>\n",
       "      <th>OpenAI</th>\n",
       "      <th>MMR</th>\n",
       "      <th>Representative_Docs</th>\n",
       "      <th>Top_n_words</th>\n",
       "      <th>Representative_document</th>\n",
       "    </tr>\n",
       "  </thead>\n",
       "  <tbody>\n",
       "    <tr>\n",
       "      <th>0</th>\n",
       "      <td>let playerRecentStats = [];\\n\\tfunction recent...</td>\n",
       "      <td>6</td>\n",
       "      <td>6_const_this_new_classname</td>\n",
       "      <td>[const, this, new, classname, var, the, string...</td>\n",
       "      <td>[react, usestate, quot const, const, button, p...</td>\n",
       "      <td>[Object-Oriented Programming Fundamentals]</td>\n",
       "      <td>[const, this, new, classname, var, the, string...</td>\n",
       "      <td>[class Intercom {\\n  /// private constructor t...</td>\n",
       "      <td>const - this - new - classname - var - the - s...</td>\n",
       "      <td>False</td>\n",
       "    </tr>\n",
       "    <tr>\n",
       "      <th>1</th>\n",
       "      <td>3.9</td>\n",
       "      <td>2</td>\n",
       "      <td>2_elemnt_elemnt elemnt_localhost_install</td>\n",
       "      <td>[elemnt, elemnt elemnt, localhost, install, lo...</td>\n",
       "      <td>[pip install, manage py, pip3, pip, modulenotf...</td>\n",
       "      <td>[Server Installation Errors Solution]</td>\n",
       "      <td>[elemnt, elemnt elemnt, localhost, install, lo...</td>\n",
       "      <td>[/etc/pki/ca-trust/extracted/pem/tls-ca-bundle...</td>\n",
       "      <td>elemnt - elemnt elemnt - localhost - install -...</td>\n",
       "      <td>False</td>\n",
       "    </tr>\n",
       "    <tr>\n",
       "      <th>2</th>\n",
       "      <td>myCollection2</td>\n",
       "      <td>9</td>\n",
       "      <td>9_npm run_install_npm_git</td>\n",
       "      <td>[npm run, install, npm, git, docker compose, c...</td>\n",
       "      <td>[docker compose, docker, compose up, docker pu...</td>\n",
       "      <td>[Dockerized npm Installation with Git]</td>\n",
       "      <td>[npm run, install, npm, git, docker compose, c...</td>\n",
       "      <td>[docker compose up, docker-compose up -d, dock...</td>\n",
       "      <td>npm run - install - npm - git - docker compose...</td>\n",
       "      <td>False</td>\n",
       "    </tr>\n",
       "    <tr>\n",
       "      <th>3</th>\n",
       "      <td>float</td>\n",
       "      <td>0</td>\n",
       "      <td>0_scrollbar_pod_dockerfile_spanid</td>\n",
       "      <td>[scrollbar, pod, dockerfile, spanid, your text...</td>\n",
       "      <td>[scrollbar, form page, page, user form, page u...</td>\n",
       "      <td>[Scrollbar Pod Dockerfile Spanid Webview]</td>\n",
       "      <td>[scrollbar, pod, dockerfile, spanid, your text...</td>\n",
       "      <td>[pod install, User Form Page, User Form Page]</td>\n",
       "      <td>scrollbar - pod - dockerfile - spanid - your t...</td>\n",
       "      <td>False</td>\n",
       "    </tr>\n",
       "    <tr>\n",
       "      <th>4</th>\n",
       "      <td>FOR i IN 1..998700000\\n  INSERT {\\n\\t\\ttitle: ...</td>\n",
       "      <td>7</td>\n",
       "      <td>7_self_np_na_1l</td>\n",
       "      <td>[self, np, na, 1l, df, end, c3, na na, dim, sl...</td>\n",
       "      <td>[numpy, numpy np, tf keras, keras, plot, data ...</td>\n",
       "      <td>[Self-representation in sleep analysis]</td>\n",
       "      <td>[self, np, na, 1l, df, end, c3, na na, dim, sl...</td>\n",
       "      <td>[import numpy as np\\nfrom keras.models import ...</td>\n",
       "      <td>self - np - na - 1l - df - end - c3 - na na - ...</td>\n",
       "      <td>False</td>\n",
       "    </tr>\n",
       "    <tr>\n",
       "      <th>...</th>\n",
       "      <td>...</td>\n",
       "      <td>...</td>\n",
       "      <td>...</td>\n",
       "      <td>...</td>\n",
       "      <td>...</td>\n",
       "      <td>...</td>\n",
       "      <td>...</td>\n",
       "      <td>...</td>\n",
       "      <td>...</td>\n",
       "      <td>...</td>\n",
       "    </tr>\n",
       "    <tr>\n",
       "      <th>41895</th>\n",
       "      <td>body {\\n  text-align: center;\\n  font-size: xx...</td>\n",
       "      <td>8</td>\n",
       "      <td>8_public_background_border_color</td>\n",
       "      <td>[public, background, border, color, margin, ba...</td>\n",
       "      <td>[margin top, background color, display flex, m...</td>\n",
       "      <td>[Styling Web Page Elements]</td>\n",
       "      <td>[public, background, border, color, margin, ba...</td>\n",
       "      <td>[* {\\n  margin: 0;\\n  box-sizing: border-box\\n...</td>\n",
       "      <td>public - background - border - color - margin ...</td>\n",
       "      <td>False</td>\n",
       "    </tr>\n",
       "    <tr>\n",
       "      <th>41896</th>\n",
       "      <td>var Bucharest = new Date(&amp;quot;April 26, 2023 ...</td>\n",
       "      <td>6</td>\n",
       "      <td>6_const_this_new_classname</td>\n",
       "      <td>[const, this, new, classname, var, the, string...</td>\n",
       "      <td>[react, usestate, quot const, const, button, p...</td>\n",
       "      <td>[Object-Oriented Programming Fundamentals]</td>\n",
       "      <td>[const, this, new, classname, var, the, string...</td>\n",
       "      <td>[class Intercom {\\n  /// private constructor t...</td>\n",
       "      <td>const - this - new - classname - var - the - s...</td>\n",
       "      <td>False</td>\n",
       "    </tr>\n",
       "    <tr>\n",
       "      <th>41897</th>\n",
       "      <td>gradeDelete = int(input(&amp;quot;Which grade do y...</td>\n",
       "      <td>4</td>\n",
       "      <td>4_000 000_000_cannot_x00</td>\n",
       "      <td>[000 000, 000, cannot, x00, found, to, the, of...</td>\n",
       "      <td>[typeerror cannot, typeerror, error, invalid, ...</td>\n",
       "      <td>[Unidentified Image Representation]</td>\n",
       "      <td>[000 000, 000, cannot, x00, found, to, the, of...</td>\n",
       "      <td>[ 'type' does not contain a definition for 'na...</td>\n",
       "      <td>000 000 - 000 - cannot - x00 - found - to - th...</td>\n",
       "      <td>False</td>\n",
       "    </tr>\n",
       "    <tr>\n",
       "      <th>41898</th>\n",
       "      <td>grades = {&amp;quot;english&amp;quot;:[90,95,81],\\n\\t ...</td>\n",
       "      <td>1</td>\n",
       "      <td>1_df_foo_select_amp</td>\n",
       "      <td>[df, foo, select, amp, name, where, gt gt, end...</td>\n",
       "      <td>[name, john, name quot, json, curl, group, dat...</td>\n",
       "      <td>[Data Selection and Filtering Tests]</td>\n",
       "      <td>[df, foo, select, amp, name, where, gt gt, end...</td>\n",
       "      <td>[curl --silent --show-error -L -X POST &amp;quot;h...</td>\n",
       "      <td>df - foo - select - amp - name - where - gt gt...</td>\n",
       "      <td>False</td>\n",
       "    </tr>\n",
       "    <tr>\n",
       "      <th>41899</th>\n",
       "      <td>grades['math'].append()\\ngrades.popitem()\\ngra...</td>\n",
       "      <td>16</td>\n",
       "      <td>16_minmax_df_useeffect useeffect_useeffect</td>\n",
       "      <td>[minmax, df, useeffect useeffect, useeffect, 5...</td>\n",
       "      <td>[replace regex, df name, df, name df, to_datet...</td>\n",
       "      <td>[Text Processing and Analysis]</td>\n",
       "      <td>[minmax, df, useeffect useeffect, useeffect, 5...</td>\n",
       "      <td>[for regex, replacement in regex_replace.items...</td>\n",
       "      <td>minmax - df - useeffect useeffect - useeffect ...</td>\n",
       "      <td>False</td>\n",
       "    </tr>\n",
       "  </tbody>\n",
       "</table>\n",
       "<p>41900 rows × 10 columns</p>\n",
       "</div>"
      ],
      "text/plain": [
       "                                                Document  Topic  \\\n",
       "0      let playerRecentStats = [];\\n\\tfunction recent...      6   \n",
       "1                                                    3.9      2   \n",
       "2                                          myCollection2      9   \n",
       "3                                                  float      0   \n",
       "4      FOR i IN 1..998700000\\n  INSERT {\\n\\t\\ttitle: ...      7   \n",
       "...                                                  ...    ...   \n",
       "41895  body {\\n  text-align: center;\\n  font-size: xx...      8   \n",
       "41896  var Bucharest = new Date(&quot;April 26, 2023 ...      6   \n",
       "41897  gradeDelete = int(input(&quot;Which grade do y...      4   \n",
       "41898  grades = {&quot;english&quot;:[90,95,81],\\n\\t ...      1   \n",
       "41899  grades['math'].append()\\ngrades.popitem()\\ngra...     16   \n",
       "\n",
       "                                             Name  \\\n",
       "0                      6_const_this_new_classname   \n",
       "1        2_elemnt_elemnt elemnt_localhost_install   \n",
       "2                       9_npm run_install_npm_git   \n",
       "3               0_scrollbar_pod_dockerfile_spanid   \n",
       "4                                 7_self_np_na_1l   \n",
       "...                                           ...   \n",
       "41895            8_public_background_border_color   \n",
       "41896                  6_const_this_new_classname   \n",
       "41897                    4_000 000_000_cannot_x00   \n",
       "41898                         1_df_foo_select_amp   \n",
       "41899  16_minmax_df_useeffect useeffect_useeffect   \n",
       "\n",
       "                                          Representation  \\\n",
       "0      [const, this, new, classname, var, the, string...   \n",
       "1      [elemnt, elemnt elemnt, localhost, install, lo...   \n",
       "2      [npm run, install, npm, git, docker compose, c...   \n",
       "3      [scrollbar, pod, dockerfile, spanid, your text...   \n",
       "4      [self, np, na, 1l, df, end, c3, na na, dim, sl...   \n",
       "...                                                  ...   \n",
       "41895  [public, background, border, color, margin, ba...   \n",
       "41896  [const, this, new, classname, var, the, string...   \n",
       "41897  [000 000, 000, cannot, x00, found, to, the, of...   \n",
       "41898  [df, foo, select, amp, name, where, gt gt, end...   \n",
       "41899  [minmax, df, useeffect useeffect, useeffect, 5...   \n",
       "\n",
       "                                                 KeyBERT  \\\n",
       "0      [react, usestate, quot const, const, button, p...   \n",
       "1      [pip install, manage py, pip3, pip, modulenotf...   \n",
       "2      [docker compose, docker, compose up, docker pu...   \n",
       "3      [scrollbar, form page, page, user form, page u...   \n",
       "4      [numpy, numpy np, tf keras, keras, plot, data ...   \n",
       "...                                                  ...   \n",
       "41895  [margin top, background color, display flex, m...   \n",
       "41896  [react, usestate, quot const, const, button, p...   \n",
       "41897  [typeerror cannot, typeerror, error, invalid, ...   \n",
       "41898  [name, john, name quot, json, curl, group, dat...   \n",
       "41899  [replace regex, df name, df, name df, to_datet...   \n",
       "\n",
       "                                           OpenAI  \\\n",
       "0      [Object-Oriented Programming Fundamentals]   \n",
       "1           [Server Installation Errors Solution]   \n",
       "2          [Dockerized npm Installation with Git]   \n",
       "3       [Scrollbar Pod Dockerfile Spanid Webview]   \n",
       "4         [Self-representation in sleep analysis]   \n",
       "...                                           ...   \n",
       "41895                 [Styling Web Page Elements]   \n",
       "41896  [Object-Oriented Programming Fundamentals]   \n",
       "41897         [Unidentified Image Representation]   \n",
       "41898        [Data Selection and Filtering Tests]   \n",
       "41899              [Text Processing and Analysis]   \n",
       "\n",
       "                                                     MMR  \\\n",
       "0      [const, this, new, classname, var, the, string...   \n",
       "1      [elemnt, elemnt elemnt, localhost, install, lo...   \n",
       "2      [npm run, install, npm, git, docker compose, c...   \n",
       "3      [scrollbar, pod, dockerfile, spanid, your text...   \n",
       "4      [self, np, na, 1l, df, end, c3, na na, dim, sl...   \n",
       "...                                                  ...   \n",
       "41895  [public, background, border, color, margin, ba...   \n",
       "41896  [const, this, new, classname, var, the, string...   \n",
       "41897  [000 000, 000, cannot, x00, found, to, the, of...   \n",
       "41898  [df, foo, select, amp, name, where, gt gt, end...   \n",
       "41899  [minmax, df, useeffect useeffect, useeffect, 5...   \n",
       "\n",
       "                                     Representative_Docs  \\\n",
       "0      [class Intercom {\\n  /// private constructor t...   \n",
       "1      [/etc/pki/ca-trust/extracted/pem/tls-ca-bundle...   \n",
       "2      [docker compose up, docker-compose up -d, dock...   \n",
       "3          [pod install, User Form Page, User Form Page]   \n",
       "4      [import numpy as np\\nfrom keras.models import ...   \n",
       "...                                                  ...   \n",
       "41895  [* {\\n  margin: 0;\\n  box-sizing: border-box\\n...   \n",
       "41896  [class Intercom {\\n  /// private constructor t...   \n",
       "41897  [ 'type' does not contain a definition for 'na...   \n",
       "41898  [curl --silent --show-error -L -X POST &quot;h...   \n",
       "41899  [for regex, replacement in regex_replace.items...   \n",
       "\n",
       "                                             Top_n_words  \\\n",
       "0      const - this - new - classname - var - the - s...   \n",
       "1      elemnt - elemnt elemnt - localhost - install -...   \n",
       "2      npm run - install - npm - git - docker compose...   \n",
       "3      scrollbar - pod - dockerfile - spanid - your t...   \n",
       "4      self - np - na - 1l - df - end - c3 - na na - ...   \n",
       "...                                                  ...   \n",
       "41895  public - background - border - color - margin ...   \n",
       "41896  const - this - new - classname - var - the - s...   \n",
       "41897  000 000 - 000 - cannot - x00 - found - to - th...   \n",
       "41898  df - foo - select - amp - name - where - gt gt...   \n",
       "41899  minmax - df - useeffect useeffect - useeffect ...   \n",
       "\n",
       "       Representative_document  \n",
       "0                        False  \n",
       "1                        False  \n",
       "2                        False  \n",
       "3                        False  \n",
       "4                        False  \n",
       "...                        ...  \n",
       "41895                    False  \n",
       "41896                    False  \n",
       "41897                    False  \n",
       "41898                    False  \n",
       "41899                    False  \n",
       "\n",
       "[41900 rows x 10 columns]"
      ]
     },
     "execution_count": 137,
     "metadata": {},
     "output_type": "execute_result"
    }
   ],
   "source": [
    "topa_df"
   ]
  },
  {
   "cell_type": "code",
   "execution_count": 138,
   "metadata": {},
   "outputs": [
    {
     "data": {
      "text/html": [
       "<div>\n",
       "<style scoped>\n",
       "    .dataframe tbody tr th:only-of-type {\n",
       "        vertical-align: middle;\n",
       "    }\n",
       "\n",
       "    .dataframe tbody tr th {\n",
       "        vertical-align: top;\n",
       "    }\n",
       "\n",
       "    .dataframe thead th {\n",
       "        text-align: right;\n",
       "    }\n",
       "</style>\n",
       "<table border=\"1\" class=\"dataframe\">\n",
       "  <thead>\n",
       "    <tr style=\"text-align: right;\">\n",
       "      <th></th>\n",
       "      <th>q_id</th>\n",
       "      <th>q_prep_text</th>\n",
       "      <th>q_prep_text_non</th>\n",
       "    </tr>\n",
       "  </thead>\n",
       "  <tbody>\n",
       "    <tr>\n",
       "      <th>13273</th>\n",
       "      <td>77394187</td>\n",
       "      <td>Scrollbar</td>\n",
       "      <td>Scrollbar</td>\n",
       "    </tr>\n",
       "    <tr>\n",
       "      <th>13273</th>\n",
       "      <td>77394187</td>\n",
       "      <td>ListBox</td>\n",
       "      <td>ListBox</td>\n",
       "    </tr>\n",
       "    <tr>\n",
       "      <th>13273</th>\n",
       "      <td>77394187</td>\n",
       "      <td>ListBox</td>\n",
       "      <td>ListBox</td>\n",
       "    </tr>\n",
       "    <tr>\n",
       "      <th>13273</th>\n",
       "      <td>77394187</td>\n",
       "      <td>Scrollbar</td>\n",
       "      <td>Scrollbar</td>\n",
       "    </tr>\n",
       "    <tr>\n",
       "      <th>13273</th>\n",
       "      <td>77394187</td>\n",
       "      <td>Scrollbar</td>\n",
       "      <td>Scrollbar</td>\n",
       "    </tr>\n",
       "    <tr>\n",
       "      <th>13273</th>\n",
       "      <td>77394187</td>\n",
       "      <td>ListBox</td>\n",
       "      <td>ListBox</td>\n",
       "    </tr>\n",
       "    <tr>\n",
       "      <th>13273</th>\n",
       "      <td>77394187</td>\n",
       "      <td>Scrollbar</td>\n",
       "      <td>Scrollbar</td>\n",
       "    </tr>\n",
       "    <tr>\n",
       "      <th>13273</th>\n",
       "      <td>77394187</td>\n",
       "      <td>ListBox</td>\n",
       "      <td>ListBox</td>\n",
       "    </tr>\n",
       "    <tr>\n",
       "      <th>13273</th>\n",
       "      <td>77394187</td>\n",
       "      <td>import tkinter as tk\\n\\ndef main():\\n    mainW...</td>\n",
       "      <td>import tkinter as tk\\ndef main():\\n\\tmainWindo...</td>\n",
       "    </tr>\n",
       "    <tr>\n",
       "      <th>13273</th>\n",
       "      <td>77394187</td>\n",
       "      <td>Scrollbar</td>\n",
       "      <td>Scrollbar</td>\n",
       "    </tr>\n",
       "    <tr>\n",
       "      <th>13273</th>\n",
       "      <td>77394187</td>\n",
       "      <td>pack</td>\n",
       "      <td>pack</td>\n",
       "    </tr>\n",
       "    <tr>\n",
       "      <th>13273</th>\n",
       "      <td>77394187</td>\n",
       "      <td>Scrollbar</td>\n",
       "      <td>Scrollbar</td>\n",
       "    </tr>\n",
       "    <tr>\n",
       "      <th>13273</th>\n",
       "      <td>77394187</td>\n",
       "      <td>place</td>\n",
       "      <td>place</td>\n",
       "    </tr>\n",
       "    <tr>\n",
       "      <th>13273</th>\n",
       "      <td>77394187</td>\n",
       "      <td>Scrollbar</td>\n",
       "      <td>Scrollbar</td>\n",
       "    </tr>\n",
       "    <tr>\n",
       "      <th>13273</th>\n",
       "      <td>77394187</td>\n",
       "      <td>listBox</td>\n",
       "      <td>listBox</td>\n",
       "    </tr>\n",
       "    <tr>\n",
       "      <th>13273</th>\n",
       "      <td>77394187</td>\n",
       "      <td>ScrollBar</td>\n",
       "      <td>ScrollBar</td>\n",
       "    </tr>\n",
       "    <tr>\n",
       "      <th>13273</th>\n",
       "      <td>77394187</td>\n",
       "      <td>mainWindow</td>\n",
       "      <td>mainWindow</td>\n",
       "    </tr>\n",
       "    <tr>\n",
       "      <th>13273</th>\n",
       "      <td>77394187</td>\n",
       "      <td>ScrollBar</td>\n",
       "      <td>ScrollBar</td>\n",
       "    </tr>\n",
       "    <tr>\n",
       "      <th>13273</th>\n",
       "      <td>77394187</td>\n",
       "      <td>ListBox</td>\n",
       "      <td>ListBox</td>\n",
       "    </tr>\n",
       "    <tr>\n",
       "      <th>13273</th>\n",
       "      <td>77394187</td>\n",
       "      <td>ScrollBar</td>\n",
       "      <td>ScrollBar</td>\n",
       "    </tr>\n",
       "    <tr>\n",
       "      <th>13273</th>\n",
       "      <td>77394187</td>\n",
       "      <td>ListBox</td>\n",
       "      <td>ListBox</td>\n",
       "    </tr>\n",
       "    <tr>\n",
       "      <th>13273</th>\n",
       "      <td>77394187</td>\n",
       "      <td>yscrollcommand</td>\n",
       "      <td>yscrollcommand</td>\n",
       "    </tr>\n",
       "    <tr>\n",
       "      <th>13273</th>\n",
       "      <td>77394187</td>\n",
       "      <td>yscrollcommand</td>\n",
       "      <td>yscrollcommand</td>\n",
       "    </tr>\n",
       "    <tr>\n",
       "      <th>13273</th>\n",
       "      <td>77394187</td>\n",
       "      <td>ListBox</td>\n",
       "      <td>ListBox</td>\n",
       "    </tr>\n",
       "    <tr>\n",
       "      <th>13273</th>\n",
       "      <td>77394187</td>\n",
       "      <td>Scrollbar</td>\n",
       "      <td>Scrollbar</td>\n",
       "    </tr>\n",
       "    <tr>\n",
       "      <th>13273</th>\n",
       "      <td>77394187</td>\n",
       "      <td>ListBox</td>\n",
       "      <td>ListBox</td>\n",
       "    </tr>\n",
       "    <tr>\n",
       "      <th>13298</th>\n",
       "      <td>77394187</td>\n",
       "      <td>Scrollbar</td>\n",
       "      <td>Scrollbar</td>\n",
       "    </tr>\n",
       "    <tr>\n",
       "      <th>13298</th>\n",
       "      <td>77394187</td>\n",
       "      <td>ListBox</td>\n",
       "      <td>ListBox</td>\n",
       "    </tr>\n",
       "    <tr>\n",
       "      <th>13298</th>\n",
       "      <td>77394187</td>\n",
       "      <td>ListBox</td>\n",
       "      <td>ListBox</td>\n",
       "    </tr>\n",
       "    <tr>\n",
       "      <th>13298</th>\n",
       "      <td>77394187</td>\n",
       "      <td>Scrollbar</td>\n",
       "      <td>Scrollbar</td>\n",
       "    </tr>\n",
       "    <tr>\n",
       "      <th>13298</th>\n",
       "      <td>77394187</td>\n",
       "      <td>Scrollbar</td>\n",
       "      <td>Scrollbar</td>\n",
       "    </tr>\n",
       "    <tr>\n",
       "      <th>13298</th>\n",
       "      <td>77394187</td>\n",
       "      <td>ListBox</td>\n",
       "      <td>ListBox</td>\n",
       "    </tr>\n",
       "    <tr>\n",
       "      <th>13298</th>\n",
       "      <td>77394187</td>\n",
       "      <td>Scrollbar</td>\n",
       "      <td>Scrollbar</td>\n",
       "    </tr>\n",
       "    <tr>\n",
       "      <th>13298</th>\n",
       "      <td>77394187</td>\n",
       "      <td>ListBox</td>\n",
       "      <td>ListBox</td>\n",
       "    </tr>\n",
       "    <tr>\n",
       "      <th>13298</th>\n",
       "      <td>77394187</td>\n",
       "      <td>import tkinter as tk\\n\\ndef main():\\n    mainW...</td>\n",
       "      <td>import tkinter as tk\\ndef main():\\n\\tmainWindo...</td>\n",
       "    </tr>\n",
       "    <tr>\n",
       "      <th>13298</th>\n",
       "      <td>77394187</td>\n",
       "      <td>Scrollbar</td>\n",
       "      <td>Scrollbar</td>\n",
       "    </tr>\n",
       "    <tr>\n",
       "      <th>13298</th>\n",
       "      <td>77394187</td>\n",
       "      <td>pack</td>\n",
       "      <td>pack</td>\n",
       "    </tr>\n",
       "    <tr>\n",
       "      <th>13298</th>\n",
       "      <td>77394187</td>\n",
       "      <td>Scrollbar</td>\n",
       "      <td>Scrollbar</td>\n",
       "    </tr>\n",
       "    <tr>\n",
       "      <th>13298</th>\n",
       "      <td>77394187</td>\n",
       "      <td>place</td>\n",
       "      <td>place</td>\n",
       "    </tr>\n",
       "    <tr>\n",
       "      <th>13298</th>\n",
       "      <td>77394187</td>\n",
       "      <td>Scrollbar</td>\n",
       "      <td>Scrollbar</td>\n",
       "    </tr>\n",
       "    <tr>\n",
       "      <th>13298</th>\n",
       "      <td>77394187</td>\n",
       "      <td>listBox</td>\n",
       "      <td>listBox</td>\n",
       "    </tr>\n",
       "    <tr>\n",
       "      <th>13298</th>\n",
       "      <td>77394187</td>\n",
       "      <td>ScrollBar</td>\n",
       "      <td>ScrollBar</td>\n",
       "    </tr>\n",
       "    <tr>\n",
       "      <th>13298</th>\n",
       "      <td>77394187</td>\n",
       "      <td>mainWindow</td>\n",
       "      <td>mainWindow</td>\n",
       "    </tr>\n",
       "    <tr>\n",
       "      <th>13298</th>\n",
       "      <td>77394187</td>\n",
       "      <td>ScrollBar</td>\n",
       "      <td>ScrollBar</td>\n",
       "    </tr>\n",
       "    <tr>\n",
       "      <th>13298</th>\n",
       "      <td>77394187</td>\n",
       "      <td>ListBox</td>\n",
       "      <td>ListBox</td>\n",
       "    </tr>\n",
       "    <tr>\n",
       "      <th>13298</th>\n",
       "      <td>77394187</td>\n",
       "      <td>ScrollBar</td>\n",
       "      <td>ScrollBar</td>\n",
       "    </tr>\n",
       "    <tr>\n",
       "      <th>13298</th>\n",
       "      <td>77394187</td>\n",
       "      <td>ListBox</td>\n",
       "      <td>ListBox</td>\n",
       "    </tr>\n",
       "    <tr>\n",
       "      <th>13298</th>\n",
       "      <td>77394187</td>\n",
       "      <td>yscrollcommand</td>\n",
       "      <td>yscrollcommand</td>\n",
       "    </tr>\n",
       "    <tr>\n",
       "      <th>13298</th>\n",
       "      <td>77394187</td>\n",
       "      <td>yscrollcommand</td>\n",
       "      <td>yscrollcommand</td>\n",
       "    </tr>\n",
       "    <tr>\n",
       "      <th>13298</th>\n",
       "      <td>77394187</td>\n",
       "      <td>ListBox</td>\n",
       "      <td>ListBox</td>\n",
       "    </tr>\n",
       "    <tr>\n",
       "      <th>13298</th>\n",
       "      <td>77394187</td>\n",
       "      <td>Scrollbar</td>\n",
       "      <td>Scrollbar</td>\n",
       "    </tr>\n",
       "    <tr>\n",
       "      <th>13298</th>\n",
       "      <td>77394187</td>\n",
       "      <td>ListBox</td>\n",
       "      <td>ListBox</td>\n",
       "    </tr>\n",
       "  </tbody>\n",
       "</table>\n",
       "</div>"
      ],
      "text/plain": [
       "           q_id                                        q_prep_text  \\\n",
       "13273  77394187                                          Scrollbar   \n",
       "13273  77394187                                            ListBox   \n",
       "13273  77394187                                            ListBox   \n",
       "13273  77394187                                          Scrollbar   \n",
       "13273  77394187                                          Scrollbar   \n",
       "13273  77394187                                            ListBox   \n",
       "13273  77394187                                          Scrollbar   \n",
       "13273  77394187                                            ListBox   \n",
       "13273  77394187  import tkinter as tk\\n\\ndef main():\\n    mainW...   \n",
       "13273  77394187                                          Scrollbar   \n",
       "13273  77394187                                               pack   \n",
       "13273  77394187                                          Scrollbar   \n",
       "13273  77394187                                              place   \n",
       "13273  77394187                                          Scrollbar   \n",
       "13273  77394187                                            listBox   \n",
       "13273  77394187                                          ScrollBar   \n",
       "13273  77394187                                         mainWindow   \n",
       "13273  77394187                                          ScrollBar   \n",
       "13273  77394187                                            ListBox   \n",
       "13273  77394187                                          ScrollBar   \n",
       "13273  77394187                                            ListBox   \n",
       "13273  77394187                                     yscrollcommand   \n",
       "13273  77394187                                     yscrollcommand   \n",
       "13273  77394187                                            ListBox   \n",
       "13273  77394187                                          Scrollbar   \n",
       "13273  77394187                                            ListBox   \n",
       "13298  77394187                                          Scrollbar   \n",
       "13298  77394187                                            ListBox   \n",
       "13298  77394187                                            ListBox   \n",
       "13298  77394187                                          Scrollbar   \n",
       "13298  77394187                                          Scrollbar   \n",
       "13298  77394187                                            ListBox   \n",
       "13298  77394187                                          Scrollbar   \n",
       "13298  77394187                                            ListBox   \n",
       "13298  77394187  import tkinter as tk\\n\\ndef main():\\n    mainW...   \n",
       "13298  77394187                                          Scrollbar   \n",
       "13298  77394187                                               pack   \n",
       "13298  77394187                                          Scrollbar   \n",
       "13298  77394187                                              place   \n",
       "13298  77394187                                          Scrollbar   \n",
       "13298  77394187                                            listBox   \n",
       "13298  77394187                                          ScrollBar   \n",
       "13298  77394187                                         mainWindow   \n",
       "13298  77394187                                          ScrollBar   \n",
       "13298  77394187                                            ListBox   \n",
       "13298  77394187                                          ScrollBar   \n",
       "13298  77394187                                            ListBox   \n",
       "13298  77394187                                     yscrollcommand   \n",
       "13298  77394187                                     yscrollcommand   \n",
       "13298  77394187                                            ListBox   \n",
       "13298  77394187                                          Scrollbar   \n",
       "13298  77394187                                            ListBox   \n",
       "\n",
       "                                         q_prep_text_non  \n",
       "13273                                          Scrollbar  \n",
       "13273                                            ListBox  \n",
       "13273                                            ListBox  \n",
       "13273                                          Scrollbar  \n",
       "13273                                          Scrollbar  \n",
       "13273                                            ListBox  \n",
       "13273                                          Scrollbar  \n",
       "13273                                            ListBox  \n",
       "13273  import tkinter as tk\\ndef main():\\n\\tmainWindo...  \n",
       "13273                                          Scrollbar  \n",
       "13273                                               pack  \n",
       "13273                                          Scrollbar  \n",
       "13273                                              place  \n",
       "13273                                          Scrollbar  \n",
       "13273                                            listBox  \n",
       "13273                                          ScrollBar  \n",
       "13273                                         mainWindow  \n",
       "13273                                          ScrollBar  \n",
       "13273                                            ListBox  \n",
       "13273                                          ScrollBar  \n",
       "13273                                            ListBox  \n",
       "13273                                     yscrollcommand  \n",
       "13273                                     yscrollcommand  \n",
       "13273                                            ListBox  \n",
       "13273                                          Scrollbar  \n",
       "13273                                            ListBox  \n",
       "13298                                          Scrollbar  \n",
       "13298                                            ListBox  \n",
       "13298                                            ListBox  \n",
       "13298                                          Scrollbar  \n",
       "13298                                          Scrollbar  \n",
       "13298                                            ListBox  \n",
       "13298                                          Scrollbar  \n",
       "13298                                            ListBox  \n",
       "13298  import tkinter as tk\\ndef main():\\n\\tmainWindo...  \n",
       "13298                                          Scrollbar  \n",
       "13298                                               pack  \n",
       "13298                                          Scrollbar  \n",
       "13298                                              place  \n",
       "13298                                          Scrollbar  \n",
       "13298                                            listBox  \n",
       "13298                                          ScrollBar  \n",
       "13298                                         mainWindow  \n",
       "13298                                          ScrollBar  \n",
       "13298                                            ListBox  \n",
       "13298                                          ScrollBar  \n",
       "13298                                            ListBox  \n",
       "13298                                     yscrollcommand  \n",
       "13298                                     yscrollcommand  \n",
       "13298                                            ListBox  \n",
       "13298                                          Scrollbar  \n",
       "13298                                            ListBox  "
      ]
     },
     "execution_count": 138,
     "metadata": {},
     "output_type": "execute_result"
    }
   ],
   "source": [
    "sample_src_df[sample_src_df['q_id'] ==77394187]"
   ]
  },
  {
   "cell_type": "code",
   "execution_count": 139,
   "metadata": {},
   "outputs": [],
   "source": [
    "topa_org_df = sample_src_df.copy()\n",
    "topa_org_df.reset_index(drop=True, inplace=True)\n",
    "topa_df.reset_index(drop=True, inplace=True)"
   ]
  },
  {
   "cell_type": "code",
   "execution_count": 140,
   "metadata": {},
   "outputs": [],
   "source": [
    "tot_topa_df = pd.concat([topa_org_df, topa_df], axis = 1)"
   ]
  },
  {
   "cell_type": "code",
   "execution_count": 141,
   "metadata": {},
   "outputs": [
    {
     "data": {
      "text/html": [
       "<div>\n",
       "<style scoped>\n",
       "    .dataframe tbody tr th:only-of-type {\n",
       "        vertical-align: middle;\n",
       "    }\n",
       "\n",
       "    .dataframe tbody tr th {\n",
       "        vertical-align: top;\n",
       "    }\n",
       "\n",
       "    .dataframe thead th {\n",
       "        text-align: right;\n",
       "    }\n",
       "</style>\n",
       "<table border=\"1\" class=\"dataframe\">\n",
       "  <thead>\n",
       "    <tr style=\"text-align: right;\">\n",
       "      <th></th>\n",
       "      <th>q_id</th>\n",
       "      <th>q_prep_text</th>\n",
       "      <th>q_prep_text_non</th>\n",
       "      <th>Document</th>\n",
       "      <th>Topic</th>\n",
       "      <th>Name</th>\n",
       "      <th>Representation</th>\n",
       "      <th>KeyBERT</th>\n",
       "      <th>OpenAI</th>\n",
       "      <th>MMR</th>\n",
       "      <th>Representative_Docs</th>\n",
       "      <th>Top_n_words</th>\n",
       "      <th>Representative_document</th>\n",
       "    </tr>\n",
       "  </thead>\n",
       "  <tbody>\n",
       "    <tr>\n",
       "      <th>0</th>\n",
       "      <td>72071464</td>\n",
       "      <td>let playerRecentStats = [];\\n    function rece...</td>\n",
       "      <td>let playerRecentStats = [];\\n\\tfunction recent...</td>\n",
       "      <td>let playerRecentStats = [];\\n\\tfunction recent...</td>\n",
       "      <td>6</td>\n",
       "      <td>6_const_this_new_classname</td>\n",
       "      <td>[const, this, new, classname, var, the, string...</td>\n",
       "      <td>[react, usestate, quot const, const, button, p...</td>\n",
       "      <td>[Object-Oriented Programming Fundamentals]</td>\n",
       "      <td>[const, this, new, classname, var, the, string...</td>\n",
       "      <td>[class Intercom {\\n  /// private constructor t...</td>\n",
       "      <td>const - this - new - classname - var - the - s...</td>\n",
       "      <td>False</td>\n",
       "    </tr>\n",
       "    <tr>\n",
       "      <th>1</th>\n",
       "      <td>72065084</td>\n",
       "      <td>3.9</td>\n",
       "      <td>3.9</td>\n",
       "      <td>3.9</td>\n",
       "      <td>2</td>\n",
       "      <td>2_elemnt_elemnt elemnt_localhost_install</td>\n",
       "      <td>[elemnt, elemnt elemnt, localhost, install, lo...</td>\n",
       "      <td>[pip install, manage py, pip3, pip, modulenotf...</td>\n",
       "      <td>[Server Installation Errors Solution]</td>\n",
       "      <td>[elemnt, elemnt elemnt, localhost, install, lo...</td>\n",
       "      <td>[/etc/pki/ca-trust/extracted/pem/tls-ca-bundle...</td>\n",
       "      <td>elemnt - elemnt elemnt - localhost - install -...</td>\n",
       "      <td>False</td>\n",
       "    </tr>\n",
       "    <tr>\n",
       "      <th>2</th>\n",
       "      <td>72065084</td>\n",
       "      <td>myCollection2</td>\n",
       "      <td>myCollection2</td>\n",
       "      <td>myCollection2</td>\n",
       "      <td>9</td>\n",
       "      <td>9_npm run_install_npm_git</td>\n",
       "      <td>[npm run, install, npm, git, docker compose, c...</td>\n",
       "      <td>[docker compose, docker, compose up, docker pu...</td>\n",
       "      <td>[Dockerized npm Installation with Git]</td>\n",
       "      <td>[npm run, install, npm, git, docker compose, c...</td>\n",
       "      <td>[docker compose up, docker-compose up -d, dock...</td>\n",
       "      <td>npm run - install - npm - git - docker compose...</td>\n",
       "      <td>False</td>\n",
       "    </tr>\n",
       "    <tr>\n",
       "      <th>3</th>\n",
       "      <td>72065084</td>\n",
       "      <td>float</td>\n",
       "      <td>float</td>\n",
       "      <td>float</td>\n",
       "      <td>0</td>\n",
       "      <td>0_scrollbar_pod_dockerfile_spanid</td>\n",
       "      <td>[scrollbar, pod, dockerfile, spanid, your text...</td>\n",
       "      <td>[scrollbar, form page, page, user form, page u...</td>\n",
       "      <td>[Scrollbar Pod Dockerfile Spanid Webview]</td>\n",
       "      <td>[scrollbar, pod, dockerfile, spanid, your text...</td>\n",
       "      <td>[pod install, User Form Page, User Form Page]</td>\n",
       "      <td>scrollbar - pod - dockerfile - spanid - your t...</td>\n",
       "      <td>False</td>\n",
       "    </tr>\n",
       "    <tr>\n",
       "      <th>4</th>\n",
       "      <td>72065084</td>\n",
       "      <td>FOR i IN 1..998700000\\n  INSERT {\\n        tit...</td>\n",
       "      <td>FOR i IN 1..998700000\\n  INSERT {\\n\\t\\ttitle: ...</td>\n",
       "      <td>FOR i IN 1..998700000\\n  INSERT {\\n\\t\\ttitle: ...</td>\n",
       "      <td>7</td>\n",
       "      <td>7_self_np_na_1l</td>\n",
       "      <td>[self, np, na, 1l, df, end, c3, na na, dim, sl...</td>\n",
       "      <td>[numpy, numpy np, tf keras, keras, plot, data ...</td>\n",
       "      <td>[Self-representation in sleep analysis]</td>\n",
       "      <td>[self, np, na, 1l, df, end, c3, na na, dim, sl...</td>\n",
       "      <td>[import numpy as np\\nfrom keras.models import ...</td>\n",
       "      <td>self - np - na - 1l - df - end - c3 - na na - ...</td>\n",
       "      <td>False</td>\n",
       "    </tr>\n",
       "    <tr>\n",
       "      <th>...</th>\n",
       "      <td>...</td>\n",
       "      <td>...</td>\n",
       "      <td>...</td>\n",
       "      <td>...</td>\n",
       "      <td>...</td>\n",
       "      <td>...</td>\n",
       "      <td>...</td>\n",
       "      <td>...</td>\n",
       "      <td>...</td>\n",
       "      <td>...</td>\n",
       "      <td>...</td>\n",
       "      <td>...</td>\n",
       "      <td>...</td>\n",
       "    </tr>\n",
       "    <tr>\n",
       "      <th>41895</th>\n",
       "      <td>76142192</td>\n",
       "      <td>body {\\n  text-align: center;\\n  font-size: xx...</td>\n",
       "      <td>body {\\n  text-align: center;\\n  font-size: xx...</td>\n",
       "      <td>body {\\n  text-align: center;\\n  font-size: xx...</td>\n",
       "      <td>8</td>\n",
       "      <td>8_public_background_border_color</td>\n",
       "      <td>[public, background, border, color, margin, ba...</td>\n",
       "      <td>[margin top, background color, display flex, m...</td>\n",
       "      <td>[Styling Web Page Elements]</td>\n",
       "      <td>[public, background, border, color, margin, ba...</td>\n",
       "      <td>[* {\\n  margin: 0;\\n  box-sizing: border-box\\n...</td>\n",
       "      <td>public - background - border - color - margin ...</td>\n",
       "      <td>False</td>\n",
       "    </tr>\n",
       "    <tr>\n",
       "      <th>41896</th>\n",
       "      <td>76142192</td>\n",
       "      <td>var Bucharest = new Date(&amp;quot;April 26, 2023 ...</td>\n",
       "      <td>var Bucharest = new Date(&amp;quot;April 26, 2023 ...</td>\n",
       "      <td>var Bucharest = new Date(&amp;quot;April 26, 2023 ...</td>\n",
       "      <td>6</td>\n",
       "      <td>6_const_this_new_classname</td>\n",
       "      <td>[const, this, new, classname, var, the, string...</td>\n",
       "      <td>[react, usestate, quot const, const, button, p...</td>\n",
       "      <td>[Object-Oriented Programming Fundamentals]</td>\n",
       "      <td>[const, this, new, classname, var, the, string...</td>\n",
       "      <td>[class Intercom {\\n  /// private constructor t...</td>\n",
       "      <td>const - this - new - classname - var - the - s...</td>\n",
       "      <td>False</td>\n",
       "    </tr>\n",
       "    <tr>\n",
       "      <th>41897</th>\n",
       "      <td>76139757</td>\n",
       "      <td>gradeDelete = int(input(&amp;quot;Which grade do y...</td>\n",
       "      <td>gradeDelete = int(input(&amp;quot;Which grade do y...</td>\n",
       "      <td>gradeDelete = int(input(&amp;quot;Which grade do y...</td>\n",
       "      <td>4</td>\n",
       "      <td>4_000 000_000_cannot_x00</td>\n",
       "      <td>[000 000, 000, cannot, x00, found, to, the, of...</td>\n",
       "      <td>[typeerror cannot, typeerror, error, invalid, ...</td>\n",
       "      <td>[Unidentified Image Representation]</td>\n",
       "      <td>[000 000, 000, cannot, x00, found, to, the, of...</td>\n",
       "      <td>[ 'type' does not contain a definition for 'na...</td>\n",
       "      <td>000 000 - 000 - cannot - x00 - found - to - th...</td>\n",
       "      <td>False</td>\n",
       "    </tr>\n",
       "    <tr>\n",
       "      <th>41898</th>\n",
       "      <td>76139757</td>\n",
       "      <td>grades = {&amp;quot;english&amp;quot;:[90,95,81],\\n   ...</td>\n",
       "      <td>grades = {&amp;quot;english&amp;quot;:[90,95,81],\\n\\t ...</td>\n",
       "      <td>grades = {&amp;quot;english&amp;quot;:[90,95,81],\\n\\t ...</td>\n",
       "      <td>1</td>\n",
       "      <td>1_df_foo_select_amp</td>\n",
       "      <td>[df, foo, select, amp, name, where, gt gt, end...</td>\n",
       "      <td>[name, john, name quot, json, curl, group, dat...</td>\n",
       "      <td>[Data Selection and Filtering Tests]</td>\n",
       "      <td>[df, foo, select, amp, name, where, gt gt, end...</td>\n",
       "      <td>[curl --silent --show-error -L -X POST &amp;quot;h...</td>\n",
       "      <td>df - foo - select - amp - name - where - gt gt...</td>\n",
       "      <td>False</td>\n",
       "    </tr>\n",
       "    <tr>\n",
       "      <th>41899</th>\n",
       "      <td>76139757</td>\n",
       "      <td>grades['math'].append()\\ngrades.popitem()\\ngra...</td>\n",
       "      <td>grades['math'].append()\\ngrades.popitem()\\ngra...</td>\n",
       "      <td>grades['math'].append()\\ngrades.popitem()\\ngra...</td>\n",
       "      <td>16</td>\n",
       "      <td>16_minmax_df_useeffect useeffect_useeffect</td>\n",
       "      <td>[minmax, df, useeffect useeffect, useeffect, 5...</td>\n",
       "      <td>[replace regex, df name, df, name df, to_datet...</td>\n",
       "      <td>[Text Processing and Analysis]</td>\n",
       "      <td>[minmax, df, useeffect useeffect, useeffect, 5...</td>\n",
       "      <td>[for regex, replacement in regex_replace.items...</td>\n",
       "      <td>minmax - df - useeffect useeffect - useeffect ...</td>\n",
       "      <td>False</td>\n",
       "    </tr>\n",
       "  </tbody>\n",
       "</table>\n",
       "<p>41900 rows × 13 columns</p>\n",
       "</div>"
      ],
      "text/plain": [
       "           q_id                                        q_prep_text  \\\n",
       "0      72071464  let playerRecentStats = [];\\n    function rece...   \n",
       "1      72065084                                                3.9   \n",
       "2      72065084                                      myCollection2   \n",
       "3      72065084                                              float   \n",
       "4      72065084  FOR i IN 1..998700000\\n  INSERT {\\n        tit...   \n",
       "...         ...                                                ...   \n",
       "41895  76142192  body {\\n  text-align: center;\\n  font-size: xx...   \n",
       "41896  76142192  var Bucharest = new Date(&quot;April 26, 2023 ...   \n",
       "41897  76139757  gradeDelete = int(input(&quot;Which grade do y...   \n",
       "41898  76139757  grades = {&quot;english&quot;:[90,95,81],\\n   ...   \n",
       "41899  76139757  grades['math'].append()\\ngrades.popitem()\\ngra...   \n",
       "\n",
       "                                         q_prep_text_non  \\\n",
       "0      let playerRecentStats = [];\\n\\tfunction recent...   \n",
       "1                                                    3.9   \n",
       "2                                          myCollection2   \n",
       "3                                                  float   \n",
       "4      FOR i IN 1..998700000\\n  INSERT {\\n\\t\\ttitle: ...   \n",
       "...                                                  ...   \n",
       "41895  body {\\n  text-align: center;\\n  font-size: xx...   \n",
       "41896  var Bucharest = new Date(&quot;April 26, 2023 ...   \n",
       "41897  gradeDelete = int(input(&quot;Which grade do y...   \n",
       "41898  grades = {&quot;english&quot;:[90,95,81],\\n\\t ...   \n",
       "41899  grades['math'].append()\\ngrades.popitem()\\ngra...   \n",
       "\n",
       "                                                Document  Topic  \\\n",
       "0      let playerRecentStats = [];\\n\\tfunction recent...      6   \n",
       "1                                                    3.9      2   \n",
       "2                                          myCollection2      9   \n",
       "3                                                  float      0   \n",
       "4      FOR i IN 1..998700000\\n  INSERT {\\n\\t\\ttitle: ...      7   \n",
       "...                                                  ...    ...   \n",
       "41895  body {\\n  text-align: center;\\n  font-size: xx...      8   \n",
       "41896  var Bucharest = new Date(&quot;April 26, 2023 ...      6   \n",
       "41897  gradeDelete = int(input(&quot;Which grade do y...      4   \n",
       "41898  grades = {&quot;english&quot;:[90,95,81],\\n\\t ...      1   \n",
       "41899  grades['math'].append()\\ngrades.popitem()\\ngra...     16   \n",
       "\n",
       "                                             Name  \\\n",
       "0                      6_const_this_new_classname   \n",
       "1        2_elemnt_elemnt elemnt_localhost_install   \n",
       "2                       9_npm run_install_npm_git   \n",
       "3               0_scrollbar_pod_dockerfile_spanid   \n",
       "4                                 7_self_np_na_1l   \n",
       "...                                           ...   \n",
       "41895            8_public_background_border_color   \n",
       "41896                  6_const_this_new_classname   \n",
       "41897                    4_000 000_000_cannot_x00   \n",
       "41898                         1_df_foo_select_amp   \n",
       "41899  16_minmax_df_useeffect useeffect_useeffect   \n",
       "\n",
       "                                          Representation  \\\n",
       "0      [const, this, new, classname, var, the, string...   \n",
       "1      [elemnt, elemnt elemnt, localhost, install, lo...   \n",
       "2      [npm run, install, npm, git, docker compose, c...   \n",
       "3      [scrollbar, pod, dockerfile, spanid, your text...   \n",
       "4      [self, np, na, 1l, df, end, c3, na na, dim, sl...   \n",
       "...                                                  ...   \n",
       "41895  [public, background, border, color, margin, ba...   \n",
       "41896  [const, this, new, classname, var, the, string...   \n",
       "41897  [000 000, 000, cannot, x00, found, to, the, of...   \n",
       "41898  [df, foo, select, amp, name, where, gt gt, end...   \n",
       "41899  [minmax, df, useeffect useeffect, useeffect, 5...   \n",
       "\n",
       "                                                 KeyBERT  \\\n",
       "0      [react, usestate, quot const, const, button, p...   \n",
       "1      [pip install, manage py, pip3, pip, modulenotf...   \n",
       "2      [docker compose, docker, compose up, docker pu...   \n",
       "3      [scrollbar, form page, page, user form, page u...   \n",
       "4      [numpy, numpy np, tf keras, keras, plot, data ...   \n",
       "...                                                  ...   \n",
       "41895  [margin top, background color, display flex, m...   \n",
       "41896  [react, usestate, quot const, const, button, p...   \n",
       "41897  [typeerror cannot, typeerror, error, invalid, ...   \n",
       "41898  [name, john, name quot, json, curl, group, dat...   \n",
       "41899  [replace regex, df name, df, name df, to_datet...   \n",
       "\n",
       "                                           OpenAI  \\\n",
       "0      [Object-Oriented Programming Fundamentals]   \n",
       "1           [Server Installation Errors Solution]   \n",
       "2          [Dockerized npm Installation with Git]   \n",
       "3       [Scrollbar Pod Dockerfile Spanid Webview]   \n",
       "4         [Self-representation in sleep analysis]   \n",
       "...                                           ...   \n",
       "41895                 [Styling Web Page Elements]   \n",
       "41896  [Object-Oriented Programming Fundamentals]   \n",
       "41897         [Unidentified Image Representation]   \n",
       "41898        [Data Selection and Filtering Tests]   \n",
       "41899              [Text Processing and Analysis]   \n",
       "\n",
       "                                                     MMR  \\\n",
       "0      [const, this, new, classname, var, the, string...   \n",
       "1      [elemnt, elemnt elemnt, localhost, install, lo...   \n",
       "2      [npm run, install, npm, git, docker compose, c...   \n",
       "3      [scrollbar, pod, dockerfile, spanid, your text...   \n",
       "4      [self, np, na, 1l, df, end, c3, na na, dim, sl...   \n",
       "...                                                  ...   \n",
       "41895  [public, background, border, color, margin, ba...   \n",
       "41896  [const, this, new, classname, var, the, string...   \n",
       "41897  [000 000, 000, cannot, x00, found, to, the, of...   \n",
       "41898  [df, foo, select, amp, name, where, gt gt, end...   \n",
       "41899  [minmax, df, useeffect useeffect, useeffect, 5...   \n",
       "\n",
       "                                     Representative_Docs  \\\n",
       "0      [class Intercom {\\n  /// private constructor t...   \n",
       "1      [/etc/pki/ca-trust/extracted/pem/tls-ca-bundle...   \n",
       "2      [docker compose up, docker-compose up -d, dock...   \n",
       "3          [pod install, User Form Page, User Form Page]   \n",
       "4      [import numpy as np\\nfrom keras.models import ...   \n",
       "...                                                  ...   \n",
       "41895  [* {\\n  margin: 0;\\n  box-sizing: border-box\\n...   \n",
       "41896  [class Intercom {\\n  /// private constructor t...   \n",
       "41897  [ 'type' does not contain a definition for 'na...   \n",
       "41898  [curl --silent --show-error -L -X POST &quot;h...   \n",
       "41899  [for regex, replacement in regex_replace.items...   \n",
       "\n",
       "                                             Top_n_words  \\\n",
       "0      const - this - new - classname - var - the - s...   \n",
       "1      elemnt - elemnt elemnt - localhost - install -...   \n",
       "2      npm run - install - npm - git - docker compose...   \n",
       "3      scrollbar - pod - dockerfile - spanid - your t...   \n",
       "4      self - np - na - 1l - df - end - c3 - na na - ...   \n",
       "...                                                  ...   \n",
       "41895  public - background - border - color - margin ...   \n",
       "41896  const - this - new - classname - var - the - s...   \n",
       "41897  000 000 - 000 - cannot - x00 - found - to - th...   \n",
       "41898  df - foo - select - amp - name - where - gt gt...   \n",
       "41899  minmax - df - useeffect useeffect - useeffect ...   \n",
       "\n",
       "       Representative_document  \n",
       "0                        False  \n",
       "1                        False  \n",
       "2                        False  \n",
       "3                        False  \n",
       "4                        False  \n",
       "...                        ...  \n",
       "41895                    False  \n",
       "41896                    False  \n",
       "41897                    False  \n",
       "41898                    False  \n",
       "41899                    False  \n",
       "\n",
       "[41900 rows x 13 columns]"
      ]
     },
     "execution_count": 141,
     "metadata": {},
     "output_type": "execute_result"
    }
   ],
   "source": [
    "tot_topa_df"
   ]
  },
  {
   "cell_type": "code",
   "execution_count": 142,
   "metadata": {},
   "outputs": [
    {
     "data": {
      "text/html": [
       "<div>\n",
       "<style scoped>\n",
       "    .dataframe tbody tr th:only-of-type {\n",
       "        vertical-align: middle;\n",
       "    }\n",
       "\n",
       "    .dataframe tbody tr th {\n",
       "        vertical-align: top;\n",
       "    }\n",
       "\n",
       "    .dataframe thead th {\n",
       "        text-align: right;\n",
       "    }\n",
       "</style>\n",
       "<table border=\"1\" class=\"dataframe\">\n",
       "  <thead>\n",
       "    <tr style=\"text-align: right;\">\n",
       "      <th></th>\n",
       "      <th>q_id</th>\n",
       "      <th>q_prep_text</th>\n",
       "      <th>q_prep_text_non</th>\n",
       "      <th>Document</th>\n",
       "      <th>Topic</th>\n",
       "      <th>Name</th>\n",
       "      <th>Representation</th>\n",
       "      <th>KeyBERT</th>\n",
       "      <th>OpenAI</th>\n",
       "      <th>MMR</th>\n",
       "      <th>Representative_Docs</th>\n",
       "      <th>Top_n_words</th>\n",
       "      <th>Representative_document</th>\n",
       "    </tr>\n",
       "  </thead>\n",
       "  <tbody>\n",
       "    <tr>\n",
       "      <th>1776</th>\n",
       "      <td>74625400</td>\n",
       "      <td>pod install</td>\n",
       "      <td>pod install</td>\n",
       "      <td>pod install</td>\n",
       "      <td>0</td>\n",
       "      <td>0_scrollbar_pod_dockerfile_spanid</td>\n",
       "      <td>[scrollbar, pod, dockerfile, spanid, your text...</td>\n",
       "      <td>[scrollbar, form page, page, user form, page u...</td>\n",
       "      <td>[Scrollbar Pod Dockerfile Spanid Webview]</td>\n",
       "      <td>[scrollbar, pod, dockerfile, spanid, your text...</td>\n",
       "      <td>[pod install, User Form Page, User Form Page]</td>\n",
       "      <td>scrollbar - pod - dockerfile - spanid - your t...</td>\n",
       "      <td>True</td>\n",
       "    </tr>\n",
       "    <tr>\n",
       "      <th>1779</th>\n",
       "      <td>74625400</td>\n",
       "      <td>pod install</td>\n",
       "      <td>pod install</td>\n",
       "      <td>pod install</td>\n",
       "      <td>0</td>\n",
       "      <td>0_scrollbar_pod_dockerfile_spanid</td>\n",
       "      <td>[scrollbar, pod, dockerfile, spanid, your text...</td>\n",
       "      <td>[scrollbar, form page, page, user form, page u...</td>\n",
       "      <td>[Scrollbar Pod Dockerfile Spanid Webview]</td>\n",
       "      <td>[scrollbar, pod, dockerfile, spanid, your text...</td>\n",
       "      <td>[pod install, User Form Page, User Form Page]</td>\n",
       "      <td>scrollbar - pod - dockerfile - spanid - your t...</td>\n",
       "      <td>True</td>\n",
       "    </tr>\n",
       "    <tr>\n",
       "      <th>10109</th>\n",
       "      <td>70177465</td>\n",
       "      <td>pod install</td>\n",
       "      <td>pod install</td>\n",
       "      <td>pod install</td>\n",
       "      <td>0</td>\n",
       "      <td>0_scrollbar_pod_dockerfile_spanid</td>\n",
       "      <td>[scrollbar, pod, dockerfile, spanid, your text...</td>\n",
       "      <td>[scrollbar, form page, page, user form, page u...</td>\n",
       "      <td>[Scrollbar Pod Dockerfile Spanid Webview]</td>\n",
       "      <td>[scrollbar, pod, dockerfile, spanid, your text...</td>\n",
       "      <td>[pod install, User Form Page, User Form Page]</td>\n",
       "      <td>scrollbar - pod - dockerfile - spanid - your t...</td>\n",
       "      <td>True</td>\n",
       "    </tr>\n",
       "    <tr>\n",
       "      <th>16451</th>\n",
       "      <td>73187631</td>\n",
       "      <td>User Form Page</td>\n",
       "      <td>User Form Page</td>\n",
       "      <td>User Form Page</td>\n",
       "      <td>0</td>\n",
       "      <td>0_scrollbar_pod_dockerfile_spanid</td>\n",
       "      <td>[scrollbar, pod, dockerfile, spanid, your text...</td>\n",
       "      <td>[scrollbar, form page, page, user form, page u...</td>\n",
       "      <td>[Scrollbar Pod Dockerfile Spanid Webview]</td>\n",
       "      <td>[scrollbar, pod, dockerfile, spanid, your text...</td>\n",
       "      <td>[pod install, User Form Page, User Form Page]</td>\n",
       "      <td>scrollbar - pod - dockerfile - spanid - your t...</td>\n",
       "      <td>True</td>\n",
       "    </tr>\n",
       "    <tr>\n",
       "      <th>16456</th>\n",
       "      <td>73187631</td>\n",
       "      <td>User Form Page</td>\n",
       "      <td>User Form Page</td>\n",
       "      <td>User Form Page</td>\n",
       "      <td>0</td>\n",
       "      <td>0_scrollbar_pod_dockerfile_spanid</td>\n",
       "      <td>[scrollbar, pod, dockerfile, spanid, your text...</td>\n",
       "      <td>[scrollbar, form page, page, user form, page u...</td>\n",
       "      <td>[Scrollbar Pod Dockerfile Spanid Webview]</td>\n",
       "      <td>[scrollbar, pod, dockerfile, spanid, your text...</td>\n",
       "      <td>[pod install, User Form Page, User Form Page]</td>\n",
       "      <td>scrollbar - pod - dockerfile - spanid - your t...</td>\n",
       "      <td>True</td>\n",
       "    </tr>\n",
       "    <tr>\n",
       "      <th>16460</th>\n",
       "      <td>73187631</td>\n",
       "      <td>User Form Page</td>\n",
       "      <td>User Form Page</td>\n",
       "      <td>User Form Page</td>\n",
       "      <td>0</td>\n",
       "      <td>0_scrollbar_pod_dockerfile_spanid</td>\n",
       "      <td>[scrollbar, pod, dockerfile, spanid, your text...</td>\n",
       "      <td>[scrollbar, form page, page, user form, page u...</td>\n",
       "      <td>[Scrollbar Pod Dockerfile Spanid Webview]</td>\n",
       "      <td>[scrollbar, pod, dockerfile, spanid, your text...</td>\n",
       "      <td>[pod install, User Form Page, User Form Page]</td>\n",
       "      <td>scrollbar - pod - dockerfile - spanid - your t...</td>\n",
       "      <td>True</td>\n",
       "    </tr>\n",
       "    <tr>\n",
       "      <th>16463</th>\n",
       "      <td>73187631</td>\n",
       "      <td>User Form Page</td>\n",
       "      <td>User Form Page</td>\n",
       "      <td>User Form Page</td>\n",
       "      <td>0</td>\n",
       "      <td>0_scrollbar_pod_dockerfile_spanid</td>\n",
       "      <td>[scrollbar, pod, dockerfile, spanid, your text...</td>\n",
       "      <td>[scrollbar, form page, page, user form, page u...</td>\n",
       "      <td>[Scrollbar Pod Dockerfile Spanid Webview]</td>\n",
       "      <td>[scrollbar, pod, dockerfile, spanid, your text...</td>\n",
       "      <td>[pod install, User Form Page, User Form Page]</td>\n",
       "      <td>scrollbar - pod - dockerfile - spanid - your t...</td>\n",
       "      <td>True</td>\n",
       "    </tr>\n",
       "    <tr>\n",
       "      <th>16465</th>\n",
       "      <td>73187631</td>\n",
       "      <td>User Form Page</td>\n",
       "      <td>User Form Page</td>\n",
       "      <td>User Form Page</td>\n",
       "      <td>0</td>\n",
       "      <td>0_scrollbar_pod_dockerfile_spanid</td>\n",
       "      <td>[scrollbar, pod, dockerfile, spanid, your text...</td>\n",
       "      <td>[scrollbar, form page, page, user form, page u...</td>\n",
       "      <td>[Scrollbar Pod Dockerfile Spanid Webview]</td>\n",
       "      <td>[scrollbar, pod, dockerfile, spanid, your text...</td>\n",
       "      <td>[pod install, User Form Page, User Form Page]</td>\n",
       "      <td>scrollbar - pod - dockerfile - spanid - your t...</td>\n",
       "      <td>True</td>\n",
       "    </tr>\n",
       "    <tr>\n",
       "      <th>16468</th>\n",
       "      <td>73187631</td>\n",
       "      <td>User Form Page</td>\n",
       "      <td>User Form Page</td>\n",
       "      <td>User Form Page</td>\n",
       "      <td>0</td>\n",
       "      <td>0_scrollbar_pod_dockerfile_spanid</td>\n",
       "      <td>[scrollbar, pod, dockerfile, spanid, your text...</td>\n",
       "      <td>[scrollbar, form page, page, user form, page u...</td>\n",
       "      <td>[Scrollbar Pod Dockerfile Spanid Webview]</td>\n",
       "      <td>[scrollbar, pod, dockerfile, spanid, your text...</td>\n",
       "      <td>[pod install, User Form Page, User Form Page]</td>\n",
       "      <td>scrollbar - pod - dockerfile - spanid - your t...</td>\n",
       "      <td>True</td>\n",
       "    </tr>\n",
       "    <tr>\n",
       "      <th>37087</th>\n",
       "      <td>77397824</td>\n",
       "      <td>pod install</td>\n",
       "      <td>pod install</td>\n",
       "      <td>pod install</td>\n",
       "      <td>0</td>\n",
       "      <td>0_scrollbar_pod_dockerfile_spanid</td>\n",
       "      <td>[scrollbar, pod, dockerfile, spanid, your text...</td>\n",
       "      <td>[scrollbar, form page, page, user form, page u...</td>\n",
       "      <td>[Scrollbar Pod Dockerfile Spanid Webview]</td>\n",
       "      <td>[scrollbar, pod, dockerfile, spanid, your text...</td>\n",
       "      <td>[pod install, User Form Page, User Form Page]</td>\n",
       "      <td>scrollbar - pod - dockerfile - spanid - your t...</td>\n",
       "      <td>True</td>\n",
       "    </tr>\n",
       "    <tr>\n",
       "      <th>40325</th>\n",
       "      <td>77207828</td>\n",
       "      <td>pod install</td>\n",
       "      <td>pod install</td>\n",
       "      <td>pod install</td>\n",
       "      <td>0</td>\n",
       "      <td>0_scrollbar_pod_dockerfile_spanid</td>\n",
       "      <td>[scrollbar, pod, dockerfile, spanid, your text...</td>\n",
       "      <td>[scrollbar, form page, page, user form, page u...</td>\n",
       "      <td>[Scrollbar Pod Dockerfile Spanid Webview]</td>\n",
       "      <td>[scrollbar, pod, dockerfile, spanid, your text...</td>\n",
       "      <td>[pod install, User Form Page, User Form Page]</td>\n",
       "      <td>scrollbar - pod - dockerfile - spanid - your t...</td>\n",
       "      <td>True</td>\n",
       "    </tr>\n",
       "  </tbody>\n",
       "</table>\n",
       "</div>"
      ],
      "text/plain": [
       "           q_id     q_prep_text q_prep_text_non        Document  Topic  \\\n",
       "1776   74625400     pod install     pod install     pod install      0   \n",
       "1779   74625400     pod install     pod install     pod install      0   \n",
       "10109  70177465     pod install     pod install     pod install      0   \n",
       "16451  73187631  User Form Page  User Form Page  User Form Page      0   \n",
       "16456  73187631  User Form Page  User Form Page  User Form Page      0   \n",
       "16460  73187631  User Form Page  User Form Page  User Form Page      0   \n",
       "16463  73187631  User Form Page  User Form Page  User Form Page      0   \n",
       "16465  73187631  User Form Page  User Form Page  User Form Page      0   \n",
       "16468  73187631  User Form Page  User Form Page  User Form Page      0   \n",
       "37087  77397824     pod install     pod install     pod install      0   \n",
       "40325  77207828     pod install     pod install     pod install      0   \n",
       "\n",
       "                                    Name  \\\n",
       "1776   0_scrollbar_pod_dockerfile_spanid   \n",
       "1779   0_scrollbar_pod_dockerfile_spanid   \n",
       "10109  0_scrollbar_pod_dockerfile_spanid   \n",
       "16451  0_scrollbar_pod_dockerfile_spanid   \n",
       "16456  0_scrollbar_pod_dockerfile_spanid   \n",
       "16460  0_scrollbar_pod_dockerfile_spanid   \n",
       "16463  0_scrollbar_pod_dockerfile_spanid   \n",
       "16465  0_scrollbar_pod_dockerfile_spanid   \n",
       "16468  0_scrollbar_pod_dockerfile_spanid   \n",
       "37087  0_scrollbar_pod_dockerfile_spanid   \n",
       "40325  0_scrollbar_pod_dockerfile_spanid   \n",
       "\n",
       "                                          Representation  \\\n",
       "1776   [scrollbar, pod, dockerfile, spanid, your text...   \n",
       "1779   [scrollbar, pod, dockerfile, spanid, your text...   \n",
       "10109  [scrollbar, pod, dockerfile, spanid, your text...   \n",
       "16451  [scrollbar, pod, dockerfile, spanid, your text...   \n",
       "16456  [scrollbar, pod, dockerfile, spanid, your text...   \n",
       "16460  [scrollbar, pod, dockerfile, spanid, your text...   \n",
       "16463  [scrollbar, pod, dockerfile, spanid, your text...   \n",
       "16465  [scrollbar, pod, dockerfile, spanid, your text...   \n",
       "16468  [scrollbar, pod, dockerfile, spanid, your text...   \n",
       "37087  [scrollbar, pod, dockerfile, spanid, your text...   \n",
       "40325  [scrollbar, pod, dockerfile, spanid, your text...   \n",
       "\n",
       "                                                 KeyBERT  \\\n",
       "1776   [scrollbar, form page, page, user form, page u...   \n",
       "1779   [scrollbar, form page, page, user form, page u...   \n",
       "10109  [scrollbar, form page, page, user form, page u...   \n",
       "16451  [scrollbar, form page, page, user form, page u...   \n",
       "16456  [scrollbar, form page, page, user form, page u...   \n",
       "16460  [scrollbar, form page, page, user form, page u...   \n",
       "16463  [scrollbar, form page, page, user form, page u...   \n",
       "16465  [scrollbar, form page, page, user form, page u...   \n",
       "16468  [scrollbar, form page, page, user form, page u...   \n",
       "37087  [scrollbar, form page, page, user form, page u...   \n",
       "40325  [scrollbar, form page, page, user form, page u...   \n",
       "\n",
       "                                          OpenAI  \\\n",
       "1776   [Scrollbar Pod Dockerfile Spanid Webview]   \n",
       "1779   [Scrollbar Pod Dockerfile Spanid Webview]   \n",
       "10109  [Scrollbar Pod Dockerfile Spanid Webview]   \n",
       "16451  [Scrollbar Pod Dockerfile Spanid Webview]   \n",
       "16456  [Scrollbar Pod Dockerfile Spanid Webview]   \n",
       "16460  [Scrollbar Pod Dockerfile Spanid Webview]   \n",
       "16463  [Scrollbar Pod Dockerfile Spanid Webview]   \n",
       "16465  [Scrollbar Pod Dockerfile Spanid Webview]   \n",
       "16468  [Scrollbar Pod Dockerfile Spanid Webview]   \n",
       "37087  [Scrollbar Pod Dockerfile Spanid Webview]   \n",
       "40325  [Scrollbar Pod Dockerfile Spanid Webview]   \n",
       "\n",
       "                                                     MMR  \\\n",
       "1776   [scrollbar, pod, dockerfile, spanid, your text...   \n",
       "1779   [scrollbar, pod, dockerfile, spanid, your text...   \n",
       "10109  [scrollbar, pod, dockerfile, spanid, your text...   \n",
       "16451  [scrollbar, pod, dockerfile, spanid, your text...   \n",
       "16456  [scrollbar, pod, dockerfile, spanid, your text...   \n",
       "16460  [scrollbar, pod, dockerfile, spanid, your text...   \n",
       "16463  [scrollbar, pod, dockerfile, spanid, your text...   \n",
       "16465  [scrollbar, pod, dockerfile, spanid, your text...   \n",
       "16468  [scrollbar, pod, dockerfile, spanid, your text...   \n",
       "37087  [scrollbar, pod, dockerfile, spanid, your text...   \n",
       "40325  [scrollbar, pod, dockerfile, spanid, your text...   \n",
       "\n",
       "                                 Representative_Docs  \\\n",
       "1776   [pod install, User Form Page, User Form Page]   \n",
       "1779   [pod install, User Form Page, User Form Page]   \n",
       "10109  [pod install, User Form Page, User Form Page]   \n",
       "16451  [pod install, User Form Page, User Form Page]   \n",
       "16456  [pod install, User Form Page, User Form Page]   \n",
       "16460  [pod install, User Form Page, User Form Page]   \n",
       "16463  [pod install, User Form Page, User Form Page]   \n",
       "16465  [pod install, User Form Page, User Form Page]   \n",
       "16468  [pod install, User Form Page, User Form Page]   \n",
       "37087  [pod install, User Form Page, User Form Page]   \n",
       "40325  [pod install, User Form Page, User Form Page]   \n",
       "\n",
       "                                             Top_n_words  \\\n",
       "1776   scrollbar - pod - dockerfile - spanid - your t...   \n",
       "1779   scrollbar - pod - dockerfile - spanid - your t...   \n",
       "10109  scrollbar - pod - dockerfile - spanid - your t...   \n",
       "16451  scrollbar - pod - dockerfile - spanid - your t...   \n",
       "16456  scrollbar - pod - dockerfile - spanid - your t...   \n",
       "16460  scrollbar - pod - dockerfile - spanid - your t...   \n",
       "16463  scrollbar - pod - dockerfile - spanid - your t...   \n",
       "16465  scrollbar - pod - dockerfile - spanid - your t...   \n",
       "16468  scrollbar - pod - dockerfile - spanid - your t...   \n",
       "37087  scrollbar - pod - dockerfile - spanid - your t...   \n",
       "40325  scrollbar - pod - dockerfile - spanid - your t...   \n",
       "\n",
       "       Representative_document  \n",
       "1776                      True  \n",
       "1779                      True  \n",
       "10109                     True  \n",
       "16451                     True  \n",
       "16456                     True  \n",
       "16460                     True  \n",
       "16463                     True  \n",
       "16465                     True  \n",
       "16468                     True  \n",
       "37087                     True  \n",
       "40325                     True  "
      ]
     },
     "execution_count": 142,
     "metadata": {},
     "output_type": "execute_result"
    }
   ],
   "source": [
    "tot_topa_df[(tot_topa_df['Topic'] ==0)&(tot_topa_df['Representative_document'] ==True)]"
   ]
  },
  {
   "cell_type": "code",
   "execution_count": 143,
   "metadata": {},
   "outputs": [],
   "source": [
    "sample_dropnull_df = sample_df[['q_id', 'q_creationdate', 'a_id']].groupby(['q_id', 'q_creationdate']).head(1)"
   ]
  },
  {
   "cell_type": "code",
   "execution_count": 144,
   "metadata": {},
   "outputs": [],
   "source": [
    "tot_topa_df = pd.merge(tot_topa_df, sample_dropnull_df, how='left', left_on = 'q_id', right_on = 'q_id')"
   ]
  },
  {
   "cell_type": "code",
   "execution_count": 145,
   "metadata": {},
   "outputs": [
    {
     "data": {
      "text/html": [
       "<div>\n",
       "<style scoped>\n",
       "    .dataframe tbody tr th:only-of-type {\n",
       "        vertical-align: middle;\n",
       "    }\n",
       "\n",
       "    .dataframe tbody tr th {\n",
       "        vertical-align: top;\n",
       "    }\n",
       "\n",
       "    .dataframe thead th {\n",
       "        text-align: right;\n",
       "    }\n",
       "</style>\n",
       "<table border=\"1\" class=\"dataframe\">\n",
       "  <thead>\n",
       "    <tr style=\"text-align: right;\">\n",
       "      <th></th>\n",
       "      <th>q_id</th>\n",
       "      <th>q_prep_text</th>\n",
       "      <th>q_prep_text_non</th>\n",
       "      <th>Document</th>\n",
       "      <th>Topic</th>\n",
       "      <th>Name</th>\n",
       "      <th>Representation</th>\n",
       "      <th>KeyBERT</th>\n",
       "      <th>OpenAI</th>\n",
       "      <th>MMR</th>\n",
       "      <th>Representative_Docs</th>\n",
       "      <th>Top_n_words</th>\n",
       "      <th>Representative_document</th>\n",
       "      <th>q_creationdate</th>\n",
       "      <th>a_id</th>\n",
       "    </tr>\n",
       "  </thead>\n",
       "  <tbody>\n",
       "    <tr>\n",
       "      <th>36492</th>\n",
       "      <td>77394187</td>\n",
       "      <td>Scrollbar</td>\n",
       "      <td>Scrollbar</td>\n",
       "      <td>Scrollbar</td>\n",
       "      <td>0</td>\n",
       "      <td>0_scrollbar_pod_dockerfile_spanid</td>\n",
       "      <td>[scrollbar, pod, dockerfile, spanid, your text...</td>\n",
       "      <td>[scrollbar, form page, page, user form, page u...</td>\n",
       "      <td>[Scrollbar Pod Dockerfile Spanid Webview]</td>\n",
       "      <td>[scrollbar, pod, dockerfile, spanid, your text...</td>\n",
       "      <td>[pod install, User Form Page, User Form Page]</td>\n",
       "      <td>scrollbar - pod - dockerfile - spanid - your t...</td>\n",
       "      <td>False</td>\n",
       "      <td>2023-10-31 08:06:39.087</td>\n",
       "      <td>77394257.0</td>\n",
       "    </tr>\n",
       "    <tr>\n",
       "      <th>36493</th>\n",
       "      <td>77394187</td>\n",
       "      <td>ListBox</td>\n",
       "      <td>ListBox</td>\n",
       "      <td>ListBox</td>\n",
       "      <td>28</td>\n",
       "      <td>28_listbox_prod prod_prod_listb</td>\n",
       "      <td>[listbox, prod prod, prod, listb, info info, l...</td>\n",
       "      <td>[listbox, listb, listservicename, info, info i...</td>\n",
       "      <td>[Information on Listbox Features]</td>\n",
       "      <td>[listbox, prod prod, prod, listb, info info, l...</td>\n",
       "      <td>[ListBox, listBox, ListBox]</td>\n",
       "      <td>listbox - prod prod - prod - listb - info info...</td>\n",
       "      <td>True</td>\n",
       "      <td>2023-10-31 08:06:39.087</td>\n",
       "      <td>77394257.0</td>\n",
       "    </tr>\n",
       "    <tr>\n",
       "      <th>36494</th>\n",
       "      <td>77394187</td>\n",
       "      <td>ListBox</td>\n",
       "      <td>ListBox</td>\n",
       "      <td>ListBox</td>\n",
       "      <td>28</td>\n",
       "      <td>28_listbox_prod prod_prod_listb</td>\n",
       "      <td>[listbox, prod prod, prod, listb, info info, l...</td>\n",
       "      <td>[listbox, listb, listservicename, info, info i...</td>\n",
       "      <td>[Information on Listbox Features]</td>\n",
       "      <td>[listbox, prod prod, prod, listb, info info, l...</td>\n",
       "      <td>[ListBox, listBox, ListBox]</td>\n",
       "      <td>listbox - prod prod - prod - listb - info info...</td>\n",
       "      <td>True</td>\n",
       "      <td>2023-10-31 08:06:39.087</td>\n",
       "      <td>77394257.0</td>\n",
       "    </tr>\n",
       "    <tr>\n",
       "      <th>36495</th>\n",
       "      <td>77394187</td>\n",
       "      <td>Scrollbar</td>\n",
       "      <td>Scrollbar</td>\n",
       "      <td>Scrollbar</td>\n",
       "      <td>0</td>\n",
       "      <td>0_scrollbar_pod_dockerfile_spanid</td>\n",
       "      <td>[scrollbar, pod, dockerfile, spanid, your text...</td>\n",
       "      <td>[scrollbar, form page, page, user form, page u...</td>\n",
       "      <td>[Scrollbar Pod Dockerfile Spanid Webview]</td>\n",
       "      <td>[scrollbar, pod, dockerfile, spanid, your text...</td>\n",
       "      <td>[pod install, User Form Page, User Form Page]</td>\n",
       "      <td>scrollbar - pod - dockerfile - spanid - your t...</td>\n",
       "      <td>False</td>\n",
       "      <td>2023-10-31 08:06:39.087</td>\n",
       "      <td>77394257.0</td>\n",
       "    </tr>\n",
       "    <tr>\n",
       "      <th>36496</th>\n",
       "      <td>77394187</td>\n",
       "      <td>Scrollbar</td>\n",
       "      <td>Scrollbar</td>\n",
       "      <td>Scrollbar</td>\n",
       "      <td>0</td>\n",
       "      <td>0_scrollbar_pod_dockerfile_spanid</td>\n",
       "      <td>[scrollbar, pod, dockerfile, spanid, your text...</td>\n",
       "      <td>[scrollbar, form page, page, user form, page u...</td>\n",
       "      <td>[Scrollbar Pod Dockerfile Spanid Webview]</td>\n",
       "      <td>[scrollbar, pod, dockerfile, spanid, your text...</td>\n",
       "      <td>[pod install, User Form Page, User Form Page]</td>\n",
       "      <td>scrollbar - pod - dockerfile - spanid - your t...</td>\n",
       "      <td>False</td>\n",
       "      <td>2023-10-31 08:06:39.087</td>\n",
       "      <td>77394257.0</td>\n",
       "    </tr>\n",
       "    <tr>\n",
       "      <th>36497</th>\n",
       "      <td>77394187</td>\n",
       "      <td>ListBox</td>\n",
       "      <td>ListBox</td>\n",
       "      <td>ListBox</td>\n",
       "      <td>28</td>\n",
       "      <td>28_listbox_prod prod_prod_listb</td>\n",
       "      <td>[listbox, prod prod, prod, listb, info info, l...</td>\n",
       "      <td>[listbox, listb, listservicename, info, info i...</td>\n",
       "      <td>[Information on Listbox Features]</td>\n",
       "      <td>[listbox, prod prod, prod, listb, info info, l...</td>\n",
       "      <td>[ListBox, listBox, ListBox]</td>\n",
       "      <td>listbox - prod prod - prod - listb - info info...</td>\n",
       "      <td>True</td>\n",
       "      <td>2023-10-31 08:06:39.087</td>\n",
       "      <td>77394257.0</td>\n",
       "    </tr>\n",
       "    <tr>\n",
       "      <th>36498</th>\n",
       "      <td>77394187</td>\n",
       "      <td>Scrollbar</td>\n",
       "      <td>Scrollbar</td>\n",
       "      <td>Scrollbar</td>\n",
       "      <td>0</td>\n",
       "      <td>0_scrollbar_pod_dockerfile_spanid</td>\n",
       "      <td>[scrollbar, pod, dockerfile, spanid, your text...</td>\n",
       "      <td>[scrollbar, form page, page, user form, page u...</td>\n",
       "      <td>[Scrollbar Pod Dockerfile Spanid Webview]</td>\n",
       "      <td>[scrollbar, pod, dockerfile, spanid, your text...</td>\n",
       "      <td>[pod install, User Form Page, User Form Page]</td>\n",
       "      <td>scrollbar - pod - dockerfile - spanid - your t...</td>\n",
       "      <td>False</td>\n",
       "      <td>2023-10-31 08:06:39.087</td>\n",
       "      <td>77394257.0</td>\n",
       "    </tr>\n",
       "    <tr>\n",
       "      <th>36499</th>\n",
       "      <td>77394187</td>\n",
       "      <td>ListBox</td>\n",
       "      <td>ListBox</td>\n",
       "      <td>ListBox</td>\n",
       "      <td>28</td>\n",
       "      <td>28_listbox_prod prod_prod_listb</td>\n",
       "      <td>[listbox, prod prod, prod, listb, info info, l...</td>\n",
       "      <td>[listbox, listb, listservicename, info, info i...</td>\n",
       "      <td>[Information on Listbox Features]</td>\n",
       "      <td>[listbox, prod prod, prod, listb, info info, l...</td>\n",
       "      <td>[ListBox, listBox, ListBox]</td>\n",
       "      <td>listbox - prod prod - prod - listb - info info...</td>\n",
       "      <td>True</td>\n",
       "      <td>2023-10-31 08:06:39.087</td>\n",
       "      <td>77394257.0</td>\n",
       "    </tr>\n",
       "    <tr>\n",
       "      <th>36500</th>\n",
       "      <td>77394187</td>\n",
       "      <td>import tkinter as tk\\n\\ndef main():\\n    mainW...</td>\n",
       "      <td>import tkinter as tk\\ndef main():\\n\\tmainWindo...</td>\n",
       "      <td>import tkinter as tk\\ndef main():\\n\\tmainWindo...</td>\n",
       "      <td>7</td>\n",
       "      <td>7_self_np_na_1l</td>\n",
       "      <td>[self, np, na, 1l, df, end, c3, na na, dim, sl...</td>\n",
       "      <td>[numpy, numpy np, tf keras, keras, plot, data ...</td>\n",
       "      <td>[Self-representation in sleep analysis]</td>\n",
       "      <td>[self, np, na, 1l, df, end, c3, na na, dim, sl...</td>\n",
       "      <td>[import numpy as np\\nfrom keras.models import ...</td>\n",
       "      <td>self - np - na - 1l - df - end - c3 - na na - ...</td>\n",
       "      <td>False</td>\n",
       "      <td>2023-10-31 08:06:39.087</td>\n",
       "      <td>77394257.0</td>\n",
       "    </tr>\n",
       "    <tr>\n",
       "      <th>36501</th>\n",
       "      <td>77394187</td>\n",
       "      <td>Scrollbar</td>\n",
       "      <td>Scrollbar</td>\n",
       "      <td>Scrollbar</td>\n",
       "      <td>0</td>\n",
       "      <td>0_scrollbar_pod_dockerfile_spanid</td>\n",
       "      <td>[scrollbar, pod, dockerfile, spanid, your text...</td>\n",
       "      <td>[scrollbar, form page, page, user form, page u...</td>\n",
       "      <td>[Scrollbar Pod Dockerfile Spanid Webview]</td>\n",
       "      <td>[scrollbar, pod, dockerfile, spanid, your text...</td>\n",
       "      <td>[pod install, User Form Page, User Form Page]</td>\n",
       "      <td>scrollbar - pod - dockerfile - spanid - your t...</td>\n",
       "      <td>False</td>\n",
       "      <td>2023-10-31 08:06:39.087</td>\n",
       "      <td>77394257.0</td>\n",
       "    </tr>\n",
       "    <tr>\n",
       "      <th>36502</th>\n",
       "      <td>77394187</td>\n",
       "      <td>pack</td>\n",
       "      <td>pack</td>\n",
       "      <td>pack</td>\n",
       "      <td>11</td>\n",
       "      <td>11_feature feature_feature_lock lock_ger</td>\n",
       "      <td>[feature feature, feature, lock lock, ger, enu...</td>\n",
       "      <td>[feature, feature feature, boost, foo, lock, m...</td>\n",
       "      <td>[Data Processing and Feature Conversion]</td>\n",
       "      <td>[feature feature, feature, lock lock, ger, enu...</td>\n",
       "      <td>[feature, feature, Good morning Hadley]</td>\n",
       "      <td>feature feature - feature - lock lock - ger - ...</td>\n",
       "      <td>False</td>\n",
       "      <td>2023-10-31 08:06:39.087</td>\n",
       "      <td>77394257.0</td>\n",
       "    </tr>\n",
       "    <tr>\n",
       "      <th>36503</th>\n",
       "      <td>77394187</td>\n",
       "      <td>Scrollbar</td>\n",
       "      <td>Scrollbar</td>\n",
       "      <td>Scrollbar</td>\n",
       "      <td>0</td>\n",
       "      <td>0_scrollbar_pod_dockerfile_spanid</td>\n",
       "      <td>[scrollbar, pod, dockerfile, spanid, your text...</td>\n",
       "      <td>[scrollbar, form page, page, user form, page u...</td>\n",
       "      <td>[Scrollbar Pod Dockerfile Spanid Webview]</td>\n",
       "      <td>[scrollbar, pod, dockerfile, spanid, your text...</td>\n",
       "      <td>[pod install, User Form Page, User Form Page]</td>\n",
       "      <td>scrollbar - pod - dockerfile - spanid - your t...</td>\n",
       "      <td>False</td>\n",
       "      <td>2023-10-31 08:06:39.087</td>\n",
       "      <td>77394257.0</td>\n",
       "    </tr>\n",
       "    <tr>\n",
       "      <th>36504</th>\n",
       "      <td>77394187</td>\n",
       "      <td>place</td>\n",
       "      <td>place</td>\n",
       "      <td>place</td>\n",
       "      <td>11</td>\n",
       "      <td>11_feature feature_feature_lock lock_ger</td>\n",
       "      <td>[feature feature, feature, lock lock, ger, enu...</td>\n",
       "      <td>[feature, feature feature, boost, foo, lock, m...</td>\n",
       "      <td>[Data Processing and Feature Conversion]</td>\n",
       "      <td>[feature feature, feature, lock lock, ger, enu...</td>\n",
       "      <td>[feature, feature, Good morning Hadley]</td>\n",
       "      <td>feature feature - feature - lock lock - ger - ...</td>\n",
       "      <td>False</td>\n",
       "      <td>2023-10-31 08:06:39.087</td>\n",
       "      <td>77394257.0</td>\n",
       "    </tr>\n",
       "    <tr>\n",
       "      <th>36505</th>\n",
       "      <td>77394187</td>\n",
       "      <td>Scrollbar</td>\n",
       "      <td>Scrollbar</td>\n",
       "      <td>Scrollbar</td>\n",
       "      <td>0</td>\n",
       "      <td>0_scrollbar_pod_dockerfile_spanid</td>\n",
       "      <td>[scrollbar, pod, dockerfile, spanid, your text...</td>\n",
       "      <td>[scrollbar, form page, page, user form, page u...</td>\n",
       "      <td>[Scrollbar Pod Dockerfile Spanid Webview]</td>\n",
       "      <td>[scrollbar, pod, dockerfile, spanid, your text...</td>\n",
       "      <td>[pod install, User Form Page, User Form Page]</td>\n",
       "      <td>scrollbar - pod - dockerfile - spanid - your t...</td>\n",
       "      <td>False</td>\n",
       "      <td>2023-10-31 08:06:39.087</td>\n",
       "      <td>77394257.0</td>\n",
       "    </tr>\n",
       "    <tr>\n",
       "      <th>36506</th>\n",
       "      <td>77394187</td>\n",
       "      <td>listBox</td>\n",
       "      <td>listBox</td>\n",
       "      <td>listBox</td>\n",
       "      <td>28</td>\n",
       "      <td>28_listbox_prod prod_prod_listb</td>\n",
       "      <td>[listbox, prod prod, prod, listb, info info, l...</td>\n",
       "      <td>[listbox, listb, listservicename, info, info i...</td>\n",
       "      <td>[Information on Listbox Features]</td>\n",
       "      <td>[listbox, prod prod, prod, listb, info info, l...</td>\n",
       "      <td>[ListBox, listBox, ListBox]</td>\n",
       "      <td>listbox - prod prod - prod - listb - info info...</td>\n",
       "      <td>True</td>\n",
       "      <td>2023-10-31 08:06:39.087</td>\n",
       "      <td>77394257.0</td>\n",
       "    </tr>\n",
       "    <tr>\n",
       "      <th>36507</th>\n",
       "      <td>77394187</td>\n",
       "      <td>ScrollBar</td>\n",
       "      <td>ScrollBar</td>\n",
       "      <td>ScrollBar</td>\n",
       "      <td>0</td>\n",
       "      <td>0_scrollbar_pod_dockerfile_spanid</td>\n",
       "      <td>[scrollbar, pod, dockerfile, spanid, your text...</td>\n",
       "      <td>[scrollbar, form page, page, user form, page u...</td>\n",
       "      <td>[Scrollbar Pod Dockerfile Spanid Webview]</td>\n",
       "      <td>[scrollbar, pod, dockerfile, spanid, your text...</td>\n",
       "      <td>[pod install, User Form Page, User Form Page]</td>\n",
       "      <td>scrollbar - pod - dockerfile - spanid - your t...</td>\n",
       "      <td>False</td>\n",
       "      <td>2023-10-31 08:06:39.087</td>\n",
       "      <td>77394257.0</td>\n",
       "    </tr>\n",
       "    <tr>\n",
       "      <th>36508</th>\n",
       "      <td>77394187</td>\n",
       "      <td>mainWindow</td>\n",
       "      <td>mainWindow</td>\n",
       "      <td>mainWindow</td>\n",
       "      <td>0</td>\n",
       "      <td>0_scrollbar_pod_dockerfile_spanid</td>\n",
       "      <td>[scrollbar, pod, dockerfile, spanid, your text...</td>\n",
       "      <td>[scrollbar, form page, page, user form, page u...</td>\n",
       "      <td>[Scrollbar Pod Dockerfile Spanid Webview]</td>\n",
       "      <td>[scrollbar, pod, dockerfile, spanid, your text...</td>\n",
       "      <td>[pod install, User Form Page, User Form Page]</td>\n",
       "      <td>scrollbar - pod - dockerfile - spanid - your t...</td>\n",
       "      <td>False</td>\n",
       "      <td>2023-10-31 08:06:39.087</td>\n",
       "      <td>77394257.0</td>\n",
       "    </tr>\n",
       "    <tr>\n",
       "      <th>36509</th>\n",
       "      <td>77394187</td>\n",
       "      <td>ScrollBar</td>\n",
       "      <td>ScrollBar</td>\n",
       "      <td>ScrollBar</td>\n",
       "      <td>0</td>\n",
       "      <td>0_scrollbar_pod_dockerfile_spanid</td>\n",
       "      <td>[scrollbar, pod, dockerfile, spanid, your text...</td>\n",
       "      <td>[scrollbar, form page, page, user form, page u...</td>\n",
       "      <td>[Scrollbar Pod Dockerfile Spanid Webview]</td>\n",
       "      <td>[scrollbar, pod, dockerfile, spanid, your text...</td>\n",
       "      <td>[pod install, User Form Page, User Form Page]</td>\n",
       "      <td>scrollbar - pod - dockerfile - spanid - your t...</td>\n",
       "      <td>False</td>\n",
       "      <td>2023-10-31 08:06:39.087</td>\n",
       "      <td>77394257.0</td>\n",
       "    </tr>\n",
       "    <tr>\n",
       "      <th>36510</th>\n",
       "      <td>77394187</td>\n",
       "      <td>ListBox</td>\n",
       "      <td>ListBox</td>\n",
       "      <td>ListBox</td>\n",
       "      <td>28</td>\n",
       "      <td>28_listbox_prod prod_prod_listb</td>\n",
       "      <td>[listbox, prod prod, prod, listb, info info, l...</td>\n",
       "      <td>[listbox, listb, listservicename, info, info i...</td>\n",
       "      <td>[Information on Listbox Features]</td>\n",
       "      <td>[listbox, prod prod, prod, listb, info info, l...</td>\n",
       "      <td>[ListBox, listBox, ListBox]</td>\n",
       "      <td>listbox - prod prod - prod - listb - info info...</td>\n",
       "      <td>True</td>\n",
       "      <td>2023-10-31 08:06:39.087</td>\n",
       "      <td>77394257.0</td>\n",
       "    </tr>\n",
       "    <tr>\n",
       "      <th>36511</th>\n",
       "      <td>77394187</td>\n",
       "      <td>ScrollBar</td>\n",
       "      <td>ScrollBar</td>\n",
       "      <td>ScrollBar</td>\n",
       "      <td>0</td>\n",
       "      <td>0_scrollbar_pod_dockerfile_spanid</td>\n",
       "      <td>[scrollbar, pod, dockerfile, spanid, your text...</td>\n",
       "      <td>[scrollbar, form page, page, user form, page u...</td>\n",
       "      <td>[Scrollbar Pod Dockerfile Spanid Webview]</td>\n",
       "      <td>[scrollbar, pod, dockerfile, spanid, your text...</td>\n",
       "      <td>[pod install, User Form Page, User Form Page]</td>\n",
       "      <td>scrollbar - pod - dockerfile - spanid - your t...</td>\n",
       "      <td>False</td>\n",
       "      <td>2023-10-31 08:06:39.087</td>\n",
       "      <td>77394257.0</td>\n",
       "    </tr>\n",
       "    <tr>\n",
       "      <th>36512</th>\n",
       "      <td>77394187</td>\n",
       "      <td>ListBox</td>\n",
       "      <td>ListBox</td>\n",
       "      <td>ListBox</td>\n",
       "      <td>28</td>\n",
       "      <td>28_listbox_prod prod_prod_listb</td>\n",
       "      <td>[listbox, prod prod, prod, listb, info info, l...</td>\n",
       "      <td>[listbox, listb, listservicename, info, info i...</td>\n",
       "      <td>[Information on Listbox Features]</td>\n",
       "      <td>[listbox, prod prod, prod, listb, info info, l...</td>\n",
       "      <td>[ListBox, listBox, ListBox]</td>\n",
       "      <td>listbox - prod prod - prod - listb - info info...</td>\n",
       "      <td>True</td>\n",
       "      <td>2023-10-31 08:06:39.087</td>\n",
       "      <td>77394257.0</td>\n",
       "    </tr>\n",
       "    <tr>\n",
       "      <th>36513</th>\n",
       "      <td>77394187</td>\n",
       "      <td>yscrollcommand</td>\n",
       "      <td>yscrollcommand</td>\n",
       "      <td>yscrollcommand</td>\n",
       "      <td>9</td>\n",
       "      <td>9_npm run_install_npm_git</td>\n",
       "      <td>[npm run, install, npm, git, docker compose, c...</td>\n",
       "      <td>[docker compose, docker, compose up, docker pu...</td>\n",
       "      <td>[Dockerized npm Installation with Git]</td>\n",
       "      <td>[npm run, install, npm, git, docker compose, c...</td>\n",
       "      <td>[docker compose up, docker-compose up -d, dock...</td>\n",
       "      <td>npm run - install - npm - git - docker compose...</td>\n",
       "      <td>False</td>\n",
       "      <td>2023-10-31 08:06:39.087</td>\n",
       "      <td>77394257.0</td>\n",
       "    </tr>\n",
       "    <tr>\n",
       "      <th>36514</th>\n",
       "      <td>77394187</td>\n",
       "      <td>yscrollcommand</td>\n",
       "      <td>yscrollcommand</td>\n",
       "      <td>yscrollcommand</td>\n",
       "      <td>9</td>\n",
       "      <td>9_npm run_install_npm_git</td>\n",
       "      <td>[npm run, install, npm, git, docker compose, c...</td>\n",
       "      <td>[docker compose, docker, compose up, docker pu...</td>\n",
       "      <td>[Dockerized npm Installation with Git]</td>\n",
       "      <td>[npm run, install, npm, git, docker compose, c...</td>\n",
       "      <td>[docker compose up, docker-compose up -d, dock...</td>\n",
       "      <td>npm run - install - npm - git - docker compose...</td>\n",
       "      <td>False</td>\n",
       "      <td>2023-10-31 08:06:39.087</td>\n",
       "      <td>77394257.0</td>\n",
       "    </tr>\n",
       "    <tr>\n",
       "      <th>36515</th>\n",
       "      <td>77394187</td>\n",
       "      <td>ListBox</td>\n",
       "      <td>ListBox</td>\n",
       "      <td>ListBox</td>\n",
       "      <td>28</td>\n",
       "      <td>28_listbox_prod prod_prod_listb</td>\n",
       "      <td>[listbox, prod prod, prod, listb, info info, l...</td>\n",
       "      <td>[listbox, listb, listservicename, info, info i...</td>\n",
       "      <td>[Information on Listbox Features]</td>\n",
       "      <td>[listbox, prod prod, prod, listb, info info, l...</td>\n",
       "      <td>[ListBox, listBox, ListBox]</td>\n",
       "      <td>listbox - prod prod - prod - listb - info info...</td>\n",
       "      <td>True</td>\n",
       "      <td>2023-10-31 08:06:39.087</td>\n",
       "      <td>77394257.0</td>\n",
       "    </tr>\n",
       "    <tr>\n",
       "      <th>36516</th>\n",
       "      <td>77394187</td>\n",
       "      <td>Scrollbar</td>\n",
       "      <td>Scrollbar</td>\n",
       "      <td>Scrollbar</td>\n",
       "      <td>0</td>\n",
       "      <td>0_scrollbar_pod_dockerfile_spanid</td>\n",
       "      <td>[scrollbar, pod, dockerfile, spanid, your text...</td>\n",
       "      <td>[scrollbar, form page, page, user form, page u...</td>\n",
       "      <td>[Scrollbar Pod Dockerfile Spanid Webview]</td>\n",
       "      <td>[scrollbar, pod, dockerfile, spanid, your text...</td>\n",
       "      <td>[pod install, User Form Page, User Form Page]</td>\n",
       "      <td>scrollbar - pod - dockerfile - spanid - your t...</td>\n",
       "      <td>False</td>\n",
       "      <td>2023-10-31 08:06:39.087</td>\n",
       "      <td>77394257.0</td>\n",
       "    </tr>\n",
       "    <tr>\n",
       "      <th>36517</th>\n",
       "      <td>77394187</td>\n",
       "      <td>ListBox</td>\n",
       "      <td>ListBox</td>\n",
       "      <td>ListBox</td>\n",
       "      <td>28</td>\n",
       "      <td>28_listbox_prod prod_prod_listb</td>\n",
       "      <td>[listbox, prod prod, prod, listb, info info, l...</td>\n",
       "      <td>[listbox, listb, listservicename, info, info i...</td>\n",
       "      <td>[Information on Listbox Features]</td>\n",
       "      <td>[listbox, prod prod, prod, listb, info info, l...</td>\n",
       "      <td>[ListBox, listBox, ListBox]</td>\n",
       "      <td>listbox - prod prod - prod - listb - info info...</td>\n",
       "      <td>True</td>\n",
       "      <td>2023-10-31 08:06:39.087</td>\n",
       "      <td>77394257.0</td>\n",
       "    </tr>\n",
       "    <tr>\n",
       "      <th>36582</th>\n",
       "      <td>77394187</td>\n",
       "      <td>Scrollbar</td>\n",
       "      <td>Scrollbar</td>\n",
       "      <td>Scrollbar</td>\n",
       "      <td>0</td>\n",
       "      <td>0_scrollbar_pod_dockerfile_spanid</td>\n",
       "      <td>[scrollbar, pod, dockerfile, spanid, your text...</td>\n",
       "      <td>[scrollbar, form page, page, user form, page u...</td>\n",
       "      <td>[Scrollbar Pod Dockerfile Spanid Webview]</td>\n",
       "      <td>[scrollbar, pod, dockerfile, spanid, your text...</td>\n",
       "      <td>[pod install, User Form Page, User Form Page]</td>\n",
       "      <td>scrollbar - pod - dockerfile - spanid - your t...</td>\n",
       "      <td>False</td>\n",
       "      <td>2023-10-31 08:06:39.087</td>\n",
       "      <td>77394257.0</td>\n",
       "    </tr>\n",
       "    <tr>\n",
       "      <th>36583</th>\n",
       "      <td>77394187</td>\n",
       "      <td>ListBox</td>\n",
       "      <td>ListBox</td>\n",
       "      <td>ListBox</td>\n",
       "      <td>28</td>\n",
       "      <td>28_listbox_prod prod_prod_listb</td>\n",
       "      <td>[listbox, prod prod, prod, listb, info info, l...</td>\n",
       "      <td>[listbox, listb, listservicename, info, info i...</td>\n",
       "      <td>[Information on Listbox Features]</td>\n",
       "      <td>[listbox, prod prod, prod, listb, info info, l...</td>\n",
       "      <td>[ListBox, listBox, ListBox]</td>\n",
       "      <td>listbox - prod prod - prod - listb - info info...</td>\n",
       "      <td>True</td>\n",
       "      <td>2023-10-31 08:06:39.087</td>\n",
       "      <td>77394257.0</td>\n",
       "    </tr>\n",
       "    <tr>\n",
       "      <th>36584</th>\n",
       "      <td>77394187</td>\n",
       "      <td>ListBox</td>\n",
       "      <td>ListBox</td>\n",
       "      <td>ListBox</td>\n",
       "      <td>28</td>\n",
       "      <td>28_listbox_prod prod_prod_listb</td>\n",
       "      <td>[listbox, prod prod, prod, listb, info info, l...</td>\n",
       "      <td>[listbox, listb, listservicename, info, info i...</td>\n",
       "      <td>[Information on Listbox Features]</td>\n",
       "      <td>[listbox, prod prod, prod, listb, info info, l...</td>\n",
       "      <td>[ListBox, listBox, ListBox]</td>\n",
       "      <td>listbox - prod prod - prod - listb - info info...</td>\n",
       "      <td>True</td>\n",
       "      <td>2023-10-31 08:06:39.087</td>\n",
       "      <td>77394257.0</td>\n",
       "    </tr>\n",
       "    <tr>\n",
       "      <th>36585</th>\n",
       "      <td>77394187</td>\n",
       "      <td>Scrollbar</td>\n",
       "      <td>Scrollbar</td>\n",
       "      <td>Scrollbar</td>\n",
       "      <td>0</td>\n",
       "      <td>0_scrollbar_pod_dockerfile_spanid</td>\n",
       "      <td>[scrollbar, pod, dockerfile, spanid, your text...</td>\n",
       "      <td>[scrollbar, form page, page, user form, page u...</td>\n",
       "      <td>[Scrollbar Pod Dockerfile Spanid Webview]</td>\n",
       "      <td>[scrollbar, pod, dockerfile, spanid, your text...</td>\n",
       "      <td>[pod install, User Form Page, User Form Page]</td>\n",
       "      <td>scrollbar - pod - dockerfile - spanid - your t...</td>\n",
       "      <td>False</td>\n",
       "      <td>2023-10-31 08:06:39.087</td>\n",
       "      <td>77394257.0</td>\n",
       "    </tr>\n",
       "    <tr>\n",
       "      <th>36586</th>\n",
       "      <td>77394187</td>\n",
       "      <td>Scrollbar</td>\n",
       "      <td>Scrollbar</td>\n",
       "      <td>Scrollbar</td>\n",
       "      <td>0</td>\n",
       "      <td>0_scrollbar_pod_dockerfile_spanid</td>\n",
       "      <td>[scrollbar, pod, dockerfile, spanid, your text...</td>\n",
       "      <td>[scrollbar, form page, page, user form, page u...</td>\n",
       "      <td>[Scrollbar Pod Dockerfile Spanid Webview]</td>\n",
       "      <td>[scrollbar, pod, dockerfile, spanid, your text...</td>\n",
       "      <td>[pod install, User Form Page, User Form Page]</td>\n",
       "      <td>scrollbar - pod - dockerfile - spanid - your t...</td>\n",
       "      <td>False</td>\n",
       "      <td>2023-10-31 08:06:39.087</td>\n",
       "      <td>77394257.0</td>\n",
       "    </tr>\n",
       "    <tr>\n",
       "      <th>36587</th>\n",
       "      <td>77394187</td>\n",
       "      <td>ListBox</td>\n",
       "      <td>ListBox</td>\n",
       "      <td>ListBox</td>\n",
       "      <td>28</td>\n",
       "      <td>28_listbox_prod prod_prod_listb</td>\n",
       "      <td>[listbox, prod prod, prod, listb, info info, l...</td>\n",
       "      <td>[listbox, listb, listservicename, info, info i...</td>\n",
       "      <td>[Information on Listbox Features]</td>\n",
       "      <td>[listbox, prod prod, prod, listb, info info, l...</td>\n",
       "      <td>[ListBox, listBox, ListBox]</td>\n",
       "      <td>listbox - prod prod - prod - listb - info info...</td>\n",
       "      <td>True</td>\n",
       "      <td>2023-10-31 08:06:39.087</td>\n",
       "      <td>77394257.0</td>\n",
       "    </tr>\n",
       "    <tr>\n",
       "      <th>36588</th>\n",
       "      <td>77394187</td>\n",
       "      <td>Scrollbar</td>\n",
       "      <td>Scrollbar</td>\n",
       "      <td>Scrollbar</td>\n",
       "      <td>0</td>\n",
       "      <td>0_scrollbar_pod_dockerfile_spanid</td>\n",
       "      <td>[scrollbar, pod, dockerfile, spanid, your text...</td>\n",
       "      <td>[scrollbar, form page, page, user form, page u...</td>\n",
       "      <td>[Scrollbar Pod Dockerfile Spanid Webview]</td>\n",
       "      <td>[scrollbar, pod, dockerfile, spanid, your text...</td>\n",
       "      <td>[pod install, User Form Page, User Form Page]</td>\n",
       "      <td>scrollbar - pod - dockerfile - spanid - your t...</td>\n",
       "      <td>False</td>\n",
       "      <td>2023-10-31 08:06:39.087</td>\n",
       "      <td>77394257.0</td>\n",
       "    </tr>\n",
       "    <tr>\n",
       "      <th>36589</th>\n",
       "      <td>77394187</td>\n",
       "      <td>ListBox</td>\n",
       "      <td>ListBox</td>\n",
       "      <td>ListBox</td>\n",
       "      <td>28</td>\n",
       "      <td>28_listbox_prod prod_prod_listb</td>\n",
       "      <td>[listbox, prod prod, prod, listb, info info, l...</td>\n",
       "      <td>[listbox, listb, listservicename, info, info i...</td>\n",
       "      <td>[Information on Listbox Features]</td>\n",
       "      <td>[listbox, prod prod, prod, listb, info info, l...</td>\n",
       "      <td>[ListBox, listBox, ListBox]</td>\n",
       "      <td>listbox - prod prod - prod - listb - info info...</td>\n",
       "      <td>True</td>\n",
       "      <td>2023-10-31 08:06:39.087</td>\n",
       "      <td>77394257.0</td>\n",
       "    </tr>\n",
       "    <tr>\n",
       "      <th>36590</th>\n",
       "      <td>77394187</td>\n",
       "      <td>import tkinter as tk\\n\\ndef main():\\n    mainW...</td>\n",
       "      <td>import tkinter as tk\\ndef main():\\n\\tmainWindo...</td>\n",
       "      <td>import tkinter as tk\\ndef main():\\n\\tmainWindo...</td>\n",
       "      <td>7</td>\n",
       "      <td>7_self_np_na_1l</td>\n",
       "      <td>[self, np, na, 1l, df, end, c3, na na, dim, sl...</td>\n",
       "      <td>[numpy, numpy np, tf keras, keras, plot, data ...</td>\n",
       "      <td>[Self-representation in sleep analysis]</td>\n",
       "      <td>[self, np, na, 1l, df, end, c3, na na, dim, sl...</td>\n",
       "      <td>[import numpy as np\\nfrom keras.models import ...</td>\n",
       "      <td>self - np - na - 1l - df - end - c3 - na na - ...</td>\n",
       "      <td>False</td>\n",
       "      <td>2023-10-31 08:06:39.087</td>\n",
       "      <td>77394257.0</td>\n",
       "    </tr>\n",
       "    <tr>\n",
       "      <th>36591</th>\n",
       "      <td>77394187</td>\n",
       "      <td>Scrollbar</td>\n",
       "      <td>Scrollbar</td>\n",
       "      <td>Scrollbar</td>\n",
       "      <td>0</td>\n",
       "      <td>0_scrollbar_pod_dockerfile_spanid</td>\n",
       "      <td>[scrollbar, pod, dockerfile, spanid, your text...</td>\n",
       "      <td>[scrollbar, form page, page, user form, page u...</td>\n",
       "      <td>[Scrollbar Pod Dockerfile Spanid Webview]</td>\n",
       "      <td>[scrollbar, pod, dockerfile, spanid, your text...</td>\n",
       "      <td>[pod install, User Form Page, User Form Page]</td>\n",
       "      <td>scrollbar - pod - dockerfile - spanid - your t...</td>\n",
       "      <td>False</td>\n",
       "      <td>2023-10-31 08:06:39.087</td>\n",
       "      <td>77394257.0</td>\n",
       "    </tr>\n",
       "    <tr>\n",
       "      <th>36592</th>\n",
       "      <td>77394187</td>\n",
       "      <td>pack</td>\n",
       "      <td>pack</td>\n",
       "      <td>pack</td>\n",
       "      <td>11</td>\n",
       "      <td>11_feature feature_feature_lock lock_ger</td>\n",
       "      <td>[feature feature, feature, lock lock, ger, enu...</td>\n",
       "      <td>[feature, feature feature, boost, foo, lock, m...</td>\n",
       "      <td>[Data Processing and Feature Conversion]</td>\n",
       "      <td>[feature feature, feature, lock lock, ger, enu...</td>\n",
       "      <td>[feature, feature, Good morning Hadley]</td>\n",
       "      <td>feature feature - feature - lock lock - ger - ...</td>\n",
       "      <td>False</td>\n",
       "      <td>2023-10-31 08:06:39.087</td>\n",
       "      <td>77394257.0</td>\n",
       "    </tr>\n",
       "    <tr>\n",
       "      <th>36593</th>\n",
       "      <td>77394187</td>\n",
       "      <td>Scrollbar</td>\n",
       "      <td>Scrollbar</td>\n",
       "      <td>Scrollbar</td>\n",
       "      <td>0</td>\n",
       "      <td>0_scrollbar_pod_dockerfile_spanid</td>\n",
       "      <td>[scrollbar, pod, dockerfile, spanid, your text...</td>\n",
       "      <td>[scrollbar, form page, page, user form, page u...</td>\n",
       "      <td>[Scrollbar Pod Dockerfile Spanid Webview]</td>\n",
       "      <td>[scrollbar, pod, dockerfile, spanid, your text...</td>\n",
       "      <td>[pod install, User Form Page, User Form Page]</td>\n",
       "      <td>scrollbar - pod - dockerfile - spanid - your t...</td>\n",
       "      <td>False</td>\n",
       "      <td>2023-10-31 08:06:39.087</td>\n",
       "      <td>77394257.0</td>\n",
       "    </tr>\n",
       "    <tr>\n",
       "      <th>36594</th>\n",
       "      <td>77394187</td>\n",
       "      <td>place</td>\n",
       "      <td>place</td>\n",
       "      <td>place</td>\n",
       "      <td>11</td>\n",
       "      <td>11_feature feature_feature_lock lock_ger</td>\n",
       "      <td>[feature feature, feature, lock lock, ger, enu...</td>\n",
       "      <td>[feature, feature feature, boost, foo, lock, m...</td>\n",
       "      <td>[Data Processing and Feature Conversion]</td>\n",
       "      <td>[feature feature, feature, lock lock, ger, enu...</td>\n",
       "      <td>[feature, feature, Good morning Hadley]</td>\n",
       "      <td>feature feature - feature - lock lock - ger - ...</td>\n",
       "      <td>False</td>\n",
       "      <td>2023-10-31 08:06:39.087</td>\n",
       "      <td>77394257.0</td>\n",
       "    </tr>\n",
       "    <tr>\n",
       "      <th>36595</th>\n",
       "      <td>77394187</td>\n",
       "      <td>Scrollbar</td>\n",
       "      <td>Scrollbar</td>\n",
       "      <td>Scrollbar</td>\n",
       "      <td>0</td>\n",
       "      <td>0_scrollbar_pod_dockerfile_spanid</td>\n",
       "      <td>[scrollbar, pod, dockerfile, spanid, your text...</td>\n",
       "      <td>[scrollbar, form page, page, user form, page u...</td>\n",
       "      <td>[Scrollbar Pod Dockerfile Spanid Webview]</td>\n",
       "      <td>[scrollbar, pod, dockerfile, spanid, your text...</td>\n",
       "      <td>[pod install, User Form Page, User Form Page]</td>\n",
       "      <td>scrollbar - pod - dockerfile - spanid - your t...</td>\n",
       "      <td>False</td>\n",
       "      <td>2023-10-31 08:06:39.087</td>\n",
       "      <td>77394257.0</td>\n",
       "    </tr>\n",
       "    <tr>\n",
       "      <th>36596</th>\n",
       "      <td>77394187</td>\n",
       "      <td>listBox</td>\n",
       "      <td>listBox</td>\n",
       "      <td>listBox</td>\n",
       "      <td>28</td>\n",
       "      <td>28_listbox_prod prod_prod_listb</td>\n",
       "      <td>[listbox, prod prod, prod, listb, info info, l...</td>\n",
       "      <td>[listbox, listb, listservicename, info, info i...</td>\n",
       "      <td>[Information on Listbox Features]</td>\n",
       "      <td>[listbox, prod prod, prod, listb, info info, l...</td>\n",
       "      <td>[ListBox, listBox, ListBox]</td>\n",
       "      <td>listbox - prod prod - prod - listb - info info...</td>\n",
       "      <td>True</td>\n",
       "      <td>2023-10-31 08:06:39.087</td>\n",
       "      <td>77394257.0</td>\n",
       "    </tr>\n",
       "    <tr>\n",
       "      <th>36597</th>\n",
       "      <td>77394187</td>\n",
       "      <td>ScrollBar</td>\n",
       "      <td>ScrollBar</td>\n",
       "      <td>ScrollBar</td>\n",
       "      <td>0</td>\n",
       "      <td>0_scrollbar_pod_dockerfile_spanid</td>\n",
       "      <td>[scrollbar, pod, dockerfile, spanid, your text...</td>\n",
       "      <td>[scrollbar, form page, page, user form, page u...</td>\n",
       "      <td>[Scrollbar Pod Dockerfile Spanid Webview]</td>\n",
       "      <td>[scrollbar, pod, dockerfile, spanid, your text...</td>\n",
       "      <td>[pod install, User Form Page, User Form Page]</td>\n",
       "      <td>scrollbar - pod - dockerfile - spanid - your t...</td>\n",
       "      <td>False</td>\n",
       "      <td>2023-10-31 08:06:39.087</td>\n",
       "      <td>77394257.0</td>\n",
       "    </tr>\n",
       "    <tr>\n",
       "      <th>36598</th>\n",
       "      <td>77394187</td>\n",
       "      <td>mainWindow</td>\n",
       "      <td>mainWindow</td>\n",
       "      <td>mainWindow</td>\n",
       "      <td>0</td>\n",
       "      <td>0_scrollbar_pod_dockerfile_spanid</td>\n",
       "      <td>[scrollbar, pod, dockerfile, spanid, your text...</td>\n",
       "      <td>[scrollbar, form page, page, user form, page u...</td>\n",
       "      <td>[Scrollbar Pod Dockerfile Spanid Webview]</td>\n",
       "      <td>[scrollbar, pod, dockerfile, spanid, your text...</td>\n",
       "      <td>[pod install, User Form Page, User Form Page]</td>\n",
       "      <td>scrollbar - pod - dockerfile - spanid - your t...</td>\n",
       "      <td>False</td>\n",
       "      <td>2023-10-31 08:06:39.087</td>\n",
       "      <td>77394257.0</td>\n",
       "    </tr>\n",
       "    <tr>\n",
       "      <th>36599</th>\n",
       "      <td>77394187</td>\n",
       "      <td>ScrollBar</td>\n",
       "      <td>ScrollBar</td>\n",
       "      <td>ScrollBar</td>\n",
       "      <td>0</td>\n",
       "      <td>0_scrollbar_pod_dockerfile_spanid</td>\n",
       "      <td>[scrollbar, pod, dockerfile, spanid, your text...</td>\n",
       "      <td>[scrollbar, form page, page, user form, page u...</td>\n",
       "      <td>[Scrollbar Pod Dockerfile Spanid Webview]</td>\n",
       "      <td>[scrollbar, pod, dockerfile, spanid, your text...</td>\n",
       "      <td>[pod install, User Form Page, User Form Page]</td>\n",
       "      <td>scrollbar - pod - dockerfile - spanid - your t...</td>\n",
       "      <td>False</td>\n",
       "      <td>2023-10-31 08:06:39.087</td>\n",
       "      <td>77394257.0</td>\n",
       "    </tr>\n",
       "    <tr>\n",
       "      <th>36600</th>\n",
       "      <td>77394187</td>\n",
       "      <td>ListBox</td>\n",
       "      <td>ListBox</td>\n",
       "      <td>ListBox</td>\n",
       "      <td>28</td>\n",
       "      <td>28_listbox_prod prod_prod_listb</td>\n",
       "      <td>[listbox, prod prod, prod, listb, info info, l...</td>\n",
       "      <td>[listbox, listb, listservicename, info, info i...</td>\n",
       "      <td>[Information on Listbox Features]</td>\n",
       "      <td>[listbox, prod prod, prod, listb, info info, l...</td>\n",
       "      <td>[ListBox, listBox, ListBox]</td>\n",
       "      <td>listbox - prod prod - prod - listb - info info...</td>\n",
       "      <td>True</td>\n",
       "      <td>2023-10-31 08:06:39.087</td>\n",
       "      <td>77394257.0</td>\n",
       "    </tr>\n",
       "    <tr>\n",
       "      <th>36601</th>\n",
       "      <td>77394187</td>\n",
       "      <td>ScrollBar</td>\n",
       "      <td>ScrollBar</td>\n",
       "      <td>ScrollBar</td>\n",
       "      <td>0</td>\n",
       "      <td>0_scrollbar_pod_dockerfile_spanid</td>\n",
       "      <td>[scrollbar, pod, dockerfile, spanid, your text...</td>\n",
       "      <td>[scrollbar, form page, page, user form, page u...</td>\n",
       "      <td>[Scrollbar Pod Dockerfile Spanid Webview]</td>\n",
       "      <td>[scrollbar, pod, dockerfile, spanid, your text...</td>\n",
       "      <td>[pod install, User Form Page, User Form Page]</td>\n",
       "      <td>scrollbar - pod - dockerfile - spanid - your t...</td>\n",
       "      <td>False</td>\n",
       "      <td>2023-10-31 08:06:39.087</td>\n",
       "      <td>77394257.0</td>\n",
       "    </tr>\n",
       "    <tr>\n",
       "      <th>36602</th>\n",
       "      <td>77394187</td>\n",
       "      <td>ListBox</td>\n",
       "      <td>ListBox</td>\n",
       "      <td>ListBox</td>\n",
       "      <td>28</td>\n",
       "      <td>28_listbox_prod prod_prod_listb</td>\n",
       "      <td>[listbox, prod prod, prod, listb, info info, l...</td>\n",
       "      <td>[listbox, listb, listservicename, info, info i...</td>\n",
       "      <td>[Information on Listbox Features]</td>\n",
       "      <td>[listbox, prod prod, prod, listb, info info, l...</td>\n",
       "      <td>[ListBox, listBox, ListBox]</td>\n",
       "      <td>listbox - prod prod - prod - listb - info info...</td>\n",
       "      <td>True</td>\n",
       "      <td>2023-10-31 08:06:39.087</td>\n",
       "      <td>77394257.0</td>\n",
       "    </tr>\n",
       "    <tr>\n",
       "      <th>36603</th>\n",
       "      <td>77394187</td>\n",
       "      <td>yscrollcommand</td>\n",
       "      <td>yscrollcommand</td>\n",
       "      <td>yscrollcommand</td>\n",
       "      <td>9</td>\n",
       "      <td>9_npm run_install_npm_git</td>\n",
       "      <td>[npm run, install, npm, git, docker compose, c...</td>\n",
       "      <td>[docker compose, docker, compose up, docker pu...</td>\n",
       "      <td>[Dockerized npm Installation with Git]</td>\n",
       "      <td>[npm run, install, npm, git, docker compose, c...</td>\n",
       "      <td>[docker compose up, docker-compose up -d, dock...</td>\n",
       "      <td>npm run - install - npm - git - docker compose...</td>\n",
       "      <td>False</td>\n",
       "      <td>2023-10-31 08:06:39.087</td>\n",
       "      <td>77394257.0</td>\n",
       "    </tr>\n",
       "    <tr>\n",
       "      <th>36604</th>\n",
       "      <td>77394187</td>\n",
       "      <td>yscrollcommand</td>\n",
       "      <td>yscrollcommand</td>\n",
       "      <td>yscrollcommand</td>\n",
       "      <td>9</td>\n",
       "      <td>9_npm run_install_npm_git</td>\n",
       "      <td>[npm run, install, npm, git, docker compose, c...</td>\n",
       "      <td>[docker compose, docker, compose up, docker pu...</td>\n",
       "      <td>[Dockerized npm Installation with Git]</td>\n",
       "      <td>[npm run, install, npm, git, docker compose, c...</td>\n",
       "      <td>[docker compose up, docker-compose up -d, dock...</td>\n",
       "      <td>npm run - install - npm - git - docker compose...</td>\n",
       "      <td>False</td>\n",
       "      <td>2023-10-31 08:06:39.087</td>\n",
       "      <td>77394257.0</td>\n",
       "    </tr>\n",
       "    <tr>\n",
       "      <th>36605</th>\n",
       "      <td>77394187</td>\n",
       "      <td>ListBox</td>\n",
       "      <td>ListBox</td>\n",
       "      <td>ListBox</td>\n",
       "      <td>28</td>\n",
       "      <td>28_listbox_prod prod_prod_listb</td>\n",
       "      <td>[listbox, prod prod, prod, listb, info info, l...</td>\n",
       "      <td>[listbox, listb, listservicename, info, info i...</td>\n",
       "      <td>[Information on Listbox Features]</td>\n",
       "      <td>[listbox, prod prod, prod, listb, info info, l...</td>\n",
       "      <td>[ListBox, listBox, ListBox]</td>\n",
       "      <td>listbox - prod prod - prod - listb - info info...</td>\n",
       "      <td>True</td>\n",
       "      <td>2023-10-31 08:06:39.087</td>\n",
       "      <td>77394257.0</td>\n",
       "    </tr>\n",
       "    <tr>\n",
       "      <th>36606</th>\n",
       "      <td>77394187</td>\n",
       "      <td>Scrollbar</td>\n",
       "      <td>Scrollbar</td>\n",
       "      <td>Scrollbar</td>\n",
       "      <td>0</td>\n",
       "      <td>0_scrollbar_pod_dockerfile_spanid</td>\n",
       "      <td>[scrollbar, pod, dockerfile, spanid, your text...</td>\n",
       "      <td>[scrollbar, form page, page, user form, page u...</td>\n",
       "      <td>[Scrollbar Pod Dockerfile Spanid Webview]</td>\n",
       "      <td>[scrollbar, pod, dockerfile, spanid, your text...</td>\n",
       "      <td>[pod install, User Form Page, User Form Page]</td>\n",
       "      <td>scrollbar - pod - dockerfile - spanid - your t...</td>\n",
       "      <td>False</td>\n",
       "      <td>2023-10-31 08:06:39.087</td>\n",
       "      <td>77394257.0</td>\n",
       "    </tr>\n",
       "    <tr>\n",
       "      <th>36607</th>\n",
       "      <td>77394187</td>\n",
       "      <td>ListBox</td>\n",
       "      <td>ListBox</td>\n",
       "      <td>ListBox</td>\n",
       "      <td>28</td>\n",
       "      <td>28_listbox_prod prod_prod_listb</td>\n",
       "      <td>[listbox, prod prod, prod, listb, info info, l...</td>\n",
       "      <td>[listbox, listb, listservicename, info, info i...</td>\n",
       "      <td>[Information on Listbox Features]</td>\n",
       "      <td>[listbox, prod prod, prod, listb, info info, l...</td>\n",
       "      <td>[ListBox, listBox, ListBox]</td>\n",
       "      <td>listbox - prod prod - prod - listb - info info...</td>\n",
       "      <td>True</td>\n",
       "      <td>2023-10-31 08:06:39.087</td>\n",
       "      <td>77394257.0</td>\n",
       "    </tr>\n",
       "  </tbody>\n",
       "</table>\n",
       "</div>"
      ],
      "text/plain": [
       "           q_id                                        q_prep_text  \\\n",
       "36492  77394187                                          Scrollbar   \n",
       "36493  77394187                                            ListBox   \n",
       "36494  77394187                                            ListBox   \n",
       "36495  77394187                                          Scrollbar   \n",
       "36496  77394187                                          Scrollbar   \n",
       "36497  77394187                                            ListBox   \n",
       "36498  77394187                                          Scrollbar   \n",
       "36499  77394187                                            ListBox   \n",
       "36500  77394187  import tkinter as tk\\n\\ndef main():\\n    mainW...   \n",
       "36501  77394187                                          Scrollbar   \n",
       "36502  77394187                                               pack   \n",
       "36503  77394187                                          Scrollbar   \n",
       "36504  77394187                                              place   \n",
       "36505  77394187                                          Scrollbar   \n",
       "36506  77394187                                            listBox   \n",
       "36507  77394187                                          ScrollBar   \n",
       "36508  77394187                                         mainWindow   \n",
       "36509  77394187                                          ScrollBar   \n",
       "36510  77394187                                            ListBox   \n",
       "36511  77394187                                          ScrollBar   \n",
       "36512  77394187                                            ListBox   \n",
       "36513  77394187                                     yscrollcommand   \n",
       "36514  77394187                                     yscrollcommand   \n",
       "36515  77394187                                            ListBox   \n",
       "36516  77394187                                          Scrollbar   \n",
       "36517  77394187                                            ListBox   \n",
       "36582  77394187                                          Scrollbar   \n",
       "36583  77394187                                            ListBox   \n",
       "36584  77394187                                            ListBox   \n",
       "36585  77394187                                          Scrollbar   \n",
       "36586  77394187                                          Scrollbar   \n",
       "36587  77394187                                            ListBox   \n",
       "36588  77394187                                          Scrollbar   \n",
       "36589  77394187                                            ListBox   \n",
       "36590  77394187  import tkinter as tk\\n\\ndef main():\\n    mainW...   \n",
       "36591  77394187                                          Scrollbar   \n",
       "36592  77394187                                               pack   \n",
       "36593  77394187                                          Scrollbar   \n",
       "36594  77394187                                              place   \n",
       "36595  77394187                                          Scrollbar   \n",
       "36596  77394187                                            listBox   \n",
       "36597  77394187                                          ScrollBar   \n",
       "36598  77394187                                         mainWindow   \n",
       "36599  77394187                                          ScrollBar   \n",
       "36600  77394187                                            ListBox   \n",
       "36601  77394187                                          ScrollBar   \n",
       "36602  77394187                                            ListBox   \n",
       "36603  77394187                                     yscrollcommand   \n",
       "36604  77394187                                     yscrollcommand   \n",
       "36605  77394187                                            ListBox   \n",
       "36606  77394187                                          Scrollbar   \n",
       "36607  77394187                                            ListBox   \n",
       "\n",
       "                                         q_prep_text_non  \\\n",
       "36492                                          Scrollbar   \n",
       "36493                                            ListBox   \n",
       "36494                                            ListBox   \n",
       "36495                                          Scrollbar   \n",
       "36496                                          Scrollbar   \n",
       "36497                                            ListBox   \n",
       "36498                                          Scrollbar   \n",
       "36499                                            ListBox   \n",
       "36500  import tkinter as tk\\ndef main():\\n\\tmainWindo...   \n",
       "36501                                          Scrollbar   \n",
       "36502                                               pack   \n",
       "36503                                          Scrollbar   \n",
       "36504                                              place   \n",
       "36505                                          Scrollbar   \n",
       "36506                                            listBox   \n",
       "36507                                          ScrollBar   \n",
       "36508                                         mainWindow   \n",
       "36509                                          ScrollBar   \n",
       "36510                                            ListBox   \n",
       "36511                                          ScrollBar   \n",
       "36512                                            ListBox   \n",
       "36513                                     yscrollcommand   \n",
       "36514                                     yscrollcommand   \n",
       "36515                                            ListBox   \n",
       "36516                                          Scrollbar   \n",
       "36517                                            ListBox   \n",
       "36582                                          Scrollbar   \n",
       "36583                                            ListBox   \n",
       "36584                                            ListBox   \n",
       "36585                                          Scrollbar   \n",
       "36586                                          Scrollbar   \n",
       "36587                                            ListBox   \n",
       "36588                                          Scrollbar   \n",
       "36589                                            ListBox   \n",
       "36590  import tkinter as tk\\ndef main():\\n\\tmainWindo...   \n",
       "36591                                          Scrollbar   \n",
       "36592                                               pack   \n",
       "36593                                          Scrollbar   \n",
       "36594                                              place   \n",
       "36595                                          Scrollbar   \n",
       "36596                                            listBox   \n",
       "36597                                          ScrollBar   \n",
       "36598                                         mainWindow   \n",
       "36599                                          ScrollBar   \n",
       "36600                                            ListBox   \n",
       "36601                                          ScrollBar   \n",
       "36602                                            ListBox   \n",
       "36603                                     yscrollcommand   \n",
       "36604                                     yscrollcommand   \n",
       "36605                                            ListBox   \n",
       "36606                                          Scrollbar   \n",
       "36607                                            ListBox   \n",
       "\n",
       "                                                Document  Topic  \\\n",
       "36492                                          Scrollbar      0   \n",
       "36493                                            ListBox     28   \n",
       "36494                                            ListBox     28   \n",
       "36495                                          Scrollbar      0   \n",
       "36496                                          Scrollbar      0   \n",
       "36497                                            ListBox     28   \n",
       "36498                                          Scrollbar      0   \n",
       "36499                                            ListBox     28   \n",
       "36500  import tkinter as tk\\ndef main():\\n\\tmainWindo...      7   \n",
       "36501                                          Scrollbar      0   \n",
       "36502                                               pack     11   \n",
       "36503                                          Scrollbar      0   \n",
       "36504                                              place     11   \n",
       "36505                                          Scrollbar      0   \n",
       "36506                                            listBox     28   \n",
       "36507                                          ScrollBar      0   \n",
       "36508                                         mainWindow      0   \n",
       "36509                                          ScrollBar      0   \n",
       "36510                                            ListBox     28   \n",
       "36511                                          ScrollBar      0   \n",
       "36512                                            ListBox     28   \n",
       "36513                                     yscrollcommand      9   \n",
       "36514                                     yscrollcommand      9   \n",
       "36515                                            ListBox     28   \n",
       "36516                                          Scrollbar      0   \n",
       "36517                                            ListBox     28   \n",
       "36582                                          Scrollbar      0   \n",
       "36583                                            ListBox     28   \n",
       "36584                                            ListBox     28   \n",
       "36585                                          Scrollbar      0   \n",
       "36586                                          Scrollbar      0   \n",
       "36587                                            ListBox     28   \n",
       "36588                                          Scrollbar      0   \n",
       "36589                                            ListBox     28   \n",
       "36590  import tkinter as tk\\ndef main():\\n\\tmainWindo...      7   \n",
       "36591                                          Scrollbar      0   \n",
       "36592                                               pack     11   \n",
       "36593                                          Scrollbar      0   \n",
       "36594                                              place     11   \n",
       "36595                                          Scrollbar      0   \n",
       "36596                                            listBox     28   \n",
       "36597                                          ScrollBar      0   \n",
       "36598                                         mainWindow      0   \n",
       "36599                                          ScrollBar      0   \n",
       "36600                                            ListBox     28   \n",
       "36601                                          ScrollBar      0   \n",
       "36602                                            ListBox     28   \n",
       "36603                                     yscrollcommand      9   \n",
       "36604                                     yscrollcommand      9   \n",
       "36605                                            ListBox     28   \n",
       "36606                                          Scrollbar      0   \n",
       "36607                                            ListBox     28   \n",
       "\n",
       "                                           Name  \\\n",
       "36492         0_scrollbar_pod_dockerfile_spanid   \n",
       "36493           28_listbox_prod prod_prod_listb   \n",
       "36494           28_listbox_prod prod_prod_listb   \n",
       "36495         0_scrollbar_pod_dockerfile_spanid   \n",
       "36496         0_scrollbar_pod_dockerfile_spanid   \n",
       "36497           28_listbox_prod prod_prod_listb   \n",
       "36498         0_scrollbar_pod_dockerfile_spanid   \n",
       "36499           28_listbox_prod prod_prod_listb   \n",
       "36500                           7_self_np_na_1l   \n",
       "36501         0_scrollbar_pod_dockerfile_spanid   \n",
       "36502  11_feature feature_feature_lock lock_ger   \n",
       "36503         0_scrollbar_pod_dockerfile_spanid   \n",
       "36504  11_feature feature_feature_lock lock_ger   \n",
       "36505         0_scrollbar_pod_dockerfile_spanid   \n",
       "36506           28_listbox_prod prod_prod_listb   \n",
       "36507         0_scrollbar_pod_dockerfile_spanid   \n",
       "36508         0_scrollbar_pod_dockerfile_spanid   \n",
       "36509         0_scrollbar_pod_dockerfile_spanid   \n",
       "36510           28_listbox_prod prod_prod_listb   \n",
       "36511         0_scrollbar_pod_dockerfile_spanid   \n",
       "36512           28_listbox_prod prod_prod_listb   \n",
       "36513                 9_npm run_install_npm_git   \n",
       "36514                 9_npm run_install_npm_git   \n",
       "36515           28_listbox_prod prod_prod_listb   \n",
       "36516         0_scrollbar_pod_dockerfile_spanid   \n",
       "36517           28_listbox_prod prod_prod_listb   \n",
       "36582         0_scrollbar_pod_dockerfile_spanid   \n",
       "36583           28_listbox_prod prod_prod_listb   \n",
       "36584           28_listbox_prod prod_prod_listb   \n",
       "36585         0_scrollbar_pod_dockerfile_spanid   \n",
       "36586         0_scrollbar_pod_dockerfile_spanid   \n",
       "36587           28_listbox_prod prod_prod_listb   \n",
       "36588         0_scrollbar_pod_dockerfile_spanid   \n",
       "36589           28_listbox_prod prod_prod_listb   \n",
       "36590                           7_self_np_na_1l   \n",
       "36591         0_scrollbar_pod_dockerfile_spanid   \n",
       "36592  11_feature feature_feature_lock lock_ger   \n",
       "36593         0_scrollbar_pod_dockerfile_spanid   \n",
       "36594  11_feature feature_feature_lock lock_ger   \n",
       "36595         0_scrollbar_pod_dockerfile_spanid   \n",
       "36596           28_listbox_prod prod_prod_listb   \n",
       "36597         0_scrollbar_pod_dockerfile_spanid   \n",
       "36598         0_scrollbar_pod_dockerfile_spanid   \n",
       "36599         0_scrollbar_pod_dockerfile_spanid   \n",
       "36600           28_listbox_prod prod_prod_listb   \n",
       "36601         0_scrollbar_pod_dockerfile_spanid   \n",
       "36602           28_listbox_prod prod_prod_listb   \n",
       "36603                 9_npm run_install_npm_git   \n",
       "36604                 9_npm run_install_npm_git   \n",
       "36605           28_listbox_prod prod_prod_listb   \n",
       "36606         0_scrollbar_pod_dockerfile_spanid   \n",
       "36607           28_listbox_prod prod_prod_listb   \n",
       "\n",
       "                                          Representation  \\\n",
       "36492  [scrollbar, pod, dockerfile, spanid, your text...   \n",
       "36493  [listbox, prod prod, prod, listb, info info, l...   \n",
       "36494  [listbox, prod prod, prod, listb, info info, l...   \n",
       "36495  [scrollbar, pod, dockerfile, spanid, your text...   \n",
       "36496  [scrollbar, pod, dockerfile, spanid, your text...   \n",
       "36497  [listbox, prod prod, prod, listb, info info, l...   \n",
       "36498  [scrollbar, pod, dockerfile, spanid, your text...   \n",
       "36499  [listbox, prod prod, prod, listb, info info, l...   \n",
       "36500  [self, np, na, 1l, df, end, c3, na na, dim, sl...   \n",
       "36501  [scrollbar, pod, dockerfile, spanid, your text...   \n",
       "36502  [feature feature, feature, lock lock, ger, enu...   \n",
       "36503  [scrollbar, pod, dockerfile, spanid, your text...   \n",
       "36504  [feature feature, feature, lock lock, ger, enu...   \n",
       "36505  [scrollbar, pod, dockerfile, spanid, your text...   \n",
       "36506  [listbox, prod prod, prod, listb, info info, l...   \n",
       "36507  [scrollbar, pod, dockerfile, spanid, your text...   \n",
       "36508  [scrollbar, pod, dockerfile, spanid, your text...   \n",
       "36509  [scrollbar, pod, dockerfile, spanid, your text...   \n",
       "36510  [listbox, prod prod, prod, listb, info info, l...   \n",
       "36511  [scrollbar, pod, dockerfile, spanid, your text...   \n",
       "36512  [listbox, prod prod, prod, listb, info info, l...   \n",
       "36513  [npm run, install, npm, git, docker compose, c...   \n",
       "36514  [npm run, install, npm, git, docker compose, c...   \n",
       "36515  [listbox, prod prod, prod, listb, info info, l...   \n",
       "36516  [scrollbar, pod, dockerfile, spanid, your text...   \n",
       "36517  [listbox, prod prod, prod, listb, info info, l...   \n",
       "36582  [scrollbar, pod, dockerfile, spanid, your text...   \n",
       "36583  [listbox, prod prod, prod, listb, info info, l...   \n",
       "36584  [listbox, prod prod, prod, listb, info info, l...   \n",
       "36585  [scrollbar, pod, dockerfile, spanid, your text...   \n",
       "36586  [scrollbar, pod, dockerfile, spanid, your text...   \n",
       "36587  [listbox, prod prod, prod, listb, info info, l...   \n",
       "36588  [scrollbar, pod, dockerfile, spanid, your text...   \n",
       "36589  [listbox, prod prod, prod, listb, info info, l...   \n",
       "36590  [self, np, na, 1l, df, end, c3, na na, dim, sl...   \n",
       "36591  [scrollbar, pod, dockerfile, spanid, your text...   \n",
       "36592  [feature feature, feature, lock lock, ger, enu...   \n",
       "36593  [scrollbar, pod, dockerfile, spanid, your text...   \n",
       "36594  [feature feature, feature, lock lock, ger, enu...   \n",
       "36595  [scrollbar, pod, dockerfile, spanid, your text...   \n",
       "36596  [listbox, prod prod, prod, listb, info info, l...   \n",
       "36597  [scrollbar, pod, dockerfile, spanid, your text...   \n",
       "36598  [scrollbar, pod, dockerfile, spanid, your text...   \n",
       "36599  [scrollbar, pod, dockerfile, spanid, your text...   \n",
       "36600  [listbox, prod prod, prod, listb, info info, l...   \n",
       "36601  [scrollbar, pod, dockerfile, spanid, your text...   \n",
       "36602  [listbox, prod prod, prod, listb, info info, l...   \n",
       "36603  [npm run, install, npm, git, docker compose, c...   \n",
       "36604  [npm run, install, npm, git, docker compose, c...   \n",
       "36605  [listbox, prod prod, prod, listb, info info, l...   \n",
       "36606  [scrollbar, pod, dockerfile, spanid, your text...   \n",
       "36607  [listbox, prod prod, prod, listb, info info, l...   \n",
       "\n",
       "                                                 KeyBERT  \\\n",
       "36492  [scrollbar, form page, page, user form, page u...   \n",
       "36493  [listbox, listb, listservicename, info, info i...   \n",
       "36494  [listbox, listb, listservicename, info, info i...   \n",
       "36495  [scrollbar, form page, page, user form, page u...   \n",
       "36496  [scrollbar, form page, page, user form, page u...   \n",
       "36497  [listbox, listb, listservicename, info, info i...   \n",
       "36498  [scrollbar, form page, page, user form, page u...   \n",
       "36499  [listbox, listb, listservicename, info, info i...   \n",
       "36500  [numpy, numpy np, tf keras, keras, plot, data ...   \n",
       "36501  [scrollbar, form page, page, user form, page u...   \n",
       "36502  [feature, feature feature, boost, foo, lock, m...   \n",
       "36503  [scrollbar, form page, page, user form, page u...   \n",
       "36504  [feature, feature feature, boost, foo, lock, m...   \n",
       "36505  [scrollbar, form page, page, user form, page u...   \n",
       "36506  [listbox, listb, listservicename, info, info i...   \n",
       "36507  [scrollbar, form page, page, user form, page u...   \n",
       "36508  [scrollbar, form page, page, user form, page u...   \n",
       "36509  [scrollbar, form page, page, user form, page u...   \n",
       "36510  [listbox, listb, listservicename, info, info i...   \n",
       "36511  [scrollbar, form page, page, user form, page u...   \n",
       "36512  [listbox, listb, listservicename, info, info i...   \n",
       "36513  [docker compose, docker, compose up, docker pu...   \n",
       "36514  [docker compose, docker, compose up, docker pu...   \n",
       "36515  [listbox, listb, listservicename, info, info i...   \n",
       "36516  [scrollbar, form page, page, user form, page u...   \n",
       "36517  [listbox, listb, listservicename, info, info i...   \n",
       "36582  [scrollbar, form page, page, user form, page u...   \n",
       "36583  [listbox, listb, listservicename, info, info i...   \n",
       "36584  [listbox, listb, listservicename, info, info i...   \n",
       "36585  [scrollbar, form page, page, user form, page u...   \n",
       "36586  [scrollbar, form page, page, user form, page u...   \n",
       "36587  [listbox, listb, listservicename, info, info i...   \n",
       "36588  [scrollbar, form page, page, user form, page u...   \n",
       "36589  [listbox, listb, listservicename, info, info i...   \n",
       "36590  [numpy, numpy np, tf keras, keras, plot, data ...   \n",
       "36591  [scrollbar, form page, page, user form, page u...   \n",
       "36592  [feature, feature feature, boost, foo, lock, m...   \n",
       "36593  [scrollbar, form page, page, user form, page u...   \n",
       "36594  [feature, feature feature, boost, foo, lock, m...   \n",
       "36595  [scrollbar, form page, page, user form, page u...   \n",
       "36596  [listbox, listb, listservicename, info, info i...   \n",
       "36597  [scrollbar, form page, page, user form, page u...   \n",
       "36598  [scrollbar, form page, page, user form, page u...   \n",
       "36599  [scrollbar, form page, page, user form, page u...   \n",
       "36600  [listbox, listb, listservicename, info, info i...   \n",
       "36601  [scrollbar, form page, page, user form, page u...   \n",
       "36602  [listbox, listb, listservicename, info, info i...   \n",
       "36603  [docker compose, docker, compose up, docker pu...   \n",
       "36604  [docker compose, docker, compose up, docker pu...   \n",
       "36605  [listbox, listb, listservicename, info, info i...   \n",
       "36606  [scrollbar, form page, page, user form, page u...   \n",
       "36607  [listbox, listb, listservicename, info, info i...   \n",
       "\n",
       "                                          OpenAI  \\\n",
       "36492  [Scrollbar Pod Dockerfile Spanid Webview]   \n",
       "36493          [Information on Listbox Features]   \n",
       "36494          [Information on Listbox Features]   \n",
       "36495  [Scrollbar Pod Dockerfile Spanid Webview]   \n",
       "36496  [Scrollbar Pod Dockerfile Spanid Webview]   \n",
       "36497          [Information on Listbox Features]   \n",
       "36498  [Scrollbar Pod Dockerfile Spanid Webview]   \n",
       "36499          [Information on Listbox Features]   \n",
       "36500    [Self-representation in sleep analysis]   \n",
       "36501  [Scrollbar Pod Dockerfile Spanid Webview]   \n",
       "36502   [Data Processing and Feature Conversion]   \n",
       "36503  [Scrollbar Pod Dockerfile Spanid Webview]   \n",
       "36504   [Data Processing and Feature Conversion]   \n",
       "36505  [Scrollbar Pod Dockerfile Spanid Webview]   \n",
       "36506          [Information on Listbox Features]   \n",
       "36507  [Scrollbar Pod Dockerfile Spanid Webview]   \n",
       "36508  [Scrollbar Pod Dockerfile Spanid Webview]   \n",
       "36509  [Scrollbar Pod Dockerfile Spanid Webview]   \n",
       "36510          [Information on Listbox Features]   \n",
       "36511  [Scrollbar Pod Dockerfile Spanid Webview]   \n",
       "36512          [Information on Listbox Features]   \n",
       "36513     [Dockerized npm Installation with Git]   \n",
       "36514     [Dockerized npm Installation with Git]   \n",
       "36515          [Information on Listbox Features]   \n",
       "36516  [Scrollbar Pod Dockerfile Spanid Webview]   \n",
       "36517          [Information on Listbox Features]   \n",
       "36582  [Scrollbar Pod Dockerfile Spanid Webview]   \n",
       "36583          [Information on Listbox Features]   \n",
       "36584          [Information on Listbox Features]   \n",
       "36585  [Scrollbar Pod Dockerfile Spanid Webview]   \n",
       "36586  [Scrollbar Pod Dockerfile Spanid Webview]   \n",
       "36587          [Information on Listbox Features]   \n",
       "36588  [Scrollbar Pod Dockerfile Spanid Webview]   \n",
       "36589          [Information on Listbox Features]   \n",
       "36590    [Self-representation in sleep analysis]   \n",
       "36591  [Scrollbar Pod Dockerfile Spanid Webview]   \n",
       "36592   [Data Processing and Feature Conversion]   \n",
       "36593  [Scrollbar Pod Dockerfile Spanid Webview]   \n",
       "36594   [Data Processing and Feature Conversion]   \n",
       "36595  [Scrollbar Pod Dockerfile Spanid Webview]   \n",
       "36596          [Information on Listbox Features]   \n",
       "36597  [Scrollbar Pod Dockerfile Spanid Webview]   \n",
       "36598  [Scrollbar Pod Dockerfile Spanid Webview]   \n",
       "36599  [Scrollbar Pod Dockerfile Spanid Webview]   \n",
       "36600          [Information on Listbox Features]   \n",
       "36601  [Scrollbar Pod Dockerfile Spanid Webview]   \n",
       "36602          [Information on Listbox Features]   \n",
       "36603     [Dockerized npm Installation with Git]   \n",
       "36604     [Dockerized npm Installation with Git]   \n",
       "36605          [Information on Listbox Features]   \n",
       "36606  [Scrollbar Pod Dockerfile Spanid Webview]   \n",
       "36607          [Information on Listbox Features]   \n",
       "\n",
       "                                                     MMR  \\\n",
       "36492  [scrollbar, pod, dockerfile, spanid, your text...   \n",
       "36493  [listbox, prod prod, prod, listb, info info, l...   \n",
       "36494  [listbox, prod prod, prod, listb, info info, l...   \n",
       "36495  [scrollbar, pod, dockerfile, spanid, your text...   \n",
       "36496  [scrollbar, pod, dockerfile, spanid, your text...   \n",
       "36497  [listbox, prod prod, prod, listb, info info, l...   \n",
       "36498  [scrollbar, pod, dockerfile, spanid, your text...   \n",
       "36499  [listbox, prod prod, prod, listb, info info, l...   \n",
       "36500  [self, np, na, 1l, df, end, c3, na na, dim, sl...   \n",
       "36501  [scrollbar, pod, dockerfile, spanid, your text...   \n",
       "36502  [feature feature, feature, lock lock, ger, enu...   \n",
       "36503  [scrollbar, pod, dockerfile, spanid, your text...   \n",
       "36504  [feature feature, feature, lock lock, ger, enu...   \n",
       "36505  [scrollbar, pod, dockerfile, spanid, your text...   \n",
       "36506  [listbox, prod prod, prod, listb, info info, l...   \n",
       "36507  [scrollbar, pod, dockerfile, spanid, your text...   \n",
       "36508  [scrollbar, pod, dockerfile, spanid, your text...   \n",
       "36509  [scrollbar, pod, dockerfile, spanid, your text...   \n",
       "36510  [listbox, prod prod, prod, listb, info info, l...   \n",
       "36511  [scrollbar, pod, dockerfile, spanid, your text...   \n",
       "36512  [listbox, prod prod, prod, listb, info info, l...   \n",
       "36513  [npm run, install, npm, git, docker compose, c...   \n",
       "36514  [npm run, install, npm, git, docker compose, c...   \n",
       "36515  [listbox, prod prod, prod, listb, info info, l...   \n",
       "36516  [scrollbar, pod, dockerfile, spanid, your text...   \n",
       "36517  [listbox, prod prod, prod, listb, info info, l...   \n",
       "36582  [scrollbar, pod, dockerfile, spanid, your text...   \n",
       "36583  [listbox, prod prod, prod, listb, info info, l...   \n",
       "36584  [listbox, prod prod, prod, listb, info info, l...   \n",
       "36585  [scrollbar, pod, dockerfile, spanid, your text...   \n",
       "36586  [scrollbar, pod, dockerfile, spanid, your text...   \n",
       "36587  [listbox, prod prod, prod, listb, info info, l...   \n",
       "36588  [scrollbar, pod, dockerfile, spanid, your text...   \n",
       "36589  [listbox, prod prod, prod, listb, info info, l...   \n",
       "36590  [self, np, na, 1l, df, end, c3, na na, dim, sl...   \n",
       "36591  [scrollbar, pod, dockerfile, spanid, your text...   \n",
       "36592  [feature feature, feature, lock lock, ger, enu...   \n",
       "36593  [scrollbar, pod, dockerfile, spanid, your text...   \n",
       "36594  [feature feature, feature, lock lock, ger, enu...   \n",
       "36595  [scrollbar, pod, dockerfile, spanid, your text...   \n",
       "36596  [listbox, prod prod, prod, listb, info info, l...   \n",
       "36597  [scrollbar, pod, dockerfile, spanid, your text...   \n",
       "36598  [scrollbar, pod, dockerfile, spanid, your text...   \n",
       "36599  [scrollbar, pod, dockerfile, spanid, your text...   \n",
       "36600  [listbox, prod prod, prod, listb, info info, l...   \n",
       "36601  [scrollbar, pod, dockerfile, spanid, your text...   \n",
       "36602  [listbox, prod prod, prod, listb, info info, l...   \n",
       "36603  [npm run, install, npm, git, docker compose, c...   \n",
       "36604  [npm run, install, npm, git, docker compose, c...   \n",
       "36605  [listbox, prod prod, prod, listb, info info, l...   \n",
       "36606  [scrollbar, pod, dockerfile, spanid, your text...   \n",
       "36607  [listbox, prod prod, prod, listb, info info, l...   \n",
       "\n",
       "                                     Representative_Docs  \\\n",
       "36492      [pod install, User Form Page, User Form Page]   \n",
       "36493                        [ListBox, listBox, ListBox]   \n",
       "36494                        [ListBox, listBox, ListBox]   \n",
       "36495      [pod install, User Form Page, User Form Page]   \n",
       "36496      [pod install, User Form Page, User Form Page]   \n",
       "36497                        [ListBox, listBox, ListBox]   \n",
       "36498      [pod install, User Form Page, User Form Page]   \n",
       "36499                        [ListBox, listBox, ListBox]   \n",
       "36500  [import numpy as np\\nfrom keras.models import ...   \n",
       "36501      [pod install, User Form Page, User Form Page]   \n",
       "36502            [feature, feature, Good morning Hadley]   \n",
       "36503      [pod install, User Form Page, User Form Page]   \n",
       "36504            [feature, feature, Good morning Hadley]   \n",
       "36505      [pod install, User Form Page, User Form Page]   \n",
       "36506                        [ListBox, listBox, ListBox]   \n",
       "36507      [pod install, User Form Page, User Form Page]   \n",
       "36508      [pod install, User Form Page, User Form Page]   \n",
       "36509      [pod install, User Form Page, User Form Page]   \n",
       "36510                        [ListBox, listBox, ListBox]   \n",
       "36511      [pod install, User Form Page, User Form Page]   \n",
       "36512                        [ListBox, listBox, ListBox]   \n",
       "36513  [docker compose up, docker-compose up -d, dock...   \n",
       "36514  [docker compose up, docker-compose up -d, dock...   \n",
       "36515                        [ListBox, listBox, ListBox]   \n",
       "36516      [pod install, User Form Page, User Form Page]   \n",
       "36517                        [ListBox, listBox, ListBox]   \n",
       "36582      [pod install, User Form Page, User Form Page]   \n",
       "36583                        [ListBox, listBox, ListBox]   \n",
       "36584                        [ListBox, listBox, ListBox]   \n",
       "36585      [pod install, User Form Page, User Form Page]   \n",
       "36586      [pod install, User Form Page, User Form Page]   \n",
       "36587                        [ListBox, listBox, ListBox]   \n",
       "36588      [pod install, User Form Page, User Form Page]   \n",
       "36589                        [ListBox, listBox, ListBox]   \n",
       "36590  [import numpy as np\\nfrom keras.models import ...   \n",
       "36591      [pod install, User Form Page, User Form Page]   \n",
       "36592            [feature, feature, Good morning Hadley]   \n",
       "36593      [pod install, User Form Page, User Form Page]   \n",
       "36594            [feature, feature, Good morning Hadley]   \n",
       "36595      [pod install, User Form Page, User Form Page]   \n",
       "36596                        [ListBox, listBox, ListBox]   \n",
       "36597      [pod install, User Form Page, User Form Page]   \n",
       "36598      [pod install, User Form Page, User Form Page]   \n",
       "36599      [pod install, User Form Page, User Form Page]   \n",
       "36600                        [ListBox, listBox, ListBox]   \n",
       "36601      [pod install, User Form Page, User Form Page]   \n",
       "36602                        [ListBox, listBox, ListBox]   \n",
       "36603  [docker compose up, docker-compose up -d, dock...   \n",
       "36604  [docker compose up, docker-compose up -d, dock...   \n",
       "36605                        [ListBox, listBox, ListBox]   \n",
       "36606      [pod install, User Form Page, User Form Page]   \n",
       "36607                        [ListBox, listBox, ListBox]   \n",
       "\n",
       "                                             Top_n_words  \\\n",
       "36492  scrollbar - pod - dockerfile - spanid - your t...   \n",
       "36493  listbox - prod prod - prod - listb - info info...   \n",
       "36494  listbox - prod prod - prod - listb - info info...   \n",
       "36495  scrollbar - pod - dockerfile - spanid - your t...   \n",
       "36496  scrollbar - pod - dockerfile - spanid - your t...   \n",
       "36497  listbox - prod prod - prod - listb - info info...   \n",
       "36498  scrollbar - pod - dockerfile - spanid - your t...   \n",
       "36499  listbox - prod prod - prod - listb - info info...   \n",
       "36500  self - np - na - 1l - df - end - c3 - na na - ...   \n",
       "36501  scrollbar - pod - dockerfile - spanid - your t...   \n",
       "36502  feature feature - feature - lock lock - ger - ...   \n",
       "36503  scrollbar - pod - dockerfile - spanid - your t...   \n",
       "36504  feature feature - feature - lock lock - ger - ...   \n",
       "36505  scrollbar - pod - dockerfile - spanid - your t...   \n",
       "36506  listbox - prod prod - prod - listb - info info...   \n",
       "36507  scrollbar - pod - dockerfile - spanid - your t...   \n",
       "36508  scrollbar - pod - dockerfile - spanid - your t...   \n",
       "36509  scrollbar - pod - dockerfile - spanid - your t...   \n",
       "36510  listbox - prod prod - prod - listb - info info...   \n",
       "36511  scrollbar - pod - dockerfile - spanid - your t...   \n",
       "36512  listbox - prod prod - prod - listb - info info...   \n",
       "36513  npm run - install - npm - git - docker compose...   \n",
       "36514  npm run - install - npm - git - docker compose...   \n",
       "36515  listbox - prod prod - prod - listb - info info...   \n",
       "36516  scrollbar - pod - dockerfile - spanid - your t...   \n",
       "36517  listbox - prod prod - prod - listb - info info...   \n",
       "36582  scrollbar - pod - dockerfile - spanid - your t...   \n",
       "36583  listbox - prod prod - prod - listb - info info...   \n",
       "36584  listbox - prod prod - prod - listb - info info...   \n",
       "36585  scrollbar - pod - dockerfile - spanid - your t...   \n",
       "36586  scrollbar - pod - dockerfile - spanid - your t...   \n",
       "36587  listbox - prod prod - prod - listb - info info...   \n",
       "36588  scrollbar - pod - dockerfile - spanid - your t...   \n",
       "36589  listbox - prod prod - prod - listb - info info...   \n",
       "36590  self - np - na - 1l - df - end - c3 - na na - ...   \n",
       "36591  scrollbar - pod - dockerfile - spanid - your t...   \n",
       "36592  feature feature - feature - lock lock - ger - ...   \n",
       "36593  scrollbar - pod - dockerfile - spanid - your t...   \n",
       "36594  feature feature - feature - lock lock - ger - ...   \n",
       "36595  scrollbar - pod - dockerfile - spanid - your t...   \n",
       "36596  listbox - prod prod - prod - listb - info info...   \n",
       "36597  scrollbar - pod - dockerfile - spanid - your t...   \n",
       "36598  scrollbar - pod - dockerfile - spanid - your t...   \n",
       "36599  scrollbar - pod - dockerfile - spanid - your t...   \n",
       "36600  listbox - prod prod - prod - listb - info info...   \n",
       "36601  scrollbar - pod - dockerfile - spanid - your t...   \n",
       "36602  listbox - prod prod - prod - listb - info info...   \n",
       "36603  npm run - install - npm - git - docker compose...   \n",
       "36604  npm run - install - npm - git - docker compose...   \n",
       "36605  listbox - prod prod - prod - listb - info info...   \n",
       "36606  scrollbar - pod - dockerfile - spanid - your t...   \n",
       "36607  listbox - prod prod - prod - listb - info info...   \n",
       "\n",
       "       Representative_document          q_creationdate        a_id  \n",
       "36492                    False 2023-10-31 08:06:39.087  77394257.0  \n",
       "36493                     True 2023-10-31 08:06:39.087  77394257.0  \n",
       "36494                     True 2023-10-31 08:06:39.087  77394257.0  \n",
       "36495                    False 2023-10-31 08:06:39.087  77394257.0  \n",
       "36496                    False 2023-10-31 08:06:39.087  77394257.0  \n",
       "36497                     True 2023-10-31 08:06:39.087  77394257.0  \n",
       "36498                    False 2023-10-31 08:06:39.087  77394257.0  \n",
       "36499                     True 2023-10-31 08:06:39.087  77394257.0  \n",
       "36500                    False 2023-10-31 08:06:39.087  77394257.0  \n",
       "36501                    False 2023-10-31 08:06:39.087  77394257.0  \n",
       "36502                    False 2023-10-31 08:06:39.087  77394257.0  \n",
       "36503                    False 2023-10-31 08:06:39.087  77394257.0  \n",
       "36504                    False 2023-10-31 08:06:39.087  77394257.0  \n",
       "36505                    False 2023-10-31 08:06:39.087  77394257.0  \n",
       "36506                     True 2023-10-31 08:06:39.087  77394257.0  \n",
       "36507                    False 2023-10-31 08:06:39.087  77394257.0  \n",
       "36508                    False 2023-10-31 08:06:39.087  77394257.0  \n",
       "36509                    False 2023-10-31 08:06:39.087  77394257.0  \n",
       "36510                     True 2023-10-31 08:06:39.087  77394257.0  \n",
       "36511                    False 2023-10-31 08:06:39.087  77394257.0  \n",
       "36512                     True 2023-10-31 08:06:39.087  77394257.0  \n",
       "36513                    False 2023-10-31 08:06:39.087  77394257.0  \n",
       "36514                    False 2023-10-31 08:06:39.087  77394257.0  \n",
       "36515                     True 2023-10-31 08:06:39.087  77394257.0  \n",
       "36516                    False 2023-10-31 08:06:39.087  77394257.0  \n",
       "36517                     True 2023-10-31 08:06:39.087  77394257.0  \n",
       "36582                    False 2023-10-31 08:06:39.087  77394257.0  \n",
       "36583                     True 2023-10-31 08:06:39.087  77394257.0  \n",
       "36584                     True 2023-10-31 08:06:39.087  77394257.0  \n",
       "36585                    False 2023-10-31 08:06:39.087  77394257.0  \n",
       "36586                    False 2023-10-31 08:06:39.087  77394257.0  \n",
       "36587                     True 2023-10-31 08:06:39.087  77394257.0  \n",
       "36588                    False 2023-10-31 08:06:39.087  77394257.0  \n",
       "36589                     True 2023-10-31 08:06:39.087  77394257.0  \n",
       "36590                    False 2023-10-31 08:06:39.087  77394257.0  \n",
       "36591                    False 2023-10-31 08:06:39.087  77394257.0  \n",
       "36592                    False 2023-10-31 08:06:39.087  77394257.0  \n",
       "36593                    False 2023-10-31 08:06:39.087  77394257.0  \n",
       "36594                    False 2023-10-31 08:06:39.087  77394257.0  \n",
       "36595                    False 2023-10-31 08:06:39.087  77394257.0  \n",
       "36596                     True 2023-10-31 08:06:39.087  77394257.0  \n",
       "36597                    False 2023-10-31 08:06:39.087  77394257.0  \n",
       "36598                    False 2023-10-31 08:06:39.087  77394257.0  \n",
       "36599                    False 2023-10-31 08:06:39.087  77394257.0  \n",
       "36600                     True 2023-10-31 08:06:39.087  77394257.0  \n",
       "36601                    False 2023-10-31 08:06:39.087  77394257.0  \n",
       "36602                     True 2023-10-31 08:06:39.087  77394257.0  \n",
       "36603                    False 2023-10-31 08:06:39.087  77394257.0  \n",
       "36604                    False 2023-10-31 08:06:39.087  77394257.0  \n",
       "36605                     True 2023-10-31 08:06:39.087  77394257.0  \n",
       "36606                    False 2023-10-31 08:06:39.087  77394257.0  \n",
       "36607                     True 2023-10-31 08:06:39.087  77394257.0  "
      ]
     },
     "execution_count": 145,
     "metadata": {},
     "output_type": "execute_result"
    }
   ],
   "source": [
    "tot_topa_df[tot_topa_df['q_id'] == 77394187]"
   ]
  },
  {
   "cell_type": "code",
   "execution_count": 146,
   "metadata": {},
   "outputs": [],
   "source": [
    "tot_topa_df['date'] = pd.to_datetime(tot_topa_df['q_creationdate']).dt.date"
   ]
  },
  {
   "cell_type": "code",
   "execution_count": 147,
   "metadata": {},
   "outputs": [],
   "source": [
    "tot_topa_not_answered_df = tot_topa_df[tot_topa_df['a_id'].isna()]\n",
    "tot_topa_answered_df = tot_topa_df[tot_topa_df['a_id'].isna()==False]"
   ]
  },
  {
   "cell_type": "code",
   "execution_count": 148,
   "metadata": {},
   "outputs": [],
   "source": [
    "tot_topa_not_answered_rate = tot_topa_not_answered_df.groupby(['date', 'Topic']).count()[['q_id']].reset_index()\n",
    "tot_topa_answered_rate = tot_topa_answered_df.groupby(['date', 'Topic']).count()[['q_id']].reset_index()"
   ]
  },
  {
   "cell_type": "code",
   "execution_count": 149,
   "metadata": {},
   "outputs": [],
   "source": [
    "tot_topa_not_answered_sum = tot_topa_not_answered_rate.groupby(['date']).sum()[['q_id']].reset_index()\n",
    "tot_topa_answered_sum = tot_topa_answered_rate.groupby(['date']).sum()[['q_id']].reset_index()"
   ]
  },
  {
   "cell_type": "code",
   "execution_count": 150,
   "metadata": {},
   "outputs": [],
   "source": [
    "tot_topa_not_answered_rate = pd.merge(tot_topa_not_answered_rate, tot_topa_not_answered_sum, on = 'date')\n",
    "tot_topa_answered_rate = pd.merge(tot_topa_answered_rate, tot_topa_answered_sum, on = 'date')"
   ]
  },
  {
   "cell_type": "code",
   "execution_count": 151,
   "metadata": {},
   "outputs": [
    {
     "data": {
      "text/html": [
       "<div>\n",
       "<style scoped>\n",
       "    .dataframe tbody tr th:only-of-type {\n",
       "        vertical-align: middle;\n",
       "    }\n",
       "\n",
       "    .dataframe tbody tr th {\n",
       "        vertical-align: top;\n",
       "    }\n",
       "\n",
       "    .dataframe thead th {\n",
       "        text-align: right;\n",
       "    }\n",
       "</style>\n",
       "<table border=\"1\" class=\"dataframe\">\n",
       "  <thead>\n",
       "    <tr style=\"text-align: right;\">\n",
       "      <th></th>\n",
       "      <th>date</th>\n",
       "      <th>Topic</th>\n",
       "      <th>q_id_x</th>\n",
       "      <th>q_id_y</th>\n",
       "    </tr>\n",
       "  </thead>\n",
       "  <tbody>\n",
       "    <tr>\n",
       "      <th>0</th>\n",
       "      <td>2021-11-30</td>\n",
       "      <td>0</td>\n",
       "      <td>99</td>\n",
       "      <td>833</td>\n",
       "    </tr>\n",
       "    <tr>\n",
       "      <th>1</th>\n",
       "      <td>2021-11-30</td>\n",
       "      <td>1</td>\n",
       "      <td>62</td>\n",
       "      <td>833</td>\n",
       "    </tr>\n",
       "    <tr>\n",
       "      <th>2</th>\n",
       "      <td>2021-11-30</td>\n",
       "      <td>2</td>\n",
       "      <td>65</td>\n",
       "      <td>833</td>\n",
       "    </tr>\n",
       "    <tr>\n",
       "      <th>3</th>\n",
       "      <td>2021-11-30</td>\n",
       "      <td>3</td>\n",
       "      <td>67</td>\n",
       "      <td>833</td>\n",
       "    </tr>\n",
       "    <tr>\n",
       "      <th>4</th>\n",
       "      <td>2021-11-30</td>\n",
       "      <td>4</td>\n",
       "      <td>56</td>\n",
       "      <td>833</td>\n",
       "    </tr>\n",
       "    <tr>\n",
       "      <th>...</th>\n",
       "      <td>...</td>\n",
       "      <td>...</td>\n",
       "      <td>...</td>\n",
       "      <td>...</td>\n",
       "    </tr>\n",
       "    <tr>\n",
       "      <th>647</th>\n",
       "      <td>2023-11-30</td>\n",
       "      <td>21</td>\n",
       "      <td>4</td>\n",
       "      <td>587</td>\n",
       "    </tr>\n",
       "    <tr>\n",
       "      <th>648</th>\n",
       "      <td>2023-11-30</td>\n",
       "      <td>22</td>\n",
       "      <td>1</td>\n",
       "      <td>587</td>\n",
       "    </tr>\n",
       "    <tr>\n",
       "      <th>649</th>\n",
       "      <td>2023-11-30</td>\n",
       "      <td>23</td>\n",
       "      <td>2</td>\n",
       "      <td>587</td>\n",
       "    </tr>\n",
       "    <tr>\n",
       "      <th>650</th>\n",
       "      <td>2023-11-30</td>\n",
       "      <td>25</td>\n",
       "      <td>3</td>\n",
       "      <td>587</td>\n",
       "    </tr>\n",
       "    <tr>\n",
       "      <th>651</th>\n",
       "      <td>2023-11-30</td>\n",
       "      <td>27</td>\n",
       "      <td>2</td>\n",
       "      <td>587</td>\n",
       "    </tr>\n",
       "  </tbody>\n",
       "</table>\n",
       "<p>652 rows × 4 columns</p>\n",
       "</div>"
      ],
      "text/plain": [
       "           date  Topic  q_id_x  q_id_y\n",
       "0    2021-11-30      0      99     833\n",
       "1    2021-11-30      1      62     833\n",
       "2    2021-11-30      2      65     833\n",
       "3    2021-11-30      3      67     833\n",
       "4    2021-11-30      4      56     833\n",
       "..          ...    ...     ...     ...\n",
       "647  2023-11-30     21       4     587\n",
       "648  2023-11-30     22       1     587\n",
       "649  2023-11-30     23       2     587\n",
       "650  2023-11-30     25       3     587\n",
       "651  2023-11-30     27       2     587\n",
       "\n",
       "[652 rows x 4 columns]"
      ]
     },
     "execution_count": 151,
     "metadata": {},
     "output_type": "execute_result"
    }
   ],
   "source": [
    "tot_topa_not_answered_rate"
   ]
  },
  {
   "cell_type": "code",
   "execution_count": 152,
   "metadata": {},
   "outputs": [],
   "source": [
    "# topic_per_rate = tot_topa_not_answered_rate.rename({'q_id_x': 'cnt', 'q_id_y':'tot_cnt'})"
   ]
  },
  {
   "cell_type": "code",
   "execution_count": 153,
   "metadata": {},
   "outputs": [],
   "source": [
    "tot_topa_not_answered_rate['rate'] = tot_topa_not_answered_rate['q_id_x']/tot_topa_not_answered_rate['q_id_y']*100\n",
    "tot_topa_answered_rate['rate'] = tot_topa_answered_rate['q_id_x']/tot_topa_answered_rate['q_id_y']*100\n"
   ]
  },
  {
   "cell_type": "code",
   "execution_count": 154,
   "metadata": {},
   "outputs": [
    {
     "data": {
      "text/html": [
       "<div>\n",
       "<style scoped>\n",
       "    .dataframe tbody tr th:only-of-type {\n",
       "        vertical-align: middle;\n",
       "    }\n",
       "\n",
       "    .dataframe tbody tr th {\n",
       "        vertical-align: top;\n",
       "    }\n",
       "\n",
       "    .dataframe thead th {\n",
       "        text-align: right;\n",
       "    }\n",
       "</style>\n",
       "<table border=\"1\" class=\"dataframe\">\n",
       "  <thead>\n",
       "    <tr style=\"text-align: right;\">\n",
       "      <th></th>\n",
       "      <th>date</th>\n",
       "      <th>Topic</th>\n",
       "      <th>q_id_x</th>\n",
       "      <th>q_id_y</th>\n",
       "      <th>rate</th>\n",
       "    </tr>\n",
       "  </thead>\n",
       "  <tbody>\n",
       "    <tr>\n",
       "      <th>0</th>\n",
       "      <td>2021-11-30</td>\n",
       "      <td>0</td>\n",
       "      <td>99</td>\n",
       "      <td>833</td>\n",
       "      <td>11.884754</td>\n",
       "    </tr>\n",
       "    <tr>\n",
       "      <th>1</th>\n",
       "      <td>2021-11-30</td>\n",
       "      <td>1</td>\n",
       "      <td>62</td>\n",
       "      <td>833</td>\n",
       "      <td>7.442977</td>\n",
       "    </tr>\n",
       "    <tr>\n",
       "      <th>2</th>\n",
       "      <td>2021-11-30</td>\n",
       "      <td>2</td>\n",
       "      <td>65</td>\n",
       "      <td>833</td>\n",
       "      <td>7.803121</td>\n",
       "    </tr>\n",
       "    <tr>\n",
       "      <th>3</th>\n",
       "      <td>2021-11-30</td>\n",
       "      <td>3</td>\n",
       "      <td>67</td>\n",
       "      <td>833</td>\n",
       "      <td>8.043217</td>\n",
       "    </tr>\n",
       "    <tr>\n",
       "      <th>4</th>\n",
       "      <td>2021-11-30</td>\n",
       "      <td>4</td>\n",
       "      <td>56</td>\n",
       "      <td>833</td>\n",
       "      <td>6.722689</td>\n",
       "    </tr>\n",
       "    <tr>\n",
       "      <th>...</th>\n",
       "      <td>...</td>\n",
       "      <td>...</td>\n",
       "      <td>...</td>\n",
       "      <td>...</td>\n",
       "      <td>...</td>\n",
       "    </tr>\n",
       "    <tr>\n",
       "      <th>647</th>\n",
       "      <td>2023-11-30</td>\n",
       "      <td>21</td>\n",
       "      <td>4</td>\n",
       "      <td>587</td>\n",
       "      <td>0.681431</td>\n",
       "    </tr>\n",
       "    <tr>\n",
       "      <th>648</th>\n",
       "      <td>2023-11-30</td>\n",
       "      <td>22</td>\n",
       "      <td>1</td>\n",
       "      <td>587</td>\n",
       "      <td>0.170358</td>\n",
       "    </tr>\n",
       "    <tr>\n",
       "      <th>649</th>\n",
       "      <td>2023-11-30</td>\n",
       "      <td>23</td>\n",
       "      <td>2</td>\n",
       "      <td>587</td>\n",
       "      <td>0.340716</td>\n",
       "    </tr>\n",
       "    <tr>\n",
       "      <th>650</th>\n",
       "      <td>2023-11-30</td>\n",
       "      <td>25</td>\n",
       "      <td>3</td>\n",
       "      <td>587</td>\n",
       "      <td>0.511073</td>\n",
       "    </tr>\n",
       "    <tr>\n",
       "      <th>651</th>\n",
       "      <td>2023-11-30</td>\n",
       "      <td>27</td>\n",
       "      <td>2</td>\n",
       "      <td>587</td>\n",
       "      <td>0.340716</td>\n",
       "    </tr>\n",
       "  </tbody>\n",
       "</table>\n",
       "<p>652 rows × 5 columns</p>\n",
       "</div>"
      ],
      "text/plain": [
       "           date  Topic  q_id_x  q_id_y       rate\n",
       "0    2021-11-30      0      99     833  11.884754\n",
       "1    2021-11-30      1      62     833   7.442977\n",
       "2    2021-11-30      2      65     833   7.803121\n",
       "3    2021-11-30      3      67     833   8.043217\n",
       "4    2021-11-30      4      56     833   6.722689\n",
       "..          ...    ...     ...     ...        ...\n",
       "647  2023-11-30     21       4     587   0.681431\n",
       "648  2023-11-30     22       1     587   0.170358\n",
       "649  2023-11-30     23       2     587   0.340716\n",
       "650  2023-11-30     25       3     587   0.511073\n",
       "651  2023-11-30     27       2     587   0.340716\n",
       "\n",
       "[652 rows x 5 columns]"
      ]
     },
     "execution_count": 154,
     "metadata": {},
     "output_type": "execute_result"
    }
   ],
   "source": [
    "tot_topa_not_answered_rate"
   ]
  },
  {
   "cell_type": "code",
   "execution_count": 155,
   "metadata": {},
   "outputs": [],
   "source": [
    "tot_topa_not_answered_rate_pivot = pd.pivot_table(tot_topa_not_answered_rate, index = 'date', columns = 'Topic',values = 'rate').reset_index()\n",
    "tot_topa_answered_rate_pivot = pd.pivot_table(tot_topa_answered_rate, index = 'date', columns = 'Topic',values = 'rate').reset_index()"
   ]
  },
  {
   "cell_type": "code",
   "execution_count": 169,
   "metadata": {},
   "outputs": [],
   "source": [
    "tot_topa_not_answered_pivot = pd.pivot_table(tot_topa_not_answered_rate, index = 'date', columns = 'Topic',values = 'q_id_x').reset_index()\n",
    "tot_topa_answered_pivot = pd.pivot_table(tot_topa_answered_rate, index = 'date', columns = 'Topic',values = 'q_id_x').reset_index()"
   ]
  },
  {
   "cell_type": "code",
   "execution_count": 156,
   "metadata": {},
   "outputs": [],
   "source": [
    "tot_topa_not_answered_rate_pivot.fillna(0, inplace=True)\n",
    "tot_topa_answered_rate_pivot.fillna(0, inplace=True)"
   ]
  },
  {
   "cell_type": "code",
   "execution_count": 170,
   "metadata": {},
   "outputs": [],
   "source": [
    "tot_topa_not_answered_pivot.fillna(0, inplace=True)\n",
    "tot_topa_answered_pivot.fillna(0, inplace=True)"
   ]
  },
  {
   "cell_type": "code",
   "execution_count": 157,
   "metadata": {},
   "outputs": [
    {
     "data": {
      "text/html": [
       "<div>\n",
       "<style scoped>\n",
       "    .dataframe tbody tr th:only-of-type {\n",
       "        vertical-align: middle;\n",
       "    }\n",
       "\n",
       "    .dataframe tbody tr th {\n",
       "        vertical-align: top;\n",
       "    }\n",
       "\n",
       "    .dataframe thead th {\n",
       "        text-align: right;\n",
       "    }\n",
       "</style>\n",
       "<table border=\"1\" class=\"dataframe\">\n",
       "  <thead>\n",
       "    <tr style=\"text-align: right;\">\n",
       "      <th>Topic</th>\n",
       "      <th>date</th>\n",
       "      <th>0</th>\n",
       "      <th>1</th>\n",
       "      <th>2</th>\n",
       "      <th>3</th>\n",
       "      <th>4</th>\n",
       "      <th>5</th>\n",
       "      <th>6</th>\n",
       "      <th>7</th>\n",
       "      <th>8</th>\n",
       "      <th>...</th>\n",
       "      <th>20</th>\n",
       "      <th>21</th>\n",
       "      <th>22</th>\n",
       "      <th>23</th>\n",
       "      <th>24</th>\n",
       "      <th>25</th>\n",
       "      <th>26</th>\n",
       "      <th>27</th>\n",
       "      <th>28</th>\n",
       "      <th>29</th>\n",
       "    </tr>\n",
       "  </thead>\n",
       "  <tbody>\n",
       "    <tr>\n",
       "      <th>0</th>\n",
       "      <td>2021-11-30</td>\n",
       "      <td>11.884754</td>\n",
       "      <td>7.442977</td>\n",
       "      <td>7.803121</td>\n",
       "      <td>8.043217</td>\n",
       "      <td>6.722689</td>\n",
       "      <td>7.563025</td>\n",
       "      <td>5.162065</td>\n",
       "      <td>5.282113</td>\n",
       "      <td>5.162065</td>\n",
       "      <td>...</td>\n",
       "      <td>1.200480</td>\n",
       "      <td>0.360144</td>\n",
       "      <td>0.240096</td>\n",
       "      <td>0.360144</td>\n",
       "      <td>0.960384</td>\n",
       "      <td>0.000000</td>\n",
       "      <td>0.240096</td>\n",
       "      <td>0.120048</td>\n",
       "      <td>0.120048</td>\n",
       "      <td>0.120048</td>\n",
       "    </tr>\n",
       "    <tr>\n",
       "      <th>1</th>\n",
       "      <td>2021-12-31</td>\n",
       "      <td>11.378003</td>\n",
       "      <td>8.596713</td>\n",
       "      <td>7.838180</td>\n",
       "      <td>8.470291</td>\n",
       "      <td>7.585335</td>\n",
       "      <td>5.436157</td>\n",
       "      <td>7.079646</td>\n",
       "      <td>5.689001</td>\n",
       "      <td>7.964602</td>\n",
       "      <td>...</td>\n",
       "      <td>0.000000</td>\n",
       "      <td>0.379267</td>\n",
       "      <td>0.252845</td>\n",
       "      <td>0.252845</td>\n",
       "      <td>0.000000</td>\n",
       "      <td>0.000000</td>\n",
       "      <td>0.126422</td>\n",
       "      <td>0.252845</td>\n",
       "      <td>0.000000</td>\n",
       "      <td>0.000000</td>\n",
       "    </tr>\n",
       "    <tr>\n",
       "      <th>2</th>\n",
       "      <td>2022-01-31</td>\n",
       "      <td>12.005857</td>\n",
       "      <td>10.688141</td>\n",
       "      <td>7.906296</td>\n",
       "      <td>8.052709</td>\n",
       "      <td>7.027818</td>\n",
       "      <td>6.442167</td>\n",
       "      <td>6.295754</td>\n",
       "      <td>7.759883</td>\n",
       "      <td>4.978038</td>\n",
       "      <td>...</td>\n",
       "      <td>0.439239</td>\n",
       "      <td>0.732064</td>\n",
       "      <td>0.292826</td>\n",
       "      <td>0.146413</td>\n",
       "      <td>0.000000</td>\n",
       "      <td>0.000000</td>\n",
       "      <td>0.000000</td>\n",
       "      <td>0.292826</td>\n",
       "      <td>0.000000</td>\n",
       "      <td>0.000000</td>\n",
       "    </tr>\n",
       "    <tr>\n",
       "      <th>3</th>\n",
       "      <td>2022-02-28</td>\n",
       "      <td>14.336918</td>\n",
       "      <td>6.571087</td>\n",
       "      <td>9.199522</td>\n",
       "      <td>7.407407</td>\n",
       "      <td>5.495818</td>\n",
       "      <td>5.376344</td>\n",
       "      <td>7.048984</td>\n",
       "      <td>6.212664</td>\n",
       "      <td>5.256870</td>\n",
       "      <td>...</td>\n",
       "      <td>1.314217</td>\n",
       "      <td>0.477897</td>\n",
       "      <td>0.000000</td>\n",
       "      <td>0.477897</td>\n",
       "      <td>0.716846</td>\n",
       "      <td>0.238949</td>\n",
       "      <td>0.238949</td>\n",
       "      <td>0.358423</td>\n",
       "      <td>0.000000</td>\n",
       "      <td>0.000000</td>\n",
       "    </tr>\n",
       "    <tr>\n",
       "      <th>4</th>\n",
       "      <td>2022-03-31</td>\n",
       "      <td>8.961039</td>\n",
       "      <td>10.519481</td>\n",
       "      <td>11.038961</td>\n",
       "      <td>9.350649</td>\n",
       "      <td>5.714286</td>\n",
       "      <td>7.012987</td>\n",
       "      <td>7.012987</td>\n",
       "      <td>7.792208</td>\n",
       "      <td>6.623377</td>\n",
       "      <td>...</td>\n",
       "      <td>0.129870</td>\n",
       "      <td>0.000000</td>\n",
       "      <td>0.129870</td>\n",
       "      <td>1.168831</td>\n",
       "      <td>0.259740</td>\n",
       "      <td>0.000000</td>\n",
       "      <td>0.129870</td>\n",
       "      <td>0.000000</td>\n",
       "      <td>0.000000</td>\n",
       "      <td>0.000000</td>\n",
       "    </tr>\n",
       "    <tr>\n",
       "      <th>5</th>\n",
       "      <td>2022-04-30</td>\n",
       "      <td>10.850801</td>\n",
       "      <td>8.261406</td>\n",
       "      <td>6.165228</td>\n",
       "      <td>8.877928</td>\n",
       "      <td>7.768187</td>\n",
       "      <td>6.535142</td>\n",
       "      <td>9.987670</td>\n",
       "      <td>6.288533</td>\n",
       "      <td>4.808878</td>\n",
       "      <td>...</td>\n",
       "      <td>0.123305</td>\n",
       "      <td>0.123305</td>\n",
       "      <td>0.986436</td>\n",
       "      <td>0.123305</td>\n",
       "      <td>0.739827</td>\n",
       "      <td>0.123305</td>\n",
       "      <td>0.000000</td>\n",
       "      <td>0.123305</td>\n",
       "      <td>0.493218</td>\n",
       "      <td>0.000000</td>\n",
       "    </tr>\n",
       "    <tr>\n",
       "      <th>6</th>\n",
       "      <td>2022-05-31</td>\n",
       "      <td>12.740385</td>\n",
       "      <td>9.375000</td>\n",
       "      <td>6.009615</td>\n",
       "      <td>8.533654</td>\n",
       "      <td>8.774038</td>\n",
       "      <td>5.288462</td>\n",
       "      <td>7.091346</td>\n",
       "      <td>5.408654</td>\n",
       "      <td>6.490385</td>\n",
       "      <td>...</td>\n",
       "      <td>0.000000</td>\n",
       "      <td>0.240385</td>\n",
       "      <td>0.240385</td>\n",
       "      <td>0.360577</td>\n",
       "      <td>0.360577</td>\n",
       "      <td>0.360577</td>\n",
       "      <td>0.000000</td>\n",
       "      <td>0.000000</td>\n",
       "      <td>0.240385</td>\n",
       "      <td>0.000000</td>\n",
       "    </tr>\n",
       "    <tr>\n",
       "      <th>7</th>\n",
       "      <td>2022-06-30</td>\n",
       "      <td>14.552239</td>\n",
       "      <td>8.084577</td>\n",
       "      <td>8.706468</td>\n",
       "      <td>7.711443</td>\n",
       "      <td>6.592040</td>\n",
       "      <td>6.218905</td>\n",
       "      <td>8.333333</td>\n",
       "      <td>4.726368</td>\n",
       "      <td>4.850746</td>\n",
       "      <td>...</td>\n",
       "      <td>0.124378</td>\n",
       "      <td>0.124378</td>\n",
       "      <td>0.497512</td>\n",
       "      <td>0.000000</td>\n",
       "      <td>0.000000</td>\n",
       "      <td>0.124378</td>\n",
       "      <td>0.124378</td>\n",
       "      <td>0.000000</td>\n",
       "      <td>1.119403</td>\n",
       "      <td>0.000000</td>\n",
       "    </tr>\n",
       "    <tr>\n",
       "      <th>8</th>\n",
       "      <td>2022-07-31</td>\n",
       "      <td>11.363636</td>\n",
       "      <td>9.090909</td>\n",
       "      <td>8.003953</td>\n",
       "      <td>8.596838</td>\n",
       "      <td>6.916996</td>\n",
       "      <td>6.126482</td>\n",
       "      <td>5.731225</td>\n",
       "      <td>5.335968</td>\n",
       "      <td>5.237154</td>\n",
       "      <td>...</td>\n",
       "      <td>0.197628</td>\n",
       "      <td>0.296443</td>\n",
       "      <td>0.296443</td>\n",
       "      <td>0.395257</td>\n",
       "      <td>0.197628</td>\n",
       "      <td>1.086957</td>\n",
       "      <td>0.098814</td>\n",
       "      <td>0.000000</td>\n",
       "      <td>0.000000</td>\n",
       "      <td>0.000000</td>\n",
       "    </tr>\n",
       "    <tr>\n",
       "      <th>9</th>\n",
       "      <td>2022-08-31</td>\n",
       "      <td>12.672522</td>\n",
       "      <td>7.653701</td>\n",
       "      <td>10.414053</td>\n",
       "      <td>8.531995</td>\n",
       "      <td>7.653701</td>\n",
       "      <td>6.398996</td>\n",
       "      <td>7.151819</td>\n",
       "      <td>5.018821</td>\n",
       "      <td>7.026349</td>\n",
       "      <td>...</td>\n",
       "      <td>0.125471</td>\n",
       "      <td>0.125471</td>\n",
       "      <td>0.376412</td>\n",
       "      <td>0.000000</td>\n",
       "      <td>0.376412</td>\n",
       "      <td>0.125471</td>\n",
       "      <td>0.125471</td>\n",
       "      <td>0.000000</td>\n",
       "      <td>0.000000</td>\n",
       "      <td>0.000000</td>\n",
       "    </tr>\n",
       "    <tr>\n",
       "      <th>10</th>\n",
       "      <td>2022-09-30</td>\n",
       "      <td>14.469078</td>\n",
       "      <td>7.467911</td>\n",
       "      <td>9.334889</td>\n",
       "      <td>8.868145</td>\n",
       "      <td>5.600933</td>\n",
       "      <td>7.001167</td>\n",
       "      <td>5.250875</td>\n",
       "      <td>5.250875</td>\n",
       "      <td>5.600933</td>\n",
       "      <td>...</td>\n",
       "      <td>0.116686</td>\n",
       "      <td>0.466744</td>\n",
       "      <td>0.233372</td>\n",
       "      <td>0.116686</td>\n",
       "      <td>0.350058</td>\n",
       "      <td>0.000000</td>\n",
       "      <td>0.000000</td>\n",
       "      <td>0.000000</td>\n",
       "      <td>0.233372</td>\n",
       "      <td>0.233372</td>\n",
       "    </tr>\n",
       "    <tr>\n",
       "      <th>11</th>\n",
       "      <td>2022-10-31</td>\n",
       "      <td>16.000000</td>\n",
       "      <td>8.121212</td>\n",
       "      <td>8.000000</td>\n",
       "      <td>8.606061</td>\n",
       "      <td>4.969697</td>\n",
       "      <td>5.818182</td>\n",
       "      <td>7.636364</td>\n",
       "      <td>7.151515</td>\n",
       "      <td>5.818182</td>\n",
       "      <td>...</td>\n",
       "      <td>0.242424</td>\n",
       "      <td>0.363636</td>\n",
       "      <td>0.000000</td>\n",
       "      <td>0.000000</td>\n",
       "      <td>0.000000</td>\n",
       "      <td>0.969697</td>\n",
       "      <td>0.121212</td>\n",
       "      <td>0.000000</td>\n",
       "      <td>0.000000</td>\n",
       "      <td>0.000000</td>\n",
       "    </tr>\n",
       "    <tr>\n",
       "      <th>12</th>\n",
       "      <td>2022-11-30</td>\n",
       "      <td>12.513256</td>\n",
       "      <td>6.892895</td>\n",
       "      <td>7.953340</td>\n",
       "      <td>6.468717</td>\n",
       "      <td>8.589608</td>\n",
       "      <td>6.574761</td>\n",
       "      <td>5.620361</td>\n",
       "      <td>4.878049</td>\n",
       "      <td>4.029692</td>\n",
       "      <td>...</td>\n",
       "      <td>0.848356</td>\n",
       "      <td>0.212089</td>\n",
       "      <td>0.212089</td>\n",
       "      <td>0.318134</td>\n",
       "      <td>0.212089</td>\n",
       "      <td>0.212089</td>\n",
       "      <td>0.212089</td>\n",
       "      <td>0.424178</td>\n",
       "      <td>0.000000</td>\n",
       "      <td>0.000000</td>\n",
       "    </tr>\n",
       "    <tr>\n",
       "      <th>13</th>\n",
       "      <td>2022-12-31</td>\n",
       "      <td>13.333333</td>\n",
       "      <td>6.037736</td>\n",
       "      <td>8.050314</td>\n",
       "      <td>7.798742</td>\n",
       "      <td>7.044025</td>\n",
       "      <td>5.534591</td>\n",
       "      <td>8.679245</td>\n",
       "      <td>6.792453</td>\n",
       "      <td>4.905660</td>\n",
       "      <td>...</td>\n",
       "      <td>0.125786</td>\n",
       "      <td>0.503145</td>\n",
       "      <td>1.006289</td>\n",
       "      <td>0.125786</td>\n",
       "      <td>0.000000</td>\n",
       "      <td>0.880503</td>\n",
       "      <td>0.125786</td>\n",
       "      <td>0.000000</td>\n",
       "      <td>0.000000</td>\n",
       "      <td>0.000000</td>\n",
       "    </tr>\n",
       "    <tr>\n",
       "      <th>14</th>\n",
       "      <td>2023-01-31</td>\n",
       "      <td>10.101010</td>\n",
       "      <td>7.503608</td>\n",
       "      <td>8.225108</td>\n",
       "      <td>9.668110</td>\n",
       "      <td>9.668110</td>\n",
       "      <td>5.772006</td>\n",
       "      <td>6.493506</td>\n",
       "      <td>5.483405</td>\n",
       "      <td>4.329004</td>\n",
       "      <td>...</td>\n",
       "      <td>0.577201</td>\n",
       "      <td>0.577201</td>\n",
       "      <td>0.288600</td>\n",
       "      <td>0.721501</td>\n",
       "      <td>0.288600</td>\n",
       "      <td>0.144300</td>\n",
       "      <td>0.288600</td>\n",
       "      <td>0.000000</td>\n",
       "      <td>0.000000</td>\n",
       "      <td>0.144300</td>\n",
       "    </tr>\n",
       "    <tr>\n",
       "      <th>15</th>\n",
       "      <td>2023-02-28</td>\n",
       "      <td>12.890625</td>\n",
       "      <td>8.203125</td>\n",
       "      <td>7.421875</td>\n",
       "      <td>5.729167</td>\n",
       "      <td>5.989583</td>\n",
       "      <td>7.942708</td>\n",
       "      <td>7.421875</td>\n",
       "      <td>5.598958</td>\n",
       "      <td>3.255208</td>\n",
       "      <td>...</td>\n",
       "      <td>0.390625</td>\n",
       "      <td>1.302083</td>\n",
       "      <td>0.130208</td>\n",
       "      <td>0.911458</td>\n",
       "      <td>0.000000</td>\n",
       "      <td>0.000000</td>\n",
       "      <td>0.260417</td>\n",
       "      <td>0.130208</td>\n",
       "      <td>0.000000</td>\n",
       "      <td>0.000000</td>\n",
       "    </tr>\n",
       "    <tr>\n",
       "      <th>16</th>\n",
       "      <td>2023-03-31</td>\n",
       "      <td>13.229018</td>\n",
       "      <td>7.965861</td>\n",
       "      <td>8.677098</td>\n",
       "      <td>7.823613</td>\n",
       "      <td>4.694168</td>\n",
       "      <td>7.539118</td>\n",
       "      <td>7.823613</td>\n",
       "      <td>5.832148</td>\n",
       "      <td>6.685633</td>\n",
       "      <td>...</td>\n",
       "      <td>0.568990</td>\n",
       "      <td>0.000000</td>\n",
       "      <td>0.284495</td>\n",
       "      <td>0.000000</td>\n",
       "      <td>0.284495</td>\n",
       "      <td>0.995733</td>\n",
       "      <td>0.000000</td>\n",
       "      <td>0.000000</td>\n",
       "      <td>0.000000</td>\n",
       "      <td>0.284495</td>\n",
       "    </tr>\n",
       "    <tr>\n",
       "      <th>17</th>\n",
       "      <td>2023-04-30</td>\n",
       "      <td>13.978495</td>\n",
       "      <td>7.526882</td>\n",
       "      <td>7.885305</td>\n",
       "      <td>8.721625</td>\n",
       "      <td>6.093190</td>\n",
       "      <td>6.451613</td>\n",
       "      <td>9.677419</td>\n",
       "      <td>5.615293</td>\n",
       "      <td>5.854241</td>\n",
       "      <td>...</td>\n",
       "      <td>0.716846</td>\n",
       "      <td>0.597372</td>\n",
       "      <td>0.238949</td>\n",
       "      <td>0.000000</td>\n",
       "      <td>0.119474</td>\n",
       "      <td>0.119474</td>\n",
       "      <td>0.000000</td>\n",
       "      <td>0.119474</td>\n",
       "      <td>0.119474</td>\n",
       "      <td>0.000000</td>\n",
       "    </tr>\n",
       "    <tr>\n",
       "      <th>18</th>\n",
       "      <td>2023-05-31</td>\n",
       "      <td>10.630408</td>\n",
       "      <td>8.776267</td>\n",
       "      <td>8.158220</td>\n",
       "      <td>6.922126</td>\n",
       "      <td>6.798517</td>\n",
       "      <td>6.798517</td>\n",
       "      <td>8.158220</td>\n",
       "      <td>7.292954</td>\n",
       "      <td>2.719407</td>\n",
       "      <td>...</td>\n",
       "      <td>0.000000</td>\n",
       "      <td>1.236094</td>\n",
       "      <td>0.494438</td>\n",
       "      <td>0.000000</td>\n",
       "      <td>0.000000</td>\n",
       "      <td>0.123609</td>\n",
       "      <td>0.247219</td>\n",
       "      <td>0.123609</td>\n",
       "      <td>0.000000</td>\n",
       "      <td>0.247219</td>\n",
       "    </tr>\n",
       "    <tr>\n",
       "      <th>19</th>\n",
       "      <td>2023-06-30</td>\n",
       "      <td>10.131579</td>\n",
       "      <td>7.763158</td>\n",
       "      <td>11.447368</td>\n",
       "      <td>9.078947</td>\n",
       "      <td>7.368421</td>\n",
       "      <td>7.236842</td>\n",
       "      <td>8.684211</td>\n",
       "      <td>6.447368</td>\n",
       "      <td>7.105263</td>\n",
       "      <td>...</td>\n",
       "      <td>0.657895</td>\n",
       "      <td>0.131579</td>\n",
       "      <td>0.131579</td>\n",
       "      <td>0.000000</td>\n",
       "      <td>0.263158</td>\n",
       "      <td>0.131579</td>\n",
       "      <td>0.263158</td>\n",
       "      <td>0.263158</td>\n",
       "      <td>0.000000</td>\n",
       "      <td>0.000000</td>\n",
       "    </tr>\n",
       "    <tr>\n",
       "      <th>20</th>\n",
       "      <td>2023-07-31</td>\n",
       "      <td>15.223881</td>\n",
       "      <td>8.059701</td>\n",
       "      <td>8.507463</td>\n",
       "      <td>6.417910</td>\n",
       "      <td>5.970149</td>\n",
       "      <td>7.462687</td>\n",
       "      <td>6.268657</td>\n",
       "      <td>6.417910</td>\n",
       "      <td>4.776119</td>\n",
       "      <td>...</td>\n",
       "      <td>0.447761</td>\n",
       "      <td>0.000000</td>\n",
       "      <td>0.000000</td>\n",
       "      <td>1.791045</td>\n",
       "      <td>0.298507</td>\n",
       "      <td>0.000000</td>\n",
       "      <td>0.000000</td>\n",
       "      <td>0.149254</td>\n",
       "      <td>0.000000</td>\n",
       "      <td>0.000000</td>\n",
       "    </tr>\n",
       "    <tr>\n",
       "      <th>21</th>\n",
       "      <td>2023-08-31</td>\n",
       "      <td>11.483871</td>\n",
       "      <td>6.838710</td>\n",
       "      <td>10.967742</td>\n",
       "      <td>8.129032</td>\n",
       "      <td>6.193548</td>\n",
       "      <td>6.838710</td>\n",
       "      <td>6.967742</td>\n",
       "      <td>6.967742</td>\n",
       "      <td>4.774194</td>\n",
       "      <td>...</td>\n",
       "      <td>0.645161</td>\n",
       "      <td>0.387097</td>\n",
       "      <td>0.387097</td>\n",
       "      <td>0.129032</td>\n",
       "      <td>0.258065</td>\n",
       "      <td>0.258065</td>\n",
       "      <td>0.000000</td>\n",
       "      <td>0.000000</td>\n",
       "      <td>0.516129</td>\n",
       "      <td>0.000000</td>\n",
       "    </tr>\n",
       "    <tr>\n",
       "      <th>22</th>\n",
       "      <td>2023-09-30</td>\n",
       "      <td>9.617756</td>\n",
       "      <td>8.014797</td>\n",
       "      <td>8.014797</td>\n",
       "      <td>9.987670</td>\n",
       "      <td>6.658446</td>\n",
       "      <td>4.932182</td>\n",
       "      <td>10.850801</td>\n",
       "      <td>5.795314</td>\n",
       "      <td>5.918619</td>\n",
       "      <td>...</td>\n",
       "      <td>0.369914</td>\n",
       "      <td>0.246609</td>\n",
       "      <td>0.123305</td>\n",
       "      <td>0.369914</td>\n",
       "      <td>0.123305</td>\n",
       "      <td>0.123305</td>\n",
       "      <td>0.369914</td>\n",
       "      <td>0.000000</td>\n",
       "      <td>0.000000</td>\n",
       "      <td>0.000000</td>\n",
       "    </tr>\n",
       "    <tr>\n",
       "      <th>23</th>\n",
       "      <td>2023-10-31</td>\n",
       "      <td>9.792285</td>\n",
       "      <td>8.011869</td>\n",
       "      <td>8.160237</td>\n",
       "      <td>10.089021</td>\n",
       "      <td>5.786350</td>\n",
       "      <td>7.566766</td>\n",
       "      <td>7.715134</td>\n",
       "      <td>6.528190</td>\n",
       "      <td>5.489614</td>\n",
       "      <td>...</td>\n",
       "      <td>0.296736</td>\n",
       "      <td>0.000000</td>\n",
       "      <td>0.000000</td>\n",
       "      <td>0.148368</td>\n",
       "      <td>0.000000</td>\n",
       "      <td>0.000000</td>\n",
       "      <td>0.148368</td>\n",
       "      <td>0.000000</td>\n",
       "      <td>0.148368</td>\n",
       "      <td>0.593472</td>\n",
       "    </tr>\n",
       "    <tr>\n",
       "      <th>24</th>\n",
       "      <td>2023-11-30</td>\n",
       "      <td>16.695060</td>\n",
       "      <td>6.814310</td>\n",
       "      <td>8.347530</td>\n",
       "      <td>6.473595</td>\n",
       "      <td>5.621806</td>\n",
       "      <td>4.599659</td>\n",
       "      <td>7.836457</td>\n",
       "      <td>8.006814</td>\n",
       "      <td>5.110733</td>\n",
       "      <td>...</td>\n",
       "      <td>0.511073</td>\n",
       "      <td>0.681431</td>\n",
       "      <td>0.170358</td>\n",
       "      <td>0.340716</td>\n",
       "      <td>0.000000</td>\n",
       "      <td>0.511073</td>\n",
       "      <td>0.000000</td>\n",
       "      <td>0.340716</td>\n",
       "      <td>0.000000</td>\n",
       "      <td>0.000000</td>\n",
       "    </tr>\n",
       "  </tbody>\n",
       "</table>\n",
       "<p>25 rows × 31 columns</p>\n",
       "</div>"
      ],
      "text/plain": [
       "Topic        date          0          1          2          3         4  \\\n",
       "0      2021-11-30  11.884754   7.442977   7.803121   8.043217  6.722689   \n",
       "1      2021-12-31  11.378003   8.596713   7.838180   8.470291  7.585335   \n",
       "2      2022-01-31  12.005857  10.688141   7.906296   8.052709  7.027818   \n",
       "3      2022-02-28  14.336918   6.571087   9.199522   7.407407  5.495818   \n",
       "4      2022-03-31   8.961039  10.519481  11.038961   9.350649  5.714286   \n",
       "5      2022-04-30  10.850801   8.261406   6.165228   8.877928  7.768187   \n",
       "6      2022-05-31  12.740385   9.375000   6.009615   8.533654  8.774038   \n",
       "7      2022-06-30  14.552239   8.084577   8.706468   7.711443  6.592040   \n",
       "8      2022-07-31  11.363636   9.090909   8.003953   8.596838  6.916996   \n",
       "9      2022-08-31  12.672522   7.653701  10.414053   8.531995  7.653701   \n",
       "10     2022-09-30  14.469078   7.467911   9.334889   8.868145  5.600933   \n",
       "11     2022-10-31  16.000000   8.121212   8.000000   8.606061  4.969697   \n",
       "12     2022-11-30  12.513256   6.892895   7.953340   6.468717  8.589608   \n",
       "13     2022-12-31  13.333333   6.037736   8.050314   7.798742  7.044025   \n",
       "14     2023-01-31  10.101010   7.503608   8.225108   9.668110  9.668110   \n",
       "15     2023-02-28  12.890625   8.203125   7.421875   5.729167  5.989583   \n",
       "16     2023-03-31  13.229018   7.965861   8.677098   7.823613  4.694168   \n",
       "17     2023-04-30  13.978495   7.526882   7.885305   8.721625  6.093190   \n",
       "18     2023-05-31  10.630408   8.776267   8.158220   6.922126  6.798517   \n",
       "19     2023-06-30  10.131579   7.763158  11.447368   9.078947  7.368421   \n",
       "20     2023-07-31  15.223881   8.059701   8.507463   6.417910  5.970149   \n",
       "21     2023-08-31  11.483871   6.838710  10.967742   8.129032  6.193548   \n",
       "22     2023-09-30   9.617756   8.014797   8.014797   9.987670  6.658446   \n",
       "23     2023-10-31   9.792285   8.011869   8.160237  10.089021  5.786350   \n",
       "24     2023-11-30  16.695060   6.814310   8.347530   6.473595  5.621806   \n",
       "\n",
       "Topic         5          6         7         8  ...        20        21  \\\n",
       "0      7.563025   5.162065  5.282113  5.162065  ...  1.200480  0.360144   \n",
       "1      5.436157   7.079646  5.689001  7.964602  ...  0.000000  0.379267   \n",
       "2      6.442167   6.295754  7.759883  4.978038  ...  0.439239  0.732064   \n",
       "3      5.376344   7.048984  6.212664  5.256870  ...  1.314217  0.477897   \n",
       "4      7.012987   7.012987  7.792208  6.623377  ...  0.129870  0.000000   \n",
       "5      6.535142   9.987670  6.288533  4.808878  ...  0.123305  0.123305   \n",
       "6      5.288462   7.091346  5.408654  6.490385  ...  0.000000  0.240385   \n",
       "7      6.218905   8.333333  4.726368  4.850746  ...  0.124378  0.124378   \n",
       "8      6.126482   5.731225  5.335968  5.237154  ...  0.197628  0.296443   \n",
       "9      6.398996   7.151819  5.018821  7.026349  ...  0.125471  0.125471   \n",
       "10     7.001167   5.250875  5.250875  5.600933  ...  0.116686  0.466744   \n",
       "11     5.818182   7.636364  7.151515  5.818182  ...  0.242424  0.363636   \n",
       "12     6.574761   5.620361  4.878049  4.029692  ...  0.848356  0.212089   \n",
       "13     5.534591   8.679245  6.792453  4.905660  ...  0.125786  0.503145   \n",
       "14     5.772006   6.493506  5.483405  4.329004  ...  0.577201  0.577201   \n",
       "15     7.942708   7.421875  5.598958  3.255208  ...  0.390625  1.302083   \n",
       "16     7.539118   7.823613  5.832148  6.685633  ...  0.568990  0.000000   \n",
       "17     6.451613   9.677419  5.615293  5.854241  ...  0.716846  0.597372   \n",
       "18     6.798517   8.158220  7.292954  2.719407  ...  0.000000  1.236094   \n",
       "19     7.236842   8.684211  6.447368  7.105263  ...  0.657895  0.131579   \n",
       "20     7.462687   6.268657  6.417910  4.776119  ...  0.447761  0.000000   \n",
       "21     6.838710   6.967742  6.967742  4.774194  ...  0.645161  0.387097   \n",
       "22     4.932182  10.850801  5.795314  5.918619  ...  0.369914  0.246609   \n",
       "23     7.566766   7.715134  6.528190  5.489614  ...  0.296736  0.000000   \n",
       "24     4.599659   7.836457  8.006814  5.110733  ...  0.511073  0.681431   \n",
       "\n",
       "Topic        22        23        24        25        26        27        28  \\\n",
       "0      0.240096  0.360144  0.960384  0.000000  0.240096  0.120048  0.120048   \n",
       "1      0.252845  0.252845  0.000000  0.000000  0.126422  0.252845  0.000000   \n",
       "2      0.292826  0.146413  0.000000  0.000000  0.000000  0.292826  0.000000   \n",
       "3      0.000000  0.477897  0.716846  0.238949  0.238949  0.358423  0.000000   \n",
       "4      0.129870  1.168831  0.259740  0.000000  0.129870  0.000000  0.000000   \n",
       "5      0.986436  0.123305  0.739827  0.123305  0.000000  0.123305  0.493218   \n",
       "6      0.240385  0.360577  0.360577  0.360577  0.000000  0.000000  0.240385   \n",
       "7      0.497512  0.000000  0.000000  0.124378  0.124378  0.000000  1.119403   \n",
       "8      0.296443  0.395257  0.197628  1.086957  0.098814  0.000000  0.000000   \n",
       "9      0.376412  0.000000  0.376412  0.125471  0.125471  0.000000  0.000000   \n",
       "10     0.233372  0.116686  0.350058  0.000000  0.000000  0.000000  0.233372   \n",
       "11     0.000000  0.000000  0.000000  0.969697  0.121212  0.000000  0.000000   \n",
       "12     0.212089  0.318134  0.212089  0.212089  0.212089  0.424178  0.000000   \n",
       "13     1.006289  0.125786  0.000000  0.880503  0.125786  0.000000  0.000000   \n",
       "14     0.288600  0.721501  0.288600  0.144300  0.288600  0.000000  0.000000   \n",
       "15     0.130208  0.911458  0.000000  0.000000  0.260417  0.130208  0.000000   \n",
       "16     0.284495  0.000000  0.284495  0.995733  0.000000  0.000000  0.000000   \n",
       "17     0.238949  0.000000  0.119474  0.119474  0.000000  0.119474  0.119474   \n",
       "18     0.494438  0.000000  0.000000  0.123609  0.247219  0.123609  0.000000   \n",
       "19     0.131579  0.000000  0.263158  0.131579  0.263158  0.263158  0.000000   \n",
       "20     0.000000  1.791045  0.298507  0.000000  0.000000  0.149254  0.000000   \n",
       "21     0.387097  0.129032  0.258065  0.258065  0.000000  0.000000  0.516129   \n",
       "22     0.123305  0.369914  0.123305  0.123305  0.369914  0.000000  0.000000   \n",
       "23     0.000000  0.148368  0.000000  0.000000  0.148368  0.000000  0.148368   \n",
       "24     0.170358  0.340716  0.000000  0.511073  0.000000  0.340716  0.000000   \n",
       "\n",
       "Topic        29  \n",
       "0      0.120048  \n",
       "1      0.000000  \n",
       "2      0.000000  \n",
       "3      0.000000  \n",
       "4      0.000000  \n",
       "5      0.000000  \n",
       "6      0.000000  \n",
       "7      0.000000  \n",
       "8      0.000000  \n",
       "9      0.000000  \n",
       "10     0.233372  \n",
       "11     0.000000  \n",
       "12     0.000000  \n",
       "13     0.000000  \n",
       "14     0.144300  \n",
       "15     0.000000  \n",
       "16     0.284495  \n",
       "17     0.000000  \n",
       "18     0.247219  \n",
       "19     0.000000  \n",
       "20     0.000000  \n",
       "21     0.000000  \n",
       "22     0.000000  \n",
       "23     0.593472  \n",
       "24     0.000000  \n",
       "\n",
       "[25 rows x 31 columns]"
      ]
     },
     "execution_count": 157,
     "metadata": {},
     "output_type": "execute_result"
    }
   ],
   "source": [
    "tot_topa_not_answered_rate_pivot"
   ]
  },
  {
   "cell_type": "code",
   "execution_count": 158,
   "metadata": {},
   "outputs": [],
   "source": [
    "tot_topa_not_answered_rate_pivot['sdate'] = tot_topa_not_answered_rate_pivot['date'].astype('str')\n",
    "tot_topa_answered_rate_pivot['sdate'] = tot_topa_answered_rate_pivot['date'].astype('str')"
   ]
  },
  {
   "cell_type": "code",
   "execution_count": 171,
   "metadata": {},
   "outputs": [],
   "source": [
    "tot_topa_not_answered_pivot.to_csv('./chk_not_answered.csv')\n",
    "tot_topa_answered_pivot.to_csv('./chk_answered.csv')"
   ]
  },
  {
   "cell_type": "code",
   "execution_count": 160,
   "metadata": {},
   "outputs": [
    {
     "data": {
      "image/png": "[encoded data removed]",
      "text/plain": [
       "<Figure size 1000x500 with 1 Axes>"
      ]
     },
     "metadata": {},
     "output_type": "display_data"
    }
   ],
   "source": [
    "### Problem 2b: Reformat the data and generate the stacked bar plot above.\n",
    "\n",
    "\n",
    "fig, ax = plt.subplots(figsize = (10, 5))\n",
    "\n",
    "# ax.bar(topic_per_pivot['date'], topic_per_pivot[0], width = 0.5, color='blue', label = 'Party A')\n",
    "ax.bar(tot_topa_answered_rate_pivot['sdate'], tot_topa_not_answered_rate_pivot[0], color='red', label = 'Party A')\n",
    "ax.bar(tot_topa_answered_rate_pivot['sdate'], tot_topa_not_answered_rate_pivot[1], bottom = tot_topa_not_answered_rate_pivot[0], color = 'orange', label = 'Party B')\n",
    "ax.bar(tot_topa_answered_rate_pivot['sdate'], tot_topa_not_answered_rate_pivot[2], bottom = tot_topa_not_answered_rate_pivot[1] + tot_topa_not_answered_rate_pivot[0], color = 'green', label = 'Party B')\n",
    "ax.bar(tot_topa_answered_rate_pivot['sdate'], tot_topa_not_answered_rate_pivot[3], bottom = tot_topa_not_answered_rate_pivot[2] + tot_topa_not_answered_rate_pivot[1] + tot_topa_not_answered_rate_pivot[0], color = 'yellow', label = 'Party B')\n",
    "ax.bar(tot_topa_answered_rate_pivot['sdate'], tot_topa_not_answered_rate_pivot[4], bottom = tot_topa_not_answered_rate_pivot[3] + tot_topa_not_answered_rate_pivot[2] + tot_topa_not_answered_rate_pivot[1] + tot_topa_not_answered_rate_pivot[0], color = 'blue', label = 'Party B')\n",
    "ax.bar(tot_topa_answered_rate_pivot['sdate'], tot_topa_not_answered_rate_pivot[5], bottom = tot_topa_not_answered_rate_pivot[4] + tot_topa_not_answered_rate_pivot[3] + tot_topa_not_answered_rate_pivot[2] + tot_topa_not_answered_rate_pivot[1] + tot_topa_not_answered_rate_pivot[0], color = 'purple', label = 'Party B')\n",
    "\n",
    "\n",
    "# ax.set_xlabel('Congress', fontsize = 5, labelpad = 20)\n",
    "# ax.set_xlabel('Congress', fontsize = 5)\n",
    "# ax.set_ylabel('Number of Seats', fontsize = 5, labelpad = 20)\n",
    "# ax.set_title('Partisan Composition of Congress', fontsize = 17.5, pad = 20)\n",
    "\n",
    "# ax.tick_params(axis = 'both', labelsize = 5)\n",
    "\n",
    "# ax.legend(title = \"Political Party\",\n",
    "#           title_fontsize = 15, fontsize = 5,\n",
    "#           bbox_to_anchor = (1, 0.55))\n",
    "\n",
    "plt.xticks(rotation = 45)\n",
    "plt.show();"
   ]
  },
  {
   "cell_type": "code",
   "execution_count": 161,
   "metadata": {},
   "outputs": [
    {
     "data": {
      "image/png": "[encoded data removed]",
      "text/plain": [
       "<Figure size 1000x500 with 1 Axes>"
      ]
     },
     "metadata": {},
     "output_type": "display_data"
    }
   ],
   "source": [
    "### Problem 2b: Reformat the data and generate the stacked bar plot above.\n",
    "\n",
    "\n",
    "fig, ax = plt.subplots(figsize = (10, 5))\n",
    "\n",
    "# ax.bar(topic_per_pivot['date'], topic_per_pivot[0], width = 0.5, color='blue', label = 'Party A')\n",
    "ax.bar(tot_topa_answered_rate_pivot['sdate'], tot_topa_answered_rate_pivot[0], color='red', label = 'Party A')\n",
    "ax.bar(tot_topa_answered_rate_pivot['sdate'], tot_topa_answered_rate_pivot[1], bottom = tot_topa_answered_rate_pivot[0], color = 'orange', label = 'Party B')\n",
    "ax.bar(tot_topa_answered_rate_pivot['sdate'], tot_topa_answered_rate_pivot[2], bottom = tot_topa_answered_rate_pivot[1] + tot_topa_answered_rate_pivot[0], color = 'green', label = 'Party B')\n",
    "ax.bar(tot_topa_answered_rate_pivot['sdate'], tot_topa_answered_rate_pivot[3], bottom = tot_topa_answered_rate_pivot[2] + tot_topa_answered_rate_pivot[1] + tot_topa_answered_rate_pivot[0], color = 'yellow', label = 'Party B')\n",
    "ax.bar(tot_topa_answered_rate_pivot['sdate'], tot_topa_answered_rate_pivot[4], bottom = tot_topa_answered_rate_pivot[3] + tot_topa_answered_rate_pivot[2] + tot_topa_answered_rate_pivot[1] + tot_topa_answered_rate_pivot[0], color = 'blue', label = 'Party B')\n",
    "ax.bar(tot_topa_answered_rate_pivot['sdate'], tot_topa_answered_rate_pivot[5], bottom = tot_topa_answered_rate_pivot[4] + tot_topa_answered_rate_pivot[3] + tot_topa_answered_rate_pivot[2] + tot_topa_answered_rate_pivot[1] + tot_topa_answered_rate_pivot[0], color = 'purple', label = 'Party B')\n",
    "\n",
    "\n",
    "# ax.set_xlabel('Congress', fontsize = 5, labelpad = 20)\n",
    "# ax.set_xlabel('Congress', fontsize = 5)\n",
    "# ax.set_ylabel('Number of Seats', fontsize = 5, labelpad = 20)\n",
    "# ax.set_title('Partisan Composition of Congress', fontsize = 17.5, pad = 20)\n",
    "\n",
    "# ax.tick_params(axis = 'both', labelsize = 5)\n",
    "\n",
    "# ax.legend(title = \"Political Party\",\n",
    "#           title_fontsize = 15, fontsize = 5,\n",
    "#           bbox_to_anchor = (1, 0.55))\n",
    "\n",
    "plt.xticks(rotation = 45)\n",
    "plt.show();"
   ]
  },
  {
   "cell_type": "code",
   "execution_count": 162,
   "metadata": {},
   "outputs": [
    {
     "data": {
      "image/png": "[encoded data removed]",
      "text/plain": [
       "<Figure size 1000x500 with 1 Axes>"
      ]
     },
     "metadata": {},
     "output_type": "display_data"
    }
   ],
   "source": [
    "idx = np.arange(tot_topa_answered_rate_pivot.shape[0])\n",
    "w = 0.15\n",
    "\n",
    "plt.figure(figsize = (10, 5))\n",
    "plt.title('user count who leaves question and answer per month ')\n",
    "plt.xlabel('month(in 2023)')\n",
    "plt.ylabel('user count')\n",
    "plt.bar(idx - w * w, tot_topa_answered_rate_pivot[0], width = w, label = 'answered')\n",
    "plt.bar(idx + w, tot_topa_not_answered_rate_pivot[0], width = w, label = 'not answered')\n",
    "plt.xticks(idx, tot_topa_answered_rate_pivot['sdate'], rotation = 30)\n",
    "plt.legend(ncol = 1)\n",
    "plt.show()"
   ]
  },
  {
   "cell_type": "code",
   "execution_count": 163,
   "metadata": {},
   "outputs": [
    {
     "data": {
      "image/png": "[encoded data removed]",
      "text/plain": [
       "<Figure size 1000x500 with 1 Axes>"
      ]
     },
     "metadata": {},
     "output_type": "display_data"
    }
   ],
   "source": [
    "idx = np.arange(tot_topa_answered_rate_pivot.shape[0])\n",
    "w = 0.15\n",
    "\n",
    "plt.figure(figsize = (10, 5))\n",
    "plt.title('user count who leaves question and answer per month ')\n",
    "plt.xlabel('month(in 2023)')\n",
    "plt.ylabel('user count')\n",
    "plt.bar(idx - w * w, tot_topa_answered_rate_pivot[1], width = w, label = 'answered')\n",
    "plt.bar(idx + w, tot_topa_not_answered_rate_pivot[1], width = w, label = 'not answered')\n",
    "plt.xticks(idx, tot_topa_answered_rate_pivot['sdate'], rotation = 30)\n",
    "plt.legend(ncol = 1)\n",
    "plt.show()"
   ]
  },
  {
   "cell_type": "code",
   "execution_count": 164,
   "metadata": {},
   "outputs": [
    {
     "data": {
      "image/png": "[encoded data removed]",
      "text/plain": [
       "<Figure size 1000x500 with 1 Axes>"
      ]
     },
     "metadata": {},
     "output_type": "display_data"
    }
   ],
   "source": [
    "idx = np.arange(tot_topa_answered_rate_pivot.shape[0])\n",
    "w = 0.15\n",
    "\n",
    "plt.figure(figsize = (10, 5))\n",
    "plt.title('user count who leaves question and answer per month ')\n",
    "plt.xlabel('month(in 2023)')\n",
    "plt.ylabel('user count')\n",
    "plt.bar(idx - w * w, tot_topa_answered_rate_pivot[2], width = w, label = 'answered')\n",
    "plt.bar(idx + w, tot_topa_not_answered_rate_pivot[2], width = w, label = 'not answered')\n",
    "plt.xticks(idx, tot_topa_answered_rate_pivot['sdate'], rotation = 30)\n",
    "plt.legend(ncol = 1)\n",
    "plt.show()"
   ]
  },
  {
   "cell_type": "code",
   "execution_count": 166,
   "metadata": {},
   "outputs": [
    {
     "data": {
      "image/png": "[encoded data removed]",
      "text/plain": [
       "<Figure size 1000x500 with 1 Axes>"
      ]
     },
     "metadata": {},
     "output_type": "display_data"
    }
   ],
   "source": [
    "idx = np.arange(tot_topa_answered_rate_pivot.shape[0])\n",
    "w = 0.15\n",
    "\n",
    "plt.figure(figsize = (10, 5))\n",
    "plt.title('user count who leaves question and answer per month ')\n",
    "plt.xlabel('month(in 2023)')\n",
    "plt.ylabel('user count')\n",
    "plt.bar(idx - w * w, tot_topa_answered_rate_pivot[3], width = w, label = 'answered')\n",
    "plt.bar(idx + w, tot_topa_not_answered_rate_pivot[3], width = w, label = 'not answered')\n",
    "plt.xticks(idx, tot_topa_answered_rate_pivot['sdate'], rotation = 30)\n",
    "plt.legend(ncol = 1)\n",
    "plt.show()"
   ]
  },
  {
   "cell_type": "code",
   "execution_count": 167,
   "metadata": {},
   "outputs": [
    {
     "data": {
      "image/png": "[encoded data removed]",
      "text/plain": [
       "<Figure size 1000x500 with 1 Axes>"
      ]
     },
     "metadata": {},
     "output_type": "display_data"
    }
   ],
   "source": [
    "idx = np.arange(tot_topa_answered_rate_pivot.shape[0])\n",
    "w = 0.15\n",
    "\n",
    "plt.figure(figsize = (10, 5))\n",
    "plt.title('user count who leaves question and answer per month ')\n",
    "plt.xlabel('month(in 2023)')\n",
    "plt.ylabel('user count')\n",
    "plt.bar(idx - w * w, tot_topa_answered_rate_pivot[2], width = w, label = 'answered')\n",
    "# plt.bar(idx + w, tot_topa_not_answered_rate_pivot[3], width = w, label = 'answer count')\n",
    "plt.xticks(idx, tot_topa_answered_rate_pivot['sdate'], rotation = 30)\n",
    "plt.legend(ncol = 1)\n",
    "plt.show()"
   ]
  },
  {
   "cell_type": "code",
   "execution_count": null,
   "metadata": {},
   "outputs": [],
   "source": []
  }
 ],
 "metadata": {
  "kernelspec": {
   "display_name": "Python 3",
   "language": "python",
   "name": "python3"
  },
  "language_info": {
   "codemirror_mode": {
    "name": "ipython",
    "version": 3
   },
   "file_extension": ".py",
   "mimetype": "text/x-python",
   "name": "python",
   "nbconvert_exporter": "python",
   "pygments_lexer": "ipython3",
   "version": "3.9.6"
  }
 },
 "nbformat": 4,
 "nbformat_minor": 2
}
