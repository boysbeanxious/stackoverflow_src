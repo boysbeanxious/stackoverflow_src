{
 "cells": [
  {
   "cell_type": "code",
   "execution_count": 1,
   "metadata": {},
   "outputs": [
    {
     "name": "stderr",
     "output_type": "stream",
     "text": [
      "/Users/cslab/Library/Python/3.9/lib/python/site-packages/urllib3/__init__.py:35: NotOpenSSLWarning: urllib3 v2 only supports OpenSSL 1.1.1+, currently the 'ssl' module is compiled with 'LibreSSL 2.8.3'. See: https://github.com/urllib3/urllib3/issues/3020\n",
      "  warnings.warn(\n"
     ]
    }
   ],
   "source": [
    "import pandas as pd\n",
    "import seaborn as sns\n",
    "import matplotlib.pyplot as plt\n",
    "import numpy as np\n",
    "import pickle\n",
    "import re\n",
    "from umap import UMAP\n",
    "from hdbscan import HDBSCAN\n",
    "import torch\n",
    "from transformers import RobertaTokenizer, RobertaConfig, RobertaModel\n",
    "from collections.abc import Iterable\n",
    "from transformers import AutoTokenizer, AutoModel\n",
    "from bertopic import BERTopic\n",
    "import torch\n",
    "from collections import deque\n",
    "from bertopic.representation import KeyBERTInspired"
   ]
  },
  {
   "cell_type": "code",
   "execution_count": 3,
   "metadata": {},
   "outputs": [],
   "source": [
    "# 파일 불러오기\n",
    "with open('../../data/bert_src_df.pkl', 'rb') as f:\n",
    "    bert_src_df = pickle.load(f)\n"
   ]
  },
  {
   "cell_type": "code",
   "execution_count": 4,
   "metadata": {},
   "outputs": [
    {
     "name": "stdout",
     "output_type": "stream",
     "text": [
      "<class 'pandas.core.frame.DataFrame'>\n",
      "RangeIndex: 5223203 entries, 0 to 5223202\n",
      "Data columns (total 5 columns):\n",
      " #   Column          Dtype         \n",
      "---  ------          -----         \n",
      " 0   q_id            int64         \n",
      " 1   a_id            float64       \n",
      " 2   q_creationdate  datetime64[ns]\n",
      " 3   tags            object        \n",
      " 4   body            object        \n",
      "dtypes: datetime64[ns](1), float64(1), int64(1), object(2)\n",
      "memory usage: 199.2+ MB\n"
     ]
    }
   ],
   "source": [
    "bert_src_df.info()"
   ]
  },
  {
   "cell_type": "code",
   "execution_count": 5,
   "metadata": {},
   "outputs": [],
   "source": [
    "cond1 = bert_src_df['q_creationdate']<='2022-11-30'\n",
    "cond2 = bert_src_df['q_creationdate']>='2021-11-30'\n",
    "cond3 = bert_src_df['a_id'].isna()\n",
    "cond4 = bert_src_df['tags'].str.contains('python')\n",
    "cond5 = bert_src_df['q_creationdate']>='2022-12-01'"
   ]
  },
  {
   "cell_type": "code",
   "execution_count": 6,
   "metadata": {},
   "outputs": [],
   "source": [
    "bert_src_bf = bert_src_df.loc[cond1 & cond2 & cond3 & cond4, :]\n",
    "bert_src_af = bert_src_df.loc[cond1 & cond3 & cond4 & cond5, :]"
   ]
  },
  {
   "cell_type": "code",
   "execution_count": 7,
   "metadata": {},
   "outputs": [
    {
     "data": {
      "text/html": [
       "<div>\n",
       "<style scoped>\n",
       "    .dataframe tbody tr th:only-of-type {\n",
       "        vertical-align: middle;\n",
       "    }\n",
       "\n",
       "    .dataframe tbody tr th {\n",
       "        vertical-align: top;\n",
       "    }\n",
       "\n",
       "    .dataframe thead th {\n",
       "        text-align: right;\n",
       "    }\n",
       "</style>\n",
       "<table border=\"1\" class=\"dataframe\">\n",
       "  <thead>\n",
       "    <tr style=\"text-align: right;\">\n",
       "      <th></th>\n",
       "      <th>q_id</th>\n",
       "      <th>a_id</th>\n",
       "      <th>q_creationdate</th>\n",
       "      <th>tags</th>\n",
       "      <th>body</th>\n",
       "    </tr>\n",
       "  </thead>\n",
       "  <tbody>\n",
       "    <tr>\n",
       "      <th>1277</th>\n",
       "      <td>74605388</td>\n",
       "      <td>74660649.0</td>\n",
       "      <td>2022-11-28 19:03:09.213</td>\n",
       "      <td>&lt;python&gt;&lt;list&gt;&lt;discord&gt;</td>\n",
       "      <td>&lt;p&gt;I wanted to do a discord command scraper in...</td>\n",
       "    </tr>\n",
       "    <tr>\n",
       "      <th>1278</th>\n",
       "      <td>74601289</td>\n",
       "      <td>74601433.0</td>\n",
       "      <td>2022-11-28 13:26:01.467</td>\n",
       "      <td>&lt;python&gt;&lt;tensorflow&gt;&lt;keras&gt;</td>\n",
       "      <td>&lt;p&gt;I am trying to randomly generate timeseries...</td>\n",
       "    </tr>\n",
       "    <tr>\n",
       "      <th>1279</th>\n",
       "      <td>74601457</td>\n",
       "      <td>74601499.0</td>\n",
       "      <td>2022-11-28 13:39:25.053</td>\n",
       "      <td>&lt;python&gt;&lt;pandas&gt;&lt;dataframe&gt;&lt;group-by&gt;&lt;data-sci...</td>\n",
       "      <td>&lt;p&gt;Ok so this is more of a question about how ...</td>\n",
       "    </tr>\n",
       "    <tr>\n",
       "      <th>1284</th>\n",
       "      <td>74598689</td>\n",
       "      <td>74695040.0</td>\n",
       "      <td>2022-11-28 09:44:13.533</td>\n",
       "      <td>&lt;python&gt;&lt;apache-spark&gt;&lt;pyspark&gt;</td>\n",
       "      <td>&lt;p&gt;Given a &lt;a href=\"https://spark.apache.org/d...</td>\n",
       "    </tr>\n",
       "    <tr>\n",
       "      <th>1285</th>\n",
       "      <td>74598689</td>\n",
       "      <td>74703354.0</td>\n",
       "      <td>2022-11-28 09:44:13.533</td>\n",
       "      <td>&lt;python&gt;&lt;apache-spark&gt;&lt;pyspark&gt;</td>\n",
       "      <td>&lt;p&gt;Given a &lt;a href=\"https://spark.apache.org/d...</td>\n",
       "    </tr>\n",
       "  </tbody>\n",
       "</table>\n",
       "</div>"
      ],
      "text/plain": [
       "          q_id        a_id          q_creationdate  \\\n",
       "1277  74605388  74660649.0 2022-11-28 19:03:09.213   \n",
       "1278  74601289  74601433.0 2022-11-28 13:26:01.467   \n",
       "1279  74601457  74601499.0 2022-11-28 13:39:25.053   \n",
       "1284  74598689  74695040.0 2022-11-28 09:44:13.533   \n",
       "1285  74598689  74703354.0 2022-11-28 09:44:13.533   \n",
       "\n",
       "                                                   tags  \\\n",
       "1277                            <python><list><discord>   \n",
       "1278                        <python><tensorflow><keras>   \n",
       "1279  <python><pandas><dataframe><group-by><data-sci...   \n",
       "1284                    <python><apache-spark><pyspark>   \n",
       "1285                    <python><apache-spark><pyspark>   \n",
       "\n",
       "                                                   body  \n",
       "1277  <p>I wanted to do a discord command scraper in...  \n",
       "1278  <p>I am trying to randomly generate timeseries...  \n",
       "1279  <p>Ok so this is more of a question about how ...  \n",
       "1284  <p>Given a <a href=\"https://spark.apache.org/d...  \n",
       "1285  <p>Given a <a href=\"https://spark.apache.org/d...  "
      ]
     },
     "execution_count": 7,
     "metadata": {},
     "output_type": "execute_result"
    }
   ],
   "source": [
    "bert_src_bf.head()"
   ]
  },
  {
   "cell_type": "code",
   "execution_count": 8,
   "metadata": {},
   "outputs": [],
   "source": [
    "def cleanhtml(raw_html):\n",
    "  # 1.Source code in python language is hard to understand, so replace all the <code> tag first\n",
    "  cleantext_1 = re.findall(r'(?<=\\<code>)(.*?)(?=<\\/code>)', raw_html.replace('\\n', '_**_'))\n",
    "  cleantext_1 = [x.replace('_**_', '\\n') for x in cleantext_1]\n",
    "  # 2. replace html tags\n",
    "  # <p>\n",
    "  tag_re = re.compile('<.*?>')\n",
    "  cleantext_2 = [re.sub(tag_re, '', x) for x in cleantext_1]\n",
    "  return cleantext_2"
   ]
  },
  {
   "cell_type": "code",
   "execution_count": 9,
   "metadata": {},
   "outputs": [],
   "source": [
    "# apply the function, cleanhtml to the question and body text\n",
    "bert_src_bf.loc[:, 'q_prep_text'] = bert_src_bf['body'].apply(cleanhtml)\n",
    "bert_src_af.loc[:, 'q_prep_text'] = bert_src_bf['body'].apply(cleanhtml)"
   ]
  },
  {
   "cell_type": "code",
   "execution_count": 10,
   "metadata": {},
   "outputs": [],
   "source": [
    "bert_src_bf = bert_src_bf.reset_index(drop=True)\n",
    "bert_src_af = bert_src_af.reset_index(drop=True)"
   ]
  },
  {
   "cell_type": "code",
   "execution_count": 11,
   "metadata": {},
   "outputs": [],
   "source": [
    "bert_src_bf = bert_src_bf[['q_id', 'q_prep_text']].apply(pd.Series.explode)\n",
    "bert_src_af = bert_src_af[['q_id', 'q_prep_text']].apply(pd.Series.explode)"
   ]
  },
  {
   "cell_type": "code",
   "execution_count": 12,
   "metadata": {},
   "outputs": [],
   "source": [
    "bert_src_bf.dropna(inplace=True)\n",
    "bert_src_af.dropna(inplace=True)"
   ]
  },
  {
   "cell_type": "code",
   "execution_count": 13,
   "metadata": {},
   "outputs": [],
   "source": [
    "# PREPROCESSING FOR CODE SCRIPT\n",
    "def preprocess_script(script):\n",
    "    new_script = deque()\n",
    "    old_script = script.split('\\n')\n",
    "    for line in old_script:\n",
    "        if line.lstrip().startswith('#'): # 주석으로 시작되는 행 skip\n",
    "            continue\n",
    "        line = line.rstrip()\n",
    "        if '#' in line:\n",
    "            line = line[:line.index('#')] # 주석 전까지 코드만 저장\n",
    "        line = line.replace('\\n','') # 개행 문자를 모두 삭제함\n",
    "        line = line.replace('    ','\\t') # 공백 4칸을 tab으로 변환\n",
    "        \n",
    "        if line == '': # 전처리 후 빈 라인은 skip\n",
    "            continue\n",
    "        \n",
    "        new_script.append(line)\n",
    "\n",
    "        \n",
    "    new_script = '\\n'.join(new_script) # 개행 문자로 합침\n",
    "    new_script = re.sub('(\"\"\"[\\w\\W]*?\"\"\")', '<str>', new_script)\n",
    "    new_script = re.sub(\"('''[\\w\\W]*?''')\", '<str>', new_script)\n",
    "    new_script = re.sub('/^(http?|https?):\\/\\/([a-z0-9-]+\\.)+[a-z0-9]{2,4}.*$/', '', new_script)\n",
    "    \n",
    "    return new_script\n"
   ]
  },
  {
   "cell_type": "code",
   "execution_count": 14,
   "metadata": {},
   "outputs": [],
   "source": [
    "bert_src_bf['q_prep_text_non'] = bert_src_bf['q_prep_text'].apply(preprocess_script)\n",
    "bert_src_af['q_prep_text_non'] = bert_src_af['q_prep_text'].apply(preprocess_script)"
   ]
  },
  {
   "cell_type": "code",
   "execution_count": 15,
   "metadata": {},
   "outputs": [],
   "source": [
    "src = bert_src_bf['q_prep_text_non'].tolist()\n",
    "# df['sentiments'].values.tolist()\n"
   ]
  },
  {
   "cell_type": "code",
   "execution_count": 16,
   "metadata": {},
   "outputs": [
    {
     "name": "stdout",
     "output_type": "stream",
     "text": [
      "<class 'list'>\n",
      "<class 'str'>\n",
      "811999\n"
     ]
    }
   ],
   "source": [
    "print(type(src))\n",
    "print(type(src[0]))\n",
    "print(len(src))"
   ]
  },
  {
   "cell_type": "code",
   "execution_count": 17,
   "metadata": {},
   "outputs": [],
   "source": [
    "src = src[:10000]"
   ]
  },
  {
   "cell_type": "code",
   "execution_count": 18,
   "metadata": {},
   "outputs": [],
   "source": [
    "# 데이터 로드\n",
    "data = src"
   ]
  },
  {
   "cell_type": "code",
   "execution_count": 19,
   "metadata": {},
   "outputs": [],
   "source": [
    "data = data"
   ]
  },
  {
   "cell_type": "code",
   "execution_count": 20,
   "metadata": {},
   "outputs": [],
   "source": [
    "# CodeBERT 모델과 토크나이저 로드\n",
    "model_name = \"microsoft/codebert-base\"\n",
    "tokenizer = AutoTokenizer.from_pretrained(model_name)\n",
    "model = AutoModel.from_pretrained(model_name)"
   ]
  },
  {
   "cell_type": "code",
   "execution_count": 21,
   "metadata": {},
   "outputs": [],
   "source": [
    "# 임베딩 함수 정의\n",
    "def embed_text(text):\n",
    "    encoded_input = tokenizer(text, padding=True, truncation=True, return_tensors='pt')\n",
    "    with torch.no_grad():\n",
    "        model_output = model(**encoded_input)\n",
    "    return model_output.last_hidden_state[:, 0, :]"
   ]
  },
  {
   "cell_type": "code",
   "execution_count": 22,
   "metadata": {},
   "outputs": [],
   "source": [
    "# 모든 텍스트에 대한 임베딩 계산\n",
    "embeddings = torch.cat([embed_text(text) for text in data], dim=0).numpy()  # 텐서로 연결 후 numpy 배열로 변환"
   ]
  },
  {
   "cell_type": "code",
   "execution_count": null,
   "metadata": {},
   "outputs": [],
   "source": [
    "embeddings.shape"
   ]
  },
  {
   "cell_type": "code",
   "execution_count": null,
   "metadata": {},
   "outputs": [],
   "source": [
    "umap_model = UMAP(n_neighbors=15, n_components=5, min_dist=0.0, metric='cosine', random_state=42)"
   ]
  },
  {
   "cell_type": "code",
   "execution_count": null,
   "metadata": {},
   "outputs": [],
   "source": [
    "hdbscan_model = HDBSCAN(min_cluster_size=50, metric='euclidean', cluster_selection_method='eom', prediction_data=True)"
   ]
  },
  {
   "cell_type": "code",
   "execution_count": null,
   "metadata": {},
   "outputs": [],
   "source": [
    "representation_model = KeyBERTInspired()"
   ]
  },
  {
   "cell_type": "code",
   "execution_count": null,
   "metadata": {},
   "outputs": [],
   "source": [
    "# BERTopic 모델 초기화 및 훈련\n",
    "topic_model = BERTopic( embedding_model=model,\n",
    "                        umap_model=umap_model,\n",
    "                        hdbscan_model=hdbscan_model,\n",
    "                        representation_model=representation_model)  # 임베딩 모델 사용을 비활성화\n",
    "topics, probabilities = topic_model.fit_transform(data, embeddings)\n"
   ]
  },
  {
   "cell_type": "code",
   "execution_count": null,
   "metadata": {},
   "outputs": [],
   "source": [
    "# 결과 출력\n",
    "print(topic_model.get_topic_info())  # 토픽 정보 출력"
   ]
  },
  {
   "cell_type": "code",
   "execution_count": null,
   "metadata": {},
   "outputs": [],
   "source": [
    "topic_model.get_topic_info()"
   ]
  },
  {
   "cell_type": "code",
   "execution_count": null,
   "metadata": {},
   "outputs": [],
   "source": [
    "topic_model.get_topic(0)"
   ]
  },
  {
   "cell_type": "code",
   "execution_count": null,
   "metadata": {},
   "outputs": [],
   "source": [
    "topic_model.get_topic(1)"
   ]
  },
  {
   "cell_type": "code",
   "execution_count": null,
   "metadata": {},
   "outputs": [],
   "source": [
    "topic_model.get_topic(6, full=True)"
   ]
  },
  {
   "cell_type": "code",
   "execution_count": null,
   "metadata": {},
   "outputs": [],
   "source": [
    "# # Label the topics yourself\n",
    "# topic_model.set_topic_labels({1: \"Space Travel\", 7: \"Religion\"})\n",
    "\n",
    "# # or use one of the other topic representations, like KeyBERTInspired\n",
    "# keybert_topic_labels = {topic: \" | \".join(list(zip(*values))[0][:3]) for topic, values in topic_model.topic_aspects_[\"KeyBERT\"].items()}\n",
    "# topic_model.set_topic_labels(keybert_topic_labels)\n",
    "\n",
    "# # or ChatGPT's labels\n",
    "# chatgpt_topic_labels = {topic: \" | \".join(list(zip(*values))[0]) for topic, values in topic_model.topic_aspects_[\"OpenAI\"].items()}\n",
    "# chatgpt_topic_labels[-1] = \"Outlier Topic\"\n",
    "# topic_model.set_topic_labels(chatgpt_topic_labels)"
   ]
  },
  {
   "cell_type": "code",
   "execution_count": null,
   "metadata": {},
   "outputs": [],
   "source": [
    "# topic_distr, _ = topic_model.approximate_distribution(data, window=8, stride=4)"
   ]
  },
  {
   "cell_type": "code",
   "execution_count": null,
   "metadata": {},
   "outputs": [],
   "source": [
    "# pip install nbformat>=4.2.0"
   ]
  },
  {
   "cell_type": "code",
   "execution_count": null,
   "metadata": {},
   "outputs": [],
   "source": [
    "# Visualize the topic-document distribution for a single document\n",
    "topic_model.visualize_topics()"
   ]
  },
  {
   "cell_type": "code",
   "execution_count": null,
   "metadata": {},
   "outputs": [],
   "source": [
    "topic_model.visualize_hierarchy()"
   ]
  },
  {
   "cell_type": "code",
   "execution_count": null,
   "metadata": {},
   "outputs": [],
   "source": [
    "reduced_embeddings = UMAP(n_neighbors=10, n_components=2, min_dist=0.0, metric='cosine').fit_transform(embeddings)"
   ]
  },
  {
   "cell_type": "code",
   "execution_count": null,
   "metadata": {},
   "outputs": [],
   "source": [
    "topic_model.visualize_documents(data, embeddings=embeddings)"
   ]
  },
  {
   "cell_type": "code",
   "execution_count": null,
   "metadata": {},
   "outputs": [],
   "source": [
    "topic_model.visualize_documents(data, reduced_embeddings=reduced_embeddings)"
   ]
  },
  {
   "cell_type": "code",
   "execution_count": null,
   "metadata": {},
   "outputs": [],
   "source": []
  },
  {
   "cell_type": "code",
   "execution_count": null,
   "metadata": {},
   "outputs": [],
   "source": []
  }
 ],
 "metadata": {
  "kernelspec": {
   "display_name": "Python 3",
   "language": "python",
   "name": "python3"
  },
  "language_info": {
   "codemirror_mode": {
    "name": "ipython",
    "version": 3
   },
   "file_extension": ".py",
   "mimetype": "text/x-python",
   "name": "python",
   "nbconvert_exporter": "python",
   "pygments_lexer": "ipython3",
   "version": "3.9.6"
  }
 },
 "nbformat": 4,
 "nbformat_minor": 2
}
