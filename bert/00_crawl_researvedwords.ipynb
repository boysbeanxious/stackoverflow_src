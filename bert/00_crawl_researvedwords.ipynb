{
 "cells": [
  {
   "cell_type": "code",
   "execution_count": 14,
   "metadata": {},
   "outputs": [],
   "source": [
    "# pip install beautifulsoup4"
   ]
  },
  {
   "cell_type": "code",
   "execution_count": 15,
   "metadata": {},
   "outputs": [],
   "source": [
    "import requests\n",
    "from bs4 import BeautifulSoup\n",
    "import pickle"
   ]
  },
  {
   "cell_type": "code",
   "execution_count": 16,
   "metadata": {},
   "outputs": [
    {
     "name": "stdout",
     "output_type": "stream",
     "text": [
      "None\n"
     ]
    }
   ],
   "source": [
    "url = 'https://github.com/AnanthaRajuC/Reserved-Key-Words-list-of-various-programming-languages/blob/master/language-files/Python%20Reserved%20Words.md'\n",
    "\n",
    "response = requests.get(url)\n",
    "\n",
    "if response.status_code == 200:\n",
    "    html = response.text\n",
    "    soup = BeautifulSoup(html, 'html.parser')\n",
    "    title = soup.select_one('#repo-content-pjax-container > react-app > div > div > div.Box-sc-g0xbh4-0.fSWWem > div > div > div.Box-sc-g0xbh4-0.emFMJu > div.Box-sc-g0xbh4-0.hlUAHL > div > div:nth-child(3) > div.Box-sc-g0xbh4-0.iJmJly > div > div.Box-sc-g0xbh4-0.ytOJl > section > div > article')\n",
    "    print(title)\n",
    "else : \n",
    "    print(response.status_code)"
   ]
  },
  {
   "cell_type": "code",
   "execution_count": 17,
   "metadata": {},
   "outputs": [],
   "source": [
    "reserved_list = ['and',\n",
    "'assert',\n",
    "'break',\n",
    "'class',\n",
    "'continue',\n",
    "'def',\n",
    "'del',\n",
    "'elif',\n",
    "'else',\n",
    "'except',\n",
    "'exec',\n",
    "'finally',\n",
    "'for',\n",
    "'from',\n",
    "'global',\n",
    "'if',\n",
    "'import',\n",
    "'in',\n",
    "'is',\n",
    "'lambda',\n",
    "'not',\n",
    "'or',\n",
    "'pass',\n",
    "'print',\n",
    "'raise',\n",
    "'return',\n",
    "'try',\n",
    "'while',\n",
    "'Float',\n",
    "'Int',\n",
    "'Numeric',\n",
    "'Oxphys',\n",
    "'array',\n",
    "'close',\n",
    "'float',\n",
    "'int',\n",
    "'input',\n",
    "'open',\n",
    "'range',\n",
    "'type',\n",
    "'write',\n",
    "'zeros',\n",
    "'acos',\n",
    "'asin',\n",
    "'atan',\n",
    "'cos',\n",
    "'exp',\n",
    "'fabs',\n",
    "'floor',\n",
    "'log',\n",
    "'log10',\n",
    "'pi',\n",
    "'sin',\n",
    "'sqrt',\n",
    "'tan'\n",
    "'False',               'break',               'for',                 'not',\n",
    "'None',                'class',               'from',                'or',\n",
    "'True',                'continue',            'global',              'pass',\n",
    "'__peg_parser__',      'def',                 'if',                  'raise',\n",
    "'and',                 'del',                 'import',              'return',\n",
    "'as',                  'elif',                'in',                  'try',\n",
    "'assert',              'else',                'is',                  'while',\n",
    "'async',               'except',              'lambda',              'with',\n",
    "'await',               'finally',             'nonlocal',            'yield',\n",
    "'quot' ,                'lt',                 'gt'\n",
    "\n",
    "]"
   ]
  },
  {
   "cell_type": "code",
   "execution_count": 18,
   "metadata": {},
   "outputs": [],
   "source": [
    "# 전체 데이터셋 \n",
    "with open('../../data/reserved_list.pkl', 'wb') as f:\n",
    "    pickle.dump(reserved_list, f)\n",
    "\n"
   ]
  },
  {
   "cell_type": "code",
   "execution_count": 19,
   "metadata": {},
   "outputs": [
    {
     "name": "stdout",
     "output_type": "stream",
     "text": [
      "\n",
      "Here is a list of the Python keywords.  Enter any keyword to get more help.\n",
      "\n",
      "False               break               for                 not\n",
      "None                class               from                or\n",
      "True                continue            global              pass\n",
      "__peg_parser__      def                 if                  raise\n",
      "and                 del                 import              return\n",
      "as                  elif                in                  try\n",
      "assert              else                is                  while\n",
      "async               except              lambda              with\n",
      "await               finally             nonlocal            yield\n",
      "\n"
     ]
    }
   ],
   "source": [
    "help(\"keywords\")"
   ]
  },
  {
   "cell_type": "code",
   "execution_count": null,
   "metadata": {},
   "outputs": [],
   "source": []
  }
 ],
 "metadata": {
  "kernelspec": {
   "display_name": "Python 3",
   "language": "python",
   "name": "python3"
  },
  "language_info": {
   "codemirror_mode": {
    "name": "ipython",
    "version": 3
   },
   "file_extension": ".py",
   "mimetype": "text/x-python",
   "name": "python",
   "nbconvert_exporter": "python",
   "pygments_lexer": "ipython3",
   "version": "3.9.6"
  }
 },
 "nbformat": 4,
 "nbformat_minor": 2
}
