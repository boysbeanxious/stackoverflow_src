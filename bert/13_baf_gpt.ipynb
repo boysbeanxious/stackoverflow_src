{
 "cells": [
  {
   "cell_type": "markdown",
   "metadata": {},
   "source": [
    "2021 ~ 2023년  \n",
    "김태균 교수님 피드백대도 다달이 10%의 질문을 샘플링 해서 해보자"
   ]
  },
  {
   "cell_type": "code",
   "execution_count": 2,
   "metadata": {},
   "outputs": [],
   "source": [
    "import pandas as pd\n",
    "import seaborn as sns\n",
    "import matplotlib.pyplot as plt\n",
    "import numpy as np\n",
    "import pickle\n",
    "import re\n",
    "from umap import UMAP\n",
    "from hdbscan import HDBSCAN\n",
    "import torch\n",
    "from transformers import RobertaTokenizer, RobertaConfig, RobertaModel\n",
    "from collections.abc import Iterable\n",
    "from transformers import AutoTokenizer, AutoModel\n",
    "from bertopic import BERTopic\n",
    "import torch\n",
    "from collections import deque\n",
    "from bertopic.representation import KeyBERTInspired\n",
    "from tqdm import tqdm\n",
    "from sklearn.cluster import KMeans\n",
    "import calendar\n",
    "from bertopic.vectorizers import ClassTfidfTransformer\n",
    "from sklearn.feature_extraction.text import CountVectorizer\n",
    "import openai\n",
    "from bertopic.representation import KeyBERTInspired, MaximalMarginalRelevance, OpenAI, PartOfSpeech\n",
    "from itertools import product"
   ]
  },
  {
   "cell_type": "code",
   "execution_count": 3,
   "metadata": {},
   "outputs": [],
   "source": [
    "# sample_df\n",
    "# 전체 데이터셋 \n",
    "with open('../../data/sample_df.pkl', 'rb') as f:\n",
    "    sample_df = pickle.load(f)"
   ]
  },
  {
   "cell_type": "code",
   "execution_count": 4,
   "metadata": {},
   "outputs": [],
   "source": [
    "# 파일 불러오기\n",
    "with open('../../data/bert_src_df.pkl', 'rb') as f:\n",
    "    bert_src_df = pickle.load(f)\n"
   ]
  },
  {
   "cell_type": "code",
   "execution_count": 5,
   "metadata": {},
   "outputs": [
    {
     "name": "stdout",
     "output_type": "stream",
     "text": [
      "<class 'pandas.core.frame.DataFrame'>\n",
      "RangeIndex: 4119261 entries, 0 to 4119260\n",
      "Data columns (total 5 columns):\n",
      " #   Column          Dtype         \n",
      "---  ------          -----         \n",
      " 0   q_id            int64         \n",
      " 1   a_id            float64       \n",
      " 2   q_creationdate  datetime64[ns]\n",
      " 3   tags            object        \n",
      " 4   body            object        \n",
      "dtypes: datetime64[ns](1), float64(1), int64(1), object(2)\n",
      "memory usage: 157.1+ MB\n"
     ]
    }
   ],
   "source": [
    "bert_src_df.info()\n",
    "# 74308951"
   ]
  },
  {
   "cell_type": "code",
   "execution_count": 6,
   "metadata": {},
   "outputs": [
    {
     "data": {
      "text/html": [
       "<div>\n",
       "<style scoped>\n",
       "    .dataframe tbody tr th:only-of-type {\n",
       "        vertical-align: middle;\n",
       "    }\n",
       "\n",
       "    .dataframe tbody tr th {\n",
       "        vertical-align: top;\n",
       "    }\n",
       "\n",
       "    .dataframe thead th {\n",
       "        text-align: right;\n",
       "    }\n",
       "</style>\n",
       "<table border=\"1\" class=\"dataframe\">\n",
       "  <thead>\n",
       "    <tr style=\"text-align: right;\">\n",
       "      <th></th>\n",
       "      <th>q_id</th>\n",
       "      <th>a_id</th>\n",
       "      <th>q_creationdate</th>\n",
       "      <th>tags</th>\n",
       "      <th>body</th>\n",
       "    </tr>\n",
       "  </thead>\n",
       "  <tbody>\n",
       "    <tr>\n",
       "      <th>3697928</th>\n",
       "      <td>74308951</td>\n",
       "      <td>74309073.0</td>\n",
       "      <td>2022-11-03 20:03:18.853</td>\n",
       "      <td>&lt;python&gt;&lt;string&gt;&lt;split&gt;&lt;delimiter&gt;</td>\n",
       "      <td>&lt;p&gt;I am trying to create a function to parse a...</td>\n",
       "    </tr>\n",
       "  </tbody>\n",
       "</table>\n",
       "</div>"
      ],
      "text/plain": [
       "             q_id        a_id          q_creationdate  \\\n",
       "3697928  74308951  74309073.0 2022-11-03 20:03:18.853   \n",
       "\n",
       "                                       tags  \\\n",
       "3697928  <python><string><split><delimiter>   \n",
       "\n",
       "                                                      body  \n",
       "3697928  <p>I am trying to create a function to parse a...  "
      ]
     },
     "execution_count": 6,
     "metadata": {},
     "output_type": "execute_result"
    }
   ],
   "source": [
    "bert_src_df[bert_src_df['q_id'] ==74308951]"
   ]
  },
  {
   "cell_type": "code",
   "execution_count": 7,
   "metadata": {},
   "outputs": [],
   "source": [
    "cond1 = bert_src_df['q_creationdate']<='2022-11-30'\n",
    "cond2 = bert_src_df['q_creationdate']>='2021-11-30'\n",
    "cond3 = bert_src_df['a_id'].isna()\n",
    "cond4 = bert_src_df['tags'].str.contains('python')\n",
    "cond5 = bert_src_df['q_creationdate']>='2022-12-01'"
   ]
  },
  {
   "cell_type": "code",
   "execution_count": 8,
   "metadata": {},
   "outputs": [],
   "source": [
    "bert_src = bert_src_df.loc[cond2 & cond4, :]"
   ]
  },
  {
   "cell_type": "code",
   "execution_count": 9,
   "metadata": {},
   "outputs": [
    {
     "data": {
      "text/html": [
       "<div>\n",
       "<style scoped>\n",
       "    .dataframe tbody tr th:only-of-type {\n",
       "        vertical-align: middle;\n",
       "    }\n",
       "\n",
       "    .dataframe tbody tr th {\n",
       "        vertical-align: top;\n",
       "    }\n",
       "\n",
       "    .dataframe thead th {\n",
       "        text-align: right;\n",
       "    }\n",
       "</style>\n",
       "<table border=\"1\" class=\"dataframe\">\n",
       "  <thead>\n",
       "    <tr style=\"text-align: right;\">\n",
       "      <th></th>\n",
       "      <th>q_id</th>\n",
       "      <th>a_id</th>\n",
       "      <th>q_creationdate</th>\n",
       "      <th>tags</th>\n",
       "      <th>body</th>\n",
       "    </tr>\n",
       "  </thead>\n",
       "  <tbody>\n",
       "    <tr>\n",
       "      <th>1100212</th>\n",
       "      <td>70162722</td>\n",
       "      <td>70162757.0</td>\n",
       "      <td>2021-11-30 00:00:11.787</td>\n",
       "      <td>&lt;python&gt;&lt;python-3.x&gt;&lt;unit-testing&gt;</td>\n",
       "      <td>&lt;p&gt;I have this function:&lt;/p&gt;\\n&lt;pre&gt;&lt;code&gt;def t...</td>\n",
       "    </tr>\n",
       "    <tr>\n",
       "      <th>1100217</th>\n",
       "      <td>70162741</td>\n",
       "      <td>70163172.0</td>\n",
       "      <td>2021-11-30 00:03:41.067</td>\n",
       "      <td>&lt;python&gt;&lt;pandas&gt;&lt;dataframe&gt;&lt;group-by&gt;&lt;data-ana...</td>\n",
       "      <td>&lt;p&gt;I have a df with the following structure&lt;/p...</td>\n",
       "    </tr>\n",
       "    <tr>\n",
       "      <th>1100225</th>\n",
       "      <td>70162770</td>\n",
       "      <td>70162797.0</td>\n",
       "      <td>2021-11-30 00:07:54.443</td>\n",
       "      <td>&lt;python&gt;&lt;string&gt;&lt;find&gt;&lt;getvalue&gt;</td>\n",
       "      <td>&lt;p&gt;I need to make an API that gets text from a...</td>\n",
       "    </tr>\n",
       "    <tr>\n",
       "      <th>1100232</th>\n",
       "      <td>70162795</td>\n",
       "      <td>70162823.0</td>\n",
       "      <td>2021-11-30 00:11:37.677</td>\n",
       "      <td>&lt;python&gt;&lt;pandas&gt;&lt;dataframe&gt;</td>\n",
       "      <td>&lt;p&gt;I have a dataframe &lt;code&gt;data&lt;/code&gt; which ...</td>\n",
       "    </tr>\n",
       "    <tr>\n",
       "      <th>1100238</th>\n",
       "      <td>70162816</td>\n",
       "      <td>NaN</td>\n",
       "      <td>2021-11-30 00:15:44.530</td>\n",
       "      <td>&lt;python&gt;&lt;pandas&gt;&lt;csv&gt;</td>\n",
       "      <td>&lt;p&gt;I have a data frame that I'm trying to writ...</td>\n",
       "    </tr>\n",
       "  </tbody>\n",
       "</table>\n",
       "</div>"
      ],
      "text/plain": [
       "             q_id        a_id          q_creationdate  \\\n",
       "1100212  70162722  70162757.0 2021-11-30 00:00:11.787   \n",
       "1100217  70162741  70163172.0 2021-11-30 00:03:41.067   \n",
       "1100225  70162770  70162797.0 2021-11-30 00:07:54.443   \n",
       "1100232  70162795  70162823.0 2021-11-30 00:11:37.677   \n",
       "1100238  70162816         NaN 2021-11-30 00:15:44.530   \n",
       "\n",
       "                                                      tags  \\\n",
       "1100212                 <python><python-3.x><unit-testing>   \n",
       "1100217  <python><pandas><dataframe><group-by><data-ana...   \n",
       "1100225                   <python><string><find><getvalue>   \n",
       "1100232                        <python><pandas><dataframe>   \n",
       "1100238                              <python><pandas><csv>   \n",
       "\n",
       "                                                      body  \n",
       "1100212  <p>I have this function:</p>\\n<pre><code>def t...  \n",
       "1100217  <p>I have a df with the following structure</p...  \n",
       "1100225  <p>I need to make an API that gets text from a...  \n",
       "1100232  <p>I have a dataframe <code>data</code> which ...  \n",
       "1100238  <p>I have a data frame that I'm trying to writ...  "
      ]
     },
     "execution_count": 9,
     "metadata": {},
     "output_type": "execute_result"
    }
   ],
   "source": [
    "bert_src.head()"
   ]
  },
  {
   "cell_type": "code",
   "execution_count": 10,
   "metadata": {},
   "outputs": [],
   "source": [
    "def cleanhtml(raw_html):\n",
    "  # 1.Source code in python language is hard to understand, so replace all the <code> tag first\n",
    "  cleantext_1 = re.findall(r'(?<=\\<code>)(.*?)(?=<\\/code>)', raw_html.replace('\\n', '_**_'))\n",
    "  cleantext_1 = [x.replace('_**_', '\\n') for x in cleantext_1]\n",
    "  # 2. replace html tags\n",
    "  # <p>\n",
    "  tag_re = re.compile('<.*?>')\n",
    "  cleantext_2 = [re.sub(tag_re, '', x) for x in cleantext_1]\n",
    "  return cleantext_2"
   ]
  },
  {
   "cell_type": "code",
   "execution_count": 11,
   "metadata": {},
   "outputs": [],
   "source": [
    "# apply the function, cleanhtml to the question and body text\n",
    "bert_src.loc[:, 'q_prep_text'] = bert_src['body'].apply(cleanhtml)"
   ]
  },
  {
   "cell_type": "code",
   "execution_count": 12,
   "metadata": {},
   "outputs": [],
   "source": [
    "bert_src = bert_src.reset_index(drop=True)"
   ]
  },
  {
   "cell_type": "code",
   "execution_count": 13,
   "metadata": {},
   "outputs": [],
   "source": [
    "bert_src_ex = bert_src[['q_id', 'q_prep_text']].apply(pd.Series.explode)"
   ]
  },
  {
   "cell_type": "code",
   "execution_count": 14,
   "metadata": {},
   "outputs": [],
   "source": [
    "bert_src_ex.dropna(inplace=True)"
   ]
  },
  {
   "cell_type": "code",
   "execution_count": 15,
   "metadata": {},
   "outputs": [],
   "source": [
    "bert_src = pd.merge(bert_src_ex, bert_src[['q_id', 'q_creationdate']], how ='left', left_on = 'q_id', right_on = 'q_id')"
   ]
  },
  {
   "cell_type": "code",
   "execution_count": 16,
   "metadata": {},
   "outputs": [],
   "source": [
    "bert_src['q_year'] = pd.to_datetime(bert_src['q_creationdate']).dt.year\n",
    "bert_src['q_month'] = pd.to_datetime(bert_src['q_creationdate']).dt.month\n",
    "bert_src['q_day'] = pd.to_datetime(bert_src['q_creationdate']).dt.day"
   ]
  },
  {
   "cell_type": "code",
   "execution_count": 17,
   "metadata": {},
   "outputs": [],
   "source": [
    "# PREPROCESSING FOR CODE SCRIPT\n",
    "def preprocess_script(script):\n",
    "    new_script = deque()\n",
    "    old_script = script.split('\\n')\n",
    "    for line in old_script:\n",
    "        if line.lstrip().startswith('#'): # 주석으로 시작되는 행 skip\n",
    "            continue\n",
    "        line = line.rstrip()\n",
    "        if '#' in line:\n",
    "            line = line[:line.index('#')] # 주석 전까지 코드만 저장\n",
    "        line = line.replace('\\n','') # 개행 문자를 모두 삭제함\n",
    "        line = line.replace('    ','\\t') # 공백 4칸을 tab으로 변환\n",
    "        \n",
    "        if line == '': # 전처리 후 빈 라인은 skip\n",
    "            continue\n",
    "        \n",
    "        new_script.append(line)\n",
    "\n",
    "        \n",
    "    new_script = '\\n'.join(new_script) # 개행 문자로 합침\n",
    "    #이렇게 할지 ..... 고민을 해봐야 할것같음... 전처리......\n",
    "    new_script = re.sub('(\"\"\"[\\w\\W]*?\"\"\")', '', new_script)\n",
    "    new_script = re.sub(\"('''[\\w\\W]*?''')\", '', new_script)\n",
    "    new_script = re.sub('/^(http?|https?):\\/\\/([a-z0-9-]+\\.)+[a-z0-9]{2,4}.*$/', '', new_script)\n",
    "    \n",
    "    return new_script\n"
   ]
  },
  {
   "cell_type": "code",
   "execution_count": 18,
   "metadata": {},
   "outputs": [],
   "source": [
    "bert_src['q_prep_text_non'] = bert_src['q_prep_text'].apply(preprocess_script)"
   ]
  },
  {
   "cell_type": "code",
   "execution_count": 19,
   "metadata": {},
   "outputs": [],
   "source": [
    "# bert_src.loc[bert_src['q_prep_text_non']!= bert_src['q_prep_text'], ['q_prep_text', 'q_prep_text_non']].head(100).to_csv('chk_preprocess.csv')"
   ]
  },
  {
   "cell_type": "code",
   "execution_count": 20,
   "metadata": {},
   "outputs": [
    {
     "data": {
      "text/html": [
       "<div>\n",
       "<style scoped>\n",
       "    .dataframe tbody tr th:only-of-type {\n",
       "        vertical-align: middle;\n",
       "    }\n",
       "\n",
       "    .dataframe tbody tr th {\n",
       "        vertical-align: top;\n",
       "    }\n",
       "\n",
       "    .dataframe thead th {\n",
       "        text-align: right;\n",
       "    }\n",
       "</style>\n",
       "<table border=\"1\" class=\"dataframe\">\n",
       "  <thead>\n",
       "    <tr style=\"text-align: right;\">\n",
       "      <th></th>\n",
       "      <th>q_id</th>\n",
       "      <th>q_prep_text</th>\n",
       "      <th>q_creationdate</th>\n",
       "      <th>q_year</th>\n",
       "      <th>q_month</th>\n",
       "      <th>q_day</th>\n",
       "      <th>q_prep_text_non</th>\n",
       "    </tr>\n",
       "  </thead>\n",
       "  <tbody>\n",
       "    <tr>\n",
       "      <th>51</th>\n",
       "      <td>70163035</td>\n",
       "      <td>mask</td>\n",
       "      <td>2021-11-30 00:54:03.373</td>\n",
       "      <td>2021</td>\n",
       "      <td>11</td>\n",
       "      <td>30</td>\n",
       "      <td>mask</td>\n",
       "    </tr>\n",
       "    <tr>\n",
       "      <th>52</th>\n",
       "      <td>70163035</td>\n",
       "      <td>bool</td>\n",
       "      <td>2021-11-30 00:54:03.373</td>\n",
       "      <td>2021</td>\n",
       "      <td>11</td>\n",
       "      <td>30</td>\n",
       "      <td>bool</td>\n",
       "    </tr>\n",
       "    <tr>\n",
       "      <th>53</th>\n",
       "      <td>70163035</td>\n",
       "      <td>x</td>\n",
       "      <td>2021-11-30 00:54:03.373</td>\n",
       "      <td>2021</td>\n",
       "      <td>11</td>\n",
       "      <td>30</td>\n",
       "      <td>x</td>\n",
       "    </tr>\n",
       "  </tbody>\n",
       "</table>\n",
       "</div>"
      ],
      "text/plain": [
       "        q_id q_prep_text          q_creationdate  q_year  q_month  q_day  \\\n",
       "51  70163035        mask 2021-11-30 00:54:03.373    2021       11     30   \n",
       "52  70163035        bool 2021-11-30 00:54:03.373    2021       11     30   \n",
       "53  70163035           x 2021-11-30 00:54:03.373    2021       11     30   \n",
       "\n",
       "   q_prep_text_non  \n",
       "51            mask  \n",
       "52            bool  \n",
       "53               x  "
      ]
     },
     "execution_count": 20,
     "metadata": {},
     "output_type": "execute_result"
    }
   ],
   "source": [
    "bert_src.iloc[51:54, :]"
   ]
  },
  {
   "cell_type": "code",
   "execution_count": 21,
   "metadata": {},
   "outputs": [],
   "source": [
    "# CodeBERT 모델과 토크나이저 로드\n",
    "model_name = \"microsoft/codebert-base\"\n",
    "tokenizer = AutoTokenizer.from_pretrained(model_name)\n",
    "model = AutoModel.from_pretrained(model_name)"
   ]
  },
  {
   "cell_type": "code",
   "execution_count": 22,
   "metadata": {},
   "outputs": [],
   "source": [
    "# 임베딩 함수 정의\n",
    "def embed_text(text):\n",
    "    # 텍스트를 토크나이저를 사용해 인코딩\n",
    "    encoded_input = tokenizer(text, padding=True, truncation=True, return_tensors='pt')\n",
    "    \n",
    "    # 모델 추론 시 기울기를 계산하지 않도록 설정 > 기울기를 계산하여 파라미터를 업데이트 하지 않는다고?\n",
    "    with torch.no_grad():\n",
    "        # 인코딩된 입력을 모델에 전달하여 출력 생성(key:value로 해서 model output에 전달)\n",
    "        model_output = model(**encoded_input)\n",
    "    \n",
    "    # 모델의 출력에서 [CLS] 토큰의 임베딩을 반환\n",
    "    # 입력시퀀스의 각 토큰의 마지막 은닉상태를 가져오기 위해 last_hidden_state에 접근\n",
    "    # [batch_size, sequence_length, hidden_size]의 텐서\n",
    "    # 중간 파라미터를 0으로 두어 첫번째 토큰인 cls를 가져옴\n",
    "    # 그래서 결과는 [batch_size, hidden_size가 됨]\n",
    "    return model_output.last_hidden_state[:, 0, :]"
   ]
  },
  {
   "cell_type": "code",
   "execution_count": 23,
   "metadata": {},
   "outputs": [],
   "source": [
    "years = [2021,2022, 2023]\n",
    "months = [x for x in range(1, 13)]\n",
    "ym = list(product(years, months))"
   ]
  },
  {
   "cell_type": "code",
   "execution_count": 24,
   "metadata": {},
   "outputs": [
    {
     "data": {
      "text/plain": [
       "[(2021, 11),\n",
       " (2021, 12),\n",
       " (2022, 1),\n",
       " (2022, 2),\n",
       " (2022, 3),\n",
       " (2022, 4),\n",
       " (2022, 5),\n",
       " (2022, 6),\n",
       " (2022, 7),\n",
       " (2022, 8),\n",
       " (2022, 9),\n",
       " (2022, 10),\n",
       " (2022, 11),\n",
       " (2022, 12),\n",
       " (2023, 1),\n",
       " (2023, 2),\n",
       " (2023, 3),\n",
       " (2023, 4),\n",
       " (2023, 5),\n",
       " (2023, 6),\n",
       " (2023, 7),\n",
       " (2023, 8),\n",
       " (2023, 9),\n",
       " (2023, 10),\n",
       " (2023, 11)]"
      ]
     },
     "execution_count": 24,
     "metadata": {},
     "output_type": "execute_result"
    }
   ],
   "source": [
    "ym[10:-1]"
   ]
  },
  {
   "cell_type": "code",
   "execution_count": 25,
   "metadata": {},
   "outputs": [
    {
     "data": {
      "text/html": [
       "<div>\n",
       "<style scoped>\n",
       "    .dataframe tbody tr th:only-of-type {\n",
       "        vertical-align: middle;\n",
       "    }\n",
       "\n",
       "    .dataframe tbody tr th {\n",
       "        vertical-align: top;\n",
       "    }\n",
       "\n",
       "    .dataframe thead th {\n",
       "        text-align: right;\n",
       "    }\n",
       "</style>\n",
       "<table border=\"1\" class=\"dataframe\">\n",
       "  <thead>\n",
       "    <tr style=\"text-align: right;\">\n",
       "      <th></th>\n",
       "      <th>q_id</th>\n",
       "      <th>q_prep_text</th>\n",
       "      <th>q_creationdate</th>\n",
       "      <th>q_year</th>\n",
       "      <th>q_month</th>\n",
       "      <th>q_day</th>\n",
       "      <th>q_prep_text_non</th>\n",
       "    </tr>\n",
       "  </thead>\n",
       "  <tbody>\n",
       "    <tr>\n",
       "      <th>0</th>\n",
       "      <td>70162722</td>\n",
       "      <td>def text_to_html(text):\\n    &amp;quot;&amp;quot;&amp;quot...</td>\n",
       "      <td>2021-11-30 00:00:11.787</td>\n",
       "      <td>2021</td>\n",
       "      <td>11</td>\n",
       "      <td>30</td>\n",
       "      <td>def text_to_html(text):\\n\\t&amp;quot;&amp;quot;&amp;quot;\\...</td>\n",
       "    </tr>\n",
       "    <tr>\n",
       "      <th>1</th>\n",
       "      <td>70162722</td>\n",
       "      <td>class TestDebtModules(unittest.TestCase):\\n   ...</td>\n",
       "      <td>2021-11-30 00:00:11.787</td>\n",
       "      <td>2021</td>\n",
       "      <td>11</td>\n",
       "      <td>30</td>\n",
       "      <td>class TestDebtModules(unittest.TestCase):\\n\\td...</td>\n",
       "    </tr>\n",
       "    <tr>\n",
       "      <th>2</th>\n",
       "      <td>70162722</td>\n",
       "      <td>Expected :&amp;lt;p&amp;gt;&amp;lt;br&amp;gt;        THIS&amp;lt;b...</td>\n",
       "      <td>2021-11-30 00:00:11.787</td>\n",
       "      <td>2021</td>\n",
       "      <td>11</td>\n",
       "      <td>30</td>\n",
       "      <td>Expected :&amp;lt;p&amp;gt;&amp;lt;br&amp;gt;\\t\\tTHIS&amp;lt;br&amp;gt...</td>\n",
       "    </tr>\n",
       "    <tr>\n",
       "      <th>3</th>\n",
       "      <td>70162741</td>\n",
       "      <td>vid  sid   pid      url \\n1   A    A1   pag...</td>\n",
       "      <td>2021-11-30 00:03:41.067</td>\n",
       "      <td>2021</td>\n",
       "      <td>11</td>\n",
       "      <td>30</td>\n",
       "      <td>vid  sid   pid\\t  url\\n1   A\\tA1   page\\t A...</td>\n",
       "    </tr>\n",
       "    <tr>\n",
       "      <th>4</th>\n",
       "      <td>70162741</td>\n",
       "      <td>lst = ['AB','EF']</td>\n",
       "      <td>2021-11-30 00:03:41.067</td>\n",
       "      <td>2021</td>\n",
       "      <td>11</td>\n",
       "      <td>30</td>\n",
       "      <td>lst = ['AB','EF']</td>\n",
       "    </tr>\n",
       "    <tr>\n",
       "      <th>...</th>\n",
       "      <td>...</td>\n",
       "      <td>...</td>\n",
       "      <td>...</td>\n",
       "      <td>...</td>\n",
       "      <td>...</td>\n",
       "      <td>...</td>\n",
       "      <td>...</td>\n",
       "    </tr>\n",
       "    <tr>\n",
       "      <th>1197066</th>\n",
       "      <td>77581609</td>\n",
       "      <td>self.execute(record.last_modified, record.crea...</td>\n",
       "      <td>2023-11-30 20:47:13.247</td>\n",
       "      <td>2023</td>\n",
       "      <td>11</td>\n",
       "      <td>30</td>\n",
       "      <td>self.execute(record.last_modified, record.crea...</td>\n",
       "    </tr>\n",
       "    <tr>\n",
       "      <th>1197067</th>\n",
       "      <td>77581609</td>\n",
       "      <td>my_list = [&amp;quot;last_modified&amp;quot;, &amp;quot;cr...</td>\n",
       "      <td>2023-11-30 20:47:13.247</td>\n",
       "      <td>2023</td>\n",
       "      <td>11</td>\n",
       "      <td>30</td>\n",
       "      <td>my_list = [&amp;quot;last_modified&amp;quot;, &amp;quot;cr...</td>\n",
       "    </tr>\n",
       "    <tr>\n",
       "      <th>1197068</th>\n",
       "      <td>77581609</td>\n",
       "      <td>my_list = [&amp;quot;last_modified&amp;quot;, &amp;quot;cr...</td>\n",
       "      <td>2023-11-30 20:47:13.247</td>\n",
       "      <td>2023</td>\n",
       "      <td>11</td>\n",
       "      <td>30</td>\n",
       "      <td>my_list = [&amp;quot;last_modified&amp;quot;, &amp;quot;cr...</td>\n",
       "    </tr>\n",
       "    <tr>\n",
       "      <th>1197069</th>\n",
       "      <td>77581621</td>\n",
       "      <td>==============================================...</td>\n",
       "      <td>2023-11-30 20:49:03.050</td>\n",
       "      <td>2023</td>\n",
       "      <td>11</td>\n",
       "      <td>30</td>\n",
       "      <td>==============================================...</td>\n",
       "    </tr>\n",
       "    <tr>\n",
       "      <th>1197070</th>\n",
       "      <td>77581621</td>\n",
       "      <td># Import data (Make sure to parse dates. Consi...</td>\n",
       "      <td>2023-11-30 20:49:03.050</td>\n",
       "      <td>2023</td>\n",
       "      <td>11</td>\n",
       "      <td>30</td>\n",
       "      <td>df = pd.read_csv('./fcc-forum-pageviews.csv')\\...</td>\n",
       "    </tr>\n",
       "  </tbody>\n",
       "</table>\n",
       "<p>1197071 rows × 7 columns</p>\n",
       "</div>"
      ],
      "text/plain": [
       "             q_id                                        q_prep_text  \\\n",
       "0        70162722  def text_to_html(text):\\n    &quot;&quot;&quot...   \n",
       "1        70162722  class TestDebtModules(unittest.TestCase):\\n   ...   \n",
       "2        70162722  Expected :&lt;p&gt;&lt;br&gt;        THIS&lt;b...   \n",
       "3        70162741     vid  sid   pid      url \\n1   A    A1   pag...   \n",
       "4        70162741                                  lst = ['AB','EF']   \n",
       "...           ...                                                ...   \n",
       "1197066  77581609  self.execute(record.last_modified, record.crea...   \n",
       "1197067  77581609  my_list = [&quot;last_modified&quot;, &quot;cr...   \n",
       "1197068  77581609  my_list = [&quot;last_modified&quot;, &quot;cr...   \n",
       "1197069  77581621  ==============================================...   \n",
       "1197070  77581621  # Import data (Make sure to parse dates. Consi...   \n",
       "\n",
       "                 q_creationdate  q_year  q_month  q_day  \\\n",
       "0       2021-11-30 00:00:11.787    2021       11     30   \n",
       "1       2021-11-30 00:00:11.787    2021       11     30   \n",
       "2       2021-11-30 00:00:11.787    2021       11     30   \n",
       "3       2021-11-30 00:03:41.067    2021       11     30   \n",
       "4       2021-11-30 00:03:41.067    2021       11     30   \n",
       "...                         ...     ...      ...    ...   \n",
       "1197066 2023-11-30 20:47:13.247    2023       11     30   \n",
       "1197067 2023-11-30 20:47:13.247    2023       11     30   \n",
       "1197068 2023-11-30 20:47:13.247    2023       11     30   \n",
       "1197069 2023-11-30 20:49:03.050    2023       11     30   \n",
       "1197070 2023-11-30 20:49:03.050    2023       11     30   \n",
       "\n",
       "                                           q_prep_text_non  \n",
       "0        def text_to_html(text):\\n\\t&quot;&quot;&quot;\\...  \n",
       "1        class TestDebtModules(unittest.TestCase):\\n\\td...  \n",
       "2        Expected :&lt;p&gt;&lt;br&gt;\\t\\tTHIS&lt;br&gt...  \n",
       "3           vid  sid   pid\\t  url\\n1   A\\tA1   page\\t A...  \n",
       "4                                        lst = ['AB','EF']  \n",
       "...                                                    ...  \n",
       "1197066  self.execute(record.last_modified, record.crea...  \n",
       "1197067  my_list = [&quot;last_modified&quot;, &quot;cr...  \n",
       "1197068  my_list = [&quot;last_modified&quot;, &quot;cr...  \n",
       "1197069  ==============================================...  \n",
       "1197070  df = pd.read_csv('./fcc-forum-pageviews.csv')\\...  \n",
       "\n",
       "[1197071 rows x 7 columns]"
      ]
     },
     "execution_count": 25,
     "metadata": {},
     "output_type": "execute_result"
    }
   ],
   "source": [
    "bert_src"
   ]
  },
  {
   "cell_type": "code",
   "execution_count": 39,
   "metadata": {},
   "outputs": [
    {
     "name": "stdout",
     "output_type": "stream",
     "text": [
      "2021 11 716\n",
      "2021 12 17954\n",
      "2022 1 18748\n",
      "2022 2 18051\n",
      "2022 3 19517\n",
      "2022 4 18661\n",
      "2022 5 18293\n",
      "2022 6 17708\n",
      "2022 7 17926\n",
      "2022 8 17763\n",
      "2022 9 16375\n",
      "2022 10 17390\n",
      "2022 11 17861\n",
      "2022 12 18196\n",
      "2023 1 17134\n",
      "2023 2 15141\n",
      "2023 3 15045\n",
      "2023 4 12160\n",
      "2023 5 11463\n",
      "2023 6 10817\n",
      "2023 7 10787\n",
      "2023 8 9984\n",
      "2023 9 8407\n",
      "2023 10 8905\n",
      "2023 11 9720\n"
     ]
    }
   ],
   "source": [
    "q_id_df  = pd.DataFrame()\n",
    "\n",
    "for year, month in ym[10:-1]:\n",
    "    startend = calendar.monthrange(year, month)\n",
    "    \n",
    "\n",
    "    \n",
    "    cond1 = (bert_src['q_year'] ==year)\n",
    "    cond2 = (bert_src['q_month'] ==month)\n",
    "\n",
    "    q_id_list = bert_src.loc[cond1&cond2, 'q_id'].unique()\n",
    "    num_of_sample = int(len(q_id_list)*0.1)\n",
    "    print(year, month, len(q_id_list))\n",
    "    q_id_df = pd.concat([q_id_df, pd.DataFrame(q_id_list).sample(num_of_sample,replace=False)], axis = 0)\n",
    "\n"
   ]
  },
  {
   "cell_type": "code",
   "execution_count": 40,
   "metadata": {},
   "outputs": [],
   "source": [
    "q_id_df.columns  = ['q_id']"
   ]
  },
  {
   "cell_type": "code",
   "execution_count": 50,
   "metadata": {},
   "outputs": [
    {
     "data": {
      "text/plain": [
       "array([70168326, 70163975, 70170522, ..., 77544653, 77414212, 77577334])"
      ]
     },
     "execution_count": 50,
     "metadata": {},
     "output_type": "execute_result"
    }
   ],
   "source": [
    "q_id_df['q_id'].values"
   ]
  },
  {
   "cell_type": "code",
   "execution_count": 52,
   "metadata": {},
   "outputs": [
    {
     "name": "stdout",
     "output_type": "stream",
     "text": [
      "2021 11 30\n"
     ]
    },
    {
     "name": "stderr",
     "output_type": "stream",
     "text": [
      "  0%|          | 0/172 [00:00<?, ?it/s]"
     ]
    },
    {
     "name": "stderr",
     "output_type": "stream",
     "text": [
      " 72%|███████▏  | 124/172 [00:08<00:02, 18.00it/s]"
     ]
    }
   ],
   "source": [
    "embed_text_list = []\n",
    "for year, month in ym[10:-1]:\n",
    "    startend = calendar.monthrange(year, month)\n",
    "    day = startend[1]\n",
    "\n",
    "    print(year, month, day) \n",
    "    cond1 = (bert_src['q_year'] ==year)\n",
    "    cond2 = (bert_src['q_month'] ==month)\n",
    "    # cond3 = (bert_src['q_day'] ==day)\n",
    "    cond4 = (bert_src['q_id'].isin(q_id_df['q_id'].values))\n",
    "    src = bert_src.loc[cond1&cond2&cond4, 'q_prep_text_non'].tolist()\n",
    "    for i in tqdm(range(len(src))) : \n",
    "        embed_text_list.append(embed_text(src[i]))"
   ]
  },
  {
   "cell_type": "code",
   "execution_count": null,
   "metadata": {},
   "outputs": [],
   "source": [
    "data = pd.DataFrame()\n",
    "for year, month in ym[10:-1]:\n",
    "    startend = calendar.monthrange(year, month)\n",
    "    day = startend[1]\n",
    "\n",
    "    print(year, month, day) \n",
    "    cond1 = (bert_src['q_year'] ==year)\n",
    "    cond2 = (bert_src['q_month'] ==month)\n",
    "    # cond3 = (bert_src['q_day'] ==day)\n",
    "    cond4 = (bert_src['q_id'].isin(q_id_df['q_id'].values))\n",
    "    data = pd.concat([data, bert_src.loc[cond1&cond2&cond4, :]], axis = 0)\n"
   ]
  },
  {
   "cell_type": "code",
   "execution_count": null,
   "metadata": {},
   "outputs": [],
   "source": [
    "# 파일 불러오기\n",
    "with open('../../data/reserved_list.pkl', 'rb') as f:\n",
    "    reserved_list = pickle.load(f)\n"
   ]
  },
  {
   "cell_type": "code",
   "execution_count": null,
   "metadata": {},
   "outputs": [],
   "source": [
    "src = data['q_prep_text'].to_list()"
   ]
  },
  {
   "cell_type": "code",
   "execution_count": null,
   "metadata": {},
   "outputs": [],
   "source": [
    "# CodeBERT 모델과 토크나이저 로드\n",
    "model_name = \"microsoft/codebert-base\"\n",
    "tokenizer = AutoTokenizer.from_pretrained(model_name)\n",
    "model = AutoModel.from_pretrained(model_name)"
   ]
  },
  {
   "cell_type": "code",
   "execution_count": null,
   "metadata": {},
   "outputs": [],
   "source": [
    "# 모든 텍스트에 대한 임베딩 계산\n",
    "embeddings = torch.cat(embed_text_list, dim=0).numpy()  # 텐서로 연결 후 numpy 배열로 변환"
   ]
  },
  {
   "cell_type": "code",
   "execution_count": null,
   "metadata": {},
   "outputs": [],
   "source": [
    "embeddings.shape"
   ]
  },
  {
   "cell_type": "code",
   "execution_count": null,
   "metadata": {},
   "outputs": [],
   "source": [
    "umap_model = UMAP(n_neighbors=10, n_components=5, min_dist=0.0, metric='cosine', random_state=42)"
   ]
  },
  {
   "cell_type": "code",
   "execution_count": null,
   "metadata": {},
   "outputs": [],
   "source": [
    "hdbscan_model = HDBSCAN(min_cluster_size=20, metric='euclidean', cluster_selection_method='eom', prediction_data=True)\n",
    "cluster_model = KMeans(n_clusters=10)"
   ]
  },
  {
   "cell_type": "code",
   "execution_count": null,
   "metadata": {},
   "outputs": [],
   "source": [
    "# KeyBERT\n",
    "keybert_model = KeyBERTInspired()\n",
    "\n",
    "# Part-of-Speech\n",
    "# pos_model = PartOfSpeech(\"en_core_web_sm\")\n",
    "\n",
    "# MMR\n",
    "mmr_model = MaximalMarginalRelevance(diversity=0.3)\n",
    "\n",
    "# GPT-3.5\n",
    "prompt = \"\"\"\n",
    "I have a topic that contains the documents: [REPRESENTATIVE_DOCUMENT]\n",
    "The topic is described by the following keywords: [KEYWORDS]\n",
    "\n",
    "Based on the information above, extract a short but highly descriptive topic label of at most 5 words. Make sure it is in the following format:\n",
    "topic: <topic label>\n",
    "\"\"\"\n",
    "client = openai.OpenAI(api_key=\"sk-proj-Mm0FIOmjCUgXc2T40TarT3BlbkFJ7YO5SE9kJokyhFrRxEiB\")\n",
    "openai_model = OpenAI(client, model=\"gpt-3.5-turbo\", exponential_backoff=True, chat=True, prompt=prompt)\n",
    "\n",
    "# All representation models\n",
    "representation_model = {\n",
    "    \"KeyBERT\": keybert_model,\n",
    "    \"OpenAI\": openai_model,  # Uncomment if you will use OpenAI\n",
    "    \"MMR\": mmr_model\n",
    "    # ,\n",
    "    # \"POS\": pos_model\n",
    "}"
   ]
  },
  {
   "cell_type": "code",
   "execution_count": null,
   "metadata": {},
   "outputs": [],
   "source": [
    "vectorizer_model = CountVectorizer(stop_words=reserved_list, min_df=2, ngram_range=(1, 2))"
   ]
  },
  {
   "cell_type": "code",
   "execution_count": null,
   "metadata": {},
   "outputs": [],
   "source": [
    "ctfidf_model = ClassTfidfTransformer(reduce_frequent_words=True)\n"
   ]
  },
  {
   "cell_type": "code",
   "execution_count": null,
   "metadata": {},
   "outputs": [],
   "source": [
    "# BERTopic 모델 초기화 및 훈련\n",
    "topic_model = BERTopic( embedding_model=model,\n",
    "                        umap_model=umap_model,\n",
    "                        # hdbscan_model=hdbscan_model,\n",
    "                        hdbscan_model=cluster_model,\n",
    "                        ctfidf_model=ctfidf_model,\n",
    "                        vectorizer_model = vectorizer_model,\n",
    "                        representation_model=representation_model)  # 임베딩 모델 사용을 비활성화\n",
    "topics, probabilities = topic_model.fit_transform(src, embeddings)\n"
   ]
  },
  {
   "cell_type": "code",
   "execution_count": null,
   "metadata": {},
   "outputs": [],
   "source": [
    "# 결과 출력\n",
    "print(topic_model.get_topic_info())  # 토픽 정보 출력"
   ]
  },
  {
   "cell_type": "code",
   "execution_count": null,
   "metadata": {},
   "outputs": [],
   "source": [
    "topic_model.get_topic_info()"
   ]
  },
  {
   "cell_type": "code",
   "execution_count": null,
   "metadata": {},
   "outputs": [],
   "source": [
    "topic_model.get_topic(0)"
   ]
  },
  {
   "cell_type": "code",
   "execution_count": null,
   "metadata": {},
   "outputs": [],
   "source": [
    "topic_model.get_topic(1)"
   ]
  },
  {
   "cell_type": "code",
   "execution_count": null,
   "metadata": {},
   "outputs": [],
   "source": [
    "topic_model.get_topic(6, full=True)"
   ]
  },
  {
   "cell_type": "code",
   "execution_count": null,
   "metadata": {},
   "outputs": [],
   "source": [
    "# # Label the topics yourself\n",
    "# topic_model.set_topic_labels({1: \"Space Travel\", 7: \"Religion\"})\n",
    "\n",
    "# # or use one of the other topic representations, like KeyBERTInspired\n",
    "# keybert_topic_labels = {topic: \" | \".join(list(zip(*values))[0][:3]) for topic, values in topic_model.topic_aspects_[\"KeyBERT\"].items()}\n",
    "# topic_model.set_topic_labels(keybert_topic_labels)\n",
    "\n",
    "# # or ChatGPT's labels\n",
    "# chatgpt_topic_labels = {topic: \" | \".join(list(zip(*values))[0]) for topic, values in topic_model.topic_aspects_[\"OpenAI\"].items()}\n",
    "# chatgpt_topic_labels[-1] = \"Outlier Topic\"\n",
    "# topic_model.set_topic_labels(chatgpt_topic_labels)"
   ]
  },
  {
   "cell_type": "code",
   "execution_count": null,
   "metadata": {},
   "outputs": [],
   "source": [
    "# topic_distr, _ = topic_model.approximate_distribution(data, window=8, stride=4)"
   ]
  },
  {
   "cell_type": "code",
   "execution_count": null,
   "metadata": {},
   "outputs": [],
   "source": [
    "# pip install nbformat>=4.2.0"
   ]
  },
  {
   "cell_type": "code",
   "execution_count": null,
   "metadata": {},
   "outputs": [],
   "source": [
    "# Visualize the topic-document distribution for a single document\n",
    "topic_model.visualize_topics()"
   ]
  },
  {
   "cell_type": "code",
   "execution_count": null,
   "metadata": {},
   "outputs": [],
   "source": [
    "topic_model.visualize_hierarchy()"
   ]
  },
  {
   "cell_type": "code",
   "execution_count": null,
   "metadata": {},
   "outputs": [],
   "source": [
    "reduced_embeddings = UMAP(n_neighbors=10, n_components=2, min_dist=0.0, metric='cosine').fit_transform(embeddings)"
   ]
  },
  {
   "cell_type": "code",
   "execution_count": null,
   "metadata": {},
   "outputs": [],
   "source": [
    "topic_model.visualize_documents(src, embeddings=embeddings)"
   ]
  },
  {
   "cell_type": "code",
   "execution_count": null,
   "metadata": {},
   "outputs": [],
   "source": [
    "topic_model.visualize_documents(src, reduced_embeddings=reduced_embeddings)"
   ]
  },
  {
   "cell_type": "code",
   "execution_count": null,
   "metadata": {},
   "outputs": [],
   "source": [
    "topa_df = topic_model.get_document_info(src)"
   ]
  },
  {
   "cell_type": "code",
   "execution_count": null,
   "metadata": {},
   "outputs": [],
   "source": [
    "topa_df"
   ]
  },
  {
   "cell_type": "code",
   "execution_count": null,
   "metadata": {},
   "outputs": [],
   "source": [
    "topa_org_df = data.copy()\n",
    "topa_org_df.reset_index(drop=True, inplace=True)\n",
    "topa_df.reset_index(drop=True, inplace=True)"
   ]
  },
  {
   "cell_type": "code",
   "execution_count": null,
   "metadata": {},
   "outputs": [],
   "source": [
    "topa_df"
   ]
  },
  {
   "cell_type": "code",
   "execution_count": null,
   "metadata": {},
   "outputs": [],
   "source": [
    "tot_topa_df = pd.concat([topa_org_df, topa_df], axis = 1)"
   ]
  },
  {
   "cell_type": "code",
   "execution_count": null,
   "metadata": {},
   "outputs": [],
   "source": [
    "tot_topa_df"
   ]
  },
  {
   "cell_type": "code",
   "execution_count": null,
   "metadata": {},
   "outputs": [],
   "source": [
    "tot_topa_df[(tot_topa_df['Topic'] ==0)&(tot_topa_df['Representative_document'] ==True)]"
   ]
  },
  {
   "cell_type": "code",
   "execution_count": null,
   "metadata": {},
   "outputs": [],
   "source": [
    "data"
   ]
  },
  {
   "cell_type": "code",
   "execution_count": null,
   "metadata": {},
   "outputs": [],
   "source": [
    "sample_dropnull_df = sample_df[['q_id', 'q_creationdate', 'a_id']].groupby(['q_id', 'q_creationdate']).head(1)\n",
    "sample_dropnull_df = sample_dropnull_df[['q_id', 'a_id']]"
   ]
  },
  {
   "cell_type": "code",
   "execution_count": null,
   "metadata": {},
   "outputs": [],
   "source": [
    "tot_topa_df = pd.merge(tot_topa_df, sample_dropnull_df, how='left', left_on = 'q_id', right_on = 'q_id')"
   ]
  },
  {
   "cell_type": "code",
   "execution_count": null,
   "metadata": {},
   "outputs": [],
   "source": [
    "tot_topa_df[tot_topa_df['q_id'] == 77394187]"
   ]
  },
  {
   "cell_type": "code",
   "execution_count": null,
   "metadata": {},
   "outputs": [],
   "source": [
    "tot_topa_df"
   ]
  },
  {
   "cell_type": "code",
   "execution_count": null,
   "metadata": {},
   "outputs": [],
   "source": [
    "data"
   ]
  },
  {
   "cell_type": "code",
   "execution_count": null,
   "metadata": {},
   "outputs": [],
   "source": [
    "tot_topa_df['date'] = pd.to_datetime(tot_topa_df['q_creationdate']).dt.date"
   ]
  },
  {
   "cell_type": "code",
   "execution_count": null,
   "metadata": {},
   "outputs": [],
   "source": [
    "tot_topa_df"
   ]
  },
  {
   "cell_type": "code",
   "execution_count": null,
   "metadata": {},
   "outputs": [],
   "source": [
    "tot_topa_not_answered_df = tot_topa_df[tot_topa_df['a_id'].isna()]\n",
    "tot_topa_answered_df = tot_topa_df[tot_topa_df['a_id'].isna()==False]"
   ]
  },
  {
   "cell_type": "code",
   "execution_count": null,
   "metadata": {},
   "outputs": [],
   "source": [
    "tot_topa_not_answered_rate = tot_topa_not_answered_df.groupby(['date', 'Topic']).count()[['q_id']].reset_index()\n",
    "tot_topa_answered_rate = tot_topa_answered_df.groupby(['date', 'Topic']).count()[['q_id']].reset_index()"
   ]
  },
  {
   "cell_type": "code",
   "execution_count": null,
   "metadata": {},
   "outputs": [],
   "source": [
    "tot_topa_not_answered_sum = tot_topa_not_answered_rate.groupby(['date']).sum()[['q_id']].reset_index()\n",
    "tot_topa_answered_sum = tot_topa_answered_rate.groupby(['date']).sum()[['q_id']].reset_index()"
   ]
  },
  {
   "cell_type": "code",
   "execution_count": null,
   "metadata": {},
   "outputs": [],
   "source": [
    "tot_topa_not_answered_rate = pd.merge(tot_topa_not_answered_rate, tot_topa_not_answered_sum, on = 'date')\n",
    "tot_topa_answered_rate = pd.merge(tot_topa_answered_rate, tot_topa_answered_sum, on = 'date')"
   ]
  },
  {
   "cell_type": "code",
   "execution_count": null,
   "metadata": {},
   "outputs": [],
   "source": [
    "tot_topa_not_answered_rate"
   ]
  },
  {
   "cell_type": "code",
   "execution_count": null,
   "metadata": {},
   "outputs": [],
   "source": [
    "# topic_per_rate = tot_topa_not_answered_rate.rename({'q_id_x': 'cnt', 'q_id_y':'tot_cnt'})"
   ]
  },
  {
   "cell_type": "code",
   "execution_count": null,
   "metadata": {},
   "outputs": [],
   "source": [
    "tot_topa_not_answered_rate['rate'] = tot_topa_not_answered_rate['q_id_x']/tot_topa_not_answered_rate['q_id_y']*100\n",
    "tot_topa_answered_rate['rate'] = tot_topa_answered_rate['q_id_x']/tot_topa_answered_rate['q_id_y']*100\n"
   ]
  },
  {
   "cell_type": "code",
   "execution_count": null,
   "metadata": {},
   "outputs": [],
   "source": [
    "tot_topa_not_answered_rate"
   ]
  },
  {
   "cell_type": "code",
   "execution_count": null,
   "metadata": {},
   "outputs": [],
   "source": [
    "tot_topa_not_answered_rate_pivot = pd.pivot_table(tot_topa_not_answered_rate, index = 'date', columns = 'Topic',values = 'rate').reset_index()\n",
    "tot_topa_answered_rate_pivot = pd.pivot_table(tot_topa_answered_rate, index = 'date', columns = 'Topic',values = 'rate').reset_index()"
   ]
  },
  {
   "cell_type": "code",
   "execution_count": null,
   "metadata": {},
   "outputs": [],
   "source": [
    "tot_topa_not_answered_pivot = pd.pivot_table(tot_topa_not_answered_rate, index = 'date', columns = 'Topic',values = 'q_id_x').reset_index()\n",
    "tot_topa_answered_pivot = pd.pivot_table(tot_topa_answered_rate, index = 'date', columns = 'Topic',values = 'q_id_x').reset_index()"
   ]
  },
  {
   "cell_type": "code",
   "execution_count": null,
   "metadata": {},
   "outputs": [],
   "source": [
    "tot_topa_not_answered_rate_pivot.fillna(0, inplace=True)\n",
    "tot_topa_answered_rate_pivot.fillna(0, inplace=True)"
   ]
  },
  {
   "cell_type": "code",
   "execution_count": null,
   "metadata": {},
   "outputs": [],
   "source": [
    "tot_topa_not_answered_pivot.fillna(0, inplace=True)\n",
    "tot_topa_answered_pivot.fillna(0, inplace=True)"
   ]
  },
  {
   "cell_type": "code",
   "execution_count": null,
   "metadata": {},
   "outputs": [],
   "source": [
    "tot_topa_not_answered_rate_pivot"
   ]
  },
  {
   "cell_type": "code",
   "execution_count": null,
   "metadata": {},
   "outputs": [],
   "source": [
    "tot_topa_not_answered_rate_pivot['sdate'] = tot_topa_not_answered_rate_pivot['date'].astype('str')\n",
    "tot_topa_answered_rate_pivot['sdate'] = tot_topa_answered_rate_pivot['date'].astype('str')"
   ]
  },
  {
   "cell_type": "code",
   "execution_count": null,
   "metadata": {},
   "outputs": [],
   "source": [
    "tot_topa_not_answered_pivot.to_csv('./chk_not_answered.csv')\n",
    "tot_topa_answered_pivot.to_csv('./chk_answered.csv')"
   ]
  },
  {
   "cell_type": "code",
   "execution_count": null,
   "metadata": {},
   "outputs": [],
   "source": [
    "### Problem 2b: Reformat the data and generate the stacked bar plot above.\n",
    "\n",
    "\n",
    "fig, ax = plt.subplots(figsize = (10, 5))\n",
    "\n",
    "# ax.bar(topic_per_pivot['date'], topic_per_pivot[0], width = 0.5, color='blue', label = 'Party A')\n",
    "ax.bar(tot_topa_answered_rate_pivot['sdate'], tot_topa_not_answered_rate_pivot[0], color='red', label = 'Party A')\n",
    "ax.bar(tot_topa_answered_rate_pivot['sdate'], tot_topa_not_answered_rate_pivot[1], bottom = tot_topa_not_answered_rate_pivot[0], color = 'orange', label = 'Party B')\n",
    "ax.bar(tot_topa_answered_rate_pivot['sdate'], tot_topa_not_answered_rate_pivot[2], bottom = tot_topa_not_answered_rate_pivot[1] + tot_topa_not_answered_rate_pivot[0], color = 'green', label = 'Party B')\n",
    "ax.bar(tot_topa_answered_rate_pivot['sdate'], tot_topa_not_answered_rate_pivot[3], bottom = tot_topa_not_answered_rate_pivot[2] + tot_topa_not_answered_rate_pivot[1] + tot_topa_not_answered_rate_pivot[0], color = 'yellow', label = 'Party B')\n",
    "ax.bar(tot_topa_answered_rate_pivot['sdate'], tot_topa_not_answered_rate_pivot[4], bottom = tot_topa_not_answered_rate_pivot[3] + tot_topa_not_answered_rate_pivot[2] + tot_topa_not_answered_rate_pivot[1] + tot_topa_not_answered_rate_pivot[0], color = 'blue', label = 'Party B')\n",
    "ax.bar(tot_topa_answered_rate_pivot['sdate'], tot_topa_not_answered_rate_pivot[5], bottom = tot_topa_not_answered_rate_pivot[4] + tot_topa_not_answered_rate_pivot[3] + tot_topa_not_answered_rate_pivot[2] + tot_topa_not_answered_rate_pivot[1] + tot_topa_not_answered_rate_pivot[0], color = 'purple', label = 'Party B')\n",
    "\n",
    "\n",
    "# ax.set_xlabel('Congress', fontsize = 5, labelpad = 20)\n",
    "# ax.set_xlabel('Congress', fontsize = 5)\n",
    "# ax.set_ylabel('Number of Seats', fontsize = 5, labelpad = 20)\n",
    "# ax.set_title('Partisan Composition of Congress', fontsize = 17.5, pad = 20)\n",
    "\n",
    "# ax.tick_params(axis = 'both', labelsize = 5)\n",
    "\n",
    "# ax.legend(title = \"Political Party\",\n",
    "#           title_fontsize = 15, fontsize = 5,\n",
    "#           bbox_to_anchor = (1, 0.55))\n",
    "\n",
    "plt.xticks(rotation = 45)\n",
    "plt.show();"
   ]
  },
  {
   "cell_type": "code",
   "execution_count": null,
   "metadata": {},
   "outputs": [],
   "source": [
    "### Problem 2b: Reformat the data and generate the stacked bar plot above.\n",
    "\n",
    "\n",
    "fig, ax = plt.subplots(figsize = (10, 5))\n",
    "\n",
    "# ax.bar(topic_per_pivot['date'], topic_per_pivot[0], width = 0.5, color='blue', label = 'Party A')\n",
    "ax.bar(tot_topa_answered_rate_pivot['sdate'], tot_topa_answered_rate_pivot[0], color='red', label = 'Party A')\n",
    "ax.bar(tot_topa_answered_rate_pivot['sdate'], tot_topa_answered_rate_pivot[1], bottom = tot_topa_answered_rate_pivot[0], color = 'orange', label = 'Party B')\n",
    "ax.bar(tot_topa_answered_rate_pivot['sdate'], tot_topa_answered_rate_pivot[2], bottom = tot_topa_answered_rate_pivot[1] + tot_topa_answered_rate_pivot[0], color = 'green', label = 'Party B')\n",
    "ax.bar(tot_topa_answered_rate_pivot['sdate'], tot_topa_answered_rate_pivot[3], bottom = tot_topa_answered_rate_pivot[2] + tot_topa_answered_rate_pivot[1] + tot_topa_answered_rate_pivot[0], color = 'yellow', label = 'Party B')\n",
    "ax.bar(tot_topa_answered_rate_pivot['sdate'], tot_topa_answered_rate_pivot[4], bottom = tot_topa_answered_rate_pivot[3] + tot_topa_answered_rate_pivot[2] + tot_topa_answered_rate_pivot[1] + tot_topa_answered_rate_pivot[0], color = 'blue', label = 'Party B')\n",
    "ax.bar(tot_topa_answered_rate_pivot['sdate'], tot_topa_answered_rate_pivot[5], bottom = tot_topa_answered_rate_pivot[4] + tot_topa_answered_rate_pivot[3] + tot_topa_answered_rate_pivot[2] + tot_topa_answered_rate_pivot[1] + tot_topa_answered_rate_pivot[0], color = 'purple', label = 'Party B')\n",
    "\n",
    "\n",
    "# ax.set_xlabel('Congress', fontsize = 5, labelpad = 20)\n",
    "# ax.set_xlabel('Congress', fontsize = 5)\n",
    "# ax.set_ylabel('Number of Seats', fontsize = 5, labelpad = 20)\n",
    "# ax.set_title('Partisan Composition of Congress', fontsize = 17.5, pad = 20)\n",
    "\n",
    "# ax.tick_params(axis = 'both', labelsize = 5)\n",
    "\n",
    "# ax.legend(title = \"Political Party\",\n",
    "#           title_fontsize = 15, fontsize = 5,\n",
    "#           bbox_to_anchor = (1, 0.55))\n",
    "\n",
    "plt.xticks(rotation = 45)\n",
    "plt.show();"
   ]
  },
  {
   "cell_type": "code",
   "execution_count": null,
   "metadata": {},
   "outputs": [],
   "source": [
    "idx = np.arange(tot_topa_answered_rate_pivot.shape[0])\n",
    "w = 0.15\n",
    "\n",
    "plt.figure(figsize = (10, 5))\n",
    "plt.title('pctchg in topic 1')\n",
    "plt.xlabel('month')\n",
    "plt.ylabel('pct')\n",
    "plt.plot(tot_topa_answered_rate_pivot[0], label = 'answered')\n",
    "plt.plot(tot_topa_not_answered_rate_pivot[0], label = 'not answered')\n",
    "plt.xticks(idx, tot_topa_answered_rate_pivot['sdate'], rotation = 30)\n",
    "plt.legend(ncol = 1)\n",
    "plt.show()"
   ]
  },
  {
   "cell_type": "code",
   "execution_count": null,
   "metadata": {},
   "outputs": [],
   "source": [
    "idx = np.arange(tot_topa_answered_rate_pivot.shape[0])\n",
    "w = 0.15\n",
    "\n",
    "plt.figure(figsize = (10, 5))\n",
    "plt.title('pctchg in topic 2')\n",
    "plt.xlabel('month')\n",
    "plt.ylabel('pct')\n",
    "plt.plot(tot_topa_answered_rate_pivot[1], label = 'answered')\n",
    "plt.plot(tot_topa_not_answered_rate_pivot[1], label = 'not answered')\n",
    "plt.xticks(idx, tot_topa_answered_rate_pivot['sdate'], rotation = 30)\n",
    "plt.legend(ncol = 1)\n",
    "plt.show()"
   ]
  },
  {
   "cell_type": "code",
   "execution_count": null,
   "metadata": {},
   "outputs": [],
   "source": [
    "idx = np.arange(tot_topa_answered_rate_pivot.shape[0])\n",
    "w = 0.15\n",
    "\n",
    "plt.figure(figsize = (10, 5))\n",
    "plt.title('pctchg in topic 3')\n",
    "plt.xlabel('month')\n",
    "plt.ylabel('pct')\n",
    "plt.plot(tot_topa_answered_rate_pivot[2], label = 'answered')\n",
    "plt.plot(tot_topa_not_answered_rate_pivot[2], label = 'not answered')\n",
    "plt.xticks(idx, tot_topa_answered_rate_pivot['sdate'], rotation = 30)\n",
    "plt.legend(ncol = 1)\n",
    "plt.show()"
   ]
  },
  {
   "cell_type": "code",
   "execution_count": null,
   "metadata": {},
   "outputs": [],
   "source": [
    "idx = np.arange(tot_topa_answered_rate_pivot.shape[0])\n",
    "w = 0.15\n",
    "\n",
    "plt.figure(figsize = (10, 5))\n",
    "plt.title('pctchg in topic 4')\n",
    "plt.xlabel('month')\n",
    "plt.ylabel('pct')\n",
    "plt.plot(tot_topa_answered_rate_pivot[3], label = 'answered')\n",
    "plt.plot(tot_topa_not_answered_rate_pivot[3], label = 'not answered')\n",
    "plt.xticks(idx, tot_topa_answered_rate_pivot['sdate'], rotation = 30)\n",
    "plt.legend(ncol = 1)\n",
    "plt.show()"
   ]
  },
  {
   "cell_type": "code",
   "execution_count": null,
   "metadata": {},
   "outputs": [],
   "source": [
    "idx = np.arange(tot_topa_answered_rate_pivot.shape[0])\n",
    "w = 0.15\n",
    "\n",
    "plt.figure(figsize = (10, 5))\n",
    "plt.title('pctchg in topic 5')\n",
    "plt.xlabel('month')\n",
    "plt.ylabel('pct')\n",
    "plt.plot(tot_topa_answered_rate_pivot[4], label = 'answered')\n",
    "plt.plot(tot_topa_not_answered_rate_pivot[4], label = 'not answered')\n",
    "plt.xticks(idx, tot_topa_answered_rate_pivot['sdate'], rotation = 30)\n",
    "plt.legend(ncol = 1)\n",
    "plt.show()"
   ]
  },
  {
   "cell_type": "code",
   "execution_count": null,
   "metadata": {},
   "outputs": [],
   "source": [
    "tot_topa_answered_rate_pivot"
   ]
  },
  {
   "cell_type": "code",
   "execution_count": null,
   "metadata": {},
   "outputs": [],
   "source": [
    "tot_topa_answered_rate_pivot"
   ]
  },
  {
   "cell_type": "code",
   "execution_count": null,
   "metadata": {},
   "outputs": [],
   "source": []
  }
 ],
 "metadata": {
  "kernelspec": {
   "display_name": "Python 3",
   "language": "python",
   "name": "python3"
  },
  "language_info": {
   "codemirror_mode": {
    "name": "ipython",
    "version": 3
   },
   "file_extension": ".py",
   "mimetype": "text/x-python",
   "name": "python",
   "nbconvert_exporter": "python",
   "pygments_lexer": "ipython3",
   "version": "3.9.6"
  }
 },
 "nbformat": 4,
 "nbformat_minor": 2
}
