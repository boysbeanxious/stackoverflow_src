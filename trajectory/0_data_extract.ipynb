{
 "cells": [
  {
   "cell_type": "code",
   "execution_count": 1,
   "metadata": {},
   "outputs": [],
   "source": [
    "import sys, os\n",
    "p = os.path.abspath('..')\n",
    "# p = p+r'\\config'\n",
    "sys.path.insert(1, p)"
   ]
  },
  {
   "cell_type": "code",
   "execution_count": 2,
   "metadata": {},
   "outputs": [],
   "source": [
    "import psycopg2\n",
    "import pandas as pd\n",
    "import pandas as pd\n",
    "import pickle\n",
    "import config.config as conf\n"
   ]
  },
  {
   "cell_type": "code",
   "execution_count": 3,
   "metadata": {},
   "outputs": [],
   "source": [
    "conn = psycopg2.connect(host = conf.database_user['host'], dbname=conf.database_user['dbname'], user=conf.database_user['user'], password=conf.database_user['password'])\n",
    "try:\n",
    "    cur = conn.cursor()\n",
    "    cur.execute(\"\\\n",
    "select tpdd.ver, tpdd.id as q_id, p.owneruserid as u_id, tpdd.creationdate as q_creationdate , u.creationdate as u_creationdate \\\n",
    "     , coalesce(fn_calc_reputation(p.owneruserid, p.creationdate), 0) as reputation \\\n",
    "  from tt_posts_difficulty_done tpdd \\\n",
    "     , posts p \\\n",
    "     , users u \\\n",
    " where tpdd.ver >= 50000 \\\n",
    "   and tpdd.id = p.id \\\n",
    "   and p.owneruserid = u.id \\\n",
    "; \\\n",
    "\" \n",
    "   )\n",
    "    rows = cur.fetchall()\n",
    "    \n",
    "\n",
    "except psycopg2.DatabaseError as db_err:\n",
    "    print(db_err)\n",
    "finally : \n",
    "  cur.close()"
   ]
  },
  {
   "cell_type": "code",
   "execution_count": 4,
   "metadata": {},
   "outputs": [],
   "source": [
    "df_tra = pd.DataFrame(rows, columns = [\n",
    "  'ver' \n",
    ", 'q_id' \n",
    ", 'u_id'\n",
    ", 'q_creationdate' \n",
    ", 'u_creationdate'\n",
    ", 'reputation' \n",
    "])"
   ]
  },
  {
   "cell_type": "code",
   "execution_count": 5,
   "metadata": {},
   "outputs": [],
   "source": [
    "# 전체 데이터셋 \n",
    "with open('../../data/df_tra.pkl', 'wb') as f:\n",
    "    pickle.dump(df_tra, f)"
   ]
  },
  {
   "cell_type": "code",
   "execution_count": null,
   "metadata": {},
   "outputs": [],
   "source": []
  },
  {
   "cell_type": "code",
   "execution_count": 6,
   "metadata": {},
   "outputs": [],
   "source": [
    "conn = psycopg2.connect(host = conf.database_user['host'], dbname=conf.database_user['dbname'], user=conf.database_user['user'], password=conf.database_user['password'])\n",
    "try:\n",
    "    cur = conn.cursor()\n",
    "    cur.execute(\"\\\n",
    "select tpdd.ver, tpdd.id as q_id, tpdd.creationdate as q_creationdate, a.owneruserid as a_u_id, a.creationdate as a_creationdate , u.creationdate as a_u_creationdate \\\n",
    "     , coalesce(fn_calc_reputation(a.owneruserid, a.creationdate), 0) as reputation \\\n",
    "  from tt_posts_difficulty_done tpdd \\\n",
    "     , posts p \\\n",
    "     , posts a \\\n",
    "     , users u \\\n",
    " where tpdd.ver >= 50000 \\\n",
    "   and tpdd.id = p.id \\\n",
    "   and a.parentid = p.id \\\n",
    "   and a.posttypeid = '2' \\\n",
    "   and a.owneruserid = u.id \\\n",
    "; \\\n",
    "\" \n",
    "   )\n",
    "    rows = cur.fetchall()\n",
    "    \n",
    "\n",
    "except psycopg2.DatabaseError as db_err:\n",
    "    print(db_err)\n",
    "finally : \n",
    "  cur.close()"
   ]
  },
  {
   "cell_type": "code",
   "execution_count": 7,
   "metadata": {},
   "outputs": [],
   "source": [
    "df_tra = pd.DataFrame(rows, columns = [\n",
    "  'ver' \n",
    ", 'q_id'\n",
    ", 'q_creationdate' \n",
    ", 'a_u_id'\n",
    ", 'a_creationdate' \n",
    ", 'a_u_creationdate' \n",
    ", 'reputation'\n",
    "])"
   ]
  },
  {
   "cell_type": "code",
   "execution_count": 8,
   "metadata": {},
   "outputs": [],
   "source": [
    "# 전체 데이터셋 \n",
    "with open('../../data/df_tra_ans.pkl', 'wb') as f:\n",
    "    pickle.dump(df_tra, f)"
   ]
  },
  {
   "cell_type": "code",
   "execution_count": null,
   "metadata": {},
   "outputs": [],
   "source": []
  },
  {
   "cell_type": "code",
   "execution_count": 9,
   "metadata": {},
   "outputs": [],
   "source": [
    "conn = psycopg2.connect(host = conf.database_user['host'], dbname=conf.database_user['dbname'], user=conf.database_user['user'], password=conf.database_user['password'])\n",
    "try:\n",
    "    cur = conn.cursor()\n",
    "    cur.execute(\"\\\n",
    "select tpdd.ver, tpdd.id as q_id, tpdd.creationdate as q_creationdate, a.owneruserid as a_u_id, a.creationdate as a_creationdate , u.creationdate as a_u_creationdate \\\n",
    "      , coalesce(fn_calc_reputation(a.owneruserid, a.creationdate), 0) as reputation \\\n",
    "  from tt_posts_difficulty_done tpdd \\\n",
    "     , posts p \\\n",
    "     , posts a \\\n",
    "     , users u \\\n",
    " where tpdd.ver >= 50000 \\\n",
    "   and tpdd.id = p.id \\\n",
    "   and a.id  = p.acceptedanswerid \\\n",
    "   and a.posttypeid = '2' \\\n",
    "   and a.owneruserid = u.id \\\n",
    "; \\\n",
    "\" \n",
    "   )\n",
    "    rows = cur.fetchall()\n",
    "    \n",
    "\n",
    "except psycopg2.DatabaseError as db_err:\n",
    "    print(db_err)\n",
    "finally : \n",
    "  cur.close()\n",
    "\n",
    "  "
   ]
  },
  {
   "cell_type": "code",
   "execution_count": 10,
   "metadata": {},
   "outputs": [],
   "source": [
    "df_tra_acc = pd.DataFrame(rows, columns = [\n",
    "  'ver' \n",
    ", 'q_id' \n",
    ", 'q_creationdate'\n",
    ", 'a_u_id'\n",
    ", 'a_creationdate' \n",
    ", 'a_u_creationdate' \n",
    ", 'reputation'\n",
    "])"
   ]
  },
  {
   "cell_type": "code",
   "execution_count": 11,
   "metadata": {},
   "outputs": [],
   "source": [
    "# 전체 데이터셋 \n",
    "with open('../../data/df_tra_ans_acc.pkl', 'wb') as f:\n",
    "    pickle.dump(df_tra_acc, f)"
   ]
  },
  {
   "cell_type": "code",
   "execution_count": null,
   "metadata": {},
   "outputs": [],
   "source": []
  },
  {
   "cell_type": "code",
   "execution_count": null,
   "metadata": {},
   "outputs": [],
   "source": []
  }
 ],
 "metadata": {
  "kernelspec": {
   "display_name": "venv_stackoverflow_src",
   "language": "python",
   "name": "python3"
  },
  "language_info": {
   "codemirror_mode": {
    "name": "ipython",
    "version": 3
   },
   "file_extension": ".py",
   "mimetype": "text/x-python",
   "name": "python",
   "nbconvert_exporter": "python",
   "pygments_lexer": "ipython3",
   "version": "3.10.12"
  }
 },
 "nbformat": 4,
 "nbformat_minor": 4
}
