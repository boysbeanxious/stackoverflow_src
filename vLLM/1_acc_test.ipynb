{
 "cells": [
  {
   "cell_type": "code",
   "execution_count": null,
   "metadata": {},
   "outputs": [],
   "source": [
    "import sys, os\n",
    "p = os.path.abspath('..')\n",
    "# p = p+r'\\config'\n",
    "sys.path.insert(1, p)"
   ]
  },
  {
   "cell_type": "code",
   "execution_count": null,
   "metadata": {},
   "outputs": [],
   "source": [
    "import lib.annotation.D_Annotation as da\n",
    "import lib.annotation.Self_Consistency as sc\n",
    "\n",
    "\n"
   ]
  },
  {
   "cell_type": "code",
   "execution_count": null,
   "metadata": {},
   "outputs": [],
   "source": [
    "# from multiprocessing import Process\n",
    "    \n",
    "# def task(llm_model, few_shot_n, test_n, q_src_yn, ver, p_ver, sc_num, temperature, excel_ver):\n",
    "\n",
    "#     print(f\"Task {llm_model}_{few_shot_n}_{test_n}_{q_src_yn}_{p_ver}_{sc_num} 시작\")\n",
    "#     for i in range(ver):\n",
    "#         print(f\"Task {llm_model}|{few_shot_n}|{test_n}|{q_src_yn}|{ver}|{p_ver}|{sc_num}|{temperature}|{excel_ver} 실행 중: {i}\")\n",
    "\n",
    "#         sc.Self_Consistency(   llm_model\n",
    "#                             , few_shot_n\n",
    "#                             , test_n\n",
    "#                             , q_src_yn\n",
    "#                             , ver\n",
    "#                             , p_ver\n",
    "#                             , sc_num\n",
    "#                             , temperature\n",
    "#                             , excel_ver\n",
    "#                             , i)\n",
    "    \n",
    "#     print(f\"Task {llm_model}_{few_shot_n}_{test_n}_{q_src_yn}_{p_ver}_{sc_num} 완료\")\n",
    "\n",
    "# if __name__ == \"__main__\":\n",
    "\n",
    "\n",
    "#     process3 = Process(target=task, args=('v', 4, 10, 'Y', 10, 'sys_prompt10', 5, 0.01, 'ver5'))\n",
    "#     process3.start()\n",
    "    \n",
    "#     process3.join()\n",
    "#     print(\"모든 작업 완료\")\n"
   ]
  },
  {
   "cell_type": "code",
   "execution_count": null,
   "metadata": {},
   "outputs": [],
   "source": [
    "# # v|4|10|Y|10|sys_prompt10|5|0.01|ver5\n",
    "\n",
    "# sc.Self_Consistency( 'v'\n",
    "#                         , 4\n",
    "#                         , 10\n",
    "#                         , 'Y'\n",
    "#                         , 10\n",
    "#                         , 'sys_prompt10'\n",
    "#                         , 5\n",
    "#                         , 0.01\n",
    "#                         , 'ver5'\n",
    "#                         , 0)"
   ]
  },
  {
   "cell_type": "markdown",
   "metadata": {},
   "source": []
  },
  {
   "cell_type": "markdown",
   "metadata": {},
   "source": []
  }
 ],
 "metadata": {
  "kernelspec": {
   "display_name": "venv_stackoverflow_src",
   "language": "python",
   "name": "python3"
  },
  "language_info": {
   "codemirror_mode": {
    "name": "ipython",
    "version": 3
   },
   "file_extension": ".py",
   "mimetype": "text/x-python",
   "name": "python",
   "nbconvert_exporter": "python",
   "pygments_lexer": "ipython3",
   "version": "3.10.12"
  }
 },
 "nbformat": 4,
 "nbformat_minor": 2
}
