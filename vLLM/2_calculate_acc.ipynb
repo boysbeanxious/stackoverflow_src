{
 "cells": [
  {
   "cell_type": "code",
   "execution_count": 1,
   "metadata": {},
   "outputs": [],
   "source": [
    "import sys, os\n",
    "p = os.path.abspath('..')\n",
    "# p = p+r'\\config'\n",
    "sys.path.insert(1, p)"
   ]
  },
  {
   "cell_type": "code",
   "execution_count": 2,
   "metadata": {},
   "outputs": [],
   "source": [
    "import pandas as pd\n",
    "import re\n",
    "import numpy as np\n"
   ]
  },
  {
   "cell_type": "code",
   "execution_count": 3,
   "metadata": {},
   "outputs": [],
   "source": [
    "path = './result'\n",
    "file_list = os.listdir(path)"
   ]
  },
  {
   "cell_type": "code",
   "execution_count": null,
   "metadata": {},
   "outputs": [],
   "source": [
    "tmp = pd.DataFrame()\n",
    "df_eval = pd.DataFrame()\n",
    "acc_list = []\n",
    "def sc_calc_acc_condition_with_temp_with_sc(llm_model, few_shot_n, test_n, q_src_yn, ver, p_ver, sc_num, temp, excel_ver):\n",
    "    # ./result/sc_l_result_4_15_Y_30_sys_prompt8_0.01_ver1_0.csv\n",
    "    file_list = os.listdir(path)\n",
    "    print(file_list)\n",
    "    opt_file = [x for x in file_list if x.startswith(f'sc_{llm_model}_result_{few_shot_n}_{test_n}_{q_src_yn}_{ver}_{p_ver}_{sc_num}_{temp}_{excel_ver}')]\n",
    "    print(f'{llm_model}_result_{few_shot_n}_{test_n}_{q_src_yn}_{ver}_{p_ver}_{sc_num}_{temp}_{excel_ver}')\n",
    "    print(opt_file)\n",
    "    opt_file = [x for x in opt_file if x.endswith(f'.csv')]\n",
    "    print(opt_file)\n",
    "\n",
    "    df = pd.DataFrame()\n",
    "\n",
    "\n",
    "    # pattern = re.compile(r'.*_[0-9]\\.csv$')\n",
    "    # opt_file = [x for x in opt_file if pattern.match(x)]\n",
    "    \n",
    "    \n",
    "    if len(opt_file)>0 : \n",
    "        for f in opt_file:\n",
    "            print(f)\n",
    "            tmp = pd.read_csv(f'{path}/{f}', index_col =0)\n",
    "            tmp = tmp.dropna()\n",
    "\n",
    "            tmp['gold'] = tmp['answer_encode'].apply(lambda x : re.sub(r'[^012]', '', x))\n",
    "            tmp['o_result'] = tmp['result'].apply(lambda x : re.sub(r'[^012]', '', x))\n",
    "            tmp = tmp[tmp['o_result'].isin(['1', '0', '2'])]\n",
    "\n",
    "            \n",
    "            gold_df = tmp[['id', 'gold']].drop_duplicates()\n",
    "            chk_cnt = tmp.groupby(['id', 'o_result']).count().reset_index()[['id', 'o_result', 'question']]\n",
    "            chk_cnt = chk_cnt.rename(columns = {'question': 'cnt'})\n",
    "            chk_cnt = chk_cnt[chk_cnt['cnt'] == sc_num]\n",
    "            chk_cnt = chk_cnt.sort_values(by = ['id', 'cnt'], ascending=[True, False]).groupby(['id']).head(1)\n",
    "            df_eval = pd.merge(gold_df, chk_cnt, on = ['id'])\n",
    "\n",
    "            df_eval['equal_yn'] = np.where(df_eval['gold']==df_eval['o_result'], 1, 0)\n",
    "            acc = (df_eval['equal_yn'].sum()/df_eval.shape[0])*100  \n",
    "            acc_list.append(acc)\n",
    "            df = pd.concat([df, df_eval], axis =0)\n",
    "            \n",
    "        df['equal_yn'] = np.where(df['gold']==df['o_result'], 1, 0)\n",
    "        acc = (df['equal_yn'].sum()/df.shape[0])*100            \n",
    "        print(f'{llm_model}_result_{few_shot_n}_{test_n}_{q_src_yn} : ', acc)\n"
   ]
  },
  {
   "cell_type": "code",
   "execution_count": 5,
   "metadata": {},
   "outputs": [
    {
     "name": "stdout",
     "output_type": "stream",
     "text": [
      "['v_result_4_10_Y_10_sys_prompt10_5_0.01_ver5_0.csv']\n",
      "v_result_4_10_Y_10_sys_prompt10_5_0.01_ver5\n",
      "['v_result_4_10_Y_10_sys_prompt10_5_0.01_ver5_0.csv']\n",
      "['v_result_4_10_Y_10_sys_prompt10_5_0.01_ver5_0.csv']\n",
      "v_result_4_10_Y_10_sys_prompt10_5_0.01_ver5_0.csv\n",
      "v_result_4_10_Y :  0.0\n"
     ]
    }
   ],
   "source": [
    "# process3 = Process(target=task, args=('v', 4, 10, 'Y', 10, 'sys_prompt10', 5, 0.01, 'ver5'))\n",
    "sc_calc_acc_condition_with_temp_with_sc('v', 4, 10, 'Y', 10, 'sys_prompt10', 5,  0.01, 'ver5')"
   ]
  },
  {
   "cell_type": "code",
   "execution_count": null,
   "metadata": {},
   "outputs": [],
   "source": []
  }
 ],
 "metadata": {
  "kernelspec": {
   "display_name": "venv_stackoverflow_src",
   "language": "python",
   "name": "python3"
  },
  "language_info": {
   "codemirror_mode": {
    "name": "ipython",
    "version": 3
   },
   "file_extension": ".py",
   "mimetype": "text/x-python",
   "name": "python",
   "nbconvert_exporter": "python",
   "pygments_lexer": "ipython3",
   "version": "3.10.12"
  }
 },
 "nbformat": 4,
 "nbformat_minor": 2
}
