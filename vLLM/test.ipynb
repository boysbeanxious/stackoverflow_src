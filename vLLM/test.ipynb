{
 "cells": [
  {
   "cell_type": "code",
   "execution_count": null,
   "id": "b7f08474",
   "metadata": {},
   "outputs": [],
   "source": [
    "# pip install vllm"
   ]
  },
  {
   "cell_type": "code",
   "execution_count": null,
   "id": "b79a0ae2",
   "metadata": {},
   "outputs": [],
   "source": [
    "# pip install -U blobfile tiktoken \"transformers>=4.44\" \"tokenizers>=0.19\" sentencepiece safetensors"
   ]
  },
  {
   "cell_type": "code",
   "execution_count": null,
   "id": "121447f2",
   "metadata": {},
   "outputs": [],
   "source": [
    "from vllm import LLM"
   ]
  },
  {
   "cell_type": "code",
   "execution_count": null,
   "id": "386b2b85",
   "metadata": {},
   "outputs": [],
   "source": [
    "# !huggingface-cli download meta-llama/Llama-3.2-1B-Instruct --local-dir /usr/share/d_ollama/.ollama/models/hf_model --local-dir-use-symlinks False"
   ]
  },
  {
   "cell_type": "code",
   "execution_count": null,
   "id": "ea28dca1",
   "metadata": {},
   "outputs": [],
   "source": [
    "from vllm import LLM\n",
    "\n",
    "llm = LLM(\n",
    "    model=\"/usr/share/d_ollama/.ollama/models/hf_model/Llama-3.2-1B-Instruct\",\n",
    "    tensor_parallel_size=4,   # or 4, since you have 4 GPUs\n",
    "    dtype=\"auto\",\n",
    "    gpu_memory_utilization=0.3\n",
    ")\n"
   ]
  },
  {
   "cell_type": "code",
   "execution_count": null,
   "id": "5373450d",
   "metadata": {},
   "outputs": [],
   "source": [
    "from vllm import SamplingParams"
   ]
  },
  {
   "cell_type": "code",
   "execution_count": null,
   "id": "d05bd214",
   "metadata": {},
   "outputs": [],
   "source": [
    "# 생성 파라미터 설정\n",
    "params = SamplingParams(temperature=0.7, top_p=0.9, max_tokens=128)\n",
    "\n",
    "# 프롬프트 실행\n",
    "outputs = llm.generate([\"안녕하세요, 오늘 기분이 어떠세요?\"], params)\n",
    "\n",
    "print(outputs[0].outputs[0].text)"
   ]
  },
  {
   "cell_type": "code",
   "execution_count": null,
   "id": "5fa61c63",
   "metadata": {},
   "outputs": [],
   "source": []
  }
 ],
 "metadata": {
  "kernelspec": {
   "display_name": "venv_stackoverflow_src",
   "language": "python",
   "name": "python3"
  },
  "language_info": {
   "codemirror_mode": {
    "name": "ipython",
    "version": 3
   },
   "file_extension": ".py",
   "mimetype": "text/x-python",
   "name": "python",
   "nbconvert_exporter": "python",
   "pygments_lexer": "ipython3",
   "version": "3.10.12"
  }
 },
 "nbformat": 4,
 "nbformat_minor": 5
}
