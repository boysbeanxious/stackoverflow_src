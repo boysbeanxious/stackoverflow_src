{
 "cells": [
  {
   "cell_type": "markdown",
   "metadata": {},
   "source": [
    "5/10/15/20/25/30 일 기준 질문을 30개씩 샘플링 X 10번 반복  \n",
    "각 버전 별로 난이도 비율 계산하여 chow test 수행 \n",
    "일자별로 계산하여 시각화"
   ]
  },
  {
   "cell_type": "code",
   "execution_count": 1,
   "metadata": {},
   "outputs": [],
   "source": [
    "import sys, os\n",
    "p = os.path.abspath('..')\n",
    "pp = os.path.abspath('../..')\n",
    "sys.path.insert(1, p)\n",
    "sys.path.insert(1, pp)"
   ]
  },
  {
   "cell_type": "code",
   "execution_count": 2,
   "metadata": {},
   "outputs": [],
   "source": [
    "import pandas as pd\n",
    "import re\n",
    "import numpy as np\n",
    "import pickle\n",
    "import matplotlib.pyplot as plt\n",
    "import seaborn as sns\n",
    "import datetime\n",
    "import lib.stats.stats as st\n",
    "import lib.annotation.Result_Prep as rp\n",
    "import config.config as conf\n"
   ]
  },
  {
   "cell_type": "code",
   "execution_count": 3,
   "metadata": {},
   "outputs": [],
   "source": [
    "fig_path = './fig/'\n",
    "path = f'../LLM/result/'\n",
    "file_list = os.listdir(path)"
   ]
  },
  {
   "cell_type": "code",
   "execution_count": 4,
   "metadata": {},
   "outputs": [],
   "source": [
    "r_p = rp.Result_Prep()"
   ]
  },
  {
   "cell_type": "code",
   "execution_count": 5,
   "metadata": {},
   "outputs": [],
   "source": [
    "sample1_list = sorted([y for y in [x for x in file_list if x.isdigit()] if (int(y)>=50000)&(int(y)<11110000)])\n",
    "sample2_list = sorted([y for y in [x for x in file_list if x.isdigit()] if (int(y)>=11110000)])"
   ]
  },
  {
   "cell_type": "code",
   "execution_count": 6,
   "metadata": {},
   "outputs": [],
   "source": [
    "def get_tot_calc(ver_list) : \n",
    "    tot_calc = pd.DataFrame()\n",
    "    for listid in ver_list:\n",
    "        df = r_p.make_one_file(listid)\n",
    "        if isinstance(df, pd.core.frame.DataFrame):\n",
    "            df = r_p.pp_df(df, 5)\n",
    "            df = r_p.calc_rate(df)\n",
    "            tot_calc = pd.concat([tot_calc, df], axis = 0)\n",
    "    return tot_calc\n",
    "\n",
    "    "
   ]
  },
  {
   "cell_type": "code",
   "execution_count": 7,
   "metadata": {},
   "outputs": [],
   "source": [
    "s1_tot_calc = get_tot_calc(sample1_list)\n",
    "s2_tot_calc = get_tot_calc(sample2_list)"
   ]
  },
  {
   "cell_type": "code",
   "execution_count": 8,
   "metadata": {},
   "outputs": [],
   "source": [
    "def get_proportion_per_level(tot_calc) : \n",
    "    df_date = r_p.pp_date(tot_calc)\n",
    "    m_chk_cnt_dict = dict()\n",
    "\n",
    "    for x in range(0, 3):\n",
    "        df = tot_calc[tot_calc['o_result'] ==str(x)]\n",
    "\n",
    "        df_merge = pd.merge(df_date, df[['creationdate', 'rel_days', 'o_result', 'rate']], on = 'creationdate', how='left')\n",
    "        df_merge.loc[df_merge['o_result'].isna(), 'rate'] = 0\n",
    "\n",
    "        df_merge.loc[:, 'o_result'] = str(x)\n",
    "        df_merge['rel_days'] = np.where(df_merge['rel_days'].isna(), (df_merge['creationdate'] - datetime.datetime(2022,11,30)).dt.days, df_merge['rel_days'])\n",
    "        m_chk_cnt_dict[x] = df_merge\n",
    "    return m_chk_cnt_dict"
   ]
  },
  {
   "cell_type": "code",
   "execution_count": 9,
   "metadata": {},
   "outputs": [],
   "source": [
    "s1_tot_dict = get_proportion_per_level(s1_tot_calc)\n",
    "s2_tot_dict = get_proportion_per_level(s2_tot_calc)"
   ]
  },
  {
   "cell_type": "code",
   "execution_count": 10,
   "metadata": {},
   "outputs": [],
   "source": [
    "s1_major_xticks = s1_tot_dict[0]['creationdate'].to_list()\n",
    "s2_major_xticks = s2_tot_dict[0]['creationdate'].to_list()"
   ]
  },
  {
   "cell_type": "code",
   "execution_count": 11,
   "metadata": {},
   "outputs": [],
   "source": [
    "s1_tot_prop = s1_tot_calc.groupby('o_result')[['r_cnt']].sum().reset_index()\n",
    "s2_tot_prop = s2_tot_calc.groupby('o_result')[['r_cnt']].sum().reset_index()"
   ]
  },
  {
   "cell_type": "code",
   "execution_count": 12,
   "metadata": {},
   "outputs": [],
   "source": [
    "s1_tot_prop['proportion'] = s1_tot_prop['r_cnt'].div(s1_tot_prop['r_cnt'].sum())*100\n",
    "s2_tot_prop['proportion'] = s2_tot_prop['r_cnt'].div(s2_tot_prop['r_cnt'].sum())*100"
   ]
  },
  {
   "cell_type": "code",
   "execution_count": 13,
   "metadata": {},
   "outputs": [
    {
     "data": {
      "text/html": [
       "<div>\n",
       "<style scoped>\n",
       "    .dataframe tbody tr th:only-of-type {\n",
       "        vertical-align: middle;\n",
       "    }\n",
       "\n",
       "    .dataframe tbody tr th {\n",
       "        vertical-align: top;\n",
       "    }\n",
       "\n",
       "    .dataframe thead th {\n",
       "        text-align: right;\n",
       "    }\n",
       "</style>\n",
       "<table border=\"1\" class=\"dataframe\">\n",
       "  <thead>\n",
       "    <tr style=\"text-align: right;\">\n",
       "      <th></th>\n",
       "      <th>o_result</th>\n",
       "      <th>r_cnt</th>\n",
       "      <th>proportion</th>\n",
       "    </tr>\n",
       "  </thead>\n",
       "  <tbody>\n",
       "    <tr>\n",
       "      <th>0</th>\n",
       "      <td>0</td>\n",
       "      <td>4757</td>\n",
       "      <td>22.220665</td>\n",
       "    </tr>\n",
       "    <tr>\n",
       "      <th>1</th>\n",
       "      <td>1</td>\n",
       "      <td>13206</td>\n",
       "      <td>61.687220</td>\n",
       "    </tr>\n",
       "    <tr>\n",
       "      <th>2</th>\n",
       "      <td>2</td>\n",
       "      <td>3445</td>\n",
       "      <td>16.092115</td>\n",
       "    </tr>\n",
       "  </tbody>\n",
       "</table>\n",
       "</div>"
      ],
      "text/plain": [
       "  o_result  r_cnt  proportion\n",
       "0        0   4757   22.220665\n",
       "1        1  13206   61.687220\n",
       "2        2   3445   16.092115"
      ]
     },
     "execution_count": 13,
     "metadata": {},
     "output_type": "execute_result"
    }
   ],
   "source": [
    "s1_tot_prop"
   ]
  },
  {
   "cell_type": "code",
   "execution_count": 14,
   "metadata": {},
   "outputs": [
    {
     "data": {
      "text/html": [
       "<div>\n",
       "<style scoped>\n",
       "    .dataframe tbody tr th:only-of-type {\n",
       "        vertical-align: middle;\n",
       "    }\n",
       "\n",
       "    .dataframe tbody tr th {\n",
       "        vertical-align: top;\n",
       "    }\n",
       "\n",
       "    .dataframe thead th {\n",
       "        text-align: right;\n",
       "    }\n",
       "</style>\n",
       "<table border=\"1\" class=\"dataframe\">\n",
       "  <thead>\n",
       "    <tr style=\"text-align: right;\">\n",
       "      <th></th>\n",
       "      <th>o_result</th>\n",
       "      <th>r_cnt</th>\n",
       "      <th>proportion</th>\n",
       "    </tr>\n",
       "  </thead>\n",
       "  <tbody>\n",
       "    <tr>\n",
       "      <th>0</th>\n",
       "      <td>0</td>\n",
       "      <td>3157</td>\n",
       "      <td>21.925134</td>\n",
       "    </tr>\n",
       "    <tr>\n",
       "      <th>1</th>\n",
       "      <td>1</td>\n",
       "      <td>8850</td>\n",
       "      <td>61.462602</td>\n",
       "    </tr>\n",
       "    <tr>\n",
       "      <th>2</th>\n",
       "      <td>2</td>\n",
       "      <td>2392</td>\n",
       "      <td>16.612265</td>\n",
       "    </tr>\n",
       "  </tbody>\n",
       "</table>\n",
       "</div>"
      ],
      "text/plain": [
       "  o_result  r_cnt  proportion\n",
       "0        0   3157   21.925134\n",
       "1        1   8850   61.462602\n",
       "2        2   2392   16.612265"
      ]
     },
     "execution_count": 14,
     "metadata": {},
     "output_type": "execute_result"
    }
   ],
   "source": [
    "s2_tot_prop"
   ]
  },
  {
   "cell_type": "code",
   "execution_count": 15,
   "metadata": {},
   "outputs": [
    {
     "data": {
      "image/png": "[encoded data removed]",
      "text/plain": [
       "<Figure size 1000x800 with 1 Axes>"
      ]
     },
     "metadata": {},
     "output_type": "display_data"
    }
   ],
   "source": [
    "import matplotlib.pyplot as plt\n",
    "import numpy as np\n",
    "\n",
    "palette = sns.color_palette(\"colorblind\")\n",
    "y = np.arange(len(s2_tot_prop['o_result']))\n",
    "\n",
    "# 그래프 설정\n",
    "plt.figure(figsize=(10, 8))\n",
    "bar_smp1 = plt.barh(y, [-x for x in s1_tot_prop['proportion']], color=palette[0], label='sample 1', alpha=0.5)  # 음수로 표현\n",
    "bar_smp2 = plt.barh(y, s2_tot_prop['proportion'], color=palette[2], label='sample 2', alpha=0.5)\n",
    "\n",
    "# y축 레이블 (연령대)\n",
    "plt.yticks(y, ['Basic', 'Intermediate', 'Advance'])\n",
    "plt.xlabel('Proportion')\n",
    "plt.title('Proportion of Difficulty Level for Each Sample')\n",
    "plt.legend(loc='upper right')\n",
    "\n",
    "for i in y:\n",
    "\n",
    "    percent_smp1 = s1_tot_prop.loc[s1_tot_prop['o_result'] == str(i), 'proportion'].values[0]\n",
    "    percent_smp2 = s2_tot_prop.loc[s2_tot_prop['o_result'] == str(i), 'proportion'].values[0]\n",
    "\n",
    "    # 남자 바 오른쪽 끝 (음수 방향 → 왼쪽)\n",
    "    plt.text([-x for x in s1_tot_prop['proportion']][i], y[i] - 0.08, f\"{percent_smp1:.1f}%\", ha='center', va='bottom', color='black', fontsize=9)\n",
    "\n",
    "    # 여자 바 오른쪽 끝 (양수 방향 → 오른쪽)\n",
    "    plt.text(s2_tot_prop['proportion'][i], y[i] - 0.08, f\"{percent_smp2:.1f}%\", ha='center', va='bottom', color='black', fontsize=9)\n",
    "\n",
    "\n",
    "# x축의 눈금 표시를 절대값으로 (음수 제거)\n",
    "xticks = plt.xticks()[0]\n",
    "plt.xticks(xticks, [f\"{abs(int(x)):,}%\" for x in xticks])\n",
    "plt.tight_layout()\n",
    "plt.savefig(f\"{fig_path}Data_2.png\", dpi=300, bbox_inches='tight')\n",
    "plt.show()\n"
   ]
  },
  {
   "cell_type": "code",
   "execution_count": null,
   "metadata": {},
   "outputs": [],
   "source": []
  }
 ],
 "metadata": {
  "kernelspec": {
   "display_name": "venv_stackoverflow_src",
   "language": "python",
   "name": "python3"
  },
  "language_info": {
   "codemirror_mode": {
    "name": "ipython",
    "version": 3
   },
   "file_extension": ".py",
   "mimetype": "text/x-python",
   "name": "python",
   "nbconvert_exporter": "python",
   "pygments_lexer": "ipython3",
   "version": "3.10.12"
  }
 },
 "nbformat": 4,
 "nbformat_minor": 2
}
