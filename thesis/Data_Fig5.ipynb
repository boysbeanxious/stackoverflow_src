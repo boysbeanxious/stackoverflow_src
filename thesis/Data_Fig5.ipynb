{
 "cells": [
  {
   "cell_type": "code",
   "execution_count": 23,
   "metadata": {},
   "outputs": [],
   "source": [
    "import sys, os\n",
    "p = os.path.abspath('..')\n",
    "# p = p+r'\\config'\n",
    "sys.path.insert(1, p)"
   ]
  },
  {
   "cell_type": "code",
   "execution_count": 24,
   "metadata": {},
   "outputs": [],
   "source": [
    "import pandas as pd\n",
    "import re\n",
    "import numpy as np\n"
   ]
  },
  {
   "cell_type": "code",
   "execution_count": 25,
   "metadata": {},
   "outputs": [],
   "source": [
    "path = './result'\n",
    "file_list = os.listdir(path)"
   ]
  },
  {
   "cell_type": "code",
   "execution_count": 30,
   "metadata": {},
   "outputs": [],
   "source": [
    "tmp = pd.DataFrame()\n",
    "df_eval = pd.DataFrame()\n",
    "acc_list = []\n",
    "def sc_calc_acc_condition_with_temp_with_sc(llm_model, few_shot_n, test_n, q_src_yn, ver, p_ver, sc_num, temp, excel_ver):\n",
    "    path = './result'\n",
    "    # ./result/sc_l_result_4_15_Y_30_sys_prompt8_0.01_ver1_0.csv\n",
    "    file_list = os.listdir(path)\n",
    "    opt_file = [x for x in file_list if x.startswith(f'sc_{llm_model}_result_{few_shot_n}_{test_n}_{q_src_yn}_{ver}_{p_ver}_{sc_num}_{temp}_{excel_ver}')]\n",
    "    opt_file = [x for x in opt_file if x.endswith(f'.csv')]\n",
    "\n",
    "    df = pd.DataFrame()\n",
    "\n",
    "\n",
    "    # pattern = re.compile(r'.*_[0-9]\\.csv$')\n",
    "    # opt_file = [x for x in opt_file if pattern.match(x)]\n",
    "    \n",
    "    \n",
    "    if len(opt_file)>0 : \n",
    "        for f in opt_file:\n",
    "            print(f)\n",
    "            tmp = pd.read_csv(f'{path}/{f}', index_col =0)\n",
    "            tmp = tmp.dropna()\n",
    "\n",
    "            tmp['gold'] = tmp['answer_encode'].apply(lambda x : re.sub(r'[^012]', '', x))\n",
    "            tmp['o_result'] = tmp['result'].apply(lambda x : re.sub(r'[^012]', '', x))\n",
    "            tmp = tmp[tmp['o_result'].isin(['1', '0', '2'])]\n",
    "\n",
    "            \n",
    "            gold_df = tmp[['id', 'gold']].drop_duplicates()\n",
    "            chk_cnt = tmp.groupby(['id', 'o_result']).count().reset_index()[['id', 'o_result', 'question']]\n",
    "            chk_cnt = chk_cnt.rename(columns = {'question': 'cnt'})\n",
    "            chk_cnt = chk_cnt[chk_cnt['cnt'] == sc_num]\n",
    "            chk_cnt = chk_cnt.sort_values(by = ['id', 'cnt'], ascending=[True, False]).groupby(['id']).head(1)\n",
    "            df_eval = pd.merge(gold_df, chk_cnt, on = ['id'])\n",
    "\n",
    "            df_eval['equal_yn'] = np.where(df_eval['gold']==df_eval['o_result'], 1, 0)\n",
    "            acc = (df_eval['equal_yn'].sum()/df_eval.shape[0])*100  \n",
    "            acc_list.append(acc)\n",
    "            df = pd.concat([df, df_eval], axis =0)\n",
    "            \n",
    "        df['equal_yn'] = np.where(df['gold']==df['o_result'], 1, 0)\n",
    "        acc = (df['equal_yn'].sum()/df.shape[0])*100            \n",
    "        print(f'{llm_model}_result_{few_shot_n}_{test_n}_{q_src_yn} : ', acc)\n"
   ]
  },
  {
   "cell_type": "code",
   "execution_count": 27,
   "metadata": {},
   "outputs": [
    {
     "name": "stdout",
     "output_type": "stream",
     "text": [
      "sc_l_result_4_30_Y_100_sys_prompt9_5_0.01_ver3_61.csv\n",
      "sc_l_result_4_30_Y_100_sys_prompt9_5_0.01_ver3_35.csv\n",
      "sc_l_result_4_30_Y_100_sys_prompt9_5_0.01_ver3_29.csv\n",
      "sc_l_result_4_30_Y_100_sys_prompt9_5_0.01_ver3_58.csv\n",
      "sc_l_result_4_30_Y_100_sys_prompt9_5_0.01_ver3_77.csv\n",
      "sc_l_result_4_30_Y_100_sys_prompt9_5_0.01_ver3_49.csv\n",
      "sc_l_result_4_30_Y_100_sys_prompt9_5_0.01_ver3_84.csv\n",
      "sc_l_result_4_30_Y_100_sys_prompt9_5_0.01_ver3_36.csv\n",
      "sc_l_result_4_30_Y_100_sys_prompt9_5_0.01_ver3_25.csv\n",
      "sc_l_result_4_30_Y_100_sys_prompt9_5_0.01_ver3_53.csv\n",
      "sc_l_result_4_30_Y_100_sys_prompt9_5_0.01_ver3_55.csv\n",
      "sc_l_result_4_30_Y_100_sys_prompt9_5_0.01_ver3_40.csv\n",
      "sc_l_result_4_30_Y_100_sys_prompt9_5_0.01_ver3_85.csv\n",
      "sc_l_result_4_30_Y_100_sys_prompt9_5_0.01_ver3_5.csv\n",
      "sc_l_result_4_30_Y_100_sys_prompt9_5_0.01_ver3_57.csv\n",
      "sc_l_result_4_30_Y_100_sys_prompt9_5_0.01_ver3_70.csv\n",
      "sc_l_result_4_30_Y_100_sys_prompt9_5_0.01_ver3_37.csv\n",
      "sc_l_result_4_30_Y_100_sys_prompt9_5_0.01_ver3_83.csv\n",
      "sc_l_result_4_30_Y_100_sys_prompt9_5_0.01_ver3_68.csv\n",
      "sc_l_result_4_30_Y_100_sys_prompt9_5_0.01_ver3_26.csv\n",
      "sc_l_result_4_30_Y_100_sys_prompt9_5_0.01_ver3_42.csv\n",
      "sc_l_result_4_30_Y_100_sys_prompt9_5_0.01_ver3_89.csv\n",
      "sc_l_result_4_30_Y_100_sys_prompt9_5_0.01_ver3_12.csv\n",
      "sc_l_result_4_30_Y_100_sys_prompt9_5_0.01_ver3_20.csv\n",
      "sc_l_result_4_30_Y_100_sys_prompt9_5_0.01_ver3_51.csv\n",
      "sc_l_result_4_30_Y_100_sys_prompt9_5_0.01_ver3_80.csv\n",
      "sc_l_result_4_30_Y_100_sys_prompt9_5_0.01_ver3_62.csv\n",
      "sc_l_result_4_30_Y_100_sys_prompt9_5_0.01_ver3_44.csv\n",
      "sc_l_result_4_30_Y_100_sys_prompt9_5_0.01_ver3_13.csv\n",
      "sc_l_result_4_30_Y_100_sys_prompt9_5_0.01_ver3_86.csv\n",
      "sc_l_result_4_30_Y_100_sys_prompt9_5_0.01_ver3_79.csv\n",
      "sc_l_result_4_30_Y_100_sys_prompt9_5_0.01_ver3_59.csv\n",
      "sc_l_result_4_30_Y_100_sys_prompt9_5_0.01_ver3_56.csv\n",
      "sc_l_result_4_30_Y_100_sys_prompt9_5_0.01_ver3_22.csv\n",
      "sc_l_result_4_30_Y_100_sys_prompt9_5_0.01_ver3_1.csv\n",
      "sc_l_result_4_30_Y_100_sys_prompt9_5_0.01_ver3_47.csv\n",
      "sc_l_result_4_30_Y_100_sys_prompt9_5_0.01_ver3_65.csv\n",
      "sc_l_result_4_30_Y_100_sys_prompt9_5_0.01_ver3_81.csv\n",
      "sc_l_result_4_30_Y_100_sys_prompt9_5_0.01_ver3_54.csv\n",
      "sc_l_result_4_30_Y_100_sys_prompt9_5_0.01_ver3_63.csv\n",
      "sc_l_result_4_30_Y_100_sys_prompt9_5_0.01_ver3_21.csv\n",
      "sc_l_result_4_30_Y_100_sys_prompt9_5_0.01_ver3_46.csv\n",
      "sc_l_result_4_30_Y_100_sys_prompt9_5_0.01_ver3_34.csv\n",
      "sc_l_result_4_30_Y_100_sys_prompt9_5_0.01_ver3_27.csv\n",
      "sc_l_result_4_30_Y_100_sys_prompt9_5_0.01_ver3_4.csv\n",
      "sc_l_result_4_30_Y_100_sys_prompt9_5_0.01_ver3_10.csv\n",
      "sc_l_result_4_30_Y_100_sys_prompt9_5_0.01_ver3_67.csv\n",
      "sc_l_result_4_30_Y_100_sys_prompt9_5_0.01_ver3_0.csv\n",
      "sc_l_result_4_30_Y_100_sys_prompt9_5_0.01_ver3_52.csv\n",
      "sc_l_result_4_30_Y_100_sys_prompt9_5_0.01_ver3_38.csv\n",
      "sc_l_result_4_30_Y_100_sys_prompt9_5_0.01_ver3_78.csv\n",
      "sc_l_result_4_30_Y_100_sys_prompt9_5_0.01_ver3_71.csv\n",
      "sc_l_result_4_30_Y_100_sys_prompt9_5_0.01_ver3_30.csv\n",
      "sc_l_result_4_30_Y_100_sys_prompt9_5_0.01_ver3_8.csv\n",
      "sc_l_result_4_30_Y_100_sys_prompt9_5_0.01_ver3_88.csv\n",
      "sc_l_result_4_30_Y_100_sys_prompt9_5_0.01_ver3_64.csv\n",
      "sc_l_result_4_30_Y_100_sys_prompt9_5_0.01_ver3_69.csv\n",
      "sc_l_result_4_30_Y_100_sys_prompt9_5_0.01_ver3_39.csv\n",
      "sc_l_result_4_30_Y_100_sys_prompt9_5_0.01_ver3_45.csv\n",
      "sc_l_result_4_30_Y_100_sys_prompt9_5_0.01_ver3_72.csv\n",
      "sc_l_result_4_30_Y_100_sys_prompt9_5_0.01_ver3_48.csv\n",
      "sc_l_result_4_30_Y_100_sys_prompt9_5_0.01_ver3_66.csv\n",
      "sc_l_result_4_30_Y_100_sys_prompt9_5_0.01_ver3_11.csv\n",
      "sc_l_result_4_30_Y_100_sys_prompt9_5_0.01_ver3_73.csv\n",
      "sc_l_result_4_30_Y_100_sys_prompt9_5_0.01_ver3_9.csv\n",
      "sc_l_result_4_30_Y_100_sys_prompt9_5_0.01_ver3_32.csv\n",
      "sc_l_result_4_30_Y_100_sys_prompt9_5_0.01_ver3_50.csv\n",
      "sc_l_result_4_30_Y_100_sys_prompt9_5_0.01_ver3_2.csv\n",
      "sc_l_result_4_30_Y_100_sys_prompt9_5_0.01_ver3_15.csv\n",
      "sc_l_result_4_30_Y_100_sys_prompt9_5_0.01_ver3_19.csv\n",
      "sc_l_result_4_30_Y_100_sys_prompt9_5_0.01_ver3_23.csv\n",
      "sc_l_result_4_30_Y_100_sys_prompt9_5_0.01_ver3_7.csv\n",
      "sc_l_result_4_30_Y_100_sys_prompt9_5_0.01_ver3_87.csv\n",
      "sc_l_result_4_30_Y_100_sys_prompt9_5_0.01_ver3_24.csv\n",
      "sc_l_result_4_30_Y_100_sys_prompt9_5_0.01_ver3_82.csv\n",
      "sc_l_result_4_30_Y_100_sys_prompt9_5_0.01_ver3_31.csv\n",
      "sc_l_result_4_30_Y_100_sys_prompt9_5_0.01_ver3_43.csv\n",
      "sc_l_result_4_30_Y_100_sys_prompt9_5_0.01_ver3_18.csv\n",
      "sc_l_result_4_30_Y_100_sys_prompt9_5_0.01_ver3_76.csv\n",
      "sc_l_result_4_30_Y_100_sys_prompt9_5_0.01_ver3_33.csv\n",
      "sc_l_result_4_30_Y_100_sys_prompt9_5_0.01_ver3_3.csv\n",
      "sc_l_result_4_30_Y_100_sys_prompt9_5_0.01_ver3_17.csv\n",
      "sc_l_result_4_30_Y_100_sys_prompt9_5_0.01_ver3_74.csv\n",
      "sc_l_result_4_30_Y_100_sys_prompt9_5_0.01_ver3_16.csv\n",
      "sc_l_result_4_30_Y_100_sys_prompt9_5_0.01_ver3_60.csv\n",
      "sc_l_result_4_30_Y_100_sys_prompt9_5_0.01_ver3_14.csv\n",
      "sc_l_result_4_30_Y_100_sys_prompt9_5_0.01_ver3_28.csv\n",
      "sc_l_result_4_30_Y_100_sys_prompt9_5_0.01_ver3_41.csv\n",
      "sc_l_result_4_30_Y_100_sys_prompt9_5_0.01_ver3_75.csv\n",
      "sc_l_result_4_30_Y_100_sys_prompt9_5_0.01_ver3_6.csv\n",
      "l_result_4_30_Y :  76.55719139297848\n"
     ]
    }
   ],
   "source": [
    "# (target=task, args=('l', 4, 30, 'Y', 100, 'sys_prompt9', 5, 0.01, 'ver3'))\n",
    "sc_calc_acc_condition_with_temp_with_sc('l', 4, 30, 'Y', 100, 'sys_prompt9', 5,  0.01, 'ver3')"
   ]
  },
  {
   "cell_type": "code",
   "execution_count": 22,
   "metadata": {},
   "outputs": [
    {
     "name": "stdout",
     "output_type": "stream",
     "text": [
      "[69.23076923076923, 90.0, 72.0, 63.1578947368421, 82.35294117647058, 92.85714285714286, 66.66666666666666, 70.58823529411765, 73.33333333333333, 76.47058823529412]\n"
     ]
    }
   ],
   "source": [
    "print(acc_list)"
   ]
  },
  {
   "cell_type": "code",
   "execution_count": 31,
   "metadata": {},
   "outputs": [
    {
     "name": "stdout",
     "output_type": "stream",
     "text": [
      "sc_l_result_4_30_Y_100_sys_prompt8_5_0.01_ver2_16.csv\n",
      "sc_l_result_4_30_Y_100_sys_prompt8_5_0.01_ver2_84.csv\n",
      "sc_l_result_4_30_Y_100_sys_prompt8_5_0.01_ver2_0.csv\n",
      "sc_l_result_4_30_Y_100_sys_prompt8_5_0.01_ver2_10.csv\n",
      "sc_l_result_4_30_Y_100_sys_prompt8_5_0.01_ver2_64.csv\n",
      "sc_l_result_4_30_Y_100_sys_prompt8_5_0.01_ver2_35.csv\n",
      "sc_l_result_4_30_Y_100_sys_prompt8_5_0.01_ver2_72.csv\n",
      "sc_l_result_4_30_Y_100_sys_prompt8_5_0.01_ver2_2.csv\n",
      "sc_l_result_4_30_Y_100_sys_prompt8_5_0.01_ver2_12.csv\n",
      "sc_l_result_4_30_Y_100_sys_prompt8_5_0.01_ver2_74.csv\n",
      "sc_l_result_4_30_Y_100_sys_prompt8_5_0.01_ver2_62.csv\n",
      "sc_l_result_4_30_Y_100_sys_prompt8_5_0.01_ver2_54.csv\n",
      "sc_l_result_4_30_Y_100_sys_prompt8_5_0.01_ver2_32.csv\n",
      "sc_l_result_4_30_Y_100_sys_prompt8_5_0.01_ver2_45.csv\n",
      "sc_l_result_4_30_Y_100_sys_prompt8_5_0.01_ver2_18.csv\n",
      "sc_l_result_4_30_Y_100_sys_prompt8_5_0.01_ver2_86.csv\n",
      "sc_l_result_4_30_Y_100_sys_prompt8_5_0.01_ver2_15.csv\n",
      "sc_l_result_4_30_Y_100_sys_prompt8_5_0.01_ver2_33.csv\n",
      "sc_l_result_4_30_Y_100_sys_prompt8_5_0.01_ver2_3.csv\n",
      "sc_l_result_4_30_Y_100_sys_prompt8_5_0.01_ver2_88.csv\n",
      "sc_l_result_4_30_Y_100_sys_prompt8_5_0.01_ver2_98.csv\n",
      "sc_l_result_4_30_Y_100_sys_prompt8_5_0.01_ver2_99.csv\n",
      "sc_l_result_4_30_Y_100_sys_prompt8_5_0.01_ver2_69.csv\n",
      "sc_l_result_4_30_Y_100_sys_prompt8_5_0.01_ver2_11.csv\n",
      "sc_l_result_4_30_Y_100_sys_prompt8_5_0.01_ver2_40.csv\n",
      "sc_l_result_4_30_Y_100_sys_prompt8_5_0.01_ver2_31.csv\n",
      "sc_l_result_4_30_Y_100_sys_prompt8_5_0.01_ver2_52.csv\n",
      "sc_l_result_4_30_Y_100_sys_prompt8_5_0.01_ver2_28.csv\n",
      "sc_l_result_4_30_Y_100_sys_prompt8_5_0.01_ver2_94.csv\n",
      "sc_l_result_4_30_Y_100_sys_prompt8_5_0.01_ver2_77.csv\n",
      "sc_l_result_4_30_Y_100_sys_prompt8_5_0.01_ver2_20.csv\n",
      "sc_l_result_4_30_Y_100_sys_prompt8_5_0.01_ver2_87.csv\n",
      "sc_l_result_4_30_Y_100_sys_prompt8_5_0.01_ver2_44.csv\n",
      "sc_l_result_4_30_Y_100_sys_prompt8_5_0.01_ver2_71.csv\n",
      "sc_l_result_4_30_Y_100_sys_prompt8_5_0.01_ver2_57.csv\n",
      "sc_l_result_4_30_Y_100_sys_prompt8_5_0.01_ver2_58.csv\n",
      "sc_l_result_4_30_Y_100_sys_prompt8_5_0.01_ver2_24.csv\n",
      "sc_l_result_4_30_Y_100_sys_prompt8_5_0.01_ver2_75.csv\n",
      "sc_l_result_4_30_Y_100_sys_prompt8_5_0.01_ver2_19.csv\n",
      "sc_l_result_4_30_Y_100_sys_prompt8_5_0.01_ver2_38.csv\n",
      "sc_l_result_4_30_Y_100_sys_prompt8_5_0.01_ver2_22.csv\n",
      "sc_l_result_4_30_Y_100_sys_prompt8_5_0.01_ver2_1.csv\n",
      "sc_l_result_4_30_Y_100_sys_prompt8_5_0.01_ver2_90.csv\n",
      "sc_l_result_4_30_Y_100_sys_prompt8_5_0.01_ver2_73.csv\n",
      "sc_l_result_4_30_Y_100_sys_prompt8_5_0.01_ver2_78.csv\n",
      "sc_l_result_4_30_Y_100_sys_prompt8_5_0.01_ver2_93.csv\n",
      "sc_l_result_4_30_Y_100_sys_prompt8_5_0.01_ver2_82.csv\n",
      "sc_l_result_4_30_Y_100_sys_prompt8_5_0.01_ver2_26.csv\n",
      "sc_l_result_4_30_Y_100_sys_prompt8_5_0.01_ver2_42.csv\n",
      "sc_l_result_4_30_Y_100_sys_prompt8_5_0.01_ver2_17.csv\n",
      "sc_l_result_4_30_Y_100_sys_prompt8_5_0.01_ver2_30.csv\n",
      "sc_l_result_4_30_Y_100_sys_prompt8_5_0.01_ver2_13.csv\n",
      "sc_l_result_4_30_Y_100_sys_prompt8_5_0.01_ver2_91.csv\n",
      "sc_l_result_4_30_Y_100_sys_prompt8_5_0.01_ver2_59.csv\n",
      "sc_l_result_4_30_Y_100_sys_prompt8_5_0.01_ver2_34.csv\n",
      "sc_l_result_4_30_Y_100_sys_prompt8_5_0.01_ver2_97.csv\n",
      "sc_l_result_4_30_Y_100_sys_prompt8_5_0.01_ver2_8.csv\n",
      "sc_l_result_4_30_Y_100_sys_prompt8_5_0.01_ver2_80.csv\n",
      "sc_l_result_4_30_Y_100_sys_prompt8_5_0.01_ver2_9.csv\n",
      "sc_l_result_4_30_Y_100_sys_prompt8_5_0.01_ver2_41.csv\n",
      "sc_l_result_4_30_Y_100_sys_prompt8_5_0.01_ver2_5.csv\n",
      "sc_l_result_4_30_Y_100_sys_prompt8_5_0.01_ver2_14.csv\n",
      "sc_l_result_4_30_Y_100_sys_prompt8_5_0.01_ver2_53.csv\n",
      "sc_l_result_4_30_Y_100_sys_prompt8_5_0.01_ver2_29.csv\n",
      "sc_l_result_4_30_Y_100_sys_prompt8_5_0.01_ver2_66.csv\n",
      "sc_l_result_4_30_Y_100_sys_prompt8_5_0.01_ver2_56.csv\n",
      "sc_l_result_4_30_Y_100_sys_prompt8_5_0.01_ver2_83.csv\n",
      "sc_l_result_4_30_Y_100_sys_prompt8_5_0.01_ver2_48.csv\n",
      "sc_l_result_4_30_Y_100_sys_prompt8_5_0.01_ver2_36.csv\n",
      "sc_l_result_4_30_Y_100_sys_prompt8_5_0.01_ver2_43.csv\n",
      "sc_l_result_4_30_Y_100_sys_prompt8_5_0.01_ver2_55.csv\n",
      "sc_l_result_4_30_Y_100_sys_prompt8_5_0.01_ver2_7.csv\n",
      "sc_l_result_4_30_Y_100_sys_prompt8_5_0.01_ver2_92.csv\n",
      "sc_l_result_4_30_Y_100_sys_prompt8_5_0.01_ver2_25.csv\n",
      "sc_l_result_4_30_Y_100_sys_prompt8_5_0.01_ver2_81.csv\n",
      "sc_l_result_4_30_Y_100_sys_prompt8_5_0.01_ver2_60.csv\n",
      "sc_l_result_4_30_Y_100_sys_prompt8_5_0.01_ver2_21.csv\n",
      "sc_l_result_4_30_Y_100_sys_prompt8_5_0.01_ver2_39.csv\n",
      "sc_l_result_4_30_Y_100_sys_prompt8_5_0.01_ver2_61.csv\n",
      "sc_l_result_4_30_Y_100_sys_prompt8_5_0.01_ver2_95.csv\n",
      "sc_l_result_4_30_Y_100_sys_prompt8_5_0.01_ver2_49.csv\n",
      "sc_l_result_4_30_Y_100_sys_prompt8_5_0.01_ver2_67.csv\n",
      "sc_l_result_4_30_Y_100_sys_prompt8_5_0.01_ver2_65.csv\n",
      "sc_l_result_4_30_Y_100_sys_prompt8_5_0.01_ver2_46.csv\n",
      "sc_l_result_4_30_Y_100_sys_prompt8_5_0.01_ver2_37.csv\n",
      "sc_l_result_4_30_Y_100_sys_prompt8_5_0.01_ver2_63.csv\n",
      "sc_l_result_4_30_Y_100_sys_prompt8_5_0.01_ver2_23.csv\n",
      "sc_l_result_4_30_Y_100_sys_prompt8_5_0.01_ver2_27.csv\n",
      "sc_l_result_4_30_Y_100_sys_prompt8_5_0.01_ver2_50.csv\n",
      "sc_l_result_4_30_Y_100_sys_prompt8_5_0.01_ver2_79.csv\n",
      "sc_l_result_4_30_Y_100_sys_prompt8_5_0.01_ver2_68.csv\n",
      "sc_l_result_4_30_Y_100_sys_prompt8_5_0.01_ver2_76.csv\n",
      "sc_l_result_4_30_Y_100_sys_prompt8_5_0.01_ver2_51.csv\n",
      "sc_l_result_4_30_Y_100_sys_prompt8_5_0.01_ver2_96.csv\n",
      "sc_l_result_4_30_Y_100_sys_prompt8_5_0.01_ver2_6.csv\n",
      "sc_l_result_4_30_Y_100_sys_prompt8_5_0.01_ver2_70.csv\n",
      "sc_l_result_4_30_Y_100_sys_prompt8_5_0.01_ver2_89.csv\n",
      "sc_l_result_4_30_Y_100_sys_prompt8_5_0.01_ver2_85.csv\n",
      "sc_l_result_4_30_Y_100_sys_prompt8_5_0.01_ver2_4.csv\n",
      "sc_l_result_4_30_Y_100_sys_prompt8_5_0.01_ver2_47.csv\n",
      "l_result_4_30_Y :  83.52098259979529\n"
     ]
    }
   ],
   "source": [
    "# sc_calc_acc_condition_with_temp_with_sc('l', 4, 15, 'Y', 30, 'sys_prompt8', 5,  0.01, 'ver1')\n",
    "# # process3 = Process(target=task, args=('l', 4, 15, 'Y', 30, 'sys_prompt8', 3, 0.01, 'ver1'))\n",
    "sc_calc_acc_condition_with_temp_with_sc('l', 4, 30, 'Y', 100, 'sys_prompt8', 5,  0.01, 'ver2')\n",
    "# 그래프 그려서 넣어두기... 분포...."
   ]
  },
  {
   "cell_type": "code",
   "execution_count": 32,
   "metadata": {},
   "outputs": [
    {
     "data": {
      "text/plain": [
       "83.67379071062875"
      ]
     },
     "execution_count": 32,
     "metadata": {},
     "output_type": "execute_result"
    }
   ],
   "source": [
    "np.mean(acc_list)"
   ]
  },
  {
   "cell_type": "code",
   "execution_count": null,
   "metadata": {},
   "outputs": [],
   "source": [
    "import matplotlib.pyplot as plt\n",
    "\n",
    "fig, ax = plt.subplots()\n",
    "\n",
    "ax.hist(acc_list\n",
    "    ,  color = 'lightgray'\n",
    "    # ,  edgecolor = 'black'\n",
    "      ) # hist type\n",
    "\n",
    "ax.set_title(\"Histogram of Acc Test\", # add title\n",
    "             fontsize = 12.5,\n",
    "             weight = 'bold',\n",
    "             pad = 10,\n",
    "             loc = 'center')\n",
    "ax.set_xlabel(\"Accuracy\", # add x-axis label\n",
    "              fontsize = 12.5)\n",
    "ax.set_ylabel(\"# of test\", # add y-axis label\n",
    "              fontsize = 12.5)\n",
    "\n",
    "ax.axvline(np.mean(acc_list), # add vertical line\n",
    "           color = 'blue',\n",
    "           linestyle = '--',\n",
    "           linewidth = 1.5)\n",
    "fig.text(0.35, 0.82, color = 'blue', fontsize = 10,  s='Mean: ' + str(round(np.mean(acc_list), 2))) #\n",
    "\n",
    "\n",
    "plt.show();\n"
   ]
  },
  {
   "cell_type": "code",
   "execution_count": null,
   "metadata": {},
   "outputs": [],
   "source": []
  },
  {
   "cell_type": "code",
   "execution_count": null,
   "metadata": {},
   "outputs": [],
   "source": []
  },
  {
   "cell_type": "code",
   "execution_count": 8,
   "metadata": {},
   "outputs": [],
   "source": [
    "# def calc_acc_condition(llm_model, few_shot_n, test_n, q_src_yn, p_ver):\n",
    "#     opt_file = [x for x in file_list if x.startswith(f'{llm_model}_result_{few_shot_n}_{test_n}_{q_src_yn}')]\n",
    "#     opt_file = [x for x in opt_file if x.endswith(f'_{p_ver}.csv')]\n",
    "\n",
    "#     if len(opt_file)>0 : \n",
    "#         df = pd.DataFrame()\n",
    "\n",
    "#         for f in opt_file:\n",
    "#             tmp = pd.read_csv(f'./result/{f}', index_col =0)\n",
    "#             df = pd.concat([df, tmp], axis =0)\n",
    "        \n",
    "#         df['gold'] = df['answer_encode'].apply(lambda x : re.sub(r'[^0-9]', '', x))\n",
    "#         df['o_result'] = df['result'].apply(lambda x : re.sub(r'[^0-9]', '', x))\n",
    "#         df['equal_yn'] = np.where(df['gold']==df['o_result'], 1, 0)\n",
    "#         acc = (df['equal_yn'].sum()/df.shape[0])*100\n",
    "#         print(f'{llm_model}_result_{few_shot_n}_{test_n}_{q_src_yn} : ', acc)\n"
   ]
  },
  {
   "cell_type": "code",
   "execution_count": 9,
   "metadata": {},
   "outputs": [],
   "source": [
    "def calc_acc_condition(llm_model, few_shot_n, test_n, q_src_yn, p_ver):\n",
    "    opt_file = [x for x in file_list if x.startswith(f'{llm_model}_result_{few_shot_n}_{test_n}_{q_src_yn}')]\n",
    "    opt_file = [x for x in opt_file if x.endswith(f'_{p_ver}.csv')]\n",
    "\n",
    "    if len(opt_file)>0 : \n",
    "        df = pd.DataFrame()\n",
    "\n",
    "        for f in opt_file:\n",
    "            tmp = pd.read_csv(f'./result/{f}', index_col =0)\n",
    "            tmp['gold'] = tmp['answer_encode'].apply(lambda x : re.sub(r'[^0-9]', '', x))\n",
    "            tmp['o_result'] = tmp['result'].apply(lambda x : re.sub(r'[^0-9]', '', x))\n",
    "            tmp[['gold', 'o_result']] = tmp[['gold', 'o_result']].astype(int)\n",
    "            df_eval = tmp.groupby('id').mean('o_result').reset_index()\n",
    "            df_eval['o_result'] = df_eval['o_result'].round(0)\n",
    "            df = pd.concat([df, tmp], axis =0)\n",
    "            \n",
    "        df['equal_yn'] = np.where(df['gold']==df['o_result'], 1, 0)\n",
    "        acc = (df['equal_yn'].sum()/df.shape[0])*100            \n",
    "        print(f'{llm_model}_result_{few_shot_n}_{test_n}_{q_src_yn} : ', acc)\n"
   ]
  },
  {
   "cell_type": "code",
   "execution_count": null,
   "metadata": {},
   "outputs": [],
   "source": [
    "calc_acc_condition('c' , 2, 10, 'N', 'sys_prompt1')\n",
    "calc_acc_condition('c' , 2, 10, 'Y', 'sys_prompt1')\n",
    "calc_acc_condition('c' , 3, 10, 'N', 'sys_prompt1')\n",
    "calc_acc_condition('c' , 3, 10, 'Y', 'sys_prompt1')\n",
    "\n",
    "\n",
    "calc_acc_condition('l' , 1, 10, 'Y', 'sys_prompt1')\n",
    "calc_acc_condition('l' , 2, 10, 'Y', 'sys_prompt1')\n",
    "calc_acc_condition('l' , 3, 10, 'Y', 'sys_prompt1')\n",
    "calc_acc_condition('l' , 4, 10, 'Y', 'sys_prompt1')\n",
    "\n",
    "calc_acc_condition('l' , 1, 10, 'N', 'sys_prompt1')\n",
    "calc_acc_condition('l' , 2, 10, 'N', 'sys_prompt1')\n",
    "calc_acc_condition('l' , 3, 10, 'N', 'sys_prompt1')\n",
    "calc_acc_condition('l' , 4, 10, 'N', 'sys_prompt1')\n"
   ]
  },
  {
   "cell_type": "code",
   "execution_count": null,
   "metadata": {},
   "outputs": [],
   "source": [
    "calc_acc_condition('c' , 2, 10, 'N', 'sys_prompt2')\n",
    "calc_acc_condition('c' , 2, 10, 'Y', 'sys_prompt2')\n",
    "calc_acc_condition('c' , 3, 10, 'N', 'sys_prompt2')\n",
    "calc_acc_condition('c' , 3, 10, 'Y', 'sys_prompt2')\n",
    "\n",
    "calc_acc_condition('l' , 1, 10, 'Y', 'sys_prompt2')\n",
    "calc_acc_condition('l' , 2, 10, 'Y', 'sys_prompt2')\n",
    "calc_acc_condition('l' , 3, 10, 'Y', 'sys_prompt2')\n",
    "calc_acc_condition('l' , 4, 10, 'Y', 'sys_prompt2')\n",
    "\n",
    "\n",
    "calc_acc_condition('l' , 1, 10, 'N', 'sys_prompt2')\n",
    "calc_acc_condition('l' , 2, 10, 'N', 'sys_prompt2')\n",
    "calc_acc_condition('l' , 3, 10, 'N', 'sys_prompt2')\n",
    "calc_acc_condition('l' , 4, 10, 'N', 'sys_prompt2')\n"
   ]
  },
  {
   "cell_type": "code",
   "execution_count": null,
   "metadata": {},
   "outputs": [],
   "source": []
  },
  {
   "cell_type": "code",
   "execution_count": null,
   "metadata": {},
   "outputs": [],
   "source": [
    "calc_acc_condition('c' , 2, 10, 'N', 'sys_prompt3')\n",
    "calc_acc_condition('c' , 2, 10, 'Y', 'sys_prompt3')\n",
    "calc_acc_condition('c' , 3, 10, 'N', 'sys_prompt3')\n",
    "calc_acc_condition('c' , 3, 10, 'Y', 'sys_prompt3')\n",
    "\n",
    "calc_acc_condition('l' , 1, 10, 'Y', 'sys_prompt3')\n",
    "calc_acc_condition('l' , 2, 10, 'Y', 'sys_prompt3')\n",
    "calc_acc_condition('l' , 3, 10, 'Y', 'sys_prompt3')\n",
    "calc_acc_condition('l' , 4, 10, 'Y', 'sys_prompt3')\n",
    "\n",
    "\n",
    "calc_acc_condition('l' , 1, 10, 'N', 'sys_prompt3')\n",
    "calc_acc_condition('l' , 2, 10, 'N', 'sys_prompt3')\n",
    "calc_acc_condition('l' , 3, 10, 'N', 'sys_prompt3')\n",
    "calc_acc_condition('l' , 4, 10, 'N', 'sys_prompt3')\n"
   ]
  },
  {
   "cell_type": "code",
   "execution_count": null,
   "metadata": {},
   "outputs": [],
   "source": [
    "calc_acc_condition('c' , 2, 10, 'N', 'sys_prompt4')\n",
    "calc_acc_condition('c' , 2, 10, 'Y', 'sys_prompt4')\n",
    "calc_acc_condition('c' , 3, 10, 'N', 'sys_prompt4')\n",
    "calc_acc_condition('c' , 3, 10, 'Y', 'sys_prompt4')\n",
    "\n",
    "calc_acc_condition('l' , 1, 10, 'Y', 'sys_prompt4')\n",
    "calc_acc_condition('l' , 2, 10, 'Y', 'sys_prompt4')\n",
    "calc_acc_condition('l' , 3, 10, 'Y', 'sys_prompt4')\n",
    "calc_acc_condition('l' , 4, 10, 'Y', 'sys_prompt4')\n",
    "\n",
    "\n",
    "calc_acc_condition('l' , 1, 10, 'N', 'sys_prompt4')\n",
    "calc_acc_condition('l' , 2, 10, 'N', 'sys_prompt4')\n",
    "calc_acc_condition('l' , 3, 10, 'N', 'sys_prompt4')\n",
    "calc_acc_condition('l' , 4, 10, 'N', 'sys_prompt4')\n"
   ]
  },
  {
   "cell_type": "code",
   "execution_count": 14,
   "metadata": {},
   "outputs": [],
   "source": [
    "def sc_calc_acc_condition(llm_model, few_shot_n, test_n, q_src_yn, p_ver):\n",
    "    opt_file = [x for x in file_list if x.startswith(f'sc_{llm_model}_result_{few_shot_n}_{test_n}_{q_src_yn}')]\n",
    "    opt_file = [x for x in opt_file if x.endswith(f'_{p_ver}.csv')]\n",
    "    df = pd.DataFrame()\n",
    "    if len(opt_file)>0 : \n",
    "        print(opt_file)\n",
    "        for f in opt_file:\n",
    "            tmp = pd.read_csv(f'./result/{f}', index_col =0)\n",
    "            tmp['gold'] = tmp['answer_encode'].apply(lambda x : re.sub(r'[^0-9]', '', x))\n",
    "            tmp['o_result'] = tmp['result'].apply(lambda x : re.sub(r'[^0-9]', '', x))\n",
    "            tmp[['gold', 'o_result']] = tmp[['gold', 'o_result']].astype(int)\n",
    "            df_eval = tmp.groupby('id').mean('o_result').reset_index()\n",
    "            df_eval['o_result'] = df_eval['o_result'].round(0)\n",
    "            df_eval['equal_yn'] = np.where(df_eval['gold']==df_eval['o_result'], 1, 0)\n",
    "            acc = (df_eval['equal_yn'].sum()/df_eval.shape[0])*100  \n",
    "            # print(acc)\n",
    "            df = pd.concat([df, df_eval], axis =0)\n",
    "            \n",
    "        df['equal_yn'] = np.where(df['gold']==df['o_result'], 1, 0)\n",
    "        acc = (df['equal_yn'].sum()/df.shape[0])*100            \n",
    "        print(f'{llm_model}_result_{few_shot_n}_{test_n}_{q_src_yn} : ', acc)\n"
   ]
  },
  {
   "cell_type": "code",
   "execution_count": null,
   "metadata": {},
   "outputs": [],
   "source": [
    "sc_calc_acc_condition('l' , 1, 10, 'Y', 'sys_prompt4')\n",
    "sc_calc_acc_condition('l' , 2, 10, 'Y', 'sys_prompt4') # temperature 0.2\n",
    "sc_calc_acc_condition('l' , 3, 10, 'Y', 'sys_prompt4')\n",
    "\n",
    "sc_calc_acc_condition('l' , 1, 10, 'N', 'sys_prompt4')\n",
    "sc_calc_acc_condition('l' , 2, 10, 'N', 'sys_prompt4')\n",
    "sc_calc_acc_condition('l' , 3, 10, 'N', 'sys_prompt4')"
   ]
  },
  {
   "cell_type": "code",
   "execution_count": null,
   "metadata": {},
   "outputs": [],
   "source": [
    "sc_calc_acc_condition('l' , 1, 5, 'Y', 'sys_prompt4')\n",
    "sc_calc_acc_condition('l' , 2, 5, 'Y', 'sys_prompt4')\n",
    "sc_calc_acc_condition('l' , 3, 5, 'Y', 'sys_prompt4')\n",
    "\n",
    "# sc_l_result_1_10_Y_0_sys_prompt4.csv\n",
    "# (f'./result/sc_{llm_model}_result_{few_shot_n}_{self.test_n}_{q_src_yn}_{self.version}_{self.p_ver}.csv')\n",
    "\n",
    "sc_calc_acc_condition('l' , 1, 5, 'N', 'sys_prompt4')\n",
    "sc_calc_acc_condition('l' , 2, 5, 'N', 'sys_prompt4')\n",
    "sc_calc_acc_condition('l' , 3, 5, 'N', 'sys_prompt4')\n"
   ]
  },
  {
   "cell_type": "code",
   "execution_count": null,
   "metadata": {},
   "outputs": [],
   "source": [
    "\n",
    "sc_calc_acc_condition('l' , 2, 5, 'Y', 'sys_prompt5')\n",
    "sc_calc_acc_condition('l' , 2, 5, 'N', 'sys_prompt5')\n"
   ]
  },
  {
   "cell_type": "code",
   "execution_count": null,
   "metadata": {},
   "outputs": [],
   "source": [
    "\n",
    "sc_calc_acc_condition('c' , 2, 10, 'Y', 'sys_prompt4')\n",
    "sc_calc_acc_condition('c' , 2, 10, 'N', 'sys_prompt4')\n"
   ]
  },
  {
   "cell_type": "code",
   "execution_count": null,
   "metadata": {},
   "outputs": [],
   "source": [
    "sc_calc_acc_condition('c' , 2, 10, 'Y', 'sys_prompt7')\n",
    "sc_calc_acc_condition('c' , 2, 10, 'N', 'sys_prompt7')\n"
   ]
  },
  {
   "cell_type": "code",
   "execution_count": null,
   "metadata": {},
   "outputs": [],
   "source": [
    "\n",
    "sc_calc_acc_condition('l' , 2, 10, 'Y', 'sys_prompt7')\n",
    "sc_calc_acc_condition('l' , 2, 10, 'N', 'sys_prompt7')\n"
   ]
  },
  {
   "cell_type": "code",
   "execution_count": null,
   "metadata": {},
   "outputs": [],
   "source": [
    "\n",
    "sc_calc_acc_condition('l' , 4, 10, 'Y', 'sys_prompt7')\n",
    "sc_calc_acc_condition('l' , 4, 10, 'N', 'sys_prompt7')\n"
   ]
  },
  {
   "cell_type": "code",
   "execution_count": 22,
   "metadata": {},
   "outputs": [],
   "source": [
    "def sc_calc_acc_condition_with_temp(llm_model, few_shot_n, test_n, q_src_yn, p_ver, temp):\n",
    "    opt_file = [x for x in file_list if x.startswith(f'sc_{llm_model}_result_{few_shot_n}_{test_n}_{q_src_yn}')]\n",
    "    opt_file = [x for x in opt_file if x.endswith(f'_{p_ver}_{temp}.csv')]\n",
    "    df = pd.DataFrame()\n",
    "    if len(opt_file)>0 : \n",
    "        for f in opt_file:\n",
    "            print(f)\n",
    "            tmp = pd.read_csv(f'./result/{f}', index_col =0)\n",
    "            tmp['gold'] = tmp['answer_encode'].apply(lambda x : re.sub(r'[^0-9]', '', x))\n",
    "            tmp['o_result'] = tmp['result'].apply(lambda x : re.sub(r'[^0-9]', '', x))\n",
    "            tmp[['gold', 'o_result']] = tmp[['gold', 'o_result']].astype(int)\n",
    "            df_eval = tmp.groupby('id').mean('o_result').reset_index()\n",
    "            df_eval['o_result'] = df_eval['o_result'].round(0)\n",
    "            df_eval['equal_yn'] = np.where(df_eval['gold']==df_eval['o_result'], 1, 0)\n",
    "            acc = (df_eval['equal_yn'].sum()/df_eval.shape[0])*100  \n",
    "            print(acc)\n",
    "            df = pd.concat([df, df_eval], axis =0)\n",
    "            \n",
    "        df['equal_yn'] = np.where(df['gold']==df['o_result'], 1, 0)\n",
    "        acc = (df['equal_yn'].sum()/df.shape[0])*100            \n",
    "        print(f'{llm_model}_result_{few_shot_n}_{test_n}_{q_src_yn} : ', acc)\n"
   ]
  },
  {
   "cell_type": "code",
   "execution_count": null,
   "metadata": {},
   "outputs": [],
   "source": [
    "sc_calc_acc_condition_with_temp('l', 2, 10, 'Y','sys_prompt4', 0)"
   ]
  },
  {
   "cell_type": "code",
   "execution_count": null,
   "metadata": {},
   "outputs": [],
   "source": [
    "llm_model, few_shot_n,test_n, q_src_yn, p_ver, temp = 'l',2, 10, 'Y','sys_prompt4', 0\n",
    "opt_file = [x for x in file_list if x.startswith(f'sc_{llm_model}_result_{few_shot_n}_{test_n}_{q_src_yn}')]\n",
    "opt_file = [x for x in opt_file if x.endswith(f'_{p_ver}_{temp}.csv')]\n",
    "df = pd.DataFrame()\n",
    "if len(opt_file)>0 : \n",
    "    for f in opt_file:\n",
    "        print(f)\n",
    "        tmp = pd.read_csv(f'./result/{f}', index_col =0)\n",
    "        tmp['gold'] = tmp['answer_encode'].apply(lambda x : re.sub(r'[^0-9]', '', x))\n",
    "        tmp['o_result'] = tmp['result'].apply(lambda x : re.sub(r'[^0-9]', '', x))\n",
    "        tmp[['gold', 'o_result']] = tmp[['gold', 'o_result']].astype(int)\n",
    "        tmp['equal_yn'] = np.where(tmp['gold']==tmp['o_result'], 1, 0)\n",
    "        acc = (tmp['equal_yn'].sum()/tmp.shape[0])*100  \n",
    "        df = pd.concat([df, tmp], axis =0)\n",
    "\n",
    "df.to_csv('youcandoit.csv')"
   ]
  },
  {
   "cell_type": "code",
   "execution_count": null,
   "metadata": {},
   "outputs": [],
   "source": [
    "sc_calc_acc_condition_with_temp('l', 2, 10, 'Y','sys_prompt4', 0.5)"
   ]
  },
  {
   "cell_type": "code",
   "execution_count": null,
   "metadata": {},
   "outputs": [],
   "source": []
  }
 ],
 "metadata": {
  "kernelspec": {
   "display_name": "venv_stackoverflow_src",
   "language": "python",
   "name": "python3"
  },
  "language_info": {
   "codemirror_mode": {
    "name": "ipython",
    "version": 3
   },
   "file_extension": ".py",
   "mimetype": "text/x-python",
   "name": "python",
   "nbconvert_exporter": "python",
   "pygments_lexer": "ipython3",
   "version": "3.10.12"
  }
 },
 "nbformat": 4,
 "nbformat_minor": 2
}
