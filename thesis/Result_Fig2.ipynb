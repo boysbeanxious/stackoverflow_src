{
 "cells": [
  {
   "cell_type": "markdown",
   "metadata": {},
   "source": [
    "5/10/15/20/25/30 일 기준 질문을 30개씩 샘플링 X 10번 반복  \n",
    "주차별로 묶어서 시각화 "
   ]
  },
  {
   "cell_type": "code",
   "execution_count": 1,
   "metadata": {},
   "outputs": [],
   "source": [
    "import sys, os\n",
    "p = os.path.abspath('..')\n",
    "pp = os.path.abspath('../..')\n",
    "sys.path.insert(1, p)\n",
    "sys.path.insert(1, pp)"
   ]
  },
  {
   "cell_type": "code",
   "execution_count": 5,
   "metadata": {},
   "outputs": [
    {
     "ename": "ModuleNotFoundError",
     "evalue": "No module named 'sqlalchemy'",
     "output_type": "error",
     "traceback": [
      "\u001b[0;31m---------------------------------------------------------------------------\u001b[0m",
      "\u001b[0;31mModuleNotFoundError\u001b[0m                       Traceback (most recent call last)",
      "Cell \u001b[0;32mIn[5], line 9\u001b[0m\n\u001b[1;32m      7\u001b[0m \u001b[38;5;28;01mimport\u001b[39;00m \u001b[38;5;21;01mdatetime\u001b[39;00m\n\u001b[1;32m      8\u001b[0m \u001b[38;5;28;01mimport\u001b[39;00m \u001b[38;5;21;01mlib\u001b[39;00m\u001b[38;5;21;01m.\u001b[39;00m\u001b[38;5;21;01mstats\u001b[39;00m\u001b[38;5;21;01m.\u001b[39;00m\u001b[38;5;21;01mstats\u001b[39;00m \u001b[38;5;28;01mas\u001b[39;00m \u001b[38;5;21;01mst\u001b[39;00m\n\u001b[0;32m----> 9\u001b[0m \u001b[38;5;28;01mimport\u001b[39;00m \u001b[38;5;21;01mlib\u001b[39;00m\u001b[38;5;21;01m.\u001b[39;00m\u001b[38;5;21;01mannotation\u001b[39;00m\u001b[38;5;21;01m.\u001b[39;00m\u001b[38;5;21;01mResult_Prep\u001b[39;00m \u001b[38;5;28;01mas\u001b[39;00m \u001b[38;5;21;01mrp\u001b[39;00m\n\u001b[1;32m     10\u001b[0m \u001b[38;5;28;01mimport\u001b[39;00m \u001b[38;5;21;01mconfig\u001b[39;00m\u001b[38;5;21;01m.\u001b[39;00m\u001b[38;5;21;01mconfig\u001b[39;00m \u001b[38;5;28;01mas\u001b[39;00m \u001b[38;5;21;01mconf\u001b[39;00m\n",
      "File \u001b[0;32m~/code-server/Myokyung/stackoverflow_src/lib/annotation/Result_Prep.py:1\u001b[0m\n\u001b[0;32m----> 1\u001b[0m \u001b[38;5;28;01mfrom\u001b[39;00m \u001b[38;5;21;01mlib\u001b[39;00m\u001b[38;5;21;01m.\u001b[39;00m\u001b[38;5;21;01mannotation\u001b[39;00m\u001b[38;5;21;01m.\u001b[39;00m\u001b[38;5;21;01mimport_files\u001b[39;00m \u001b[38;5;28;01mimport\u001b[39;00m \u001b[38;5;241m*\u001b[39m\n\u001b[1;32m      3\u001b[0m \u001b[38;5;28;01mclass\u001b[39;00m \u001b[38;5;21;01mResult_Prep\u001b[39;00m: \n\u001b[1;32m      5\u001b[0m     \u001b[38;5;28;01mdef\u001b[39;00m \u001b[38;5;21mmake_one_file\u001b[39m(\u001b[38;5;28mself\u001b[39m, ver):\n",
      "File \u001b[0;32m~/code-server/Myokyung/stackoverflow_src/lib/annotation/import_files.py:24\u001b[0m\n\u001b[1;32m     22\u001b[0m \u001b[38;5;28;01mimport\u001b[39;00m \u001b[38;5;21;01mpsycopg2\u001b[39;00m\n\u001b[1;32m     23\u001b[0m \u001b[38;5;28;01mimport\u001b[39;00m \u001b[38;5;21;01mpsycopg2\u001b[39;00m\u001b[38;5;21;01m.\u001b[39;00m\u001b[38;5;21;01mextras\u001b[39;00m\n\u001b[0;32m---> 24\u001b[0m \u001b[38;5;28;01mimport\u001b[39;00m \u001b[38;5;21;01msqlalchemy\u001b[39;00m \u001b[38;5;28;01mas\u001b[39;00m \u001b[38;5;21;01msa\u001b[39;00m\n\u001b[1;32m     25\u001b[0m \u001b[38;5;28;01mfrom\u001b[39;00m \u001b[38;5;21;01msqlalchemy\u001b[39;00m \u001b[38;5;28;01mimport\u001b[39;00m create_engine\n\u001b[1;32m     27\u001b[0m \u001b[38;5;28;01mimport\u001b[39;00m \u001b[38;5;21;01mdatetime\u001b[39;00m\n",
      "\u001b[0;31mModuleNotFoundError\u001b[0m: No module named 'sqlalchemy'"
     ]
    }
   ],
   "source": [
    "import pandas as pd\n",
    "import re\n",
    "import numpy as np\n",
    "import pickle\n",
    "import matplotlib.pyplot as plt\n",
    "import seaborn as sns\n",
    "import datetime\n",
    "import lib.stats.stats as st\n",
    "import lib.annotation.Result_Prep as rp\n",
    "import config.config as conf\n"
   ]
  },
  {
   "cell_type": "code",
   "execution_count": 4,
   "metadata": {},
   "outputs": [
    {
     "ename": "FileNotFoundError",
     "evalue": "[Errno 2] No such file or directory: '../LLM/result/'",
     "output_type": "error",
     "traceback": [
      "\u001b[0;31m---------------------------------------------------------------------------\u001b[0m",
      "\u001b[0;31mFileNotFoundError\u001b[0m                         Traceback (most recent call last)",
      "Cell \u001b[0;32mIn[4], line 2\u001b[0m\n\u001b[1;32m      1\u001b[0m path \u001b[38;5;241m=\u001b[39m \u001b[38;5;124mf\u001b[39m\u001b[38;5;124m'\u001b[39m\u001b[38;5;124m../LLM/result/\u001b[39m\u001b[38;5;124m'\u001b[39m\n\u001b[0;32m----> 2\u001b[0m file_list \u001b[38;5;241m=\u001b[39m \u001b[43mos\u001b[49m\u001b[38;5;241;43m.\u001b[39;49m\u001b[43mlistdir\u001b[49m\u001b[43m(\u001b[49m\u001b[43mpath\u001b[49m\u001b[43m)\u001b[49m\n",
      "\u001b[0;31mFileNotFoundError\u001b[0m: [Errno 2] No such file or directory: '../LLM/result/'"
     ]
    }
   ],
   "source": [
    "path = f'../LLM/result/'\n",
    "file_list = os.listdir(path)"
   ]
  },
  {
   "cell_type": "code",
   "execution_count": null,
   "metadata": {},
   "outputs": [],
   "source": [
    "r_p = rp.Result_Prep()"
   ]
  },
  {
   "cell_type": "code",
   "execution_count": null,
   "metadata": {},
   "outputs": [],
   "source": [
    "ver_list = sorted([y for y in [x for x in file_list if x.isdigit()] if (int(y)>=50000)&(int(y)<11110000)])"
   ]
  },
  {
   "cell_type": "code",
   "execution_count": null,
   "metadata": {},
   "outputs": [],
   "source": [
    "print(ver_list)"
   ]
  },
  {
   "cell_type": "code",
   "execution_count": null,
   "metadata": {},
   "outputs": [],
   "source": [
    "tot_df = pd.DataFrame()\n",
    "tot_calc = pd.DataFrame()\n",
    "for listid in ver_list:\n",
    "    df = r_p.make_one_file(listid)\n",
    "    if isinstance(df, pd.core.frame.DataFrame):\n",
    "        df = r_p.pp_df(df, 5)\n",
    "        tot_df = pd.concat([tot_df, df], axis = 0)\n",
    "\n",
    "tot_calc = r_p.calc_rate_byweek(tot_df)\n",
    "\n",
    "    "
   ]
  },
  {
   "cell_type": "code",
   "execution_count": null,
   "metadata": {},
   "outputs": [],
   "source": [
    "tot_calc[tot_calc['rel_week'] ==-52.0]"
   ]
  },
  {
   "cell_type": "code",
   "execution_count": null,
   "metadata": {},
   "outputs": [],
   "source": [
    "tot_calc.head()"
   ]
  },
  {
   "cell_type": "code",
   "execution_count": null,
   "metadata": {},
   "outputs": [],
   "source": [
    "tot_calc.info()"
   ]
  },
  {
   "cell_type": "code",
   "execution_count": null,
   "metadata": {},
   "outputs": [],
   "source": [
    "m_chk_cnt_0 = tot_calc[tot_calc['o_result'] =='0']\n",
    "m_chk_cnt_1 = tot_calc[tot_calc['o_result'] =='1']\n",
    "m_chk_cnt_2 = tot_calc[tot_calc['o_result'] =='2']"
   ]
  },
  {
   "cell_type": "code",
   "execution_count": null,
   "metadata": {},
   "outputs": [],
   "source": [
    "m_chk_cnt_0.info()"
   ]
  },
  {
   "cell_type": "code",
   "execution_count": null,
   "metadata": {},
   "outputs": [],
   "source": [
    "m_chk_cnt_0.loc[m_chk_cnt_0['o_result'].isna(), 'rate'] = 0\n",
    "m_chk_cnt_1.loc[m_chk_cnt_1['o_result'].isna(), 'rate'] = 0\n",
    "m_chk_cnt_2.loc[m_chk_cnt_2['o_result'].isna(), 'rate'] = 0"
   ]
  },
  {
   "cell_type": "code",
   "execution_count": null,
   "metadata": {},
   "outputs": [],
   "source": [
    "m_chk_cnt_0.loc[:, 'o_result'] = '0'\n",
    "m_chk_cnt_1.loc[:, 'o_result'] = '1'\n",
    "m_chk_cnt_2.loc[:, 'o_result'] = '2'"
   ]
  },
  {
   "cell_type": "code",
   "execution_count": null,
   "metadata": {},
   "outputs": [],
   "source": [
    "m_chk_cnt_0.head()\n",
    "# m_chk_cnt_2[m_chk_cnt_2['rel_days'].isna()]"
   ]
  },
  {
   "cell_type": "code",
   "execution_count": null,
   "metadata": {},
   "outputs": [],
   "source": [
    "# major_xticks = df_date['creationdate'].apply(lambda x : str(pd.Timestamp(x) + pd.offsets.MonthBegin(0)).split(' ')[0]).drop_duplicates().to_list()"
   ]
  },
  {
   "cell_type": "code",
   "execution_count": null,
   "metadata": {},
   "outputs": [],
   "source": [
    "st_0 = st.Stats(m_chk_cnt_0['rel_week'].values, m_chk_cnt_0['rate'].values, 2, 0.95)\n",
    "st_1 = st.Stats(m_chk_cnt_1['rel_week'].values, m_chk_cnt_1['rate'].values, 2, 0.95)\n",
    "st_2 = st.Stats(m_chk_cnt_2['rel_week'].values, m_chk_cnt_2['rate'].values, 2, 0.95)"
   ]
  },
  {
   "cell_type": "code",
   "execution_count": null,
   "metadata": {},
   "outputs": [],
   "source": [
    "F_stat_0, p_value_0 = st_0.chow_test()\n",
    "F_stat_1, p_value_1 = st_1.chow_test()\n",
    "F_stat_2, p_value_2 = st_2.chow_test()"
   ]
  },
  {
   "cell_type": "code",
   "execution_count": null,
   "metadata": {},
   "outputs": [],
   "source": [
    "m_chk_cnt_0[m_chk_cnt_0['rel_week'] ==-51]"
   ]
  },
  {
   "cell_type": "code",
   "execution_count": null,
   "metadata": {},
   "outputs": [],
   "source": [
    "x_0 = m_chk_cnt_0['rel_week'].values\n",
    "y_0 = m_chk_cnt_0['rate'].values\n",
    "\n",
    "split_idx = np.argmax(np.where(x_0 < 0))+1\n",
    "x_0_1= x_0[:split_idx]\n",
    "x_0_2= x_0[split_idx:]\n",
    "# 시각화\n",
    "\n",
    "plt.figure(figsize=(10, 6))\n",
    "plt.scatter(x_0, y_0,  alpha=0.6, color='darkgray')\n",
    "plt.plot(x_0, st_0.y_predict, label=\"Full Model\", linestyle=\"--\", color=\"black\")  \n",
    "\n",
    "\n",
    "plt.plot(x_0_1, st_0.y1_predict, label=\"before chatGPT\", linewidth='2')\n",
    "plt.fill_between(x_0_1, st_0.y1_predict - st_0.y1_conf_interval, st_0.y1_predict + st_0.y1_conf_interval, alpha=0.1)\n",
    "\n",
    "plt.plot(x_0_2, st_0.y2_predict, label=\"after chatGPT\", linewidth='2')\n",
    "plt.fill_between(x_0_2, st_0.y2_predict - st_0.y2_conf_interval, st_0.y2_predict + st_0.y2_conf_interval, alpha=0.1)\n",
    "\n",
    "\n",
    "plt.legend()\n",
    "plt.title(f\"Chow Test : F-Statistic={F_stat_0:.2f}, p-value={p_value_0:.4f}\")\n",
    "plt.xlabel(\"Rel days\")\n",
    "plt.ylabel(\"pct of Basic Level Question\")\n",
    "plt.show()\n"
   ]
  },
  {
   "cell_type": "code",
   "execution_count": null,
   "metadata": {},
   "outputs": [],
   "source": [
    "x_1 = m_chk_cnt_1['rel_week'].values\n",
    "y_1 = m_chk_cnt_1['rate'].values\n",
    "\n",
    "split_idx = np.argmax(np.where(x_1 < 0))+1\n",
    "x_1_1 = x_1[:split_idx]\n",
    "x_1_2 = x_1[split_idx:]\n",
    "# 시각화\n",
    "plt.figure(figsize=(10, 6))\n",
    "plt.scatter(x_1, y_1,  alpha=0.6, color='darkgray')\n",
    "plt.plot(x_1, st_1.y_predict, label=\"Full Model\", linestyle=\"--\", color=\"black\")  \n",
    "\n",
    "\n",
    "plt.plot(x_1_1, st_1.y1_predict, label=\"before chatGPT\", linewidth='2')\n",
    "plt.fill_between(x_1_1, st_1.y1_predict - st_1.y1_conf_interval, st_1.y1_predict + st_1.y1_conf_interval, alpha=0.1)\n",
    "\n",
    "plt.plot(x_1_2, st_1.y2_predict, label=\"after chatGPT\", linewidth='2')\n",
    "plt.fill_between(x_1_2, st_1.y2_predict - st_1.y2_conf_interval, st_1.y2_predict + st_1.y2_conf_interval, alpha=0.1)\n",
    "\n",
    "\n",
    "plt.legend()\n",
    "plt.title(f\"Chow Test : F-Statistic={F_stat_1:.2f}, p-value={p_value_1:.4f}\")\n",
    "plt.xlabel(\"Rel days\")\n",
    "plt.ylabel(\"pct of Intermediate Level Question\")\n",
    "plt.show()\n"
   ]
  },
  {
   "cell_type": "code",
   "execution_count": null,
   "metadata": {},
   "outputs": [],
   "source": [
    "x_2 = m_chk_cnt_2['rel_week'].values\n",
    "y_2 = m_chk_cnt_2['rate'].values\n",
    "\n",
    "split_idx = np.argmax(np.where(x_2 < 0))+1\n",
    "x_2_1 = x_2[:split_idx]\n",
    "x_2_2 = x_2[split_idx:]\n",
    "# 시각화\n",
    "plt.figure(figsize=(10, 6))\n",
    "plt.scatter(x_2, y_2,  alpha=0.6, color='darkgray')\n",
    "plt.plot(x_2, st_2.y_predict, label=\"Full Model\", linestyle=\"--\", color=\"black\")  \n",
    "\n",
    "\n",
    "plt.plot(x_2_1, st_2.y1_predict, label=\"before chatGPT\", linewidth='2')\n",
    "plt.fill_between(x_2_1, st_2.y1_predict - st_2.y1_conf_interval, st_2.y1_predict + st_2.y1_conf_interval, alpha=0.1)\n",
    "\n",
    "plt.plot(x_2_2, st_2.y2_predict, label=\"after chatGPT\", linewidth='2')\n",
    "plt.fill_between(x_2_2, st_2.y2_predict - st_2.y2_conf_interval, st_2.y2_predict + st_2.y2_conf_interval, alpha=0.1)\n",
    "\n",
    "\n",
    "plt.legend()\n",
    "plt.title(f\"Chow Test : F-Statistic={F_stat_2:.2f}, p-value={p_value_2:.4f}\")\n",
    "plt.xlabel(\"Rel days\")\n",
    "plt.ylabel(\"pct of Advanced Level Question\")\n",
    "plt.show()\n"
   ]
  },
  {
   "cell_type": "code",
   "execution_count": null,
   "metadata": {},
   "outputs": [],
   "source": [
    "### create a figure with multiple subplots\n",
    "sharey = True ## 또는 sharey=False\n",
    "sharex = True ## 또는 sharex=False\n",
    "\n",
    "fig, axs = plt.subplots(1, 3, figsize = (18, 6), sharey=sharey, sharex=sharex)\n",
    "\n",
    "\n",
    "axs[0].scatter(x_0, y_0,  alpha=0.6, color='darkgray')\n",
    "axs[0].plot(x_0, st_0.y_predict, label=\"Full Model\", linestyle=\"--\", color=\"black\")  \n",
    "axs[0].plot(x_0_1, st_0.y1_predict, label=\"before chatGPT\", linewidth='2')\n",
    "axs[0].fill_between(x_0_1, st_0.y1_predict - st_0.y1_conf_interval, st_0.y1_predict + st_0.y1_conf_interval, alpha=0.1)\n",
    "axs[0].plot(x_0_2, st_0.y2_predict, label=\"after chatGPT\", linewidth='2')\n",
    "axs[0].fill_between(x_0_2, st_0.y2_predict - st_0.y2_conf_interval, st_0.y2_predict + st_0.y2_conf_interval, alpha=0.1)\n",
    "axs[0].axvline(x=0,     color='red',    linestyle='-.', linewidth=1)\n",
    "axs[0].set_title(f\"A. Basic Level\")\n",
    "axs[0].set_xlabel(\"Week Relative to ChatGPT Release\")\n",
    "axs[0].set_ylabel(\"Proportion (%)\")\n",
    "axs[0].text(25, 70,s=f'F-Statistic : {F_stat_0:.2f}\\np-value : {p_value_0:.4f}', fontsize = 10) \n",
    "axs[0].grid(True, linestyle='--', alpha=0.3)\n",
    "\n",
    "\n",
    "axs[1].scatter(x_1, y_1,  alpha=0.6, color='darkgray')\n",
    "axs[1].plot(x_1, st_1.y_predict, label=\"Full Model\", linestyle=\"--\", color=\"black\")  \n",
    "axs[1].plot(x_1_1, st_1.y1_predict, label=\"before chatGPT\", linewidth='2')\n",
    "axs[1].fill_between(x_1_1, st_1.y1_predict - st_1.y1_conf_interval, st_1.y1_predict + st_1.y1_conf_interval, alpha=0.1)\n",
    "axs[1].plot(x_1_2, st_1.y2_predict, label=\"after chatGPT\", linewidth='2')\n",
    "axs[1].fill_between(x_1_2, st_1.y2_predict - st_1.y2_conf_interval, st_1.y2_predict + st_1.y2_conf_interval, alpha=0.1)\n",
    "axs[1].axvline(x=0,     color='red',    linestyle='-.', linewidth=1)\n",
    "axs[1].set_title(f\"B. Intermediate Level\")\n",
    "axs[1].set_xlabel(\"Week Relative to ChatGPT Release\")\n",
    "axs[1].set_ylabel(\"Proportion (%)\")\n",
    "axs[1].grid(False)\n",
    "axs[1].text(25, 70, s=f'F-Statistic : {F_stat_1:.2f}\\np-value : {p_value_1:.4f}', fontsize = 10) \n",
    "axs[1].grid(True, linestyle='--', alpha=0.3)\n",
    "\n",
    "\n",
    "axs[2].scatter(x_2, y_2,  alpha=0.6, color='darkgray')\n",
    "axs[2].plot(x_2, st_2.y_predict, label=\"Full Model\", linestyle=\"--\", color=\"black\")  \n",
    "axs[2].plot(x_2_1, st_2.y1_predict, label=\"before chatGPT\", linewidth='2')\n",
    "axs[2].fill_between(x_2_1, st_2.y1_predict - st_2.y1_conf_interval, st_2.y1_predict + st_2.y1_conf_interval, alpha=0.1)\n",
    "axs[2].plot(x_2_2, st_2.y2_predict, label=\"after chatGPT\", linewidth='2')\n",
    "axs[2].fill_between(x_2_2, st_2.y2_predict - st_2.y2_conf_interval, st_2.y2_predict + st_2.y2_conf_interval, alpha=0.1)\n",
    "axs[2].axvline(x=0,     color='red',    linestyle='-.', linewidth=1)\n",
    "axs[2].set_title(f\"C. Advance Level\")\n",
    "axs[2].set_xlabel(\"Week Relative to ChatGPT Release\")\n",
    "axs[2].set_ylabel(\"Proportion (%)\")\n",
    "axs[2].text(25, 70, s=f'F-Statistic : {F_stat_2:.2f}\\np-value : {p_value_2:.4f}', fontsize = 10) \n",
    "axs[2].grid(True, linestyle='--', alpha=0.3)\n",
    "\n",
    "plt.legend(bbox_to_anchor=(1.05, 1), loc='upper left')\n",
    "fig.savefig(\"./fig/Result_Fig2.png\", dpi=300, bbox_inches='tight')  # DPI 설정 및 여백 최소화\n",
    "fig.tight_layout()\n",
    "plt.show();"
   ]
  },
  {
   "cell_type": "code",
   "execution_count": null,
   "metadata": {},
   "outputs": [],
   "source": []
  },
  {
   "cell_type": "code",
   "execution_count": null,
   "metadata": {},
   "outputs": [],
   "source": []
  }
 ],
 "metadata": {
  "kernelspec": {
   "display_name": "Python 3",
   "language": "python",
   "name": "python3"
  },
  "language_info": {
   "codemirror_mode": {
    "name": "ipython",
    "version": 3
   },
   "file_extension": ".py",
   "mimetype": "text/x-python",
   "name": "python",
   "nbconvert_exporter": "python",
   "pygments_lexer": "ipython3",
   "version": "3.9.6"
  }
 },
 "nbformat": 4,
 "nbformat_minor": 2
}
