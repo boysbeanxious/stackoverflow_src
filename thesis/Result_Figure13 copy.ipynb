{
 "cells": [
  {
   "cell_type": "code",
   "execution_count": 1,
   "metadata": {},
   "outputs": [],
   "source": [
    "# create table tt_q_tag_cnt as \n",
    "# select x.id\n",
    "# \t, to_char(x.creationdate, 'yyyy-mm-dd') as c_date\n",
    "# \t, (regexp_matches(x.tags, '<(ruby|scala|rust|go|bash|shell|objective-c|python|r|typescript|swift|c#|sql|assembly|kotlin|c\\+\\+|javascript|vba|c|html|css|java|perl|haskell|julia|php|dart|clojure|f#|elixir|erlang|lisp|groovy|crystal-lang|powershell|cobol|delphi|matlab)>', 'g'))[1] AS matched_tags\n",
    "# \t, x.tag\n",
    "#   from (\n",
    "# \tselect id, creationdate, tags, replace(replace(unnest(string_to_array(tags, '><')), '<', ''), '>', '') tag \n",
    "#   from posts\n",
    "# where posttypeid ='1'\n",
    "#   and (tags like '%<ruby>%' or tags like '%<scala>%' or tags like '%<rust>%' or tags like '%<go>%' or tags like '%<bash>%' or tags like '%<shell>%' or tags like '%<objective-c>%' or tags like '%<python>%' or tags like '%<r>%' or tags like '%<typescript>%' or tags like '%<swift>%' or tags like '%<c#>%' or tags like '%<sql>%' or tags like '%<assembly>%' or tags like '%<kotlin>%' or tags like '%<c++>%' or tags like '%<javascript>%' or tags like '%<vba>%' or tags like '%<c>%' or tags like '%<html>%' or tags like '%<css>%' or tags like '%<java>%' or tags like '%<perl>%' or tags like '%<haskell>%' or tags like '%<julia>%' or tags like '%<php>%' or tags like '%<dart>%' or tags like '%<clojure>%' or tags like '%<f#>%' or tags like '%<elixir>%' or tags like '%<erlang>%' or tags like '%<lisp>%' or tags like '%<groovy>%' or tags like '%<crystal-lang>%' or tags like '%<powershell>%' or tags like '%<cobol>%' or tags like '%<delphi>%' or tags like '%<matlab>%')\n",
    "#   and creationdate between '2021-11-30' and '2023-12-03' \n",
    "#   ) x \n",
    "# ;"
   ]
  },
  {
   "cell_type": "code",
   "execution_count": 1,
   "metadata": {},
   "outputs": [],
   "source": [
    "import sys, os\n",
    "p = os.path.abspath('..')\n",
    "pp = os.path.abspath('../..')\n",
    "ppp = os.path.abspath('../../visualization')\n",
    "\n",
    "sys.path.insert(1, p)\n",
    "sys.path.insert(1, pp)\n",
    "sys.path.insert(1, ppp)\n",
    "\n"
   ]
  },
  {
   "cell_type": "code",
   "execution_count": 2,
   "metadata": {},
   "outputs": [],
   "source": [
    "import json\n",
    "import pandas as pd\n",
    "import numpy as np\n",
    "from utils.salary import *\n",
    "import psycopg2\n",
    "from utils.statistics import *\n",
    "import config.config as conf\n",
    "import datetime\n",
    "import re\n",
    "from statsmodels.nonparametric.smoothers_lowess import lowess\n",
    "import seaborn as sns\n",
    "import matplotlib.pyplot as plt\n",
    "colors = plt.get_cmap('tab20').colors "
   ]
  },
  {
   "cell_type": "markdown",
   "metadata": {},
   "source": [
    "## 데이터전처리"
   ]
  },
  {
   "cell_type": "code",
   "execution_count": 4,
   "metadata": {},
   "outputs": [],
   "source": [
    "output_dir = '../fig/'\n",
    "by = 'rel_week'"
   ]
  },
  {
   "cell_type": "code",
   "execution_count": 32,
   "metadata": {},
   "outputs": [],
   "source": [
    "# test.json 내용: [{\"name\":\"Jack\",\"age\":26},{\"name\":\"Ace\",\"age\":87}]\n",
    "df_lda = pd.read_json('../../visualization/result/lda/run_id_1/data/16.json') ## pd.read_json 이용"
   ]
  },
  {
   "cell_type": "code",
   "execution_count": 49,
   "metadata": {},
   "outputs": [],
   "source": [
    "lda_list = df_lda.loc[df_lda['id'] ==76075008, 'topic_info'].values[0]"
   ]
  },
  {
   "cell_type": "code",
   "execution_count": 52,
   "metadata": {},
   "outputs": [],
   "source": [
    "lda_dict = dict()\n",
    "\n",
    "for idx, value in enumerate(lda_list) :\n",
    "    lda_dict[idx] = value"
   ]
  },
  {
   "cell_type": "code",
   "execution_count": 54,
   "metadata": {},
   "outputs": [],
   "source": [
    "max_key = max(lda_dict, key = lda_dict.get)"
   ]
  },
  {
   "cell_type": "code",
   "execution_count": null,
   "metadata": {},
   "outputs": [
    {
     "data": {
      "text/plain": [
       "27"
      ]
     },
     "execution_count": 55,
     "metadata": {},
     "output_type": "execute_result"
    }
   ],
   "source": [
    "max_key\n",
    "\n",
    "# \"Topic\": 27,\n",
    "#         \"Count\": 8725.572726293483,\n",
    "#         \"Representation\": {\n",
    "#             \"client\": 36837,\n",
    "#             \"connection\": 35366,\n",
    "#             \"server\": 30208,\n",
    "#             \"database\": 28138,\n",
    "#             \"connect\": 27716,\n",
    "#             \"query\": 27310,\n",
    "#             \"error\": 24373,\n",
    "#             \"db\": 24085,\n",
    "#             \"sql\": 23648,\n",
    "#             \"cursor\": 20042"
   ]
  },
  {
   "cell_type": "code",
   "execution_count": 56,
   "metadata": {},
   "outputs": [
    {
     "data": {
      "text/plain": [
       "0.9236385188689281"
      ]
     },
     "execution_count": 56,
     "metadata": {},
     "output_type": "execute_result"
    }
   ],
   "source": [
    "lda_dict[max_key]"
   ]
  },
  {
   "cell_type": "code",
   "execution_count": 29,
   "metadata": {},
   "outputs": [],
   "source": [
    "# test.json 내용: [{\"name\":\"Jack\",\"age\":26},{\"name\":\"Ace\",\"age\":87}]\n",
    "df_bert = pd.read_json('../../visualization/result/bert_based/run_id_0/data/16.json') ## pd.read_json 이용"
   ]
  },
  {
   "cell_type": "code",
   "execution_count": 30,
   "metadata": {},
   "outputs": [
    {
     "data": {
      "text/html": [
       "<div>\n",
       "<style scoped>\n",
       "    .dataframe tbody tr th:only-of-type {\n",
       "        vertical-align: middle;\n",
       "    }\n",
       "\n",
       "    .dataframe tbody tr th {\n",
       "        vertical-align: top;\n",
       "    }\n",
       "\n",
       "    .dataframe thead th {\n",
       "        text-align: right;\n",
       "    }\n",
       "</style>\n",
       "<table border=\"1\" class=\"dataframe\">\n",
       "  <thead>\n",
       "    <tr style=\"text-align: right;\">\n",
       "      <th></th>\n",
       "      <th>id</th>\n",
       "      <th>creationdate</th>\n",
       "      <th>title</th>\n",
       "      <th>tags</th>\n",
       "      <th>body</th>\n",
       "      <th>Document</th>\n",
       "      <th>Topic</th>\n",
       "    </tr>\n",
       "  </thead>\n",
       "  <tbody>\n",
       "    <tr>\n",
       "      <th>9657</th>\n",
       "      <td>76075008</td>\n",
       "      <td>2023-04-21 16:18:34.417000</td>\n",
       "      <td>Connect to Azure SQL from Azure function using...</td>\n",
       "      <td>&lt;python&gt;&lt;azure-functions&gt;&lt;odbc&gt;</td>\n",
       "      <td>&lt;p&gt;I am trying to connect to an azure sql db f...</td>\n",
       "      <td>I am trying to connect to an azure sql db from...</td>\n",
       "      <td>41</td>\n",
       "    </tr>\n",
       "  </tbody>\n",
       "</table>\n",
       "</div>"
      ],
      "text/plain": [
       "            id                creationdate  \\\n",
       "9657  76075008  2023-04-21 16:18:34.417000   \n",
       "\n",
       "                                                  title  \\\n",
       "9657  Connect to Azure SQL from Azure function using...   \n",
       "\n",
       "                                 tags  \\\n",
       "9657  <python><azure-functions><odbc>   \n",
       "\n",
       "                                                   body  \\\n",
       "9657  <p>I am trying to connect to an azure sql db f...   \n",
       "\n",
       "                                               Document  Topic  \n",
       "9657  I am trying to connect to an azure sql db from...     41  "
      ]
     },
     "execution_count": 30,
     "metadata": {},
     "output_type": "execute_result"
    }
   ],
   "source": [
    "df_bert[df_bert['id'] ==76075008]\n",
    "# 41"
   ]
  },
  {
   "cell_type": "code",
   "execution_count": null,
   "metadata": {},
   "outputs": [],
   "source": [
    "        # \"Topic\": 41,        \"Count\": 34257,         \"Name\": \"41_database_connection_sql_server\",         \"Representation\": [            \"database\",            \"connection\",             \"sql\",            \"server\",            \"mysql\",            \"db\",            \"error\",            \"connect\",\n",
    "        #     \"using\",\n",
    "        #     \"transaction\""
   ]
  }
 ],
 "metadata": {
  "kernelspec": {
   "display_name": "Python 3",
   "language": "python",
   "name": "python3"
  },
  "language_info": {
   "codemirror_mode": {
    "name": "ipython",
    "version": 3
   },
   "file_extension": ".py",
   "mimetype": "text/x-python",
   "name": "python",
   "nbconvert_exporter": "python",
   "pygments_lexer": "ipython3",
   "version": "3.9.6"
  }
 },
 "nbformat": 4,
 "nbformat_minor": 2
}
