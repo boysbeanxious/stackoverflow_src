{
 "cells": [
  {
   "cell_type": "code",
   "execution_count": 1,
   "metadata": {},
   "outputs": [
    {
     "ename": "FileNotFoundError",
     "evalue": "[Errno 2] No such file or directory: '../../data/df_postcnt_per_tag_year.pkl'",
     "output_type": "error",
     "traceback": [
      "\u001b[0;31m---------------------------------------------------------------------------\u001b[0m",
      "\u001b[0;31mFileNotFoundError\u001b[0m                         Traceback (most recent call last)",
      "Cell \u001b[0;32mIn[1], line 5\u001b[0m\n\u001b[1;32m      2\u001b[0m \u001b[38;5;28;01mimport\u001b[39;00m \u001b[38;5;21;01mmatplotlib\u001b[39;00m\u001b[38;5;21;01m.\u001b[39;00m\u001b[38;5;21;01mpyplot\u001b[39;00m \u001b[38;5;28;01mas\u001b[39;00m \u001b[38;5;21;01mplt\u001b[39;00m\n\u001b[1;32m      3\u001b[0m \u001b[38;5;28;01mimport\u001b[39;00m \u001b[38;5;21;01mpickle\u001b[39;00m\n\u001b[0;32m----> 5\u001b[0m \u001b[38;5;28;01mwith\u001b[39;00m \u001b[38;5;28;43mopen\u001b[39;49m\u001b[43m(\u001b[49m\u001b[38;5;124;43m'\u001b[39;49m\u001b[38;5;124;43m../../data/df_postcnt_per_tag_year.pkl\u001b[39;49m\u001b[38;5;124;43m'\u001b[39;49m\u001b[43m,\u001b[49m\u001b[43m \u001b[49m\u001b[38;5;124;43m'\u001b[39;49m\u001b[38;5;124;43mrb\u001b[39;49m\u001b[38;5;124;43m'\u001b[39;49m\u001b[43m)\u001b[49m \u001b[38;5;28;01mas\u001b[39;00m f:\n\u001b[1;32m      6\u001b[0m     df_postcnt_per_tag_year \u001b[38;5;241m=\u001b[39m pickle\u001b[38;5;241m.\u001b[39mload(f)\n\u001b[1;32m      8\u001b[0m \u001b[38;5;28;01mwith\u001b[39;00m \u001b[38;5;28mopen\u001b[39m(\u001b[38;5;124m'\u001b[39m\u001b[38;5;124m../../data/df_postcnt_per_tag_year_01.pkl\u001b[39m\u001b[38;5;124m'\u001b[39m, \u001b[38;5;124m'\u001b[39m\u001b[38;5;124mrb\u001b[39m\u001b[38;5;124m'\u001b[39m) \u001b[38;5;28;01mas\u001b[39;00m f:\n",
      "File \u001b[0;32m~/sopjt/git/stackoverflow_src/venv_stackoverflow_src/lib/python3.10/site-packages/IPython/core/interactiveshell.py:324\u001b[0m, in \u001b[0;36m_modified_open\u001b[0;34m(file, *args, **kwargs)\u001b[0m\n\u001b[1;32m    317\u001b[0m \u001b[38;5;28;01mif\u001b[39;00m file \u001b[38;5;129;01min\u001b[39;00m {\u001b[38;5;241m0\u001b[39m, \u001b[38;5;241m1\u001b[39m, \u001b[38;5;241m2\u001b[39m}:\n\u001b[1;32m    318\u001b[0m     \u001b[38;5;28;01mraise\u001b[39;00m \u001b[38;5;167;01mValueError\u001b[39;00m(\n\u001b[1;32m    319\u001b[0m         \u001b[38;5;124mf\u001b[39m\u001b[38;5;124m\"\u001b[39m\u001b[38;5;124mIPython won\u001b[39m\u001b[38;5;124m'\u001b[39m\u001b[38;5;124mt let you open fd=\u001b[39m\u001b[38;5;132;01m{\u001b[39;00mfile\u001b[38;5;132;01m}\u001b[39;00m\u001b[38;5;124m by default \u001b[39m\u001b[38;5;124m\"\u001b[39m\n\u001b[1;32m    320\u001b[0m         \u001b[38;5;124m\"\u001b[39m\u001b[38;5;124mas it is likely to crash IPython. If you know what you are doing, \u001b[39m\u001b[38;5;124m\"\u001b[39m\n\u001b[1;32m    321\u001b[0m         \u001b[38;5;124m\"\u001b[39m\u001b[38;5;124myou can use builtins\u001b[39m\u001b[38;5;124m'\u001b[39m\u001b[38;5;124m open.\u001b[39m\u001b[38;5;124m\"\u001b[39m\n\u001b[1;32m    322\u001b[0m     )\n\u001b[0;32m--> 324\u001b[0m \u001b[38;5;28;01mreturn\u001b[39;00m \u001b[43mio_open\u001b[49m\u001b[43m(\u001b[49m\u001b[43mfile\u001b[49m\u001b[43m,\u001b[49m\u001b[43m \u001b[49m\u001b[38;5;241;43m*\u001b[39;49m\u001b[43margs\u001b[49m\u001b[43m,\u001b[49m\u001b[43m \u001b[49m\u001b[38;5;241;43m*\u001b[39;49m\u001b[38;5;241;43m*\u001b[39;49m\u001b[43mkwargs\u001b[49m\u001b[43m)\u001b[49m\n",
      "\u001b[0;31mFileNotFoundError\u001b[0m: [Errno 2] No such file or directory: '../../data/df_postcnt_per_tag_year.pkl'"
     ]
    }
   ],
   "source": [
    "import pandas as pd\n",
    "import matplotlib.pyplot as plt\n",
    "import pickle\n",
    "\n",
    "with open('../../data/df_postcnt_per_tag_year.pkl', 'rb') as f:\n",
    "    df_postcnt_per_tag_year = pickle.load(f)\n",
    "\n",
    "with open('../../data/df_postcnt_per_tag_year_01.pkl', 'rb') as f:\n",
    "    df_postcnt_per_tag_year_01 = pickle.load(f)"
   ]
  },
  {
   "cell_type": "code",
   "execution_count": null,
   "metadata": {},
   "outputs": [],
   "source": [
    "fig_path = './fig/'"
   ]
  },
  {
   "cell_type": "code",
   "execution_count": null,
   "metadata": {},
   "outputs": [],
   "source": [
    "df_postcnt_per_tag_year_01"
   ]
  },
  {
   "cell_type": "markdown",
   "metadata": {},
   "source": [
    "tag"
   ]
  },
  {
   "cell_type": "code",
   "execution_count": null,
   "metadata": {},
   "outputs": [],
   "source": [
    "# df_postcnt_per_tag_year\n",
    "\n",
    "df_postcnt_per_tag_year_melt = df_postcnt_per_tag_year.melt(id_vars = ['year'], value_vars=df_postcnt_per_tag_year.columns[1:])\n",
    "\n",
    "df_postcnt_per_tag_year_01_melt = df_postcnt_per_tag_year_01.melt(id_vars = ['year'], value_vars=df_postcnt_per_tag_year_01.columns[1:])"
   ]
  },
  {
   "cell_type": "code",
   "execution_count": null,
   "metadata": {},
   "outputs": [],
   "source": [
    "# df_da_q_year.sort_values(by = ['year', 'q_id'], ascending = False).groupby(['year']).head(10)\n",
    "df_postcnt_top10 = df_postcnt_per_tag_year_melt.sort_values(by = ['year', 'value'], ascending=False).groupby(['year']).head(10)\n",
    "\n",
    "\n",
    "df_postcnt_01_top10 = df_postcnt_per_tag_year_01_melt.sort_values(by = ['year', 'value'], ascending=False).groupby(['year']).head(10)"
   ]
  },
  {
   "cell_type": "code",
   "execution_count": null,
   "metadata": {},
   "outputs": [],
   "source": [
    "df_postcnt_top10"
   ]
  },
  {
   "cell_type": "code",
   "execution_count": null,
   "metadata": {},
   "outputs": [],
   "source": [
    "df_postcnt_top10['variable'] = df_postcnt_top10['variable'].str.replace('cplusplus', 'c++')\n",
    "df_postcnt_01_top10['variable'] = df_postcnt_01_top10['variable'].str.replace('cplusplus', 'c++')"
   ]
  },
  {
   "cell_type": "code",
   "execution_count": null,
   "metadata": {},
   "outputs": [],
   "source": [
    "df_postcnt_top10[df_postcnt_top10['variable'] =='c++']\n",
    "df_postcnt_01_top10[df_postcnt_01_top10['variable'] =='c++']"
   ]
  },
  {
   "cell_type": "code",
   "execution_count": null,
   "metadata": {},
   "outputs": [],
   "source": [
    "### create a figure with multiple subplots\n",
    "\n",
    "\n",
    "sharey = True ## 또는 sharey=False\n",
    "sharex = False ## 또는 sharex=False\n",
    "\n",
    "fig, axs = plt.subplots(12, 2, figsize = (10, 40), sharey=sharey, sharex=sharex)\n",
    "\n",
    "for x in range(0, 12):\n",
    "        standard_year = 2012\n",
    "        loop_year = str(standard_year + (x*1))\n",
    "        print(loop_year)\n",
    "    \n",
    "        axs[x][0].bar(df_postcnt_01_top10[df_postcnt_01_top10['year'] ==loop_year].variable\n",
    "                        ,  df_postcnt_01_top10[df_postcnt_01_top10['year'] ==loop_year].value\n",
    "                        ,  color = 'skyblue'\n",
    "                ) # hist type\n",
    "        axs[x][0].set_title(str(loop_year), # add title\n",
    "                pad = 10,\n",
    "                loc = 'center')\n",
    "        axs[x][0].tick_params(axis='x', rotation=45)\n",
    "\n",
    "        axs[x][1].bar( df_postcnt_top10[df_postcnt_top10['year'] ==loop_year].variable\n",
    "                ,  df_postcnt_top10[df_postcnt_top10['year'] ==loop_year].value\n",
    "                ,  color = 'pink'\n",
    "                ) # hist type\n",
    "        axs[x][1].set_title(str(loop_year), # add title\n",
    "                pad = 10,\n",
    "                loc = 'center')\n",
    "        axs[x][1].tick_params(axis='x', rotation=45)\n",
    " \n",
    "# plt.suptitle(\"Top 10 Tags of Questions over 10 years\")      \n",
    "plt.tight_layout()    \n",
    "plt.show();"
   ]
  },
  {
   "cell_type": "code",
   "execution_count": null,
   "metadata": {},
   "outputs": [],
   "source": [
    "# 왼쪽이 tag를 1로 계산한 경우, 오른쪽이 질문별로 태그의 비중을 계산하여 1/n으로 계산한 경우 시각화 \n",
    "\n",
    "# * 왼쪽 그래프와 오른쪽 그래프 사이의 갭이 클수록 곁다리 태그이다.(하나의 질문에 여러개의 태그가 들어가서 가중치가 작아지는 경우)\n",
    "#     * 프론트에서는 자바스크립트가 아직도 절대적이기 때문에, 모든 프론트앤드 관련 질문에 javascript에 껴있을 수 있음 \n",
    "\n",
    "# * ios, android의 경우 순위가 높아진 경우인데, 오히려 범용적이지 않기 때문에 순위가 높아졌다고 해석할 수 있음\n",
    "# (java는 웹 앱 다 쓰인다고 하면 안드로이드는 특정 플랫폼만을 의미하므로)\n",
    "# * c++도의 경우 웹프로그래밍이 불가능한 언어로 범용성이 떨어짐(기업에서 안씀) > 특정 임베디드와같은 목적성이 있는 곳에서 쓰임 \n",
    "\n",
    "# * 2017년 이후 r등장 (왼쪽그래프에는 없으나 오른쪽 그래프에만 존재)\n",
    "\n",
    "# * c#은 왜 많을까?(지운님께 물어보기) pos나 의료기기에서 C#많이씀\n",
    "\n",
    "# * 2021년 부터 등장하는 pandas의 경우 python이랑 같이 나오므로 좌측에는 있으라 우측에는 없음 \n",
    "\n",
    "# * reactjs는 자바스크립트의 하위라이브러리로 같이 묶여서 나올 가능성이 높음\n",
    "\n",
    "\n"
   ]
  },
  {
   "cell_type": "code",
   "execution_count": null,
   "metadata": {},
   "outputs": [],
   "source": [
    "### create a figure with multiple subplots\n",
    "\n",
    "\n",
    "sharey = True ## 또는 sharey=False\n",
    "sharex = False ## 또는 sharex=False\n",
    "\n",
    "fig, axs = plt.subplots(2, 2, figsize = (10, 10), sharey=sharey, sharex=sharex)\n",
    "\n",
    "for i, year in enumerate([2022, 2023]):\n",
    "        standard_year = year\n",
    "        loop_year = str(standard_year)\n",
    "        print(i, loop_year)\n",
    "        title_0_arr = ['A. ', 'C. ']\n",
    "        title_1_arr = ['B. ', 'D. ']\n",
    "        axs[i][0].bar(df_postcnt_01_top10[df_postcnt_01_top10['year'] ==loop_year].variable\n",
    "                        ,  df_postcnt_01_top10[df_postcnt_01_top10['year'] ==loop_year].value\n",
    "                        ,  color = 'skyblue'\n",
    "                ) # hist type\n",
    "        axs[i][0].set_title(title_0_arr[i]+ 'non-weighted tag count, in '+ str(loop_year), # add title\n",
    "                pad = 10,\n",
    "                loc = 'center', fontsize=13)\n",
    "        axs[i][0].tick_params(axis='x', rotation=45)\n",
    "        \n",
    "\n",
    "        axs[i][1].bar( df_postcnt_top10[df_postcnt_top10['year'] ==loop_year].variable\n",
    "                ,  df_postcnt_top10[df_postcnt_top10['year'] ==loop_year].value\n",
    "                ,  color = 'pink'\n",
    "                ) # hist type\n",
    "        axs[i][1].set_title(title_1_arr[i] + 'weighted tag count, in '+ str(loop_year), # add title\n",
    "                pad = 10,\n",
    "                loc = 'center', fontsize=13)\n",
    "        axs[i][1].tick_params(axis='x', rotation=45)\n",
    " \n",
    "# plt.suptitle(\"Top 10 Most Frequently Mentioned Tags\", fontsize=15)    \n",
    "plt.tight_layout()    \n",
    "plt.savefig(f\"{fig_path}Data_1.png\", dpi=300, bbox_inches='tight')\n",
    "plt.show();"
   ]
  },
  {
   "cell_type": "code",
   "execution_count": null,
   "metadata": {},
   "outputs": [],
   "source": []
  }
 ],
 "metadata": {
  "kernelspec": {
   "display_name": "venv_stackoverflow_src",
   "language": "python",
   "name": "python3"
  },
  "language_info": {
   "codemirror_mode": {
    "name": "ipython",
    "version": 3
   },
   "file_extension": ".py",
   "mimetype": "text/x-python",
   "name": "python",
   "nbconvert_exporter": "python",
   "pygments_lexer": "ipython3",
   "version": "3.10.12"
  }
 },
 "nbformat": 4,
 "nbformat_minor": 4
}
