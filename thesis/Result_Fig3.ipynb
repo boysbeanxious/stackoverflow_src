{
 "cells": [
  {
   "cell_type": "markdown",
   "metadata": {},
   "source": [
    "주차별 평균으로 discontinuity 확인"
   ]
  },
  {
   "cell_type": "code",
   "execution_count": 1,
   "metadata": {},
   "outputs": [],
   "source": [
    "import sys, os\n",
    "p = os.path.abspath('..')\n",
    "pp = os.path.abspath('../..')\n",
    "sys.path.insert(1, p)\n",
    "sys.path.insert(1, pp)"
   ]
  },
  {
   "cell_type": "code",
   "execution_count": 2,
   "metadata": {},
   "outputs": [],
   "source": [
    "#customized preprocessing pkg\n",
    "import pandas as pd\n",
    "import numpy as np\n",
    "import pickle\n",
    "import matplotlib.pyplot as plt\n",
    "import datetime\n",
    "import lib.stats.stats as st\n",
    "import config.config as conf"
   ]
  },
  {
   "cell_type": "markdown",
   "metadata": {},
   "source": [
    "### 소스코드 complexity 계산"
   ]
  },
  {
   "cell_type": "code",
   "execution_count": 3,
   "metadata": {},
   "outputs": [],
   "source": [
    "input_year_list = ['2021', '2022', '2023']"
   ]
  },
  {
   "cell_type": "code",
   "execution_count": 4,
   "metadata": {},
   "outputs": [],
   "source": [
    "input_pl = 'python'"
   ]
  },
  {
   "cell_type": "code",
   "execution_count": 5,
   "metadata": {},
   "outputs": [],
   "source": [
    "# 파일 불러오기\n",
    "complexity_python_df = pd.DataFrame()\n",
    "\n",
    "for input_year in input_year_list : \n",
    "    with open(f'{conf.DATA_PATH}/data/complexity_{input_pl}_df_{input_year}.pkl', 'rb') as f:\n",
    "        tmp = pickle.load(f)\n",
    "        complexity_python_df = pd.concat([complexity_python_df, tmp], axis = 0)"
   ]
  },
  {
   "cell_type": "code",
   "execution_count": 6,
   "metadata": {},
   "outputs": [
    {
     "name": "stdout",
     "output_type": "stream",
     "text": [
      "2021-01-01\n",
      "2023-12-03\n"
     ]
    }
   ],
   "source": [
    "print(complexity_python_df['cdate'].min())\n",
    "print(complexity_python_df['cdate'].max())"
   ]
  },
  {
   "cell_type": "code",
   "execution_count": 7,
   "metadata": {},
   "outputs": [],
   "source": [
    "# 전체 데이터셋 \n",
    "with open(f'{conf.DATA_PATH}/data/complexity_src_df.pkl', 'rb') as f:\n",
    "    src_df = pickle.load(f)"
   ]
  },
  {
   "cell_type": "code",
   "execution_count": 8,
   "metadata": {},
   "outputs": [
    {
     "data": {
      "text/html": [
       "<div>\n",
       "<style scoped>\n",
       "    .dataframe tbody tr th:only-of-type {\n",
       "        vertical-align: middle;\n",
       "    }\n",
       "\n",
       "    .dataframe tbody tr th {\n",
       "        vertical-align: top;\n",
       "    }\n",
       "\n",
       "    .dataframe thead th {\n",
       "        text-align: right;\n",
       "    }\n",
       "</style>\n",
       "<table border=\"1\" class=\"dataframe\">\n",
       "  <thead>\n",
       "    <tr style=\"text-align: right;\">\n",
       "      <th></th>\n",
       "      <th>idx</th>\n",
       "      <th>id</th>\n",
       "      <th>src</th>\n",
       "    </tr>\n",
       "  </thead>\n",
       "  <tbody>\n",
       "    <tr>\n",
       "      <th>0</th>\n",
       "      <td>19455</td>\n",
       "      <td>77167050</td>\n",
       "      <td>import ipywidgets as widgets\\n\\nquestion_label...</td>\n",
       "    </tr>\n",
       "    <tr>\n",
       "      <th>1</th>\n",
       "      <td>19456</td>\n",
       "      <td>77167055</td>\n",
       "      <td>`from transformers import AutoTokenizer, AutoM...</td>\n",
       "    </tr>\n",
       "    <tr>\n",
       "      <th>2</th>\n",
       "      <td>19457</td>\n",
       "      <td>77167055</td>\n",
       "      <td>error: TODO: expressions are not yet supported...</td>\n",
       "    </tr>\n",
       "    <tr>\n",
       "      <th>3</th>\n",
       "      <td>19458</td>\n",
       "      <td>77167101</td>\n",
       "      <td>sql1 = \"SELECT state FROM YO WHERE function = ...</td>\n",
       "    </tr>\n",
       "    <tr>\n",
       "      <th>4</th>\n",
       "      <td>19459</td>\n",
       "      <td>77167156</td>\n",
       "      <td>ldata1x\\nldata2x\\nldata3x\\nldata4x\\n</td>\n",
       "    </tr>\n",
       "  </tbody>\n",
       "</table>\n",
       "</div>"
      ],
      "text/plain": [
       "     idx        id                                                src\n",
       "0  19455  77167050  import ipywidgets as widgets\\n\\nquestion_label...\n",
       "1  19456  77167055  `from transformers import AutoTokenizer, AutoM...\n",
       "2  19457  77167055  error: TODO: expressions are not yet supported...\n",
       "3  19458  77167101  sql1 = \"SELECT state FROM YO WHERE function = ...\n",
       "4  19459  77167156               ldata1x\\nldata2x\\nldata3x\\nldata4x\\n"
      ]
     },
     "execution_count": 8,
     "metadata": {},
     "output_type": "execute_result"
    }
   ],
   "source": [
    "src_df.head()"
   ]
  },
  {
   "cell_type": "code",
   "execution_count": 9,
   "metadata": {},
   "outputs": [],
   "source": [
    "# 파일 불러오기\n",
    "calc_com_df = pd.DataFrame()\n",
    "\n",
    "for input_year in input_year_list : \n",
    "    with open(f'{conf.DATA_PATH}/data/calc_com_df_{input_year}_{input_pl}.pkl', 'rb') as f:\n",
    "        tmp = pickle.load(f)\n",
    "        calc_com_df = pd.concat([calc_com_df, tmp], axis = 0)"
   ]
  },
  {
   "cell_type": "code",
   "execution_count": 10,
   "metadata": {},
   "outputs": [],
   "source": [
    "calc_com_df.reset_index(drop=True, inplace=True)"
   ]
  },
  {
   "cell_type": "code",
   "execution_count": 11,
   "metadata": {},
   "outputs": [
    {
     "data": {
      "text/html": [
       "<div>\n",
       "<style scoped>\n",
       "    .dataframe tbody tr th:only-of-type {\n",
       "        vertical-align: middle;\n",
       "    }\n",
       "\n",
       "    .dataframe tbody tr th {\n",
       "        vertical-align: top;\n",
       "    }\n",
       "\n",
       "    .dataframe thead th {\n",
       "        text-align: right;\n",
       "    }\n",
       "</style>\n",
       "<table border=\"1\" class=\"dataframe\">\n",
       "  <thead>\n",
       "    <tr style=\"text-align: right;\">\n",
       "      <th></th>\n",
       "      <th>Path</th>\n",
       "      <th>File Name</th>\n",
       "      <th>Cognitive Complexity</th>\n",
       "    </tr>\n",
       "  </thead>\n",
       "  <tbody>\n",
       "    <tr>\n",
       "      <th>0</th>\n",
       "      <td>353900_65948963.py</td>\n",
       "      <td>353900_65948963.py</td>\n",
       "      <td>3</td>\n",
       "    </tr>\n",
       "    <tr>\n",
       "      <th>1</th>\n",
       "      <td>377254_65638981.py</td>\n",
       "      <td>377254_65638981.py</td>\n",
       "      <td>0</td>\n",
       "    </tr>\n",
       "    <tr>\n",
       "      <th>2</th>\n",
       "      <td>94558_69251293.py</td>\n",
       "      <td>94558_69251293.py</td>\n",
       "      <td>0</td>\n",
       "    </tr>\n",
       "    <tr>\n",
       "      <th>3</th>\n",
       "      <td>223504_67683129.py</td>\n",
       "      <td>223504_67683129.py</td>\n",
       "      <td>0</td>\n",
       "    </tr>\n",
       "    <tr>\n",
       "      <th>4</th>\n",
       "      <td>111551_69022973.py</td>\n",
       "      <td>111551_69022973.py</td>\n",
       "      <td>0</td>\n",
       "    </tr>\n",
       "  </tbody>\n",
       "</table>\n",
       "</div>"
      ],
      "text/plain": [
       "                 Path           File Name Cognitive Complexity\n",
       "0  353900_65948963.py  353900_65948963.py                    3\n",
       "1  377254_65638981.py  377254_65638981.py                    0\n",
       "2   94558_69251293.py   94558_69251293.py                    0\n",
       "3  223504_67683129.py  223504_67683129.py                    0\n",
       "4  111551_69022973.py  111551_69022973.py                    0"
      ]
     },
     "execution_count": 11,
     "metadata": {},
     "output_type": "execute_result"
    }
   ],
   "source": [
    "calc_com_df.head()"
   ]
  },
  {
   "cell_type": "code",
   "execution_count": 12,
   "metadata": {},
   "outputs": [
    {
     "name": "stdout",
     "output_type": "stream",
     "text": [
      "<class 'pandas.core.frame.DataFrame'>\n",
      "RangeIndex: 482331 entries, 0 to 482330\n",
      "Data columns (total 3 columns):\n",
      " #   Column                Non-Null Count   Dtype \n",
      "---  ------                --------------   ----- \n",
      " 0   Path                  482331 non-null  object\n",
      " 1   File Name             482331 non-null  object\n",
      " 2   Cognitive Complexity  482331 non-null  object\n",
      "dtypes: object(3)\n",
      "memory usage: 11.0+ MB\n"
     ]
    }
   ],
   "source": [
    "calc_com_df.info()"
   ]
  },
  {
   "cell_type": "code",
   "execution_count": 13,
   "metadata": {},
   "outputs": [],
   "source": [
    "calc_com_df['idx'] = calc_com_df['Path'].apply(lambda x : x.split('_')[0])\n",
    "# calc_com_df['Path'].apply(lambda x : [  for i in x.split('_')])"
   ]
  },
  {
   "cell_type": "code",
   "execution_count": 14,
   "metadata": {},
   "outputs": [],
   "source": [
    "calc_com_df['id'] = calc_com_df['Path'].apply(lambda x : x.split('_')[1].split('.')[0])"
   ]
  },
  {
   "cell_type": "code",
   "execution_count": 15,
   "metadata": {},
   "outputs": [
    {
     "data": {
      "text/html": [
       "<div>\n",
       "<style scoped>\n",
       "    .dataframe tbody tr th:only-of-type {\n",
       "        vertical-align: middle;\n",
       "    }\n",
       "\n",
       "    .dataframe tbody tr th {\n",
       "        vertical-align: top;\n",
       "    }\n",
       "\n",
       "    .dataframe thead th {\n",
       "        text-align: right;\n",
       "    }\n",
       "</style>\n",
       "<table border=\"1\" class=\"dataframe\">\n",
       "  <thead>\n",
       "    <tr style=\"text-align: right;\">\n",
       "      <th></th>\n",
       "      <th>Path</th>\n",
       "      <th>File Name</th>\n",
       "      <th>Cognitive Complexity</th>\n",
       "      <th>idx</th>\n",
       "      <th>id</th>\n",
       "    </tr>\n",
       "  </thead>\n",
       "  <tbody>\n",
       "    <tr>\n",
       "      <th>164589</th>\n",
       "      <td>0_70702244.py</td>\n",
       "      <td>0_70702244.py</td>\n",
       "      <td>0</td>\n",
       "      <td>0</td>\n",
       "      <td>70702244</td>\n",
       "    </tr>\n",
       "    <tr>\n",
       "      <th>363420</th>\n",
       "      <td>0_74935859.py</td>\n",
       "      <td>0_74935859.py</td>\n",
       "      <td>1</td>\n",
       "      <td>0</td>\n",
       "      <td>74935859</td>\n",
       "    </tr>\n",
       "    <tr>\n",
       "      <th>67043</th>\n",
       "      <td>1_70397890.py</td>\n",
       "      <td>1_70397890.py</td>\n",
       "      <td>0</td>\n",
       "      <td>1</td>\n",
       "      <td>70397890</td>\n",
       "    </tr>\n",
       "    <tr>\n",
       "      <th>230047</th>\n",
       "      <td>1_74574281.py</td>\n",
       "      <td>1_74574281.py</td>\n",
       "      <td>6</td>\n",
       "      <td>1</td>\n",
       "      <td>74574281</td>\n",
       "    </tr>\n",
       "    <tr>\n",
       "      <th>427921</th>\n",
       "      <td>1_77569752.py</td>\n",
       "      <td>1_77569752.py</td>\n",
       "      <td>0</td>\n",
       "      <td>1</td>\n",
       "      <td>77569752</td>\n",
       "    </tr>\n",
       "    <tr>\n",
       "      <th>...</th>\n",
       "      <td>...</td>\n",
       "      <td>...</td>\n",
       "      <td>...</td>\n",
       "      <td>...</td>\n",
       "      <td>...</td>\n",
       "    </tr>\n",
       "    <tr>\n",
       "      <th>274042</th>\n",
       "      <td>99997_73587690.py</td>\n",
       "      <td>99997_73587690.py</td>\n",
       "      <td>6</td>\n",
       "      <td>99997</td>\n",
       "      <td>73587690</td>\n",
       "    </tr>\n",
       "    <tr>\n",
       "      <th>407696</th>\n",
       "      <td>99997_76005895.py</td>\n",
       "      <td>99997_76005895.py</td>\n",
       "      <td>0</td>\n",
       "      <td>99997</td>\n",
       "      <td>76005895</td>\n",
       "    </tr>\n",
       "    <tr>\n",
       "      <th>155471</th>\n",
       "      <td>99999_69208993.py</td>\n",
       "      <td>99999_69208993.py</td>\n",
       "      <td>0</td>\n",
       "      <td>99999</td>\n",
       "      <td>69208993</td>\n",
       "    </tr>\n",
       "    <tr>\n",
       "      <th>335421</th>\n",
       "      <td>99999_73587727.py</td>\n",
       "      <td>99999_73587727.py</td>\n",
       "      <td>1</td>\n",
       "      <td>99999</td>\n",
       "      <td>73587727</td>\n",
       "    </tr>\n",
       "    <tr>\n",
       "      <th>403215</th>\n",
       "      <td>99999_76005895.py</td>\n",
       "      <td>99999_76005895.py</td>\n",
       "      <td>1</td>\n",
       "      <td>99999</td>\n",
       "      <td>76005895</td>\n",
       "    </tr>\n",
       "  </tbody>\n",
       "</table>\n",
       "<p>482331 rows × 5 columns</p>\n",
       "</div>"
      ],
      "text/plain": [
       "                     Path          File Name Cognitive Complexity    idx  \\\n",
       "164589      0_70702244.py      0_70702244.py                    0      0   \n",
       "363420      0_74935859.py      0_74935859.py                    1      0   \n",
       "67043       1_70397890.py      1_70397890.py                    0      1   \n",
       "230047      1_74574281.py      1_74574281.py                    6      1   \n",
       "427921      1_77569752.py      1_77569752.py                    0      1   \n",
       "...                   ...                ...                  ...    ...   \n",
       "274042  99997_73587690.py  99997_73587690.py                    6  99997   \n",
       "407696  99997_76005895.py  99997_76005895.py                    0  99997   \n",
       "155471  99999_69208993.py  99999_69208993.py                    0  99999   \n",
       "335421  99999_73587727.py  99999_73587727.py                    1  99999   \n",
       "403215  99999_76005895.py  99999_76005895.py                    1  99999   \n",
       "\n",
       "              id  \n",
       "164589  70702244  \n",
       "363420  74935859  \n",
       "67043   70397890  \n",
       "230047  74574281  \n",
       "427921  77569752  \n",
       "...          ...  \n",
       "274042  73587690  \n",
       "407696  76005895  \n",
       "155471  69208993  \n",
       "335421  73587727  \n",
       "403215  76005895  \n",
       "\n",
       "[482331 rows x 5 columns]"
      ]
     },
     "execution_count": 15,
     "metadata": {},
     "output_type": "execute_result"
    }
   ],
   "source": [
    "calc_com_df.sort_values(by = ['idx', 'id'])"
   ]
  },
  {
   "cell_type": "code",
   "execution_count": 16,
   "metadata": {},
   "outputs": [],
   "source": [
    "calc_com_df[['idx', 'id', 'Cognitive Complexity']] = calc_com_df[['idx', 'id', 'Cognitive Complexity']].astype('int')"
   ]
  },
  {
   "cell_type": "code",
   "execution_count": 17,
   "metadata": {},
   "outputs": [],
   "source": [
    "src_df[['idx', 'id']] = src_df[['idx', 'id']].astype('int')"
   ]
  },
  {
   "cell_type": "code",
   "execution_count": 18,
   "metadata": {},
   "outputs": [],
   "source": [
    "chk_info = calc_com_df.copy()"
   ]
  },
  {
   "cell_type": "code",
   "execution_count": 19,
   "metadata": {},
   "outputs": [
    {
     "data": {
      "text/plain": [
       "65526401"
      ]
     },
     "execution_count": 19,
     "metadata": {},
     "output_type": "execute_result"
    }
   ],
   "source": [
    "src_df['id'].min()"
   ]
  },
  {
   "cell_type": "code",
   "execution_count": 20,
   "metadata": {},
   "outputs": [],
   "source": [
    "calc_com_df = pd.merge(src_df,  calc_com_df, how = 'left', on = ['idx', 'id'])"
   ]
  },
  {
   "cell_type": "code",
   "execution_count": 21,
   "metadata": {},
   "outputs": [
    {
     "data": {
      "text/html": [
       "<div>\n",
       "<style scoped>\n",
       "    .dataframe tbody tr th:only-of-type {\n",
       "        vertical-align: middle;\n",
       "    }\n",
       "\n",
       "    .dataframe tbody tr th {\n",
       "        vertical-align: top;\n",
       "    }\n",
       "\n",
       "    .dataframe thead th {\n",
       "        text-align: right;\n",
       "    }\n",
       "</style>\n",
       "<table border=\"1\" class=\"dataframe\">\n",
       "  <thead>\n",
       "    <tr style=\"text-align: right;\">\n",
       "      <th></th>\n",
       "      <th>idx</th>\n",
       "      <th>id</th>\n",
       "      <th>src</th>\n",
       "      <th>Path</th>\n",
       "      <th>File Name</th>\n",
       "      <th>Cognitive Complexity</th>\n",
       "    </tr>\n",
       "  </thead>\n",
       "  <tbody>\n",
       "    <tr>\n",
       "      <th>0</th>\n",
       "      <td>19455</td>\n",
       "      <td>77167050</td>\n",
       "      <td>import ipywidgets as widgets\\n\\nquestion_label...</td>\n",
       "      <td>19455_77167050.py</td>\n",
       "      <td>19455_77167050.py</td>\n",
       "      <td>1.0</td>\n",
       "    </tr>\n",
       "    <tr>\n",
       "      <th>1</th>\n",
       "      <td>19456</td>\n",
       "      <td>77167055</td>\n",
       "      <td>`from transformers import AutoTokenizer, AutoM...</td>\n",
       "      <td>NaN</td>\n",
       "      <td>NaN</td>\n",
       "      <td>NaN</td>\n",
       "    </tr>\n",
       "    <tr>\n",
       "      <th>2</th>\n",
       "      <td>19457</td>\n",
       "      <td>77167055</td>\n",
       "      <td>error: TODO: expressions are not yet supported...</td>\n",
       "      <td>NaN</td>\n",
       "      <td>NaN</td>\n",
       "      <td>NaN</td>\n",
       "    </tr>\n",
       "    <tr>\n",
       "      <th>3</th>\n",
       "      <td>19458</td>\n",
       "      <td>77167101</td>\n",
       "      <td>sql1 = \"SELECT state FROM YO WHERE function = ...</td>\n",
       "      <td>19458_77167101.py</td>\n",
       "      <td>19458_77167101.py</td>\n",
       "      <td>2.0</td>\n",
       "    </tr>\n",
       "    <tr>\n",
       "      <th>4</th>\n",
       "      <td>19459</td>\n",
       "      <td>77167156</td>\n",
       "      <td>ldata1x\\nldata2x\\nldata3x\\nldata4x\\n</td>\n",
       "      <td>19459_77167156.py</td>\n",
       "      <td>19459_77167156.py</td>\n",
       "      <td>0.0</td>\n",
       "    </tr>\n",
       "  </tbody>\n",
       "</table>\n",
       "</div>"
      ],
      "text/plain": [
       "     idx        id                                                src  \\\n",
       "0  19455  77167050  import ipywidgets as widgets\\n\\nquestion_label...   \n",
       "1  19456  77167055  `from transformers import AutoTokenizer, AutoM...   \n",
       "2  19457  77167055  error: TODO: expressions are not yet supported...   \n",
       "3  19458  77167101  sql1 = \"SELECT state FROM YO WHERE function = ...   \n",
       "4  19459  77167156               ldata1x\\nldata2x\\nldata3x\\nldata4x\\n   \n",
       "\n",
       "                Path          File Name  Cognitive Complexity  \n",
       "0  19455_77167050.py  19455_77167050.py                   1.0  \n",
       "1                NaN                NaN                   NaN  \n",
       "2                NaN                NaN                   NaN  \n",
       "3  19458_77167101.py  19458_77167101.py                   2.0  \n",
       "4  19459_77167156.py  19459_77167156.py                   0.0  "
      ]
     },
     "execution_count": 21,
     "metadata": {},
     "output_type": "execute_result"
    }
   ],
   "source": [
    "calc_com_df.head()"
   ]
  },
  {
   "cell_type": "code",
   "execution_count": 22,
   "metadata": {},
   "outputs": [
    {
     "data": {
      "text/html": [
       "<div>\n",
       "<style scoped>\n",
       "    .dataframe tbody tr th:only-of-type {\n",
       "        vertical-align: middle;\n",
       "    }\n",
       "\n",
       "    .dataframe tbody tr th {\n",
       "        vertical-align: top;\n",
       "    }\n",
       "\n",
       "    .dataframe thead th {\n",
       "        text-align: right;\n",
       "    }\n",
       "</style>\n",
       "<table border=\"1\" class=\"dataframe\">\n",
       "  <thead>\n",
       "    <tr style=\"text-align: right;\">\n",
       "      <th></th>\n",
       "      <th>id</th>\n",
       "      <th>cdate</th>\n",
       "      <th>title</th>\n",
       "      <th>body</th>\n",
       "    </tr>\n",
       "  </thead>\n",
       "  <tbody>\n",
       "    <tr>\n",
       "      <th>0</th>\n",
       "      <td>70551464</td>\n",
       "      <td>2021-12-19</td>\n",
       "      <td>Python Resize and Move Active Window X11</td>\n",
       "      <td>&lt;p&gt;I am trying to write (in python) my own &amp;qu...</td>\n",
       "    </tr>\n",
       "    <tr>\n",
       "      <th>1</th>\n",
       "      <td>70702244</td>\n",
       "      <td>2021-12-28</td>\n",
       "      <td>Best way to manage y/n and password prompts th...</td>\n",
       "      <td>&lt;p&gt;I am creating a Python script to install AU...</td>\n",
       "    </tr>\n",
       "    <tr>\n",
       "      <th>2</th>\n",
       "      <td>70542818</td>\n",
       "      <td>2021-12-31</td>\n",
       "      <td>How can I make joblib works with executable fi...</td>\n",
       "      <td>&lt;p&gt;I developed a program in python to organize...</td>\n",
       "    </tr>\n",
       "    <tr>\n",
       "      <th>3</th>\n",
       "      <td>70542928</td>\n",
       "      <td>2021-12-31</td>\n",
       "      <td>Millionth Fibonacci Number - Numpy Python Impl...</td>\n",
       "      <td>&lt;p&gt;I am trying to implement a code which works...</td>\n",
       "    </tr>\n",
       "    <tr>\n",
       "      <th>4</th>\n",
       "      <td>70542947</td>\n",
       "      <td>2021-12-31</td>\n",
       "      <td>YAML not well formed</td>\n",
       "      <td>&lt;p&gt;Im trying to stop my RDS cluster using Lamb...</td>\n",
       "    </tr>\n",
       "  </tbody>\n",
       "</table>\n",
       "</div>"
      ],
      "text/plain": [
       "         id       cdate                                              title  \\\n",
       "0  70551464  2021-12-19           Python Resize and Move Active Window X11   \n",
       "1  70702244  2021-12-28  Best way to manage y/n and password prompts th...   \n",
       "2  70542818  2021-12-31  How can I make joblib works with executable fi...   \n",
       "3  70542928  2021-12-31  Millionth Fibonacci Number - Numpy Python Impl...   \n",
       "4  70542947  2021-12-31                               YAML not well formed   \n",
       "\n",
       "                                                body  \n",
       "0  <p>I am trying to write (in python) my own &qu...  \n",
       "1  <p>I am creating a Python script to install AU...  \n",
       "2  <p>I developed a program in python to organize...  \n",
       "3  <p>I am trying to implement a code which works...  \n",
       "4  <p>Im trying to stop my RDS cluster using Lamb...  "
      ]
     },
     "execution_count": 22,
     "metadata": {},
     "output_type": "execute_result"
    }
   ],
   "source": [
    "complexity_python_df.head()"
   ]
  },
  {
   "cell_type": "code",
   "execution_count": 23,
   "metadata": {},
   "outputs": [],
   "source": [
    "calc_com_df = pd.merge(complexity_python_df[['id', 'cdate']], calc_com_df, on = 'id')"
   ]
  },
  {
   "cell_type": "code",
   "execution_count": 24,
   "metadata": {},
   "outputs": [
    {
     "data": {
      "text/html": [
       "<div>\n",
       "<style scoped>\n",
       "    .dataframe tbody tr th:only-of-type {\n",
       "        vertical-align: middle;\n",
       "    }\n",
       "\n",
       "    .dataframe tbody tr th {\n",
       "        vertical-align: top;\n",
       "    }\n",
       "\n",
       "    .dataframe thead th {\n",
       "        text-align: right;\n",
       "    }\n",
       "</style>\n",
       "<table border=\"1\" class=\"dataframe\">\n",
       "  <thead>\n",
       "    <tr style=\"text-align: right;\">\n",
       "      <th></th>\n",
       "      <th>id</th>\n",
       "      <th>cdate</th>\n",
       "      <th>idx</th>\n",
       "      <th>src</th>\n",
       "      <th>Path</th>\n",
       "      <th>File Name</th>\n",
       "      <th>Cognitive Complexity</th>\n",
       "    </tr>\n",
       "  </thead>\n",
       "  <tbody>\n",
       "    <tr>\n",
       "      <th>0</th>\n",
       "      <td>70702244</td>\n",
       "      <td>2021-12-28</td>\n",
       "      <td>0</td>\n",
       "      <td>cmd = r'yes y | makepkg -si'\\noutput = subproc...</td>\n",
       "      <td>0_70702244.py</td>\n",
       "      <td>0_70702244.py</td>\n",
       "      <td>0.0</td>\n",
       "    </tr>\n",
       "    <tr>\n",
       "      <th>1</th>\n",
       "      <td>70542818</td>\n",
       "      <td>2021-12-31</td>\n",
       "      <td>113</td>\n",
       "      <td>import Conv\\nfrom os import getcwd\\nfrom time ...</td>\n",
       "      <td>113_70542818.py</td>\n",
       "      <td>113_70542818.py</td>\n",
       "      <td>0.0</td>\n",
       "    </tr>\n",
       "    <tr>\n",
       "      <th>2</th>\n",
       "      <td>70542928</td>\n",
       "      <td>2021-12-31</td>\n",
       "      <td>114</td>\n",
       "      <td>def fib(n):\\n    import numpy as np\\n    matri...</td>\n",
       "      <td>NaN</td>\n",
       "      <td>NaN</td>\n",
       "      <td>NaN</td>\n",
       "    </tr>\n",
       "    <tr>\n",
       "      <th>3</th>\n",
       "      <td>70542928</td>\n",
       "      <td>2021-12-31</td>\n",
       "      <td>115</td>\n",
       "      <td>4346655768693745643568852767504062580256466051...</td>\n",
       "      <td>115_70542928.py</td>\n",
       "      <td>115_70542928.py</td>\n",
       "      <td>0.0</td>\n",
       "    </tr>\n",
       "    <tr>\n",
       "      <th>4</th>\n",
       "      <td>70542928</td>\n",
       "      <td>2021-12-31</td>\n",
       "      <td>116</td>\n",
       "      <td>817770325994397771\\n</td>\n",
       "      <td>116_70542928.py</td>\n",
       "      <td>116_70542928.py</td>\n",
       "      <td>0.0</td>\n",
       "    </tr>\n",
       "  </tbody>\n",
       "</table>\n",
       "</div>"
      ],
      "text/plain": [
       "         id       cdate  idx  \\\n",
       "0  70702244  2021-12-28    0   \n",
       "1  70542818  2021-12-31  113   \n",
       "2  70542928  2021-12-31  114   \n",
       "3  70542928  2021-12-31  115   \n",
       "4  70542928  2021-12-31  116   \n",
       "\n",
       "                                                 src             Path  \\\n",
       "0  cmd = r'yes y | makepkg -si'\\noutput = subproc...    0_70702244.py   \n",
       "1  import Conv\\nfrom os import getcwd\\nfrom time ...  113_70542818.py   \n",
       "2  def fib(n):\\n    import numpy as np\\n    matri...              NaN   \n",
       "3  4346655768693745643568852767504062580256466051...  115_70542928.py   \n",
       "4                               817770325994397771\\n  116_70542928.py   \n",
       "\n",
       "         File Name  Cognitive Complexity  \n",
       "0    0_70702244.py                   0.0  \n",
       "1  113_70542818.py                   0.0  \n",
       "2              NaN                   NaN  \n",
       "3  115_70542928.py                   0.0  \n",
       "4  116_70542928.py                   0.0  "
      ]
     },
     "execution_count": 24,
     "metadata": {},
     "output_type": "execute_result"
    }
   ],
   "source": [
    "calc_com_df.head()"
   ]
  },
  {
   "cell_type": "code",
   "execution_count": 25,
   "metadata": {},
   "outputs": [
    {
     "name": "stdout",
     "output_type": "stream",
     "text": [
      "<class 'pandas.core.frame.DataFrame'>\n",
      "RangeIndex: 940801 entries, 0 to 940800\n",
      "Data columns (total 7 columns):\n",
      " #   Column                Non-Null Count   Dtype  \n",
      "---  ------                --------------   -----  \n",
      " 0   id                    940801 non-null  int64  \n",
      " 1   cdate                 940801 non-null  object \n",
      " 2   idx                   940801 non-null  int64  \n",
      " 3   src                   940801 non-null  object \n",
      " 4   Path                  482331 non-null  object \n",
      " 5   File Name             482331 non-null  object \n",
      " 6   Cognitive Complexity  482331 non-null  float64\n",
      "dtypes: float64(1), int64(2), object(4)\n",
      "memory usage: 50.2+ MB\n"
     ]
    }
   ],
   "source": [
    "calc_com_df.info()"
   ]
  },
  {
   "cell_type": "code",
   "execution_count": 31,
   "metadata": {},
   "outputs": [],
   "source": [
    "# 일자별로 아예 소스가 수행되지 않는 건 \n",
    "calc_com_df_back = calc_com_df.copy()\n",
    "calc_ed_com_df = calc_com_df[~calc_com_df['Path'].isna()]"
   ]
  },
  {
   "cell_type": "code",
   "execution_count": null,
   "metadata": {},
   "outputs": [],
   "source": [
    "# calc_ed_com_df = calc_ed_com_df.sort_values(by = ['cdate', 'id', 'Cognitive Complexity'], ascending = [True, True, False]).groupby('id').head(1)"
   ]
  },
  {
   "cell_type": "code",
   "execution_count": null,
   "metadata": {},
   "outputs": [],
   "source": [
    "# with open(f'{conf.DATA_PATH}/data/cc_python_raw_df.pkl', 'wb') as f:\n",
    "#     pickle.dump(calc_ed_com_df, f)"
   ]
  },
  {
   "cell_type": "code",
   "execution_count": null,
   "metadata": {},
   "outputs": [],
   "source": [
    "calc_ed_com_df"
   ]
  },
  {
   "cell_type": "code",
   "execution_count": null,
   "metadata": {},
   "outputs": [],
   "source": [
    "calc_ed_com_df"
   ]
  },
  {
   "cell_type": "code",
   "execution_count": null,
   "metadata": {},
   "outputs": [],
   "source": [
    "calc_ed_com_df['rel_week'] = np.floor((pd.to_datetime(calc_ed_com_df['cdate'])- datetime.datetime(2022,11,30)).dt.days/7)\n"
   ]
  },
  {
   "cell_type": "code",
   "execution_count": null,
   "metadata": {},
   "outputs": [],
   "source": [
    "calc_ed_com_df[(calc_ed_com_df['rel_week']>=-52)&(calc_ed_com_df['rel_week']<52)].info()"
   ]
  },
  {
   "cell_type": "code",
   "execution_count": null,
   "metadata": {},
   "outputs": [],
   "source": [
    "calc_ed_com_mean_df = calc_ed_com_df.groupby(['rel_week']).mean(numeric_only=True).reset_index()\n",
    "# ['Cognitive Complexity']"
   ]
  },
  {
   "cell_type": "code",
   "execution_count": null,
   "metadata": {},
   "outputs": [],
   "source": [
    "calc_ed_com_mean_df.head()"
   ]
  },
  {
   "cell_type": "code",
   "execution_count": null,
   "metadata": {},
   "outputs": [],
   "source": [
    "chow_df = calc_ed_com_mean_df[['rel_week', 'Cognitive Complexity']]"
   ]
  },
  {
   "cell_type": "code",
   "execution_count": null,
   "metadata": {},
   "outputs": [],
   "source": [
    "chow_df = chow_df[(chow_df['rel_week']>=-52)&(chow_df['rel_week']<52)]"
   ]
  },
  {
   "cell_type": "code",
   "execution_count": null,
   "metadata": {},
   "outputs": [],
   "source": [
    "x = chow_df['rel_week'].values"
   ]
  },
  {
   "cell_type": "code",
   "execution_count": null,
   "metadata": {},
   "outputs": [],
   "source": [
    "np.argmax(np.where(x <= 0)) "
   ]
  },
  {
   "cell_type": "code",
   "execution_count": null,
   "metadata": {},
   "outputs": [],
   "source": [
    "chow_df_1year = chow_df[chow_df['rel_week']>=-52]\n",
    "st_chow_1year = st.Stats(chow_df_1year['rel_week'].values, chow_df_1year['Cognitive Complexity'].values, 2, 0.95)\n",
    "F_stat_1, p_value_1 = st_chow_1year.chow_test()\n"
   ]
  },
  {
   "cell_type": "code",
   "execution_count": null,
   "metadata": {},
   "outputs": [],
   "source": [
    "np.argmax(np.where(x < 0))"
   ]
  },
  {
   "cell_type": "code",
   "execution_count": null,
   "metadata": {},
   "outputs": [],
   "source": [
    "x[:51]"
   ]
  },
  {
   "cell_type": "code",
   "execution_count": null,
   "metadata": {},
   "outputs": [],
   "source": [
    "x = chow_df_1year['rel_week'].values\n",
    "y = chow_df_1year['Cognitive Complexity'].values\n",
    "\n",
    "split_idx = np.argmax(np.where(x < 0))+1\n",
    "x1= x[:split_idx]\n",
    "x2= x[split_idx:]\n",
    "# 시각화\n",
    "plt.figure(figsize=(7, 6))\n",
    "plt.scatter(x, y,  alpha=0.6, color='darkgray')\n",
    "plt.plot(x, st_chow_1year.y_predict, label=\"Full Model\", linestyle=\"--\", color=\"black\")  \n",
    "\n",
    "\n",
    "plt.plot(x1, st_chow_1year.y1_predict, label=\"before chatGPT\", linewidth='2')\n",
    "plt.fill_between(x1, st_chow_1year.y1_predict - st_chow_1year.y1_conf_interval, st_chow_1year.y1_predict + st_chow_1year.y1_conf_interval, alpha=0.1)\n",
    "\n",
    "plt.plot(x2, st_chow_1year.y2_predict, label=\"after chatGPT\", linewidth='2')\n",
    "plt.fill_between(x2, st_chow_1year.y2_predict - st_chow_1year.y2_conf_interval, st_chow_1year.y2_predict + st_chow_1year.y2_conf_interval, alpha=0.1)\n",
    "\n",
    "plt.text(22, 1.5, s=f'F-Statistic : {F_stat_1:.2f}\\np-value : {p_value_1:.4f}', fontsize = 10) #\n",
    "plt.axvline(x=0,     color='red',    linestyle='-.', linewidth=1)\n",
    "\n",
    "plt.legend( loc='upper left')\n",
    "plt.xlabel(\"Week Relative to ChatGPT Release\", fontsize=15)\n",
    "plt.ylabel(\"Weekly Average Complexity\", fontsize=15)\n",
    "plt.grid(True, linestyle='--', alpha=0.3)\n",
    "plt.savefig(\"./fig/Result_Fig3.png\", dpi=300, bbox_inches='tight')  # DPI 설정 및 여백 최소화\n",
    "plt.show()\n"
   ]
  },
  {
   "cell_type": "code",
   "execution_count": null,
   "metadata": {},
   "outputs": [],
   "source": [
    "x = chow_df_1year['rel_week'].values\n",
    "y = chow_df_1year['Cognitive Complexity'].values\n",
    "\n",
    "split_idx = np.argmax(np.where(x < 0))+1\n",
    "x1= x[:split_idx]\n",
    "x2= x[split_idx:]\n",
    "# 시각화\n",
    "plt.figure(figsize=(7, 6))\n",
    "plt.scatter(x, y,  alpha=0.6, color='darkgray')\n",
    "plt.plot(x, st_chow_1year.y_predict, label=\"Full Model\", linestyle=\"--\", color=\"black\")  \n",
    "\n",
    "\n",
    "plt.plot(x1, st_chow_1year.y1_predict, label=\"before chatGPT\", linewidth='2')\n",
    "plt.fill_between(x1, st_chow_1year.y1_predict - st_chow_1year.y1_conf_interval, st_chow_1year.y1_predict + st_chow_1year.y1_conf_interval, alpha=0.1)\n",
    "\n",
    "plt.plot(x2, st_chow_1year.y2_predict, label=\"after chatGPT\", linewidth='2')\n",
    "plt.fill_between(x2, st_chow_1year.y2_predict - st_chow_1year.y2_conf_interval, st_chow_1year.y2_predict + st_chow_1year.y2_conf_interval, alpha=0.1)\n",
    "\n",
    "plt.text(22, 1.5, s=f'F-Statistic : {F_stat_1:.2f}\\np-value : {p_value_1:.4f}', fontsize = 10) #\n",
    "plt.axvline(x=0,     color='red',    linestyle='-.', linewidth=1)\n",
    "\n",
    "plt.legend( loc='upper left')\n",
    "plt.xlabel(\"Week Relative to ChatGPT Release\", fontsize=15)\n",
    "plt.ylabel(\"Weekly Average Complexity\", fontsize=15)\n",
    "plt.grid(True, linestyle='--', alpha=0.3)\n",
    "plt.savefig(\"./fig/Result_Fig3.png\", dpi=300, bbox_inches='tight')  # DPI 설정 및 여백 최소화\n",
    "plt.show()\n"
   ]
  },
  {
   "cell_type": "code",
   "execution_count": null,
   "metadata": {},
   "outputs": [],
   "source": []
  }
 ],
 "metadata": {
  "kernelspec": {
   "display_name": "venv_stackoverflow_src",
   "language": "python",
   "name": "python3"
  },
  "language_info": {
   "codemirror_mode": {
    "name": "ipython",
    "version": 3
   },
   "file_extension": ".py",
   "mimetype": "text/x-python",
   "name": "python",
   "nbconvert_exporter": "python",
   "pygments_lexer": "ipython3",
   "version": "3.10.12"
  }
 },
 "nbformat": 4,
 "nbformat_minor": 2
}
