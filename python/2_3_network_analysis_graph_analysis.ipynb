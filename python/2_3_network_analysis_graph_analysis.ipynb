{
 "cells": [
  {
   "cell_type": "code",
   "execution_count": 32,
   "metadata": {},
   "outputs": [],
   "source": [
    "import psycopg2\n",
    "import pandas as pd\n",
    "import seaborn as sns\n",
    "import matplotlib.pyplot as plt\n",
    "import networkx as nx\n",
    "import numpy as np\n",
    "import time\n",
    "import pprint\n",
    "import metis\n",
    "import networkit as nk\n",
    "from networkit import vizbridges\n",
    "import pickle\n",
    "# import powerlaw"
   ]
  },
  {
   "cell_type": "code",
   "execution_count": 33,
   "metadata": {},
   "outputs": [],
   "source": [
    "# 파일 불러오기\n",
    "with open('../../data/df.pkl', 'rb') as f:\n",
    "    df = pickle.load(f)\n"
   ]
  },
  {
   "cell_type": "code",
   "execution_count": 34,
   "metadata": {},
   "outputs": [],
   "source": [
    "# 파일 불러오기\n",
    "with open('../../data/df_qna.pkl', 'rb') as f:\n",
    "    df_qna = pickle.load(f)"
   ]
  },
  {
   "cell_type": "code",
   "execution_count": 35,
   "metadata": {},
   "outputs": [
    {
     "data": {
      "text/plain": [
       "Timestamp('2023-08-03 01:04:49.693000')"
      ]
     },
     "execution_count": 35,
     "metadata": {},
     "output_type": "execute_result"
    }
   ],
   "source": [
    "df['q_creationdate'].min()"
   ]
  },
  {
   "cell_type": "code",
   "execution_count": 36,
   "metadata": {},
   "outputs": [],
   "source": [
    "df_gephi = df[['q_owneruserid', 'a_owneruserid']]"
   ]
  },
  {
   "cell_type": "code",
   "execution_count": 37,
   "metadata": {},
   "outputs": [],
   "source": [
    "df_gephi.columns = ['Source', 'Target']"
   ]
  },
  {
   "cell_type": "code",
   "execution_count": 38,
   "metadata": {},
   "outputs": [],
   "source": [
    "node = np.unique(np.append(df_gephi['Source'].values, df_gephi['Target'].values))"
   ]
  },
  {
   "cell_type": "code",
   "execution_count": 39,
   "metadata": {},
   "outputs": [],
   "source": [
    "# 질문자->답변자 로 edgelist 생성\n",
    "edgelist = list(zip(df_gephi['Source'], df_gephi['Target']))"
   ]
  },
  {
   "cell_type": "code",
   "execution_count": 40,
   "metadata": {},
   "outputs": [],
   "source": [
    "di_github = nx.DiGraph()\n",
    "di_github.add_nodes_from(node)\n",
    "di_github.add_edges_from(edgelist)\n",
    "\n",
    "github = nx.from_pandas_edgelist(df,  source='q_owneruserid', target='a_owneruserid')"
   ]
  },
  {
   "cell_type": "code",
   "execution_count": 41,
   "metadata": {},
   "outputs": [],
   "source": [
    "di_github_nk = nk.nxadapter.nx2nk(di_github)\n",
    "github_nk = nk.nxadapter.nx2nk(github)"
   ]
  },
  {
   "cell_type": "code",
   "execution_count": 42,
   "metadata": {},
   "outputs": [
    {
     "name": "stdout",
     "output_type": "stream",
     "text": [
      "11392 11996\n"
     ]
    }
   ],
   "source": [
    "print(di_github_nk.numberOfNodes(), di_github_nk.numberOfEdges())"
   ]
  },
  {
   "cell_type": "markdown",
   "metadata": {},
   "source": [
    "### Core Decomposition"
   ]
  },
  {
   "cell_type": "code",
   "execution_count": 43,
   "metadata": {},
   "outputs": [],
   "source": [
    "rm_github_nk = github_nk.removeSelfLoops()"
   ]
  },
  {
   "cell_type": "code",
   "execution_count": 44,
   "metadata": {},
   "outputs": [
    {
     "data": {
      "text/plain": [
       "NoneType"
      ]
     },
     "execution_count": 44,
     "metadata": {},
     "output_type": "execute_result"
    }
   ],
   "source": [
    "type(rm_github_nk)"
   ]
  },
  {
   "cell_type": "code",
   "execution_count": 45,
   "metadata": {},
   "outputs": [
    {
     "data": {
      "text/plain": [
       "<networkit.centrality.CoreDecomposition at 0x30a06adc0>"
      ]
     },
     "execution_count": 45,
     "metadata": {},
     "output_type": "execute_result"
    }
   ],
   "source": [
    "coreDec = nk.centrality.CoreDecomposition(github_nk)\n",
    "coreDec.run()\n",
    "# direct 라 안되는데\n",
    "# untimeError: Core Decomposition implementation does not support graphs with self-loops. Call Graph.removeSelfLoops() first."
   ]
  },
  {
   "cell_type": "code",
   "execution_count": 46,
   "metadata": {},
   "outputs": [],
   "source": [
    "# nk.gephi.pyclient.GephiClient(url='http://116.45.16.200:5999/workspace0', autoflush=False)\n",
    "# gsc = nk.gephi.streaming.GephiStreamingClient(url='http://116.45.16.200:5999/workspace1')\n",
    "# gsc = nk.gephi.streaming.GephiStreamingClient(url='http://143.248.106.43:7777/workspace1')\n",
    "# gsc = nk.gephi.streaming.GephiStreamingClient(url='http://143.248.106.43:7777/workspace2')\n",
    "gsc = nk.gephi.streaming.GephiStreamingClient(url='http://localhost:7777/workspace1')\n"
   ]
  },
  {
   "cell_type": "code",
   "execution_count": 47,
   "metadata": {},
   "outputs": [],
   "source": [
    "# test = nk.gephi.streaming.GephiStreamingClient(url='http://localhost:8080/workspace1')"
   ]
  },
  {
   "cell_type": "code",
   "execution_count": 48,
   "metadata": {},
   "outputs": [],
   "source": [
    "# test = nk.gephi.streaming.GephiStreamingClient(url='http://116.45.16.200:8080/workspace2')"
   ]
  },
  {
   "cell_type": "code",
   "execution_count": 49,
   "metadata": {},
   "outputs": [],
   "source": [
    "# test.exportGraph(di_github_nk)"
   ]
  },
  {
   "cell_type": "code",
   "execution_count": 50,
   "metadata": {},
   "outputs": [],
   "source": [
    "gsc.exportGraph(di_github_nk)"
   ]
  },
  {
   "cell_type": "code",
   "execution_count": 51,
   "metadata": {},
   "outputs": [],
   "source": [
    "# nk.vizbridges.widgetFromGraph(github_nk, dimension = nk.vizbridges.Dimension.Two, nodeScores = coreDec.scores())"
   ]
  },
  {
   "cell_type": "code",
   "execution_count": 52,
   "metadata": {},
   "outputs": [
    {
     "data": {
      "text/plain": [
       "<networkit.graph.Graph at 0x105fb0620>"
      ]
     },
     "execution_count": 52,
     "metadata": {},
     "output_type": "execute_result"
    }
   ],
   "source": [
    "di_github_nk\n",
    "# 1762"
   ]
  },
  {
   "cell_type": "code",
   "execution_count": 53,
   "metadata": {},
   "outputs": [
    {
     "data": {
      "text/plain": [
       "2376954"
      ]
     },
     "execution_count": 53,
     "metadata": {},
     "output_type": "execute_result"
    }
   ],
   "source": [
    "list(di_github.nodes())[1762]"
   ]
  },
  {
   "cell_type": "code",
   "execution_count": 54,
   "metadata": {},
   "outputs": [
    {
     "data": {
      "text/plain": [
       "10542284"
      ]
     },
     "execution_count": 54,
     "metadata": {},
     "output_type": "execute_result"
    }
   ],
   "source": [
    "list(di_github.nodes())[5115]"
   ]
  },
  {
   "cell_type": "code",
   "execution_count": 55,
   "metadata": {},
   "outputs": [
    {
     "data": {
      "text/html": [
       "<div>\n",
       "<style scoped>\n",
       "    .dataframe tbody tr th:only-of-type {\n",
       "        vertical-align: middle;\n",
       "    }\n",
       "\n",
       "    .dataframe tbody tr th {\n",
       "        vertical-align: top;\n",
       "    }\n",
       "\n",
       "    .dataframe thead th {\n",
       "        text-align: right;\n",
       "    }\n",
       "</style>\n",
       "<table border=\"1\" class=\"dataframe\">\n",
       "  <thead>\n",
       "    <tr style=\"text-align: right;\">\n",
       "      <th></th>\n",
       "      <th>q_id</th>\n",
       "      <th>q_posttypeid</th>\n",
       "      <th>q_acceptedanswerid</th>\n",
       "      <th>q_parentid</th>\n",
       "      <th>q_creationdate</th>\n",
       "      <th>q_score</th>\n",
       "      <th>q_viewcount</th>\n",
       "      <th>q_owneruserid</th>\n",
       "      <th>q_title</th>\n",
       "      <th>q_tags</th>\n",
       "      <th>...</th>\n",
       "      <th>a_parentid</th>\n",
       "      <th>a_creationdate</th>\n",
       "      <th>a_score</th>\n",
       "      <th>a_viewcount</th>\n",
       "      <th>a_owneruserid</th>\n",
       "      <th>a_title</th>\n",
       "      <th>a_tags</th>\n",
       "      <th>a_answercount</th>\n",
       "      <th>a_commentcount</th>\n",
       "      <th>a_reputation</th>\n",
       "    </tr>\n",
       "  </thead>\n",
       "  <tbody>\n",
       "    <tr>\n",
       "      <th>5766</th>\n",
       "      <td>77231004</td>\n",
       "      <td>1</td>\n",
       "      <td>NaN</td>\n",
       "      <td>None</td>\n",
       "      <td>2023-10-04 15:39:13.480</td>\n",
       "      <td>1</td>\n",
       "      <td>51</td>\n",
       "      <td>19556938</td>\n",
       "      <td>Java - Quarkus framework. Panache MongoDB. How...</td>\n",
       "      <td>java mongodb quarkus quarkus-panache</td>\n",
       "      <td>...</td>\n",
       "      <td>77231004</td>\n",
       "      <td>2023-10-04 16:42:50.920</td>\n",
       "      <td>0</td>\n",
       "      <td>None</td>\n",
       "      <td>19556938</td>\n",
       "      <td>None</td>\n",
       "      <td>None</td>\n",
       "      <td>None</td>\n",
       "      <td>0</td>\n",
       "      <td>11</td>\n",
       "    </tr>\n",
       "  </tbody>\n",
       "</table>\n",
       "<p>1 rows × 26 columns</p>\n",
       "</div>"
      ],
      "text/plain": [
       "          q_id q_posttypeid  q_acceptedanswerid q_parentid  \\\n",
       "5766  77231004            1                 NaN       None   \n",
       "\n",
       "              q_creationdate  q_score  q_viewcount  q_owneruserid  \\\n",
       "5766 2023-10-04 15:39:13.480        1           51       19556938   \n",
       "\n",
       "                                                q_title  \\\n",
       "5766  Java - Quarkus framework. Panache MongoDB. How...   \n",
       "\n",
       "                                     q_tags  ...  a_parentid  \\\n",
       "5766  java mongodb quarkus quarkus-panache   ...    77231004   \n",
       "\n",
       "              a_creationdate  a_score  a_viewcount a_owneruserid a_title  \\\n",
       "5766 2023-10-04 16:42:50.920        0         None      19556938    None   \n",
       "\n",
       "      a_tags a_answercount  a_commentcount a_reputation  \n",
       "5766    None          None               0           11  \n",
       "\n",
       "[1 rows x 26 columns]"
      ]
     },
     "execution_count": 55,
     "metadata": {},
     "output_type": "execute_result"
    }
   ],
   "source": [
    "df[(df['q_owneruserid']==19556938)|(df['a_owneruserid']==19556938)]"
   ]
  },
  {
   "cell_type": "code",
   "execution_count": 56,
   "metadata": {},
   "outputs": [
    {
     "data": {
      "text/html": [
       "<div>\n",
       "<style scoped>\n",
       "    .dataframe tbody tr th:only-of-type {\n",
       "        vertical-align: middle;\n",
       "    }\n",
       "\n",
       "    .dataframe tbody tr th {\n",
       "        vertical-align: top;\n",
       "    }\n",
       "\n",
       "    .dataframe thead th {\n",
       "        text-align: right;\n",
       "    }\n",
       "</style>\n",
       "<table border=\"1\" class=\"dataframe\">\n",
       "  <thead>\n",
       "    <tr style=\"text-align: right;\">\n",
       "      <th></th>\n",
       "      <th>q_id</th>\n",
       "      <th>q_posttypeid</th>\n",
       "      <th>q_acceptedanswerid</th>\n",
       "      <th>q_parentid</th>\n",
       "      <th>q_creationdate</th>\n",
       "      <th>q_score</th>\n",
       "      <th>q_viewcount</th>\n",
       "      <th>q_owneruserid</th>\n",
       "      <th>q_title</th>\n",
       "      <th>q_tags</th>\n",
       "      <th>...</th>\n",
       "      <th>a_parentid</th>\n",
       "      <th>a_creationdate</th>\n",
       "      <th>a_score</th>\n",
       "      <th>a_viewcount</th>\n",
       "      <th>a_owneruserid</th>\n",
       "      <th>a_title</th>\n",
       "      <th>a_tags</th>\n",
       "      <th>a_answercount</th>\n",
       "      <th>a_commentcount</th>\n",
       "      <th>a_reputation</th>\n",
       "    </tr>\n",
       "  </thead>\n",
       "  <tbody>\n",
       "    <tr>\n",
       "      <th>2667</th>\n",
       "      <td>77410093</td>\n",
       "      <td>1</td>\n",
       "      <td>NaN</td>\n",
       "      <td>None</td>\n",
       "      <td>2023-11-02 13:43:22.463</td>\n",
       "      <td>1</td>\n",
       "      <td>49</td>\n",
       "      <td>10542284</td>\n",
       "      <td>Why Spring Boot Backend is not letting me Logi...</td>\n",
       "      <td>reactjs spring spring-boot</td>\n",
       "      <td>...</td>\n",
       "      <td>77410093</td>\n",
       "      <td>2023-11-04 13:34:54.593</td>\n",
       "      <td>1</td>\n",
       "      <td>None</td>\n",
       "      <td>10542284</td>\n",
       "      <td>None</td>\n",
       "      <td>None</td>\n",
       "      <td>None</td>\n",
       "      <td>0</td>\n",
       "      <td>375</td>\n",
       "    </tr>\n",
       "    <tr>\n",
       "      <th>5094</th>\n",
       "      <td>77273036</td>\n",
       "      <td>1</td>\n",
       "      <td>NaN</td>\n",
       "      <td>None</td>\n",
       "      <td>2023-10-11 12:23:58.780</td>\n",
       "      <td>1</td>\n",
       "      <td>54</td>\n",
       "      <td>10542284</td>\n",
       "      <td>SpringBoot GetMapping Throwing always a 404 code</td>\n",
       "      <td>java spring-boot</td>\n",
       "      <td>...</td>\n",
       "      <td>77273036</td>\n",
       "      <td>2023-10-11 12:39:27.233</td>\n",
       "      <td>1</td>\n",
       "      <td>None</td>\n",
       "      <td>19984776</td>\n",
       "      <td>None</td>\n",
       "      <td>None</td>\n",
       "      <td>None</td>\n",
       "      <td>1</td>\n",
       "      <td>11</td>\n",
       "    </tr>\n",
       "    <tr>\n",
       "      <th>11474</th>\n",
       "      <td>76868443</td>\n",
       "      <td>1</td>\n",
       "      <td>76877800.0</td>\n",
       "      <td>None</td>\n",
       "      <td>2023-08-09 13:53:10.813</td>\n",
       "      <td>1</td>\n",
       "      <td>55</td>\n",
       "      <td>10542284</td>\n",
       "      <td>I'm getting RESULT_CANCELED from startActivity...</td>\n",
       "      <td>java android kotlin default</td>\n",
       "      <td>...</td>\n",
       "      <td>76868443</td>\n",
       "      <td>2023-08-10 16:50:21.053</td>\n",
       "      <td>1</td>\n",
       "      <td>None</td>\n",
       "      <td>10542284</td>\n",
       "      <td>None</td>\n",
       "      <td>None</td>\n",
       "      <td>None</td>\n",
       "      <td>0</td>\n",
       "      <td>375</td>\n",
       "    </tr>\n",
       "  </tbody>\n",
       "</table>\n",
       "<p>3 rows × 26 columns</p>\n",
       "</div>"
      ],
      "text/plain": [
       "           q_id q_posttypeid  q_acceptedanswerid q_parentid  \\\n",
       "2667   77410093            1                 NaN       None   \n",
       "5094   77273036            1                 NaN       None   \n",
       "11474  76868443            1          76877800.0       None   \n",
       "\n",
       "               q_creationdate  q_score  q_viewcount  q_owneruserid  \\\n",
       "2667  2023-11-02 13:43:22.463        1           49       10542284   \n",
       "5094  2023-10-11 12:23:58.780        1           54       10542284   \n",
       "11474 2023-08-09 13:53:10.813        1           55       10542284   \n",
       "\n",
       "                                                 q_title  \\\n",
       "2667   Why Spring Boot Backend is not letting me Logi...   \n",
       "5094    SpringBoot GetMapping Throwing always a 404 code   \n",
       "11474  I'm getting RESULT_CANCELED from startActivity...   \n",
       "\n",
       "                             q_tags  ...  a_parentid          a_creationdate  \\\n",
       "2667    reactjs spring spring-boot   ...    77410093 2023-11-04 13:34:54.593   \n",
       "5094              java spring-boot   ...    77273036 2023-10-11 12:39:27.233   \n",
       "11474  java android kotlin default   ...    76868443 2023-08-10 16:50:21.053   \n",
       "\n",
       "       a_score  a_viewcount a_owneruserid a_title  a_tags a_answercount  \\\n",
       "2667         1         None      10542284    None    None          None   \n",
       "5094         1         None      19984776    None    None          None   \n",
       "11474        1         None      10542284    None    None          None   \n",
       "\n",
       "       a_commentcount a_reputation  \n",
       "2667                0          375  \n",
       "5094                1           11  \n",
       "11474               0          375  \n",
       "\n",
       "[3 rows x 26 columns]"
      ]
     },
     "execution_count": 56,
     "metadata": {},
     "output_type": "execute_result"
    }
   ],
   "source": [
    "df[(df['q_owneruserid']==list(di_github.nodes())[5115])|(df['a_owneruserid']==list(di_github.nodes())[5115])]"
   ]
  },
  {
   "cell_type": "code",
   "execution_count": 57,
   "metadata": {},
   "outputs": [
    {
     "data": {
      "text/html": [
       "<div>\n",
       "<style scoped>\n",
       "    .dataframe tbody tr th:only-of-type {\n",
       "        vertical-align: middle;\n",
       "    }\n",
       "\n",
       "    .dataframe tbody tr th {\n",
       "        vertical-align: top;\n",
       "    }\n",
       "\n",
       "    .dataframe thead th {\n",
       "        text-align: right;\n",
       "    }\n",
       "</style>\n",
       "<table border=\"1\" class=\"dataframe\">\n",
       "  <thead>\n",
       "    <tr style=\"text-align: right;\">\n",
       "      <th></th>\n",
       "      <th>q_id</th>\n",
       "      <th>q_posttypeid</th>\n",
       "      <th>q_acceptedanswerid</th>\n",
       "      <th>q_parentid</th>\n",
       "      <th>q_creationdate</th>\n",
       "      <th>q_score</th>\n",
       "      <th>q_viewcount</th>\n",
       "      <th>q_owneruserid</th>\n",
       "      <th>q_title</th>\n",
       "      <th>q_tags</th>\n",
       "      <th>...</th>\n",
       "      <th>a_parentid</th>\n",
       "      <th>a_creationdate</th>\n",
       "      <th>a_score</th>\n",
       "      <th>a_viewcount</th>\n",
       "      <th>a_owneruserid</th>\n",
       "      <th>a_title</th>\n",
       "      <th>a_tags</th>\n",
       "      <th>a_answercount</th>\n",
       "      <th>a_commentcount</th>\n",
       "      <th>a_reputation</th>\n",
       "    </tr>\n",
       "  </thead>\n",
       "  <tbody>\n",
       "    <tr>\n",
       "      <th>9183</th>\n",
       "      <td>77022398</td>\n",
       "      <td>1</td>\n",
       "      <td>NaN</td>\n",
       "      <td>None</td>\n",
       "      <td>2023-09-01 10:36:23.383</td>\n",
       "      <td>0</td>\n",
       "      <td>795</td>\n",
       "      <td>9849018</td>\n",
       "      <td>Cannot deserialize value of type `java.lang.St...</td>\n",
       "      <td>java deserialization jackson-databind</td>\n",
       "      <td>...</td>\n",
       "      <td>77022398</td>\n",
       "      <td>2023-09-01 11:22:27.080</td>\n",
       "      <td>0</td>\n",
       "      <td>None</td>\n",
       "      <td>15328090</td>\n",
       "      <td>None</td>\n",
       "      <td>None</td>\n",
       "      <td>None</td>\n",
       "      <td>0</td>\n",
       "      <td>91</td>\n",
       "    </tr>\n",
       "    <tr>\n",
       "      <th>9186</th>\n",
       "      <td>77021421</td>\n",
       "      <td>1</td>\n",
       "      <td>NaN</td>\n",
       "      <td>None</td>\n",
       "      <td>2023-09-01 08:00:24.553</td>\n",
       "      <td>0</td>\n",
       "      <td>60</td>\n",
       "      <td>12571132</td>\n",
       "      <td>Declare multiple property variables in log4j2....</td>\n",
       "      <td>java xml spring yaml log4j2</td>\n",
       "      <td>...</td>\n",
       "      <td>77021421</td>\n",
       "      <td>2023-09-01 09:55:19.497</td>\n",
       "      <td>0</td>\n",
       "      <td>None</td>\n",
       "      <td>15328090</td>\n",
       "      <td>None</td>\n",
       "      <td>None</td>\n",
       "      <td>None</td>\n",
       "      <td>1</td>\n",
       "      <td>91</td>\n",
       "    </tr>\n",
       "    <tr>\n",
       "      <th>9455</th>\n",
       "      <td>77004940</td>\n",
       "      <td>1</td>\n",
       "      <td>NaN</td>\n",
       "      <td>None</td>\n",
       "      <td>2023-08-30 04:10:20.370</td>\n",
       "      <td>0</td>\n",
       "      <td>80</td>\n",
       "      <td>4737012</td>\n",
       "      <td>Java Servlet HTTP Status 405 Method Not Allowed</td>\n",
       "      <td>java spring jsp tomcat java-server</td>\n",
       "      <td>...</td>\n",
       "      <td>77004940</td>\n",
       "      <td>2023-08-30 11:14:31.793</td>\n",
       "      <td>2</td>\n",
       "      <td>None</td>\n",
       "      <td>15328090</td>\n",
       "      <td>None</td>\n",
       "      <td>None</td>\n",
       "      <td>None</td>\n",
       "      <td>2</td>\n",
       "      <td>91</td>\n",
       "    </tr>\n",
       "  </tbody>\n",
       "</table>\n",
       "<p>3 rows × 26 columns</p>\n",
       "</div>"
      ],
      "text/plain": [
       "          q_id q_posttypeid  q_acceptedanswerid q_parentid  \\\n",
       "9183  77022398            1                 NaN       None   \n",
       "9186  77021421            1                 NaN       None   \n",
       "9455  77004940            1                 NaN       None   \n",
       "\n",
       "              q_creationdate  q_score  q_viewcount  q_owneruserid  \\\n",
       "9183 2023-09-01 10:36:23.383        0          795        9849018   \n",
       "9186 2023-09-01 08:00:24.553        0           60       12571132   \n",
       "9455 2023-08-30 04:10:20.370        0           80        4737012   \n",
       "\n",
       "                                                q_title  \\\n",
       "9183  Cannot deserialize value of type `java.lang.St...   \n",
       "9186  Declare multiple property variables in log4j2....   \n",
       "9455    Java Servlet HTTP Status 405 Method Not Allowed   \n",
       "\n",
       "                                      q_tags  ...  a_parentid  \\\n",
       "9183  java deserialization jackson-databind   ...    77022398   \n",
       "9186            java xml spring yaml log4j2   ...    77021421   \n",
       "9455     java spring jsp tomcat java-server   ...    77004940   \n",
       "\n",
       "              a_creationdate  a_score  a_viewcount a_owneruserid a_title  \\\n",
       "9183 2023-09-01 11:22:27.080        0         None      15328090    None   \n",
       "9186 2023-09-01 09:55:19.497        0         None      15328090    None   \n",
       "9455 2023-08-30 11:14:31.793        2         None      15328090    None   \n",
       "\n",
       "      a_tags a_answercount  a_commentcount a_reputation  \n",
       "9183    None          None               0           91  \n",
       "9186    None          None               1           91  \n",
       "9455    None          None               2           91  \n",
       "\n",
       "[3 rows x 26 columns]"
      ]
     },
     "execution_count": 57,
     "metadata": {},
     "output_type": "execute_result"
    }
   ],
   "source": [
    "df[(df['q_owneruserid']==list(di_github.nodes())[6829])|(df['a_owneruserid']==list(di_github.nodes())[6829])]"
   ]
  },
  {
   "cell_type": "code",
   "execution_count": 60,
   "metadata": {},
   "outputs": [
    {
     "data": {
      "text/html": [
       "<div>\n",
       "<style scoped>\n",
       "    .dataframe tbody tr th:only-of-type {\n",
       "        vertical-align: middle;\n",
       "    }\n",
       "\n",
       "    .dataframe tbody tr th {\n",
       "        vertical-align: top;\n",
       "    }\n",
       "\n",
       "    .dataframe thead th {\n",
       "        text-align: right;\n",
       "    }\n",
       "</style>\n",
       "<table border=\"1\" class=\"dataframe\">\n",
       "  <thead>\n",
       "    <tr style=\"text-align: right;\">\n",
       "      <th></th>\n",
       "      <th>q_id</th>\n",
       "      <th>q_posttypeid</th>\n",
       "      <th>q_acceptedanswerid</th>\n",
       "      <th>q_parentid</th>\n",
       "      <th>q_creationdate</th>\n",
       "      <th>q_score</th>\n",
       "      <th>q_viewcount</th>\n",
       "      <th>q_owneruserid</th>\n",
       "      <th>q_title</th>\n",
       "      <th>q_tags</th>\n",
       "      <th>...</th>\n",
       "      <th>a_parentid</th>\n",
       "      <th>a_creationdate</th>\n",
       "      <th>a_score</th>\n",
       "      <th>a_viewcount</th>\n",
       "      <th>a_owneruserid</th>\n",
       "      <th>a_title</th>\n",
       "      <th>a_tags</th>\n",
       "      <th>a_answercount</th>\n",
       "      <th>a_commentcount</th>\n",
       "      <th>a_reputation</th>\n",
       "    </tr>\n",
       "  </thead>\n",
       "  <tbody>\n",
       "    <tr>\n",
       "      <th>5847</th>\n",
       "      <td>77228792</td>\n",
       "      <td>1</td>\n",
       "      <td>NaN</td>\n",
       "      <td>None</td>\n",
       "      <td>2023-10-04 10:30:49.673</td>\n",
       "      <td>0</td>\n",
       "      <td>43</td>\n",
       "      <td>16802243</td>\n",
       "      <td>getting ElementClickInterceptedException in th...</td>\n",
       "      <td>java selenium-webdriver selenium-chromedriver ...</td>\n",
       "      <td>...</td>\n",
       "      <td>77228792</td>\n",
       "      <td>2023-10-04 11:43:47.417</td>\n",
       "      <td>0</td>\n",
       "      <td>None</td>\n",
       "      <td>1751801</td>\n",
       "      <td>None</td>\n",
       "      <td>None</td>\n",
       "      <td>None</td>\n",
       "      <td>2</td>\n",
       "      <td>1497</td>\n",
       "    </tr>\n",
       "    <tr>\n",
       "      <th>6649</th>\n",
       "      <td>77177966</td>\n",
       "      <td>1</td>\n",
       "      <td>NaN</td>\n",
       "      <td>None</td>\n",
       "      <td>2023-09-26 07:47:04.080</td>\n",
       "      <td>-1</td>\n",
       "      <td>37</td>\n",
       "      <td>16802243</td>\n",
       "      <td>I can't able to create a node in my local machine</td>\n",
       "      <td>java selenium-webdriver selenium-chromedriver ...</td>\n",
       "      <td>...</td>\n",
       "      <td>77177966</td>\n",
       "      <td>2023-09-26 07:53:16.117</td>\n",
       "      <td>0</td>\n",
       "      <td>None</td>\n",
       "      <td>22531817</td>\n",
       "      <td>None</td>\n",
       "      <td>None</td>\n",
       "      <td>None</td>\n",
       "      <td>0</td>\n",
       "      <td>119</td>\n",
       "    </tr>\n",
       "  </tbody>\n",
       "</table>\n",
       "<p>2 rows × 26 columns</p>\n",
       "</div>"
      ],
      "text/plain": [
       "          q_id q_posttypeid  q_acceptedanswerid q_parentid  \\\n",
       "5847  77228792            1                 NaN       None   \n",
       "6649  77177966            1                 NaN       None   \n",
       "\n",
       "              q_creationdate  q_score  q_viewcount  q_owneruserid  \\\n",
       "5847 2023-10-04 10:30:49.673        0           43       16802243   \n",
       "6649 2023-09-26 07:47:04.080       -1           37       16802243   \n",
       "\n",
       "                                                q_title  \\\n",
       "5847  getting ElementClickInterceptedException in th...   \n",
       "6649  I can't able to create a node in my local machine   \n",
       "\n",
       "                                                 q_tags  ...  a_parentid  \\\n",
       "5847  java selenium-webdriver selenium-chromedriver ...  ...    77228792   \n",
       "6649  java selenium-webdriver selenium-chromedriver ...  ...    77177966   \n",
       "\n",
       "              a_creationdate  a_score  a_viewcount a_owneruserid a_title  \\\n",
       "5847 2023-10-04 11:43:47.417        0         None       1751801    None   \n",
       "6649 2023-09-26 07:53:16.117        0         None      22531817    None   \n",
       "\n",
       "      a_tags a_answercount  a_commentcount a_reputation  \n",
       "5847    None          None               2         1497  \n",
       "6649    None          None               0          119  \n",
       "\n",
       "[2 rows x 26 columns]"
      ]
     },
     "execution_count": 60,
     "metadata": {},
     "output_type": "execute_result"
    }
   ],
   "source": [
    "df[(df['q_owneruserid']==list(di_github.nodes())[7221])|(df['a_owneruserid']==list(di_github.nodes())[7221])]"
   ]
  },
  {
   "cell_type": "markdown",
   "metadata": {},
   "source": [
    "### 고군분투한 포인트  \n",
    "시각화 해서 노드 간의 전반적인 관계를 보고 싶은데, 현재 환경에서 바로 네트워크 그래프를 볼 수 있는 방법이 없음...  \n",
    "* 서브 그래프를 그리는 방법\n",
    "    * centrality기반으로 주요노드들 추출한 다음에 해당 노드를 포함하는 그래프를 서브 그래프로 그려보기(closeness/betweenness)\n",
    "    * community detection 결과로 나뉘어진 그룹기준으로 서브 그래프 그려보기(방향 없는 그래프로 변환 후 그려야 함)\n",
    "\n"
   ]
  }
 ],
 "metadata": {
  "kernelspec": {
   "display_name": "Python 3 (ipykernel)",
   "language": "python",
   "name": "python3"
  },
  "language_info": {
   "codemirror_mode": {
    "name": "ipython",
    "version": 3
   },
   "file_extension": ".py",
   "mimetype": "text/x-python",
   "name": "python",
   "nbconvert_exporter": "python",
   "pygments_lexer": "ipython3",
   "version": "3.0.0"
  }
 },
 "nbformat": 4,
 "nbformat_minor": 4
}
