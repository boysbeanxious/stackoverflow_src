{
 "cells": [
  {
   "cell_type": "code",
   "execution_count": 1,
   "metadata": {},
   "outputs": [],
   "source": [
    "# https://wikidocs.net/233348"
   ]
  },
  {
   "cell_type": "code",
   "execution_count": 2,
   "metadata": {},
   "outputs": [],
   "source": [
    "# pip install langchain"
   ]
  },
  {
   "cell_type": "code",
   "execution_count": 3,
   "metadata": {},
   "outputs": [],
   "source": [
    "# pip install -U langchain-ollama"
   ]
  },
  {
   "cell_type": "code",
   "execution_count": 4,
   "metadata": {},
   "outputs": [],
   "source": [
    "# pip install langchain_teddynote\n",
    "#  ollama create llama-3.1-70b-instruct-lorablated.Q4_K_M:latest -f Modelfile"
   ]
  },
  {
   "cell_type": "code",
   "execution_count": 5,
   "metadata": {},
   "outputs": [],
   "source": [
    "\n",
    "import warnings\n",
    "import langchain\n",
    "from langchain_ollama.llms import OllamaLLM\n",
    "from langchain_core.prompts.few_shot import FewShotPromptTemplate\n",
    "from langchain_core.prompts import PromptTemplate\n",
    "from langchain_core.output_parsers import StrOutputParser\n",
    "from langchain_teddynote.messages import stream_response\n",
    "from langchain_core.prompts import ChatPromptTemplate\n",
    "import pandas as pd\n",
    "import numpy as np\n",
    "from tqdm import tqdm\n",
    "import time\n",
    "\n",
    "warnings.filterwarnings(\"ignore\", category=DeprecationWarning)\n",
    "# https://wikidocs.net/233348"
   ]
  },
  {
   "cell_type": "code",
   "execution_count": 6,
   "metadata": {},
   "outputs": [],
   "source": [
    "df = pd.read_csv('../../data/part_one_q_output.csv', index_col = 0)"
   ]
  },
  {
   "cell_type": "code",
   "execution_count": null,
   "metadata": {},
   "outputs": [],
   "source": [
    "df['question'][0]"
   ]
  },
  {
   "cell_type": "code",
   "execution_count": 8,
   "metadata": {},
   "outputs": [],
   "source": [
    "llm = OllamaLLM(model=\"llama-3.1-70b-instruct-lorablated.Q4_K_M:latest\")\n",
    "parser = StrOutputParser()\n",
    "# llm = OllamaLLM(model=\"llama3.1:70b\")\n"
   ]
  },
  {
   "cell_type": "code",
   "execution_count": null,
   "metadata": {},
   "outputs": [],
   "source": [
    "df.shape[0]"
   ]
  },
  {
   "cell_type": "code",
   "execution_count": 10,
   "metadata": {},
   "outputs": [],
   "source": [
    "df_plot = df['answer'].value_counts().to_frame().reset_index()"
   ]
  },
  {
   "cell_type": "code",
   "execution_count": null,
   "metadata": {},
   "outputs": [],
   "source": [
    "df_plot.loc[df_plot['answer']=='Difficulty class : Basic', 'count'].values[0]"
   ]
  },
  {
   "cell_type": "code",
   "execution_count": null,
   "metadata": {},
   "outputs": [],
   "source": [
    "import matplotlib.pyplot as plt\n",
    "import numpy as np\n",
    "\n",
    "x = np.arange(3)\n",
    "di_dict = {}\n",
    "for di in ['Difficulty class : Basic', 'Difficulty class : Intermediate', 'Difficulty class : Advanced']:\n",
    "    di_dict[di] = df_plot.loc[df_plot['answer']==di, 'count'].values[0]\n",
    "print(list(di_dict.values()))"
   ]
  },
  {
   "cell_type": "code",
   "execution_count": null,
   "metadata": {},
   "outputs": [],
   "source": [
    "plt.bar(  x\n",
    "        , list(di_dict.values())\n",
    "        , color = ['gold', 'darkgreen', 'lightskyblue']\n",
    "        , width = 0.8\n",
    "        , label = list(di_dict.keys()))\n",
    "plt.xticks(x, [x.replace('Difficulty class : ', '') for x in list(di_dict.keys())] )\n",
    "# plt.legend()\n",
    "\n",
    "plt.ylabel('# of Questions')\n",
    "plt.xlabel('Difficulty Class')\n",
    "# plt.xticks(rotation = 45)\n",
    "plt.title('Distribution of Questions Difficulty')\n",
    "\n",
    "plt.show()\n"
   ]
  },
  {
   "cell_type": "code",
   "execution_count": 14,
   "metadata": {},
   "outputs": [],
   "source": [
    "diff_idx = {x : list(df[df['answer']==x].index) for x in list(di_dict.keys())}"
   ]
  },
  {
   "cell_type": "code",
   "execution_count": null,
   "metadata": {},
   "outputs": [],
   "source": [
    "diff_s_idx = {}\n",
    "for key, value in diff_idx.items():\n",
    "    print(key, value)\n",
    "    dic_col = f'{key}_sample_idx'\n",
    "    diff_population = np.arange(len(value))\n",
    "    np.random.seed(1111)\n",
    "    diff_s_idx[dic_col] = np.random.choice(diff_population, size=2, replace=False)"
   ]
  },
  {
   "cell_type": "code",
   "execution_count": null,
   "metadata": {},
   "outputs": [],
   "source": [
    "diff_s_idx"
   ]
  },
  {
   "cell_type": "code",
   "execution_count": 17,
   "metadata": {},
   "outputs": [],
   "source": [
    "from itertools import chain\n",
    "\n",
    "fewshot_q_id = list(chain.from_iterable(diff_s_idx.values()))\n"
   ]
  },
  {
   "cell_type": "code",
   "execution_count": 18,
   "metadata": {},
   "outputs": [],
   "source": [
    "eval_q_id =np.setdiff1d(list(df.index), fewshot_q_id)"
   ]
  },
  {
   "cell_type": "code",
   "execution_count": null,
   "metadata": {},
   "outputs": [],
   "source": []
  },
  {
   "cell_type": "code",
   "execution_count": null,
   "metadata": {},
   "outputs": [],
   "source": []
  },
  {
   "cell_type": "code",
   "execution_count": 19,
   "metadata": {},
   "outputs": [],
   "source": [
    "examples = []\n",
    "for idx in fewshot_q_id:\n",
    "# for idx in [19]:\n",
    "    temp_dict = {\"question\" : str(df.loc[idx, 'question']),\n",
    "                 \"answer\"   : str(df.loc[idx, 'answer'])}\n",
    "    examples.append(temp_dict)"
   ]
  },
  {
   "cell_type": "code",
   "execution_count": null,
   "metadata": {},
   "outputs": [],
   "source": [
    "example_prompt = PromptTemplate.from_template(\n",
    "    \"Question:\\n{question}\\nAnswer:\\n{answer}\"\n",
    ")\n",
    "\n",
    "print(example_prompt.format(**examples[0]))"
   ]
  },
  {
   "cell_type": "code",
   "execution_count": 22,
   "metadata": {},
   "outputs": [],
   "source": [
    "prompt = FewShotPromptTemplate(\n",
    "    examples=examples,\n",
    "    example_prompt=example_prompt,\n",
    "    suffix=\"Question:\\n{question}\\nAnswer:\",\n",
    "    input_variables=[\"question\"],\n",
    ")"
   ]
  },
  {
   "cell_type": "code",
   "execution_count": null,
   "metadata": {},
   "outputs": [],
   "source": [
    "eval_result = pd.DataFrame(columns = ['id', 'result'])\n",
    "for idx in tqdm(eval_q_id):\n",
    "    question = df.loc[idx, 'question']\n",
    "    final_prompt = prompt.format(question=question)\n",
    "    chain = prompt | llm | parser\n",
    "\n",
    "    # chain 호출\n",
    "    response = chain.invoke({\"question\": question})\n",
    "    tmp_dict = {'id' : df.loc[idx, 'id']\n",
    "                ,'result' : response}\n",
    "    eval_result = pd.concat([eval_result, pd.DataFrame([tmp_dict])], ignore_index=True)"
   ]
  },
  {
   "cell_type": "code",
   "execution_count": 23,
   "metadata": {},
   "outputs": [],
   "source": [
    "result_df = pd.merge(df,eval_result, on = 'id' )"
   ]
  },
  {
   "cell_type": "code",
   "execution_count": null,
   "metadata": {},
   "outputs": [],
   "source": [
    "result_df.head()"
   ]
  },
  {
   "cell_type": "code",
   "execution_count": 25,
   "metadata": {},
   "outputs": [],
   "source": [
    "result_df['answer_diff_class'] = [x[1] for x in result_df['answer'].str.split(r\"[|:]+\")]\n"
   ]
  },
  {
   "cell_type": "code",
   "execution_count": 26,
   "metadata": {},
   "outputs": [],
   "source": [
    "result_df['result_diff_class']  = [x[0] for x in result_df['result'].str.split(r\"[|:]+\")]\n"
   ]
  },
  {
   "cell_type": "code",
   "execution_count": null,
   "metadata": {},
   "outputs": [],
   "source": [
    "result_df.head()"
   ]
  },
  {
   "cell_type": "code",
   "execution_count": null,
   "metadata": {},
   "outputs": [],
   "source": [
    "result_df"
   ]
  },
  {
   "cell_type": "code",
   "execution_count": 46,
   "metadata": {},
   "outputs": [],
   "source": [
    "result_df['answer_diff_class'] = result_df['answer_diff_class'].str.strip()\n",
    "result_df['result_diff_class'] = result_df['result_diff_class'].str.strip()"
   ]
  },
  {
   "cell_type": "code",
   "execution_count": 47,
   "metadata": {},
   "outputs": [],
   "source": [
    "result_df['answer_diff_class_0'] = [x[0] for x in result_df['answer_diff_class'].str.split(' ')]\n",
    "result_df['result_diff_class_0'] = [x[0] for x in result_df['result_diff_class'].str.split(' ')]"
   ]
  },
  {
   "cell_type": "code",
   "execution_count": 48,
   "metadata": {},
   "outputs": [],
   "source": [
    "result_df['equal_yn'] = np.where(result_df['answer_diff_class_0']==result_df['result_diff_class_0'], 1, 0)"
   ]
  },
  {
   "cell_type": "code",
   "execution_count": null,
   "metadata": {},
   "outputs": [],
   "source": [
    "acc = (result_df['equal_yn'].sum()/result_df.shape[0])*100\n",
    "print(acc)"
   ]
  },
  {
   "cell_type": "code",
   "execution_count": null,
   "metadata": {},
   "outputs": [],
   "source": [
    "result_df[result_df['equal_yn'] ==0]"
   ]
  },
  {
   "cell_type": "markdown",
   "metadata": {},
   "source": [
    "df"
   ]
  }
 ],
 "metadata": {
  "kernelspec": {
   "display_name": "venv_stackoverflow_src",
   "language": "python",
   "name": "python3"
  },
  "language_info": {
   "codemirror_mode": {
    "name": "ipython",
    "version": 3
   },
   "file_extension": ".py",
   "mimetype": "text/x-python",
   "name": "python",
   "nbconvert_exporter": "python",
   "pygments_lexer": "ipython3",
   "version": "3.10.12"
  }
 },
 "nbformat": 4,
 "nbformat_minor": 2
}
