{
 "cells": [
  {
   "cell_type": "code",
   "execution_count": 2,
   "metadata": {},
   "outputs": [
    {
     "name": "stdout",
     "output_type": "stream",
     "text": [
      "What a classic question! The sky appears blue because of a phenomenon called Rayleigh scattering, named after the British physicist Lord Rayleigh, who first described it in the late 19th century.\n",
      "\n",
      "Here's what happens: when sunlight enters Earth's atmosphere, it encounters tiny molecules of gases like nitrogen and oxygen. These molecules scatter the light in all directions, but they scatter shorter (blue) wavelengths more than longer (red) wavelengths. This is known as Rayleigh scattering.\n",
      "\n",
      "As a result, our eyes see the blue light being scattered in all directions, giving the sky its blue appearance during the daytime. The color of the sky can vary depending on atmospheric conditions, pollution levels, and even the time of day, but the basic principle remains the same.\n",
      "\n",
      "Would you like to know more about the science behind this phenomenon or is there something else I can help you with\n"
     ]
    }
   ],
   "source": [
    "import ollama \n",
    "\n",
    "response = ollama.chat(model = 'llama-3.1-70b-instruct-lorablated.Q4_K_M:latest'\n",
    "                    , messages = [{\n",
    "                                      'role' : 'user'\n",
    "                                    , 'content' : 'why sky is blue?'}]\n",
    "                        )\n",
    "print(response['message']['content'])"
   ]
  },
  {
   "cell_type": "code",
   "execution_count": 6,
   "metadata": {},
   "outputs": [],
   "source": [
    "import pandas as pd\n",
    "df = pd.read_csv('../../data/241113_llama_ver1.csv', encoding='cp949')"
   ]
  },
  {
   "cell_type": "code",
   "execution_count": 10,
   "metadata": {},
   "outputs": [
    {
     "name": "stdout",
     "output_type": "stream",
     "text": [
      "I'd be happy to help you understand the difficulty class, general ruleset, and granular breakdown of your question.\n",
      "\n",
      "**Difficulty Class:**\n",
      "The difficulty class of a question is a subjective measure of how challenging it is to answer. It's often based on factors like the complexity of the problem, the required expertise, and the amount of research needed. In this case, I would rate your question as \"Medium\" in terms of difficulty.\n",
      "\n",
      "Here's why:\n",
      "\n",
      "* The question involves basic list manipulation in Python, which is a fundamental concept.\n",
      "* However, it requires some understanding of indexing, slicing, and string concatenation.\n",
      "* The desired output is not immediately obvious, and the provided code snippet has an unexpected outcome.\n",
      "\n",
      "**General Ruleset:**\n",
      "The general ruleset for this type of question would involve:\n",
      "\n",
      "1. Understanding the problem statement and expected output.\n",
      "2. Identifying the relevant data structures (in this case, a list) and their properties.\n",
      "3. Recognizing the need to manipulate the list using indexing and slicing.\n",
      "4. Applying string concatenation techniques to achieve the desired output.\n",
      "\n",
      "**Granular Breakdown:**\n",
      "Here's a more detailed breakdown of the question:\n",
      "\n",
      "1. **Problem statement**: The user wants to replace multiple strings in a list with a single string, knowing the starting index and length of the term.\n",
      "2. **Given information**:\n",
      "\t* A list `lst` containing strings.\n",
      "\t* A term `term` that is a concatenation of multiple strings.\n",
      "\t* Starting index and length of the term.\n",
      "3. **Expected output**: A modified list with the term replaced by a single string, wrapped in `<term>` tags.\n",
      "4. **Provided code snippet**: An attempt to replace the term using slicing, which results in an unexpected outcome.\n",
      "\n",
      "To answer this question correctly, one would need to:\n",
      "\n",
      "1. Understand the problem statement and expected output.\n",
      "2. Identify the issue with the provided code snippet (i.e., why it's not producing the desired output).\n",
      "3. Apply correct indexing and slicing techniques to replace the term with a single string.\n",
      "4. Use string concatenation to wrap the term in `<term>` tags.\n",
      "\n",
      "I hope this breakdown helps you understand the question better! If you'd like, I can also provide a corrected code snippet to achieve the desired output\n"
     ]
    }
   ],
   "source": [
    "import ollama \n",
    "\n",
    "response = ollama.chat(model = 'llama-3.1-70b-instruct-lorablated.Q4_K_M:latest'\n",
    "                    , messages = [{\n",
    "                                      'role' : 'user'\n",
    "                                    , 'content' : df['input'][1]}]\n",
    "                        )\n",
    "print(response['message']['content'])"
   ]
  },
  {
   "cell_type": "code",
   "execution_count": 11,
   "metadata": {},
   "outputs": [
    {
     "name": "stdout",
     "output_type": "stream",
     "text": [
      "This is a flowchart designed to categorize Python-related questions into different levels of complexity and topics. The chart starts with a basic check to determine if the question is related to basic syntax, environment setup, or general problem-solving.\n",
      "\n",
      "Here's a breakdown of how the flowchart works:\n",
      "\n",
      "1. **Basic Level Decision Path**:\n",
      "   - If the question is about basic syntax or data types, it leads to `B1`.\n",
      "     - If `B1` requires advanced concepts, it goes to `I1` (Intermediate level).\n",
      "     - Otherwise, it's categorized as `Basic_Syntax`.\n",
      "   - If the question is about environment setup, it leads to `B2`.\n",
      "     - If `B2` requires complex settings, it goes to `I3` (Intermediate level).\n",
      "     - Otherwise, it's categorized as `Basic_Env`.\n",
      "   - If the question is about general problem-solving, it leads to `B3`.\n",
      "     - If `B3` requires optimization, it goes to `I2` (Intermediate level).\n",
      "     - Otherwise, it's categorized as `Basic_Problem`.\n",
      "\n",
      "2. **Intermediate Level Decision Path**:\n",
      "   - If the question isn't basic and is about performance or optimization, it leads to `IntCheck`.\n",
      "     - If `IntCheck` requires system-level optimization, it goes to `A1` (Advanced level).\n",
      "     - Otherwise, it's categorized as `I2`.\n",
      "   - If the question is about frameworks, it leads to `FrameworkCheck`.\n",
      "     - If `FrameworkCheck` is about architecture or security, it goes to `A2` (Advanced level).\n",
      "     - Otherwise, it's categorized as `I3`.\n",
      "\n",
      "3. **Advanced Level Decision Path**:\n",
      "   - If the question isn't intermediate and matches certain criteria (language internals, distributed systems, AI/big data), it leads to `AdvCheck`.\n",
      "     - Depending on the type, it can be categorized as `A1`, `A2`, or `A3`.\n",
      "   - If the question doesn't match these criteria but requires advanced concepts, it goes back to `IntCheck2` and then either to `I1` (if it requires advanced features) or `Basic_Problem`.\n",
      "\n",
      "The flowchart also includes styling for different levels of complexity (basic, intermediate, advanced) and subgraphs that outline the required knowledge for each level.\n",
      "\n",
      "Overall, this flowchart is designed to help categorize Python-related questions based on their complexity and topic, making it easier to identify the type of expertise needed to answer them.\n"
     ]
    }
   ],
   "source": [
    "\n",
    "response = ollama.chat(model = 'llama-3.1-70b-instruct-lorablated.Q4_K_M:latest'\n",
    "                    , messages = [{\n",
    "                                      'role' : 'user'\n",
    "                                    , 'content' : 'Can you understand the flowchart below? \\\n",
    "  flowchart TD \\\n",
    "      Start([Python 질문]) --> BasicCheck{기본 문법/환경<br>관련 질문인가?} \\\n",
    "      %% Basic Level Decision Path \\\n",
    "      BasicCheck -->|Yes| B1{문법/데이터타입<br>관련인가?} \\\n",
    "      B1 -->|Yes| SyntaxCheck{심화 개념이<br>필요한가?} \\\n",
    "      SyntaxCheck -->|No| Basic_Syntax[B1-Syntax] \\\n",
    "      SyntaxCheck -->|Yes| I1[I1-Advanced Features] \\\n",
    " \\\n",
    "      B1 -->|No| B2{환경설정<br>관련인가?} \\\n",
    "      B2 -->|Yes| EnvCheck{복잡한 설정이<br>필요한가?} \\\n",
    "      EnvCheck -->|No| Basic_Env[B2-Environment] \\\n",
    "      EnvCheck -->|Yes| I3[I3-Frameworks] \\\n",
    "\\\n",
    "      B2 -->|No| B3{일반적인<br>문제해결인가?} \\\n",
    "      B3 -->|Yes| ProblemCheck{최적화가<br>필요한가?} \\\n",
    "      ProblemCheck -->|No| Basic_Problem[B3-Common Problems] \\\n",
    "      ProblemCheck -->|Yes| I2[I2-Performance] \\\n",
    "       \\\n",
    "      %% Intermediate Level Decision Path \\\n",
    "      BasicCheck -->|No| IntCheck{성능/최적화<br>관련 질문인가?} \\\n",
    "       \\\n",
    "      IntCheck -->|Yes| OptimizeCheck{시스템 수준<br>최적화인가?} \\\n",
    "      OptimizeCheck -->|No| I2 \\\n",
    "      OptimizeCheck -->|Yes| A1[A1-Language Internals] \\\n",
    "  \\\n",
    "      IntCheck -->|No| FrameworkCheck{프레임워크<br>관련 질문인가?} \\\n",
    "       \\\n",
    "      FrameworkCheck -->|Yes| FCheck{아키텍처/보안<br>관련인가?} \\\n",
    "      FCheck -->|No| I3 \\\n",
    "      FCheck -->|Yes| A2[A2-System Architecture] \\\n",
    " \\\n",
    "      %% Advanced Level Decision Path \\\n",
    "      FrameworkCheck -->|No| AdvCheck{다음 중 해당하는가?<br>1. 언어 내부 구조<br>2. 분산 시스템<br>3. AI/빅데이터} \\\n",
    " \\\n",
    "      AdvCheck -->|Yes| AType{어떤 유형인가?} \\\n",
    "      AType -->|언어 내부 구조| A1 \\\n",
    "      AType -->|분산 시스템| A2 \\\n",
    "      AType -->|AI/빅데이터| A3[A3-Data & AI] \\\n",
    " \\\n",
    "      AdvCheck -->|No| IntCheck2{심화 개념이<br>필요한가?} \\\n",
    "      IntCheck2 -->|Yes| I1 \\\n",
    "      IntCheck2 -->|No| Basic_Problem \\\n",
    " \\\n",
    "      %% Styling \\\n",
    "      classDef basic fill:#90EE90,stroke:#000,stroke-width:2px \\\n",
    "      classDef intermediate fill:#87CEEB,stroke:#000,stroke-width:2px \\\n",
    "      classDef advanced fill:#FFB6C1,stroke:#000,stroke-width:2px \\\n",
    " \\\n",
    "      class Basic_Syntax,Basic_Env,Basic_Problem basic \\\n",
    "      class I1,I2,I3 intermediate \\\n",
    "      class A1,A2,A3 advanced \\\n",
    " \\\n",
    "      %% Subgraphs for required knowledge \\\n",
    "      subgraph Basic Level Knowledge \\\n",
    "          direction TB \\\n",
    "          Basic_Syntax --- K1[기본 문법/타입 변환] \\\n",
    "          Basic_Env --- K2[패키지 관리/가상환경] \\\n",
    "          Basic_Problem --- K3[에러 처리/파일 처리] \\\n",
    "      end \\\n",
    " \\\n",
    "      subgraph Intermediate Level Knowledge \\\n",
    "          direction TB \\\n",
    "          I1 --- K4[데코레이터/제너레이터/OOP] \\\n",
    "          I2 --- K5[성능 최적화/자료구조] \\\n",
    "          I3 --- K6[웹 프레임워크/ORM] \\\n",
    "      end \\\n",
    " \\\n",
    "      subgraph Advanced Level Knowledge \\\n",
    "          direction TB \\\n",
    "          A1 --- K7[Python 내부구조/GIL/메모리] \\\n",
    "          A2 --- K8[분산시스템/확장성/보안] \\\n",
    "          A3 --- K9[ML/빅데이터/스트림처리] \\\n",
    "      end \\\n",
    "'}]\n",
    "                        )\n",
    "print(response['message']['content'])"
   ]
  },
  {
   "cell_type": "code",
   "execution_count": null,
   "metadata": {},
   "outputs": [],
   "source": [
    "# https://www.markhneedham.com/blog/2023/10/11/ollama-few-shot-prompting-experiments-llama2-7b/"
   ]
  },
  {
   "cell_type": "code",
   "execution_count": 13,
   "metadata": {},
   "outputs": [
    {
     "name": "stdout",
     "output_type": "stream",
     "text": [
      "Based on the provided flowchart, I will analyze the difficulty level of the given programming question.\n",
      "\n",
      "**Difficulty Class:** Intermediate Level Knowledge\n",
      "\n",
      "The question involves a multi-component setup with gunicorn, Flask, and Bokeh, which indicates that it's not a basic syntax or environment-related issue. The problem requires understanding of how these components interact and how to configure them for a specific use case (multi-user support).\n",
      "\n",
      "**General Ruleset:**\n",
      "\n",
      "1. The question is about performance/optimization (running with 4 workers).\n",
      "2. It involves frameworks (gunicorn, Flask) and their configuration.\n",
      "3. The issue is related to the interaction between these components.\n",
      "\n",
      "**Granular Breakdown:**\n",
      "\n",
      "Following the flowchart:\n",
      "\n",
      "* `BasicCheck`: No, it's not a basic syntax or environment-related question.\n",
      "* `IntCheck`: Yes, it's about performance/optimization (running with 4 workers).\n",
      "* `OptimizeCheck`: No, it's not system-level optimization.\n",
      "* `FrameworkCheck`: Yes, it involves frameworks (gunicorn, Flask) and their configuration.\n",
      "* `FCheck`: No, it's not about architecture/security.\n",
      "\n",
      "Based on the flowchart, this question falls under the category of **I3 - Frameworks**.\n",
      "\n",
      "**Required Knowledge:**\n",
      "\n",
      "To solve this problem, one would need knowledge of:\n",
      "\n",
      "* K6 - Web frameworks/ORM (specifically gunicorn and Flask)\n",
      "* Understanding of how to configure these frameworks for multi-user support\n",
      "* Familiarity with Bokeh and its integration with Flask\n",
      "\n",
      "Therefore, the formatted response is:\n",
      "Intermediate Level Knowledge | I3-Frameworks | Web frameworks/ORM (gunicorn, Flask), Multi-user support configuration, Bokeh-Flask integration\n"
     ]
    }
   ],
   "source": [
    "import ollama \n",
    "\n",
    "response = ollama.chat(model = 'llama-3.1-70b-instruct-lorablated.Q4_K_M:latest'\n",
    "                    , messages = [{\n",
    "                                      'role' : 'user'\n",
    "                                    , 'content' : df['input'][0]}]\n",
    "                        )\n",
    "print(response['message']['content'])"
   ]
  },
  {
   "cell_type": "code",
   "execution_count": 14,
   "metadata": {},
   "outputs": [
    {
     "data": {
      "text/plain": [
       "'Here is the question about software development. The title of the question is \"Why is this gunicorn, flask, bokeh application not running with 4 workers?\". and body of the question is \"<p>I am learning to use gunicorn, flask and bokeh.\\nI am trying to set up a little example to use a bokeh app with multiuser. I am working on a debian system on an AWS server with a static IP. I used the <a href=\"https://github.com/bokeh/bokeh/blob/2.4.3/examples/howto/server_embed/flask_gunicorn_embed.py\" rel=\"nofollow noreferrer\">example from git</a> and edited it in the way I think it should work. I got it to run with this command:</p>\\n<pre><code>gunicorn3 -w 1 --bind 0.0.0.0:8000 wsgi:app\\n</code></pre>\\n<p>But when I change the workers to 4 and the binded port from 5006 to 0 (flaskapp.py), I get this error in the browser console:</p>\\n<blockquote>\\n<p>:34163/bkapp/autoload.js?bokeh-autoload-element=4755&amp;bokeh-app-path=/bkapp&amp;bokeh-absolute-url=http://35.XXX.XXX.153:34163/bkapp:1          Failed to load resource: net::ERR_CONNECTION_TIMED_OUT</p>\\n</blockquote>\\n<p>Can someone tell me, why I get this error?</p>\\n<p>Here is the relevant code:</p>\\n<p><strong>flaskapp.py</strong></p>\\n<pre><code>\\nimport asyncio\\nfrom threading import Thread\\n\\nfrom flask import Flask, render_template\\nfrom tornado.httpserver import HTTPServer\\nfrom tornado.ioloop import IOLoop\\n\\nfrom bokeh.application import Application\\nfrom bokeh.application.handlers import FunctionHandler\\nfrom bokeh.embed import server_document\\nfrom bokeh.layouts import column\\nfrom bokeh.models import ColumnDataSource, Slider\\nfrom bokeh.plotting import figure\\nfrom bokeh.sampledata.sea_surface_temperature import sea_surface_temperature\\nfrom bokeh.server.server import BaseServer\\nfrom bokeh.server.tornado import BokehTornado\\nfrom bokeh.server.util import bind_sockets\\nfrom bokeh.themes import Theme\\n\\napp = Flask(__name__)\\n\\ndef bkapp(doc):\\ndf = sea_surface_temperature.copy()\\nsource = ColumnDataSource(data=df)\\n\\n    plot = figure(x_axis_type=\\'datetime\\', y_range=(0, 25), y_axis_label=\\'Temperature (Celsius)\\',\\n                  title=&quot;Sea Surface Temperature at 43.18, -70.43&quot;)\\n    plot.line(\\'time\\', \\'temperature\\', source=source)\\n    \\n    def callback(attr, old, new):\\n        if new == 0:\\n            data = df\\n        else:\\n            data = df.rolling(f&quot;{new}D&quot;).mean()\\n        source.data = ColumnDataSource.from_df(data)\\n    \\n    slider = Slider(start=0, end=30, value=0, step=1, title=&quot;Smoothing by N Days&quot;)\\n    slider.on_change(\\'value\\', callback)\\n    \\n    doc.add_root(column(slider, plot))\\n    \\n    doc.theme = Theme(filename=&quot;theme.yaml&quot;)\\n\\n# can\\'t use shortcuts here, since we are passing to low level BokehTornado\\n\\nbkapp = Application(FunctionHandler(bkapp))\\n\\n# This is so that if this app is run using something like &quot;gunicorn -w 4&quot; then\\n\\n# each process will listen on its own port\\n\\nsockets, port = bind_sockets(&quot;0.0.0.0&quot;, 0)\\n\\n@app.route(\\'/\\', methods=\\\\[\\'GET\\'\\\\])\\ndef bkapp_page():\\nscript = server_document(\\'http://35.XXX.XXX.153:%d/bkapp\\' % port)\\nprint(&quot;app port: %s&quot;, port)\\nreturn render_template(&quot;embed.html&quot;, script=script, template=&quot;Flask&quot;)\\n\\ndef bk_worker():\\nasyncio.set_event_loop(asyncio.new_event_loop())\\n\\n    bokeh_tornado = BokehTornado({\\'/bkapp\\': bkapp}, extra_websocket_origins=[&quot;*&quot;])\\n    bokeh_http = HTTPServer(bokeh_tornado)\\n    bokeh_http.add_sockets(sockets)\\n    \\n    server = BaseServer(IOLoop.current(), bokeh_tornado, bokeh_http)\\n    server.start()\\n    server.io_loop.start()\\n\\nt = Thread(target=bk_worker)\\nt.daemon = True\\nt.start()\\n</code></pre>\\n<p><strong>wsgi.py</strong></p>\\n<pre><code>\\nfrom flaskapp import app\\n\\nif __name__ == &quot;__main__&quot;:\\napp.run()\\n</code></pre>\\n<p><strong>embed.html</strong></p>\\n<pre><code>\\n\\\\&lt;!DOCTYPE html\\\\&gt;\\n\\\\&lt;html lang=&quot;en&quot;\\\\&gt;\\n\\\\&lt;head\\\\&gt;\\n\\\\&lt;meta charset=&quot;utf-8&quot;\\\\&gt;\\n{{ bokeh_css }}\\n{{ bokeh_js }}\\n\\\\&lt;link rel=&quot;stylesheet&quot; href=&quot;./static/css/styles.css&quot; type=&quot;text/css&quot;/\\\\&gt;\\n\\\\&lt;link rel=&quot;shortcut icon&quot; href=&quot;./static/favicon/favicon.ico&quot; type=&quot;image/x-icon&quot;\\\\&gt;\\n\\\\&lt;/head\\\\&gt;\\n\\\\&lt;body\\\\&gt;\\n\\\\&lt;div class=&quot;head&quot;\\\\&gt;\\n\\\\&lt;a href=&quot;http://&quot;\\\\&gt;\\\\&lt;img src=&quot;./static/images/logo.png&quot; width=&quot;93px&quot; height=&quot;36px&quot;/\\\\&gt;\\\\&lt;/a\\\\&gt;\\n\\\\&lt;/div\\\\&gt;\\n\\\\&lt;div class=&quot;body&quot;\\\\&gt;\\n{{ script|safe }}\\n\\\\&lt;/div\\\\&gt;\\n\\\\&lt;/body\\\\&gt;\\n\\\\&lt;/html\\\\&gt;\\n</code></pre>\\n\". Please explain about the \\'difficulty class\\' and \\'general ruleset\\' and \\'grenular breakdown\\' for question'"
      ]
     },
     "execution_count": 14,
     "metadata": {},
     "output_type": "execute_result"
    }
   ],
   "source": [
    "df['input'][0]"
   ]
  },
  {
   "cell_type": "code",
   "execution_count": null,
   "metadata": {},
   "outputs": [],
   "source": []
  }
 ],
 "metadata": {
  "kernelspec": {
   "display_name": "venv_stackoverflow_src",
   "language": "python",
   "name": "python3"
  },
  "language_info": {
   "codemirror_mode": {
    "name": "ipython",
    "version": 3
   },
   "file_extension": ".py",
   "mimetype": "text/x-python",
   "name": "python",
   "nbconvert_exporter": "python",
   "pygments_lexer": "ipython3",
   "version": "3.10.12"
  }
 },
 "nbformat": 4,
 "nbformat_minor": 2
}
