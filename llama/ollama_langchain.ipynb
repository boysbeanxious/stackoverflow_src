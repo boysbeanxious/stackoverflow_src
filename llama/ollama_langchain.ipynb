{
 "cells": [
  {
   "cell_type": "code",
   "execution_count": 1,
   "metadata": {},
   "outputs": [],
   "source": [
    "# https://wikidocs.net/233348"
   ]
  },
  {
   "cell_type": "code",
   "execution_count": 2,
   "metadata": {},
   "outputs": [],
   "source": [
    "# pip install langchain"
   ]
  },
  {
   "cell_type": "code",
   "execution_count": 3,
   "metadata": {},
   "outputs": [],
   "source": [
    "# pip install -U langchain-ollama"
   ]
  },
  {
   "cell_type": "code",
   "execution_count": 4,
   "metadata": {},
   "outputs": [],
   "source": [
    "# pip install langchain_teddynote\n",
    "#  ollama create llama-3.1-70b-instruct-lorablated.Q4_K_M:latest -f Modelfile"
   ]
  },
  {
   "cell_type": "code",
   "execution_count": 1,
   "metadata": {},
   "outputs": [],
   "source": [
    "\n",
    "import warnings\n",
    "import langchain\n",
    "from langchain_ollama.llms import OllamaLLM\n",
    "from langchain_core.prompts.few_shot import FewShotPromptTemplate\n",
    "from langchain_core.prompts import PromptTemplate\n",
    "from langchain_core.output_parsers import StrOutputParser\n",
    "from langchain_teddynote.messages import stream_response\n",
    "from langchain_core.prompts import ChatPromptTemplate\n",
    "import pandas as pd\n",
    "import numpy as np\n",
    "\n",
    "warnings.filterwarnings(\"ignore\", category=DeprecationWarning)\n",
    "# https://wikidocs.net/233348"
   ]
  },
  {
   "cell_type": "code",
   "execution_count": 2,
   "metadata": {},
   "outputs": [],
   "source": [
    "df = pd.read_csv('../../data/q_output.csv')"
   ]
  },
  {
   "cell_type": "code",
   "execution_count": 3,
   "metadata": {},
   "outputs": [],
   "source": [
    "llm = OllamaLLM(model=\"llama-3.1-70b-instruct-lorablated.Q4_K_M:latest\")"
   ]
  },
  {
   "cell_type": "code",
   "execution_count": 4,
   "metadata": {},
   "outputs": [
    {
     "data": {
      "text/plain": [
       "44"
      ]
     },
     "execution_count": 4,
     "metadata": {},
     "output_type": "execute_result"
    }
   ],
   "source": [
    "df.shape[0]"
   ]
  },
  {
   "cell_type": "code",
   "execution_count": 5,
   "metadata": {},
   "outputs": [],
   "source": [
    "df=df[['question', 'answer']]"
   ]
  },
  {
   "cell_type": "code",
   "execution_count": 6,
   "metadata": {},
   "outputs": [],
   "source": [
    "population = np.arange(44)\n",
    "np.random.seed(19)\n",
    "first_ann_q_id = np.random.choice(population, size=20, replace=False)\n"
   ]
  },
  {
   "cell_type": "code",
   "execution_count": 7,
   "metadata": {},
   "outputs": [
    {
     "data": {
      "text/plain": [
       "array([14, 25, 13, 21, 43,  6, 41,  1,  0, 32])"
      ]
     },
     "execution_count": 7,
     "metadata": {},
     "output_type": "execute_result"
    }
   ],
   "source": [
    "first_ann_q_id"
   ]
  },
  {
   "cell_type": "code",
   "execution_count": 8,
   "metadata": {},
   "outputs": [
    {
     "data": {
      "text/plain": [
       "9"
      ]
     },
     "execution_count": 8,
     "metadata": {},
     "output_type": "execute_result"
    }
   ],
   "source": [
    "len(first_ann_q_id[:-1])"
   ]
  },
  {
   "cell_type": "code",
   "execution_count": 9,
   "metadata": {},
   "outputs": [],
   "source": [
    "examples = []\n",
    "for idx in first_ann_q_id[:-5]:\n",
    "# for idx in [19]:\n",
    "    temp_dict = {\"question\" : str(df.iloc[idx, 0]),\n",
    "                 \"answer\"   : str(df.iloc[idx, 1])}\n",
    "    examples.append(temp_dict)"
   ]
  },
  {
   "cell_type": "code",
   "execution_count": 10,
   "metadata": {},
   "outputs": [
    {
     "data": {
      "text/plain": [
       "array([14, 25, 13, 21, 43,  6, 41,  1,  0, 32])"
      ]
     },
     "execution_count": 10,
     "metadata": {},
     "output_type": "execute_result"
    }
   ],
   "source": [
    "first_ann_q_id"
   ]
  },
  {
   "cell_type": "code",
   "execution_count": 11,
   "metadata": {},
   "outputs": [
    {
     "name": "stdout",
     "output_type": "stream",
     "text": [
      "Question: Here is the question about software development. The title of the question is \"Expired tokens are not deleted after expiration in django-rest-knox 4.1.0\". and body of the question is \"I am using django-rest-knox 4.1.0 . In its documentation it says that expired tokens are deleted automatically. But it is not deleting the tokens.\n",
      "\n",
      "\n",
      "\n",
      "\n",
      "In settings.py I gave 10 minutes for expiration of token (for testing purposes). \";TOKEN_TTL\";: timedelta(minutes=10)\n",
      "I check the database after that time, they are not deleted. pgadmin knox token table Also I try to send request with those expired tokens, the respond is successful.\n",
      "\". Please answer briefly about the \"difficulty class\" and \"general ruleset\" and \"grenular breakdown\" for the question *||* Answer:Difficulty class : Advanced Level Knowledge | General rule set : A2-System Architecture | Granular breakdown : 분산시스템/확장성/보안\n"
     ]
    }
   ],
   "source": [
    "example_prompt = PromptTemplate.from_template(\n",
    "    \"Question: {question} *||* Answer:{answer}\"\n",
    ")\n",
    "\n",
    "print(example_prompt.format(**examples[0]))"
   ]
  },
  {
   "cell_type": "code",
   "execution_count": 12,
   "metadata": {},
   "outputs": [],
   "source": [
    "prompt = FewShotPromptTemplate(\n",
    "    examples=examples,\n",
    "    example_prompt=example_prompt,\n",
    "    suffix=\"Question: {question} *||* Answer:\",\n",
    "    input_variables=[\"question\"],\n",
    ")"
   ]
  },
  {
   "cell_type": "code",
   "execution_count": 13,
   "metadata": {},
   "outputs": [
    {
     "data": {
      "text/plain": [
       "32"
      ]
     },
     "execution_count": 13,
     "metadata": {},
     "output_type": "execute_result"
    }
   ],
   "source": [
    "first_ann_q_id[-1]"
   ]
  },
  {
   "cell_type": "code",
   "execution_count": 14,
   "metadata": {},
   "outputs": [
    {
     "name": "stdout",
     "output_type": "stream",
     "text": [
      "Question: Here is the question about software development. The title of the question is \"Expired tokens are not deleted after expiration in django-rest-knox 4.1.0\". and body of the question is \"I am using django-rest-knox 4.1.0 . In its documentation it says that expired tokens are deleted automatically. But it is not deleting the tokens.\n",
      "\n",
      "\n",
      "\n",
      "\n",
      "In settings.py I gave 10 minutes for expiration of token (for testing purposes). \";TOKEN_TTL\";: timedelta(minutes=10)\n",
      "I check the database after that time, they are not deleted. pgadmin knox token table Also I try to send request with those expired tokens, the respond is successful.\n",
      "\". Please answer briefly about the \"difficulty class\" and \"general ruleset\" and \"grenular breakdown\" for the question *||* Answer:Difficulty class : Advanced Level Knowledge | General rule set : A2-System Architecture | Granular breakdown : 분산시스템/확장성/보안\n",
      "\n",
      "Question: Here is the question about software development. The title of the question is \"Add error handling in Python API call for Meraki\". and body of the question is \"I have this script to make an API call using the meraki python module to query a Meraki device.\n",
      "I'm trying to add some error handling in the code so that if the API call comes back with an error code, it will do something else. I cannot seem to figure out what to do.\n",
      "Here is my simple code to just query a device:\n",
      "\n",
      "\n",
      "\n",
      "\n",
      "When I run the script it will return either a \";200 OK\"; or \";404 Not Found\";\n",
      "Terminal window response:\n",
      "\n",
      "\n",
      "\n",
      "\n",
      "or\n",
      "\n",
      "\n",
      "\n",
      "\n",
      "The purpose of this script is to check to see if the serial number has already been assigned to a user / network. If it is available, I'll get a \";404 Not Found\"; and if it has already been assigned to someone, I'll get a \";404 Not Found\";.\n",
      "How can I detect and handle the 404 case?\n",
      "\". Please answer briefly about the \"difficulty class\" and \"general ruleset\" and \"grenular breakdown\" for the question *||* Answer:Difficulty class : Intermediate Level  | General rule set : I1-Advanced Features | Granular breakdown : 데코레이터/제너레이터/OOP\n",
      "\n",
      "Question: Here is the question about software development. The title of the question is \"Model.fit tensorflow Issue\". and body of the question is \"model.fit(X_train, y_train, batch_size=128, epochs=30)\n",
      "i am using this and i got this error\n",
      "Epoch 1/30\n",
      "Output exceeds the size limit. Open the full output data in a text editor\n",
      "UnimplementedError                        Traceback (most recent call last)\n",
      "~\\AppData\\Local\\Temp\\ipykernel_1768\\4221927022.py in \n",
      "---->; 1 model.fit(X_train, y_train, batch_size=128, epochs=30)\n",
      "c:\\Users\\decil\\anaconda3\\lib\\site-packages\\keras\\utils\\traceback_utils.py in error_handler(*args, **kwargs)\n",
      "68             # To get the full stack trace, call:\n",
      "69             # tf.debugging.disable_traceback_filtering()\n",
      "--->; 70             raise e.with_traceback(filtered_tb) from None\n",
      "71         finally:\n",
      "72             del filtered_tb\n",
      "c:\\Users\\decil\\anaconda3\\lib\\site-packages\\tensorflow\\python\\eager\\execute.py in quick_execute(op_name, num_outputs, inputs, attrs, ctx, name)\n",
      "50   try:\n",
      "51     ctx.ensure_initialized()\n",
      "--->; 52     tensors = pywrap_tfe.TFE_Py_Execute(ctx._handle, device_name, op_name,\n",
      "53                                         inputs, attrs, num_outputs)\n",
      "54   except core._NotOkStatusException as e:\n",
      "UnimplementedError: Graph execution error:\n",
      "Detected at node 'sequential/Cast' defined at (most recent call last):\n",
      "File \";c:\\Users\\decil\\anaconda3\\lib\\runpy.py\";, line 197, in _run_module_as_main\n",
      "return _run_code(code, main_globals, None,\n",
      "File \";c:\\Users\\decil\\anaconda3\\lib\\runpy.py\";, line 87, in _run_code\n",
      "...\n",
      "File \";c:\\Users\\decil\\anaconda3\\lib\\site-packages\\keras\\engine\\functional.py\";, line 762, in _conform_to_reference_input\n",
      "tensor = tf.cast(tensor, dtype=ref_input.dtype)\n",
      "Node: 'sequential/Cast'\n",
      "Cast string to float is not supported\n",
      "[[{node sequential/Cast}]] [Op:__inference_train_function_529]\n",
      "Please help me in this issue\n",
      "\". Please answer briefly about the \"difficulty class\" and \"general ruleset\" and \"grenular breakdown\" for the question *||* Answer:Difficulty class : Advanced Level Knowledge | General rule set : A3-Data & AI | Granular breakdown : ML/빅데이터/스트림처리\n",
      "\n",
      "Question: Here is the question about software development. The title of the question is \"python: topic clusters with dendrogram\". and body of the question is \"I have a list of keywords that I want to regroup by clusters based on semantic meaning. I try to use dendrogramalgorithm. So it's actually working well: it's returning the clusters ID, but I don't know how to associate every keyword to the appropriate cluster. Here is my code:\n",
      "\n",
      "\n",
      "\n",
      "\n",
      "This will return [12, 5, 22] because self.n_clusters=3 which is normal. So how can I make the association with the keywords?\n",
      "\". Please answer briefly about the \"difficulty class\" and \"general ruleset\" and \"grenular breakdown\" for the question *||* Answer:Difficulty class : Advanced Level Knowledge | General rule set : A3-Data & AI | Granular breakdown : ML/빅데이터/스트림처리\n",
      "\n",
      "Question: Here is the question about software development. The title of the question is \"How to write comprehension list in python\". and body of the question is \"I want to transform this :\n",
      "\n",
      "\n",
      "\n",
      "\n",
      "Into this:\n",
      "\n",
      "\n",
      "\n",
      "\n",
      "I don't know how to do it well and I have this error:\n",
      "\n",
      "\n",
      "\n",
      "\n",
      "I've tried to put () and [] and even , I don't know what to try\n",
      "\". Please answer briefly about the \"difficulty class\" and \"general ruleset\" and \"grenular breakdown\" for the question *||* Answer:Difficulty class : Basic Level Knowledge | General rule set : B1-Syntax | Granular breakdown : 기본 문법/타입 변환\n",
      "\n",
      "Question: Here is the question about software development. The title of the question is \"Strange error: TypeError: forward() takes 2 positional arguments but 3 were given\". and body of the question is \"I am trying to train a VAE model. However I keep getting the following error:\n",
      "\n",
      "\n",
      "\n",
      "\n",
      "I tried many combinations of arguments but nothing seems to work. Can you spot the error?\n",
      "As you can see in the following model, the forward function was called in the train() function with only two arguments and not 3. Also the error hints at the line self.encoder(x, edge_index). But when I try to remove one of these arguments, I get an error saying not enough arguments.\n",
      "Here is my model:\n",
      "\n",
      "\n",
      "\n",
      "\n",
      "and here is my train function:\n",
      "\n",
      "\n",
      "\n",
      "\n",
      "Here is the code I am using to train the model:\n",
      "\n",
      "\n",
      "\n",
      "\n",
      "\". Please answer briefly about the \"difficulty class\" and \"general ruleset\" and \"grenular breakdown\" for the question *||* Answer:Difficulty class : Intermediate Level  | General rule set : I1-Advanced Features | Granular breakdown : 데코레이터/제너레이터/OOP\n",
      "\n",
      "Question: Here is the question about software development. The title of the question is \"What is wrong with my ARIMA model script?\". and body of the question is \"I have to create ARIMA model for U.S GDP forecast. However, script does not work at all and I cannot fix that.\n",
      "I created a code\n",
      "\n",
      "\n",
      "\n",
      "\n",
      "And result are always the same:\n",
      "\n",
      "\n",
      "\n",
      "\n",
      "\". Please answer briefly about the \"difficulty class\" and \"general ruleset\" and \"grenular breakdown\" for the question *||* Answer:Difficulty class : Advanced Level Knowledge | General rule set : A3-Data & AI | Granular breakdown : ML/빅데이터/스트림처리\n",
      "\n",
      "Question: Here is the question about software development. The title of the question is \"replace multiple strings in a list with a single string by knowing the index\". and body of the question is \"I want to replace multiple strings in a list with a single string by knowing the index. Of course I looked at this question: search for element in list and replace it by multiple items But for my case it is inverse, suppose I have a list as follow:\n",
      "\n",
      "\n",
      "\n",
      "\n",
      "I know that I have a term:\n",
      "\n",
      "\n",
      "\n",
      "\n",
      "I also know the starting index and the length of that term\n",
      "\n",
      "\n",
      "\n",
      "\n",
      "I got this result:\n",
      "\n",
      "\n",
      "\n",
      "\n",
      "However, my expected output:\n",
      "\n",
      "\n",
      "\n",
      "\n",
      "How can I adjust this to get the desired output?\n",
      "\". Please answer briefly about the \"difficulty class\" and \"general ruleset\" and \"grenular breakdown\" for the question *||* Answer:Difficulty class : Basic Level Knowledge | General rule set : B1-Syntax | Granular breakdown : 기본 문법/타입 변환\n",
      "\n",
      "Question: Here is the question about software development. The title of the question is \"Why is this gunicorn, flask, bokeh application not running with 4 workers?\". and body of the question is \"I am learning to use gunicorn, flask and bokeh.\n",
      "I am trying to set up a little example to use a bokeh app with multiuser. I am working on a debian system on an AWS server with a static IP. I used the example from git and edited it in the way I think it should work. I got it to run with this command:\n",
      "\n",
      "\n",
      "\n",
      "\n",
      "But when I change the workers to 4 and the binded port from 5006 to 0 (flaskapp.py), I get this error in the browser console:\n",
      "\n",
      ":34163/bkapp/autoload.js?bokeh-autoload-element=4755&;bokeh-app-path=/bkapp&;bokeh-absolute-url=http://35.XXX.XXX.153:34163/bkapp:1          Failed to load resource: net::ERR_CONNECTION_TIMED_OUT\n",
      "\n",
      "Can someone tell me, why I get this error?\n",
      "Here is the relevant code:\n",
      "flaskapp.py\n",
      "\n",
      "\n",
      "\n",
      "\n",
      "wsgi.py\n",
      "\n",
      "\n",
      "\n",
      "\n",
      "embed.html\n",
      "\n",
      "\n",
      "\n",
      "\n",
      "\". Please answer briefly about the \"difficulty class\" and \"general ruleset\" and \"grenular breakdown\" for the question *||* Answer:Difficulty class : Intermediate Level | General rule set : I3-Frameworks | Granular breakdown : 웹 프레임워크/ORM\n",
      "\n",
      "Question: Here is the question about software development. The title of the question is \"Numba and Cython not providing performance improvements over regular Python\". and body of the question is \"I have some Python code that I have been trying to speed up with Numba and then Cython. Numba is about 2x slower (one issue is it doesn't support np.var with an axis argument but that can't be the only cause), and Cython runs in more or less exactly the same time.\n",
      "Here is the Numba version:\n",
      "\n",
      "\n",
      "\n",
      "\n",
      "and the Cython version\n",
      "\n",
      "\n",
      "\n",
      "\n",
      "and the original Python\n",
      "\n",
      "\n",
      "\n",
      "\n",
      "Is it surprising that there is no performance improvement moving to Numba or Cython, and is there anything I can do to improve performance?\n",
      "\". Please answer briefly about the \"difficulty class\" and \"general ruleset\" and \"grenular breakdown\" for the question *||* Answer:\n"
     ]
    }
   ],
   "source": [
    "question = df.iloc[first_ann_q_id[-1], 0]\n",
    "final_prompt = prompt.format(question=question)\n",
    "print(final_prompt)\n"
   ]
  },
  {
   "cell_type": "code",
   "execution_count": 15,
   "metadata": {},
   "outputs": [],
   "source": [
    "chain = prompt | llm\n",
    "\n",
    "# chain 호출\n",
    "response = chain.invoke({\"question\": question})"
   ]
  },
  {
   "cell_type": "code",
   "execution_count": 16,
   "metadata": {},
   "outputs": [
    {
     "name": "stdout",
     "output_type": "stream",
     "text": [
      "Difficulty class : Intermediate Level  | General rule set : I2-Performance | Granular breakdown : 성능 최적화/데이터 구조\n"
     ]
    }
   ],
   "source": [
    "print(response)"
   ]
  },
  {
   "cell_type": "code",
   "execution_count": 17,
   "metadata": {},
   "outputs": [
    {
     "data": {
      "text/plain": [
       "'Difficulty class : Intermediate Level  | General rule set : I2-Performance | Granular breakdown : 성능 최적화/자료구조'"
      ]
     },
     "execution_count": 17,
     "metadata": {},
     "output_type": "execute_result"
    }
   ],
   "source": [
    "df.iloc[first_ann_q_id[-1], 1]"
   ]
  },
  {
   "cell_type": "code",
   "execution_count": null,
   "metadata": {},
   "outputs": [],
   "source": []
  }
 ],
 "metadata": {
  "kernelspec": {
   "display_name": "venv_stackoverflow_src",
   "language": "python",
   "name": "python3"
  },
  "language_info": {
   "codemirror_mode": {
    "name": "ipython",
    "version": 3
   },
   "file_extension": ".py",
   "mimetype": "text/x-python",
   "name": "python",
   "nbconvert_exporter": "python",
   "pygments_lexer": "ipython3",
   "version": "3.10.12"
  }
 },
 "nbformat": 4,
 "nbformat_minor": 2
}
