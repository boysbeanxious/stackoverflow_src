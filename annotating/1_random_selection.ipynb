{
 "cells": [
  {
   "cell_type": "code",
   "execution_count": 23,
   "metadata": {},
   "outputs": [],
   "source": [
    "import pandas as pd\n",
    "import matplotlib.pyplot as plt\n",
    "import numpy as np\n",
    "import pickle"
   ]
  },
  {
   "cell_type": "code",
   "execution_count": 24,
   "metadata": {},
   "outputs": [],
   "source": [
    "# 파일 불러오기\n",
    "with open('../../data/ann_qid.pkl', 'rb') as f:\n",
    "    df = pickle.load(f)\n"
   ]
  },
  {
   "cell_type": "code",
   "execution_count": 25,
   "metadata": {},
   "outputs": [],
   "source": [
    "df.reset_index(inplace=True)"
   ]
  },
  {
   "cell_type": "code",
   "execution_count": 26,
   "metadata": {},
   "outputs": [],
   "source": [
    "min_idx = df['index'].min()\n",
    "max_idx = df['index'].max()"
   ]
  },
  {
   "cell_type": "code",
   "execution_count": 27,
   "metadata": {},
   "outputs": [
    {
     "name": "stdout",
     "output_type": "stream",
     "text": [
      "0\n",
      "153020\n"
     ]
    }
   ],
   "source": [
    "print(min_idx)\n",
    "print(max_idx)"
   ]
  },
  {
   "cell_type": "code",
   "execution_count": 28,
   "metadata": {},
   "outputs": [],
   "source": [
    "population = np.arange(153021)"
   ]
  },
  {
   "cell_type": "code",
   "execution_count": 29,
   "metadata": {},
   "outputs": [],
   "source": [
    "# np.random.seed(10)\n",
    "np.random.seed(11)\n",
    "first_ann_q_id = np.random.choice(population, size=50, replace=False)"
   ]
  },
  {
   "cell_type": "code",
   "execution_count": 30,
   "metadata": {},
   "outputs": [],
   "source": [
    "q_id_list = df.loc[df['index'].isin(first_ann_q_id), 'id'].to_list()"
   ]
  },
  {
   "cell_type": "code",
   "execution_count": 31,
   "metadata": {},
   "outputs": [],
   "source": [
    "# 전체 데이터셋 \n",
    "with open('../../data/q_id_list.pkl', 'wb') as f:\n",
    "    pickle.dump(q_id_list, f)\n"
   ]
  },
  {
   "cell_type": "code",
   "execution_count": 32,
   "metadata": {},
   "outputs": [
    {
     "data": {
      "text/plain": [
       "[77447504,\n",
       " 77406962,\n",
       " 77234688,\n",
       " 77038170,\n",
       " 77387888,\n",
       " 77006145,\n",
       " 76987392,\n",
       " 76863235,\n",
       " 77358032,\n",
       " 77340854,\n",
       " 76778911,\n",
       " 76610768,\n",
       " 76775231,\n",
       " 76707984,\n",
       " 76750481,\n",
       " 76450897,\n",
       " 76440490,\n",
       " 76397993,\n",
       " 76195648,\n",
       " 76532248,\n",
       " 76256380,\n",
       " 76235236,\n",
       " 76077630,\n",
       " 76021133,\n",
       " 75766189,\n",
       " 75846310,\n",
       " 75723093,\n",
       " 75796983,\n",
       " 75799357,\n",
       " 75949420,\n",
       " 75622488,\n",
       " 75487734,\n",
       " 75463734,\n",
       " 75456156,\n",
       " 75408690,\n",
       " 75286184,\n",
       " 75192674,\n",
       " 75079430,\n",
       " 75155148,\n",
       " 75142452,\n",
       " 75244373,\n",
       " 75025075,\n",
       " 75119595,\n",
       " 75101451,\n",
       " 74957879,\n",
       " 74644974,\n",
       " 74762188,\n",
       " 74751310,\n",
       " 74896655,\n",
       " 74880405]"
      ]
     },
     "execution_count": 32,
     "metadata": {},
     "output_type": "execute_result"
    }
   ],
   "source": [
    "q_id_list"
   ]
  },
  {
   "cell_type": "code",
   "execution_count": 33,
   "metadata": {},
   "outputs": [],
   "source": [
    "ann_q_df = df.loc[df['index'].isin(first_ann_q_id), 'id'].to_frame()"
   ]
  },
  {
   "cell_type": "code",
   "execution_count": 34,
   "metadata": {},
   "outputs": [],
   "source": [
    "ann_q_df['link'] = ann_q_df['id'].apply(lambda x : 'https://stackoverflow.com/questions/'+str(x))"
   ]
  },
  {
   "cell_type": "code",
   "execution_count": 35,
   "metadata": {},
   "outputs": [],
   "source": [
    "ann_q_df['Difficulty_class'] = ''\n",
    "ann_q_df['General_rule_set'] = ''\n",
    "ann_q_df['Granular_breakdown'] = ''"
   ]
  },
  {
   "cell_type": "code",
   "execution_count": 36,
   "metadata": {},
   "outputs": [],
   "source": [
    "ann_q_df.to_csv('./annotation_50.csv')"
   ]
  },
  {
   "cell_type": "code",
   "execution_count": null,
   "metadata": {},
   "outputs": [],
   "source": []
  }
 ],
 "metadata": {
  "kernelspec": {
   "display_name": "Python 3",
   "language": "python",
   "name": "python3"
  },
  "language_info": {
   "codemirror_mode": {
    "name": "ipython",
    "version": 3
   },
   "file_extension": ".py",
   "mimetype": "text/x-python",
   "name": "python",
   "nbconvert_exporter": "python",
   "pygments_lexer": "ipython3",
   "version": "3.10.12"
  }
 },
 "nbformat": 4,
 "nbformat_minor": 4
}
