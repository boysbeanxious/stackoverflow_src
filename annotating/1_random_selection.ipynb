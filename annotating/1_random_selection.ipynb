{
 "cells": [
  {
   "cell_type": "code",
   "execution_count": 1,
   "metadata": {},
   "outputs": [],
   "source": [
    "import pandas as pd\n",
    "import matplotlib.pyplot as plt\n",
    "import numpy as np\n",
    "import pickle"
   ]
  },
  {
   "cell_type": "code",
   "execution_count": 2,
   "metadata": {},
   "outputs": [],
   "source": [
    "# 파일 불러오기\n",
    "with open('../../data/ann_qid.pkl', 'rb') as f:\n",
    "    df = pickle.load(f)\n"
   ]
  },
  {
   "cell_type": "code",
   "execution_count": 3,
   "metadata": {},
   "outputs": [],
   "source": [
    "df.reset_index(inplace=True)"
   ]
  },
  {
   "cell_type": "code",
   "execution_count": 4,
   "metadata": {},
   "outputs": [],
   "source": [
    "min_idx = df['index'].min()\n",
    "max_idx = df['index'].max()"
   ]
  },
  {
   "cell_type": "code",
   "execution_count": 5,
   "metadata": {},
   "outputs": [
    {
     "name": "stdout",
     "output_type": "stream",
     "text": [
      "0\n",
      "153020\n"
     ]
    }
   ],
   "source": [
    "print(min_idx)\n",
    "print(max_idx)"
   ]
  },
  {
   "cell_type": "code",
   "execution_count": 6,
   "metadata": {},
   "outputs": [],
   "source": [
    "population = np.arange(153021)"
   ]
  },
  {
   "cell_type": "code",
   "execution_count": 7,
   "metadata": {},
   "outputs": [],
   "source": [
    "np.random.seed(10)\n",
    "first_ann_q_id = np.random.choice(population, size=50, replace=False)"
   ]
  },
  {
   "cell_type": "code",
   "execution_count": 8,
   "metadata": {},
   "outputs": [],
   "source": [
    "q_id_list = df.loc[df['index'].isin(first_ann_q_id), 'id'].to_list()"
   ]
  },
  {
   "cell_type": "code",
   "execution_count": 9,
   "metadata": {},
   "outputs": [],
   "source": [
    "# 전체 데이터셋 \n",
    "with open('../../data/q_id_list.pkl', 'wb') as f:\n",
    "    pickle.dump(q_id_list, f)\n"
   ]
  },
  {
   "cell_type": "code",
   "execution_count": 10,
   "metadata": {},
   "outputs": [
    {
     "data": {
      "text/plain": [
       "[77293473,\n",
       " 77404924,\n",
       " 77249095,\n",
       " 77076663,\n",
       " 77019129,\n",
       " 76992629,\n",
       " 77370805,\n",
       " 76717996,\n",
       " 76784524,\n",
       " 76608783,\n",
       " 76697269,\n",
       " 76317584,\n",
       " 76570219,\n",
       " 76302571,\n",
       " 76548866,\n",
       " 76541602,\n",
       " 76264395,\n",
       " 76169010,\n",
       " 76169378,\n",
       " 76059076,\n",
       " 76045819,\n",
       " 76085427,\n",
       " 75779691,\n",
       " 75862649,\n",
       " 75637544,\n",
       " 75460677,\n",
       " 75454689,\n",
       " 75531218,\n",
       " 75283999,\n",
       " 75281532,\n",
       " 75279786,\n",
       " 75198212,\n",
       " 75057003,\n",
       " 75179892,\n",
       " 75239843,\n",
       " 75024902,\n",
       " 75008807,\n",
       " 74978553,\n",
       " 74979205,\n",
       " 74778102,\n",
       " 74774389,\n",
       " 74760874,\n",
       " 74751254,\n",
       " 74693871,\n",
       " 74844950,\n",
       " 74804354,\n",
       " 77553477,\n",
       " 77543317,\n",
       " 77511053,\n",
       " 77467788]"
      ]
     },
     "execution_count": 10,
     "metadata": {},
     "output_type": "execute_result"
    }
   ],
   "source": [
    "q_id_list"
   ]
  },
  {
   "cell_type": "code",
   "execution_count": 13,
   "metadata": {},
   "outputs": [],
   "source": [
    "ann_q_df = df.loc[df['index'].isin(first_ann_q_id), 'id'].to_frame()"
   ]
  },
  {
   "cell_type": "code",
   "execution_count": 19,
   "metadata": {},
   "outputs": [],
   "source": [
    "ann_q_df['link'] = ann_q_df['id'].apply(lambda x : 'https://stackoverflow.com/questions/'+str(x))"
   ]
  },
  {
   "cell_type": "code",
   "execution_count": 21,
   "metadata": {},
   "outputs": [],
   "source": [
    "ann_q_df['Difficulty_class'] = ''\n",
    "ann_q_df['General_rule_set'] = ''\n",
    "ann_q_df['Granular_breakdown'] = ''"
   ]
  },
  {
   "cell_type": "code",
   "execution_count": 23,
   "metadata": {},
   "outputs": [],
   "source": [
    "ann_q_df.to_csv('./annotation_50.csv')"
   ]
  },
  {
   "cell_type": "code",
   "execution_count": null,
   "metadata": {},
   "outputs": [],
   "source": []
  }
 ],
 "metadata": {
  "kernelspec": {
   "display_name": "Python 3 (ipykernel)",
   "language": "python",
   "name": "python3"
  },
  "language_info": {
   "codemirror_mode": {
    "name": "ipython",
    "version": 3
   },
   "file_extension": ".py",
   "mimetype": "text/x-python",
   "name": "python",
   "nbconvert_exporter": "python",
   "pygments_lexer": "ipython3",
   "version": "3.10.12"
  }
 },
 "nbformat": 4,
 "nbformat_minor": 4
}
