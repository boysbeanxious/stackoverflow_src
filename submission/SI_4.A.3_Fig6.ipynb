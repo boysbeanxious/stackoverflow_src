{
 "cells": [
  {
   "cell_type": "code",
   "execution_count": 1,
   "id": "a0dc1985",
   "metadata": {},
   "outputs": [],
   "source": [
    "import sys, os\n",
    "p = os.path.abspath('..')\n",
    "pp = os.path.abspath('../..')\n",
    "ppp = os.path.abspath('../../visualization')\n",
    "\n",
    "sys.path.insert(1, ppp)\n",
    "sys.path.insert(1, p)\n",
    "sys.path.insert(1, pp)\n",
    "\n",
    "\n"
   ]
  },
  {
   "cell_type": "code",
   "execution_count": 2,
   "id": "9fbeeb9d",
   "metadata": {},
   "outputs": [
    {
     "ename": "ModuleNotFoundError",
     "evalue": "No module named 'distribution_collector'",
     "output_type": "error",
     "traceback": [
      "\u001b[0;31m---------------------------------------------------------------------------\u001b[0m",
      "\u001b[0;31mModuleNotFoundError\u001b[0m                       Traceback (most recent call last)",
      "Cell \u001b[0;32mIn[2], line 3\u001b[0m\n\u001b[1;32m      1\u001b[0m \u001b[38;5;28;01mfrom\u001b[39;00m \u001b[38;5;21;01mgc\u001b[39;00m \u001b[38;5;28;01mimport\u001b[39;00m collect\n\u001b[0;32m----> 3\u001b[0m \u001b[38;5;28;01mfrom\u001b[39;00m \u001b[38;5;21;01mdistribution_collector\u001b[39;00m \u001b[38;5;28;01mimport\u001b[39;00m collect_tag_distributions\n\u001b[1;32m      4\u001b[0m \u001b[38;5;28;01mfrom\u001b[39;00m \u001b[38;5;21;01mutils\u001b[39;00m\u001b[38;5;21;01m.\u001b[39;00m\u001b[38;5;21;01mstatistics\u001b[39;00m \u001b[38;5;28;01mimport\u001b[39;00m calculate_gini, calculate_entropy, get_dist_x_div, calc_regression\n\u001b[1;32m      5\u001b[0m \u001b[38;5;28;01mfrom\u001b[39;00m \u001b[38;5;21;01mdistribution_collector\u001b[39;00m \u001b[38;5;28;01mimport\u001b[39;00m (collect_topic_distributions)\n",
      "\u001b[0;31mModuleNotFoundError\u001b[0m: No module named 'distribution_collector'"
     ]
    }
   ],
   "source": [
    "from gc import collect\n",
    "\n",
    "from distribution_collector import collect_tag_distributions\n",
    "from utils.statistics import calculate_gini, calculate_entropy, get_dist_x_div, calc_regression\n",
    "from distribution_collector import (collect_topic_distributions)\n",
    "from constants import CONSTANTS\n",
    "\n",
    "from matplotlib import pyplot as plt\n",
    "import numpy as np\n",
    "from statsmodels.nonparametric.smoothers_lowess import lowess\n",
    "import lib.stats.stats as st\n"
   ]
  },
  {
   "cell_type": "code",
   "execution_count": null,
   "id": "5e4153c2",
   "metadata": {},
   "outputs": [],
   "source": [
    "tag_info = \"../../visualization/result/tag/tag_info.json\"\n",
    "tag_dir = f'../../visualization/{CONSTANTS.tag_difficulty_data_dir[3:]}'\n",
    "lda_dir = f'../../visualization/{CONSTANTS.lda_difficulty_data_dir[3:]}'\n",
    "diff_dict = {'0' : 'Basic', '1' : 'Intermediate', '2' : 'Advanced'}\n",
    "output_dir = './fig/'"
   ]
  },
  {
   "cell_type": "code",
   "execution_count": null,
   "id": "4a16176c",
   "metadata": {},
   "outputs": [],
   "source": [
    "print(tag_dir)"
   ]
  },
  {
   "cell_type": "code",
   "execution_count": null,
   "id": "074fb9f9",
   "metadata": {},
   "outputs": [],
   "source": [
    "bert_topic_distribution = dict()\n",
    "for diff_str in diff_dict.keys():\n",
    "    bert_topic_distribution[diff_str] = collect_topic_distributions(window=7,\n",
    "                                                                data_dir=tag_dir,\n",
    "                                                                options={'difficulties': [diff_str]})\n",
    "    "
   ]
  },
  {
   "cell_type": "code",
   "execution_count": null,
   "id": "cde07cdd",
   "metadata": {},
   "outputs": [],
   "source": [
    "tag_distribution = dict()\n",
    "for diff_str in diff_dict.keys():\n",
    "    print(diff_str)\n",
    "    tag_distribution[diff_str] = collect_tag_distributions(window=7,\n",
    "                                                          tag_info = tag_info,\n",
    "                                                          data_dir=tag_dir,\n",
    "                                                          options={'difficulties': [diff_str]})\n",
    "    "
   ]
  },
  {
   "cell_type": "code",
   "execution_count": null,
   "id": "22c5b622",
   "metadata": {},
   "outputs": [],
   "source": [
    "b_gini_dict, b_entropy_dict = dict(), dict()\n",
    "for diff_str, topic_distribution in bert_topic_distribution.items():\n",
    "    b_entropy_dict[diff_str] = list(map(lambda x: calculate_entropy(list(x.values())), topic_distribution))\n",
    "    b_gini_dict[diff_str] = list(map(lambda x: calculate_gini(list(x.values())), topic_distribution))\n",
    "    \n"
   ]
  },
  {
   "cell_type": "code",
   "execution_count": null,
   "id": "d3abbfd4",
   "metadata": {},
   "outputs": [],
   "source": [
    "t_gini_dict, t_entropy_dict = dict(), dict()\n",
    "for diff_str, distribution in tag_distribution.items():\n",
    "    t_entropy_dict[diff_str] = list(map(lambda x: calculate_entropy(list(x.values())), distribution))\n",
    "    t_gini_dict[diff_str] = list(map(lambda x: calculate_gini(list(x.values())), distribution))\n",
    "    \n"
   ]
  },
  {
   "cell_type": "code",
   "execution_count": null,
   "id": "1d557a3a",
   "metadata": {},
   "outputs": [],
   "source": [
    "b_coef_dict = dict()\n",
    "b_coef_dict[0] = b_gini_dict\n",
    "b_coef_dict[1] = b_entropy_dict"
   ]
  },
  {
   "cell_type": "code",
   "execution_count": null,
   "id": "a51cabcb",
   "metadata": {},
   "outputs": [],
   "source": [
    "alpha_dict = {0 : 'A. ', 1  : 'B. ', 2 : 'C. '}"
   ]
  },
  {
   "cell_type": "code",
   "execution_count": null,
   "id": "52582286",
   "metadata": {},
   "outputs": [],
   "source": [
    "t_coef_dict = dict()\n",
    "t_coef_dict[0] = t_gini_dict\n",
    "t_coef_dict[1] = t_entropy_dict"
   ]
  },
  {
   "cell_type": "code",
   "execution_count": null,
   "id": "f78952e0",
   "metadata": {},
   "outputs": [],
   "source": [
    "def calc_chow(x, y):\n",
    "    st_ = st.Stats(np.array(x), np.array(y), 2, 0.95)\n",
    "    F_stat, p_value = st_.chow_test()\n",
    "    return st_, F_stat, p_value\n",
    "    "
   ]
  },
  {
   "cell_type": "code",
   "execution_count": null,
   "id": "889473e4",
   "metadata": {},
   "outputs": [],
   "source": [
    "def draw_scatter_line_plot(dict_):\n",
    "    \n",
    "    v_size = len(dict_[0].keys())\n",
    "    calc_type_dict = { 0 : 'Gini Coefficient', 1 : 'Entropy'}\n",
    "\n",
    "    fig, axs = plt.subplots(nrows=2, ncols=v_size,  figsize = (18, 12), sharey='row', sharex=True)\n",
    "    coef_dict = dict_[0]\n",
    "    for v_idx in coef_dict.keys():\n",
    "        list_ = coef_dict[v_idx]\n",
    "        x_rel, divider = get_dist_x_div(list_)\n",
    "        st_, F_stat_, p_value_ = calc_chow(x_rel, list_)\n",
    "\n",
    "\n",
    "        h_idx, v_idx = 0, int(v_idx)\n",
    "        axs[0][v_idx].scatter(x_rel, list_, color = 'darkgray', alpha = 0.7,  s=10, marker='x')\n",
    "        axs[0][v_idx].plot(x_rel, st_.y_predict, label=\"Overall Fit\", linestyle=\"--\", color=\"black\")  \n",
    "\n",
    "        axs[0][v_idx].plot(x_rel[:divider], st_.y1_predict, label=\"before ChatGPT\", linewidth='2')\n",
    "        axs[0][v_idx].fill_between(x_rel[:divider], st_.y1_predict - st_.y1_conf_interval, st_.y1_predict + st_.y1_conf_interval, alpha=0.1)\n",
    "\n",
    "        axs[0][v_idx].plot(x_rel[divider:], st_.y2_predict, label=\"after ChatGPT\", linewidth='2')\n",
    "        axs[0][v_idx].fill_between(x_rel[divider:], st_.y2_predict - st_.y2_conf_interval, st_.y2_predict + st_.y2_conf_interval, alpha=0.1)\n",
    "\n",
    "        axs[0][v_idx].axvline(x=0, color='tab:red', linestyle='-.', linewidth=1)\n",
    "        # axs[0][v_idx].set_xlabel(\"Week Relative to ChatGPT Release\", fontsize = 10)\n",
    "        axs[0][v_idx].set_ylabel(f\"{calc_type_dict[h_idx]}\", fontsize = 22)\n",
    "        # axs[0][v_idx].text( 0.05, 0.05, transform=axs[0][v_idx].transAxes, s=f'F-Statistic : {F_stat_:.2f}\\np-value : {p_value_:.4f}', fontsize = 10) \n",
    "        axs[0][v_idx].set_title(f\"{alpha_dict[v_idx]}{diff_dict[str(v_idx)]} Level\")\n",
    "        axs[0][v_idx].grid(True, linestyle='--', alpha=0.3)\n",
    "        \n",
    "    \n",
    "\n",
    "    coef_dict = dict_[1]\n",
    "    for v_idx in coef_dict.keys():\n",
    "        list_ = coef_dict[v_idx]\n",
    "        x_rel, divider = get_dist_x_div(list_)\n",
    "        st_, F_stat_, p_value_ = calc_chow(x_rel, list_)\n",
    "\n",
    "        h_idx, v_idx = 1, int(v_idx)\n",
    "        axs[1][v_idx].scatter(x_rel, list_, color = 'darkgray', alpha = 0.7,  s=10, marker='x')\n",
    "        axs[1][v_idx].plot(x_rel, st_.y_predict, label=\"Full Model\", linestyle=\"--\", color=\"black\")  \n",
    "\n",
    "        axs[1][v_idx].plot(x_rel[:divider], st_.y1_predict, label=\"before chatGPT\", linewidth='2')\n",
    "        axs[1][v_idx].fill_between(x_rel[:divider], st_.y1_predict - st_.y1_conf_interval, st_.y1_predict + st_.y1_conf_interval, alpha=0.1)\n",
    "\n",
    "        axs[1][v_idx].plot(x_rel[divider:], st_.y2_predict, label=\"after chatGPT\", linewidth='2')\n",
    "        axs[1][v_idx].fill_between(x_rel[divider:], st_.y2_predict - st_.y2_conf_interval, st_.y2_predict + st_.y2_conf_interval, alpha=0.1)\n",
    "\n",
    "        axs[1][v_idx].axvline(x=0, color='tab:red', linestyle='-.', linewidth=1)\n",
    "        axs[1][v_idx].set_xlabel(\"Week Relative to ChatGPT Release\", fontsize = 10)\n",
    "        axs[1][v_idx].set_ylabel(f\"{calc_type_dict[h_idx]}\", fontsize = 10)\n",
    "        axs[1][v_idx].set_title(f\"{alpha_dict[v_idx]}{diff_dict[str(v_idx)]} Level\")\n",
    "        axs[1][v_idx].text( 0.05, 0.05, transform=axs[1][v_idx].transAxes, s=f'F-Statistic : {F_stat_:.2f}\\np-value : {p_value_:.4f}', fontsize = 10) \n",
    "        axs[1][v_idx].grid(True, linestyle='--', alpha=0.3)\n",
    "        \n",
    "    plt.legend(bbox_to_anchor=(1.05, 1), loc='upper left')\n",
    "    plt.savefig(f\"{output_dir}Result_Fig6.png\", dpi=300, bbox_inches='tight')\n"
   ]
  },
  {
   "cell_type": "code",
   "execution_count": null,
   "id": "b11d6680",
   "metadata": {},
   "outputs": [],
   "source": [
    "draw_scatter_line_plot(b_coef_dict)"
   ]
  },
  {
   "cell_type": "code",
   "execution_count": null,
   "id": "3144117c",
   "metadata": {},
   "outputs": [],
   "source": [
    "draw_scatter_line_plot(t_coef_dict)"
   ]
  },
  {
   "cell_type": "code",
   "execution_count": null,
   "id": "c55c6c5e",
   "metadata": {},
   "outputs": [],
   "source": [
    "\n",
    "fig, axs = plt.subplots(1, 3, figsize = (18, 6), sharey=True, sharex=True)\n",
    "\n",
    "coef_dict = t_coef_dict[1]\n",
    "for v_idx in coef_dict.keys():\n",
    "    list_ = coef_dict[v_idx]\n",
    "    x_rel, divider = get_dist_x_div(list_)\n",
    "    st_, F_stat_, p_value_ = calc_chow(x_rel, list_)\n",
    "\n",
    "    h_idx, v_idx = 1, int(v_idx)\n",
    "    axs[v_idx].scatter(x_rel, list_, color = 'darkgray', alpha = 0.7,  s=10, marker='x')\n",
    "    axs[v_idx].plot(x_rel, st_.y_predict, label=\"Full Model\", linestyle=\"--\", color=\"black\")  \n",
    "\n",
    "    axs[v_idx].plot(x_rel[:divider], st_.y1_predict, label=\"before chatGPT\", linewidth='2')\n",
    "    axs[v_idx].fill_between(x_rel[:divider], st_.y1_predict - st_.y1_conf_interval, st_.y1_predict + st_.y1_conf_interval, alpha=0.1)\n",
    "\n",
    "    axs[v_idx].plot(x_rel[divider:], st_.y2_predict, label=\"after chatGPT\", linewidth='2')\n",
    "    axs[v_idx].fill_between(x_rel[divider:], st_.y2_predict - st_.y2_conf_interval, st_.y2_predict + st_.y2_conf_interval, alpha=0.1)\n",
    "\n",
    "    axs[v_idx].axvline(x=0, color='tab:red', linestyle='-.', linewidth=1)\n",
    "    axs[v_idx].set_xlabel(\"Week Relative to ChatGPT Release\", fontsize = 15)\n",
    "    axs[v_idx].set_ylabel(\"Entropy\", fontsize = 15)\n",
    "    axs[v_idx].set_title(f\"{diff_dict[str(v_idx)]} Level\", fontsize = 20)\n",
    "    axs[v_idx].text( 0.05, 0.05, transform=axs[v_idx].transAxes, s=f'F-Statistic : {F_stat_:.2f}\\np-value : {p_value_:.4f}', fontsize = 10) \n",
    "    axs[v_idx].grid(True, linestyle='--', alpha=0.3)\n",
    "    axs[v_idx].legend( loc='lower right')\n",
    "\n",
    "fig.tight_layout()\n",
    "plt.savefig(f\"{output_dir}Result_Fig6.png\", dpi=300, bbox_inches='tight')\n"
   ]
  },
  {
   "cell_type": "code",
   "execution_count": null,
   "id": "fb6c1def",
   "metadata": {},
   "outputs": [],
   "source": []
  }
 ],
 "metadata": {
  "kernelspec": {
   "display_name": "venv_stackoverflow_src",
   "language": "python",
   "name": "python3"
  },
  "language_info": {
   "codemirror_mode": {
    "name": "ipython",
    "version": 3
   },
   "file_extension": ".py",
   "mimetype": "text/x-python",
   "name": "python",
   "nbconvert_exporter": "python",
   "pygments_lexer": "ipython3",
   "version": "3.10.12"
  }
 },
 "nbformat": 4,
 "nbformat_minor": 5
}
