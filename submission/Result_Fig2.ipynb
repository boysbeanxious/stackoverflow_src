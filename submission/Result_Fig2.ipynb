{
 "cells": [
  {
   "cell_type": "markdown",
   "metadata": {},
   "source": [
    "# Figure2(Stackedbar)"
   ]
  },
  {
   "cell_type": "code",
   "execution_count": 1,
   "metadata": {},
   "outputs": [],
   "source": [
    "import sys, os\n",
    "p = os.path.abspath('..')\n",
    "sys.path.insert(1, p)\n",
    "\n",
    "pp = os.path.abspath('../../visualization')\n",
    "sys.path.insert(1, pp)"
   ]
  },
  {
   "cell_type": "code",
   "execution_count": 2,
   "metadata": {},
   "outputs": [],
   "source": [
    "from gc import collect\n",
    "\n",
    "from utils.statistics import *\n",
    "from utils.settings import set_matplotlib\n",
    "from distribution_collector import (collect_topic_distributions,\n",
    "                                get_top_and_bottom_topics,\n",
    "                                extract_specific_topics)\n",
    "from constants import CONSTANTS\n",
    "from matplotlib import pyplot as plt\n",
    "import numpy as np\n",
    "import pandas as pd\n",
    "from statsmodels.nonparametric.smoothers_lowess import lowess\n",
    "import matplotlib as mpl\n",
    "\n",
    "import psycopg2\n",
    "import pandas as pd\n",
    "import numpy as np\n",
    "from utils.statistics import *\n",
    "import config.config as conf\n",
    "import datetime\n",
    "import re\n",
    "# 포뮬러 구성\n",
    "import statsmodels.formula.api as smf\n",
    "import numpy as np\n",
    "import pandas as pd\n"
   ]
  },
  {
   "cell_type": "code",
   "execution_count": null,
   "metadata": {},
   "outputs": [
    {
     "name": "stdout",
     "output_type": "stream",
     "text": [
      "Helvetica /System/Library/Fonts/Helvetica.ttc\n",
      "Helvetica Neue /System/Library/Fonts/HelveticaNeue.ttc\n"
     ]
    }
   ],
   "source": [
    "from matplotlib import font_manager\n",
    "import matplotlib as mpl\n",
    "from matplotlib import font_manager as fm\n",
    "\n",
    "# 설치된 폰트 이름과 경로 확인\n",
    "for font in font_manager.fontManager.ttflist:\n",
    "    if 'Helvetica' in font.name: # 'Nanum' 대신 원하는 글꼴의 일부를 입력하여 검색할 수 있습니다.\n",
    "        print(font.name, font.fname)\n",
    "\n",
    "# 직접 경로로 Helvetica 폰트 불러오기\n",
    "font_path = \"/System/Library/Fonts/Helvetica.ttc\"\n",
    "font_prop = fm.FontProperties(fname=font_path)\n",
    "font_name = font_prop.get_name()\n",
    "print(f\"Registered font name: {font_name}\")\n",
    "\n",
    "mpl.rcParams['font.family'] = font_name\n"
   ]
  },
  {
   "cell_type": "code",
   "execution_count": 6,
   "metadata": {},
   "outputs": [],
   "source": [
    "data_dir = f'../../visualization/{CONSTANTS.bert_monthly_data_dir[3:]}'\n",
    "output_dir = './fig/'\n",
    "date_range = 'Weekly'\n",
    "model = 'BERT'\n"
   ]
  },
  {
   "cell_type": "code",
   "execution_count": 7,
   "metadata": {},
   "outputs": [
    {
     "name": "stdout",
     "output_type": "stream",
     "text": [
      "../../visualization/result/bert_based/run_id_0/data\n"
     ]
    }
   ],
   "source": [
    "print(data_dir)"
   ]
  },
  {
   "cell_type": "code",
   "execution_count": null,
   "metadata": {},
   "outputs": [
    {
     "name": "stdout",
     "output_type": "stream",
     "text": [
      ">>>>>>>>>>>>>>>>>>>>>>>>>>>>>>>>>>>>>>>>>>>>>>>>>>get_monthly_topics_counts\n",
      "['2021-12-01 00:00:00', '2021-12-08 00:00:00', '2021-12-15 00:00:00', '2021-12-22 00:00:00', '2021-12-29 00:00:00', '2022-01-05 00:00:00', '2022-01-12 00:00:00', '2022-01-19 00:00:00', '2022-01-26 00:00:00', '2022-02-02 00:00:00', '2022-02-09 00:00:00', '2022-02-16 00:00:00', '2022-02-23 00:00:00', '2022-03-02 00:00:00', '2022-03-09 00:00:00', '2022-03-16 00:00:00', '2022-03-23 00:00:00', '2022-03-30 00:00:00', '2022-04-06 00:00:00', '2022-04-13 00:00:00', '2022-04-20 00:00:00', '2022-04-27 00:00:00', '2022-05-04 00:00:00', '2022-05-11 00:00:00', '2022-05-18 00:00:00', '2022-05-25 00:00:00', '2022-06-01 00:00:00', '2022-06-08 00:00:00', '2022-06-15 00:00:00', '2022-06-22 00:00:00', '2022-06-29 00:00:00', '2022-07-06 00:00:00', '2022-07-13 00:00:00', '2022-07-20 00:00:00', '2022-07-27 00:00:00', '2022-08-03 00:00:00', '2022-08-10 00:00:00', '2022-08-17 00:00:00', '2022-08-24 00:00:00', '2022-08-31 00:00:00', '2022-09-07 00:00:00', '2022-09-14 00:00:00', '2022-09-21 00:00:00', '2022-09-28 00:00:00', '2022-10-05 00:00:00', '2022-10-12 00:00:00', '2022-10-19 00:00:00', '2022-10-26 00:00:00', '2022-11-02 00:00:00', '2022-11-09 00:00:00', '2022-11-16 00:00:00', '2022-11-23 00:00:00', '2022-11-30 00:00:00', '2022-12-07 00:00:00', '2022-12-14 00:00:00', '2022-12-21 00:00:00', '2022-12-28 00:00:00', '2023-01-04 00:00:00', '2023-01-11 00:00:00', '2023-01-18 00:00:00', '2023-01-25 00:00:00', '2023-02-01 00:00:00', '2023-02-08 00:00:00', '2023-02-15 00:00:00', '2023-02-22 00:00:00', '2023-03-01 00:00:00', '2023-03-08 00:00:00', '2023-03-15 00:00:00', '2023-03-22 00:00:00', '2023-03-29 00:00:00', '2023-04-05 00:00:00', '2023-04-12 00:00:00', '2023-04-19 00:00:00', '2023-04-26 00:00:00', '2023-05-03 00:00:00', '2023-05-10 00:00:00', '2023-05-17 00:00:00', '2023-05-24 00:00:00', '2023-05-31 00:00:00', '2023-06-07 00:00:00', '2023-06-14 00:00:00', '2023-06-21 00:00:00', '2023-06-28 00:00:00', '2023-07-05 00:00:00', '2023-07-12 00:00:00', '2023-07-19 00:00:00', '2023-07-26 00:00:00', '2023-08-02 00:00:00', '2023-08-09 00:00:00', '2023-08-16 00:00:00', '2023-08-23 00:00:00', '2023-08-30 00:00:00', '2023-09-06 00:00:00', '2023-09-13 00:00:00', '2023-09-20 00:00:00', '2023-09-27 00:00:00', '2023-10-04 00:00:00', '2023-10-11 00:00:00', '2023-10-18 00:00:00', '2023-10-25 00:00:00', '2023-11-01 00:00:00', '2023-11-08 00:00:00', '2023-11-15 00:00:00', '2023-11-22 00:00:00', '2023-11-29 00:00:00']\n"
     ]
    },
    {
     "name": "stderr",
     "output_type": "stream",
     "text": [
      "Exception ignored in: <bound method IPythonKernel._clean_thread_parent_frames of <ipykernel.ipkernel.IPythonKernel object at 0x102e4d670>>\n",
      "Traceback (most recent call last):\n",
      "  File \"/Users/cslab/Library/Python/3.9/lib/python/site-packages/ipykernel/ipkernel.py\", line 770, in _clean_thread_parent_frames\n",
      "    def _clean_thread_parent_frames(\n",
      "KeyboardInterrupt: \n"
     ]
    }
   ],
   "source": [
    "window = 7\n",
    "top_and_bottom_topics = get_top_and_bottom_topics(data_dir)\n",
    "weekly_topic_distributions_wo = collect_topic_distributions(window=window,\n",
    "                                                            data_dir=data_dir, weekday_list = None, options=None)\n",
    "weekly_topic_distributions = collect_topic_distributions(window=window,\n",
    "                                                            data_dir=data_dir, weekday_list = None, options=None)"
   ]
  },
  {
   "cell_type": "code",
   "execution_count": null,
   "metadata": {},
   "outputs": [],
   "source": [
    "top_10, bottom_10 = top_and_bottom_topics\n",
    "\n",
    "top_10_distribution = \\\n",
    "    list(map(lambda d: extract_specific_topics(d, top_10), weekly_topic_distributions))\n",
    "top_10_to_draw = {topic: [] for topic in top_10}\n",
    "for topic in top_10:\n",
    "    for dict_ in top_10_distribution:\n",
    "        top_10_to_draw[topic].append(dict_[topic])\n",
    "top_10_proportion = list(map(lambda d: sum(d.values()),\n",
    "                                top_10_distribution))\n",
    "\n",
    "bottom_10_distribution = \\\n",
    "    list(map(lambda d: extract_specific_topics(d, bottom_10), weekly_topic_distributions))\n",
    "bottom_10_to_draw = {topic: [] for topic in bottom_10}\n",
    "for topic in bottom_10:\n",
    "    for dict_ in bottom_10_distribution:\n",
    "        bottom_10_to_draw[topic].append(dict_[topic])\n",
    "bottom_10_proportion = list(map(lambda d: sum(d.values()),\n",
    "                                bottom_10_distribution))"
   ]
  },
  {
   "cell_type": "code",
   "execution_count": null,
   "metadata": {},
   "outputs": [],
   "source": [
    "def draw_stackedbar(proportion_dict): \n",
    "    ### create a figure with multiple subplots\n",
    "    sharey = True ## 또는 sharey=False\n",
    "    sharex = True ## 또는 sharex=False\n",
    "    g_num  = len(proportion_dict.items())\n",
    "\n",
    "    fig, axs = plt.subplots(1, g_num, figsize = (12, 6), sharey=sharey, sharex=sharex)\n",
    "    colors = plt.get_cmap('tab20').colors \n",
    "\n",
    "\n",
    "    for x, (title, proportion) in enumerate(proportion_dict.items()):\n",
    "        y_length = len(list(proportion.values())[0])\n",
    "        bottom = np.array([0.0]*y_length)\n",
    "        x_rel, divider = get_dist_x_div(list(proportion.values())[0])\n",
    "\n",
    "        for idx, (topic, count) in enumerate(proportion.items()):\n",
    "            p = axs[x].bar(x_rel, count, bottom=bottom, label=topic, color = colors[idx])\n",
    "            bottom += count\n",
    "        axs[x].axvline(x=0, color='tab:red', linestyle='-.', linewidth=1)\n",
    "        axs[x].set_xlabel(\"Week Relative to ChatGPT Release\", fontsize = 10)\n",
    "        axs[x].set_ylabel(\"Proportion of Posts by Topic\", fontsize = 10)\n",
    "        axs[x].set_title(f'{title}')\n",
    "        axs[x].grid(True, linestyle='--', linewidth=0.5, alpha=0.5)\n",
    "        \n",
    "    fig.tight_layout()\n",
    "    plt.savefig(f\"{output_dir}Result_Fig4.png\", dpi=300, bbox_inches='tight')\n",
    "    plt.show();"
   ]
  },
  {
   "cell_type": "code",
   "execution_count": null,
   "metadata": {},
   "outputs": [],
   "source": [
    "draw_stackedbar({'A. 10 Most Frequently Assigned Topics' : top_10_to_draw\n",
    "                ,   'B. 10 Least Frequently Assigned Topics' : bottom_10_to_draw})\n",
    "\n"
   ]
  },
  {
   "cell_type": "code",
   "execution_count": null,
   "metadata": {},
   "outputs": [],
   "source": [
    "stackedbar_dict = {'10 most frequent topics' : top_10_to_draw\n",
    "                                        ,'10 least frequent topics' : bottom_10_to_draw}"
   ]
  },
  {
   "cell_type": "markdown",
   "metadata": {},
   "source": [
    "# Figure2(DID)"
   ]
  },
  {
   "cell_type": "code",
   "execution_count": null,
   "metadata": {},
   "outputs": [],
   "source": []
  },
  {
   "cell_type": "code",
   "execution_count": null,
   "metadata": {},
   "outputs": [],
   "source": [
    "output_dir = './fig/'\n",
    "date_range = 'Daily'"
   ]
  },
  {
   "cell_type": "code",
   "execution_count": null,
   "metadata": {},
   "outputs": [],
   "source": [
    "conn = psycopg2.connect(host = conf.database_user['host'], dbname=conf.database_user['dbname'], user=conf.database_user['user'], password=conf.database_user['password'])\n",
    "try:\n",
    "    cur = conn.cursor()\n",
    "    cur.execute(\"\\\n",
    "           select a.c_date               as c_date \\\n",
    "                , a.tag     as tag \\\n",
    "                , a.tag_count             as tag_count \\\n",
    "           from tag_for_did a \\\n",
    "; \\\n",
    "                \" \n",
    "   )\n",
    "    rows = cur.fetchall()\n",
    "    \n",
    "\n",
    "except psycopg2.DatabaseError as db_err:\n",
    "    print(db_err)\n",
    "finally : \n",
    "  cur.close()"
   ]
  },
  {
   "cell_type": "code",
   "execution_count": null,
   "metadata": {},
   "outputs": [],
   "source": [
    "df = pd.DataFrame(rows, columns = [\n",
    "  'cdate' \n",
    ", 'tag' \n",
    ", 'tag_count'\n",
    "])"
   ]
  },
  {
   "cell_type": "code",
   "execution_count": null,
   "metadata": {},
   "outputs": [],
   "source": [
    "df.sort_values(by=['cdate', 'tag'], ascending=True, inplace=True)"
   ]
  },
  {
   "cell_type": "code",
   "execution_count": null,
   "metadata": {},
   "outputs": [],
   "source": [
    "tot_df = df.groupby(['cdate'])['tag_count'].sum().reset_index(name='tot_cnt')"
   ]
  },
  {
   "cell_type": "code",
   "execution_count": null,
   "metadata": {},
   "outputs": [],
   "source": [
    "df_proportion = pd.merge(df, tot_df, on = 'cdate')\n",
    "# .reset_index(name='count')"
   ]
  },
  {
   "cell_type": "code",
   "execution_count": null,
   "metadata": {},
   "outputs": [],
   "source": [
    "df_proportion['proportion'] = df_proportion['tag_count']/df_proportion['tot_cnt']"
   ]
  },
  {
   "cell_type": "code",
   "execution_count": null,
   "metadata": {},
   "outputs": [],
   "source": [
    "df_entropy = df_proportion.groupby(['cdate'])['proportion'].apply(lambda x : calculate_entropy(x)).to_frame(name = 'entropy').reset_index()\n",
    "df_gini = df_proportion.groupby(['cdate'])['proportion'].apply(lambda x : calculate_gini(x)).to_frame(name = 'gini').reset_index()"
   ]
  },
  {
   "cell_type": "code",
   "execution_count": null,
   "metadata": {},
   "outputs": [],
   "source": [
    "df_coef = pd.merge(df_gini, df_entropy, on = 'cdate')"
   ]
  },
  {
   "cell_type": "code",
   "execution_count": null,
   "metadata": {},
   "outputs": [],
   "source": [
    "print(df_gini.shape)\n",
    "print(df_entropy.shape)"
   ]
  },
  {
   "cell_type": "code",
   "execution_count": null,
   "metadata": {},
   "outputs": [],
   "source": [
    "df_coef.head()"
   ]
  },
  {
   "cell_type": "code",
   "execution_count": null,
   "metadata": {},
   "outputs": [],
   "source": [
    "post_std_date = datetime.datetime(2022, 11, 30)\n",
    "pre_std_date = datetime.datetime(2021, 12, 1)"
   ]
  },
  {
   "cell_type": "code",
   "execution_count": null,
   "metadata": {},
   "outputs": [],
   "source": [
    "df_coef['cdate'] = pd.to_datetime(df_coef['cdate'], format=\"%Y-%m-%d\")"
   ]
  },
  {
   "cell_type": "code",
   "execution_count": null,
   "metadata": {},
   "outputs": [],
   "source": [
    "df_coef['post_std_diff'] = (df_coef['cdate'] - post_std_date).dt.days\n",
    "df_coef['pre_std_diff'] = (df_coef['cdate'] - pre_std_date).dt.days"
   ]
  },
  {
   "cell_type": "code",
   "execution_count": null,
   "metadata": {},
   "outputs": [],
   "source": [
    "date_range = 7*15"
   ]
  },
  {
   "cell_type": "code",
   "execution_count": null,
   "metadata": {},
   "outputs": [],
   "source": [
    "df_coef.head()"
   ]
  },
  {
   "cell_type": "code",
   "execution_count": null,
   "metadata": {},
   "outputs": [],
   "source": [
    "df_coef_post = df_coef[((df_coef['post_std_diff']) >=-date_range) &((df_coef['post_std_diff']) <date_range) ]\n",
    "df_coef_post = df_coef_post.rename(columns = {'post_std_diff':'std_diff'})"
   ]
  },
  {
   "cell_type": "code",
   "execution_count": null,
   "metadata": {},
   "outputs": [],
   "source": [
    "df_coef_pre = df_coef[((df_coef['pre_std_diff']) >=-date_range) &((df_coef['pre_std_diff']) <date_range) ]\n",
    "df_coef_pre = df_coef_pre.rename(columns = {'pre_std_diff':'std_diff'})"
   ]
  },
  {
   "cell_type": "code",
   "execution_count": null,
   "metadata": {},
   "outputs": [],
   "source": [
    "df_coef_post.loc[:, 'treated'] = 1\n",
    "df_coef_pre.loc[:, 'treated'] = 0"
   ]
  },
  {
   "cell_type": "code",
   "execution_count": null,
   "metadata": {},
   "outputs": [],
   "source": [
    "print(df_coef_post['cdate'].min())\n",
    "print(df_coef_post['cdate'].max())\n",
    "print(df_coef_pre['cdate'].min())\n",
    "print(df_coef_pre['cdate'].max())"
   ]
  },
  {
   "cell_type": "code",
   "execution_count": null,
   "metadata": {},
   "outputs": [],
   "source": [
    "df_coef_post.loc[:, 'post'] = np.where(df_coef_post['std_diff'] >=0, 1, 0)\n",
    "df_coef_pre.loc[:, 'post']  = np.where(df_coef_pre['std_diff'] >=0, 1, 0)"
   ]
  },
  {
   "cell_type": "code",
   "execution_count": null,
   "metadata": {},
   "outputs": [],
   "source": [
    "data = pd.concat([df_coef_post[['cdate', 'gini', 'entropy', 'std_diff', 'treated',\n",
    "       'post']],   df_coef_pre[['cdate', 'gini', 'entropy', 'std_diff', 'treated',\n",
    "       'post']]], axis= 0)"
   ]
  },
  {
   "cell_type": "code",
   "execution_count": null,
   "metadata": {},
   "outputs": [],
   "source": [
    "data['rel_week'] = np.floor(data['std_diff']/7)"
   ]
  },
  {
   "cell_type": "code",
   "execution_count": null,
   "metadata": {},
   "outputs": [],
   "source": [
    "print(data['rel_week'].min())\n",
    "print(data['rel_week'].max())"
   ]
  },
  {
   "cell_type": "code",
   "execution_count": null,
   "metadata": {},
   "outputs": [],
   "source": [
    "def calc_did(data, measure):\n",
    "    data['rel_week'] = data['rel_week'].astype('category')\n",
    "    data['std_diff'] = data['std_diff'].astype('category')\n",
    "    # 회귀식: 주차별 상호작용 포함\n",
    "    model = smf.ols(f\"{measure} ~ C(rel_week) * treated\", data=data)\n",
    "    did_result = model.fit(cov_type='HAC', cov_kwds={'maxlags': 7}) \n",
    "\n",
    "    return did_result"
   ]
  },
  {
   "cell_type": "code",
   "execution_count": null,
   "metadata": {},
   "outputs": [],
   "source": [
    "def pp_did_result(did_result) :\n",
    "    # 결과 정리\n",
    "    periods = np.arange(list(data['rel_week'].unique())[1], list(data['rel_week'].unique())[-1]+1, 1)\n",
    "    coefs = did_result.params\n",
    "    std_errors = did_result.bse \n",
    "    conf = did_result.conf_int()\n",
    "    coefs_filtered      = coefs.loc[[f'C(rel_week)[T.{i}]:treated' for i in periods]].values\n",
    "    std_errors_filtered = std_errors.loc[[f'C(rel_week)[T.{i}]:treated' for i in periods]].values\n",
    "\n",
    "    # 신뢰구간 계산\n",
    "    ll_95 = coefs_filtered - 1.965 * std_errors_filtered\n",
    "    ul_95 = coefs_filtered + 1.965 * std_errors_filtered\n",
    "\n",
    "    # 데이터프레임 생성 (계수와 신뢰구간)\n",
    "    df_coefs = pd.DataFrame({\n",
    "        'period'    : periods,\n",
    "        'Estimate'  : coefs_filtered,\n",
    "        'll_95'     : ll_95,\n",
    "        'ul_95'     : ul_95\n",
    "    })\n",
    "    return df_coefs\n",
    "\n",
    "\n"
   ]
  },
  {
   "cell_type": "code",
   "execution_count": null,
   "metadata": {},
   "outputs": [],
   "source": [
    "g_did_result = calc_did(data, 'gini')\n",
    "e_did_result = calc_did(data, 'entropy')\n",
    "\n",
    "g_event_effects = pp_did_result(g_did_result)\n",
    "e_event_effects = pp_did_result(e_did_result)\n"
   ]
  },
  {
   "cell_type": "code",
   "execution_count": null,
   "metadata": {},
   "outputs": [],
   "source": [
    "event_effects_dict = dict()\n",
    "event_effects_dict['Gini coefficient'] = g_event_effects\n",
    "event_effects_dict['Entropy'] = e_event_effects"
   ]
  },
  {
   "cell_type": "code",
   "execution_count": null,
   "metadata": {},
   "outputs": [],
   "source": [
    "alpha_dict = {0 : 'A. ', 1 : 'B. '}"
   ]
  },
  {
   "cell_type": "code",
   "execution_count": null,
   "metadata": {},
   "outputs": [],
   "source": [
    "colors_left = [\n",
    "    \"#1f77b4\",  # muted blue\n",
    "    \"#ff7f0e\",  # orange\n",
    "    \"#2ca02c\",  # green\n",
    "    \"#d62728\",  # red\n",
    "    \"#9467bd\",  # purple\n",
    "    \"#8c564b\",  # brown\n",
    "    \"#e377c2\",  # pink\n",
    "    \"#7f7f7f\",  # gray\n",
    "    \"#bcbd22\",  # yellow-green\n",
    "    \"#17becf\",  # cyan\n",
    "]\n",
    "\n",
    "colors_right = [\n",
    "    \"#332288\", \"#88CCEE\", \"#44AA99\", \"#117733\", \"#999933\",\n",
    "    \"#DDCC77\", \"#CC6677\", \"#882255\", \"#AA4499\", \"#661100\"\n",
    "]\n"
   ]
  },
  {
   "cell_type": "code",
   "execution_count": null,
   "metadata": {},
   "outputs": [],
   "source": [
    "\n",
    "### create a figure with multiple subplots\n",
    "sharey = True ## 또는 sharey=False\n",
    "sharex = True ## 또는 sharex=False\n",
    "# g_num  = len(proportion_dict.items())\n",
    "\n",
    "fig, axs = plt.subplots(1, 4, figsize = (24, 6), constrained_layout=True)\n",
    "colors = plt.get_cmap('tab20').colors \n",
    "\n",
    "\n",
    "for x, (title, proportion) in enumerate(stackedbar_dict.items()):\n",
    "    y_length = len(list(proportion.values())[0])\n",
    "    bottom = np.array([0.0]*y_length)\n",
    "    x_rel, divider = get_dist_x_div(list(proportion.values())[0])\n",
    "    color_idx_list = [xx for xx in range(len(colors)) if xx % 2 == x]\n",
    "    \n",
    "    for idx, (topic, count) in enumerate(proportion.items()):    \n",
    "        # p = axs[x].bar(x_rel, count, bottom=bottom, label=topic, color = colors[color_idx_list[idx]])\n",
    "        p = axs[x].bar(x_rel, count, bottom=bottom, label=topic, color = colors_left[idx] if x==0 else colors_right[idx])\n",
    "        bottom += count\n",
    "    axs[x].axvline(x=0, color='tab:red', linestyle='-.', linewidth=1)\n",
    "    \n",
    "    # axs[x].set_ylabel(\"Accumulated topic share\", fontsize = 22)\n",
    "    axs[x].set_title(f'{title}', fontsize=25)\n",
    "    axs[x].grid(True, linestyle='--', linewidth=0.5, alpha=0.5)\n",
    "    axs[x].set_ylim(0, 0.5)\n",
    "\n",
    "# 신뢰구간 영역\n",
    "for idx, measure in enumerate(event_effects_dict):\n",
    "    idx+=2\n",
    "\n",
    "    axs[idx].fill_between(event_effects_dict[measure]['period'], event_effects_dict[measure]['ll_95'], event_effects_dict[measure]['ul_95'], color='gray', alpha=0.3)\n",
    "    axs[idx].plot(event_effects_dict[measure]['period'], event_effects_dict[measure]['Estimate'], color='black', label='DID Estimate')\n",
    "\n",
    "    # 기준선\n",
    "    axs[idx].axhline(0, linestyle='--', color='black')\n",
    "    axs[idx].axvline(0, linestyle='dashdot', color='red', label='ChatGPT Release')\n",
    "\n",
    "    # 축 라벨과 제목\n",
    "    axs[idx].set_title(f\"{measure}\", fontsize=25)\n",
    "    axs[idx].grid(True, linestyle='--', linewidth=0.5, alpha=0.5)\n",
    "\n",
    "axs[0].tick_params(axis='x', labelsize=16)\n",
    "axs[1].tick_params(axis='x', labelsize=16)\n",
    "axs[2].tick_params(axis='x', labelsize=16)\n",
    "axs[3].tick_params(axis='x', labelsize=16)\n",
    "\n",
    "axs[0].tick_params(axis='y', labelsize=16)\n",
    "axs[1].tick_params(axis='y', labelsize=16)\n",
    "axs[2].tick_params(axis='y', labelsize=16)\n",
    "axs[3].tick_params(axis='y', labelsize=16)\n",
    "\n",
    "axs[0].set_ylabel(\"Accumulated topic share\", fontsize = 22)\n",
    "axs[2].set_ylabel(f\"Effect and 95% CI\", fontsize = 22)\n",
    "\n",
    "fig.supxlabel(\"Week relative to ChatGPT release\", fontsize=22) \n",
    "\n",
    "plt.savefig(f\"{output_dir}C_Result_Fig2.png\", dpi=300, bbox_inches='tight')\n",
    "plt.show();"
   ]
  },
  {
   "cell_type": "code",
   "execution_count": null,
   "metadata": {},
   "outputs": [],
   "source": [
    "colors = plt.get_cmap('tab20').colors \n",
    "\n"
   ]
  },
  {
   "cell_type": "code",
   "execution_count": null,
   "metadata": {},
   "outputs": [],
   "source": [
    "color_idx = [xx for xx in range(len(colors)) if xx % 2 == 1]"
   ]
  },
  {
   "cell_type": "code",
   "execution_count": null,
   "metadata": {},
   "outputs": [],
   "source": [
    "color_idx"
   ]
  },
  {
   "cell_type": "code",
   "execution_count": null,
   "metadata": {},
   "outputs": [],
   "source": []
  }
 ],
 "metadata": {
  "kernelspec": {
   "display_name": "Python 3",
   "language": "python",
   "name": "python3"
  },
  "language_info": {
   "codemirror_mode": {
    "name": "ipython",
    "version": 3
   },
   "file_extension": ".py",
   "mimetype": "text/x-python",
   "name": "python",
   "nbconvert_exporter": "python",
   "pygments_lexer": "ipython3",
   "version": "3.9.6"
  }
 },
 "nbformat": 4,
 "nbformat_minor": 2
}
