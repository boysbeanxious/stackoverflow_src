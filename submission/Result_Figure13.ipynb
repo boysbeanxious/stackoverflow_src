{
 "cells": [
  {
   "cell_type": "code",
   "execution_count": 2,
   "metadata": {},
   "outputs": [],
   "source": [
    "# create table tt_q_tag_cnt as \n",
    "# select x.id\n",
    "# \t, to_char(x.creationdate, 'yyyy-mm-dd') as c_date\n",
    "# \t, (regexp_matches(x.tags, '<(ruby|scala|rust|go|bash|shell|objective-c|python|r|typescript|swift|c#|sql|assembly|kotlin|c\\+\\+|javascript|vba|c|html|css|java|perl|haskell|julia|php|dart|clojure|f#|elixir|erlang|lisp|groovy|crystal-lang|powershell|cobol|delphi|matlab)>', 'g'))[1] AS matched_tags\n",
    "# \t, x.tag\n",
    "#   from (\n",
    "# \tselect id, creationdate, tags, replace(replace(unnest(string_to_array(tags, '><')), '<', ''), '>', '') tag \n",
    "#   from posts\n",
    "# where posttypeid ='1'\n",
    "#   and (tags like '%<ruby>%' or tags like '%<scala>%' or tags like '%<rust>%' or tags like '%<go>%' or tags like '%<bash>%' or tags like '%<shell>%' or tags like '%<objective-c>%' or tags like '%<python>%' or tags like '%<r>%' or tags like '%<typescript>%' or tags like '%<swift>%' or tags like '%<c#>%' or tags like '%<sql>%' or tags like '%<assembly>%' or tags like '%<kotlin>%' or tags like '%<c++>%' or tags like '%<javascript>%' or tags like '%<vba>%' or tags like '%<c>%' or tags like '%<html>%' or tags like '%<css>%' or tags like '%<java>%' or tags like '%<perl>%' or tags like '%<haskell>%' or tags like '%<julia>%' or tags like '%<php>%' or tags like '%<dart>%' or tags like '%<clojure>%' or tags like '%<f#>%' or tags like '%<elixir>%' or tags like '%<erlang>%' or tags like '%<lisp>%' or tags like '%<groovy>%' or tags like '%<crystal-lang>%' or tags like '%<powershell>%' or tags like '%<cobol>%' or tags like '%<delphi>%' or tags like '%<matlab>%')\n",
    "#   and creationdate between '2021-11-30' and '2023-12-03' \n",
    "#   ) x \n",
    "# ;"
   ]
  },
  {
   "cell_type": "code",
   "execution_count": 3,
   "metadata": {},
   "outputs": [],
   "source": [
    "import sys, os\n",
    "p = os.path.abspath('..')\n",
    "pp = os.path.abspath('../..')\n",
    "ppp = os.path.abspath('../../visualization')\n",
    "\n",
    "sys.path.insert(1, p)\n",
    "sys.path.insert(1, pp)\n",
    "sys.path.insert(1, ppp)\n",
    "\n"
   ]
  },
  {
   "cell_type": "code",
   "execution_count": 4,
   "metadata": {},
   "outputs": [
    {
     "ename": "ModuleNotFoundError",
     "evalue": "No module named 'utils'",
     "output_type": "error",
     "traceback": [
      "\u001b[0;31m---------------------------------------------------------------------------\u001b[0m",
      "\u001b[0;31mModuleNotFoundError\u001b[0m                       Traceback (most recent call last)",
      "Cell \u001b[0;32mIn[4], line 4\u001b[0m\n\u001b[1;32m      2\u001b[0m \u001b[38;5;28;01mimport\u001b[39;00m \u001b[38;5;21;01mpandas\u001b[39;00m \u001b[38;5;28;01mas\u001b[39;00m \u001b[38;5;21;01mpd\u001b[39;00m\n\u001b[1;32m      3\u001b[0m \u001b[38;5;28;01mimport\u001b[39;00m \u001b[38;5;21;01mnumpy\u001b[39;00m \u001b[38;5;28;01mas\u001b[39;00m \u001b[38;5;21;01mnp\u001b[39;00m\n\u001b[0;32m----> 4\u001b[0m \u001b[38;5;28;01mfrom\u001b[39;00m \u001b[38;5;21;01mutils\u001b[39;00m\u001b[38;5;21;01m.\u001b[39;00m\u001b[38;5;21;01msalary\u001b[39;00m \u001b[38;5;28;01mimport\u001b[39;00m \u001b[38;5;241m*\u001b[39m\n\u001b[1;32m      5\u001b[0m \u001b[38;5;28;01mimport\u001b[39;00m \u001b[38;5;21;01mpsycopg2\u001b[39;00m\n\u001b[1;32m      6\u001b[0m \u001b[38;5;28;01mfrom\u001b[39;00m \u001b[38;5;21;01mutils\u001b[39;00m\u001b[38;5;21;01m.\u001b[39;00m\u001b[38;5;21;01mstatistics\u001b[39;00m \u001b[38;5;28;01mimport\u001b[39;00m \u001b[38;5;241m*\u001b[39m\n",
      "\u001b[0;31mModuleNotFoundError\u001b[0m: No module named 'utils'"
     ]
    }
   ],
   "source": [
    "import json\n",
    "import pandas as pd\n",
    "import numpy as np\n",
    "from utils.salary import *\n",
    "import psycopg2\n",
    "from utils.statistics import *\n",
    "import config.config as conf\n",
    "import datetime\n",
    "import re\n",
    "from statsmodels.nonparametric.smoothers_lowess import lowess\n",
    "import seaborn as sns\n",
    "import matplotlib.pyplot as plt\n",
    "from matplotlib.lines import Line2D\n",
    "colors = plt.get_cmap('tab20').colors "
   ]
  },
  {
   "cell_type": "code",
   "execution_count": null,
   "metadata": {},
   "outputs": [],
   "source": [
    "from matplotlib import font_manager\n",
    "import matplotlib as mpl\n",
    "from matplotlib import font_manager as fm\n",
    "\n",
    "# 설치된 폰트 이름과 경로 확인\n",
    "for font in font_manager.fontManager.ttflist:\n",
    "    if 'Helvetica' in font.name: # 'Nanum' 대신 원하는 글꼴의 일부를 입력하여 검색할 수 있습니다.\n",
    "        print(font.name, font.fname)\n",
    "\n",
    "# 직접 경로로 Helvetica 폰트 불러오기\n",
    "font_path = \"/System/Library/Fonts/Helvetica.ttc\"\n",
    "font_prop = fm.FontProperties(fname=font_path)\n",
    "font_name = font_prop.get_name()\n",
    "print(f\"Registered font name: {font_name}\")\n",
    "\n",
    "mpl.rcParams['font.family'] = font_name\n"
   ]
  },
  {
   "cell_type": "markdown",
   "metadata": {},
   "source": [
    "## 데이터전처리"
   ]
  },
  {
   "cell_type": "code",
   "execution_count": null,
   "metadata": {},
   "outputs": [],
   "source": [
    "output_dir = './fig/'\n",
    "by = 'rel_week'"
   ]
  },
  {
   "cell_type": "code",
   "execution_count": null,
   "metadata": {},
   "outputs": [],
   "source": [
    "# test.json 내용: [{\"name\":\"Jack\",\"age\":26},{\"name\":\"Ace\",\"age\":87}]\n",
    "df = pd.read_json('../../visualization/result/tag/salary.json') ## pd.read_json 이용"
   ]
  },
  {
   "cell_type": "code",
   "execution_count": null,
   "metadata": {},
   "outputs": [],
   "source": [
    "df = df.reset_index().rename(columns={'index':'year'})"
   ]
  },
  {
   "cell_type": "code",
   "execution_count": null,
   "metadata": {},
   "outputs": [],
   "source": [
    "df = df.sort_values(by = 'year').reset_index(drop=True)"
   ]
  },
  {
   "cell_type": "code",
   "execution_count": null,
   "metadata": {},
   "outputs": [],
   "source": [
    "df"
   ]
  },
  {
   "cell_type": "code",
   "execution_count": null,
   "metadata": {},
   "outputs": [],
   "source": [
    "def get_CID_ratio_df(df, year) : \n",
    "    year_list = [year-3, year-2, year-1, year]\n",
    "    print(year_list)\n",
    "    df = df = df[df['year'].isin(year_list)]\n",
    "    df_salary = df.melt(id_vars = 'year', value_vars = df.columns[1:], var_name = 'lang', value_name = 'salary')\n",
    "    df_salary = df_salary.dropna()\n",
    "\n",
    "    filtered_df = df_salary[df_salary['lang'].isin(df_salary['lang'].value_counts()[lambda x: x == len(year_list)].index)].copy()\n",
    "    filtered_df['salary_ratio'] = filtered_df.groupby(['lang'])['salary'].transform(lambda x: x/x.shift(1) )\n",
    "    filtered_df = filtered_df.dropna()\n",
    "\n",
    "    filtered_df.loc[ : , 'CID'] = filtered_df.sort_values(by = ['lang', 'year'], ascending=[True, True]).groupby(['lang'])['salary_ratio'].diff()\n",
    "    filtered_df = filtered_df.dropna().reset_index(drop=True)\n",
    "\n",
    "    filtered_df.loc[ : , 'CID'] = filtered_df.sort_values(by = ['lang', 'year'], ascending=[True, True]).groupby(['lang'])['CID'].diff()\n",
    "    filtered_df = filtered_df.dropna().reset_index(drop=True)\n",
    "\n",
    "\n",
    "    return filtered_df\n",
    "\n",
    "\n"
   ]
  },
  {
   "cell_type": "code",
   "execution_count": null,
   "metadata": {},
   "outputs": [],
   "source": [
    "def get_CID_df(df, year) : \n",
    "    year_list = [year-2, year-1, year]\n",
    "    print(year_list)\n",
    "    df = df = df[df['year'].isin(year_list)]\n",
    "    df_salary = df.melt(id_vars = 'year', value_vars = df.columns[1:], var_name = 'lang', value_name = 'salary')\n",
    "    df_salary = df_salary.dropna()\n",
    "\n",
    "    filtered_df = df_salary[df_salary['lang'].isin(df_salary['lang'].value_counts()[lambda x: x == len(year_list)].index)].copy()\n",
    "    filtered_df.loc[ : , 'CID'] = filtered_df.sort_values(by = ['lang', 'year'], ascending=[True, True]).groupby(['lang'])['salary'].diff()\n",
    "    filtered_df = filtered_df.dropna().reset_index(drop=True)\n",
    "\n",
    "    filtered_df.loc[ : , 'CID'] = filtered_df.sort_values(by = ['lang', 'year'], ascending=[True, True]).groupby(['lang'])['CID'].diff()\n",
    "    filtered_df = filtered_df.dropna().reset_index(drop=True)\n",
    "\n",
    "\n",
    "    return filtered_df\n",
    "\n",
    "\n"
   ]
  },
  {
   "cell_type": "code",
   "execution_count": null,
   "metadata": {},
   "outputs": [],
   "source": [
    "def get_CID_log_df(df, year) : \n",
    "    year_list = [year-2, year-1, year]\n",
    "    print(year_list)\n",
    "    df = df = df[df['year'].isin(year_list)]\n",
    "    df_salary = df.melt(id_vars = 'year', value_vars = df.columns[1:], var_name = 'lang', value_name = 'salary')\n",
    "    df_salary = df_salary.dropna()\n",
    "    df_salary['salary'] = np.log(df_salary['salary'])\n",
    "\n",
    "    filtered_df = df_salary[df_salary['lang'].isin(df_salary['lang'].value_counts()[lambda x: x == len(year_list)].index)].copy()\n",
    "    filtered_df.loc[ : , 'CID'] = filtered_df.sort_values(by = ['lang', 'year'], ascending=[True, True]).groupby(['lang'])['salary'].diff()\n",
    "    filtered_df = filtered_df.dropna().reset_index(drop=True)\n",
    "\n",
    "    filtered_df.loc[ : , 'CID'] = filtered_df.sort_values(by = ['lang', 'year'], ascending=[True, True]).groupby(['lang'])['CID'].diff()\n",
    "    filtered_df = filtered_df.dropna().reset_index(drop=True)\n",
    "\n",
    "\n",
    "    return filtered_df\n",
    "\n",
    "\n"
   ]
  },
  {
   "cell_type": "code",
   "execution_count": null,
   "metadata": {},
   "outputs": [],
   "source": [
    "def get_CID_ratio_rel_df(df, year) : \n",
    "    year_list = [year-3, year-2, year-1, year]\n",
    "    print(year_list)\n",
    "    df = df = df[df['year'].isin(year_list)]\n",
    "    df_salary = df.melt(id_vars = 'year', value_vars = df.columns[1:], var_name = 'lang', value_name = 'salary')\n",
    "    df_salary = df_salary.dropna()\n",
    "\n",
    "    valid_langs = df_salary['lang'].value_counts()[lambda x: x == len(year_list)].index\n",
    "    filtered_df = df_salary[df_salary['lang'].isin(valid_langs)].copy()\n",
    "\n",
    "    # 언어별로 연도 정렬 후 상대 변화율(성장률) 계산\n",
    "    filtered_df.sort_values(by=['lang', 'year'], inplace=True)\n",
    "    filtered_df['growth_rate'] = filtered_df.groupby('lang')['salary'].pct_change()\n",
    "\n",
    "    # growth_rate의 이차 차분 = CID 계산\n",
    "    filtered_df['CID'] = filtered_df.groupby('lang')['growth_rate'].diff()\n",
    "    filtered_df['CID'] = filtered_df.groupby('lang')['CID'].diff()\n",
    "\n",
    "    # 최종 정리: CID 계산이 가능한 연도만 남김\n",
    "    filtered_df = filtered_df.dropna(subset=['growth_rate', 'CID']).reset_index(drop=True)\n",
    "\n",
    "\n",
    "    return filtered_df\n",
    "\n",
    "\n"
   ]
  },
  {
   "cell_type": "code",
   "execution_count": null,
   "metadata": {},
   "outputs": [],
   "source": [
    "def filter_df( df, type ) :\n",
    "    tot_filtered_df = pd.DataFrame()\n",
    "    for year in [ 2022, 2023, 2024] : \n",
    "        if type == 'ratio' : \n",
    "            filtered_df = get_CID_ratio_df(df, year)\n",
    "        elif type == 'log' : \n",
    "            filtered_df = get_CID_log_df(df, year)\n",
    "        elif type == 'ratio_rel' :\n",
    "            filtered_df = get_CID_ratio_rel_df(df, year)\n",
    "            \n",
    "        else :\n",
    "            filtered_df = get_CID_df(df, year)\n",
    "            \n",
    "        tot_filtered_df = pd.concat([tot_filtered_df, filtered_df], axis = 0)\n",
    "    \n",
    "        tot_exist_df = tot_filtered_df[tot_filtered_df['lang'].isin(tot_filtered_df['lang'].value_counts()[lambda x: x == len([ 2022, 2023, 2024])].index)].copy()\n",
    "        tot_exist_df=  tot_exist_df.sort_values(by = ['year', 'CID'], ascending=[False, True])\n",
    "    return tot_exist_df"
   ]
  },
  {
   "cell_type": "code",
   "execution_count": null,
   "metadata": {},
   "outputs": [],
   "source": [
    "tot_df_r = filter_df(df, 'ratio')\n",
    "tot_df_log = filter_df(df, 'log')\n",
    "tot_df_nr = filter_df(df, 'notratio')\n",
    "tot_df_rl = filter_df(df, 'ratio_rel')"
   ]
  },
  {
   "cell_type": "code",
   "execution_count": null,
   "metadata": {},
   "outputs": [],
   "source": [
    "cid_2024_lang = tot_df_rl[tot_df_rl['year'] == 2024].sort_values(by = ['CID'], ascending=[False])"
   ]
  },
  {
   "cell_type": "code",
   "execution_count": null,
   "metadata": {},
   "outputs": [],
   "source": [
    "cid_2024_df = tot_df_rl[tot_df_rl['lang'].isin(cid_2024_lang['lang'].values)]"
   ]
  },
  {
   "cell_type": "code",
   "execution_count": null,
   "metadata": {},
   "outputs": [],
   "source": [
    "cid_2024_df.head()\n",
    "cid_2024 = cid_2024_df[cid_2024_df['year'] == 2024].sort_values(by = ['CID'], ascending=[False])"
   ]
  },
  {
   "cell_type": "code",
   "execution_count": null,
   "metadata": {},
   "outputs": [],
   "source": [
    "cid_2024"
   ]
  },
  {
   "cell_type": "markdown",
   "metadata": {},
   "source": [
    "## 데이터 로드"
   ]
  },
  {
   "cell_type": "code",
   "execution_count": null,
   "metadata": {},
   "outputs": [],
   "source": [
    "# conn = psycopg2.connect(host = conf.database_user['host'], dbname=conf.database_user['dbname'], user=conf.database_user['user'], password=conf.database_user['password'])\n",
    "# try:\n",
    "#     cur = conn.cursor()\n",
    "#     cur.execute(\"\\\n",
    "# select c_date, matched_tags, tag, count(*) as cnt \\\n",
    "#   from tt_q_tag_cnt \\\n",
    "#  group by c_date, matched_tags, tag \\\n",
    "# ; \\\n",
    "#                 \" \n",
    "#    )\n",
    "#     rows = cur.fetchall()\n",
    "    \n",
    "\n",
    "# except psycopg2.DatabaseError as db_err:\n",
    "#     print(db_err)\n",
    "# finally : \n",
    "#   cur.close()"
   ]
  },
  {
   "cell_type": "code",
   "execution_count": null,
   "metadata": {},
   "outputs": [],
   "source": [
    "# conn = psycopg2.connect(host = conf.database_user['host'], dbname=conf.database_user['dbname'], user=conf.database_user['user'], password=conf.database_user['password'])\n",
    "# try:\n",
    "#     cur = conn.cursor()\n",
    "#     cur.execute(\"\\\n",
    "# select c_date, matched_tags, tag, sum(prop_for_t) as cnt \\\n",
    "#   from tt_q_tag_cnt_02 \\\n",
    "#  group by c_date, matched_tags, tag \\\n",
    "# ; \\\n",
    "#                 \" \n",
    "#    )\n",
    "#     rows = cur.fetchall()\n",
    "    \n",
    "\n",
    "# except psycopg2.DatabaseError as db_err:\n",
    "#     print(db_err)\n",
    "# finally : \n",
    "#   cur.close()"
   ]
  },
  {
   "cell_type": "code",
   "execution_count": null,
   "metadata": {},
   "outputs": [],
   "source": [
    "str([x for x in cid_2024['lang']])[1:-1]"
   ]
  },
  {
   "cell_type": "code",
   "execution_count": null,
   "metadata": {},
   "outputs": [],
   "source": [
    "q_string =  f\"select c_date, matched_tags, tag, sum(prop_for_t) as cnt from tt_q_tag_cnt_02 where matched_tags in ({str([x for x in cid_2024['lang']])[1:-1]}) group by c_date, matched_tags, tag; \"\n"
   ]
  },
  {
   "cell_type": "code",
   "execution_count": null,
   "metadata": {},
   "outputs": [],
   "source": [
    "q_string"
   ]
  },
  {
   "cell_type": "code",
   "execution_count": null,
   "metadata": {},
   "outputs": [],
   "source": [
    "# CID를 다시 계산함에 따라 시각화에 사용할 언어 변경(2020년부터 2024년까지 모든 SALARY 데이터가 존재하는 언어를 대상으로 )\n",
    "conn = psycopg2.connect(host = conf.database_user['host'], dbname=conf.database_user['dbname'], user=conf.database_user['user'], password=conf.database_user['password'])\n",
    "try:\n",
    "    cur = conn.cursor()\n",
    "    cur.execute(q_string)\n",
    "    rows = cur.fetchall()\n",
    "    \n",
    "\n",
    "except psycopg2.DatabaseError as db_err:\n",
    "    print(db_err)\n",
    "finally : \n",
    "  cur.close()"
   ]
  },
  {
   "cell_type": "code",
   "execution_count": null,
   "metadata": {},
   "outputs": [],
   "source": [
    "tag_dis_df = pd.DataFrame(rows, columns = [\n",
    "  'cdate' \n",
    ", 'matched_tags' \n",
    ", 'tag'\n",
    ", 'cnt'\n",
    "])"
   ]
  },
  {
   "cell_type": "code",
   "execution_count": null,
   "metadata": {},
   "outputs": [],
   "source": [
    "tag_dis_df.head()"
   ]
  },
  {
   "cell_type": "code",
   "execution_count": null,
   "metadata": {},
   "outputs": [],
   "source": [
    "std_date = datetime.datetime(2022, 11, 30)"
   ]
  },
  {
   "cell_type": "code",
   "execution_count": null,
   "metadata": {},
   "outputs": [],
   "source": [
    "tag_dis_df['cdate'] = pd.to_datetime(tag_dis_df['cdate'], format=\"%Y-%m-%d\")\n",
    "tag_dis_df['rel_day'] = (tag_dis_df['cdate'] - std_date).dt.days\n",
    "tag_dis_df['rel_week'] = np.floor(tag_dis_df['rel_day']/7)"
   ]
  },
  {
   "cell_type": "code",
   "execution_count": null,
   "metadata": {},
   "outputs": [],
   "source": [
    "tag_dis_df = tag_dis_df[(tag_dis_df['rel_week']>-53 ) & (tag_dis_df['rel_week']<=52 )]"
   ]
  },
  {
   "cell_type": "code",
   "execution_count": null,
   "metadata": {},
   "outputs": [],
   "source": [
    "tot_df = tag_dis_df.groupby([by, 'matched_tags'])['cnt'].sum().reset_index(name='tot_cnt')"
   ]
  },
  {
   "cell_type": "code",
   "execution_count": null,
   "metadata": {},
   "outputs": [],
   "source": [
    "tag_dis_by_df = tag_dis_df.groupby([by, 'matched_tags', 'tag'])['cnt'].sum().reset_index(name = 'cnt')"
   ]
  },
  {
   "cell_type": "code",
   "execution_count": null,
   "metadata": {},
   "outputs": [],
   "source": [
    "tag_dis_by_df.head()"
   ]
  },
  {
   "cell_type": "code",
   "execution_count": null,
   "metadata": {},
   "outputs": [],
   "source": [
    "df_proportion = pd.merge(tag_dis_by_df, tot_df, on = [by, 'matched_tags'], how = 'left')\n",
    "df_proportion['proportion'] = df_proportion['cnt'] / df_proportion['tot_cnt']\n",
    "# .reset_index(name='count')"
   ]
  },
  {
   "cell_type": "code",
   "execution_count": null,
   "metadata": {},
   "outputs": [],
   "source": [
    "df_proportion.tail()"
   ]
  },
  {
   "cell_type": "code",
   "execution_count": null,
   "metadata": {},
   "outputs": [],
   "source": [
    "df_proportion['proportion'] = df_proportion['proportion'].astype(float)\n",
    "df_proportion['tot_cnt'] = df_proportion['tot_cnt'].astype(float)"
   ]
  },
  {
   "cell_type": "code",
   "execution_count": null,
   "metadata": {},
   "outputs": [],
   "source": [
    "df_entropy = df_proportion.groupby([by, 'matched_tags'])['proportion'].apply(lambda x : calculate_entropy(x)).to_frame(name='entropy').reset_index()"
   ]
  },
  {
   "cell_type": "code",
   "execution_count": null,
   "metadata": {},
   "outputs": [],
   "source": [
    "df_entropy_viz = pd.merge(df_entropy, df_proportion[[by, 'matched_tags', 'tot_cnt']].drop_duplicates(), \\\n",
    "                           on = [by, 'matched_tags'], how = 'left')"
   ]
  },
  {
   "cell_type": "code",
   "execution_count": null,
   "metadata": {},
   "outputs": [],
   "source": [
    "df_proportion"
   ]
  },
  {
   "cell_type": "code",
   "execution_count": null,
   "metadata": {},
   "outputs": [],
   "source": [
    "df_entropy_viz['log_tot_cnt'] = np.log(df_entropy_viz['tot_cnt'])"
   ]
  },
  {
   "cell_type": "code",
   "execution_count": null,
   "metadata": {},
   "outputs": [],
   "source": [
    "cid_2024.shape"
   ]
  },
  {
   "cell_type": "code",
   "execution_count": null,
   "metadata": {},
   "outputs": [],
   "source": [
    "lang_t5_2024 = list(cid_2024['lang'])[:5]\n",
    "lang_b5_2024 = list(cid_2024['lang'])[-5:]"
   ]
  },
  {
   "cell_type": "code",
   "execution_count": null,
   "metadata": {},
   "outputs": [],
   "source": [
    "# lang_t5_2024.append('python')\n",
    "# # lang_b5_2024.append('python')"
   ]
  },
  {
   "cell_type": "code",
   "execution_count": null,
   "metadata": {},
   "outputs": [],
   "source": [
    "df_entropy_viz_bf = df_entropy_viz[df_entropy_viz[by]<0]\n",
    "df_entropy_viz_af = df_entropy_viz[df_entropy_viz[by]>=0]"
   ]
  },
  {
   "cell_type": "code",
   "execution_count": null,
   "metadata": {},
   "outputs": [],
   "source": [
    "import pandas as pd\n",
    "import numpy as np\n",
    "import matplotlib.pyplot as plt\n",
    "from scipy.stats import ttest_ind\n",
    "from scipy.stats import mannwhitneyu\n",
    "\n",
    "def analyze_entropy_change(data, measure='entropy'):\n",
    "    results = []\n",
    "\n",
    "    languages = data['matched_tags'].unique()\n",
    "\n",
    "    for lang in languages:\n",
    "        df_lang = data[data['matched_tags'] == lang]\n",
    "        before = df_lang[df_lang['rel_week'] < 0]['entropy']\n",
    "        after  = df_lang[df_lang['rel_week'] >= 0]['entropy']\n",
    "        \n",
    "\n",
    "        if len(before) < 5 or len(after) < 5:\n",
    "            continue  # 샘플 너무 적으면 스킵\n",
    "\n",
    "        # 평균\n",
    "        mean_before = before.mean()\n",
    "        mean_after = after.mean()\n",
    "        diff = mean_after - mean_before\n",
    "\n",
    "        # 표준오차 (SE)와 95% 신뢰구간\n",
    "        pooled_se = np.sqrt(before.var(ddof=1)/len(before) + after.var(ddof=1)/len(after))\n",
    "        ci_low = diff - 1.96 * pooled_se\n",
    "        ci_high = diff + 1.96 * pooled_se\n",
    "\n",
    "        pval = mannwhitneyu(before, after, alternative='two-sided').pvalue\n",
    "\n",
    "        results.append({\n",
    "            'Language': lang,\n",
    "            'Mean_Before': mean_before,\n",
    "            'Mean_After': mean_after,\n",
    "            'Diff': diff,\n",
    "            'CI_Low': ci_low,\n",
    "            'CI_High': ci_high,\n",
    "            'pvalue': pval\n",
    "        })\n",
    "\n",
    "    summary_df = pd.DataFrame(results)\n",
    "    return summary_df"
   ]
  },
  {
   "cell_type": "code",
   "execution_count": null,
   "metadata": {},
   "outputs": [],
   "source": [
    "marker_label = {\n",
    "    \"High\": \"^\",    # 원\n",
    "    \"Mid\": \"s\",     # 사각형\n",
    "    \"Low\": \"o\"      # 삼각형\n",
    "}\n",
    "\n",
    "color_label = {\n",
    "    \"High\": \"#e31a1c\",\n",
    "    \"Mid\": \"#333333\",\n",
    "    \"Low\": \"#1f78b4\"\n",
    "}\n"
   ]
  },
  {
   "cell_type": "code",
   "execution_count": null,
   "metadata": {},
   "outputs": [],
   "source": [
    "import matplotlib.pyplot as plt\n",
    "\n",
    "def plot_forest_with_significance(summary_df):\n",
    "    summary_df = summary_df.sort_values('Diff')\n",
    "    languages = summary_df['Language']\n",
    "    diffs = summary_df['Diff'].values\n",
    "    ci_lows = diffs - summary_df['CI_Low'].values\n",
    "    ci_highs = summary_df['CI_High'].values - diffs\n",
    "    p_values = summary_df['pvalue'].values\n",
    "\n",
    "    # fig, ax = plt.subplots(figsize=(12, max(6, len(languages) * 0.45)), constrained_layout=True)\n",
    "    fig, ax = plt.subplots(figsize=(9, max(6, len(languages) * 0.45)), constrained_layout=True)\n",
    "\n",
    "        # 별표 추가\n",
    "    significance = []\n",
    "    for p in p_values:\n",
    "        if p < 0.05:\n",
    "            significance.append('*')\n",
    "        else:\n",
    "            significance.append('')\n",
    "\n",
    "    labels = [f\"{lang} ({sig})\" if sig else lang for lang, sig in zip(languages, significance)]\n",
    "\n",
    "    color_map = {}\n",
    "    marker_map = {}\n",
    "    for label in labels:\n",
    "        original_text = label\n",
    "        clean_text = original_text.replace('*', '').replace('(', '').replace(')', '').replace(' ', '')  # \"python\" 으로 비교\n",
    "        if clean_text in lang_t5_2024:\n",
    "            color_map[label]  = color_label['High']  # 강조할 언어는 빨간색\n",
    "            marker_map[label] = marker_label['High']  # 강조할 언어는 빨간색\n",
    "        elif clean_text in lang_b5_2024:\n",
    "            color_map[label]  = color_label['Low'] \n",
    "            marker_map[label] = marker_label['Low']\n",
    "        else:\n",
    "            color_map[label]  = color_label['Mid'] \n",
    "            marker_map[label] = marker_label['Mid']\n",
    "\n",
    "    # 데이터 루프\n",
    "    for diff, label, ci_low, ci_high in zip(diffs, labels, ci_lows, ci_highs):\n",
    "        c = color_map.get(label, \"#333333\")  # 매핑 없으면 기본은 검정\n",
    "        err = np.array([[ci_low], [ci_high]])\n",
    "        ax.errorbar(\n",
    "            diff, label,\n",
    "            xerr=err,\n",
    "            # fmt='o',\n",
    "            color=c,\n",
    "            ecolor=c,\n",
    "            elinewidth=2,\n",
    "            capsize=4,\n",
    "            fmt=marker_map.get(label, 'o'),  # 매핑 없으면 기본은 원형\n",
    "            markersize=10\n",
    "        )\n",
    "        \n",
    "\n",
    "    \n",
    "    # ax.errorbar(diffs, labels, xerr=errors, fmt='o', color='#333333', ecolor='#333333', elinewidth=2, capsize=4)\n",
    "    ax.axvline(0, color='black', linestyle='-')\n",
    "    # ax.set_title('Language-wise Entropy Change')\n",
    "    ax.set_xlabel('Change in Entropy(95% CI)', fontsize=20)\n",
    "    ax.grid(True, axis='x')\n",
    "\n",
    "    plt.tick_params(axis='x', labelsize=16)\n",
    "    plt.tick_params(axis='y', labelsize=16)\n",
    "\n",
    "    for label in ax.get_yticklabels():\n",
    "        original_text = label.get_text()        # 예: \"python***\"\n",
    "        label.set_color(color_map[original_text])  # 강조할 언어는 빨간색\n",
    "\n",
    "    handles = [\n",
    "    Line2D([0], [0], marker=marker_label[\"Low\"],  color=color_label[\"Low\"],  linestyle=\"\",\n",
    "        markersize=7, label=\"Low CID\"),\n",
    "    Line2D([0], [0], marker=marker_label[\"Mid\"],  color=color_label[\"Mid\"],  linestyle=\"\",\n",
    "        markersize=7, label=\"Mid CID\"),\n",
    "    Line2D([0], [0], marker=marker_label[\"High\"], color=color_label[\"High\"], linestyle=\"\",\n",
    "        markersize=7, label=\"High CID\")\n",
    "    ]\n",
    "    fig.legend(\n",
    "        handles=handles,\n",
    "        # labels=labels,\n",
    "        loc = 'lower center',\n",
    "        bbox_to_anchor=(0.5, -0.1),   # 캔버스 밖으로 살짝 내리기\n",
    "        frameon=False, \n",
    "        ncol=3,\n",
    "        fontsize=20,\n",
    "        # handler_map={Line2D: HandlerLine2D(numpoints=1)},  # 마커 1개만 일관되게\n",
    "        # handlelength=1.0, handleheight=1.0,  # 마커 상자 크기 통일\n",
    "        # handletextpad=0.6, columnspacing=2.0, labelspacing=0.8,\n",
    "        # borderaxespad=0.0\n",
    "    )\n",
    "    plt.savefig(f\"{output_dir}Result_Fig13.png\", dpi=300, bbox_inches='tight')\n",
    "    plt.show()\n"
   ]
  },
  {
   "cell_type": "code",
   "execution_count": null,
   "metadata": {},
   "outputs": [],
   "source": [
    "# (1) 데이터 준비\n",
    "# data에는 'matched_tags' (언어명), 'period' (before/after), 'entropy' 컬럼이 있어야 해\n",
    "\n",
    "# (2) 분석\n",
    "summary_df = analyze_entropy_change(df_entropy_viz, measure='entropy')\n",
    "\n",
    "plot_forest_with_significance(summary_df)\n",
    "\n",
    "# (4) Summary 테이블도 확인 가능\n",
    "display(summary_df)\n"
   ]
  },
  {
   "cell_type": "code",
   "execution_count": null,
   "metadata": {},
   "outputs": [],
   "source": [
    "summary_df = summary_df.sort_values('Diff')\n",
    "top_summary_df = summary_df[summary_df['Language'].isin(lang_t5_2024)]\n",
    "bot_summary_df = summary_df[summary_df['Language'].isin(lang_b5_2024)]\n",
    "mid_summary_df = summary_df[~(summary_df['Language'].isin(lang_t5_2024)) & ~(summary_df['Language'].isin(lang_b5_2024))]"
   ]
  },
  {
   "cell_type": "code",
   "execution_count": null,
   "metadata": {},
   "outputs": [],
   "source": [
    "summary_dict = dict()\n",
    "summary_dict['High'] = top_summary_df\n",
    "summary_dict['Mid'] = mid_summary_df\n",
    "summary_dict['Low'] = bot_summary_df"
   ]
  },
  {
   "cell_type": "code",
   "execution_count": null,
   "metadata": {},
   "outputs": [],
   "source": [
    "import matplotlib.pyplot as plt\n",
    "\n",
    "fig, axs = plt.subplots(1, 3, figsize=(15, 5), constrained_layout=True, sharex=True)\n",
    "\n",
    "for i, key in enumerate(summary_dict.keys()):\n",
    "    s_df        = summary_dict[key]\n",
    "    languages   = s_df['Language']\n",
    "    diffs       = s_df['Diff'].values\n",
    "    ci_lows     = diffs - s_df['CI_Low'].values\n",
    "    ci_highs    = s_df['CI_High'].values - diffs\n",
    "    p_values    = s_df['pvalue'].values\n",
    "\n",
    "\n",
    "    significance = []\n",
    "    for p in p_values:\n",
    "        if p < 0.05:\n",
    "            significance.append('*')\n",
    "        else:\n",
    "            significance.append('')\n",
    "\n",
    "    labels = [f\"{lang} ({sig})\" if sig else lang for lang, sig in zip(languages, significance)]\n",
    "\n",
    "    for diff, ci_low, ci_high, label, si in zip(diffs , ci_lows, ci_highs, labels, significance):\n",
    "        print(si)\n",
    "        err = np.array([[ci_low], [ci_high]])\n",
    "        axs[i].errorbar(\n",
    "            diff, label,\n",
    "            xerr=err,\n",
    "            fmt=marker_label[key],\n",
    "            color= color_label[key],\n",
    "            ecolor=color_label[key],\n",
    "            elinewidth=2,\n",
    "            capsize=4,\n",
    "            markersize=6\n",
    "        )\n",
    "    # ax.errorbar(diffs, labels, xerr=errors, fmt='o', color='#333333', ecolor='#333333', elinewidth=2, capsize=4)\n",
    "    axs[i].set_title(f\"{key} CID\", fontsize=25)\n",
    "    axs[i].axvline(0, color='black', linestyle='-')\n",
    "    axs[i].tick_params(axis='x', labelsize=16)\n",
    "    axs[i].tick_params(axis='y', labelsize=16)\n",
    "    axs[i].grid(True, axis='x')\n",
    "    fig.supxlabel('Change in Entropy(95% CI)', fontsize=20)\n",
    "plt.savefig(f\"{output_dir}Result_Fig13_1.png\", dpi=300, bbox_inches='tight')\n",
    "plt.show()\n",
    "    \n"
   ]
  },
  {
   "cell_type": "code",
   "execution_count": null,
   "metadata": {},
   "outputs": [],
   "source": [
    "lang_t5_2024\n",
    "lang_b5_2024"
   ]
  },
  {
   "cell_type": "code",
   "execution_count": null,
   "metadata": {},
   "outputs": [],
   "source": [
    "res_summary_df = summary_df[~(summary_df['Language'].isin(lang_t5_2024)) & ~(summary_df['Language'].isin(lang_b5_2024))]"
   ]
  },
  {
   "cell_type": "code",
   "execution_count": null,
   "metadata": {},
   "outputs": [],
   "source": [
    "top_summary_df"
   ]
  },
  {
   "cell_type": "code",
   "execution_count": null,
   "metadata": {},
   "outputs": [],
   "source": [
    "bot_summary_df"
   ]
  },
  {
   "cell_type": "code",
   "execution_count": null,
   "metadata": {},
   "outputs": [],
   "source": []
  }
 ],
 "metadata": {
  "kernelspec": {
   "display_name": "venv_stackoverflow_src",
   "language": "python",
   "name": "python3"
  },
  "language_info": {
   "codemirror_mode": {
    "name": "ipython",
    "version": 3
   },
   "file_extension": ".py",
   "mimetype": "text/x-python",
   "name": "python",
   "nbconvert_exporter": "python",
   "pygments_lexer": "ipython3",
   "version": "3.10.12"
  }
 },
 "nbformat": 4,
 "nbformat_minor": 2
}
