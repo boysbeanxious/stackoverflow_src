{
 "cells": [
  {
   "cell_type": "markdown",
   "metadata": {},
   "source": [
    "# Figure2(Stackedbar)"
   ]
  },
  {
   "cell_type": "code",
   "execution_count": 1,
   "metadata": {},
   "outputs": [],
   "source": [
    "import sys, os\n",
    "p = os.path.abspath('..')\n",
    "sys.path.insert(1, p)\n",
    "\n",
    "pp = os.path.abspath('../../visualization')\n",
    "sys.path.insert(1, pp)"
   ]
  },
  {
   "cell_type": "code",
   "execution_count": 2,
   "metadata": {},
   "outputs": [],
   "source": [
    "from gc import collect\n",
    "\n",
    "from utils.statistics import *\n",
    "from utils.settings import set_matplotlib\n",
    "from distribution_collector import (collect_topic_distributions,\n",
    "                                get_top_and_bottom_topics,\n",
    "                                extract_specific_topics)\n",
    "from constants import CONSTANTS\n",
    "from matplotlib import pyplot as plt\n",
    "import numpy as np\n",
    "import pandas as pd\n",
    "from statsmodels.nonparametric.smoothers_lowess import lowess\n",
    "import matplotlib as mpl\n",
    "\n",
    "import psycopg2\n",
    "import pandas as pd\n",
    "import numpy as np\n",
    "from utils.statistics import *\n",
    "import config.config as conf\n",
    "import datetime\n",
    "import re\n",
    "# 포뮬러 구성\n",
    "import statsmodels.formula.api as smf\n",
    "import numpy as np\n",
    "import pandas as pd\n"
   ]
  },
  {
   "cell_type": "code",
   "execution_count": 3,
   "metadata": {},
   "outputs": [
    {
     "name": "stdout",
     "output_type": "stream",
     "text": [
      "Helvetica /System/Library/Fonts/Helvetica.ttc\n",
      "Helvetica Neue /System/Library/Fonts/HelveticaNeue.ttc\n",
      "Registered font name: Helvetica\n"
     ]
    }
   ],
   "source": [
    "from matplotlib import font_manager\n",
    "import matplotlib as mpl\n",
    "from matplotlib import font_manager as fm\n",
    "\n",
    "# 설치된 폰트 이름과 경로 확인\n",
    "for font in font_manager.fontManager.ttflist:\n",
    "    if 'Helvetica' in font.name: # 'Nanum' 대신 원하는 글꼴의 일부를 입력하여 검색할 수 있습니다.\n",
    "        print(font.name, font.fname)\n",
    "\n",
    "# 직접 경로로 Helvetica 폰트 불러오기\n",
    "font_path = \"/System/Library/Fonts/Helvetica.ttc\"\n",
    "font_prop = fm.FontProperties(fname=font_path)\n",
    "font_name = font_prop.get_name()\n",
    "print(f\"Registered font name: {font_name}\")\n",
    "\n",
    "mpl.rcParams['font.family'] = font_name\n"
   ]
  },
  {
   "cell_type": "code",
   "execution_count": 4,
   "metadata": {},
   "outputs": [],
   "source": [
    "data_dir_test_1 = f'../../visualization/{CONSTANTS.bert_monthly_data_dir[3:]}'\n",
    "data_dir_test_3 = f'../../visualization/{CONSTANTS.bert_monthly_data_dir_3[3:]}'"
   ]
  }
 ],
 "metadata": {
  "kernelspec": {
   "display_name": "Python 3",
   "language": "python",
   "name": "python3"
  },
  "language_info": {
   "codemirror_mode": {
    "name": "ipython",
    "version": 3
   },
   "file_extension": ".py",
   "mimetype": "text/x-python",
   "name": "python",
   "nbconvert_exporter": "python",
   "pygments_lexer": "ipython3",
   "version": "3.9.6"
  }
 },
 "nbformat": 4,
 "nbformat_minor": 2
}
