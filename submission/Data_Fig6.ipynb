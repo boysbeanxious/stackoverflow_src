{
 "cells": [
  {
   "cell_type": "markdown",
   "metadata": {},
   "source": [
    "5/10/15/20/25/30 일 기준 질문을 30개씩 샘플링 X 10번 반복  \n",
    "각 버전 별로 난이도 비율 계산하여 chow test 수행 \n",
    "일자별로 계산하여 시각화"
   ]
  },
  {
   "cell_type": "code",
   "execution_count": 1,
   "metadata": {},
   "outputs": [],
   "source": [
    "import sys, os\n",
    "p = os.path.abspath('..')\n",
    "pp = os.path.abspath('../..')\n",
    "sys.path.insert(1, p)\n",
    "sys.path.insert(1, pp)"
   ]
  },
  {
   "cell_type": "code",
   "execution_count": 2,
   "metadata": {},
   "outputs": [
    {
     "name": "stdout",
     "output_type": "stream",
     "text": [
      "INFO 10-19 11:55:11 [__init__.py:216] Automatically detected platform cuda.\n"
     ]
    }
   ],
   "source": [
    "import pandas as pd\n",
    "import re\n",
    "import numpy as np\n",
    "import pickle\n",
    "import matplotlib.pyplot as plt\n",
    "import seaborn as sns\n",
    "import datetime\n",
    "import lib.stats.stats as st\n",
    "import lib.annotation.Result_Prep as rp\n",
    "import config.config as conf\n"
   ]
  },
  {
   "cell_type": "code",
   "execution_count": 3,
   "metadata": {},
   "outputs": [],
   "source": [
    "fig_path = './fig/'\n",
    "path = f'../LLM/result/'\n",
    "file_list = os.listdir(path)"
   ]
  },
  {
   "cell_type": "code",
   "execution_count": 4,
   "metadata": {},
   "outputs": [],
   "source": [
    "fig_path = './fig/'\n",
    "colors = plt.get_cmap('tab20').colors "
   ]
  },
  {
   "cell_type": "code",
   "execution_count": 5,
   "metadata": {},
   "outputs": [
    {
     "data": {
      "text/plain": [
       "((0.12156862745098039, 0.4666666666666667, 0.7058823529411765),\n",
       " (0.6823529411764706, 0.7803921568627451, 0.9098039215686274),\n",
       " (1.0, 0.4980392156862745, 0.054901960784313725),\n",
       " (1.0, 0.7333333333333333, 0.47058823529411764),\n",
       " (0.17254901960784313, 0.6274509803921569, 0.17254901960784313),\n",
       " (0.596078431372549, 0.8745098039215686, 0.5411764705882353),\n",
       " (0.8392156862745098, 0.15294117647058825, 0.1568627450980392),\n",
       " (1.0, 0.596078431372549, 0.5882352941176471),\n",
       " (0.5803921568627451, 0.403921568627451, 0.7411764705882353),\n",
       " (0.7725490196078432, 0.6901960784313725, 0.8352941176470589),\n",
       " (0.5490196078431373, 0.33725490196078434, 0.29411764705882354),\n",
       " (0.7686274509803922, 0.611764705882353, 0.5803921568627451),\n",
       " (0.8901960784313725, 0.4666666666666667, 0.7607843137254902),\n",
       " (0.9686274509803922, 0.7137254901960784, 0.8235294117647058),\n",
       " (0.4980392156862745, 0.4980392156862745, 0.4980392156862745),\n",
       " (0.7803921568627451, 0.7803921568627451, 0.7803921568627451),\n",
       " (0.7372549019607844, 0.7411764705882353, 0.13333333333333333),\n",
       " (0.8588235294117647, 0.8588235294117647, 0.5529411764705883),\n",
       " (0.09019607843137255, 0.7450980392156863, 0.8117647058823529),\n",
       " (0.6196078431372549, 0.8549019607843137, 0.8980392156862745))"
      ]
     },
     "execution_count": 5,
     "metadata": {},
     "output_type": "execute_result"
    }
   ],
   "source": [
    "plt.get_cmap('tab20').colors "
   ]
  },
  {
   "cell_type": "code",
   "execution_count": 6,
   "metadata": {},
   "outputs": [],
   "source": [
    "r_p = rp.Result_Prep()"
   ]
  },
  {
   "cell_type": "code",
   "execution_count": 7,
   "metadata": {},
   "outputs": [],
   "source": [
    "sample1_list = sorted([y for y in [x for x in file_list if x.isdigit()] if (int(y)>=50000)&(int(y)<11110000)])\n",
    "sample2_list = sorted([y for y in [x for x in file_list if x.isdigit()] if (int(y)>=11110000) & (int(y)<=98880000)])\n",
    "# ver_list = sorted([y for y in [x for x in file_list if x.isdigit()] if (int(y)>=11110000) & (int(y)<=98880000)])"
   ]
  },
  {
   "cell_type": "code",
   "execution_count": 8,
   "metadata": {},
   "outputs": [],
   "source": [
    "def get_tot_calc(ver_list) : \n",
    "    tot_calc = pd.DataFrame()\n",
    "    for listid in ver_list:\n",
    "        df = r_p.make_one_file(listid)\n",
    "        if isinstance(df, pd.core.frame.DataFrame):\n",
    "            df = r_p.pp_df(df, 5)\n",
    "            df = r_p.calc_rate(df)\n",
    "            tot_calc = pd.concat([tot_calc, df], axis = 0)\n",
    "    return tot_calc\n",
    "\n",
    "    "
   ]
  },
  {
   "cell_type": "code",
   "execution_count": 9,
   "metadata": {},
   "outputs": [],
   "source": [
    "s1_tot_calc = get_tot_calc(sample1_list)\n",
    "s2_tot_calc = get_tot_calc(sample2_list)"
   ]
  },
  {
   "cell_type": "code",
   "execution_count": 10,
   "metadata": {},
   "outputs": [],
   "source": [
    "def get_proportion_per_level(tot_calc) : \n",
    "    df_date = r_p.pp_date(tot_calc)\n",
    "    m_chk_cnt_dict = dict()\n",
    "\n",
    "    for x in range(0, 3):\n",
    "        df = tot_calc[tot_calc['o_result'] ==str(x)]\n",
    "\n",
    "        df_merge = pd.merge(df_date, df[['creationdate', 'rel_days', 'o_result', 'rate']], on = 'creationdate', how='left')\n",
    "        df_merge.loc[df_merge['o_result'].isna(), 'rate'] = 0\n",
    "\n",
    "        df_merge.loc[:, 'o_result'] = str(x)\n",
    "        df_merge['rel_days'] = np.where(df_merge['rel_days'].isna(), (df_merge['creationdate'] - datetime.datetime(2022,11,30)).dt.days, df_merge['rel_days'])\n",
    "        m_chk_cnt_dict[x] = df_merge\n",
    "    return m_chk_cnt_dict"
   ]
  },
  {
   "cell_type": "code",
   "execution_count": 11,
   "metadata": {},
   "outputs": [],
   "source": [
    "s1_tot_dict = get_proportion_per_level(s1_tot_calc)\n",
    "s2_tot_dict = get_proportion_per_level(s2_tot_calc)"
   ]
  },
  {
   "cell_type": "code",
   "execution_count": 12,
   "metadata": {},
   "outputs": [],
   "source": [
    "s1_major_xticks = s1_tot_dict[0]['creationdate'].to_list()\n",
    "s2_major_xticks = s2_tot_dict[0]['creationdate'].to_list()"
   ]
  },
  {
   "cell_type": "code",
   "execution_count": 13,
   "metadata": {},
   "outputs": [],
   "source": [
    "s1_tot_prop = s1_tot_calc.groupby('o_result')[['r_cnt']].sum().reset_index()\n",
    "s2_tot_prop = s2_tot_calc.groupby('o_result')[['r_cnt']].sum().reset_index()"
   ]
  },
  {
   "cell_type": "code",
   "execution_count": 14,
   "metadata": {},
   "outputs": [],
   "source": [
    "s1_tot_prop['proportion'] = s1_tot_prop['r_cnt'].div(s1_tot_prop['r_cnt'].sum())*100\n",
    "s2_tot_prop['proportion'] = s2_tot_prop['r_cnt'].div(s2_tot_prop['r_cnt'].sum())*100"
   ]
  },
  {
   "cell_type": "code",
   "execution_count": 15,
   "metadata": {},
   "outputs": [
    {
     "data": {
      "text/html": [
       "<div>\n",
       "<style scoped>\n",
       "    .dataframe tbody tr th:only-of-type {\n",
       "        vertical-align: middle;\n",
       "    }\n",
       "\n",
       "    .dataframe tbody tr th {\n",
       "        vertical-align: top;\n",
       "    }\n",
       "\n",
       "    .dataframe thead th {\n",
       "        text-align: right;\n",
       "    }\n",
       "</style>\n",
       "<table border=\"1\" class=\"dataframe\">\n",
       "  <thead>\n",
       "    <tr style=\"text-align: right;\">\n",
       "      <th></th>\n",
       "      <th>o_result</th>\n",
       "      <th>r_cnt</th>\n",
       "      <th>proportion</th>\n",
       "    </tr>\n",
       "  </thead>\n",
       "  <tbody>\n",
       "    <tr>\n",
       "      <th>0</th>\n",
       "      <td>0</td>\n",
       "      <td>6235</td>\n",
       "      <td>22.368515</td>\n",
       "    </tr>\n",
       "    <tr>\n",
       "      <th>1</th>\n",
       "      <td>1</td>\n",
       "      <td>17113</td>\n",
       "      <td>61.394131</td>\n",
       "    </tr>\n",
       "    <tr>\n",
       "      <th>2</th>\n",
       "      <td>2</td>\n",
       "      <td>4526</td>\n",
       "      <td>16.237354</td>\n",
       "    </tr>\n",
       "  </tbody>\n",
       "</table>\n",
       "</div>"
      ],
      "text/plain": [
       "  o_result  r_cnt  proportion\n",
       "0        0   6235   22.368515\n",
       "1        1  17113   61.394131\n",
       "2        2   4526   16.237354"
      ]
     },
     "execution_count": 15,
     "metadata": {},
     "output_type": "execute_result"
    }
   ],
   "source": [
    "s1_tot_prop"
   ]
  },
  {
   "cell_type": "code",
   "execution_count": 16,
   "metadata": {},
   "outputs": [
    {
     "data": {
      "text/html": [
       "<div>\n",
       "<style scoped>\n",
       "    .dataframe tbody tr th:only-of-type {\n",
       "        vertical-align: middle;\n",
       "    }\n",
       "\n",
       "    .dataframe tbody tr th {\n",
       "        vertical-align: top;\n",
       "    }\n",
       "\n",
       "    .dataframe thead th {\n",
       "        text-align: right;\n",
       "    }\n",
       "</style>\n",
       "<table border=\"1\" class=\"dataframe\">\n",
       "  <thead>\n",
       "    <tr style=\"text-align: right;\">\n",
       "      <th></th>\n",
       "      <th>o_result</th>\n",
       "      <th>r_cnt</th>\n",
       "      <th>proportion</th>\n",
       "    </tr>\n",
       "  </thead>\n",
       "  <tbody>\n",
       "    <tr>\n",
       "      <th>0</th>\n",
       "      <td>0</td>\n",
       "      <td>3157</td>\n",
       "      <td>21.925134</td>\n",
       "    </tr>\n",
       "    <tr>\n",
       "      <th>1</th>\n",
       "      <td>1</td>\n",
       "      <td>8850</td>\n",
       "      <td>61.462602</td>\n",
       "    </tr>\n",
       "    <tr>\n",
       "      <th>2</th>\n",
       "      <td>2</td>\n",
       "      <td>2392</td>\n",
       "      <td>16.612265</td>\n",
       "    </tr>\n",
       "  </tbody>\n",
       "</table>\n",
       "</div>"
      ],
      "text/plain": [
       "  o_result  r_cnt  proportion\n",
       "0        0   3157   21.925134\n",
       "1        1   8850   61.462602\n",
       "2        2   2392   16.612265"
      ]
     },
     "execution_count": 16,
     "metadata": {},
     "output_type": "execute_result"
    }
   ],
   "source": [
    "s2_tot_prop"
   ]
  },
  {
   "cell_type": "code",
   "execution_count": 17,
   "metadata": {},
   "outputs": [
    {
     "data": {
      "image/png": "[encoded data removed]",
      "text/plain": [
       "<Figure size 1000x800 with 1 Axes>"
      ]
     },
     "metadata": {},
     "output_type": "display_data"
    }
   ],
   "source": [
    "import matplotlib.pyplot as plt\n",
    "import numpy as np\n",
    "\n",
    "y = np.arange(len(s2_tot_prop['o_result']))\n",
    "\n",
    "# 그래프 설정\n",
    "plt.figure(figsize=(10, 8))\n",
    "bar_smp1 = plt.barh(y, [-x for x in s1_tot_prop['proportion']], color=colors[0], label='sample 1')  # 음수로 표현\n",
    "bar_smp2 = plt.barh(y, s2_tot_prop['proportion'], color=colors[2], label='sample 2')\n",
    "\n",
    "# y축 레이블 (연령대)\n",
    "plt.yticks(y, ['Basic', 'Intermediate', 'Advance'])\n",
    "plt.xlabel('Proportion(%)')\n",
    "# plt.title('Proportion of Difficulty Level for Each Sample')\n",
    "plt.legend(loc='upper right')\n",
    "\n",
    "for i in y:\n",
    "\n",
    "    percent_smp1 = s1_tot_prop.loc[s1_tot_prop['o_result'] == str(i), 'proportion'].values[0]\n",
    "    percent_smp2 = s2_tot_prop.loc[s2_tot_prop['o_result'] == str(i), 'proportion'].values[0]\n",
    "\n",
    "    # 남자 바 오른쪽 끝 (음수 방향 → 왼쪽)\n",
    "    plt.text([-x for x in s1_tot_prop['proportion']][i], y[i] - 0.08, f\"{percent_smp1:.1f}%\", ha='center', va='bottom', color='black', fontsize=9)\n",
    "\n",
    "    # 여자 바 오른쪽 끝 (양수 방향 → 오른쪽)\n",
    "    plt.text(s2_tot_prop['proportion'][i], y[i] - 0.08, f\"{percent_smp2:.1f}%\", ha='center', va='bottom', color='black', fontsize=9)\n",
    "\n",
    "\n",
    "# x축의 눈금 표시를 절대값으로 (음수 제거)\n",
    "xticks = plt.xticks()[0]\n",
    "plt.xticks(xticks, [f\"{abs(int(x)):,}\" for x in xticks])\n",
    "plt.tight_layout()\n",
    "plt.savefig(f\"{fig_path}SI_Data_Fig5.png\", dpi=300, bbox_inches='tight')\n",
    "plt.show()\n"
   ]
  },
  {
   "cell_type": "code",
   "execution_count": null,
   "metadata": {},
   "outputs": [
    {
     "data": {
      "image/png": "[encoded data removed]",
      "text/plain": [
       "<Figure size 600x400 with 1 Axes>"
      ]
     },
     "metadata": {},
     "output_type": "display_data"
    }
   ],
   "source": [
    "import matplotlib.pyplot as plt\n",
    "import numpy as np\n",
    "\n",
    "# 라벨 및 위치\n",
    "labels = ['Basic', 'Intermediate', 'Advanced']\n",
    "x = np.arange(len(labels))  # x축 위치\n",
    "width = 0.35  # 막대 너비\n",
    "\n",
    "# 색상 설정\n",
    "sample1_color = '#0072B2'  # Blue\n",
    "sample2_color = '#D55E00'  # Vermilion\n",
    "\n",
    "# 그래프 생성\n",
    "fig, ax = plt.subplots(figsize=(6, 4))\n",
    "bar1 = ax.bar(x - width/2, s1_tot_prop['proportion'], width, label='Sampling method 1', color=sample1_color)\n",
    "bar2 = ax.bar(x + width/2, s2_tot_prop['proportion'], width, label='Sampling method 2', color=sample2_color)\n",
    "\n",
    "# 축 설정\n",
    "ax.set_ylabel('Proportion (%)')\n",
    "ax.set_xticks(x)\n",
    "ax.set_xticklabels(labels)\n",
    "ax.legend(loc='upper right')\n",
    "\n",
    "# 수치 레이블 추가\n",
    "for i in range(len(labels)):\n",
    "    ax.text(x[i] - width/2, s1_tot_prop['proportion'][i] + 1, f\"{s1_tot_prop['proportion'][i]:.1f}%\", \n",
    "            ha='center', va='bottom', fontsize=8)\n",
    "    ax.text(x[i] + width/2, s2_tot_prop['proportion'][i] + 1, f\"{s2_tot_prop['proportion'][i]:.1f}%\", \n",
    "            ha='center', va='bottom', fontsize=8)\n",
    "\n",
    "# y축 범위 약간 여유 주기\n",
    "ax.set_ylim(0, max(s1_tot_prop['proportion'].max(), s2_tot_prop['proportion'].max()) + 10)\n",
    "\n",
    "# 폰트 설정\n",
    "plt.rcParams['font.size'] = 9\n",
    "\n",
    "# 레이아웃 정리 및 저장\n",
    "plt.tight_layout()\n",
    "plt.savefig(f\"{fig_path}SI_Data_Fig6.png\", dpi=300, bbox_inches='tight')\n",
    "plt.show()\n"
   ]
  },
  {
   "cell_type": "code",
   "execution_count": 19,
   "metadata": {},
   "outputs": [
    {
     "data": {
      "text/plain": [
       "((0.12156862745098039, 0.4666666666666667, 0.7058823529411765),\n",
       " (0.6823529411764706, 0.7803921568627451, 0.9098039215686274),\n",
       " (1.0, 0.4980392156862745, 0.054901960784313725),\n",
       " (1.0, 0.7333333333333333, 0.47058823529411764),\n",
       " (0.17254901960784313, 0.6274509803921569, 0.17254901960784313),\n",
       " (0.596078431372549, 0.8745098039215686, 0.5411764705882353),\n",
       " (0.8392156862745098, 0.15294117647058825, 0.1568627450980392),\n",
       " (1.0, 0.596078431372549, 0.5882352941176471),\n",
       " (0.5803921568627451, 0.403921568627451, 0.7411764705882353),\n",
       " (0.7725490196078432, 0.6901960784313725, 0.8352941176470589),\n",
       " (0.5490196078431373, 0.33725490196078434, 0.29411764705882354),\n",
       " (0.7686274509803922, 0.611764705882353, 0.5803921568627451),\n",
       " (0.8901960784313725, 0.4666666666666667, 0.7607843137254902),\n",
       " (0.9686274509803922, 0.7137254901960784, 0.8235294117647058),\n",
       " (0.4980392156862745, 0.4980392156862745, 0.4980392156862745),\n",
       " (0.7803921568627451, 0.7803921568627451, 0.7803921568627451),\n",
       " (0.7372549019607844, 0.7411764705882353, 0.13333333333333333),\n",
       " (0.8588235294117647, 0.8588235294117647, 0.5529411764705883),\n",
       " (0.09019607843137255, 0.7450980392156863, 0.8117647058823529),\n",
       " (0.6196078431372549, 0.8549019607843137, 0.8980392156862745))"
      ]
     },
     "execution_count": 19,
     "metadata": {},
     "output_type": "execute_result"
    }
   ],
   "source": [
    "plt.get_cmap('tab20').colors"
   ]
  },
  {
   "cell_type": "code",
   "execution_count": 20,
   "metadata": {},
   "outputs": [
    {
     "data": {
      "image/png": "[encoded data removed]",
      "text/html": [
       "<div style=\"vertical-align: middle;\"><strong>tab20</strong> </div><div class=\"cmap\"><img alt=\"tab20 colormap\" title=\"tab20\" style=\"border: 1px solid #555;\" src=\"data:image/png;base64,iVBORw0KGgoAAAANSUhEUgAAAgAAAABACAYAAABsv8+/AAAAFHRFWHRUaXRsZQB0YWIyMCBjb2xvcm1hcM5rFwoAAAAadEVYdERlc2NyaXB0aW9uAHRhYjIwIGNvbG9ybWFwMDS+7AAAADB0RVh0QXV0aG9yAE1hdHBsb3RsaWIgdjMuOS4yLCBodHRwczovL21hdHBsb3RsaWIub3JnYZnFUwAAADJ0RVh0U29mdHdhcmUATWF0cGxvdGxpYiB2My45LjIsIGh0dHBzOi8vbWF0cGxvdGxpYi5vcmdPP1p0AAABxklEQVR4nO3WMUrWARyH8a+eoEHCIXw3pcEgaGgQhQZ53WwOOoBJ4KJHsM2p1bGtzaEbiFMHaIyOoGud4vcn+H4+F3jWZ2N1dfc3C7g5fbNEJu9/7M5HDs7mG0n2/9yNN86PPo43kuRwfTveeHnxebyRJF9/7o03Xp9sjzeS5P7b5SKdt8cn443Vr1fjjSTZOno23vjy8H28kSTr9Xq88fj0YbyRJKudT+ONg9/vxhtJcv3i+SKdzUUqAMB/xQAAQCEDAACFDAAAFDIAAFDIAABAIQMAAIUMAAAUMgAAUMgAAEAhAwAAhQwAABQyAABQyAAAQCEDAACFDAAAFDIAAFDIAABAIQMAAIUMAAAUMgAAUMgAAEAhAwAAhQwAABQyAABQyAAAQCEDAACFDAAAFDIAAFDIAABAIQMAAIUMAAAUMgAAUMgAAEAhAwAAhQwAABQyAABQyAAAQCEDAACFDAAAFDIAAFDIAABAIQMAAIUMAAAUMgAAUMgAAEAhAwAAhQwAABQyAABQyAAAQCEDAACFDAAAFDIAAFDIAABAIQMAAIUMAAAUMgAAUMgAAEAhAwAAhQwAABQyAABQyAAAQCEDAACF/gH40hjcC1ZyLQAAAABJRU5ErkJggg==\"></div><div style=\"vertical-align: middle; max-width: 514px; display: flex; justify-content: space-between;\"><div style=\"float: left;\"><div title=\"#1f77b4ff\" style=\"display: inline-block; width: 1em; height: 1em; margin: 0; vertical-align: middle; border: 1px solid #555; background-color: #1f77b4ff;\"></div> under</div><div style=\"margin: 0 auto; display: inline-block;\">bad <div title=\"#00000000\" style=\"display: inline-block; width: 1em; height: 1em; margin: 0; vertical-align: middle; border: 1px solid #555; background-color: #00000000;\"></div></div><div style=\"float: right;\">over <div title=\"#9edae5ff\" style=\"display: inline-block; width: 1em; height: 1em; margin: 0; vertical-align: middle; border: 1px solid #555; background-color: #9edae5ff;\"></div></div></div>"
      ],
      "text/plain": [
       "<matplotlib.colors.ListedColormap at 0x7f4ff1403580>"
      ]
     },
     "execution_count": 20,
     "metadata": {},
     "output_type": "execute_result"
    }
   ],
   "source": [
    "plt.get_cmap('tab20')"
   ]
  },
  {
   "cell_type": "code",
   "execution_count": null,
   "metadata": {},
   "outputs": [],
   "source": []
  }
 ],
 "metadata": {
  "kernelspec": {
   "display_name": "venv_stackoverflow_src",
   "language": "python",
   "name": "python3"
  },
  "language_info": {
   "codemirror_mode": {
    "name": "ipython",
    "version": 3
   },
   "file_extension": ".py",
   "mimetype": "text/x-python",
   "name": "python",
   "nbconvert_exporter": "python",
   "pygments_lexer": "ipython3",
   "version": "3.10.12"
  }
 },
 "nbformat": 4,
 "nbformat_minor": 2
}
