{
 "cells": [
  {
   "cell_type": "code",
   "execution_count": 1,
   "metadata": {},
   "outputs": [],
   "source": [
    "import sys, os\n",
    "p = os.path.abspath('..')\n",
    "# p = p+r'\\config'\n",
    "sys.path.insert(1, p)"
   ]
  },
  {
   "cell_type": "code",
   "execution_count": 2,
   "metadata": {},
   "outputs": [],
   "source": [
    "import pandas as pd\n",
    "import matplotlib.pyplot as plt\n",
    "import re\n",
    "import numpy as np\n",
    "from sklearn import metrics"
   ]
  },
  {
   "cell_type": "code",
   "execution_count": 3,
   "metadata": {},
   "outputs": [],
   "source": [
    "path = '../LLM/result'\n",
    "file_list = os.listdir(path)\n",
    "fig_path = './fig/'\n",
    "colors = plt.get_cmap('tab20').colors "
   ]
  },
  {
   "cell_type": "code",
   "execution_count": 4,
   "metadata": {},
   "outputs": [],
   "source": [
    "def sc_calc_acc_condition_with_temp_with_sc(llm_model, few_shot_n, test_n, q_src_yn, ver, p_ver, sc_num, temp, excel_ver):\n",
    "    # ./result/sc_l_result_4_15_Y_30_sys_prompt8_0.01_ver1_0.csv\n",
    "    tmp = pd.DataFrame()\n",
    "    df_eval = pd.DataFrame()\n",
    "\n",
    "    acc_list = []\n",
    "    f1_list = []\n",
    "    file_list = os.listdir(path)\n",
    "    opt_file = [x for x in file_list if x.startswith(f'sc_{llm_model}_result_{few_shot_n}_{test_n}_{q_src_yn}_{ver}_{p_ver}_{sc_num}_{temp}_{excel_ver}')]\n",
    "    opt_file = [x for x in opt_file if x.endswith(f'.csv')]\n",
    "\n",
    "    df = pd.DataFrame()\n",
    "\n",
    "    \n",
    "    if len(opt_file)>0 : \n",
    "        for f in opt_file:\n",
    "            print(f)\n",
    "            tmp = pd.read_csv(f'{path}/{f}', index_col =0)\n",
    "            tmp = tmp.dropna()\n",
    "\n",
    "            tmp['gold'] = tmp['answer_encode'].apply(lambda x : re.sub(r'[^012]', '', x))\n",
    "            tmp['o_result'] = tmp['result'].apply(lambda x : re.sub(r'[^012]', '', x))\n",
    "            tmp = tmp[tmp['o_result'].isin(['1', '0', '2'])]\n",
    "\n",
    "            \n",
    "            gold_df = tmp[['id', 'gold']].drop_duplicates()\n",
    "            chk_cnt = tmp.groupby(['id', 'o_result']).count().reset_index()[['id', 'o_result', 'question']]\n",
    "            chk_cnt = chk_cnt.rename(columns = {'question': 'cnt'})\n",
    "            chk_cnt = chk_cnt[chk_cnt['cnt'] == sc_num]\n",
    "            chk_cnt = chk_cnt.sort_values(by = ['id', 'cnt'], ascending=[True, False]).groupby(['id']).head(1)\n",
    "            df_eval = pd.merge(gold_df, chk_cnt, on = ['id'])\n",
    "\n",
    "            df_eval['equal_yn'] = np.where(df_eval['gold']==df_eval['o_result'], 1, 0)\n",
    "            acc = (df_eval['equal_yn'].sum()/df_eval.shape[0]) \n",
    "            acc_list.append(acc)\n",
    "            \n",
    "            y_true = df_eval['o_result']\n",
    "            y_pred = df_eval['gold']\n",
    "            f1_dict = metrics.classification_report(y_true, y_pred, digits=3, output_dict=True)\n",
    "            f1_list.append(f1_dict)\n",
    "\n",
    "            df = pd.concat([df, df_eval], axis =0)\n",
    "            \n",
    "        df['equal_yn'] = np.where(df['gold']==df['o_result'], 1, 0)\n",
    "        acc = (df['equal_yn'].sum()/df.shape[0])*100            \n",
    "        print(f'{llm_model}_result_{few_shot_n}_{test_n}_{q_src_yn} : ', acc)\n",
    "\n",
    "\n",
    "        return acc_list, f1_list\n"
   ]
  },
  {
   "cell_type": "code",
   "execution_count": 5,
   "metadata": {},
   "outputs": [
    {
     "name": "stdout",
     "output_type": "stream",
     "text": [
      "sc_l_result_4_30_Y_100_sys_prompt9_5_0.01_ver3_61.csv\n",
      "sc_l_result_4_30_Y_100_sys_prompt9_5_0.01_ver3_35.csv\n",
      "sc_l_result_4_30_Y_100_sys_prompt9_5_0.01_ver3_29.csv\n",
      "sc_l_result_4_30_Y_100_sys_prompt9_5_0.01_ver3_58.csv\n",
      "sc_l_result_4_30_Y_100_sys_prompt9_5_0.01_ver3_77.csv\n",
      "sc_l_result_4_30_Y_100_sys_prompt9_5_0.01_ver3_49.csv\n",
      "sc_l_result_4_30_Y_100_sys_prompt9_5_0.01_ver3_84.csv\n",
      "sc_l_result_4_30_Y_100_sys_prompt9_5_0.01_ver3_36.csv\n",
      "sc_l_result_4_30_Y_100_sys_prompt9_5_0.01_ver3_25.csv\n",
      "sc_l_result_4_30_Y_100_sys_prompt9_5_0.01_ver3_53.csv\n",
      "sc_l_result_4_30_Y_100_sys_prompt9_5_0.01_ver3_55.csv\n",
      "sc_l_result_4_30_Y_100_sys_prompt9_5_0.01_ver3_40.csv\n",
      "sc_l_result_4_30_Y_100_sys_prompt9_5_0.01_ver3_85.csv\n",
      "sc_l_result_4_30_Y_100_sys_prompt9_5_0.01_ver3_5.csv\n",
      "sc_l_result_4_30_Y_100_sys_prompt9_5_0.01_ver3_57.csv\n",
      "sc_l_result_4_30_Y_100_sys_prompt9_5_0.01_ver3_70.csv\n",
      "sc_l_result_4_30_Y_100_sys_prompt9_5_0.01_ver3_37.csv\n",
      "sc_l_result_4_30_Y_100_sys_prompt9_5_0.01_ver3_83.csv\n",
      "sc_l_result_4_30_Y_100_sys_prompt9_5_0.01_ver3_68.csv\n",
      "sc_l_result_4_30_Y_100_sys_prompt9_5_0.01_ver3_26.csv\n",
      "sc_l_result_4_30_Y_100_sys_prompt9_5_0.01_ver3_42.csv\n",
      "sc_l_result_4_30_Y_100_sys_prompt9_5_0.01_ver3_89.csv\n",
      "sc_l_result_4_30_Y_100_sys_prompt9_5_0.01_ver3_12.csv\n",
      "sc_l_result_4_30_Y_100_sys_prompt9_5_0.01_ver3_20.csv\n",
      "sc_l_result_4_30_Y_100_sys_prompt9_5_0.01_ver3_51.csv\n",
      "sc_l_result_4_30_Y_100_sys_prompt9_5_0.01_ver3_80.csv\n",
      "sc_l_result_4_30_Y_100_sys_prompt9_5_0.01_ver3_62.csv\n",
      "sc_l_result_4_30_Y_100_sys_prompt9_5_0.01_ver3_44.csv\n",
      "sc_l_result_4_30_Y_100_sys_prompt9_5_0.01_ver3_13.csv\n",
      "sc_l_result_4_30_Y_100_sys_prompt9_5_0.01_ver3_86.csv\n",
      "sc_l_result_4_30_Y_100_sys_prompt9_5_0.01_ver3_79.csv\n",
      "sc_l_result_4_30_Y_100_sys_prompt9_5_0.01_ver3_59.csv\n",
      "sc_l_result_4_30_Y_100_sys_prompt9_5_0.01_ver3_56.csv\n",
      "sc_l_result_4_30_Y_100_sys_prompt9_5_0.01_ver3_22.csv\n",
      "sc_l_result_4_30_Y_100_sys_prompt9_5_0.01_ver3_1.csv\n",
      "sc_l_result_4_30_Y_100_sys_prompt9_5_0.01_ver3_47.csv\n",
      "sc_l_result_4_30_Y_100_sys_prompt9_5_0.01_ver3_65.csv\n",
      "sc_l_result_4_30_Y_100_sys_prompt9_5_0.01_ver3_81.csv\n",
      "sc_l_result_4_30_Y_100_sys_prompt9_5_0.01_ver3_54.csv\n",
      "sc_l_result_4_30_Y_100_sys_prompt9_5_0.01_ver3_63.csv\n",
      "sc_l_result_4_30_Y_100_sys_prompt9_5_0.01_ver3_21.csv\n",
      "sc_l_result_4_30_Y_100_sys_prompt9_5_0.01_ver3_46.csv\n",
      "sc_l_result_4_30_Y_100_sys_prompt9_5_0.01_ver3_34.csv\n",
      "sc_l_result_4_30_Y_100_sys_prompt9_5_0.01_ver3_27.csv\n",
      "sc_l_result_4_30_Y_100_sys_prompt9_5_0.01_ver3_4.csv\n",
      "sc_l_result_4_30_Y_100_sys_prompt9_5_0.01_ver3_10.csv\n",
      "sc_l_result_4_30_Y_100_sys_prompt9_5_0.01_ver3_67.csv\n",
      "sc_l_result_4_30_Y_100_sys_prompt9_5_0.01_ver3_0.csv\n",
      "sc_l_result_4_30_Y_100_sys_prompt9_5_0.01_ver3_52.csv\n",
      "sc_l_result_4_30_Y_100_sys_prompt9_5_0.01_ver3_38.csv\n",
      "sc_l_result_4_30_Y_100_sys_prompt9_5_0.01_ver3_78.csv\n",
      "sc_l_result_4_30_Y_100_sys_prompt9_5_0.01_ver3_71.csv\n",
      "sc_l_result_4_30_Y_100_sys_prompt9_5_0.01_ver3_30.csv\n",
      "sc_l_result_4_30_Y_100_sys_prompt9_5_0.01_ver3_8.csv\n",
      "sc_l_result_4_30_Y_100_sys_prompt9_5_0.01_ver3_88.csv\n",
      "sc_l_result_4_30_Y_100_sys_prompt9_5_0.01_ver3_64.csv\n",
      "sc_l_result_4_30_Y_100_sys_prompt9_5_0.01_ver3_69.csv\n",
      "sc_l_result_4_30_Y_100_sys_prompt9_5_0.01_ver3_39.csv\n",
      "sc_l_result_4_30_Y_100_sys_prompt9_5_0.01_ver3_45.csv\n",
      "sc_l_result_4_30_Y_100_sys_prompt9_5_0.01_ver3_72.csv\n",
      "sc_l_result_4_30_Y_100_sys_prompt9_5_0.01_ver3_48.csv\n",
      "sc_l_result_4_30_Y_100_sys_prompt9_5_0.01_ver3_66.csv\n",
      "sc_l_result_4_30_Y_100_sys_prompt9_5_0.01_ver3_11.csv\n",
      "sc_l_result_4_30_Y_100_sys_prompt9_5_0.01_ver3_73.csv\n"
     ]
    },
    {
     "name": "stderr",
     "output_type": "stream",
     "text": [
      "/home/mghan/sopjt/git/stackoverflow_src/venv_stackoverflow_src/lib/python3.10/site-packages/sklearn/metrics/_classification.py:1531: UndefinedMetricWarning: Precision is ill-defined and being set to 0.0 in labels with no predicted samples. Use `zero_division` parameter to control this behavior.\n",
      "  _warn_prf(average, modifier, f\"{metric.capitalize()} is\", len(result))\n",
      "/home/mghan/sopjt/git/stackoverflow_src/venv_stackoverflow_src/lib/python3.10/site-packages/sklearn/metrics/_classification.py:1531: UndefinedMetricWarning: Precision is ill-defined and being set to 0.0 in labels with no predicted samples. Use `zero_division` parameter to control this behavior.\n",
      "  _warn_prf(average, modifier, f\"{metric.capitalize()} is\", len(result))\n",
      "/home/mghan/sopjt/git/stackoverflow_src/venv_stackoverflow_src/lib/python3.10/site-packages/sklearn/metrics/_classification.py:1531: UndefinedMetricWarning: Precision is ill-defined and being set to 0.0 in labels with no predicted samples. Use `zero_division` parameter to control this behavior.\n",
      "  _warn_prf(average, modifier, f\"{metric.capitalize()} is\", len(result))\n"
     ]
    },
    {
     "name": "stdout",
     "output_type": "stream",
     "text": [
      "sc_l_result_4_30_Y_100_sys_prompt9_5_0.01_ver3_9.csv\n",
      "sc_l_result_4_30_Y_100_sys_prompt9_5_0.01_ver3_32.csv\n",
      "sc_l_result_4_30_Y_100_sys_prompt9_5_0.01_ver3_50.csv\n",
      "sc_l_result_4_30_Y_100_sys_prompt9_5_0.01_ver3_2.csv\n"
     ]
    },
    {
     "name": "stderr",
     "output_type": "stream",
     "text": [
      "/home/mghan/sopjt/git/stackoverflow_src/venv_stackoverflow_src/lib/python3.10/site-packages/sklearn/metrics/_classification.py:1531: UndefinedMetricWarning: Precision is ill-defined and being set to 0.0 in labels with no predicted samples. Use `zero_division` parameter to control this behavior.\n",
      "  _warn_prf(average, modifier, f\"{metric.capitalize()} is\", len(result))\n",
      "/home/mghan/sopjt/git/stackoverflow_src/venv_stackoverflow_src/lib/python3.10/site-packages/sklearn/metrics/_classification.py:1531: UndefinedMetricWarning: Precision is ill-defined and being set to 0.0 in labels with no predicted samples. Use `zero_division` parameter to control this behavior.\n",
      "  _warn_prf(average, modifier, f\"{metric.capitalize()} is\", len(result))\n",
      "/home/mghan/sopjt/git/stackoverflow_src/venv_stackoverflow_src/lib/python3.10/site-packages/sklearn/metrics/_classification.py:1531: UndefinedMetricWarning: Precision is ill-defined and being set to 0.0 in labels with no predicted samples. Use `zero_division` parameter to control this behavior.\n",
      "  _warn_prf(average, modifier, f\"{metric.capitalize()} is\", len(result))\n"
     ]
    },
    {
     "name": "stdout",
     "output_type": "stream",
     "text": [
      "sc_l_result_4_30_Y_100_sys_prompt9_5_0.01_ver3_15.csv\n",
      "sc_l_result_4_30_Y_100_sys_prompt9_5_0.01_ver3_19.csv\n",
      "sc_l_result_4_30_Y_100_sys_prompt9_5_0.01_ver3_23.csv\n",
      "sc_l_result_4_30_Y_100_sys_prompt9_5_0.01_ver3_7.csv\n",
      "sc_l_result_4_30_Y_100_sys_prompt9_5_0.01_ver3_87.csv\n",
      "sc_l_result_4_30_Y_100_sys_prompt9_5_0.01_ver3_24.csv\n",
      "sc_l_result_4_30_Y_100_sys_prompt9_5_0.01_ver3_82.csv\n",
      "sc_l_result_4_30_Y_100_sys_prompt9_5_0.01_ver3_31.csv\n",
      "sc_l_result_4_30_Y_100_sys_prompt9_5_0.01_ver3_43.csv\n",
      "sc_l_result_4_30_Y_100_sys_prompt9_5_0.01_ver3_18.csv\n",
      "sc_l_result_4_30_Y_100_sys_prompt9_5_0.01_ver3_76.csv\n",
      "sc_l_result_4_30_Y_100_sys_prompt9_5_0.01_ver3_33.csv\n",
      "sc_l_result_4_30_Y_100_sys_prompt9_5_0.01_ver3_3.csv\n",
      "sc_l_result_4_30_Y_100_sys_prompt9_5_0.01_ver3_17.csv\n",
      "sc_l_result_4_30_Y_100_sys_prompt9_5_0.01_ver3_74.csv\n",
      "sc_l_result_4_30_Y_100_sys_prompt9_5_0.01_ver3_16.csv\n",
      "sc_l_result_4_30_Y_100_sys_prompt9_5_0.01_ver3_60.csv\n",
      "sc_l_result_4_30_Y_100_sys_prompt9_5_0.01_ver3_14.csv\n",
      "sc_l_result_4_30_Y_100_sys_prompt9_5_0.01_ver3_28.csv\n",
      "sc_l_result_4_30_Y_100_sys_prompt9_5_0.01_ver3_41.csv\n",
      "sc_l_result_4_30_Y_100_sys_prompt9_5_0.01_ver3_75.csv\n",
      "sc_l_result_4_30_Y_100_sys_prompt9_5_0.01_ver3_6.csv\n",
      "l_result_4_30_Y :  76.55719139297848\n"
     ]
    },
    {
     "name": "stderr",
     "output_type": "stream",
     "text": [
      "/home/mghan/sopjt/git/stackoverflow_src/venv_stackoverflow_src/lib/python3.10/site-packages/sklearn/metrics/_classification.py:1531: UndefinedMetricWarning: Precision is ill-defined and being set to 0.0 in labels with no predicted samples. Use `zero_division` parameter to control this behavior.\n",
      "  _warn_prf(average, modifier, f\"{metric.capitalize()} is\", len(result))\n",
      "/home/mghan/sopjt/git/stackoverflow_src/venv_stackoverflow_src/lib/python3.10/site-packages/sklearn/metrics/_classification.py:1531: UndefinedMetricWarning: Precision is ill-defined and being set to 0.0 in labels with no predicted samples. Use `zero_division` parameter to control this behavior.\n",
      "  _warn_prf(average, modifier, f\"{metric.capitalize()} is\", len(result))\n",
      "/home/mghan/sopjt/git/stackoverflow_src/venv_stackoverflow_src/lib/python3.10/site-packages/sklearn/metrics/_classification.py:1531: UndefinedMetricWarning: Precision is ill-defined and being set to 0.0 in labels with no predicted samples. Use `zero_division` parameter to control this behavior.\n",
      "  _warn_prf(average, modifier, f\"{metric.capitalize()} is\", len(result))\n"
     ]
    }
   ],
   "source": [
    "# (target=task, args=('l', 4, 30, 'Y', 100, 'sys_prompt9', 5, 0.01, 'ver3'))\n",
    "acc_list , f1_list = sc_calc_acc_condition_with_temp_with_sc('l', 4, 30, 'Y', 100, 'sys_prompt9', 5,  0.01, 'ver3')"
   ]
  },
  {
   "cell_type": "code",
   "execution_count": 6,
   "metadata": {},
   "outputs": [
    {
     "name": "stdout",
     "output_type": "stream",
     "text": [
      "sc_l_result_4_30_Y_100_sys_prompt8_5_0.01_ver2_16.csv\n"
     ]
    },
    {
     "name": "stderr",
     "output_type": "stream",
     "text": [
      "/home/mghan/sopjt/git/stackoverflow_src/venv_stackoverflow_src/lib/python3.10/site-packages/sklearn/metrics/_classification.py:1531: UndefinedMetricWarning: Precision is ill-defined and being set to 0.0 in labels with no predicted samples. Use `zero_division` parameter to control this behavior.\n",
      "  _warn_prf(average, modifier, f\"{metric.capitalize()} is\", len(result))\n",
      "/home/mghan/sopjt/git/stackoverflow_src/venv_stackoverflow_src/lib/python3.10/site-packages/sklearn/metrics/_classification.py:1531: UndefinedMetricWarning: Precision is ill-defined and being set to 0.0 in labels with no predicted samples. Use `zero_division` parameter to control this behavior.\n",
      "  _warn_prf(average, modifier, f\"{metric.capitalize()} is\", len(result))\n",
      "/home/mghan/sopjt/git/stackoverflow_src/venv_stackoverflow_src/lib/python3.10/site-packages/sklearn/metrics/_classification.py:1531: UndefinedMetricWarning: Precision is ill-defined and being set to 0.0 in labels with no predicted samples. Use `zero_division` parameter to control this behavior.\n",
      "  _warn_prf(average, modifier, f\"{metric.capitalize()} is\", len(result))\n"
     ]
    },
    {
     "name": "stdout",
     "output_type": "stream",
     "text": [
      "sc_l_result_4_30_Y_100_sys_prompt8_5_0.01_ver2_84.csv\n",
      "sc_l_result_4_30_Y_100_sys_prompt8_5_0.01_ver2_0.csv\n",
      "sc_l_result_4_30_Y_100_sys_prompt8_5_0.01_ver2_10.csv\n",
      "sc_l_result_4_30_Y_100_sys_prompt8_5_0.01_ver2_64.csv\n",
      "sc_l_result_4_30_Y_100_sys_prompt8_5_0.01_ver2_35.csv\n",
      "sc_l_result_4_30_Y_100_sys_prompt8_5_0.01_ver2_72.csv\n",
      "sc_l_result_4_30_Y_100_sys_prompt8_5_0.01_ver2_2.csv\n",
      "sc_l_result_4_30_Y_100_sys_prompt8_5_0.01_ver2_12.csv\n",
      "sc_l_result_4_30_Y_100_sys_prompt8_5_0.01_ver2_74.csv\n",
      "sc_l_result_4_30_Y_100_sys_prompt8_5_0.01_ver2_62.csv\n",
      "sc_l_result_4_30_Y_100_sys_prompt8_5_0.01_ver2_54.csv\n",
      "sc_l_result_4_30_Y_100_sys_prompt8_5_0.01_ver2_32.csv\n",
      "sc_l_result_4_30_Y_100_sys_prompt8_5_0.01_ver2_45.csv\n",
      "sc_l_result_4_30_Y_100_sys_prompt8_5_0.01_ver2_18.csv\n",
      "sc_l_result_4_30_Y_100_sys_prompt8_5_0.01_ver2_86.csv\n",
      "sc_l_result_4_30_Y_100_sys_prompt8_5_0.01_ver2_15.csv\n"
     ]
    },
    {
     "name": "stderr",
     "output_type": "stream",
     "text": [
      "/home/mghan/sopjt/git/stackoverflow_src/venv_stackoverflow_src/lib/python3.10/site-packages/sklearn/metrics/_classification.py:1531: UndefinedMetricWarning: Precision is ill-defined and being set to 0.0 in labels with no predicted samples. Use `zero_division` parameter to control this behavior.\n",
      "  _warn_prf(average, modifier, f\"{metric.capitalize()} is\", len(result))\n",
      "/home/mghan/sopjt/git/stackoverflow_src/venv_stackoverflow_src/lib/python3.10/site-packages/sklearn/metrics/_classification.py:1531: UndefinedMetricWarning: Precision is ill-defined and being set to 0.0 in labels with no predicted samples. Use `zero_division` parameter to control this behavior.\n",
      "  _warn_prf(average, modifier, f\"{metric.capitalize()} is\", len(result))\n",
      "/home/mghan/sopjt/git/stackoverflow_src/venv_stackoverflow_src/lib/python3.10/site-packages/sklearn/metrics/_classification.py:1531: UndefinedMetricWarning: Precision is ill-defined and being set to 0.0 in labels with no predicted samples. Use `zero_division` parameter to control this behavior.\n",
      "  _warn_prf(average, modifier, f\"{metric.capitalize()} is\", len(result))\n"
     ]
    },
    {
     "name": "stdout",
     "output_type": "stream",
     "text": [
      "sc_l_result_4_30_Y_100_sys_prompt8_5_0.01_ver2_33.csv\n",
      "sc_l_result_4_30_Y_100_sys_prompt8_5_0.01_ver2_3.csv\n",
      "sc_l_result_4_30_Y_100_sys_prompt8_5_0.01_ver2_88.csv\n",
      "sc_l_result_4_30_Y_100_sys_prompt8_5_0.01_ver2_98.csv\n",
      "sc_l_result_4_30_Y_100_sys_prompt8_5_0.01_ver2_99.csv\n",
      "sc_l_result_4_30_Y_100_sys_prompt8_5_0.01_ver2_69.csv\n",
      "sc_l_result_4_30_Y_100_sys_prompt8_5_0.01_ver2_11.csv\n",
      "sc_l_result_4_30_Y_100_sys_prompt8_5_0.01_ver2_40.csv\n",
      "sc_l_result_4_30_Y_100_sys_prompt8_5_0.01_ver2_31.csv\n",
      "sc_l_result_4_30_Y_100_sys_prompt8_5_0.01_ver2_52.csv\n",
      "sc_l_result_4_30_Y_100_sys_prompt8_5_0.01_ver2_28.csv\n",
      "sc_l_result_4_30_Y_100_sys_prompt8_5_0.01_ver2_94.csv\n",
      "sc_l_result_4_30_Y_100_sys_prompt8_5_0.01_ver2_77.csv\n",
      "sc_l_result_4_30_Y_100_sys_prompt8_5_0.01_ver2_20.csv\n",
      "sc_l_result_4_30_Y_100_sys_prompt8_5_0.01_ver2_87.csv\n",
      "sc_l_result_4_30_Y_100_sys_prompt8_5_0.01_ver2_44.csv\n",
      "sc_l_result_4_30_Y_100_sys_prompt8_5_0.01_ver2_71.csv\n",
      "sc_l_result_4_30_Y_100_sys_prompt8_5_0.01_ver2_57.csv\n",
      "sc_l_result_4_30_Y_100_sys_prompt8_5_0.01_ver2_58.csv\n",
      "sc_l_result_4_30_Y_100_sys_prompt8_5_0.01_ver2_24.csv\n",
      "sc_l_result_4_30_Y_100_sys_prompt8_5_0.01_ver2_75.csv\n",
      "sc_l_result_4_30_Y_100_sys_prompt8_5_0.01_ver2_19.csv\n",
      "sc_l_result_4_30_Y_100_sys_prompt8_5_0.01_ver2_38.csv\n",
      "sc_l_result_4_30_Y_100_sys_prompt8_5_0.01_ver2_22.csv\n"
     ]
    },
    {
     "name": "stderr",
     "output_type": "stream",
     "text": [
      "/home/mghan/sopjt/git/stackoverflow_src/venv_stackoverflow_src/lib/python3.10/site-packages/sklearn/metrics/_classification.py:1531: UndefinedMetricWarning: Precision is ill-defined and being set to 0.0 in labels with no predicted samples. Use `zero_division` parameter to control this behavior.\n",
      "  _warn_prf(average, modifier, f\"{metric.capitalize()} is\", len(result))\n",
      "/home/mghan/sopjt/git/stackoverflow_src/venv_stackoverflow_src/lib/python3.10/site-packages/sklearn/metrics/_classification.py:1531: UndefinedMetricWarning: Precision is ill-defined and being set to 0.0 in labels with no predicted samples. Use `zero_division` parameter to control this behavior.\n",
      "  _warn_prf(average, modifier, f\"{metric.capitalize()} is\", len(result))\n",
      "/home/mghan/sopjt/git/stackoverflow_src/venv_stackoverflow_src/lib/python3.10/site-packages/sklearn/metrics/_classification.py:1531: UndefinedMetricWarning: Precision is ill-defined and being set to 0.0 in labels with no predicted samples. Use `zero_division` parameter to control this behavior.\n",
      "  _warn_prf(average, modifier, f\"{metric.capitalize()} is\", len(result))\n"
     ]
    },
    {
     "name": "stdout",
     "output_type": "stream",
     "text": [
      "sc_l_result_4_30_Y_100_sys_prompt8_5_0.01_ver2_1.csv\n",
      "sc_l_result_4_30_Y_100_sys_prompt8_5_0.01_ver2_90.csv\n",
      "sc_l_result_4_30_Y_100_sys_prompt8_5_0.01_ver2_73.csv\n",
      "sc_l_result_4_30_Y_100_sys_prompt8_5_0.01_ver2_78.csv\n",
      "sc_l_result_4_30_Y_100_sys_prompt8_5_0.01_ver2_93.csv\n",
      "sc_l_result_4_30_Y_100_sys_prompt8_5_0.01_ver2_82.csv\n",
      "sc_l_result_4_30_Y_100_sys_prompt8_5_0.01_ver2_26.csv\n",
      "sc_l_result_4_30_Y_100_sys_prompt8_5_0.01_ver2_42.csv\n",
      "sc_l_result_4_30_Y_100_sys_prompt8_5_0.01_ver2_17.csv\n",
      "sc_l_result_4_30_Y_100_sys_prompt8_5_0.01_ver2_30.csv\n",
      "sc_l_result_4_30_Y_100_sys_prompt8_5_0.01_ver2_13.csv\n",
      "sc_l_result_4_30_Y_100_sys_prompt8_5_0.01_ver2_91.csv\n",
      "sc_l_result_4_30_Y_100_sys_prompt8_5_0.01_ver2_59.csv\n",
      "sc_l_result_4_30_Y_100_sys_prompt8_5_0.01_ver2_34.csv\n",
      "sc_l_result_4_30_Y_100_sys_prompt8_5_0.01_ver2_97.csv\n",
      "sc_l_result_4_30_Y_100_sys_prompt8_5_0.01_ver2_8.csv\n"
     ]
    },
    {
     "name": "stderr",
     "output_type": "stream",
     "text": [
      "/home/mghan/sopjt/git/stackoverflow_src/venv_stackoverflow_src/lib/python3.10/site-packages/sklearn/metrics/_classification.py:1531: UndefinedMetricWarning: Precision is ill-defined and being set to 0.0 in labels with no predicted samples. Use `zero_division` parameter to control this behavior.\n",
      "  _warn_prf(average, modifier, f\"{metric.capitalize()} is\", len(result))\n",
      "/home/mghan/sopjt/git/stackoverflow_src/venv_stackoverflow_src/lib/python3.10/site-packages/sklearn/metrics/_classification.py:1531: UndefinedMetricWarning: Precision is ill-defined and being set to 0.0 in labels with no predicted samples. Use `zero_division` parameter to control this behavior.\n",
      "  _warn_prf(average, modifier, f\"{metric.capitalize()} is\", len(result))\n",
      "/home/mghan/sopjt/git/stackoverflow_src/venv_stackoverflow_src/lib/python3.10/site-packages/sklearn/metrics/_classification.py:1531: UndefinedMetricWarning: Precision is ill-defined and being set to 0.0 in labels with no predicted samples. Use `zero_division` parameter to control this behavior.\n",
      "  _warn_prf(average, modifier, f\"{metric.capitalize()} is\", len(result))\n"
     ]
    },
    {
     "name": "stdout",
     "output_type": "stream",
     "text": [
      "sc_l_result_4_30_Y_100_sys_prompt8_5_0.01_ver2_80.csv\n",
      "sc_l_result_4_30_Y_100_sys_prompt8_5_0.01_ver2_9.csv\n",
      "sc_l_result_4_30_Y_100_sys_prompt8_5_0.01_ver2_41.csv\n",
      "sc_l_result_4_30_Y_100_sys_prompt8_5_0.01_ver2_5.csv\n",
      "sc_l_result_4_30_Y_100_sys_prompt8_5_0.01_ver2_14.csv\n",
      "sc_l_result_4_30_Y_100_sys_prompt8_5_0.01_ver2_53.csv\n",
      "sc_l_result_4_30_Y_100_sys_prompt8_5_0.01_ver2_29.csv\n",
      "sc_l_result_4_30_Y_100_sys_prompt8_5_0.01_ver2_66.csv\n",
      "sc_l_result_4_30_Y_100_sys_prompt8_5_0.01_ver2_56.csv\n",
      "sc_l_result_4_30_Y_100_sys_prompt8_5_0.01_ver2_83.csv\n",
      "sc_l_result_4_30_Y_100_sys_prompt8_5_0.01_ver2_48.csv\n",
      "sc_l_result_4_30_Y_100_sys_prompt8_5_0.01_ver2_36.csv\n",
      "sc_l_result_4_30_Y_100_sys_prompt8_5_0.01_ver2_43.csv\n",
      "sc_l_result_4_30_Y_100_sys_prompt8_5_0.01_ver2_55.csv\n",
      "sc_l_result_4_30_Y_100_sys_prompt8_5_0.01_ver2_7.csv\n",
      "sc_l_result_4_30_Y_100_sys_prompt8_5_0.01_ver2_92.csv\n",
      "sc_l_result_4_30_Y_100_sys_prompt8_5_0.01_ver2_25.csv\n",
      "sc_l_result_4_30_Y_100_sys_prompt8_5_0.01_ver2_81.csv\n",
      "sc_l_result_4_30_Y_100_sys_prompt8_5_0.01_ver2_60.csv\n",
      "sc_l_result_4_30_Y_100_sys_prompt8_5_0.01_ver2_21.csv\n",
      "sc_l_result_4_30_Y_100_sys_prompt8_5_0.01_ver2_39.csv\n",
      "sc_l_result_4_30_Y_100_sys_prompt8_5_0.01_ver2_61.csv\n",
      "sc_l_result_4_30_Y_100_sys_prompt8_5_0.01_ver2_95.csv\n",
      "sc_l_result_4_30_Y_100_sys_prompt8_5_0.01_ver2_49.csv\n",
      "sc_l_result_4_30_Y_100_sys_prompt8_5_0.01_ver2_67.csv\n",
      "sc_l_result_4_30_Y_100_sys_prompt8_5_0.01_ver2_65.csv\n",
      "sc_l_result_4_30_Y_100_sys_prompt8_5_0.01_ver2_46.csv\n",
      "sc_l_result_4_30_Y_100_sys_prompt8_5_0.01_ver2_37.csv\n",
      "sc_l_result_4_30_Y_100_sys_prompt8_5_0.01_ver2_63.csv\n",
      "sc_l_result_4_30_Y_100_sys_prompt8_5_0.01_ver2_23.csv\n",
      "sc_l_result_4_30_Y_100_sys_prompt8_5_0.01_ver2_27.csv\n",
      "sc_l_result_4_30_Y_100_sys_prompt8_5_0.01_ver2_50.csv\n",
      "sc_l_result_4_30_Y_100_sys_prompt8_5_0.01_ver2_79.csv\n",
      "sc_l_result_4_30_Y_100_sys_prompt8_5_0.01_ver2_68.csv\n",
      "sc_l_result_4_30_Y_100_sys_prompt8_5_0.01_ver2_76.csv\n",
      "sc_l_result_4_30_Y_100_sys_prompt8_5_0.01_ver2_51.csv\n",
      "sc_l_result_4_30_Y_100_sys_prompt8_5_0.01_ver2_96.csv\n",
      "sc_l_result_4_30_Y_100_sys_prompt8_5_0.01_ver2_6.csv\n",
      "sc_l_result_4_30_Y_100_sys_prompt8_5_0.01_ver2_70.csv\n",
      "sc_l_result_4_30_Y_100_sys_prompt8_5_0.01_ver2_89.csv\n"
     ]
    },
    {
     "name": "stderr",
     "output_type": "stream",
     "text": [
      "/home/mghan/sopjt/git/stackoverflow_src/venv_stackoverflow_src/lib/python3.10/site-packages/sklearn/metrics/_classification.py:1531: UndefinedMetricWarning: Precision is ill-defined and being set to 0.0 in labels with no predicted samples. Use `zero_division` parameter to control this behavior.\n",
      "  _warn_prf(average, modifier, f\"{metric.capitalize()} is\", len(result))\n",
      "/home/mghan/sopjt/git/stackoverflow_src/venv_stackoverflow_src/lib/python3.10/site-packages/sklearn/metrics/_classification.py:1531: UndefinedMetricWarning: Precision is ill-defined and being set to 0.0 in labels with no predicted samples. Use `zero_division` parameter to control this behavior.\n",
      "  _warn_prf(average, modifier, f\"{metric.capitalize()} is\", len(result))\n",
      "/home/mghan/sopjt/git/stackoverflow_src/venv_stackoverflow_src/lib/python3.10/site-packages/sklearn/metrics/_classification.py:1531: UndefinedMetricWarning: Precision is ill-defined and being set to 0.0 in labels with no predicted samples. Use `zero_division` parameter to control this behavior.\n",
      "  _warn_prf(average, modifier, f\"{metric.capitalize()} is\", len(result))\n"
     ]
    },
    {
     "name": "stdout",
     "output_type": "stream",
     "text": [
      "sc_l_result_4_30_Y_100_sys_prompt8_5_0.01_ver2_85.csv\n",
      "sc_l_result_4_30_Y_100_sys_prompt8_5_0.01_ver2_4.csv\n",
      "sc_l_result_4_30_Y_100_sys_prompt8_5_0.01_ver2_47.csv\n",
      "l_result_4_30_Y :  83.52098259979529\n"
     ]
    }
   ],
   "source": [
    "# sc_calc_acc_condition_with_temp_with_sc('l', 4, 15, 'Y', 30, 'sys_prompt8', 5,  0.01, 'ver1')\n",
    "# # process3 = Process(target=task, args=('l', 4, 15, 'Y', 30, 'sys_prompt8', 3, 0.01, 'ver1'))\n",
    "acc_list , f1_list = sc_calc_acc_condition_with_temp_with_sc('l', 4, 30, 'Y', 100, 'sys_prompt8', 5,  0.01, 'ver2')\n",
    "# 그래프 그려서 넣어두기... 분포...."
   ]
  },
  {
   "cell_type": "code",
   "execution_count": 7,
   "metadata": {},
   "outputs": [
    {
     "data": {
      "text/plain": [
       "np.float64(0.8367379071062874)"
      ]
     },
     "execution_count": 7,
     "metadata": {},
     "output_type": "execute_result"
    }
   ],
   "source": [
    "np.mean(acc_list)"
   ]
  },
  {
   "cell_type": "code",
   "execution_count": 14,
   "metadata": {},
   "outputs": [],
   "source": [
    "basic_f1    = [x['0']['f1-score'] for x in f1_list]\n",
    "inter_f1    = [x['1']['f1-score'] for x in f1_list]\n",
    "advance_f1  = [x['2']['f1-score'] for x in f1_list if len(x.keys())==6]\n",
    "\n",
    "metrics_acc = [x['accuracy'] for x in f1_list]\n",
    "metrics_f1  = [x['weighted avg']['f1-score'] for x in f1_list]"
   ]
  },
  {
   "cell_type": "code",
   "execution_count": 15,
   "metadata": {},
   "outputs": [
    {
     "name": "stdout",
     "output_type": "stream",
     "text": [
      "0.784948317678194\n",
      "0.857009759391002\n",
      "0.7879213871235148\n",
      "0.8367379071062874\n",
      "0.8339716795114022\n"
     ]
    }
   ],
   "source": [
    "print(np.mean(basic_f1))\n",
    "print(np.mean(inter_f1))\n",
    "print(np.mean(advance_f1))\n",
    "\n",
    "print(np.mean(metrics_acc))\n",
    "print(np.mean(metrics_f1))"
   ]
  },
  {
   "cell_type": "code",
   "execution_count": 16,
   "metadata": {},
   "outputs": [],
   "source": [
    "metrics_dict = dict()\n",
    "metrics_dict['Accuracy'] = acc_list\n",
    "metrics_dict['F1-socre : Baic level'] = basic_f1\n",
    "metrics_dict['F1-socre : Intermediate level'] = inter_f1\n",
    "metrics_dict['F1-socre : Advanced level'] = advance_f1\n",
    "title_list = ['Accuracy', 'F1-score','F1-score','F1-score' ]\n"
   ]
  },
  {
   "cell_type": "code",
   "execution_count": 20,
   "metadata": {},
   "outputs": [
    {
     "data": {
      "image/png": "[encoded data removed]",
      "text/plain": [
       "<Figure size 2000x500 with 4 Axes>"
      ]
     },
     "metadata": {},
     "output_type": "display_data"
    }
   ],
   "source": [
    "import matplotlib.pyplot as plt\n",
    "\n",
    "fig, ax = plt.subplots(1, 4, figsize = (20, 5))\n",
    "\n",
    "\n",
    "for i, key in enumerate(metrics_dict.keys()):\n",
    "  list_ = metrics_dict[key]\n",
    "  ax[i].boxplot(list_,  whis = 3\n",
    "      # ,  color = colors[1]\n",
    "      # ,  edgecolor = 'black'\n",
    "        ) # hist type\n",
    "\n",
    "  ax[i].set_title(key, # add title\n",
    "               fontsize = 12.5,\n",
    "               pad = 10,\n",
    "               loc = 'center')\n",
    "  ax[i].set_ylabel(title_list[i], # add y-axis label\n",
    "                )\n",
    "\n",
    "  ax[i].axhline(np.mean(list_), # add vertical line\n",
    "            color = colors[0],\n",
    "            linestyle = '--',\n",
    "            linewidth = 1.5)\n",
    "  \n",
    "  ax[i].set_xticklabels([])\n",
    "\n",
    "plt.tick_params(axis='x', labelsize=16)\n",
    "plt.tick_params(axis='y', labelsize=16)\n",
    "# fig.text(0.55, 0.82, fontsize = 10,  s=f'Mean Accuracy : {round(np.mean(acc_list), 2)}%') #\n",
    "# plt.tight_layout()    \n",
    "# plt.savefig(f\"{fig_path}Data_Fig5.png\", dpi=300, bbox_inches='tight')\n",
    "# plt.show();\n"
   ]
  },
  {
   "cell_type": "code",
   "execution_count": 22,
   "metadata": {},
   "outputs": [],
   "source": [
    "metrics_dict = dict()\n",
    "metrics_dict['Accuracy'] = metrics_acc\n",
    "metrics_dict['F1-socre'] = metrics_f1\n",
    "title_list = ['Accuracy', 'F1-score']\n"
   ]
  },
  {
   "cell_type": "code",
   "execution_count": 34,
   "metadata": {},
   "outputs": [
    {
     "data": {
      "image/png": "[encoded data removed]",
      "text/plain": [
       "<Figure size 2000x500 with 1 Axes>"
      ]
     },
     "metadata": {},
     "output_type": "display_data"
    }
   ],
   "source": [
    "import matplotlib.pyplot as plt\n",
    "\n",
    "fig, ax = plt.subplots(figsize = (20, 5))\n",
    "\n",
    "\n",
    "# for i, key in enumerate(metrics_dict.keys()):\n",
    "#   list_ = metrics_dict[key]\n",
    "ax.boxplot([metrics_acc, metrics_f1],   whis = 3,\n",
    "            patch_artist=True,\n",
    "           boxprops=dict(linewidth=1.2, facecolor='lightgray'),\n",
    "           medianprops=dict(color='orange', linewidth=1.5),\n",
    "           whiskerprops=dict(linewidth=1.2),\n",
    "           capprops=dict(linewidth=1.2))\n",
    "\n",
    "ax.set_xticklabels(title_list)\n",
    "\n",
    "plt.tick_params(axis='x', labelsize=20)\n",
    "plt.tick_params(axis='y', labelsize=20)\n",
    "plt.tight_layout()    \n",
    "plt.savefig(f\"{fig_path}Data_Fig5_1.png\", dpi=300, bbox_inches='tight')\n",
    "# plt.show();\n"
   ]
  },
  {
   "cell_type": "code",
   "execution_count": null,
   "metadata": {},
   "outputs": [],
   "source": [
    "import matplotlib.pyplot as plt\n",
    "\n",
    "fig, ax = plt.subplots(1, 4, figsize = (20, 5))\n",
    "\n",
    "\n",
    "for i, key in enumerate(metrics_dict.keys()):\n",
    "  list_ = metrics_dict[key]\n",
    "  ax[i].boxplot(list_,  whis = 3\n",
    "      # ,  color = colors[1]\n",
    "      # ,  edgecolor = 'black'\n",
    "        ) # hist type\n",
    "\n",
    "  ax[i].set_title(key, # add title\n",
    "               fontsize = 12.5,\n",
    "               pad = 10,\n",
    "               loc = 'center')\n",
    "  ax[i].set_ylabel(title_list[i], # add y-axis label\n",
    "                )\n",
    "\n",
    "  ax[i].axhline(np.mean(list_), # add vertical line\n",
    "            color = colors[0],\n",
    "            linestyle = '--',\n",
    "            linewidth = 1.5)\n",
    "  \n",
    "  ax[i].set_xticklabels([])\n",
    "\n",
    "plt.tick_params(axis='x', labelsize=16)\n",
    "plt.tick_params(axis='y', labelsize=16)\n",
    "# fig.text(0.55, 0.82, fontsize = 10,  s=f'Mean Accuracy : {round(np.mean(acc_list), 2)}%') #\n",
    "# plt.tight_layout()    \n",
    "# plt.savefig(f\"{fig_path}Data_Fig5.png\", dpi=300, bbox_inches='tight')\n",
    "# plt.show();\n"
   ]
  }
 ],
 "metadata": {
  "kernelspec": {
   "display_name": "venv_stackoverflow_src",
   "language": "python",
   "name": "python3"
  },
  "language_info": {
   "codemirror_mode": {
    "name": "ipython",
    "version": 3
   },
   "file_extension": ".py",
   "mimetype": "text/x-python",
   "name": "python",
   "nbconvert_exporter": "python",
   "pygments_lexer": "ipython3",
   "version": "3.10.12"
  }
 },
 "nbformat": 4,
 "nbformat_minor": 2
}
