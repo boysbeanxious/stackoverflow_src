{
 "cells": [
  {
   "cell_type": "code",
   "execution_count": 1,
   "metadata": {},
   "outputs": [],
   "source": [
    "import sys, os\n",
    "p = os.path.abspath('..')\n",
    "# p = p+r'\\config'\n",
    "sys.path.insert(1, p)"
   ]
  },
  {
   "cell_type": "code",
   "execution_count": 2,
   "metadata": {},
   "outputs": [],
   "source": [
    "import pandas as pd\n",
    "import matplotlib.pyplot as plt\n",
    "import re\n",
    "import numpy as np\n",
    "from sklearn import metrics"
   ]
  },
  {
   "cell_type": "code",
   "execution_count": 3,
   "metadata": {},
   "outputs": [
    {
     "ename": "FileNotFoundError",
     "evalue": "[Errno 2] No such file or directory: '../LLM/result'",
     "output_type": "error",
     "traceback": [
      "\u001b[0;31m---------------------------------------------------------------------------\u001b[0m",
      "\u001b[0;31mFileNotFoundError\u001b[0m                         Traceback (most recent call last)",
      "Cell \u001b[0;32mIn[3], line 2\u001b[0m\n\u001b[1;32m      1\u001b[0m path \u001b[38;5;241m=\u001b[39m \u001b[38;5;124m'\u001b[39m\u001b[38;5;124m../LLM/result\u001b[39m\u001b[38;5;124m'\u001b[39m\n\u001b[0;32m----> 2\u001b[0m file_list \u001b[38;5;241m=\u001b[39m \u001b[43mos\u001b[49m\u001b[38;5;241;43m.\u001b[39;49m\u001b[43mlistdir\u001b[49m\u001b[43m(\u001b[49m\u001b[43mpath\u001b[49m\u001b[43m)\u001b[49m\n\u001b[1;32m      3\u001b[0m fig_path \u001b[38;5;241m=\u001b[39m \u001b[38;5;124m'\u001b[39m\u001b[38;5;124m./fig/\u001b[39m\u001b[38;5;124m'\u001b[39m\n\u001b[1;32m      4\u001b[0m colors \u001b[38;5;241m=\u001b[39m plt\u001b[38;5;241m.\u001b[39mget_cmap(\u001b[38;5;124m'\u001b[39m\u001b[38;5;124mtab20\u001b[39m\u001b[38;5;124m'\u001b[39m)\u001b[38;5;241m.\u001b[39mcolors \n",
      "\u001b[0;31mFileNotFoundError\u001b[0m: [Errno 2] No such file or directory: '../LLM/result'"
     ]
    }
   ],
   "source": [
    "path = '../LLM/result'\n",
    "file_list = os.listdir(path)\n",
    "fig_path = './fig/'\n",
    "colors = plt.get_cmap('tab20').colors "
   ]
  },
  {
   "cell_type": "code",
   "execution_count": null,
   "metadata": {},
   "outputs": [],
   "source": [
    "tmp = pd.DataFrame()\n",
    "df_eval = pd.DataFrame()\n",
    "def sc_calc_acc_condition_with_temp_with_sc(llm_model, few_shot_n, test_n, q_src_yn, ver, p_ver, sc_num, temp, excel_ver):\n",
    "    # ./result/sc_l_result_4_15_Y_30_sys_prompt8_0.01_ver1_0.csv\n",
    "    acc_list = []\n",
    "    f1_list = []\n",
    "    file_list = os.listdir(path)\n",
    "    opt_file = [x for x in file_list if x.startswith(f'sc_{llm_model}_result_{few_shot_n}_{test_n}_{q_src_yn}_{ver}_{p_ver}_{sc_num}_{temp}_{excel_ver}')]\n",
    "    opt_file = [x for x in opt_file if x.endswith(f'.csv')]\n",
    "\n",
    "    df = pd.DataFrame()\n",
    "\n",
    "    \n",
    "    if len(opt_file)>0 : \n",
    "        for f in opt_file:\n",
    "            print(f)\n",
    "            tmp = pd.read_csv(f'{path}/{f}', index_col =0)\n",
    "            tmp = tmp.dropna()\n",
    "\n",
    "            tmp['gold'] = tmp['answer_encode'].apply(lambda x : re.sub(r'[^012]', '', x))\n",
    "            tmp['o_result'] = tmp['result'].apply(lambda x : re.sub(r'[^012]', '', x))\n",
    "            tmp = tmp[tmp['o_result'].isin(['1', '0', '2'])]\n",
    "\n",
    "            \n",
    "            gold_df = tmp[['id', 'gold']].drop_duplicates()\n",
    "            chk_cnt = tmp.groupby(['id', 'o_result']).count().reset_index()[['id', 'o_result', 'question']]\n",
    "            chk_cnt = chk_cnt.rename(columns = {'question': 'cnt'})\n",
    "            chk_cnt = chk_cnt[chk_cnt['cnt'] == sc_num]\n",
    "            chk_cnt = chk_cnt.sort_values(by = ['id', 'cnt'], ascending=[True, False]).groupby(['id']).head(1)\n",
    "            df_eval = pd.merge(gold_df, chk_cnt, on = ['id'])\n",
    "\n",
    "            df_eval['equal_yn'] = np.where(df_eval['gold']==df_eval['o_result'], 1, 0)\n",
    "            acc = (df_eval['equal_yn'].sum()/df_eval.shape[0])*100  \n",
    "            acc_list.append(acc)\n",
    "            df = pd.concat([df, df_eval], axis =0)\n",
    "            \n",
    "        df['equal_yn'] = np.where(df['gold']==df['o_result'], 1, 0)\n",
    "        acc = (df['equal_yn'].sum()/df.shape[0])*100            \n",
    "        print(f'{llm_model}_result_{few_shot_n}_{test_n}_{q_src_yn} : ', acc)\n",
    "        df['equal_yn'] = np.where(df['gold']==df['o_result'], 1, 0)\n",
    "        y_true = df['o_result']\n",
    "        y_pred = df['gold']\n",
    "        print(metrics.classification_report(y_true, y_pred, digits=3))\n",
    "\n",
    "        return acc_list\n"
   ]
  },
  {
   "cell_type": "code",
   "execution_count": null,
   "metadata": {},
   "outputs": [],
   "source": [
    "# (target=task, args=('l', 4, 30, 'Y', 100, 'sys_prompt9', 5, 0.01, 'ver3'))\n",
    "acc_list = sc_calc_acc_condition_with_temp_with_sc('l', 4, 30, 'Y', 100, 'sys_prompt9', 5,  0.01, 'ver3')"
   ]
  },
  {
   "cell_type": "code",
   "execution_count": null,
   "metadata": {},
   "outputs": [],
   "source": [
    "print(acc_list)"
   ]
  },
  {
   "cell_type": "code",
   "execution_count": null,
   "metadata": {},
   "outputs": [],
   "source": [
    "# sc_calc_acc_condition_with_temp_with_sc('l', 4, 15, 'Y', 30, 'sys_prompt8', 5,  0.01, 'ver1')\n",
    "# # process3 = Process(target=task, args=('l', 4, 15, 'Y', 30, 'sys_prompt8', 3, 0.01, 'ver1'))\n",
    "acc_list = sc_calc_acc_condition_with_temp_with_sc('l', 4, 30, 'Y', 100, 'sys_prompt8', 5,  0.01, 'ver2')\n",
    "# 그래프 그려서 넣어두기... 분포...."
   ]
  },
  {
   "cell_type": "code",
   "execution_count": null,
   "metadata": {},
   "outputs": [],
   "source": [
    "np.mean(acc_list)"
   ]
  },
  {
   "cell_type": "code",
   "execution_count": null,
   "metadata": {},
   "outputs": [],
   "source": [
    "import matplotlib.pyplot as plt\n",
    "\n",
    "fig, ax = plt.subplots()\n",
    "\n",
    "ax.hist(acc_list\n",
    "    ,  color = colors[1]\n",
    "    # ,  edgecolor = 'black'\n",
    "      ) # hist type\n",
    "\n",
    "# ax.set_title(\"Histogram of Acc Test\", # add title\n",
    "#              fontsize = 12.5,\n",
    "#              weight = 'bold',\n",
    "#              pad = 10,\n",
    "#              loc = 'center')\n",
    "ax.set_xlabel(\"Accuracy(%)\", # add x-axis label\n",
    "              )\n",
    "ax.set_ylabel(\"Number of Accuracy Test\", # add y-axis label\n",
    "              )\n",
    "\n",
    "ax.axvline(np.mean(acc_list), # add vertical line\n",
    "           color = colors[0],\n",
    "           linestyle = '--',\n",
    "           linewidth = 1.5)\n",
    "fig.text(0.55, 0.82, fontsize = 10,  s=f'Mean Accuracy : {round(np.mean(acc_list), 2)}%') #\n",
    "plt.tight_layout()    \n",
    "plt.savefig(f\"{fig_path}Data_Fig5.png\", dpi=300, bbox_inches='tight')\n",
    "plt.show();\n"
   ]
  },
  {
   "cell_type": "code",
   "execution_count": null,
   "metadata": {},
   "outputs": [],
   "source": []
  },
  {
   "cell_type": "code",
   "execution_count": null,
   "metadata": {},
   "outputs": [],
   "source": []
  },
  {
   "cell_type": "code",
   "execution_count": null,
   "metadata": {},
   "outputs": [],
   "source": []
  },
  {
   "cell_type": "code",
   "execution_count": null,
   "metadata": {},
   "outputs": [],
   "source": [
    "# def calc_acc_condition(llm_model, few_shot_n, test_n, q_src_yn, p_ver):\n",
    "#     opt_file = [x for x in file_list if x.startswith(f'{llm_model}_result_{few_shot_n}_{test_n}_{q_src_yn}')]\n",
    "#     opt_file = [x for x in opt_file if x.endswith(f'_{p_ver}.csv')]\n",
    "\n",
    "#     if len(opt_file)>0 : \n",
    "#         df = pd.DataFrame()\n",
    "\n",
    "#         for f in opt_file:\n",
    "#             tmp = pd.read_csv(f'./result/{f}', index_col =0)\n",
    "#             df = pd.concat([df, tmp], axis =0)\n",
    "        \n",
    "#         df['gold'] = df['answer_encode'].apply(lambda x : re.sub(r'[^0-9]', '', x))\n",
    "#         df['o_result'] = df['result'].apply(lambda x : re.sub(r'[^0-9]', '', x))\n",
    "#         df['equal_yn'] = np.where(df['gold']==df['o_result'], 1, 0)\n",
    "#         acc = (df['equal_yn'].sum()/df.shape[0])*100\n",
    "#         print(f'{llm_model}_result_{few_shot_n}_{test_n}_{q_src_yn} : ', acc)\n"
   ]
  },
  {
   "cell_type": "code",
   "execution_count": null,
   "metadata": {},
   "outputs": [],
   "source": [
    "def calc_acc_condition(llm_model, few_shot_n, test_n, q_src_yn, p_ver):\n",
    "    opt_file = [x for x in file_list if x.startswith(f'{llm_model}_result_{few_shot_n}_{test_n}_{q_src_yn}')]\n",
    "    opt_file = [x for x in opt_file if x.endswith(f'_{p_ver}.csv')]\n",
    "\n",
    "    if len(opt_file)>0 : \n",
    "        df = pd.DataFrame()\n",
    "\n",
    "        for f in opt_file:\n",
    "            tmp = pd.read_csv(f'./result/{f}', index_col =0)\n",
    "            tmp['gold'] = tmp['answer_encode'].apply(lambda x : re.sub(r'[^0-9]', '', x))\n",
    "            tmp['o_result'] = tmp['result'].apply(lambda x : re.sub(r'[^0-9]', '', x))\n",
    "            tmp[['gold', 'o_result']] = tmp[['gold', 'o_result']].astype(int)\n",
    "            df_eval = tmp.groupby('id').mean('o_result').reset_index()\n",
    "            df_eval['o_result'] = df_eval['o_result'].round(0)\n",
    "            df = pd.concat([df, tmp], axis =0)\n",
    "            \n",
    "        df['equal_yn'] = np.where(df['gold']==df['o_result'], 1, 0)\n",
    "        acc = (df['equal_yn'].sum()/df.shape[0])*100            \n",
    "        print(f'{llm_model}_result_{few_shot_n}_{test_n}_{q_src_yn} : ', acc)\n"
   ]
  },
  {
   "cell_type": "code",
   "execution_count": null,
   "metadata": {},
   "outputs": [],
   "source": [
    "calc_acc_condition('c' , 2, 10, 'N', 'sys_prompt1')\n",
    "calc_acc_condition('c' , 2, 10, 'Y', 'sys_prompt1')\n",
    "calc_acc_condition('c' , 3, 10, 'N', 'sys_prompt1')\n",
    "calc_acc_condition('c' , 3, 10, 'Y', 'sys_prompt1')\n",
    "\n",
    "\n",
    "calc_acc_condition('l' , 1, 10, 'Y', 'sys_prompt1')\n",
    "calc_acc_condition('l' , 2, 10, 'Y', 'sys_prompt1')\n",
    "calc_acc_condition('l' , 3, 10, 'Y', 'sys_prompt1')\n",
    "calc_acc_condition('l' , 4, 10, 'Y', 'sys_prompt1')\n",
    "\n",
    "calc_acc_condition('l' , 1, 10, 'N', 'sys_prompt1')\n",
    "calc_acc_condition('l' , 2, 10, 'N', 'sys_prompt1')\n",
    "calc_acc_condition('l' , 3, 10, 'N', 'sys_prompt1')\n",
    "calc_acc_condition('l' , 4, 10, 'N', 'sys_prompt1')\n"
   ]
  },
  {
   "cell_type": "code",
   "execution_count": null,
   "metadata": {},
   "outputs": [],
   "source": [
    "calc_acc_condition('c' , 2, 10, 'N', 'sys_prompt2')\n",
    "calc_acc_condition('c' , 2, 10, 'Y', 'sys_prompt2')\n",
    "calc_acc_condition('c' , 3, 10, 'N', 'sys_prompt2')\n",
    "calc_acc_condition('c' , 3, 10, 'Y', 'sys_prompt2')\n",
    "\n",
    "calc_acc_condition('l' , 1, 10, 'Y', 'sys_prompt2')\n",
    "calc_acc_condition('l' , 2, 10, 'Y', 'sys_prompt2')\n",
    "calc_acc_condition('l' , 3, 10, 'Y', 'sys_prompt2')\n",
    "calc_acc_condition('l' , 4, 10, 'Y', 'sys_prompt2')\n",
    "\n",
    "\n",
    "calc_acc_condition('l' , 1, 10, 'N', 'sys_prompt2')\n",
    "calc_acc_condition('l' , 2, 10, 'N', 'sys_prompt2')\n",
    "calc_acc_condition('l' , 3, 10, 'N', 'sys_prompt2')\n",
    "calc_acc_condition('l' , 4, 10, 'N', 'sys_prompt2')\n"
   ]
  },
  {
   "cell_type": "code",
   "execution_count": null,
   "metadata": {},
   "outputs": [],
   "source": []
  },
  {
   "cell_type": "code",
   "execution_count": null,
   "metadata": {},
   "outputs": [],
   "source": [
    "calc_acc_condition('c' , 2, 10, 'N', 'sys_prompt3')\n",
    "calc_acc_condition('c' , 2, 10, 'Y', 'sys_prompt3')\n",
    "calc_acc_condition('c' , 3, 10, 'N', 'sys_prompt3')\n",
    "calc_acc_condition('c' , 3, 10, 'Y', 'sys_prompt3')\n",
    "\n",
    "calc_acc_condition('l' , 1, 10, 'Y', 'sys_prompt3')\n",
    "calc_acc_condition('l' , 2, 10, 'Y', 'sys_prompt3')\n",
    "calc_acc_condition('l' , 3, 10, 'Y', 'sys_prompt3')\n",
    "calc_acc_condition('l' , 4, 10, 'Y', 'sys_prompt3')\n",
    "\n",
    "\n",
    "calc_acc_condition('l' , 1, 10, 'N', 'sys_prompt3')\n",
    "calc_acc_condition('l' , 2, 10, 'N', 'sys_prompt3')\n",
    "calc_acc_condition('l' , 3, 10, 'N', 'sys_prompt3')\n",
    "calc_acc_condition('l' , 4, 10, 'N', 'sys_prompt3')\n"
   ]
  },
  {
   "cell_type": "code",
   "execution_count": null,
   "metadata": {},
   "outputs": [],
   "source": [
    "calc_acc_condition('c' , 2, 10, 'N', 'sys_prompt4')\n",
    "calc_acc_condition('c' , 2, 10, 'Y', 'sys_prompt4')\n",
    "calc_acc_condition('c' , 3, 10, 'N', 'sys_prompt4')\n",
    "calc_acc_condition('c' , 3, 10, 'Y', 'sys_prompt4')\n",
    "\n",
    "calc_acc_condition('l' , 1, 10, 'Y', 'sys_prompt4')\n",
    "calc_acc_condition('l' , 2, 10, 'Y', 'sys_prompt4')\n",
    "calc_acc_condition('l' , 3, 10, 'Y', 'sys_prompt4')\n",
    "calc_acc_condition('l' , 4, 10, 'Y', 'sys_prompt4')\n",
    "\n",
    "\n",
    "calc_acc_condition('l' , 1, 10, 'N', 'sys_prompt4')\n",
    "calc_acc_condition('l' , 2, 10, 'N', 'sys_prompt4')\n",
    "calc_acc_condition('l' , 3, 10, 'N', 'sys_prompt4')\n",
    "calc_acc_condition('l' , 4, 10, 'N', 'sys_prompt4')\n"
   ]
  },
  {
   "cell_type": "code",
   "execution_count": null,
   "metadata": {},
   "outputs": [],
   "source": [
    "def sc_calc_acc_condition(llm_model, few_shot_n, test_n, q_src_yn, p_ver):\n",
    "    opt_file = [x for x in file_list if x.startswith(f'sc_{llm_model}_result_{few_shot_n}_{test_n}_{q_src_yn}')]\n",
    "    opt_file = [x for x in opt_file if x.endswith(f'_{p_ver}.csv')]\n",
    "    df = pd.DataFrame()\n",
    "    if len(opt_file)>0 : \n",
    "        print(opt_file)\n",
    "        for f in opt_file:\n",
    "            tmp = pd.read_csv(f'./result/{f}', index_col =0)\n",
    "            tmp['gold'] = tmp['answer_encode'].apply(lambda x : re.sub(r'[^0-9]', '', x))\n",
    "            tmp['o_result'] = tmp['result'].apply(lambda x : re.sub(r'[^0-9]', '', x))\n",
    "            tmp[['gold', 'o_result']] = tmp[['gold', 'o_result']].astype(int)\n",
    "            df_eval = tmp.groupby('id').mean('o_result').reset_index()\n",
    "            df_eval['o_result'] = df_eval['o_result'].round(0)\n",
    "            df_eval['equal_yn'] = np.where(df_eval['gold']==df_eval['o_result'], 1, 0)\n",
    "            acc = (df_eval['equal_yn'].sum()/df_eval.shape[0])*100  \n",
    "            # print(acc)\n",
    "            df = pd.concat([df, df_eval], axis =0)\n",
    "            \n",
    "        df['equal_yn'] = np.where(df['gold']==df['o_result'], 1, 0)\n",
    "        acc = (df['equal_yn'].sum()/df.shape[0])*100            \n",
    "        print(f'{llm_model}_result_{few_shot_n}_{test_n}_{q_src_yn} : ', acc)\n"
   ]
  },
  {
   "cell_type": "code",
   "execution_count": null,
   "metadata": {},
   "outputs": [],
   "source": [
    "sc_calc_acc_condition('l' , 1, 10, 'Y', 'sys_prompt4')\n",
    "sc_calc_acc_condition('l' , 2, 10, 'Y', 'sys_prompt4') # temperature 0.2\n",
    "sc_calc_acc_condition('l' , 3, 10, 'Y', 'sys_prompt4')\n",
    "\n",
    "sc_calc_acc_condition('l' , 1, 10, 'N', 'sys_prompt4')\n",
    "sc_calc_acc_condition('l' , 2, 10, 'N', 'sys_prompt4')\n",
    "sc_calc_acc_condition('l' , 3, 10, 'N', 'sys_prompt4')"
   ]
  },
  {
   "cell_type": "code",
   "execution_count": null,
   "metadata": {},
   "outputs": [],
   "source": [
    "sc_calc_acc_condition('l' , 1, 5, 'Y', 'sys_prompt4')\n",
    "sc_calc_acc_condition('l' , 2, 5, 'Y', 'sys_prompt4')\n",
    "sc_calc_acc_condition('l' , 3, 5, 'Y', 'sys_prompt4')\n",
    "\n",
    "# sc_l_result_1_10_Y_0_sys_prompt4.csv\n",
    "# (f'./result/sc_{llm_model}_result_{few_shot_n}_{self.test_n}_{q_src_yn}_{self.version}_{self.p_ver}.csv')\n",
    "\n",
    "sc_calc_acc_condition('l' , 1, 5, 'N', 'sys_prompt4')\n",
    "sc_calc_acc_condition('l' , 2, 5, 'N', 'sys_prompt4')\n",
    "sc_calc_acc_condition('l' , 3, 5, 'N', 'sys_prompt4')\n"
   ]
  },
  {
   "cell_type": "code",
   "execution_count": null,
   "metadata": {},
   "outputs": [],
   "source": [
    "\n",
    "sc_calc_acc_condition('l' , 2, 5, 'Y', 'sys_prompt5')\n",
    "sc_calc_acc_condition('l' , 2, 5, 'N', 'sys_prompt5')\n"
   ]
  },
  {
   "cell_type": "code",
   "execution_count": null,
   "metadata": {},
   "outputs": [],
   "source": [
    "\n",
    "sc_calc_acc_condition('c' , 2, 10, 'Y', 'sys_prompt4')\n",
    "sc_calc_acc_condition('c' , 2, 10, 'N', 'sys_prompt4')\n"
   ]
  },
  {
   "cell_type": "code",
   "execution_count": null,
   "metadata": {},
   "outputs": [],
   "source": [
    "sc_calc_acc_condition('c' , 2, 10, 'Y', 'sys_prompt7')\n",
    "sc_calc_acc_condition('c' , 2, 10, 'N', 'sys_prompt7')\n"
   ]
  },
  {
   "cell_type": "code",
   "execution_count": null,
   "metadata": {},
   "outputs": [],
   "source": [
    "\n",
    "sc_calc_acc_condition('l' , 2, 10, 'Y', 'sys_prompt7')\n",
    "sc_calc_acc_condition('l' , 2, 10, 'N', 'sys_prompt7')\n"
   ]
  },
  {
   "cell_type": "code",
   "execution_count": null,
   "metadata": {},
   "outputs": [],
   "source": [
    "\n",
    "sc_calc_acc_condition('l' , 4, 10, 'Y', 'sys_prompt7')\n",
    "sc_calc_acc_condition('l' , 4, 10, 'N', 'sys_prompt7')\n"
   ]
  },
  {
   "cell_type": "code",
   "execution_count": null,
   "metadata": {},
   "outputs": [],
   "source": [
    "def sc_calc_acc_condition_with_temp(llm_model, few_shot_n, test_n, q_src_yn, p_ver, temp):\n",
    "    opt_file = [x for x in file_list if x.startswith(f'sc_{llm_model}_result_{few_shot_n}_{test_n}_{q_src_yn}')]\n",
    "    opt_file = [x for x in opt_file if x.endswith(f'_{p_ver}_{temp}.csv')]\n",
    "    df = pd.DataFrame()\n",
    "    if len(opt_file)>0 : \n",
    "        for f in opt_file:\n",
    "            print(f)\n",
    "            tmp = pd.read_csv(f'./result/{f}', index_col =0)\n",
    "            tmp['gold'] = tmp['answer_encode'].apply(lambda x : re.sub(r'[^0-9]', '', x))\n",
    "            tmp['o_result'] = tmp['result'].apply(lambda x : re.sub(r'[^0-9]', '', x))\n",
    "            tmp[['gold', 'o_result']] = tmp[['gold', 'o_result']].astype(int)\n",
    "            df_eval = tmp.groupby('id').mean('o_result').reset_index()\n",
    "            df_eval['o_result'] = df_eval['o_result'].round(0)\n",
    "            df_eval['equal_yn'] = np.where(df_eval['gold']==df_eval['o_result'], 1, 0)\n",
    "            acc = (df_eval['equal_yn'].sum()/df_eval.shape[0])*100  \n",
    "            print(acc)\n",
    "            df = pd.concat([df, df_eval], axis =0)\n",
    "            \n",
    "        df['equal_yn'] = np.where(df['gold']==df['o_result'], 1, 0)\n",
    "        acc = (df['equal_yn'].sum()/df.shape[0])*100            \n",
    "        print(f'{llm_model}_result_{few_shot_n}_{test_n}_{q_src_yn} : ', acc)\n"
   ]
  },
  {
   "cell_type": "code",
   "execution_count": null,
   "metadata": {},
   "outputs": [],
   "source": [
    "sc_calc_acc_condition_with_temp('l', 2, 10, 'Y','sys_prompt4', 0)"
   ]
  },
  {
   "cell_type": "code",
   "execution_count": null,
   "metadata": {},
   "outputs": [],
   "source": [
    "llm_model, few_shot_n,test_n, q_src_yn, p_ver, temp = 'l',2, 10, 'Y','sys_prompt4', 0\n",
    "opt_file = [x for x in file_list if x.startswith(f'sc_{llm_model}_result_{few_shot_n}_{test_n}_{q_src_yn}')]\n",
    "opt_file = [x for x in opt_file if x.endswith(f'_{p_ver}_{temp}.csv')]\n",
    "df = pd.DataFrame()\n",
    "if len(opt_file)>0 : \n",
    "    for f in opt_file:\n",
    "        print(f)\n",
    "        tmp = pd.read_csv(f'./result/{f}', index_col =0)\n",
    "        tmp['gold'] = tmp['answer_encode'].apply(lambda x : re.sub(r'[^0-9]', '', x))\n",
    "        tmp['o_result'] = tmp['result'].apply(lambda x : re.sub(r'[^0-9]', '', x))\n",
    "        tmp[['gold', 'o_result']] = tmp[['gold', 'o_result']].astype(int)\n",
    "        tmp['equal_yn'] = np.where(tmp['gold']==tmp['o_result'], 1, 0)\n",
    "        acc = (tmp['equal_yn'].sum()/tmp.shape[0])*100  \n",
    "        df = pd.concat([df, tmp], axis =0)\n",
    "\n",
    "df.to_csv('youcandoit.csv')"
   ]
  },
  {
   "cell_type": "code",
   "execution_count": null,
   "metadata": {},
   "outputs": [],
   "source": [
    "sc_calc_acc_condition_with_temp('l', 2, 10, 'Y','sys_prompt4', 0.5)"
   ]
  },
  {
   "cell_type": "code",
   "execution_count": null,
   "metadata": {},
   "outputs": [],
   "source": []
  }
 ],
 "metadata": {
  "kernelspec": {
   "display_name": "Python 3",
   "language": "python",
   "name": "python3"
  },
  "language_info": {
   "codemirror_mode": {
    "name": "ipython",
    "version": 3
   },
   "file_extension": ".py",
   "mimetype": "text/x-python",
   "name": "python",
   "nbconvert_exporter": "python",
   "pygments_lexer": "ipython3",
   "version": "3.9.6"
  }
 },
 "nbformat": 4,
 "nbformat_minor": 2
}
