{
 "cells": [
  {
   "cell_type": "code",
   "execution_count": 1,
   "metadata": {},
   "outputs": [],
   "source": [
    "import sys, os\n",
    "p = os.path.abspath('../..')\n",
    "# p = p+r'\\config'\n",
    "sys.path.insert(1, p)"
   ]
  },
  {
   "cell_type": "code",
   "execution_count": 2,
   "metadata": {},
   "outputs": [],
   "source": [
    "#customized preprocessing pkg\n",
    "import lib.preprocess.preprocess as pp\n",
    "import lib.cc_cpp.CognitiveComplexityCalculator as cc\n",
    "\n",
    "import pandas as pd\n",
    "import numpy as np\n",
    "import pickle\n",
    "import ast\n",
    "import pprint\n",
    "import os\n",
    "import matplotlib.pyplot as plt\n",
    "import matplotlib.ticker as ticker"
   ]
  },
  {
   "cell_type": "code",
   "execution_count": 3,
   "metadata": {},
   "outputs": [],
   "source": [
    "input_year = '2021'"
   ]
  },
  {
   "cell_type": "markdown",
   "metadata": {},
   "source": [
    "### 소스코드 complexity 계산"
   ]
  },
  {
   "cell_type": "code",
   "execution_count": 4,
   "metadata": {},
   "outputs": [],
   "source": [
    "# 파일 불러오기\n",
    "with open(f'../../../data/complexity_cpp_df_{input_year}.pkl', 'rb') as f:\n",
    "    complexity_cpp_df = pickle.load(f)"
   ]
  },
  {
   "cell_type": "code",
   "execution_count": null,
   "metadata": {},
   "outputs": [],
   "source": [
    "complexity_cpp_df['cdate'].max()"
   ]
  },
  {
   "cell_type": "code",
   "execution_count": null,
   "metadata": {},
   "outputs": [],
   "source": [
    "complexity_cpp_df['cdate'].max()"
   ]
  },
  {
   "cell_type": "code",
   "execution_count": 7,
   "metadata": {},
   "outputs": [],
   "source": [
    "htmlp = pp.HTMLParser()\n",
    "codep = pp.CodeSectionParser()"
   ]
  },
  {
   "cell_type": "code",
   "execution_count": 8,
   "metadata": {},
   "outputs": [],
   "source": [
    "complexity_cpp_df['c_h_body'] = complexity_cpp_df['body'].apply(lambda x : htmlp.clean_html_str(x))"
   ]
  },
  {
   "cell_type": "code",
   "execution_count": null,
   "metadata": {},
   "outputs": [],
   "source": [
    "complexity_cpp_df.info()"
   ]
  },
  {
   "cell_type": "code",
   "execution_count": 10,
   "metadata": {},
   "outputs": [],
   "source": [
    "complexity_cpp_df['c_body'] = complexity_cpp_df['body'].apply(lambda x : codep(x))"
   ]
  },
  {
   "cell_type": "code",
   "execution_count": null,
   "metadata": {},
   "outputs": [],
   "source": [
    "complexity_cpp_df"
   ]
  },
  {
   "cell_type": "code",
   "execution_count": 12,
   "metadata": {},
   "outputs": [],
   "source": [
    "complexity_cpp_src = complexity_cpp_df[['id', 'c_body']]"
   ]
  },
  {
   "cell_type": "code",
   "execution_count": null,
   "metadata": {},
   "outputs": [],
   "source": [
    "complexity_cpp_src['code_len'] = complexity_cpp_src['c_body'].apply(lambda x: len(x['code_sections']))"
   ]
  },
  {
   "cell_type": "code",
   "execution_count": 14,
   "metadata": {},
   "outputs": [],
   "source": [
    "complexity_cpp_src = complexity_cpp_src[complexity_cpp_src['code_len']>0]"
   ]
  },
  {
   "cell_type": "code",
   "execution_count": null,
   "metadata": {},
   "outputs": [],
   "source": [
    "complexity_cpp_src.head(5)"
   ]
  },
  {
   "cell_type": "code",
   "execution_count": 16,
   "metadata": {},
   "outputs": [],
   "source": [
    "src_df = pd.DataFrame(columns = ['id', 'src'])\n",
    "def code_explode(row) : \n",
    "    global src_df\n",
    "    for i in range(row['code_len']):\n",
    "        tmp_src_dict = {  'id'  : row['id']\n",
    "                        , 'src' : row['c_body']['code_sections'][i]['span_str']\n",
    "                        }\n",
    "        src_df = pd.concat([src_df, pd.DataFrame([tmp_src_dict])], ignore_index=True)\n",
    "    return True\n",
    "        "
   ]
  },
  {
   "cell_type": "code",
   "execution_count": null,
   "metadata": {},
   "outputs": [],
   "source": [
    "# bert_src_ex = bert_src[['q_id', 'q_prep_text']].apply(pd.Series.explode)\n",
    "complexity_cpp_src.apply(code_explode, axis = 1)"
   ]
  },
  {
   "cell_type": "code",
   "execution_count": 18,
   "metadata": {},
   "outputs": [],
   "source": [
    "src_df.reset_index(inplace=True)"
   ]
  },
  {
   "cell_type": "code",
   "execution_count": null,
   "metadata": {},
   "outputs": [],
   "source": [
    "src_df.head()"
   ]
  },
  {
   "cell_type": "code",
   "execution_count": null,
   "metadata": {},
   "outputs": [],
   "source": []
  },
  {
   "cell_type": "code",
   "execution_count": 20,
   "metadata": {},
   "outputs": [],
   "source": [
    "for i in range(src_df.shape[0]):\n",
    "    idx = src_df.iloc[i, 0]\n",
    "    qid = src_df.iloc[i, 1]\n",
    "    src = src_df.iloc[i, 2]\n",
    "    file_nm = str(idx)+'_' + str(qid)+'.cpp'\n",
    "    with open(f'../../../data/src/{input_year}_cpp_src/{file_nm}', 'wb') as f:\n",
    "        f.write(src.encode())\n"
   ]
  },
  {
   "cell_type": "code",
   "execution_count": 20,
   "metadata": {},
   "outputs": [],
   "source": [
    "# https://github.com/rohaquinlop/complexipy"
   ]
  },
  {
   "cell_type": "code",
   "execution_count": 62,
   "metadata": {},
   "outputs": [],
   "source": [
    "# pip install complexipy"
   ]
  },
  {
   "cell_type": "code",
   "execution_count": null,
   "metadata": {},
   "outputs": [],
   "source": [
    "# !complexipy /home/mghan/sopjt/git/data/src/3_74963438.py -l file -o"
   ]
  },
  {
   "cell_type": "code",
   "execution_count": 28,
   "metadata": {},
   "outputs": [],
   "source": [
    "# cyclomatic은 모든 언어 가능 but cognitive는 언어별로 따로 분석해야함\n",
    "# 하려면 소나큐브 사야 함 \n",
    "# pyhon 기준으로는 조금 삽질하면 할 수 있을 듯.... 해보고 유의미하면 소나큐브 고?\n"
   ]
  },
  {
   "cell_type": "markdown",
   "metadata": {},
   "source": [
    "### complexity 결과 확인"
   ]
  },
  {
   "cell_type": "code",
   "execution_count": 4,
   "metadata": {},
   "outputs": [],
   "source": [
    "path = f'../../../data/src/{input_year}_cpp_src'\n",
    "file_list = os.listdir(path)\n",
    "file_list_cpp = [file for file in file_list if file.endswith(\".cpp\")]\n",
    "\n",
    "# print (\"file_list_csv: {}\".format(file_list_csv))"
   ]
  },
  {
   "cell_type": "code",
   "execution_count": null,
   "metadata": {},
   "outputs": [],
   "source": [
    "calc_com_df = pd.DataFrame(columns = ['file_nm', 'CognitiveComplexity'])\n",
    "\n",
    "for file_nm in file_list_cpp :\n",
    "    with open(f'{path}/{file_nm}', 'rb') as f:\n",
    "        src = f.read()\n",
    "        ccc  = cc.CognitiveComplexityCalculator()\n",
    "        tmp_dict = {  'file_nm'  : file_nm\n",
    "                    , 'CognitiveComplexity' : ccc.calculate(src)\n",
    "                    }\n",
    "        calc_com_df = pd.concat([calc_com_df, pd.DataFrame([tmp_dict])], ignore_index=True)\n",
    "    \n"
   ]
  },
  {
   "cell_type": "code",
   "execution_count": null,
   "metadata": {},
   "outputs": [],
   "source": [
    "calc_com_df[~(calc_com_df['CognitiveComplexity'].isna())].shape"
   ]
  },
  {
   "cell_type": "code",
   "execution_count": 13,
   "metadata": {},
   "outputs": [],
   "source": [
    "# 전체 데이터셋 \n",
    "with open(f'../../data/calc_com_df_{input_year}.pkl', 'wb') as f:\n",
    "    pickle.dump(calc_com_df, f)"
   ]
  },
  {
   "cell_type": "code",
   "execution_count": null,
   "metadata": {},
   "outputs": [],
   "source": [
    "calc_com_df.head()"
   ]
  },
  {
   "cell_type": "code",
   "execution_count": 40,
   "metadata": {},
   "outputs": [],
   "source": [
    "calc_com_df.reset_index(drop=True, inplace=True)"
   ]
  },
  {
   "cell_type": "code",
   "execution_count": null,
   "metadata": {},
   "outputs": [],
   "source": [
    "calc_com_df.head()"
   ]
  },
  {
   "cell_type": "code",
   "execution_count": 42,
   "metadata": {},
   "outputs": [],
   "source": [
    "calc_com_df['index'] = calc_com_df['Path'].apply(lambda x : x.split('_')[0])\n",
    "# calc_com_df['Path'].apply(lambda x : [  for i in x.split('_')])"
   ]
  },
  {
   "cell_type": "code",
   "execution_count": 43,
   "metadata": {},
   "outputs": [],
   "source": [
    "calc_com_df['id'] = calc_com_df['Path'].apply(lambda x : x.split('_')[1].split('.')[0])"
   ]
  },
  {
   "cell_type": "code",
   "execution_count": null,
   "metadata": {},
   "outputs": [],
   "source": [
    "calc_com_df.sort_values(by = ['index', 'id'])"
   ]
  },
  {
   "cell_type": "code",
   "execution_count": 45,
   "metadata": {},
   "outputs": [],
   "source": [
    "calc_com_df[['index', 'id', 'Cognitive Complexity']] = calc_com_df[['index', 'id', 'Cognitive Complexity']].astype('int')"
   ]
  },
  {
   "cell_type": "code",
   "execution_count": 46,
   "metadata": {},
   "outputs": [],
   "source": [
    "src_df[['index', 'id']] = src_df[['index', 'id']].astype('int')"
   ]
  },
  {
   "cell_type": "code",
   "execution_count": null,
   "metadata": {},
   "outputs": [],
   "source": [
    "calc_com_df.info()"
   ]
  },
  {
   "cell_type": "code",
   "execution_count": null,
   "metadata": {},
   "outputs": [],
   "source": [
    "calc_com_df.sort_values(by = ['index', 'id'])"
   ]
  },
  {
   "cell_type": "code",
   "execution_count": null,
   "metadata": {},
   "outputs": [],
   "source": [
    "calc_com_df.info()"
   ]
  },
  {
   "cell_type": "code",
   "execution_count": null,
   "metadata": {},
   "outputs": [],
   "source": [
    "src_df.info()"
   ]
  },
  {
   "cell_type": "code",
   "execution_count": 51,
   "metadata": {},
   "outputs": [],
   "source": [
    "calc_com_df = pd.merge(src_df,  calc_com_df, how = 'left', on = ['index', 'id'])"
   ]
  },
  {
   "cell_type": "code",
   "execution_count": 52,
   "metadata": {},
   "outputs": [],
   "source": [
    "calc_com_df = pd.merge(complexity_python_df[['id', 'cdate']], calc_com_df, on = 'id')"
   ]
  },
  {
   "cell_type": "code",
   "execution_count": null,
   "metadata": {},
   "outputs": [],
   "source": [
    "calc_com_df.head()"
   ]
  },
  {
   "cell_type": "code",
   "execution_count": 54,
   "metadata": {},
   "outputs": [],
   "source": [
    "# 일자별로 아예 소스가 수행되지 않는 건 \n",
    "calc_com_df_back = calc_com_df.copy()\n",
    "calc_ed_com_df = calc_com_df[~calc_com_df['Path'].isna()]"
   ]
  },
  {
   "cell_type": "code",
   "execution_count": 55,
   "metadata": {},
   "outputs": [],
   "source": [
    "calc_ed_com_df = calc_ed_com_df.sort_values(by = ['cdate', 'id', 'Cognitive Complexity'], ascending = [True, True, False]).groupby('id').head(1)"
   ]
  },
  {
   "cell_type": "code",
   "execution_count": null,
   "metadata": {},
   "outputs": [],
   "source": [
    "calc_ed_com_df.head()"
   ]
  },
  {
   "cell_type": "code",
   "execution_count": 57,
   "metadata": {},
   "outputs": [],
   "source": [
    "calc_ed_com_df = calc_ed_com_df.groupby('cdate').mean()[['Cognitive Complexity']].reset_index()"
   ]
  },
  {
   "cell_type": "code",
   "execution_count": null,
   "metadata": {},
   "outputs": [],
   "source": [
    "calc_ed_com_df.head()"
   ]
  },
  {
   "cell_type": "code",
   "execution_count": 59,
   "metadata": {},
   "outputs": [],
   "source": [
    "calc_ed_com_box_df = calc_ed_com_df.copy()"
   ]
  },
  {
   "cell_type": "code",
   "execution_count": 60,
   "metadata": {},
   "outputs": [],
   "source": [
    "calc_ed_com_box_df['yyyymm'] = calc_ed_com_box_df['cdate'].str[:7]"
   ]
  },
  {
   "cell_type": "code",
   "execution_count": 61,
   "metadata": {},
   "outputs": [],
   "source": [
    "ym_list = calc_ed_com_box_df['yyyymm'].unique()"
   ]
  },
  {
   "cell_type": "code",
   "execution_count": null,
   "metadata": {},
   "outputs": [],
   "source": [
    "[calc_ed_com_box_df[calc_ed_com_box_df['yyyymm']==x]  for x in ym_list]"
   ]
  },
  {
   "cell_type": "code",
   "execution_count": null,
   "metadata": {},
   "outputs": [],
   "source": [
    "sharey = True ## 또는 sharey=False\n",
    "sharex = True ## 또는 sharex=False\n",
    "\n",
    "fig, axs = plt.subplots(1, 2, figsize = (20, 5), sharey=sharey, sharex=sharex)\n",
    "# plt.xticks(rotation=45)\n",
    "# major_xticks = ['2013-11-30','2014-11-30','2015-11-30','2016-11-30','2017-11-30','2018-11-30','2019-11-30','2020-11-30'\n",
    "#                 ,'2021-11-30', '2022-11-30', '2023-11-30']\n",
    "# yticks = np.arange(200, 2000, 400)\n",
    "axs[0].bar(calc_ed_com_df['cdate']\n",
    "        ,  calc_ed_com_df['Cognitive Complexity']\n",
    "        ,  color = 'skyblue'\n",
    "        # ,  edgecolor = 'black'\n",
    "      ) # hist type\n",
    "\n",
    "axs[0].set_title('Number of Questions over time', fontsize = 15)\n",
    "axs[0].set_xlabel('Date', fontsize = 15)\n",
    "axs[0].set_ylabel('# of Q', fontsize = 15)\n",
    "# axs[0].set_xticks(major_xticks)\n",
    "# axs[0].set_yticks(yticks)\n",
    "# axs[0].axvline([major_xticks[-2]], # add vertical line\n",
    "#            color = 'blue',\n",
    "#            linestyle = '--',\n",
    "#            linewidth = 1.5)\n",
    "axs[0].tick_params(axis='x', rotation=45)\n",
    "# axs[0].yticks(yt)\n",
    "\n",
    "axs[0].bar(calc_ed_com_df['cdate']\n",
    "        ,  calc_ed_com_df['Cognitive Complexity']\n",
    "        ,  color = 'skyblue'\n",
    "        # ,  edgecolor = 'black'\n",
    "      ) # hist type\n",
    "\n",
    "axs[1].set_title('Number of Answers over time', fontsize = 15)\n",
    "axs[1].set_xlabel('Date', fontsize = 15)\n",
    "axs[1].set_ylabel('# of A', fontsize = 15)\n",
    "# axs[1].set_xticks(major_xticks)\n",
    "# axs[1].set_yticks(yticks)\n",
    "# axs[1].axvline([major_xticks[-2]], # add vertical line\n",
    "#            color = 'blue',\n",
    "#            linestyle = '--',\n",
    "#            linewidth = 1.5)\n",
    "axs[1].tick_params(axis='x', rotation=45)\n",
    "\n",
    "plt.show();\n"
   ]
  },
  {
   "cell_type": "code",
   "execution_count": null,
   "metadata": {},
   "outputs": [],
   "source": [
    "sharey = True ## 또는 sharey=False\n",
    "sharex = True ## 또는 sharex=False\n",
    "\n",
    "fig, axs = plt.subplots(1, 2, figsize = (20, 5), sharey=False, sharex=False)\n",
    "# plt.xticks(rotation=45)\n",
    "major_xticks = ['2022-01-30','2022-02-28','2022-03-30','2022-04-30','2022-05-30','2022-06-30','2022-07-30','2022-08-30','2022-09-30','2022-10-30','2022-11-30','2022-12-30',\n",
    "                '2023-01-30','2023-02-28','2023-03-30','2023-04-30','2023-05-30','2023-06-30','2023-07-30','2023-08-30','2023-09-30','2023-10-30','2023-11-30','2023-12-30']\n",
    "axs1_xticks = ym_list\n",
    "axs1_xticks = np.insert(axs1_xticks, 0, '0')  # 인덱스 2 위치에 100을 추가 \n",
    "# yticks = np.arange(200, 2000, 400)\n",
    "axs[0].bar(calc_ed_com_df['cdate']\n",
    "        ,  calc_ed_com_df['Cognitive Complexity']\n",
    "        ,  color = 'skyblue'\n",
    "        # ,  edgecolor = 'black'\n",
    "      ) # hist type\n",
    "\n",
    "axs[0].set_title('Avg Cognitive Complexity per Day', fontsize = 15)\n",
    "axs[0].set_xlabel('Date', fontsize = 15)\n",
    "axs[0].set_ylabel('Avg Cognitive Complexity', fontsize = 15)\n",
    "axs[0].set_xticks(major_xticks)\n",
    "# axs[0].set_yticks(yticks)\n",
    "# axs[0].axvline([major_xticks[-2]], # add vertical line\n",
    "#            color = 'blue',\n",
    "#            linestyle = '--',\n",
    "#            linewidth = 1.5)\n",
    "axs[0].tick_params(axis='x', rotation=45)\n",
    "# axs[0].yticks(yt)\n",
    "\n",
    "axs[1].boxplot([calc_ed_com_box_df.loc[calc_ed_com_box_df['yyyymm']==x, 'Cognitive Complexity']  for x in ym_list]\n",
    "        # ,  edgecolor = 'black'\n",
    "      ) # hist type\n",
    "\n",
    "axs[1].set_title('Cognitive Complexity per Month', fontsize = 15)\n",
    "axs[1].set_xlabel('Date', fontsize = 15)\n",
    "axs[1].set_ylabel('Cognitive Complexity', fontsize = 15)\n",
    "axs[1].set_xticks(range(len(axs1_xticks)), axs1_xticks)\n",
    "# axs[1].set_yticks(yticks)\n",
    "# axs[1].axvline([major_xticks[-2]], # add vertical line\n",
    "#            color = 'blue',\n",
    "#            linestyle = '--',\n",
    "#            linewidth = 1.5)\n",
    "axs[1].tick_params(axis='x', rotation=45)\n",
    "\n",
    "plt.show();\n"
   ]
  },
  {
   "cell_type": "code",
   "execution_count": null,
   "metadata": {},
   "outputs": [],
   "source": [
    "ym_list[:11]\n",
    "# ym_list[12:]"
   ]
  },
  {
   "cell_type": "code",
   "execution_count": null,
   "metadata": {},
   "outputs": [],
   "source": [
    "sharey = True ## 또는 sharey=False\n",
    "sharex = True ## 또는 sharex=False\n",
    "\n",
    "fig, axs = plt.subplots(2, 1, figsize = (10, 10), sharey=True, sharex=False)\n",
    "# plt.xticks(rotation=45)\n",
    "\n",
    "axs0_xticks = ym_list[:11]\n",
    "axs0_xticks = np.insert(axs0_xticks, 0, '0')  # 인덱스 2 위치에 100을 추가 \n",
    "\n",
    "axs1_xticks = ym_list[12:]\n",
    "axs1_xticks = np.insert(axs1_xticks, 0, '0')  # 인덱스 2 위치에 100을 추가 \n",
    "yticks = np.arange(0.5, 5, 0.5)\n",
    "\n",
    "axs[0].boxplot([calc_ed_com_box_df.loc[calc_ed_com_box_df['yyyymm']==x, 'Cognitive Complexity']  for x in ym_list[:11]]\n",
    "        # ,  edgecolor = 'black'\n",
    "      ) # hist type\n",
    "\n",
    "axs[0].set_title('Cognitive Complexity per Month', fontsize = 15)\n",
    "axs[0].set_xlabel('Date', fontsize = 15)\n",
    "axs[0].set_ylabel('Cognitive Complexity', fontsize = 15)\n",
    "axs[0].set_xticks(range(len(axs0_xticks)), axs0_xticks)\n",
    "axs[0].set_yticks(yticks)\n",
    "# axs[1].axvline([major_xticks[-2]], # add vertical line\n",
    "#            color = 'blue',\n",
    "#            linestyle = '--',\n",
    "#            linewidth = 1.5)\n",
    "axs[0].tick_params(axis='x', rotation=45)\n",
    "\n",
    "\n",
    "axs[1].boxplot([calc_ed_com_box_df.loc[calc_ed_com_box_df['yyyymm']==x, 'Cognitive Complexity']  for x in ym_list[12:]]\n",
    "        # ,  edgecolor = 'black'\n",
    "      ) # hist type\n",
    "\n",
    "axs[1].set_title('Cognitive Complexity per Month', fontsize = 15)\n",
    "axs[1].set_xlabel('Date', fontsize = 15)\n",
    "axs[1].set_ylabel('Cognitive Complexity', fontsize = 15)\n",
    "axs[1].set_xticks(range(len(axs1_xticks)), axs1_xticks)\n",
    "axs[1].set_yticks(yticks)\n",
    "# axs[1].axvline([major_xticks[-2]], # add vertical line\n",
    "#            color = 'blue',\n",
    "#            linestyle = '--',\n",
    "#            linewidth = 1.5)\n",
    "axs[1].tick_params(axis='x', rotation=45)\n",
    "plt.tight_layout()    \n",
    "plt.show();\n"
   ]
  },
  {
   "cell_type": "code",
   "execution_count": null,
   "metadata": {},
   "outputs": [],
   "source": [
    "len(np.arange(2, 13, 1))"
   ]
  },
  {
   "cell_type": "code",
   "execution_count": null,
   "metadata": {},
   "outputs": [],
   "source": [
    "sharey = True ## 또는 sharey=False\n",
    "sharex = True ## 또는 sharex=False\n",
    "\n",
    "fig, axs = plt.subplots(2, 1, figsize = (10, 10), sharey=True, sharex=False)\n",
    "# plt.xticks(rotation=45)\n",
    "\n",
    "axs0_xticks = ym_list[:11]\n",
    "axs0_xticks = np.insert(axs0_xticks, 0, '0')  # 인덱스 2 위치에 100을 추가 \n",
    "\n",
    "axs1_xticks = ym_list[12:]\n",
    "axs1_xticks = np.insert(axs1_xticks, 0, '0')  # 인덱스 2 위치에 100을 추가 \n",
    "yticks = np.arange(0.5, 5, 0.5)\n",
    "\n",
    "\n",
    "axs[0].violinplot([calc_ed_com_box_df.loc[calc_ed_com_box_df['yyyymm']==x, 'Cognitive Complexity']  for x in ym_list[:11]], positions=np.arange(1, 12, 1))\n",
    "axs[0].set_title('Cognitive Complexity per Month', fontsize = 15)\n",
    "axs[0].set_xlabel('Date', fontsize = 15)\n",
    "axs[0].set_ylabel('Cognitive Complexity', fontsize = 15)\n",
    "axs[0].set_xticks(range(len(axs0_xticks)), axs0_xticks)\n",
    "axs[0].set_yticks(yticks)\n",
    "# axs[1].axvline([major_xticks[-2]], # add vertical line\n",
    "#            color = 'blue',\n",
    "#            linestyle = '--',\n",
    "#            linewidth = 1.5)\n",
    "axs[0].tick_params(axis='x', rotation=45)\n",
    "\n",
    "\n",
    "\n",
    "axs[1].violinplot([calc_ed_com_box_df.loc[calc_ed_com_box_df['yyyymm']==x, 'Cognitive Complexity']  for x in ym_list[12:]], positions=np.arange(1, 12, 1))\n",
    "axs[1].set_title('Cognitive Complexity per Month', fontsize = 15)\n",
    "axs[1].set_xlabel('Date', fontsize = 15)\n",
    "axs[1].set_ylabel('Cognitive Complexity', fontsize = 15)\n",
    "axs[1].set_xticks(range(len(axs1_xticks)), axs1_xticks)\n",
    "axs[1].set_yticks(yticks)\n",
    "# axs[1].axvline([major_xticks[-2]], # add vertical line\n",
    "#            color = 'blue',\n",
    "#            linestyle = '--',\n",
    "#            linewidth = 1.5)\n",
    "axs[1].tick_params(axis='x', rotation=45)\n",
    "plt.tight_layout()    \n",
    "plt.show();\n"
   ]
  },
  {
   "cell_type": "code",
   "execution_count": null,
   "metadata": {},
   "outputs": [],
   "source": []
  }
 ],
 "metadata": {
  "kernelspec": {
   "display_name": "Python 3",
   "language": "python",
   "name": "python3"
  },
  "language_info": {
   "codemirror_mode": {
    "name": "ipython",
    "version": 3
   },
   "file_extension": ".py",
   "mimetype": "text/x-python",
   "name": "python",
   "nbconvert_exporter": "python",
   "pygments_lexer": "ipython3",
   "version": "3.10.12"
  }
 },
 "nbformat": 4,
 "nbformat_minor": 2
}
