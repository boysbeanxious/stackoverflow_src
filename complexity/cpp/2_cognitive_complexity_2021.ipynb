{
 "cells": [
  {
   "cell_type": "code",
   "execution_count": 1,
   "metadata": {},
   "outputs": [],
   "source": [
    "import sys, os\n",
    "p = os.path.abspath('../..')\n",
    "# p = p+r'\\config'\n",
    "sys.path.insert(1, p)"
   ]
  },
  {
   "cell_type": "code",
   "execution_count": 2,
   "metadata": {},
   "outputs": [],
   "source": [
    "#customized preprocessing pkg\n",
    "import lib.preprocess.preprocess as pp\n",
    "import lib.cc_cpp.CognitiveComplexityCalculator as cc\n",
    "\n",
    "import pandas as pd\n",
    "import numpy as np\n",
    "import pickle\n",
    "import ast\n",
    "import pprint\n",
    "import os\n",
    "import matplotlib.pyplot as plt\n",
    "import matplotlib.ticker as ticker"
   ]
  },
  {
   "cell_type": "code",
   "execution_count": 3,
   "metadata": {},
   "outputs": [],
   "source": [
    "input_year = '2021'"
   ]
  },
  {
   "cell_type": "markdown",
   "metadata": {},
   "source": [
    "### 소스코드 complexity 계산"
   ]
  },
  {
   "cell_type": "code",
   "execution_count": 4,
   "metadata": {},
   "outputs": [],
   "source": [
    "# 파일 불러오기\n",
    "with open(f'../../../data/complexity_cpp_df_{input_year}.pkl', 'rb') as f:\n",
    "    complexity_cpp_df = pickle.load(f)"
   ]
  },
  {
   "cell_type": "code",
   "execution_count": 5,
   "metadata": {},
   "outputs": [
    {
     "data": {
      "text/plain": [
       "'2021-12-31'"
      ]
     },
     "execution_count": 5,
     "metadata": {},
     "output_type": "execute_result"
    }
   ],
   "source": [
    "complexity_cpp_df['cdate'].max()"
   ]
  },
  {
   "cell_type": "code",
   "execution_count": 6,
   "metadata": {},
   "outputs": [
    {
     "data": {
      "text/plain": [
       "'2021-12-31'"
      ]
     },
     "execution_count": 6,
     "metadata": {},
     "output_type": "execute_result"
    }
   ],
   "source": [
    "complexity_cpp_df['cdate'].max()"
   ]
  },
  {
   "cell_type": "code",
   "execution_count": 7,
   "metadata": {},
   "outputs": [],
   "source": [
    "htmlp = pp.HTMLParser()\n",
    "codep = pp.CodeSectionParser()"
   ]
  },
  {
   "cell_type": "code",
   "execution_count": 8,
   "metadata": {},
   "outputs": [],
   "source": [
    "complexity_cpp_df['c_h_body'] = complexity_cpp_df['body'].apply(lambda x : htmlp.clean_html_str(x))"
   ]
  },
  {
   "cell_type": "code",
   "execution_count": 9,
   "metadata": {},
   "outputs": [
    {
     "name": "stdout",
     "output_type": "stream",
     "text": [
      "<class 'pandas.core.frame.DataFrame'>\n",
      "RangeIndex: 45807 entries, 0 to 45806\n",
      "Data columns (total 5 columns):\n",
      " #   Column    Non-Null Count  Dtype \n",
      "---  ------    --------------  ----- \n",
      " 0   id        45807 non-null  int64 \n",
      " 1   cdate     45807 non-null  object\n",
      " 2   title     45807 non-null  object\n",
      " 3   body      45807 non-null  object\n",
      " 4   c_h_body  45807 non-null  object\n",
      "dtypes: int64(1), object(4)\n",
      "memory usage: 1.7+ MB\n"
     ]
    }
   ],
   "source": [
    "complexity_cpp_df.info()"
   ]
  },
  {
   "cell_type": "code",
   "execution_count": 10,
   "metadata": {},
   "outputs": [],
   "source": [
    "complexity_cpp_df['c_body'] = complexity_cpp_df['body'].apply(lambda x : codep(x))"
   ]
  },
  {
   "cell_type": "code",
   "execution_count": 11,
   "metadata": {},
   "outputs": [
    {
     "data": {
      "text/html": [
       "<div>\n",
       "<style scoped>\n",
       "    .dataframe tbody tr th:only-of-type {\n",
       "        vertical-align: middle;\n",
       "    }\n",
       "\n",
       "    .dataframe tbody tr th {\n",
       "        vertical-align: top;\n",
       "    }\n",
       "\n",
       "    .dataframe thead th {\n",
       "        text-align: right;\n",
       "    }\n",
       "</style>\n",
       "<table border=\"1\" class=\"dataframe\">\n",
       "  <thead>\n",
       "    <tr style=\"text-align: right;\">\n",
       "      <th></th>\n",
       "      <th>id</th>\n",
       "      <th>cdate</th>\n",
       "      <th>title</th>\n",
       "      <th>body</th>\n",
       "      <th>c_h_body</th>\n",
       "      <th>c_body</th>\n",
       "    </tr>\n",
       "  </thead>\n",
       "  <tbody>\n",
       "    <tr>\n",
       "      <th>0</th>\n",
       "      <td>70551912</td>\n",
       "      <td>2021-12-29</td>\n",
       "      <td>How to explicitly create a function template</td>\n",
       "      <td>&lt;p&gt;&lt;strong&gt;modbus.hpp&lt;/strong&gt;&lt;/p&gt;\\n&lt;pre class...</td>\n",
       "      <td>modbus.hpp\\nclass modbus_rtu\\n{\\n    template ...</td>\n",
       "      <td>{'code_sections': []}</td>\n",
       "    </tr>\n",
       "    <tr>\n",
       "      <th>1</th>\n",
       "      <td>70542870</td>\n",
       "      <td>2021-12-31</td>\n",
       "      <td>How to store unordered_set to a vector?</td>\n",
       "      <td>&lt;p&gt;I want to use a vector to store several uno...</td>\n",
       "      <td>I want to use a vector to store several unorde...</td>\n",
       "      <td>{'code_sections': [{'off_beg': 103, 'off_end':...</td>\n",
       "    </tr>\n",
       "    <tr>\n",
       "      <th>2</th>\n",
       "      <td>70542878</td>\n",
       "      <td>2021-12-31</td>\n",
       "      <td>Is it permissible to specialize mathematical c...</td>\n",
       "      <td>&lt;p&gt;Suppose I create my own floating point type...</td>\n",
       "      <td>Suppose I create my own floating point type My...</td>\n",
       "      <td>{'code_sections': []}</td>\n",
       "    </tr>\n",
       "    <tr>\n",
       "      <th>3</th>\n",
       "      <td>70271407</td>\n",
       "      <td>2021-12-08</td>\n",
       "      <td>Operator Overloading with Vectors of Vectors</td>\n",
       "      <td>&lt;p&gt;I am new to C++ and OOP. In my assignment, ...</td>\n",
       "      <td>I am new to C++ and OOP. In my assignment, we ...</td>\n",
       "      <td>{'code_sections': [{'off_beg': 558, 'off_end':...</td>\n",
       "    </tr>\n",
       "    <tr>\n",
       "      <th>4</th>\n",
       "      <td>70271468</td>\n",
       "      <td>2021-12-08</td>\n",
       "      <td>c++ enum characher from integer value</td>\n",
       "      <td>&lt;p&gt;So my problem goes like this, i have to ent...</td>\n",
       "      <td>So my problem goes like this, i have to enter ...</td>\n",
       "      <td>{'code_sections': [{'off_beg': 207, 'off_end':...</td>\n",
       "    </tr>\n",
       "    <tr>\n",
       "      <th>...</th>\n",
       "      <td>...</td>\n",
       "      <td>...</td>\n",
       "      <td>...</td>\n",
       "      <td>...</td>\n",
       "      <td>...</td>\n",
       "      <td>...</td>\n",
       "    </tr>\n",
       "    <tr>\n",
       "      <th>45802</th>\n",
       "      <td>70426758</td>\n",
       "      <td>2021-12-20</td>\n",
       "      <td>Size of data being written is increasing by 1 ...</td>\n",
       "      <td>&lt;p&gt;I've got a program, which writes informatio...</td>\n",
       "      <td>I've got a program, which writes information a...</td>\n",
       "      <td>{'code_sections': [{'off_beg': 1126, 'off_end'...</td>\n",
       "    </tr>\n",
       "    <tr>\n",
       "      <th>45803</th>\n",
       "      <td>70426877</td>\n",
       "      <td>2021-12-20</td>\n",
       "      <td>How does std::array constructor initialize its...</td>\n",
       "      <td>&lt;p&gt;Im trying to understand how std::array cons...</td>\n",
       "      <td>Im trying to understand how std::array constru...</td>\n",
       "      <td>{'code_sections': [{'off_beg': 216, 'off_end':...</td>\n",
       "    </tr>\n",
       "    <tr>\n",
       "      <th>45804</th>\n",
       "      <td>70427057</td>\n",
       "      <td>2021-12-20</td>\n",
       "      <td>sfinae vs concepts with non type template parms</td>\n",
       "      <td>&lt;p&gt;For academic reasons I want to implement an...</td>\n",
       "      <td>For academic reasons I want to implement an ex...</td>\n",
       "      <td>{'code_sections': [{'off_beg': 266, 'off_end':...</td>\n",
       "    </tr>\n",
       "    <tr>\n",
       "      <th>45805</th>\n",
       "      <td>70427098</td>\n",
       "      <td>2021-12-20</td>\n",
       "      <td>QSerialPortInfo::serialNumber() always returns...</td>\n",
       "      <td>&lt;p&gt;&lt;strong&gt;QSerialPortInfo::serialNumber()&lt;/st...</td>\n",
       "      <td>QSerialPortInfo::serialNumber() always returns...</td>\n",
       "      <td>{'code_sections': [{'off_beg': 641, 'off_end':...</td>\n",
       "    </tr>\n",
       "    <tr>\n",
       "      <th>45806</th>\n",
       "      <td>70427135</td>\n",
       "      <td>2021-12-20</td>\n",
       "      <td>Implement a struct in WASM text format</td>\n",
       "      <td>&lt;p&gt;Does WASM text format have structs?&lt;/p&gt;\\n&lt;p...</td>\n",
       "      <td>Does WASM text format have structs?\\n(module\\n...</td>\n",
       "      <td>{'code_sections': []}</td>\n",
       "    </tr>\n",
       "  </tbody>\n",
       "</table>\n",
       "<p>45807 rows × 6 columns</p>\n",
       "</div>"
      ],
      "text/plain": [
       "             id       cdate  \\\n",
       "0      70551912  2021-12-29   \n",
       "1      70542870  2021-12-31   \n",
       "2      70542878  2021-12-31   \n",
       "3      70271407  2021-12-08   \n",
       "4      70271468  2021-12-08   \n",
       "...         ...         ...   \n",
       "45802  70426758  2021-12-20   \n",
       "45803  70426877  2021-12-20   \n",
       "45804  70427057  2021-12-20   \n",
       "45805  70427098  2021-12-20   \n",
       "45806  70427135  2021-12-20   \n",
       "\n",
       "                                                   title  \\\n",
       "0           How to explicitly create a function template   \n",
       "1                How to store unordered_set to a vector?   \n",
       "2      Is it permissible to specialize mathematical c...   \n",
       "3           Operator Overloading with Vectors of Vectors   \n",
       "4                  c++ enum characher from integer value   \n",
       "...                                                  ...   \n",
       "45802  Size of data being written is increasing by 1 ...   \n",
       "45803  How does std::array constructor initialize its...   \n",
       "45804    sfinae vs concepts with non type template parms   \n",
       "45805  QSerialPortInfo::serialNumber() always returns...   \n",
       "45806             Implement a struct in WASM text format   \n",
       "\n",
       "                                                    body  \\\n",
       "0      <p><strong>modbus.hpp</strong></p>\\n<pre class...   \n",
       "1      <p>I want to use a vector to store several uno...   \n",
       "2      <p>Suppose I create my own floating point type...   \n",
       "3      <p>I am new to C++ and OOP. In my assignment, ...   \n",
       "4      <p>So my problem goes like this, i have to ent...   \n",
       "...                                                  ...   \n",
       "45802  <p>I've got a program, which writes informatio...   \n",
       "45803  <p>Im trying to understand how std::array cons...   \n",
       "45804  <p>For academic reasons I want to implement an...   \n",
       "45805  <p><strong>QSerialPortInfo::serialNumber()</st...   \n",
       "45806  <p>Does WASM text format have structs?</p>\\n<p...   \n",
       "\n",
       "                                                c_h_body  \\\n",
       "0      modbus.hpp\\nclass modbus_rtu\\n{\\n    template ...   \n",
       "1      I want to use a vector to store several unorde...   \n",
       "2      Suppose I create my own floating point type My...   \n",
       "3      I am new to C++ and OOP. In my assignment, we ...   \n",
       "4      So my problem goes like this, i have to enter ...   \n",
       "...                                                  ...   \n",
       "45802  I've got a program, which writes information a...   \n",
       "45803  Im trying to understand how std::array constru...   \n",
       "45804  For academic reasons I want to implement an ex...   \n",
       "45805  QSerialPortInfo::serialNumber() always returns...   \n",
       "45806  Does WASM text format have structs?\\n(module\\n...   \n",
       "\n",
       "                                                  c_body  \n",
       "0                                  {'code_sections': []}  \n",
       "1      {'code_sections': [{'off_beg': 103, 'off_end':...  \n",
       "2                                  {'code_sections': []}  \n",
       "3      {'code_sections': [{'off_beg': 558, 'off_end':...  \n",
       "4      {'code_sections': [{'off_beg': 207, 'off_end':...  \n",
       "...                                                  ...  \n",
       "45802  {'code_sections': [{'off_beg': 1126, 'off_end'...  \n",
       "45803  {'code_sections': [{'off_beg': 216, 'off_end':...  \n",
       "45804  {'code_sections': [{'off_beg': 266, 'off_end':...  \n",
       "45805  {'code_sections': [{'off_beg': 641, 'off_end':...  \n",
       "45806                              {'code_sections': []}  \n",
       "\n",
       "[45807 rows x 6 columns]"
      ]
     },
     "execution_count": 11,
     "metadata": {},
     "output_type": "execute_result"
    }
   ],
   "source": [
    "complexity_cpp_df"
   ]
  },
  {
   "cell_type": "code",
   "execution_count": 12,
   "metadata": {},
   "outputs": [],
   "source": [
    "complexity_cpp_src = complexity_cpp_df[['id', 'c_body']]"
   ]
  },
  {
   "cell_type": "code",
   "execution_count": 13,
   "metadata": {},
   "outputs": [
    {
     "name": "stderr",
     "output_type": "stream",
     "text": [
      "/tmp/ipykernel_3128807/1515188210.py:1: SettingWithCopyWarning: \n",
      "A value is trying to be set on a copy of a slice from a DataFrame.\n",
      "Try using .loc[row_indexer,col_indexer] = value instead\n",
      "\n",
      "See the caveats in the documentation: https://pandas.pydata.org/pandas-docs/stable/user_guide/indexing.html#returning-a-view-versus-a-copy\n",
      "  complexity_cpp_src['code_len'] = complexity_cpp_src['c_body'].apply(lambda x: len(x['code_sections']))\n"
     ]
    }
   ],
   "source": [
    "complexity_cpp_src['code_len'] = complexity_cpp_src['c_body'].apply(lambda x: len(x['code_sections']))"
   ]
  },
  {
   "cell_type": "code",
   "execution_count": 14,
   "metadata": {},
   "outputs": [],
   "source": [
    "complexity_cpp_src = complexity_cpp_src[complexity_cpp_src['code_len']>0]"
   ]
  },
  {
   "cell_type": "code",
   "execution_count": 15,
   "metadata": {},
   "outputs": [
    {
     "data": {
      "text/html": [
       "<div>\n",
       "<style scoped>\n",
       "    .dataframe tbody tr th:only-of-type {\n",
       "        vertical-align: middle;\n",
       "    }\n",
       "\n",
       "    .dataframe tbody tr th {\n",
       "        vertical-align: top;\n",
       "    }\n",
       "\n",
       "    .dataframe thead th {\n",
       "        text-align: right;\n",
       "    }\n",
       "</style>\n",
       "<table border=\"1\" class=\"dataframe\">\n",
       "  <thead>\n",
       "    <tr style=\"text-align: right;\">\n",
       "      <th></th>\n",
       "      <th>id</th>\n",
       "      <th>c_body</th>\n",
       "      <th>code_len</th>\n",
       "    </tr>\n",
       "  </thead>\n",
       "  <tbody>\n",
       "    <tr>\n",
       "      <th>1</th>\n",
       "      <td>70542870</td>\n",
       "      <td>{'code_sections': [{'off_beg': 103, 'off_end':...</td>\n",
       "      <td>1</td>\n",
       "    </tr>\n",
       "    <tr>\n",
       "      <th>3</th>\n",
       "      <td>70271407</td>\n",
       "      <td>{'code_sections': [{'off_beg': 558, 'off_end':...</td>\n",
       "      <td>3</td>\n",
       "    </tr>\n",
       "    <tr>\n",
       "      <th>4</th>\n",
       "      <td>70271468</td>\n",
       "      <td>{'code_sections': [{'off_beg': 207, 'off_end':...</td>\n",
       "      <td>1</td>\n",
       "    </tr>\n",
       "    <tr>\n",
       "      <th>5</th>\n",
       "      <td>70271504</td>\n",
       "      <td>{'code_sections': [{'off_beg': 207, 'off_end':...</td>\n",
       "      <td>3</td>\n",
       "    </tr>\n",
       "    <tr>\n",
       "      <th>8</th>\n",
       "      <td>70427509</td>\n",
       "      <td>{'code_sections': [{'off_beg': 279, 'off_end':...</td>\n",
       "      <td>1</td>\n",
       "    </tr>\n",
       "  </tbody>\n",
       "</table>\n",
       "</div>"
      ],
      "text/plain": [
       "         id                                             c_body  code_len\n",
       "1  70542870  {'code_sections': [{'off_beg': 103, 'off_end':...         1\n",
       "3  70271407  {'code_sections': [{'off_beg': 558, 'off_end':...         3\n",
       "4  70271468  {'code_sections': [{'off_beg': 207, 'off_end':...         1\n",
       "5  70271504  {'code_sections': [{'off_beg': 207, 'off_end':...         3\n",
       "8  70427509  {'code_sections': [{'off_beg': 279, 'off_end':...         1"
      ]
     },
     "execution_count": 15,
     "metadata": {},
     "output_type": "execute_result"
    }
   ],
   "source": [
    "complexity_cpp_src.head(5)"
   ]
  },
  {
   "cell_type": "code",
   "execution_count": 16,
   "metadata": {},
   "outputs": [],
   "source": [
    "src_df = pd.DataFrame(columns = ['id', 'src'])\n",
    "def code_explode(row) : \n",
    "    global src_df\n",
    "    for i in range(row['code_len']):\n",
    "        tmp_src_dict = {  'id'  : row['id']\n",
    "                        , 'src' : row['c_body']['code_sections'][i]['span_str']\n",
    "                        }\n",
    "        src_df = pd.concat([src_df, pd.DataFrame([tmp_src_dict])], ignore_index=True)\n",
    "    return True\n",
    "        "
   ]
  },
  {
   "cell_type": "code",
   "execution_count": 17,
   "metadata": {},
   "outputs": [
    {
     "data": {
      "text/plain": [
       "1        True\n",
       "3        True\n",
       "4        True\n",
       "5        True\n",
       "8        True\n",
       "         ... \n",
       "45801    True\n",
       "45802    True\n",
       "45803    True\n",
       "45804    True\n",
       "45805    True\n",
       "Length: 33492, dtype: bool"
      ]
     },
     "execution_count": 17,
     "metadata": {},
     "output_type": "execute_result"
    }
   ],
   "source": [
    "# bert_src_ex = bert_src[['q_id', 'q_prep_text']].apply(pd.Series.explode)\n",
    "complexity_cpp_src.apply(code_explode, axis = 1)"
   ]
  },
  {
   "cell_type": "code",
   "execution_count": 18,
   "metadata": {},
   "outputs": [],
   "source": [
    "src_df.reset_index(inplace=True)"
   ]
  },
  {
   "cell_type": "code",
   "execution_count": 19,
   "metadata": {},
   "outputs": [
    {
     "data": {
      "text/html": [
       "<div>\n",
       "<style scoped>\n",
       "    .dataframe tbody tr th:only-of-type {\n",
       "        vertical-align: middle;\n",
       "    }\n",
       "\n",
       "    .dataframe tbody tr th {\n",
       "        vertical-align: top;\n",
       "    }\n",
       "\n",
       "    .dataframe thead th {\n",
       "        text-align: right;\n",
       "    }\n",
       "</style>\n",
       "<table border=\"1\" class=\"dataframe\">\n",
       "  <thead>\n",
       "    <tr style=\"text-align: right;\">\n",
       "      <th></th>\n",
       "      <th>index</th>\n",
       "      <th>id</th>\n",
       "      <th>src</th>\n",
       "    </tr>\n",
       "  </thead>\n",
       "  <tbody>\n",
       "    <tr>\n",
       "      <th>0</th>\n",
       "      <td>0</td>\n",
       "      <td>70542870</td>\n",
       "      <td>#include &lt;;unordered_set&gt;;\\n#include &lt;;vector&gt;...</td>\n",
       "    </tr>\n",
       "    <tr>\n",
       "      <th>1</th>\n",
       "      <td>1</td>\n",
       "      <td>70271407</td>\n",
       "      <td>//\\n// Created by kd2ma on 12/7/2021.\\n//\\n#if...</td>\n",
       "    </tr>\n",
       "    <tr>\n",
       "      <th>2</th>\n",
       "      <td>2</td>\n",
       "      <td>70271407</td>\n",
       "      <td>//\\n// Created by kd2ma on 12/7/2021.\\n//\\n\\n#...</td>\n",
       "    </tr>\n",
       "    <tr>\n",
       "      <th>3</th>\n",
       "      <td>3</td>\n",
       "      <td>70271407</td>\n",
       "      <td>#include \"matrix.h\"\\n#include &lt;;iostream&gt;;\\n#i...</td>\n",
       "    </tr>\n",
       "    <tr>\n",
       "      <th>4</th>\n",
       "      <td>4</td>\n",
       "      <td>70271468</td>\n",
       "      <td>#include &lt;;iostream&gt;;\\nusing namespace std;\\ni...</td>\n",
       "    </tr>\n",
       "  </tbody>\n",
       "</table>\n",
       "</div>"
      ],
      "text/plain": [
       "   index        id                                                src\n",
       "0      0  70542870  #include <;unordered_set>;\\n#include <;vector>...\n",
       "1      1  70271407  //\\n// Created by kd2ma on 12/7/2021.\\n//\\n#if...\n",
       "2      2  70271407  //\\n// Created by kd2ma on 12/7/2021.\\n//\\n\\n#...\n",
       "3      3  70271407  #include \"matrix.h\"\\n#include <;iostream>;\\n#i...\n",
       "4      4  70271468  #include <;iostream>;\\nusing namespace std;\\ni..."
      ]
     },
     "execution_count": 19,
     "metadata": {},
     "output_type": "execute_result"
    }
   ],
   "source": [
    "src_df.head()"
   ]
  },
  {
   "cell_type": "code",
   "execution_count": null,
   "metadata": {},
   "outputs": [],
   "source": []
  },
  {
   "cell_type": "code",
   "execution_count": 20,
   "metadata": {},
   "outputs": [],
   "source": [
    "for i in range(src_df.shape[0]):\n",
    "    idx = src_df.iloc[i, 0]\n",
    "    qid = src_df.iloc[i, 1]\n",
    "    src = src_df.iloc[i, 2]\n",
    "    file_nm = str(idx)+'_' + str(qid)+'.cpp'\n",
    "    with open(f'../../../data/src/{input_year}_cpp_src/{file_nm}', 'wb') as f:\n",
    "        f.write(src.encode())\n"
   ]
  },
  {
   "cell_type": "code",
   "execution_count": 20,
   "metadata": {},
   "outputs": [],
   "source": [
    "# https://github.com/rohaquinlop/complexipy"
   ]
  },
  {
   "cell_type": "code",
   "execution_count": 62,
   "metadata": {},
   "outputs": [],
   "source": [
    "# pip install complexipy"
   ]
  },
  {
   "cell_type": "code",
   "execution_count": null,
   "metadata": {},
   "outputs": [],
   "source": [
    "# !complexipy /home/mghan/sopjt/git/data/src/3_74963438.py -l file -o"
   ]
  },
  {
   "cell_type": "code",
   "execution_count": 28,
   "metadata": {},
   "outputs": [],
   "source": [
    "# cyclomatic은 모든 언어 가능 but cognitive는 언어별로 따로 분석해야함\n",
    "# 하려면 소나큐브 사야 함 \n",
    "# pyhon 기준으로는 조금 삽질하면 할 수 있을 듯.... 해보고 유의미하면 소나큐브 고?\n"
   ]
  },
  {
   "cell_type": "markdown",
   "metadata": {},
   "source": [
    "### complexity 결과 확인"
   ]
  },
  {
   "cell_type": "code",
   "execution_count": 11,
   "metadata": {},
   "outputs": [],
   "source": [
    "path = f'../../data/src/{input_year}_excel/'\n",
    "file_list = os.listdir(path)\n",
    "file_list_csv = [file for file in file_list if file.endswith(\".csv\")]\n",
    "\n",
    "# print (\"file_list_csv: {}\".format(file_list_csv))"
   ]
  },
  {
   "cell_type": "code",
   "execution_count": 12,
   "metadata": {},
   "outputs": [],
   "source": [
    "calc_com_df = pd.DataFrame(columns = ['Path', 'File Name', 'Cognitive Complexity'])\n",
    "for file_nm in file_list_csv :\n",
    "    tmp = pd.read_csv(path+file_nm)\n",
    "    calc_com_df = pd.concat([calc_com_df, tmp], axis = 0)"
   ]
  },
  {
   "cell_type": "code",
   "execution_count": null,
   "metadata": {},
   "outputs": [],
   "source": [
    "calc_com_df.head()"
   ]
  },
  {
   "cell_type": "code",
   "execution_count": 13,
   "metadata": {},
   "outputs": [],
   "source": [
    "# 전체 데이터셋 \n",
    "with open(f'../../data/calc_com_df_{input_year}.pkl', 'wb') as f:\n",
    "    pickle.dump(calc_com_df, f)"
   ]
  },
  {
   "cell_type": "code",
   "execution_count": null,
   "metadata": {},
   "outputs": [],
   "source": [
    "calc_com_df.head()"
   ]
  },
  {
   "cell_type": "code",
   "execution_count": 40,
   "metadata": {},
   "outputs": [],
   "source": [
    "calc_com_df.reset_index(drop=True, inplace=True)"
   ]
  },
  {
   "cell_type": "code",
   "execution_count": null,
   "metadata": {},
   "outputs": [],
   "source": [
    "calc_com_df.head()"
   ]
  },
  {
   "cell_type": "code",
   "execution_count": 42,
   "metadata": {},
   "outputs": [],
   "source": [
    "calc_com_df['index'] = calc_com_df['Path'].apply(lambda x : x.split('_')[0])\n",
    "# calc_com_df['Path'].apply(lambda x : [  for i in x.split('_')])"
   ]
  },
  {
   "cell_type": "code",
   "execution_count": 43,
   "metadata": {},
   "outputs": [],
   "source": [
    "calc_com_df['id'] = calc_com_df['Path'].apply(lambda x : x.split('_')[1].split('.')[0])"
   ]
  },
  {
   "cell_type": "code",
   "execution_count": null,
   "metadata": {},
   "outputs": [],
   "source": [
    "calc_com_df.sort_values(by = ['index', 'id'])"
   ]
  },
  {
   "cell_type": "code",
   "execution_count": 45,
   "metadata": {},
   "outputs": [],
   "source": [
    "calc_com_df[['index', 'id', 'Cognitive Complexity']] = calc_com_df[['index', 'id', 'Cognitive Complexity']].astype('int')"
   ]
  },
  {
   "cell_type": "code",
   "execution_count": 46,
   "metadata": {},
   "outputs": [],
   "source": [
    "src_df[['index', 'id']] = src_df[['index', 'id']].astype('int')"
   ]
  },
  {
   "cell_type": "code",
   "execution_count": null,
   "metadata": {},
   "outputs": [],
   "source": [
    "calc_com_df.info()"
   ]
  },
  {
   "cell_type": "code",
   "execution_count": null,
   "metadata": {},
   "outputs": [],
   "source": [
    "calc_com_df.sort_values(by = ['index', 'id'])"
   ]
  },
  {
   "cell_type": "code",
   "execution_count": null,
   "metadata": {},
   "outputs": [],
   "source": [
    "calc_com_df.info()"
   ]
  },
  {
   "cell_type": "code",
   "execution_count": null,
   "metadata": {},
   "outputs": [],
   "source": [
    "src_df.info()"
   ]
  },
  {
   "cell_type": "code",
   "execution_count": 51,
   "metadata": {},
   "outputs": [],
   "source": [
    "calc_com_df = pd.merge(src_df,  calc_com_df, how = 'left', on = ['index', 'id'])"
   ]
  },
  {
   "cell_type": "code",
   "execution_count": 52,
   "metadata": {},
   "outputs": [],
   "source": [
    "calc_com_df = pd.merge(complexity_python_df[['id', 'cdate']], calc_com_df, on = 'id')"
   ]
  },
  {
   "cell_type": "code",
   "execution_count": null,
   "metadata": {},
   "outputs": [],
   "source": [
    "calc_com_df.head()"
   ]
  },
  {
   "cell_type": "code",
   "execution_count": 54,
   "metadata": {},
   "outputs": [],
   "source": [
    "# 일자별로 아예 소스가 수행되지 않는 건 \n",
    "calc_com_df_back = calc_com_df.copy()\n",
    "calc_ed_com_df = calc_com_df[~calc_com_df['Path'].isna()]"
   ]
  },
  {
   "cell_type": "code",
   "execution_count": 55,
   "metadata": {},
   "outputs": [],
   "source": [
    "calc_ed_com_df = calc_ed_com_df.sort_values(by = ['cdate', 'id', 'Cognitive Complexity'], ascending = [True, True, False]).groupby('id').head(1)"
   ]
  },
  {
   "cell_type": "code",
   "execution_count": null,
   "metadata": {},
   "outputs": [],
   "source": [
    "calc_ed_com_df.head()"
   ]
  },
  {
   "cell_type": "code",
   "execution_count": 57,
   "metadata": {},
   "outputs": [],
   "source": [
    "calc_ed_com_df = calc_ed_com_df.groupby('cdate').mean()[['Cognitive Complexity']].reset_index()"
   ]
  },
  {
   "cell_type": "code",
   "execution_count": null,
   "metadata": {},
   "outputs": [],
   "source": [
    "calc_ed_com_df.head()"
   ]
  },
  {
   "cell_type": "code",
   "execution_count": 59,
   "metadata": {},
   "outputs": [],
   "source": [
    "calc_ed_com_box_df = calc_ed_com_df.copy()"
   ]
  },
  {
   "cell_type": "code",
   "execution_count": 60,
   "metadata": {},
   "outputs": [],
   "source": [
    "calc_ed_com_box_df['yyyymm'] = calc_ed_com_box_df['cdate'].str[:7]"
   ]
  },
  {
   "cell_type": "code",
   "execution_count": 61,
   "metadata": {},
   "outputs": [],
   "source": [
    "ym_list = calc_ed_com_box_df['yyyymm'].unique()"
   ]
  },
  {
   "cell_type": "code",
   "execution_count": null,
   "metadata": {},
   "outputs": [],
   "source": [
    "[calc_ed_com_box_df[calc_ed_com_box_df['yyyymm']==x]  for x in ym_list]"
   ]
  },
  {
   "cell_type": "code",
   "execution_count": null,
   "metadata": {},
   "outputs": [],
   "source": [
    "sharey = True ## 또는 sharey=False\n",
    "sharex = True ## 또는 sharex=False\n",
    "\n",
    "fig, axs = plt.subplots(1, 2, figsize = (20, 5), sharey=sharey, sharex=sharex)\n",
    "# plt.xticks(rotation=45)\n",
    "# major_xticks = ['2013-11-30','2014-11-30','2015-11-30','2016-11-30','2017-11-30','2018-11-30','2019-11-30','2020-11-30'\n",
    "#                 ,'2021-11-30', '2022-11-30', '2023-11-30']\n",
    "# yticks = np.arange(200, 2000, 400)\n",
    "axs[0].bar(calc_ed_com_df['cdate']\n",
    "        ,  calc_ed_com_df['Cognitive Complexity']\n",
    "        ,  color = 'skyblue'\n",
    "        # ,  edgecolor = 'black'\n",
    "      ) # hist type\n",
    "\n",
    "axs[0].set_title('Number of Questions over time', fontsize = 15)\n",
    "axs[0].set_xlabel('Date', fontsize = 15)\n",
    "axs[0].set_ylabel('# of Q', fontsize = 15)\n",
    "# axs[0].set_xticks(major_xticks)\n",
    "# axs[0].set_yticks(yticks)\n",
    "# axs[0].axvline([major_xticks[-2]], # add vertical line\n",
    "#            color = 'blue',\n",
    "#            linestyle = '--',\n",
    "#            linewidth = 1.5)\n",
    "axs[0].tick_params(axis='x', rotation=45)\n",
    "# axs[0].yticks(yt)\n",
    "\n",
    "axs[0].bar(calc_ed_com_df['cdate']\n",
    "        ,  calc_ed_com_df['Cognitive Complexity']\n",
    "        ,  color = 'skyblue'\n",
    "        # ,  edgecolor = 'black'\n",
    "      ) # hist type\n",
    "\n",
    "axs[1].set_title('Number of Answers over time', fontsize = 15)\n",
    "axs[1].set_xlabel('Date', fontsize = 15)\n",
    "axs[1].set_ylabel('# of A', fontsize = 15)\n",
    "# axs[1].set_xticks(major_xticks)\n",
    "# axs[1].set_yticks(yticks)\n",
    "# axs[1].axvline([major_xticks[-2]], # add vertical line\n",
    "#            color = 'blue',\n",
    "#            linestyle = '--',\n",
    "#            linewidth = 1.5)\n",
    "axs[1].tick_params(axis='x', rotation=45)\n",
    "\n",
    "plt.show();\n"
   ]
  },
  {
   "cell_type": "code",
   "execution_count": null,
   "metadata": {},
   "outputs": [],
   "source": [
    "sharey = True ## 또는 sharey=False\n",
    "sharex = True ## 또는 sharex=False\n",
    "\n",
    "fig, axs = plt.subplots(1, 2, figsize = (20, 5), sharey=False, sharex=False)\n",
    "# plt.xticks(rotation=45)\n",
    "major_xticks = ['2022-01-30','2022-02-28','2022-03-30','2022-04-30','2022-05-30','2022-06-30','2022-07-30','2022-08-30','2022-09-30','2022-10-30','2022-11-30','2022-12-30',\n",
    "                '2023-01-30','2023-02-28','2023-03-30','2023-04-30','2023-05-30','2023-06-30','2023-07-30','2023-08-30','2023-09-30','2023-10-30','2023-11-30','2023-12-30']\n",
    "axs1_xticks = ym_list\n",
    "axs1_xticks = np.insert(axs1_xticks, 0, '0')  # 인덱스 2 위치에 100을 추가 \n",
    "# yticks = np.arange(200, 2000, 400)\n",
    "axs[0].bar(calc_ed_com_df['cdate']\n",
    "        ,  calc_ed_com_df['Cognitive Complexity']\n",
    "        ,  color = 'skyblue'\n",
    "        # ,  edgecolor = 'black'\n",
    "      ) # hist type\n",
    "\n",
    "axs[0].set_title('Avg Cognitive Complexity per Day', fontsize = 15)\n",
    "axs[0].set_xlabel('Date', fontsize = 15)\n",
    "axs[0].set_ylabel('Avg Cognitive Complexity', fontsize = 15)\n",
    "axs[0].set_xticks(major_xticks)\n",
    "# axs[0].set_yticks(yticks)\n",
    "# axs[0].axvline([major_xticks[-2]], # add vertical line\n",
    "#            color = 'blue',\n",
    "#            linestyle = '--',\n",
    "#            linewidth = 1.5)\n",
    "axs[0].tick_params(axis='x', rotation=45)\n",
    "# axs[0].yticks(yt)\n",
    "\n",
    "axs[1].boxplot([calc_ed_com_box_df.loc[calc_ed_com_box_df['yyyymm']==x, 'Cognitive Complexity']  for x in ym_list]\n",
    "        # ,  edgecolor = 'black'\n",
    "      ) # hist type\n",
    "\n",
    "axs[1].set_title('Cognitive Complexity per Month', fontsize = 15)\n",
    "axs[1].set_xlabel('Date', fontsize = 15)\n",
    "axs[1].set_ylabel('Cognitive Complexity', fontsize = 15)\n",
    "axs[1].set_xticks(range(len(axs1_xticks)), axs1_xticks)\n",
    "# axs[1].set_yticks(yticks)\n",
    "# axs[1].axvline([major_xticks[-2]], # add vertical line\n",
    "#            color = 'blue',\n",
    "#            linestyle = '--',\n",
    "#            linewidth = 1.5)\n",
    "axs[1].tick_params(axis='x', rotation=45)\n",
    "\n",
    "plt.show();\n"
   ]
  },
  {
   "cell_type": "code",
   "execution_count": null,
   "metadata": {},
   "outputs": [],
   "source": [
    "ym_list[:11]\n",
    "# ym_list[12:]"
   ]
  },
  {
   "cell_type": "code",
   "execution_count": null,
   "metadata": {},
   "outputs": [],
   "source": [
    "sharey = True ## 또는 sharey=False\n",
    "sharex = True ## 또는 sharex=False\n",
    "\n",
    "fig, axs = plt.subplots(2, 1, figsize = (10, 10), sharey=True, sharex=False)\n",
    "# plt.xticks(rotation=45)\n",
    "\n",
    "axs0_xticks = ym_list[:11]\n",
    "axs0_xticks = np.insert(axs0_xticks, 0, '0')  # 인덱스 2 위치에 100을 추가 \n",
    "\n",
    "axs1_xticks = ym_list[12:]\n",
    "axs1_xticks = np.insert(axs1_xticks, 0, '0')  # 인덱스 2 위치에 100을 추가 \n",
    "yticks = np.arange(0.5, 5, 0.5)\n",
    "\n",
    "axs[0].boxplot([calc_ed_com_box_df.loc[calc_ed_com_box_df['yyyymm']==x, 'Cognitive Complexity']  for x in ym_list[:11]]\n",
    "        # ,  edgecolor = 'black'\n",
    "      ) # hist type\n",
    "\n",
    "axs[0].set_title('Cognitive Complexity per Month', fontsize = 15)\n",
    "axs[0].set_xlabel('Date', fontsize = 15)\n",
    "axs[0].set_ylabel('Cognitive Complexity', fontsize = 15)\n",
    "axs[0].set_xticks(range(len(axs0_xticks)), axs0_xticks)\n",
    "axs[0].set_yticks(yticks)\n",
    "# axs[1].axvline([major_xticks[-2]], # add vertical line\n",
    "#            color = 'blue',\n",
    "#            linestyle = '--',\n",
    "#            linewidth = 1.5)\n",
    "axs[0].tick_params(axis='x', rotation=45)\n",
    "\n",
    "\n",
    "axs[1].boxplot([calc_ed_com_box_df.loc[calc_ed_com_box_df['yyyymm']==x, 'Cognitive Complexity']  for x in ym_list[12:]]\n",
    "        # ,  edgecolor = 'black'\n",
    "      ) # hist type\n",
    "\n",
    "axs[1].set_title('Cognitive Complexity per Month', fontsize = 15)\n",
    "axs[1].set_xlabel('Date', fontsize = 15)\n",
    "axs[1].set_ylabel('Cognitive Complexity', fontsize = 15)\n",
    "axs[1].set_xticks(range(len(axs1_xticks)), axs1_xticks)\n",
    "axs[1].set_yticks(yticks)\n",
    "# axs[1].axvline([major_xticks[-2]], # add vertical line\n",
    "#            color = 'blue',\n",
    "#            linestyle = '--',\n",
    "#            linewidth = 1.5)\n",
    "axs[1].tick_params(axis='x', rotation=45)\n",
    "plt.tight_layout()    \n",
    "plt.show();\n"
   ]
  },
  {
   "cell_type": "code",
   "execution_count": null,
   "metadata": {},
   "outputs": [],
   "source": [
    "len(np.arange(2, 13, 1))"
   ]
  },
  {
   "cell_type": "code",
   "execution_count": null,
   "metadata": {},
   "outputs": [],
   "source": [
    "sharey = True ## 또는 sharey=False\n",
    "sharex = True ## 또는 sharex=False\n",
    "\n",
    "fig, axs = plt.subplots(2, 1, figsize = (10, 10), sharey=True, sharex=False)\n",
    "# plt.xticks(rotation=45)\n",
    "\n",
    "axs0_xticks = ym_list[:11]\n",
    "axs0_xticks = np.insert(axs0_xticks, 0, '0')  # 인덱스 2 위치에 100을 추가 \n",
    "\n",
    "axs1_xticks = ym_list[12:]\n",
    "axs1_xticks = np.insert(axs1_xticks, 0, '0')  # 인덱스 2 위치에 100을 추가 \n",
    "yticks = np.arange(0.5, 5, 0.5)\n",
    "\n",
    "\n",
    "axs[0].violinplot([calc_ed_com_box_df.loc[calc_ed_com_box_df['yyyymm']==x, 'Cognitive Complexity']  for x in ym_list[:11]], positions=np.arange(1, 12, 1))\n",
    "axs[0].set_title('Cognitive Complexity per Month', fontsize = 15)\n",
    "axs[0].set_xlabel('Date', fontsize = 15)\n",
    "axs[0].set_ylabel('Cognitive Complexity', fontsize = 15)\n",
    "axs[0].set_xticks(range(len(axs0_xticks)), axs0_xticks)\n",
    "axs[0].set_yticks(yticks)\n",
    "# axs[1].axvline([major_xticks[-2]], # add vertical line\n",
    "#            color = 'blue',\n",
    "#            linestyle = '--',\n",
    "#            linewidth = 1.5)\n",
    "axs[0].tick_params(axis='x', rotation=45)\n",
    "\n",
    "\n",
    "\n",
    "axs[1].violinplot([calc_ed_com_box_df.loc[calc_ed_com_box_df['yyyymm']==x, 'Cognitive Complexity']  for x in ym_list[12:]], positions=np.arange(1, 12, 1))\n",
    "axs[1].set_title('Cognitive Complexity per Month', fontsize = 15)\n",
    "axs[1].set_xlabel('Date', fontsize = 15)\n",
    "axs[1].set_ylabel('Cognitive Complexity', fontsize = 15)\n",
    "axs[1].set_xticks(range(len(axs1_xticks)), axs1_xticks)\n",
    "axs[1].set_yticks(yticks)\n",
    "# axs[1].axvline([major_xticks[-2]], # add vertical line\n",
    "#            color = 'blue',\n",
    "#            linestyle = '--',\n",
    "#            linewidth = 1.5)\n",
    "axs[1].tick_params(axis='x', rotation=45)\n",
    "plt.tight_layout()    \n",
    "plt.show();\n"
   ]
  },
  {
   "cell_type": "code",
   "execution_count": null,
   "metadata": {},
   "outputs": [],
   "source": []
  }
 ],
 "metadata": {
  "kernelspec": {
   "display_name": "Python 3",
   "language": "python",
   "name": "python3"
  },
  "language_info": {
   "codemirror_mode": {
    "name": "ipython",
    "version": 3
   },
   "file_extension": ".py",
   "mimetype": "text/x-python",
   "name": "python",
   "nbconvert_exporter": "python",
   "pygments_lexer": "ipython3",
   "version": "3.10.12"
  }
 },
 "nbformat": 4,
 "nbformat_minor": 2
}
