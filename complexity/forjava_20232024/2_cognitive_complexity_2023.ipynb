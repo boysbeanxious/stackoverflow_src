{
 "cells": [
  {
   "cell_type": "code",
   "execution_count": 1,
   "metadata": {},
   "outputs": [],
   "source": [
    "# https://ppiazi.tistory.com/entry/python-cyclomatic-complexity-%EB%AA%A8%EB%93%88-lizard"
   ]
  },
  {
   "cell_type": "code",
   "execution_count": 2,
   "metadata": {},
   "outputs": [],
   "source": [
    "# https://github.com/terryyin/lizard"
   ]
  },
  {
   "cell_type": "code",
   "execution_count": 3,
   "metadata": {},
   "outputs": [],
   "source": [
    "# pip install cognitive_complexity"
   ]
  },
  {
   "cell_type": "code",
   "execution_count": 4,
   "metadata": {},
   "outputs": [],
   "source": [
    "import sys, os\n",
    "p = os.path.abspath('..')\n",
    "pp = os.path.abspath('../..')\n",
    "sys.path.insert(1, p)\n",
    "sys.path.insert(1, pp)"
   ]
  },
  {
   "cell_type": "code",
   "execution_count": 5,
   "metadata": {},
   "outputs": [],
   "source": [
    "#customized preprocessing pkg\n",
    "import preprocess as pp\n",
    "import pandas as pd\n",
    "import numpy as np\n",
    "import pickle\n",
    "import os\n",
    "import matplotlib.pyplot as plt\n",
    "import matplotlib.ticker as ticker\n",
    "# https://joaorafaelm.github.io/notebook/python/2021/04/10/cognitive-complexity.html\n",
    "import config.config as conf\n",
    "from lib.complexity import SrcBulkInsert as SB"
   ]
  },
  {
   "cell_type": "code",
   "execution_count": 6,
   "metadata": {},
   "outputs": [],
   "source": [
    "input_year = '2023'"
   ]
  },
  {
   "cell_type": "code",
   "execution_count": 7,
   "metadata": {},
   "outputs": [],
   "source": [
    "input_pl = 'java'"
   ]
  },
  {
   "cell_type": "code",
   "execution_count": 8,
   "metadata": {},
   "outputs": [
    {
     "name": "stdout",
     "output_type": "stream",
     "text": [
      "/usr/share/d_ollama\n"
     ]
    }
   ],
   "source": [
    "print(conf.DATA_PATH)"
   ]
  },
  {
   "cell_type": "markdown",
   "metadata": {},
   "source": [
    "### 소스코드 complexity 계산"
   ]
  },
  {
   "cell_type": "code",
   "execution_count": 9,
   "metadata": {},
   "outputs": [],
   "source": [
    "# 파일 불러오기\n",
    "with open(f'{conf.DATA_PATH}/data/complexity_{input_pl}_df_{input_year}.pkl', 'rb') as f:\n",
    "    complexity_java_df = pickle.load(f)"
   ]
  },
  {
   "cell_type": "code",
   "execution_count": 10,
   "metadata": {},
   "outputs": [
    {
     "data": {
      "text/plain": [
       "'2023-01-01'"
      ]
     },
     "execution_count": 10,
     "metadata": {},
     "output_type": "execute_result"
    }
   ],
   "source": [
    "complexity_java_df['cdate'].min()"
   ]
  },
  {
   "cell_type": "code",
   "execution_count": 11,
   "metadata": {},
   "outputs": [
    {
     "data": {
      "text/plain": [
       "'2023-12-03'"
      ]
     },
     "execution_count": 11,
     "metadata": {},
     "output_type": "execute_result"
    }
   ],
   "source": [
    "complexity_java_df['cdate'].max()"
   ]
  },
  {
   "cell_type": "code",
   "execution_count": 12,
   "metadata": {},
   "outputs": [],
   "source": [
    "htmlp = pp.HTMLParser()\n",
    "codep = pp.CodeSectionParser()"
   ]
  },
  {
   "cell_type": "code",
   "execution_count": 13,
   "metadata": {},
   "outputs": [],
   "source": [
    "complexity_java_df['c_h_body'] = complexity_java_df['body'].apply(lambda x : htmlp.clean_html_str(x))"
   ]
  },
  {
   "cell_type": "code",
   "execution_count": 14,
   "metadata": {},
   "outputs": [
    {
     "name": "stdout",
     "output_type": "stream",
     "text": [
      "<class 'pandas.core.frame.DataFrame'>\n",
      "RangeIndex: 48292 entries, 0 to 48291\n",
      "Data columns (total 5 columns):\n",
      " #   Column    Non-Null Count  Dtype \n",
      "---  ------    --------------  ----- \n",
      " 0   id        48292 non-null  int64 \n",
      " 1   cdate     48292 non-null  object\n",
      " 2   title     48292 non-null  object\n",
      " 3   body      48292 non-null  object\n",
      " 4   c_h_body  48292 non-null  object\n",
      "dtypes: int64(1), object(4)\n",
      "memory usage: 1.8+ MB\n"
     ]
    }
   ],
   "source": [
    "complexity_java_df.info()"
   ]
  },
  {
   "cell_type": "code",
   "execution_count": 15,
   "metadata": {},
   "outputs": [],
   "source": [
    "complexity_java_df['c_body'] = complexity_java_df['body'].apply(lambda x : codep(x))"
   ]
  },
  {
   "cell_type": "code",
   "execution_count": 16,
   "metadata": {},
   "outputs": [
    {
     "data": {
      "text/html": [
       "<div>\n",
       "<style scoped>\n",
       "    .dataframe tbody tr th:only-of-type {\n",
       "        vertical-align: middle;\n",
       "    }\n",
       "\n",
       "    .dataframe tbody tr th {\n",
       "        vertical-align: top;\n",
       "    }\n",
       "\n",
       "    .dataframe thead th {\n",
       "        text-align: right;\n",
       "    }\n",
       "</style>\n",
       "<table border=\"1\" class=\"dataframe\">\n",
       "  <thead>\n",
       "    <tr style=\"text-align: right;\">\n",
       "      <th></th>\n",
       "      <th>id</th>\n",
       "      <th>cdate</th>\n",
       "      <th>title</th>\n",
       "      <th>body</th>\n",
       "      <th>c_h_body</th>\n",
       "      <th>c_body</th>\n",
       "    </tr>\n",
       "  </thead>\n",
       "  <tbody>\n",
       "    <tr>\n",
       "      <th>0</th>\n",
       "      <td>77492206</td>\n",
       "      <td>2023-11-16</td>\n",
       "      <td>Gson doesn't properly convert a LinkedHashMap ...</td>\n",
       "      <td>&lt;p&gt;When I convert a LinkedHashMap directly to ...</td>\n",
       "      <td>When I convert a LinkedHashMap directly to Jso...</td>\n",
       "      <td>{'code_sections': [{'off_beg': 274, 'off_end':...</td>\n",
       "    </tr>\n",
       "    <tr>\n",
       "      <th>1</th>\n",
       "      <td>77593745</td>\n",
       "      <td>2023-12-03</td>\n",
       "      <td>Native library loading issue in java 11</td>\n",
       "      <td>&lt;p&gt;I have migrated my java application from 8 ...</td>\n",
       "      <td>I have migrated my java application from 8 to ...</td>\n",
       "      <td>{'code_sections': []}</td>\n",
       "    </tr>\n",
       "    <tr>\n",
       "      <th>2</th>\n",
       "      <td>77593782</td>\n",
       "      <td>2023-12-03</td>\n",
       "      <td>Converting from JDBC to JPA: Unit tests failin...</td>\n",
       "      <td>&lt;p&gt;How does one get unit tests to use entities...</td>\n",
       "      <td>How does one get unit tests to use entities af...</td>\n",
       "      <td>{'code_sections': [{'off_beg': 753, 'off_end':...</td>\n",
       "    </tr>\n",
       "    <tr>\n",
       "      <th>3</th>\n",
       "      <td>77593813</td>\n",
       "      <td>2023-12-03</td>\n",
       "      <td>Multiple Hexagonal architecture with sprint boot</td>\n",
       "      <td>&lt;p&gt;I Work on spring boot application with spri...</td>\n",
       "      <td>I Work on spring boot application with spring ...</td>\n",
       "      <td>{'code_sections': []}</td>\n",
       "    </tr>\n",
       "    <tr>\n",
       "      <th>4</th>\n",
       "      <td>77591164</td>\n",
       "      <td>2023-12-02</td>\n",
       "      <td>Package a JavaFX Application as a Native Execu...</td>\n",
       "      <td>&lt;p&gt;Based on &lt;a href=\"https://inside.java/2023/...</td>\n",
       "      <td>Based on this article, and with a default Java...</td>\n",
       "      <td>{'code_sections': []}</td>\n",
       "    </tr>\n",
       "    <tr>\n",
       "      <th>...</th>\n",
       "      <td>...</td>\n",
       "      <td>...</td>\n",
       "      <td>...</td>\n",
       "      <td>...</td>\n",
       "      <td>...</td>\n",
       "      <td>...</td>\n",
       "    </tr>\n",
       "    <tr>\n",
       "      <th>48287</th>\n",
       "      <td>77356120</td>\n",
       "      <td>2023-10-25</td>\n",
       "      <td>entityManagerFactory bean creation issue</td>\n",
       "      <td>&lt;p&gt;I am working migrating an application from ...</td>\n",
       "      <td>I am working migrating an application from Jav...</td>\n",
       "      <td>{'code_sections': []}</td>\n",
       "    </tr>\n",
       "    <tr>\n",
       "      <th>48288</th>\n",
       "      <td>77356158</td>\n",
       "      <td>2023-10-25</td>\n",
       "      <td>JLabel Not Showing up when i run the program, ...</td>\n",
       "      <td>&lt;p&gt;I am using Java GUI builder in NetBeans(dra...</td>\n",
       "      <td>I am using Java GUI builder in NetBeans(drag a...</td>\n",
       "      <td>{'code_sections': [{'off_beg': 205, 'off_end':...</td>\n",
       "    </tr>\n",
       "    <tr>\n",
       "      <th>48289</th>\n",
       "      <td>77356182</td>\n",
       "      <td>2023-10-25</td>\n",
       "      <td>In Spring Data JPA how do I perform a `SELECT ...</td>\n",
       "      <td>&lt;p&gt;So in Spring Data JPA I can do the followin...</td>\n",
       "      <td>So in Spring Data JPA I can do the following\\n...</td>\n",
       "      <td>{'code_sections': [{'off_beg': 63, 'off_end': ...</td>\n",
       "    </tr>\n",
       "    <tr>\n",
       "      <th>48290</th>\n",
       "      <td>77356226</td>\n",
       "      <td>2023-10-25</td>\n",
       "      <td>How to throw exception in main thread when Com...</td>\n",
       "      <td>&lt;p&gt;When my service is called, I have 2 &lt;code&gt;@...</td>\n",
       "      <td>When my service is called, I have 2 @Async Fei...</td>\n",
       "      <td>{'code_sections': []}</td>\n",
       "    </tr>\n",
       "    <tr>\n",
       "      <th>48291</th>\n",
       "      <td>77356301</td>\n",
       "      <td>2023-10-25</td>\n",
       "      <td>How to find records whose date-ranges and valu...</td>\n",
       "      <td>&lt;p&gt;I'm reading records from a large CSV file, ...</td>\n",
       "      <td>I'm reading records from a large CSV file, and...</td>\n",
       "      <td>{'code_sections': []}</td>\n",
       "    </tr>\n",
       "  </tbody>\n",
       "</table>\n",
       "<p>48292 rows × 6 columns</p>\n",
       "</div>"
      ],
      "text/plain": [
       "             id       cdate  \\\n",
       "0      77492206  2023-11-16   \n",
       "1      77593745  2023-12-03   \n",
       "2      77593782  2023-12-03   \n",
       "3      77593813  2023-12-03   \n",
       "4      77591164  2023-12-02   \n",
       "...         ...         ...   \n",
       "48287  77356120  2023-10-25   \n",
       "48288  77356158  2023-10-25   \n",
       "48289  77356182  2023-10-25   \n",
       "48290  77356226  2023-10-25   \n",
       "48291  77356301  2023-10-25   \n",
       "\n",
       "                                                   title  \\\n",
       "0      Gson doesn't properly convert a LinkedHashMap ...   \n",
       "1                Native library loading issue in java 11   \n",
       "2      Converting from JDBC to JPA: Unit tests failin...   \n",
       "3       Multiple Hexagonal architecture with sprint boot   \n",
       "4      Package a JavaFX Application as a Native Execu...   \n",
       "...                                                  ...   \n",
       "48287           entityManagerFactory bean creation issue   \n",
       "48288  JLabel Not Showing up when i run the program, ...   \n",
       "48289  In Spring Data JPA how do I perform a `SELECT ...   \n",
       "48290  How to throw exception in main thread when Com...   \n",
       "48291  How to find records whose date-ranges and valu...   \n",
       "\n",
       "                                                    body  \\\n",
       "0      <p>When I convert a LinkedHashMap directly to ...   \n",
       "1      <p>I have migrated my java application from 8 ...   \n",
       "2      <p>How does one get unit tests to use entities...   \n",
       "3      <p>I Work on spring boot application with spri...   \n",
       "4      <p>Based on <a href=\"https://inside.java/2023/...   \n",
       "...                                                  ...   \n",
       "48287  <p>I am working migrating an application from ...   \n",
       "48288  <p>I am using Java GUI builder in NetBeans(dra...   \n",
       "48289  <p>So in Spring Data JPA I can do the followin...   \n",
       "48290  <p>When my service is called, I have 2 <code>@...   \n",
       "48291  <p>I'm reading records from a large CSV file, ...   \n",
       "\n",
       "                                                c_h_body  \\\n",
       "0      When I convert a LinkedHashMap directly to Jso...   \n",
       "1      I have migrated my java application from 8 to ...   \n",
       "2      How does one get unit tests to use entities af...   \n",
       "3      I Work on spring boot application with spring ...   \n",
       "4      Based on this article, and with a default Java...   \n",
       "...                                                  ...   \n",
       "48287  I am working migrating an application from Jav...   \n",
       "48288  I am using Java GUI builder in NetBeans(drag a...   \n",
       "48289  So in Spring Data JPA I can do the following\\n...   \n",
       "48290  When my service is called, I have 2 @Async Fei...   \n",
       "48291  I'm reading records from a large CSV file, and...   \n",
       "\n",
       "                                                  c_body  \n",
       "0      {'code_sections': [{'off_beg': 274, 'off_end':...  \n",
       "1                                  {'code_sections': []}  \n",
       "2      {'code_sections': [{'off_beg': 753, 'off_end':...  \n",
       "3                                  {'code_sections': []}  \n",
       "4                                  {'code_sections': []}  \n",
       "...                                                  ...  \n",
       "48287                              {'code_sections': []}  \n",
       "48288  {'code_sections': [{'off_beg': 205, 'off_end':...  \n",
       "48289  {'code_sections': [{'off_beg': 63, 'off_end': ...  \n",
       "48290                              {'code_sections': []}  \n",
       "48291                              {'code_sections': []}  \n",
       "\n",
       "[48292 rows x 6 columns]"
      ]
     },
     "execution_count": 16,
     "metadata": {},
     "output_type": "execute_result"
    }
   ],
   "source": [
    "complexity_java_df"
   ]
  },
  {
   "cell_type": "code",
   "execution_count": 17,
   "metadata": {},
   "outputs": [],
   "source": [
    "complexity_java_src = complexity_java_df[['id', 'c_body']]"
   ]
  },
  {
   "cell_type": "code",
   "execution_count": 18,
   "metadata": {},
   "outputs": [
    {
     "name": "stderr",
     "output_type": "stream",
     "text": [
      "/tmp/ipykernel_2617434/804880781.py:1: SettingWithCopyWarning: \n",
      "A value is trying to be set on a copy of a slice from a DataFrame.\n",
      "Try using .loc[row_indexer,col_indexer] = value instead\n",
      "\n",
      "See the caveats in the documentation: https://pandas.pydata.org/pandas-docs/stable/user_guide/indexing.html#returning-a-view-versus-a-copy\n",
      "  complexity_java_src['code_len'] = complexity_java_src['c_body'].apply(lambda x: len(x['code_sections']))\n"
     ]
    }
   ],
   "source": [
    "complexity_java_src['code_len'] = complexity_java_src['c_body'].apply(lambda x: len(x['code_sections']))"
   ]
  },
  {
   "cell_type": "code",
   "execution_count": 19,
   "metadata": {},
   "outputs": [],
   "source": [
    "complexity_java_src = complexity_java_src[complexity_java_src['code_len']>0]"
   ]
  },
  {
   "cell_type": "code",
   "execution_count": 20,
   "metadata": {},
   "outputs": [
    {
     "data": {
      "text/html": [
       "<div>\n",
       "<style scoped>\n",
       "    .dataframe tbody tr th:only-of-type {\n",
       "        vertical-align: middle;\n",
       "    }\n",
       "\n",
       "    .dataframe tbody tr th {\n",
       "        vertical-align: top;\n",
       "    }\n",
       "\n",
       "    .dataframe thead th {\n",
       "        text-align: right;\n",
       "    }\n",
       "</style>\n",
       "<table border=\"1\" class=\"dataframe\">\n",
       "  <thead>\n",
       "    <tr style=\"text-align: right;\">\n",
       "      <th></th>\n",
       "      <th>id</th>\n",
       "      <th>c_body</th>\n",
       "      <th>code_len</th>\n",
       "    </tr>\n",
       "  </thead>\n",
       "  <tbody>\n",
       "    <tr>\n",
       "      <th>0</th>\n",
       "      <td>77492206</td>\n",
       "      <td>{'code_sections': [{'off_beg': 274, 'off_end':...</td>\n",
       "      <td>2</td>\n",
       "    </tr>\n",
       "    <tr>\n",
       "      <th>2</th>\n",
       "      <td>77593782</td>\n",
       "      <td>{'code_sections': [{'off_beg': 753, 'off_end':...</td>\n",
       "      <td>2</td>\n",
       "    </tr>\n",
       "    <tr>\n",
       "      <th>5</th>\n",
       "      <td>77591191</td>\n",
       "      <td>{'code_sections': [{'off_beg': 11, 'off_end': ...</td>\n",
       "      <td>1</td>\n",
       "    </tr>\n",
       "    <tr>\n",
       "      <th>6</th>\n",
       "      <td>77591209</td>\n",
       "      <td>{'code_sections': [{'off_beg': 237, 'off_end':...</td>\n",
       "      <td>1</td>\n",
       "    </tr>\n",
       "    <tr>\n",
       "      <th>7</th>\n",
       "      <td>77591269</td>\n",
       "      <td>{'code_sections': [{'off_beg': 319, 'off_end':...</td>\n",
       "      <td>2</td>\n",
       "    </tr>\n",
       "  </tbody>\n",
       "</table>\n",
       "</div>"
      ],
      "text/plain": [
       "         id                                             c_body  code_len\n",
       "0  77492206  {'code_sections': [{'off_beg': 274, 'off_end':...         2\n",
       "2  77593782  {'code_sections': [{'off_beg': 753, 'off_end':...         2\n",
       "5  77591191  {'code_sections': [{'off_beg': 11, 'off_end': ...         1\n",
       "6  77591209  {'code_sections': [{'off_beg': 237, 'off_end':...         1\n",
       "7  77591269  {'code_sections': [{'off_beg': 319, 'off_end':...         2"
      ]
     },
     "execution_count": 20,
     "metadata": {},
     "output_type": "execute_result"
    }
   ],
   "source": [
    "complexity_java_src.head(5)"
   ]
  },
  {
   "cell_type": "code",
   "execution_count": 21,
   "metadata": {},
   "outputs": [],
   "source": [
    "src_df = pd.DataFrame(columns = ['id', 'src'])\n",
    "def code_explode(row) : \n",
    "    global src_df\n",
    "    src_arr = []\n",
    "    for i in range(row['code_len']):\n",
    "        new_rows = pd.DataFrame({'id': [row['id']], 'src': [row['c_body']['code_sections'][i]['span_str']]})\n",
    "        src_df = pd.concat([src_df, new_rows], axis=0)\n",
    "\n",
    "    return True\n",
    "        "
   ]
  },
  {
   "cell_type": "code",
   "execution_count": 22,
   "metadata": {},
   "outputs": [
    {
     "data": {
      "text/plain": [
       "0        True\n",
       "2        True\n",
       "5        True\n",
       "6        True\n",
       "7        True\n",
       "         ... \n",
       "48283    True\n",
       "48284    True\n",
       "48285    True\n",
       "48288    True\n",
       "48289    True\n",
       "Length: 33285, dtype: bool"
      ]
     },
     "execution_count": 22,
     "metadata": {},
     "output_type": "execute_result"
    }
   ],
   "source": [
    "# bert_src_ex = bert_src[['q_id', 'q_prep_text']].apply(pd.Series.explode)\n",
    "complexity_java_src.apply(code_explode, axis = 1)"
   ]
  },
  {
   "cell_type": "code",
   "execution_count": 23,
   "metadata": {},
   "outputs": [
    {
     "data": {
      "text/html": [
       "<div>\n",
       "<style scoped>\n",
       "    .dataframe tbody tr th:only-of-type {\n",
       "        vertical-align: middle;\n",
       "    }\n",
       "\n",
       "    .dataframe tbody tr th {\n",
       "        vertical-align: top;\n",
       "    }\n",
       "\n",
       "    .dataframe thead th {\n",
       "        text-align: right;\n",
       "    }\n",
       "</style>\n",
       "<table border=\"1\" class=\"dataframe\">\n",
       "  <thead>\n",
       "    <tr style=\"text-align: right;\">\n",
       "      <th></th>\n",
       "      <th>id</th>\n",
       "      <th>src</th>\n",
       "    </tr>\n",
       "  </thead>\n",
       "  <tbody>\n",
       "    <tr>\n",
       "      <th>0</th>\n",
       "      <td>77492206</td>\n",
       "      <td>public class Example {\\n    public static void...</td>\n",
       "    </tr>\n",
       "    <tr>\n",
       "      <th>0</th>\n",
       "      <td>77492206</td>\n",
       "      <td>GSON HashMap!\\n{\\n  \"60\": \"data1\",\\n  \"25\": \"d...</td>\n",
       "    </tr>\n",
       "    <tr>\n",
       "      <th>0</th>\n",
       "      <td>77593782</td>\n",
       "      <td>AccountJsonTest &gt;; accountSerializationTest() ...</td>\n",
       "    </tr>\n",
       "    <tr>\n",
       "      <th>0</th>\n",
       "      <td>77593782</td>\n",
       "      <td>plugins {\\n    id 'java'\\n    id 'org.springfr...</td>\n",
       "    </tr>\n",
       "    <tr>\n",
       "      <th>0</th>\n",
       "      <td>77591191</td>\n",
       "      <td>public class test2 {\\n     public static void ...</td>\n",
       "    </tr>\n",
       "  </tbody>\n",
       "</table>\n",
       "</div>"
      ],
      "text/plain": [
       "         id                                                src\n",
       "0  77492206  public class Example {\\n    public static void...\n",
       "0  77492206  GSON HashMap!\\n{\\n  \"60\": \"data1\",\\n  \"25\": \"d...\n",
       "0  77593782  AccountJsonTest >; accountSerializationTest() ...\n",
       "0  77593782  plugins {\\n    id 'java'\\n    id 'org.springfr...\n",
       "0  77591191  public class test2 {\\n     public static void ..."
      ]
     },
     "execution_count": 23,
     "metadata": {},
     "output_type": "execute_result"
    }
   ],
   "source": [
    "src_df.head()"
   ]
  },
  {
   "cell_type": "code",
   "execution_count": 24,
   "metadata": {},
   "outputs": [],
   "source": [
    "src_df.reset_index(drop=True, inplace=True)"
   ]
  },
  {
   "cell_type": "code",
   "execution_count": 25,
   "metadata": {},
   "outputs": [],
   "source": [
    "src_df.reset_index(inplace=True)"
   ]
  },
  {
   "cell_type": "code",
   "execution_count": 26,
   "metadata": {},
   "outputs": [
    {
     "data": {
      "text/html": [
       "<div>\n",
       "<style scoped>\n",
       "    .dataframe tbody tr th:only-of-type {\n",
       "        vertical-align: middle;\n",
       "    }\n",
       "\n",
       "    .dataframe tbody tr th {\n",
       "        vertical-align: top;\n",
       "    }\n",
       "\n",
       "    .dataframe thead th {\n",
       "        text-align: right;\n",
       "    }\n",
       "</style>\n",
       "<table border=\"1\" class=\"dataframe\">\n",
       "  <thead>\n",
       "    <tr style=\"text-align: right;\">\n",
       "      <th></th>\n",
       "      <th>index</th>\n",
       "      <th>id</th>\n",
       "      <th>src</th>\n",
       "    </tr>\n",
       "  </thead>\n",
       "  <tbody>\n",
       "    <tr>\n",
       "      <th>0</th>\n",
       "      <td>0</td>\n",
       "      <td>77492206</td>\n",
       "      <td>public class Example {\\n    public static void...</td>\n",
       "    </tr>\n",
       "    <tr>\n",
       "      <th>1</th>\n",
       "      <td>1</td>\n",
       "      <td>77492206</td>\n",
       "      <td>GSON HashMap!\\n{\\n  \"60\": \"data1\",\\n  \"25\": \"d...</td>\n",
       "    </tr>\n",
       "    <tr>\n",
       "      <th>2</th>\n",
       "      <td>2</td>\n",
       "      <td>77593782</td>\n",
       "      <td>AccountJsonTest &gt;; accountSerializationTest() ...</td>\n",
       "    </tr>\n",
       "    <tr>\n",
       "      <th>3</th>\n",
       "      <td>3</td>\n",
       "      <td>77593782</td>\n",
       "      <td>plugins {\\n    id 'java'\\n    id 'org.springfr...</td>\n",
       "    </tr>\n",
       "    <tr>\n",
       "      <th>4</th>\n",
       "      <td>4</td>\n",
       "      <td>77591191</td>\n",
       "      <td>public class test2 {\\n     public static void ...</td>\n",
       "    </tr>\n",
       "  </tbody>\n",
       "</table>\n",
       "</div>"
      ],
      "text/plain": [
       "   index        id                                                src\n",
       "0      0  77492206  public class Example {\\n    public static void...\n",
       "1      1  77492206  GSON HashMap!\\n{\\n  \"60\": \"data1\",\\n  \"25\": \"d...\n",
       "2      2  77593782  AccountJsonTest >; accountSerializationTest() ...\n",
       "3      3  77593782  plugins {\\n    id 'java'\\n    id 'org.springfr...\n",
       "4      4  77591191  public class test2 {\\n     public static void ..."
      ]
     },
     "execution_count": 26,
     "metadata": {},
     "output_type": "execute_result"
    }
   ],
   "source": [
    "src_df.head()"
   ]
  },
  {
   "cell_type": "code",
   "execution_count": 27,
   "metadata": {},
   "outputs": [],
   "source": [
    "sbi = SB.SrcBulkInsert()\n",
    "b_re = sbi.get_from_db(src_df.iloc[0, 0], src_df.iloc[0, 1])\n",
    "\n",
    "if b_re==False :\n",
    "   sbi.insert_posts_src(src_df)"
   ]
  },
  {
   "cell_type": "code",
   "execution_count": null,
   "metadata": {},
   "outputs": [],
   "source": [
    "for i in range(src_df.shape[0]):\n",
    "    idx = src_df.iloc[i, 0]\n",
    "    qid = src_df.iloc[i, 1]\n",
    "    src = src_df.iloc[i, 2]\n",
    "    file_nm = str(idx)+'_' + str(qid)+'.java'\n",
    "    with open(f'{conf.DATA_PATH}/data/src/{input_year}_{input_pl}_src/{file_nm}', 'wb') as f:\n",
    "        f.write(src.encode())\n"
   ]
  },
  {
   "cell_type": "code",
   "execution_count": null,
   "metadata": {},
   "outputs": [],
   "source": [
    "# https://github.com/rohaquinlop/complexipy"
   ]
  },
  {
   "cell_type": "code",
   "execution_count": null,
   "metadata": {},
   "outputs": [],
   "source": [
    "# pip install complexipy"
   ]
  },
  {
   "cell_type": "code",
   "execution_count": null,
   "metadata": {},
   "outputs": [],
   "source": [
    "# !complexipy /home/mghan/sopjt/git/data/src/3_74963438.py -l file -o"
   ]
  },
  {
   "cell_type": "code",
   "execution_count": null,
   "metadata": {},
   "outputs": [],
   "source": [
    "# cyclomatic은 모든 언어 가능 but cognitive는 언어별로 따로 분석해야함\n",
    "# 하려면 소나큐브 사야 함 \n",
    "# pyhon 기준으로는 조금 삽질하면 할 수 있을 듯.... 해보고 유의미하면 소나큐브 고?\n"
   ]
  },
  {
   "cell_type": "markdown",
   "metadata": {},
   "source": [
    "### complexity 결과 확인"
   ]
  },
  {
   "cell_type": "code",
   "execution_count": null,
   "metadata": {},
   "outputs": [],
   "source": [
    "path = f'{conf.DATA_PATH}/data/src/{input_year}_{input_pl}_excel/'\n",
    "file_list = os.listdir(path)\n",
    "file_list_csv = [file for file in file_list if file.endswith(\".csv\")]\n",
    "\n",
    "# print (\"file_list_csv: {}\".format(file_list_csv))"
   ]
  },
  {
   "cell_type": "code",
   "execution_count": null,
   "metadata": {},
   "outputs": [],
   "source": [
    "calc_com_df = pd.DataFrame(columns = ['Absolute Module Path','Module Position',\t'Module Declaration',\t'Max nesting',\t'Cognitive Complexity'])\n",
    "for file_nm in file_list_csv :\n",
    "    tmp = pd.read_csv(path+file_nm, sep=';')\n",
    "    tmp['file_nm'] = file_nm\n",
    "    calc_com_df = pd.concat([calc_com_df, tmp], axis = 0)"
   ]
  },
  {
   "cell_type": "code",
   "execution_count": null,
   "metadata": {},
   "outputs": [],
   "source": [
    "calc_com_df.head()"
   ]
  },
  {
   "cell_type": "code",
   "execution_count": null,
   "metadata": {},
   "outputs": [],
   "source": [
    "# 전체 데이터셋 \n",
    "with open(f'{conf.DATA_PATH}/data/calc_com_df_{input_year}_{input_pl}.pkl', 'wb') as f:\n",
    "    pickle.dump(calc_com_df, f)"
   ]
  },
  {
   "cell_type": "code",
   "execution_count": null,
   "metadata": {},
   "outputs": [],
   "source": [
    "calc_com_df.head()"
   ]
  },
  {
   "cell_type": "code",
   "execution_count": null,
   "metadata": {},
   "outputs": [],
   "source": [
    "calc_com_df.reset_index(drop=True, inplace=True)"
   ]
  },
  {
   "cell_type": "code",
   "execution_count": null,
   "metadata": {},
   "outputs": [],
   "source": [
    "calc_com_df.head()"
   ]
  },
  {
   "cell_type": "code",
   "execution_count": null,
   "metadata": {},
   "outputs": [],
   "source": [
    "calc_com_df['index'] = calc_com_df['file_nm'].apply(lambda x : x.split('_')[0])\n",
    "# calc_com_df['Path'].apply(lambda x : [  for i in x.split('_')])"
   ]
  },
  {
   "cell_type": "code",
   "execution_count": null,
   "metadata": {},
   "outputs": [],
   "source": [
    "calc_com_df['id'] = calc_com_df['file_nm'].apply(lambda x : x.split('_')[1].split('.')[0])"
   ]
  },
  {
   "cell_type": "code",
   "execution_count": null,
   "metadata": {},
   "outputs": [],
   "source": [
    "calc_com_df.sort_values(by = ['index', 'id'])"
   ]
  },
  {
   "cell_type": "code",
   "execution_count": null,
   "metadata": {},
   "outputs": [],
   "source": [
    "calc_com_df[['index', 'id', 'Cognitive Complexity']] = calc_com_df[['index', 'id', 'Cognitive Complexity']].astype('int')"
   ]
  },
  {
   "cell_type": "code",
   "execution_count": null,
   "metadata": {},
   "outputs": [],
   "source": [
    "src_df[['index', 'id']] = src_df[['index', 'id']].astype('int')"
   ]
  },
  {
   "cell_type": "code",
   "execution_count": null,
   "metadata": {},
   "outputs": [],
   "source": [
    "calc_com_df.info()"
   ]
  },
  {
   "cell_type": "code",
   "execution_count": null,
   "metadata": {},
   "outputs": [],
   "source": [
    "calc_com_df.sort_values(by = ['index', 'id'])"
   ]
  },
  {
   "cell_type": "code",
   "execution_count": null,
   "metadata": {},
   "outputs": [],
   "source": [
    "calc_com_df.info()"
   ]
  },
  {
   "cell_type": "code",
   "execution_count": null,
   "metadata": {},
   "outputs": [],
   "source": [
    "src_df.info()"
   ]
  },
  {
   "cell_type": "code",
   "execution_count": null,
   "metadata": {},
   "outputs": [],
   "source": [
    "calc_com_df = pd.merge(src_df,  calc_com_df, how = 'left', on = ['index', 'id'])"
   ]
  },
  {
   "cell_type": "code",
   "execution_count": null,
   "metadata": {},
   "outputs": [],
   "source": [
    "calc_com_df = pd.merge(complexity_java_df[['id', 'cdate']], calc_com_df, on = 'id')"
   ]
  },
  {
   "cell_type": "code",
   "execution_count": null,
   "metadata": {},
   "outputs": [],
   "source": [
    "calc_com_df.head()"
   ]
  },
  {
   "cell_type": "code",
   "execution_count": null,
   "metadata": {},
   "outputs": [],
   "source": [
    "# 일자별로 아예 소스가 수행되지 않는 건 \n",
    "calc_com_df_back = calc_com_df.copy()\n",
    "calc_ed_com_df = calc_com_df[~calc_com_df['file_nm'].isna()]"
   ]
  },
  {
   "cell_type": "code",
   "execution_count": null,
   "metadata": {},
   "outputs": [],
   "source": [
    "calc_ed_com_df = calc_ed_com_df.sort_values(by = ['cdate', 'id', 'Cognitive Complexity'], ascending = [True, True, False]).groupby('id').head(1)"
   ]
  },
  {
   "cell_type": "code",
   "execution_count": null,
   "metadata": {},
   "outputs": [],
   "source": [
    "calc_ed_com_df.head()"
   ]
  },
  {
   "cell_type": "code",
   "execution_count": null,
   "metadata": {},
   "outputs": [],
   "source": [
    "calc_ed_com_df.info()"
   ]
  },
  {
   "cell_type": "code",
   "execution_count": null,
   "metadata": {},
   "outputs": [],
   "source": [
    "calc_ed_com_df = calc_ed_com_df.groupby('cdate').mean(numeric_only=True)[['Cognitive Complexity']].reset_index()"
   ]
  },
  {
   "cell_type": "code",
   "execution_count": null,
   "metadata": {},
   "outputs": [],
   "source": [
    "calc_ed_com_df.head()"
   ]
  },
  {
   "cell_type": "code",
   "execution_count": null,
   "metadata": {},
   "outputs": [],
   "source": [
    "calc_ed_com_box_df = calc_ed_com_df.copy()"
   ]
  },
  {
   "cell_type": "code",
   "execution_count": null,
   "metadata": {},
   "outputs": [],
   "source": [
    "calc_ed_com_box_df['yyyymm'] = calc_ed_com_box_df['cdate'].str[:7]"
   ]
  },
  {
   "cell_type": "code",
   "execution_count": null,
   "metadata": {},
   "outputs": [],
   "source": [
    "ym_list = calc_ed_com_box_df['yyyymm'].unique()"
   ]
  },
  {
   "cell_type": "code",
   "execution_count": null,
   "metadata": {},
   "outputs": [],
   "source": [
    "[calc_ed_com_box_df[calc_ed_com_box_df['yyyymm']==x]  for x in ym_list]"
   ]
  },
  {
   "cell_type": "code",
   "execution_count": null,
   "metadata": {},
   "outputs": [],
   "source": [
    "sharey = True ## 또는 sharey=False\n",
    "sharex = True ## 또는 sharex=False\n",
    "\n",
    "fig, axs = plt.subplots(1, 2, figsize = (20, 5), sharey=sharey, sharex=sharex)\n",
    "# plt.xticks(rotation=45)\n",
    "# major_xticks = ['2013-11-30','2014-11-30','2015-11-30','2016-11-30','2017-11-30','2018-11-30','2019-11-30','2020-11-30'\n",
    "#                 ,'2021-11-30', '2022-11-30', '2023-11-30']\n",
    "# yticks = np.arange(200, 2000, 400)\n",
    "axs[0].bar(calc_ed_com_df['cdate']\n",
    "        ,  calc_ed_com_df['Cognitive Complexity']\n",
    "        ,  color = 'skyblue'\n",
    "        # ,  edgecolor = 'black'\n",
    "      ) # hist type\n",
    "\n",
    "axs[0].set_title('Number of Questions over time', fontsize = 15)\n",
    "axs[0].set_xlabel('Date', fontsize = 15)\n",
    "axs[0].set_ylabel('# of Q', fontsize = 15)\n",
    "# axs[0].set_xticks(major_xticks)\n",
    "# axs[0].set_yticks(yticks)\n",
    "# axs[0].axvline([major_xticks[-2]], # add vertical line\n",
    "#            color = 'blue',\n",
    "#            linestyle = '--',\n",
    "#            linewidth = 1.5)\n",
    "axs[0].tick_params(axis='x', rotation=45)\n",
    "# axs[0].yticks(yt)\n",
    "\n",
    "axs[0].bar(calc_ed_com_df['cdate']\n",
    "        ,  calc_ed_com_df['Cognitive Complexity']\n",
    "        ,  color = 'skyblue'\n",
    "        # ,  edgecolor = 'black'\n",
    "      ) # hist type\n",
    "\n",
    "axs[1].set_title('Number of Answers over time', fontsize = 15)\n",
    "axs[1].set_xlabel('Date', fontsize = 15)\n",
    "axs[1].set_ylabel('# of A', fontsize = 15)\n",
    "# axs[1].set_xticks(major_xticks)\n",
    "# axs[1].set_yticks(yticks)\n",
    "# axs[1].axvline([major_xticks[-2]], # add vertical line\n",
    "#            color = 'blue',\n",
    "#            linestyle = '--',\n",
    "#            linewidth = 1.5)\n",
    "axs[1].tick_params(axis='x', rotation=45)\n",
    "\n",
    "plt.show();\n"
   ]
  },
  {
   "cell_type": "code",
   "execution_count": null,
   "metadata": {},
   "outputs": [],
   "source": [
    "sharey = True ## 또는 sharey=False\n",
    "sharex = True ## 또는 sharex=False\n",
    "\n",
    "fig, axs = plt.subplots(1, 2, figsize = (20, 5), sharey=False, sharex=False)\n",
    "# plt.xticks(rotation=45)\n",
    "major_xticks = ['2022-01-30','2022-02-28','2022-03-30','2022-04-30','2022-05-30','2022-06-30','2022-07-30','2022-08-30','2022-09-30','2022-10-30','2022-11-30','2022-12-30',\n",
    "                '2023-01-30','2023-02-28','2023-03-30','2023-04-30','2023-05-30','2023-06-30','2023-07-30','2023-08-30','2023-09-30','2023-10-30','2023-11-30','2023-12-30']\n",
    "axs1_xticks = ym_list\n",
    "axs1_xticks = np.insert(axs1_xticks, 0, '0')  # 인덱스 2 위치에 100을 추가 \n",
    "# yticks = np.arange(200, 2000, 400)\n",
    "axs[0].bar(calc_ed_com_df['cdate']\n",
    "        ,  calc_ed_com_df['Cognitive Complexity']\n",
    "        ,  color = 'skyblue'\n",
    "        # ,  edgecolor = 'black'\n",
    "      ) # hist type\n",
    "\n",
    "axs[0].set_title('Avg Cognitive Complexity per Day', fontsize = 15)\n",
    "axs[0].set_xlabel('Date', fontsize = 15)\n",
    "axs[0].set_ylabel('Avg Cognitive Complexity', fontsize = 15)\n",
    "axs[0].set_xticks(major_xticks)\n",
    "# axs[0].set_yticks(yticks)\n",
    "# axs[0].axvline([major_xticks[-2]], # add vertical line\n",
    "#            color = 'blue',\n",
    "#            linestyle = '--',\n",
    "#            linewidth = 1.5)\n",
    "axs[0].tick_params(axis='x', rotation=45)\n",
    "# axs[0].yticks(yt)\n",
    "\n",
    "axs[1].boxplot([calc_ed_com_box_df.loc[calc_ed_com_box_df['yyyymm']==x, 'Cognitive Complexity']  for x in ym_list]\n",
    "        # ,  edgecolor = 'black'\n",
    "      ) # hist type\n",
    "\n",
    "axs[1].set_title('Cognitive Complexity per Month', fontsize = 15)\n",
    "axs[1].set_xlabel('Date', fontsize = 15)\n",
    "axs[1].set_ylabel('Cognitive Complexity', fontsize = 15)\n",
    "axs[1].set_xticks(range(len(axs1_xticks)), axs1_xticks)\n",
    "# axs[1].set_yticks(yticks)\n",
    "# axs[1].axvline([major_xticks[-2]], # add vertical line\n",
    "#            color = 'blue',\n",
    "#            linestyle = '--',\n",
    "#            linewidth = 1.5)\n",
    "axs[1].tick_params(axis='x', rotation=45)\n",
    "\n",
    "plt.show();\n"
   ]
  },
  {
   "cell_type": "code",
   "execution_count": null,
   "metadata": {},
   "outputs": [],
   "source": [
    "ym_list[:11]\n",
    "# ym_list[12:]"
   ]
  },
  {
   "cell_type": "code",
   "execution_count": null,
   "metadata": {},
   "outputs": [],
   "source": [
    "sharey = True ## 또는 sharey=False\n",
    "sharex = True ## 또는 sharex=False\n",
    "\n",
    "fig, axs = plt.subplots(2, 1, figsize = (10, 10), sharey=True, sharex=False)\n",
    "# plt.xticks(rotation=45)\n",
    "\n",
    "axs0_xticks = ym_list[:11]\n",
    "axs0_xticks = np.insert(axs0_xticks, 0, '0')  # 인덱스 2 위치에 100을 추가 \n",
    "\n",
    "axs1_xticks = ym_list[12:]\n",
    "axs1_xticks = np.insert(axs1_xticks, 0, '0')  # 인덱스 2 위치에 100을 추가 \n",
    "yticks = np.arange(0.5, 5, 0.5)\n",
    "\n",
    "axs[0].boxplot([calc_ed_com_box_df.loc[calc_ed_com_box_df['yyyymm']==x, 'Cognitive Complexity']  for x in ym_list[:11]]\n",
    "        # ,  edgecolor = 'black'\n",
    "      ) # hist type\n",
    "\n",
    "axs[0].set_title('Cognitive Complexity per Month', fontsize = 15)\n",
    "axs[0].set_xlabel('Date', fontsize = 15)\n",
    "axs[0].set_ylabel('Cognitive Complexity', fontsize = 15)\n",
    "axs[0].set_xticks(range(len(axs0_xticks)), axs0_xticks)\n",
    "axs[0].set_yticks(yticks)\n",
    "# axs[1].axvline([major_xticks[-2]], # add vertical line\n",
    "#            color = 'blue',\n",
    "#            linestyle = '--',\n",
    "#            linewidth = 1.5)\n",
    "axs[0].tick_params(axis='x', rotation=45)\n",
    "\n",
    "\n",
    "axs[1].boxplot([calc_ed_com_box_df.loc[calc_ed_com_box_df['yyyymm']==x, 'Cognitive Complexity']  for x in ym_list[12:]]\n",
    "        # ,  edgecolor = 'black'\n",
    "      ) # hist type\n",
    "\n",
    "axs[1].set_title('Cognitive Complexity per Month', fontsize = 15)\n",
    "axs[1].set_xlabel('Date', fontsize = 15)\n",
    "axs[1].set_ylabel('Cognitive Complexity', fontsize = 15)\n",
    "axs[1].set_xticks(range(len(axs1_xticks)), axs1_xticks)\n",
    "axs[1].set_yticks(yticks)\n",
    "# axs[1].axvline([major_xticks[-2]], # add vertical line\n",
    "#            color = 'blue',\n",
    "#            linestyle = '--',\n",
    "#            linewidth = 1.5)\n",
    "axs[1].tick_params(axis='x', rotation=45)\n",
    "plt.tight_layout()    \n",
    "plt.show();\n"
   ]
  },
  {
   "cell_type": "code",
   "execution_count": null,
   "metadata": {},
   "outputs": [],
   "source": [
    "len(np.arange(2, 13, 1))"
   ]
  },
  {
   "cell_type": "code",
   "execution_count": null,
   "metadata": {},
   "outputs": [],
   "source": [
    "sharey = True ## 또는 sharey=False\n",
    "sharex = True ## 또는 sharex=False\n",
    "\n",
    "fig, axs = plt.subplots(2, 1, figsize = (10, 10), sharey=True, sharex=False)\n",
    "# plt.xticks(rotation=45)\n",
    "\n",
    "axs0_xticks = ym_list[:11]\n",
    "axs0_xticks = np.insert(axs0_xticks, 0, '0')  # 인덱스 2 위치에 100을 추가 \n",
    "\n",
    "axs1_xticks = ym_list[12:]\n",
    "axs1_xticks = np.insert(axs1_xticks, 0, '0')  # 인덱스 2 위치에 100을 추가 \n",
    "yticks = np.arange(0.5, 5, 0.5)\n",
    "\n",
    "\n",
    "axs[0].violinplot([calc_ed_com_box_df.loc[calc_ed_com_box_df['yyyymm']==x, 'Cognitive Complexity']  for x in ym_list[:11]], positions=np.arange(1, 12, 1))\n",
    "axs[0].set_title('Cognitive Complexity per Month', fontsize = 15)\n",
    "axs[0].set_xlabel('Date', fontsize = 15)\n",
    "axs[0].set_ylabel('Cognitive Complexity', fontsize = 15)\n",
    "axs[0].set_xticks(range(len(axs0_xticks)), axs0_xticks)\n",
    "axs[0].set_yticks(yticks)\n",
    "# axs[1].axvline([major_xticks[-2]], # add vertical line\n",
    "#            color = 'blue',\n",
    "#            linestyle = '--',\n",
    "#            linewidth = 1.5)\n",
    "axs[0].tick_params(axis='x', rotation=45)\n",
    "\n",
    "\n",
    "\n",
    "axs[1].violinplot([calc_ed_com_box_df.loc[calc_ed_com_box_df['yyyymm']==x, 'Cognitive Complexity']  for x in ym_list[12:]], positions=np.arange(1, 12, 1))\n",
    "axs[1].set_title('Cognitive Complexity per Month', fontsize = 15)\n",
    "axs[1].set_xlabel('Date', fontsize = 15)\n",
    "axs[1].set_ylabel('Cognitive Complexity', fontsize = 15)\n",
    "axs[1].set_xticks(range(len(axs1_xticks)), axs1_xticks)\n",
    "axs[1].set_yticks(yticks)\n",
    "# axs[1].axvline([major_xticks[-2]], # add vertical line\n",
    "#            color = 'blue',\n",
    "#            linestyle = '--',\n",
    "#            linewidth = 1.5)\n",
    "axs[1].tick_params(axis='x', rotation=45)\n",
    "plt.tight_layout()    \n",
    "plt.show();\n"
   ]
  },
  {
   "cell_type": "code",
   "execution_count": null,
   "metadata": {},
   "outputs": [],
   "source": []
  }
 ],
 "metadata": {
  "kernelspec": {
   "display_name": "venv_stackoverflow_src",
   "language": "python",
   "name": "python3"
  },
  "language_info": {
   "codemirror_mode": {
    "name": "ipython",
    "version": 3
   },
   "file_extension": ".py",
   "mimetype": "text/x-python",
   "name": "python",
   "nbconvert_exporter": "python",
   "pygments_lexer": "ipython3",
   "version": "3.10.12"
  }
 },
 "nbformat": 4,
 "nbformat_minor": 2
}
