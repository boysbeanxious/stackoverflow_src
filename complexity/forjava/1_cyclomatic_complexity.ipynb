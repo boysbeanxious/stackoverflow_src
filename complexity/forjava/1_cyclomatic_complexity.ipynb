{
 "cells": [
  {
   "cell_type": "code",
   "execution_count": 10,
   "metadata": {},
   "outputs": [],
   "source": [
    "# https://ppiazi.tistory.com/entry/python-cyclomatic-complexity-%EB%AA%A8%EB%93%88-lizard"
   ]
  },
  {
   "cell_type": "code",
   "execution_count": null,
   "metadata": {},
   "outputs": [],
   "source": [
    "# https://github.com/terryyin/lizard"
   ]
  },
  {
   "cell_type": "code",
   "execution_count": 41,
   "metadata": {},
   "outputs": [],
   "source": [
    "#customized preprocessing pkg\n",
    "import preprocess as pp\n",
    "import pandas as pd\n",
    "import numpy as np\n",
    "import pickle\n",
    "import lizard\n",
    "import pprint"
   ]
  },
  {
   "cell_type": "code",
   "execution_count": 42,
   "metadata": {},
   "outputs": [],
   "source": [
    "# 파일 불러오기\n",
    "with open('../../data/complexity_df.pkl', 'rb') as f:\n",
    "    complexity_df = pickle.load(f)"
   ]
  },
  {
   "cell_type": "code",
   "execution_count": 43,
   "metadata": {},
   "outputs": [
    {
     "data": {
      "text/html": [
       "<div>\n",
       "<style scoped>\n",
       "    .dataframe tbody tr th:only-of-type {\n",
       "        vertical-align: middle;\n",
       "    }\n",
       "\n",
       "    .dataframe tbody tr th {\n",
       "        vertical-align: top;\n",
       "    }\n",
       "\n",
       "    .dataframe thead th {\n",
       "        text-align: right;\n",
       "    }\n",
       "</style>\n",
       "<table border=\"1\" class=\"dataframe\">\n",
       "  <thead>\n",
       "    <tr style=\"text-align: right;\">\n",
       "      <th></th>\n",
       "      <th>id</th>\n",
       "      <th>cdate</th>\n",
       "      <th>title</th>\n",
       "      <th>body</th>\n",
       "    </tr>\n",
       "  </thead>\n",
       "  <tbody>\n",
       "    <tr>\n",
       "      <th>0</th>\n",
       "      <td>74574268</td>\n",
       "      <td>2022-11-25</td>\n",
       "      <td>stateStore.delete(key) in Kafka is not working</td>\n",
       "      <td>&lt;p&gt;I have what it thought would be a simple st...</td>\n",
       "    </tr>\n",
       "    <tr>\n",
       "      <th>1</th>\n",
       "      <td>74574269</td>\n",
       "      <td>2022-11-25</td>\n",
       "      <td>How to write a nested loop over several argume...</td>\n",
       "      <td>&lt;p&gt;The following code&lt;/p&gt;\\n&lt;pre&gt;&lt;code&gt;macro_ru...</td>\n",
       "    </tr>\n",
       "    <tr>\n",
       "      <th>2</th>\n",
       "      <td>74574270</td>\n",
       "      <td>2022-11-25</td>\n",
       "      <td>updating sql query skips indexes</td>\n",
       "      <td>&lt;p&gt;I am trying to save user search results in ...</td>\n",
       "    </tr>\n",
       "    <tr>\n",
       "      <th>3</th>\n",
       "      <td>74574306</td>\n",
       "      <td>2022-11-25</td>\n",
       "      <td>Add \"collection\" of attributes directly to top...</td>\n",
       "      <td>&lt;p&gt;I am trying to capture (S3) logs in a struc...</td>\n",
       "    </tr>\n",
       "    <tr>\n",
       "      <th>4</th>\n",
       "      <td>74574308</td>\n",
       "      <td>2022-11-25</td>\n",
       "      <td>Multiple images (logo and a background image) ...</td>\n",
       "      <td>&lt;p&gt;I'm trying to use a logo plus a background ...</td>\n",
       "    </tr>\n",
       "  </tbody>\n",
       "</table>\n",
       "</div>"
      ],
      "text/plain": [
       "         id       cdate                                              title  \\\n",
       "0  74574268  2022-11-25     stateStore.delete(key) in Kafka is not working   \n",
       "1  74574269  2022-11-25  How to write a nested loop over several argume...   \n",
       "2  74574270  2022-11-25                   updating sql query skips indexes   \n",
       "3  74574306  2022-11-25  Add \"collection\" of attributes directly to top...   \n",
       "4  74574308  2022-11-25  Multiple images (logo and a background image) ...   \n",
       "\n",
       "                                                body  \n",
       "0  <p>I have what it thought would be a simple st...  \n",
       "1  <p>The following code</p>\\n<pre><code>macro_ru...  \n",
       "2  <p>I am trying to save user search results in ...  \n",
       "3  <p>I am trying to capture (S3) logs in a struc...  \n",
       "4  <p>I'm trying to use a logo plus a background ...  "
      ]
     },
     "execution_count": 43,
     "metadata": {},
     "output_type": "execute_result"
    }
   ],
   "source": [
    "complexity_df.head()"
   ]
  },
  {
   "cell_type": "code",
   "execution_count": 44,
   "metadata": {},
   "outputs": [
    {
     "data": {
      "text/plain": [
       "0         <p>I have what it thought would be a simple st...\n",
       "1         <p>The following code</p>\\n<pre><code>macro_ru...\n",
       "2         <p>I am trying to save user search results in ...\n",
       "3         <p>I am trying to capture (S3) logs in a struc...\n",
       "4         <p>I'm trying to use a logo plus a background ...\n",
       "                                ...                        \n",
       "229298    <p>is it possible to use SageMaker Clarify bia...\n",
       "229299    <p>I have created a custom form in a custom mo...\n",
       "229300    <p>I am still struggling with using data from ...\n",
       "229301    <p>I am fetching names from tags in wikipedia ...\n",
       "229302    <p>I want to use shared memory to transfer lar...\n",
       "Name: body, Length: 229303, dtype: object"
      ]
     },
     "execution_count": 44,
     "metadata": {},
     "output_type": "execute_result"
    }
   ],
   "source": [
    "complexity_df['body']"
   ]
  },
  {
   "cell_type": "code",
   "execution_count": 45,
   "metadata": {},
   "outputs": [],
   "source": [
    "htmlp = pp.HTMLParser()\n",
    "codep = pp.CodeSectionParser()"
   ]
  },
  {
   "cell_type": "code",
   "execution_count": 46,
   "metadata": {},
   "outputs": [],
   "source": [
    "complexity_df['c_h_body'] = complexity_df['body'].apply(lambda x : htmlp.clean_html_str(x))"
   ]
  },
  {
   "cell_type": "code",
   "execution_count": 47,
   "metadata": {},
   "outputs": [
    {
     "name": "stdout",
     "output_type": "stream",
     "text": [
      "<class 'pandas.core.frame.DataFrame'>\n",
      "RangeIndex: 229303 entries, 0 to 229302\n",
      "Data columns (total 5 columns):\n",
      " #   Column    Non-Null Count   Dtype \n",
      "---  ------    --------------   ----- \n",
      " 0   id        229303 non-null  int64 \n",
      " 1   cdate     229303 non-null  object\n",
      " 2   title     229303 non-null  object\n",
      " 3   body      229303 non-null  object\n",
      " 4   c_h_body  229303 non-null  object\n",
      "dtypes: int64(1), object(4)\n",
      "memory usage: 8.7+ MB\n"
     ]
    }
   ],
   "source": [
    "complexity_df.info()"
   ]
  },
  {
   "cell_type": "code",
   "execution_count": 48,
   "metadata": {},
   "outputs": [],
   "source": [
    "complexity_df['c_body'] = complexity_df['body'].apply(lambda x : codep(x))"
   ]
  },
  {
   "cell_type": "code",
   "execution_count": 49,
   "metadata": {},
   "outputs": [
    {
     "data": {
      "text/plain": [
       "0    @Override\\npublic void punctuate(long l) {\\n  ...\n",
       "1    macro_rules! test {\\n    ( $( $x1:expr ),*; bl...\n",
       "2    $sql = &quot;INSERT INTO search_data (SEARCH, ...\n",
       "Name: c_body, dtype: object"
      ]
     },
     "execution_count": 49,
     "metadata": {},
     "output_type": "execute_result"
    }
   ],
   "source": [
    "complexity_df['c_body'].iloc[0:3].apply(lambda x : x['code_sections'][0]['span_str'])"
   ]
  },
  {
   "cell_type": "code",
   "execution_count": 62,
   "metadata": {},
   "outputs": [
    {
     "data": {
      "text/plain": [
       "'@Override\\npublic void punctuate(long l) {\\n    log.info(&quot;PeriodicRetryPunctuator started: &quot; + l);\\n\\n    try(KeyValueIterator&lt;String, TestEventObject&gt; iter = stateStore.all()) {\\n        while(iter.hasNext()) {\\n            KeyValue&lt;String, TestEventObject&gt; keyValue = iter.next();\\n            String key = keyValue.key;\\n            TestEventObject event = keyValue.value;\\n            \\n            try {\\n                log.info(&quot;Event: &quot; + event);\\n                // Sends event over HTTP. Will throw HttpResponseException if 404 is received\\n                eventService.processEvent(event);\\n                \\n                stateStore.delete(key);\\n                stateStore.flush();\\n                \\n                // Check that statestore returns null\\n                log.info(&quot;Check: &quot; + stateStore.get(key));\\n            } catch (HttpResponseException hre) {\\n                log.info(&quot;Periodic retry received 404. Retrying at next interval&quot;);\\n            }\\n            catch (Exception e) {\\n                e.printStackTrace();\\n                log.error(&quot;Exception with periodic retry: {}&quot;, e.getMessage());\\n            }\\n        }\\n    }\\n}\\n'"
      ]
     },
     "execution_count": 62,
     "metadata": {},
     "output_type": "execute_result"
    }
   ],
   "source": [
    "complexity_df.loc[0, 'c_body']['code_sections'][0]['span_str']"
   ]
  },
  {
   "cell_type": "code",
   "execution_count": 58,
   "metadata": {},
   "outputs": [
    {
     "ename": "AttributeError",
     "evalue": "'dict' object has no attribute 'apply'",
     "output_type": "error",
     "traceback": [
      "\u001b[0;31m---------------------------------------------------------------------------\u001b[0m",
      "\u001b[0;31mAttributeError\u001b[0m                            Traceback (most recent call last)",
      "Cell \u001b[0;32mIn[58], line 1\u001b[0m\n\u001b[0;32m----> 1\u001b[0m \u001b[43mcomplexity_df\u001b[49m\u001b[38;5;241;43m.\u001b[39;49m\u001b[43mloc\u001b[49m\u001b[43m[\u001b[49m\u001b[38;5;241;43m0\u001b[39;49m\u001b[43m,\u001b[49m\u001b[43m \u001b[49m\u001b[38;5;124;43m'\u001b[39;49m\u001b[38;5;124;43mc_body\u001b[39;49m\u001b[38;5;124;43m'\u001b[39;49m\u001b[43m]\u001b[49m\u001b[38;5;241;43m.\u001b[39;49m\u001b[43mapply\u001b[49m(\u001b[38;5;28;01mlambda\u001b[39;00m x : x[\u001b[38;5;124m'\u001b[39m\u001b[38;5;124mcode_sections\u001b[39m\u001b[38;5;124m'\u001b[39m][\u001b[38;5;241m0\u001b[39m][\u001b[38;5;124m'\u001b[39m\u001b[38;5;124mspan_str\u001b[39m\u001b[38;5;124m'\u001b[39m])\n",
      "\u001b[0;31mAttributeError\u001b[0m: 'dict' object has no attribute 'apply'"
     ]
    }
   ],
   "source": [
    "complexity_df.loc[0, 'c_body'].apply(lambda x : x['code_sections'][0]['span_str'])"
   ]
  },
  {
   "cell_type": "code",
   "execution_count": null,
   "metadata": {},
   "outputs": [],
   "source": [
    "complexity_df['c_body'].iloc[0:3].apply(lambda x : x['code_sections'][0]['span_str'])"
   ]
  },
  {
   "cell_type": "code",
   "execution_count": 50,
   "metadata": {},
   "outputs": [],
   "source": [
    "# 전체 데이터셋 \n",
    "for x in range(3):\n",
    "    with open('../../data/complexity/'+str(x)+'.java', 'wb') as f:\n",
    "        pickle.dump(complexity_df['c_body'].iloc[0:3].apply(lambda x : x['code_sections'][0]['span_str'])[x]\n",
    "                    , f)\n"
   ]
  },
  {
   "cell_type": "code",
   "execution_count": 53,
   "metadata": {},
   "outputs": [],
   "source": [
    "i = lizard.analyze_file(\"../../data/complexity/a.java\")"
   ]
  },
  {
   "cell_type": "code",
   "execution_count": 54,
   "metadata": {},
   "outputs": [
    {
     "name": "stdout",
     "output_type": "stream",
     "text": [
      "{'filename': '../../data/complexity/a.java',\n",
      " 'nloc': 24,\n",
      " 'function_list': [<lizard.FunctionInfo object at 0x173676e50>],\n",
      " 'token_count': 218}\n"
     ]
    }
   ],
   "source": [
    "pprint.pp(i.__dict__)"
   ]
  },
  {
   "cell_type": "code",
   "execution_count": 55,
   "metadata": {},
   "outputs": [
    {
     "name": "stdout",
     "output_type": "stream",
     "text": [
      "{'cyclomatic_complexity': 4,\n",
      " 'nloc': 23,\n",
      " 'token_count': 214,\n",
      " 'name': 'punctuate',\n",
      " 'long_name': 'punctuate( long l)',\n",
      " 'start_line': 2,\n",
      " 'end_line': 30,\n",
      " 'full_parameters': ['long l'],\n",
      " 'filename': '../../data/complexity/a.java',\n",
      " 'top_nesting_level': 0,\n",
      " 'fan_in': 0,\n",
      " 'fan_out': 0,\n",
      " 'general_fan_out': 0}\n"
     ]
    }
   ],
   "source": [
    "pprint.pp(i.function_list[0].__dict__)"
   ]
  },
  {
   "cell_type": "code",
   "execution_count": null,
   "metadata": {},
   "outputs": [],
   "source": []
  }
 ],
 "metadata": {
  "kernelspec": {
   "display_name": "Python 3",
   "language": "python",
   "name": "python3"
  },
  "language_info": {
   "codemirror_mode": {
    "name": "ipython",
    "version": 3
   },
   "file_extension": ".py",
   "mimetype": "text/x-python",
   "name": "python",
   "nbconvert_exporter": "python",
   "pygments_lexer": "ipython3",
   "version": "3.9.6"
  }
 },
 "nbformat": 4,
 "nbformat_minor": 2
}
