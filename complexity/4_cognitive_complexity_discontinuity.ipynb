{
 "cells": [
  {
   "cell_type": "code",
   "execution_count": 1,
   "metadata": {},
   "outputs": [],
   "source": [
    "#customized preprocessing pkg\n",
    "import preprocess as pp\n",
    "import pandas as pd\n",
    "import numpy as np\n",
    "import pickle\n",
    "import ast\n",
    "from cognitive_complexity.api import get_cognitive_complexity\n",
    "import pprint\n",
    "import os\n",
    "import matplotlib.pyplot as plt\n",
    "import matplotlib.ticker as ticker\n",
    "import statsmodels.formula.api as sm\n",
    "import datetime\n",
    "import matplotlib.patches as mpatches"
   ]
  },
  {
   "cell_type": "markdown",
   "metadata": {},
   "source": [
    "### 소스코드 complexity 계산"
   ]
  },
  {
   "cell_type": "code",
   "execution_count": 2,
   "metadata": {},
   "outputs": [],
   "source": [
    "input_year_list = ['2021', '2022', '2023']"
   ]
  },
  {
   "cell_type": "code",
   "execution_count": 3,
   "metadata": {},
   "outputs": [],
   "source": [
    "# 파일 불러오기\n",
    "complexity_python_df = pd.DataFrame()\n",
    "\n",
    "for input_year in input_year_list : \n",
    "    with open(f'../../data/complexity_python_df_{input_year}.pkl', 'rb') as f:\n",
    "        tmp = pickle.load(f)\n",
    "        complexity_python_df = pd.concat([complexity_python_df, tmp], axis = 0)"
   ]
  },
  {
   "cell_type": "code",
   "execution_count": 4,
   "metadata": {},
   "outputs": [
    {
     "name": "stdout",
     "output_type": "stream",
     "text": [
      "2021-01-01\n",
      "2023-12-03\n"
     ]
    }
   ],
   "source": [
    "print(complexity_python_df['cdate'].min())\n",
    "print(complexity_python_df['cdate'].max())"
   ]
  },
  {
   "cell_type": "code",
   "execution_count": 5,
   "metadata": {},
   "outputs": [],
   "source": [
    "# 전체 데이터셋 \n",
    "with open('../../data/complexity_src_df.pkl', 'rb') as f:\n",
    "    src_df = pickle.load(f)"
   ]
  },
  {
   "cell_type": "code",
   "execution_count": 6,
   "metadata": {},
   "outputs": [
    {
     "data": {
      "text/html": [
       "<div>\n",
       "<style scoped>\n",
       "    .dataframe tbody tr th:only-of-type {\n",
       "        vertical-align: middle;\n",
       "    }\n",
       "\n",
       "    .dataframe tbody tr th {\n",
       "        vertical-align: top;\n",
       "    }\n",
       "\n",
       "    .dataframe thead th {\n",
       "        text-align: right;\n",
       "    }\n",
       "</style>\n",
       "<table border=\"1\" class=\"dataframe\">\n",
       "  <thead>\n",
       "    <tr style=\"text-align: right;\">\n",
       "      <th></th>\n",
       "      <th>idx</th>\n",
       "      <th>id</th>\n",
       "      <th>src</th>\n",
       "    </tr>\n",
       "  </thead>\n",
       "  <tbody>\n",
       "    <tr>\n",
       "      <th>0</th>\n",
       "      <td>995</td>\n",
       "      <td>77296103</td>\n",
       "      <td>from copy import deepcopy\\nfrom typing import ...</td>\n",
       "    </tr>\n",
       "    <tr>\n",
       "      <th>1</th>\n",
       "      <td>996</td>\n",
       "      <td>77296116</td>\n",
       "      <td>preprocessing = ColumnTransformer([(\"One Hot E...</td>\n",
       "    </tr>\n",
       "    <tr>\n",
       "      <th>2</th>\n",
       "      <td>997</td>\n",
       "      <td>77296116</td>\n",
       "      <td>SVC_model = Pipeline([(\"preprocessing\", prepro...</td>\n",
       "    </tr>\n",
       "    <tr>\n",
       "      <th>3</th>\n",
       "      <td>998</td>\n",
       "      <td>77296116</td>\n",
       "      <td>svc_params = {\\n'kernel': [\"linear\", \"poly\", \"...</td>\n",
       "    </tr>\n",
       "    <tr>\n",
       "      <th>4</th>\n",
       "      <td>999</td>\n",
       "      <td>77296116</td>\n",
       "      <td># Access the cross-validation results from the...</td>\n",
       "    </tr>\n",
       "  </tbody>\n",
       "</table>\n",
       "</div>"
      ],
      "text/plain": [
       "   idx        id                                                src\n",
       "0  995  77296103  from copy import deepcopy\\nfrom typing import ...\n",
       "1  996  77296116  preprocessing = ColumnTransformer([(\"One Hot E...\n",
       "2  997  77296116  SVC_model = Pipeline([(\"preprocessing\", prepro...\n",
       "3  998  77296116  svc_params = {\\n'kernel': [\"linear\", \"poly\", \"...\n",
       "4  999  77296116  # Access the cross-validation results from the..."
      ]
     },
     "execution_count": 6,
     "metadata": {},
     "output_type": "execute_result"
    }
   ],
   "source": [
    "src_df.head()"
   ]
  },
  {
   "cell_type": "code",
   "execution_count": 7,
   "metadata": {},
   "outputs": [],
   "source": [
    "# 파일 불러오기\n",
    "calc_com_df = pd.DataFrame()\n",
    "\n",
    "for input_year in input_year_list : \n",
    "    with open(f'../../data/calc_com_df_{input_year}.pkl', 'rb') as f:\n",
    "        tmp = pickle.load(f)\n",
    "        calc_com_df = pd.concat([calc_com_df, tmp], axis = 0)"
   ]
  },
  {
   "cell_type": "code",
   "execution_count": 8,
   "metadata": {},
   "outputs": [],
   "source": [
    "calc_com_df.reset_index(drop=True, inplace=True)"
   ]
  },
  {
   "cell_type": "code",
   "execution_count": 9,
   "metadata": {},
   "outputs": [
    {
     "data": {
      "text/html": [
       "<div>\n",
       "<style scoped>\n",
       "    .dataframe tbody tr th:only-of-type {\n",
       "        vertical-align: middle;\n",
       "    }\n",
       "\n",
       "    .dataframe tbody tr th {\n",
       "        vertical-align: top;\n",
       "    }\n",
       "\n",
       "    .dataframe thead th {\n",
       "        text-align: right;\n",
       "    }\n",
       "</style>\n",
       "<table border=\"1\" class=\"dataframe\">\n",
       "  <thead>\n",
       "    <tr style=\"text-align: right;\">\n",
       "      <th></th>\n",
       "      <th>Path</th>\n",
       "      <th>File Name</th>\n",
       "      <th>Cognitive Complexity</th>\n",
       "    </tr>\n",
       "  </thead>\n",
       "  <tbody>\n",
       "    <tr>\n",
       "      <th>0</th>\n",
       "      <td>353900_65948963.py</td>\n",
       "      <td>353900_65948963.py</td>\n",
       "      <td>3</td>\n",
       "    </tr>\n",
       "    <tr>\n",
       "      <th>1</th>\n",
       "      <td>377254_65638981.py</td>\n",
       "      <td>377254_65638981.py</td>\n",
       "      <td>0</td>\n",
       "    </tr>\n",
       "    <tr>\n",
       "      <th>2</th>\n",
       "      <td>94558_69251293.py</td>\n",
       "      <td>94558_69251293.py</td>\n",
       "      <td>0</td>\n",
       "    </tr>\n",
       "    <tr>\n",
       "      <th>3</th>\n",
       "      <td>223504_67683129.py</td>\n",
       "      <td>223504_67683129.py</td>\n",
       "      <td>0</td>\n",
       "    </tr>\n",
       "    <tr>\n",
       "      <th>4</th>\n",
       "      <td>111551_69022973.py</td>\n",
       "      <td>111551_69022973.py</td>\n",
       "      <td>0</td>\n",
       "    </tr>\n",
       "  </tbody>\n",
       "</table>\n",
       "</div>"
      ],
      "text/plain": [
       "                 Path           File Name Cognitive Complexity\n",
       "0  353900_65948963.py  353900_65948963.py                    3\n",
       "1  377254_65638981.py  377254_65638981.py                    0\n",
       "2   94558_69251293.py   94558_69251293.py                    0\n",
       "3  223504_67683129.py  223504_67683129.py                    0\n",
       "4  111551_69022973.py  111551_69022973.py                    0"
      ]
     },
     "execution_count": 9,
     "metadata": {},
     "output_type": "execute_result"
    }
   ],
   "source": [
    "calc_com_df.head()"
   ]
  },
  {
   "cell_type": "code",
   "execution_count": 10,
   "metadata": {},
   "outputs": [],
   "source": [
    "calc_com_df['idx'] = calc_com_df['Path'].apply(lambda x : x.split('_')[0])\n",
    "# calc_com_df['Path'].apply(lambda x : [  for i in x.split('_')])"
   ]
  },
  {
   "cell_type": "code",
   "execution_count": 11,
   "metadata": {},
   "outputs": [],
   "source": [
    "calc_com_df['id'] = calc_com_df['Path'].apply(lambda x : x.split('_')[1].split('.')[0])"
   ]
  },
  {
   "cell_type": "code",
   "execution_count": 12,
   "metadata": {},
   "outputs": [
    {
     "data": {
      "text/html": [
       "<div>\n",
       "<style scoped>\n",
       "    .dataframe tbody tr th:only-of-type {\n",
       "        vertical-align: middle;\n",
       "    }\n",
       "\n",
       "    .dataframe tbody tr th {\n",
       "        vertical-align: top;\n",
       "    }\n",
       "\n",
       "    .dataframe thead th {\n",
       "        text-align: right;\n",
       "    }\n",
       "</style>\n",
       "<table border=\"1\" class=\"dataframe\">\n",
       "  <thead>\n",
       "    <tr style=\"text-align: right;\">\n",
       "      <th></th>\n",
       "      <th>Path</th>\n",
       "      <th>File Name</th>\n",
       "      <th>Cognitive Complexity</th>\n",
       "      <th>idx</th>\n",
       "      <th>id</th>\n",
       "    </tr>\n",
       "  </thead>\n",
       "  <tbody>\n",
       "    <tr>\n",
       "      <th>164589</th>\n",
       "      <td>0_70702244.py</td>\n",
       "      <td>0_70702244.py</td>\n",
       "      <td>0</td>\n",
       "      <td>0</td>\n",
       "      <td>70702244</td>\n",
       "    </tr>\n",
       "    <tr>\n",
       "      <th>363420</th>\n",
       "      <td>0_74935859.py</td>\n",
       "      <td>0_74935859.py</td>\n",
       "      <td>1</td>\n",
       "      <td>0</td>\n",
       "      <td>74935859</td>\n",
       "    </tr>\n",
       "    <tr>\n",
       "      <th>67043</th>\n",
       "      <td>1_70397890.py</td>\n",
       "      <td>1_70397890.py</td>\n",
       "      <td>0</td>\n",
       "      <td>1</td>\n",
       "      <td>70397890</td>\n",
       "    </tr>\n",
       "    <tr>\n",
       "      <th>230047</th>\n",
       "      <td>1_74574281.py</td>\n",
       "      <td>1_74574281.py</td>\n",
       "      <td>6</td>\n",
       "      <td>1</td>\n",
       "      <td>74574281</td>\n",
       "    </tr>\n",
       "    <tr>\n",
       "      <th>427921</th>\n",
       "      <td>1_77569752.py</td>\n",
       "      <td>1_77569752.py</td>\n",
       "      <td>0</td>\n",
       "      <td>1</td>\n",
       "      <td>77569752</td>\n",
       "    </tr>\n",
       "    <tr>\n",
       "      <th>...</th>\n",
       "      <td>...</td>\n",
       "      <td>...</td>\n",
       "      <td>...</td>\n",
       "      <td>...</td>\n",
       "      <td>...</td>\n",
       "    </tr>\n",
       "    <tr>\n",
       "      <th>274042</th>\n",
       "      <td>99997_73587690.py</td>\n",
       "      <td>99997_73587690.py</td>\n",
       "      <td>6</td>\n",
       "      <td>99997</td>\n",
       "      <td>73587690</td>\n",
       "    </tr>\n",
       "    <tr>\n",
       "      <th>407696</th>\n",
       "      <td>99997_76005895.py</td>\n",
       "      <td>99997_76005895.py</td>\n",
       "      <td>0</td>\n",
       "      <td>99997</td>\n",
       "      <td>76005895</td>\n",
       "    </tr>\n",
       "    <tr>\n",
       "      <th>155471</th>\n",
       "      <td>99999_69208993.py</td>\n",
       "      <td>99999_69208993.py</td>\n",
       "      <td>0</td>\n",
       "      <td>99999</td>\n",
       "      <td>69208993</td>\n",
       "    </tr>\n",
       "    <tr>\n",
       "      <th>335421</th>\n",
       "      <td>99999_73587727.py</td>\n",
       "      <td>99999_73587727.py</td>\n",
       "      <td>1</td>\n",
       "      <td>99999</td>\n",
       "      <td>73587727</td>\n",
       "    </tr>\n",
       "    <tr>\n",
       "      <th>403215</th>\n",
       "      <td>99999_76005895.py</td>\n",
       "      <td>99999_76005895.py</td>\n",
       "      <td>1</td>\n",
       "      <td>99999</td>\n",
       "      <td>76005895</td>\n",
       "    </tr>\n",
       "  </tbody>\n",
       "</table>\n",
       "<p>482331 rows × 5 columns</p>\n",
       "</div>"
      ],
      "text/plain": [
       "                     Path          File Name Cognitive Complexity    idx  \\\n",
       "164589      0_70702244.py      0_70702244.py                    0      0   \n",
       "363420      0_74935859.py      0_74935859.py                    1      0   \n",
       "67043       1_70397890.py      1_70397890.py                    0      1   \n",
       "230047      1_74574281.py      1_74574281.py                    6      1   \n",
       "427921      1_77569752.py      1_77569752.py                    0      1   \n",
       "...                   ...                ...                  ...    ...   \n",
       "274042  99997_73587690.py  99997_73587690.py                    6  99997   \n",
       "407696  99997_76005895.py  99997_76005895.py                    0  99997   \n",
       "155471  99999_69208993.py  99999_69208993.py                    0  99999   \n",
       "335421  99999_73587727.py  99999_73587727.py                    1  99999   \n",
       "403215  99999_76005895.py  99999_76005895.py                    1  99999   \n",
       "\n",
       "              id  \n",
       "164589  70702244  \n",
       "363420  74935859  \n",
       "67043   70397890  \n",
       "230047  74574281  \n",
       "427921  77569752  \n",
       "...          ...  \n",
       "274042  73587690  \n",
       "407696  76005895  \n",
       "155471  69208993  \n",
       "335421  73587727  \n",
       "403215  76005895  \n",
       "\n",
       "[482331 rows x 5 columns]"
      ]
     },
     "execution_count": 12,
     "metadata": {},
     "output_type": "execute_result"
    }
   ],
   "source": [
    "calc_com_df.sort_values(by = ['idx', 'id'])"
   ]
  },
  {
   "cell_type": "code",
   "execution_count": 13,
   "metadata": {},
   "outputs": [],
   "source": [
    "calc_com_df[['idx', 'id', 'Cognitive Complexity']] = calc_com_df[['idx', 'id', 'Cognitive Complexity']].astype('int')"
   ]
  },
  {
   "cell_type": "code",
   "execution_count": 14,
   "metadata": {},
   "outputs": [],
   "source": [
    "src_df[['idx', 'id']] = src_df[['idx', 'id']].astype('int')"
   ]
  },
  {
   "cell_type": "code",
   "execution_count": 15,
   "metadata": {},
   "outputs": [
    {
     "name": "stdout",
     "output_type": "stream",
     "text": [
      "<class 'pandas.core.frame.DataFrame'>\n",
      "RangeIndex: 482331 entries, 0 to 482330\n",
      "Data columns (total 5 columns):\n",
      " #   Column                Non-Null Count   Dtype \n",
      "---  ------                --------------   ----- \n",
      " 0   Path                  482331 non-null  object\n",
      " 1   File Name             482331 non-null  object\n",
      " 2   Cognitive Complexity  482331 non-null  int64 \n",
      " 3   idx                   482331 non-null  int64 \n",
      " 4   id                    482331 non-null  int64 \n",
      "dtypes: int64(3), object(2)\n",
      "memory usage: 18.4+ MB\n"
     ]
    }
   ],
   "source": [
    "calc_com_df.info()"
   ]
  },
  {
   "cell_type": "code",
   "execution_count": 16,
   "metadata": {},
   "outputs": [
    {
     "name": "stdout",
     "output_type": "stream",
     "text": [
      "<class 'pandas.core.frame.DataFrame'>\n",
      "RangeIndex: 939219 entries, 0 to 939218\n",
      "Data columns (total 3 columns):\n",
      " #   Column  Non-Null Count   Dtype \n",
      "---  ------  --------------   ----- \n",
      " 0   idx     939219 non-null  int64 \n",
      " 1   id      939219 non-null  int64 \n",
      " 2   src     939219 non-null  object\n",
      "dtypes: int64(2), object(1)\n",
      "memory usage: 21.5+ MB\n"
     ]
    }
   ],
   "source": [
    "src_df.info()"
   ]
  },
  {
   "cell_type": "code",
   "execution_count": 17,
   "metadata": {},
   "outputs": [],
   "source": [
    "calc_com_df = pd.merge(src_df,  calc_com_df, how = 'left', on = ['idx', 'id'])"
   ]
  },
  {
   "cell_type": "code",
   "execution_count": 18,
   "metadata": {},
   "outputs": [],
   "source": [
    "calc_com_df = pd.merge(complexity_python_df[['id', 'cdate']], calc_com_df, on = 'id')"
   ]
  },
  {
   "cell_type": "code",
   "execution_count": 19,
   "metadata": {},
   "outputs": [
    {
     "data": {
      "text/html": [
       "<div>\n",
       "<style scoped>\n",
       "    .dataframe tbody tr th:only-of-type {\n",
       "        vertical-align: middle;\n",
       "    }\n",
       "\n",
       "    .dataframe tbody tr th {\n",
       "        vertical-align: top;\n",
       "    }\n",
       "\n",
       "    .dataframe thead th {\n",
       "        text-align: right;\n",
       "    }\n",
       "</style>\n",
       "<table border=\"1\" class=\"dataframe\">\n",
       "  <thead>\n",
       "    <tr style=\"text-align: right;\">\n",
       "      <th></th>\n",
       "      <th>id</th>\n",
       "      <th>cdate</th>\n",
       "      <th>idx</th>\n",
       "      <th>src</th>\n",
       "      <th>Path</th>\n",
       "      <th>File Name</th>\n",
       "      <th>Cognitive Complexity</th>\n",
       "    </tr>\n",
       "  </thead>\n",
       "  <tbody>\n",
       "    <tr>\n",
       "      <th>0</th>\n",
       "      <td>70702244</td>\n",
       "      <td>2021-12-28</td>\n",
       "      <td>0</td>\n",
       "      <td>cmd = r'yes y | makepkg -si'\\noutput = subproc...</td>\n",
       "      <td>0_70702244.py</td>\n",
       "      <td>0_70702244.py</td>\n",
       "      <td>0.0</td>\n",
       "    </tr>\n",
       "    <tr>\n",
       "      <th>1</th>\n",
       "      <td>70542818</td>\n",
       "      <td>2021-12-31</td>\n",
       "      <td>113</td>\n",
       "      <td>import Conv\\nfrom os import getcwd\\nfrom time ...</td>\n",
       "      <td>113_70542818.py</td>\n",
       "      <td>113_70542818.py</td>\n",
       "      <td>0.0</td>\n",
       "    </tr>\n",
       "    <tr>\n",
       "      <th>2</th>\n",
       "      <td>70542928</td>\n",
       "      <td>2021-12-31</td>\n",
       "      <td>114</td>\n",
       "      <td>def fib(n):\\n    import numpy as np\\n    matri...</td>\n",
       "      <td>NaN</td>\n",
       "      <td>NaN</td>\n",
       "      <td>NaN</td>\n",
       "    </tr>\n",
       "    <tr>\n",
       "      <th>3</th>\n",
       "      <td>70542928</td>\n",
       "      <td>2021-12-31</td>\n",
       "      <td>115</td>\n",
       "      <td>4346655768693745643568852767504062580256466051...</td>\n",
       "      <td>115_70542928.py</td>\n",
       "      <td>115_70542928.py</td>\n",
       "      <td>0.0</td>\n",
       "    </tr>\n",
       "    <tr>\n",
       "      <th>4</th>\n",
       "      <td>70542928</td>\n",
       "      <td>2021-12-31</td>\n",
       "      <td>116</td>\n",
       "      <td>817770325994397771\\n</td>\n",
       "      <td>116_70542928.py</td>\n",
       "      <td>116_70542928.py</td>\n",
       "      <td>0.0</td>\n",
       "    </tr>\n",
       "  </tbody>\n",
       "</table>\n",
       "</div>"
      ],
      "text/plain": [
       "         id       cdate  idx  \\\n",
       "0  70702244  2021-12-28    0   \n",
       "1  70542818  2021-12-31  113   \n",
       "2  70542928  2021-12-31  114   \n",
       "3  70542928  2021-12-31  115   \n",
       "4  70542928  2021-12-31  116   \n",
       "\n",
       "                                                 src             Path  \\\n",
       "0  cmd = r'yes y | makepkg -si'\\noutput = subproc...    0_70702244.py   \n",
       "1  import Conv\\nfrom os import getcwd\\nfrom time ...  113_70542818.py   \n",
       "2  def fib(n):\\n    import numpy as np\\n    matri...              NaN   \n",
       "3  4346655768693745643568852767504062580256466051...  115_70542928.py   \n",
       "4                               817770325994397771\\n  116_70542928.py   \n",
       "\n",
       "         File Name  Cognitive Complexity  \n",
       "0    0_70702244.py                   0.0  \n",
       "1  113_70542818.py                   0.0  \n",
       "2              NaN                   NaN  \n",
       "3  115_70542928.py                   0.0  \n",
       "4  116_70542928.py                   0.0  "
      ]
     },
     "execution_count": 19,
     "metadata": {},
     "output_type": "execute_result"
    }
   ],
   "source": [
    "calc_com_df.head()"
   ]
  },
  {
   "cell_type": "code",
   "execution_count": 20,
   "metadata": {},
   "outputs": [],
   "source": [
    "# 일자별로 아예 소스가 수행되지 않는 건 \n",
    "calc_com_df_back = calc_com_df.copy()\n",
    "calc_ed_com_df = calc_com_df[~calc_com_df['Path'].isna()]"
   ]
  },
  {
   "cell_type": "code",
   "execution_count": 21,
   "metadata": {},
   "outputs": [],
   "source": [
    "calc_ed_com_df = calc_ed_com_df.sort_values(by = ['cdate', 'id', 'Cognitive Complexity'], ascending = [True, True, False]).groupby('id').head(1)"
   ]
  },
  {
   "cell_type": "code",
   "execution_count": 22,
   "metadata": {},
   "outputs": [],
   "source": [
    "calc_ed_com_df['yyyymm'] = calc_ed_com_df['cdate'].str[:7]"
   ]
  },
  {
   "cell_type": "code",
   "execution_count": 23,
   "metadata": {},
   "outputs": [],
   "source": [
    "calc_ed_com_mean_df = calc_ed_com_df.groupby(['cdate']).mean(numeric_only=True).reset_index()\n",
    "# ['Cognitive Complexity']"
   ]
  },
  {
   "cell_type": "code",
   "execution_count": 24,
   "metadata": {},
   "outputs": [],
   "source": [
    "calc_ed_com_mean_df['cdate'] = pd.to_datetime(calc_ed_com_mean_df['cdate'])"
   ]
  },
  {
   "cell_type": "code",
   "execution_count": 25,
   "metadata": {},
   "outputs": [],
   "source": [
    "calc_ed_com_mean_df.loc[:,  'rel_days'] = (calc_ed_com_mean_df.loc[:,  'cdate'] - datetime.datetime(2022,11,30)).dt.days"
   ]
  },
  {
   "cell_type": "code",
   "execution_count": 26,
   "metadata": {},
   "outputs": [
    {
     "data": {
      "text/html": [
       "<div>\n",
       "<style scoped>\n",
       "    .dataframe tbody tr th:only-of-type {\n",
       "        vertical-align: middle;\n",
       "    }\n",
       "\n",
       "    .dataframe tbody tr th {\n",
       "        vertical-align: top;\n",
       "    }\n",
       "\n",
       "    .dataframe thead th {\n",
       "        text-align: right;\n",
       "    }\n",
       "</style>\n",
       "<table border=\"1\" class=\"dataframe\">\n",
       "  <thead>\n",
       "    <tr style=\"text-align: right;\">\n",
       "      <th></th>\n",
       "      <th>cdate</th>\n",
       "      <th>id</th>\n",
       "      <th>idx</th>\n",
       "      <th>Cognitive Complexity</th>\n",
       "      <th>rel_days</th>\n",
       "    </tr>\n",
       "  </thead>\n",
       "  <tbody>\n",
       "    <tr>\n",
       "      <th>0</th>\n",
       "      <td>2021-01-01</td>\n",
       "      <td>6.553101e+07</td>\n",
       "      <td>394448.410480</td>\n",
       "      <td>1.689956</td>\n",
       "      <td>-698</td>\n",
       "    </tr>\n",
       "    <tr>\n",
       "      <th>1</th>\n",
       "      <td>2021-01-02</td>\n",
       "      <td>6.554027e+07</td>\n",
       "      <td>393165.784768</td>\n",
       "      <td>1.582781</td>\n",
       "      <td>-697</td>\n",
       "    </tr>\n",
       "    <tr>\n",
       "      <th>2</th>\n",
       "      <td>2021-01-03</td>\n",
       "      <td>6.555093e+07</td>\n",
       "      <td>391343.544025</td>\n",
       "      <td>1.729560</td>\n",
       "      <td>-696</td>\n",
       "    </tr>\n",
       "    <tr>\n",
       "      <th>3</th>\n",
       "      <td>2021-01-04</td>\n",
       "      <td>6.556447e+07</td>\n",
       "      <td>389050.580563</td>\n",
       "      <td>1.485934</td>\n",
       "      <td>-695</td>\n",
       "    </tr>\n",
       "    <tr>\n",
       "      <th>4</th>\n",
       "      <td>2021-01-05</td>\n",
       "      <td>6.558022e+07</td>\n",
       "      <td>387018.978622</td>\n",
       "      <td>1.570071</td>\n",
       "      <td>-694</td>\n",
       "    </tr>\n",
       "  </tbody>\n",
       "</table>\n",
       "</div>"
      ],
      "text/plain": [
       "       cdate            id            idx  Cognitive Complexity  rel_days\n",
       "0 2021-01-01  6.553101e+07  394448.410480              1.689956      -698\n",
       "1 2021-01-02  6.554027e+07  393165.784768              1.582781      -697\n",
       "2 2021-01-03  6.555093e+07  391343.544025              1.729560      -696\n",
       "3 2021-01-04  6.556447e+07  389050.580563              1.485934      -695\n",
       "4 2021-01-05  6.558022e+07  387018.978622              1.570071      -694"
      ]
     },
     "execution_count": 26,
     "metadata": {},
     "output_type": "execute_result"
    }
   ],
   "source": [
    "calc_ed_com_mean_df.head()"
   ]
  },
  {
   "cell_type": "code",
   "execution_count": 27,
   "metadata": {},
   "outputs": [],
   "source": [
    "chow_df = calc_ed_com_mean_df[['rel_days', 'Cognitive Complexity', 'cdate']]"
   ]
  },
  {
   "cell_type": "code",
   "execution_count": 28,
   "metadata": {},
   "outputs": [],
   "source": [
    "chow_df = chow_df[(chow_df['rel_days']>=-365*2)&(chow_df['rel_days']<365)]"
   ]
  },
  {
   "cell_type": "code",
   "execution_count": 29,
   "metadata": {},
   "outputs": [],
   "source": [
    "x = chow_df['rel_days'].values"
   ]
  },
  {
   "cell_type": "code",
   "execution_count": 30,
   "metadata": {},
   "outputs": [
    {
     "data": {
      "text/plain": [
       "698"
      ]
     },
     "execution_count": 30,
     "metadata": {},
     "output_type": "execute_result"
    }
   ],
   "source": [
    "np.argmax(np.where(x <= 0)) "
   ]
  },
  {
   "cell_type": "code",
   "execution_count": 31,
   "metadata": {},
   "outputs": [
    {
     "name": "stdout",
     "output_type": "stream",
     "text": [
      "698\n"
     ]
    },
    {
     "data": {
      "image/png": "[encoded data removed]",
      "text/plain": [
       "<Figure size 1000x600 with 1 Axes>"
      ]
     },
     "metadata": {},
     "output_type": "display_data"
    },
    {
     "name": "stdout",
     "output_type": "stream",
     "text": [
      "F-Statistic: 29.545783966461492\n",
      "p-value: 3.262945469373335e-13\n"
     ]
    }
   ],
   "source": [
    "import numpy as np\n",
    "import pandas as pd\n",
    "import statsmodels.api as sm\n",
    "from scipy.stats import f\n",
    "import matplotlib.pyplot as plt\n",
    "\n",
    "def chow_test_with_plot(dates, split_point):\n",
    "    # 날짜 데이터를 숫자로 변환 (일 단위)\n",
    "    x = dates['rel_days'].values\n",
    "    y = dates['Cognitive Complexity'].values\n",
    "    split_idx = np.argmax(np.where(x <= 0))\n",
    "    print(split_idx)\n",
    "\n",
    "    # 데이터를 split_date 기준으로 분리 .values\n",
    "    x1, y1 = x[:split_idx], y[:split_idx]\n",
    "    y1_err_ci = x1.std() * np.sqrt(1 / len(x1) + (x1 - x1.mean()) ** 2 / np.sum((x1 - x1.mean()) ** 2))\n",
    "\n",
    "    x2, y2 = x[split_idx:], y[split_idx:]\n",
    "    y2_err_ci = x2.std() * np.sqrt(1 / len(x2) + (x2 - x2.mean()) ** 2 / np.sum((x2 - x2.mean()) ** 2))\n",
    "\n",
    "    # 회귀 모델 생성\n",
    "    x_const = sm.add_constant(x)\n",
    "    x1_const = sm.add_constant(x1)\n",
    "    x2_const = sm.add_constant(x2)\n",
    "    # print(x1, x2 )\n",
    "\n",
    "    model_full = sm.OLS(y, x_const).fit()\n",
    "    model1 = sm.OLS(y1, x1_const).fit()\n",
    "    model2 = sm.OLS(y2, x2_const).fit()\n",
    "\n",
    "    # # 잔차 제곱합 계산\n",
    "    RSS_full = np.sum(model_full.resid ** 2)\n",
    "    RSS_1 = np.sum(model1.resid ** 2)\n",
    "    RSS_2 = np.sum(model2.resid ** 2)\n",
    "\n",
    "    # # 자유도 계산\n",
    "    k = 2  # 독립 변수 개수 (상수항 포함)\n",
    "    n1, n2 = len(y1), len(y2)\n",
    "    F_stat = ((RSS_full - (RSS_1 + RSS_2)) / k) / ((RSS_1 + RSS_2) / (n1 + n2 - 2 * k))\n",
    "\n",
    "    # p-value 계산\n",
    "    p_value = 1 - f.cdf(F_stat, k, n1 + n2 - 2 * k)\n",
    "\n",
    "    # # 시각화\n",
    "    plt.figure(figsize=(10, 6))\n",
    "    plt.scatter(x, y,  alpha=0.7)\n",
    "    plt.plot(x, model_full.predict(x_const), label=\"Full Model\", linestyle=\"--\", color=\"black\")\n",
    "    \n",
    "    y1_predict = model1.predict(x1_const)\n",
    "    plt.plot(x1, y1_predict, label=\"before chatGPT\", color=\"blue\", linewidth='1.5')\n",
    "    plt.fill_between(x1, y1_predict - y1_err_ci, y1_predict + y1_err_ci, alpha=0.1)\n",
    "\n",
    "    y2_predict = model2.predict(x2_const)\n",
    "    plt.plot(x2, y2_predict, label=\"after chatGPT\", color=\"red\", linewidth='1.5')\n",
    "    plt.fill_between(x2, y2_predict - y2_err_ci, y2_predict + y2_err_ci, alpha=0.1)\n",
    "    \n",
    "    # plt.text(5, 3.8,s=f'F-Statistic={F_stat:.2f}')\n",
    "    plt.legend()\n",
    "    plt.title(f\"Chow Test\")\n",
    "    plt.xlabel(\"Date\")\n",
    "    plt.ylabel(\"Cognitive Complexity\")\n",
    "    # plt.grid()\n",
    "    plt.show()\n",
    "    # : F-Statistic={F_stat:.2f}, p-value={p_value:.4f}\n",
    "    return F_stat, p_value\n",
    "\n",
    "\n",
    "# Chow Test 실행 및 시각화\n",
    "split_point = 0\n",
    "F_stat, p_value = chow_test_with_plot(chow_df, split_point)\n",
    "\n",
    "print(\"F-Statistic:\", F_stat)\n",
    "print(\"p-value:\", p_value)\n"
   ]
  },
  {
   "cell_type": "code",
   "execution_count": null,
   "metadata": {},
   "outputs": [
    {
     "name": "stdout",
     "output_type": "stream",
     "text": [
      "365\n"
     ]
    },
    {
     "data": {
      "image/png": "[encoded data removed]",
      "text/plain": [
       "<Figure size 1000x600 with 1 Axes>"
      ]
     },
     "metadata": {},
     "output_type": "display_data"
    },
    {
     "name": "stdout",
     "output_type": "stream",
     "text": [
      "F-Statistic: 6.31655418632016\n",
      "p-value: 0.001906995303224135\n"
     ]
    }
   ],
   "source": [
    "import numpy as np\n",
    "import pandas as pd\n",
    "import statsmodels.api as sm\n",
    "from scipy.stats import f\n",
    "import matplotlib.pyplot as plt\n",
    "\n",
    "def chow_test_with_plot(dates, split_point):\n",
    "    # 날짜 데이터를 숫자로 변환 (일 단위)\n",
    "    x = dates['rel_days'].values\n",
    "    y = dates['Cognitive Complexity'].values\n",
    "    split_idx = np.argmax(np.where(x <= 0))\n",
    "    print(split_idx)\n",
    "\n",
    "    # 데이터를 split_date 기준으로 분리 .values\n",
    "    x1, y1 = x[:split_idx], y[:split_idx]\n",
    "    y1_err_ci = x1.std() * np.sqrt(1 / len(x1) + (x1 - x1.mean()) ** 2 / np.sum((x1 - x1.mean()) ** 2))\n",
    "\n",
    "    x2, y2 = x[split_idx:], y[split_idx:]\n",
    "    y2_err_ci = x2.std() * np.sqrt(1 / len(x2) + (x2 - x2.mean()) ** 2 / np.sum((x2 - x2.mean()) ** 2))\n",
    "\n",
    "    # 회귀 모델 생성\n",
    "    x_const = sm.add_constant(x)\n",
    "    x1_const = sm.add_constant(x1)\n",
    "    x2_const = sm.add_constant(x2)\n",
    "    # print(x1, x2 )\n",
    "\n",
    "    model_full = sm.OLS(y, x_const).fit()\n",
    "    model1 = sm.OLS(y1, x1_const).fit()\n",
    "    model2 = sm.OLS(y2, x2_const).fit()\n",
    "\n",
    "    # # 잔차 제곱합 계산\n",
    "    RSS_full = np.sum(model_full.resid ** 2)\n",
    "    RSS_1 = np.sum(model1.resid ** 2)\n",
    "    RSS_2 = np.sum(model2.resid ** 2)\n",
    "\n",
    "    # # 자유도 계산\n",
    "    k = 2  # 독립 변수 개수 (상수항 포함)\n",
    "    n1, n2 = len(y1), len(y2)\n",
    "    F_stat = ((RSS_full - (RSS_1 + RSS_2)) / k) / ((RSS_1 + RSS_2) / (n1 + n2 - 2 * k))\n",
    "\n",
    "    # p-value 계산\n",
    "    p_value = 1 - f.cdf(F_stat, k, n1 + n2 - 2 * k)\n",
    "\n",
    "    # # 시각화\n",
    "    plt.figure(figsize=(10, 6))\n",
    "    plt.scatter(x, y, alpha=0.7)\n",
    "    plt.plot(x, model_full.predict(x_const), label=\"Full Model\", linestyle=\"--\", color=\"black\")\n",
    "    \n",
    "    y1_predict = model1.predict(x1_const)\n",
    "    plt.plot(x1, y1_predict, label=\"before chatGPT\", color=\"blue\", linewidth='1.5')\n",
    "    # plt.fill_between(x1, y1_predict - y1_err_ci, y1_predict + y1_err_ci, alpha=0.1)\n",
    "\n",
    "    y2_predict = model2.predict(x2_const)\n",
    "    plt.plot(x2, y2_predict, label=\"after chatGPT\", color=\"red\", linewidth='1.5')\n",
    "    # plt.fill_between(x2, y2_predict - y2_err_ci, y2_predict + y2_err_ci, alpha=0.1)\n",
    "\n",
    "\n",
    "    plt.legend()\n",
    "    plt.title(f\"Chow Test\")\n",
    "    plt.xlabel(\"Date\")\n",
    "    plt.ylabel(\"Cognitive Complexity\")\n",
    "    # plt.grid()\n",
    "    plt.title(f\"Chow Test\")\n",
    "    # plt.text(0.2, 1,s=f'F-Statistic={F_stat:.2f}')\n",
    "    plt.show()\n",
    "    # : F-Statistic={F_stat:.2f}, p-value={p_value:.4f}\n",
    "    \n",
    "    return F_stat, p_value\n",
    "\n",
    "\n",
    "# Chow Test 실행 및 시각화\n",
    "split_point = 0\n",
    "F_stat, p_value = chow_test_with_plot(chow_df[chow_df['rel_days']>=-365], split_point)\n",
    "\n",
    "print(\"F-Statistic:\", F_stat)\n",
    "print(\"p-value:\", p_value)\n",
    "# 111111"
   ]
  },
  {
   "cell_type": "code",
   "execution_count": null,
   "metadata": {},
   "outputs": [],
   "source": [
    "chow_df[chow_df['rel_days']>=-365]"
   ]
  },
  {
   "cell_type": "code",
   "execution_count": null,
   "metadata": {},
   "outputs": [
    {
     "name": "stdout",
     "output_type": "stream",
     "text": [
      "365\n"
     ]
    },
    {
     "ename": "ValueError",
     "evalue": "operands could not be broadcast together with shapes (730,) (365,) ",
     "output_type": "error",
     "traceback": [
      "\u001b[0;31m---------------------------------------------------------------------------\u001b[0m",
      "\u001b[0;31mValueError\u001b[0m                                Traceback (most recent call last)",
      "Cell \u001b[0;32mIn[41], line 55\u001b[0m\n\u001b[1;32m     53\u001b[0m dof \u001b[38;5;241m=\u001b[39m n \u001b[38;5;241m-\u001b[39m \u001b[38;5;241m2\u001b[39m  \u001b[38;5;66;03m# 자유도: 데이터 포인트 개수 - 2\u001b[39;00m\n\u001b[1;32m     54\u001b[0m t_value \u001b[38;5;241m=\u001b[39m t\u001b[38;5;241m.\u001b[39mppf((\u001b[38;5;241m1\u001b[39m \u001b[38;5;241m+\u001b[39m confidence) \u001b[38;5;241m/\u001b[39m \u001b[38;5;241m2.\u001b[39m, dof)  \u001b[38;5;66;03m# 자유도를 명시적으로 추가\u001b[39;00m\n\u001b[0;32m---> 55\u001b[0m s_err \u001b[38;5;241m=\u001b[39m np\u001b[38;5;241m.\u001b[39msum((\u001b[43my\u001b[49m\u001b[43m \u001b[49m\u001b[38;5;241;43m-\u001b[39;49m\u001b[43m \u001b[49m\u001b[43my1_predict\u001b[49m)\u001b[38;5;241m*\u001b[39m\u001b[38;5;241m*\u001b[39m\u001b[38;5;241m2\u001b[39m) \u001b[38;5;241m/\u001b[39m dof\n\u001b[1;32m     56\u001b[0m \u001b[38;5;66;03m# conf_interval = t_value * np.sqrt(\u001b[39;00m\n\u001b[1;32m     57\u001b[0m \u001b[38;5;66;03m#     s_err * (1/n + (x - mean_x)**2 / np.sum((x - mean_x)**2))\u001b[39;00m\n\u001b[1;32m     58\u001b[0m \u001b[38;5;66;03m# )\u001b[39;00m\n\u001b[1;32m     59\u001b[0m \n\u001b[1;32m     60\u001b[0m \u001b[38;5;66;03m# # 시각화\u001b[39;00m\n\u001b[1;32m     61\u001b[0m plt\u001b[38;5;241m.\u001b[39mfigure(figsize\u001b[38;5;241m=\u001b[39m(\u001b[38;5;241m10\u001b[39m, \u001b[38;5;241m6\u001b[39m))\n",
      "\u001b[0;31mValueError\u001b[0m: operands could not be broadcast together with shapes (730,) (365,) "
     ]
    }
   ],
   "source": [
    "import numpy as np\n",
    "import pandas as pd\n",
    "import statsmodels.api as sm\n",
    "# from scipy.stats import f\n",
    "from scipy.stats import t\n",
    "import matplotlib.pyplot as plt\n",
    "\n",
    "dates = chow_df[chow_df['rel_days']>=-365].copy()\n",
    "\n",
    "x = dates['rel_days'].values\n",
    "y = dates['Cognitive Complexity'].values\n",
    "split_idx = np.argmax(np.where(x <= 0))\n",
    "print(split_idx)\n",
    "\n",
    "# 데이터를 split_date 기준으로 분리 .values\n",
    "x1, y1 = x[:split_idx], y[:split_idx]\n",
    "y1_err_ci = x1.std() * np.sqrt(1 / len(x1) + (x1 - x1.mean()) ** 2 / np.sum((x1 - x1.mean()) ** 2))\n",
    "\n",
    "x2, y2 = x[split_idx:], y[split_idx:]\n",
    "y2_err_ci = x2.std() * np.sqrt(1 / len(x2) + (x2 - x2.mean()) ** 2 / np.sum((x2 - x2.mean()) ** 2))\n",
    "\n",
    "# 회귀 모델 생성\n",
    "x_const = sm.add_constant(x)\n",
    "x1_const = sm.add_constant(x1)\n",
    "x2_const = sm.add_constant(x2)\n",
    "# print(x1, x2 )\n",
    "\n",
    "model_full = sm.OLS(y, x_const).fit()\n",
    "model1 = sm.OLS(y1, x1_const).fit()\n",
    "model2 = sm.OLS(y2, x2_const).fit()\n",
    "\n",
    "# # 잔차 제곱합 계산\n",
    "RSS_full = np.sum(model_full.resid ** 2)\n",
    "RSS_1 = np.sum(model1.resid ** 2)\n",
    "RSS_2 = np.sum(model2.resid ** 2)\n",
    "\n",
    "# # 자유도 계산\n",
    "k = 2  # 독립 변수 개수 (상수항 포함)\n",
    "n1, n2 = len(y1), len(y2)\n",
    "F_stat = ((RSS_full - (RSS_1 + RSS_2)) / k) / ((RSS_1 + RSS_2) / (n1 + n2 - 2 * k))\n",
    "\n",
    "# p-value 계산\n",
    "p_value = 1 - f.cdf(F_stat, k, n1 + n2 - 2 * k)\n",
    "\n",
    "\n",
    "y1_predict = model1.predict(x1_const)\n",
    "y2_predict = model2.predict(x2_const)\n",
    "\n",
    "# 신뢰구간 계산\n",
    "confidence = 0.95\n",
    "n = len(x)\n",
    "mean_x = np.mean(x)\n",
    "dof = n - 2  # 자유도: 데이터 포인트 개수 - 2\n",
    "t_value = t.ppf((1 + confidence) / 2., dof)  # 자유도를 명시적으로 추가\n",
    "s_err = np.sum((y1 - y1_predict)**2) / dof\n",
    "# conf_interval = t_value * np.sqrt(\n",
    "#     s_err * (1/n + (x - mean_x)**2 / np.sum((x - mean_x)**2))\n",
    "# )\n",
    "\n",
    "# # 시각화\n",
    "plt.figure(figsize=(10, 6))\n",
    "plt.scatter(x, y, alpha=0.7)\n",
    "plt.plot(x, model_full.predict(x_const), label=\"Full Model\", linestyle=\"--\", color=\"black\")\n",
    "\n",
    "\n",
    "plt.plot(x1, y1_predict, label=\"before chatGPT\", color=\"blue\", linewidth='1.5')\n",
    "# plt.fill_between(x1, y1_predict - y1_err_ci, y1_predict + y1_err_ci, alpha=0.1)\n",
    "\n",
    "\n",
    "plt.plot(x2, y2_predict, label=\"after chatGPT\", color=\"red\", linewidth='1.5')\n",
    "# plt.fill_between(x2, y2_predict - y2_err_ci, y2_predict + y2_err_ci, alpha=0.1)\n",
    "\n",
    "\n",
    "plt.legend()\n",
    "plt.title(f\"Chow Test\")\n",
    "plt.xlabel(\"Date\")\n",
    "plt.ylabel(\"Cognitive Complexity\")\n",
    "# plt.grid()\n",
    "plt.title(f\"Chow Test\")\n",
    "# plt.text(0.2, 1,s=f'F-Statistic={F_stat:.2f}')\n",
    "plt.show()\n",
    "# : F-Statistic={F_stat:.2f}, p-value={p_value:.4f}\n",
    "\n"
   ]
  },
  {
   "cell_type": "code",
   "execution_count": 38,
   "metadata": {},
   "outputs": [
    {
     "data": {
      "image/png": "[encoded data removed]",
      "text/plain": [
       "<Figure size 1000x600 with 1 Axes>"
      ]
     },
     "metadata": {},
     "output_type": "display_data"
    }
   ],
   "source": [
    "import numpy as np\n",
    "import matplotlib.pyplot as plt\n",
    "from scipy.stats import t\n",
    "\n",
    "# 데이터 생성\n",
    "np.random.seed(42)\n",
    "x = np.linspace(0, 10, 50)\n",
    "y = 3 * x + np.random.normal(0, 3, size=len(x))\n",
    "\n",
    "# 회귀선 계산 (단순 선형 회귀)\n",
    "coefficients = np.polyfit(x, y, 1)\n",
    "y_fit = np.polyval(coefficients, x)\n",
    "\n",
    "# 신뢰구간 계산\n",
    "confidence = 0.95\n",
    "n = len(x)\n",
    "mean_x = np.mean(x)\n",
    "dof = n - 2  # 자유도: 데이터 포인트 개수 - 2\n",
    "t_value = t.ppf((1 + confidence) / 2., dof)  # 자유도를 명시적으로 추가\n",
    "s_err = np.sum((y - y_fit)**2) / dof\n",
    "conf_interval = t_value * np.sqrt(\n",
    "    s_err * (1/n + (x - mean_x)**2 / np.sum((x - mean_x)**2))\n",
    ")\n",
    "\n",
    "# 그래프 그리기\n",
    "plt.figure(figsize=(10, 6))\n",
    "plt.scatter(x, y, label='Data', color='blue', alpha=0.6)\n",
    "plt.plot(x, y_fit, label='Fit', color='red')\n",
    "plt.fill_between(x, y_fit - conf_interval, y_fit + conf_interval, color='pink', alpha=0.3, label=f'{int(confidence * 100)}% Confidence Interval')\n",
    "\n",
    "# 그래프 설정\n",
    "plt.title('Scatter Plot with Confidence Interval')\n",
    "plt.xlabel('X')\n",
    "plt.ylabel('Y')\n",
    "plt.legend()\n",
    "plt.show()\n"
   ]
  },
  {
   "cell_type": "code",
   "execution_count": null,
   "metadata": {},
   "outputs": [],
   "source": []
  }
 ],
 "metadata": {
  "kernelspec": {
   "display_name": "venv_stackoverflow_src",
   "language": "python",
   "name": "python3"
  },
  "language_info": {
   "codemirror_mode": {
    "name": "ipython",
    "version": 3
   },
   "file_extension": ".py",
   "mimetype": "text/x-python",
   "name": "python",
   "nbconvert_exporter": "python",
   "pygments_lexer": "ipython3",
   "version": "3.10.12"
  }
 },
 "nbformat": 4,
 "nbformat_minor": 2
}
