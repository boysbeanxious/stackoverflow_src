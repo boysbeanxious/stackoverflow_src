{
 "cells": [
  {
   "cell_type": "code",
   "execution_count": 1,
   "metadata": {},
   "outputs": [],
   "source": [
    "# https://ppiazi.tistory.com/entry/python-cyclomatic-complexity-%EB%AA%A8%EB%93%88-lizard"
   ]
  },
  {
   "cell_type": "code",
   "execution_count": 2,
   "metadata": {},
   "outputs": [],
   "source": [
    "# https://github.com/terryyin/lizard"
   ]
  },
  {
   "cell_type": "code",
   "execution_count": 3,
   "metadata": {},
   "outputs": [],
   "source": [
    "# pip install cognitive_complexity"
   ]
  },
  {
   "cell_type": "code",
   "execution_count": 4,
   "metadata": {},
   "outputs": [],
   "source": [
    "#customized preprocessing pkg\n",
    "import preprocess as pp\n",
    "import pandas as pd\n",
    "import numpy as np\n",
    "import pickle\n",
    "import ast\n",
    "from cognitive_complexity.api import get_cognitive_complexity\n",
    "import pprint"
   ]
  },
  {
   "cell_type": "code",
   "execution_count": 5,
   "metadata": {},
   "outputs": [],
   "source": [
    "# 파일 불러오기\n",
    "with open('../../data/complexity_df.pkl', 'rb') as f:\n",
    "    complexity_df = pickle.load(f)"
   ]
  },
  {
   "cell_type": "code",
   "execution_count": 6,
   "metadata": {},
   "outputs": [],
   "source": [
    "# 파일 불러오기\n",
    "with open('../../data/complexity_python_df.pkl', 'rb') as f:\n",
    "    complexity_python_df = pickle.load(f)"
   ]
  },
  {
   "cell_type": "code",
   "execution_count": 7,
   "metadata": {},
   "outputs": [
    {
     "data": {
      "text/html": [
       "<div>\n",
       "<style scoped>\n",
       "    .dataframe tbody tr th:only-of-type {\n",
       "        vertical-align: middle;\n",
       "    }\n",
       "\n",
       "    .dataframe tbody tr th {\n",
       "        vertical-align: top;\n",
       "    }\n",
       "\n",
       "    .dataframe thead th {\n",
       "        text-align: right;\n",
       "    }\n",
       "</style>\n",
       "<table border=\"1\" class=\"dataframe\">\n",
       "  <thead>\n",
       "    <tr style=\"text-align: right;\">\n",
       "      <th></th>\n",
       "      <th>id</th>\n",
       "      <th>cdate</th>\n",
       "      <th>title</th>\n",
       "      <th>body</th>\n",
       "    </tr>\n",
       "  </thead>\n",
       "  <tbody>\n",
       "    <tr>\n",
       "      <th>0</th>\n",
       "      <td>74574281</td>\n",
       "      <td>2022-11-25</td>\n",
       "      <td>Multiple column sorting in multiindex dataframe</td>\n",
       "      <td>&lt;p&gt;I have the following dataframe:&lt;/p&gt;\\n&lt;pre&gt;&lt;...</td>\n",
       "    </tr>\n",
       "    <tr>\n",
       "      <th>1</th>\n",
       "      <td>74574291</td>\n",
       "      <td>2022-11-25</td>\n",
       "      <td>how do I make the independent variables column...</td>\n",
       "      <td>&lt;p&gt;how do I make the independent variables col...</td>\n",
       "    </tr>\n",
       "    <tr>\n",
       "      <th>2</th>\n",
       "      <td>74963435</td>\n",
       "      <td>2022-12-30</td>\n",
       "      <td>Draw a grid of cells using Matplotlib</td>\n",
       "      <td>&lt;p&gt;I'm trying to draw a grid of cells using Ma...</td>\n",
       "    </tr>\n",
       "    <tr>\n",
       "      <th>3</th>\n",
       "      <td>74963422</td>\n",
       "      <td>2022-12-30</td>\n",
       "      <td>Why can't my python tic tac toe game properly ...</td>\n",
       "      <td>&lt;p&gt;I'm new with this and I can't figure out ho...</td>\n",
       "    </tr>\n",
       "    <tr>\n",
       "      <th>4</th>\n",
       "      <td>74574306</td>\n",
       "      <td>2022-11-25</td>\n",
       "      <td>Add \"collection\" of attributes directly to top...</td>\n",
       "      <td>&lt;p&gt;I am trying to capture (S3) logs in a struc...</td>\n",
       "    </tr>\n",
       "  </tbody>\n",
       "</table>\n",
       "</div>"
      ],
      "text/plain": [
       "         id       cdate                                              title  \\\n",
       "0  74574281  2022-11-25    Multiple column sorting in multiindex dataframe   \n",
       "1  74574291  2022-11-25  how do I make the independent variables column...   \n",
       "2  74963435  2022-12-30              Draw a grid of cells using Matplotlib   \n",
       "3  74963422  2022-12-30  Why can't my python tic tac toe game properly ...   \n",
       "4  74574306  2022-11-25  Add \"collection\" of attributes directly to top...   \n",
       "\n",
       "                                                body  \n",
       "0  <p>I have the following dataframe:</p>\\n<pre><...  \n",
       "1  <p>how do I make the independent variables col...  \n",
       "2  <p>I'm trying to draw a grid of cells using Ma...  \n",
       "3  <p>I'm new with this and I can't figure out ho...  \n",
       "4  <p>I am trying to capture (S3) logs in a struc...  "
      ]
     },
     "execution_count": 7,
     "metadata": {},
     "output_type": "execute_result"
    }
   ],
   "source": [
    "complexity_python_df.head()"
   ]
  },
  {
   "cell_type": "code",
   "execution_count": 8,
   "metadata": {},
   "outputs": [
    {
     "data": {
      "text/plain": [
       "0        <p>I have the following dataframe:</p>\\n<pre><...\n",
       "1        <p>how do I make the independent variables col...\n",
       "2        <p>I'm trying to draw a grid of cells using Ma...\n",
       "3        <p>I'm new with this and I can't figure out ho...\n",
       "4        <p>I am trying to capture (S3) logs in a struc...\n",
       "                               ...                        \n",
       "37535    <p>Let us say I have a class called Calculator...\n",
       "37536    <p>I have a  MacBook air and have tried openin...\n",
       "37537    <p>I have the following problem set which I ha...\n",
       "37538    <p>I want to implement a page with check boxes...\n",
       "37539    <p>I am learning python and have the following...\n",
       "Name: body, Length: 37540, dtype: object"
      ]
     },
     "execution_count": 8,
     "metadata": {},
     "output_type": "execute_result"
    }
   ],
   "source": [
    "complexity_python_df['body']"
   ]
  },
  {
   "cell_type": "code",
   "execution_count": 9,
   "metadata": {},
   "outputs": [],
   "source": [
    "htmlp = pp.HTMLParser()\n",
    "codep = pp.CodeSectionParser()"
   ]
  },
  {
   "cell_type": "code",
   "execution_count": 10,
   "metadata": {},
   "outputs": [],
   "source": [
    "complexity_python_df['c_h_body'] = complexity_python_df['body'].apply(lambda x : htmlp.clean_html_str(x))"
   ]
  },
  {
   "cell_type": "code",
   "execution_count": 11,
   "metadata": {},
   "outputs": [
    {
     "name": "stdout",
     "output_type": "stream",
     "text": [
      "<class 'pandas.core.frame.DataFrame'>\n",
      "RangeIndex: 37540 entries, 0 to 37539\n",
      "Data columns (total 5 columns):\n",
      " #   Column    Non-Null Count  Dtype \n",
      "---  ------    --------------  ----- \n",
      " 0   id        37540 non-null  int64 \n",
      " 1   cdate     37540 non-null  object\n",
      " 2   title     37540 non-null  object\n",
      " 3   body      37540 non-null  object\n",
      " 4   c_h_body  37540 non-null  object\n",
      "dtypes: int64(1), object(4)\n",
      "memory usage: 1.4+ MB\n"
     ]
    }
   ],
   "source": [
    "complexity_python_df.info()"
   ]
  },
  {
   "cell_type": "code",
   "execution_count": 12,
   "metadata": {},
   "outputs": [],
   "source": [
    "complexity_python_df['c_body'] = complexity_python_df['body'].apply(lambda x : codep(x))"
   ]
  },
  {
   "cell_type": "code",
   "execution_count": 13,
   "metadata": {},
   "outputs": [
    {
     "data": {
      "text/html": [
       "<div>\n",
       "<style scoped>\n",
       "    .dataframe tbody tr th:only-of-type {\n",
       "        vertical-align: middle;\n",
       "    }\n",
       "\n",
       "    .dataframe tbody tr th {\n",
       "        vertical-align: top;\n",
       "    }\n",
       "\n",
       "    .dataframe thead th {\n",
       "        text-align: right;\n",
       "    }\n",
       "</style>\n",
       "<table border=\"1\" class=\"dataframe\">\n",
       "  <thead>\n",
       "    <tr style=\"text-align: right;\">\n",
       "      <th></th>\n",
       "      <th>id</th>\n",
       "      <th>cdate</th>\n",
       "      <th>title</th>\n",
       "      <th>body</th>\n",
       "      <th>c_h_body</th>\n",
       "      <th>c_body</th>\n",
       "    </tr>\n",
       "  </thead>\n",
       "  <tbody>\n",
       "    <tr>\n",
       "      <th>0</th>\n",
       "      <td>74574281</td>\n",
       "      <td>2022-11-25</td>\n",
       "      <td>Multiple column sorting in multiindex dataframe</td>\n",
       "      <td>&lt;p&gt;I have the following dataframe:&lt;/p&gt;\\n&lt;pre&gt;&lt;...</td>\n",
       "      <td>I have the following dataframe:\\ndic = {'US':{...</td>\n",
       "      <td>{'code_sections': [{'off_beg': 50, 'off_end': ...</td>\n",
       "    </tr>\n",
       "    <tr>\n",
       "      <th>1</th>\n",
       "      <td>74574291</td>\n",
       "      <td>2022-11-25</td>\n",
       "      <td>how do I make the independent variables column...</td>\n",
       "      <td>&lt;p&gt;how do I make the independent variables col...</td>\n",
       "      <td>how do I make the independent variables column...</td>\n",
       "      <td>{'code_sections': []}</td>\n",
       "    </tr>\n",
       "    <tr>\n",
       "      <th>2</th>\n",
       "      <td>74963435</td>\n",
       "      <td>2022-12-30</td>\n",
       "      <td>Draw a grid of cells using Matplotlib</td>\n",
       "      <td>&lt;p&gt;I'm trying to draw a grid of cells using Ma...</td>\n",
       "      <td>I'm trying to draw a grid of cells using Matpl...</td>\n",
       "      <td>{'code_sections': []}</td>\n",
       "    </tr>\n",
       "    <tr>\n",
       "      <th>3</th>\n",
       "      <td>74963422</td>\n",
       "      <td>2022-12-30</td>\n",
       "      <td>Why can't my python tic tac toe game properly ...</td>\n",
       "      <td>&lt;p&gt;I'm new with this and I can't figure out ho...</td>\n",
       "      <td>I'm new with this and I can't figure out how t...</td>\n",
       "      <td>{'code_sections': []}</td>\n",
       "    </tr>\n",
       "    <tr>\n",
       "      <th>4</th>\n",
       "      <td>74574306</td>\n",
       "      <td>2022-11-25</td>\n",
       "      <td>Add \"collection\" of attributes directly to top...</td>\n",
       "      <td>&lt;p&gt;I am trying to capture (S3) logs in a struc...</td>\n",
       "      <td>I am trying to capture (S3) logs in a structur...</td>\n",
       "      <td>{'code_sections': []}</td>\n",
       "    </tr>\n",
       "    <tr>\n",
       "      <th>...</th>\n",
       "      <td>...</td>\n",
       "      <td>...</td>\n",
       "      <td>...</td>\n",
       "      <td>...</td>\n",
       "      <td>...</td>\n",
       "      <td>...</td>\n",
       "    </tr>\n",
       "    <tr>\n",
       "      <th>37535</th>\n",
       "      <td>74270286</td>\n",
       "      <td>2022-11-01</td>\n",
       "      <td>How to heapify heapq based on multiple conditi...</td>\n",
       "      <td>&lt;p&gt;Let us say I have a class called Calculator...</td>\n",
       "      <td>Let us say I have a class called Calculator, w...</td>\n",
       "      <td>{'code_sections': [{'off_beg': 620, 'off_end':...</td>\n",
       "    </tr>\n",
       "    <tr>\n",
       "      <th>37536</th>\n",
       "      <td>74270287</td>\n",
       "      <td>2022-11-01</td>\n",
       "      <td>opening Python script mode on a mac</td>\n",
       "      <td>&lt;p&gt;I have a  MacBook air and have tried openin...</td>\n",
       "      <td>I have a  MacBook air and have tried opening P...</td>\n",
       "      <td>{'code_sections': []}</td>\n",
       "    </tr>\n",
       "    <tr>\n",
       "      <th>37537</th>\n",
       "      <td>74270302</td>\n",
       "      <td>2022-11-01</td>\n",
       "      <td>Python fill empty cells in dataframe based on ...</td>\n",
       "      <td>&lt;p&gt;I have the following problem set which I ha...</td>\n",
       "      <td>I have the following problem set which I have ...</td>\n",
       "      <td>{'code_sections': []}</td>\n",
       "    </tr>\n",
       "    <tr>\n",
       "      <th>37538</th>\n",
       "      <td>74270323</td>\n",
       "      <td>2022-11-01</td>\n",
       "      <td>How to filter in HTML using a field from model?</td>\n",
       "      <td>&lt;p&gt;I want to implement a page with check boxes...</td>\n",
       "      <td>I want to implement a page with check boxes fr...</td>\n",
       "      <td>{'code_sections': []}</td>\n",
       "    </tr>\n",
       "    <tr>\n",
       "      <th>37539</th>\n",
       "      <td>74283683</td>\n",
       "      <td>2022-11-02</td>\n",
       "      <td>EOF Error occurs when trying to give a user input</td>\n",
       "      <td>&lt;p&gt;I am learning python and have the following...</td>\n",
       "      <td>I am learning python and have the following co...</td>\n",
       "      <td>{'code_sections': [{'off_beg': 79, 'off_end': ...</td>\n",
       "    </tr>\n",
       "  </tbody>\n",
       "</table>\n",
       "<p>37540 rows × 6 columns</p>\n",
       "</div>"
      ],
      "text/plain": [
       "             id       cdate  \\\n",
       "0      74574281  2022-11-25   \n",
       "1      74574291  2022-11-25   \n",
       "2      74963435  2022-12-30   \n",
       "3      74963422  2022-12-30   \n",
       "4      74574306  2022-11-25   \n",
       "...         ...         ...   \n",
       "37535  74270286  2022-11-01   \n",
       "37536  74270287  2022-11-01   \n",
       "37537  74270302  2022-11-01   \n",
       "37538  74270323  2022-11-01   \n",
       "37539  74283683  2022-11-02   \n",
       "\n",
       "                                                   title  \\\n",
       "0        Multiple column sorting in multiindex dataframe   \n",
       "1      how do I make the independent variables column...   \n",
       "2                  Draw a grid of cells using Matplotlib   \n",
       "3      Why can't my python tic tac toe game properly ...   \n",
       "4      Add \"collection\" of attributes directly to top...   \n",
       "...                                                  ...   \n",
       "37535  How to heapify heapq based on multiple conditi...   \n",
       "37536                opening Python script mode on a mac   \n",
       "37537  Python fill empty cells in dataframe based on ...   \n",
       "37538    How to filter in HTML using a field from model?   \n",
       "37539  EOF Error occurs when trying to give a user input   \n",
       "\n",
       "                                                    body  \\\n",
       "0      <p>I have the following dataframe:</p>\\n<pre><...   \n",
       "1      <p>how do I make the independent variables col...   \n",
       "2      <p>I'm trying to draw a grid of cells using Ma...   \n",
       "3      <p>I'm new with this and I can't figure out ho...   \n",
       "4      <p>I am trying to capture (S3) logs in a struc...   \n",
       "...                                                  ...   \n",
       "37535  <p>Let us say I have a class called Calculator...   \n",
       "37536  <p>I have a  MacBook air and have tried openin...   \n",
       "37537  <p>I have the following problem set which I ha...   \n",
       "37538  <p>I want to implement a page with check boxes...   \n",
       "37539  <p>I am learning python and have the following...   \n",
       "\n",
       "                                                c_h_body  \\\n",
       "0      I have the following dataframe:\\ndic = {'US':{...   \n",
       "1      how do I make the independent variables column...   \n",
       "2      I'm trying to draw a grid of cells using Matpl...   \n",
       "3      I'm new with this and I can't figure out how t...   \n",
       "4      I am trying to capture (S3) logs in a structur...   \n",
       "...                                                  ...   \n",
       "37535  Let us say I have a class called Calculator, w...   \n",
       "37536  I have a  MacBook air and have tried opening P...   \n",
       "37537  I have the following problem set which I have ...   \n",
       "37538  I want to implement a page with check boxes fr...   \n",
       "37539  I am learning python and have the following co...   \n",
       "\n",
       "                                                  c_body  \n",
       "0      {'code_sections': [{'off_beg': 50, 'off_end': ...  \n",
       "1                                  {'code_sections': []}  \n",
       "2                                  {'code_sections': []}  \n",
       "3                                  {'code_sections': []}  \n",
       "4                                  {'code_sections': []}  \n",
       "...                                                  ...  \n",
       "37535  {'code_sections': [{'off_beg': 620, 'off_end':...  \n",
       "37536                              {'code_sections': []}  \n",
       "37537                              {'code_sections': []}  \n",
       "37538                              {'code_sections': []}  \n",
       "37539  {'code_sections': [{'off_beg': 79, 'off_end': ...  \n",
       "\n",
       "[37540 rows x 6 columns]"
      ]
     },
     "execution_count": 13,
     "metadata": {},
     "output_type": "execute_result"
    }
   ],
   "source": [
    "complexity_python_df"
   ]
  },
  {
   "cell_type": "code",
   "execution_count": 14,
   "metadata": {},
   "outputs": [],
   "source": [
    "complexity_python_src = complexity_python_df[['id', 'c_body']]"
   ]
  },
  {
   "cell_type": "code",
   "execution_count": 15,
   "metadata": {},
   "outputs": [
    {
     "name": "stderr",
     "output_type": "stream",
     "text": [
      "/tmp/ipykernel_2583043/2692464613.py:1: SettingWithCopyWarning: \n",
      "A value is trying to be set on a copy of a slice from a DataFrame.\n",
      "Try using .loc[row_indexer,col_indexer] = value instead\n",
      "\n",
      "See the caveats in the documentation: https://pandas.pydata.org/pandas-docs/stable/user_guide/indexing.html#returning-a-view-versus-a-copy\n",
      "  complexity_python_src['code_len'] = complexity_python_src['c_body'].apply(lambda x: len(x['code_sections']))\n"
     ]
    }
   ],
   "source": [
    "complexity_python_src['code_len'] = complexity_python_src['c_body'].apply(lambda x: len(x['code_sections']))"
   ]
  },
  {
   "cell_type": "code",
   "execution_count": 16,
   "metadata": {},
   "outputs": [],
   "source": [
    "complexity_python_src = complexity_python_src[complexity_python_src['code_len']>0]"
   ]
  },
  {
   "cell_type": "code",
   "execution_count": 17,
   "metadata": {},
   "outputs": [
    {
     "data": {
      "text/html": [
       "<div>\n",
       "<style scoped>\n",
       "    .dataframe tbody tr th:only-of-type {\n",
       "        vertical-align: middle;\n",
       "    }\n",
       "\n",
       "    .dataframe tbody tr th {\n",
       "        vertical-align: top;\n",
       "    }\n",
       "\n",
       "    .dataframe thead th {\n",
       "        text-align: right;\n",
       "    }\n",
       "</style>\n",
       "<table border=\"1\" class=\"dataframe\">\n",
       "  <thead>\n",
       "    <tr style=\"text-align: right;\">\n",
       "      <th></th>\n",
       "      <th>id</th>\n",
       "      <th>c_body</th>\n",
       "      <th>code_len</th>\n",
       "    </tr>\n",
       "  </thead>\n",
       "  <tbody>\n",
       "    <tr>\n",
       "      <th>0</th>\n",
       "      <td>74574281</td>\n",
       "      <td>{'code_sections': [{'off_beg': 50, 'off_end': ...</td>\n",
       "      <td>2</td>\n",
       "    </tr>\n",
       "    <tr>\n",
       "      <th>5</th>\n",
       "      <td>74574312</td>\n",
       "      <td>{'code_sections': [{'off_beg': 130, 'off_end':...</td>\n",
       "      <td>1</td>\n",
       "    </tr>\n",
       "    <tr>\n",
       "      <th>6</th>\n",
       "      <td>74963438</td>\n",
       "      <td>{'code_sections': [{'off_beg': 376, 'off_end':...</td>\n",
       "      <td>1</td>\n",
       "    </tr>\n",
       "    <tr>\n",
       "      <th>7</th>\n",
       "      <td>74963448</td>\n",
       "      <td>{'code_sections': [{'off_beg': 389, 'off_end':...</td>\n",
       "      <td>3</td>\n",
       "    </tr>\n",
       "    <tr>\n",
       "      <th>11</th>\n",
       "      <td>74963539</td>\n",
       "      <td>{'code_sections': [{'off_beg': 439, 'off_end':...</td>\n",
       "      <td>3</td>\n",
       "    </tr>\n",
       "  </tbody>\n",
       "</table>\n",
       "</div>"
      ],
      "text/plain": [
       "          id                                             c_body  code_len\n",
       "0   74574281  {'code_sections': [{'off_beg': 50, 'off_end': ...         2\n",
       "5   74574312  {'code_sections': [{'off_beg': 130, 'off_end':...         1\n",
       "6   74963438  {'code_sections': [{'off_beg': 376, 'off_end':...         1\n",
       "7   74963448  {'code_sections': [{'off_beg': 389, 'off_end':...         3\n",
       "11  74963539  {'code_sections': [{'off_beg': 439, 'off_end':...         3"
      ]
     },
     "execution_count": 17,
     "metadata": {},
     "output_type": "execute_result"
    }
   ],
   "source": [
    "complexity_python_src.head(5)"
   ]
  },
  {
   "cell_type": "code",
   "execution_count": 18,
   "metadata": {},
   "outputs": [],
   "source": []
  },
  {
   "cell_type": "code",
   "execution_count": 28,
   "metadata": {},
   "outputs": [],
   "source": [
    "src_df = pd.DataFrame(columns = ['id', 'src'])\n",
    "def code_explode(row) : \n",
    "    global src_df\n",
    "    row['id']\n",
    "    src_arr = []\n",
    "    for i in range(row['code_len']):\n",
    "        tmp_src_arr = []\n",
    "        tmp_src_arr.append(row['id'])\n",
    "        tmp_src_arr.append(row['c_body']['code_sections'][i]['span_str'])\n",
    "        src_df = src_df.append(pd.Series(tmp_src_arr, index=src_df.columns), ignore_index=True)\n",
    "    return True\n",
    "        "
   ]
  },
  {
   "cell_type": "code",
   "execution_count": 29,
   "metadata": {},
   "outputs": [
    {
     "data": {
      "text/plain": [
       "0        True\n",
       "5        True\n",
       "6        True\n",
       "7        True\n",
       "11       True\n",
       "         ... \n",
       "37532    True\n",
       "37533    True\n",
       "37534    True\n",
       "37535    True\n",
       "37539    True\n",
       "Length: 28207, dtype: bool"
      ]
     },
     "execution_count": 29,
     "metadata": {},
     "output_type": "execute_result"
    }
   ],
   "source": [
    "# bert_src_ex = bert_src[['q_id', 'q_prep_text']].apply(pd.Series.explode)\n",
    "complexity_python_src.apply(code_explode, axis = 1)"
   ]
  },
  {
   "cell_type": "code",
   "execution_count": 51,
   "metadata": {},
   "outputs": [],
   "source": [
    "src_df.reset_index(inplace=True)"
   ]
  },
  {
   "cell_type": "code",
   "execution_count": 52,
   "metadata": {},
   "outputs": [
    {
     "data": {
      "text/html": [
       "<div>\n",
       "<style scoped>\n",
       "    .dataframe tbody tr th:only-of-type {\n",
       "        vertical-align: middle;\n",
       "    }\n",
       "\n",
       "    .dataframe tbody tr th {\n",
       "        vertical-align: top;\n",
       "    }\n",
       "\n",
       "    .dataframe thead th {\n",
       "        text-align: right;\n",
       "    }\n",
       "</style>\n",
       "<table border=\"1\" class=\"dataframe\">\n",
       "  <thead>\n",
       "    <tr style=\"text-align: right;\">\n",
       "      <th></th>\n",
       "      <th>index</th>\n",
       "      <th>id</th>\n",
       "      <th>src</th>\n",
       "    </tr>\n",
       "  </thead>\n",
       "  <tbody>\n",
       "    <tr>\n",
       "      <th>0</th>\n",
       "      <td>0</td>\n",
       "      <td>74574281</td>\n",
       "      <td>dic = {'US':{'Traffic':{'new':1415, 'repeat':6...</td>\n",
       "    </tr>\n",
       "    <tr>\n",
       "      <th>1</th>\n",
       "      <td>1</td>\n",
       "      <td>74574281</td>\n",
       "      <td>df.sort_values(by = ['Mode', 'Symbol'], ascend...</td>\n",
       "    </tr>\n",
       "    <tr>\n",
       "      <th>2</th>\n",
       "      <td>2</td>\n",
       "      <td>74574312</td>\n",
       "      <td>tries = 0\\nNumbers = \"Hello world\"\\nfor x in N...</td>\n",
       "    </tr>\n",
       "    <tr>\n",
       "      <th>3</th>\n",
       "      <td>3</td>\n",
       "      <td>74963438</td>\n",
       "      <td>from zipfile import ZipFile\\nfrom glob import ...</td>\n",
       "    </tr>\n",
       "    <tr>\n",
       "      <th>4</th>\n",
       "      <td>4</td>\n",
       "      <td>74963448</td>\n",
       "      <td>FortiGate-60F # sh sys admin\\nsh sys admin\\nco...</td>\n",
       "    </tr>\n",
       "  </tbody>\n",
       "</table>\n",
       "</div>"
      ],
      "text/plain": [
       "   index        id                                                src\n",
       "0      0  74574281  dic = {'US':{'Traffic':{'new':1415, 'repeat':6...\n",
       "1      1  74574281  df.sort_values(by = ['Mode', 'Symbol'], ascend...\n",
       "2      2  74574312  tries = 0\\nNumbers = \"Hello world\"\\nfor x in N...\n",
       "3      3  74963438  from zipfile import ZipFile\\nfrom glob import ...\n",
       "4      4  74963448  FortiGate-60F # sh sys admin\\nsh sys admin\\nco..."
      ]
     },
     "execution_count": 52,
     "metadata": {},
     "output_type": "execute_result"
    }
   ],
   "source": [
    "src_df.head()"
   ]
  },
  {
   "cell_type": "code",
   "execution_count": 74,
   "metadata": {},
   "outputs": [
    {
     "data": {
      "text/plain": [
       "range(0, 57110)"
      ]
     },
     "execution_count": 74,
     "metadata": {},
     "output_type": "execute_result"
    }
   ],
   "source": []
  },
  {
   "cell_type": "code",
   "execution_count": 60,
   "metadata": {},
   "outputs": [],
   "source": [
    "for i in range(src_df.shape[0]):\n",
    "    idx = src_df.iloc[i, 0]\n",
    "    qid = src_df.iloc[i, 1]\n",
    "    src = src_df.iloc[i, 2]\n",
    "    file_nm = str(idx)+'_' + str(qid)+'.py'\n",
    "    with open('../../data/src/'+file_nm, 'wb') as f:\n",
    "        f.write(src.encode())\n"
   ]
  },
  {
   "cell_type": "code",
   "execution_count": 61,
   "metadata": {},
   "outputs": [],
   "source": [
    "# https://github.com/rohaquinlop/complexipy"
   ]
  },
  {
   "cell_type": "code",
   "execution_count": 62,
   "metadata": {},
   "outputs": [],
   "source": [
    "# pip install complexipy"
   ]
  },
  {
   "cell_type": "code",
   "execution_count": 72,
   "metadata": {},
   "outputs": [
    {
     "name": "stdout",
     "output_type": "stream",
     "text": [
      "\u001b[92m───────────────────────────── \u001b[0m🐙 complexipy \u001b[1;36m0.4\u001b[0m.\u001b[1;36m0\u001b[0m\u001b[92m ──────────────────────────────\u001b[0m\n",
      "\u001b[2K\u001b[32m\u001b[0m [00:00:00] \u001b[36m########################################\u001b[34m\u001b[0m\u001b[0m      10/10                 :54:ad '<unnamed>' panicked at src/cognitive_complexity/mod.rs:149\n",
      "called `Result::unwrap()` on an `Err` value: BaseError { error: UnrecognizedToken(Name { name: \"F\" }, None), offset: 12, source_path: \"<embedded>\" }\n",
      "thread 'note: run with `RUST_BACKTRACE=1` environment variable to display a backtrace\n",
      "<unnamed>' panicked at src/cognitive_complexity/mod.rs:149:54:\n",
      "\u001b[2K\u001b[32m\u001b[0m [00:00:00] \u001b[36m########################################\u001b[34m\u001b[0m\u001b[0m      10/10                 thread 'thread 'ource_path: \"<embedded>\" }\n",
      "\u001b[2K\u001b[32m\u001b[0m [00:00:00] \u001b[36m########################################\u001b[34m\u001b[0m\u001b[0m      10/10                 :149149::5454:\n",
      ":\n",
      "called `Result::unwrap()` on an `Err` value: BaseError { error: UnrecognizedToken(PlusEqual, None), offset: 104, source_path: \"<embedded>\" }called `Result::unwrap()` on an `Err` value: BaseError { error: UnrecognizedToken(Name { name: \"Response\" }, None), offset: 10, source_path: \"<embedded>\" }\n",
      "\n",
      "thread '<unnamed>' panicked at src/cognitive_complexity/mod.rs:149:54:\n",
      "called `Result::unwrap()` on an `Err` value: BaseError { error: UnrecognizedToken(Name { name: \"F\" }, None), offset: 12, source_path: \"<embedded>\" }\n",
      "\u001b[2K\u001b[32m\u001b[0m [00:00:00] \u001b[36m########################################\u001b[34m\u001b[0m\u001b[0m      10/10                 thread '<unnamed>' panicked at src/cognitive_complexity/mod.rs:149:54:\n",
      "called `Result::unwrap()` on an `Err` value: BaseError { error: UnrecognizedToken(Semi, None), offset: 2460, source_path: \"<embedded>\" }\n",
      "Traceback (most recent call last):\n",
      "  File \"/home/mghan/.local/bin/complexipy\", line 8, in <module>\n",
      "    sys.exit(app())\n",
      "  File \"/home/mghan/.local/lib/python3.10/site-packages/typer/main.py\", line 321, in __call__\n",
      "    return get_command(self)(*args, **kwargs)\n",
      "  File \"/usr/lib/python3/dist-packages/click/core.py\", line 1128, in __call__\n",
      "    return self.main(*args, **kwargs)\n",
      "  File \"/home/mghan/.local/lib/python3.10/site-packages/typer/core.py\", line 665, in main\n",
      "    return _main(\n",
      "  File \"/home/mghan/.local/lib/python3.10/site-packages/typer/core.py\", line 197, in _main\n",
      "    rv = self.invoke(ctx)\n",
      "  File \"/usr/lib/python3/dist-packages/click/core.py\", line 1395, in invoke\n",
      "    return ctx.invoke(self.callback, **ctx.params)\n",
      "  File \"/usr/lib/python3/dist-packages/click/core.py\", line 754, in invoke\n",
      "    return __callback(*args, **kwargs)\n",
      "  File \"/home/mghan/.local/lib/python3.10/site-packages/typer/main.py\", line 703, in wrapper\n",
      "    return callback(**use_params)\n",
      "  File \"/home/mghan/.local/lib/python3.10/site-packages/complexipy/main.py\", line 80, in main\n",
      "    files: list[FileComplexity] = rust.main(\n",
      "pyo3_runtime.PanicException: called `Result::unwrap()` on an `Err` value: BaseError { error: UnrecognizedToken(Name { name: \"Response\" }, None), offset: 10, source_path: \"<embedded>\" }\n"
     ]
    }
   ],
   "source": [
    "!complexipy /home/mghan/sopjt/git/data/src/3_74963438.py -l file"
   ]
  },
  {
   "cell_type": "code",
   "execution_count": 28,
   "metadata": {},
   "outputs": [],
   "source": [
    "# cyclomatic은 모든 언어 가능 but cognitive는 언어별로 따로 분석해야함\n",
    "# 하려면 소나큐브 사야 함 \n",
    "# pyhon 기준으로는 조금 삽질하면 할 수 있을 듯.... 해보고 유의미하면 소나큐브 고?\n"
   ]
  },
  {
   "cell_type": "code",
   "execution_count": null,
   "metadata": {},
   "outputs": [],
   "source": []
  },
  {
   "cell_type": "code",
   "execution_count": null,
   "metadata": {},
   "outputs": [],
   "source": []
  }
 ],
 "metadata": {
  "kernelspec": {
   "display_name": "Python 3",
   "language": "python",
   "name": "python3"
  },
  "language_info": {
   "codemirror_mode": {
    "name": "ipython",
    "version": 3
   },
   "file_extension": ".py",
   "mimetype": "text/x-python",
   "name": "python",
   "nbconvert_exporter": "python",
   "pygments_lexer": "ipython3",
   "version": "3.10.12"
  }
 },
 "nbformat": 4,
 "nbformat_minor": 2
}
