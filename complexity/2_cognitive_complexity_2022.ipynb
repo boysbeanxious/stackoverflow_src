{
 "cells": [
  {
   "cell_type": "code",
   "execution_count": 1,
   "metadata": {},
   "outputs": [],
   "source": [
    "# https://ppiazi.tistory.com/entry/python-cyclomatic-complexity-%EB%AA%A8%EB%93%88-lizard"
   ]
  },
  {
   "cell_type": "code",
   "execution_count": 2,
   "metadata": {},
   "outputs": [],
   "source": [
    "# https://github.com/terryyin/lizard"
   ]
  },
  {
   "cell_type": "code",
   "execution_count": 3,
   "metadata": {},
   "outputs": [],
   "source": [
    "# pip install cognitive_complexity"
   ]
  },
  {
   "cell_type": "code",
   "execution_count": 2,
   "metadata": {},
   "outputs": [],
   "source": [
    "#customized preprocessing pkg\n",
    "import preprocess as pp\n",
    "import pandas as pd\n",
    "import numpy as np\n",
    "import pickle\n",
    "import ast\n",
    "from cognitive_complexity.api import get_cognitive_complexity\n",
    "import pprint\n",
    "import os\n",
    "import matplotlib.pyplot as plt\n",
    "import matplotlib.ticker as ticker"
   ]
  },
  {
   "cell_type": "code",
   "execution_count": 3,
   "metadata": {},
   "outputs": [],
   "source": [
    "input_year = '2022'"
   ]
  },
  {
   "cell_type": "markdown",
   "metadata": {},
   "source": [
    "### 소스코드 complexity 계산"
   ]
  },
  {
   "cell_type": "code",
   "execution_count": 3,
   "metadata": {},
   "outputs": [],
   "source": [
    "# 파일 불러오기\n",
    "with open(f'../../data/complexity_python_df_{input_year}.pkl', 'rb') as f:\n",
    "    complexity_python_df = pickle.load(f)"
   ]
  },
  {
   "cell_type": "code",
   "execution_count": 4,
   "metadata": {},
   "outputs": [
    {
     "data": {
      "text/html": [
       "<div>\n",
       "<style scoped>\n",
       "    .dataframe tbody tr th:only-of-type {\n",
       "        vertical-align: middle;\n",
       "    }\n",
       "\n",
       "    .dataframe tbody tr th {\n",
       "        vertical-align: top;\n",
       "    }\n",
       "\n",
       "    .dataframe thead th {\n",
       "        text-align: right;\n",
       "    }\n",
       "</style>\n",
       "<table border=\"1\" class=\"dataframe\">\n",
       "  <thead>\n",
       "    <tr style=\"text-align: right;\">\n",
       "      <th></th>\n",
       "      <th>id</th>\n",
       "      <th>cdate</th>\n",
       "      <th>title</th>\n",
       "      <th>body</th>\n",
       "    </tr>\n",
       "  </thead>\n",
       "  <tbody>\n",
       "    <tr>\n",
       "      <th>0</th>\n",
       "      <td>74935859</td>\n",
       "      <td>2022-12-28</td>\n",
       "      <td>Is it possible to print the match of a re.sear...</td>\n",
       "      <td>&lt;p&gt;I need to keep my regex search in an if sta...</td>\n",
       "    </tr>\n",
       "    <tr>\n",
       "      <th>1</th>\n",
       "      <td>74574281</td>\n",
       "      <td>2022-11-25</td>\n",
       "      <td>Multiple column sorting in multiindex dataframe</td>\n",
       "      <td>&lt;p&gt;I have the following dataframe:&lt;/p&gt;\\n&lt;pre&gt;&lt;...</td>\n",
       "    </tr>\n",
       "    <tr>\n",
       "      <th>2</th>\n",
       "      <td>74574291</td>\n",
       "      <td>2022-11-25</td>\n",
       "      <td>how do I make the independent variables column...</td>\n",
       "      <td>&lt;p&gt;how do I make the independent variables col...</td>\n",
       "    </tr>\n",
       "    <tr>\n",
       "      <th>3</th>\n",
       "      <td>74574306</td>\n",
       "      <td>2022-11-25</td>\n",
       "      <td>Add \"collection\" of attributes directly to top...</td>\n",
       "      <td>&lt;p&gt;I am trying to capture (S3) logs in a struc...</td>\n",
       "    </tr>\n",
       "    <tr>\n",
       "      <th>4</th>\n",
       "      <td>74574312</td>\n",
       "      <td>2022-11-25</td>\n",
       "      <td>How to use inline if statement</td>\n",
       "      <td>&lt;p&gt;am fairly new to programming and i don't ge...</td>\n",
       "    </tr>\n",
       "  </tbody>\n",
       "</table>\n",
       "</div>"
      ],
      "text/plain": [
       "         id       cdate                                              title  \\\n",
       "0  74935859  2022-12-28  Is it possible to print the match of a re.sear...   \n",
       "1  74574281  2022-11-25    Multiple column sorting in multiindex dataframe   \n",
       "2  74574291  2022-11-25  how do I make the independent variables column...   \n",
       "3  74574306  2022-11-25  Add \"collection\" of attributes directly to top...   \n",
       "4  74574312  2022-11-25                     How to use inline if statement   \n",
       "\n",
       "                                                body  \n",
       "0  <p>I need to keep my regex search in an if sta...  \n",
       "1  <p>I have the following dataframe:</p>\\n<pre><...  \n",
       "2  <p>how do I make the independent variables col...  \n",
       "3  <p>I am trying to capture (S3) logs in a struc...  \n",
       "4  <p>am fairly new to programming and i don't ge...  "
      ]
     },
     "execution_count": 4,
     "metadata": {},
     "output_type": "execute_result"
    }
   ],
   "source": [
    "complexity_python_df.head()"
   ]
  },
  {
   "cell_type": "code",
   "execution_count": 5,
   "metadata": {},
   "outputs": [
    {
     "data": {
      "text/plain": [
       "'2022-12-31'"
      ]
     },
     "execution_count": 5,
     "metadata": {},
     "output_type": "execute_result"
    }
   ],
   "source": [
    "complexity_python_df['cdate'].max()"
   ]
  },
  {
   "cell_type": "code",
   "execution_count": 6,
   "metadata": {},
   "outputs": [],
   "source": [
    "htmlp = pp.HTMLParser()\n",
    "codep = pp.CodeSectionParser()"
   ]
  },
  {
   "cell_type": "code",
   "execution_count": 7,
   "metadata": {},
   "outputs": [],
   "source": [
    "complexity_python_df['c_h_body'] = complexity_python_df['body'].apply(lambda x : htmlp.clean_html_str(x))"
   ]
  },
  {
   "cell_type": "code",
   "execution_count": 8,
   "metadata": {},
   "outputs": [
    {
     "name": "stdout",
     "output_type": "stream",
     "text": [
      "<class 'pandas.core.frame.DataFrame'>\n",
      "RangeIndex: 229120 entries, 0 to 229119\n",
      "Data columns (total 5 columns):\n",
      " #   Column    Non-Null Count   Dtype \n",
      "---  ------    --------------   ----- \n",
      " 0   id        229120 non-null  int64 \n",
      " 1   cdate     229120 non-null  object\n",
      " 2   title     229120 non-null  object\n",
      " 3   body      229120 non-null  object\n",
      " 4   c_h_body  229120 non-null  object\n",
      "dtypes: int64(1), object(4)\n",
      "memory usage: 8.7+ MB\n"
     ]
    }
   ],
   "source": [
    "complexity_python_df.info()"
   ]
  },
  {
   "cell_type": "code",
   "execution_count": 9,
   "metadata": {},
   "outputs": [],
   "source": [
    "complexity_python_df['c_body'] = complexity_python_df['body'].apply(lambda x : codep(x))"
   ]
  },
  {
   "cell_type": "code",
   "execution_count": 10,
   "metadata": {},
   "outputs": [
    {
     "data": {
      "text/html": [
       "<div>\n",
       "<style scoped>\n",
       "    .dataframe tbody tr th:only-of-type {\n",
       "        vertical-align: middle;\n",
       "    }\n",
       "\n",
       "    .dataframe tbody tr th {\n",
       "        vertical-align: top;\n",
       "    }\n",
       "\n",
       "    .dataframe thead th {\n",
       "        text-align: right;\n",
       "    }\n",
       "</style>\n",
       "<table border=\"1\" class=\"dataframe\">\n",
       "  <thead>\n",
       "    <tr style=\"text-align: right;\">\n",
       "      <th></th>\n",
       "      <th>id</th>\n",
       "      <th>cdate</th>\n",
       "      <th>title</th>\n",
       "      <th>body</th>\n",
       "      <th>c_h_body</th>\n",
       "      <th>c_body</th>\n",
       "    </tr>\n",
       "  </thead>\n",
       "  <tbody>\n",
       "    <tr>\n",
       "      <th>0</th>\n",
       "      <td>74935859</td>\n",
       "      <td>2022-12-28</td>\n",
       "      <td>Is it possible to print the match of a re.sear...</td>\n",
       "      <td>&lt;p&gt;I need to keep my regex search in an if sta...</td>\n",
       "      <td>I need to keep my regex search in an if statem...</td>\n",
       "      <td>{'code_sections': [{'off_beg': 130, 'off_end':...</td>\n",
       "    </tr>\n",
       "    <tr>\n",
       "      <th>1</th>\n",
       "      <td>74574281</td>\n",
       "      <td>2022-11-25</td>\n",
       "      <td>Multiple column sorting in multiindex dataframe</td>\n",
       "      <td>&lt;p&gt;I have the following dataframe:&lt;/p&gt;\\n&lt;pre&gt;&lt;...</td>\n",
       "      <td>I have the following dataframe:\\ndic = {'US':{...</td>\n",
       "      <td>{'code_sections': [{'off_beg': 50, 'off_end': ...</td>\n",
       "    </tr>\n",
       "    <tr>\n",
       "      <th>2</th>\n",
       "      <td>74574291</td>\n",
       "      <td>2022-11-25</td>\n",
       "      <td>how do I make the independent variables column...</td>\n",
       "      <td>&lt;p&gt;how do I make the independent variables col...</td>\n",
       "      <td>how do I make the independent variables column...</td>\n",
       "      <td>{'code_sections': []}</td>\n",
       "    </tr>\n",
       "    <tr>\n",
       "      <th>3</th>\n",
       "      <td>74574306</td>\n",
       "      <td>2022-11-25</td>\n",
       "      <td>Add \"collection\" of attributes directly to top...</td>\n",
       "      <td>&lt;p&gt;I am trying to capture (S3) logs in a struc...</td>\n",
       "      <td>I am trying to capture (S3) logs in a structur...</td>\n",
       "      <td>{'code_sections': []}</td>\n",
       "    </tr>\n",
       "    <tr>\n",
       "      <th>4</th>\n",
       "      <td>74574312</td>\n",
       "      <td>2022-11-25</td>\n",
       "      <td>How to use inline if statement</td>\n",
       "      <td>&lt;p&gt;am fairly new to programming and i don't ge...</td>\n",
       "      <td>am fairly new to programming and i don't get h...</td>\n",
       "      <td>{'code_sections': [{'off_beg': 130, 'off_end':...</td>\n",
       "    </tr>\n",
       "    <tr>\n",
       "      <th>...</th>\n",
       "      <td>...</td>\n",
       "      <td>...</td>\n",
       "      <td>...</td>\n",
       "      <td>...</td>\n",
       "      <td>...</td>\n",
       "      <td>...</td>\n",
       "    </tr>\n",
       "    <tr>\n",
       "      <th>229115</th>\n",
       "      <td>74788486</td>\n",
       "      <td>2022-12-13</td>\n",
       "      <td>Sqlite3 Python - Adding values to a column dep...</td>\n",
       "      <td>&lt;p&gt;I have the database CarSharing, which conta...</td>\n",
       "      <td>I have the database CarSharing, which contains...</td>\n",
       "      <td>{'code_sections': [{'off_beg': 87, 'off_end': ...</td>\n",
       "    </tr>\n",
       "    <tr>\n",
       "      <th>229116</th>\n",
       "      <td>74788516</td>\n",
       "      <td>2022-12-13</td>\n",
       "      <td>Why I am getting the wrong location after comp...</td>\n",
       "      <td>&lt;p&gt;My python code below computes the keypoint ...</td>\n",
       "      <td>My python code below computes the keypoint for...</td>\n",
       "      <td>{'code_sections': []}</td>\n",
       "    </tr>\n",
       "    <tr>\n",
       "      <th>229117</th>\n",
       "      <td>74788519</td>\n",
       "      <td>2022-12-13</td>\n",
       "      <td>print nothing after cursor of mysqldb</td>\n",
       "      <td>&lt;pre&gt;&lt;code&gt;import pymysql\\nimport MySQLdb\\nimp...</td>\n",
       "      <td>import pymysql\\nimport MySQLdb\\nimport MySQLdb...</td>\n",
       "      <td>{'code_sections': [{'off_beg': 11, 'off_end': ...</td>\n",
       "    </tr>\n",
       "    <tr>\n",
       "      <th>229118</th>\n",
       "      <td>74788521</td>\n",
       "      <td>2022-12-13</td>\n",
       "      <td>Unamed columns in excel imported file</td>\n",
       "      <td>&lt;p&gt;I imported a file ising &lt;code&gt;QA= pd.read_e...</td>\n",
       "      <td>I imported a file ising QA= pd.read_excel(\";/....</td>\n",
       "      <td>{'code_sections': []}</td>\n",
       "    </tr>\n",
       "    <tr>\n",
       "      <th>229119</th>\n",
       "      <td>74788529</td>\n",
       "      <td>2022-12-13</td>\n",
       "      <td>NotImplementedError: You should not call an ov...</td>\n",
       "      <td>&lt;pre&gt;&lt;code&gt;@overload\\ndef setSize(self,size:tu...</td>\n",
       "      <td>@overload\\ndef setSize(self,size:tuple[int|str...</td>\n",
       "      <td>{'code_sections': [{'off_beg': 11, 'off_end': ...</td>\n",
       "    </tr>\n",
       "  </tbody>\n",
       "</table>\n",
       "<p>229120 rows × 6 columns</p>\n",
       "</div>"
      ],
      "text/plain": [
       "              id       cdate  \\\n",
       "0       74935859  2022-12-28   \n",
       "1       74574281  2022-11-25   \n",
       "2       74574291  2022-11-25   \n",
       "3       74574306  2022-11-25   \n",
       "4       74574312  2022-11-25   \n",
       "...          ...         ...   \n",
       "229115  74788486  2022-12-13   \n",
       "229116  74788516  2022-12-13   \n",
       "229117  74788519  2022-12-13   \n",
       "229118  74788521  2022-12-13   \n",
       "229119  74788529  2022-12-13   \n",
       "\n",
       "                                                    title  \\\n",
       "0       Is it possible to print the match of a re.sear...   \n",
       "1         Multiple column sorting in multiindex dataframe   \n",
       "2       how do I make the independent variables column...   \n",
       "3       Add \"collection\" of attributes directly to top...   \n",
       "4                          How to use inline if statement   \n",
       "...                                                   ...   \n",
       "229115  Sqlite3 Python - Adding values to a column dep...   \n",
       "229116  Why I am getting the wrong location after comp...   \n",
       "229117              print nothing after cursor of mysqldb   \n",
       "229118              Unamed columns in excel imported file   \n",
       "229119  NotImplementedError: You should not call an ov...   \n",
       "\n",
       "                                                     body  \\\n",
       "0       <p>I need to keep my regex search in an if sta...   \n",
       "1       <p>I have the following dataframe:</p>\\n<pre><...   \n",
       "2       <p>how do I make the independent variables col...   \n",
       "3       <p>I am trying to capture (S3) logs in a struc...   \n",
       "4       <p>am fairly new to programming and i don't ge...   \n",
       "...                                                   ...   \n",
       "229115  <p>I have the database CarSharing, which conta...   \n",
       "229116  <p>My python code below computes the keypoint ...   \n",
       "229117  <pre><code>import pymysql\\nimport MySQLdb\\nimp...   \n",
       "229118  <p>I imported a file ising <code>QA= pd.read_e...   \n",
       "229119  <pre><code>@overload\\ndef setSize(self,size:tu...   \n",
       "\n",
       "                                                 c_h_body  \\\n",
       "0       I need to keep my regex search in an if statem...   \n",
       "1       I have the following dataframe:\\ndic = {'US':{...   \n",
       "2       how do I make the independent variables column...   \n",
       "3       I am trying to capture (S3) logs in a structur...   \n",
       "4       am fairly new to programming and i don't get h...   \n",
       "...                                                   ...   \n",
       "229115  I have the database CarSharing, which contains...   \n",
       "229116  My python code below computes the keypoint for...   \n",
       "229117  import pymysql\\nimport MySQLdb\\nimport MySQLdb...   \n",
       "229118  I imported a file ising QA= pd.read_excel(\";/....   \n",
       "229119  @overload\\ndef setSize(self,size:tuple[int|str...   \n",
       "\n",
       "                                                   c_body  \n",
       "0       {'code_sections': [{'off_beg': 130, 'off_end':...  \n",
       "1       {'code_sections': [{'off_beg': 50, 'off_end': ...  \n",
       "2                                   {'code_sections': []}  \n",
       "3                                   {'code_sections': []}  \n",
       "4       {'code_sections': [{'off_beg': 130, 'off_end':...  \n",
       "...                                                   ...  \n",
       "229115  {'code_sections': [{'off_beg': 87, 'off_end': ...  \n",
       "229116                              {'code_sections': []}  \n",
       "229117  {'code_sections': [{'off_beg': 11, 'off_end': ...  \n",
       "229118                              {'code_sections': []}  \n",
       "229119  {'code_sections': [{'off_beg': 11, 'off_end': ...  \n",
       "\n",
       "[229120 rows x 6 columns]"
      ]
     },
     "execution_count": 10,
     "metadata": {},
     "output_type": "execute_result"
    }
   ],
   "source": [
    "complexity_python_df"
   ]
  },
  {
   "cell_type": "code",
   "execution_count": 11,
   "metadata": {},
   "outputs": [],
   "source": [
    "complexity_python_src = complexity_python_df[['id', 'c_body']]"
   ]
  },
  {
   "cell_type": "code",
   "execution_count": 12,
   "metadata": {},
   "outputs": [
    {
     "name": "stderr",
     "output_type": "stream",
     "text": [
      "/tmp/ipykernel_2112403/2692464613.py:1: SettingWithCopyWarning: \n",
      "A value is trying to be set on a copy of a slice from a DataFrame.\n",
      "Try using .loc[row_indexer,col_indexer] = value instead\n",
      "\n",
      "See the caveats in the documentation: https://pandas.pydata.org/pandas-docs/stable/user_guide/indexing.html#returning-a-view-versus-a-copy\n",
      "  complexity_python_src['code_len'] = complexity_python_src['c_body'].apply(lambda x: len(x['code_sections']))\n"
     ]
    }
   ],
   "source": [
    "complexity_python_src['code_len'] = complexity_python_src['c_body'].apply(lambda x: len(x['code_sections']))"
   ]
  },
  {
   "cell_type": "code",
   "execution_count": 13,
   "metadata": {},
   "outputs": [],
   "source": [
    "complexity_python_src = complexity_python_src[complexity_python_src['code_len']>0]"
   ]
  },
  {
   "cell_type": "code",
   "execution_count": 14,
   "metadata": {},
   "outputs": [
    {
     "data": {
      "text/html": [
       "<div>\n",
       "<style scoped>\n",
       "    .dataframe tbody tr th:only-of-type {\n",
       "        vertical-align: middle;\n",
       "    }\n",
       "\n",
       "    .dataframe tbody tr th {\n",
       "        vertical-align: top;\n",
       "    }\n",
       "\n",
       "    .dataframe thead th {\n",
       "        text-align: right;\n",
       "    }\n",
       "</style>\n",
       "<table border=\"1\" class=\"dataframe\">\n",
       "  <thead>\n",
       "    <tr style=\"text-align: right;\">\n",
       "      <th></th>\n",
       "      <th>id</th>\n",
       "      <th>c_body</th>\n",
       "      <th>code_len</th>\n",
       "    </tr>\n",
       "  </thead>\n",
       "  <tbody>\n",
       "    <tr>\n",
       "      <th>0</th>\n",
       "      <td>74935859</td>\n",
       "      <td>{'code_sections': [{'off_beg': 130, 'off_end':...</td>\n",
       "      <td>1</td>\n",
       "    </tr>\n",
       "    <tr>\n",
       "      <th>1</th>\n",
       "      <td>74574281</td>\n",
       "      <td>{'code_sections': [{'off_beg': 50, 'off_end': ...</td>\n",
       "      <td>2</td>\n",
       "    </tr>\n",
       "    <tr>\n",
       "      <th>4</th>\n",
       "      <td>74574312</td>\n",
       "      <td>{'code_sections': [{'off_beg': 130, 'off_end':...</td>\n",
       "      <td>1</td>\n",
       "    </tr>\n",
       "    <tr>\n",
       "      <th>5</th>\n",
       "      <td>75056565</td>\n",
       "      <td>{'code_sections': [{'off_beg': 237, 'off_end':...</td>\n",
       "      <td>2</td>\n",
       "    </tr>\n",
       "    <tr>\n",
       "      <th>8</th>\n",
       "      <td>74935893</td>\n",
       "      <td>{'code_sections': [{'off_beg': 85, 'off_end': ...</td>\n",
       "      <td>2</td>\n",
       "    </tr>\n",
       "  </tbody>\n",
       "</table>\n",
       "</div>"
      ],
      "text/plain": [
       "         id                                             c_body  code_len\n",
       "0  74935859  {'code_sections': [{'off_beg': 130, 'off_end':...         1\n",
       "1  74574281  {'code_sections': [{'off_beg': 50, 'off_end': ...         2\n",
       "4  74574312  {'code_sections': [{'off_beg': 130, 'off_end':...         1\n",
       "5  75056565  {'code_sections': [{'off_beg': 237, 'off_end':...         2\n",
       "8  74935893  {'code_sections': [{'off_beg': 85, 'off_end': ...         2"
      ]
     },
     "execution_count": 14,
     "metadata": {},
     "output_type": "execute_result"
    }
   ],
   "source": [
    "complexity_python_src.head(5)"
   ]
  },
  {
   "cell_type": "code",
   "execution_count": 15,
   "metadata": {},
   "outputs": [],
   "source": [
    "src_df = pd.DataFrame(columns = ['id', 'src'])\n",
    "def code_explode(row) : \n",
    "    global src_df\n",
    "    row['id']\n",
    "    src_arr = []\n",
    "    for i in range(row['code_len']):\n",
    "        tmp_src_arr = []\n",
    "        tmp_src_arr.append(row['id'])\n",
    "        tmp_src_arr.append(row['c_body']['code_sections'][i]['span_str'])\n",
    "        src_df = src_df.append(pd.Series(tmp_src_arr, index=src_df.columns), ignore_index=True)\n",
    "    return True\n",
    "        "
   ]
  },
  {
   "cell_type": "code",
   "execution_count": 16,
   "metadata": {},
   "outputs": [
    {
     "data": {
      "text/plain": [
       "0         True\n",
       "1         True\n",
       "4         True\n",
       "5         True\n",
       "8         True\n",
       "          ... \n",
       "229113    True\n",
       "229114    True\n",
       "229115    True\n",
       "229117    True\n",
       "229119    True\n",
       "Length: 173956, dtype: bool"
      ]
     },
     "execution_count": 16,
     "metadata": {},
     "output_type": "execute_result"
    }
   ],
   "source": [
    "# bert_src_ex = bert_src[['q_id', 'q_prep_text']].apply(pd.Series.explode)\n",
    "complexity_python_src.apply(code_explode, axis = 1)"
   ]
  },
  {
   "cell_type": "code",
   "execution_count": 4,
   "metadata": {},
   "outputs": [],
   "source": []
  },
  {
   "cell_type": "code",
   "execution_count": 5,
   "metadata": {},
   "outputs": [],
   "source": [
    "src_df.reset_index(inplace=True)"
   ]
  },
  {
   "cell_type": "code",
   "execution_count": 6,
   "metadata": {},
   "outputs": [
    {
     "data": {
      "text/html": [
       "<div>\n",
       "<style scoped>\n",
       "    .dataframe tbody tr th:only-of-type {\n",
       "        vertical-align: middle;\n",
       "    }\n",
       "\n",
       "    .dataframe tbody tr th {\n",
       "        vertical-align: top;\n",
       "    }\n",
       "\n",
       "    .dataframe thead th {\n",
       "        text-align: right;\n",
       "    }\n",
       "</style>\n",
       "<table border=\"1\" class=\"dataframe\">\n",
       "  <thead>\n",
       "    <tr style=\"text-align: right;\">\n",
       "      <th></th>\n",
       "      <th>index</th>\n",
       "      <th>idx</th>\n",
       "      <th>id</th>\n",
       "      <th>src</th>\n",
       "    </tr>\n",
       "  </thead>\n",
       "  <tbody>\n",
       "    <tr>\n",
       "      <th>0</th>\n",
       "      <td>0</td>\n",
       "      <td>511</td>\n",
       "      <td>77444782</td>\n",
       "      <td>from models.tabcbm import TabCBM\\nimport numpy...</td>\n",
       "    </tr>\n",
       "    <tr>\n",
       "      <th>1</th>\n",
       "      <td>1</td>\n",
       "      <td>512</td>\n",
       "      <td>77444792</td>\n",
       "      <td>from can.interfaces.ixxat import get_i...</td>\n",
       "    </tr>\n",
       "    <tr>\n",
       "      <th>2</th>\n",
       "      <td>2</td>\n",
       "      <td>513</td>\n",
       "      <td>77444807</td>\n",
       "      <td>from Dictionary import dico\\nfrom Drawings imp...</td>\n",
       "    </tr>\n",
       "    <tr>\n",
       "      <th>3</th>\n",
       "      <td>3</td>\n",
       "      <td>514</td>\n",
       "      <td>77444832</td>\n",
       "      <td>class ConsumerMultiprocessing:\\n    def __init...</td>\n",
       "    </tr>\n",
       "    <tr>\n",
       "      <th>4</th>\n",
       "      <td>4</td>\n",
       "      <td>515</td>\n",
       "      <td>77444844</td>\n",
       "      <td>from skimage.measure import label, regionprops...</td>\n",
       "    </tr>\n",
       "  </tbody>\n",
       "</table>\n",
       "</div>"
      ],
      "text/plain": [
       "   index  idx        id                                                src\n",
       "0      0  511  77444782  from models.tabcbm import TabCBM\\nimport numpy...\n",
       "1      1  512  77444792          from can.interfaces.ixxat import get_i...\n",
       "2      2  513  77444807  from Dictionary import dico\\nfrom Drawings imp...\n",
       "3      3  514  77444832  class ConsumerMultiprocessing:\\n    def __init...\n",
       "4      4  515  77444844  from skimage.measure import label, regionprops..."
      ]
     },
     "execution_count": 6,
     "metadata": {},
     "output_type": "execute_result"
    }
   ],
   "source": [
    "src_df.head()"
   ]
  },
  {
   "cell_type": "code",
   "execution_count": 19,
   "metadata": {},
   "outputs": [],
   "source": [
    "# import psycopg2\n",
    "\n",
    "# db = psycopg2.connect(host='143.248.248.192', dbname='postgres', user='cslab', password='disneyland', port=5432)\n",
    "\n",
    "# cursor=db.cursor()\n",
    "\n",
    "# # 2) Data Import\n",
    "# tuples = [tuple(x) for x in src_df.loc[:, :].to_numpy()]\n",
    "\n",
    "# # 3) Data Bulk Insert\n",
    "# from psycopg2.extras import execute_values\n",
    "\n",
    "# sql = f\"INSERT INTO posts_src VALUES %s;\"\n",
    "# execute_values(cursor, sql, tuples, page_size=1000)\n",
    "# db.commit()"
   ]
  },
  {
   "cell_type": "code",
   "execution_count": null,
   "metadata": {},
   "outputs": [],
   "source": []
  },
  {
   "cell_type": "code",
   "execution_count": 24,
   "metadata": {},
   "outputs": [],
   "source": [
    "for i in range(src_df.shape[0]):\n",
    "    idx = src_df.iloc[i, 0]\n",
    "    qid = src_df.iloc[i, 1]\n",
    "    src = src_df.iloc[i, 2]\n",
    "    file_nm = str(idx)+'_' + str(qid)+'.py'\n",
    "    with open(f'../../data/src/{input_year}_src/{file_nm}', 'wb') as f:\n",
    "        f.write(src.encode())\n"
   ]
  },
  {
   "cell_type": "code",
   "execution_count": 20,
   "metadata": {},
   "outputs": [],
   "source": [
    "# https://github.com/rohaquinlop/complexipy"
   ]
  },
  {
   "cell_type": "code",
   "execution_count": 62,
   "metadata": {},
   "outputs": [],
   "source": [
    "# pip install complexipy"
   ]
  },
  {
   "cell_type": "code",
   "execution_count": null,
   "metadata": {},
   "outputs": [],
   "source": [
    "# !complexipy /home/mghan/sopjt/git/data/src/3_74963438.py -l file -o"
   ]
  },
  {
   "cell_type": "code",
   "execution_count": 28,
   "metadata": {},
   "outputs": [],
   "source": [
    "# cyclomatic은 모든 언어 가능 but cognitive는 언어별로 따로 분석해야함\n",
    "# 하려면 소나큐브 사야 함 \n",
    "# pyhon 기준으로는 조금 삽질하면 할 수 있을 듯.... 해보고 유의미하면 소나큐브 고?\n"
   ]
  },
  {
   "cell_type": "markdown",
   "metadata": {},
   "source": [
    "### complexity 결과 확인"
   ]
  },
  {
   "cell_type": "code",
   "execution_count": 4,
   "metadata": {},
   "outputs": [],
   "source": [
    "path = f'../../data/src/{input_year}_excel/'\n",
    "file_list = os.listdir(path)\n",
    "file_list_csv = [file for file in file_list if file.endswith(\".csv\")]\n",
    "\n",
    "# print (\"file_list_csv: {}\".format(file_list_csv))"
   ]
  },
  {
   "cell_type": "code",
   "execution_count": 5,
   "metadata": {},
   "outputs": [],
   "source": [
    "calc_com_df = pd.DataFrame(columns = ['Path', 'File Name', 'Cognitive Complexity'])\n",
    "for file_nm in file_list_csv :\n",
    "    tmp = pd.read_csv(path+file_nm)\n",
    "    calc_com_df = pd.concat([calc_com_df, tmp], axis = 0)"
   ]
  },
  {
   "cell_type": "code",
   "execution_count": 6,
   "metadata": {},
   "outputs": [],
   "source": [
    "# 전체 데이터셋 \n",
    "with open(f'../../data/calc_com_df_{input_year}.pkl', 'wb') as f:\n",
    "    pickle.dump(calc_com_df, f)\n"
   ]
  },
  {
   "cell_type": "code",
   "execution_count": 7,
   "metadata": {},
   "outputs": [],
   "source": [
    "# 전체 데이터셋 \n",
    "with open(f'../../data/calc_com_df_{input_year}.pkl', 'rb') as f:\n",
    "    calc_com_df = pickle.load(f)"
   ]
  },
  {
   "cell_type": "code",
   "execution_count": 40,
   "metadata": {},
   "outputs": [],
   "source": [
    "calc_com_df.reset_index(drop=True, inplace=True)"
   ]
  },
  {
   "cell_type": "code",
   "execution_count": null,
   "metadata": {},
   "outputs": [],
   "source": [
    "calc_com_df.head()"
   ]
  },
  {
   "cell_type": "code",
   "execution_count": 42,
   "metadata": {},
   "outputs": [],
   "source": [
    "calc_com_df['index'] = calc_com_df['Path'].apply(lambda x : x.split('_')[0])\n",
    "# calc_com_df['Path'].apply(lambda x : [  for i in x.split('_')])"
   ]
  },
  {
   "cell_type": "code",
   "execution_count": 43,
   "metadata": {},
   "outputs": [],
   "source": [
    "calc_com_df['id'] = calc_com_df['Path'].apply(lambda x : x.split('_')[1].split('.')[0])"
   ]
  },
  {
   "cell_type": "code",
   "execution_count": null,
   "metadata": {},
   "outputs": [],
   "source": [
    "calc_com_df.sort_values(by = ['index', 'id'])"
   ]
  },
  {
   "cell_type": "code",
   "execution_count": 45,
   "metadata": {},
   "outputs": [],
   "source": [
    "calc_com_df[['index', 'id', 'Cognitive Complexity']] = calc_com_df[['index', 'id', 'Cognitive Complexity']].astype('int')"
   ]
  },
  {
   "cell_type": "code",
   "execution_count": 46,
   "metadata": {},
   "outputs": [],
   "source": [
    "src_df[['index', 'id']] = src_df[['index', 'id']].astype('int')"
   ]
  },
  {
   "cell_type": "code",
   "execution_count": null,
   "metadata": {},
   "outputs": [],
   "source": [
    "calc_com_df.info()"
   ]
  },
  {
   "cell_type": "code",
   "execution_count": null,
   "metadata": {},
   "outputs": [],
   "source": [
    "calc_com_df.sort_values(by = ['index', 'id'])"
   ]
  },
  {
   "cell_type": "code",
   "execution_count": null,
   "metadata": {},
   "outputs": [],
   "source": [
    "calc_com_df.info()"
   ]
  },
  {
   "cell_type": "code",
   "execution_count": null,
   "metadata": {},
   "outputs": [],
   "source": [
    "src_df.info()"
   ]
  },
  {
   "cell_type": "code",
   "execution_count": 51,
   "metadata": {},
   "outputs": [],
   "source": [
    "calc_com_df = pd.merge(src_df,  calc_com_df, how = 'left', on = ['index', 'id'])"
   ]
  },
  {
   "cell_type": "code",
   "execution_count": 52,
   "metadata": {},
   "outputs": [],
   "source": [
    "calc_com_df = pd.merge(complexity_python_df[['id', 'cdate']], calc_com_df, on = 'id')"
   ]
  },
  {
   "cell_type": "code",
   "execution_count": null,
   "metadata": {},
   "outputs": [],
   "source": [
    "calc_com_df.head()"
   ]
  },
  {
   "cell_type": "code",
   "execution_count": 54,
   "metadata": {},
   "outputs": [],
   "source": [
    "# 일자별로 아예 소스가 수행되지 않는 건 \n",
    "calc_com_df_back = calc_com_df.copy()\n",
    "calc_ed_com_df = calc_com_df[~calc_com_df['Path'].isna()]"
   ]
  },
  {
   "cell_type": "code",
   "execution_count": 55,
   "metadata": {},
   "outputs": [],
   "source": [
    "calc_ed_com_df = calc_ed_com_df.sort_values(by = ['cdate', 'id', 'Cognitive Complexity'], ascending = [True, True, False]).groupby('id').head(1)"
   ]
  },
  {
   "cell_type": "code",
   "execution_count": null,
   "metadata": {},
   "outputs": [],
   "source": [
    "calc_ed_com_df.head()"
   ]
  },
  {
   "cell_type": "code",
   "execution_count": 57,
   "metadata": {},
   "outputs": [],
   "source": [
    "calc_ed_com_df = calc_ed_com_df.groupby('cdate').mean()[['Cognitive Complexity']].reset_index()"
   ]
  },
  {
   "cell_type": "code",
   "execution_count": null,
   "metadata": {},
   "outputs": [],
   "source": [
    "calc_ed_com_df.head()"
   ]
  },
  {
   "cell_type": "code",
   "execution_count": 59,
   "metadata": {},
   "outputs": [],
   "source": [
    "calc_ed_com_box_df = calc_ed_com_df.copy()"
   ]
  },
  {
   "cell_type": "code",
   "execution_count": 60,
   "metadata": {},
   "outputs": [],
   "source": [
    "calc_ed_com_box_df['yyyymm'] = calc_ed_com_box_df['cdate'].str[:7]"
   ]
  },
  {
   "cell_type": "code",
   "execution_count": 61,
   "metadata": {},
   "outputs": [],
   "source": [
    "ym_list = calc_ed_com_box_df['yyyymm'].unique()"
   ]
  },
  {
   "cell_type": "code",
   "execution_count": null,
   "metadata": {},
   "outputs": [],
   "source": [
    "[calc_ed_com_box_df[calc_ed_com_box_df['yyyymm']==x]  for x in ym_list]"
   ]
  },
  {
   "cell_type": "code",
   "execution_count": null,
   "metadata": {},
   "outputs": [],
   "source": [
    "sharey = True ## 또는 sharey=False\n",
    "sharex = True ## 또는 sharex=False\n",
    "\n",
    "fig, axs = plt.subplots(1, 2, figsize = (20, 5), sharey=sharey, sharex=sharex)\n",
    "# plt.xticks(rotation=45)\n",
    "# major_xticks = ['2013-11-30','2014-11-30','2015-11-30','2016-11-30','2017-11-30','2018-11-30','2019-11-30','2020-11-30'\n",
    "#                 ,'2021-11-30', '2022-11-30', '2023-11-30']\n",
    "# yticks = np.arange(200, 2000, 400)\n",
    "axs[0].bar(calc_ed_com_df['cdate']\n",
    "        ,  calc_ed_com_df['Cognitive Complexity']\n",
    "        ,  color = 'skyblue'\n",
    "        # ,  edgecolor = 'black'\n",
    "      ) # hist type\n",
    "\n",
    "axs[0].set_title('Number of Questions over time', fontsize = 15)\n",
    "axs[0].set_xlabel('Date', fontsize = 15)\n",
    "axs[0].set_ylabel('# of Q', fontsize = 15)\n",
    "# axs[0].set_xticks(major_xticks)\n",
    "# axs[0].set_yticks(yticks)\n",
    "# axs[0].axvline([major_xticks[-2]], # add vertical line\n",
    "#            color = 'blue',\n",
    "#            linestyle = '--',\n",
    "#            linewidth = 1.5)\n",
    "axs[0].tick_params(axis='x', rotation=45)\n",
    "# axs[0].yticks(yt)\n",
    "\n",
    "axs[0].bar(calc_ed_com_df['cdate']\n",
    "        ,  calc_ed_com_df['Cognitive Complexity']\n",
    "        ,  color = 'skyblue'\n",
    "        # ,  edgecolor = 'black'\n",
    "      ) # hist type\n",
    "\n",
    "axs[1].set_title('Number of Answers over time', fontsize = 15)\n",
    "axs[1].set_xlabel('Date', fontsize = 15)\n",
    "axs[1].set_ylabel('# of A', fontsize = 15)\n",
    "# axs[1].set_xticks(major_xticks)\n",
    "# axs[1].set_yticks(yticks)\n",
    "# axs[1].axvline([major_xticks[-2]], # add vertical line\n",
    "#            color = 'blue',\n",
    "#            linestyle = '--',\n",
    "#            linewidth = 1.5)\n",
    "axs[1].tick_params(axis='x', rotation=45)\n",
    "\n",
    "plt.show();\n"
   ]
  },
  {
   "cell_type": "code",
   "execution_count": null,
   "metadata": {},
   "outputs": [],
   "source": [
    "sharey = True ## 또는 sharey=False\n",
    "sharex = True ## 또는 sharex=False\n",
    "\n",
    "fig, axs = plt.subplots(1, 2, figsize = (20, 5), sharey=False, sharex=False)\n",
    "# plt.xticks(rotation=45)\n",
    "major_xticks = ['2022-01-30','2022-02-28','2022-03-30','2022-04-30','2022-05-30','2022-06-30','2022-07-30','2022-08-30','2022-09-30','2022-10-30','2022-11-30','2022-12-30',\n",
    "                '2023-01-30','2023-02-28','2023-03-30','2023-04-30','2023-05-30','2023-06-30','2023-07-30','2023-08-30','2023-09-30','2023-10-30','2023-11-30','2023-12-30']\n",
    "axs1_xticks = ym_list\n",
    "axs1_xticks = np.insert(axs1_xticks, 0, '0')  # 인덱스 2 위치에 100을 추가 \n",
    "# yticks = np.arange(200, 2000, 400)\n",
    "axs[0].bar(calc_ed_com_df['cdate']\n",
    "        ,  calc_ed_com_df['Cognitive Complexity']\n",
    "        ,  color = 'skyblue'\n",
    "        # ,  edgecolor = 'black'\n",
    "      ) # hist type\n",
    "\n",
    "axs[0].set_title('Avg Cognitive Complexity per Day', fontsize = 15)\n",
    "axs[0].set_xlabel('Date', fontsize = 15)\n",
    "axs[0].set_ylabel('Avg Cognitive Complexity', fontsize = 15)\n",
    "axs[0].set_xticks(major_xticks)\n",
    "# axs[0].set_yticks(yticks)\n",
    "# axs[0].axvline([major_xticks[-2]], # add vertical line\n",
    "#            color = 'blue',\n",
    "#            linestyle = '--',\n",
    "#            linewidth = 1.5)\n",
    "axs[0].tick_params(axis='x', rotation=45)\n",
    "# axs[0].yticks(yt)\n",
    "\n",
    "axs[1].boxplot([calc_ed_com_box_df.loc[calc_ed_com_box_df['yyyymm']==x, 'Cognitive Complexity']  for x in ym_list]\n",
    "        # ,  edgecolor = 'black'\n",
    "      ) # hist type\n",
    "\n",
    "axs[1].set_title('Cognitive Complexity per Month', fontsize = 15)\n",
    "axs[1].set_xlabel('Date', fontsize = 15)\n",
    "axs[1].set_ylabel('Cognitive Complexity', fontsize = 15)\n",
    "axs[1].set_xticks(range(len(axs1_xticks)), axs1_xticks)\n",
    "# axs[1].set_yticks(yticks)\n",
    "# axs[1].axvline([major_xticks[-2]], # add vertical line\n",
    "#            color = 'blue',\n",
    "#            linestyle = '--',\n",
    "#            linewidth = 1.5)\n",
    "axs[1].tick_params(axis='x', rotation=45)\n",
    "\n",
    "plt.show();\n"
   ]
  },
  {
   "cell_type": "code",
   "execution_count": null,
   "metadata": {},
   "outputs": [],
   "source": [
    "ym_list[:11]\n",
    "# ym_list[12:]"
   ]
  },
  {
   "cell_type": "code",
   "execution_count": null,
   "metadata": {},
   "outputs": [],
   "source": [
    "sharey = True ## 또는 sharey=False\n",
    "sharex = True ## 또는 sharex=False\n",
    "\n",
    "fig, axs = plt.subplots(2, 1, figsize = (10, 10), sharey=True, sharex=False)\n",
    "# plt.xticks(rotation=45)\n",
    "\n",
    "axs0_xticks = ym_list[:11]\n",
    "axs0_xticks = np.insert(axs0_xticks, 0, '0')  # 인덱스 2 위치에 100을 추가 \n",
    "\n",
    "axs1_xticks = ym_list[12:]\n",
    "axs1_xticks = np.insert(axs1_xticks, 0, '0')  # 인덱스 2 위치에 100을 추가 \n",
    "yticks = np.arange(0.5, 5, 0.5)\n",
    "\n",
    "axs[0].boxplot([calc_ed_com_box_df.loc[calc_ed_com_box_df['yyyymm']==x, 'Cognitive Complexity']  for x in ym_list[:11]]\n",
    "        # ,  edgecolor = 'black'\n",
    "      ) # hist type\n",
    "\n",
    "axs[0].set_title('Cognitive Complexity per Month', fontsize = 15)\n",
    "axs[0].set_xlabel('Date', fontsize = 15)\n",
    "axs[0].set_ylabel('Cognitive Complexity', fontsize = 15)\n",
    "axs[0].set_xticks(range(len(axs0_xticks)), axs0_xticks)\n",
    "axs[0].set_yticks(yticks)\n",
    "# axs[1].axvline([major_xticks[-2]], # add vertical line\n",
    "#            color = 'blue',\n",
    "#            linestyle = '--',\n",
    "#            linewidth = 1.5)\n",
    "axs[0].tick_params(axis='x', rotation=45)\n",
    "\n",
    "\n",
    "axs[1].boxplot([calc_ed_com_box_df.loc[calc_ed_com_box_df['yyyymm']==x, 'Cognitive Complexity']  for x in ym_list[12:]]\n",
    "        # ,  edgecolor = 'black'\n",
    "      ) # hist type\n",
    "\n",
    "axs[1].set_title('Cognitive Complexity per Month', fontsize = 15)\n",
    "axs[1].set_xlabel('Date', fontsize = 15)\n",
    "axs[1].set_ylabel('Cognitive Complexity', fontsize = 15)\n",
    "axs[1].set_xticks(range(len(axs1_xticks)), axs1_xticks)\n",
    "axs[1].set_yticks(yticks)\n",
    "# axs[1].axvline([major_xticks[-2]], # add vertical line\n",
    "#            color = 'blue',\n",
    "#            linestyle = '--',\n",
    "#            linewidth = 1.5)\n",
    "axs[1].tick_params(axis='x', rotation=45)\n",
    "plt.tight_layout()    \n",
    "plt.show();\n"
   ]
  },
  {
   "cell_type": "code",
   "execution_count": null,
   "metadata": {},
   "outputs": [],
   "source": [
    "len(np.arange(2, 13, 1))"
   ]
  },
  {
   "cell_type": "code",
   "execution_count": null,
   "metadata": {},
   "outputs": [],
   "source": [
    "sharey = True ## 또는 sharey=False\n",
    "sharex = True ## 또는 sharex=False\n",
    "\n",
    "fig, axs = plt.subplots(2, 1, figsize = (10, 10), sharey=True, sharex=False)\n",
    "# plt.xticks(rotation=45)\n",
    "\n",
    "axs0_xticks = ym_list[:11]\n",
    "axs0_xticks = np.insert(axs0_xticks, 0, '0')  # 인덱스 2 위치에 100을 추가 \n",
    "\n",
    "axs1_xticks = ym_list[12:]\n",
    "axs1_xticks = np.insert(axs1_xticks, 0, '0')  # 인덱스 2 위치에 100을 추가 \n",
    "yticks = np.arange(0.5, 5, 0.5)\n",
    "\n",
    "\n",
    "axs[0].violinplot([calc_ed_com_box_df.loc[calc_ed_com_box_df['yyyymm']==x, 'Cognitive Complexity']  for x in ym_list[:11]], positions=np.arange(1, 12, 1))\n",
    "axs[0].set_title('Cognitive Complexity per Month', fontsize = 15)\n",
    "axs[0].set_xlabel('Date', fontsize = 15)\n",
    "axs[0].set_ylabel('Cognitive Complexity', fontsize = 15)\n",
    "axs[0].set_xticks(range(len(axs0_xticks)), axs0_xticks)\n",
    "axs[0].set_yticks(yticks)\n",
    "# axs[1].axvline([major_xticks[-2]], # add vertical line\n",
    "#            color = 'blue',\n",
    "#            linestyle = '--',\n",
    "#            linewidth = 1.5)\n",
    "axs[0].tick_params(axis='x', rotation=45)\n",
    "\n",
    "\n",
    "\n",
    "axs[1].violinplot([calc_ed_com_box_df.loc[calc_ed_com_box_df['yyyymm']==x, 'Cognitive Complexity']  for x in ym_list[12:]], positions=np.arange(1, 12, 1))\n",
    "axs[1].set_title('Cognitive Complexity per Month', fontsize = 15)\n",
    "axs[1].set_xlabel('Date', fontsize = 15)\n",
    "axs[1].set_ylabel('Cognitive Complexity', fontsize = 15)\n",
    "axs[1].set_xticks(range(len(axs1_xticks)), axs1_xticks)\n",
    "axs[1].set_yticks(yticks)\n",
    "# axs[1].axvline([major_xticks[-2]], # add vertical line\n",
    "#            color = 'blue',\n",
    "#            linestyle = '--',\n",
    "#            linewidth = 1.5)\n",
    "axs[1].tick_params(axis='x', rotation=45)\n",
    "plt.tight_layout()    \n",
    "plt.show();\n"
   ]
  },
  {
   "cell_type": "code",
   "execution_count": null,
   "metadata": {},
   "outputs": [],
   "source": []
  }
 ],
 "metadata": {
  "kernelspec": {
   "display_name": "Python 3",
   "language": "python",
   "name": "python3"
  },
  "language_info": {
   "codemirror_mode": {
    "name": "ipython",
    "version": 3
   },
   "file_extension": ".py",
   "mimetype": "text/x-python",
   "name": "python",
   "nbconvert_exporter": "python",
   "pygments_lexer": "ipython3",
   "version": "3.10.12"
  }
 },
 "nbformat": 4,
 "nbformat_minor": 2
}
