{
 "cells": [
  {
   "cell_type": "markdown",
   "metadata": {},
   "source": [
    "주차별 평균으로 discontinuity 확인"
   ]
  },
  {
   "cell_type": "code",
   "execution_count": 6,
   "metadata": {},
   "outputs": [],
   "source": [
    "import sys, os\n",
    "p = os.path.abspath('..')\n",
    "pp = os.path.abspath('../..')\n",
    "sys.path.insert(1, p)\n",
    "sys.path.insert(1, pp)"
   ]
  },
  {
   "cell_type": "code",
   "execution_count": 7,
   "metadata": {},
   "outputs": [],
   "source": [
    "#customized preprocessing pkg\n",
    "import pandas as pd\n",
    "import numpy as np\n",
    "import pickle\n",
    "import matplotlib.pyplot as plt\n",
    "import datetime\n",
    "import lib.stats.stats as st\n",
    "import config.config as conf"
   ]
  },
  {
   "cell_type": "markdown",
   "metadata": {},
   "source": [
    "### 소스코드 complexity 계산"
   ]
  },
  {
   "cell_type": "code",
   "execution_count": 8,
   "metadata": {},
   "outputs": [],
   "source": [
    "input_year_list = ['2021', '2022', '2023']"
   ]
  },
  {
   "cell_type": "code",
   "execution_count": 9,
   "metadata": {},
   "outputs": [],
   "source": [
    "input_pl = 'python'"
   ]
  },
  {
   "cell_type": "code",
   "execution_count": 5,
   "metadata": {},
   "outputs": [],
   "source": [
    "# 파일 불러오기\n",
    "complexity_python_df = pd.DataFrame()\n",
    "\n",
    "for input_year in input_year_list : \n",
    "    with open(f'{conf.DATA_PATH}/data/complexity_{input_pl}_df_{input_year}.pkl', 'rb') as f:\n",
    "        tmp = pickle.load(f)\n",
    "        complexity_python_df = pd.concat([complexity_python_df, tmp], axis = 0)"
   ]
  },
  {
   "cell_type": "code",
   "execution_count": 10,
   "metadata": {},
   "outputs": [
    {
     "name": "stdout",
     "output_type": "stream",
     "text": [
      "2021-01-01\n",
      "2023-12-03\n"
     ]
    }
   ],
   "source": [
    "print(complexity_python_df['cdate'].min())\n",
    "print(complexity_python_df['cdate'].max())"
   ]
  },
  {
   "cell_type": "code",
   "execution_count": 11,
   "metadata": {},
   "outputs": [],
   "source": [
    "# 전체 데이터셋 \n",
    "with open(f'{conf.DATA_PATH}/data/complexity_src_df.pkl', 'rb') as f:\n",
    "    src_df = pickle.load(f)"
   ]
  },
  {
   "cell_type": "code",
   "execution_count": 12,
   "metadata": {},
   "outputs": [
    {
     "data": {
      "text/html": [
       "<div>\n",
       "<style scoped>\n",
       "    .dataframe tbody tr th:only-of-type {\n",
       "        vertical-align: middle;\n",
       "    }\n",
       "\n",
       "    .dataframe tbody tr th {\n",
       "        vertical-align: top;\n",
       "    }\n",
       "\n",
       "    .dataframe thead th {\n",
       "        text-align: right;\n",
       "    }\n",
       "</style>\n",
       "<table border=\"1\" class=\"dataframe\">\n",
       "  <thead>\n",
       "    <tr style=\"text-align: right;\">\n",
       "      <th></th>\n",
       "      <th>idx</th>\n",
       "      <th>id</th>\n",
       "      <th>src</th>\n",
       "    </tr>\n",
       "  </thead>\n",
       "  <tbody>\n",
       "    <tr>\n",
       "      <th>0</th>\n",
       "      <td>19455</td>\n",
       "      <td>77167050</td>\n",
       "      <td>import ipywidgets as widgets\\n\\nquestion_label...</td>\n",
       "    </tr>\n",
       "    <tr>\n",
       "      <th>1</th>\n",
       "      <td>19456</td>\n",
       "      <td>77167055</td>\n",
       "      <td>`from transformers import AutoTokenizer, AutoM...</td>\n",
       "    </tr>\n",
       "    <tr>\n",
       "      <th>2</th>\n",
       "      <td>19457</td>\n",
       "      <td>77167055</td>\n",
       "      <td>error: TODO: expressions are not yet supported...</td>\n",
       "    </tr>\n",
       "    <tr>\n",
       "      <th>3</th>\n",
       "      <td>19458</td>\n",
       "      <td>77167101</td>\n",
       "      <td>sql1 = \"SELECT state FROM YO WHERE function = ...</td>\n",
       "    </tr>\n",
       "    <tr>\n",
       "      <th>4</th>\n",
       "      <td>19459</td>\n",
       "      <td>77167156</td>\n",
       "      <td>ldata1x\\nldata2x\\nldata3x\\nldata4x\\n</td>\n",
       "    </tr>\n",
       "  </tbody>\n",
       "</table>\n",
       "</div>"
      ],
      "text/plain": [
       "     idx        id                                                src\n",
       "0  19455  77167050  import ipywidgets as widgets\\n\\nquestion_label...\n",
       "1  19456  77167055  `from transformers import AutoTokenizer, AutoM...\n",
       "2  19457  77167055  error: TODO: expressions are not yet supported...\n",
       "3  19458  77167101  sql1 = \"SELECT state FROM YO WHERE function = ...\n",
       "4  19459  77167156               ldata1x\\nldata2x\\nldata3x\\nldata4x\\n"
      ]
     },
     "execution_count": 12,
     "metadata": {},
     "output_type": "execute_result"
    }
   ],
   "source": [
    "src_df.head()"
   ]
  },
  {
   "cell_type": "code",
   "execution_count": 13,
   "metadata": {},
   "outputs": [],
   "source": [
    "# 파일 불러오기\n",
    "calc_com_df = pd.DataFrame()\n",
    "\n",
    "for input_year in input_year_list : \n",
    "    with open(f'{conf.DATA_PATH}/data/calc_com_df_{input_year}_{input_pl}.pkl', 'rb') as f:\n",
    "        tmp = pickle.load(f)\n",
    "        calc_com_df = pd.concat([calc_com_df, tmp], axis = 0)"
   ]
  },
  {
   "cell_type": "code",
   "execution_count": 14,
   "metadata": {},
   "outputs": [],
   "source": [
    "calc_com_df.reset_index(drop=True, inplace=True)"
   ]
  },
  {
   "cell_type": "code",
   "execution_count": 15,
   "metadata": {},
   "outputs": [
    {
     "data": {
      "text/html": [
       "<div>\n",
       "<style scoped>\n",
       "    .dataframe tbody tr th:only-of-type {\n",
       "        vertical-align: middle;\n",
       "    }\n",
       "\n",
       "    .dataframe tbody tr th {\n",
       "        vertical-align: top;\n",
       "    }\n",
       "\n",
       "    .dataframe thead th {\n",
       "        text-align: right;\n",
       "    }\n",
       "</style>\n",
       "<table border=\"1\" class=\"dataframe\">\n",
       "  <thead>\n",
       "    <tr style=\"text-align: right;\">\n",
       "      <th></th>\n",
       "      <th>Path</th>\n",
       "      <th>File Name</th>\n",
       "      <th>Cognitive Complexity</th>\n",
       "    </tr>\n",
       "  </thead>\n",
       "  <tbody>\n",
       "    <tr>\n",
       "      <th>0</th>\n",
       "      <td>353900_65948963.py</td>\n",
       "      <td>353900_65948963.py</td>\n",
       "      <td>3</td>\n",
       "    </tr>\n",
       "    <tr>\n",
       "      <th>1</th>\n",
       "      <td>377254_65638981.py</td>\n",
       "      <td>377254_65638981.py</td>\n",
       "      <td>0</td>\n",
       "    </tr>\n",
       "    <tr>\n",
       "      <th>2</th>\n",
       "      <td>94558_69251293.py</td>\n",
       "      <td>94558_69251293.py</td>\n",
       "      <td>0</td>\n",
       "    </tr>\n",
       "    <tr>\n",
       "      <th>3</th>\n",
       "      <td>223504_67683129.py</td>\n",
       "      <td>223504_67683129.py</td>\n",
       "      <td>0</td>\n",
       "    </tr>\n",
       "    <tr>\n",
       "      <th>4</th>\n",
       "      <td>111551_69022973.py</td>\n",
       "      <td>111551_69022973.py</td>\n",
       "      <td>0</td>\n",
       "    </tr>\n",
       "  </tbody>\n",
       "</table>\n",
       "</div>"
      ],
      "text/plain": [
       "                 Path           File Name Cognitive Complexity\n",
       "0  353900_65948963.py  353900_65948963.py                    3\n",
       "1  377254_65638981.py  377254_65638981.py                    0\n",
       "2   94558_69251293.py   94558_69251293.py                    0\n",
       "3  223504_67683129.py  223504_67683129.py                    0\n",
       "4  111551_69022973.py  111551_69022973.py                    0"
      ]
     },
     "execution_count": 15,
     "metadata": {},
     "output_type": "execute_result"
    }
   ],
   "source": [
    "calc_com_df.head()"
   ]
  },
  {
   "cell_type": "code",
   "execution_count": 16,
   "metadata": {},
   "outputs": [],
   "source": [
    "calc_com_df['idx'] = calc_com_df['Path'].apply(lambda x : x.split('_')[0])\n",
    "# calc_com_df['Path'].apply(lambda x : [  for i in x.split('_')])"
   ]
  },
  {
   "cell_type": "code",
   "execution_count": 17,
   "metadata": {},
   "outputs": [],
   "source": [
    "calc_com_df['id'] = calc_com_df['Path'].apply(lambda x : x.split('_')[1].split('.')[0])"
   ]
  },
  {
   "cell_type": "code",
   "execution_count": 18,
   "metadata": {},
   "outputs": [
    {
     "data": {
      "text/html": [
       "<div>\n",
       "<style scoped>\n",
       "    .dataframe tbody tr th:only-of-type {\n",
       "        vertical-align: middle;\n",
       "    }\n",
       "\n",
       "    .dataframe tbody tr th {\n",
       "        vertical-align: top;\n",
       "    }\n",
       "\n",
       "    .dataframe thead th {\n",
       "        text-align: right;\n",
       "    }\n",
       "</style>\n",
       "<table border=\"1\" class=\"dataframe\">\n",
       "  <thead>\n",
       "    <tr style=\"text-align: right;\">\n",
       "      <th></th>\n",
       "      <th>Path</th>\n",
       "      <th>File Name</th>\n",
       "      <th>Cognitive Complexity</th>\n",
       "      <th>idx</th>\n",
       "      <th>id</th>\n",
       "    </tr>\n",
       "  </thead>\n",
       "  <tbody>\n",
       "    <tr>\n",
       "      <th>164589</th>\n",
       "      <td>0_70702244.py</td>\n",
       "      <td>0_70702244.py</td>\n",
       "      <td>0</td>\n",
       "      <td>0</td>\n",
       "      <td>70702244</td>\n",
       "    </tr>\n",
       "    <tr>\n",
       "      <th>363420</th>\n",
       "      <td>0_74935859.py</td>\n",
       "      <td>0_74935859.py</td>\n",
       "      <td>1</td>\n",
       "      <td>0</td>\n",
       "      <td>74935859</td>\n",
       "    </tr>\n",
       "    <tr>\n",
       "      <th>67043</th>\n",
       "      <td>1_70397890.py</td>\n",
       "      <td>1_70397890.py</td>\n",
       "      <td>0</td>\n",
       "      <td>1</td>\n",
       "      <td>70397890</td>\n",
       "    </tr>\n",
       "    <tr>\n",
       "      <th>230047</th>\n",
       "      <td>1_74574281.py</td>\n",
       "      <td>1_74574281.py</td>\n",
       "      <td>6</td>\n",
       "      <td>1</td>\n",
       "      <td>74574281</td>\n",
       "    </tr>\n",
       "    <tr>\n",
       "      <th>427921</th>\n",
       "      <td>1_77569752.py</td>\n",
       "      <td>1_77569752.py</td>\n",
       "      <td>0</td>\n",
       "      <td>1</td>\n",
       "      <td>77569752</td>\n",
       "    </tr>\n",
       "    <tr>\n",
       "      <th>...</th>\n",
       "      <td>...</td>\n",
       "      <td>...</td>\n",
       "      <td>...</td>\n",
       "      <td>...</td>\n",
       "      <td>...</td>\n",
       "    </tr>\n",
       "    <tr>\n",
       "      <th>274042</th>\n",
       "      <td>99997_73587690.py</td>\n",
       "      <td>99997_73587690.py</td>\n",
       "      <td>6</td>\n",
       "      <td>99997</td>\n",
       "      <td>73587690</td>\n",
       "    </tr>\n",
       "    <tr>\n",
       "      <th>407696</th>\n",
       "      <td>99997_76005895.py</td>\n",
       "      <td>99997_76005895.py</td>\n",
       "      <td>0</td>\n",
       "      <td>99997</td>\n",
       "      <td>76005895</td>\n",
       "    </tr>\n",
       "    <tr>\n",
       "      <th>155471</th>\n",
       "      <td>99999_69208993.py</td>\n",
       "      <td>99999_69208993.py</td>\n",
       "      <td>0</td>\n",
       "      <td>99999</td>\n",
       "      <td>69208993</td>\n",
       "    </tr>\n",
       "    <tr>\n",
       "      <th>335421</th>\n",
       "      <td>99999_73587727.py</td>\n",
       "      <td>99999_73587727.py</td>\n",
       "      <td>1</td>\n",
       "      <td>99999</td>\n",
       "      <td>73587727</td>\n",
       "    </tr>\n",
       "    <tr>\n",
       "      <th>403215</th>\n",
       "      <td>99999_76005895.py</td>\n",
       "      <td>99999_76005895.py</td>\n",
       "      <td>1</td>\n",
       "      <td>99999</td>\n",
       "      <td>76005895</td>\n",
       "    </tr>\n",
       "  </tbody>\n",
       "</table>\n",
       "<p>482331 rows × 5 columns</p>\n",
       "</div>"
      ],
      "text/plain": [
       "                     Path          File Name Cognitive Complexity    idx  \\\n",
       "164589      0_70702244.py      0_70702244.py                    0      0   \n",
       "363420      0_74935859.py      0_74935859.py                    1      0   \n",
       "67043       1_70397890.py      1_70397890.py                    0      1   \n",
       "230047      1_74574281.py      1_74574281.py                    6      1   \n",
       "427921      1_77569752.py      1_77569752.py                    0      1   \n",
       "...                   ...                ...                  ...    ...   \n",
       "274042  99997_73587690.py  99997_73587690.py                    6  99997   \n",
       "407696  99997_76005895.py  99997_76005895.py                    0  99997   \n",
       "155471  99999_69208993.py  99999_69208993.py                    0  99999   \n",
       "335421  99999_73587727.py  99999_73587727.py                    1  99999   \n",
       "403215  99999_76005895.py  99999_76005895.py                    1  99999   \n",
       "\n",
       "              id  \n",
       "164589  70702244  \n",
       "363420  74935859  \n",
       "67043   70397890  \n",
       "230047  74574281  \n",
       "427921  77569752  \n",
       "...          ...  \n",
       "274042  73587690  \n",
       "407696  76005895  \n",
       "155471  69208993  \n",
       "335421  73587727  \n",
       "403215  76005895  \n",
       "\n",
       "[482331 rows x 5 columns]"
      ]
     },
     "execution_count": 18,
     "metadata": {},
     "output_type": "execute_result"
    }
   ],
   "source": [
    "calc_com_df.sort_values(by = ['idx', 'id'])"
   ]
  },
  {
   "cell_type": "code",
   "execution_count": 19,
   "metadata": {},
   "outputs": [],
   "source": [
    "calc_com_df[['idx', 'id', 'Cognitive Complexity']] = calc_com_df[['idx', 'id', 'Cognitive Complexity']].astype('int')"
   ]
  },
  {
   "cell_type": "code",
   "execution_count": 20,
   "metadata": {},
   "outputs": [],
   "source": [
    "src_df[['idx', 'id']] = src_df[['idx', 'id']].astype('int')"
   ]
  },
  {
   "cell_type": "code",
   "execution_count": 21,
   "metadata": {},
   "outputs": [
    {
     "name": "stdout",
     "output_type": "stream",
     "text": [
      "<class 'pandas.core.frame.DataFrame'>\n",
      "RangeIndex: 482331 entries, 0 to 482330\n",
      "Data columns (total 5 columns):\n",
      " #   Column                Non-Null Count   Dtype \n",
      "---  ------                --------------   ----- \n",
      " 0   Path                  482331 non-null  object\n",
      " 1   File Name             482331 non-null  object\n",
      " 2   Cognitive Complexity  482331 non-null  int64 \n",
      " 3   idx                   482331 non-null  int64 \n",
      " 4   id                    482331 non-null  int64 \n",
      "dtypes: int64(3), object(2)\n",
      "memory usage: 18.4+ MB\n"
     ]
    }
   ],
   "source": [
    "calc_com_df.info()"
   ]
  },
  {
   "cell_type": "code",
   "execution_count": 22,
   "metadata": {},
   "outputs": [
    {
     "name": "stdout",
     "output_type": "stream",
     "text": [
      "<class 'pandas.core.frame.DataFrame'>\n",
      "RangeIndex: 1266624 entries, 0 to 1266623\n",
      "Data columns (total 3 columns):\n",
      " #   Column  Non-Null Count    Dtype \n",
      "---  ------  --------------    ----- \n",
      " 0   idx     1266624 non-null  int64 \n",
      " 1   id      1266624 non-null  int64 \n",
      " 2   src     1266624 non-null  object\n",
      "dtypes: int64(2), object(1)\n",
      "memory usage: 29.0+ MB\n"
     ]
    }
   ],
   "source": [
    "src_df.info()"
   ]
  },
  {
   "cell_type": "code",
   "execution_count": 23,
   "metadata": {},
   "outputs": [],
   "source": [
    "calc_com_df = pd.merge(src_df,  calc_com_df, how = 'left', on = ['idx', 'id'])"
   ]
  },
  {
   "cell_type": "code",
   "execution_count": 24,
   "metadata": {},
   "outputs": [],
   "source": [
    "calc_com_df = pd.merge(complexity_python_df[['id', 'cdate']], calc_com_df, on = 'id')"
   ]
  },
  {
   "cell_type": "code",
   "execution_count": 25,
   "metadata": {},
   "outputs": [
    {
     "data": {
      "text/html": [
       "<div>\n",
       "<style scoped>\n",
       "    .dataframe tbody tr th:only-of-type {\n",
       "        vertical-align: middle;\n",
       "    }\n",
       "\n",
       "    .dataframe tbody tr th {\n",
       "        vertical-align: top;\n",
       "    }\n",
       "\n",
       "    .dataframe thead th {\n",
       "        text-align: right;\n",
       "    }\n",
       "</style>\n",
       "<table border=\"1\" class=\"dataframe\">\n",
       "  <thead>\n",
       "    <tr style=\"text-align: right;\">\n",
       "      <th></th>\n",
       "      <th>id</th>\n",
       "      <th>cdate</th>\n",
       "      <th>idx</th>\n",
       "      <th>src</th>\n",
       "      <th>Path</th>\n",
       "      <th>File Name</th>\n",
       "      <th>Cognitive Complexity</th>\n",
       "    </tr>\n",
       "  </thead>\n",
       "  <tbody>\n",
       "    <tr>\n",
       "      <th>0</th>\n",
       "      <td>70702244</td>\n",
       "      <td>2021-12-28</td>\n",
       "      <td>0</td>\n",
       "      <td>cmd = r'yes y | makepkg -si'\\noutput = subproc...</td>\n",
       "      <td>0_70702244.py</td>\n",
       "      <td>0_70702244.py</td>\n",
       "      <td>0.0</td>\n",
       "    </tr>\n",
       "    <tr>\n",
       "      <th>1</th>\n",
       "      <td>70542818</td>\n",
       "      <td>2021-12-31</td>\n",
       "      <td>113</td>\n",
       "      <td>import Conv\\nfrom os import getcwd\\nfrom time ...</td>\n",
       "      <td>113_70542818.py</td>\n",
       "      <td>113_70542818.py</td>\n",
       "      <td>0.0</td>\n",
       "    </tr>\n",
       "    <tr>\n",
       "      <th>2</th>\n",
       "      <td>70542928</td>\n",
       "      <td>2021-12-31</td>\n",
       "      <td>114</td>\n",
       "      <td>def fib(n):\\n    import numpy as np\\n    matri...</td>\n",
       "      <td>NaN</td>\n",
       "      <td>NaN</td>\n",
       "      <td>NaN</td>\n",
       "    </tr>\n",
       "    <tr>\n",
       "      <th>3</th>\n",
       "      <td>70542928</td>\n",
       "      <td>2021-12-31</td>\n",
       "      <td>115</td>\n",
       "      <td>4346655768693745643568852767504062580256466051...</td>\n",
       "      <td>115_70542928.py</td>\n",
       "      <td>115_70542928.py</td>\n",
       "      <td>0.0</td>\n",
       "    </tr>\n",
       "    <tr>\n",
       "      <th>4</th>\n",
       "      <td>70542928</td>\n",
       "      <td>2021-12-31</td>\n",
       "      <td>116</td>\n",
       "      <td>817770325994397771\\n</td>\n",
       "      <td>116_70542928.py</td>\n",
       "      <td>116_70542928.py</td>\n",
       "      <td>0.0</td>\n",
       "    </tr>\n",
       "  </tbody>\n",
       "</table>\n",
       "</div>"
      ],
      "text/plain": [
       "         id       cdate  idx  \\\n",
       "0  70702244  2021-12-28    0   \n",
       "1  70542818  2021-12-31  113   \n",
       "2  70542928  2021-12-31  114   \n",
       "3  70542928  2021-12-31  115   \n",
       "4  70542928  2021-12-31  116   \n",
       "\n",
       "                                                 src             Path  \\\n",
       "0  cmd = r'yes y | makepkg -si'\\noutput = subproc...    0_70702244.py   \n",
       "1  import Conv\\nfrom os import getcwd\\nfrom time ...  113_70542818.py   \n",
       "2  def fib(n):\\n    import numpy as np\\n    matri...              NaN   \n",
       "3  4346655768693745643568852767504062580256466051...  115_70542928.py   \n",
       "4                               817770325994397771\\n  116_70542928.py   \n",
       "\n",
       "         File Name  Cognitive Complexity  \n",
       "0    0_70702244.py                   0.0  \n",
       "1  113_70542818.py                   0.0  \n",
       "2              NaN                   NaN  \n",
       "3  115_70542928.py                   0.0  \n",
       "4  116_70542928.py                   0.0  "
      ]
     },
     "execution_count": 25,
     "metadata": {},
     "output_type": "execute_result"
    }
   ],
   "source": [
    "calc_com_df.head()"
   ]
  },
  {
   "cell_type": "code",
   "execution_count": 26,
   "metadata": {},
   "outputs": [],
   "source": [
    "# 일자별로 아예 소스가 수행되지 않는 건 \n",
    "calc_com_df_back = calc_com_df.copy()\n",
    "calc_ed_com_df = calc_com_df[~calc_com_df['Path'].isna()]"
   ]
  },
  {
   "cell_type": "code",
   "execution_count": 27,
   "metadata": {},
   "outputs": [],
   "source": [
    "# calc_ed_com_df = calc_ed_com_df.sort_values(by = ['cdate', 'id', 'Cognitive Complexity'], ascending = [True, True, False]).groupby('id').head(1)"
   ]
  },
  {
   "cell_type": "code",
   "execution_count": 28,
   "metadata": {},
   "outputs": [],
   "source": [
    "with open(f'{conf.DATA_PATH}/data/cc_python_raw_df.pkl', 'wb') as f:\n",
    "    pickle.dump(calc_ed_com_df, f)"
   ]
  },
  {
   "cell_type": "code",
   "execution_count": 44,
   "metadata": {},
   "outputs": [
    {
     "data": {
      "text/html": [
       "<div>\n",
       "<style scoped>\n",
       "    .dataframe tbody tr th:only-of-type {\n",
       "        vertical-align: middle;\n",
       "    }\n",
       "\n",
       "    .dataframe tbody tr th {\n",
       "        vertical-align: top;\n",
       "    }\n",
       "\n",
       "    .dataframe thead th {\n",
       "        text-align: right;\n",
       "    }\n",
       "</style>\n",
       "<table border=\"1\" class=\"dataframe\">\n",
       "  <thead>\n",
       "    <tr style=\"text-align: right;\">\n",
       "      <th></th>\n",
       "      <th>id</th>\n",
       "      <th>cdate</th>\n",
       "      <th>idx</th>\n",
       "      <th>src</th>\n",
       "      <th>Path</th>\n",
       "      <th>File Name</th>\n",
       "      <th>Cognitive Complexity</th>\n",
       "      <th>rel_week</th>\n",
       "    </tr>\n",
       "  </thead>\n",
       "  <tbody>\n",
       "    <tr>\n",
       "      <th>0</th>\n",
       "      <td>70702244</td>\n",
       "      <td>2021-12-28</td>\n",
       "      <td>0</td>\n",
       "      <td>cmd = r'yes y | makepkg -si'\\noutput = subproc...</td>\n",
       "      <td>0_70702244.py</td>\n",
       "      <td>0_70702244.py</td>\n",
       "      <td>0.0</td>\n",
       "      <td>-49.0</td>\n",
       "    </tr>\n",
       "    <tr>\n",
       "      <th>1</th>\n",
       "      <td>70542818</td>\n",
       "      <td>2021-12-31</td>\n",
       "      <td>113</td>\n",
       "      <td>import Conv\\nfrom os import getcwd\\nfrom time ...</td>\n",
       "      <td>113_70542818.py</td>\n",
       "      <td>113_70542818.py</td>\n",
       "      <td>0.0</td>\n",
       "      <td>-48.0</td>\n",
       "    </tr>\n",
       "    <tr>\n",
       "      <th>3</th>\n",
       "      <td>70542928</td>\n",
       "      <td>2021-12-31</td>\n",
       "      <td>115</td>\n",
       "      <td>4346655768693745643568852767504062580256466051...</td>\n",
       "      <td>115_70542928.py</td>\n",
       "      <td>115_70542928.py</td>\n",
       "      <td>0.0</td>\n",
       "      <td>-48.0</td>\n",
       "    </tr>\n",
       "    <tr>\n",
       "      <th>4</th>\n",
       "      <td>70542928</td>\n",
       "      <td>2021-12-31</td>\n",
       "      <td>116</td>\n",
       "      <td>817770325994397771\\n</td>\n",
       "      <td>116_70542928.py</td>\n",
       "      <td>116_70542928.py</td>\n",
       "      <td>0.0</td>\n",
       "      <td>-48.0</td>\n",
       "    </tr>\n",
       "    <tr>\n",
       "      <th>6</th>\n",
       "      <td>70543017</td>\n",
       "      <td>2021-12-31</td>\n",
       "      <td>118</td>\n",
       "      <td>data = func(\"value\")\\nassert all(\"Yes\" in data...</td>\n",
       "      <td>118_70543017.py</td>\n",
       "      <td>118_70543017.py</td>\n",
       "      <td>0.0</td>\n",
       "      <td>-48.0</td>\n",
       "    </tr>\n",
       "    <tr>\n",
       "      <th>...</th>\n",
       "      <td>...</td>\n",
       "      <td>...</td>\n",
       "      <td>...</td>\n",
       "      <td>...</td>\n",
       "      <td>...</td>\n",
       "      <td>...</td>\n",
       "      <td>...</td>\n",
       "      <td>...</td>\n",
       "    </tr>\n",
       "    <tr>\n",
       "      <th>940792</th>\n",
       "      <td>77356328</td>\n",
       "      <td>2023-10-25</td>\n",
       "      <td>13707</td>\n",
       "      <td>import fitz  # PyMuPDF library\\nimport tkinter...</td>\n",
       "      <td>13707_77356328.py</td>\n",
       "      <td>13707_77356328.py</td>\n",
       "      <td>0.0</td>\n",
       "      <td>47.0</td>\n",
       "    </tr>\n",
       "    <tr>\n",
       "      <th>940795</th>\n",
       "      <td>77356332</td>\n",
       "      <td>2023-10-25</td>\n",
       "      <td>13710</td>\n",
       "      <td>from datetime import datetime\\nimport pandas a...</td>\n",
       "      <td>13710_77356332.py</td>\n",
       "      <td>13710_77356332.py</td>\n",
       "      <td>0.0</td>\n",
       "      <td>47.0</td>\n",
       "    </tr>\n",
       "    <tr>\n",
       "      <th>940798</th>\n",
       "      <td>77356352</td>\n",
       "      <td>2023-10-25</td>\n",
       "      <td>13713</td>\n",
       "      <td>import re\\nre.match(r'^-?\\d{1,3}[,.](\\d{3}[,.]...</td>\n",
       "      <td>13713_77356352.py</td>\n",
       "      <td>13713_77356352.py</td>\n",
       "      <td>0.0</td>\n",
       "      <td>47.0</td>\n",
       "    </tr>\n",
       "    <tr>\n",
       "      <th>940799</th>\n",
       "      <td>77356372</td>\n",
       "      <td>2023-10-25</td>\n",
       "      <td>13714</td>\n",
       "      <td>from tkinter import Tk, Canvas, Button, Checkb...</td>\n",
       "      <td>13714_77356372.py</td>\n",
       "      <td>13714_77356372.py</td>\n",
       "      <td>2.0</td>\n",
       "      <td>47.0</td>\n",
       "    </tr>\n",
       "    <tr>\n",
       "      <th>940800</th>\n",
       "      <td>77356372</td>\n",
       "      <td>2023-10-25</td>\n",
       "      <td>13715</td>\n",
       "      <td>def clean_temp_files():\\n    username = getpas...</td>\n",
       "      <td>13715_77356372.py</td>\n",
       "      <td>13715_77356372.py</td>\n",
       "      <td>22.0</td>\n",
       "      <td>47.0</td>\n",
       "    </tr>\n",
       "  </tbody>\n",
       "</table>\n",
       "<p>482331 rows × 8 columns</p>\n",
       "</div>"
      ],
      "text/plain": [
       "              id       cdate    idx  \\\n",
       "0       70702244  2021-12-28      0   \n",
       "1       70542818  2021-12-31    113   \n",
       "3       70542928  2021-12-31    115   \n",
       "4       70542928  2021-12-31    116   \n",
       "6       70543017  2021-12-31    118   \n",
       "...          ...         ...    ...   \n",
       "940792  77356328  2023-10-25  13707   \n",
       "940795  77356332  2023-10-25  13710   \n",
       "940798  77356352  2023-10-25  13713   \n",
       "940799  77356372  2023-10-25  13714   \n",
       "940800  77356372  2023-10-25  13715   \n",
       "\n",
       "                                                      src               Path  \\\n",
       "0       cmd = r'yes y | makepkg -si'\\noutput = subproc...      0_70702244.py   \n",
       "1       import Conv\\nfrom os import getcwd\\nfrom time ...    113_70542818.py   \n",
       "3       4346655768693745643568852767504062580256466051...    115_70542928.py   \n",
       "4                                    817770325994397771\\n    116_70542928.py   \n",
       "6       data = func(\"value\")\\nassert all(\"Yes\" in data...    118_70543017.py   \n",
       "...                                                   ...                ...   \n",
       "940792  import fitz  # PyMuPDF library\\nimport tkinter...  13707_77356328.py   \n",
       "940795  from datetime import datetime\\nimport pandas a...  13710_77356332.py   \n",
       "940798  import re\\nre.match(r'^-?\\d{1,3}[,.](\\d{3}[,.]...  13713_77356352.py   \n",
       "940799  from tkinter import Tk, Canvas, Button, Checkb...  13714_77356372.py   \n",
       "940800  def clean_temp_files():\\n    username = getpas...  13715_77356372.py   \n",
       "\n",
       "                File Name  Cognitive Complexity  rel_week  \n",
       "0           0_70702244.py                   0.0     -49.0  \n",
       "1         113_70542818.py                   0.0     -48.0  \n",
       "3         115_70542928.py                   0.0     -48.0  \n",
       "4         116_70542928.py                   0.0     -48.0  \n",
       "6         118_70543017.py                   0.0     -48.0  \n",
       "...                   ...                   ...       ...  \n",
       "940792  13707_77356328.py                   0.0      47.0  \n",
       "940795  13710_77356332.py                   0.0      47.0  \n",
       "940798  13713_77356352.py                   0.0      47.0  \n",
       "940799  13714_77356372.py                   2.0      47.0  \n",
       "940800  13715_77356372.py                  22.0      47.0  \n",
       "\n",
       "[482331 rows x 8 columns]"
      ]
     },
     "execution_count": 44,
     "metadata": {},
     "output_type": "execute_result"
    }
   ],
   "source": [
    "calc_ed_com_df"
   ]
  },
  {
   "cell_type": "code",
   "execution_count": 35,
   "metadata": {},
   "outputs": [
    {
     "data": {
      "text/html": [
       "<div>\n",
       "<style scoped>\n",
       "    .dataframe tbody tr th:only-of-type {\n",
       "        vertical-align: middle;\n",
       "    }\n",
       "\n",
       "    .dataframe tbody tr th {\n",
       "        vertical-align: top;\n",
       "    }\n",
       "\n",
       "    .dataframe thead th {\n",
       "        text-align: right;\n",
       "    }\n",
       "</style>\n",
       "<table border=\"1\" class=\"dataframe\">\n",
       "  <thead>\n",
       "    <tr style=\"text-align: right;\">\n",
       "      <th></th>\n",
       "      <th>id</th>\n",
       "      <th>cdate</th>\n",
       "      <th>idx</th>\n",
       "      <th>src</th>\n",
       "      <th>Path</th>\n",
       "      <th>File Name</th>\n",
       "      <th>Cognitive Complexity</th>\n",
       "      <th>rel_week</th>\n",
       "    </tr>\n",
       "  </thead>\n",
       "  <tbody>\n",
       "    <tr>\n",
       "      <th>0</th>\n",
       "      <td>70702244</td>\n",
       "      <td>2021-12-28</td>\n",
       "      <td>0</td>\n",
       "      <td>cmd = r'yes y | makepkg -si'\\noutput = subproc...</td>\n",
       "      <td>0_70702244.py</td>\n",
       "      <td>0_70702244.py</td>\n",
       "      <td>0.0</td>\n",
       "      <td>-49.0</td>\n",
       "    </tr>\n",
       "    <tr>\n",
       "      <th>1</th>\n",
       "      <td>70542818</td>\n",
       "      <td>2021-12-31</td>\n",
       "      <td>113</td>\n",
       "      <td>import Conv\\nfrom os import getcwd\\nfrom time ...</td>\n",
       "      <td>113_70542818.py</td>\n",
       "      <td>113_70542818.py</td>\n",
       "      <td>0.0</td>\n",
       "      <td>-48.0</td>\n",
       "    </tr>\n",
       "    <tr>\n",
       "      <th>3</th>\n",
       "      <td>70542928</td>\n",
       "      <td>2021-12-31</td>\n",
       "      <td>115</td>\n",
       "      <td>4346655768693745643568852767504062580256466051...</td>\n",
       "      <td>115_70542928.py</td>\n",
       "      <td>115_70542928.py</td>\n",
       "      <td>0.0</td>\n",
       "      <td>-48.0</td>\n",
       "    </tr>\n",
       "    <tr>\n",
       "      <th>4</th>\n",
       "      <td>70542928</td>\n",
       "      <td>2021-12-31</td>\n",
       "      <td>116</td>\n",
       "      <td>817770325994397771\\n</td>\n",
       "      <td>116_70542928.py</td>\n",
       "      <td>116_70542928.py</td>\n",
       "      <td>0.0</td>\n",
       "      <td>-48.0</td>\n",
       "    </tr>\n",
       "    <tr>\n",
       "      <th>6</th>\n",
       "      <td>70543017</td>\n",
       "      <td>2021-12-31</td>\n",
       "      <td>118</td>\n",
       "      <td>data = func(\"value\")\\nassert all(\"Yes\" in data...</td>\n",
       "      <td>118_70543017.py</td>\n",
       "      <td>118_70543017.py</td>\n",
       "      <td>0.0</td>\n",
       "      <td>-48.0</td>\n",
       "    </tr>\n",
       "    <tr>\n",
       "      <th>...</th>\n",
       "      <td>...</td>\n",
       "      <td>...</td>\n",
       "      <td>...</td>\n",
       "      <td>...</td>\n",
       "      <td>...</td>\n",
       "      <td>...</td>\n",
       "      <td>...</td>\n",
       "      <td>...</td>\n",
       "    </tr>\n",
       "    <tr>\n",
       "      <th>940792</th>\n",
       "      <td>77356328</td>\n",
       "      <td>2023-10-25</td>\n",
       "      <td>13707</td>\n",
       "      <td>import fitz  # PyMuPDF library\\nimport tkinter...</td>\n",
       "      <td>13707_77356328.py</td>\n",
       "      <td>13707_77356328.py</td>\n",
       "      <td>0.0</td>\n",
       "      <td>47.0</td>\n",
       "    </tr>\n",
       "    <tr>\n",
       "      <th>940795</th>\n",
       "      <td>77356332</td>\n",
       "      <td>2023-10-25</td>\n",
       "      <td>13710</td>\n",
       "      <td>from datetime import datetime\\nimport pandas a...</td>\n",
       "      <td>13710_77356332.py</td>\n",
       "      <td>13710_77356332.py</td>\n",
       "      <td>0.0</td>\n",
       "      <td>47.0</td>\n",
       "    </tr>\n",
       "    <tr>\n",
       "      <th>940798</th>\n",
       "      <td>77356352</td>\n",
       "      <td>2023-10-25</td>\n",
       "      <td>13713</td>\n",
       "      <td>import re\\nre.match(r'^-?\\d{1,3}[,.](\\d{3}[,.]...</td>\n",
       "      <td>13713_77356352.py</td>\n",
       "      <td>13713_77356352.py</td>\n",
       "      <td>0.0</td>\n",
       "      <td>47.0</td>\n",
       "    </tr>\n",
       "    <tr>\n",
       "      <th>940799</th>\n",
       "      <td>77356372</td>\n",
       "      <td>2023-10-25</td>\n",
       "      <td>13714</td>\n",
       "      <td>from tkinter import Tk, Canvas, Button, Checkb...</td>\n",
       "      <td>13714_77356372.py</td>\n",
       "      <td>13714_77356372.py</td>\n",
       "      <td>2.0</td>\n",
       "      <td>47.0</td>\n",
       "    </tr>\n",
       "    <tr>\n",
       "      <th>940800</th>\n",
       "      <td>77356372</td>\n",
       "      <td>2023-10-25</td>\n",
       "      <td>13715</td>\n",
       "      <td>def clean_temp_files():\\n    username = getpas...</td>\n",
       "      <td>13715_77356372.py</td>\n",
       "      <td>13715_77356372.py</td>\n",
       "      <td>22.0</td>\n",
       "      <td>47.0</td>\n",
       "    </tr>\n",
       "  </tbody>\n",
       "</table>\n",
       "<p>482331 rows × 8 columns</p>\n",
       "</div>"
      ],
      "text/plain": [
       "              id       cdate    idx  \\\n",
       "0       70702244  2021-12-28      0   \n",
       "1       70542818  2021-12-31    113   \n",
       "3       70542928  2021-12-31    115   \n",
       "4       70542928  2021-12-31    116   \n",
       "6       70543017  2021-12-31    118   \n",
       "...          ...         ...    ...   \n",
       "940792  77356328  2023-10-25  13707   \n",
       "940795  77356332  2023-10-25  13710   \n",
       "940798  77356352  2023-10-25  13713   \n",
       "940799  77356372  2023-10-25  13714   \n",
       "940800  77356372  2023-10-25  13715   \n",
       "\n",
       "                                                      src               Path  \\\n",
       "0       cmd = r'yes y | makepkg -si'\\noutput = subproc...      0_70702244.py   \n",
       "1       import Conv\\nfrom os import getcwd\\nfrom time ...    113_70542818.py   \n",
       "3       4346655768693745643568852767504062580256466051...    115_70542928.py   \n",
       "4                                    817770325994397771\\n    116_70542928.py   \n",
       "6       data = func(\"value\")\\nassert all(\"Yes\" in data...    118_70543017.py   \n",
       "...                                                   ...                ...   \n",
       "940792  import fitz  # PyMuPDF library\\nimport tkinter...  13707_77356328.py   \n",
       "940795  from datetime import datetime\\nimport pandas a...  13710_77356332.py   \n",
       "940798  import re\\nre.match(r'^-?\\d{1,3}[,.](\\d{3}[,.]...  13713_77356352.py   \n",
       "940799  from tkinter import Tk, Canvas, Button, Checkb...  13714_77356372.py   \n",
       "940800  def clean_temp_files():\\n    username = getpas...  13715_77356372.py   \n",
       "\n",
       "                File Name  Cognitive Complexity  rel_week  \n",
       "0           0_70702244.py                   0.0     -49.0  \n",
       "1         113_70542818.py                   0.0     -48.0  \n",
       "3         115_70542928.py                   0.0     -48.0  \n",
       "4         116_70542928.py                   0.0     -48.0  \n",
       "6         118_70543017.py                   0.0     -48.0  \n",
       "...                   ...                   ...       ...  \n",
       "940792  13707_77356328.py                   0.0      47.0  \n",
       "940795  13710_77356332.py                   0.0      47.0  \n",
       "940798  13713_77356352.py                   0.0      47.0  \n",
       "940799  13714_77356372.py                   2.0      47.0  \n",
       "940800  13715_77356372.py                  22.0      47.0  \n",
       "\n",
       "[482331 rows x 8 columns]"
      ]
     },
     "execution_count": 35,
     "metadata": {},
     "output_type": "execute_result"
    }
   ],
   "source": [
    "calc_ed_com_df"
   ]
  },
  {
   "cell_type": "code",
   "execution_count": 36,
   "metadata": {},
   "outputs": [
    {
     "name": "stderr",
     "output_type": "stream",
     "text": [
      "/tmp/ipykernel_263108/3161297218.py:1: SettingWithCopyWarning: \n",
      "A value is trying to be set on a copy of a slice from a DataFrame.\n",
      "Try using .loc[row_indexer,col_indexer] = value instead\n",
      "\n",
      "See the caveats in the documentation: https://pandas.pydata.org/pandas-docs/stable/user_guide/indexing.html#returning-a-view-versus-a-copy\n",
      "  calc_ed_com_df['rel_week'] = np.floor((pd.to_datetime(calc_ed_com_df['cdate'])- datetime.datetime(2022,11,30)).dt.days/7)\n"
     ]
    }
   ],
   "source": [
    "calc_ed_com_df['rel_week'] = np.floor((pd.to_datetime(calc_ed_com_df['cdate'])- datetime.datetime(2022,11,30)).dt.days/7)\n"
   ]
  },
  {
   "cell_type": "code",
   "execution_count": 47,
   "metadata": {},
   "outputs": [
    {
     "name": "stdout",
     "output_type": "stream",
     "text": [
      "<class 'pandas.core.frame.DataFrame'>\n",
      "Index: 293704 entries, 0 to 940800\n",
      "Data columns (total 8 columns):\n",
      " #   Column                Non-Null Count   Dtype  \n",
      "---  ------                --------------   -----  \n",
      " 0   id                    293704 non-null  int64  \n",
      " 1   cdate                 293704 non-null  object \n",
      " 2   idx                   293704 non-null  int64  \n",
      " 3   src                   293704 non-null  object \n",
      " 4   Path                  293704 non-null  object \n",
      " 5   File Name             293704 non-null  object \n",
      " 6   Cognitive Complexity  293704 non-null  float64\n",
      " 7   rel_week              293704 non-null  float64\n",
      "dtypes: float64(2), int64(2), object(4)\n",
      "memory usage: 20.2+ MB\n"
     ]
    }
   ],
   "source": [
    "calc_ed_com_df[(calc_ed_com_df['rel_week']>=-52)&(calc_ed_com_df['rel_week']<52)].info()"
   ]
  },
  {
   "cell_type": "code",
   "execution_count": 37,
   "metadata": {},
   "outputs": [],
   "source": [
    "calc_ed_com_mean_df = calc_ed_com_df.groupby(['rel_week']).mean(numeric_only=True).reset_index()\n",
    "# ['Cognitive Complexity']"
   ]
  },
  {
   "cell_type": "code",
   "execution_count": 38,
   "metadata": {},
   "outputs": [
    {
     "data": {
      "text/html": [
       "<div>\n",
       "<style scoped>\n",
       "    .dataframe tbody tr th:only-of-type {\n",
       "        vertical-align: middle;\n",
       "    }\n",
       "\n",
       "    .dataframe tbody tr th {\n",
       "        vertical-align: top;\n",
       "    }\n",
       "\n",
       "    .dataframe thead th {\n",
       "        text-align: right;\n",
       "    }\n",
       "</style>\n",
       "<table border=\"1\" class=\"dataframe\">\n",
       "  <thead>\n",
       "    <tr style=\"text-align: right;\">\n",
       "      <th></th>\n",
       "      <th>rel_week</th>\n",
       "      <th>id</th>\n",
       "      <th>idx</th>\n",
       "      <th>Cognitive Complexity</th>\n",
       "    </tr>\n",
       "  </thead>\n",
       "  <tbody>\n",
       "    <tr>\n",
       "      <th>0</th>\n",
       "      <td>-100.0</td>\n",
       "      <td>6.555671e+07</td>\n",
       "      <td>390480.428283</td>\n",
       "      <td>1.130909</td>\n",
       "    </tr>\n",
       "    <tr>\n",
       "      <th>1</th>\n",
       "      <td>-99.0</td>\n",
       "      <td>6.564128e+07</td>\n",
       "      <td>379233.726323</td>\n",
       "      <td>1.047586</td>\n",
       "    </tr>\n",
       "    <tr>\n",
       "      <th>2</th>\n",
       "      <td>-98.0</td>\n",
       "      <td>6.574825e+07</td>\n",
       "      <td>384568.220445</td>\n",
       "      <td>1.087390</td>\n",
       "    </tr>\n",
       "    <tr>\n",
       "      <th>3</th>\n",
       "      <td>-97.0</td>\n",
       "      <td>6.585632e+07</td>\n",
       "      <td>367778.865407</td>\n",
       "      <td>0.901617</td>\n",
       "    </tr>\n",
       "    <tr>\n",
       "      <th>4</th>\n",
       "      <td>-96.0</td>\n",
       "      <td>6.596760e+07</td>\n",
       "      <td>355703.084840</td>\n",
       "      <td>0.979995</td>\n",
       "    </tr>\n",
       "  </tbody>\n",
       "</table>\n",
       "</div>"
      ],
      "text/plain": [
       "   rel_week            id            idx  Cognitive Complexity\n",
       "0    -100.0  6.555671e+07  390480.428283              1.130909\n",
       "1     -99.0  6.564128e+07  379233.726323              1.047586\n",
       "2     -98.0  6.574825e+07  384568.220445              1.087390\n",
       "3     -97.0  6.585632e+07  367778.865407              0.901617\n",
       "4     -96.0  6.596760e+07  355703.084840              0.979995"
      ]
     },
     "execution_count": 38,
     "metadata": {},
     "output_type": "execute_result"
    }
   ],
   "source": [
    "calc_ed_com_mean_df.head()"
   ]
  },
  {
   "cell_type": "code",
   "execution_count": 39,
   "metadata": {},
   "outputs": [],
   "source": [
    "chow_df = calc_ed_com_mean_df[['rel_week', 'Cognitive Complexity']]"
   ]
  },
  {
   "cell_type": "code",
   "execution_count": 31,
   "metadata": {},
   "outputs": [],
   "source": [
    "chow_df = chow_df[(chow_df['rel_week']>=-52)&(chow_df['rel_week']<52)]"
   ]
  },
  {
   "cell_type": "code",
   "execution_count": 32,
   "metadata": {},
   "outputs": [],
   "source": [
    "x = chow_df['rel_week'].values"
   ]
  },
  {
   "cell_type": "code",
   "execution_count": 33,
   "metadata": {},
   "outputs": [
    {
     "data": {
      "text/plain": [
       "52"
      ]
     },
     "execution_count": 33,
     "metadata": {},
     "output_type": "execute_result"
    }
   ],
   "source": [
    "np.argmax(np.where(x <= 0)) "
   ]
  },
  {
   "cell_type": "code",
   "execution_count": 34,
   "metadata": {},
   "outputs": [],
   "source": [
    "chow_df_1year = chow_df[chow_df['rel_week']>=-52]\n",
    "st_chow_1year = st.Stats(chow_df_1year['rel_week'].values, chow_df_1year['Cognitive Complexity'].values, 2, 0.95)\n",
    "F_stat_1, p_value_1 = st_chow_1year.chow_test()\n"
   ]
  },
  {
   "cell_type": "code",
   "execution_count": 35,
   "metadata": {},
   "outputs": [
    {
     "data": {
      "text/plain": [
       "51"
      ]
     },
     "execution_count": 35,
     "metadata": {},
     "output_type": "execute_result"
    }
   ],
   "source": [
    "np.argmax(np.where(x < 0))"
   ]
  },
  {
   "cell_type": "code",
   "execution_count": 36,
   "metadata": {},
   "outputs": [
    {
     "data": {
      "text/plain": [
       "array([-52., -51., -50., -49., -48., -47., -46., -45., -44., -43., -42.,\n",
       "       -41., -40., -39., -38., -37., -36., -35., -34., -33., -32., -31.,\n",
       "       -30., -29., -28., -27., -26., -25., -24., -23., -22., -21., -20.,\n",
       "       -19., -18., -17., -16., -15., -14., -13., -12., -11., -10.,  -9.,\n",
       "        -8.,  -7.,  -6.,  -5.,  -4.,  -3.,  -2.])"
      ]
     },
     "execution_count": 36,
     "metadata": {},
     "output_type": "execute_result"
    }
   ],
   "source": [
    "x[:51]"
   ]
  },
  {
   "cell_type": "code",
   "execution_count": 44,
   "metadata": {},
   "outputs": [
    {
     "data": {
      "image/png": "[encoded data removed]",
      "text/plain": [
       "<Figure size 1000x600 with 1 Axes>"
      ]
     },
     "metadata": {},
     "output_type": "display_data"
    }
   ],
   "source": [
    "x = chow_df_1year['rel_week'].values\n",
    "y = chow_df_1year['Cognitive Complexity'].values\n",
    "\n",
    "split_idx = np.argmax(np.where(x < 0))+1\n",
    "x1= x[:split_idx]\n",
    "x2= x[split_idx:]\n",
    "# 시각화\n",
    "plt.figure(figsize=(10, 6))\n",
    "plt.scatter(x, y,  alpha=0.6, color='darkgray')\n",
    "plt.plot(x, st_chow_1year.y_predict, label=\"Full Model\", linestyle=\"--\", color=\"black\")  \n",
    "\n",
    "\n",
    "plt.plot(x1, st_chow_1year.y1_predict, label=\"before chatGPT\", linewidth='2')\n",
    "plt.fill_between(x1, st_chow_1year.y1_predict - st_chow_1year.y1_conf_interval, st_chow_1year.y1_predict + st_chow_1year.y1_conf_interval, alpha=0.3)\n",
    "\n",
    "plt.plot(x2, st_chow_1year.y2_predict, label=\"after chatGPT\", linewidth='2')\n",
    "plt.fill_between(x2, st_chow_1year.y2_predict - st_chow_1year.y2_conf_interval, st_chow_1year.y2_predict + st_chow_1year.y2_conf_interval, alpha=0.3)\n",
    "\n",
    "plt.text(30, 1.5, s=f'F-Statistic : {F_stat_1:.2f}\\np-value : {p_value_1:.4f}', fontsize = 10) #\n",
    "plt.axvline(x=0,     color='red',    linestyle='-.', linewidth=1)\n",
    "\n",
    "plt.legend(bbox_to_anchor=(1.00, 1), loc='upper left')\n",
    "plt.title(f\"Structural Change of Code Complexity around ChatGPT release\")\n",
    "plt.xlabel(\"Week Relative to ChatGPT Release\")\n",
    "plt.ylabel(\"Weekly Average Complexity\")\n",
    "plt.savefig(\"complexity_chow_ver3.png\", dpi=300, bbox_inches='tight')  # DPI 설정 및 여백 최소화\n",
    "plt.show()\n"
   ]
  },
  {
   "cell_type": "code",
   "execution_count": 43,
   "metadata": {},
   "outputs": [
    {
     "data": {
      "text/plain": [
       "<Figure size 640x480 with 0 Axes>"
      ]
     },
     "metadata": {},
     "output_type": "display_data"
    }
   ],
   "source": [
    "plt.savefig(\"complexity_chow_ver3.png\", dpi=300, bbox_inches='tight')  # DPI 설정 및 여백 최소화"
   ]
  },
  {
   "cell_type": "code",
   "execution_count": 38,
   "metadata": {},
   "outputs": [],
   "source": [
    "\n",
    "with open(f'{conf.DATA_PATH}/data/cc_python_chow_df.pkl', 'wb') as f:\n",
    "    pickle.dump(chow_df, f)"
   ]
  },
  {
   "cell_type": "code",
   "execution_count": 39,
   "metadata": {},
   "outputs": [
    {
     "data": {
      "text/html": [
       "<div>\n",
       "<style scoped>\n",
       "    .dataframe tbody tr th:only-of-type {\n",
       "        vertical-align: middle;\n",
       "    }\n",
       "\n",
       "    .dataframe tbody tr th {\n",
       "        vertical-align: top;\n",
       "    }\n",
       "\n",
       "    .dataframe thead th {\n",
       "        text-align: right;\n",
       "    }\n",
       "</style>\n",
       "<table border=\"1\" class=\"dataframe\">\n",
       "  <thead>\n",
       "    <tr style=\"text-align: right;\">\n",
       "      <th></th>\n",
       "      <th>rel_week</th>\n",
       "      <th>Cognitive Complexity</th>\n",
       "    </tr>\n",
       "  </thead>\n",
       "  <tbody>\n",
       "    <tr>\n",
       "      <th>48</th>\n",
       "      <td>-52.0</td>\n",
       "      <td>1.087470</td>\n",
       "    </tr>\n",
       "    <tr>\n",
       "      <th>49</th>\n",
       "      <td>-51.0</td>\n",
       "      <td>0.974254</td>\n",
       "    </tr>\n",
       "    <tr>\n",
       "      <th>50</th>\n",
       "      <td>-50.0</td>\n",
       "      <td>1.023590</td>\n",
       "    </tr>\n",
       "    <tr>\n",
       "      <th>51</th>\n",
       "      <td>-49.0</td>\n",
       "      <td>1.026398</td>\n",
       "    </tr>\n",
       "    <tr>\n",
       "      <th>52</th>\n",
       "      <td>-48.0</td>\n",
       "      <td>0.982172</td>\n",
       "    </tr>\n",
       "  </tbody>\n",
       "</table>\n",
       "</div>"
      ],
      "text/plain": [
       "    rel_week  Cognitive Complexity\n",
       "48     -52.0              1.087470\n",
       "49     -51.0              0.974254\n",
       "50     -50.0              1.023590\n",
       "51     -49.0              1.026398\n",
       "52     -48.0              0.982172"
      ]
     },
     "execution_count": 39,
     "metadata": {},
     "output_type": "execute_result"
    }
   ],
   "source": [
    "chow_df.head()"
   ]
  },
  {
   "cell_type": "code",
   "execution_count": null,
   "metadata": {},
   "outputs": [],
   "source": []
  }
 ],
 "metadata": {
  "kernelspec": {
   "display_name": "venv_stackoverflow_src",
   "language": "python",
   "name": "python3"
  },
  "language_info": {
   "codemirror_mode": {
    "name": "ipython",
    "version": 3
   },
   "file_extension": ".py",
   "mimetype": "text/x-python",
   "name": "python",
   "nbconvert_exporter": "python",
   "pygments_lexer": "ipython3",
   "version": "3.10.12"
  }
 },
 "nbformat": 4,
 "nbformat_minor": 2
}
