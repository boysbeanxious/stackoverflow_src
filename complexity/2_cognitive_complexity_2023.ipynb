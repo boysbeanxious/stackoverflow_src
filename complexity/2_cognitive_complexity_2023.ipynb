{
 "cells": [
  {
   "cell_type": "code",
   "execution_count": 1,
   "metadata": {},
   "outputs": [],
   "source": [
    "# https://ppiazi.tistory.com/entry/python-cyclomatic-complexity-%EB%AA%A8%EB%93%88-lizard"
   ]
  },
  {
   "cell_type": "code",
   "execution_count": 2,
   "metadata": {},
   "outputs": [],
   "source": [
    "# https://github.com/terryyin/lizard"
   ]
  },
  {
   "cell_type": "code",
   "execution_count": 3,
   "metadata": {},
   "outputs": [],
   "source": [
    "# pip install cognitive_complexity"
   ]
  },
  {
   "cell_type": "code",
   "execution_count": 4,
   "metadata": {},
   "outputs": [],
   "source": [
    "#customized preprocessing pkg\n",
    "import preprocess as pp\n",
    "import pandas as pd\n",
    "import numpy as np\n",
    "import pickle\n",
    "import ast\n",
    "from cognitive_complexity.api import get_cognitive_complexity\n",
    "import pprint\n",
    "import os\n",
    "import matplotlib.pyplot as plt\n",
    "import matplotlib.ticker as ticker"
   ]
  },
  {
   "cell_type": "code",
   "execution_count": 5,
   "metadata": {},
   "outputs": [],
   "source": [
    "input_year = '2023'"
   ]
  },
  {
   "cell_type": "markdown",
   "metadata": {},
   "source": [
    "### 소스코드 complexity 계산"
   ]
  },
  {
   "cell_type": "code",
   "execution_count": 6,
   "metadata": {},
   "outputs": [],
   "source": [
    "# 파일 불러오기\n",
    "with open(f'../../data/complexity_python_df_{input_year}.pkl', 'rb') as f:\n",
    "    complexity_python_df = pickle.load(f)"
   ]
  },
  {
   "cell_type": "code",
   "execution_count": 7,
   "metadata": {},
   "outputs": [
    {
     "data": {
      "text/html": [
       "<div>\n",
       "<style scoped>\n",
       "    .dataframe tbody tr th:only-of-type {\n",
       "        vertical-align: middle;\n",
       "    }\n",
       "\n",
       "    .dataframe tbody tr th {\n",
       "        vertical-align: top;\n",
       "    }\n",
       "\n",
       "    .dataframe thead th {\n",
       "        text-align: right;\n",
       "    }\n",
       "</style>\n",
       "<table border=\"1\" class=\"dataframe\">\n",
       "  <thead>\n",
       "    <tr style=\"text-align: right;\">\n",
       "      <th></th>\n",
       "      <th>id</th>\n",
       "      <th>cdate</th>\n",
       "      <th>title</th>\n",
       "      <th>body</th>\n",
       "    </tr>\n",
       "  </thead>\n",
       "  <tbody>\n",
       "    <tr>\n",
       "      <th>0</th>\n",
       "      <td>77569752</td>\n",
       "      <td>2023-11-29</td>\n",
       "      <td>AttributeError: module 'pkgutil' has no attrib...</td>\n",
       "      <td>&lt;p&gt;I'm building openfaas function using: &lt;code...</td>\n",
       "    </tr>\n",
       "    <tr>\n",
       "      <th>1</th>\n",
       "      <td>77569778</td>\n",
       "      <td>2023-11-29</td>\n",
       "      <td>How do I get my settings to update in my app w...</td>\n",
       "      <td>&lt;p&gt;So I'm trying to make a password generator ...</td>\n",
       "    </tr>\n",
       "    <tr>\n",
       "      <th>2</th>\n",
       "      <td>77569797</td>\n",
       "      <td>2023-11-29</td>\n",
       "      <td>Looking for Cartopy option to plot land over d...</td>\n",
       "      <td>&lt;p&gt;Sea surface temperature produced as the GHR...</td>\n",
       "    </tr>\n",
       "    <tr>\n",
       "      <th>3</th>\n",
       "      <td>77569812</td>\n",
       "      <td>2023-11-29</td>\n",
       "      <td>Can't import photo in python</td>\n",
       "      <td>&lt;p&gt;Was learning a tutorial on python, then I e...</td>\n",
       "    </tr>\n",
       "    <tr>\n",
       "      <th>4</th>\n",
       "      <td>77569814</td>\n",
       "      <td>2023-11-29</td>\n",
       "      <td>Extracting Text from Text-Based Captcha</td>\n",
       "      <td>&lt;p&gt;I'm new to extracting text from a text-base...</td>\n",
       "    </tr>\n",
       "  </tbody>\n",
       "</table>\n",
       "</div>"
      ],
      "text/plain": [
       "         id       cdate                                              title  \\\n",
       "0  77569752  2023-11-29  AttributeError: module 'pkgutil' has no attrib...   \n",
       "1  77569778  2023-11-29  How do I get my settings to update in my app w...   \n",
       "2  77569797  2023-11-29  Looking for Cartopy option to plot land over d...   \n",
       "3  77569812  2023-11-29                       Can't import photo in python   \n",
       "4  77569814  2023-11-29            Extracting Text from Text-Based Captcha   \n",
       "\n",
       "                                                body  \n",
       "0  <p>I'm building openfaas function using: <code...  \n",
       "1  <p>So I'm trying to make a password generator ...  \n",
       "2  <p>Sea surface temperature produced as the GHR...  \n",
       "3  <p>Was learning a tutorial on python, then I e...  \n",
       "4  <p>I'm new to extracting text from a text-base...  "
      ]
     },
     "execution_count": 7,
     "metadata": {},
     "output_type": "execute_result"
    }
   ],
   "source": [
    "complexity_python_df.head()"
   ]
  },
  {
   "cell_type": "code",
   "execution_count": 8,
   "metadata": {},
   "outputs": [
    {
     "data": {
      "text/plain": [
       "'2023-12-03'"
      ]
     },
     "execution_count": 8,
     "metadata": {},
     "output_type": "execute_result"
    }
   ],
   "source": [
    "complexity_python_df['cdate'].max()"
   ]
  },
  {
   "cell_type": "code",
   "execution_count": 9,
   "metadata": {},
   "outputs": [],
   "source": [
    "htmlp = pp.HTMLParser()\n",
    "codep = pp.CodeSectionParser()"
   ]
  },
  {
   "cell_type": "code",
   "execution_count": 10,
   "metadata": {},
   "outputs": [],
   "source": [
    "complexity_python_df['c_h_body'] = complexity_python_df['body'].apply(lambda x : htmlp.clean_html_str(x))"
   ]
  },
  {
   "cell_type": "code",
   "execution_count": 11,
   "metadata": {},
   "outputs": [
    {
     "name": "stdout",
     "output_type": "stream",
     "text": [
      "<class 'pandas.core.frame.DataFrame'>\n",
      "RangeIndex: 134533 entries, 0 to 134532\n",
      "Data columns (total 5 columns):\n",
      " #   Column    Non-Null Count   Dtype \n",
      "---  ------    --------------   ----- \n",
      " 0   id        134533 non-null  int64 \n",
      " 1   cdate     134533 non-null  object\n",
      " 2   title     134533 non-null  object\n",
      " 3   body      134533 non-null  object\n",
      " 4   c_h_body  134533 non-null  object\n",
      "dtypes: int64(1), object(4)\n",
      "memory usage: 5.1+ MB\n"
     ]
    }
   ],
   "source": [
    "complexity_python_df.info()"
   ]
  },
  {
   "cell_type": "code",
   "execution_count": 12,
   "metadata": {},
   "outputs": [],
   "source": [
    "complexity_python_df['c_body'] = complexity_python_df['body'].apply(lambda x : codep(x))"
   ]
  },
  {
   "cell_type": "code",
   "execution_count": 13,
   "metadata": {},
   "outputs": [
    {
     "data": {
      "text/html": [
       "<div>\n",
       "<style scoped>\n",
       "    .dataframe tbody tr th:only-of-type {\n",
       "        vertical-align: middle;\n",
       "    }\n",
       "\n",
       "    .dataframe tbody tr th {\n",
       "        vertical-align: top;\n",
       "    }\n",
       "\n",
       "    .dataframe thead th {\n",
       "        text-align: right;\n",
       "    }\n",
       "</style>\n",
       "<table border=\"1\" class=\"dataframe\">\n",
       "  <thead>\n",
       "    <tr style=\"text-align: right;\">\n",
       "      <th></th>\n",
       "      <th>id</th>\n",
       "      <th>cdate</th>\n",
       "      <th>title</th>\n",
       "      <th>body</th>\n",
       "      <th>c_h_body</th>\n",
       "      <th>c_body</th>\n",
       "    </tr>\n",
       "  </thead>\n",
       "  <tbody>\n",
       "    <tr>\n",
       "      <th>0</th>\n",
       "      <td>77569752</td>\n",
       "      <td>2023-11-29</td>\n",
       "      <td>AttributeError: module 'pkgutil' has no attrib...</td>\n",
       "      <td>&lt;p&gt;I'm building openfaas function using: &lt;code...</td>\n",
       "      <td>I'm building openfaas function using: faas-cli...</td>\n",
       "      <td>{'code_sections': [{'off_beg': 120, 'off_end':...</td>\n",
       "    </tr>\n",
       "    <tr>\n",
       "      <th>1</th>\n",
       "      <td>77569778</td>\n",
       "      <td>2023-11-29</td>\n",
       "      <td>How do I get my settings to update in my app w...</td>\n",
       "      <td>&lt;p&gt;So I'm trying to make a password generator ...</td>\n",
       "      <td>So I'm trying to make a password generator in ...</td>\n",
       "      <td>{'code_sections': []}</td>\n",
       "    </tr>\n",
       "    <tr>\n",
       "      <th>2</th>\n",
       "      <td>77569797</td>\n",
       "      <td>2023-11-29</td>\n",
       "      <td>Looking for Cartopy option to plot land over d...</td>\n",
       "      <td>&lt;p&gt;Sea surface temperature produced as the GHR...</td>\n",
       "      <td>Sea surface temperature produced as the GHRSST...</td>\n",
       "      <td>{'code_sections': []}</td>\n",
       "    </tr>\n",
       "    <tr>\n",
       "      <th>3</th>\n",
       "      <td>77569812</td>\n",
       "      <td>2023-11-29</td>\n",
       "      <td>Can't import photo in python</td>\n",
       "      <td>&lt;p&gt;Was learning a tutorial on python, then I e...</td>\n",
       "      <td>Was learning a tutorial on python, then I enco...</td>\n",
       "      <td>{'code_sections': [{'off_beg': 223, 'off_end':...</td>\n",
       "    </tr>\n",
       "    <tr>\n",
       "      <th>4</th>\n",
       "      <td>77569814</td>\n",
       "      <td>2023-11-29</td>\n",
       "      <td>Extracting Text from Text-Based Captcha</td>\n",
       "      <td>&lt;p&gt;I'm new to extracting text from a text-base...</td>\n",
       "      <td>I'm new to extracting text from a text-based c...</td>\n",
       "      <td>{'code_sections': [{'off_beg': 920, 'off_end':...</td>\n",
       "    </tr>\n",
       "    <tr>\n",
       "      <th>...</th>\n",
       "      <td>...</td>\n",
       "      <td>...</td>\n",
       "      <td>...</td>\n",
       "      <td>...</td>\n",
       "      <td>...</td>\n",
       "      <td>...</td>\n",
       "    </tr>\n",
       "    <tr>\n",
       "      <th>134528</th>\n",
       "      <td>77591142</td>\n",
       "      <td>2023-12-02</td>\n",
       "      <td>How to check whether a string is Palindrome or...</td>\n",
       "      <td>&lt;p&gt;I want to take a input of a string and want...</td>\n",
       "      <td>I want to take a input of a string and want to...</td>\n",
       "      <td>{'code_sections': []}</td>\n",
       "    </tr>\n",
       "    <tr>\n",
       "      <th>134529</th>\n",
       "      <td>77591151</td>\n",
       "      <td>2023-12-02</td>\n",
       "      <td>Queries question related to python for beginners?</td>\n",
       "      <td>&lt;p&gt;Write a program to find the given number is...</td>\n",
       "      <td>Write a program to find the given number is po...</td>\n",
       "      <td>{'code_sections': []}</td>\n",
       "    </tr>\n",
       "    <tr>\n",
       "      <th>134530</th>\n",
       "      <td>77591165</td>\n",
       "      <td>2023-12-02</td>\n",
       "      <td>Why are there so many data loss after dask.dat...</td>\n",
       "      <td>&lt;p&gt;Im a newbie to Dask distribute,now I am doi...</td>\n",
       "      <td>Im a newbie to Dask distribute,now I am doing ...</td>\n",
       "      <td>{'code_sections': []}</td>\n",
       "    </tr>\n",
       "    <tr>\n",
       "      <th>134531</th>\n",
       "      <td>77591174</td>\n",
       "      <td>2023-12-02</td>\n",
       "      <td>Printing the fibonacci series upto ten element...</td>\n",
       "      <td>&lt;p&gt;So, as a beginner in Python, I have been tr...</td>\n",
       "      <td>So, as a beginner in Python, I have been tryin...</td>\n",
       "      <td>{'code_sections': [{'off_beg': 1041, 'off_end'...</td>\n",
       "    </tr>\n",
       "    <tr>\n",
       "      <th>134532</th>\n",
       "      <td>77591186</td>\n",
       "      <td>2023-12-02</td>\n",
       "      <td>Table Tennis Detect When Ball Hits Racket,</td>\n",
       "      <td>&lt;p&gt;How do you detect when the ball hits the ta...</td>\n",
       "      <td>How do you detect when the ball hits the table...</td>\n",
       "      <td>{'code_sections': []}</td>\n",
       "    </tr>\n",
       "  </tbody>\n",
       "</table>\n",
       "<p>134533 rows × 6 columns</p>\n",
       "</div>"
      ],
      "text/plain": [
       "              id       cdate  \\\n",
       "0       77569752  2023-11-29   \n",
       "1       77569778  2023-11-29   \n",
       "2       77569797  2023-11-29   \n",
       "3       77569812  2023-11-29   \n",
       "4       77569814  2023-11-29   \n",
       "...          ...         ...   \n",
       "134528  77591142  2023-12-02   \n",
       "134529  77591151  2023-12-02   \n",
       "134530  77591165  2023-12-02   \n",
       "134531  77591174  2023-12-02   \n",
       "134532  77591186  2023-12-02   \n",
       "\n",
       "                                                    title  \\\n",
       "0       AttributeError: module 'pkgutil' has no attrib...   \n",
       "1       How do I get my settings to update in my app w...   \n",
       "2       Looking for Cartopy option to plot land over d...   \n",
       "3                            Can't import photo in python   \n",
       "4                 Extracting Text from Text-Based Captcha   \n",
       "...                                                   ...   \n",
       "134528  How to check whether a string is Palindrome or...   \n",
       "134529  Queries question related to python for beginners?   \n",
       "134530  Why are there so many data loss after dask.dat...   \n",
       "134531  Printing the fibonacci series upto ten element...   \n",
       "134532         Table Tennis Detect When Ball Hits Racket,   \n",
       "\n",
       "                                                     body  \\\n",
       "0       <p>I'm building openfaas function using: <code...   \n",
       "1       <p>So I'm trying to make a password generator ...   \n",
       "2       <p>Sea surface temperature produced as the GHR...   \n",
       "3       <p>Was learning a tutorial on python, then I e...   \n",
       "4       <p>I'm new to extracting text from a text-base...   \n",
       "...                                                   ...   \n",
       "134528  <p>I want to take a input of a string and want...   \n",
       "134529  <p>Write a program to find the given number is...   \n",
       "134530  <p>Im a newbie to Dask distribute,now I am doi...   \n",
       "134531  <p>So, as a beginner in Python, I have been tr...   \n",
       "134532  <p>How do you detect when the ball hits the ta...   \n",
       "\n",
       "                                                 c_h_body  \\\n",
       "0       I'm building openfaas function using: faas-cli...   \n",
       "1       So I'm trying to make a password generator in ...   \n",
       "2       Sea surface temperature produced as the GHRSST...   \n",
       "3       Was learning a tutorial on python, then I enco...   \n",
       "4       I'm new to extracting text from a text-based c...   \n",
       "...                                                   ...   \n",
       "134528  I want to take a input of a string and want to...   \n",
       "134529  Write a program to find the given number is po...   \n",
       "134530  Im a newbie to Dask distribute,now I am doing ...   \n",
       "134531  So, as a beginner in Python, I have been tryin...   \n",
       "134532  How do you detect when the ball hits the table...   \n",
       "\n",
       "                                                   c_body  \n",
       "0       {'code_sections': [{'off_beg': 120, 'off_end':...  \n",
       "1                                   {'code_sections': []}  \n",
       "2                                   {'code_sections': []}  \n",
       "3       {'code_sections': [{'off_beg': 223, 'off_end':...  \n",
       "4       {'code_sections': [{'off_beg': 920, 'off_end':...  \n",
       "...                                                   ...  \n",
       "134528                              {'code_sections': []}  \n",
       "134529                              {'code_sections': []}  \n",
       "134530                              {'code_sections': []}  \n",
       "134531  {'code_sections': [{'off_beg': 1041, 'off_end'...  \n",
       "134532                              {'code_sections': []}  \n",
       "\n",
       "[134533 rows x 6 columns]"
      ]
     },
     "execution_count": 13,
     "metadata": {},
     "output_type": "execute_result"
    }
   ],
   "source": [
    "complexity_python_df"
   ]
  },
  {
   "cell_type": "code",
   "execution_count": 14,
   "metadata": {},
   "outputs": [],
   "source": [
    "complexity_python_src = complexity_python_df[['id', 'c_body']]"
   ]
  },
  {
   "cell_type": "code",
   "execution_count": 15,
   "metadata": {},
   "outputs": [
    {
     "name": "stderr",
     "output_type": "stream",
     "text": [
      "/tmp/ipykernel_1891219/2692464613.py:1: SettingWithCopyWarning: \n",
      "A value is trying to be set on a copy of a slice from a DataFrame.\n",
      "Try using .loc[row_indexer,col_indexer] = value instead\n",
      "\n",
      "See the caveats in the documentation: https://pandas.pydata.org/pandas-docs/stable/user_guide/indexing.html#returning-a-view-versus-a-copy\n",
      "  complexity_python_src['code_len'] = complexity_python_src['c_body'].apply(lambda x: len(x['code_sections']))\n"
     ]
    }
   ],
   "source": [
    "complexity_python_src['code_len'] = complexity_python_src['c_body'].apply(lambda x: len(x['code_sections']))"
   ]
  },
  {
   "cell_type": "code",
   "execution_count": 16,
   "metadata": {},
   "outputs": [],
   "source": [
    "complexity_python_src = complexity_python_src[complexity_python_src['code_len']>0]"
   ]
  },
  {
   "cell_type": "code",
   "execution_count": 17,
   "metadata": {},
   "outputs": [
    {
     "data": {
      "text/html": [
       "<div>\n",
       "<style scoped>\n",
       "    .dataframe tbody tr th:only-of-type {\n",
       "        vertical-align: middle;\n",
       "    }\n",
       "\n",
       "    .dataframe tbody tr th {\n",
       "        vertical-align: top;\n",
       "    }\n",
       "\n",
       "    .dataframe thead th {\n",
       "        text-align: right;\n",
       "    }\n",
       "</style>\n",
       "<table border=\"1\" class=\"dataframe\">\n",
       "  <thead>\n",
       "    <tr style=\"text-align: right;\">\n",
       "      <th></th>\n",
       "      <th>id</th>\n",
       "      <th>c_body</th>\n",
       "      <th>code_len</th>\n",
       "    </tr>\n",
       "  </thead>\n",
       "  <tbody>\n",
       "    <tr>\n",
       "      <th>0</th>\n",
       "      <td>77569752</td>\n",
       "      <td>{'code_sections': [{'off_beg': 120, 'off_end':...</td>\n",
       "      <td>3</td>\n",
       "    </tr>\n",
       "    <tr>\n",
       "      <th>3</th>\n",
       "      <td>77569812</td>\n",
       "      <td>{'code_sections': [{'off_beg': 223, 'off_end':...</td>\n",
       "      <td>2</td>\n",
       "    </tr>\n",
       "    <tr>\n",
       "      <th>4</th>\n",
       "      <td>77569814</td>\n",
       "      <td>{'code_sections': [{'off_beg': 920, 'off_end':...</td>\n",
       "      <td>1</td>\n",
       "    </tr>\n",
       "    <tr>\n",
       "      <th>5</th>\n",
       "      <td>77569838</td>\n",
       "      <td>{'code_sections': [{'off_beg': 88, 'off_end': ...</td>\n",
       "      <td>1</td>\n",
       "    </tr>\n",
       "    <tr>\n",
       "      <th>7</th>\n",
       "      <td>77569849</td>\n",
       "      <td>{'code_sections': [{'off_beg': 62, 'off_end': ...</td>\n",
       "      <td>2</td>\n",
       "    </tr>\n",
       "  </tbody>\n",
       "</table>\n",
       "</div>"
      ],
      "text/plain": [
       "         id                                             c_body  code_len\n",
       "0  77569752  {'code_sections': [{'off_beg': 120, 'off_end':...         3\n",
       "3  77569812  {'code_sections': [{'off_beg': 223, 'off_end':...         2\n",
       "4  77569814  {'code_sections': [{'off_beg': 920, 'off_end':...         1\n",
       "5  77569838  {'code_sections': [{'off_beg': 88, 'off_end': ...         1\n",
       "7  77569849  {'code_sections': [{'off_beg': 62, 'off_end': ...         2"
      ]
     },
     "execution_count": 17,
     "metadata": {},
     "output_type": "execute_result"
    }
   ],
   "source": [
    "complexity_python_src.head(5)"
   ]
  },
  {
   "cell_type": "code",
   "execution_count": 18,
   "metadata": {},
   "outputs": [],
   "source": [
    "src_df = pd.DataFrame(columns = ['id', 'src'])\n",
    "def code_explode(row) : \n",
    "    global src_df\n",
    "    row['id']\n",
    "    src_arr = []\n",
    "    for i in range(row['code_len']):\n",
    "        tmp_src_arr = []\n",
    "        tmp_src_arr.append(row['id'])\n",
    "        tmp_src_arr.append(row['c_body']['code_sections'][i]['span_str'])\n",
    "        src_df = src_df.append(pd.Series(tmp_src_arr, index=src_df.columns), ignore_index=True)\n",
    "    return True\n",
    "        "
   ]
  },
  {
   "cell_type": "code",
   "execution_count": 19,
   "metadata": {},
   "outputs": [
    {
     "data": {
      "text/plain": [
       "0         True\n",
       "3         True\n",
       "4         True\n",
       "5         True\n",
       "7         True\n",
       "          ... \n",
       "134516    True\n",
       "134519    True\n",
       "134522    True\n",
       "134526    True\n",
       "134531    True\n",
       "Length: 96833, dtype: bool"
      ]
     },
     "execution_count": 19,
     "metadata": {},
     "output_type": "execute_result"
    }
   ],
   "source": [
    "# bert_src_ex = bert_src[['q_id', 'q_prep_text']].apply(pd.Series.explode)\n",
    "complexity_python_src.apply(code_explode, axis = 1)"
   ]
  },
  {
   "cell_type": "code",
   "execution_count": 20,
   "metadata": {},
   "outputs": [],
   "source": [
    "src_df.reset_index(inplace=True)"
   ]
  },
  {
   "cell_type": "code",
   "execution_count": 21,
   "metadata": {},
   "outputs": [
    {
     "data": {
      "text/html": [
       "<div>\n",
       "<style scoped>\n",
       "    .dataframe tbody tr th:only-of-type {\n",
       "        vertical-align: middle;\n",
       "    }\n",
       "\n",
       "    .dataframe tbody tr th {\n",
       "        vertical-align: top;\n",
       "    }\n",
       "\n",
       "    .dataframe thead th {\n",
       "        text-align: right;\n",
       "    }\n",
       "</style>\n",
       "<table border=\"1\" class=\"dataframe\">\n",
       "  <thead>\n",
       "    <tr style=\"text-align: right;\">\n",
       "      <th></th>\n",
       "      <th>index</th>\n",
       "      <th>id</th>\n",
       "      <th>src</th>\n",
       "    </tr>\n",
       "  </thead>\n",
       "  <tbody>\n",
       "    <tr>\n",
       "      <th>0</th>\n",
       "      <td>0</td>\n",
       "      <td>77569752</td>\n",
       "      <td>version: 1.0\\nprovider:\\n  name: openfaas\\n  g...</td>\n",
       "    </tr>\n",
       "    <tr>\n",
       "      <th>1</th>\n",
       "      <td>1</td>\n",
       "      <td>77569752</td>\n",
       "      <td>boto3\\ndlib\\nface_recognition\\nopencv-python\\n...</td>\n",
       "    </tr>\n",
       "    <tr>\n",
       "      <th>2</th>\n",
       "      <td>2</td>\n",
       "      <td>77569752</td>\n",
       "      <td>Getting requirements to build wheel did not ru...</td>\n",
       "    </tr>\n",
       "    <tr>\n",
       "      <th>3</th>\n",
       "      <td>3</td>\n",
       "      <td>77569812</td>\n",
       "      <td>from tkinter import *\\n\\ncount = 0\\n\\n\\ndef cl...</td>\n",
       "    </tr>\n",
       "    <tr>\n",
       "      <th>4</th>\n",
       "      <td>4</td>\n",
       "      <td>77569812</td>\n",
       "      <td>photo = PhotoImage(file='C:\\\\Users\\\\Faiz\\\\`Pyc...</td>\n",
       "    </tr>\n",
       "  </tbody>\n",
       "</table>\n",
       "</div>"
      ],
      "text/plain": [
       "   index        id                                                src\n",
       "0      0  77569752  version: 1.0\\nprovider:\\n  name: openfaas\\n  g...\n",
       "1      1  77569752  boto3\\ndlib\\nface_recognition\\nopencv-python\\n...\n",
       "2      2  77569752  Getting requirements to build wheel did not ru...\n",
       "3      3  77569812  from tkinter import *\\n\\ncount = 0\\n\\n\\ndef cl...\n",
       "4      4  77569812  photo = PhotoImage(file='C:\\\\Users\\\\Faiz\\\\`Pyc..."
      ]
     },
     "execution_count": 21,
     "metadata": {},
     "output_type": "execute_result"
    }
   ],
   "source": [
    "src_df.head()"
   ]
  },
  {
   "cell_type": "code",
   "execution_count": null,
   "metadata": {},
   "outputs": [],
   "source": []
  },
  {
   "cell_type": "code",
   "execution_count": 22,
   "metadata": {},
   "outputs": [],
   "source": [
    "for i in range(src_df.shape[0]):\n",
    "    idx = src_df.iloc[i, 0]\n",
    "    qid = src_df.iloc[i, 1]\n",
    "    src = src_df.iloc[i, 2]\n",
    "    file_nm = str(idx)+'_' + str(qid)+'.py'\n",
    "    with open(f'../../data/src/{input_year}_src/{file_nm}', 'wb') as f:\n",
    "        f.write(src.encode())\n"
   ]
  },
  {
   "cell_type": "code",
   "execution_count": 20,
   "metadata": {},
   "outputs": [],
   "source": [
    "# https://github.com/rohaquinlop/complexipy"
   ]
  },
  {
   "cell_type": "code",
   "execution_count": 62,
   "metadata": {},
   "outputs": [],
   "source": [
    "# pip install complexipy"
   ]
  },
  {
   "cell_type": "code",
   "execution_count": null,
   "metadata": {},
   "outputs": [],
   "source": [
    "# !complexipy /home/mghan/sopjt/git/data/src/3_74963438.py -l file -o"
   ]
  },
  {
   "cell_type": "code",
   "execution_count": 28,
   "metadata": {},
   "outputs": [],
   "source": [
    "# cyclomatic은 모든 언어 가능 but cognitive는 언어별로 따로 분석해야함\n",
    "# 하려면 소나큐브 사야 함 \n",
    "# pyhon 기준으로는 조금 삽질하면 할 수 있을 듯.... 해보고 유의미하면 소나큐브 고?\n"
   ]
  },
  {
   "cell_type": "markdown",
   "metadata": {},
   "source": [
    "### complexity 결과 확인"
   ]
  },
  {
   "cell_type": "code",
   "execution_count": 37,
   "metadata": {},
   "outputs": [],
   "source": [
    "path = f'../../data/src/{input_year}_src'\n",
    "file_list = os.listdir(path)\n",
    "file_list_csv = [file for file in file_list if file.endswith(\".csv\")]\n",
    "\n",
    "# print (\"file_list_csv: {}\".format(file_list_csv))"
   ]
  },
  {
   "cell_type": "code",
   "execution_count": 38,
   "metadata": {},
   "outputs": [],
   "source": [
    "calc_com_df = pd.DataFrame(columns = ['Path', 'File Name', 'Cognitive Complexity'])\n",
    "for file_nm in file_list_csv :\n",
    "    tmp = pd.read_csv(path+file_nm)\n",
    "    calc_com_df = pd.concat([calc_com_df, tmp], axis = 0)"
   ]
  },
  {
   "cell_type": "code",
   "execution_count": null,
   "metadata": {},
   "outputs": [],
   "source": [
    "calc_com_df.head()"
   ]
  },
  {
   "cell_type": "code",
   "execution_count": 40,
   "metadata": {},
   "outputs": [],
   "source": [
    "calc_com_df.reset_index(drop=True, inplace=True)"
   ]
  },
  {
   "cell_type": "code",
   "execution_count": null,
   "metadata": {},
   "outputs": [],
   "source": [
    "calc_com_df.head()"
   ]
  },
  {
   "cell_type": "code",
   "execution_count": 42,
   "metadata": {},
   "outputs": [],
   "source": [
    "calc_com_df['index'] = calc_com_df['Path'].apply(lambda x : x.split('_')[0])\n",
    "# calc_com_df['Path'].apply(lambda x : [  for i in x.split('_')])"
   ]
  },
  {
   "cell_type": "code",
   "execution_count": 43,
   "metadata": {},
   "outputs": [],
   "source": [
    "calc_com_df['id'] = calc_com_df['Path'].apply(lambda x : x.split('_')[1].split('.')[0])"
   ]
  },
  {
   "cell_type": "code",
   "execution_count": null,
   "metadata": {},
   "outputs": [],
   "source": [
    "calc_com_df.sort_values(by = ['index', 'id'])"
   ]
  },
  {
   "cell_type": "code",
   "execution_count": 45,
   "metadata": {},
   "outputs": [],
   "source": [
    "calc_com_df[['index', 'id', 'Cognitive Complexity']] = calc_com_df[['index', 'id', 'Cognitive Complexity']].astype('int')"
   ]
  },
  {
   "cell_type": "code",
   "execution_count": 46,
   "metadata": {},
   "outputs": [],
   "source": [
    "src_df[['index', 'id']] = src_df[['index', 'id']].astype('int')"
   ]
  },
  {
   "cell_type": "code",
   "execution_count": null,
   "metadata": {},
   "outputs": [],
   "source": [
    "calc_com_df.info()"
   ]
  },
  {
   "cell_type": "code",
   "execution_count": null,
   "metadata": {},
   "outputs": [],
   "source": [
    "calc_com_df.sort_values(by = ['index', 'id'])"
   ]
  },
  {
   "cell_type": "code",
   "execution_count": null,
   "metadata": {},
   "outputs": [],
   "source": [
    "calc_com_df.info()"
   ]
  },
  {
   "cell_type": "code",
   "execution_count": null,
   "metadata": {},
   "outputs": [],
   "source": [
    "src_df.info()"
   ]
  },
  {
   "cell_type": "code",
   "execution_count": 51,
   "metadata": {},
   "outputs": [],
   "source": [
    "calc_com_df = pd.merge(src_df,  calc_com_df, how = 'left', on = ['index', 'id'])"
   ]
  },
  {
   "cell_type": "code",
   "execution_count": 52,
   "metadata": {},
   "outputs": [],
   "source": [
    "calc_com_df = pd.merge(complexity_python_df[['id', 'cdate']], calc_com_df, on = 'id')"
   ]
  },
  {
   "cell_type": "code",
   "execution_count": null,
   "metadata": {},
   "outputs": [],
   "source": [
    "calc_com_df.head()"
   ]
  },
  {
   "cell_type": "code",
   "execution_count": 54,
   "metadata": {},
   "outputs": [],
   "source": [
    "# 일자별로 아예 소스가 수행되지 않는 건 \n",
    "calc_com_df_back = calc_com_df.copy()\n",
    "calc_ed_com_df = calc_com_df[~calc_com_df['Path'].isna()]"
   ]
  },
  {
   "cell_type": "code",
   "execution_count": 55,
   "metadata": {},
   "outputs": [],
   "source": [
    "calc_ed_com_df = calc_ed_com_df.sort_values(by = ['cdate', 'id', 'Cognitive Complexity'], ascending = [True, True, False]).groupby('id').head(1)"
   ]
  },
  {
   "cell_type": "code",
   "execution_count": null,
   "metadata": {},
   "outputs": [],
   "source": [
    "calc_ed_com_df.head()"
   ]
  },
  {
   "cell_type": "code",
   "execution_count": 57,
   "metadata": {},
   "outputs": [],
   "source": [
    "calc_ed_com_df = calc_ed_com_df.groupby('cdate').mean()[['Cognitive Complexity']].reset_index()"
   ]
  },
  {
   "cell_type": "code",
   "execution_count": null,
   "metadata": {},
   "outputs": [],
   "source": [
    "calc_ed_com_df.head()"
   ]
  },
  {
   "cell_type": "code",
   "execution_count": 59,
   "metadata": {},
   "outputs": [],
   "source": [
    "calc_ed_com_box_df = calc_ed_com_df.copy()"
   ]
  },
  {
   "cell_type": "code",
   "execution_count": 60,
   "metadata": {},
   "outputs": [],
   "source": [
    "calc_ed_com_box_df['yyyymm'] = calc_ed_com_box_df['cdate'].str[:7]"
   ]
  },
  {
   "cell_type": "code",
   "execution_count": 61,
   "metadata": {},
   "outputs": [],
   "source": [
    "ym_list = calc_ed_com_box_df['yyyymm'].unique()"
   ]
  },
  {
   "cell_type": "code",
   "execution_count": null,
   "metadata": {},
   "outputs": [],
   "source": [
    "[calc_ed_com_box_df[calc_ed_com_box_df['yyyymm']==x]  for x in ym_list]"
   ]
  },
  {
   "cell_type": "code",
   "execution_count": null,
   "metadata": {},
   "outputs": [],
   "source": [
    "sharey = True ## 또는 sharey=False\n",
    "sharex = True ## 또는 sharex=False\n",
    "\n",
    "fig, axs = plt.subplots(1, 2, figsize = (20, 5), sharey=sharey, sharex=sharex)\n",
    "# plt.xticks(rotation=45)\n",
    "# major_xticks = ['2013-11-30','2014-11-30','2015-11-30','2016-11-30','2017-11-30','2018-11-30','2019-11-30','2020-11-30'\n",
    "#                 ,'2021-11-30', '2022-11-30', '2023-11-30']\n",
    "# yticks = np.arange(200, 2000, 400)\n",
    "axs[0].bar(calc_ed_com_df['cdate']\n",
    "        ,  calc_ed_com_df['Cognitive Complexity']\n",
    "        ,  color = 'skyblue'\n",
    "        # ,  edgecolor = 'black'\n",
    "      ) # hist type\n",
    "\n",
    "axs[0].set_title('Number of Questions over time', fontsize = 15)\n",
    "axs[0].set_xlabel('Date', fontsize = 15)\n",
    "axs[0].set_ylabel('# of Q', fontsize = 15)\n",
    "# axs[0].set_xticks(major_xticks)\n",
    "# axs[0].set_yticks(yticks)\n",
    "# axs[0].axvline([major_xticks[-2]], # add vertical line\n",
    "#            color = 'blue',\n",
    "#            linestyle = '--',\n",
    "#            linewidth = 1.5)\n",
    "axs[0].tick_params(axis='x', rotation=45)\n",
    "# axs[0].yticks(yt)\n",
    "\n",
    "axs[0].bar(calc_ed_com_df['cdate']\n",
    "        ,  calc_ed_com_df['Cognitive Complexity']\n",
    "        ,  color = 'skyblue'\n",
    "        # ,  edgecolor = 'black'\n",
    "      ) # hist type\n",
    "\n",
    "axs[1].set_title('Number of Answers over time', fontsize = 15)\n",
    "axs[1].set_xlabel('Date', fontsize = 15)\n",
    "axs[1].set_ylabel('# of A', fontsize = 15)\n",
    "# axs[1].set_xticks(major_xticks)\n",
    "# axs[1].set_yticks(yticks)\n",
    "# axs[1].axvline([major_xticks[-2]], # add vertical line\n",
    "#            color = 'blue',\n",
    "#            linestyle = '--',\n",
    "#            linewidth = 1.5)\n",
    "axs[1].tick_params(axis='x', rotation=45)\n",
    "\n",
    "plt.show();\n"
   ]
  },
  {
   "cell_type": "code",
   "execution_count": null,
   "metadata": {},
   "outputs": [],
   "source": [
    "sharey = True ## 또는 sharey=False\n",
    "sharex = True ## 또는 sharex=False\n",
    "\n",
    "fig, axs = plt.subplots(1, 2, figsize = (20, 5), sharey=False, sharex=False)\n",
    "# plt.xticks(rotation=45)\n",
    "major_xticks = ['2022-01-30','2022-02-28','2022-03-30','2022-04-30','2022-05-30','2022-06-30','2022-07-30','2022-08-30','2022-09-30','2022-10-30','2022-11-30','2022-12-30',\n",
    "                '2023-01-30','2023-02-28','2023-03-30','2023-04-30','2023-05-30','2023-06-30','2023-07-30','2023-08-30','2023-09-30','2023-10-30','2023-11-30','2023-12-30']\n",
    "axs1_xticks = ym_list\n",
    "axs1_xticks = np.insert(axs1_xticks, 0, '0')  # 인덱스 2 위치에 100을 추가 \n",
    "# yticks = np.arange(200, 2000, 400)\n",
    "axs[0].bar(calc_ed_com_df['cdate']\n",
    "        ,  calc_ed_com_df['Cognitive Complexity']\n",
    "        ,  color = 'skyblue'\n",
    "        # ,  edgecolor = 'black'\n",
    "      ) # hist type\n",
    "\n",
    "axs[0].set_title('Avg Cognitive Complexity per Day', fontsize = 15)\n",
    "axs[0].set_xlabel('Date', fontsize = 15)\n",
    "axs[0].set_ylabel('Avg Cognitive Complexity', fontsize = 15)\n",
    "axs[0].set_xticks(major_xticks)\n",
    "# axs[0].set_yticks(yticks)\n",
    "# axs[0].axvline([major_xticks[-2]], # add vertical line\n",
    "#            color = 'blue',\n",
    "#            linestyle = '--',\n",
    "#            linewidth = 1.5)\n",
    "axs[0].tick_params(axis='x', rotation=45)\n",
    "# axs[0].yticks(yt)\n",
    "\n",
    "axs[1].boxplot([calc_ed_com_box_df.loc[calc_ed_com_box_df['yyyymm']==x, 'Cognitive Complexity']  for x in ym_list]\n",
    "        # ,  edgecolor = 'black'\n",
    "      ) # hist type\n",
    "\n",
    "axs[1].set_title('Cognitive Complexity per Month', fontsize = 15)\n",
    "axs[1].set_xlabel('Date', fontsize = 15)\n",
    "axs[1].set_ylabel('Cognitive Complexity', fontsize = 15)\n",
    "axs[1].set_xticks(range(len(axs1_xticks)), axs1_xticks)\n",
    "# axs[1].set_yticks(yticks)\n",
    "# axs[1].axvline([major_xticks[-2]], # add vertical line\n",
    "#            color = 'blue',\n",
    "#            linestyle = '--',\n",
    "#            linewidth = 1.5)\n",
    "axs[1].tick_params(axis='x', rotation=45)\n",
    "\n",
    "plt.show();\n"
   ]
  },
  {
   "cell_type": "code",
   "execution_count": null,
   "metadata": {},
   "outputs": [],
   "source": [
    "ym_list[:11]\n",
    "# ym_list[12:]"
   ]
  },
  {
   "cell_type": "code",
   "execution_count": null,
   "metadata": {},
   "outputs": [],
   "source": [
    "sharey = True ## 또는 sharey=False\n",
    "sharex = True ## 또는 sharex=False\n",
    "\n",
    "fig, axs = plt.subplots(2, 1, figsize = (10, 10), sharey=True, sharex=False)\n",
    "# plt.xticks(rotation=45)\n",
    "\n",
    "axs0_xticks = ym_list[:11]\n",
    "axs0_xticks = np.insert(axs0_xticks, 0, '0')  # 인덱스 2 위치에 100을 추가 \n",
    "\n",
    "axs1_xticks = ym_list[12:]\n",
    "axs1_xticks = np.insert(axs1_xticks, 0, '0')  # 인덱스 2 위치에 100을 추가 \n",
    "yticks = np.arange(0.5, 5, 0.5)\n",
    "\n",
    "axs[0].boxplot([calc_ed_com_box_df.loc[calc_ed_com_box_df['yyyymm']==x, 'Cognitive Complexity']  for x in ym_list[:11]]\n",
    "        # ,  edgecolor = 'black'\n",
    "      ) # hist type\n",
    "\n",
    "axs[0].set_title('Cognitive Complexity per Month', fontsize = 15)\n",
    "axs[0].set_xlabel('Date', fontsize = 15)\n",
    "axs[0].set_ylabel('Cognitive Complexity', fontsize = 15)\n",
    "axs[0].set_xticks(range(len(axs0_xticks)), axs0_xticks)\n",
    "axs[0].set_yticks(yticks)\n",
    "# axs[1].axvline([major_xticks[-2]], # add vertical line\n",
    "#            color = 'blue',\n",
    "#            linestyle = '--',\n",
    "#            linewidth = 1.5)\n",
    "axs[0].tick_params(axis='x', rotation=45)\n",
    "\n",
    "\n",
    "axs[1].boxplot([calc_ed_com_box_df.loc[calc_ed_com_box_df['yyyymm']==x, 'Cognitive Complexity']  for x in ym_list[12:]]\n",
    "        # ,  edgecolor = 'black'\n",
    "      ) # hist type\n",
    "\n",
    "axs[1].set_title('Cognitive Complexity per Month', fontsize = 15)\n",
    "axs[1].set_xlabel('Date', fontsize = 15)\n",
    "axs[1].set_ylabel('Cognitive Complexity', fontsize = 15)\n",
    "axs[1].set_xticks(range(len(axs1_xticks)), axs1_xticks)\n",
    "axs[1].set_yticks(yticks)\n",
    "# axs[1].axvline([major_xticks[-2]], # add vertical line\n",
    "#            color = 'blue',\n",
    "#            linestyle = '--',\n",
    "#            linewidth = 1.5)\n",
    "axs[1].tick_params(axis='x', rotation=45)\n",
    "plt.tight_layout()    \n",
    "plt.show();\n"
   ]
  },
  {
   "cell_type": "code",
   "execution_count": null,
   "metadata": {},
   "outputs": [],
   "source": [
    "len(np.arange(2, 13, 1))"
   ]
  },
  {
   "cell_type": "code",
   "execution_count": null,
   "metadata": {},
   "outputs": [],
   "source": [
    "sharey = True ## 또는 sharey=False\n",
    "sharex = True ## 또는 sharex=False\n",
    "\n",
    "fig, axs = plt.subplots(2, 1, figsize = (10, 10), sharey=True, sharex=False)\n",
    "# plt.xticks(rotation=45)\n",
    "\n",
    "axs0_xticks = ym_list[:11]\n",
    "axs0_xticks = np.insert(axs0_xticks, 0, '0')  # 인덱스 2 위치에 100을 추가 \n",
    "\n",
    "axs1_xticks = ym_list[12:]\n",
    "axs1_xticks = np.insert(axs1_xticks, 0, '0')  # 인덱스 2 위치에 100을 추가 \n",
    "yticks = np.arange(0.5, 5, 0.5)\n",
    "\n",
    "\n",
    "axs[0].violinplot([calc_ed_com_box_df.loc[calc_ed_com_box_df['yyyymm']==x, 'Cognitive Complexity']  for x in ym_list[:11]], positions=np.arange(1, 12, 1))\n",
    "axs[0].set_title('Cognitive Complexity per Month', fontsize = 15)\n",
    "axs[0].set_xlabel('Date', fontsize = 15)\n",
    "axs[0].set_ylabel('Cognitive Complexity', fontsize = 15)\n",
    "axs[0].set_xticks(range(len(axs0_xticks)), axs0_xticks)\n",
    "axs[0].set_yticks(yticks)\n",
    "# axs[1].axvline([major_xticks[-2]], # add vertical line\n",
    "#            color = 'blue',\n",
    "#            linestyle = '--',\n",
    "#            linewidth = 1.5)\n",
    "axs[0].tick_params(axis='x', rotation=45)\n",
    "\n",
    "\n",
    "\n",
    "axs[1].violinplot([calc_ed_com_box_df.loc[calc_ed_com_box_df['yyyymm']==x, 'Cognitive Complexity']  for x in ym_list[12:]], positions=np.arange(1, 12, 1))\n",
    "axs[1].set_title('Cognitive Complexity per Month', fontsize = 15)\n",
    "axs[1].set_xlabel('Date', fontsize = 15)\n",
    "axs[1].set_ylabel('Cognitive Complexity', fontsize = 15)\n",
    "axs[1].set_xticks(range(len(axs1_xticks)), axs1_xticks)\n",
    "axs[1].set_yticks(yticks)\n",
    "# axs[1].axvline([major_xticks[-2]], # add vertical line\n",
    "#            color = 'blue',\n",
    "#            linestyle = '--',\n",
    "#            linewidth = 1.5)\n",
    "axs[1].tick_params(axis='x', rotation=45)\n",
    "plt.tight_layout()    \n",
    "plt.show();\n"
   ]
  },
  {
   "cell_type": "code",
   "execution_count": null,
   "metadata": {},
   "outputs": [],
   "source": []
  }
 ],
 "metadata": {
  "kernelspec": {
   "display_name": "Python 3",
   "language": "python",
   "name": "python3"
  },
  "language_info": {
   "codemirror_mode": {
    "name": "ipython",
    "version": 3
   },
   "file_extension": ".py",
   "mimetype": "text/x-python",
   "name": "python",
   "nbconvert_exporter": "python",
   "pygments_lexer": "ipython3",
   "version": "3.10.12"
  }
 },
 "nbformat": 4,
 "nbformat_minor": 2
}
