{
 "cells": [
  {
   "cell_type": "markdown",
   "metadata": {},
   "source": [
    "주차별 평균으로 discontinuity 확인"
   ]
  },
  {
   "cell_type": "code",
   "execution_count": 1,
   "metadata": {},
   "outputs": [],
   "source": [
    "import sys, os\n",
    "p = os.path.abspath('..')\n",
    "pp = os.path.abspath('../..')\n",
    "sys.path.insert(1, p)\n",
    "sys.path.insert(1, pp)"
   ]
  },
  {
   "cell_type": "code",
   "execution_count": 2,
   "metadata": {},
   "outputs": [],
   "source": [
    "#customized preprocessing pkg\n",
    "import pandas as pd\n",
    "import numpy as np\n",
    "import pickle\n",
    "import matplotlib.pyplot as plt\n",
    "import datetime\n",
    "import lib.stats.stats as st\n",
    "import config.config as conf"
   ]
  },
  {
   "cell_type": "markdown",
   "metadata": {},
   "source": [
    "### 소스코드 complexity 계산"
   ]
  },
  {
   "cell_type": "code",
   "execution_count": 3,
   "metadata": {},
   "outputs": [],
   "source": [
    "input_year_list = [ '2023', '2024']\n",
    "year_range = '2324'"
   ]
  },
  {
   "cell_type": "code",
   "execution_count": 4,
   "metadata": {},
   "outputs": [],
   "source": [
    "input_pl = 'python'"
   ]
  },
  {
   "cell_type": "code",
   "execution_count": 5,
   "metadata": {},
   "outputs": [],
   "source": [
    "# 파일 불러오기\n",
    "complexity_python_df = pd.DataFrame()\n",
    "\n",
    "for input_year in input_year_list : \n",
    "    with open(f'{conf.DATA_PATH}/data/complexity_{input_pl}_df_{input_year}_{year_range}.pkl', 'rb') as f:\n",
    "        tmp = pickle.load(f)\n",
    "        complexity_python_df = pd.concat([complexity_python_df, tmp], axis = 0)"
   ]
  },
  {
   "cell_type": "code",
   "execution_count": 6,
   "metadata": {},
   "outputs": [
    {
     "name": "stdout",
     "output_type": "stream",
     "text": [
      "2022-11-30\n",
      "2024-12-01\n"
     ]
    }
   ],
   "source": [
    "print(complexity_python_df['cdate'].min())\n",
    "print(complexity_python_df['cdate'].max())"
   ]
  },
  {
   "cell_type": "code",
   "execution_count": 7,
   "metadata": {},
   "outputs": [
    {
     "data": {
      "text/html": [
       "<div>\n",
       "<style scoped>\n",
       "    .dataframe tbody tr th:only-of-type {\n",
       "        vertical-align: middle;\n",
       "    }\n",
       "\n",
       "    .dataframe tbody tr th {\n",
       "        vertical-align: top;\n",
       "    }\n",
       "\n",
       "    .dataframe thead th {\n",
       "        text-align: right;\n",
       "    }\n",
       "</style>\n",
       "<table border=\"1\" class=\"dataframe\">\n",
       "  <thead>\n",
       "    <tr style=\"text-align: right;\">\n",
       "      <th></th>\n",
       "      <th>id</th>\n",
       "      <th>cdate</th>\n",
       "      <th>title</th>\n",
       "      <th>body</th>\n",
       "    </tr>\n",
       "  </thead>\n",
       "  <tbody>\n",
       "    <tr>\n",
       "      <th>0</th>\n",
       "      <td>75068491</td>\n",
       "      <td>2023-01-10</td>\n",
       "      <td>Spyne/Python/Soap. Add xsi:type to AnyDict</td>\n",
       "      <td>&lt;p&gt;Im using Spyne &amp;amp; I try to add xsi:type=...</td>\n",
       "    </tr>\n",
       "    <tr>\n",
       "      <th>1</th>\n",
       "      <td>75068517</td>\n",
       "      <td>2023-01-10</td>\n",
       "      <td>pyTorch nn.Conv2D use twice lead to an error</td>\n",
       "      <td>&lt;p&gt;I am using pytorch training a model. Here i...</td>\n",
       "    </tr>\n",
       "    <tr>\n",
       "      <th>2</th>\n",
       "      <td>75068523</td>\n",
       "      <td>2023-01-10</td>\n",
       "      <td>I can't put function result on a window on Tki...</td>\n",
       "      <td>&lt;p&gt;So right now i am making a news API and I w...</td>\n",
       "    </tr>\n",
       "    <tr>\n",
       "      <th>3</th>\n",
       "      <td>75068535</td>\n",
       "      <td>2023-01-10</td>\n",
       "      <td>Correct typing for numpy array with Drake expr...</td>\n",
       "      <td>&lt;p&gt;I making a numpy array of Drake expressions...</td>\n",
       "    </tr>\n",
       "    <tr>\n",
       "      <th>4</th>\n",
       "      <td>75068551</td>\n",
       "      <td>2023-01-10</td>\n",
       "      <td>Pytest showing error if path to test is not sp...</td>\n",
       "      <td>&lt;p&gt;I have a conftest.py inside my tests/ folde...</td>\n",
       "    </tr>\n",
       "    <tr>\n",
       "      <th>...</th>\n",
       "      <td>...</td>\n",
       "      <td>...</td>\n",
       "      <td>...</td>\n",
       "      <td>...</td>\n",
       "    </tr>\n",
       "    <tr>\n",
       "      <th>58754</th>\n",
       "      <td>79242541</td>\n",
       "      <td>2024-12-01</td>\n",
       "      <td>In Polars, how do you create a group counter /...</td>\n",
       "      <td>&lt;p&gt;How do you get a &lt;code&gt;group_id&lt;/code&gt; colu...</td>\n",
       "    </tr>\n",
       "    <tr>\n",
       "      <th>58755</th>\n",
       "      <td>79242582</td>\n",
       "      <td>2024-12-01</td>\n",
       "      <td>ModuleNotFoundError: No module named 'box.exce...</td>\n",
       "      <td>&lt;pre&gt;&lt;code&gt;from box.exceptions import BoxValue...</td>\n",
       "    </tr>\n",
       "    <tr>\n",
       "      <th>58756</th>\n",
       "      <td>79242610</td>\n",
       "      <td>2024-12-01</td>\n",
       "      <td>Implementing sklearn.ensemble.GradientBoosting...</td>\n",
       "      <td>&lt;p&gt;I'm trying to create models that support mu...</td>\n",
       "    </tr>\n",
       "    <tr>\n",
       "      <th>58757</th>\n",
       "      <td>79242639</td>\n",
       "      <td>2024-12-01</td>\n",
       "      <td>Google DV360 Reporting - Error while fetching ...</td>\n",
       "      <td>&lt;p&gt;I am trying to extract and download reports...</td>\n",
       "    </tr>\n",
       "    <tr>\n",
       "      <th>58758</th>\n",
       "      <td>79242651</td>\n",
       "      <td>2024-12-01</td>\n",
       "      <td>TypeError: Technician.__init__() missing 1 req...</td>\n",
       "      <td>&lt;p&gt;I'm trying to do my homework on object-orie...</td>\n",
       "    </tr>\n",
       "  </tbody>\n",
       "</table>\n",
       "<p>182391 rows × 4 columns</p>\n",
       "</div>"
      ],
      "text/plain": [
       "             id       cdate  \\\n",
       "0      75068491  2023-01-10   \n",
       "1      75068517  2023-01-10   \n",
       "2      75068523  2023-01-10   \n",
       "3      75068535  2023-01-10   \n",
       "4      75068551  2023-01-10   \n",
       "...         ...         ...   \n",
       "58754  79242541  2024-12-01   \n",
       "58755  79242582  2024-12-01   \n",
       "58756  79242610  2024-12-01   \n",
       "58757  79242639  2024-12-01   \n",
       "58758  79242651  2024-12-01   \n",
       "\n",
       "                                                   title  \\\n",
       "0             Spyne/Python/Soap. Add xsi:type to AnyDict   \n",
       "1           pyTorch nn.Conv2D use twice lead to an error   \n",
       "2      I can't put function result on a window on Tki...   \n",
       "3      Correct typing for numpy array with Drake expr...   \n",
       "4      Pytest showing error if path to test is not sp...   \n",
       "...                                                  ...   \n",
       "58754  In Polars, how do you create a group counter /...   \n",
       "58755  ModuleNotFoundError: No module named 'box.exce...   \n",
       "58756  Implementing sklearn.ensemble.GradientBoosting...   \n",
       "58757  Google DV360 Reporting - Error while fetching ...   \n",
       "58758  TypeError: Technician.__init__() missing 1 req...   \n",
       "\n",
       "                                                    body  \n",
       "0      <p>Im using Spyne &amp; I try to add xsi:type=...  \n",
       "1      <p>I am using pytorch training a model. Here i...  \n",
       "2      <p>So right now i am making a news API and I w...  \n",
       "3      <p>I making a numpy array of Drake expressions...  \n",
       "4      <p>I have a conftest.py inside my tests/ folde...  \n",
       "...                                                  ...  \n",
       "58754  <p>How do you get a <code>group_id</code> colu...  \n",
       "58755  <pre><code>from box.exceptions import BoxValue...  \n",
       "58756  <p>I'm trying to create models that support mu...  \n",
       "58757  <p>I am trying to extract and download reports...  \n",
       "58758  <p>I'm trying to do my homework on object-orie...  \n",
       "\n",
       "[182391 rows x 4 columns]"
      ]
     },
     "execution_count": 7,
     "metadata": {},
     "output_type": "execute_result"
    }
   ],
   "source": [
    "complexity_python_df"
   ]
  },
  {
   "cell_type": "code",
   "execution_count": 8,
   "metadata": {},
   "outputs": [],
   "source": [
    "# 파일 불러오기\n",
    "calc_com_df = pd.DataFrame()\n",
    "\n",
    "for input_year in input_year_list : \n",
    "    with open(f'{conf.DATA_PATH}/data/calc_com_df_{input_year}_{input_pl}_{year_range}.pkl', 'rb') as f:\n",
    "        tmp = pickle.load(f)\n",
    "        calc_com_df = pd.concat([calc_com_df, tmp], axis = 0)"
   ]
  },
  {
   "cell_type": "code",
   "execution_count": 9,
   "metadata": {},
   "outputs": [],
   "source": [
    "calc_com_df.reset_index(drop=True, inplace=True)"
   ]
  },
  {
   "cell_type": "code",
   "execution_count": 10,
   "metadata": {},
   "outputs": [
    {
     "data": {
      "text/html": [
       "<div>\n",
       "<style scoped>\n",
       "    .dataframe tbody tr th:only-of-type {\n",
       "        vertical-align: middle;\n",
       "    }\n",
       "\n",
       "    .dataframe tbody tr th {\n",
       "        vertical-align: top;\n",
       "    }\n",
       "\n",
       "    .dataframe thead th {\n",
       "        text-align: right;\n",
       "    }\n",
       "</style>\n",
       "<table border=\"1\" class=\"dataframe\">\n",
       "  <thead>\n",
       "    <tr style=\"text-align: right;\">\n",
       "      <th></th>\n",
       "      <th>Path</th>\n",
       "      <th>File Name</th>\n",
       "      <th>Cognitive Complexity</th>\n",
       "    </tr>\n",
       "  </thead>\n",
       "  <tbody>\n",
       "    <tr>\n",
       "      <th>0</th>\n",
       "      <td>116164_76095813.py</td>\n",
       "      <td>116164_76095813.py</td>\n",
       "      <td>0</td>\n",
       "    </tr>\n",
       "    <tr>\n",
       "      <th>1</th>\n",
       "      <td>179707_75112672.py</td>\n",
       "      <td>179707_75112672.py</td>\n",
       "      <td>0</td>\n",
       "    </tr>\n",
       "    <tr>\n",
       "      <th>2</th>\n",
       "      <td>42002_77392671.py</td>\n",
       "      <td>42002_77392671.py</td>\n",
       "      <td>1</td>\n",
       "    </tr>\n",
       "    <tr>\n",
       "      <th>3</th>\n",
       "      <td>79238_76723128.py</td>\n",
       "      <td>79238_76723128.py</td>\n",
       "      <td>0</td>\n",
       "    </tr>\n",
       "    <tr>\n",
       "      <th>4</th>\n",
       "      <td>79588_76710114.py</td>\n",
       "      <td>79588_76710114.py</td>\n",
       "      <td>0</td>\n",
       "    </tr>\n",
       "  </tbody>\n",
       "</table>\n",
       "</div>"
      ],
      "text/plain": [
       "                 Path           File Name Cognitive Complexity\n",
       "0  116164_76095813.py  116164_76095813.py                    0\n",
       "1  179707_75112672.py  179707_75112672.py                    0\n",
       "2   42002_77392671.py   42002_77392671.py                    1\n",
       "3   79238_76723128.py   79238_76723128.py                    0\n",
       "4   79588_76710114.py   79588_76710114.py                    0"
      ]
     },
     "execution_count": 10,
     "metadata": {},
     "output_type": "execute_result"
    }
   ],
   "source": [
    "calc_com_df.head()"
   ]
  },
  {
   "cell_type": "code",
   "execution_count": 11,
   "metadata": {},
   "outputs": [],
   "source": [
    "calc_com_df['idx'] = calc_com_df['Path'].apply(lambda x : x.split('_')[0])\n",
    "# calc_com_df['Path'].apply(lambda x : [  for i in x.split('_')])"
   ]
  },
  {
   "cell_type": "code",
   "execution_count": 12,
   "metadata": {},
   "outputs": [],
   "source": [
    "calc_com_df['id'] = calc_com_df['Path'].apply(lambda x : x.split('_')[1].split('.')[0])"
   ]
  },
  {
   "cell_type": "code",
   "execution_count": 13,
   "metadata": {},
   "outputs": [
    {
     "data": {
      "text/html": [
       "<div>\n",
       "<style scoped>\n",
       "    .dataframe tbody tr th:only-of-type {\n",
       "        vertical-align: middle;\n",
       "    }\n",
       "\n",
       "    .dataframe tbody tr th {\n",
       "        vertical-align: top;\n",
       "    }\n",
       "\n",
       "    .dataframe thead th {\n",
       "        text-align: right;\n",
       "    }\n",
       "</style>\n",
       "<table border=\"1\" class=\"dataframe\">\n",
       "  <thead>\n",
       "    <tr style=\"text-align: right;\">\n",
       "      <th></th>\n",
       "      <th>Path</th>\n",
       "      <th>File Name</th>\n",
       "      <th>Cognitive Complexity</th>\n",
       "      <th>idx</th>\n",
       "      <th>id</th>\n",
       "    </tr>\n",
       "  </thead>\n",
       "  <tbody>\n",
       "    <tr>\n",
       "      <th>99235</th>\n",
       "      <td>1_79280452.py</td>\n",
       "      <td>1_79280452.py</td>\n",
       "      <td>1</td>\n",
       "      <td>1</td>\n",
       "      <td>79280452</td>\n",
       "    </tr>\n",
       "    <tr>\n",
       "      <th>10084</th>\n",
       "      <td>10_75068551.py</td>\n",
       "      <td>10_75068551.py</td>\n",
       "      <td>0</td>\n",
       "      <td>10</td>\n",
       "      <td>75068551</td>\n",
       "    </tr>\n",
       "    <tr>\n",
       "      <th>127782</th>\n",
       "      <td>10_79234157.py</td>\n",
       "      <td>10_79234157.py</td>\n",
       "      <td>0</td>\n",
       "      <td>10</td>\n",
       "      <td>79234157</td>\n",
       "    </tr>\n",
       "    <tr>\n",
       "      <th>136116</th>\n",
       "      <td>100_79235663.py</td>\n",
       "      <td>100_79235663.py</td>\n",
       "      <td>1</td>\n",
       "      <td>100</td>\n",
       "      <td>79235663</td>\n",
       "    </tr>\n",
       "    <tr>\n",
       "      <th>73052</th>\n",
       "      <td>1000_75052191.py</td>\n",
       "      <td>1000_75052191.py</td>\n",
       "      <td>0</td>\n",
       "      <td>1000</td>\n",
       "      <td>75052191</td>\n",
       "    </tr>\n",
       "    <tr>\n",
       "      <th>...</th>\n",
       "      <td>...</td>\n",
       "      <td>...</td>\n",
       "      <td>...</td>\n",
       "      <td>...</td>\n",
       "      <td>...</td>\n",
       "    </tr>\n",
       "    <tr>\n",
       "      <th>16020</th>\n",
       "      <td>99995_76385310.py</td>\n",
       "      <td>99995_76385310.py</td>\n",
       "      <td>0</td>\n",
       "      <td>99995</td>\n",
       "      <td>76385310</td>\n",
       "    </tr>\n",
       "    <tr>\n",
       "      <th>6746</th>\n",
       "      <td>99996_76385310.py</td>\n",
       "      <td>99996_76385310.py</td>\n",
       "      <td>0</td>\n",
       "      <td>99996</td>\n",
       "      <td>76385310</td>\n",
       "    </tr>\n",
       "    <tr>\n",
       "      <th>72977</th>\n",
       "      <td>99997_76385323.py</td>\n",
       "      <td>99997_76385323.py</td>\n",
       "      <td>0</td>\n",
       "      <td>99997</td>\n",
       "      <td>76385323</td>\n",
       "    </tr>\n",
       "    <tr>\n",
       "      <th>56941</th>\n",
       "      <td>99998_76385323.py</td>\n",
       "      <td>99998_76385323.py</td>\n",
       "      <td>0</td>\n",
       "      <td>99998</td>\n",
       "      <td>76385323</td>\n",
       "    </tr>\n",
       "    <tr>\n",
       "      <th>57923</th>\n",
       "      <td>99999_76385353.py</td>\n",
       "      <td>99999_76385353.py</td>\n",
       "      <td>0</td>\n",
       "      <td>99999</td>\n",
       "      <td>76385353</td>\n",
       "    </tr>\n",
       "  </tbody>\n",
       "</table>\n",
       "<p>136563 rows × 5 columns</p>\n",
       "</div>"
      ],
      "text/plain": [
       "                     Path          File Name Cognitive Complexity    idx  \\\n",
       "99235       1_79280452.py      1_79280452.py                    1      1   \n",
       "10084      10_75068551.py     10_75068551.py                    0     10   \n",
       "127782     10_79234157.py     10_79234157.py                    0     10   \n",
       "136116    100_79235663.py    100_79235663.py                    1    100   \n",
       "73052    1000_75052191.py   1000_75052191.py                    0   1000   \n",
       "...                   ...                ...                  ...    ...   \n",
       "16020   99995_76385310.py  99995_76385310.py                    0  99995   \n",
       "6746    99996_76385310.py  99996_76385310.py                    0  99996   \n",
       "72977   99997_76385323.py  99997_76385323.py                    0  99997   \n",
       "56941   99998_76385323.py  99998_76385323.py                    0  99998   \n",
       "57923   99999_76385353.py  99999_76385353.py                    0  99999   \n",
       "\n",
       "              id  \n",
       "99235   79280452  \n",
       "10084   75068551  \n",
       "127782  79234157  \n",
       "136116  79235663  \n",
       "73052   75052191  \n",
       "...          ...  \n",
       "16020   76385310  \n",
       "6746    76385310  \n",
       "72977   76385323  \n",
       "56941   76385323  \n",
       "57923   76385353  \n",
       "\n",
       "[136563 rows x 5 columns]"
      ]
     },
     "execution_count": 13,
     "metadata": {},
     "output_type": "execute_result"
    }
   ],
   "source": [
    "calc_com_df.sort_values(by = ['idx', 'id'])"
   ]
  },
  {
   "cell_type": "code",
   "execution_count": 14,
   "metadata": {},
   "outputs": [],
   "source": [
    "calc_com_df[['idx', 'id', 'Cognitive Complexity']] = calc_com_df[['idx', 'id', 'Cognitive Complexity']].astype('int')"
   ]
  },
  {
   "cell_type": "code",
   "execution_count": 15,
   "metadata": {},
   "outputs": [
    {
     "name": "stdout",
     "output_type": "stream",
     "text": [
      "<class 'pandas.core.frame.DataFrame'>\n",
      "RangeIndex: 136563 entries, 0 to 136562\n",
      "Data columns (total 5 columns):\n",
      " #   Column                Non-Null Count   Dtype \n",
      "---  ------                --------------   ----- \n",
      " 0   Path                  136563 non-null  object\n",
      " 1   File Name             136563 non-null  object\n",
      " 2   Cognitive Complexity  136563 non-null  int64 \n",
      " 3   idx                   136563 non-null  int64 \n",
      " 4   id                    136563 non-null  int64 \n",
      "dtypes: int64(3), object(2)\n",
      "memory usage: 5.2+ MB\n"
     ]
    }
   ],
   "source": [
    "calc_com_df.info()"
   ]
  },
  {
   "cell_type": "code",
   "execution_count": 16,
   "metadata": {},
   "outputs": [],
   "source": [
    "calc_com_df = pd.merge(complexity_python_df[['id', 'cdate']], calc_com_df, on = 'id')"
   ]
  },
  {
   "cell_type": "code",
   "execution_count": 17,
   "metadata": {},
   "outputs": [
    {
     "data": {
      "text/html": [
       "<div>\n",
       "<style scoped>\n",
       "    .dataframe tbody tr th:only-of-type {\n",
       "        vertical-align: middle;\n",
       "    }\n",
       "\n",
       "    .dataframe tbody tr th {\n",
       "        vertical-align: top;\n",
       "    }\n",
       "\n",
       "    .dataframe thead th {\n",
       "        text-align: right;\n",
       "    }\n",
       "</style>\n",
       "<table border=\"1\" class=\"dataframe\">\n",
       "  <thead>\n",
       "    <tr style=\"text-align: right;\">\n",
       "      <th></th>\n",
       "      <th>id</th>\n",
       "      <th>cdate</th>\n",
       "      <th>Path</th>\n",
       "      <th>File Name</th>\n",
       "      <th>Cognitive Complexity</th>\n",
       "      <th>idx</th>\n",
       "    </tr>\n",
       "  </thead>\n",
       "  <tbody>\n",
       "    <tr>\n",
       "      <th>0</th>\n",
       "      <td>75068491</td>\n",
       "      <td>2023-01-10</td>\n",
       "      <td>2_75068491.py</td>\n",
       "      <td>2_75068491.py</td>\n",
       "      <td>1</td>\n",
       "      <td>2</td>\n",
       "    </tr>\n",
       "    <tr>\n",
       "      <th>1</th>\n",
       "      <td>75068491</td>\n",
       "      <td>2023-01-10</td>\n",
       "      <td>3_75068491.py</td>\n",
       "      <td>3_75068491.py</td>\n",
       "      <td>0</td>\n",
       "      <td>3</td>\n",
       "    </tr>\n",
       "    <tr>\n",
       "      <th>2</th>\n",
       "      <td>75068517</td>\n",
       "      <td>2023-01-10</td>\n",
       "      <td>5_75068517.py</td>\n",
       "      <td>5_75068517.py</td>\n",
       "      <td>0</td>\n",
       "      <td>5</td>\n",
       "    </tr>\n",
       "    <tr>\n",
       "      <th>3</th>\n",
       "      <td>75068517</td>\n",
       "      <td>2023-01-10</td>\n",
       "      <td>6_75068517.py</td>\n",
       "      <td>6_75068517.py</td>\n",
       "      <td>0</td>\n",
       "      <td>6</td>\n",
       "    </tr>\n",
       "    <tr>\n",
       "      <th>4</th>\n",
       "      <td>75068551</td>\n",
       "      <td>2023-01-10</td>\n",
       "      <td>10_75068551.py</td>\n",
       "      <td>10_75068551.py</td>\n",
       "      <td>0</td>\n",
       "      <td>10</td>\n",
       "    </tr>\n",
       "  </tbody>\n",
       "</table>\n",
       "</div>"
      ],
      "text/plain": [
       "         id       cdate            Path       File Name  Cognitive Complexity  \\\n",
       "0  75068491  2023-01-10   2_75068491.py   2_75068491.py                     1   \n",
       "1  75068491  2023-01-10   3_75068491.py   3_75068491.py                     0   \n",
       "2  75068517  2023-01-10   5_75068517.py   5_75068517.py                     0   \n",
       "3  75068517  2023-01-10   6_75068517.py   6_75068517.py                     0   \n",
       "4  75068551  2023-01-10  10_75068551.py  10_75068551.py                     0   \n",
       "\n",
       "   idx  \n",
       "0    2  \n",
       "1    3  \n",
       "2    5  \n",
       "3    6  \n",
       "4   10  "
      ]
     },
     "execution_count": 17,
     "metadata": {},
     "output_type": "execute_result"
    }
   ],
   "source": [
    "calc_com_df.head()"
   ]
  },
  {
   "cell_type": "code",
   "execution_count": 18,
   "metadata": {},
   "outputs": [],
   "source": [
    "# 일자별로 아예 소스가 수행되지 않는 건 \n",
    "calc_com_df_back = calc_com_df.copy()\n",
    "calc_ed_com_df = calc_com_df[~calc_com_df['Path'].isna()]"
   ]
  },
  {
   "cell_type": "code",
   "execution_count": 19,
   "metadata": {},
   "outputs": [],
   "source": [
    "# calc_ed_com_df = calc_ed_com_df.sort_values(by = ['cdate', 'id', 'Cognitive Complexity'], ascending = [True, True, False]).groupby('id').head(1)"
   ]
  },
  {
   "cell_type": "code",
   "execution_count": null,
   "metadata": {},
   "outputs": [],
   "source": []
  },
  {
   "cell_type": "code",
   "execution_count": 20,
   "metadata": {},
   "outputs": [
    {
     "data": {
      "text/html": [
       "<div>\n",
       "<style scoped>\n",
       "    .dataframe tbody tr th:only-of-type {\n",
       "        vertical-align: middle;\n",
       "    }\n",
       "\n",
       "    .dataframe tbody tr th {\n",
       "        vertical-align: top;\n",
       "    }\n",
       "\n",
       "    .dataframe thead th {\n",
       "        text-align: right;\n",
       "    }\n",
       "</style>\n",
       "<table border=\"1\" class=\"dataframe\">\n",
       "  <thead>\n",
       "    <tr style=\"text-align: right;\">\n",
       "      <th></th>\n",
       "      <th>id</th>\n",
       "      <th>cdate</th>\n",
       "      <th>Path</th>\n",
       "      <th>File Name</th>\n",
       "      <th>Cognitive Complexity</th>\n",
       "      <th>idx</th>\n",
       "    </tr>\n",
       "  </thead>\n",
       "  <tbody>\n",
       "    <tr>\n",
       "      <th>0</th>\n",
       "      <td>75068491</td>\n",
       "      <td>2023-01-10</td>\n",
       "      <td>2_75068491.py</td>\n",
       "      <td>2_75068491.py</td>\n",
       "      <td>1</td>\n",
       "      <td>2</td>\n",
       "    </tr>\n",
       "    <tr>\n",
       "      <th>1</th>\n",
       "      <td>75068491</td>\n",
       "      <td>2023-01-10</td>\n",
       "      <td>3_75068491.py</td>\n",
       "      <td>3_75068491.py</td>\n",
       "      <td>0</td>\n",
       "      <td>3</td>\n",
       "    </tr>\n",
       "    <tr>\n",
       "      <th>2</th>\n",
       "      <td>75068517</td>\n",
       "      <td>2023-01-10</td>\n",
       "      <td>5_75068517.py</td>\n",
       "      <td>5_75068517.py</td>\n",
       "      <td>0</td>\n",
       "      <td>5</td>\n",
       "    </tr>\n",
       "    <tr>\n",
       "      <th>3</th>\n",
       "      <td>75068517</td>\n",
       "      <td>2023-01-10</td>\n",
       "      <td>6_75068517.py</td>\n",
       "      <td>6_75068517.py</td>\n",
       "      <td>0</td>\n",
       "      <td>6</td>\n",
       "    </tr>\n",
       "    <tr>\n",
       "      <th>4</th>\n",
       "      <td>75068551</td>\n",
       "      <td>2023-01-10</td>\n",
       "      <td>10_75068551.py</td>\n",
       "      <td>10_75068551.py</td>\n",
       "      <td>0</td>\n",
       "      <td>10</td>\n",
       "    </tr>\n",
       "    <tr>\n",
       "      <th>...</th>\n",
       "      <td>...</td>\n",
       "      <td>...</td>\n",
       "      <td>...</td>\n",
       "      <td>...</td>\n",
       "      <td>...</td>\n",
       "      <td>...</td>\n",
       "    </tr>\n",
       "    <tr>\n",
       "      <th>136558</th>\n",
       "      <td>79242440</td>\n",
       "      <td>2024-12-01</td>\n",
       "      <td>86314_79242440.py</td>\n",
       "      <td>86314_79242440.py</td>\n",
       "      <td>0</td>\n",
       "      <td>86314</td>\n",
       "    </tr>\n",
       "    <tr>\n",
       "      <th>136559</th>\n",
       "      <td>79242472</td>\n",
       "      <td>2024-12-01</td>\n",
       "      <td>86317_79242472.py</td>\n",
       "      <td>86317_79242472.py</td>\n",
       "      <td>10</td>\n",
       "      <td>86317</td>\n",
       "    </tr>\n",
       "    <tr>\n",
       "      <th>136560</th>\n",
       "      <td>79242582</td>\n",
       "      <td>2024-12-01</td>\n",
       "      <td>86319_79242582.py</td>\n",
       "      <td>86319_79242582.py</td>\n",
       "      <td>0</td>\n",
       "      <td>86319</td>\n",
       "    </tr>\n",
       "    <tr>\n",
       "      <th>136561</th>\n",
       "      <td>79242639</td>\n",
       "      <td>2024-12-01</td>\n",
       "      <td>86320_79242639.py</td>\n",
       "      <td>86320_79242639.py</td>\n",
       "      <td>0</td>\n",
       "      <td>86320</td>\n",
       "    </tr>\n",
       "    <tr>\n",
       "      <th>136562</th>\n",
       "      <td>79242651</td>\n",
       "      <td>2024-12-01</td>\n",
       "      <td>86321_79242651.py</td>\n",
       "      <td>86321_79242651.py</td>\n",
       "      <td>0</td>\n",
       "      <td>86321</td>\n",
       "    </tr>\n",
       "  </tbody>\n",
       "</table>\n",
       "<p>136563 rows × 6 columns</p>\n",
       "</div>"
      ],
      "text/plain": [
       "              id       cdate               Path          File Name  \\\n",
       "0       75068491  2023-01-10      2_75068491.py      2_75068491.py   \n",
       "1       75068491  2023-01-10      3_75068491.py      3_75068491.py   \n",
       "2       75068517  2023-01-10      5_75068517.py      5_75068517.py   \n",
       "3       75068517  2023-01-10      6_75068517.py      6_75068517.py   \n",
       "4       75068551  2023-01-10     10_75068551.py     10_75068551.py   \n",
       "...          ...         ...                ...                ...   \n",
       "136558  79242440  2024-12-01  86314_79242440.py  86314_79242440.py   \n",
       "136559  79242472  2024-12-01  86317_79242472.py  86317_79242472.py   \n",
       "136560  79242582  2024-12-01  86319_79242582.py  86319_79242582.py   \n",
       "136561  79242639  2024-12-01  86320_79242639.py  86320_79242639.py   \n",
       "136562  79242651  2024-12-01  86321_79242651.py  86321_79242651.py   \n",
       "\n",
       "        Cognitive Complexity    idx  \n",
       "0                          1      2  \n",
       "1                          0      3  \n",
       "2                          0      5  \n",
       "3                          0      6  \n",
       "4                          0     10  \n",
       "...                      ...    ...  \n",
       "136558                     0  86314  \n",
       "136559                    10  86317  \n",
       "136560                     0  86319  \n",
       "136561                     0  86320  \n",
       "136562                     0  86321  \n",
       "\n",
       "[136563 rows x 6 columns]"
      ]
     },
     "execution_count": 20,
     "metadata": {},
     "output_type": "execute_result"
    }
   ],
   "source": [
    "calc_ed_com_df"
   ]
  },
  {
   "cell_type": "code",
   "execution_count": 21,
   "metadata": {},
   "outputs": [
    {
     "data": {
      "text/html": [
       "<div>\n",
       "<style scoped>\n",
       "    .dataframe tbody tr th:only-of-type {\n",
       "        vertical-align: middle;\n",
       "    }\n",
       "\n",
       "    .dataframe tbody tr th {\n",
       "        vertical-align: top;\n",
       "    }\n",
       "\n",
       "    .dataframe thead th {\n",
       "        text-align: right;\n",
       "    }\n",
       "</style>\n",
       "<table border=\"1\" class=\"dataframe\">\n",
       "  <thead>\n",
       "    <tr style=\"text-align: right;\">\n",
       "      <th></th>\n",
       "      <th>id</th>\n",
       "      <th>cdate</th>\n",
       "      <th>Path</th>\n",
       "      <th>File Name</th>\n",
       "      <th>Cognitive Complexity</th>\n",
       "      <th>idx</th>\n",
       "    </tr>\n",
       "  </thead>\n",
       "  <tbody>\n",
       "    <tr>\n",
       "      <th>0</th>\n",
       "      <td>75068491</td>\n",
       "      <td>2023-01-10</td>\n",
       "      <td>2_75068491.py</td>\n",
       "      <td>2_75068491.py</td>\n",
       "      <td>1</td>\n",
       "      <td>2</td>\n",
       "    </tr>\n",
       "    <tr>\n",
       "      <th>1</th>\n",
       "      <td>75068491</td>\n",
       "      <td>2023-01-10</td>\n",
       "      <td>3_75068491.py</td>\n",
       "      <td>3_75068491.py</td>\n",
       "      <td>0</td>\n",
       "      <td>3</td>\n",
       "    </tr>\n",
       "    <tr>\n",
       "      <th>2</th>\n",
       "      <td>75068517</td>\n",
       "      <td>2023-01-10</td>\n",
       "      <td>5_75068517.py</td>\n",
       "      <td>5_75068517.py</td>\n",
       "      <td>0</td>\n",
       "      <td>5</td>\n",
       "    </tr>\n",
       "    <tr>\n",
       "      <th>3</th>\n",
       "      <td>75068517</td>\n",
       "      <td>2023-01-10</td>\n",
       "      <td>6_75068517.py</td>\n",
       "      <td>6_75068517.py</td>\n",
       "      <td>0</td>\n",
       "      <td>6</td>\n",
       "    </tr>\n",
       "    <tr>\n",
       "      <th>4</th>\n",
       "      <td>75068551</td>\n",
       "      <td>2023-01-10</td>\n",
       "      <td>10_75068551.py</td>\n",
       "      <td>10_75068551.py</td>\n",
       "      <td>0</td>\n",
       "      <td>10</td>\n",
       "    </tr>\n",
       "    <tr>\n",
       "      <th>...</th>\n",
       "      <td>...</td>\n",
       "      <td>...</td>\n",
       "      <td>...</td>\n",
       "      <td>...</td>\n",
       "      <td>...</td>\n",
       "      <td>...</td>\n",
       "    </tr>\n",
       "    <tr>\n",
       "      <th>136558</th>\n",
       "      <td>79242440</td>\n",
       "      <td>2024-12-01</td>\n",
       "      <td>86314_79242440.py</td>\n",
       "      <td>86314_79242440.py</td>\n",
       "      <td>0</td>\n",
       "      <td>86314</td>\n",
       "    </tr>\n",
       "    <tr>\n",
       "      <th>136559</th>\n",
       "      <td>79242472</td>\n",
       "      <td>2024-12-01</td>\n",
       "      <td>86317_79242472.py</td>\n",
       "      <td>86317_79242472.py</td>\n",
       "      <td>10</td>\n",
       "      <td>86317</td>\n",
       "    </tr>\n",
       "    <tr>\n",
       "      <th>136560</th>\n",
       "      <td>79242582</td>\n",
       "      <td>2024-12-01</td>\n",
       "      <td>86319_79242582.py</td>\n",
       "      <td>86319_79242582.py</td>\n",
       "      <td>0</td>\n",
       "      <td>86319</td>\n",
       "    </tr>\n",
       "    <tr>\n",
       "      <th>136561</th>\n",
       "      <td>79242639</td>\n",
       "      <td>2024-12-01</td>\n",
       "      <td>86320_79242639.py</td>\n",
       "      <td>86320_79242639.py</td>\n",
       "      <td>0</td>\n",
       "      <td>86320</td>\n",
       "    </tr>\n",
       "    <tr>\n",
       "      <th>136562</th>\n",
       "      <td>79242651</td>\n",
       "      <td>2024-12-01</td>\n",
       "      <td>86321_79242651.py</td>\n",
       "      <td>86321_79242651.py</td>\n",
       "      <td>0</td>\n",
       "      <td>86321</td>\n",
       "    </tr>\n",
       "  </tbody>\n",
       "</table>\n",
       "<p>136563 rows × 6 columns</p>\n",
       "</div>"
      ],
      "text/plain": [
       "              id       cdate               Path          File Name  \\\n",
       "0       75068491  2023-01-10      2_75068491.py      2_75068491.py   \n",
       "1       75068491  2023-01-10      3_75068491.py      3_75068491.py   \n",
       "2       75068517  2023-01-10      5_75068517.py      5_75068517.py   \n",
       "3       75068517  2023-01-10      6_75068517.py      6_75068517.py   \n",
       "4       75068551  2023-01-10     10_75068551.py     10_75068551.py   \n",
       "...          ...         ...                ...                ...   \n",
       "136558  79242440  2024-12-01  86314_79242440.py  86314_79242440.py   \n",
       "136559  79242472  2024-12-01  86317_79242472.py  86317_79242472.py   \n",
       "136560  79242582  2024-12-01  86319_79242582.py  86319_79242582.py   \n",
       "136561  79242639  2024-12-01  86320_79242639.py  86320_79242639.py   \n",
       "136562  79242651  2024-12-01  86321_79242651.py  86321_79242651.py   \n",
       "\n",
       "        Cognitive Complexity    idx  \n",
       "0                          1      2  \n",
       "1                          0      3  \n",
       "2                          0      5  \n",
       "3                          0      6  \n",
       "4                          0     10  \n",
       "...                      ...    ...  \n",
       "136558                     0  86314  \n",
       "136559                    10  86317  \n",
       "136560                     0  86319  \n",
       "136561                     0  86320  \n",
       "136562                     0  86321  \n",
       "\n",
       "[136563 rows x 6 columns]"
      ]
     },
     "execution_count": 21,
     "metadata": {},
     "output_type": "execute_result"
    }
   ],
   "source": [
    "calc_ed_com_df"
   ]
  },
  {
   "cell_type": "code",
   "execution_count": 22,
   "metadata": {},
   "outputs": [],
   "source": [
    "calc_ed_com_df['rel_week'] = np.floor((pd.to_datetime(calc_ed_com_df['cdate'])- datetime.datetime(2023,12,1)).dt.days/7)\n"
   ]
  },
  {
   "cell_type": "code",
   "execution_count": 23,
   "metadata": {},
   "outputs": [
    {
     "name": "stdout",
     "output_type": "stream",
     "text": [
      "<class 'pandas.core.frame.DataFrame'>\n",
      "Index: 135290 entries, 0 to 136544\n",
      "Data columns (total 7 columns):\n",
      " #   Column                Non-Null Count   Dtype  \n",
      "---  ------                --------------   -----  \n",
      " 0   id                    135290 non-null  int64  \n",
      " 1   cdate                 135290 non-null  object \n",
      " 2   Path                  135290 non-null  object \n",
      " 3   File Name             135290 non-null  object \n",
      " 4   Cognitive Complexity  135290 non-null  int64  \n",
      " 5   idx                   135290 non-null  int64  \n",
      " 6   rel_week              135290 non-null  float64\n",
      "dtypes: float64(1), int64(3), object(3)\n",
      "memory usage: 8.3+ MB\n"
     ]
    }
   ],
   "source": [
    "calc_ed_com_df[(calc_ed_com_df['rel_week']>=-52)&(calc_ed_com_df['rel_week']<52)].info()"
   ]
  },
  {
   "cell_type": "code",
   "execution_count": 24,
   "metadata": {},
   "outputs": [],
   "source": [
    "calc_ed_com_mean_df = calc_ed_com_df.groupby(['rel_week']).mean(numeric_only=True).reset_index()\n",
    "# ['Cognitive Complexity']"
   ]
  },
  {
   "cell_type": "code",
   "execution_count": 25,
   "metadata": {},
   "outputs": [
    {
     "data": {
      "text/html": [
       "<div>\n",
       "<style scoped>\n",
       "    .dataframe tbody tr th:only-of-type {\n",
       "        vertical-align: middle;\n",
       "    }\n",
       "\n",
       "    .dataframe tbody tr th {\n",
       "        vertical-align: top;\n",
       "    }\n",
       "\n",
       "    .dataframe thead th {\n",
       "        text-align: right;\n",
       "    }\n",
       "</style>\n",
       "<table border=\"1\" class=\"dataframe\">\n",
       "  <thead>\n",
       "    <tr style=\"text-align: right;\">\n",
       "      <th></th>\n",
       "      <th>rel_week</th>\n",
       "      <th>id</th>\n",
       "      <th>Cognitive Complexity</th>\n",
       "      <th>idx</th>\n",
       "    </tr>\n",
       "  </thead>\n",
       "  <tbody>\n",
       "    <tr>\n",
       "      <th>0</th>\n",
       "      <td>-53.0</td>\n",
       "      <td>7.463577e+07</td>\n",
       "      <td>0.960854</td>\n",
       "      <td>30681.401246</td>\n",
       "    </tr>\n",
       "    <tr>\n",
       "      <th>1</th>\n",
       "      <td>-52.0</td>\n",
       "      <td>7.469358e+07</td>\n",
       "      <td>1.164216</td>\n",
       "      <td>26386.326287</td>\n",
       "    </tr>\n",
       "    <tr>\n",
       "      <th>2</th>\n",
       "      <td>-51.0</td>\n",
       "      <td>7.477763e+07</td>\n",
       "      <td>1.023021</td>\n",
       "      <td>20803.624724</td>\n",
       "    </tr>\n",
       "    <tr>\n",
       "      <th>3</th>\n",
       "      <td>-50.0</td>\n",
       "      <td>7.485575e+07</td>\n",
       "      <td>0.946623</td>\n",
       "      <td>14781.230211</td>\n",
       "    </tr>\n",
       "    <tr>\n",
       "      <th>4</th>\n",
       "      <td>-49.0</td>\n",
       "      <td>7.492684e+07</td>\n",
       "      <td>1.006454</td>\n",
       "      <td>9811.382530</td>\n",
       "    </tr>\n",
       "  </tbody>\n",
       "</table>\n",
       "</div>"
      ],
      "text/plain": [
       "   rel_week            id  Cognitive Complexity           idx\n",
       "0     -53.0  7.463577e+07              0.960854  30681.401246\n",
       "1     -52.0  7.469358e+07              1.164216  26386.326287\n",
       "2     -51.0  7.477763e+07              1.023021  20803.624724\n",
       "3     -50.0  7.485575e+07              0.946623  14781.230211\n",
       "4     -49.0  7.492684e+07              1.006454   9811.382530"
      ]
     },
     "execution_count": 25,
     "metadata": {},
     "output_type": "execute_result"
    }
   ],
   "source": [
    "calc_ed_com_mean_df.head()"
   ]
  },
  {
   "cell_type": "code",
   "execution_count": 26,
   "metadata": {},
   "outputs": [],
   "source": [
    "chow_df = calc_ed_com_mean_df[['rel_week', 'Cognitive Complexity']]"
   ]
  },
  {
   "cell_type": "code",
   "execution_count": 27,
   "metadata": {},
   "outputs": [],
   "source": [
    "# 전체 데이터셋 \n",
    "with open(f'{conf.DATA_PATH}/data/calc_ed_com_mean_df_{input_pl}_{year_range}.pkl', 'wb') as f:\n",
    "    pickle.dump(calc_ed_com_mean_df, f)\n"
   ]
  },
  {
   "cell_type": "code",
   "execution_count": 28,
   "metadata": {},
   "outputs": [],
   "source": [
    "chow_df = chow_df[(chow_df['rel_week']>=-52)&(chow_df['rel_week']<52)]"
   ]
  },
  {
   "cell_type": "code",
   "execution_count": 29,
   "metadata": {},
   "outputs": [],
   "source": [
    "x = chow_df['rel_week'].values"
   ]
  },
  {
   "cell_type": "code",
   "execution_count": 30,
   "metadata": {},
   "outputs": [
    {
     "data": {
      "text/plain": [
       "52"
      ]
     },
     "execution_count": 30,
     "metadata": {},
     "output_type": "execute_result"
    }
   ],
   "source": [
    "np.argmax(np.where(x <= 0)) "
   ]
  },
  {
   "cell_type": "code",
   "execution_count": 31,
   "metadata": {},
   "outputs": [],
   "source": [
    "chow_df_1year = chow_df[chow_df['rel_week']>=-52]\n",
    "st_chow_1year = st.Stats(chow_df_1year['rel_week'].values, chow_df_1year['Cognitive Complexity'].values, 2, 0.95)\n",
    "F_stat_1, p_value_1 = st_chow_1year.chow_test()\n"
   ]
  },
  {
   "cell_type": "code",
   "execution_count": 32,
   "metadata": {},
   "outputs": [
    {
     "data": {
      "text/plain": [
       "51"
      ]
     },
     "execution_count": 32,
     "metadata": {},
     "output_type": "execute_result"
    }
   ],
   "source": [
    "np.argmax(np.where(x < 0))"
   ]
  },
  {
   "cell_type": "code",
   "execution_count": 33,
   "metadata": {},
   "outputs": [
    {
     "data": {
      "text/plain": [
       "array([-52., -51., -50., -49., -48., -47., -46., -45., -44., -43., -42.,\n",
       "       -41., -40., -39., -38., -37., -36., -35., -34., -33., -32., -31.,\n",
       "       -30., -29., -28., -27., -26., -25., -24., -23., -22., -21., -20.,\n",
       "       -19., -18., -17., -16., -15., -14., -13., -12., -11., -10.,  -9.,\n",
       "        -8.,  -7.,  -6.,  -5.,  -4.,  -3.,  -2.])"
      ]
     },
     "execution_count": 33,
     "metadata": {},
     "output_type": "execute_result"
    }
   ],
   "source": [
    "x[:51]"
   ]
  },
  {
   "cell_type": "code",
   "execution_count": 34,
   "metadata": {},
   "outputs": [
    {
     "data": {
      "image/png": "[encoded data removed]",
      "text/plain": [
       "<Figure size 1000x600 with 1 Axes>"
      ]
     },
     "metadata": {},
     "output_type": "display_data"
    }
   ],
   "source": [
    "x = chow_df_1year['rel_week'].values\n",
    "y = chow_df_1year['Cognitive Complexity'].values\n",
    "\n",
    "split_idx = np.argmax(np.where(x < 0))+1\n",
    "x1= x[:split_idx]\n",
    "x2= x[split_idx:]\n",
    "# 시각화\n",
    "plt.figure(figsize=(10, 6))\n",
    "plt.scatter(x, y,  alpha=0.6, color='darkgray')\n",
    "plt.plot(x, st_chow_1year.y_predict, label=\"Full Model\", linestyle=\"--\", color=\"black\")  \n",
    "\n",
    "\n",
    "plt.plot(x1, st_chow_1year.y1_predict, label=\"before chatGPT\", linewidth='2')\n",
    "plt.fill_between(x1, st_chow_1year.y1_predict - st_chow_1year.y1_conf_interval, st_chow_1year.y1_predict + st_chow_1year.y1_conf_interval, alpha=0.3)\n",
    "\n",
    "plt.plot(x2, st_chow_1year.y2_predict, label=\"after chatGPT\", linewidth='2')\n",
    "plt.fill_between(x2, st_chow_1year.y2_predict - st_chow_1year.y2_conf_interval, st_chow_1year.y2_predict + st_chow_1year.y2_conf_interval, alpha=0.3)\n",
    "\n",
    "plt.text(30, 1.5, s=f'F-Statistic : {F_stat_1:.2f}\\np-value : {p_value_1:.4f}', fontsize = 10) #\n",
    "plt.axvline(x=0,     color='red',    linestyle='-.', linewidth=1)\n",
    "\n",
    "plt.legend(bbox_to_anchor=(1.00, 1), loc='upper left')\n",
    "plt.title(f\"Structural Change of Code Complexity around ChatGPT release\")\n",
    "plt.xlabel(\"Week Relative to ChatGPT Release\")\n",
    "plt.ylabel(\"Weekly Average Complexity\")\n",
    "plt.savefig(\"complexity_chow_ver3.png\", dpi=300, bbox_inches='tight')  # DPI 설정 및 여백 최소화\n",
    "plt.show()\n"
   ]
  },
  {
   "cell_type": "code",
   "execution_count": 35,
   "metadata": {},
   "outputs": [
    {
     "data": {
      "text/plain": [
       "<Figure size 640x480 with 0 Axes>"
      ]
     },
     "metadata": {},
     "output_type": "display_data"
    }
   ],
   "source": [
    "plt.savefig(\"complexity_chow_ver3.png\", dpi=300, bbox_inches='tight')  # DPI 설정 및 여백 최소화"
   ]
  },
  {
   "cell_type": "code",
   "execution_count": null,
   "metadata": {},
   "outputs": [],
   "source": []
  }
 ],
 "metadata": {
  "kernelspec": {
   "display_name": "venv_stackoverflow_src",
   "language": "python",
   "name": "python3"
  },
  "language_info": {
   "codemirror_mode": {
    "name": "ipython",
    "version": 3
   },
   "file_extension": ".py",
   "mimetype": "text/x-python",
   "name": "python",
   "nbconvert_exporter": "python",
   "pygments_lexer": "ipython3",
   "version": "3.10.12"
  }
 },
 "nbformat": 4,
 "nbformat_minor": 2
}
