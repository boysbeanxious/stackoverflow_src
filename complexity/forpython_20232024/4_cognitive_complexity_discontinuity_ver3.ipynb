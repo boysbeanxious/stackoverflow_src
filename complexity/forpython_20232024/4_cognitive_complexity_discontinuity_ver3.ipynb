{
 "cells": [
  {
   "cell_type": "markdown",
   "metadata": {},
   "source": [
    "주차별 평균으로 discontinuity 확인"
   ]
  },
  {
   "cell_type": "code",
   "execution_count": 1,
   "metadata": {},
   "outputs": [],
   "source": [
    "import sys, os\n",
    "p = os.path.abspath('..')\n",
    "pp = os.path.abspath('../..')\n",
    "sys.path.insert(1, p)\n",
    "sys.path.insert(1, pp)"
   ]
  },
  {
   "cell_type": "code",
   "execution_count": 2,
   "metadata": {},
   "outputs": [],
   "source": [
    "#customized preprocessing pkg\n",
    "import pandas as pd\n",
    "import numpy as np\n",
    "import pickle\n",
    "import matplotlib.pyplot as plt\n",
    "import datetime\n",
    "import lib.stats.stats as st\n",
    "import config.config as conf"
   ]
  },
  {
   "cell_type": "markdown",
   "metadata": {},
   "source": [
    "### 소스코드 complexity 계산"
   ]
  },
  {
   "cell_type": "code",
   "execution_count": 3,
   "metadata": {},
   "outputs": [],
   "source": [
    "input_year_list = [ '2023', '2024']\n",
    "year_range = '2324'"
   ]
  },
  {
   "cell_type": "code",
   "execution_count": 4,
   "metadata": {},
   "outputs": [],
   "source": [
    "input_pl = 'python'"
   ]
  },
  {
   "cell_type": "code",
   "execution_count": 5,
   "metadata": {},
   "outputs": [],
   "source": [
    "# 파일 불러오기\n",
    "complexity_python_df = pd.DataFrame()\n",
    "\n",
    "for input_year in input_year_list : \n",
    "    with open(f'{conf.DATA_PATH}/data/complexity_{input_pl}_df_{input_year}_{year_range}.pkl', 'rb') as f:\n",
    "        tmp = pickle.load(f)\n",
    "        complexity_python_df = pd.concat([complexity_python_df, tmp], axis = 0)"
   ]
  },
  {
   "cell_type": "code",
   "execution_count": null,
   "metadata": {},
   "outputs": [
    {
     "name": "stdout",
     "output_type": "stream",
     "text": [
      "2022-12-05\n",
      "2024-12-01\n"
     ]
    }
   ],
   "source": [
    "print(complexity_python_df['cdate'].min())\n",
    "print(complexity_python_df['cdate'].max())"
   ]
  },
  {
   "cell_type": "code",
   "execution_count": 8,
   "metadata": {},
   "outputs": [
    {
     "data": {
      "text/html": [
       "<div>\n",
       "<style scoped>\n",
       "    .dataframe tbody tr th:only-of-type {\n",
       "        vertical-align: middle;\n",
       "    }\n",
       "\n",
       "    .dataframe tbody tr th {\n",
       "        vertical-align: top;\n",
       "    }\n",
       "\n",
       "    .dataframe thead th {\n",
       "        text-align: right;\n",
       "    }\n",
       "</style>\n",
       "<table border=\"1\" class=\"dataframe\">\n",
       "  <thead>\n",
       "    <tr style=\"text-align: right;\">\n",
       "      <th></th>\n",
       "      <th>id</th>\n",
       "      <th>cdate</th>\n",
       "      <th>title</th>\n",
       "      <th>body</th>\n",
       "    </tr>\n",
       "  </thead>\n",
       "  <tbody>\n",
       "    <tr>\n",
       "      <th>0</th>\n",
       "      <td>75072182</td>\n",
       "      <td>2023-01-10</td>\n",
       "      <td>How can I access all PyMol commands through a ...</td>\n",
       "      <td>&lt;p&gt;Currently trying to use a Python script to ...</td>\n",
       "    </tr>\n",
       "    <tr>\n",
       "      <th>1</th>\n",
       "      <td>75072191</td>\n",
       "      <td>2023-01-10</td>\n",
       "      <td>Why does my string doesn't get modified to one...</td>\n",
       "      <td>&lt;p&gt;I have a number 'n' (n=60, for example), my...</td>\n",
       "    </tr>\n",
       "    <tr>\n",
       "      <th>2</th>\n",
       "      <td>75072200</td>\n",
       "      <td>2023-01-10</td>\n",
       "      <td>How to create a column based on the value of t...</td>\n",
       "      <td>&lt;p&gt;I have the following dataframe&lt;/p&gt;\\n&lt;pre&gt;&lt;c...</td>\n",
       "    </tr>\n",
       "    <tr>\n",
       "      <th>3</th>\n",
       "      <td>75072207</td>\n",
       "      <td>2023-01-10</td>\n",
       "      <td>Why does read_csv give me a timezone warning?</td>\n",
       "      <td>&lt;p&gt;I try reading a CSV file using pandas and g...</td>\n",
       "    </tr>\n",
       "    <tr>\n",
       "      <th>4</th>\n",
       "      <td>75072229</td>\n",
       "      <td>2023-01-10</td>\n",
       "      <td>How to use hash function in Python3 to transfo...</td>\n",
       "      <td>&lt;p&gt;I have a large number of different sentence...</td>\n",
       "    </tr>\n",
       "    <tr>\n",
       "      <th>...</th>\n",
       "      <td>...</td>\n",
       "      <td>...</td>\n",
       "      <td>...</td>\n",
       "      <td>...</td>\n",
       "    </tr>\n",
       "    <tr>\n",
       "      <th>58754</th>\n",
       "      <td>79241472</td>\n",
       "      <td>2024-12-01</td>\n",
       "      <td>Why does closing a client socket connection ra...</td>\n",
       "      <td>&lt;p&gt;It seems that the epoll system will raise a...</td>\n",
       "    </tr>\n",
       "    <tr>\n",
       "      <th>58755</th>\n",
       "      <td>79241502</td>\n",
       "      <td>2024-12-01</td>\n",
       "      <td>Python error trying to install gensim on MacOS</td>\n",
       "      <td>&lt;p&gt;trying to install gensim on MacBook Pro (i7...</td>\n",
       "    </tr>\n",
       "    <tr>\n",
       "      <th>58756</th>\n",
       "      <td>79241507</td>\n",
       "      <td>2024-12-01</td>\n",
       "      <td>Quickfix Unable to receive 35=8, message</td>\n",
       "      <td>&lt;p&gt;I am struggling with getting the execution ...</td>\n",
       "    </tr>\n",
       "    <tr>\n",
       "      <th>58757</th>\n",
       "      <td>79241525</td>\n",
       "      <td>2024-12-01</td>\n",
       "      <td>ModuleNotFoundError in a venv</td>\n",
       "      <td>&lt;pre class=\"lang-none prettyprint-override\"&gt;&lt;c...</td>\n",
       "    </tr>\n",
       "    <tr>\n",
       "      <th>58758</th>\n",
       "      <td>79241543</td>\n",
       "      <td>2024-12-01</td>\n",
       "      <td>Scraping encoded data from Oddsportal</td>\n",
       "      <td>&lt;p&gt;Oddsportal.com provides odds data from seve...</td>\n",
       "    </tr>\n",
       "  </tbody>\n",
       "</table>\n",
       "<p>179432 rows × 4 columns</p>\n",
       "</div>"
      ],
      "text/plain": [
       "             id       cdate  \\\n",
       "0      75072182  2023-01-10   \n",
       "1      75072191  2023-01-10   \n",
       "2      75072200  2023-01-10   \n",
       "3      75072207  2023-01-10   \n",
       "4      75072229  2023-01-10   \n",
       "...         ...         ...   \n",
       "58754  79241472  2024-12-01   \n",
       "58755  79241502  2024-12-01   \n",
       "58756  79241507  2024-12-01   \n",
       "58757  79241525  2024-12-01   \n",
       "58758  79241543  2024-12-01   \n",
       "\n",
       "                                                   title  \\\n",
       "0      How can I access all PyMol commands through a ...   \n",
       "1      Why does my string doesn't get modified to one...   \n",
       "2      How to create a column based on the value of t...   \n",
       "3          Why does read_csv give me a timezone warning?   \n",
       "4      How to use hash function in Python3 to transfo...   \n",
       "...                                                  ...   \n",
       "58754  Why does closing a client socket connection ra...   \n",
       "58755     Python error trying to install gensim on MacOS   \n",
       "58756           Quickfix Unable to receive 35=8, message   \n",
       "58757                      ModuleNotFoundError in a venv   \n",
       "58758              Scraping encoded data from Oddsportal   \n",
       "\n",
       "                                                    body  \n",
       "0      <p>Currently trying to use a Python script to ...  \n",
       "1      <p>I have a number 'n' (n=60, for example), my...  \n",
       "2      <p>I have the following dataframe</p>\\n<pre><c...  \n",
       "3      <p>I try reading a CSV file using pandas and g...  \n",
       "4      <p>I have a large number of different sentence...  \n",
       "...                                                  ...  \n",
       "58754  <p>It seems that the epoll system will raise a...  \n",
       "58755  <p>trying to install gensim on MacBook Pro (i7...  \n",
       "58756  <p>I am struggling with getting the execution ...  \n",
       "58757  <pre class=\"lang-none prettyprint-override\"><c...  \n",
       "58758  <p>Oddsportal.com provides odds data from seve...  \n",
       "\n",
       "[179432 rows x 4 columns]"
      ]
     },
     "execution_count": 8,
     "metadata": {},
     "output_type": "execute_result"
    }
   ],
   "source": [
    "complexity_python_df"
   ]
  },
  {
   "cell_type": "code",
   "execution_count": 10,
   "metadata": {},
   "outputs": [],
   "source": [
    "# 파일 불러오기\n",
    "calc_com_df = pd.DataFrame()\n",
    "\n",
    "for input_year in input_year_list : \n",
    "    with open(f'{conf.DATA_PATH}/data/calc_com_df_{input_year}_{input_pl}_{year_range}.pkl', 'rb') as f:\n",
    "        tmp = pickle.load(f)\n",
    "        calc_com_df = pd.concat([calc_com_df, tmp], axis = 0)"
   ]
  },
  {
   "cell_type": "code",
   "execution_count": 11,
   "metadata": {},
   "outputs": [],
   "source": [
    "calc_com_df.reset_index(drop=True, inplace=True)"
   ]
  },
  {
   "cell_type": "code",
   "execution_count": 12,
   "metadata": {},
   "outputs": [
    {
     "data": {
      "text/html": [
       "<div>\n",
       "<style scoped>\n",
       "    .dataframe tbody tr th:only-of-type {\n",
       "        vertical-align: middle;\n",
       "    }\n",
       "\n",
       "    .dataframe tbody tr th {\n",
       "        vertical-align: top;\n",
       "    }\n",
       "\n",
       "    .dataframe thead th {\n",
       "        text-align: right;\n",
       "    }\n",
       "</style>\n",
       "<table border=\"1\" class=\"dataframe\">\n",
       "  <thead>\n",
       "    <tr style=\"text-align: right;\">\n",
       "      <th></th>\n",
       "      <th>Path</th>\n",
       "      <th>File Name</th>\n",
       "      <th>Cognitive Complexity</th>\n",
       "    </tr>\n",
       "  </thead>\n",
       "  <tbody>\n",
       "    <tr>\n",
       "      <th>0</th>\n",
       "      <td>38173_77388248.py</td>\n",
       "      <td>38173_77388248.py</td>\n",
       "      <td>0</td>\n",
       "    </tr>\n",
       "    <tr>\n",
       "      <th>1</th>\n",
       "      <td>41365_77332287.py</td>\n",
       "      <td>41365_77332287.py</td>\n",
       "      <td>1</td>\n",
       "    </tr>\n",
       "    <tr>\n",
       "      <th>2</th>\n",
       "      <td>80506_76638091.py</td>\n",
       "      <td>80506_76638091.py</td>\n",
       "      <td>0</td>\n",
       "    </tr>\n",
       "    <tr>\n",
       "      <th>3</th>\n",
       "      <td>73019_76749980.py</td>\n",
       "      <td>73019_76749980.py</td>\n",
       "      <td>0</td>\n",
       "    </tr>\n",
       "    <tr>\n",
       "      <th>4</th>\n",
       "      <td>117423_76013942.py</td>\n",
       "      <td>117423_76013942.py</td>\n",
       "      <td>0</td>\n",
       "    </tr>\n",
       "  </tbody>\n",
       "</table>\n",
       "</div>"
      ],
      "text/plain": [
       "                 Path           File Name Cognitive Complexity\n",
       "0   38173_77388248.py   38173_77388248.py                    0\n",
       "1   41365_77332287.py   41365_77332287.py                    1\n",
       "2   80506_76638091.py   80506_76638091.py                    0\n",
       "3   73019_76749980.py   73019_76749980.py                    0\n",
       "4  117423_76013942.py  117423_76013942.py                    0"
      ]
     },
     "execution_count": 12,
     "metadata": {},
     "output_type": "execute_result"
    }
   ],
   "source": [
    "calc_com_df.head()"
   ]
  },
  {
   "cell_type": "code",
   "execution_count": 13,
   "metadata": {},
   "outputs": [],
   "source": [
    "calc_com_df['idx'] = calc_com_df['Path'].apply(lambda x : x.split('_')[0])\n",
    "# calc_com_df['Path'].apply(lambda x : [  for i in x.split('_')])"
   ]
  },
  {
   "cell_type": "code",
   "execution_count": 14,
   "metadata": {},
   "outputs": [],
   "source": [
    "calc_com_df['id'] = calc_com_df['Path'].apply(lambda x : x.split('_')[1].split('.')[0])"
   ]
  },
  {
   "cell_type": "code",
   "execution_count": 15,
   "metadata": {},
   "outputs": [
    {
     "data": {
      "text/html": [
       "<div>\n",
       "<style scoped>\n",
       "    .dataframe tbody tr th:only-of-type {\n",
       "        vertical-align: middle;\n",
       "    }\n",
       "\n",
       "    .dataframe tbody tr th {\n",
       "        vertical-align: top;\n",
       "    }\n",
       "\n",
       "    .dataframe thead th {\n",
       "        text-align: right;\n",
       "    }\n",
       "</style>\n",
       "<table border=\"1\" class=\"dataframe\">\n",
       "  <thead>\n",
       "    <tr style=\"text-align: right;\">\n",
       "      <th></th>\n",
       "      <th>Path</th>\n",
       "      <th>File Name</th>\n",
       "      <th>Cognitive Complexity</th>\n",
       "      <th>idx</th>\n",
       "      <th>id</th>\n",
       "    </tr>\n",
       "  </thead>\n",
       "  <tbody>\n",
       "    <tr>\n",
       "      <th>25373</th>\n",
       "      <td>0_75072182.py</td>\n",
       "      <td>0_75072182.py</td>\n",
       "      <td>0</td>\n",
       "      <td>0</td>\n",
       "      <td>75072182</td>\n",
       "    </tr>\n",
       "    <tr>\n",
       "      <th>96501</th>\n",
       "      <td>0_79238668.py</td>\n",
       "      <td>0_79238668.py</td>\n",
       "      <td>0</td>\n",
       "      <td>0</td>\n",
       "      <td>79238668</td>\n",
       "    </tr>\n",
       "    <tr>\n",
       "      <th>26655</th>\n",
       "      <td>10_75072264.py</td>\n",
       "      <td>10_75072264.py</td>\n",
       "      <td>0</td>\n",
       "      <td>10</td>\n",
       "      <td>75072264</td>\n",
       "    </tr>\n",
       "    <tr>\n",
       "      <th>92252</th>\n",
       "      <td>10_79241946.py</td>\n",
       "      <td>10_79241946.py</td>\n",
       "      <td>0</td>\n",
       "      <td>10</td>\n",
       "      <td>79241946</td>\n",
       "    </tr>\n",
       "    <tr>\n",
       "      <th>43544</th>\n",
       "      <td>100_75065792.py</td>\n",
       "      <td>100_75065792.py</td>\n",
       "      <td>0</td>\n",
       "      <td>100</td>\n",
       "      <td>75065792</td>\n",
       "    </tr>\n",
       "    <tr>\n",
       "      <th>...</th>\n",
       "      <td>...</td>\n",
       "      <td>...</td>\n",
       "      <td>...</td>\n",
       "      <td>...</td>\n",
       "      <td>...</td>\n",
       "    </tr>\n",
       "    <tr>\n",
       "      <th>10487</th>\n",
       "      <td>99993_76302036.py</td>\n",
       "      <td>99993_76302036.py</td>\n",
       "      <td>6</td>\n",
       "      <td>99993</td>\n",
       "      <td>76302036</td>\n",
       "    </tr>\n",
       "    <tr>\n",
       "      <th>24497</th>\n",
       "      <td>99996_76302036.py</td>\n",
       "      <td>99996_76302036.py</td>\n",
       "      <td>0</td>\n",
       "      <td>99996</td>\n",
       "      <td>76302036</td>\n",
       "    </tr>\n",
       "    <tr>\n",
       "      <th>49612</th>\n",
       "      <td>99997_76302036.py</td>\n",
       "      <td>99997_76302036.py</td>\n",
       "      <td>0</td>\n",
       "      <td>99997</td>\n",
       "      <td>76302036</td>\n",
       "    </tr>\n",
       "    <tr>\n",
       "      <th>70352</th>\n",
       "      <td>99998_76302038.py</td>\n",
       "      <td>99998_76302038.py</td>\n",
       "      <td>3</td>\n",
       "      <td>99998</td>\n",
       "      <td>76302038</td>\n",
       "    </tr>\n",
       "    <tr>\n",
       "      <th>40927</th>\n",
       "      <td>99999_76302121.py</td>\n",
       "      <td>99999_76302121.py</td>\n",
       "      <td>3</td>\n",
       "      <td>99999</td>\n",
       "      <td>76302121</td>\n",
       "    </tr>\n",
       "  </tbody>\n",
       "</table>\n",
       "<p>134199 rows × 5 columns</p>\n",
       "</div>"
      ],
      "text/plain": [
       "                    Path          File Name Cognitive Complexity    idx  \\\n",
       "25373      0_75072182.py      0_75072182.py                    0      0   \n",
       "96501      0_79238668.py      0_79238668.py                    0      0   \n",
       "26655     10_75072264.py     10_75072264.py                    0     10   \n",
       "92252     10_79241946.py     10_79241946.py                    0     10   \n",
       "43544    100_75065792.py    100_75065792.py                    0    100   \n",
       "...                  ...                ...                  ...    ...   \n",
       "10487  99993_76302036.py  99993_76302036.py                    6  99993   \n",
       "24497  99996_76302036.py  99996_76302036.py                    0  99996   \n",
       "49612  99997_76302036.py  99997_76302036.py                    0  99997   \n",
       "70352  99998_76302038.py  99998_76302038.py                    3  99998   \n",
       "40927  99999_76302121.py  99999_76302121.py                    3  99999   \n",
       "\n",
       "             id  \n",
       "25373  75072182  \n",
       "96501  79238668  \n",
       "26655  75072264  \n",
       "92252  79241946  \n",
       "43544  75065792  \n",
       "...         ...  \n",
       "10487  76302036  \n",
       "24497  76302036  \n",
       "49612  76302036  \n",
       "70352  76302038  \n",
       "40927  76302121  \n",
       "\n",
       "[134199 rows x 5 columns]"
      ]
     },
     "execution_count": 15,
     "metadata": {},
     "output_type": "execute_result"
    }
   ],
   "source": [
    "calc_com_df.sort_values(by = ['idx', 'id'])"
   ]
  },
  {
   "cell_type": "code",
   "execution_count": 16,
   "metadata": {},
   "outputs": [],
   "source": [
    "calc_com_df[['idx', 'id', 'Cognitive Complexity']] = calc_com_df[['idx', 'id', 'Cognitive Complexity']].astype('int')"
   ]
  },
  {
   "cell_type": "code",
   "execution_count": 17,
   "metadata": {},
   "outputs": [
    {
     "name": "stdout",
     "output_type": "stream",
     "text": [
      "<class 'pandas.core.frame.DataFrame'>\n",
      "RangeIndex: 134199 entries, 0 to 134198\n",
      "Data columns (total 5 columns):\n",
      " #   Column                Non-Null Count   Dtype \n",
      "---  ------                --------------   ----- \n",
      " 0   Path                  134199 non-null  object\n",
      " 1   File Name             134199 non-null  object\n",
      " 2   Cognitive Complexity  134199 non-null  int64 \n",
      " 3   idx                   134199 non-null  int64 \n",
      " 4   id                    134199 non-null  int64 \n",
      "dtypes: int64(3), object(2)\n",
      "memory usage: 5.1+ MB\n"
     ]
    }
   ],
   "source": [
    "calc_com_df.info()"
   ]
  },
  {
   "cell_type": "code",
   "execution_count": 18,
   "metadata": {},
   "outputs": [],
   "source": [
    "calc_com_df = pd.merge(complexity_python_df[['id', 'cdate']], calc_com_df, on = 'id')"
   ]
  },
  {
   "cell_type": "code",
   "execution_count": 19,
   "metadata": {},
   "outputs": [
    {
     "data": {
      "text/html": [
       "<div>\n",
       "<style scoped>\n",
       "    .dataframe tbody tr th:only-of-type {\n",
       "        vertical-align: middle;\n",
       "    }\n",
       "\n",
       "    .dataframe tbody tr th {\n",
       "        vertical-align: top;\n",
       "    }\n",
       "\n",
       "    .dataframe thead th {\n",
       "        text-align: right;\n",
       "    }\n",
       "</style>\n",
       "<table border=\"1\" class=\"dataframe\">\n",
       "  <thead>\n",
       "    <tr style=\"text-align: right;\">\n",
       "      <th></th>\n",
       "      <th>id</th>\n",
       "      <th>cdate</th>\n",
       "      <th>Path</th>\n",
       "      <th>File Name</th>\n",
       "      <th>Cognitive Complexity</th>\n",
       "      <th>idx</th>\n",
       "    </tr>\n",
       "  </thead>\n",
       "  <tbody>\n",
       "    <tr>\n",
       "      <th>0</th>\n",
       "      <td>75072182</td>\n",
       "      <td>2023-01-10</td>\n",
       "      <td>0_75072182.py</td>\n",
       "      <td>0_75072182.py</td>\n",
       "      <td>0</td>\n",
       "      <td>0</td>\n",
       "    </tr>\n",
       "    <tr>\n",
       "      <th>1</th>\n",
       "      <td>75072207</td>\n",
       "      <td>2023-01-10</td>\n",
       "      <td>6_75072207.py</td>\n",
       "      <td>6_75072207.py</td>\n",
       "      <td>0</td>\n",
       "      <td>6</td>\n",
       "    </tr>\n",
       "    <tr>\n",
       "      <th>2</th>\n",
       "      <td>75072264</td>\n",
       "      <td>2023-01-10</td>\n",
       "      <td>10_75072264.py</td>\n",
       "      <td>10_75072264.py</td>\n",
       "      <td>0</td>\n",
       "      <td>10</td>\n",
       "    </tr>\n",
       "    <tr>\n",
       "      <th>3</th>\n",
       "      <td>75072264</td>\n",
       "      <td>2023-01-10</td>\n",
       "      <td>9_75072264.py</td>\n",
       "      <td>9_75072264.py</td>\n",
       "      <td>0</td>\n",
       "      <td>9</td>\n",
       "    </tr>\n",
       "    <tr>\n",
       "      <th>4</th>\n",
       "      <td>75072264</td>\n",
       "      <td>2023-01-10</td>\n",
       "      <td>8_75072264.py</td>\n",
       "      <td>8_75072264.py</td>\n",
       "      <td>0</td>\n",
       "      <td>8</td>\n",
       "    </tr>\n",
       "  </tbody>\n",
       "</table>\n",
       "</div>"
      ],
      "text/plain": [
       "         id       cdate            Path       File Name  Cognitive Complexity  \\\n",
       "0  75072182  2023-01-10   0_75072182.py   0_75072182.py                     0   \n",
       "1  75072207  2023-01-10   6_75072207.py   6_75072207.py                     0   \n",
       "2  75072264  2023-01-10  10_75072264.py  10_75072264.py                     0   \n",
       "3  75072264  2023-01-10   9_75072264.py   9_75072264.py                     0   \n",
       "4  75072264  2023-01-10   8_75072264.py   8_75072264.py                     0   \n",
       "\n",
       "   idx  \n",
       "0    0  \n",
       "1    6  \n",
       "2   10  \n",
       "3    9  \n",
       "4    8  "
      ]
     },
     "execution_count": 19,
     "metadata": {},
     "output_type": "execute_result"
    }
   ],
   "source": [
    "calc_com_df.head()"
   ]
  },
  {
   "cell_type": "code",
   "execution_count": 20,
   "metadata": {},
   "outputs": [],
   "source": [
    "# 일자별로 아예 소스가 수행되지 않는 건 \n",
    "calc_com_df_back = calc_com_df.copy()\n",
    "calc_ed_com_df = calc_com_df[~calc_com_df['Path'].isna()]"
   ]
  },
  {
   "cell_type": "code",
   "execution_count": 21,
   "metadata": {},
   "outputs": [],
   "source": [
    "# calc_ed_com_df = calc_ed_com_df.sort_values(by = ['cdate', 'id', 'Cognitive Complexity'], ascending = [True, True, False]).groupby('id').head(1)"
   ]
  },
  {
   "cell_type": "code",
   "execution_count": null,
   "metadata": {},
   "outputs": [],
   "source": []
  },
  {
   "cell_type": "code",
   "execution_count": 23,
   "metadata": {},
   "outputs": [
    {
     "data": {
      "text/html": [
       "<div>\n",
       "<style scoped>\n",
       "    .dataframe tbody tr th:only-of-type {\n",
       "        vertical-align: middle;\n",
       "    }\n",
       "\n",
       "    .dataframe tbody tr th {\n",
       "        vertical-align: top;\n",
       "    }\n",
       "\n",
       "    .dataframe thead th {\n",
       "        text-align: right;\n",
       "    }\n",
       "</style>\n",
       "<table border=\"1\" class=\"dataframe\">\n",
       "  <thead>\n",
       "    <tr style=\"text-align: right;\">\n",
       "      <th></th>\n",
       "      <th>id</th>\n",
       "      <th>cdate</th>\n",
       "      <th>Path</th>\n",
       "      <th>File Name</th>\n",
       "      <th>Cognitive Complexity</th>\n",
       "      <th>idx</th>\n",
       "    </tr>\n",
       "  </thead>\n",
       "  <tbody>\n",
       "    <tr>\n",
       "      <th>0</th>\n",
       "      <td>75072182</td>\n",
       "      <td>2023-01-10</td>\n",
       "      <td>0_75072182.py</td>\n",
       "      <td>0_75072182.py</td>\n",
       "      <td>0</td>\n",
       "      <td>0</td>\n",
       "    </tr>\n",
       "    <tr>\n",
       "      <th>1</th>\n",
       "      <td>75072207</td>\n",
       "      <td>2023-01-10</td>\n",
       "      <td>6_75072207.py</td>\n",
       "      <td>6_75072207.py</td>\n",
       "      <td>0</td>\n",
       "      <td>6</td>\n",
       "    </tr>\n",
       "    <tr>\n",
       "      <th>2</th>\n",
       "      <td>75072264</td>\n",
       "      <td>2023-01-10</td>\n",
       "      <td>10_75072264.py</td>\n",
       "      <td>10_75072264.py</td>\n",
       "      <td>0</td>\n",
       "      <td>10</td>\n",
       "    </tr>\n",
       "    <tr>\n",
       "      <th>3</th>\n",
       "      <td>75072264</td>\n",
       "      <td>2023-01-10</td>\n",
       "      <td>9_75072264.py</td>\n",
       "      <td>9_75072264.py</td>\n",
       "      <td>0</td>\n",
       "      <td>9</td>\n",
       "    </tr>\n",
       "    <tr>\n",
       "      <th>4</th>\n",
       "      <td>75072264</td>\n",
       "      <td>2023-01-10</td>\n",
       "      <td>8_75072264.py</td>\n",
       "      <td>8_75072264.py</td>\n",
       "      <td>0</td>\n",
       "      <td>8</td>\n",
       "    </tr>\n",
       "    <tr>\n",
       "      <th>...</th>\n",
       "      <td>...</td>\n",
       "      <td>...</td>\n",
       "      <td>...</td>\n",
       "      <td>...</td>\n",
       "      <td>...</td>\n",
       "      <td>...</td>\n",
       "    </tr>\n",
       "    <tr>\n",
       "      <th>134194</th>\n",
       "      <td>79241313</td>\n",
       "      <td>2024-12-01</td>\n",
       "      <td>86314_79241313.py</td>\n",
       "      <td>86314_79241313.py</td>\n",
       "      <td>0</td>\n",
       "      <td>86314</td>\n",
       "    </tr>\n",
       "    <tr>\n",
       "      <th>134195</th>\n",
       "      <td>79241406</td>\n",
       "      <td>2024-12-01</td>\n",
       "      <td>86315_79241406.py</td>\n",
       "      <td>86315_79241406.py</td>\n",
       "      <td>0</td>\n",
       "      <td>86315</td>\n",
       "    </tr>\n",
       "    <tr>\n",
       "      <th>134196</th>\n",
       "      <td>79241406</td>\n",
       "      <td>2024-12-01</td>\n",
       "      <td>86316_79241406.py</td>\n",
       "      <td>86316_79241406.py</td>\n",
       "      <td>0</td>\n",
       "      <td>86316</td>\n",
       "    </tr>\n",
       "    <tr>\n",
       "      <th>134197</th>\n",
       "      <td>79241472</td>\n",
       "      <td>2024-12-01</td>\n",
       "      <td>86317_79241472.py</td>\n",
       "      <td>86317_79241472.py</td>\n",
       "      <td>0</td>\n",
       "      <td>86317</td>\n",
       "    </tr>\n",
       "    <tr>\n",
       "      <th>134198</th>\n",
       "      <td>79241543</td>\n",
       "      <td>2024-12-01</td>\n",
       "      <td>86321_79241543.py</td>\n",
       "      <td>86321_79241543.py</td>\n",
       "      <td>0</td>\n",
       "      <td>86321</td>\n",
       "    </tr>\n",
       "  </tbody>\n",
       "</table>\n",
       "<p>134199 rows × 6 columns</p>\n",
       "</div>"
      ],
      "text/plain": [
       "              id       cdate               Path          File Name  \\\n",
       "0       75072182  2023-01-10      0_75072182.py      0_75072182.py   \n",
       "1       75072207  2023-01-10      6_75072207.py      6_75072207.py   \n",
       "2       75072264  2023-01-10     10_75072264.py     10_75072264.py   \n",
       "3       75072264  2023-01-10      9_75072264.py      9_75072264.py   \n",
       "4       75072264  2023-01-10      8_75072264.py      8_75072264.py   \n",
       "...          ...         ...                ...                ...   \n",
       "134194  79241313  2024-12-01  86314_79241313.py  86314_79241313.py   \n",
       "134195  79241406  2024-12-01  86315_79241406.py  86315_79241406.py   \n",
       "134196  79241406  2024-12-01  86316_79241406.py  86316_79241406.py   \n",
       "134197  79241472  2024-12-01  86317_79241472.py  86317_79241472.py   \n",
       "134198  79241543  2024-12-01  86321_79241543.py  86321_79241543.py   \n",
       "\n",
       "        Cognitive Complexity    idx  \n",
       "0                          0      0  \n",
       "1                          0      6  \n",
       "2                          0     10  \n",
       "3                          0      9  \n",
       "4                          0      8  \n",
       "...                      ...    ...  \n",
       "134194                     0  86314  \n",
       "134195                     0  86315  \n",
       "134196                     0  86316  \n",
       "134197                     0  86317  \n",
       "134198                     0  86321  \n",
       "\n",
       "[134199 rows x 6 columns]"
      ]
     },
     "execution_count": 23,
     "metadata": {},
     "output_type": "execute_result"
    }
   ],
   "source": [
    "calc_ed_com_df"
   ]
  },
  {
   "cell_type": "code",
   "execution_count": 24,
   "metadata": {},
   "outputs": [
    {
     "data": {
      "text/html": [
       "<div>\n",
       "<style scoped>\n",
       "    .dataframe tbody tr th:only-of-type {\n",
       "        vertical-align: middle;\n",
       "    }\n",
       "\n",
       "    .dataframe tbody tr th {\n",
       "        vertical-align: top;\n",
       "    }\n",
       "\n",
       "    .dataframe thead th {\n",
       "        text-align: right;\n",
       "    }\n",
       "</style>\n",
       "<table border=\"1\" class=\"dataframe\">\n",
       "  <thead>\n",
       "    <tr style=\"text-align: right;\">\n",
       "      <th></th>\n",
       "      <th>id</th>\n",
       "      <th>cdate</th>\n",
       "      <th>Path</th>\n",
       "      <th>File Name</th>\n",
       "      <th>Cognitive Complexity</th>\n",
       "      <th>idx</th>\n",
       "    </tr>\n",
       "  </thead>\n",
       "  <tbody>\n",
       "    <tr>\n",
       "      <th>0</th>\n",
       "      <td>75072182</td>\n",
       "      <td>2023-01-10</td>\n",
       "      <td>0_75072182.py</td>\n",
       "      <td>0_75072182.py</td>\n",
       "      <td>0</td>\n",
       "      <td>0</td>\n",
       "    </tr>\n",
       "    <tr>\n",
       "      <th>1</th>\n",
       "      <td>75072207</td>\n",
       "      <td>2023-01-10</td>\n",
       "      <td>6_75072207.py</td>\n",
       "      <td>6_75072207.py</td>\n",
       "      <td>0</td>\n",
       "      <td>6</td>\n",
       "    </tr>\n",
       "    <tr>\n",
       "      <th>2</th>\n",
       "      <td>75072264</td>\n",
       "      <td>2023-01-10</td>\n",
       "      <td>10_75072264.py</td>\n",
       "      <td>10_75072264.py</td>\n",
       "      <td>0</td>\n",
       "      <td>10</td>\n",
       "    </tr>\n",
       "    <tr>\n",
       "      <th>3</th>\n",
       "      <td>75072264</td>\n",
       "      <td>2023-01-10</td>\n",
       "      <td>9_75072264.py</td>\n",
       "      <td>9_75072264.py</td>\n",
       "      <td>0</td>\n",
       "      <td>9</td>\n",
       "    </tr>\n",
       "    <tr>\n",
       "      <th>4</th>\n",
       "      <td>75072264</td>\n",
       "      <td>2023-01-10</td>\n",
       "      <td>8_75072264.py</td>\n",
       "      <td>8_75072264.py</td>\n",
       "      <td>0</td>\n",
       "      <td>8</td>\n",
       "    </tr>\n",
       "    <tr>\n",
       "      <th>...</th>\n",
       "      <td>...</td>\n",
       "      <td>...</td>\n",
       "      <td>...</td>\n",
       "      <td>...</td>\n",
       "      <td>...</td>\n",
       "      <td>...</td>\n",
       "    </tr>\n",
       "    <tr>\n",
       "      <th>134194</th>\n",
       "      <td>79241313</td>\n",
       "      <td>2024-12-01</td>\n",
       "      <td>86314_79241313.py</td>\n",
       "      <td>86314_79241313.py</td>\n",
       "      <td>0</td>\n",
       "      <td>86314</td>\n",
       "    </tr>\n",
       "    <tr>\n",
       "      <th>134195</th>\n",
       "      <td>79241406</td>\n",
       "      <td>2024-12-01</td>\n",
       "      <td>86315_79241406.py</td>\n",
       "      <td>86315_79241406.py</td>\n",
       "      <td>0</td>\n",
       "      <td>86315</td>\n",
       "    </tr>\n",
       "    <tr>\n",
       "      <th>134196</th>\n",
       "      <td>79241406</td>\n",
       "      <td>2024-12-01</td>\n",
       "      <td>86316_79241406.py</td>\n",
       "      <td>86316_79241406.py</td>\n",
       "      <td>0</td>\n",
       "      <td>86316</td>\n",
       "    </tr>\n",
       "    <tr>\n",
       "      <th>134197</th>\n",
       "      <td>79241472</td>\n",
       "      <td>2024-12-01</td>\n",
       "      <td>86317_79241472.py</td>\n",
       "      <td>86317_79241472.py</td>\n",
       "      <td>0</td>\n",
       "      <td>86317</td>\n",
       "    </tr>\n",
       "    <tr>\n",
       "      <th>134198</th>\n",
       "      <td>79241543</td>\n",
       "      <td>2024-12-01</td>\n",
       "      <td>86321_79241543.py</td>\n",
       "      <td>86321_79241543.py</td>\n",
       "      <td>0</td>\n",
       "      <td>86321</td>\n",
       "    </tr>\n",
       "  </tbody>\n",
       "</table>\n",
       "<p>134199 rows × 6 columns</p>\n",
       "</div>"
      ],
      "text/plain": [
       "              id       cdate               Path          File Name  \\\n",
       "0       75072182  2023-01-10      0_75072182.py      0_75072182.py   \n",
       "1       75072207  2023-01-10      6_75072207.py      6_75072207.py   \n",
       "2       75072264  2023-01-10     10_75072264.py     10_75072264.py   \n",
       "3       75072264  2023-01-10      9_75072264.py      9_75072264.py   \n",
       "4       75072264  2023-01-10      8_75072264.py      8_75072264.py   \n",
       "...          ...         ...                ...                ...   \n",
       "134194  79241313  2024-12-01  86314_79241313.py  86314_79241313.py   \n",
       "134195  79241406  2024-12-01  86315_79241406.py  86315_79241406.py   \n",
       "134196  79241406  2024-12-01  86316_79241406.py  86316_79241406.py   \n",
       "134197  79241472  2024-12-01  86317_79241472.py  86317_79241472.py   \n",
       "134198  79241543  2024-12-01  86321_79241543.py  86321_79241543.py   \n",
       "\n",
       "        Cognitive Complexity    idx  \n",
       "0                          0      0  \n",
       "1                          0      6  \n",
       "2                          0     10  \n",
       "3                          0      9  \n",
       "4                          0      8  \n",
       "...                      ...    ...  \n",
       "134194                     0  86314  \n",
       "134195                     0  86315  \n",
       "134196                     0  86316  \n",
       "134197                     0  86317  \n",
       "134198                     0  86321  \n",
       "\n",
       "[134199 rows x 6 columns]"
      ]
     },
     "execution_count": 24,
     "metadata": {},
     "output_type": "execute_result"
    }
   ],
   "source": [
    "calc_ed_com_df"
   ]
  },
  {
   "cell_type": "code",
   "execution_count": 34,
   "metadata": {},
   "outputs": [],
   "source": [
    "calc_ed_com_df['rel_week'] = np.floor((pd.to_datetime(calc_ed_com_df['cdate'])- datetime.datetime(2023,12,1)).dt.days/7)\n"
   ]
  },
  {
   "cell_type": "code",
   "execution_count": 35,
   "metadata": {},
   "outputs": [
    {
     "name": "stdout",
     "output_type": "stream",
     "text": [
      "<class 'pandas.core.frame.DataFrame'>\n",
      "Index: 134050 entries, 0 to 134149\n",
      "Data columns (total 7 columns):\n",
      " #   Column                Non-Null Count   Dtype  \n",
      "---  ------                --------------   -----  \n",
      " 0   id                    134050 non-null  int64  \n",
      " 1   cdate                 134050 non-null  object \n",
      " 2   Path                  134050 non-null  object \n",
      " 3   File Name             134050 non-null  object \n",
      " 4   Cognitive Complexity  134050 non-null  int64  \n",
      " 5   idx                   134050 non-null  int64  \n",
      " 6   rel_week              134050 non-null  float64\n",
      "dtypes: float64(1), int64(3), object(3)\n",
      "memory usage: 8.2+ MB\n"
     ]
    }
   ],
   "source": [
    "calc_ed_com_df[(calc_ed_com_df['rel_week']>=-52)&(calc_ed_com_df['rel_week']<52)].info()"
   ]
  },
  {
   "cell_type": "code",
   "execution_count": 36,
   "metadata": {},
   "outputs": [],
   "source": [
    "calc_ed_com_mean_df = calc_ed_com_df.groupby(['rel_week']).mean(numeric_only=True).reset_index()\n",
    "# ['Cognitive Complexity']"
   ]
  },
  {
   "cell_type": "code",
   "execution_count": 37,
   "metadata": {},
   "outputs": [
    {
     "data": {
      "text/html": [
       "<div>\n",
       "<style scoped>\n",
       "    .dataframe tbody tr th:only-of-type {\n",
       "        vertical-align: middle;\n",
       "    }\n",
       "\n",
       "    .dataframe tbody tr th {\n",
       "        vertical-align: top;\n",
       "    }\n",
       "\n",
       "    .dataframe thead th {\n",
       "        text-align: right;\n",
       "    }\n",
       "</style>\n",
       "<table border=\"1\" class=\"dataframe\">\n",
       "  <thead>\n",
       "    <tr style=\"text-align: right;\">\n",
       "      <th></th>\n",
       "      <th>rel_week</th>\n",
       "      <th>id</th>\n",
       "      <th>Cognitive Complexity</th>\n",
       "      <th>idx</th>\n",
       "    </tr>\n",
       "  </thead>\n",
       "  <tbody>\n",
       "    <tr>\n",
       "      <th>0</th>\n",
       "      <td>-52.0</td>\n",
       "      <td>7.471027e+07</td>\n",
       "      <td>1.187747</td>\n",
       "      <td>25485.588439</td>\n",
       "    </tr>\n",
       "    <tr>\n",
       "      <th>1</th>\n",
       "      <td>-51.0</td>\n",
       "      <td>7.477763e+07</td>\n",
       "      <td>1.023021</td>\n",
       "      <td>20542.767581</td>\n",
       "    </tr>\n",
       "    <tr>\n",
       "      <th>2</th>\n",
       "      <td>-50.0</td>\n",
       "      <td>7.485575e+07</td>\n",
       "      <td>0.946623</td>\n",
       "      <td>15442.739651</td>\n",
       "    </tr>\n",
       "    <tr>\n",
       "      <th>3</th>\n",
       "      <td>-49.0</td>\n",
       "      <td>7.492684e+07</td>\n",
       "      <td>1.006454</td>\n",
       "      <td>10245.636403</td>\n",
       "    </tr>\n",
       "    <tr>\n",
       "      <th>4</th>\n",
       "      <td>-48.0</td>\n",
       "      <td>7.499095e+07</td>\n",
       "      <td>0.972148</td>\n",
       "      <td>5598.999618</td>\n",
       "    </tr>\n",
       "  </tbody>\n",
       "</table>\n",
       "</div>"
      ],
      "text/plain": [
       "   rel_week            id  Cognitive Complexity           idx\n",
       "0     -52.0  7.471027e+07              1.187747  25485.588439\n",
       "1     -51.0  7.477763e+07              1.023021  20542.767581\n",
       "2     -50.0  7.485575e+07              0.946623  15442.739651\n",
       "3     -49.0  7.492684e+07              1.006454  10245.636403\n",
       "4     -48.0  7.499095e+07              0.972148   5598.999618"
      ]
     },
     "execution_count": 37,
     "metadata": {},
     "output_type": "execute_result"
    }
   ],
   "source": [
    "calc_ed_com_mean_df.head()"
   ]
  },
  {
   "cell_type": "code",
   "execution_count": 38,
   "metadata": {},
   "outputs": [],
   "source": [
    "chow_df = calc_ed_com_mean_df[['rel_week', 'Cognitive Complexity']]"
   ]
  },
  {
   "cell_type": "code",
   "execution_count": 39,
   "metadata": {},
   "outputs": [],
   "source": [
    "chow_df = chow_df[(chow_df['rel_week']>=-52)&(chow_df['rel_week']<52)]"
   ]
  },
  {
   "cell_type": "code",
   "execution_count": 40,
   "metadata": {},
   "outputs": [],
   "source": [
    "x = chow_df['rel_week'].values"
   ]
  },
  {
   "cell_type": "code",
   "execution_count": 41,
   "metadata": {},
   "outputs": [
    {
     "data": {
      "text/plain": [
       "52"
      ]
     },
     "execution_count": 41,
     "metadata": {},
     "output_type": "execute_result"
    }
   ],
   "source": [
    "np.argmax(np.where(x <= 0)) "
   ]
  },
  {
   "cell_type": "code",
   "execution_count": 42,
   "metadata": {},
   "outputs": [],
   "source": [
    "chow_df_1year = chow_df[chow_df['rel_week']>=-52]\n",
    "st_chow_1year = st.Stats(chow_df_1year['rel_week'].values, chow_df_1year['Cognitive Complexity'].values, 2, 0.95)\n",
    "F_stat_1, p_value_1 = st_chow_1year.chow_test()\n"
   ]
  },
  {
   "cell_type": "code",
   "execution_count": 43,
   "metadata": {},
   "outputs": [
    {
     "data": {
      "text/plain": [
       "51"
      ]
     },
     "execution_count": 43,
     "metadata": {},
     "output_type": "execute_result"
    }
   ],
   "source": [
    "np.argmax(np.where(x < 0))"
   ]
  },
  {
   "cell_type": "code",
   "execution_count": 44,
   "metadata": {},
   "outputs": [
    {
     "data": {
      "text/plain": [
       "array([-52., -51., -50., -49., -48., -47., -46., -45., -44., -43., -42.,\n",
       "       -41., -40., -39., -38., -37., -36., -35., -34., -33., -32., -31.,\n",
       "       -30., -29., -28., -27., -26., -25., -24., -23., -22., -21., -20.,\n",
       "       -19., -18., -17., -16., -15., -14., -13., -12., -11., -10.,  -9.,\n",
       "        -8.,  -7.,  -6.,  -5.,  -4.,  -3.,  -2.])"
      ]
     },
     "execution_count": 44,
     "metadata": {},
     "output_type": "execute_result"
    }
   ],
   "source": [
    "x[:51]"
   ]
  },
  {
   "cell_type": "code",
   "execution_count": 45,
   "metadata": {},
   "outputs": [
    {
     "data": {
      "image/png": "[encoded data removed]",
      "text/plain": [
       "<Figure size 1000x600 with 1 Axes>"
      ]
     },
     "metadata": {},
     "output_type": "display_data"
    }
   ],
   "source": [
    "x = chow_df_1year['rel_week'].values\n",
    "y = chow_df_1year['Cognitive Complexity'].values\n",
    "\n",
    "split_idx = np.argmax(np.where(x < 0))+1\n",
    "x1= x[:split_idx]\n",
    "x2= x[split_idx:]\n",
    "# 시각화\n",
    "plt.figure(figsize=(10, 6))\n",
    "plt.scatter(x, y,  alpha=0.6, color='darkgray')\n",
    "plt.plot(x, st_chow_1year.y_predict, label=\"Full Model\", linestyle=\"--\", color=\"black\")  \n",
    "\n",
    "\n",
    "plt.plot(x1, st_chow_1year.y1_predict, label=\"before chatGPT\", linewidth='2')\n",
    "plt.fill_between(x1, st_chow_1year.y1_predict - st_chow_1year.y1_conf_interval, st_chow_1year.y1_predict + st_chow_1year.y1_conf_interval, alpha=0.3)\n",
    "\n",
    "plt.plot(x2, st_chow_1year.y2_predict, label=\"after chatGPT\", linewidth='2')\n",
    "plt.fill_between(x2, st_chow_1year.y2_predict - st_chow_1year.y2_conf_interval, st_chow_1year.y2_predict + st_chow_1year.y2_conf_interval, alpha=0.3)\n",
    "\n",
    "plt.text(30, 1.5, s=f'F-Statistic : {F_stat_1:.2f}\\np-value : {p_value_1:.4f}', fontsize = 10) #\n",
    "plt.axvline(x=0,     color='red',    linestyle='-.', linewidth=1)\n",
    "\n",
    "plt.legend(bbox_to_anchor=(1.00, 1), loc='upper left')\n",
    "plt.title(f\"Structural Change of Code Complexity around ChatGPT release\")\n",
    "plt.xlabel(\"Week Relative to ChatGPT Release\")\n",
    "plt.ylabel(\"Weekly Average Complexity\")\n",
    "plt.savefig(\"complexity_chow_ver3.png\", dpi=300, bbox_inches='tight')  # DPI 설정 및 여백 최소화\n",
    "plt.show()\n"
   ]
  },
  {
   "cell_type": "code",
   "execution_count": 43,
   "metadata": {},
   "outputs": [
    {
     "data": {
      "text/plain": [
       "<Figure size 640x480 with 0 Axes>"
      ]
     },
     "metadata": {},
     "output_type": "display_data"
    }
   ],
   "source": [
    "plt.savefig(\"complexity_chow_ver3.png\", dpi=300, bbox_inches='tight')  # DPI 설정 및 여백 최소화"
   ]
  },
  {
   "cell_type": "code",
   "execution_count": 38,
   "metadata": {},
   "outputs": [],
   "source": [
    "\n",
    "with open(f'{conf.DATA_PATH}/data/cc_python_chow_df.pkl', 'wb') as f:\n",
    "    pickle.dump(chow_df, f)"
   ]
  },
  {
   "cell_type": "code",
   "execution_count": 39,
   "metadata": {},
   "outputs": [
    {
     "data": {
      "text/html": [
       "<div>\n",
       "<style scoped>\n",
       "    .dataframe tbody tr th:only-of-type {\n",
       "        vertical-align: middle;\n",
       "    }\n",
       "\n",
       "    .dataframe tbody tr th {\n",
       "        vertical-align: top;\n",
       "    }\n",
       "\n",
       "    .dataframe thead th {\n",
       "        text-align: right;\n",
       "    }\n",
       "</style>\n",
       "<table border=\"1\" class=\"dataframe\">\n",
       "  <thead>\n",
       "    <tr style=\"text-align: right;\">\n",
       "      <th></th>\n",
       "      <th>rel_week</th>\n",
       "      <th>Cognitive Complexity</th>\n",
       "    </tr>\n",
       "  </thead>\n",
       "  <tbody>\n",
       "    <tr>\n",
       "      <th>48</th>\n",
       "      <td>-52.0</td>\n",
       "      <td>1.087470</td>\n",
       "    </tr>\n",
       "    <tr>\n",
       "      <th>49</th>\n",
       "      <td>-51.0</td>\n",
       "      <td>0.974254</td>\n",
       "    </tr>\n",
       "    <tr>\n",
       "      <th>50</th>\n",
       "      <td>-50.0</td>\n",
       "      <td>1.023590</td>\n",
       "    </tr>\n",
       "    <tr>\n",
       "      <th>51</th>\n",
       "      <td>-49.0</td>\n",
       "      <td>1.026398</td>\n",
       "    </tr>\n",
       "    <tr>\n",
       "      <th>52</th>\n",
       "      <td>-48.0</td>\n",
       "      <td>0.982172</td>\n",
       "    </tr>\n",
       "  </tbody>\n",
       "</table>\n",
       "</div>"
      ],
      "text/plain": [
       "    rel_week  Cognitive Complexity\n",
       "48     -52.0              1.087470\n",
       "49     -51.0              0.974254\n",
       "50     -50.0              1.023590\n",
       "51     -49.0              1.026398\n",
       "52     -48.0              0.982172"
      ]
     },
     "execution_count": 39,
     "metadata": {},
     "output_type": "execute_result"
    }
   ],
   "source": [
    "chow_df.head()"
   ]
  },
  {
   "cell_type": "code",
   "execution_count": null,
   "metadata": {},
   "outputs": [],
   "source": []
  }
 ],
 "metadata": {
  "kernelspec": {
   "display_name": "venv_stackoverflow_src",
   "language": "python",
   "name": "python3"
  },
  "language_info": {
   "codemirror_mode": {
    "name": "ipython",
    "version": 3
   },
   "file_extension": ".py",
   "mimetype": "text/x-python",
   "name": "python",
   "nbconvert_exporter": "python",
   "pygments_lexer": "ipython3",
   "version": "3.10.12"
  }
 },
 "nbformat": 4,
 "nbformat_minor": 2
}
