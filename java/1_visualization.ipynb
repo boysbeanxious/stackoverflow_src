{
 "cells": [
  {
   "cell_type": "code",
   "execution_count": 1,
   "metadata": {},
   "outputs": [
    {
     "name": "stderr",
     "output_type": "stream",
     "text": [
      "/var/folders/lk/t243gzpx379bzd9mvx8dcsmm0000gp/T/ipykernel_55367/1766039503.py:1: DeprecationWarning: \n",
      "Pyarrow will become a required dependency of pandas in the next major release of pandas (pandas 3.0),\n",
      "(to allow more performant data types, such as the Arrow string type, and better interoperability with other libraries)\n",
      "but was not found to be installed on your system.\n",
      "If this would cause problems for you,\n",
      "please provide us feedback at https://github.com/pandas-dev/pandas/issues/54466\n",
      "        \n",
      "  import pandas as pd\n"
     ]
    }
   ],
   "source": [
    "import pandas as pd\n",
    "import seaborn as sns\n",
    "import matplotlib.pyplot as plt\n",
    "import networkx as nx\n",
    "import numpy as np\n",
    "import pickle"
   ]
  },
  {
   "cell_type": "code",
   "execution_count": 2,
   "metadata": {},
   "outputs": [],
   "source": [
    "# 파일 불러오기\n",
    "with open('../../data/df.pkl', 'rb') as f:\n",
    "    df = pickle.load(f)\n"
   ]
  },
  {
   "cell_type": "code",
   "execution_count": 3,
   "metadata": {},
   "outputs": [],
   "source": [
    "# 파일 불러오기\n",
    "with open('../../data/df_qna.pkl', 'rb') as f:\n",
    "    df_qna = pickle.load(f)"
   ]
  },
  {
   "cell_type": "code",
   "execution_count": 4,
   "metadata": {},
   "outputs": [],
   "source": [
    "# 파일 불러오기\n",
    "with open('../../data/node.pkl', 'rb') as f:\n",
    "    node = pickle.load(f)"
   ]
  },
  {
   "cell_type": "code",
   "execution_count": 5,
   "metadata": {},
   "outputs": [],
   "source": [
    "# 파일 불러오기\n",
    "with open('../../data/edgelist.pkl', 'rb') as f:\n",
    "    edgelist = pickle.load(f)"
   ]
  },
  {
   "cell_type": "code",
   "execution_count": 6,
   "metadata": {},
   "outputs": [],
   "source": [
    "# 파일 불러오기\n",
    "centernode = pd.read_csv('../../data/centernode_gephi.csv')"
   ]
  },
  {
   "cell_type": "code",
   "execution_count": 7,
   "metadata": {},
   "outputs": [
    {
     "name": "stdout",
     "output_type": "stream",
     "text": [
      "214\n",
      "23031022\n"
     ]
    }
   ],
   "source": [
    "print(df['q_owneruserid'].min())\n",
    "print(df['q_owneruserid'].max())"
   ]
  },
  {
   "cell_type": "code",
   "execution_count": 8,
   "metadata": {},
   "outputs": [
    {
     "data": {
      "text/html": [
       "<div>\n",
       "<style scoped>\n",
       "    .dataframe tbody tr th:only-of-type {\n",
       "        vertical-align: middle;\n",
       "    }\n",
       "\n",
       "    .dataframe tbody tr th {\n",
       "        vertical-align: top;\n",
       "    }\n",
       "\n",
       "    .dataframe thead th {\n",
       "        text-align: right;\n",
       "    }\n",
       "</style>\n",
       "<table border=\"1\" class=\"dataframe\">\n",
       "  <thead>\n",
       "    <tr style=\"text-align: right;\">\n",
       "      <th></th>\n",
       "      <th>Source</th>\n",
       "      <th>Target</th>\n",
       "      <th>Type</th>\n",
       "      <th>Id</th>\n",
       "      <th>Label</th>\n",
       "      <th>Weight</th>\n",
       "    </tr>\n",
       "  </thead>\n",
       "  <tbody>\n",
       "    <tr>\n",
       "      <th>0</th>\n",
       "      <td>22801094</td>\n",
       "      <td>1180351</td>\n",
       "      <td>Directed</td>\n",
       "      <td>12212</td>\n",
       "      <td>NaN</td>\n",
       "      <td>1</td>\n",
       "    </tr>\n",
       "    <tr>\n",
       "      <th>1</th>\n",
       "      <td>11143113</td>\n",
       "      <td>1180351</td>\n",
       "      <td>Directed</td>\n",
       "      <td>12040</td>\n",
       "      <td>NaN</td>\n",
       "      <td>1</td>\n",
       "    </tr>\n",
       "    <tr>\n",
       "      <th>2</th>\n",
       "      <td>20677096</td>\n",
       "      <td>1180351</td>\n",
       "      <td>Directed</td>\n",
       "      <td>12009</td>\n",
       "      <td>NaN</td>\n",
       "      <td>1</td>\n",
       "    </tr>\n",
       "    <tr>\n",
       "      <th>3</th>\n",
       "      <td>2449161</td>\n",
       "      <td>1180351</td>\n",
       "      <td>Directed</td>\n",
       "      <td>11354</td>\n",
       "      <td>NaN</td>\n",
       "      <td>1</td>\n",
       "    </tr>\n",
       "    <tr>\n",
       "      <th>4</th>\n",
       "      <td>14701970</td>\n",
       "      <td>1180351</td>\n",
       "      <td>Directed</td>\n",
       "      <td>11222</td>\n",
       "      <td>NaN</td>\n",
       "      <td>1</td>\n",
       "    </tr>\n",
       "    <tr>\n",
       "      <th>...</th>\n",
       "      <td>...</td>\n",
       "      <td>...</td>\n",
       "      <td>...</td>\n",
       "      <td>...</td>\n",
       "      <td>...</td>\n",
       "      <td>...</td>\n",
       "    </tr>\n",
       "    <tr>\n",
       "      <th>8587</th>\n",
       "      <td>1705983</td>\n",
       "      <td>1585136</td>\n",
       "      <td>Directed</td>\n",
       "      <td>3008</td>\n",
       "      <td>NaN</td>\n",
       "      <td>1</td>\n",
       "    </tr>\n",
       "    <tr>\n",
       "      <th>8588</th>\n",
       "      <td>8002175</td>\n",
       "      <td>8002175</td>\n",
       "      <td>Directed</td>\n",
       "      <td>4810</td>\n",
       "      <td>NaN</td>\n",
       "      <td>1</td>\n",
       "    </tr>\n",
       "    <tr>\n",
       "      <th>8589</th>\n",
       "      <td>1045142</td>\n",
       "      <td>2083900</td>\n",
       "      <td>Directed</td>\n",
       "      <td>3977</td>\n",
       "      <td>NaN</td>\n",
       "      <td>1</td>\n",
       "    </tr>\n",
       "    <tr>\n",
       "      <th>8590</th>\n",
       "      <td>8002175</td>\n",
       "      <td>1045142</td>\n",
       "      <td>Directed</td>\n",
       "      <td>9755</td>\n",
       "      <td>NaN</td>\n",
       "      <td>1</td>\n",
       "    </tr>\n",
       "    <tr>\n",
       "      <th>8591</th>\n",
       "      <td>6152567</td>\n",
       "      <td>1045142</td>\n",
       "      <td>Directed</td>\n",
       "      <td>7202</td>\n",
       "      <td>NaN</td>\n",
       "      <td>1</td>\n",
       "    </tr>\n",
       "  </tbody>\n",
       "</table>\n",
       "<p>8592 rows × 6 columns</p>\n",
       "</div>"
      ],
      "text/plain": [
       "        Source   Target      Type     Id  Label  Weight\n",
       "0     22801094  1180351  Directed  12212    NaN       1\n",
       "1     11143113  1180351  Directed  12040    NaN       1\n",
       "2     20677096  1180351  Directed  12009    NaN       1\n",
       "3      2449161  1180351  Directed  11354    NaN       1\n",
       "4     14701970  1180351  Directed  11222    NaN       1\n",
       "...        ...      ...       ...    ...    ...     ...\n",
       "8587   1705983  1585136  Directed   3008    NaN       1\n",
       "8588   8002175  8002175  Directed   4810    NaN       1\n",
       "8589   1045142  2083900  Directed   3977    NaN       1\n",
       "8590   8002175  1045142  Directed   9755    NaN       1\n",
       "8591   6152567  1045142  Directed   7202    NaN       1\n",
       "\n",
       "[8592 rows x 6 columns]"
      ]
     },
     "execution_count": 8,
     "metadata": {},
     "output_type": "execute_result"
    }
   ],
   "source": [
    "centernode"
   ]
  },
  {
   "cell_type": "markdown",
   "metadata": {},
   "source": [
    "Data wrangling"
   ]
  },
  {
   "cell_type": "code",
   "execution_count": 9,
   "metadata": {},
   "outputs": [
    {
     "name": "stdout",
     "output_type": "stream",
     "text": [
      "전체 edge 개수 :  12428\n",
      "중심부 edge 개수 :  8592\n"
     ]
    }
   ],
   "source": [
    "print(\"전체 edge 개수 : \", df.shape[0])\n",
    "print(\"중심부 edge 개수 : \", centernode.shape[0])"
   ]
  },
  {
   "cell_type": "code",
   "execution_count": 10,
   "metadata": {},
   "outputs": [
    {
     "name": "stdout",
     "output_type": "stream",
     "text": [
      "전체 node 개수 :  11392\n",
      "중심부 node 개수 :  6681\n"
     ]
    }
   ],
   "source": [
    "print(\"전체 node 개수 : \", len(df_qna['user_id'].unique()))\n",
    "print(\"중심부 node 개수 : \", len(np.union1d(centernode['Source'].values, centernode['Target'].values)))"
   ]
  },
  {
   "cell_type": "code",
   "execution_count": 11,
   "metadata": {},
   "outputs": [
    {
     "name": "stdout",
     "output_type": "stream",
     "text": [
      "데이터 셋 내 최초 질문 일시 :  2023-08-03 01:04:49.693000\n",
      "데이터 셋 내 최종 질문 일시 :  2023-12-03 08:29:11.803000\n"
     ]
    }
   ],
   "source": [
    "print(\"데이터 셋 내 최초 질문 일시 : \", df['q_creationdate'].min())\n",
    "print(\"데이터 셋 내 최종 질문 일시 : \", df['q_creationdate'].max())"
   ]
  },
  {
   "cell_type": "code",
   "execution_count": 12,
   "metadata": {},
   "outputs": [
    {
     "name": "stdout",
     "output_type": "stream",
     "text": [
      "데이터 셋 내 최초 답변 일시 :  2023-08-03 01:23:36.673000\n",
      "데이터 셋 내 최종 답변 일시 :  2023-12-03 10:02:09.807000\n"
     ]
    }
   ],
   "source": [
    "print(\"데이터 셋 내 최초 답변 일시 : \", df['a_creationdate'].min())\n",
    "print(\"데이터 셋 내 최종 답변 일시 : \", df['a_creationdate'].max())"
   ]
  },
  {
   "cell_type": "code",
   "execution_count": 14,
   "metadata": {},
   "outputs": [],
   "source": [
    "# centernode_list = np.union1d(centernode['Source'].values, centernode['Target'].values)\n",
    "# centernode_list = [node[x] for x in centernode_list]"
   ]
  },
  {
   "cell_type": "code",
   "execution_count": null,
   "metadata": {},
   "outputs": [],
   "source": [
    "# centernode['Source_org'] = centernode['Source'].apply(lambda x : node[x])\n",
    "# centernode['Target_org'] = centernode['Target'].apply(lambda x : node[x])"
   ]
  },
  {
   "cell_type": "code",
   "execution_count": null,
   "metadata": {},
   "outputs": [],
   "source": [
    "# # centernode[['Source_org', 'Target_org']]\n",
    "# # centernode[['Source', 'Target']]\n",
    "# # .drop_duplicates()\n",
    "\n",
    "# centernode[['Source_org', 'Target_org']].drop_duplicates()"
   ]
  },
  {
   "cell_type": "code",
   "execution_count": null,
   "metadata": {},
   "outputs": [],
   "source": [
    "tmp = pd.merge(df, centernode, left_on = ['q_owneruserid', 'a_owneruserid'], right_on = ['Source_org', 'Target_org'])"
   ]
  },
  {
   "cell_type": "code",
   "execution_count": null,
   "metadata": {},
   "outputs": [],
   "source": [
    "tmp[['q_owneruserid', 'a_owneruserid']]"
   ]
  },
  {
   "cell_type": "code",
   "execution_count": null,
   "metadata": {},
   "outputs": [],
   "source": [
    "tmp[tmp[['q_owneruserid', 'a_owneruserid']].duplicated()]"
   ]
  },
  {
   "cell_type": "code",
   "execution_count": null,
   "metadata": {},
   "outputs": [],
   "source": []
  },
  {
   "cell_type": "code",
   "execution_count": null,
   "metadata": {},
   "outputs": [],
   "source": [
    "q_df = df[['q_id', 'q_creationdate']].copy()\n",
    "q_df.drop_duplicates(inplace=True)\n",
    "\n",
    "a_df = df[['a_id', 'a_creationdate']].copy()\n",
    "a_df.drop_duplicates(inplace=True)"
   ]
  },
  {
   "cell_type": "code",
   "execution_count": null,
   "metadata": {},
   "outputs": [],
   "source": [
    "q_df['create_month'] = pd.to_datetime(q_df['q_creationdate']).dt.month\n",
    "a_df['create_month'] = pd.to_datetime(a_df['a_creationdate']).dt.month"
   ]
  },
  {
   "cell_type": "code",
   "execution_count": null,
   "metadata": {},
   "outputs": [],
   "source": [
    "q_df = q_df.groupby(['create_month']).count()['q_id'].reset_index()\n",
    "a_df = a_df.groupby(['create_month']).count()['a_id'].reset_index()"
   ]
  },
  {
   "cell_type": "code",
   "execution_count": null,
   "metadata": {},
   "outputs": [],
   "source": [
    "qna_month = pd.merge(q_df,a_df, on  = 'create_month')"
   ]
  },
  {
   "cell_type": "code",
   "execution_count": null,
   "metadata": {},
   "outputs": [],
   "source": [
    "qna_month"
   ]
  },
  {
   "cell_type": "code",
   "execution_count": null,
   "metadata": {},
   "outputs": [],
   "source": [
    "idx = np.arange(qna_month.shape[0])\n",
    "w = 0.15\n",
    "\n",
    "plt.figure(figsize = (10, 5))\n",
    "plt.title('user count who leaves question and answer per month ')\n",
    "plt.xlabel('month(in 2023)')\n",
    "plt.ylabel('user count')\n",
    "plt.bar(idx - w * w, qna_month['q_id'], width = w, label = 'question count')\n",
    "plt.bar(idx + w, qna_month['a_id'], width = w, label = 'answer count')\n",
    "plt.xticks(idx, qna_month['create_month'], rotation = 30)\n",
    "plt.legend(ncol = 1)\n",
    "plt.show()"
   ]
  },
  {
   "cell_type": "code",
   "execution_count": null,
   "metadata": {},
   "outputs": [],
   "source": [
    "idx = np.arange(qna_month.shape[0])\n",
    "w = 0.15\n",
    "\n",
    "plt.figure(figsize = (10, 5))\n",
    "plt.title('user count who leaves question and answer per month ')\n",
    "plt.xlabel('month(in 2023)')\n",
    "plt.ylabel('user count')\n",
    "plt.bar(idx - w * w, qna_month['q_id'], width = w, label = 'question count')\n",
    "plt.bar(idx + w, qna_month['a_id'], width = w, label = 'answer count')\n",
    "plt.xticks(idx, qna_month['create_month'], rotation = 30)\n",
    "plt.legend(ncol = 1)\n",
    "plt.show()"
   ]
  },
  {
   "cell_type": "markdown",
   "metadata": {},
   "source": [
    "## 유저 별 질문/답변 횟수를 히스토그램으로 출력 \n",
    "* 대부분의 유저들이 질문과 답변을 안한다는 것을 알 수 있음 "
   ]
  },
  {
   "cell_type": "code",
   "execution_count": null,
   "metadata": {},
   "outputs": [],
   "source": [
    "fig, ax = plt.subplots()\n",
    "\n",
    "ax.hist([df_qna['question_cnt'], df_qna['answer_cnt']], # specify data\n",
    "        bins = 20, # number of bins\n",
    "        color = ['green', 'deeppink'], # bar color\n",
    "        histtype = 'step', # type of histogram\n",
    "        label = ['question', 'answer']) # create legened labels\n",
    "\n",
    "ax.set_title('Histogram of answer or question count', fontsize = 15) # title\n",
    "ax.set_xlabel('count', fontsize = 12.5) # x-axis label\n",
    "ax.set_ylabel('value', fontsize = 12.5) # y-axis label\n",
    "\n",
    "ax.legend(loc = 'upper right', fontsize = 10) # add legend\n",
    "\n",
    "ax.grid(True, linestyle = ':', linewidth = 0.5) # grid\n",
    "\n",
    "plt.show();"
   ]
  },
  {
   "cell_type": "markdown",
   "metadata": {},
   "source": [
    "## 같은 데이터를 활용하여 누적분포 함수 시각화\n",
    "* 질문횟수와 답변횟수가 비슷한 기울기를 보이다가, 질문횟수가 답변횟수보다 먼저 1로 수렴 \n",
    "* 답변횟수보다 질문횟수가 0에 더 가깝다는것을 알 수 있음"
   ]
  },
  {
   "cell_type": "code",
   "execution_count": null,
   "metadata": {},
   "outputs": [],
   "source": [
    "### cdf plot for multiple groups\n",
    "\n",
    "fig, ax = plt.subplots()\n",
    "\n",
    "sns.ecdfplot(x = df_qna['question_cnt'],\n",
    "             color = 'green',\n",
    "             label = 'question',\n",
    "             ax = ax)\n",
    "sns.ecdfplot(x = df_qna['answer_cnt'],\n",
    "             color = 'deeppink',\n",
    "             label = 'answer',\n",
    "             ax = ax)\n",
    "\n",
    "ax.set_title('Number of question or answer count', fontsize=15)\n",
    "ax.set_xlabel('count', fontsize = 12.5)\n",
    "ax.set_ylabel('CDF', fontsize = 12.5)\n",
    "\n",
    "ax.legend(loc = 'upper right', fontsize = 10)\n",
    "\n",
    "ax.grid(True, linestyle=':', linewidth = 0.5)\n",
    "\n",
    "plt.show();"
   ]
  },
  {
   "cell_type": "markdown",
   "metadata": {},
   "source": [
    "## 유저 별 답변비율 시각화\n",
    "* 위의 그래프를 보면 대부분의 유저들이 질문도 답볃도 하지 않는 상황\n",
    "* 그럼 유저별로 질문 답변 횟수 사이에 차이가 존재하는지 비율로 확인 \n",
    "* (유저별 질문횟수)/(유저별 질문횟수+유저별 답변횟수)\n",
    "* 대부분의 유저들이 거의 답변을 하지 않고, 몇몇의 유저들이 답변만 하는 것을 알 수 있음"
   ]
  },
  {
   "cell_type": "code",
   "execution_count": null,
   "metadata": {},
   "outputs": [],
   "source": [
    "df_qna['question_rate'] = np.round(df_qna['question_cnt']/(df_qna['question_cnt']+df_qna['answer_cnt'])*100, 2)"
   ]
  },
  {
   "cell_type": "code",
   "execution_count": null,
   "metadata": {},
   "outputs": [],
   "source": [
    "df_qna['answer_rate'] = 100-df_qna['question_rate'] "
   ]
  },
  {
   "cell_type": "code",
   "execution_count": null,
   "metadata": {},
   "outputs": [],
   "source": [
    "fig, axs = plt.subplots(1, 1, figsize = (10, 5))\n",
    "\n",
    "axs.hist(df_qna['answer_rate'] , # plot the original histogram\n",
    "         bins = 50,\n",
    "         color = 'skyblue',\n",
    "         edgecolor = 'black')\n",
    "axs.set_title('Histogram of answer_rate', fontsize = 15)\n",
    "axs.set_xlabel('Question rate per user', fontsize = 15)\n",
    "axs.set_ylabel('Number of Users', fontsize = 15)\n",
    "\n"
   ]
  },
  {
   "cell_type": "code",
   "execution_count": null,
   "metadata": {},
   "outputs": [],
   "source": [
    "df_qna"
   ]
  },
  {
   "cell_type": "code",
   "execution_count": null,
   "metadata": {},
   "outputs": [],
   "source": [
    "fig_scatter_reg, ax = plt.subplots(figsize = (10, 6))\n",
    "\n",
    "ax.scatter(df_qna['question_cnt'], df_qna['answer_cnt'], color = 'purple', alpha = 0.6)\n",
    "\n",
    "ax.set_title('Question and Answer')\n",
    "ax.set_xlabel('Question')\n",
    "ax.set_ylabel('Answer')\n",
    "\n",
    "\n",
    "plt.show();"
   ]
  },
  {
   "cell_type": "markdown",
   "metadata": {},
   "source": [
    "## 질문 혹은 답변 횟수가 0인 유저 별 비율 시각화\n",
    "* 그래프를 보면 어떤 수치든 양극단의 비율이 높음(정규분포를 띄지 않음)\n",
    "* 극단에 존재하는 유저(답변횟수가 0 이거나 질문 횟수가 0)들을 대상으로 시각화 진행\n",
    "* 한번도 질문하지 않은 유저는 10706명, 한번도 답변하지 않은 유저는 23442명으로 답하지 않은 유저가 약 2.18 배 많음 \n",
    "* 한번도 답변하지 않은 유저의 경우 모두 25회 미만으로 질문하였지만, 한번도 대답하지 않은 유저의 경우 분산이 크며 경우에 따라 200회 이상 답변한 유저도 존재 \n",
    "* 답변하는 유저가 더 적은 수지만 훨씬 더 활발하게 활동한다는것을 알 수 있음 "
   ]
  },
  {
   "cell_type": "code",
   "execution_count": null,
   "metadata": {},
   "outputs": [],
   "source": [
    "zero_q_cnt = df_qna.loc[df_qna['question_cnt']==0, 'answer_cnt']\n",
    "zero_a_cnt = df_qna.loc[df_qna['answer_cnt']==0, 'question_cnt']\n",
    "\n",
    "fig,ax = plt.subplots()\n",
    "ax.boxplot([zero_q_cnt,zero_a_cnt])\n",
    "# plt.title('Species_bill_length')\n",
    "plt.xticks([1,2],['zero question user\\'s \\nanswer count', 'zero answer user\\'s \\nquestion count'])\n",
    "plt.show();"
   ]
  },
  {
   "cell_type": "code",
   "execution_count": null,
   "metadata": {},
   "outputs": [],
   "source": [
    "print(len(zero_q_cnt))\n",
    "print(len(zero_a_cnt))\n",
    "print(len(zero_a_cnt)/len(zero_q_cnt))"
   ]
  },
  {
   "cell_type": "code",
   "execution_count": null,
   "metadata": {},
   "outputs": [],
   "source": [
    "q_reputation = df[['q_owneruserid','q_reputation']].rename(columns = {'q_owneruserid':'user_id', 'q_reputation':'reputation'})\n",
    "a_reputation = df[['a_owneruserid','a_reputation']].rename(columns = {'a_owneruserid':'user_id', 'a_reputation':'reputation'})"
   ]
  },
  {
   "cell_type": "code",
   "execution_count": null,
   "metadata": {},
   "outputs": [],
   "source": [
    "df_reputation = pd.concat([q_reputation, a_reputation], axis = 0).drop_duplicates()"
   ]
  },
  {
   "cell_type": "code",
   "execution_count": null,
   "metadata": {},
   "outputs": [],
   "source": [
    "df_qna = pd.merge(df_qna, df_reputation, on = 'user_id', how='left')"
   ]
  },
  {
   "cell_type": "code",
   "execution_count": null,
   "metadata": {},
   "outputs": [],
   "source": [
    "df_qna.isna().sum()"
   ]
  },
  {
   "cell_type": "code",
   "execution_count": null,
   "metadata": {},
   "outputs": [],
   "source": [
    "df_qna.sort_values(by = ['question_cnt'], ascending=False)"
   ]
  },
  {
   "cell_type": "code",
   "execution_count": null,
   "metadata": {},
   "outputs": [],
   "source": [
    "df_qna.sort_values(by = ['answer_rate'], ascending=False)"
   ]
  },
  {
   "cell_type": "code",
   "execution_count": null,
   "metadata": {},
   "outputs": [],
   "source": [
    "zero_q_rep = df_qna.loc[df_qna['question_cnt']==0, 'reputation']"
   ]
  },
  {
   "cell_type": "code",
   "execution_count": null,
   "metadata": {},
   "outputs": [],
   "source": [
    "zero_a_rep = df_qna.loc[df_qna['answer_cnt']==0, 'reputation']\n"
   ]
  },
  {
   "cell_type": "markdown",
   "metadata": {},
   "source": [
    "## 질문 혹은 답변 횟수가 0인 유저 별 stackoverflow 평판(reputation) 시각화\n",
    "* reputation이 높아질수록 유저의 수도 적어짐\n",
    "* 답변하는 유저가 더 적은 수지만 커뮤니티에서 평판을 쌓아간다는 것을 알 수 있음 \n"
   ]
  },
  {
   "cell_type": "code",
   "execution_count": null,
   "metadata": {},
   "outputs": [],
   "source": [
    "fig,ax = plt.subplots()\n",
    "ax.boxplot([zero_q_rep,zero_a_rep])\n",
    "# plt.title('Species_bill_length')\n",
    "plt.xticks([1,2],['zero question user\\'s \\nreputation', 'zero answer user\\'s \\nreputation'])\n",
    "plt.show();"
   ]
  }
 ],
 "metadata": {
  "kernelspec": {
   "display_name": "Python 3 (ipykernel)",
   "language": "python",
   "name": "python3"
  },
  "language_info": {
   "codemirror_mode": {
    "name": "ipython",
    "version": 3
   },
   "file_extension": ".py",
   "mimetype": "text/x-python",
   "name": "python",
   "nbconvert_exporter": "python",
   "pygments_lexer": "ipython3",
   "version": "3.9.6"
  }
 },
 "nbformat": 4,
 "nbformat_minor": 4
}
