{
 "cells": [
  {
   "cell_type": "code",
   "execution_count": 1,
   "metadata": {},
   "outputs": [],
   "source": [
    "import sys, os\n",
    "p = os.path.abspath('..')\n",
    "# p = p+r'\\config'\n",
    "sys.path.insert(1, p)"
   ]
  },
  {
   "cell_type": "code",
   "execution_count": 2,
   "metadata": {},
   "outputs": [
    {
     "name": "stderr",
     "output_type": "stream",
     "text": [
      "/var/folders/lk/t243gzpx379bzd9mvx8dcsmm0000gp/T/ipykernel_52291/1527706816.py:2: DeprecationWarning: \n",
      "Pyarrow will become a required dependency of pandas in the next major release of pandas (pandas 3.0),\n",
      "(to allow more performant data types, such as the Arrow string type, and better interoperability with other libraries)\n",
      "but was not found to be installed on your system.\n",
      "If this would cause problems for you,\n",
      "please provide us feedback at https://github.com/pandas-dev/pandas/issues/54466\n",
      "        \n",
      "  import pandas as pd\n"
     ]
    }
   ],
   "source": [
    "import psycopg2\n",
    "import pandas as pd\n",
    "import seaborn as sns\n",
    "import matplotlib.pyplot as plt\n",
    "import networkx as nx\n",
    "import numpy as np\n",
    "import time\n",
    "import pprint\n",
    "from itertools import combinations\n",
    "import pickle\n",
    "import config.config as conf"
   ]
  },
  {
   "cell_type": "code",
   "execution_count": 3,
   "metadata": {},
   "outputs": [],
   "source": [
    "conn = psycopg2.connect(host = conf.database_user['host'], dbname=conf.database_user['dbname'], user=conf.database_user['user'], password=conf.database_user['password'])\n",
    "try:\n",
    "    cur = conn.cursor()\n",
    "    cur.execute(\"\\\n",
    "select \\\n",
    "                  x.q_id \\\n",
    "                , x.q_posttypeid \\\n",
    "                , x.q_acceptedanswerid \\\n",
    "                , x.q_parentid \\\n",
    "                , x.q_creationdate \\\n",
    "                , x.q_score \\\n",
    "                , x.q_viewcount \\\n",
    "                , x.q_owneruserid \\\n",
    "                , x.q_title \\\n",
    "                , x.q_tags \\\n",
    "                , x.q_answercount \\\n",
    "                , x.q_commentcount \\\n",
    "                , x.q_reputation \\\n",
    "                , b.id               as a_id \\\n",
    "                , b.posttypeid       as a_posttypeid \\\n",
    "                , b.acceptedanswerid as a_acceptedanswerid \\\n",
    "                , b.parentid         as a_parentid \\\n",
    "                , b.creationdate     as a_creationdate \\\n",
    "                , b.score            as a_score \\\n",
    "                , b.viewcount        as a_viewcount \\\n",
    "                , b.owneruserid      as a_owneruserid \\\n",
    "                , b.title            as a_title \\\n",
    "                , b.tags             as a_tags \\\n",
    "                , b.answercount      as a_answercount \\\n",
    "                , b.commentcount     as a_commentcount \\\n",
    "                , d.reputation       as a_reputation \\\n",
    "  from ( \\\n",
    "           select a.id               as q_id \\\n",
    "                , a.posttypeid       as q_posttypeid \\\n",
    "                , a.acceptedanswerid as q_acceptedanswerid \\\n",
    "                , a.parentid         as q_parentid \\\n",
    "                , a.creationdate     as q_creationdate \\\n",
    "                , a.score            as q_score \\\n",
    "                , a.viewcount        as q_viewcount \\\n",
    "                , a.owneruserid      as q_owneruserid \\\n",
    "                , a.title            as q_title \\\n",
    "                , a.answercount      as q_answercount \\\n",
    "                , a.commentcount     as q_commentcount \\\n",
    "                , c.reputation       as q_reputation \\\n",
    "                , replace(replace(lower(a.tags), '<', ''), '>', ' ')as q_tags \\\n",
    "           from posts a \\\n",
    "              , users c \\\n",
    "           where a.creationdate >= '2023-08-03' \\\n",
    "             and a.posttypeid = '1' \\\n",
    "             and a.owneruserid is not null \\\n",
    "             and c.id = a.owneruserid \\\n",
    "             and (replace(replace(lower(a.tags), '<', ''), '>', ' ') like '%java %' or \\\n",
    "                  replace(replace(lower(a.tags), '<', ''), '>', ' ') like '%spring%') \\\n",
    "       )   x \\\n",
    "        , posts b \\\n",
    "        , users d \\\n",
    "where b.parentid = x.q_id \\\n",
    "  and b.posttypeid = '2' \\\n",
    "  and b.owneruserid is not null \\\n",
    "  and d.id = b.owneruserid \\\n",
    "; \\\n",
    "                \" \n",
    "   )\n",
    "    rows = cur.fetchall()\n",
    "    \n",
    "\n",
    "except psycopg2.DatabaseError as db_err:\n",
    "    print(db_err)\n",
    "finally : \n",
    "  cur.close()"
   ]
  },
  {
   "cell_type": "code",
   "execution_count": 4,
   "metadata": {},
   "outputs": [],
   "source": [
    "df = pd.DataFrame(rows, columns = [\n",
    "  'q_id' \n",
    ", 'q_posttypeid' \n",
    ", 'q_acceptedanswerid'\n",
    ", 'q_parentid' \n",
    ", 'q_creationdate' \n",
    ", 'q_score' \n",
    ", 'q_viewcount' \n",
    ", 'q_owneruserid' \n",
    ", 'q_title' \n",
    ", 'q_tags' \n",
    ", 'q_answercount' \n",
    ", 'q_commentcount' \n",
    ", 'q_reputation' \n",
    ", 'a_id' \n",
    ", 'a_posttypeid' \n",
    ", 'a_acceptedanswerid' \n",
    ", 'a_parentid' \n",
    ", 'a_creationdate' \n",
    ", 'a_score' \n",
    ", 'a_viewcount' \n",
    ", 'a_owneruserid' \n",
    ", 'a_title' \n",
    ", 'a_tags' \n",
    ", 'a_answercount'\n",
    ", 'a_commentcount'\n",
    ", 'a_reputation' \n",
    "])"
   ]
  },
  {
   "cell_type": "code",
   "execution_count": 5,
   "metadata": {},
   "outputs": [
    {
     "data": {
      "text/html": [
       "<div>\n",
       "<style scoped>\n",
       "    .dataframe tbody tr th:only-of-type {\n",
       "        vertical-align: middle;\n",
       "    }\n",
       "\n",
       "    .dataframe tbody tr th {\n",
       "        vertical-align: top;\n",
       "    }\n",
       "\n",
       "    .dataframe thead th {\n",
       "        text-align: right;\n",
       "    }\n",
       "</style>\n",
       "<table border=\"1\" class=\"dataframe\">\n",
       "  <thead>\n",
       "    <tr style=\"text-align: right;\">\n",
       "      <th></th>\n",
       "      <th>q_id</th>\n",
       "      <th>q_posttypeid</th>\n",
       "      <th>q_acceptedanswerid</th>\n",
       "      <th>q_parentid</th>\n",
       "      <th>q_creationdate</th>\n",
       "      <th>q_score</th>\n",
       "      <th>q_viewcount</th>\n",
       "      <th>q_owneruserid</th>\n",
       "      <th>q_title</th>\n",
       "      <th>q_tags</th>\n",
       "      <th>...</th>\n",
       "      <th>a_parentid</th>\n",
       "      <th>a_creationdate</th>\n",
       "      <th>a_score</th>\n",
       "      <th>a_viewcount</th>\n",
       "      <th>a_owneruserid</th>\n",
       "      <th>a_title</th>\n",
       "      <th>a_tags</th>\n",
       "      <th>a_answercount</th>\n",
       "      <th>a_commentcount</th>\n",
       "      <th>a_reputation</th>\n",
       "    </tr>\n",
       "  </thead>\n",
       "  <tbody>\n",
       "    <tr>\n",
       "      <th>0</th>\n",
       "      <td>77336626</td>\n",
       "      <td>1</td>\n",
       "      <td>NaN</td>\n",
       "      <td>None</td>\n",
       "      <td>2023-10-21 15:19:04.530</td>\n",
       "      <td>0</td>\n",
       "      <td>34</td>\n",
       "      <td>724835</td>\n",
       "      <td>Why is @Enitity required for @KeySpace enitity...</td>\n",
       "      <td>spring-data spring-data-keyvalue</td>\n",
       "      <td>...</td>\n",
       "      <td>77336626</td>\n",
       "      <td>2023-10-24 11:10:55.103</td>\n",
       "      <td>1</td>\n",
       "      <td>None</td>\n",
       "      <td>724835</td>\n",
       "      <td>None</td>\n",
       "      <td>None</td>\n",
       "      <td>None</td>\n",
       "      <td>0</td>\n",
       "      <td>4903</td>\n",
       "    </tr>\n",
       "    <tr>\n",
       "      <th>1</th>\n",
       "      <td>77330927</td>\n",
       "      <td>1</td>\n",
       "      <td>NaN</td>\n",
       "      <td>None</td>\n",
       "      <td>2023-10-20 12:28:41.247</td>\n",
       "      <td>0</td>\n",
       "      <td>52</td>\n",
       "      <td>22773792</td>\n",
       "      <td>How to retrieve spring datasource properties f...</td>\n",
       "      <td>java spring spring-boot environment-variables</td>\n",
       "      <td>...</td>\n",
       "      <td>77330927</td>\n",
       "      <td>2023-10-24 11:20:40.770</td>\n",
       "      <td>0</td>\n",
       "      <td>None</td>\n",
       "      <td>12689021</td>\n",
       "      <td>None</td>\n",
       "      <td>None</td>\n",
       "      <td>None</td>\n",
       "      <td>0</td>\n",
       "      <td>21</td>\n",
       "    </tr>\n",
       "    <tr>\n",
       "      <th>2</th>\n",
       "      <td>77351623</td>\n",
       "      <td>1</td>\n",
       "      <td>NaN</td>\n",
       "      <td>None</td>\n",
       "      <td>2023-10-24 11:20:18.453</td>\n",
       "      <td>-2</td>\n",
       "      <td>51</td>\n",
       "      <td>16497016</td>\n",
       "      <td>Why does Integer.parseInt produce Exception in...</td>\n",
       "      <td>java pattern-matching text-parsing</td>\n",
       "      <td>...</td>\n",
       "      <td>77351623</td>\n",
       "      <td>2023-10-24 11:23:15.500</td>\n",
       "      <td>2</td>\n",
       "      <td>None</td>\n",
       "      <td>1180351</td>\n",
       "      <td>None</td>\n",
       "      <td>None</td>\n",
       "      <td>None</td>\n",
       "      <td>0</td>\n",
       "      <td>7014</td>\n",
       "    </tr>\n",
       "    <tr>\n",
       "      <th>3</th>\n",
       "      <td>77350630</td>\n",
       "      <td>1</td>\n",
       "      <td>77350938.0</td>\n",
       "      <td>None</td>\n",
       "      <td>2023-10-24 08:40:37.300</td>\n",
       "      <td>0</td>\n",
       "      <td>31</td>\n",
       "      <td>20500971</td>\n",
       "      <td>Spring Boot - @ConfigurationProperties with ne...</td>\n",
       "      <td>java spring-boot properties yaml mapping</td>\n",
       "      <td>...</td>\n",
       "      <td>77350630</td>\n",
       "      <td>2023-10-24 09:31:52.397</td>\n",
       "      <td>2</td>\n",
       "      <td>None</td>\n",
       "      <td>6633045</td>\n",
       "      <td>None</td>\n",
       "      <td>None</td>\n",
       "      <td>None</td>\n",
       "      <td>0</td>\n",
       "      <td>486</td>\n",
       "    </tr>\n",
       "    <tr>\n",
       "      <th>4</th>\n",
       "      <td>77328840</td>\n",
       "      <td>1</td>\n",
       "      <td>NaN</td>\n",
       "      <td>None</td>\n",
       "      <td>2023-10-20 06:52:53.487</td>\n",
       "      <td>-1</td>\n",
       "      <td>50</td>\n",
       "      <td>8196323</td>\n",
       "      <td>Endless recursion when trying to save an entit...</td>\n",
       "      <td>java sql spring spring-boot jpa</td>\n",
       "      <td>...</td>\n",
       "      <td>77328840</td>\n",
       "      <td>2023-10-24 12:26:25.740</td>\n",
       "      <td>0</td>\n",
       "      <td>None</td>\n",
       "      <td>12689021</td>\n",
       "      <td>None</td>\n",
       "      <td>None</td>\n",
       "      <td>None</td>\n",
       "      <td>0</td>\n",
       "      <td>21</td>\n",
       "    </tr>\n",
       "  </tbody>\n",
       "</table>\n",
       "<p>5 rows × 26 columns</p>\n",
       "</div>"
      ],
      "text/plain": [
       "       q_id q_posttypeid  q_acceptedanswerid q_parentid  \\\n",
       "0  77336626            1                 NaN       None   \n",
       "1  77330927            1                 NaN       None   \n",
       "2  77351623            1                 NaN       None   \n",
       "3  77350630            1          77350938.0       None   \n",
       "4  77328840            1                 NaN       None   \n",
       "\n",
       "           q_creationdate  q_score  q_viewcount  q_owneruserid  \\\n",
       "0 2023-10-21 15:19:04.530        0           34         724835   \n",
       "1 2023-10-20 12:28:41.247        0           52       22773792   \n",
       "2 2023-10-24 11:20:18.453       -2           51       16497016   \n",
       "3 2023-10-24 08:40:37.300        0           31       20500971   \n",
       "4 2023-10-20 06:52:53.487       -1           50        8196323   \n",
       "\n",
       "                                             q_title  \\\n",
       "0  Why is @Enitity required for @KeySpace enitity...   \n",
       "1  How to retrieve spring datasource properties f...   \n",
       "2  Why does Integer.parseInt produce Exception in...   \n",
       "3  Spring Boot - @ConfigurationProperties with ne...   \n",
       "4  Endless recursion when trying to save an entit...   \n",
       "\n",
       "                                           q_tags  ...  a_parentid  \\\n",
       "0               spring-data spring-data-keyvalue   ...    77336626   \n",
       "1  java spring spring-boot environment-variables   ...    77330927   \n",
       "2             java pattern-matching text-parsing   ...    77351623   \n",
       "3       java spring-boot properties yaml mapping   ...    77350630   \n",
       "4                java sql spring spring-boot jpa   ...    77328840   \n",
       "\n",
       "           a_creationdate  a_score  a_viewcount a_owneruserid a_title  a_tags  \\\n",
       "0 2023-10-24 11:10:55.103        1         None        724835    None    None   \n",
       "1 2023-10-24 11:20:40.770        0         None      12689021    None    None   \n",
       "2 2023-10-24 11:23:15.500        2         None       1180351    None    None   \n",
       "3 2023-10-24 09:31:52.397        2         None       6633045    None    None   \n",
       "4 2023-10-24 12:26:25.740        0         None      12689021    None    None   \n",
       "\n",
       "  a_answercount  a_commentcount a_reputation  \n",
       "0          None               0         4903  \n",
       "1          None               0           21  \n",
       "2          None               0         7014  \n",
       "3          None               0          486  \n",
       "4          None               0           21  \n",
       "\n",
       "[5 rows x 26 columns]"
      ]
     },
     "execution_count": 5,
     "metadata": {},
     "output_type": "execute_result"
    }
   ],
   "source": [
    "df.head()"
   ]
  },
  {
   "cell_type": "code",
   "execution_count": 6,
   "metadata": {},
   "outputs": [
    {
     "name": "stdout",
     "output_type": "stream",
     "text": [
      "2023-08-03 01:04:49.693000\n",
      "2023-12-03 10:02:09.807000\n"
     ]
    }
   ],
   "source": [
    "print(df['q_creationdate'].min())\n",
    "print(df['a_creationdate'].max())"
   ]
  },
  {
   "cell_type": "code",
   "execution_count": 7,
   "metadata": {},
   "outputs": [],
   "source": [
    "df_gephi = df[['q_owneruserid', 'a_owneruserid']]"
   ]
  },
  {
   "cell_type": "code",
   "execution_count": 8,
   "metadata": {},
   "outputs": [],
   "source": [
    "df_gephi.columns = ['Source', 'Target']"
   ]
  },
  {
   "cell_type": "code",
   "execution_count": 9,
   "metadata": {},
   "outputs": [
    {
     "name": "stdout",
     "output_type": "stream",
     "text": [
      "<class 'pandas.core.frame.DataFrame'>\n",
      "RangeIndex: 12428 entries, 0 to 12427\n",
      "Data columns (total 2 columns):\n",
      " #   Column  Non-Null Count  Dtype\n",
      "---  ------  --------------  -----\n",
      " 0   Source  12428 non-null  int64\n",
      " 1   Target  12428 non-null  int64\n",
      "dtypes: int64(2)\n",
      "memory usage: 194.3 KB\n"
     ]
    }
   ],
   "source": [
    "df_gephi.info()"
   ]
  },
  {
   "cell_type": "code",
   "execution_count": 10,
   "metadata": {},
   "outputs": [
    {
     "data": {
      "text/plain": [
       "array([  724835, 22773792, 16497016, ...,  1028537, 20182110,  5509227])"
      ]
     },
     "execution_count": 10,
     "metadata": {},
     "output_type": "execute_result"
    }
   ],
   "source": [
    "np.append(df_gephi['Source'].values, df_gephi['Target'].values)"
   ]
  },
  {
   "cell_type": "code",
   "execution_count": 11,
   "metadata": {},
   "outputs": [],
   "source": [
    "node = np.unique(np.append(df_gephi['Source'].values, df_gephi['Target'].values))"
   ]
  },
  {
   "cell_type": "code",
   "execution_count": 12,
   "metadata": {},
   "outputs": [],
   "source": [
    "# 질문자->답변자 로 edgelist 생성\n",
    "edgelist = list(zip(df_gephi['Source'], df_gephi['Target']))"
   ]
  },
  {
   "cell_type": "code",
   "execution_count": 13,
   "metadata": {},
   "outputs": [],
   "source": [
    "df_gephi.to_csv('../../data/gephi.csv', index=False)"
   ]
  },
  {
   "cell_type": "code",
   "execution_count": 14,
   "metadata": {},
   "outputs": [
    {
     "name": "stdout",
     "output_type": "stream",
     "text": [
      "214\n",
      "23031022\n"
     ]
    }
   ],
   "source": [
    "print(df['q_owneruserid'].min())\n",
    "print(df['q_owneruserid'].max())"
   ]
  },
  {
   "cell_type": "code",
   "execution_count": 15,
   "metadata": {},
   "outputs": [],
   "source": [
    "df_question = df_gephi['Source'].value_counts().reset_index()\n",
    "df_answer = df_gephi['Target'].value_counts().reset_index()"
   ]
  },
  {
   "cell_type": "code",
   "execution_count": 16,
   "metadata": {
    "tags": []
   },
   "outputs": [
    {
     "data": {
      "text/html": [
       "<div>\n",
       "<style scoped>\n",
       "    .dataframe tbody tr th:only-of-type {\n",
       "        vertical-align: middle;\n",
       "    }\n",
       "\n",
       "    .dataframe tbody tr th {\n",
       "        vertical-align: top;\n",
       "    }\n",
       "\n",
       "    .dataframe thead th {\n",
       "        text-align: right;\n",
       "    }\n",
       "</style>\n",
       "<table border=\"1\" class=\"dataframe\">\n",
       "  <thead>\n",
       "    <tr style=\"text-align: right;\">\n",
       "      <th></th>\n",
       "      <th>Source</th>\n",
       "      <th>Target</th>\n",
       "    </tr>\n",
       "  </thead>\n",
       "  <tbody>\n",
       "    <tr>\n",
       "      <th>0</th>\n",
       "      <td>724835</td>\n",
       "      <td>724835</td>\n",
       "    </tr>\n",
       "    <tr>\n",
       "      <th>1</th>\n",
       "      <td>22773792</td>\n",
       "      <td>12689021</td>\n",
       "    </tr>\n",
       "    <tr>\n",
       "      <th>2</th>\n",
       "      <td>16497016</td>\n",
       "      <td>1180351</td>\n",
       "    </tr>\n",
       "    <tr>\n",
       "      <th>3</th>\n",
       "      <td>20500971</td>\n",
       "      <td>6633045</td>\n",
       "    </tr>\n",
       "    <tr>\n",
       "      <th>4</th>\n",
       "      <td>8196323</td>\n",
       "      <td>12689021</td>\n",
       "    </tr>\n",
       "    <tr>\n",
       "      <th>...</th>\n",
       "      <td>...</td>\n",
       "      <td>...</td>\n",
       "    </tr>\n",
       "    <tr>\n",
       "      <th>12423</th>\n",
       "      <td>5076855</td>\n",
       "      <td>5076855</td>\n",
       "    </tr>\n",
       "    <tr>\n",
       "      <th>12424</th>\n",
       "      <td>18382139</td>\n",
       "      <td>256970</td>\n",
       "    </tr>\n",
       "    <tr>\n",
       "      <th>12425</th>\n",
       "      <td>22020741</td>\n",
       "      <td>1028537</td>\n",
       "    </tr>\n",
       "    <tr>\n",
       "      <th>12426</th>\n",
       "      <td>13247077</td>\n",
       "      <td>20182110</td>\n",
       "    </tr>\n",
       "    <tr>\n",
       "      <th>12427</th>\n",
       "      <td>13081617</td>\n",
       "      <td>5509227</td>\n",
       "    </tr>\n",
       "  </tbody>\n",
       "</table>\n",
       "<p>12428 rows × 2 columns</p>\n",
       "</div>"
      ],
      "text/plain": [
       "         Source    Target\n",
       "0        724835    724835\n",
       "1      22773792  12689021\n",
       "2      16497016   1180351\n",
       "3      20500971   6633045\n",
       "4       8196323  12689021\n",
       "...         ...       ...\n",
       "12423   5076855   5076855\n",
       "12424  18382139    256970\n",
       "12425  22020741   1028537\n",
       "12426  13247077  20182110\n",
       "12427  13081617   5509227\n",
       "\n",
       "[12428 rows x 2 columns]"
      ]
     },
     "execution_count": 16,
     "metadata": {},
     "output_type": "execute_result"
    }
   ],
   "source": [
    "df_gephi"
   ]
  },
  {
   "cell_type": "code",
   "execution_count": 17,
   "metadata": {},
   "outputs": [],
   "source": [
    "df_answer = df_answer.rename(columns = {'Target': 'user_id', 'count':'answer_cnt'})\n",
    "df_question = df_question.rename(columns = {'Source': 'user_id', 'count':'question_cnt'})"
   ]
  },
  {
   "cell_type": "code",
   "execution_count": 18,
   "metadata": {},
   "outputs": [],
   "source": [
    "df_qna = pd.merge(df_question, df_answer, on = 'user_id', how='outer')"
   ]
  },
  {
   "cell_type": "code",
   "execution_count": 19,
   "metadata": {},
   "outputs": [],
   "source": [
    "df_qna.fillna(0, inplace=True)"
   ]
  },
  {
   "cell_type": "code",
   "execution_count": 20,
   "metadata": {},
   "outputs": [
    {
     "data": {
      "text/html": [
       "<div>\n",
       "<style scoped>\n",
       "    .dataframe tbody tr th:only-of-type {\n",
       "        vertical-align: middle;\n",
       "    }\n",
       "\n",
       "    .dataframe tbody tr th {\n",
       "        vertical-align: top;\n",
       "    }\n",
       "\n",
       "    .dataframe thead th {\n",
       "        text-align: right;\n",
       "    }\n",
       "</style>\n",
       "<table border=\"1\" class=\"dataframe\">\n",
       "  <thead>\n",
       "    <tr style=\"text-align: right;\">\n",
       "      <th></th>\n",
       "      <th>user_id</th>\n",
       "      <th>question_cnt</th>\n",
       "      <th>answer_cnt</th>\n",
       "    </tr>\n",
       "  </thead>\n",
       "  <tbody>\n",
       "    <tr>\n",
       "      <th>0</th>\n",
       "      <td>214</td>\n",
       "      <td>1.0</td>\n",
       "      <td>0.0</td>\n",
       "    </tr>\n",
       "    <tr>\n",
       "      <th>1</th>\n",
       "      <td>1238</td>\n",
       "      <td>1.0</td>\n",
       "      <td>0.0</td>\n",
       "    </tr>\n",
       "    <tr>\n",
       "      <th>2</th>\n",
       "      <td>1968</td>\n",
       "      <td>0.0</td>\n",
       "      <td>1.0</td>\n",
       "    </tr>\n",
       "    <tr>\n",
       "      <th>3</th>\n",
       "      <td>2648</td>\n",
       "      <td>4.0</td>\n",
       "      <td>1.0</td>\n",
       "    </tr>\n",
       "    <tr>\n",
       "      <th>4</th>\n",
       "      <td>2732</td>\n",
       "      <td>1.0</td>\n",
       "      <td>0.0</td>\n",
       "    </tr>\n",
       "    <tr>\n",
       "      <th>...</th>\n",
       "      <td>...</td>\n",
       "      <td>...</td>\n",
       "      <td>...</td>\n",
       "    </tr>\n",
       "    <tr>\n",
       "      <th>11387</th>\n",
       "      <td>23027979</td>\n",
       "      <td>1.0</td>\n",
       "      <td>0.0</td>\n",
       "    </tr>\n",
       "    <tr>\n",
       "      <th>11388</th>\n",
       "      <td>23028285</td>\n",
       "      <td>2.0</td>\n",
       "      <td>0.0</td>\n",
       "    </tr>\n",
       "    <tr>\n",
       "      <th>11389</th>\n",
       "      <td>23028978</td>\n",
       "      <td>1.0</td>\n",
       "      <td>0.0</td>\n",
       "    </tr>\n",
       "    <tr>\n",
       "      <th>11390</th>\n",
       "      <td>23029300</td>\n",
       "      <td>1.0</td>\n",
       "      <td>0.0</td>\n",
       "    </tr>\n",
       "    <tr>\n",
       "      <th>11391</th>\n",
       "      <td>23031022</td>\n",
       "      <td>1.0</td>\n",
       "      <td>0.0</td>\n",
       "    </tr>\n",
       "  </tbody>\n",
       "</table>\n",
       "<p>11392 rows × 3 columns</p>\n",
       "</div>"
      ],
      "text/plain": [
       "        user_id  question_cnt  answer_cnt\n",
       "0           214           1.0         0.0\n",
       "1          1238           1.0         0.0\n",
       "2          1968           0.0         1.0\n",
       "3          2648           4.0         1.0\n",
       "4          2732           1.0         0.0\n",
       "...         ...           ...         ...\n",
       "11387  23027979           1.0         0.0\n",
       "11388  23028285           2.0         0.0\n",
       "11389  23028978           1.0         0.0\n",
       "11390  23029300           1.0         0.0\n",
       "11391  23031022           1.0         0.0\n",
       "\n",
       "[11392 rows x 3 columns]"
      ]
     },
     "execution_count": 20,
     "metadata": {},
     "output_type": "execute_result"
    }
   ],
   "source": [
    "df_qna"
   ]
  },
  {
   "cell_type": "code",
   "execution_count": 21,
   "metadata": {},
   "outputs": [],
   "source": [
    "# user별 question/answer count를 가지고 있는 데이터\n",
    "with open('../../data/df_qna.pkl', 'wb') as f:\n",
    "    pickle.dump(df_qna, f)\n"
   ]
  },
  {
   "cell_type": "code",
   "execution_count": 22,
   "metadata": {},
   "outputs": [],
   "source": [
    "# gephi 시각화용 데이터 \n",
    "with open('../../data/df_gephi.pkl', 'wb') as f:\n",
    "    pickle.dump(df_gephi, f)"
   ]
  },
  {
   "cell_type": "code",
   "execution_count": 23,
   "metadata": {},
   "outputs": [],
   "source": [
    "# 전체 데이터셋 \n",
    "with open('../../data/df.pkl', 'wb') as f:\n",
    "    pickle.dump(df, f)"
   ]
  },
  {
   "cell_type": "code",
   "execution_count": 24,
   "metadata": {},
   "outputs": [],
   "source": [
    "# user별 question/answer count를 가지고 있는 데이터\n",
    "with open('../../data/node.pkl', 'wb') as f:\n",
    "    pickle.dump(node, f)\n"
   ]
  },
  {
   "cell_type": "code",
   "execution_count": 25,
   "metadata": {},
   "outputs": [],
   "source": [
    "# user별 question/answer count를 가지고 있는 데이터\n",
    "with open('../../data/edgelist.pkl', 'wb') as f:\n",
    "    pickle.dump(edgelist, f)\n"
   ]
  },
  {
   "cell_type": "code",
   "execution_count": null,
   "metadata": {},
   "outputs": [],
   "source": []
  }
 ],
 "metadata": {
  "kernelspec": {
   "display_name": "Python 3 (ipykernel)",
   "language": "python",
   "name": "python3"
  },
  "language_info": {
   "codemirror_mode": {
    "name": "ipython",
    "version": 3
   },
   "file_extension": ".py",
   "mimetype": "text/x-python",
   "name": "python",
   "nbconvert_exporter": "python",
   "pygments_lexer": "ipython3",
   "version": "3.9.6"
  }
 },
 "nbformat": 4,
 "nbformat_minor": 4
}
