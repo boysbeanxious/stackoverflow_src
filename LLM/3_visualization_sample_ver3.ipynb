{
 "cells": [
  {
   "cell_type": "markdown",
   "metadata": {},
   "source": [
    "5/10/15/20/25/30 일 기준 질문을 30개씩 샘플링 X 10번 반복  \n",
    "각 버전 별로 난이도 비율 계산하여 chow test 수행 "
   ]
  },
  {
   "cell_type": "code",
   "execution_count": 1,
   "metadata": {},
   "outputs": [],
   "source": [
    "import sys, os\n",
    "p = os.path.abspath('..')\n",
    "pp = os.path.abspath('../..')\n",
    "sys.path.insert(1, p)\n",
    "sys.path.insert(1, pp)"
   ]
  },
  {
   "cell_type": "code",
   "execution_count": 2,
   "metadata": {},
   "outputs": [],
   "source": [
    "import pandas as pd\n",
    "import re\n",
    "import numpy as np\n",
    "import pickle\n",
    "import matplotlib.pyplot as plt\n",
    "import seaborn as sns\n",
    "import datetime\n",
    "import lib.stats.stats as st\n",
    "import lib.annotation.Result_Prep as rp\n",
    "import config.config as conf\n"
   ]
  },
  {
   "cell_type": "code",
   "execution_count": 3,
   "metadata": {},
   "outputs": [],
   "source": [
    "path = f'./result/'\n",
    "file_list = os.listdir(path)"
   ]
  },
  {
   "cell_type": "code",
   "execution_count": 4,
   "metadata": {},
   "outputs": [],
   "source": [
    "r_p = rp.Result_Prep()"
   ]
  },
  {
   "cell_type": "code",
   "execution_count": 5,
   "metadata": {},
   "outputs": [],
   "source": [
    "ver_list = sorted([y for y in [x for x in file_list if x.isdigit()] if (int(y)>=50000)&(int(y)<11110000)])"
   ]
  },
  {
   "cell_type": "code",
   "execution_count": null,
   "metadata": {},
   "outputs": [],
   "source": [
    "print(ver_list)"
   ]
  },
  {
   "cell_type": "code",
   "execution_count": 7,
   "metadata": {},
   "outputs": [],
   "source": [
    "tot_calc = pd.DataFrame()\n",
    "for listid in ver_list:\n",
    "    df = r_p.make_one_file(listid)\n",
    "    if isinstance(df, pd.core.frame.DataFrame):\n",
    "        df = r_p.pp_df(df, 5)\n",
    "        df = r_p.calc_rate(df)\n",
    "        tot_calc = pd.concat([tot_calc, df], axis = 0)\n",
    "\n",
    "    "
   ]
  },
  {
   "cell_type": "code",
   "execution_count": null,
   "metadata": {},
   "outputs": [],
   "source": [
    "tot_calc"
   ]
  },
  {
   "cell_type": "code",
   "execution_count": 9,
   "metadata": {},
   "outputs": [],
   "source": [
    "df_date = r_p.pp_date(tot_calc)"
   ]
  },
  {
   "cell_type": "code",
   "execution_count": null,
   "metadata": {},
   "outputs": [],
   "source": [
    "df_date.head()"
   ]
  },
  {
   "cell_type": "code",
   "execution_count": null,
   "metadata": {},
   "outputs": [],
   "source": [
    "tot_calc.head()"
   ]
  },
  {
   "cell_type": "code",
   "execution_count": null,
   "metadata": {},
   "outputs": [],
   "source": [
    "tot_calc.info()"
   ]
  },
  {
   "cell_type": "code",
   "execution_count": null,
   "metadata": {},
   "outputs": [],
   "source": [
    "tot_calc[tot_calc['creationdate'] =='2022-05-15']"
   ]
  },
  {
   "cell_type": "code",
   "execution_count": 14,
   "metadata": {},
   "outputs": [],
   "source": [
    "m_chk_cnt_0 = tot_calc[tot_calc['o_result'] =='0']\n",
    "m_chk_cnt_1 = tot_calc[tot_calc['o_result'] =='1']\n",
    "m_chk_cnt_2 = tot_calc[tot_calc['o_result'] =='2']"
   ]
  },
  {
   "cell_type": "code",
   "execution_count": null,
   "metadata": {},
   "outputs": [],
   "source": [
    "m_chk_cnt_0.info()"
   ]
  },
  {
   "cell_type": "code",
   "execution_count": 16,
   "metadata": {},
   "outputs": [],
   "source": [
    "m_chk_cnt_0 = pd.merge(df_date, m_chk_cnt_0[['creationdate', 'rel_days', 'o_result', 'rate']], on = 'creationdate', how='left')\n",
    "m_chk_cnt_1 = pd.merge(df_date, m_chk_cnt_1[['creationdate', 'rel_days', 'o_result', 'rate']], on = 'creationdate', how='left')\n",
    "m_chk_cnt_2 = pd.merge(df_date, m_chk_cnt_2[['creationdate', 'rel_days', 'o_result', 'rate']], on = 'creationdate', how='left')"
   ]
  },
  {
   "cell_type": "code",
   "execution_count": 17,
   "metadata": {},
   "outputs": [],
   "source": [
    "m_chk_cnt_0.loc[m_chk_cnt_0['o_result'].isna(), 'rate'] = 0\n",
    "m_chk_cnt_1.loc[m_chk_cnt_1['o_result'].isna(), 'rate'] = 0\n",
    "m_chk_cnt_2.loc[m_chk_cnt_2['o_result'].isna(), 'rate'] = 0"
   ]
  },
  {
   "cell_type": "code",
   "execution_count": null,
   "metadata": {},
   "outputs": [],
   "source": [
    "m_chk_cnt_2['creationdate'] - datetime.datetime(2022,11,30)"
   ]
  },
  {
   "cell_type": "code",
   "execution_count": 19,
   "metadata": {},
   "outputs": [],
   "source": [
    "m_chk_cnt_0['rel_days'] = np.where(m_chk_cnt_0['rel_days'].isna(), (m_chk_cnt_0['creationdate'] - datetime.datetime(2022,11,30)).dt.days, m_chk_cnt_0['rel_days'])\n",
    "m_chk_cnt_1['rel_days'] = np.where(m_chk_cnt_1['rel_days'].isna(), (m_chk_cnt_1['creationdate'] - datetime.datetime(2022,11,30)).dt.days, m_chk_cnt_1['rel_days'])    \n",
    "m_chk_cnt_2['rel_days'] = np.where(m_chk_cnt_2['rel_days'].isna(), (m_chk_cnt_2['creationdate'] - datetime.datetime(2022,11,30)).dt.days, m_chk_cnt_2['rel_days'])\n",
    "\n"
   ]
  },
  {
   "cell_type": "code",
   "execution_count": 20,
   "metadata": {},
   "outputs": [],
   "source": [
    "m_chk_cnt_0.loc[:, 'o_result'] = '0'\n",
    "m_chk_cnt_1.loc[:, 'o_result'] = '1'\n",
    "m_chk_cnt_2.loc[:, 'o_result'] = '2'"
   ]
  },
  {
   "cell_type": "code",
   "execution_count": null,
   "metadata": {},
   "outputs": [],
   "source": [
    "m_chk_cnt_0.head()\n",
    "# m_chk_cnt_2[m_chk_cnt_2['rel_days'].isna()]"
   ]
  },
  {
   "cell_type": "code",
   "execution_count": 22,
   "metadata": {},
   "outputs": [],
   "source": [
    "# major_xticks = df_date['creationdate'].apply(lambda x : str(pd.Timestamp(x) + pd.offsets.MonthBegin(0)).split(' ')[0]).drop_duplicates().to_list()"
   ]
  },
  {
   "cell_type": "code",
   "execution_count": 23,
   "metadata": {},
   "outputs": [],
   "source": [
    "major_xticks = df_date['creationdate'].to_list()\n",
    "# .apply(lambda x : str(pd.Timestamp(x) + pd.offsets.MonthBegin(0)).split(' ')[0]).drop_duplicates().to_list()"
   ]
  },
  {
   "cell_type": "code",
   "execution_count": null,
   "metadata": {},
   "outputs": [],
   "source": [
    "fig, ax = plt.subplots( figsize = (10, 5), sharey=True, sharex=True)\n",
    "\n",
    "\n",
    "\n",
    "\n",
    "#create scatterplot with regression line\n",
    "sns.regplot(  data=m_chk_cnt_0\n",
    "            , x=\"rel_days\"\n",
    "            , y=\"rate\"\n",
    "            , ci=99\n",
    "            , marker=\"x\"\n",
    "            , color=\".5\"\n",
    "            , scatter_kws={\"color\": \"green\"}\n",
    "            , line_kws={\"color\": \"green\"}\n",
    "            , label = 'Basic Level')\n",
    "\n",
    "sns.regplot(  data=m_chk_cnt_1\n",
    "            , x=\"rel_days\"\n",
    "            , y=\"rate\"\n",
    "            , ci=99\n",
    "            # , marker=\"o\"\n",
    "            , color=\".3\"\n",
    "            , scatter_kws={\"color\": \"orange\"}\n",
    "            , line_kws={\"color\": \"orange\"}\n",
    "            , label = 'Intermediate Level')\n",
    "\n",
    "sns.regplot(  data=m_chk_cnt_2\n",
    "            , x=\"rel_days\"\n",
    "            , y=\"rate\"\n",
    "            , ci=99\n",
    "            # , marker=\"o\"\n",
    "            , color=\".3\"\n",
    "            , scatter_kws={\"color\": \"skyblue\"}\n",
    "            , line_kws={\"color\": \"skyblue\"}\n",
    "            , label = 'Advanced Level')\n",
    "\n",
    "# ax.scatter(m_chk_cnt_0.creationdate, m_chk_cnt_0.rate, # specify data\n",
    "#         color = 'red',\n",
    "#         label = 'Basic',\n",
    "#         marker='*',\n",
    "#         linestyle='--',\n",
    "#         trendline=\"ols\"\n",
    "# ) \n",
    "\n",
    "# ax.scatter(m_chk_cnt_1.creationdate, m_chk_cnt_1.rate, # specify data\n",
    "#         color = 'orange',\n",
    "#         label = 'Intermediate',\n",
    "#         marker='*',\n",
    "#         linestyle='--',\n",
    "#         trendline=\"ols\"\n",
    "# ) \n",
    "\n",
    "\n",
    "# ax.scatter(m_chk_cnt_2.creationdate, m_chk_cnt_2.rate, # specify data\n",
    "#         color = 'green',\n",
    "#         label = 'Advanced',\n",
    "#         marker='*',\n",
    "#         linestyle='--',\n",
    "#         trendline=\"ols\"\n",
    "# ) \n",
    "\n",
    "ax.legend(loc=\"center left\", bbox_to_anchor=[1, 0.5], frameon=False)\n",
    "\n",
    "# ax.axvline(major_xticks[25], # add vertical line\n",
    "#            color = 'blue',\n",
    "#            linestyle = '--',\n",
    "#            linewidth = 1.5)\n",
    "\n",
    "\n",
    "# ax.set_xticks(major_xticks)\n",
    "\n",
    "plt.tight_layout()  \n",
    "plt.xticks(rotation=45)\n",
    "# plt.xscale('log');\n",
    "plt.show();"
   ]
  },
  {
   "cell_type": "code",
   "execution_count": null,
   "metadata": {},
   "outputs": [],
   "source": [
    "m_chk_cnt_0[m_chk_cnt_0['rel_days'] ==1]"
   ]
  },
  {
   "cell_type": "code",
   "execution_count": null,
   "metadata": {},
   "outputs": [],
   "source": [
    "m_chk_cnt_2[m_chk_cnt_2['rel_days'].isna()]"
   ]
  },
  {
   "cell_type": "code",
   "execution_count": 27,
   "metadata": {},
   "outputs": [],
   "source": [
    "st_0 = st.Stats(m_chk_cnt_0['rel_days'].values, m_chk_cnt_0['rate'].values, 2, 0.95)\n",
    "st_1 = st.Stats(m_chk_cnt_1['rel_days'].values, m_chk_cnt_1['rate'].values, 2, 0.95)\n",
    "st_2 = st.Stats(m_chk_cnt_2['rel_days'].values, m_chk_cnt_2['rate'].values, 2, 0.95)"
   ]
  },
  {
   "cell_type": "code",
   "execution_count": 28,
   "metadata": {},
   "outputs": [],
   "source": [
    "F_stat_0, p_value_0 = st_0.chow_test()\n",
    "F_stat_1, p_value_1 = st_1.chow_test()\n",
    "F_stat_2, p_value_2 = st_2.chow_test()"
   ]
  },
  {
   "cell_type": "code",
   "execution_count": null,
   "metadata": {},
   "outputs": [],
   "source": [
    "x_0 = m_chk_cnt_0['rel_days'].values\n",
    "y_0 = m_chk_cnt_0['rate'].values\n",
    "\n",
    "split_idx = np.argmax(np.where(x_0 <= 0))\n",
    "x_0_1= x_0[:split_idx]\n",
    "x_0_2= x_0[split_idx:]\n",
    "# 시각화\n",
    "\n",
    "plt.figure(figsize=(10, 6))\n",
    "plt.scatter(x_0, y_0,  alpha=0.6, color='darkgray')\n",
    "plt.plot(x_0, st_0.y_predict, label=\"Full Model\", linestyle=\"--\", color=\"black\")  \n",
    "\n",
    "\n",
    "plt.plot(x_0_1, st_0.y1_predict, label=\"before chatGPT\", linewidth='2')\n",
    "plt.fill_between(x_0_1, st_0.y1_predict - st_0.y1_conf_interval, st_0.y1_predict + st_0.y1_conf_interval, alpha=0.1)\n",
    "\n",
    "plt.plot(x_0_2, st_0.y2_predict, label=\"after chatGPT\", linewidth='2')\n",
    "plt.fill_between(x_0_2, st_0.y2_predict - st_0.y2_conf_interval, st_0.y2_predict + st_0.y2_conf_interval, alpha=0.1)\n",
    "\n",
    "\n",
    "plt.legend()\n",
    "plt.title(f\"Chow Test : F-Statistic={F_stat_0:.2f}, p-value={p_value_0:.4f}\")\n",
    "plt.xlabel(\"Rel days\")\n",
    "plt.ylabel(\"pct of Basic Level Question\")\n",
    "plt.show()\n"
   ]
  },
  {
   "cell_type": "code",
   "execution_count": null,
   "metadata": {},
   "outputs": [],
   "source": [
    "x_1 = m_chk_cnt_1['rel_days'].values\n",
    "y_1 = m_chk_cnt_1['rate'].values\n",
    "\n",
    "split_idx = np.argmax(np.where(x_1 <= 0))\n",
    "x_1_1 = x_1[:split_idx]\n",
    "x_1_2 = x_1[split_idx:]\n",
    "# 시각화\n",
    "plt.figure(figsize=(10, 6))\n",
    "plt.scatter(x_1, y_1,  alpha=0.6, color='darkgray')\n",
    "plt.plot(x_1, st_1.y_predict, label=\"Full Model\", linestyle=\"--\", color=\"black\")  \n",
    "\n",
    "\n",
    "plt.plot(x_1_1, st_1.y1_predict, label=\"before chatGPT\", linewidth='2')\n",
    "plt.fill_between(x_1_1, st_1.y1_predict - st_1.y1_conf_interval, st_1.y1_predict + st_1.y1_conf_interval, alpha=0.1)\n",
    "\n",
    "plt.plot(x_1_2, st_1.y2_predict, label=\"after chatGPT\", linewidth='2')\n",
    "plt.fill_between(x_1_2, st_1.y2_predict - st_1.y2_conf_interval, st_1.y2_predict + st_1.y2_conf_interval, alpha=0.1)\n",
    "\n",
    "\n",
    "plt.legend()\n",
    "plt.title(f\"Chow Test : F-Statistic={F_stat_1:.2f}, p-value={p_value_1:.4f}\")\n",
    "plt.xlabel(\"Rel days\")\n",
    "plt.ylabel(\"pct of Intermediate Level Question\")\n",
    "plt.show()\n"
   ]
  },
  {
   "cell_type": "code",
   "execution_count": null,
   "metadata": {},
   "outputs": [],
   "source": [
    "x_2 = m_chk_cnt_2['rel_days'].values\n",
    "y_2 = m_chk_cnt_2['rate'].values\n",
    "\n",
    "split_idx = np.argmax(np.where(x_2 <= 0))\n",
    "x_2_1 = x_2[:split_idx]\n",
    "x_2_2 = x_2[split_idx:]\n",
    "# 시각화\n",
    "plt.figure(figsize=(10, 6))\n",
    "plt.scatter(x_2, y_2,  alpha=0.6, color='darkgray')\n",
    "plt.plot(x_2, st_2.y_predict, label=\"Full Model\", linestyle=\"--\", color=\"black\")  \n",
    "\n",
    "\n",
    "plt.plot(x_2_1, st_2.y1_predict, label=\"before chatGPT\", linewidth='2')\n",
    "plt.fill_between(x_2_1, st_2.y1_predict - st_2.y1_conf_interval, st_2.y1_predict + st_2.y1_conf_interval, alpha=0.1)\n",
    "\n",
    "plt.plot(x_2_2, st_2.y2_predict, label=\"after chatGPT\", linewidth='2')\n",
    "plt.fill_between(x_2_2, st_2.y2_predict - st_2.y2_conf_interval, st_2.y2_predict + st_2.y2_conf_interval, alpha=0.1)\n",
    "\n",
    "\n",
    "plt.legend()\n",
    "plt.title(f\"Chow Test : F-Statistic={F_stat_2:.2f}, p-value={p_value_2:.4f}\")\n",
    "plt.xlabel(\"Rel days\")\n",
    "plt.ylabel(\"pct of Advanced Level Question\")\n",
    "plt.show()\n"
   ]
  },
  {
   "cell_type": "code",
   "execution_count": null,
   "metadata": {},
   "outputs": [],
   "source": [
    "### create a figure with multiple subplots\n",
    "sharey = True ## 또는 sharey=False\n",
    "sharex = True ## 또는 sharex=False\n",
    "\n",
    "fig, axs = plt.subplots(1, 3, figsize = (15, 5), sharey=sharey, sharex=sharex)\n",
    "\n",
    "\n",
    "axs[0].scatter(x_0, y_0,  alpha=0.6, color='darkgray')\n",
    "axs[0].plot(x_0, st_0.y_predict, label=\"Full Model\", linestyle=\"--\", color=\"black\")  \n",
    "axs[0].plot(x_0_1, st_0.y1_predict, label=\"before chatGPT\", linewidth='2')\n",
    "axs[0].fill_between(x_0_1, st_0.y1_predict - st_0.y1_conf_interval, st_0.y1_predict + st_0.y1_conf_interval, alpha=0.1)\n",
    "axs[0].plot(x_0_2, st_0.y2_predict, label=\"after chatGPT\", linewidth='2')\n",
    "axs[0].fill_between(x_0_2, st_0.y2_predict - st_0.y2_conf_interval, st_0.y2_predict + st_0.y2_conf_interval, alpha=0.1)\n",
    "axs[0].axvline(x=0,     color='red',    linestyle='-.', linewidth=1)\n",
    "axs[0].set_title(f\"A. Basic Level Question\")\n",
    "axs[0].set_xlabel(\"Rel days\")\n",
    "axs[0].set_ylabel(\"pct\")\n",
    "axs[0].text(140, 88, s=f'F-Statistic : {F_stat_0:.2f}\\np-value : {p_value_0:.4f}', fontsize = 10) #\n",
    "\n",
    "\n",
    "axs[1].scatter(x_1, y_1,  alpha=0.6, color='darkgray')\n",
    "axs[1].plot(x_1, st_1.y_predict, label=\"Full Model\", linestyle=\"--\", color=\"black\")  \n",
    "axs[1].plot(x_1_1, st_1.y1_predict, label=\"before chatGPT\", linewidth='2')\n",
    "axs[1].fill_between(x_1_1, st_1.y1_predict - st_1.y1_conf_interval, st_1.y1_predict + st_1.y1_conf_interval, alpha=0.1)\n",
    "axs[1].plot(x_1_2, st_1.y2_predict, label=\"after chatGPT\", linewidth='2')\n",
    "axs[1].fill_between(x_1_2, st_1.y2_predict - st_1.y2_conf_interval, st_1.y2_predict + st_1.y2_conf_interval, alpha=0.1)\n",
    "axs[1].axvline(x=0,     color='red',    linestyle='-.', linewidth=1)\n",
    "axs[1].set_title(f\"B. Intermediate Level Question\")\n",
    "axs[1].set_xlabel(\"Rel days\")\n",
    "axs[1].set_ylabel(\"pct\")\n",
    "axs[1].grid(False)\n",
    "axs[1].text(140, 88, s=f'F-Statistic : {F_stat_1:.2f}\\np-value : {p_value_1:.4f}', fontsize = 10) #\n",
    "\n",
    "\n",
    "axs[2].scatter(x_2, y_2,  alpha=0.6, color='darkgray')\n",
    "axs[2].plot(x_2, st_2.y_predict, label=\"Full Model\", linestyle=\"--\", color=\"black\")  \n",
    "axs[2].plot(x_2_1, st_2.y1_predict, label=\"before chatGPT\", linewidth='2')\n",
    "axs[2].fill_between(x_2_1, st_2.y1_predict - st_2.y1_conf_interval, st_2.y1_predict + st_2.y1_conf_interval, alpha=0.1)\n",
    "axs[2].plot(x_2_2, st_2.y2_predict, label=\"after chatGPT\", linewidth='2')\n",
    "axs[2].fill_between(x_2_2, st_2.y2_predict - st_2.y2_conf_interval, st_2.y2_predict + st_2.y2_conf_interval, alpha=0.1)\n",
    "axs[2].axvline(x=0,     color='red',    linestyle='-.', linewidth=1)\n",
    "axs[2].set_title(f\"C. Advanced Level Question\")\n",
    "axs[2].set_xlabel(\"Rel days\")\n",
    "axs[2].set_ylabel(\"pct\")\n",
    "axs[2].text(140, 88, s=f'F-Statistic : {F_stat_2:.2f}\\np-value : {p_value_2:.4f}', fontsize = 10) #\n",
    "\n",
    "fig.tight_layout()\n",
    "plt.show();"
   ]
  },
  {
   "cell_type": "code",
   "execution_count": 33,
   "metadata": {},
   "outputs": [],
   "source": [
    "fig.savefig(\"difficulty_level_chow.png\", dpi=300, bbox_inches='tight')  # DPI 설정 및 여백 최소화"
   ]
  },
  {
   "cell_type": "code",
   "execution_count": 36,
   "metadata": {},
   "outputs": [],
   "source": [
    "with open(f'{conf.DATA_PATH}/data/m_chk_cnt_0.pkl', 'wb') as f:\n",
    "    pickle.dump(m_chk_cnt_0, f)\n",
    "\n",
    "\n",
    "with open(f'{conf.DATA_PATH}/data/m_chk_cnt_1.pkl', 'wb') as f:\n",
    "    pickle.dump(m_chk_cnt_1, f)\n",
    "\n",
    "\n",
    "with open(f'{conf.DATA_PATH}/data/m_chk_cnt_2.pkl', 'wb') as f:\n",
    "    pickle.dump(m_chk_cnt_2, f)"
   ]
  },
  {
   "cell_type": "code",
   "execution_count": null,
   "metadata": {},
   "outputs": [],
   "source": []
  }
 ],
 "metadata": {
  "kernelspec": {
   "display_name": "venv_stackoverflow_src",
   "language": "python",
   "name": "python3"
  },
  "language_info": {
   "codemirror_mode": {
    "name": "ipython",
    "version": 3
   },
   "file_extension": ".py",
   "mimetype": "text/x-python",
   "name": "python",
   "nbconvert_exporter": "python",
   "pygments_lexer": "ipython3",
   "version": "3.10.12"
  }
 },
 "nbformat": 4,
 "nbformat_minor": 2
}
