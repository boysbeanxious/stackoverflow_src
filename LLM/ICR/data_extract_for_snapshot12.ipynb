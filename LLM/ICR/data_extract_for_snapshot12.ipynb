{
 "cells": [
  {
   "cell_type": "markdown",
   "metadata": {},
   "source": [
    "![Image](./snapshot_strategy.png)"
   ]
  },
  {
   "cell_type": "code",
   "execution_count": 1,
   "metadata": {},
   "outputs": [],
   "source": [
    "import sys, os\n",
    "p = os.path.abspath('..')\n",
    "pp = os.path.abspath('../..')\n",
    "# p = p+r'\\config'\n",
    "sys.path.insert(1, p)\n",
    "sys.path.insert(1, pp)"
   ]
  },
  {
   "cell_type": "code",
   "execution_count": 17,
   "metadata": {},
   "outputs": [],
   "source": [
    "import psycopg2\n",
    "import pandas as pd\n",
    "import numpy as np\n",
    "import config.config as conf\n",
    "import pickle\n",
    "import lib.preprocess.preprocess as pp\n",
    "import lib.preprocess.SectionExtractor as se\n",
    "import re\n",
    "import datetime"
   ]
  },
  {
   "cell_type": "code",
   "execution_count": 3,
   "metadata": {},
   "outputs": [],
   "source": [
    "htmlp = pp.HTMLParser()\n",
    "codep = pp.CodeSectionParser()\n",
    "ts = se.SectionExtractor()"
   ]
  },
  {
   "cell_type": "code",
   "execution_count": 8,
   "metadata": {},
   "outputs": [],
   "source": [
    "q_sql_2223 = \"\"\"select a.id \n",
    "                , a.creationdate\n",
    "                , a.title\n",
    "                , b.body\n",
    "            from posts a \n",
    "               , postsbody b\n",
    "            where a.id = b.id\n",
    "              and a.creationdate between '2021-11-30' and '2023-12-01' \n",
    "              and a.posttypeid = '1'\n",
    "              and a.tags like '%<python>%' \n",
    "              and not exists(select 1 \n",
    "                                    from tt_posts_difficulty_annotated x \n",
    "                                where a.id = x.id)\n",
    "              and not exists(select 1 \n",
    "                                    from tt_posts_difficulty_done xx \n",
    "                                where a.id = xx.id)\n",
    "\"\"\""
   ]
  },
  {
   "cell_type": "code",
   "execution_count": 35,
   "metadata": {},
   "outputs": [],
   "source": [
    "q_sql_2324 = \"\"\"select a.id \n",
    "                , a.creationdate\n",
    "                , a.title\n",
    "                , b.body\n",
    "            from public_for_2324.posts a \n",
    "               , public_for_2324.postsbody b\n",
    "            where a.id = b.id\n",
    "              and a.creationdate between '2021-11-30' and '2024-12-01' \n",
    "              and a.posttypeid = '1'\n",
    "              and a.tags like '%<python>%' \n",
    "              and not exists(select 1 \n",
    "                                    from tt_posts_difficulty_annotated x \n",
    "                                where a.id = x.id)\n",
    "              and not exists(select 1 \n",
    "                                    from tt_posts_difficulty_done xx \n",
    "                                where a.id = xx.id)\n",
    "\"\"\""
   ]
  },
  {
   "cell_type": "code",
   "execution_count": 36,
   "metadata": {},
   "outputs": [],
   "source": [
    "conn = psycopg2.connect(host = conf.database_user['host'], dbname=conf.database_user['dbname'], user=conf.database_user['user'], password=conf.database_user['password'])\n",
    "try:\n",
    "    cur = conn.cursor()\n",
    "    cur.execute(q_sql_2223)\n",
    "    rows = cur.fetchall()\n",
    "    \n",
    "\n",
    "except psycopg2.DatabaseError as db_err:\n",
    "    print(db_err)\n",
    "finally : \n",
    "  cur.close()"
   ]
  },
  {
   "cell_type": "code",
   "execution_count": 37,
   "metadata": {},
   "outputs": [],
   "source": [
    "q_output_for_2223 = pd.DataFrame(rows, columns = [\n",
    "  'id'\n",
    "  ,'creationdate'\n",
    "  ,'title'\n",
    "  , 'body'\n",
    "])\n"
   ]
  },
  {
   "cell_type": "code",
   "execution_count": 38,
   "metadata": {},
   "outputs": [],
   "source": [
    "q_output_for_2223['22_yn'] = np.where(pd.to_datetime(q_output_for_2223['creationdate']).dt.date < datetime.date(2022, 11, 30), 1, 0)\n",
    "\n",
    "q_output_for_2223_22 = q_output_for_2223.loc[q_output_for_2223['22_yn'] == 1, :]\n",
    "q_output_for_2223_23 = q_output_for_2223.loc[q_output_for_2223['22_yn'] == 0, :]\n",
    "# first_ann_q_id = np.random.choice(list(q_output['id']), size=30, replace=False)"
   ]
  },
  {
   "cell_type": "code",
   "execution_count": 39,
   "metadata": {},
   "outputs": [],
   "source": [
    "qid_for_2223_22 = np.random.choice(list(q_output_for_2223_22['id']), size=54, replace=False)\n",
    "qid_for_2223_23 = np.random.choice(list(q_output_for_2223_23['id']), size=54, replace=False)"
   ]
  },
  {
   "cell_type": "code",
   "execution_count": 40,
   "metadata": {},
   "outputs": [],
   "source": [
    "conn = psycopg2.connect(host = conf.database_user['host'], dbname=conf.database_user['dbname'], user=conf.database_user['user'], password=conf.database_user['password'])\n",
    "try:\n",
    "    cur = conn.cursor()\n",
    "    cur.execute(q_sql_2324)\n",
    "    rows = cur.fetchall()\n",
    "    \n",
    "\n",
    "except psycopg2.DatabaseError as db_err:\n",
    "    print(db_err)\n",
    "finally : \n",
    "  cur.close()"
   ]
  },
  {
   "cell_type": "code",
   "execution_count": 41,
   "metadata": {},
   "outputs": [],
   "source": [
    "q_output_for_2324 = pd.DataFrame(rows, columns = [\n",
    "  'id'\n",
    "  ,'creationdate'\n",
    "  ,'title'\n",
    "  , 'body'\n",
    "])\n"
   ]
  },
  {
   "cell_type": "code",
   "execution_count": 42,
   "metadata": {},
   "outputs": [
    {
     "name": "stdout",
     "output_type": "stream",
     "text": [
      "2021-12-18 13:28:11.557000\n",
      "2022-11-29 23:59:43.813000\n",
      "2022-11-30 00:03:46.690000\n",
      "2023-11-29 23:58:01.407000\n",
      "2023-11-30 00:31:27.690000\n",
      "2024-11-30 23:59:32.580000\n"
     ]
    }
   ],
   "source": [
    "q_output_for_2324['22_yn'] = np.where(pd.to_datetime(q_output_for_2324['creationdate']).dt.date < datetime.date(2022, 11, 30), 1, 0)\n",
    "q_output_for_2324['23_yn'] = np.where((pd.to_datetime(q_output_for_2324['creationdate']).dt.date < datetime.date(2023, 11, 30)) & (q_output_for_2324['22_yn'] ==0), 1, 0)\n",
    "q_output_for_2324['24_yn'] = np.where(pd.to_datetime(q_output_for_2324['creationdate']).dt.date >= datetime.date(2023, 11, 30), 1, 0)\n",
    "\n",
    "print(q_output_for_2324.loc[q_output_for_2324['22_yn'] ==1, 'creationdate'].min())\n",
    "print(q_output_for_2324.loc[q_output_for_2324['22_yn'] ==1, 'creationdate'].max())\n",
    "\n",
    "print(q_output_for_2324.loc[q_output_for_2324['23_yn'] ==1, 'creationdate'].min())\n",
    "print(q_output_for_2324.loc[q_output_for_2324['23_yn'] ==1, 'creationdate'].max())\n",
    "\n",
    "print(q_output_for_2324.loc[q_output_for_2324['24_yn'] ==1, 'creationdate'].min())\n",
    "print(q_output_for_2324.loc[q_output_for_2324['24_yn'] ==1, 'creationdate'].max())\n",
    "\n",
    "# q_output_for_2223_22 = q_output_for_2223.loc[q_output_for_2223['22_yn'] == 1, :]\n",
    "# q_output_for_2223_23 = q_output_for_2223.loc[q_output_for_2223['22_yn'] == 0, :]\n",
    "# first_ann_q_id = np.random.choice(list(q_output['id']), size=30, replace=False)"
   ]
  },
  {
   "cell_type": "code",
   "execution_count": 27,
   "metadata": {},
   "outputs": [],
   "source": [
    "q_output_copy = q_output[q_output['id'].isin(first_ann_q_id)].copy()"
   ]
  },
  {
   "cell_type": "code",
   "execution_count": 28,
   "metadata": {},
   "outputs": [],
   "source": [
    "def chg_tag(code):\n",
    "    st_pattern = r'<pre(?: class=\"[^\"]*\")?><code>'\n",
    "    st_dst = \"```python\\n\"\n",
    "    code = re.sub(st_pattern, st_dst, code, count=0, flags=0)\n",
    "    \n",
    "    end_dst = \"```\"\n",
    "    end_pattern =r'</code></pre>'\n",
    "    code = re.sub(end_pattern, end_dst, code, count=0, flags=0)\n",
    "    return code\n",
    "                                                "
   ]
  },
  {
   "cell_type": "code",
   "execution_count": 29,
   "metadata": {},
   "outputs": [],
   "source": [
    "q_output_copy['t_body'] = q_output_copy['body'].apply(chg_tag)"
   ]
  },
  {
   "cell_type": "code",
   "execution_count": 30,
   "metadata": {},
   "outputs": [],
   "source": [
    "q_output_copy['clean_body'] = q_output_copy['t_body'].apply(lambda x : htmlp.get_html_cleaned_str(x))"
   ]
  },
  {
   "cell_type": "code",
   "execution_count": 31,
   "metadata": {},
   "outputs": [],
   "source": [
    "q_output_copy['clean_body'] = q_output_copy['clean_body'].apply(lambda x:  re.sub(r\";(?=\\S)\", \"\", x))\n",
    "# .str.replace('\";', \"\")"
   ]
  },
  {
   "cell_type": "code",
   "execution_count": 32,
   "metadata": {},
   "outputs": [],
   "source": [
    "q_output_copy['question'] = \"\"\"<Title>\"\"\"+q_output_copy['title'].map(str)+\"\"\"</Title>. <Question>\"\"\"+q_output_copy['clean_body'].map(str)+\"\"\"</Question> Let's think through the difficulty of question carefully, step by step. \"\"\"\n"
   ]
  },
  {
   "cell_type": "code",
   "execution_count": 33,
   "metadata": {},
   "outputs": [
    {
     "data": {
      "text/html": [
       "<div>\n",
       "<style scoped>\n",
       "    .dataframe tbody tr th:only-of-type {\n",
       "        vertical-align: middle;\n",
       "    }\n",
       "\n",
       "    .dataframe tbody tr th {\n",
       "        vertical-align: top;\n",
       "    }\n",
       "\n",
       "    .dataframe thead th {\n",
       "        text-align: right;\n",
       "    }\n",
       "</style>\n",
       "<table border=\"1\" class=\"dataframe\">\n",
       "  <thead>\n",
       "    <tr style=\"text-align: right;\">\n",
       "      <th></th>\n",
       "      <th>id</th>\n",
       "      <th>title</th>\n",
       "      <th>body</th>\n",
       "      <th>t_body</th>\n",
       "      <th>clean_body</th>\n",
       "      <th>question</th>\n",
       "    </tr>\n",
       "  </thead>\n",
       "  <tbody>\n",
       "    <tr>\n",
       "      <th>7173</th>\n",
       "      <td>77381677</td>\n",
       "      <td>Why does plotly.Mesh3d refuse to plot a 3D fun...</td>\n",
       "      <td>&lt;p&gt;I am attempting to plot the analytical t=0 ...</td>\n",
       "      <td>&lt;p&gt;I am attempting to plot the analytical t=0 ...</td>\n",
       "      <td>I am attempting to plot the analytical t=0 sol...</td>\n",
       "      <td>&lt;Title&gt;Why does plotly.Mesh3d refuse to plot a...</td>\n",
       "    </tr>\n",
       "    <tr>\n",
       "      <th>15036</th>\n",
       "      <td>77542349</td>\n",
       "      <td>How i can get correct result through f-strings</td>\n",
       "      <td>&lt;pre&gt;&lt;code&gt;print(f&amp;quot;{ {x ** 2 if (x**2) &amp;l...</td>\n",
       "      <td>```python\\nprint(f&amp;quot;{ {x ** 2 if (x**2) &amp;l...</td>\n",
       "      <td>```python\\nprint(f\"{ {x ** 2 if (x**2) &lt;= 10 e...</td>\n",
       "      <td>&lt;Title&gt;How i can get correct result through f-...</td>\n",
       "    </tr>\n",
       "    <tr>\n",
       "      <th>57314</th>\n",
       "      <td>76053816</td>\n",
       "      <td>create a new column named as group_ID in panda...</td>\n",
       "      <td>&lt;p&gt;create a new column named as &lt;code&gt;group_ID...</td>\n",
       "      <td>&lt;p&gt;create a new column named as &lt;code&gt;group_ID...</td>\n",
       "      <td>create a new column named as group_ID in panda...</td>\n",
       "      <td>&lt;Title&gt;create a new column named as group_ID i...</td>\n",
       "    </tr>\n",
       "    <tr>\n",
       "      <th>58394</th>\n",
       "      <td>76030780</td>\n",
       "      <td>Code producing incorrect numbers in Heat Excha...</td>\n",
       "      <td>&lt;p&gt;I am coding a heat exchange simulation. The...</td>\n",
       "      <td>&lt;p&gt;I am coding a heat exchange simulation. The...</td>\n",
       "      <td>I am coding a heat exchange simulation. The va...</td>\n",
       "      <td>&lt;Title&gt;Code producing incorrect numbers in Hea...</td>\n",
       "    </tr>\n",
       "    <tr>\n",
       "      <th>61611</th>\n",
       "      <td>76080898</td>\n",
       "      <td>Is there a way to convert an array in a string...</td>\n",
       "      <td>&lt;p&gt;I tried converting an array that is in a st...</td>\n",
       "      <td>&lt;p&gt;I tried converting an array that is in a st...</td>\n",
       "      <td>I tried converting an array that is in a strin...</td>\n",
       "      <td>&lt;Title&gt;Is there a way to convert an array in a...</td>\n",
       "    </tr>\n",
       "  </tbody>\n",
       "</table>\n",
       "</div>"
      ],
      "text/plain": [
       "             id                                              title  \\\n",
       "7173   77381677  Why does plotly.Mesh3d refuse to plot a 3D fun...   \n",
       "15036  77542349     How i can get correct result through f-strings   \n",
       "57314  76053816  create a new column named as group_ID in panda...   \n",
       "58394  76030780  Code producing incorrect numbers in Heat Excha...   \n",
       "61611  76080898  Is there a way to convert an array in a string...   \n",
       "\n",
       "                                                    body  \\\n",
       "7173   <p>I am attempting to plot the analytical t=0 ...   \n",
       "15036  <pre><code>print(f&quot;{ {x ** 2 if (x**2) &l...   \n",
       "57314  <p>create a new column named as <code>group_ID...   \n",
       "58394  <p>I am coding a heat exchange simulation. The...   \n",
       "61611  <p>I tried converting an array that is in a st...   \n",
       "\n",
       "                                                  t_body  \\\n",
       "7173   <p>I am attempting to plot the analytical t=0 ...   \n",
       "15036  ```python\\nprint(f&quot;{ {x ** 2 if (x**2) &l...   \n",
       "57314  <p>create a new column named as <code>group_ID...   \n",
       "58394  <p>I am coding a heat exchange simulation. The...   \n",
       "61611  <p>I tried converting an array that is in a st...   \n",
       "\n",
       "                                              clean_body  \\\n",
       "7173   I am attempting to plot the analytical t=0 sol...   \n",
       "15036  ```python\\nprint(f\"{ {x ** 2 if (x**2) <= 10 e...   \n",
       "57314  create a new column named as group_ID in panda...   \n",
       "58394  I am coding a heat exchange simulation. The va...   \n",
       "61611  I tried converting an array that is in a strin...   \n",
       "\n",
       "                                                question  \n",
       "7173   <Title>Why does plotly.Mesh3d refuse to plot a...  \n",
       "15036  <Title>How i can get correct result through f-...  \n",
       "57314  <Title>create a new column named as group_ID i...  \n",
       "58394  <Title>Code producing incorrect numbers in Hea...  \n",
       "61611  <Title>Is there a way to convert an array in a...  "
      ]
     },
     "execution_count": 33,
     "metadata": {},
     "output_type": "execute_result"
    }
   ],
   "source": [
    "q_output_copy.head()"
   ]
  },
  {
   "cell_type": "code",
   "execution_count": 35,
   "metadata": {},
   "outputs": [],
   "source": [
    "q_output_copy[['id', 'question']].to_csv('./ICR_250408.csv')"
   ]
  },
  {
   "cell_type": "code",
   "execution_count": null,
   "metadata": {},
   "outputs": [],
   "source": []
  }
 ],
 "metadata": {
  "kernelspec": {
   "display_name": "venv_stackoverflow_src",
   "language": "python",
   "name": "python3"
  },
  "language_info": {
   "codemirror_mode": {
    "name": "ipython",
    "version": 3
   },
   "file_extension": ".py",
   "mimetype": "text/x-python",
   "name": "python",
   "nbconvert_exporter": "python",
   "pygments_lexer": "ipython3",
   "version": "3.10.12"
  }
 },
 "nbformat": 4,
 "nbformat_minor": 2
}
