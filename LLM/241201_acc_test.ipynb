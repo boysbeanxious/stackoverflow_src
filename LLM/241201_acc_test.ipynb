{
 "cells": [
  {
   "cell_type": "code",
   "execution_count": 5,
   "metadata": {},
   "outputs": [],
   "source": [
    "import sys, os\n",
    "p = os.path.abspath('..')\n",
    "# p = p+r'\\config'\n",
    "sys.path.insert(1, p)"
   ]
  },
  {
   "cell_type": "code",
   "execution_count": 6,
   "metadata": {},
   "outputs": [],
   "source": [
    "import lib.annotation.D_Annotation as da\n",
    "import tqdm\n",
    "import lib.annotation.Self_Consistency as sc\n",
    "import tqdm\n",
    "\n"
   ]
  },
  {
   "cell_type": "code",
   "execution_count": 7,
   "metadata": {},
   "outputs": [],
   "source": [
    "# from multiprocessing import Process\n",
    "    \n",
    "# def task(llm_model, few_shot_n, test_n, q_src_yn, ver, p_ver, sc_num, temperature):\n",
    "\n",
    "#     print(f\"Task {llm_model}_{few_shot_n}_{test_n}_{q_src_yn}_{p_ver}_{sc_num}_{temperature} 시작\")\n",
    "#     for i in range(ver):\n",
    "#         print(f\"Task {llm_model}_{few_shot_n}_{test_n}_{q_src_yn}_{p_ver}_{sc_num}_{temperature} 실행 중: {i}\")\n",
    "#         sc.Self_Consistency(  llm_model\n",
    "#                         , few_shot_n\n",
    "#                         , test_n\n",
    "#                         , q_src_yn\n",
    "#                         , i\n",
    "#                         , p_ver\n",
    "#                         , sc_num\n",
    "#                         , temperature\n",
    "#                         )  \n",
    "    \n",
    "#     print(f\"Task {llm_model}_{few_shot_n}_{test_n}_{q_src_yn}_{p_ver}_{sc_num} 완료\")\n",
    "\n",
    "# if __name__ == \"__main__\":\n",
    "#     # process1 = Process(target=task, args=('l', 1, 10, 'Y', 10, 'sys_prompt7', 5))\n",
    "#     # process2 = Process(target=task, args=('l', 1, 10, 'N', 10, 'sys_prompt7', 5))\n",
    "\n",
    "#     process3 = Process(target=task, args=('l', 2, 10, 'Y', 5, 'sys_prompt4', 5, 0.2))\n",
    "#     # process4 = Process(target=task, args=('l', 2, 10, 'N', 10, 'sys_prompt7', 5))\n",
    "\n",
    "#     # process5 = Process(target=task, args=('l', 3, 10, 'Y', 10, 'sys_prompt7', 5))\n",
    "#     # process6 = Process(target=task, args=('l', 3, 10, 'N', 10, 'sys_prompt7', 5))\n",
    "    \n",
    "#     # process1.start()\n",
    "#     # process2.start()\n",
    "#     process3.start()\n",
    "#     # process4.start()\n",
    "#     # process5.start()\n",
    "#     # process6.start()\n",
    "    \n",
    "#     # process1.join()\n",
    "#     # process2.join()\n",
    "#     process3.join()\n",
    "#     # process4.join()\n",
    "#     # process5.join()\n",
    "#     # process6.join()\n",
    "#     print(\"모든 작업 완료\")\n"
   ]
  },
  {
   "cell_type": "code",
   "execution_count": null,
   "metadata": {},
   "outputs": [
    {
     "name": "stdout",
     "output_type": "stream",
     "text": [
      "Task l_2_10_Y_sys_prompt4_5_0.2 시작\n",
      "Task l_2_10_Y_sys_prompt4_5_0.2 실행 중: 0\n"
     ]
    },
    {
     "name": "stderr",
     "output_type": "stream",
     "text": [
      "0it [00:00, ?it/s]"
     ]
    },
    {
     "ename": "KeyboardInterrupt",
     "evalue": "",
     "output_type": "error",
     "traceback": [
      "\u001b[0;31m---------------------------------------------------------------------------\u001b[0m",
      "\u001b[0;31mKeyboardInterrupt\u001b[0m                         Traceback (most recent call last)",
      "Cell \u001b[0;32mIn[8], line 39\u001b[0m\n\u001b[1;32m     32\u001b[0m process3\u001b[38;5;241m.\u001b[39mstart()\n\u001b[1;32m     33\u001b[0m \u001b[38;5;66;03m# process4.start()\u001b[39;00m\n\u001b[1;32m     34\u001b[0m \u001b[38;5;66;03m# process5.start()\u001b[39;00m\n\u001b[1;32m     35\u001b[0m \u001b[38;5;66;03m# process6.start()\u001b[39;00m\n\u001b[1;32m     36\u001b[0m \n\u001b[1;32m     37\u001b[0m \u001b[38;5;66;03m# process1.join()\u001b[39;00m\n\u001b[1;32m     38\u001b[0m \u001b[38;5;66;03m# process2.join()\u001b[39;00m\n\u001b[0;32m---> 39\u001b[0m \u001b[43mprocess3\u001b[49m\u001b[38;5;241;43m.\u001b[39;49m\u001b[43mjoin\u001b[49m\u001b[43m(\u001b[49m\u001b[43m)\u001b[49m\n\u001b[1;32m     40\u001b[0m \u001b[38;5;66;03m# process4.join()\u001b[39;00m\n\u001b[1;32m     41\u001b[0m \u001b[38;5;66;03m# process5.join()\u001b[39;00m\n\u001b[1;32m     42\u001b[0m \u001b[38;5;66;03m# process6.join()\u001b[39;00m\n\u001b[1;32m     43\u001b[0m \u001b[38;5;28mprint\u001b[39m(\u001b[38;5;124m\"\u001b[39m\u001b[38;5;124m모든 작업 완료\u001b[39m\u001b[38;5;124m\"\u001b[39m)\n",
      "File \u001b[0;32m/usr/lib/python3.10/multiprocessing/process.py:149\u001b[0m, in \u001b[0;36mBaseProcess.join\u001b[0;34m(self, timeout)\u001b[0m\n\u001b[1;32m    147\u001b[0m \u001b[38;5;28;01massert\u001b[39;00m \u001b[38;5;28mself\u001b[39m\u001b[38;5;241m.\u001b[39m_parent_pid \u001b[38;5;241m==\u001b[39m os\u001b[38;5;241m.\u001b[39mgetpid(), \u001b[38;5;124m'\u001b[39m\u001b[38;5;124mcan only join a child process\u001b[39m\u001b[38;5;124m'\u001b[39m\n\u001b[1;32m    148\u001b[0m \u001b[38;5;28;01massert\u001b[39;00m \u001b[38;5;28mself\u001b[39m\u001b[38;5;241m.\u001b[39m_popen \u001b[38;5;129;01mis\u001b[39;00m \u001b[38;5;129;01mnot\u001b[39;00m \u001b[38;5;28;01mNone\u001b[39;00m, \u001b[38;5;124m'\u001b[39m\u001b[38;5;124mcan only join a started process\u001b[39m\u001b[38;5;124m'\u001b[39m\n\u001b[0;32m--> 149\u001b[0m res \u001b[38;5;241m=\u001b[39m \u001b[38;5;28;43mself\u001b[39;49m\u001b[38;5;241;43m.\u001b[39;49m\u001b[43m_popen\u001b[49m\u001b[38;5;241;43m.\u001b[39;49m\u001b[43mwait\u001b[49m\u001b[43m(\u001b[49m\u001b[43mtimeout\u001b[49m\u001b[43m)\u001b[49m\n\u001b[1;32m    150\u001b[0m \u001b[38;5;28;01mif\u001b[39;00m res \u001b[38;5;129;01mis\u001b[39;00m \u001b[38;5;129;01mnot\u001b[39;00m \u001b[38;5;28;01mNone\u001b[39;00m:\n\u001b[1;32m    151\u001b[0m     _children\u001b[38;5;241m.\u001b[39mdiscard(\u001b[38;5;28mself\u001b[39m)\n",
      "File \u001b[0;32m/usr/lib/python3.10/multiprocessing/popen_fork.py:43\u001b[0m, in \u001b[0;36mPopen.wait\u001b[0;34m(self, timeout)\u001b[0m\n\u001b[1;32m     41\u001b[0m             \u001b[38;5;28;01mreturn\u001b[39;00m \u001b[38;5;28;01mNone\u001b[39;00m\n\u001b[1;32m     42\u001b[0m     \u001b[38;5;66;03m# This shouldn't block if wait() returned successfully.\u001b[39;00m\n\u001b[0;32m---> 43\u001b[0m     \u001b[38;5;28;01mreturn\u001b[39;00m \u001b[38;5;28;43mself\u001b[39;49m\u001b[38;5;241;43m.\u001b[39;49m\u001b[43mpoll\u001b[49m\u001b[43m(\u001b[49m\u001b[43mos\u001b[49m\u001b[38;5;241;43m.\u001b[39;49m\u001b[43mWNOHANG\u001b[49m\u001b[43m \u001b[49m\u001b[38;5;28;43;01mif\u001b[39;49;00m\u001b[43m \u001b[49m\u001b[43mtimeout\u001b[49m\u001b[43m \u001b[49m\u001b[38;5;241;43m==\u001b[39;49m\u001b[43m \u001b[49m\u001b[38;5;241;43m0.0\u001b[39;49m\u001b[43m \u001b[49m\u001b[38;5;28;43;01melse\u001b[39;49;00m\u001b[43m \u001b[49m\u001b[38;5;241;43m0\u001b[39;49m\u001b[43m)\u001b[49m\n\u001b[1;32m     44\u001b[0m \u001b[38;5;28;01mreturn\u001b[39;00m \u001b[38;5;28mself\u001b[39m\u001b[38;5;241m.\u001b[39mreturncode\n",
      "File \u001b[0;32m/usr/lib/python3.10/multiprocessing/popen_fork.py:27\u001b[0m, in \u001b[0;36mPopen.poll\u001b[0;34m(self, flag)\u001b[0m\n\u001b[1;32m     25\u001b[0m \u001b[38;5;28;01mif\u001b[39;00m \u001b[38;5;28mself\u001b[39m\u001b[38;5;241m.\u001b[39mreturncode \u001b[38;5;129;01mis\u001b[39;00m \u001b[38;5;28;01mNone\u001b[39;00m:\n\u001b[1;32m     26\u001b[0m     \u001b[38;5;28;01mtry\u001b[39;00m:\n\u001b[0;32m---> 27\u001b[0m         pid, sts \u001b[38;5;241m=\u001b[39m \u001b[43mos\u001b[49m\u001b[38;5;241;43m.\u001b[39;49m\u001b[43mwaitpid\u001b[49m\u001b[43m(\u001b[49m\u001b[38;5;28;43mself\u001b[39;49m\u001b[38;5;241;43m.\u001b[39;49m\u001b[43mpid\u001b[49m\u001b[43m,\u001b[49m\u001b[43m \u001b[49m\u001b[43mflag\u001b[49m\u001b[43m)\u001b[49m\n\u001b[1;32m     28\u001b[0m     \u001b[38;5;28;01mexcept\u001b[39;00m \u001b[38;5;167;01mOSError\u001b[39;00m:\n\u001b[1;32m     29\u001b[0m         \u001b[38;5;66;03m# Child process not yet created. See #1731717\u001b[39;00m\n\u001b[1;32m     30\u001b[0m         \u001b[38;5;66;03m# e.errno == errno.ECHILD == 10\u001b[39;00m\n\u001b[1;32m     31\u001b[0m         \u001b[38;5;28;01mreturn\u001b[39;00m \u001b[38;5;28;01mNone\u001b[39;00m\n",
      "\u001b[0;31mKeyboardInterrupt\u001b[0m: "
     ]
    },
    {
     "name": "stderr",
     "output_type": "stream",
     "text": [
      "20it [08:29, 28.82s/it]"
     ]
    }
   ],
   "source": [
    "from multiprocessing import Process\n",
    "    \n",
    "def task(llm_model, few_shot_n, test_n, q_src_yn, ver, p_ver, sc_num, temperature):\n",
    "\n",
    "    print(f\"Task {llm_model}_{few_shot_n}_{test_n}_{q_src_yn}_{p_ver}_{sc_num}_{temperature} 시작\")\n",
    "    for i in range(ver):\n",
    "        print(f\"Task {llm_model}_{few_shot_n}_{test_n}_{q_src_yn}_{p_ver}_{sc_num}_{temperature} 실행 중: {i}\")\n",
    "        sc.Self_Consistency(  llm_model\n",
    "                        , few_shot_n\n",
    "                        , test_n\n",
    "                        , q_src_yn\n",
    "                        , i\n",
    "                        , p_ver\n",
    "                        , sc_num\n",
    "                        , temperature\n",
    "                        )  \n",
    "    \n",
    "    print(f\"Task {llm_model}_{few_shot_n}_{test_n}_{q_src_yn}_{p_ver}_{sc_num} 완료\")\n",
    "\n",
    "if __name__ == \"__main__\":\n",
    "    # process1 = Process(target=task, args=('l', 1, 10, 'Y', 10, 'sys_prompt7', 5))\n",
    "    # process2 = Process(target=task, args=('l', 1, 10, 'N', 10, 'sys_prompt7', 5))\n",
    "\n",
    "    process3 = Process(target=task, args=('l', 2, 10, 'Y', 10, 'sys_prompt8', 5, 0.1))\n",
    "    # process4 = Process(target=task, args=('l', 2, 10, 'N', 10, 'sys_prompt7', 5))\n",
    "\n",
    "    # process5 = Process(target=task, args=('l', 3, 10, 'Y', 10, 'sys_prompt7', 5))\n",
    "    # process6 = Process(target=task, args=('l', 3, 10, 'N', 10, 'sys_prompt7', 5))\n",
    "    \n",
    "    # process1.start()\n",
    "    # process2.start()\n",
    "    process3.start()\n",
    "    # process4.start()\n",
    "    # process5.start()\n",
    "    # process6.start()\n",
    "    \n",
    "    # process1.join()\n",
    "    # process2.join()\n",
    "    process3.join()\n",
    "    # process4.join()\n",
    "    # process5.join()\n",
    "    # process6.join()\n",
    "    print(\"모든 작업 완료\")\n"
   ]
  }
 ],
 "metadata": {
  "kernelspec": {
   "display_name": "venv_stackoverflow_src",
   "language": "python",
   "name": "python3"
  },
  "language_info": {
   "codemirror_mode": {
    "name": "ipython",
    "version": 3
   },
   "file_extension": ".py",
   "mimetype": "text/x-python",
   "name": "python",
   "nbconvert_exporter": "python",
   "pygments_lexer": "ipython3",
   "version": "3.10.12"
  }
 },
 "nbformat": 4,
 "nbformat_minor": 2
}
