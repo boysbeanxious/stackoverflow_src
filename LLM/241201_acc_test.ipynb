{
 "cells": [
  {
   "cell_type": "code",
   "execution_count": 1,
   "metadata": {},
   "outputs": [],
   "source": [
    "import sys, os\n",
    "p = os.path.abspath('..')\n",
    "# p = p+r'\\config'\n",
    "sys.path.insert(1, p)"
   ]
  },
  {
   "cell_type": "code",
   "execution_count": 2,
   "metadata": {},
   "outputs": [],
   "source": [
    "import lib.annotation.Self_Consistency as sc\n",
    "import tqdm\n",
    "\n"
   ]
  },
  {
   "cell_type": "code",
   "execution_count": null,
   "metadata": {},
   "outputs": [],
   "source": [
    "from multiprocessing import Process\n",
    "    \n",
    "def task(llm_model, few_shot_n, test_n, q_src_yn, ver, p_ver, sc_num, temperature, excel_ver):\n",
    "\n",
    "    print(f\"Task {llm_model}_{few_shot_n}_{test_n}_{q_src_yn}_{p_ver}_{sc_num}_{temperature}_{excel_ver} 시작\")\n",
    "    for i in range(ver):\n",
    "        print(f\"Task {llm_model}_{few_shot_n}_{test_n}_{q_src_yn}_{p_ver}_{sc_num}_{temperature}_{excel_ver}_{i} 실행 중: {i}\")\n",
    "        sc.Self_Consistency(llm_model,          # llm_model\n",
    "                            few_shot_n,         # few_shot_n\n",
    "                            test_n,             # test_n\n",
    "                            q_src_yn,           # q_src_yn\n",
    "                            ver,                # ver\n",
    "                            p_ver,              # p_ver\n",
    "                            sc_num,             # sc_num\n",
    "                            temperature,        # temp\n",
    "                            excel_ver,          # excel_ver\n",
    "                            i                   # loop_i\n",
    "                            )\n",
    "    # (self, llm_model, few_shot_n, test_n, q_src_yn, ver, p_ver, sf_num, temperature, excel_ver):  \n",
    "    \n",
    "    print(f\"Task {llm_model}_{few_shot_n}_{test_n}_{q_src_yn}_{p_ver}_{sc_num}_{excel_ver} 완료\")\n",
    "\n",
    "if __name__ == \"__main__\":\n",
    "    # process1 = Process(target=task, args=('l', 1, 10, 'Y', 10, 'sys_prompt7', 5))\n",
    "    # process2 = Process(target=task, args=('l', 1, 10, 'N', 10, 'sys_prompt7', 5))\n",
    "\n",
    "    # process3 = Process(target=task, args=('l', 4, 15, 'Y', 30, 'sys_prompt8', 3, 0.01, 'ver2'))\n",
    "    # process4 = Process(target=task, args=('l', 2, 10, 'N', 10, 'sys_prompt7', 5))\n",
    "\n",
    "    # process5 = Process(target=task, args=('l', 3, 10, 'Y', 10, 'sys_prompt7', 5))\n",
    "\n",
    "\n",
    "    \n",
    "    process3.start()\n",
    "    # process4.start()\n",
    "    # process5.start()\n",
    "    # process6.start()\n",
    "    \n",
    "    # process1.join()\n",
    "    # process2.join()\n",
    "    process3.join()\n",
    "    # process4.join()\n",
    "    # process5.join()\n",
    "    # process6.join()\n",
    "    print(\"모든 작업 완료\")\n"
   ]
  },
  {
   "cell_type": "code",
   "execution_count": null,
   "metadata": {},
   "outputs": [
    {
     "name": "stdout",
     "output_type": "stream",
     "text": [
      "Task l_4_30_Y_sys_prompt8_5_0.01_ver2 시작\n",
      "Task l_4_30_Y_sys_prompt8_5_0.01_ver2_0 실행 중: 0\n"
     ]
    },
    {
     "name": "stdout",
     "output_type": "stream",
     "text": [
      "./result/sc_l_result_4_30_Y_100_sys_prompt8_5_0.01_ver2_0.csv\n",
      "../../data/q_output_code_y.csv\n"
     ]
    },
    {
     "name": "stderr",
     "output_type": "stream",
     "text": [
      "150it [54:38, 21.86s/it]\n"
     ]
    },
    {
     "name": "stdout",
     "output_type": "stream",
     "text": [
      "Task l_4_30_Y_sys_prompt8_5_0.01_ver2_1 실행 중: 1\n",
      "./result/sc_l_result_4_30_Y_100_sys_prompt8_5_0.01_ver2_1.csv\n",
      "../../data/q_output_code_y.csv\n"
     ]
    },
    {
     "name": "stderr",
     "output_type": "stream",
     "text": [
      "150it [47:37, 19.05s/it]\n"
     ]
    },
    {
     "name": "stdout",
     "output_type": "stream",
     "text": [
      "Task l_4_30_Y_sys_prompt8_5_0.01_ver2_2 실행 중: 2\n",
      "./result/sc_l_result_4_30_Y_100_sys_prompt8_5_0.01_ver2_2.csv\n",
      "../../data/q_output_code_y.csv\n"
     ]
    },
    {
     "name": "stderr",
     "output_type": "stream",
     "text": [
      "150it [46:09, 18.46s/it]\n"
     ]
    },
    {
     "name": "stdout",
     "output_type": "stream",
     "text": [
      "Task l_4_30_Y_sys_prompt8_5_0.01_ver2_3 실행 중: 3\n",
      "./result/sc_l_result_4_30_Y_100_sys_prompt8_5_0.01_ver2_3.csv\n",
      "../../data/q_output_code_y.csv\n"
     ]
    },
    {
     "name": "stderr",
     "output_type": "stream",
     "text": [
      "150it [1:00:13, 24.09s/it]\n"
     ]
    },
    {
     "name": "stdout",
     "output_type": "stream",
     "text": [
      "Task l_4_30_Y_sys_prompt8_5_0.01_ver2_4 실행 중: 4\n",
      "./result/sc_l_result_4_30_Y_100_sys_prompt8_5_0.01_ver2_4.csv\n",
      "../../data/q_output_code_y.csv\n"
     ]
    },
    {
     "name": "stderr",
     "output_type": "stream",
     "text": [
      "150it [34:42, 13.89s/it]\n"
     ]
    },
    {
     "name": "stdout",
     "output_type": "stream",
     "text": [
      "Task l_4_30_Y_sys_prompt8_5_0.01_ver2_5 실행 중: 5\n",
      "./result/sc_l_result_4_30_Y_100_sys_prompt8_5_0.01_ver2_5.csv\n",
      "../../data/q_output_code_y.csv\n"
     ]
    },
    {
     "name": "stderr",
     "output_type": "stream",
     "text": [
      "150it [27:33, 11.02s/it]\n"
     ]
    },
    {
     "name": "stdout",
     "output_type": "stream",
     "text": [
      "Task l_4_30_Y_sys_prompt8_5_0.01_ver2_6 실행 중: 6\n",
      "./result/sc_l_result_4_30_Y_100_sys_prompt8_5_0.01_ver2_6.csv\n",
      "../../data/q_output_code_y.csv\n"
     ]
    },
    {
     "name": "stderr",
     "output_type": "stream",
     "text": [
      "150it [27:11, 10.88s/it]\n"
     ]
    },
    {
     "name": "stdout",
     "output_type": "stream",
     "text": [
      "Task l_4_30_Y_sys_prompt8_5_0.01_ver2_7 실행 중: 7\n",
      "./result/sc_l_result_4_30_Y_100_sys_prompt8_5_0.01_ver2_7.csv\n",
      "../../data/q_output_code_y.csv\n"
     ]
    },
    {
     "name": "stderr",
     "output_type": "stream",
     "text": [
      "150it [27:00, 10.80s/it]\n"
     ]
    },
    {
     "name": "stdout",
     "output_type": "stream",
     "text": [
      "Task l_4_30_Y_sys_prompt8_5_0.01_ver2_8 실행 중: 8\n",
      "./result/sc_l_result_4_30_Y_100_sys_prompt8_5_0.01_ver2_8.csv\n",
      "../../data/q_output_code_y.csv\n"
     ]
    },
    {
     "name": "stderr",
     "output_type": "stream",
     "text": [
      "150it [25:12, 10.09s/it]\n"
     ]
    },
    {
     "name": "stdout",
     "output_type": "stream",
     "text": [
      "Task l_4_30_Y_sys_prompt8_5_0.01_ver2_9 실행 중: 9\n",
      "./result/sc_l_result_4_30_Y_100_sys_prompt8_5_0.01_ver2_9.csv\n",
      "../../data/q_output_code_y.csv\n"
     ]
    },
    {
     "name": "stderr",
     "output_type": "stream",
     "text": [
      "150it [31:51, 12.74s/it]\n"
     ]
    },
    {
     "name": "stdout",
     "output_type": "stream",
     "text": [
      "Task l_4_30_Y_sys_prompt8_5_0.01_ver2_10 실행 중: 10\n",
      "./result/sc_l_result_4_30_Y_100_sys_prompt8_5_0.01_ver2_10.csv\n",
      "../../data/q_output_code_y.csv\n"
     ]
    },
    {
     "name": "stderr",
     "output_type": "stream",
     "text": [
      "150it [25:16, 10.11s/it]\n"
     ]
    },
    {
     "name": "stdout",
     "output_type": "stream",
     "text": [
      "Task l_4_30_Y_sys_prompt8_5_0.01_ver2_11 실행 중: 11\n",
      "./result/sc_l_result_4_30_Y_100_sys_prompt8_5_0.01_ver2_11.csv\n",
      "../../data/q_output_code_y.csv\n"
     ]
    },
    {
     "name": "stderr",
     "output_type": "stream",
     "text": [
      "150it [27:20, 10.94s/it]\n"
     ]
    },
    {
     "name": "stdout",
     "output_type": "stream",
     "text": [
      "Task l_4_30_Y_sys_prompt8_5_0.01_ver2_12 실행 중: 12\n",
      "./result/sc_l_result_4_30_Y_100_sys_prompt8_5_0.01_ver2_12.csv\n",
      "../../data/q_output_code_y.csv\n"
     ]
    },
    {
     "name": "stderr",
     "output_type": "stream",
     "text": [
      "150it [23:39,  9.46s/it]\n"
     ]
    },
    {
     "name": "stdout",
     "output_type": "stream",
     "text": [
      "Task l_4_30_Y_sys_prompt8_5_0.01_ver2_13 실행 중: 13\n",
      "./result/sc_l_result_4_30_Y_100_sys_prompt8_5_0.01_ver2_13.csv\n",
      "../../data/q_output_code_y.csv\n"
     ]
    },
    {
     "name": "stderr",
     "output_type": "stream",
     "text": [
      "150it [26:18, 10.52s/it]\n"
     ]
    },
    {
     "name": "stdout",
     "output_type": "stream",
     "text": [
      "Task l_4_30_Y_sys_prompt8_5_0.01_ver2_14 실행 중: 14\n",
      "./result/sc_l_result_4_30_Y_100_sys_prompt8_5_0.01_ver2_14.csv\n",
      "../../data/q_output_code_y.csv\n"
     ]
    },
    {
     "name": "stderr",
     "output_type": "stream",
     "text": [
      "150it [30:20, 12.13s/it]\n"
     ]
    },
    {
     "name": "stdout",
     "output_type": "stream",
     "text": [
      "Task l_4_30_Y_sys_prompt8_5_0.01_ver2_15 실행 중: 15\n",
      "./result/sc_l_result_4_30_Y_100_sys_prompt8_5_0.01_ver2_15.csv\n",
      "../../data/q_output_code_y.csv\n"
     ]
    },
    {
     "name": "stderr",
     "output_type": "stream",
     "text": [
      "150it [20:39,  8.26s/it]\n"
     ]
    },
    {
     "name": "stdout",
     "output_type": "stream",
     "text": [
      "Task l_4_30_Y_sys_prompt8_5_0.01_ver2_16 실행 중: 16\n",
      "./result/sc_l_result_4_30_Y_100_sys_prompt8_5_0.01_ver2_16.csv\n",
      "../../data/q_output_code_y.csv\n"
     ]
    },
    {
     "name": "stderr",
     "output_type": "stream",
     "text": [
      "150it [26:46, 10.71s/it]\n"
     ]
    },
    {
     "name": "stdout",
     "output_type": "stream",
     "text": [
      "Task l_4_30_Y_sys_prompt8_5_0.01_ver2_17 실행 중: 17\n",
      "./result/sc_l_result_4_30_Y_100_sys_prompt8_5_0.01_ver2_17.csv\n",
      "../../data/q_output_code_y.csv\n"
     ]
    },
    {
     "name": "stderr",
     "output_type": "stream",
     "text": [
      "150it [24:19,  9.73s/it]\n"
     ]
    },
    {
     "name": "stdout",
     "output_type": "stream",
     "text": [
      "Task l_4_30_Y_sys_prompt8_5_0.01_ver2_18 실행 중: 18\n",
      "./result/sc_l_result_4_30_Y_100_sys_prompt8_5_0.01_ver2_18.csv\n",
      "../../data/q_output_code_y.csv\n"
     ]
    },
    {
     "name": "stderr",
     "output_type": "stream",
     "text": [
      "150it [24:50,  9.93s/it]\n"
     ]
    },
    {
     "name": "stdout",
     "output_type": "stream",
     "text": [
      "Task l_4_30_Y_sys_prompt8_5_0.01_ver2_19 실행 중: 19\n",
      "./result/sc_l_result_4_30_Y_100_sys_prompt8_5_0.01_ver2_19.csv\n",
      "../../data/q_output_code_y.csv\n"
     ]
    },
    {
     "name": "stderr",
     "output_type": "stream",
     "text": [
      "150it [25:30, 10.20s/it]\n"
     ]
    },
    {
     "name": "stdout",
     "output_type": "stream",
     "text": [
      "Task l_4_30_Y_sys_prompt8_5_0.01_ver2_20 실행 중: 20\n",
      "./result/sc_l_result_4_30_Y_100_sys_prompt8_5_0.01_ver2_20.csv\n",
      "../../data/q_output_code_y.csv\n"
     ]
    },
    {
     "name": "stderr",
     "output_type": "stream",
     "text": [
      "150it [27:00, 10.80s/it]\n"
     ]
    },
    {
     "name": "stdout",
     "output_type": "stream",
     "text": [
      "Task l_4_30_Y_sys_prompt8_5_0.01_ver2_21 실행 중: 21\n",
      "./result/sc_l_result_4_30_Y_100_sys_prompt8_5_0.01_ver2_21.csv\n",
      "../../data/q_output_code_y.csv\n"
     ]
    },
    {
     "name": "stderr",
     "output_type": "stream",
     "text": [
      "150it [24:08,  9.66s/it]\n"
     ]
    },
    {
     "name": "stdout",
     "output_type": "stream",
     "text": [
      "Task l_4_30_Y_sys_prompt8_5_0.01_ver2_22 실행 중: 22\n",
      "./result/sc_l_result_4_30_Y_100_sys_prompt8_5_0.01_ver2_22.csv\n",
      "../../data/q_output_code_y.csv\n"
     ]
    },
    {
     "name": "stderr",
     "output_type": "stream",
     "text": [
      "150it [29:43, 11.89s/it]\n"
     ]
    },
    {
     "name": "stdout",
     "output_type": "stream",
     "text": [
      "Task l_4_30_Y_sys_prompt8_5_0.01_ver2_23 실행 중: 23\n",
      "./result/sc_l_result_4_30_Y_100_sys_prompt8_5_0.01_ver2_23.csv\n",
      "../../data/q_output_code_y.csv\n"
     ]
    },
    {
     "name": "stderr",
     "output_type": "stream",
     "text": [
      "150it [43:37, 17.45s/it]\n"
     ]
    },
    {
     "name": "stdout",
     "output_type": "stream",
     "text": [
      "Task l_4_30_Y_sys_prompt8_5_0.01_ver2_24 실행 중: 24\n",
      "./result/sc_l_result_4_30_Y_100_sys_prompt8_5_0.01_ver2_24.csv\n",
      "../../data/q_output_code_y.csv\n"
     ]
    },
    {
     "name": "stderr",
     "output_type": "stream",
     "text": [
      "150it [1:26:35, 34.64s/it]\n"
     ]
    },
    {
     "name": "stdout",
     "output_type": "stream",
     "text": [
      "Task l_4_30_Y_sys_prompt8_5_0.01_ver2_25 실행 중: 25\n",
      "./result/sc_l_result_4_30_Y_100_sys_prompt8_5_0.01_ver2_25.csv\n",
      "../../data/q_output_code_y.csv\n"
     ]
    },
    {
     "name": "stderr",
     "output_type": "stream",
     "text": [
      "150it [1:21:36, 32.64s/it]\n"
     ]
    },
    {
     "name": "stdout",
     "output_type": "stream",
     "text": [
      "Task l_4_30_Y_sys_prompt8_5_0.01_ver2_26 실행 중: 26\n",
      "./result/sc_l_result_4_30_Y_100_sys_prompt8_5_0.01_ver2_26.csv\n",
      "../../data/q_output_code_y.csv\n"
     ]
    },
    {
     "name": "stderr",
     "output_type": "stream",
     "text": [
      "150it [1:32:15, 36.91s/it]\n"
     ]
    },
    {
     "name": "stdout",
     "output_type": "stream",
     "text": [
      "Task l_4_30_Y_sys_prompt8_5_0.01_ver2_27 실행 중: 27\n",
      "./result/sc_l_result_4_30_Y_100_sys_prompt8_5_0.01_ver2_27.csv\n",
      "../../data/q_output_code_y.csv\n"
     ]
    },
    {
     "name": "stderr",
     "output_type": "stream",
     "text": [
      "150it [1:51:13, 44.49s/it]\n"
     ]
    },
    {
     "name": "stdout",
     "output_type": "stream",
     "text": [
      "Task l_4_30_Y_sys_prompt8_5_0.01_ver2_28 실행 중: 28\n",
      "./result/sc_l_result_4_30_Y_100_sys_prompt8_5_0.01_ver2_28.csv\n",
      "../../data/q_output_code_y.csv\n"
     ]
    },
    {
     "name": "stderr",
     "output_type": "stream",
     "text": [
      "150it [1:33:21, 37.35s/it]\n"
     ]
    },
    {
     "name": "stdout",
     "output_type": "stream",
     "text": [
      "Task l_4_30_Y_sys_prompt8_5_0.01_ver2_29 실행 중: 29\n",
      "./result/sc_l_result_4_30_Y_100_sys_prompt8_5_0.01_ver2_29.csv\n",
      "../../data/q_output_code_y.csv\n"
     ]
    },
    {
     "name": "stderr",
     "output_type": "stream",
     "text": [
      "150it [1:20:20, 32.14s/it]\n"
     ]
    },
    {
     "name": "stdout",
     "output_type": "stream",
     "text": [
      "Task l_4_30_Y_sys_prompt8_5_0.01_ver2_30 실행 중: 30\n",
      "./result/sc_l_result_4_30_Y_100_sys_prompt8_5_0.01_ver2_30.csv\n",
      "../../data/q_output_code_y.csv\n"
     ]
    },
    {
     "name": "stderr",
     "output_type": "stream",
     "text": [
      "150it [1:26:31, 34.61s/it]\n"
     ]
    },
    {
     "name": "stdout",
     "output_type": "stream",
     "text": [
      "Task l_4_30_Y_sys_prompt8_5_0.01_ver2_31 실행 중: 31\n",
      "./result/sc_l_result_4_30_Y_100_sys_prompt8_5_0.01_ver2_31.csv\n",
      "../../data/q_output_code_y.csv\n"
     ]
    },
    {
     "name": "stderr",
     "output_type": "stream",
     "text": [
      "150it [1:19:36, 31.84s/it]\n"
     ]
    },
    {
     "name": "stdout",
     "output_type": "stream",
     "text": [
      "Task l_4_30_Y_sys_prompt8_5_0.01_ver2_32 실행 중: 32\n",
      "./result/sc_l_result_4_30_Y_100_sys_prompt8_5_0.01_ver2_32.csv\n",
      "../../data/q_output_code_y.csv\n"
     ]
    },
    {
     "name": "stderr",
     "output_type": "stream",
     "text": [
      "150it [1:24:05, 33.64s/it]\n"
     ]
    },
    {
     "name": "stdout",
     "output_type": "stream",
     "text": [
      "Task l_4_30_Y_sys_prompt8_5_0.01_ver2_33 실행 중: 33\n",
      "./result/sc_l_result_4_30_Y_100_sys_prompt8_5_0.01_ver2_33.csv\n",
      "../../data/q_output_code_y.csv\n"
     ]
    },
    {
     "name": "stderr",
     "output_type": "stream",
     "text": [
      "150it [1:28:55, 35.57s/it]\n"
     ]
    },
    {
     "name": "stdout",
     "output_type": "stream",
     "text": [
      "Task l_4_30_Y_sys_prompt8_5_0.01_ver2_34 실행 중: 34\n",
      "./result/sc_l_result_4_30_Y_100_sys_prompt8_5_0.01_ver2_34.csv\n",
      "../../data/q_output_code_y.csv\n"
     ]
    },
    {
     "name": "stderr",
     "output_type": "stream",
     "text": [
      "150it [1:08:14, 27.29s/it]\n"
     ]
    },
    {
     "name": "stdout",
     "output_type": "stream",
     "text": [
      "Task l_4_30_Y_sys_prompt8_5_0.01_ver2_35 실행 중: 35\n",
      "./result/sc_l_result_4_30_Y_100_sys_prompt8_5_0.01_ver2_35.csv\n",
      "../../data/q_output_code_y.csv\n"
     ]
    },
    {
     "name": "stderr",
     "output_type": "stream",
     "text": [
      "150it [1:28:38, 35.46s/it]\n"
     ]
    },
    {
     "name": "stdout",
     "output_type": "stream",
     "text": [
      "Task l_4_30_Y_sys_prompt8_5_0.01_ver2_36 실행 중: 36\n",
      "./result/sc_l_result_4_30_Y_100_sys_prompt8_5_0.01_ver2_36.csv\n",
      "../../data/q_output_code_y.csv\n"
     ]
    },
    {
     "name": "stderr",
     "output_type": "stream",
     "text": [
      "150it [58:12, 23.28s/it]\n"
     ]
    },
    {
     "name": "stdout",
     "output_type": "stream",
     "text": [
      "Task l_4_30_Y_sys_prompt8_5_0.01_ver2_37 실행 중: 37\n",
      "./result/sc_l_result_4_30_Y_100_sys_prompt8_5_0.01_ver2_37.csv\n",
      "../../data/q_output_code_y.csv\n"
     ]
    },
    {
     "name": "stderr",
     "output_type": "stream",
     "text": [
      "150it [1:45:04, 42.03s/it]\n"
     ]
    },
    {
     "name": "stdout",
     "output_type": "stream",
     "text": [
      "Task l_4_30_Y_sys_prompt8_5_0.01_ver2_38 실행 중: 38\n",
      "./result/sc_l_result_4_30_Y_100_sys_prompt8_5_0.01_ver2_38.csv\n",
      "../../data/q_output_code_y.csv\n"
     ]
    },
    {
     "name": "stderr",
     "output_type": "stream",
     "text": [
      "150it [1:29:58, 35.99s/it]\n"
     ]
    },
    {
     "name": "stdout",
     "output_type": "stream",
     "text": [
      "Task l_4_30_Y_sys_prompt8_5_0.01_ver2_39 실행 중: 39\n",
      "./result/sc_l_result_4_30_Y_100_sys_prompt8_5_0.01_ver2_39.csv\n",
      "../../data/q_output_code_y.csv\n"
     ]
    },
    {
     "name": "stderr",
     "output_type": "stream",
     "text": [
      "150it [1:19:00, 31.60s/it]\n"
     ]
    },
    {
     "name": "stdout",
     "output_type": "stream",
     "text": [
      "Task l_4_30_Y_sys_prompt8_5_0.01_ver2_40 실행 중: 40\n",
      "./result/sc_l_result_4_30_Y_100_sys_prompt8_5_0.01_ver2_40.csv\n",
      "../../data/q_output_code_y.csv\n"
     ]
    },
    {
     "name": "stderr",
     "output_type": "stream",
     "text": [
      "150it [1:17:24, 30.96s/it]\n"
     ]
    },
    {
     "name": "stdout",
     "output_type": "stream",
     "text": [
      "Task l_4_30_Y_sys_prompt8_5_0.01_ver2_41 실행 중: 41\n",
      "./result/sc_l_result_4_30_Y_100_sys_prompt8_5_0.01_ver2_41.csv\n",
      "../../data/q_output_code_y.csv\n"
     ]
    },
    {
     "name": "stderr",
     "output_type": "stream",
     "text": [
      "150it [47:28, 18.99s/it]\n"
     ]
    },
    {
     "name": "stdout",
     "output_type": "stream",
     "text": [
      "Task l_4_30_Y_sys_prompt8_5_0.01_ver2_42 실행 중: 42\n",
      "./result/sc_l_result_4_30_Y_100_sys_prompt8_5_0.01_ver2_42.csv\n",
      "../../data/q_output_code_y.csv\n"
     ]
    },
    {
     "name": "stderr",
     "output_type": "stream",
     "text": [
      "150it [57:43, 23.09s/it]\n"
     ]
    },
    {
     "name": "stdout",
     "output_type": "stream",
     "text": [
      "Task l_4_30_Y_sys_prompt8_5_0.01_ver2_43 실행 중: 43\n",
      "./result/sc_l_result_4_30_Y_100_sys_prompt8_5_0.01_ver2_43.csv\n",
      "../../data/q_output_code_y.csv\n"
     ]
    },
    {
     "name": "stderr",
     "output_type": "stream",
     "text": [
      "150it [42:35, 17.04s/it]\n"
     ]
    },
    {
     "name": "stdout",
     "output_type": "stream",
     "text": [
      "Task l_4_30_Y_sys_prompt8_5_0.01_ver2_44 실행 중: 44\n",
      "./result/sc_l_result_4_30_Y_100_sys_prompt8_5_0.01_ver2_44.csv\n",
      "../../data/q_output_code_y.csv\n"
     ]
    },
    {
     "name": "stderr",
     "output_type": "stream",
     "text": [
      "150it [45:30, 18.20s/it]\n"
     ]
    },
    {
     "name": "stdout",
     "output_type": "stream",
     "text": [
      "Task l_4_30_Y_sys_prompt8_5_0.01_ver2_45 실행 중: 45\n",
      "./result/sc_l_result_4_30_Y_100_sys_prompt8_5_0.01_ver2_45.csv\n",
      "../../data/q_output_code_y.csv\n"
     ]
    },
    {
     "name": "stderr",
     "output_type": "stream",
     "text": [
      "150it [44:37, 17.85s/it]\n"
     ]
    },
    {
     "name": "stdout",
     "output_type": "stream",
     "text": [
      "Task l_4_30_Y_sys_prompt8_5_0.01_ver2_46 실행 중: 46\n",
      "./result/sc_l_result_4_30_Y_100_sys_prompt8_5_0.01_ver2_46.csv\n",
      "../../data/q_output_code_y.csv\n"
     ]
    },
    {
     "name": "stderr",
     "output_type": "stream",
     "text": [
      "150it [44:04, 17.63s/it]\n"
     ]
    },
    {
     "name": "stdout",
     "output_type": "stream",
     "text": [
      "Task l_4_30_Y_sys_prompt8_5_0.01_ver2_47 실행 중: 47\n",
      "./result/sc_l_result_4_30_Y_100_sys_prompt8_5_0.01_ver2_47.csv\n",
      "../../data/q_output_code_y.csv\n"
     ]
    },
    {
     "name": "stderr",
     "output_type": "stream",
     "text": [
      "150it [50:40, 20.27s/it]\n"
     ]
    },
    {
     "name": "stdout",
     "output_type": "stream",
     "text": [
      "Task l_4_30_Y_sys_prompt8_5_0.01_ver2_48 실행 중: 48\n",
      "./result/sc_l_result_4_30_Y_100_sys_prompt8_5_0.01_ver2_48.csv\n",
      "../../data/q_output_code_y.csv\n"
     ]
    },
    {
     "name": "stderr",
     "output_type": "stream",
     "text": [
      "150it [23:18,  9.32s/it]\n"
     ]
    },
    {
     "name": "stdout",
     "output_type": "stream",
     "text": [
      "Task l_4_30_Y_sys_prompt8_5_0.01_ver2_49 실행 중: 49\n",
      "./result/sc_l_result_4_30_Y_100_sys_prompt8_5_0.01_ver2_49.csv\n",
      "../../data/q_output_code_y.csv\n"
     ]
    },
    {
     "name": "stderr",
     "output_type": "stream",
     "text": [
      "150it [23:02,  9.22s/it]\n"
     ]
    },
    {
     "name": "stdout",
     "output_type": "stream",
     "text": [
      "Task l_4_30_Y_sys_prompt8_5_0.01_ver2_50 실행 중: 50\n",
      "./result/sc_l_result_4_30_Y_100_sys_prompt8_5_0.01_ver2_50.csv\n",
      "../../data/q_output_code_y.csv\n"
     ]
    },
    {
     "name": "stderr",
     "output_type": "stream",
     "text": [
      "150it [25:27, 10.18s/it]\n"
     ]
    },
    {
     "name": "stdout",
     "output_type": "stream",
     "text": [
      "Task l_4_30_Y_sys_prompt8_5_0.01_ver2_51 실행 중: 51\n",
      "./result/sc_l_result_4_30_Y_100_sys_prompt8_5_0.01_ver2_51.csv\n",
      "../../data/q_output_code_y.csv\n"
     ]
    },
    {
     "name": "stderr",
     "output_type": "stream",
     "text": [
      "150it [24:10,  9.67s/it]\n"
     ]
    },
    {
     "name": "stdout",
     "output_type": "stream",
     "text": [
      "Task l_4_30_Y_sys_prompt8_5_0.01_ver2_52 실행 중: 52\n",
      "./result/sc_l_result_4_30_Y_100_sys_prompt8_5_0.01_ver2_52.csv\n",
      "../../data/q_output_code_y.csv\n"
     ]
    },
    {
     "name": "stderr",
     "output_type": "stream",
     "text": [
      "150it [27:10, 10.87s/it]\n"
     ]
    },
    {
     "name": "stdout",
     "output_type": "stream",
     "text": [
      "Task l_4_30_Y_sys_prompt8_5_0.01_ver2_53 실행 중: 53\n",
      "./result/sc_l_result_4_30_Y_100_sys_prompt8_5_0.01_ver2_53.csv\n",
      "../../data/q_output_code_y.csv\n"
     ]
    },
    {
     "name": "stderr",
     "output_type": "stream",
     "text": [
      "150it [26:17, 10.52s/it]\n"
     ]
    },
    {
     "name": "stdout",
     "output_type": "stream",
     "text": [
      "Task l_4_30_Y_sys_prompt8_5_0.01_ver2_54 실행 중: 54\n",
      "./result/sc_l_result_4_30_Y_100_sys_prompt8_5_0.01_ver2_54.csv\n",
      "../../data/q_output_code_y.csv\n"
     ]
    },
    {
     "name": "stderr",
     "output_type": "stream",
     "text": [
      "150it [29:52, 11.95s/it]\n"
     ]
    },
    {
     "name": "stdout",
     "output_type": "stream",
     "text": [
      "Task l_4_30_Y_sys_prompt8_5_0.01_ver2_55 실행 중: 55\n",
      "./result/sc_l_result_4_30_Y_100_sys_prompt8_5_0.01_ver2_55.csv\n",
      "../../data/q_output_code_y.csv\n"
     ]
    },
    {
     "name": "stderr",
     "output_type": "stream",
     "text": [
      "150it [29:33, 11.82s/it]\n"
     ]
    },
    {
     "name": "stdout",
     "output_type": "stream",
     "text": [
      "Task l_4_30_Y_sys_prompt8_5_0.01_ver2_56 실행 중: 56\n",
      "./result/sc_l_result_4_30_Y_100_sys_prompt8_5_0.01_ver2_56.csv\n",
      "../../data/q_output_code_y.csv\n"
     ]
    },
    {
     "name": "stderr",
     "output_type": "stream",
     "text": [
      "150it [27:03, 10.83s/it]\n"
     ]
    },
    {
     "name": "stdout",
     "output_type": "stream",
     "text": [
      "Task l_4_30_Y_sys_prompt8_5_0.01_ver2_57 실행 중: 57\n",
      "./result/sc_l_result_4_30_Y_100_sys_prompt8_5_0.01_ver2_57.csv\n",
      "../../data/q_output_code_y.csv\n"
     ]
    },
    {
     "name": "stderr",
     "output_type": "stream",
     "text": [
      "150it [26:34, 10.63s/it]\n"
     ]
    },
    {
     "name": "stdout",
     "output_type": "stream",
     "text": [
      "Task l_4_30_Y_sys_prompt8_5_0.01_ver2_58 실행 중: 58\n",
      "./result/sc_l_result_4_30_Y_100_sys_prompt8_5_0.01_ver2_58.csv\n",
      "../../data/q_output_code_y.csv\n"
     ]
    },
    {
     "name": "stderr",
     "output_type": "stream",
     "text": [
      "150it [27:10, 10.87s/it]\n"
     ]
    },
    {
     "name": "stdout",
     "output_type": "stream",
     "text": [
      "Task l_4_30_Y_sys_prompt8_5_0.01_ver2_59 실행 중: 59\n",
      "./result/sc_l_result_4_30_Y_100_sys_prompt8_5_0.01_ver2_59.csv\n",
      "../../data/q_output_code_y.csv\n"
     ]
    },
    {
     "name": "stderr",
     "output_type": "stream",
     "text": [
      "150it [25:14, 10.10s/it]\n"
     ]
    },
    {
     "name": "stdout",
     "output_type": "stream",
     "text": [
      "Task l_4_30_Y_sys_prompt8_5_0.01_ver2_60 실행 중: 60\n",
      "./result/sc_l_result_4_30_Y_100_sys_prompt8_5_0.01_ver2_60.csv\n",
      "../../data/q_output_code_y.csv\n"
     ]
    },
    {
     "name": "stderr",
     "output_type": "stream",
     "text": [
      "150it [27:01, 10.81s/it]\n"
     ]
    },
    {
     "name": "stdout",
     "output_type": "stream",
     "text": [
      "Task l_4_30_Y_sys_prompt8_5_0.01_ver2_61 실행 중: 61\n",
      "./result/sc_l_result_4_30_Y_100_sys_prompt8_5_0.01_ver2_61.csv\n",
      "../../data/q_output_code_y.csv\n"
     ]
    },
    {
     "name": "stderr",
     "output_type": "stream",
     "text": [
      "150it [26:01, 10.41s/it]\n"
     ]
    },
    {
     "name": "stdout",
     "output_type": "stream",
     "text": [
      "Task l_4_30_Y_sys_prompt8_5_0.01_ver2_62 실행 중: 62\n",
      "./result/sc_l_result_4_30_Y_100_sys_prompt8_5_0.01_ver2_62.csv\n",
      "../../data/q_output_code_y.csv\n"
     ]
    },
    {
     "name": "stderr",
     "output_type": "stream",
     "text": [
      "150it [23:41,  9.48s/it]\n"
     ]
    },
    {
     "name": "stdout",
     "output_type": "stream",
     "text": [
      "Task l_4_30_Y_sys_prompt8_5_0.01_ver2_63 실행 중: 63\n",
      "./result/sc_l_result_4_30_Y_100_sys_prompt8_5_0.01_ver2_63.csv\n",
      "../../data/q_output_code_y.csv\n"
     ]
    },
    {
     "name": "stderr",
     "output_type": "stream",
     "text": [
      "150it [08:45,  3.51s/it]\n"
     ]
    },
    {
     "name": "stdout",
     "output_type": "stream",
     "text": [
      "Task l_4_30_Y_sys_prompt8_5_0.01_ver2_64 실행 중: 64\n",
      "./result/sc_l_result_4_30_Y_100_sys_prompt8_5_0.01_ver2_64.csv\n",
      "../../data/q_output_code_y.csv\n"
     ]
    },
    {
     "name": "stderr",
     "output_type": "stream",
     "text": [
      "150it [28:35, 11.44s/it]\n"
     ]
    },
    {
     "name": "stdout",
     "output_type": "stream",
     "text": [
      "Task l_4_30_Y_sys_prompt8_5_0.01_ver2_65 실행 중: 65\n",
      "./result/sc_l_result_4_30_Y_100_sys_prompt8_5_0.01_ver2_65.csv\n",
      "../../data/q_output_code_y.csv\n"
     ]
    },
    {
     "name": "stderr",
     "output_type": "stream",
     "text": [
      "150it [25:37, 10.25s/it]\n"
     ]
    },
    {
     "name": "stdout",
     "output_type": "stream",
     "text": [
      "Task l_4_30_Y_sys_prompt8_5_0.01_ver2_66 실행 중: 66\n",
      "./result/sc_l_result_4_30_Y_100_sys_prompt8_5_0.01_ver2_66.csv\n",
      "../../data/q_output_code_y.csv\n"
     ]
    },
    {
     "name": "stderr",
     "output_type": "stream",
     "text": [
      "150it [26:08, 10.46s/it]\n"
     ]
    },
    {
     "name": "stdout",
     "output_type": "stream",
     "text": [
      "Task l_4_30_Y_sys_prompt8_5_0.01_ver2_67 실행 중: 67\n",
      "./result/sc_l_result_4_30_Y_100_sys_prompt8_5_0.01_ver2_67.csv\n",
      "../../data/q_output_code_y.csv\n"
     ]
    },
    {
     "name": "stderr",
     "output_type": "stream",
     "text": [
      "150it [31:07, 12.45s/it]\n"
     ]
    },
    {
     "name": "stdout",
     "output_type": "stream",
     "text": [
      "Task l_4_30_Y_sys_prompt8_5_0.01_ver2_68 실행 중: 68\n",
      "./result/sc_l_result_4_30_Y_100_sys_prompt8_5_0.01_ver2_68.csv\n",
      "../../data/q_output_code_y.csv\n"
     ]
    },
    {
     "name": "stderr",
     "output_type": "stream",
     "text": [
      "150it [25:23, 10.16s/it]\n"
     ]
    },
    {
     "name": "stdout",
     "output_type": "stream",
     "text": [
      "Task l_4_30_Y_sys_prompt8_5_0.01_ver2_69 실행 중: 69\n",
      "./result/sc_l_result_4_30_Y_100_sys_prompt8_5_0.01_ver2_69.csv\n",
      "../../data/q_output_code_y.csv\n"
     ]
    },
    {
     "name": "stderr",
     "output_type": "stream",
     "text": [
      "150it [22:22,  8.95s/it]\n"
     ]
    },
    {
     "name": "stdout",
     "output_type": "stream",
     "text": [
      "Task l_4_30_Y_sys_prompt8_5_0.01_ver2_70 실행 중: 70\n",
      "./result/sc_l_result_4_30_Y_100_sys_prompt8_5_0.01_ver2_70.csv\n",
      "../../data/q_output_code_y.csv\n"
     ]
    },
    {
     "name": "stderr",
     "output_type": "stream",
     "text": [
      "150it [24:16,  9.71s/it]\n"
     ]
    },
    {
     "name": "stdout",
     "output_type": "stream",
     "text": [
      "Task l_4_30_Y_sys_prompt8_5_0.01_ver2_71 실행 중: 71\n",
      "./result/sc_l_result_4_30_Y_100_sys_prompt8_5_0.01_ver2_71.csv\n",
      "../../data/q_output_code_y.csv\n"
     ]
    },
    {
     "name": "stderr",
     "output_type": "stream",
     "text": [
      "150it [24:01,  9.61s/it]\n"
     ]
    },
    {
     "name": "stdout",
     "output_type": "stream",
     "text": [
      "Task l_4_30_Y_sys_prompt8_5_0.01_ver2_72 실행 중: 72\n",
      "./result/sc_l_result_4_30_Y_100_sys_prompt8_5_0.01_ver2_72.csv\n",
      "../../data/q_output_code_y.csv\n"
     ]
    },
    {
     "name": "stderr",
     "output_type": "stream",
     "text": [
      "150it [30:49, 12.33s/it]\n"
     ]
    },
    {
     "name": "stdout",
     "output_type": "stream",
     "text": [
      "Task l_4_30_Y_sys_prompt8_5_0.01_ver2_73 실행 중: 73\n",
      "./result/sc_l_result_4_30_Y_100_sys_prompt8_5_0.01_ver2_73.csv\n",
      "../../data/q_output_code_y.csv\n"
     ]
    },
    {
     "name": "stderr",
     "output_type": "stream",
     "text": [
      "150it [25:18, 10.12s/it]\n"
     ]
    },
    {
     "name": "stdout",
     "output_type": "stream",
     "text": [
      "Task l_4_30_Y_sys_prompt8_5_0.01_ver2_74 실행 중: 74\n",
      "./result/sc_l_result_4_30_Y_100_sys_prompt8_5_0.01_ver2_74.csv\n",
      "../../data/q_output_code_y.csv\n"
     ]
    },
    {
     "name": "stderr",
     "output_type": "stream",
     "text": [
      "150it [31:03, 12.42s/it]\n"
     ]
    },
    {
     "name": "stdout",
     "output_type": "stream",
     "text": [
      "Task l_4_30_Y_sys_prompt8_5_0.01_ver2_75 실행 중: 75\n",
      "./result/sc_l_result_4_30_Y_100_sys_prompt8_5_0.01_ver2_75.csv\n",
      "../../data/q_output_code_y.csv\n"
     ]
    },
    {
     "name": "stderr",
     "output_type": "stream",
     "text": [
      "150it [29:37, 11.85s/it]\n"
     ]
    },
    {
     "name": "stdout",
     "output_type": "stream",
     "text": [
      "Task l_4_30_Y_sys_prompt8_5_0.01_ver2_76 실행 중: 76\n",
      "./result/sc_l_result_4_30_Y_100_sys_prompt8_5_0.01_ver2_76.csv\n",
      "../../data/q_output_code_y.csv\n"
     ]
    },
    {
     "name": "stderr",
     "output_type": "stream",
     "text": [
      "150it [28:05, 11.24s/it]\n"
     ]
    },
    {
     "name": "stdout",
     "output_type": "stream",
     "text": [
      "Task l_4_30_Y_sys_prompt8_5_0.01_ver2_77 실행 중: 77\n",
      "./result/sc_l_result_4_30_Y_100_sys_prompt8_5_0.01_ver2_77.csv\n",
      "../../data/q_output_code_y.csv\n"
     ]
    },
    {
     "name": "stderr",
     "output_type": "stream",
     "text": [
      "150it [25:53, 10.35s/it]\n"
     ]
    },
    {
     "name": "stdout",
     "output_type": "stream",
     "text": [
      "Task l_4_30_Y_sys_prompt8_5_0.01_ver2_78 실행 중: 78\n",
      "./result/sc_l_result_4_30_Y_100_sys_prompt8_5_0.01_ver2_78.csv\n",
      "../../data/q_output_code_y.csv\n"
     ]
    },
    {
     "name": "stderr",
     "output_type": "stream",
     "text": [
      "150it [23:15,  9.30s/it]\n"
     ]
    },
    {
     "name": "stdout",
     "output_type": "stream",
     "text": [
      "Task l_4_30_Y_sys_prompt8_5_0.01_ver2_79 실행 중: 79\n",
      "./result/sc_l_result_4_30_Y_100_sys_prompt8_5_0.01_ver2_79.csv\n",
      "../../data/q_output_code_y.csv\n"
     ]
    },
    {
     "name": "stderr",
     "output_type": "stream",
     "text": [
      "150it [24:46,  9.91s/it]\n"
     ]
    },
    {
     "name": "stdout",
     "output_type": "stream",
     "text": [
      "Task l_4_30_Y_sys_prompt8_5_0.01_ver2_80 실행 중: 80\n",
      "./result/sc_l_result_4_30_Y_100_sys_prompt8_5_0.01_ver2_80.csv\n",
      "../../data/q_output_code_y.csv\n"
     ]
    },
    {
     "name": "stderr",
     "output_type": "stream",
     "text": [
      "150it [07:17,  2.92s/it]\n"
     ]
    },
    {
     "name": "stdout",
     "output_type": "stream",
     "text": [
      "Task l_4_30_Y_sys_prompt8_5_0.01_ver2_81 실행 중: 81\n",
      "./result/sc_l_result_4_30_Y_100_sys_prompt8_5_0.01_ver2_81.csv\n",
      "../../data/q_output_code_y.csv\n"
     ]
    },
    {
     "name": "stderr",
     "output_type": "stream",
     "text": [
      "150it [26:07, 10.45s/it]\n"
     ]
    },
    {
     "name": "stdout",
     "output_type": "stream",
     "text": [
      "Task l_4_30_Y_sys_prompt8_5_0.01_ver2_82 실행 중: 82\n",
      "./result/sc_l_result_4_30_Y_100_sys_prompt8_5_0.01_ver2_82.csv\n",
      "../../data/q_output_code_y.csv\n"
     ]
    },
    {
     "name": "stderr",
     "output_type": "stream",
     "text": [
      "150it [24:01,  9.61s/it]\n"
     ]
    },
    {
     "name": "stdout",
     "output_type": "stream",
     "text": [
      "Task l_4_30_Y_sys_prompt8_5_0.01_ver2_83 실행 중: 83\n",
      "./result/sc_l_result_4_30_Y_100_sys_prompt8_5_0.01_ver2_83.csv\n",
      "../../data/q_output_code_y.csv\n"
     ]
    },
    {
     "name": "stderr",
     "output_type": "stream",
     "text": [
      "150it [26:23, 10.56s/it]\n"
     ]
    },
    {
     "name": "stdout",
     "output_type": "stream",
     "text": [
      "Task l_4_30_Y_sys_prompt8_5_0.01_ver2_84 실행 중: 84\n",
      "./result/sc_l_result_4_30_Y_100_sys_prompt8_5_0.01_ver2_84.csv\n",
      "../../data/q_output_code_y.csv\n"
     ]
    },
    {
     "name": "stderr",
     "output_type": "stream",
     "text": [
      "150it [29:00, 11.60s/it]\n"
     ]
    },
    {
     "name": "stdout",
     "output_type": "stream",
     "text": [
      "Task l_4_30_Y_sys_prompt8_5_0.01_ver2_85 실행 중: 85\n",
      "./result/sc_l_result_4_30_Y_100_sys_prompt8_5_0.01_ver2_85.csv\n",
      "../../data/q_output_code_y.csv\n"
     ]
    },
    {
     "name": "stderr",
     "output_type": "stream",
     "text": [
      "150it [29:34, 11.83s/it]\n"
     ]
    },
    {
     "name": "stdout",
     "output_type": "stream",
     "text": [
      "Task l_4_30_Y_sys_prompt8_5_0.01_ver2_86 실행 중: 86\n",
      "./result/sc_l_result_4_30_Y_100_sys_prompt8_5_0.01_ver2_86.csv\n",
      "../../data/q_output_code_y.csv\n"
     ]
    },
    {
     "name": "stderr",
     "output_type": "stream",
     "text": [
      "150it [29:15, 11.70s/it]\n"
     ]
    },
    {
     "name": "stdout",
     "output_type": "stream",
     "text": [
      "Task l_4_30_Y_sys_prompt8_5_0.01_ver2_87 실행 중: 87\n",
      "./result/sc_l_result_4_30_Y_100_sys_prompt8_5_0.01_ver2_87.csv\n",
      "../../data/q_output_code_y.csv\n"
     ]
    },
    {
     "name": "stderr",
     "output_type": "stream",
     "text": [
      "150it [21:59,  8.80s/it]\n"
     ]
    },
    {
     "name": "stdout",
     "output_type": "stream",
     "text": [
      "Task l_4_30_Y_sys_prompt8_5_0.01_ver2_88 실행 중: 88\n",
      "./result/sc_l_result_4_30_Y_100_sys_prompt8_5_0.01_ver2_88.csv\n",
      "../../data/q_output_code_y.csv\n"
     ]
    },
    {
     "name": "stderr",
     "output_type": "stream",
     "text": [
      "150it [29:19, 11.73s/it]\n"
     ]
    },
    {
     "name": "stdout",
     "output_type": "stream",
     "text": [
      "Task l_4_30_Y_sys_prompt8_5_0.01_ver2_89 실행 중: 89\n",
      "./result/sc_l_result_4_30_Y_100_sys_prompt8_5_0.01_ver2_89.csv\n",
      "../../data/q_output_code_y.csv\n"
     ]
    },
    {
     "name": "stderr",
     "output_type": "stream",
     "text": [
      "150it [27:44, 11.09s/it]\n"
     ]
    },
    {
     "name": "stdout",
     "output_type": "stream",
     "text": [
      "Task l_4_30_Y_sys_prompt8_5_0.01_ver2_90 실행 중: 90\n",
      "./result/sc_l_result_4_30_Y_100_sys_prompt8_5_0.01_ver2_90.csv\n",
      "../../data/q_output_code_y.csv\n"
     ]
    },
    {
     "name": "stderr",
     "output_type": "stream",
     "text": [
      "150it [25:34, 10.23s/it]\n"
     ]
    },
    {
     "name": "stdout",
     "output_type": "stream",
     "text": [
      "Task l_4_30_Y_sys_prompt8_5_0.01_ver2_91 실행 중: 91\n",
      "./result/sc_l_result_4_30_Y_100_sys_prompt8_5_0.01_ver2_91.csv\n",
      "../../data/q_output_code_y.csv\n"
     ]
    },
    {
     "name": "stderr",
     "output_type": "stream",
     "text": [
      "150it [24:59,  9.99s/it]\n"
     ]
    },
    {
     "name": "stdout",
     "output_type": "stream",
     "text": [
      "Task l_4_30_Y_sys_prompt8_5_0.01_ver2_92 실행 중: 92\n",
      "./result/sc_l_result_4_30_Y_100_sys_prompt8_5_0.01_ver2_92.csv\n",
      "../../data/q_output_code_y.csv\n"
     ]
    },
    {
     "name": "stderr",
     "output_type": "stream",
     "text": [
      "150it [29:21, 11.74s/it]\n"
     ]
    },
    {
     "name": "stdout",
     "output_type": "stream",
     "text": [
      "Task l_4_30_Y_sys_prompt8_5_0.01_ver2_93 실행 중: 93\n",
      "./result/sc_l_result_4_30_Y_100_sys_prompt8_5_0.01_ver2_93.csv\n",
      "../../data/q_output_code_y.csv\n"
     ]
    },
    {
     "name": "stderr",
     "output_type": "stream",
     "text": [
      "150it [23:26,  9.38s/it]\n"
     ]
    },
    {
     "name": "stdout",
     "output_type": "stream",
     "text": [
      "Task l_4_30_Y_sys_prompt8_5_0.01_ver2_94 실행 중: 94\n",
      "./result/sc_l_result_4_30_Y_100_sys_prompt8_5_0.01_ver2_94.csv\n",
      "../../data/q_output_code_y.csv\n"
     ]
    },
    {
     "name": "stderr",
     "output_type": "stream",
     "text": [
      "129it [25:03, 12.85s/it]"
     ]
    }
   ],
   "source": [
    "from multiprocessing import Process\n",
    "    \n",
    "def task(llm_model, few_shot_n, test_n, q_src_yn, ver, p_ver, sc_num, temperature, excel_ver):\n",
    "\n",
    "    print(f\"Task {llm_model}_{few_shot_n}_{test_n}_{q_src_yn}_{p_ver}_{sc_num}_{temperature}_{excel_ver} 시작\")\n",
    "    for i in range(ver):\n",
    "        print(f\"Task {llm_model}_{few_shot_n}_{test_n}_{q_src_yn}_{p_ver}_{sc_num}_{temperature}_{excel_ver}_{i} 실행 중: {i}\")\n",
    "        sc.Self_Consistency(llm_model,          # llm_model\n",
    "                            few_shot_n,         # few_shot_n\n",
    "                            test_n,             # test_n\n",
    "                            q_src_yn,           # q_src_yn\n",
    "                            ver,                # ver\n",
    "                            p_ver,              # p_ver\n",
    "                            sc_num,             # sc_num\n",
    "                            temperature,        # temp\n",
    "                            excel_ver,          # excel_ver\n",
    "                            i                   # loop_i\n",
    "                            )\n",
    "    # (self, llm_model, few_shot_n, test_n, q_src_yn, ver, p_ver, sf_num, temperature, excel_ver):  \n",
    "    \n",
    "    print(f\"Task {llm_model}_{few_shot_n}_{test_n}_{q_src_yn}_{p_ver}_{sc_num}_{excel_ver} 완료\")\n",
    "\n",
    "if __name__ == \"__main__\":\n",
    "    # process1 = Process(target=task, args=('l', 1, 10, 'Y', 10, 'sys_prompt7', 5))\n",
    "    # process2 = Process(target=task, args=('l', 1, 10, 'N', 10, 'sys_prompt7', 5))\n",
    "\n",
    "    process3 = Process(target=task, args=('l', 4, 30, 'Y', 100, 'sys_prompt8', 5, 0.01, 'ver2'))\n",
    "    # process4 = Process(target=task, args=('l', 2, 10, 'N', 10, 'sys_prompt7', 5))\n",
    "\n",
    "    # process5 = Process(target=task, args=('l', 3, 10, 'Y', 10, 'sys_prompt7', 5))\n",
    "\n",
    "\n",
    "    \n",
    "    process3.start()\n",
    "    # process4.start()\n",
    "    # process5.start()\n",
    "    # process6.start()\n",
    "    \n",
    "    # process1.join()\n",
    "    # process2.join()\n",
    "    process3.join()\n",
    "    # process4.join()\n",
    "    # process5.join()\n",
    "    # process6.join()\n",
    "    print(\"모든 작업 완료\")\n"
   ]
  },
  {
   "cell_type": "code",
   "execution_count": null,
   "metadata": {},
   "outputs": [],
   "source": []
  }
 ],
 "metadata": {
  "kernelspec": {
   "display_name": "venv_stackoverflow_src",
   "language": "python",
   "name": "python3"
  },
  "language_info": {
   "codemirror_mode": {
    "name": "ipython",
    "version": 3
   },
   "file_extension": ".py",
   "mimetype": "text/x-python",
   "name": "python",
   "nbconvert_exporter": "python",
   "pygments_lexer": "ipython3",
   "version": "3.10.12"
  }
 },
 "nbformat": 4,
 "nbformat_minor": 2
}
