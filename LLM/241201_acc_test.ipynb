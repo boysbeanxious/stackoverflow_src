{
 "cells": [
  {
   "cell_type": "code",
   "execution_count": 1,
   "metadata": {},
   "outputs": [],
   "source": [
    "import sys, os\n",
    "p = os.path.abspath('..')\n",
    "# p = p+r'\\config'\n",
    "sys.path.insert(1, p)"
   ]
  },
  {
   "cell_type": "code",
   "execution_count": 2,
   "metadata": {},
   "outputs": [],
   "source": [
    "import lib.annotation.Self_Consistency as sc\n",
    "import tqdm\n",
    "\n"
   ]
  },
  {
   "cell_type": "code",
   "execution_count": null,
   "metadata": {},
   "outputs": [],
   "source": [
    "from multiprocessing import Process\n",
    "    \n",
    "def task(llm_model, few_shot_n, test_n, q_src_yn, ver, p_ver, sc_num, temperature, excel_ver):\n",
    "\n",
    "    print(f\"Task {llm_model}_{few_shot_n}_{test_n}_{q_src_yn}_{p_ver}_{sc_num}_{temperature}_{excel_ver} 시작\")\n",
    "    for i in range(ver):\n",
    "        print(f\"Task {llm_model}_{few_shot_n}_{test_n}_{q_src_yn}_{p_ver}_{sc_num}_{temperature}_{excel_ver}_{i} 실행 중: {i}\")\n",
    "        sc.Self_Consistency(llm_model,          # llm_model\n",
    "                            few_shot_n,         # few_shot_n\n",
    "                            test_n,             # test_n\n",
    "                            q_src_yn,           # q_src_yn\n",
    "                            ver,                # ver\n",
    "                            p_ver,              # p_ver\n",
    "                            sc_num,             # sc_num\n",
    "                            temperature,        # temp\n",
    "                            excel_ver,          # excel_ver\n",
    "                            i                   # loop_i\n",
    "                            )\n",
    "    # (self, llm_model, few_shot_n, test_n, q_src_yn, ver, p_ver, sf_num, temperature, excel_ver):  \n",
    "    \n",
    "    print(f\"Task {llm_model}_{few_shot_n}_{test_n}_{q_src_yn}_{p_ver}_{sc_num}_{excel_ver} 완료\")\n",
    "\n",
    "if __name__ == \"__main__\":\n",
    "    # process1 = Process(target=task, args=('l', 1, 10, 'Y', 10, 'sys_prompt7', 5))\n",
    "    # process2 = Process(target=task, args=('l', 1, 10, 'N', 10, 'sys_prompt7', 5))\n",
    "\n",
    "    # process3 = Process(target=task, args=('l', 4, 15, 'Y', 30, 'sys_prompt8', 3, 0.01, 'ver2'))\n",
    "    # process4 = Process(target=task, args=('l', 2, 10, 'N', 10, 'sys_prompt7', 5))\n",
    "\n",
    "    # process5 = Process(target=task, args=('l', 3, 10, 'Y', 10, 'sys_prompt7', 5))\n",
    "\n",
    "\n",
    "    \n",
    "    process3.start()\n",
    "    # process4.start()\n",
    "    # process5.start()\n",
    "    # process6.start()\n",
    "    \n",
    "    # process1.join()\n",
    "    # process2.join()\n",
    "    process3.join()\n",
    "    # process4.join()\n",
    "    # process5.join()\n",
    "    # process6.join()\n",
    "    print(\"모든 작업 완료\")\n"
   ]
  },
  {
   "cell_type": "code",
   "execution_count": null,
   "metadata": {},
   "outputs": [
    {
     "name": "stdout",
     "output_type": "stream",
     "text": [
      "Task l_4_30_Y_sys_prompt8_5_0.01_ver2 시작\n",
      "Task l_4_30_Y_sys_prompt8_5_0.01_ver2_0 실행 중: 0\n"
     ]
    },
    {
     "name": "stdout",
     "output_type": "stream",
     "text": [
      "./result/sc_l_result_4_30_Y_100_sys_prompt8_5_0.01_ver2_0.csv\n",
      "../../data/q_output_code_y.csv\n"
     ]
    },
    {
     "name": "stderr",
     "output_type": "stream",
     "text": [
      "0it [00:00, ?it/s]"
     ]
    }
   ],
   "source": [
    "from multiprocessing import Process\n",
    "    \n",
    "def task(llm_model, few_shot_n, test_n, q_src_yn, ver, p_ver, sc_num, temperature, excel_ver):\n",
    "\n",
    "    print(f\"Task {llm_model}_{few_shot_n}_{test_n}_{q_src_yn}_{p_ver}_{sc_num}_{temperature}_{excel_ver} 시작\")\n",
    "    for i in range(ver):\n",
    "        print(f\"Task {llm_model}_{few_shot_n}_{test_n}_{q_src_yn}_{p_ver}_{sc_num}_{temperature}_{excel_ver}_{i} 실행 중: {i}\")\n",
    "        sc.Self_Consistency(llm_model,          # llm_model\n",
    "                            few_shot_n,         # few_shot_n\n",
    "                            test_n,             # test_n\n",
    "                            q_src_yn,           # q_src_yn\n",
    "                            ver,                # ver\n",
    "                            p_ver,              # p_ver\n",
    "                            sc_num,             # sc_num\n",
    "                            temperature,        # temp\n",
    "                            excel_ver,          # excel_ver\n",
    "                            i                   # loop_i\n",
    "                            )\n",
    "    # (self, llm_model, few_shot_n, test_n, q_src_yn, ver, p_ver, sf_num, temperature, excel_ver):  \n",
    "    \n",
    "    print(f\"Task {llm_model}_{few_shot_n}_{test_n}_{q_src_yn}_{p_ver}_{sc_num}_{excel_ver} 완료\")\n",
    "\n",
    "if __name__ == \"__main__\":\n",
    "    # process1 = Process(target=task, args=('l', 1, 10, 'Y', 10, 'sys_prompt7', 5))\n",
    "    # process2 = Process(target=task, args=('l', 1, 10, 'N', 10, 'sys_prompt7', 5))\n",
    "\n",
    "    process3 = Process(target=task, args=('l', 4, 30, 'Y', 100, 'sys_prompt8', 5, 0.01, 'ver2'))\n",
    "    # process4 = Process(target=task, args=('l', 2, 10, 'N', 10, 'sys_prompt7', 5))\n",
    "\n",
    "    # process5 = Process(target=task, args=('l', 3, 10, 'Y', 10, 'sys_prompt7', 5))\n",
    "\n",
    "\n",
    "    \n",
    "    process3.start()\n",
    "    # process4.start()\n",
    "    # process5.start()\n",
    "    # process6.start()\n",
    "    \n",
    "    # process1.join()\n",
    "    # process2.join()\n",
    "    process3.join()\n",
    "    # process4.join()\n",
    "    # process5.join()\n",
    "    # process6.join()\n",
    "    print(\"모든 작업 완료\")\n"
   ]
  },
  {
   "cell_type": "code",
   "execution_count": null,
   "metadata": {},
   "outputs": [],
   "source": []
  }
 ],
 "metadata": {
  "kernelspec": {
   "display_name": "venv_stackoverflow_src",
   "language": "python",
   "name": "python3"
  },
  "language_info": {
   "codemirror_mode": {
    "name": "ipython",
    "version": 3
   },
   "file_extension": ".py",
   "mimetype": "text/x-python",
   "name": "python",
   "nbconvert_exporter": "python",
   "pygments_lexer": "ipython3",
   "version": "3.10.12"
  }
 },
 "nbformat": 4,
 "nbformat_minor": 2
}
