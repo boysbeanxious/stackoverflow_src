{
 "cells": [
  {
   "cell_type": "code",
   "execution_count": 1,
   "metadata": {},
   "outputs": [],
   "source": [
    "import sys, os\n",
    "p = os.path.abspath('..')\n",
    "# p = p+r'\\config'\n",
    "sys.path.insert(1, p)"
   ]
  },
  {
   "cell_type": "code",
   "execution_count": 2,
   "metadata": {},
   "outputs": [],
   "source": [
    "import pandas as pd\n",
    "import re\n",
    "import numpy as np\n"
   ]
  },
  {
   "cell_type": "code",
   "execution_count": 3,
   "metadata": {},
   "outputs": [],
   "source": [
    "path = './result'\n",
    "file_list = os.listdir(path)"
   ]
  },
  {
   "cell_type": "code",
   "execution_count": null,
   "metadata": {},
   "outputs": [],
   "source": [
    "def calc_acc_condition(llm_model, few_shot_n, test_n, q_src_yn):\n",
    "    opt_file =[x for x in file_list if x.startswith(f'{llm_model}_result_{few_shot_n}_{test_n}_{q_src_yn}')]\n",
    "    print(opt_file)\n",
    "\n",
    "    if len(opt_file)>0 : \n",
    "        df = pd.DataFrame()\n",
    "\n",
    "        for f in opt_file:\n",
    "            tmp = pd.read_csv(f'./result/{f}', index_col =0)\n",
    "            df = pd.concat([df, tmp], axis =0)\n",
    "        \n",
    "        df['gold'] = df['answer_encode'].apply(lambda x : re.sub(r'[^0-9]', '', x))\n",
    "        df['o_result'] = df['result'].apply(lambda x : re.sub(r'[^0-9]', '', x))\n",
    "        df['equal_yn'] = np.where(df['gold']==df['o_result'], 1, 0)\n",
    "        acc = (df['equal_yn'].sum()/df.shape[0])*100\n",
    "        print(f'{llm_model}_result_{few_shot_n}_{test_n}_{q_src_yn} : ', acc)\n"
   ]
  },
  {
   "cell_type": "code",
   "execution_count": 5,
   "metadata": {},
   "outputs": [
    {
     "name": "stdout",
     "output_type": "stream",
     "text": [
      "c_result_2_10_N :  63.33333333333333\n",
      "c_result_2_10_Y :  73.33333333333333\n",
      "c_result_3_10_N :  60.0\n",
      "c_result_3_10_Y :  60.0\n",
      "l_result_1_10_N :  53.333333333333336\n",
      "l_result_1_10_Y :  46.666666666666664\n",
      "l_result_2_10_N :  76.0\n",
      "l_result_2_10_Y :  72.0\n",
      "l_result_3_10_N :  58.75\n",
      "l_result_3_10_Y :  66.66666666666666\n"
     ]
    }
   ],
   "source": [
    "calc_acc_condition('c' , 2, 10, 'N')\n",
    "calc_acc_condition('c' , 2, 10, 'Y')\n",
    "calc_acc_condition('c' , 3, 10, 'N')\n",
    "calc_acc_condition('c' , 3, 10, 'Y')\n",
    "calc_acc_condition('l' , 1, 10, 'N')\n",
    "calc_acc_condition('l' , 1, 10, 'Y')\n",
    "calc_acc_condition('l' , 2, 10, 'N')\n",
    "calc_acc_condition('l' , 2, 10, 'Y')\n",
    "calc_acc_condition('l' , 3, 10, 'N')\n",
    "calc_acc_condition('l' , 3, 10, 'Y')\n",
    "calc_acc_condition('l' , 4, 10, 'N')\n",
    "calc_acc_condition('l' , 4, 10, 'Y')\n"
   ]
  }
 ],
 "metadata": {
  "kernelspec": {
   "display_name": "venv_stackoverflow_src",
   "language": "python",
   "name": "python3"
  },
  "language_info": {
   "codemirror_mode": {
    "name": "ipython",
    "version": 3
   },
   "file_extension": ".py",
   "mimetype": "text/x-python",
   "name": "python",
   "nbconvert_exporter": "python",
   "pygments_lexer": "ipython3",
   "version": "3.10.12"
  }
 },
 "nbformat": 4,
 "nbformat_minor": 2
}
