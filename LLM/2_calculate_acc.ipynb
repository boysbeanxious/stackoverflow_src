{
 "cells": [
  {
   "cell_type": "code",
   "execution_count": 2,
   "metadata": {},
   "outputs": [],
   "source": [
    "import sys, os\n",
    "p = os.path.abspath('..')\n",
    "# p = p+r'\\config'\n",
    "sys.path.insert(1, p)"
   ]
  },
  {
   "cell_type": "code",
   "execution_count": 3,
   "metadata": {},
   "outputs": [],
   "source": [
    "import pandas as pd\n",
    "import re\n",
    "import numpy as np\n"
   ]
  },
  {
   "cell_type": "code",
   "execution_count": 4,
   "metadata": {},
   "outputs": [],
   "source": [
    "path = './result'\n",
    "file_list = os.listdir(path)"
   ]
  },
  {
   "cell_type": "code",
   "execution_count": 5,
   "metadata": {},
   "outputs": [],
   "source": [
    "# def calc_acc_condition(llm_model, few_shot_n, test_n, q_src_yn, p_ver):\n",
    "#     opt_file = [x for x in file_list if x.startswith(f'{llm_model}_result_{few_shot_n}_{test_n}_{q_src_yn}')]\n",
    "#     opt_file = [x for x in opt_file if x.endswith(f'_{p_ver}.csv')]\n",
    "\n",
    "#     if len(opt_file)>0 : \n",
    "#         df = pd.DataFrame()\n",
    "\n",
    "#         for f in opt_file:\n",
    "#             tmp = pd.read_csv(f'./result/{f}', index_col =0)\n",
    "#             df = pd.concat([df, tmp], axis =0)\n",
    "        \n",
    "#         df['gold'] = df['answer_encode'].apply(lambda x : re.sub(r'[^0-9]', '', x))\n",
    "#         df['o_result'] = df['result'].apply(lambda x : re.sub(r'[^0-9]', '', x))\n",
    "#         df['equal_yn'] = np.where(df['gold']==df['o_result'], 1, 0)\n",
    "#         acc = (df['equal_yn'].sum()/df.shape[0])*100\n",
    "#         print(f'{llm_model}_result_{few_shot_n}_{test_n}_{q_src_yn} : ', acc)\n"
   ]
  },
  {
   "cell_type": "code",
   "execution_count": 6,
   "metadata": {},
   "outputs": [],
   "source": [
    "def calc_acc_condition(llm_model, few_shot_n, test_n, q_src_yn, p_ver):\n",
    "    opt_file = [x for x in file_list if x.startswith(f'{llm_model}_result_{few_shot_n}_{test_n}_{q_src_yn}')]\n",
    "    opt_file = [x for x in opt_file if x.endswith(f'_{p_ver}.csv')]\n",
    "\n",
    "    if len(opt_file)>0 : \n",
    "        df = pd.DataFrame()\n",
    "\n",
    "        for f in opt_file:\n",
    "            tmp = pd.read_csv(f'./result/{f}', index_col =0)\n",
    "            tmp['gold'] = tmp['answer_encode'].apply(lambda x : re.sub(r'[^0-9]', '', x))\n",
    "            tmp['o_result'] = tmp['result'].apply(lambda x : re.sub(r'[^0-9]', '', x))\n",
    "            tmp[['gold', 'o_result']] = tmp[['gold', 'o_result']].astype(int)\n",
    "            df_eval = tmp.groupby('id').mean('o_result').reset_index()\n",
    "            df_eval['o_result'] = df_eval['o_result'].round(0)\n",
    "            df = pd.concat([df, tmp], axis =0)\n",
    "            \n",
    "        df['equal_yn'] = np.where(df['gold']==df['o_result'], 1, 0)\n",
    "        acc = (df['equal_yn'].sum()/df.shape[0])*100            \n",
    "        print(f'{llm_model}_result_{few_shot_n}_{test_n}_{q_src_yn} : ', acc)\n"
   ]
  },
  {
   "cell_type": "code",
   "execution_count": 7,
   "metadata": {},
   "outputs": [
    {
     "name": "stdout",
     "output_type": "stream",
     "text": [
      "l_result_1_10_Y :  66.0\n",
      "l_result_2_10_Y :  56.00000000000001\n",
      "l_result_3_10_Y :  56.00000000000001\n",
      "l_result_1_10_N :  59.0\n",
      "l_result_2_10_N :  59.0\n",
      "l_result_3_10_N :  51.0\n"
     ]
    }
   ],
   "source": [
    "calc_acc_condition('c' , 2, 10, 'N', 'sys_prompt1')\n",
    "calc_acc_condition('c' , 2, 10, 'Y', 'sys_prompt1')\n",
    "calc_acc_condition('c' , 3, 10, 'N', 'sys_prompt1')\n",
    "calc_acc_condition('c' , 3, 10, 'Y', 'sys_prompt1')\n",
    "\n",
    "\n",
    "calc_acc_condition('l' , 1, 10, 'Y', 'sys_prompt1')\n",
    "calc_acc_condition('l' , 2, 10, 'Y', 'sys_prompt1')\n",
    "calc_acc_condition('l' , 3, 10, 'Y', 'sys_prompt1')\n",
    "calc_acc_condition('l' , 4, 10, 'Y', 'sys_prompt1')\n",
    "\n",
    "calc_acc_condition('l' , 1, 10, 'N', 'sys_prompt1')\n",
    "calc_acc_condition('l' , 2, 10, 'N', 'sys_prompt1')\n",
    "calc_acc_condition('l' , 3, 10, 'N', 'sys_prompt1')\n",
    "calc_acc_condition('l' , 4, 10, 'N', 'sys_prompt1')\n"
   ]
  },
  {
   "cell_type": "code",
   "execution_count": 8,
   "metadata": {},
   "outputs": [
    {
     "name": "stdout",
     "output_type": "stream",
     "text": [
      "l_result_1_10_Y :  60.0\n",
      "l_result_2_10_Y :  66.0\n",
      "l_result_3_10_Y :  69.0\n",
      "l_result_1_10_N :  64.0\n",
      "l_result_2_10_N :  63.0\n",
      "l_result_3_10_N :  64.0\n"
     ]
    }
   ],
   "source": [
    "calc_acc_condition('c' , 2, 10, 'N', 'sys_prompt2')\n",
    "calc_acc_condition('c' , 2, 10, 'Y', 'sys_prompt2')\n",
    "calc_acc_condition('c' , 3, 10, 'N', 'sys_prompt2')\n",
    "calc_acc_condition('c' , 3, 10, 'Y', 'sys_prompt2')\n",
    "\n",
    "calc_acc_condition('l' , 1, 10, 'Y', 'sys_prompt2')\n",
    "calc_acc_condition('l' , 2, 10, 'Y', 'sys_prompt2')\n",
    "calc_acc_condition('l' , 3, 10, 'Y', 'sys_prompt2')\n",
    "calc_acc_condition('l' , 4, 10, 'Y', 'sys_prompt2')\n",
    "\n",
    "\n",
    "calc_acc_condition('l' , 1, 10, 'N', 'sys_prompt2')\n",
    "calc_acc_condition('l' , 2, 10, 'N', 'sys_prompt2')\n",
    "calc_acc_condition('l' , 3, 10, 'N', 'sys_prompt2')\n",
    "calc_acc_condition('l' , 4, 10, 'N', 'sys_prompt2')\n"
   ]
  },
  {
   "cell_type": "code",
   "execution_count": null,
   "metadata": {},
   "outputs": [],
   "source": []
  },
  {
   "cell_type": "code",
   "execution_count": 9,
   "metadata": {},
   "outputs": [
    {
     "name": "stdout",
     "output_type": "stream",
     "text": [
      "l_result_1_10_Y :  64.0\n",
      "l_result_2_10_Y :  60.0\n",
      "l_result_3_10_Y :  64.0\n",
      "l_result_1_10_N :  60.0\n",
      "l_result_2_10_N :  60.0\n",
      "l_result_3_10_N :  63.0\n"
     ]
    }
   ],
   "source": [
    "calc_acc_condition('c' , 2, 10, 'N', 'sys_prompt3')\n",
    "calc_acc_condition('c' , 2, 10, 'Y', 'sys_prompt3')\n",
    "calc_acc_condition('c' , 3, 10, 'N', 'sys_prompt3')\n",
    "calc_acc_condition('c' , 3, 10, 'Y', 'sys_prompt3')\n",
    "\n",
    "calc_acc_condition('l' , 1, 10, 'Y', 'sys_prompt3')\n",
    "calc_acc_condition('l' , 2, 10, 'Y', 'sys_prompt3')\n",
    "calc_acc_condition('l' , 3, 10, 'Y', 'sys_prompt3')\n",
    "calc_acc_condition('l' , 4, 10, 'Y', 'sys_prompt3')\n",
    "\n",
    "\n",
    "calc_acc_condition('l' , 1, 10, 'N', 'sys_prompt3')\n",
    "calc_acc_condition('l' , 2, 10, 'N', 'sys_prompt3')\n",
    "calc_acc_condition('l' , 3, 10, 'N', 'sys_prompt3')\n",
    "calc_acc_condition('l' , 4, 10, 'N', 'sys_prompt3')\n"
   ]
  },
  {
   "cell_type": "code",
   "execution_count": 10,
   "metadata": {},
   "outputs": [
    {
     "name": "stdout",
     "output_type": "stream",
     "text": [
      "l_result_1_10_Y :  61.0\n",
      "l_result_2_10_Y :  65.0\n",
      "l_result_3_10_Y :  67.0\n",
      "l_result_1_10_N :  65.0\n",
      "l_result_2_10_N :  70.0\n",
      "l_result_3_10_N :  66.0\n"
     ]
    }
   ],
   "source": [
    "calc_acc_condition('c' , 2, 10, 'N', 'sys_prompt4')\n",
    "calc_acc_condition('c' , 2, 10, 'Y', 'sys_prompt4')\n",
    "calc_acc_condition('c' , 3, 10, 'N', 'sys_prompt4')\n",
    "calc_acc_condition('c' , 3, 10, 'Y', 'sys_prompt4')\n",
    "\n",
    "calc_acc_condition('l' , 1, 10, 'Y', 'sys_prompt4')\n",
    "calc_acc_condition('l' , 2, 10, 'Y', 'sys_prompt4')\n",
    "calc_acc_condition('l' , 3, 10, 'Y', 'sys_prompt4')\n",
    "calc_acc_condition('l' , 4, 10, 'Y', 'sys_prompt4')\n",
    "\n",
    "\n",
    "calc_acc_condition('l' , 1, 10, 'N', 'sys_prompt4')\n",
    "calc_acc_condition('l' , 2, 10, 'N', 'sys_prompt4')\n",
    "calc_acc_condition('l' , 3, 10, 'N', 'sys_prompt4')\n",
    "calc_acc_condition('l' , 4, 10, 'N', 'sys_prompt4')\n"
   ]
  },
  {
   "cell_type": "code",
   "execution_count": 23,
   "metadata": {},
   "outputs": [],
   "source": [
    "def sc_calc_acc_condition(llm_model, few_shot_n, test_n, q_src_yn, p_ver):\n",
    "    opt_file = [x for x in file_list if x.startswith(f'sc_{llm_model}_result_{few_shot_n}_{test_n}_{q_src_yn}')]\n",
    "    opt_file = [x for x in opt_file if x.endswith(f'_{p_ver}.csv')]\n",
    "    df = pd.DataFrame()\n",
    "    if len(opt_file)>0 : \n",
    "        print(opt_file)\n",
    "        for f in opt_file:\n",
    "            tmp = pd.read_csv(f'./result/{f}', index_col =0)\n",
    "            tmp['gold'] = tmp['answer_encode'].apply(lambda x : re.sub(r'[^0-9]', '', x))\n",
    "            tmp['o_result'] = tmp['result'].apply(lambda x : re.sub(r'[^0-9]', '', x))\n",
    "            tmp[['gold', 'o_result']] = tmp[['gold', 'o_result']].astype(int)\n",
    "            df_eval = tmp.groupby('id').mean('o_result').reset_index()\n",
    "            df_eval['o_result'] = df_eval['o_result'].round(0)\n",
    "            df_eval['equal_yn'] = np.where(df_eval['gold']==df_eval['o_result'], 1, 0)\n",
    "            acc = (df_eval['equal_yn'].sum()/df_eval.shape[0])*100  \n",
    "            # print(acc)\n",
    "            df = pd.concat([df, df_eval], axis =0)\n",
    "            \n",
    "        df['equal_yn'] = np.where(df['gold']==df['o_result'], 1, 0)\n",
    "        acc = (df['equal_yn'].sum()/df.shape[0])*100            \n",
    "        print(f'{llm_model}_result_{few_shot_n}_{test_n}_{q_src_yn} : ', acc)\n"
   ]
  },
  {
   "cell_type": "code",
   "execution_count": 24,
   "metadata": {},
   "outputs": [
    {
     "name": "stdout",
     "output_type": "stream",
     "text": [
      "['sc_l_result_1_10_Y_2_sys_prompt4.csv', 'sc_l_result_1_10_Y_3_sys_prompt4.csv', 'sc_l_result_1_10_Y_4_sys_prompt4.csv', 'sc_l_result_1_10_Y_0_sys_prompt4.csv', 'sc_l_result_1_10_Y_1_sys_prompt4.csv']\n",
      "l_result_1_10_Y :  66.0\n",
      "['sc_l_result_2_10_Y_16_sys_prompt4.csv', 'sc_l_result_2_10_Y_4_sys_prompt4.csv', 'sc_l_result_2_10_Y_6_sys_prompt4.csv', 'sc_l_result_2_10_Y_1_sys_prompt4.csv', 'sc_l_result_2_10_Y_2_sys_prompt4.csv', 'sc_l_result_2_10_Y_14_sys_prompt4.csv', 'sc_l_result_2_10_Y_17_sys_prompt4.csv', 'sc_l_result_2_10_Y_15_sys_prompt4.csv', 'sc_l_result_2_10_Y_3_sys_prompt4.csv', 'sc_l_result_2_10_Y_0_sys_prompt4.csv', 'sc_l_result_2_10_Y_7_sys_prompt4.csv', 'sc_l_result_2_10_Y_19_sys_prompt4.csv', 'sc_l_result_2_10_Y_5_sys_prompt4.csv', 'sc_l_result_2_10_Y_8_sys_prompt4.csv', 'sc_l_result_2_10_Y_13_sys_prompt4.csv', 'sc_l_result_2_10_Y_9_sys_prompt4.csv', 'sc_l_result_2_10_Y_11_sys_prompt4.csv', 'sc_l_result_2_10_Y_10_sys_prompt4.csv', 'sc_l_result_2_10_Y_18_sys_prompt4.csv', 'sc_l_result_2_10_Y_12_sys_prompt4.csv']\n",
      "l_result_2_10_Y :  73.0\n",
      "['sc_l_result_3_10_Y_1_sys_prompt4.csv', 'sc_l_result_3_10_Y_0_sys_prompt4.csv', 'sc_l_result_3_10_Y_3_sys_prompt4.csv', 'sc_l_result_3_10_Y_2_sys_prompt4.csv']\n",
      "l_result_3_10_Y :  67.5\n",
      "['sc_l_result_1_10_N_2_sys_prompt4.csv', 'sc_l_result_1_10_N_0_sys_prompt4.csv', 'sc_l_result_1_10_N_4_sys_prompt4.csv', 'sc_l_result_1_10_N_1_sys_prompt4.csv', 'sc_l_result_1_10_N_3_sys_prompt4.csv']\n",
      "l_result_1_10_N :  70.0\n",
      "['sc_l_result_2_10_N_3_sys_prompt4.csv', 'sc_l_result_2_10_N_1_sys_prompt4.csv', 'sc_l_result_2_10_N_2_sys_prompt4.csv', 'sc_l_result_2_10_N_0_sys_prompt4.csv']\n",
      "l_result_2_10_N :  62.5\n",
      "['sc_l_result_3_10_N_0_sys_prompt4.csv', 'sc_l_result_3_10_N_1_sys_prompt4.csv', 'sc_l_result_3_10_N_2_sys_prompt4.csv']\n",
      "l_result_3_10_N :  66.66666666666666\n"
     ]
    }
   ],
   "source": [
    "sc_calc_acc_condition('l' , 1, 10, 'Y', 'sys_prompt4')\n",
    "sc_calc_acc_condition('l' , 2, 10, 'Y', 'sys_prompt4') # temperature 0.2\n",
    "sc_calc_acc_condition('l' , 3, 10, 'Y', 'sys_prompt4')\n",
    "\n",
    "sc_calc_acc_condition('l' , 1, 10, 'N', 'sys_prompt4')\n",
    "sc_calc_acc_condition('l' , 2, 10, 'N', 'sys_prompt4')\n",
    "sc_calc_acc_condition('l' , 3, 10, 'N', 'sys_prompt4')"
   ]
  },
  {
   "cell_type": "code",
   "execution_count": 25,
   "metadata": {},
   "outputs": [
    {
     "name": "stdout",
     "output_type": "stream",
     "text": [
      "['sc_l_result_1_5_Y_5_sys_prompt4.csv', 'sc_l_result_1_5_Y_8_sys_prompt4.csv', 'sc_l_result_1_5_Y_9_sys_prompt4.csv', 'sc_l_result_1_5_Y_6_sys_prompt4.csv', 'sc_l_result_1_5_Y_4_sys_prompt4.csv', 'sc_l_result_1_5_Y_2_sys_prompt4.csv', 'sc_l_result_1_5_Y_7_sys_prompt4.csv', 'sc_l_result_1_5_Y_1_sys_prompt4.csv', 'sc_l_result_1_5_Y_0_sys_prompt4.csv', 'sc_l_result_1_5_Y_3_sys_prompt4.csv']\n",
      "l_result_1_5_Y :  72.0\n",
      "['sc_l_result_2_5_Y_5_sys_prompt4.csv', 'sc_l_result_2_5_Y_6_sys_prompt4.csv', 'sc_l_result_2_5_Y_3_sys_prompt4.csv', 'sc_l_result_2_5_Y_1_sys_prompt4.csv', 'sc_l_result_2_5_Y_4_sys_prompt4.csv', 'sc_l_result_2_5_Y_2_sys_prompt4.csv', 'sc_l_result_2_5_Y_0_sys_prompt4.csv']\n",
      "l_result_2_5_Y :  82.85714285714286\n",
      "['sc_l_result_3_5_Y_3_sys_prompt4.csv', 'sc_l_result_3_5_Y_6_sys_prompt4.csv', 'sc_l_result_3_5_Y_4_sys_prompt4.csv', 'sc_l_result_3_5_Y_5_sys_prompt4.csv', 'sc_l_result_3_5_Y_0_sys_prompt4.csv', 'sc_l_result_3_5_Y_2_sys_prompt4.csv', 'sc_l_result_3_5_Y_1_sys_prompt4.csv']\n",
      "l_result_3_5_Y :  80.0\n",
      "['sc_l_result_1_5_N_8_sys_prompt4.csv', 'sc_l_result_1_5_N_1_sys_prompt4.csv', 'sc_l_result_1_5_N_0_sys_prompt4.csv', 'sc_l_result_1_5_N_6_sys_prompt4.csv', 'sc_l_result_1_5_N_4_sys_prompt4.csv', 'sc_l_result_1_5_N_5_sys_prompt4.csv', 'sc_l_result_1_5_N_7_sys_prompt4.csv', 'sc_l_result_1_5_N_3_sys_prompt4.csv', 'sc_l_result_1_5_N_2_sys_prompt4.csv']\n",
      "l_result_1_5_N :  77.77777777777779\n",
      "['sc_l_result_2_5_N_0_sys_prompt4.csv', 'sc_l_result_2_5_N_3_sys_prompt4.csv', 'sc_l_result_2_5_N_6_sys_prompt4.csv', 'sc_l_result_2_5_N_4_sys_prompt4.csv', 'sc_l_result_2_5_N_5_sys_prompt4.csv', 'sc_l_result_2_5_N_2_sys_prompt4.csv', 'sc_l_result_2_5_N_1_sys_prompt4.csv']\n",
      "l_result_2_5_N :  80.0\n",
      "['sc_l_result_3_5_N_0_sys_prompt4.csv', 'sc_l_result_3_5_N_4_sys_prompt4.csv', 'sc_l_result_3_5_N_5_sys_prompt4.csv', 'sc_l_result_3_5_N_1_sys_prompt4.csv', 'sc_l_result_3_5_N_2_sys_prompt4.csv', 'sc_l_result_3_5_N_3_sys_prompt4.csv']\n",
      "l_result_3_5_N :  83.33333333333334\n"
     ]
    }
   ],
   "source": [
    "sc_calc_acc_condition('l' , 1, 5, 'Y', 'sys_prompt4')\n",
    "sc_calc_acc_condition('l' , 2, 5, 'Y', 'sys_prompt4')\n",
    "sc_calc_acc_condition('l' , 3, 5, 'Y', 'sys_prompt4')\n",
    "\n",
    "# sc_l_result_1_10_Y_0_sys_prompt4.csv\n",
    "# (f'./result/sc_{llm_model}_result_{few_shot_n}_{self.test_n}_{q_src_yn}_{self.version}_{self.p_ver}.csv')\n",
    "\n",
    "sc_calc_acc_condition('l' , 1, 5, 'N', 'sys_prompt4')\n",
    "sc_calc_acc_condition('l' , 2, 5, 'N', 'sys_prompt4')\n",
    "sc_calc_acc_condition('l' , 3, 5, 'N', 'sys_prompt4')\n"
   ]
  },
  {
   "cell_type": "code",
   "execution_count": 26,
   "metadata": {},
   "outputs": [
    {
     "name": "stdout",
     "output_type": "stream",
     "text": [
      "['sc_l_result_2_5_Y_2_sys_prompt5.csv', 'sc_l_result_2_5_Y_4_sys_prompt5.csv', 'sc_l_result_2_5_Y_3_sys_prompt5.csv', 'sc_l_result_2_5_Y_0_sys_prompt5.csv', 'sc_l_result_2_5_Y_1_sys_prompt5.csv']\n",
      "l_result_2_5_Y :  52.0\n",
      "['sc_l_result_2_5_N_0_sys_prompt5.csv', 'sc_l_result_2_5_N_4_sys_prompt5.csv', 'sc_l_result_2_5_N_3_sys_prompt5.csv', 'sc_l_result_2_5_N_2_sys_prompt5.csv', 'sc_l_result_2_5_N_1_sys_prompt5.csv']\n",
      "l_result_2_5_N :  48.0\n"
     ]
    }
   ],
   "source": [
    "\n",
    "sc_calc_acc_condition('l' , 2, 5, 'Y', 'sys_prompt5')\n",
    "sc_calc_acc_condition('l' , 2, 5, 'N', 'sys_prompt5')\n"
   ]
  },
  {
   "cell_type": "code",
   "execution_count": 27,
   "metadata": {},
   "outputs": [
    {
     "name": "stdout",
     "output_type": "stream",
     "text": [
      "['sc_c_result_2_10_Y_2_sys_prompt4.csv', 'sc_c_result_2_10_Y_7_sys_prompt4.csv', 'sc_c_result_2_10_Y_8_sys_prompt4.csv', 'sc_c_result_2_10_Y_4_sys_prompt4.csv', 'sc_c_result_2_10_Y_6_sys_prompt4.csv', 'sc_c_result_2_10_Y_9_sys_prompt4.csv', 'sc_c_result_2_10_Y_5_sys_prompt4.csv', 'sc_c_result_2_10_Y_3_sys_prompt4.csv', 'sc_c_result_2_10_Y_1_sys_prompt4.csv', 'sc_c_result_2_10_Y_0_sys_prompt4.csv']\n",
      "c_result_2_10_Y :  56.00000000000001\n"
     ]
    }
   ],
   "source": [
    "\n",
    "sc_calc_acc_condition('c' , 2, 10, 'Y', 'sys_prompt4')\n",
    "sc_calc_acc_condition('c' , 2, 10, 'N', 'sys_prompt4')\n"
   ]
  },
  {
   "cell_type": "code",
   "execution_count": 28,
   "metadata": {},
   "outputs": [
    {
     "name": "stdout",
     "output_type": "stream",
     "text": [
      "['sc_c_result_2_10_Y_4_sys_prompt7.csv', 'sc_c_result_2_10_Y_0_sys_prompt7.csv', 'sc_c_result_2_10_Y_3_sys_prompt7.csv', 'sc_c_result_2_10_Y_1_sys_prompt7.csv', 'sc_c_result_2_10_Y_5_sys_prompt7.csv', 'sc_c_result_2_10_Y_2_sys_prompt7.csv']\n",
      "c_result_2_10_Y :  56.666666666666664\n"
     ]
    }
   ],
   "source": [
    "sc_calc_acc_condition('c' , 2, 10, 'Y', 'sys_prompt7')\n",
    "sc_calc_acc_condition('c' , 2, 10, 'N', 'sys_prompt7')\n"
   ]
  },
  {
   "cell_type": "code",
   "execution_count": 29,
   "metadata": {},
   "outputs": [
    {
     "name": "stdout",
     "output_type": "stream",
     "text": [
      "['sc_l_result_2_10_Y_1_sys_prompt7.csv', 'sc_l_result_2_10_Y_6_sys_prompt7.csv', 'sc_l_result_2_10_Y_0_sys_prompt7.csv', 'sc_l_result_2_10_Y_7_sys_prompt7.csv', 'sc_l_result_2_10_Y_8_sys_prompt7.csv', 'sc_l_result_2_10_Y_5_sys_prompt7.csv', 'sc_l_result_2_10_Y_9_sys_prompt7.csv', 'sc_l_result_2_10_Y_2_sys_prompt7.csv', 'sc_l_result_2_10_Y_4_sys_prompt7.csv', 'sc_l_result_2_10_Y_3_sys_prompt7.csv']\n",
      "l_result_2_10_Y :  60.0\n"
     ]
    }
   ],
   "source": [
    "\n",
    "sc_calc_acc_condition('l' , 2, 10, 'Y', 'sys_prompt7')\n",
    "sc_calc_acc_condition('l' , 2, 10, 'N', 'sys_prompt7')\n"
   ]
  },
  {
   "cell_type": "code",
   "execution_count": 30,
   "metadata": {},
   "outputs": [
    {
     "name": "stdout",
     "output_type": "stream",
     "text": [
      "['sc_l_result_4_10_Y_1_sys_prompt7.csv', 'sc_l_result_4_10_Y_8_sys_prompt7.csv', 'sc_l_result_4_10_Y_9_sys_prompt7.csv', 'sc_l_result_4_10_Y_0_sys_prompt7.csv', 'sc_l_result_4_10_Y_6_sys_prompt7.csv', 'sc_l_result_4_10_Y_7_sys_prompt7.csv', 'sc_l_result_4_10_Y_3_sys_prompt7.csv', 'sc_l_result_4_10_Y_2_sys_prompt7.csv', 'sc_l_result_4_10_Y_5_sys_prompt7.csv', 'sc_l_result_4_10_Y_4_sys_prompt7.csv']\n",
      "l_result_4_10_Y :  69.0\n"
     ]
    }
   ],
   "source": [
    "\n",
    "sc_calc_acc_condition('l' , 4, 10, 'Y', 'sys_prompt7')\n",
    "sc_calc_acc_condition('l' , 4, 10, 'N', 'sys_prompt7')\n"
   ]
  },
  {
   "cell_type": "code",
   "execution_count": 31,
   "metadata": {},
   "outputs": [],
   "source": [
    "def sc_calc_acc_condition_with_temp(llm_model, few_shot_n, test_n, q_src_yn, p_ver, temp):\n",
    "    opt_file = [x for x in file_list if x.startswith(f'sc_{llm_model}_result_{few_shot_n}_{test_n}_{q_src_yn}')]\n",
    "    opt_file = [x for x in opt_file if x.endswith(f'_{p_ver}_{temp}.csv')]\n",
    "    df = pd.DataFrame()\n",
    "    if len(opt_file)>0 : \n",
    "        for f in opt_file:\n",
    "            print(f)\n",
    "            tmp = pd.read_csv(f'./result/{f}', index_col =0)\n",
    "            tmp['gold'] = tmp['answer_encode'].apply(lambda x : re.sub(r'[^0-9]', '', x))\n",
    "            tmp['o_result'] = tmp['result'].apply(lambda x : re.sub(r'[^0-9]', '', x))\n",
    "            tmp[['gold', 'o_result']] = tmp[['gold', 'o_result']].astype(int)\n",
    "            df_eval = tmp.groupby('id').mean('o_result').reset_index()\n",
    "            df_eval['o_result'] = df_eval['o_result'].round(0)\n",
    "            df_eval['equal_yn'] = np.where(df_eval['gold']==df_eval['o_result'], 1, 0)\n",
    "            acc = (df_eval['equal_yn'].sum()/df_eval.shape[0])*100  \n",
    "            print(acc)\n",
    "            df = pd.concat([df, df_eval], axis =0)\n",
    "            \n",
    "        df['equal_yn'] = np.where(df['gold']==df['o_result'], 1, 0)\n",
    "        acc = (df['equal_yn'].sum()/df.shape[0])*100            \n",
    "        print(f'{llm_model}_result_{few_shot_n}_{test_n}_{q_src_yn} : ', acc)\n"
   ]
  },
  {
   "cell_type": "code",
   "execution_count": 32,
   "metadata": {},
   "outputs": [
    {
     "name": "stdout",
     "output_type": "stream",
     "text": [
      "sc_l_result_2_10_Y_14_sys_prompt4_0.csv\n",
      "70.0\n",
      "sc_l_result_2_10_Y_6_sys_prompt4_0.csv\n",
      "60.0\n",
      "sc_l_result_2_10_Y_2_sys_prompt4_0.csv\n",
      "60.0\n",
      "sc_l_result_2_10_Y_17_sys_prompt4_0.csv\n",
      "50.0\n",
      "sc_l_result_2_10_Y_12_sys_prompt4_0.csv\n",
      "70.0\n",
      "sc_l_result_2_10_Y_5_sys_prompt4_0.csv\n",
      "60.0\n",
      "sc_l_result_2_10_Y_4_sys_prompt4_0.csv\n",
      "70.0\n",
      "sc_l_result_2_10_Y_0_sys_prompt4_0.csv\n",
      "90.0\n",
      "sc_l_result_2_10_Y_8_sys_prompt4_0.csv\n",
      "70.0\n",
      "sc_l_result_2_10_Y_10_sys_prompt4_0.csv\n",
      "60.0\n",
      "sc_l_result_2_10_Y_15_sys_prompt4_0.csv\n",
      "60.0\n",
      "sc_l_result_2_10_Y_9_sys_prompt4_0.csv\n",
      "70.0\n",
      "sc_l_result_2_10_Y_13_sys_prompt4_0.csv\n",
      "60.0\n",
      "sc_l_result_2_10_Y_3_sys_prompt4_0.csv\n",
      "50.0\n",
      "sc_l_result_2_10_Y_11_sys_prompt4_0.csv\n",
      "60.0\n",
      "sc_l_result_2_10_Y_19_sys_prompt4_0.csv\n",
      "70.0\n",
      "sc_l_result_2_10_Y_16_sys_prompt4_0.csv\n",
      "70.0\n",
      "sc_l_result_2_10_Y_7_sys_prompt4_0.csv\n",
      "80.0\n",
      "sc_l_result_2_10_Y_18_sys_prompt4_0.csv\n",
      "50.0\n",
      "sc_l_result_2_10_Y_1_sys_prompt4_0.csv\n",
      "60.0\n",
      "l_result_2_10_Y :  64.5\n"
     ]
    }
   ],
   "source": [
    "sc_calc_acc_condition_with_temp('l', 2, 10, 'Y','sys_prompt4', 0)"
   ]
  },
  {
   "cell_type": "code",
   "execution_count": 33,
   "metadata": {},
   "outputs": [
    {
     "name": "stdout",
     "output_type": "stream",
     "text": [
      "sc_l_result_2_10_Y_14_sys_prompt4_0.csv\n",
      "sc_l_result_2_10_Y_6_sys_prompt4_0.csv\n",
      "sc_l_result_2_10_Y_2_sys_prompt4_0.csv\n",
      "sc_l_result_2_10_Y_17_sys_prompt4_0.csv\n",
      "sc_l_result_2_10_Y_12_sys_prompt4_0.csv\n",
      "sc_l_result_2_10_Y_5_sys_prompt4_0.csv\n",
      "sc_l_result_2_10_Y_4_sys_prompt4_0.csv\n",
      "sc_l_result_2_10_Y_0_sys_prompt4_0.csv\n",
      "sc_l_result_2_10_Y_8_sys_prompt4_0.csv\n",
      "sc_l_result_2_10_Y_10_sys_prompt4_0.csv\n",
      "sc_l_result_2_10_Y_15_sys_prompt4_0.csv\n",
      "sc_l_result_2_10_Y_9_sys_prompt4_0.csv\n",
      "sc_l_result_2_10_Y_13_sys_prompt4_0.csv\n",
      "sc_l_result_2_10_Y_3_sys_prompt4_0.csv\n",
      "sc_l_result_2_10_Y_11_sys_prompt4_0.csv\n",
      "sc_l_result_2_10_Y_19_sys_prompt4_0.csv\n",
      "sc_l_result_2_10_Y_16_sys_prompt4_0.csv\n",
      "sc_l_result_2_10_Y_7_sys_prompt4_0.csv\n",
      "sc_l_result_2_10_Y_18_sys_prompt4_0.csv\n",
      "sc_l_result_2_10_Y_1_sys_prompt4_0.csv\n"
     ]
    }
   ],
   "source": [
    "llm_model, few_shot_n,test_n, q_src_yn, p_ver, temp = 'l',2, 10, 'Y','sys_prompt4', 0\n",
    "opt_file = [x for x in file_list if x.startswith(f'sc_{llm_model}_result_{few_shot_n}_{test_n}_{q_src_yn}')]\n",
    "opt_file = [x for x in opt_file if x.endswith(f'_{p_ver}_{temp}.csv')]\n",
    "df = pd.DataFrame()\n",
    "if len(opt_file)>0 : \n",
    "    for f in opt_file:\n",
    "        print(f)\n",
    "        tmp = pd.read_csv(f'./result/{f}', index_col =0)\n",
    "        tmp['gold'] = tmp['answer_encode'].apply(lambda x : re.sub(r'[^0-9]', '', x))\n",
    "        tmp['o_result'] = tmp['result'].apply(lambda x : re.sub(r'[^0-9]', '', x))\n",
    "        tmp[['gold', 'o_result']] = tmp[['gold', 'o_result']].astype(int)\n",
    "        tmp['equal_yn'] = np.where(tmp['gold']==tmp['o_result'], 1, 0)\n",
    "        acc = (tmp['equal_yn'].sum()/tmp.shape[0])*100  \n",
    "        df = pd.concat([df, tmp], axis =0)\n",
    "\n",
    "df.to_csv('youcandoit.csv')"
   ]
  },
  {
   "cell_type": "code",
   "execution_count": 34,
   "metadata": {},
   "outputs": [
    {
     "name": "stdout",
     "output_type": "stream",
     "text": [
      "sc_l_result_2_10_Y_3_sys_prompt4_0.5.csv\n",
      "40.0\n",
      "sc_l_result_2_10_Y_4_sys_prompt4_0.5.csv\n",
      "60.0\n",
      "sc_l_result_2_10_Y_2_sys_prompt4_0.5.csv\n",
      "70.0\n",
      "sc_l_result_2_10_Y_1_sys_prompt4_0.5.csv\n",
      "70.0\n",
      "sc_l_result_2_10_Y_0_sys_prompt4_0.5.csv\n",
      "50.0\n",
      "l_result_2_10_Y :  57.99999999999999\n"
     ]
    }
   ],
   "source": [
    "sc_calc_acc_condition_with_temp('l', 2, 10, 'Y','sys_prompt4', 0.5)"
   ]
  },
  {
   "cell_type": "code",
   "execution_count": null,
   "metadata": {},
   "outputs": [],
   "source": []
  }
 ],
 "metadata": {
  "kernelspec": {
   "display_name": "venv_stackoverflow_src",
   "language": "python",
   "name": "python3"
  },
  "language_info": {
   "codemirror_mode": {
    "name": "ipython",
    "version": 3
   },
   "file_extension": ".py",
   "mimetype": "text/x-python",
   "name": "python",
   "nbconvert_exporter": "python",
   "pygments_lexer": "ipython3",
   "version": "3.10.12"
  }
 },
 "nbformat": 4,
 "nbformat_minor": 2
}
