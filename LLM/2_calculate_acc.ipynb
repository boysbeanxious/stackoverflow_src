{
 "cells": [
  {
   "cell_type": "code",
   "execution_count": 1,
   "metadata": {},
   "outputs": [],
   "source": [
    "import sys, os\n",
    "p = os.path.abspath('..')\n",
    "# p = p+r'\\config'\n",
    "sys.path.insert(1, p)"
   ]
  },
  {
   "cell_type": "code",
   "execution_count": 2,
   "metadata": {},
   "outputs": [],
   "source": [
    "import pandas as pd\n",
    "import re\n",
    "import numpy as np\n",
    "from sklearn import metrics\n"
   ]
  },
  {
   "cell_type": "code",
   "execution_count": 3,
   "metadata": {},
   "outputs": [],
   "source": [
    "path = './result'\n",
    "file_list = os.listdir(path)"
   ]
  },
  {
   "cell_type": "code",
   "execution_count": 4,
   "metadata": {},
   "outputs": [],
   "source": [
    "def sc_calc_acc_condition_with_temp_with_sc(llm_model, few_shot_n, test_n, q_src_yn, ver, p_ver, sc_num, temp, excel_ver):\n",
    "    tmp = pd.DataFrame()\n",
    "    df_eval = pd.DataFrame()\n",
    "    acc_list = []\n",
    "    path = './result'\n",
    "    # ./result/sc_l_result_4_15_Y_30_sys_prompt8_0.01_ver1_0.csv\n",
    "    file_list = os.listdir(path)\n",
    "    opt_file = [x for x in file_list if x.startswith(f'sc_{llm_model}_result_{few_shot_n}_{test_n}_{q_src_yn}_{ver}_{p_ver}_{sc_num}_{temp}_{excel_ver}')]\n",
    "    opt_file = [x for x in opt_file if x.endswith(f'.csv')]\n",
    "\n",
    "    df = pd.DataFrame()\n",
    "\n",
    "    \n",
    "    if len(opt_file)>0 : \n",
    "        for f in opt_file:\n",
    "            tmp = pd.read_csv(f'{path}/{f}', index_col =0)\n",
    "            tmp = tmp.dropna()\n",
    "\n",
    "            tmp['gold'] = tmp['answer_encode'].apply(lambda x : re.sub(r'[^012]', '', x))\n",
    "            tmp['o_result'] = tmp['result'].apply(lambda x : re.sub(r'[^012]', '', x))\n",
    "            tmp = tmp[tmp['o_result'].isin(['1', '0', '2'])]\n",
    "\n",
    "            \n",
    "            gold_df = tmp[['id', 'gold']].drop_duplicates()\n",
    "            chk_cnt = tmp.groupby(['id', 'o_result']).count().reset_index()[['id', 'o_result', 'question']]\n",
    "            chk_cnt = chk_cnt.rename(columns = {'question': 'cnt'})\n",
    "            chk_cnt = chk_cnt[chk_cnt['cnt'] == sc_num]\n",
    "            chk_cnt = chk_cnt.sort_values(by = ['id', 'cnt'], ascending=[True, False]).groupby(['id']).head(1)\n",
    "            df_eval = pd.merge(gold_df, chk_cnt, on = ['id'])\n",
    "\n",
    "            df_eval['equal_yn'] = np.where(df_eval['gold']==df_eval['o_result'], 1, 0)\n",
    "            acc = (df_eval['equal_yn'].sum()/df_eval.shape[0])*100  \n",
    "            acc_list.append(acc)\n",
    "            df = pd.concat([df, df_eval], axis =0)\n",
    "            \n",
    "        df['equal_yn'] = np.where(df['gold']==df['o_result'], 1, 0)\n",
    "        y_true = df['o_result']\n",
    "        y_pred = df['gold']\n",
    "        print(metrics.classification_report(y_true, y_pred, digits=3))\n",
    "        \n",
    "        acc = (df['equal_yn'].sum()/df.shape[0])*100            \n",
    "        print(f'{llm_model}_result_{few_shot_n}_{test_n}_{q_src_yn} : ', acc)\n",
    "        return acc_list\n"
   ]
  },
  {
   "cell_type": "code",
   "execution_count": null,
   "metadata": {},
   "outputs": [],
   "source": [
    "# Process(target=task, args=('l', 1, 10, 'Y', 10, 'sys_prompt10', 3, 0.01, 'ver5'))\n",
    "# Process(target=task, args=('l', 2, 10, 'Y', 10, 'sys_prompt10', 3, 0.01, 'ver5'))\n",
    "# Process(target=task, args=('l', 4, 10, 'Y', 10, 'sys_prompt10', 5, 0.01, 'ver5'))"
   ]
  },
  {
   "cell_type": "code",
   "execution_count": 5,
   "metadata": {},
   "outputs": [
    {
     "name": "stdout",
     "output_type": "stream",
     "text": [
      "              precision    recall  f1-score   support\n",
      "\n",
      "           0      0.885     0.767     0.821        30\n",
      "           1      0.795     0.912     0.849        34\n",
      "           2      1.000     0.800     0.889         5\n",
      "\n",
      "    accuracy                          0.841        69\n",
      "   macro avg      0.893     0.826     0.853        69\n",
      "weighted avg      0.849     0.841     0.840        69\n",
      "\n",
      "l_result_1_10_Y :  84.05797101449275\n",
      "[np.float64(71.42857142857143), np.float64(50.0), np.float64(100.0), np.float64(88.88888888888889), np.float64(60.0), np.float64(100.0), np.float64(100.0), np.float64(88.88888888888889), np.float64(80.0), np.float64(87.5)]\n"
     ]
    }
   ],
   "source": [
    "list_ =         sc_calc_acc_condition_with_temp_with_sc('l', 1, 10, 'Y', 10, 'sys_prompt10', 3,  0.01, 'ver5')\n",
    "print(list_)"
   ]
  },
  {
   "cell_type": "code",
   "execution_count": 6,
   "metadata": {},
   "outputs": [
    {
     "name": "stdout",
     "output_type": "stream",
     "text": [
      "              precision    recall  f1-score   support\n",
      "\n",
      "           0      0.935     0.806     0.866        36\n",
      "           1      0.769     0.938     0.845        32\n",
      "           2      1.000     0.714     0.833         7\n",
      "\n",
      "    accuracy                          0.853        75\n",
      "   macro avg      0.902     0.819     0.848        75\n",
      "weighted avg      0.871     0.853     0.854        75\n",
      "\n",
      "l_result_2_10_Y :  85.33333333333334\n",
      "[np.float64(88.88888888888889), np.float64(100.0), np.float64(75.0), np.float64(85.71428571428571), np.float64(62.5), np.float64(100.0), np.float64(75.0), np.float64(100.0), np.float64(100.0), np.float64(71.42857142857143)]\n"
     ]
    }
   ],
   "source": [
    "list_ =         sc_calc_acc_condition_with_temp_with_sc('l', 2, 10, 'Y', 10, 'sys_prompt10', 3,  0.01, 'ver5')\n",
    "print(list_)"
   ]
  },
  {
   "cell_type": "code",
   "execution_count": 7,
   "metadata": {},
   "outputs": [
    {
     "name": "stdout",
     "output_type": "stream",
     "text": [
      "              precision    recall  f1-score   support\n",
      "\n",
      "           0      0.963     0.929     0.945        28\n",
      "           1      0.867     0.963     0.912        27\n",
      "           2      1.000     0.667     0.800         6\n",
      "\n",
      "    accuracy                          0.918        61\n",
      "   macro avg      0.943     0.853     0.886        61\n",
      "weighted avg      0.924     0.918     0.916        61\n",
      "\n",
      "l_result_4_10_Y :  91.80327868852459\n",
      "[np.float64(100.0), np.float64(100.0), np.float64(87.5), np.float64(85.71428571428571), np.float64(100.0), np.float64(100.0), np.float64(90.0), np.float64(80.0), np.float64(100.0), np.float64(66.66666666666666)]\n"
     ]
    }
   ],
   "source": [
    "list_ =         sc_calc_acc_condition_with_temp_with_sc('l', 4, 10, 'Y', 10, 'sys_prompt10', 5,  0.01, 'ver5')\n",
    "print(list_)"
   ]
  },
  {
   "cell_type": "code",
   "execution_count": 5,
   "metadata": {},
   "outputs": [
    {
     "name": "stdout",
     "output_type": "stream",
     "text": [
      "              precision    recall  f1-score   support\n",
      "\n",
      "           0      0.779     0.813     0.796       563\n",
      "           1      0.841     0.877     0.859      1111\n",
      "           2      0.962     0.714     0.820       280\n",
      "\n",
      "    accuracy                          0.835      1954\n",
      "   macro avg      0.861     0.801     0.825      1954\n",
      "weighted avg      0.840     0.835     0.835      1954\n",
      "\n",
      "l_result_4_30_Y :  83.52098259979529\n",
      "[np.float64(78.94736842105263), np.float64(84.0), np.float64(86.66666666666667), np.float64(90.0), np.float64(72.72727272727273), np.float64(81.25), np.float64(85.71428571428571), np.float64(86.66666666666667), np.float64(90.0), np.float64(83.33333333333334), np.float64(82.35294117647058), np.float64(90.0), np.float64(91.30434782608695), np.float64(68.42105263157895), np.float64(72.22222222222221), np.float64(83.33333333333334), np.float64(86.66666666666667), np.float64(100.0), np.float64(90.47619047619048), np.float64(80.0), np.float64(90.47619047619048), np.float64(77.27272727272727), np.float64(85.71428571428571), np.float64(84.61538461538461), np.float64(77.27272727272727), np.float64(91.66666666666666), np.float64(87.5), np.float64(83.33333333333334), np.float64(89.47368421052632), np.float64(85.71428571428571), np.float64(76.0), np.float64(87.5), np.float64(83.33333333333334), np.float64(90.0), np.float64(66.66666666666666), np.float64(88.88888888888889), np.float64(80.0), np.float64(100.0), np.float64(75.0), np.float64(76.47058823529412), np.float64(84.21052631578947), np.float64(89.47368421052632), np.float64(83.33333333333334), np.float64(88.23529411764706), np.float64(100.0), np.float64(80.0), np.float64(82.14285714285714), np.float64(94.11764705882352), np.float64(86.36363636363636), np.float64(88.88888888888889), np.float64(90.0), np.float64(86.66666666666667), np.float64(84.21052631578947), np.float64(87.5), np.float64(86.66666666666667), np.float64(80.0), np.float64(71.42857142857143), np.float64(86.20689655172413), np.float64(69.56521739130434), np.float64(80.0), np.float64(80.95238095238095), np.float64(86.36363636363636), np.float64(86.36363636363636), np.float64(94.44444444444444), np.float64(83.33333333333334), np.float64(86.95652173913044), np.float64(90.47619047619048), np.float64(78.94736842105263), np.float64(88.23529411764706), np.float64(80.0), np.float64(68.42105263157895), np.float64(90.0), np.float64(90.0), np.float64(75.0), np.float64(76.47058823529412), np.float64(88.88888888888889), np.float64(87.5), np.float64(83.33333333333334), np.float64(76.19047619047619), np.float64(80.0), np.float64(84.21052631578947), np.float64(82.6086956521739), np.float64(94.44444444444444), np.float64(87.5), np.float64(70.0), np.float64(66.66666666666666), np.float64(79.16666666666666), np.float64(95.23809523809523), np.float64(84.0), np.float64(83.33333333333334), np.float64(71.42857142857143), np.float64(94.73684210526315), np.float64(88.88888888888889), np.float64(76.47058823529412), np.float64(85.71428571428571), np.float64(80.95238095238095), np.float64(79.16666666666666), np.float64(73.91304347826086), np.float64(88.88888888888889), np.float64(68.18181818181817)]\n"
     ]
    }
   ],
   "source": [
    "# sc_calc_acc_condition_with_temp_with_sc('l', 4, 15, 'Y', 30, 'sys_prompt8', 5,  0.01, 'ver1')\n",
    "# # process3 = Process(target=task, args=('l', 4, 15, 'Y', 30, 'sys_prompt8', 3, 0.01, 'ver1'))\n",
    "list_ =         sc_calc_acc_condition_with_temp_with_sc('l', 4, 30, 'Y', 100, 'sys_prompt8', 5,  0.01, 'ver2')\n",
    "print(list_)\n",
    "# 그래프 그려서 넣어두기... 분포...."
   ]
  },
  {
   "cell_type": "code",
   "execution_count": 6,
   "metadata": {},
   "outputs": [
    {
     "name": "stdout",
     "output_type": "stream",
     "text": [
      "              precision    recall  f1-score   support\n",
      "\n",
      "           0      0.750     0.938     0.833        16\n",
      "           1      0.861     0.838     0.849        37\n",
      "           2      0.667     0.333     0.444         6\n",
      "\n",
      "    accuracy                          0.814        59\n",
      "   macro avg      0.759     0.703     0.709        59\n",
      "weighted avg      0.811     0.814     0.804        59\n",
      "\n",
      "l_result_4_10_Y :  81.35593220338984\n",
      "[np.float64(80.0), np.float64(66.66666666666666), np.float64(100.0), np.float64(66.66666666666666), np.float64(71.42857142857143), np.float64(100.0), np.float64(100.0), np.float64(71.42857142857143), np.float64(75.0), np.float64(83.33333333333334)]\n"
     ]
    }
   ],
   "source": [
    "# (target=task, args=('l', 4, 30, 'Y', 100, 'sys_prompt9', 5, 0.01, 'ver3'))\n",
    "list_ =       sc_calc_acc_condition_with_temp_with_sc('l', 4, 10, 'Y', 10, 'sys_prompt10', 5,  0.01, 'ver4')\n",
    "print(list_)"
   ]
  },
  {
   "cell_type": "code",
   "execution_count": 7,
   "metadata": {},
   "outputs": [
    {
     "name": "stdout",
     "output_type": "stream",
     "text": [
      "              precision    recall  f1-score   support\n",
      "\n",
      "           0      0.947     0.857     0.900        21\n",
      "           1      0.795     0.969     0.873        32\n",
      "           2      1.000     0.500     0.667        10\n",
      "\n",
      "    accuracy                          0.857        63\n",
      "   macro avg      0.914     0.775     0.813        63\n",
      "weighted avg      0.878     0.857     0.849        63\n",
      "\n",
      "l_result_4_10_Y :  85.71428571428571\n",
      "[np.float64(100.0), np.float64(100.0), np.float64(60.0), np.float64(100.0), np.float64(83.33333333333334), np.float64(75.0), np.float64(60.0), np.float64(85.71428571428571), np.float64(71.42857142857143), np.float64(100.0)]\n"
     ]
    }
   ],
   "source": [
    "# (target=task, args=('l', 4, 30, 'Y', 100, 'sys_prompt9', 5, 0.01, 'ver3'))\n",
    "list_ =     sc_calc_acc_condition_with_temp_with_sc('l', 4, 10, 'Y', 10, 'sys_prompt10', 5,  0.01, 'ver1')\n",
    "print(list_)"
   ]
  },
  {
   "cell_type": "code",
   "execution_count": 8,
   "metadata": {},
   "outputs": [
    {
     "name": "stdout",
     "output_type": "stream",
     "text": [
      "              precision    recall  f1-score   support\n",
      "\n",
      "           0      0.963     0.929     0.945        28\n",
      "           1      0.867     0.963     0.912        27\n",
      "           2      1.000     0.667     0.800         6\n",
      "\n",
      "    accuracy                          0.918        61\n",
      "   macro avg      0.943     0.853     0.886        61\n",
      "weighted avg      0.924     0.918     0.916        61\n",
      "\n",
      "l_result_4_10_Y :  91.80327868852459\n",
      "[np.float64(100.0), np.float64(100.0), np.float64(87.5), np.float64(85.71428571428571), np.float64(100.0), np.float64(100.0), np.float64(90.0), np.float64(80.0), np.float64(100.0), np.float64(66.66666666666666)]\n",
      "90.98809523809524\n"
     ]
    }
   ],
   "source": [
    "# (target=task, args=('l', 4, 30, 'Y', 100, 'sys_prompt9', 5, 0.01, 'ver3'))\n",
    "list_ =     sc_calc_acc_condition_with_temp_with_sc('l', 4, 10, 'Y', 10, 'sys_prompt10', 5,  0.01, 'ver5')\n",
    "print(list_)\n",
    "print(np.mean(list_))"
   ]
  },
  {
   "cell_type": "code",
   "execution_count": 9,
   "metadata": {},
   "outputs": [
    {
     "name": "stdout",
     "output_type": "stream",
     "text": [
      "              precision    recall  f1-score   support\n",
      "\n",
      "           0      0.947     0.857     0.900        21\n",
      "           1      0.795     0.969     0.873        32\n",
      "           2      1.000     0.500     0.667        10\n",
      "\n",
      "    accuracy                          0.857        63\n",
      "   macro avg      0.914     0.775     0.813        63\n",
      "weighted avg      0.878     0.857     0.849        63\n",
      "\n",
      "l_result_4_10_Y :  85.71428571428571\n",
      "[np.float64(100.0), np.float64(100.0), np.float64(60.0), np.float64(100.0), np.float64(83.33333333333334), np.float64(75.0), np.float64(60.0), np.float64(85.71428571428571), np.float64(71.42857142857143), np.float64(100.0)]\n"
     ]
    }
   ],
   "source": [
    "# (target=task, args=('l', 4, 30, 'Y', 100, 'sys_prompt9', 5, 0.01, 'ver3'))\n",
    "list_ =    sc_calc_acc_condition_with_temp_with_sc('l', 4, 10, 'Y', 10, 'sys_prompt10', 5,  0.01, 'ver1') \n",
    "print(list_)"
   ]
  },
  {
   "cell_type": "code",
   "execution_count": 10,
   "metadata": {},
   "outputs": [
    {
     "data": {
      "text/plain": [
       "np.float64(83.54761904761905)"
      ]
     },
     "execution_count": 10,
     "metadata": {},
     "output_type": "execute_result"
    }
   ],
   "source": [
    "np.mean(list_)"
   ]
  },
  {
   "cell_type": "code",
   "execution_count": 11,
   "metadata": {},
   "outputs": [
    {
     "data": {
      "image/png": "[encoded data removed]",
      "text/plain": [
       "<Figure size 640x480 with 1 Axes>"
      ]
     },
     "metadata": {},
     "output_type": "display_data"
    }
   ],
   "source": [
    "import matplotlib.pyplot as plt\n",
    "\n",
    "fig, ax = plt.subplots()\n",
    "\n",
    "ax.hist(list_\n",
    "    ,  color = 'lightgray'\n",
    "    # ,  edgecolor = 'black'\n",
    "      ) # hist type\n",
    "\n",
    "ax.set_title(\"Histogram of Acc Test\", # add title\n",
    "             fontsize = 12.5,\n",
    "             weight = 'bold',\n",
    "             pad = 10,\n",
    "             loc = 'center')\n",
    "ax.set_xlabel(\"Accuracy\", # add x-axis label\n",
    "              fontsize = 12.5)\n",
    "ax.set_ylabel(\"# of test\", # add y-axis label\n",
    "              fontsize = 12.5)\n",
    "\n",
    "ax.axvline(np.mean(list_), # add vertical line\n",
    "           color = 'blue',\n",
    "           linestyle = '--',\n",
    "           linewidth = 1.5)\n",
    "fig.text(0.35, 0.82, color = 'blue', fontsize = 10,  s='Mean: ' + str(round(np.mean(list_), 2))) #\n",
    "\n",
    "\n",
    "plt.show();\n"
   ]
  },
  {
   "cell_type": "code",
   "execution_count": null,
   "metadata": {},
   "outputs": [],
   "source": []
  },
  {
   "cell_type": "code",
   "execution_count": null,
   "metadata": {},
   "outputs": [],
   "source": []
  },
  {
   "cell_type": "code",
   "execution_count": 12,
   "metadata": {},
   "outputs": [],
   "source": [
    "# def calc_acc_condition(llm_model, few_shot_n, test_n, q_src_yn, p_ver):\n",
    "#     opt_file = [x for x in file_list if x.startswith(f'{llm_model}_result_{few_shot_n}_{test_n}_{q_src_yn}')]\n",
    "#     opt_file = [x for x in opt_file if x.endswith(f'_{p_ver}.csv')]\n",
    "\n",
    "#     if len(opt_file)>0 : \n",
    "#         df = pd.DataFrame()\n",
    "\n",
    "#         for f in opt_file:\n",
    "#             tmp = pd.read_csv(f'./result/{f}', index_col =0)\n",
    "#             df = pd.concat([df, tmp], axis =0)\n",
    "        \n",
    "#         df['gold'] = df['answer_encode'].apply(lambda x : re.sub(r'[^0-9]', '', x))\n",
    "#         df['o_result'] = df['result'].apply(lambda x : re.sub(r'[^0-9]', '', x))\n",
    "#         df['equal_yn'] = np.where(df['gold']==df['o_result'], 1, 0)\n",
    "#         acc = (df['equal_yn'].sum()/df.shape[0])*100\n",
    "#         print(f'{llm_model}_result_{few_shot_n}_{test_n}_{q_src_yn} : ', acc)\n"
   ]
  },
  {
   "cell_type": "code",
   "execution_count": 13,
   "metadata": {},
   "outputs": [],
   "source": [
    "def calc_acc_condition(llm_model, few_shot_n, test_n, q_src_yn, p_ver):\n",
    "    opt_file = [x for x in file_list if x.startswith(f'{llm_model}_result_{few_shot_n}_{test_n}_{q_src_yn}')]\n",
    "    opt_file = [x for x in opt_file if x.endswith(f'_{p_ver}.csv')]\n",
    "\n",
    "    if len(opt_file)>0 : \n",
    "        df = pd.DataFrame()\n",
    "\n",
    "        for f in opt_file:\n",
    "            tmp = pd.read_csv(f'./result/{f}', index_col =0)\n",
    "            tmp['gold'] = tmp['answer_encode'].apply(lambda x : re.sub(r'[^0-9]', '', x))\n",
    "            tmp['o_result'] = tmp['result'].apply(lambda x : re.sub(r'[^0-9]', '', x))\n",
    "            tmp[['gold', 'o_result']] = tmp[['gold', 'o_result']].astype(int)\n",
    "            df_eval = tmp.groupby('id').mean('o_result').reset_index()\n",
    "            df_eval['o_result'] = df_eval['o_result'].round(0)\n",
    "            df = pd.concat([df, tmp], axis =0)\n",
    "            \n",
    "        df['equal_yn'] = np.where(df['gold']==df['o_result'], 1, 0)\n",
    "        acc = (df['equal_yn'].sum()/df.shape[0])*100            \n",
    "        print(f'{llm_model}_result_{few_shot_n}_{test_n}_{q_src_yn} : ', acc)\n"
   ]
  },
  {
   "cell_type": "code",
   "execution_count": 14,
   "metadata": {},
   "outputs": [
    {
     "name": "stdout",
     "output_type": "stream",
     "text": [
      "l_result_1_10_Y :  66.0\n",
      "l_result_2_10_Y :  56.00000000000001\n",
      "l_result_3_10_Y :  56.00000000000001\n",
      "l_result_1_10_N :  59.0\n",
      "l_result_2_10_N :  59.0\n",
      "l_result_3_10_N :  51.0\n"
     ]
    }
   ],
   "source": [
    "calc_acc_condition('c' , 2, 10, 'N', 'sys_prompt1')\n",
    "calc_acc_condition('c' , 2, 10, 'Y', 'sys_prompt1')\n",
    "calc_acc_condition('c' , 3, 10, 'N', 'sys_prompt1')\n",
    "calc_acc_condition('c' , 3, 10, 'Y', 'sys_prompt1')\n",
    "\n",
    "\n",
    "calc_acc_condition('l' , 1, 10, 'Y', 'sys_prompt1')\n",
    "calc_acc_condition('l' , 2, 10, 'Y', 'sys_prompt1')\n",
    "calc_acc_condition('l' , 3, 10, 'Y', 'sys_prompt1')\n",
    "calc_acc_condition('l' , 4, 10, 'Y', 'sys_prompt1')\n",
    "\n",
    "calc_acc_condition('l' , 1, 10, 'N', 'sys_prompt1')\n",
    "calc_acc_condition('l' , 2, 10, 'N', 'sys_prompt1')\n",
    "calc_acc_condition('l' , 3, 10, 'N', 'sys_prompt1')\n",
    "calc_acc_condition('l' , 4, 10, 'N', 'sys_prompt1')\n"
   ]
  },
  {
   "cell_type": "code",
   "execution_count": 15,
   "metadata": {},
   "outputs": [
    {
     "name": "stdout",
     "output_type": "stream",
     "text": [
      "l_result_1_10_Y :  60.0\n",
      "l_result_2_10_Y :  68.0\n",
      "l_result_3_10_Y :  69.0\n",
      "l_result_1_10_N :  64.0\n",
      "l_result_2_10_N :  63.0\n",
      "l_result_3_10_N :  64.0\n"
     ]
    }
   ],
   "source": [
    "calc_acc_condition('c' , 2, 10, 'N', 'sys_prompt2')\n",
    "calc_acc_condition('c' , 2, 10, 'Y', 'sys_prompt2')\n",
    "calc_acc_condition('c' , 3, 10, 'N', 'sys_prompt2')\n",
    "calc_acc_condition('c' , 3, 10, 'Y', 'sys_prompt2')\n",
    "\n",
    "calc_acc_condition('l' , 1, 10, 'Y', 'sys_prompt2')\n",
    "calc_acc_condition('l' , 2, 10, 'Y', 'sys_prompt2')\n",
    "calc_acc_condition('l' , 3, 10, 'Y', 'sys_prompt2')\n",
    "calc_acc_condition('l' , 4, 10, 'Y', 'sys_prompt2')\n",
    "\n",
    "\n",
    "calc_acc_condition('l' , 1, 10, 'N', 'sys_prompt2')\n",
    "calc_acc_condition('l' , 2, 10, 'N', 'sys_prompt2')\n",
    "calc_acc_condition('l' , 3, 10, 'N', 'sys_prompt2')\n",
    "calc_acc_condition('l' , 4, 10, 'N', 'sys_prompt2')\n"
   ]
  },
  {
   "cell_type": "code",
   "execution_count": null,
   "metadata": {},
   "outputs": [],
   "source": []
  },
  {
   "cell_type": "code",
   "execution_count": 16,
   "metadata": {},
   "outputs": [
    {
     "name": "stdout",
     "output_type": "stream",
     "text": [
      "l_result_1_10_Y :  64.0\n",
      "l_result_2_10_Y :  60.0\n",
      "l_result_3_10_Y :  64.0\n",
      "l_result_1_10_N :  60.0\n",
      "l_result_2_10_N :  60.0\n",
      "l_result_3_10_N :  63.0\n"
     ]
    }
   ],
   "source": [
    "calc_acc_condition('c' , 2, 10, 'N', 'sys_prompt3')\n",
    "calc_acc_condition('c' , 2, 10, 'Y', 'sys_prompt3')\n",
    "calc_acc_condition('c' , 3, 10, 'N', 'sys_prompt3')\n",
    "calc_acc_condition('c' , 3, 10, 'Y', 'sys_prompt3')\n",
    "\n",
    "calc_acc_condition('l' , 1, 10, 'Y', 'sys_prompt3')\n",
    "calc_acc_condition('l' , 2, 10, 'Y', 'sys_prompt3')\n",
    "calc_acc_condition('l' , 3, 10, 'Y', 'sys_prompt3')\n",
    "calc_acc_condition('l' , 4, 10, 'Y', 'sys_prompt3')\n",
    "\n",
    "\n",
    "calc_acc_condition('l' , 1, 10, 'N', 'sys_prompt3')\n",
    "calc_acc_condition('l' , 2, 10, 'N', 'sys_prompt3')\n",
    "calc_acc_condition('l' , 3, 10, 'N', 'sys_prompt3')\n",
    "calc_acc_condition('l' , 4, 10, 'N', 'sys_prompt3')\n"
   ]
  },
  {
   "cell_type": "code",
   "execution_count": 17,
   "metadata": {},
   "outputs": [
    {
     "name": "stdout",
     "output_type": "stream",
     "text": [
      "l_result_1_10_Y :  61.0\n",
      "l_result_2_10_Y :  65.0\n",
      "l_result_3_10_Y :  67.0\n",
      "l_result_1_10_N :  65.0\n",
      "l_result_2_10_N :  70.0\n",
      "l_result_3_10_N :  66.0\n"
     ]
    }
   ],
   "source": [
    "calc_acc_condition('c' , 2, 10, 'N', 'sys_prompt4')\n",
    "calc_acc_condition('c' , 2, 10, 'Y', 'sys_prompt4')\n",
    "calc_acc_condition('c' , 3, 10, 'N', 'sys_prompt4')\n",
    "calc_acc_condition('c' , 3, 10, 'Y', 'sys_prompt4')\n",
    "\n",
    "calc_acc_condition('l' , 1, 10, 'Y', 'sys_prompt4')\n",
    "calc_acc_condition('l' , 2, 10, 'Y', 'sys_prompt4')\n",
    "calc_acc_condition('l' , 3, 10, 'Y', 'sys_prompt4')\n",
    "calc_acc_condition('l' , 4, 10, 'Y', 'sys_prompt4')\n",
    "\n",
    "\n",
    "calc_acc_condition('l' , 1, 10, 'N', 'sys_prompt4')\n",
    "calc_acc_condition('l' , 2, 10, 'N', 'sys_prompt4')\n",
    "calc_acc_condition('l' , 3, 10, 'N', 'sys_prompt4')\n",
    "calc_acc_condition('l' , 4, 10, 'N', 'sys_prompt4')\n"
   ]
  },
  {
   "cell_type": "code",
   "execution_count": 18,
   "metadata": {},
   "outputs": [],
   "source": [
    "def sc_calc_acc_condition(llm_model, few_shot_n, test_n, q_src_yn, p_ver):\n",
    "    opt_file = [x for x in file_list if x.startswith(f'sc_{llm_model}_result_{few_shot_n}_{test_n}_{q_src_yn}')]\n",
    "    opt_file = [x for x in opt_file if x.endswith(f'_{p_ver}.csv')]\n",
    "    df = pd.DataFrame()\n",
    "    if len(opt_file)>0 : \n",
    "        print(opt_file)\n",
    "        for f in opt_file:\n",
    "            tmp = pd.read_csv(f'./result/{f}', index_col =0)\n",
    "            tmp['gold'] = tmp['answer_encode'].apply(lambda x : re.sub(r'[^0-9]', '', x))\n",
    "            tmp['o_result'] = tmp['result'].apply(lambda x : re.sub(r'[^0-9]', '', x))\n",
    "            tmp[['gold', 'o_result']] = tmp[['gold', 'o_result']].astype(int)\n",
    "            df_eval = tmp.groupby('id').mean('o_result').reset_index()\n",
    "            df_eval['o_result'] = df_eval['o_result'].round(0)\n",
    "            df_eval['equal_yn'] = np.where(df_eval['gold']==df_eval['o_result'], 1, 0)\n",
    "            acc = (df_eval['equal_yn'].sum()/df_eval.shape[0])*100  \n",
    "            # print(acc)\n",
    "            df = pd.concat([df, df_eval], axis =0)\n",
    "            \n",
    "        df['equal_yn'] = np.where(df['gold']==df['o_result'], 1, 0)\n",
    "        acc = (df['equal_yn'].sum()/df.shape[0])*100            \n",
    "        print(f'{llm_model}_result_{few_shot_n}_{test_n}_{q_src_yn} : ', acc)\n"
   ]
  },
  {
   "cell_type": "code",
   "execution_count": 19,
   "metadata": {},
   "outputs": [
    {
     "name": "stdout",
     "output_type": "stream",
     "text": [
      "['sc_l_result_1_10_Y_2_sys_prompt4.csv', 'sc_l_result_1_10_Y_3_sys_prompt4.csv', 'sc_l_result_1_10_Y_4_sys_prompt4.csv', 'sc_l_result_1_10_Y_0_sys_prompt4.csv', 'sc_l_result_1_10_Y_1_sys_prompt4.csv']\n",
      "l_result_1_10_Y :  66.0\n",
      "['sc_l_result_2_10_Y_16_sys_prompt4.csv', 'sc_l_result_2_10_Y_4_sys_prompt4.csv', 'sc_l_result_2_10_Y_6_sys_prompt4.csv', 'sc_l_result_2_10_Y_1_sys_prompt4.csv', 'sc_l_result_2_10_Y_2_sys_prompt4.csv', 'sc_l_result_2_10_Y_14_sys_prompt4.csv', 'sc_l_result_2_10_Y_17_sys_prompt4.csv', 'sc_l_result_2_10_Y_15_sys_prompt4.csv', 'sc_l_result_2_10_Y_3_sys_prompt4.csv', 'sc_l_result_2_10_Y_0_sys_prompt4.csv', 'sc_l_result_2_10_Y_7_sys_prompt4.csv', 'sc_l_result_2_10_Y_19_sys_prompt4.csv', 'sc_l_result_2_10_Y_5_sys_prompt4.csv', 'sc_l_result_2_10_Y_8_sys_prompt4.csv', 'sc_l_result_2_10_Y_13_sys_prompt4.csv', 'sc_l_result_2_10_Y_9_sys_prompt4.csv', 'sc_l_result_2_10_Y_11_sys_prompt4.csv', 'sc_l_result_2_10_Y_10_sys_prompt4.csv', 'sc_l_result_2_10_Y_18_sys_prompt4.csv', 'sc_l_result_2_10_Y_12_sys_prompt4.csv']\n",
      "l_result_2_10_Y :  73.0\n",
      "['sc_l_result_3_10_Y_1_sys_prompt4.csv', 'sc_l_result_3_10_Y_0_sys_prompt4.csv', 'sc_l_result_3_10_Y_3_sys_prompt4.csv', 'sc_l_result_3_10_Y_2_sys_prompt4.csv']\n",
      "l_result_3_10_Y :  67.5\n",
      "['sc_l_result_1_10_N_2_sys_prompt4.csv', 'sc_l_result_1_10_N_0_sys_prompt4.csv', 'sc_l_result_1_10_N_4_sys_prompt4.csv', 'sc_l_result_1_10_N_1_sys_prompt4.csv', 'sc_l_result_1_10_N_3_sys_prompt4.csv']\n",
      "l_result_1_10_N :  70.0\n",
      "['sc_l_result_2_10_N_3_sys_prompt4.csv', 'sc_l_result_2_10_N_1_sys_prompt4.csv', 'sc_l_result_2_10_N_2_sys_prompt4.csv', 'sc_l_result_2_10_N_0_sys_prompt4.csv']\n",
      "l_result_2_10_N :  62.5\n",
      "['sc_l_result_3_10_N_0_sys_prompt4.csv', 'sc_l_result_3_10_N_1_sys_prompt4.csv', 'sc_l_result_3_10_N_2_sys_prompt4.csv']\n",
      "l_result_3_10_N :  66.66666666666666\n"
     ]
    }
   ],
   "source": [
    "sc_calc_acc_condition('l' , 1, 10, 'Y', 'sys_prompt4')\n",
    "sc_calc_acc_condition('l' , 2, 10, 'Y', 'sys_prompt4') # temperature 0.2\n",
    "sc_calc_acc_condition('l' , 3, 10, 'Y', 'sys_prompt4')\n",
    "\n",
    "sc_calc_acc_condition('l' , 1, 10, 'N', 'sys_prompt4')\n",
    "sc_calc_acc_condition('l' , 2, 10, 'N', 'sys_prompt4')\n",
    "sc_calc_acc_condition('l' , 3, 10, 'N', 'sys_prompt4')"
   ]
  },
  {
   "cell_type": "code",
   "execution_count": 20,
   "metadata": {},
   "outputs": [
    {
     "name": "stdout",
     "output_type": "stream",
     "text": [
      "['sc_l_result_1_5_Y_5_sys_prompt4.csv', 'sc_l_result_1_5_Y_8_sys_prompt4.csv', 'sc_l_result_1_5_Y_9_sys_prompt4.csv', 'sc_l_result_1_5_Y_6_sys_prompt4.csv', 'sc_l_result_1_5_Y_4_sys_prompt4.csv', 'sc_l_result_1_5_Y_2_sys_prompt4.csv', 'sc_l_result_1_5_Y_7_sys_prompt4.csv', 'sc_l_result_1_5_Y_1_sys_prompt4.csv', 'sc_l_result_1_5_Y_0_sys_prompt4.csv', 'sc_l_result_1_5_Y_3_sys_prompt4.csv']\n",
      "l_result_1_5_Y :  72.0\n",
      "['sc_l_result_2_5_Y_5_sys_prompt4.csv', 'sc_l_result_2_5_Y_6_sys_prompt4.csv', 'sc_l_result_2_5_Y_3_sys_prompt4.csv', 'sc_l_result_2_5_Y_1_sys_prompt4.csv', 'sc_l_result_2_5_Y_4_sys_prompt4.csv', 'sc_l_result_2_5_Y_2_sys_prompt4.csv', 'sc_l_result_2_5_Y_0_sys_prompt4.csv']\n",
      "l_result_2_5_Y :  82.85714285714286\n",
      "['sc_l_result_3_5_Y_3_sys_prompt4.csv', 'sc_l_result_3_5_Y_6_sys_prompt4.csv', 'sc_l_result_3_5_Y_4_sys_prompt4.csv', 'sc_l_result_3_5_Y_5_sys_prompt4.csv', 'sc_l_result_3_5_Y_0_sys_prompt4.csv', 'sc_l_result_3_5_Y_2_sys_prompt4.csv', 'sc_l_result_3_5_Y_1_sys_prompt4.csv']\n",
      "l_result_3_5_Y :  80.0\n",
      "['sc_l_result_1_5_N_8_sys_prompt4.csv', 'sc_l_result_1_5_N_1_sys_prompt4.csv', 'sc_l_result_1_5_N_0_sys_prompt4.csv', 'sc_l_result_1_5_N_6_sys_prompt4.csv', 'sc_l_result_1_5_N_4_sys_prompt4.csv', 'sc_l_result_1_5_N_5_sys_prompt4.csv', 'sc_l_result_1_5_N_7_sys_prompt4.csv', 'sc_l_result_1_5_N_3_sys_prompt4.csv', 'sc_l_result_1_5_N_2_sys_prompt4.csv']\n",
      "l_result_1_5_N :  77.77777777777779\n",
      "['sc_l_result_2_5_N_0_sys_prompt4.csv', 'sc_l_result_2_5_N_3_sys_prompt4.csv', 'sc_l_result_2_5_N_6_sys_prompt4.csv', 'sc_l_result_2_5_N_4_sys_prompt4.csv', 'sc_l_result_2_5_N_5_sys_prompt4.csv', 'sc_l_result_2_5_N_2_sys_prompt4.csv', 'sc_l_result_2_5_N_1_sys_prompt4.csv']\n",
      "l_result_2_5_N :  80.0\n",
      "['sc_l_result_3_5_N_0_sys_prompt4.csv', 'sc_l_result_3_5_N_4_sys_prompt4.csv', 'sc_l_result_3_5_N_5_sys_prompt4.csv', 'sc_l_result_3_5_N_1_sys_prompt4.csv', 'sc_l_result_3_5_N_2_sys_prompt4.csv', 'sc_l_result_3_5_N_3_sys_prompt4.csv']\n",
      "l_result_3_5_N :  83.33333333333334\n"
     ]
    }
   ],
   "source": [
    "sc_calc_acc_condition('l' , 1, 5, 'Y', 'sys_prompt4')\n",
    "sc_calc_acc_condition('l' , 2, 5, 'Y', 'sys_prompt4')\n",
    "sc_calc_acc_condition('l' , 3, 5, 'Y', 'sys_prompt4')\n",
    "\n",
    "# sc_l_result_1_10_Y_0_sys_prompt4.csv\n",
    "# (f'./result/sc_{llm_model}_result_{few_shot_n}_{self.test_n}_{q_src_yn}_{self.version}_{self.p_ver}.csv')\n",
    "\n",
    "sc_calc_acc_condition('l' , 1, 5, 'N', 'sys_prompt4')\n",
    "sc_calc_acc_condition('l' , 2, 5, 'N', 'sys_prompt4')\n",
    "sc_calc_acc_condition('l' , 3, 5, 'N', 'sys_prompt4')\n"
   ]
  },
  {
   "cell_type": "code",
   "execution_count": 21,
   "metadata": {},
   "outputs": [
    {
     "name": "stdout",
     "output_type": "stream",
     "text": [
      "['sc_l_result_2_5_Y_2_sys_prompt5.csv', 'sc_l_result_2_5_Y_4_sys_prompt5.csv', 'sc_l_result_2_5_Y_3_sys_prompt5.csv', 'sc_l_result_2_5_Y_0_sys_prompt5.csv', 'sc_l_result_2_5_Y_1_sys_prompt5.csv']\n",
      "l_result_2_5_Y :  52.0\n",
      "['sc_l_result_2_5_N_0_sys_prompt5.csv', 'sc_l_result_2_5_N_4_sys_prompt5.csv', 'sc_l_result_2_5_N_3_sys_prompt5.csv', 'sc_l_result_2_5_N_2_sys_prompt5.csv', 'sc_l_result_2_5_N_1_sys_prompt5.csv']\n",
      "l_result_2_5_N :  48.0\n"
     ]
    }
   ],
   "source": [
    "\n",
    "sc_calc_acc_condition('l' , 2, 5, 'Y', 'sys_prompt5')\n",
    "sc_calc_acc_condition('l' , 2, 5, 'N', 'sys_prompt5')\n"
   ]
  },
  {
   "cell_type": "code",
   "execution_count": 22,
   "metadata": {},
   "outputs": [
    {
     "name": "stdout",
     "output_type": "stream",
     "text": [
      "['sc_c_result_2_10_Y_2_sys_prompt4.csv', 'sc_c_result_2_10_Y_7_sys_prompt4.csv', 'sc_c_result_2_10_Y_8_sys_prompt4.csv', 'sc_c_result_2_10_Y_4_sys_prompt4.csv', 'sc_c_result_2_10_Y_6_sys_prompt4.csv', 'sc_c_result_2_10_Y_9_sys_prompt4.csv', 'sc_c_result_2_10_Y_5_sys_prompt4.csv', 'sc_c_result_2_10_Y_3_sys_prompt4.csv', 'sc_c_result_2_10_Y_1_sys_prompt4.csv', 'sc_c_result_2_10_Y_0_sys_prompt4.csv']\n",
      "c_result_2_10_Y :  56.00000000000001\n"
     ]
    }
   ],
   "source": [
    "\n",
    "sc_calc_acc_condition('c' , 2, 10, 'Y', 'sys_prompt4')\n",
    "sc_calc_acc_condition('c' , 2, 10, 'N', 'sys_prompt4')\n"
   ]
  },
  {
   "cell_type": "code",
   "execution_count": 23,
   "metadata": {},
   "outputs": [
    {
     "name": "stdout",
     "output_type": "stream",
     "text": [
      "['sc_c_result_2_10_Y_4_sys_prompt7.csv', 'sc_c_result_2_10_Y_0_sys_prompt7.csv', 'sc_c_result_2_10_Y_3_sys_prompt7.csv', 'sc_c_result_2_10_Y_1_sys_prompt7.csv', 'sc_c_result_2_10_Y_5_sys_prompt7.csv', 'sc_c_result_2_10_Y_2_sys_prompt7.csv']\n",
      "c_result_2_10_Y :  56.666666666666664\n"
     ]
    }
   ],
   "source": [
    "sc_calc_acc_condition('c' , 2, 10, 'Y', 'sys_prompt7')\n",
    "sc_calc_acc_condition('c' , 2, 10, 'N', 'sys_prompt7')\n"
   ]
  },
  {
   "cell_type": "code",
   "execution_count": 24,
   "metadata": {},
   "outputs": [
    {
     "name": "stdout",
     "output_type": "stream",
     "text": [
      "['sc_l_result_2_10_Y_1_sys_prompt7.csv', 'sc_l_result_2_10_Y_6_sys_prompt7.csv', 'sc_l_result_2_10_Y_0_sys_prompt7.csv', 'sc_l_result_2_10_Y_7_sys_prompt7.csv', 'sc_l_result_2_10_Y_8_sys_prompt7.csv', 'sc_l_result_2_10_Y_5_sys_prompt7.csv', 'sc_l_result_2_10_Y_9_sys_prompt7.csv', 'sc_l_result_2_10_Y_2_sys_prompt7.csv', 'sc_l_result_2_10_Y_4_sys_prompt7.csv', 'sc_l_result_2_10_Y_3_sys_prompt7.csv']\n",
      "l_result_2_10_Y :  60.0\n"
     ]
    }
   ],
   "source": [
    "\n",
    "sc_calc_acc_condition('l' , 2, 10, 'Y', 'sys_prompt7')\n",
    "sc_calc_acc_condition('l' , 2, 10, 'N', 'sys_prompt7')\n"
   ]
  },
  {
   "cell_type": "code",
   "execution_count": 25,
   "metadata": {},
   "outputs": [
    {
     "name": "stdout",
     "output_type": "stream",
     "text": [
      "['sc_l_result_4_10_Y_1_sys_prompt7.csv', 'sc_l_result_4_10_Y_8_sys_prompt7.csv', 'sc_l_result_4_10_Y_9_sys_prompt7.csv', 'sc_l_result_4_10_Y_0_sys_prompt7.csv', 'sc_l_result_4_10_Y_6_sys_prompt7.csv', 'sc_l_result_4_10_Y_7_sys_prompt7.csv', 'sc_l_result_4_10_Y_3_sys_prompt7.csv', 'sc_l_result_4_10_Y_2_sys_prompt7.csv', 'sc_l_result_4_10_Y_5_sys_prompt7.csv', 'sc_l_result_4_10_Y_4_sys_prompt7.csv']\n",
      "l_result_4_10_Y :  69.0\n"
     ]
    }
   ],
   "source": [
    "\n",
    "sc_calc_acc_condition('l' , 4, 10, 'Y', 'sys_prompt7')\n",
    "sc_calc_acc_condition('l' , 4, 10, 'N', 'sys_prompt7')\n"
   ]
  },
  {
   "cell_type": "code",
   "execution_count": 26,
   "metadata": {},
   "outputs": [],
   "source": [
    "def sc_calc_acc_condition_with_temp(llm_model, few_shot_n, test_n, q_src_yn, p_ver, temp):\n",
    "    opt_file = [x for x in file_list if x.startswith(f'sc_{llm_model}_result_{few_shot_n}_{test_n}_{q_src_yn}')]\n",
    "    opt_file = [x for x in opt_file if x.endswith(f'_{p_ver}_{temp}.csv')]\n",
    "    df = pd.DataFrame()\n",
    "    if len(opt_file)>0 : \n",
    "        for f in opt_file:\n",
    "            print(f)\n",
    "            tmp = pd.read_csv(f'./result/{f}', index_col =0)\n",
    "            tmp['gold'] = tmp['answer_encode'].apply(lambda x : re.sub(r'[^0-9]', '', x))\n",
    "            tmp['o_result'] = tmp['result'].apply(lambda x : re.sub(r'[^0-9]', '', x))\n",
    "            tmp[['gold', 'o_result']] = tmp[['gold', 'o_result']].astype(int)\n",
    "            df_eval = tmp.groupby('id').mean('o_result').reset_index()\n",
    "            df_eval['o_result'] = df_eval['o_result'].round(0)\n",
    "            df_eval['equal_yn'] = np.where(df_eval['gold']==df_eval['o_result'], 1, 0)\n",
    "            acc = (df_eval['equal_yn'].sum()/df_eval.shape[0])*100  \n",
    "            print(acc)\n",
    "            df = pd.concat([df, df_eval], axis =0)\n",
    "            \n",
    "        df['equal_yn'] = np.where(df['gold']==df['o_result'], 1, 0)\n",
    "        acc = (df['equal_yn'].sum()/df.shape[0])*100            \n",
    "        print(f'{llm_model}_result_{few_shot_n}_{test_n}_{q_src_yn} : ', acc)\n"
   ]
  },
  {
   "cell_type": "code",
   "execution_count": 27,
   "metadata": {},
   "outputs": [
    {
     "name": "stdout",
     "output_type": "stream",
     "text": [
      "sc_l_result_2_10_Y_14_sys_prompt4_0.csv\n",
      "70.0\n",
      "sc_l_result_2_10_Y_6_sys_prompt4_0.csv\n",
      "60.0\n",
      "sc_l_result_2_10_Y_2_sys_prompt4_0.csv\n",
      "60.0\n",
      "sc_l_result_2_10_Y_17_sys_prompt4_0.csv\n",
      "50.0\n",
      "sc_l_result_2_10_Y_12_sys_prompt4_0.csv\n",
      "70.0\n",
      "sc_l_result_2_10_Y_5_sys_prompt4_0.csv\n",
      "60.0\n",
      "sc_l_result_2_10_Y_4_sys_prompt4_0.csv\n",
      "70.0\n",
      "sc_l_result_2_10_Y_0_sys_prompt4_0.csv\n",
      "90.0\n",
      "sc_l_result_2_10_Y_8_sys_prompt4_0.csv\n",
      "70.0\n",
      "sc_l_result_2_10_Y_10_sys_prompt4_0.csv\n",
      "60.0\n",
      "sc_l_result_2_10_Y_15_sys_prompt4_0.csv\n",
      "60.0\n",
      "sc_l_result_2_10_Y_9_sys_prompt4_0.csv\n",
      "70.0\n",
      "sc_l_result_2_10_Y_13_sys_prompt4_0.csv\n",
      "60.0\n",
      "sc_l_result_2_10_Y_3_sys_prompt4_0.csv\n",
      "50.0\n",
      "sc_l_result_2_10_Y_11_sys_prompt4_0.csv\n",
      "60.0\n",
      "sc_l_result_2_10_Y_19_sys_prompt4_0.csv\n",
      "70.0\n",
      "sc_l_result_2_10_Y_16_sys_prompt4_0.csv\n",
      "70.0\n",
      "sc_l_result_2_10_Y_7_sys_prompt4_0.csv\n",
      "80.0\n",
      "sc_l_result_2_10_Y_18_sys_prompt4_0.csv\n",
      "50.0\n",
      "sc_l_result_2_10_Y_1_sys_prompt4_0.csv\n",
      "60.0\n",
      "l_result_2_10_Y :  64.5\n"
     ]
    }
   ],
   "source": [
    "sc_calc_acc_condition_with_temp('l', 2, 10, 'Y','sys_prompt4', 0)"
   ]
  },
  {
   "cell_type": "code",
   "execution_count": 28,
   "metadata": {},
   "outputs": [
    {
     "name": "stdout",
     "output_type": "stream",
     "text": [
      "sc_l_result_2_10_Y_14_sys_prompt4_0.csv\n",
      "sc_l_result_2_10_Y_6_sys_prompt4_0.csv\n",
      "sc_l_result_2_10_Y_2_sys_prompt4_0.csv\n",
      "sc_l_result_2_10_Y_17_sys_prompt4_0.csv\n",
      "sc_l_result_2_10_Y_12_sys_prompt4_0.csv\n",
      "sc_l_result_2_10_Y_5_sys_prompt4_0.csv\n",
      "sc_l_result_2_10_Y_4_sys_prompt4_0.csv\n",
      "sc_l_result_2_10_Y_0_sys_prompt4_0.csv\n",
      "sc_l_result_2_10_Y_8_sys_prompt4_0.csv\n",
      "sc_l_result_2_10_Y_10_sys_prompt4_0.csv\n",
      "sc_l_result_2_10_Y_15_sys_prompt4_0.csv\n",
      "sc_l_result_2_10_Y_9_sys_prompt4_0.csv\n",
      "sc_l_result_2_10_Y_13_sys_prompt4_0.csv\n",
      "sc_l_result_2_10_Y_3_sys_prompt4_0.csv\n",
      "sc_l_result_2_10_Y_11_sys_prompt4_0.csv\n",
      "sc_l_result_2_10_Y_19_sys_prompt4_0.csv\n",
      "sc_l_result_2_10_Y_16_sys_prompt4_0.csv\n",
      "sc_l_result_2_10_Y_7_sys_prompt4_0.csv\n",
      "sc_l_result_2_10_Y_18_sys_prompt4_0.csv\n",
      "sc_l_result_2_10_Y_1_sys_prompt4_0.csv\n"
     ]
    }
   ],
   "source": [
    "llm_model, few_shot_n,test_n, q_src_yn, p_ver, temp = 'l',2, 10, 'Y','sys_prompt4', 0\n",
    "opt_file = [x for x in file_list if x.startswith(f'sc_{llm_model}_result_{few_shot_n}_{test_n}_{q_src_yn}')]\n",
    "opt_file = [x for x in opt_file if x.endswith(f'_{p_ver}_{temp}.csv')]\n",
    "df = pd.DataFrame()\n",
    "if len(opt_file)>0 : \n",
    "    for f in opt_file:\n",
    "        print(f)\n",
    "        tmp = pd.read_csv(f'./result/{f}', index_col =0)\n",
    "        tmp['gold'] = tmp['answer_encode'].apply(lambda x : re.sub(r'[^0-9]', '', x))\n",
    "        tmp['o_result'] = tmp['result'].apply(lambda x : re.sub(r'[^0-9]', '', x))\n",
    "        tmp[['gold', 'o_result']] = tmp[['gold', 'o_result']].astype(int)\n",
    "        tmp['equal_yn'] = np.where(tmp['gold']==tmp['o_result'], 1, 0)\n",
    "        acc = (tmp['equal_yn'].sum()/tmp.shape[0])*100  \n",
    "        df = pd.concat([df, tmp], axis =0)\n",
    "\n",
    "df.to_csv('youcandoit.csv')"
   ]
  },
  {
   "cell_type": "code",
   "execution_count": 29,
   "metadata": {},
   "outputs": [
    {
     "name": "stdout",
     "output_type": "stream",
     "text": [
      "sc_l_result_2_10_Y_3_sys_prompt4_0.5.csv\n",
      "40.0\n",
      "sc_l_result_2_10_Y_4_sys_prompt4_0.5.csv\n",
      "60.0\n",
      "sc_l_result_2_10_Y_2_sys_prompt4_0.5.csv\n",
      "70.0\n",
      "sc_l_result_2_10_Y_1_sys_prompt4_0.5.csv\n",
      "70.0\n",
      "sc_l_result_2_10_Y_0_sys_prompt4_0.5.csv\n",
      "50.0\n",
      "l_result_2_10_Y :  57.99999999999999\n"
     ]
    }
   ],
   "source": [
    "sc_calc_acc_condition_with_temp('l', 2, 10, 'Y','sys_prompt4', 0.5)"
   ]
  },
  {
   "cell_type": "code",
   "execution_count": null,
   "metadata": {},
   "outputs": [],
   "source": []
  }
 ],
 "metadata": {
  "kernelspec": {
   "display_name": "venv_stackoverflow_src",
   "language": "python",
   "name": "python3"
  },
  "language_info": {
   "codemirror_mode": {
    "name": "ipython",
    "version": 3
   },
   "file_extension": ".py",
   "mimetype": "text/x-python",
   "name": "python",
   "nbconvert_exporter": "python",
   "pygments_lexer": "ipython3",
   "version": "3.10.12"
  }
 },
 "nbformat": 4,
 "nbformat_minor": 2
}
