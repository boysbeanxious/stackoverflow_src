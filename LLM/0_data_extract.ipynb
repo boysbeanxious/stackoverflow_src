{
 "cells": [
  {
   "cell_type": "code",
   "execution_count": 1,
   "metadata": {},
   "outputs": [],
   "source": [
    "import sys, os\n",
    "p = os.path.abspath('..')\n",
    "# p = p+r'\\config'\n",
    "sys.path.insert(1, p)"
   ]
  },
  {
   "cell_type": "code",
   "execution_count": 2,
   "metadata": {},
   "outputs": [],
   "source": [
    "import psycopg2\n",
    "import pandas as pd\n",
    "import numpy as np\n",
    "import config.config as conf\n",
    "import pickle\n",
    "import lib.preprocess.preprocess as pp\n",
    "import lib.preprocess.SectionExtractor as se"
   ]
  },
  {
   "cell_type": "code",
   "execution_count": 3,
   "metadata": {},
   "outputs": [],
   "source": [
    "htmlp = pp.HTMLParser()\n",
    "codep = pp.CodeSectionParser()\n",
    "ts = se.SectionExtractor()"
   ]
  },
  {
   "cell_type": "code",
   "execution_count": 4,
   "metadata": {},
   "outputs": [],
   "source": [
    "df_one = pd.read_csv('../../data/part_one_annotation_50_input.csv')\n",
    "df_two = pd.read_csv('../../data/part_two_annotation_50_input.csv')"
   ]
  },
  {
   "cell_type": "code",
   "execution_count": 5,
   "metadata": {},
   "outputs": [
    {
     "data": {
      "text/html": [
       "<div>\n",
       "<style scoped>\n",
       "    .dataframe tbody tr th:only-of-type {\n",
       "        vertical-align: middle;\n",
       "    }\n",
       "\n",
       "    .dataframe tbody tr th {\n",
       "        vertical-align: top;\n",
       "    }\n",
       "\n",
       "    .dataframe thead th {\n",
       "        text-align: right;\n",
       "    }\n",
       "</style>\n",
       "<table border=\"1\" class=\"dataframe\">\n",
       "  <thead>\n",
       "    <tr style=\"text-align: right;\">\n",
       "      <th></th>\n",
       "      <th>id</th>\n",
       "      <th>link</th>\n",
       "      <th>Q_difficulty</th>\n",
       "      <th>A_difficulty</th>\n",
       "    </tr>\n",
       "  </thead>\n",
       "  <tbody>\n",
       "    <tr>\n",
       "      <th>0</th>\n",
       "      <td>77293473</td>\n",
       "      <td>https://stackoverflow.com/questions/77293473</td>\n",
       "      <td>Basic</td>\n",
       "      <td>Basic</td>\n",
       "    </tr>\n",
       "    <tr>\n",
       "      <th>1</th>\n",
       "      <td>77404924</td>\n",
       "      <td>https://stackoverflow.com/questions/77404924</td>\n",
       "      <td>Basic</td>\n",
       "      <td>Basic</td>\n",
       "    </tr>\n",
       "    <tr>\n",
       "      <th>2</th>\n",
       "      <td>77249095</td>\n",
       "      <td>https://stackoverflow.com/questions/77249095</td>\n",
       "      <td>Basic</td>\n",
       "      <td>Basic</td>\n",
       "    </tr>\n",
       "    <tr>\n",
       "      <th>3</th>\n",
       "      <td>77076663</td>\n",
       "      <td>https://stackoverflow.com/questions/77076663</td>\n",
       "      <td>Advanced</td>\n",
       "      <td>Advanced</td>\n",
       "    </tr>\n",
       "    <tr>\n",
       "      <th>4</th>\n",
       "      <td>77019129</td>\n",
       "      <td>https://stackoverflow.com/questions/77019129</td>\n",
       "      <td>Intermediate</td>\n",
       "      <td>Intermediate</td>\n",
       "    </tr>\n",
       "    <tr>\n",
       "      <th>5</th>\n",
       "      <td>76992629</td>\n",
       "      <td>https://stackoverflow.com/questions/76992629</td>\n",
       "      <td>Intermediate</td>\n",
       "      <td>Advanced</td>\n",
       "    </tr>\n",
       "    <tr>\n",
       "      <th>6</th>\n",
       "      <td>77370805</td>\n",
       "      <td>https://stackoverflow.com/questions/77370805</td>\n",
       "      <td>Intermediate</td>\n",
       "      <td>Intermediate</td>\n",
       "    </tr>\n",
       "    <tr>\n",
       "      <th>7</th>\n",
       "      <td>76784524</td>\n",
       "      <td>https://stackoverflow.com/questions/76784524</td>\n",
       "      <td>Basic</td>\n",
       "      <td>Basic</td>\n",
       "    </tr>\n",
       "    <tr>\n",
       "      <th>8</th>\n",
       "      <td>76608783</td>\n",
       "      <td>https://stackoverflow.com/questions/76608783</td>\n",
       "      <td>Intermediate</td>\n",
       "      <td>Basic</td>\n",
       "    </tr>\n",
       "    <tr>\n",
       "      <th>9</th>\n",
       "      <td>76697269</td>\n",
       "      <td>https://stackoverflow.com/questions/76697269</td>\n",
       "      <td>Intermediate</td>\n",
       "      <td>Intermediate</td>\n",
       "    </tr>\n",
       "  </tbody>\n",
       "</table>\n",
       "</div>"
      ],
      "text/plain": [
       "         id                                          link  Q_difficulty  \\\n",
       "0  77293473  https://stackoverflow.com/questions/77293473         Basic   \n",
       "1  77404924  https://stackoverflow.com/questions/77404924         Basic   \n",
       "2  77249095  https://stackoverflow.com/questions/77249095         Basic   \n",
       "3  77076663  https://stackoverflow.com/questions/77076663      Advanced   \n",
       "4  77019129  https://stackoverflow.com/questions/77019129  Intermediate   \n",
       "5  76992629  https://stackoverflow.com/questions/76992629  Intermediate   \n",
       "6  77370805  https://stackoverflow.com/questions/77370805  Intermediate   \n",
       "7  76784524  https://stackoverflow.com/questions/76784524         Basic   \n",
       "8  76608783  https://stackoverflow.com/questions/76608783  Intermediate   \n",
       "9  76697269  https://stackoverflow.com/questions/76697269  Intermediate   \n",
       "\n",
       "   A_difficulty  \n",
       "0         Basic  \n",
       "1         Basic  \n",
       "2         Basic  \n",
       "3      Advanced  \n",
       "4  Intermediate  \n",
       "5      Advanced  \n",
       "6  Intermediate  \n",
       "7         Basic  \n",
       "8         Basic  \n",
       "9  Intermediate  "
      ]
     },
     "execution_count": 5,
     "metadata": {},
     "output_type": "execute_result"
    }
   ],
   "source": [
    "df_one.head(10)"
   ]
  },
  {
   "cell_type": "code",
   "execution_count": 6,
   "metadata": {},
   "outputs": [],
   "source": [
    "df_one = df_one[~(df_one['Q_difficulty']=='-') & ~(df_one['A_difficulty']=='-') ].reset_index(drop=True)\n",
    "df_two = df_two[~(df_two['Q_difficulty']=='-') & ~(df_two['A_difficulty']=='-') ].reset_index(drop=True)"
   ]
  },
  {
   "cell_type": "code",
   "execution_count": 7,
   "metadata": {},
   "outputs": [],
   "source": [
    "df = pd.concat([df_one, df_two ], axis = 0)"
   ]
  },
  {
   "cell_type": "code",
   "execution_count": 8,
   "metadata": {},
   "outputs": [
    {
     "data": {
      "text/html": [
       "<div>\n",
       "<style scoped>\n",
       "    .dataframe tbody tr th:only-of-type {\n",
       "        vertical-align: middle;\n",
       "    }\n",
       "\n",
       "    .dataframe tbody tr th {\n",
       "        vertical-align: top;\n",
       "    }\n",
       "\n",
       "    .dataframe thead th {\n",
       "        text-align: right;\n",
       "    }\n",
       "</style>\n",
       "<table border=\"1\" class=\"dataframe\">\n",
       "  <thead>\n",
       "    <tr style=\"text-align: right;\">\n",
       "      <th></th>\n",
       "      <th>id</th>\n",
       "      <th>link</th>\n",
       "      <th>Q_difficulty</th>\n",
       "      <th>A_difficulty</th>\n",
       "    </tr>\n",
       "  </thead>\n",
       "  <tbody>\n",
       "    <tr>\n",
       "      <th>0</th>\n",
       "      <td>77293473</td>\n",
       "      <td>https://stackoverflow.com/questions/77293473</td>\n",
       "      <td>Basic</td>\n",
       "      <td>Basic</td>\n",
       "    </tr>\n",
       "    <tr>\n",
       "      <th>1</th>\n",
       "      <td>77404924</td>\n",
       "      <td>https://stackoverflow.com/questions/77404924</td>\n",
       "      <td>Basic</td>\n",
       "      <td>Basic</td>\n",
       "    </tr>\n",
       "    <tr>\n",
       "      <th>2</th>\n",
       "      <td>77249095</td>\n",
       "      <td>https://stackoverflow.com/questions/77249095</td>\n",
       "      <td>Basic</td>\n",
       "      <td>Basic</td>\n",
       "    </tr>\n",
       "    <tr>\n",
       "      <th>3</th>\n",
       "      <td>77076663</td>\n",
       "      <td>https://stackoverflow.com/questions/77076663</td>\n",
       "      <td>Advanced</td>\n",
       "      <td>Advanced</td>\n",
       "    </tr>\n",
       "    <tr>\n",
       "      <th>4</th>\n",
       "      <td>77019129</td>\n",
       "      <td>https://stackoverflow.com/questions/77019129</td>\n",
       "      <td>Intermediate</td>\n",
       "      <td>Intermediate</td>\n",
       "    </tr>\n",
       "  </tbody>\n",
       "</table>\n",
       "</div>"
      ],
      "text/plain": [
       "         id                                          link  Q_difficulty  \\\n",
       "0  77293473  https://stackoverflow.com/questions/77293473         Basic   \n",
       "1  77404924  https://stackoverflow.com/questions/77404924         Basic   \n",
       "2  77249095  https://stackoverflow.com/questions/77249095         Basic   \n",
       "3  77076663  https://stackoverflow.com/questions/77076663      Advanced   \n",
       "4  77019129  https://stackoverflow.com/questions/77019129  Intermediate   \n",
       "\n",
       "   A_difficulty  \n",
       "0         Basic  \n",
       "1         Basic  \n",
       "2         Basic  \n",
       "3      Advanced  \n",
       "4  Intermediate  "
      ]
     },
     "execution_count": 8,
     "metadata": {},
     "output_type": "execute_result"
    }
   ],
   "source": [
    "df.head()"
   ]
  },
  {
   "cell_type": "code",
   "execution_count": 9,
   "metadata": {},
   "outputs": [],
   "source": [
    "# 'id', 'link', 'Q_Difficulty_class', 'Q_General_rule_set',\n",
    "#        'Q_Granular_breakdown'"
   ]
  },
  {
   "cell_type": "code",
   "execution_count": 10,
   "metadata": {},
   "outputs": [],
   "source": [
    "q_df = df[['id', 'link', 'Q_difficulty']]\n",
    "a_df = df[['id', 'link', 'A_difficulty']]"
   ]
  },
  {
   "cell_type": "code",
   "execution_count": 11,
   "metadata": {},
   "outputs": [
    {
     "data": {
      "text/html": [
       "<div>\n",
       "<style scoped>\n",
       "    .dataframe tbody tr th:only-of-type {\n",
       "        vertical-align: middle;\n",
       "    }\n",
       "\n",
       "    .dataframe tbody tr th {\n",
       "        vertical-align: top;\n",
       "    }\n",
       "\n",
       "    .dataframe thead th {\n",
       "        text-align: right;\n",
       "    }\n",
       "</style>\n",
       "<table border=\"1\" class=\"dataframe\">\n",
       "  <thead>\n",
       "    <tr style=\"text-align: right;\">\n",
       "      <th></th>\n",
       "      <th>id</th>\n",
       "      <th>link</th>\n",
       "      <th>Q_difficulty</th>\n",
       "    </tr>\n",
       "  </thead>\n",
       "  <tbody>\n",
       "    <tr>\n",
       "      <th>0</th>\n",
       "      <td>77293473</td>\n",
       "      <td>https://stackoverflow.com/questions/77293473</td>\n",
       "      <td>Basic</td>\n",
       "    </tr>\n",
       "    <tr>\n",
       "      <th>1</th>\n",
       "      <td>77404924</td>\n",
       "      <td>https://stackoverflow.com/questions/77404924</td>\n",
       "      <td>Basic</td>\n",
       "    </tr>\n",
       "    <tr>\n",
       "      <th>2</th>\n",
       "      <td>77249095</td>\n",
       "      <td>https://stackoverflow.com/questions/77249095</td>\n",
       "      <td>Basic</td>\n",
       "    </tr>\n",
       "    <tr>\n",
       "      <th>3</th>\n",
       "      <td>77076663</td>\n",
       "      <td>https://stackoverflow.com/questions/77076663</td>\n",
       "      <td>Advanced</td>\n",
       "    </tr>\n",
       "    <tr>\n",
       "      <th>4</th>\n",
       "      <td>77019129</td>\n",
       "      <td>https://stackoverflow.com/questions/77019129</td>\n",
       "      <td>Intermediate</td>\n",
       "    </tr>\n",
       "  </tbody>\n",
       "</table>\n",
       "</div>"
      ],
      "text/plain": [
       "         id                                          link  Q_difficulty\n",
       "0  77293473  https://stackoverflow.com/questions/77293473         Basic\n",
       "1  77404924  https://stackoverflow.com/questions/77404924         Basic\n",
       "2  77249095  https://stackoverflow.com/questions/77249095         Basic\n",
       "3  77076663  https://stackoverflow.com/questions/77076663      Advanced\n",
       "4  77019129  https://stackoverflow.com/questions/77019129  Intermediate"
      ]
     },
     "execution_count": 11,
     "metadata": {},
     "output_type": "execute_result"
    }
   ],
   "source": [
    "q_df.head()"
   ]
  },
  {
   "cell_type": "code",
   "execution_count": 12,
   "metadata": {},
   "outputs": [
    {
     "data": {
      "text/html": [
       "<div>\n",
       "<style scoped>\n",
       "    .dataframe tbody tr th:only-of-type {\n",
       "        vertical-align: middle;\n",
       "    }\n",
       "\n",
       "    .dataframe tbody tr th {\n",
       "        vertical-align: top;\n",
       "    }\n",
       "\n",
       "    .dataframe thead th {\n",
       "        text-align: right;\n",
       "    }\n",
       "</style>\n",
       "<table border=\"1\" class=\"dataframe\">\n",
       "  <thead>\n",
       "    <tr style=\"text-align: right;\">\n",
       "      <th></th>\n",
       "      <th>id</th>\n",
       "      <th>link</th>\n",
       "      <th>Q_difficulty</th>\n",
       "    </tr>\n",
       "  </thead>\n",
       "  <tbody>\n",
       "    <tr>\n",
       "      <th>0</th>\n",
       "      <td>77293473</td>\n",
       "      <td>https://stackoverflow.com/questions/77293473</td>\n",
       "      <td>Basic</td>\n",
       "    </tr>\n",
       "    <tr>\n",
       "      <th>1</th>\n",
       "      <td>77404924</td>\n",
       "      <td>https://stackoverflow.com/questions/77404924</td>\n",
       "      <td>Basic</td>\n",
       "    </tr>\n",
       "    <tr>\n",
       "      <th>2</th>\n",
       "      <td>77249095</td>\n",
       "      <td>https://stackoverflow.com/questions/77249095</td>\n",
       "      <td>Basic</td>\n",
       "    </tr>\n",
       "    <tr>\n",
       "      <th>3</th>\n",
       "      <td>77076663</td>\n",
       "      <td>https://stackoverflow.com/questions/77076663</td>\n",
       "      <td>Advanced</td>\n",
       "    </tr>\n",
       "    <tr>\n",
       "      <th>4</th>\n",
       "      <td>77019129</td>\n",
       "      <td>https://stackoverflow.com/questions/77019129</td>\n",
       "      <td>Intermediate</td>\n",
       "    </tr>\n",
       "    <tr>\n",
       "      <th>...</th>\n",
       "      <td>...</td>\n",
       "      <td>...</td>\n",
       "      <td>...</td>\n",
       "    </tr>\n",
       "    <tr>\n",
       "      <th>28</th>\n",
       "      <td>74793352</td>\n",
       "      <td>https://stackoverflow.com/questions/74793352</td>\n",
       "      <td>Basic</td>\n",
       "    </tr>\n",
       "    <tr>\n",
       "      <th>29</th>\n",
       "      <td>74727945</td>\n",
       "      <td>https://stackoverflow.com/questions/74727945</td>\n",
       "      <td>Intermediate</td>\n",
       "    </tr>\n",
       "    <tr>\n",
       "      <th>30</th>\n",
       "      <td>74700764</td>\n",
       "      <td>https://stackoverflow.com/questions/74700764</td>\n",
       "      <td>Basic</td>\n",
       "    </tr>\n",
       "    <tr>\n",
       "      <th>31</th>\n",
       "      <td>77538219</td>\n",
       "      <td>https://stackoverflow.com/questions/77538219</td>\n",
       "      <td>Basic</td>\n",
       "    </tr>\n",
       "    <tr>\n",
       "      <th>32</th>\n",
       "      <td>77464645</td>\n",
       "      <td>https://stackoverflow.com/questions/77464645</td>\n",
       "      <td>Basic</td>\n",
       "    </tr>\n",
       "  </tbody>\n",
       "</table>\n",
       "<p>76 rows × 3 columns</p>\n",
       "</div>"
      ],
      "text/plain": [
       "          id                                          link  Q_difficulty\n",
       "0   77293473  https://stackoverflow.com/questions/77293473         Basic\n",
       "1   77404924  https://stackoverflow.com/questions/77404924         Basic\n",
       "2   77249095  https://stackoverflow.com/questions/77249095         Basic\n",
       "3   77076663  https://stackoverflow.com/questions/77076663      Advanced\n",
       "4   77019129  https://stackoverflow.com/questions/77019129  Intermediate\n",
       "..       ...                                           ...           ...\n",
       "28  74793352  https://stackoverflow.com/questions/74793352         Basic\n",
       "29  74727945  https://stackoverflow.com/questions/74727945  Intermediate\n",
       "30  74700764  https://stackoverflow.com/questions/74700764         Basic\n",
       "31  77538219  https://stackoverflow.com/questions/77538219         Basic\n",
       "32  77464645  https://stackoverflow.com/questions/77464645         Basic\n",
       "\n",
       "[76 rows x 3 columns]"
      ]
     },
     "execution_count": 12,
     "metadata": {},
     "output_type": "execute_result"
    }
   ],
   "source": [
    "q_df"
   ]
  },
  {
   "cell_type": "code",
   "execution_count": 13,
   "metadata": {},
   "outputs": [],
   "source": [
    "q_id_str = str([x for x in q_df['id']])[1:-1]\n",
    "a_id_str = str([x for x in a_df['id']])[1:-1]"
   ]
  },
  {
   "cell_type": "code",
   "execution_count": 14,
   "metadata": {},
   "outputs": [
    {
     "data": {
      "text/plain": [
       "'77293473, 77404924, 77249095, 77076663, 77019129, 76992629, 77370805, 76784524, 76608783, 76697269, 76317584, 76570219, 76302571, 76548866, 76541602, 76264395, 76169010, 76169378, 76059076, 76045819, 76085427, 75779691, 75862649, 75637544, 75460677, 75454689, 75283999, 75279786, 75198212, 75057003, 75179892, 75239843, 74778102, 74774389, 74760874, 74751254, 74693871, 74844950, 74804354, 77553477, 77543317, 77511053, 77467788, 77155599, 77291783, 77150535, 77068633, 77020489, 76917593, 76798081, 76774917, 76675433, 76427264, 76331128, 76367594, 76481433, 76115814, 76040179, 75870881, 75995957, 75711831, 75789316, 75942768, 75492157, 75352739, 75333570, 75266730, 75243277, 75022065, 74936129, 75099305, 74793352, 74727945, 74700764, 77538219, 77464645'"
      ]
     },
     "execution_count": 14,
     "metadata": {},
     "output_type": "execute_result"
    }
   ],
   "source": [
    "q_id_str"
   ]
  },
  {
   "cell_type": "code",
   "execution_count": 15,
   "metadata": {},
   "outputs": [],
   "source": [
    "q_postypeid=\"'1'\"\n",
    "a_postypeid=\"'2'\"\n",
    "\n"
   ]
  },
  {
   "cell_type": "code",
   "execution_count": 16,
   "metadata": {},
   "outputs": [],
   "source": [
    "# q_sql = \"\"\"select a.id \n",
    "#                 , 'Here is the question about software development. The title of the question is \"'||a.title||'\". and body of the question is \"'||b.body||'\". Please answer briefly about the \"difficulty class\" and \"general ruleset\" and \"grenular breakdown\" for the question'\n",
    "#             from posts a \n",
    "#                , postsbody b\n",
    "#             where a.id = b.id\n",
    "#               and a.creationdate between '2021-11-30' and '2023-11-30' \n",
    "#               and a.posttypeid = {0} \n",
    "#               and a.tags like '%<python>%' \n",
    "#               and a.id in ({1})\n",
    "# \"\"\""
   ]
  },
  {
   "cell_type": "code",
   "execution_count": 17,
   "metadata": {},
   "outputs": [],
   "source": [
    "q_sql = \"\"\"select a.id \n",
    "                , a.title\n",
    "                , b.body\n",
    "            from posts a \n",
    "               , postsbody b\n",
    "            where a.id = b.id\n",
    "              and a.creationdate between '2021-11-30' and '2023-11-30' \n",
    "              and a.posttypeid = {0} \n",
    "              and a.tags like '%<python>%' \n",
    "              and a.id in ({1})\n",
    "\"\"\""
   ]
  },
  {
   "cell_type": "code",
   "execution_count": 18,
   "metadata": {},
   "outputs": [],
   "source": [
    "conn = psycopg2.connect(host = conf.database_user['host'], dbname=conf.database_user['dbname'], user=conf.database_user['user'], password=conf.database_user['password'])\n",
    "try:\n",
    "    cur = conn.cursor()\n",
    "    cur.execute(q_sql.format(q_postypeid, q_id_str))\n",
    "    rows = cur.fetchall()\n",
    "    \n",
    "\n",
    "except psycopg2.DatabaseError as db_err:\n",
    "    print(db_err)\n",
    "finally : \n",
    "  cur.close()"
   ]
  },
  {
   "cell_type": "code",
   "execution_count": 19,
   "metadata": {},
   "outputs": [],
   "source": [
    "q_output = pd.DataFrame(rows, columns = [\n",
    "  'id'\n",
    "  ,'title'\n",
    "  , 'body'\n",
    "])\n"
   ]
  },
  {
   "cell_type": "code",
   "execution_count": 20,
   "metadata": {},
   "outputs": [
    {
     "data": {
      "text/html": [
       "<div>\n",
       "<style scoped>\n",
       "    .dataframe tbody tr th:only-of-type {\n",
       "        vertical-align: middle;\n",
       "    }\n",
       "\n",
       "    .dataframe tbody tr th {\n",
       "        vertical-align: top;\n",
       "    }\n",
       "\n",
       "    .dataframe thead th {\n",
       "        text-align: right;\n",
       "    }\n",
       "</style>\n",
       "<table border=\"1\" class=\"dataframe\">\n",
       "  <thead>\n",
       "    <tr style=\"text-align: right;\">\n",
       "      <th></th>\n",
       "      <th>id</th>\n",
       "      <th>title</th>\n",
       "      <th>body</th>\n",
       "    </tr>\n",
       "  </thead>\n",
       "  <tbody>\n",
       "    <tr>\n",
       "      <th>0</th>\n",
       "      <td>74693871</td>\n",
       "      <td>Why joblib is not recommended when saving kera...</td>\n",
       "      <td>&lt;p&gt;According to &lt;a href=\"https://keras.io/gett...</td>\n",
       "    </tr>\n",
       "    <tr>\n",
       "      <th>1</th>\n",
       "      <td>74700764</td>\n",
       "      <td>replace multiple strings in a list with a sing...</td>\n",
       "      <td>&lt;p&gt;I want to replace multiple strings in a lis...</td>\n",
       "    </tr>\n",
       "    <tr>\n",
       "      <th>2</th>\n",
       "      <td>74727945</td>\n",
       "      <td>pandas unit test AssertionError: DataFrame.ind...</td>\n",
       "      <td>&lt;p&gt;I have this function that I want to test:&lt;/...</td>\n",
       "    </tr>\n",
       "    <tr>\n",
       "      <th>3</th>\n",
       "      <td>74751254</td>\n",
       "      <td>Removing all duplicate images with different f...</td>\n",
       "      <td>&lt;p&gt;I am trying to iterate through a folder and...</td>\n",
       "    </tr>\n",
       "    <tr>\n",
       "      <th>4</th>\n",
       "      <td>74760874</td>\n",
       "      <td>How do I extract a binary pattern from a 1D si...</td>\n",
       "      <td>&lt;p&gt;I need help for my school project. I am tak...</td>\n",
       "    </tr>\n",
       "  </tbody>\n",
       "</table>\n",
       "</div>"
      ],
      "text/plain": [
       "         id                                              title  \\\n",
       "0  74693871  Why joblib is not recommended when saving kera...   \n",
       "1  74700764  replace multiple strings in a list with a sing...   \n",
       "2  74727945  pandas unit test AssertionError: DataFrame.ind...   \n",
       "3  74751254  Removing all duplicate images with different f...   \n",
       "4  74760874  How do I extract a binary pattern from a 1D si...   \n",
       "\n",
       "                                                body  \n",
       "0  <p>According to <a href=\"https://keras.io/gett...  \n",
       "1  <p>I want to replace multiple strings in a lis...  \n",
       "2  <p>I have this function that I want to test:</...  \n",
       "3  <p>I am trying to iterate through a folder and...  \n",
       "4  <p>I need help for my school project. I am tak...  "
      ]
     },
     "execution_count": 20,
     "metadata": {},
     "output_type": "execute_result"
    }
   ],
   "source": [
    "q_output.head()"
   ]
  },
  {
   "cell_type": "code",
   "execution_count": 21,
   "metadata": {},
   "outputs": [
    {
     "data": {
      "text/html": [
       "<div>\n",
       "<style scoped>\n",
       "    .dataframe tbody tr th:only-of-type {\n",
       "        vertical-align: middle;\n",
       "    }\n",
       "\n",
       "    .dataframe tbody tr th {\n",
       "        vertical-align: top;\n",
       "    }\n",
       "\n",
       "    .dataframe thead th {\n",
       "        text-align: right;\n",
       "    }\n",
       "</style>\n",
       "<table border=\"1\" class=\"dataframe\">\n",
       "  <thead>\n",
       "    <tr style=\"text-align: right;\">\n",
       "      <th></th>\n",
       "      <th>id</th>\n",
       "      <th>title</th>\n",
       "      <th>body</th>\n",
       "    </tr>\n",
       "  </thead>\n",
       "  <tbody>\n",
       "    <tr>\n",
       "      <th>0</th>\n",
       "      <td>74693871</td>\n",
       "      <td>Why joblib is not recommended when saving kera...</td>\n",
       "      <td>&lt;p&gt;According to &lt;a href=\"https://keras.io/gett...</td>\n",
       "    </tr>\n",
       "    <tr>\n",
       "      <th>1</th>\n",
       "      <td>74700764</td>\n",
       "      <td>replace multiple strings in a list with a sing...</td>\n",
       "      <td>&lt;p&gt;I want to replace multiple strings in a lis...</td>\n",
       "    </tr>\n",
       "    <tr>\n",
       "      <th>2</th>\n",
       "      <td>74727945</td>\n",
       "      <td>pandas unit test AssertionError: DataFrame.ind...</td>\n",
       "      <td>&lt;p&gt;I have this function that I want to test:&lt;/...</td>\n",
       "    </tr>\n",
       "    <tr>\n",
       "      <th>3</th>\n",
       "      <td>74751254</td>\n",
       "      <td>Removing all duplicate images with different f...</td>\n",
       "      <td>&lt;p&gt;I am trying to iterate through a folder and...</td>\n",
       "    </tr>\n",
       "    <tr>\n",
       "      <th>4</th>\n",
       "      <td>74760874</td>\n",
       "      <td>How do I extract a binary pattern from a 1D si...</td>\n",
       "      <td>&lt;p&gt;I need help for my school project. I am tak...</td>\n",
       "    </tr>\n",
       "    <tr>\n",
       "      <th>...</th>\n",
       "      <td>...</td>\n",
       "      <td>...</td>\n",
       "      <td>...</td>\n",
       "    </tr>\n",
       "    <tr>\n",
       "      <th>71</th>\n",
       "      <td>77467788</td>\n",
       "      <td>Keep second regex lines in first regex lines m...</td>\n",
       "      <td>&lt;p&gt;I have high number of txt list files in &lt;co...</td>\n",
       "    </tr>\n",
       "    <tr>\n",
       "      <th>72</th>\n",
       "      <td>77511053</td>\n",
       "      <td>How to install Resource package with Anaconda ...</td>\n",
       "      <td>&lt;p&gt;To install &lt;code&gt;Resource&lt;/code&gt; package us...</td>\n",
       "    </tr>\n",
       "    <tr>\n",
       "      <th>73</th>\n",
       "      <td>77538219</td>\n",
       "      <td>How to write comprehension list in python</td>\n",
       "      <td>&lt;p&gt;I want to transform this :&lt;/p&gt;\\n&lt;pre&gt;&lt;code&gt;...</td>\n",
       "    </tr>\n",
       "    <tr>\n",
       "      <th>74</th>\n",
       "      <td>77543317</td>\n",
       "      <td>wandb error when running as a subprocess: Mana...</td>\n",
       "      <td>&lt;p&gt;I’m having a problem when I try to run a su...</td>\n",
       "    </tr>\n",
       "    <tr>\n",
       "      <th>75</th>\n",
       "      <td>77553477</td>\n",
       "      <td>MediaPipe Model retraining for 15 classes</td>\n",
       "      <td>&lt;p&gt;I am a beginner to ML and am using Google C...</td>\n",
       "    </tr>\n",
       "  </tbody>\n",
       "</table>\n",
       "<p>76 rows × 3 columns</p>\n",
       "</div>"
      ],
      "text/plain": [
       "          id                                              title  \\\n",
       "0   74693871  Why joblib is not recommended when saving kera...   \n",
       "1   74700764  replace multiple strings in a list with a sing...   \n",
       "2   74727945  pandas unit test AssertionError: DataFrame.ind...   \n",
       "3   74751254  Removing all duplicate images with different f...   \n",
       "4   74760874  How do I extract a binary pattern from a 1D si...   \n",
       "..       ...                                                ...   \n",
       "71  77467788  Keep second regex lines in first regex lines m...   \n",
       "72  77511053  How to install Resource package with Anaconda ...   \n",
       "73  77538219          How to write comprehension list in python   \n",
       "74  77543317  wandb error when running as a subprocess: Mana...   \n",
       "75  77553477          MediaPipe Model retraining for 15 classes   \n",
       "\n",
       "                                                 body  \n",
       "0   <p>According to <a href=\"https://keras.io/gett...  \n",
       "1   <p>I want to replace multiple strings in a lis...  \n",
       "2   <p>I have this function that I want to test:</...  \n",
       "3   <p>I am trying to iterate through a folder and...  \n",
       "4   <p>I need help for my school project. I am tak...  \n",
       "..                                                ...  \n",
       "71  <p>I have high number of txt list files in <co...  \n",
       "72  <p>To install <code>Resource</code> package us...  \n",
       "73  <p>I want to transform this :</p>\\n<pre><code>...  \n",
       "74  <p>I’m having a problem when I try to run a su...  \n",
       "75  <p>I am a beginner to ML and am using Google C...  \n",
       "\n",
       "[76 rows x 3 columns]"
      ]
     },
     "execution_count": 21,
     "metadata": {},
     "output_type": "execute_result"
    }
   ],
   "source": [
    "q_output"
   ]
  },
  {
   "cell_type": "code",
   "execution_count": 22,
   "metadata": {},
   "outputs": [],
   "source": [
    "q_output['c_body'] = q_output['body'].apply(lambda x : codep(x))"
   ]
  },
  {
   "cell_type": "code",
   "execution_count": 23,
   "metadata": {},
   "outputs": [],
   "source": [
    "q_output['t_body'] = q_output[['c_body', 'body']].apply(lambda row: ts.get_text_section({'body': row['body'], 'code_sections': row['c_body']['code_sections']}), axis=1)"
   ]
  },
  {
   "cell_type": "code",
   "execution_count": 24,
   "metadata": {},
   "outputs": [
    {
     "data": {
      "text/plain": [
       "0     <p>According to <a href=\"https://keras.io/gett...\n",
       "1     <p>I want to replace multiple strings in a lis...\n",
       "2     <p>I have this function that I want to test:</...\n",
       "3     <p>I am trying to iterate through a folder and...\n",
       "4     <p>I need help for my school project. I am tak...\n",
       "                            ...                        \n",
       "71    <p>I have high number of txt list files in <co...\n",
       "72    <p>To install <code>Resource</code> package us...\n",
       "73    <p>I want to transform this :</p>\\n<pre><code>...\n",
       "74    <p>I’m having a problem when I try to run a su...\n",
       "75    <p>I am a beginner to ML and am using Google C...\n",
       "Name: t_body, Length: 76, dtype: object"
      ]
     },
     "execution_count": 24,
     "metadata": {},
     "output_type": "execute_result"
    }
   ],
   "source": [
    "q_output['t_body']"
   ]
  },
  {
   "cell_type": "code",
   "execution_count": 25,
   "metadata": {},
   "outputs": [],
   "source": [
    "q_output['clean_body'] = q_output['t_body'].apply(lambda x : htmlp.get_html_cleaned_str(x))"
   ]
  },
  {
   "cell_type": "code",
   "execution_count": 26,
   "metadata": {},
   "outputs": [
    {
     "data": {
      "text/html": [
       "<div>\n",
       "<style scoped>\n",
       "    .dataframe tbody tr th:only-of-type {\n",
       "        vertical-align: middle;\n",
       "    }\n",
       "\n",
       "    .dataframe tbody tr th {\n",
       "        vertical-align: top;\n",
       "    }\n",
       "\n",
       "    .dataframe thead th {\n",
       "        text-align: right;\n",
       "    }\n",
       "</style>\n",
       "<table border=\"1\" class=\"dataframe\">\n",
       "  <thead>\n",
       "    <tr style=\"text-align: right;\">\n",
       "      <th></th>\n",
       "      <th>id</th>\n",
       "      <th>title</th>\n",
       "      <th>body</th>\n",
       "      <th>c_body</th>\n",
       "      <th>t_body</th>\n",
       "      <th>clean_body</th>\n",
       "    </tr>\n",
       "  </thead>\n",
       "  <tbody>\n",
       "    <tr>\n",
       "      <th>0</th>\n",
       "      <td>74693871</td>\n",
       "      <td>Why joblib is not recommended when saving kera...</td>\n",
       "      <td>&lt;p&gt;According to &lt;a href=\"https://keras.io/gett...</td>\n",
       "      <td>{'code_sections': []}</td>\n",
       "      <td>&lt;p&gt;According to &lt;a href=\"https://keras.io/gett...</td>\n",
       "      <td>According to this keras documentation, pickle ...</td>\n",
       "    </tr>\n",
       "    <tr>\n",
       "      <th>1</th>\n",
       "      <td>74700764</td>\n",
       "      <td>replace multiple strings in a list with a sing...</td>\n",
       "      <td>&lt;p&gt;I want to replace multiple strings in a lis...</td>\n",
       "      <td>{'code_sections': [{'off_beg': 386, 'off_end':...</td>\n",
       "      <td>&lt;p&gt;I want to replace multiple strings in a lis...</td>\n",
       "      <td>I want to replace multiple strings in a list w...</td>\n",
       "    </tr>\n",
       "    <tr>\n",
       "      <th>2</th>\n",
       "      <td>74727945</td>\n",
       "      <td>pandas unit test AssertionError: DataFrame.ind...</td>\n",
       "      <td>&lt;p&gt;I have this function that I want to test:&lt;/...</td>\n",
       "      <td>{'code_sections': [{'off_beg': 60, 'off_end': ...</td>\n",
       "      <td>&lt;p&gt;I have this function that I want to test:&lt;/...</td>\n",
       "      <td>I have this function that I want to test:\\n\\n\\...</td>\n",
       "    </tr>\n",
       "    <tr>\n",
       "      <th>3</th>\n",
       "      <td>74751254</td>\n",
       "      <td>Removing all duplicate images with different f...</td>\n",
       "      <td>&lt;p&gt;I am trying to iterate through a folder and...</td>\n",
       "      <td>{'code_sections': [{'off_beg': 316, 'off_end':...</td>\n",
       "      <td>&lt;p&gt;I am trying to iterate through a folder and...</td>\n",
       "      <td>I am trying to iterate through a folder and de...</td>\n",
       "    </tr>\n",
       "    <tr>\n",
       "      <th>4</th>\n",
       "      <td>74760874</td>\n",
       "      <td>How do I extract a binary pattern from a 1D si...</td>\n",
       "      <td>&lt;p&gt;I need help for my school project. I am tak...</td>\n",
       "      <td>{'code_sections': [{'off_beg': 666, 'off_end':...</td>\n",
       "      <td>&lt;p&gt;I need help for my school project. I am tak...</td>\n",
       "      <td>I need help for my school project. I am taking...</td>\n",
       "    </tr>\n",
       "  </tbody>\n",
       "</table>\n",
       "</div>"
      ],
      "text/plain": [
       "         id                                              title  \\\n",
       "0  74693871  Why joblib is not recommended when saving kera...   \n",
       "1  74700764  replace multiple strings in a list with a sing...   \n",
       "2  74727945  pandas unit test AssertionError: DataFrame.ind...   \n",
       "3  74751254  Removing all duplicate images with different f...   \n",
       "4  74760874  How do I extract a binary pattern from a 1D si...   \n",
       "\n",
       "                                                body  \\\n",
       "0  <p>According to <a href=\"https://keras.io/gett...   \n",
       "1  <p>I want to replace multiple strings in a lis...   \n",
       "2  <p>I have this function that I want to test:</...   \n",
       "3  <p>I am trying to iterate through a folder and...   \n",
       "4  <p>I need help for my school project. I am tak...   \n",
       "\n",
       "                                              c_body  \\\n",
       "0                              {'code_sections': []}   \n",
       "1  {'code_sections': [{'off_beg': 386, 'off_end':...   \n",
       "2  {'code_sections': [{'off_beg': 60, 'off_end': ...   \n",
       "3  {'code_sections': [{'off_beg': 316, 'off_end':...   \n",
       "4  {'code_sections': [{'off_beg': 666, 'off_end':...   \n",
       "\n",
       "                                              t_body  \\\n",
       "0  <p>According to <a href=\"https://keras.io/gett...   \n",
       "1  <p>I want to replace multiple strings in a lis...   \n",
       "2  <p>I have this function that I want to test:</...   \n",
       "3  <p>I am trying to iterate through a folder and...   \n",
       "4  <p>I need help for my school project. I am tak...   \n",
       "\n",
       "                                          clean_body  \n",
       "0  According to this keras documentation, pickle ...  \n",
       "1  I want to replace multiple strings in a list w...  \n",
       "2  I have this function that I want to test:\\n\\n\\...  \n",
       "3  I am trying to iterate through a folder and de...  \n",
       "4  I need help for my school project. I am taking...  "
      ]
     },
     "execution_count": 26,
     "metadata": {},
     "output_type": "execute_result"
    }
   ],
   "source": [
    "q_output.head()"
   ]
  },
  {
   "cell_type": "code",
   "execution_count": 27,
   "metadata": {},
   "outputs": [],
   "source": [
    "q_output = pd.merge(q_output, q_df[['id', 'Q_difficulty']], on = ['id'] )"
   ]
  },
  {
   "cell_type": "code",
   "execution_count": 28,
   "metadata": {},
   "outputs": [],
   "source": [
    "q_output['answer'] = 'Difficulty Level : '+q_output['Q_difficulty'].map(str)"
   ]
  },
  {
   "cell_type": "code",
   "execution_count": 29,
   "metadata": {},
   "outputs": [],
   "source": [
    "q_output['question'] = '<Title>'+q_output['title'].map(str)+'</Title>. <Question>'+q_output['clean_body'].map(str)+'</Question>'\n"
   ]
  },
  {
   "cell_type": "code",
   "execution_count": 30,
   "metadata": {},
   "outputs": [],
   "source": [
    "import re\n",
    "q_output['question'] = q_output['question'].apply(lambda x:  re.sub(r\";(?=\\S)\", \"\", x))\n",
    "# .str.replace('\";', \"\")"
   ]
  },
  {
   "cell_type": "code",
   "execution_count": 31,
   "metadata": {},
   "outputs": [],
   "source": [
    "q_output[['id', 'question', 'answer']].to_csv('../../data/q_output.csv')"
   ]
  },
  {
   "cell_type": "code",
   "execution_count": 32,
   "metadata": {},
   "outputs": [],
   "source": [
    "# [34,  3, 37, 33]\n",
    "q_output[['body', 'clean_body']].to_csv('chk.csv')"
   ]
  },
  {
   "cell_type": "code",
   "execution_count": 33,
   "metadata": {},
   "outputs": [],
   "source": [
    "# q_output.iloc[[14, 25, 13, 21], :].to_csv('chk.csv')"
   ]
  },
  {
   "cell_type": "code",
   "execution_count": null,
   "metadata": {},
   "outputs": [],
   "source": []
  }
 ],
 "metadata": {
  "kernelspec": {
   "display_name": "venv_stackoverflow_src",
   "language": "python",
   "name": "python3"
  },
  "language_info": {
   "codemirror_mode": {
    "name": "ipython",
    "version": 3
   },
   "file_extension": ".py",
   "mimetype": "text/x-python",
   "name": "python",
   "nbconvert_exporter": "python",
   "pygments_lexer": "ipython3",
   "version": "3.10.12"
  }
 },
 "nbformat": 4,
 "nbformat_minor": 4
}
