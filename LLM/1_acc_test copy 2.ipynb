{
 "cells": [
  {
   "cell_type": "code",
   "execution_count": 1,
   "metadata": {},
   "outputs": [],
   "source": [
    "import sys, os\n",
    "p = os.path.abspath('..')\n",
    "# p = p+r'\\config'\n",
    "sys.path.insert(1, p)"
   ]
  },
  {
   "cell_type": "code",
   "execution_count": 2,
   "metadata": {},
   "outputs": [],
   "source": [
    "import lib.annotation.D_Annotation as da\n",
    "import lib.annotation.Self_Consistency as sc\n",
    "\n",
    "\n"
   ]
  },
  {
   "cell_type": "code",
   "execution_count": 3,
   "metadata": {},
   "outputs": [
    {
     "name": "stdout",
     "output_type": "stream",
     "text": [
      "Task l_4_30_Y_sys_prompt9_5 시작\n",
      "Task l_4_30_Y_sys_prompt9_5 실행 중: 0\n",
      "./result/sc_l_result_4_30_Y_100_sys_prompt9_5_0.01_ver3_0.csv\n",
      "/usr/share/d_ollama/data/q_output_code_y_250203.csv\n"
     ]
    },
    {
     "name": "stderr",
     "output_type": "stream",
     "text": [
      "150it [16:47,  6.72s/it]\n"
     ]
    },
    {
     "name": "stdout",
     "output_type": "stream",
     "text": [
      "Task l_4_30_Y_sys_prompt9_5 실행 중: 1\n",
      "./result/sc_l_result_4_30_Y_100_sys_prompt9_5_0.01_ver3_1.csv\n",
      "/usr/share/d_ollama/data/q_output_code_y_250203.csv\n"
     ]
    },
    {
     "name": "stderr",
     "output_type": "stream",
     "text": [
      "150it [19:27,  7.78s/it]\n"
     ]
    },
    {
     "name": "stdout",
     "output_type": "stream",
     "text": [
      "Task l_4_30_Y_sys_prompt9_5 실행 중: 2\n",
      "./result/sc_l_result_4_30_Y_100_sys_prompt9_5_0.01_ver3_2.csv\n",
      "/usr/share/d_ollama/data/q_output_code_y_250203.csv\n"
     ]
    },
    {
     "name": "stderr",
     "output_type": "stream",
     "text": [
      "150it [19:02,  7.61s/it]\n"
     ]
    },
    {
     "name": "stdout",
     "output_type": "stream",
     "text": [
      "Task l_4_30_Y_sys_prompt9_5 실행 중: 3\n",
      "./result/sc_l_result_4_30_Y_100_sys_prompt9_5_0.01_ver3_3.csv\n",
      "/usr/share/d_ollama/data/q_output_code_y_250203.csv\n"
     ]
    },
    {
     "name": "stderr",
     "output_type": "stream",
     "text": [
      "150it [19:03,  7.62s/it]\n"
     ]
    },
    {
     "name": "stdout",
     "output_type": "stream",
     "text": [
      "Task l_4_30_Y_sys_prompt9_5 실행 중: 4\n",
      "./result/sc_l_result_4_30_Y_100_sys_prompt9_5_0.01_ver3_4.csv\n",
      "/usr/share/d_ollama/data/q_output_code_y_250203.csv\n"
     ]
    },
    {
     "name": "stderr",
     "output_type": "stream",
     "text": [
      "150it [13:07,  5.25s/it]\n"
     ]
    },
    {
     "name": "stdout",
     "output_type": "stream",
     "text": [
      "Task l_4_30_Y_sys_prompt9_5 실행 중: 5\n",
      "./result/sc_l_result_4_30_Y_100_sys_prompt9_5_0.01_ver3_5.csv\n",
      "/usr/share/d_ollama/data/q_output_code_y_250203.csv\n"
     ]
    },
    {
     "name": "stderr",
     "output_type": "stream",
     "text": [
      "150it [19:38,  7.86s/it]\n"
     ]
    },
    {
     "name": "stdout",
     "output_type": "stream",
     "text": [
      "Task l_4_30_Y_sys_prompt9_5 실행 중: 6\n",
      "./result/sc_l_result_4_30_Y_100_sys_prompt9_5_0.01_ver3_6.csv\n",
      "/usr/share/d_ollama/data/q_output_code_y_250203.csv\n"
     ]
    },
    {
     "name": "stderr",
     "output_type": "stream",
     "text": [
      "150it [18:58,  7.59s/it]\n"
     ]
    },
    {
     "name": "stdout",
     "output_type": "stream",
     "text": [
      "Task l_4_30_Y_sys_prompt9_5 실행 중: 7\n",
      "./result/sc_l_result_4_30_Y_100_sys_prompt9_5_0.01_ver3_7.csv\n",
      "/usr/share/d_ollama/data/q_output_code_y_250203.csv\n"
     ]
    },
    {
     "name": "stderr",
     "output_type": "stream",
     "text": [
      "150it [17:18,  6.92s/it]\n"
     ]
    },
    {
     "name": "stdout",
     "output_type": "stream",
     "text": [
      "Task l_4_30_Y_sys_prompt9_5 실행 중: 8\n",
      "./result/sc_l_result_4_30_Y_100_sys_prompt9_5_0.01_ver3_8.csv\n",
      "/usr/share/d_ollama/data/q_output_code_y_250203.csv\n"
     ]
    },
    {
     "name": "stderr",
     "output_type": "stream",
     "text": [
      "150it [17:29,  7.00s/it]\n"
     ]
    },
    {
     "name": "stdout",
     "output_type": "stream",
     "text": [
      "Task l_4_30_Y_sys_prompt9_5 실행 중: 9\n",
      "./result/sc_l_result_4_30_Y_100_sys_prompt9_5_0.01_ver3_9.csv\n",
      "/usr/share/d_ollama/data/q_output_code_y_250203.csv\n"
     ]
    },
    {
     "name": "stderr",
     "output_type": "stream",
     "text": [
      "150it [19:34,  7.83s/it]\n"
     ]
    },
    {
     "name": "stdout",
     "output_type": "stream",
     "text": [
      "Task l_4_30_Y_sys_prompt9_5 실행 중: 10\n",
      "./result/sc_l_result_4_30_Y_100_sys_prompt9_5_0.01_ver3_10.csv\n",
      "/usr/share/d_ollama/data/q_output_code_y_250203.csv\n"
     ]
    },
    {
     "name": "stderr",
     "output_type": "stream",
     "text": [
      "150it [18:22,  7.35s/it]\n"
     ]
    },
    {
     "name": "stdout",
     "output_type": "stream",
     "text": [
      "Task l_4_30_Y_sys_prompt9_5 실행 중: 11\n",
      "./result/sc_l_result_4_30_Y_100_sys_prompt9_5_0.01_ver3_11.csv\n",
      "/usr/share/d_ollama/data/q_output_code_y_250203.csv\n"
     ]
    },
    {
     "name": "stderr",
     "output_type": "stream",
     "text": [
      "150it [17:23,  6.96s/it]\n"
     ]
    },
    {
     "name": "stdout",
     "output_type": "stream",
     "text": [
      "Task l_4_30_Y_sys_prompt9_5 실행 중: 12\n",
      "./result/sc_l_result_4_30_Y_100_sys_prompt9_5_0.01_ver3_12.csv\n",
      "/usr/share/d_ollama/data/q_output_code_y_250203.csv\n"
     ]
    },
    {
     "name": "stderr",
     "output_type": "stream",
     "text": [
      "150it [24:12,  9.69s/it]\n"
     ]
    },
    {
     "name": "stdout",
     "output_type": "stream",
     "text": [
      "Task l_4_30_Y_sys_prompt9_5 실행 중: 13\n",
      "./result/sc_l_result_4_30_Y_100_sys_prompt9_5_0.01_ver3_13.csv\n",
      "/usr/share/d_ollama/data/q_output_code_y_250203.csv\n"
     ]
    },
    {
     "name": "stderr",
     "output_type": "stream",
     "text": [
      "150it [20:03,  8.03s/it]\n"
     ]
    },
    {
     "name": "stdout",
     "output_type": "stream",
     "text": [
      "Task l_4_30_Y_sys_prompt9_5 실행 중: 14\n",
      "./result/sc_l_result_4_30_Y_100_sys_prompt9_5_0.01_ver3_14.csv\n",
      "/usr/share/d_ollama/data/q_output_code_y_250203.csv\n"
     ]
    },
    {
     "name": "stderr",
     "output_type": "stream",
     "text": [
      "150it [19:20,  7.74s/it]\n"
     ]
    },
    {
     "name": "stdout",
     "output_type": "stream",
     "text": [
      "Task l_4_30_Y_sys_prompt9_5 실행 중: 15\n",
      "./result/sc_l_result_4_30_Y_100_sys_prompt9_5_0.01_ver3_15.csv\n",
      "/usr/share/d_ollama/data/q_output_code_y_250203.csv\n"
     ]
    },
    {
     "name": "stderr",
     "output_type": "stream",
     "text": [
      "150it [20:16,  8.11s/it]\n"
     ]
    },
    {
     "name": "stdout",
     "output_type": "stream",
     "text": [
      "Task l_4_30_Y_sys_prompt9_5 실행 중: 16\n",
      "./result/sc_l_result_4_30_Y_100_sys_prompt9_5_0.01_ver3_16.csv\n",
      "/usr/share/d_ollama/data/q_output_code_y_250203.csv\n"
     ]
    },
    {
     "name": "stderr",
     "output_type": "stream",
     "text": [
      "150it [19:34,  7.83s/it]\n"
     ]
    },
    {
     "name": "stdout",
     "output_type": "stream",
     "text": [
      "Task l_4_30_Y_sys_prompt9_5 실행 중: 17\n",
      "./result/sc_l_result_4_30_Y_100_sys_prompt9_5_0.01_ver3_17.csv\n",
      "/usr/share/d_ollama/data/q_output_code_y_250203.csv\n"
     ]
    },
    {
     "name": "stderr",
     "output_type": "stream",
     "text": [
      "150it [15:36,  6.25s/it]\n"
     ]
    },
    {
     "name": "stdout",
     "output_type": "stream",
     "text": [
      "Task l_4_30_Y_sys_prompt9_5 실행 중: 18\n",
      "./result/sc_l_result_4_30_Y_100_sys_prompt9_5_0.01_ver3_18.csv\n",
      "/usr/share/d_ollama/data/q_output_code_y_250203.csv\n"
     ]
    },
    {
     "name": "stderr",
     "output_type": "stream",
     "text": [
      "150it [20:14,  8.10s/it]\n"
     ]
    },
    {
     "name": "stdout",
     "output_type": "stream",
     "text": [
      "Task l_4_30_Y_sys_prompt9_5 실행 중: 19\n",
      "./result/sc_l_result_4_30_Y_100_sys_prompt9_5_0.01_ver3_19.csv\n",
      "/usr/share/d_ollama/data/q_output_code_y_250203.csv\n"
     ]
    },
    {
     "name": "stderr",
     "output_type": "stream",
     "text": [
      "150it [10:51,  4.34s/it]\n"
     ]
    },
    {
     "name": "stdout",
     "output_type": "stream",
     "text": [
      "Task l_4_30_Y_sys_prompt9_5 실행 중: 20\n",
      "./result/sc_l_result_4_30_Y_100_sys_prompt9_5_0.01_ver3_20.csv\n",
      "/usr/share/d_ollama/data/q_output_code_y_250203.csv\n"
     ]
    },
    {
     "name": "stderr",
     "output_type": "stream",
     "text": [
      "150it [21:09,  8.46s/it]\n"
     ]
    },
    {
     "name": "stdout",
     "output_type": "stream",
     "text": [
      "Task l_4_30_Y_sys_prompt9_5 실행 중: 21\n",
      "./result/sc_l_result_4_30_Y_100_sys_prompt9_5_0.01_ver3_21.csv\n",
      "/usr/share/d_ollama/data/q_output_code_y_250203.csv\n"
     ]
    },
    {
     "name": "stderr",
     "output_type": "stream",
     "text": [
      "150it [20:20,  8.14s/it]\n"
     ]
    },
    {
     "name": "stdout",
     "output_type": "stream",
     "text": [
      "Task l_4_30_Y_sys_prompt9_5 실행 중: 22\n",
      "./result/sc_l_result_4_30_Y_100_sys_prompt9_5_0.01_ver3_22.csv\n",
      "/usr/share/d_ollama/data/q_output_code_y_250203.csv\n"
     ]
    },
    {
     "name": "stderr",
     "output_type": "stream",
     "text": [
      "150it [20:09,  8.07s/it]\n"
     ]
    },
    {
     "name": "stdout",
     "output_type": "stream",
     "text": [
      "Task l_4_30_Y_sys_prompt9_5 실행 중: 23\n",
      "./result/sc_l_result_4_30_Y_100_sys_prompt9_5_0.01_ver3_23.csv\n",
      "/usr/share/d_ollama/data/q_output_code_y_250203.csv\n"
     ]
    },
    {
     "name": "stderr",
     "output_type": "stream",
     "text": [
      "150it [16:24,  6.56s/it]\n"
     ]
    },
    {
     "name": "stdout",
     "output_type": "stream",
     "text": [
      "Task l_4_30_Y_sys_prompt9_5 실행 중: 24\n",
      "./result/sc_l_result_4_30_Y_100_sys_prompt9_5_0.01_ver3_24.csv\n",
      "/usr/share/d_ollama/data/q_output_code_y_250203.csv\n"
     ]
    },
    {
     "name": "stderr",
     "output_type": "stream",
     "text": [
      "150it [18:41,  7.48s/it]\n"
     ]
    },
    {
     "name": "stdout",
     "output_type": "stream",
     "text": [
      "Task l_4_30_Y_sys_prompt9_5 실행 중: 25\n",
      "./result/sc_l_result_4_30_Y_100_sys_prompt9_5_0.01_ver3_25.csv\n",
      "/usr/share/d_ollama/data/q_output_code_y_250203.csv\n"
     ]
    },
    {
     "name": "stderr",
     "output_type": "stream",
     "text": [
      "150it [20:45,  8.30s/it]\n"
     ]
    },
    {
     "name": "stdout",
     "output_type": "stream",
     "text": [
      "Task l_4_30_Y_sys_prompt9_5 실행 중: 26\n",
      "./result/sc_l_result_4_30_Y_100_sys_prompt9_5_0.01_ver3_26.csv\n",
      "/usr/share/d_ollama/data/q_output_code_y_250203.csv\n"
     ]
    },
    {
     "name": "stderr",
     "output_type": "stream",
     "text": [
      "150it [17:46,  7.11s/it]\n"
     ]
    },
    {
     "name": "stdout",
     "output_type": "stream",
     "text": [
      "Task l_4_30_Y_sys_prompt9_5 실행 중: 27\n",
      "./result/sc_l_result_4_30_Y_100_sys_prompt9_5_0.01_ver3_27.csv\n",
      "/usr/share/d_ollama/data/q_output_code_y_250203.csv\n"
     ]
    },
    {
     "name": "stderr",
     "output_type": "stream",
     "text": [
      "150it [16:21,  6.54s/it]\n"
     ]
    },
    {
     "name": "stdout",
     "output_type": "stream",
     "text": [
      "Task l_4_30_Y_sys_prompt9_5 실행 중: 28\n",
      "./result/sc_l_result_4_30_Y_100_sys_prompt9_5_0.01_ver3_28.csv\n",
      "/usr/share/d_ollama/data/q_output_code_y_250203.csv\n"
     ]
    },
    {
     "name": "stderr",
     "output_type": "stream",
     "text": [
      "150it [24:30,  9.80s/it]\n"
     ]
    },
    {
     "name": "stdout",
     "output_type": "stream",
     "text": [
      "Task l_4_30_Y_sys_prompt9_5 실행 중: 29\n",
      "./result/sc_l_result_4_30_Y_100_sys_prompt9_5_0.01_ver3_29.csv\n",
      "/usr/share/d_ollama/data/q_output_code_y_250203.csv\n"
     ]
    },
    {
     "name": "stderr",
     "output_type": "stream",
     "text": [
      "150it [05:26,  2.18s/it]\n"
     ]
    },
    {
     "name": "stdout",
     "output_type": "stream",
     "text": [
      "Task l_4_30_Y_sys_prompt9_5 실행 중: 30\n",
      "./result/sc_l_result_4_30_Y_100_sys_prompt9_5_0.01_ver3_30.csv\n",
      "/usr/share/d_ollama/data/q_output_code_y_250203.csv\n"
     ]
    },
    {
     "name": "stderr",
     "output_type": "stream",
     "text": [
      "150it [20:02,  8.02s/it]\n"
     ]
    },
    {
     "name": "stdout",
     "output_type": "stream",
     "text": [
      "Task l_4_30_Y_sys_prompt9_5 실행 중: 31\n",
      "./result/sc_l_result_4_30_Y_100_sys_prompt9_5_0.01_ver3_31.csv\n",
      "/usr/share/d_ollama/data/q_output_code_y_250203.csv\n"
     ]
    },
    {
     "name": "stderr",
     "output_type": "stream",
     "text": [
      "150it [22:07,  8.85s/it]\n"
     ]
    },
    {
     "name": "stdout",
     "output_type": "stream",
     "text": [
      "Task l_4_30_Y_sys_prompt9_5 실행 중: 32\n",
      "./result/sc_l_result_4_30_Y_100_sys_prompt9_5_0.01_ver3_32.csv\n",
      "/usr/share/d_ollama/data/q_output_code_y_250203.csv\n"
     ]
    },
    {
     "name": "stderr",
     "output_type": "stream",
     "text": [
      "150it [19:09,  7.66s/it]\n"
     ]
    },
    {
     "name": "stdout",
     "output_type": "stream",
     "text": [
      "Task l_4_30_Y_sys_prompt9_5 실행 중: 33\n",
      "./result/sc_l_result_4_30_Y_100_sys_prompt9_5_0.01_ver3_33.csv\n",
      "/usr/share/d_ollama/data/q_output_code_y_250203.csv\n"
     ]
    },
    {
     "name": "stderr",
     "output_type": "stream",
     "text": [
      "150it [15:50,  6.34s/it]\n"
     ]
    },
    {
     "name": "stdout",
     "output_type": "stream",
     "text": [
      "Task l_4_30_Y_sys_prompt9_5 실행 중: 34\n",
      "./result/sc_l_result_4_30_Y_100_sys_prompt9_5_0.01_ver3_34.csv\n",
      "/usr/share/d_ollama/data/q_output_code_y_250203.csv\n"
     ]
    },
    {
     "name": "stderr",
     "output_type": "stream",
     "text": [
      "150it [24:47,  9.92s/it]\n"
     ]
    },
    {
     "name": "stdout",
     "output_type": "stream",
     "text": [
      "Task l_4_30_Y_sys_prompt9_5 실행 중: 35\n",
      "./result/sc_l_result_4_30_Y_100_sys_prompt9_5_0.01_ver3_35.csv\n",
      "/usr/share/d_ollama/data/q_output_code_y_250203.csv\n"
     ]
    },
    {
     "name": "stderr",
     "output_type": "stream",
     "text": [
      "150it [20:55,  8.37s/it]\n"
     ]
    },
    {
     "name": "stdout",
     "output_type": "stream",
     "text": [
      "Task l_4_30_Y_sys_prompt9_5 실행 중: 36\n",
      "./result/sc_l_result_4_30_Y_100_sys_prompt9_5_0.01_ver3_36.csv\n",
      "/usr/share/d_ollama/data/q_output_code_y_250203.csv\n"
     ]
    },
    {
     "name": "stderr",
     "output_type": "stream",
     "text": [
      "150it [18:51,  7.54s/it]\n"
     ]
    },
    {
     "name": "stdout",
     "output_type": "stream",
     "text": [
      "Task l_4_30_Y_sys_prompt9_5 실행 중: 37\n",
      "./result/sc_l_result_4_30_Y_100_sys_prompt9_5_0.01_ver3_37.csv\n",
      "/usr/share/d_ollama/data/q_output_code_y_250203.csv\n"
     ]
    },
    {
     "name": "stderr",
     "output_type": "stream",
     "text": [
      "150it [21:04,  8.43s/it]\n"
     ]
    },
    {
     "name": "stdout",
     "output_type": "stream",
     "text": [
      "Task l_4_30_Y_sys_prompt9_5 실행 중: 38\n",
      "./result/sc_l_result_4_30_Y_100_sys_prompt9_5_0.01_ver3_38.csv\n",
      "/usr/share/d_ollama/data/q_output_code_y_250203.csv\n"
     ]
    },
    {
     "name": "stderr",
     "output_type": "stream",
     "text": [
      "150it [21:01,  8.41s/it]\n"
     ]
    },
    {
     "name": "stdout",
     "output_type": "stream",
     "text": [
      "Task l_4_30_Y_sys_prompt9_5 실행 중: 39\n",
      "./result/sc_l_result_4_30_Y_100_sys_prompt9_5_0.01_ver3_39.csv\n",
      "/usr/share/d_ollama/data/q_output_code_y_250203.csv\n"
     ]
    },
    {
     "name": "stderr",
     "output_type": "stream",
     "text": [
      "150it [19:10,  7.67s/it]\n"
     ]
    },
    {
     "name": "stdout",
     "output_type": "stream",
     "text": [
      "Task l_4_30_Y_sys_prompt9_5 실행 중: 40\n",
      "./result/sc_l_result_4_30_Y_100_sys_prompt9_5_0.01_ver3_40.csv\n",
      "/usr/share/d_ollama/data/q_output_code_y_250203.csv\n"
     ]
    },
    {
     "name": "stderr",
     "output_type": "stream",
     "text": [
      "150it [21:49,  8.73s/it]\n"
     ]
    },
    {
     "name": "stdout",
     "output_type": "stream",
     "text": [
      "Task l_4_30_Y_sys_prompt9_5 실행 중: 41\n",
      "./result/sc_l_result_4_30_Y_100_sys_prompt9_5_0.01_ver3_41.csv\n",
      "/usr/share/d_ollama/data/q_output_code_y_250203.csv\n"
     ]
    },
    {
     "name": "stderr",
     "output_type": "stream",
     "text": [
      "150it [18:58,  7.59s/it]\n"
     ]
    },
    {
     "name": "stdout",
     "output_type": "stream",
     "text": [
      "Task l_4_30_Y_sys_prompt9_5 실행 중: 42\n",
      "./result/sc_l_result_4_30_Y_100_sys_prompt9_5_0.01_ver3_42.csv\n",
      "/usr/share/d_ollama/data/q_output_code_y_250203.csv\n"
     ]
    },
    {
     "name": "stderr",
     "output_type": "stream",
     "text": [
      "150it [19:11,  7.68s/it]\n"
     ]
    },
    {
     "name": "stdout",
     "output_type": "stream",
     "text": [
      "Task l_4_30_Y_sys_prompt9_5 실행 중: 43\n",
      "./result/sc_l_result_4_30_Y_100_sys_prompt9_5_0.01_ver3_43.csv\n",
      "/usr/share/d_ollama/data/q_output_code_y_250203.csv\n"
     ]
    },
    {
     "name": "stderr",
     "output_type": "stream",
     "text": [
      "150it [20:27,  8.18s/it]\n"
     ]
    },
    {
     "name": "stdout",
     "output_type": "stream",
     "text": [
      "Task l_4_30_Y_sys_prompt9_5 실행 중: 44\n",
      "./result/sc_l_result_4_30_Y_100_sys_prompt9_5_0.01_ver3_44.csv\n",
      "/usr/share/d_ollama/data/q_output_code_y_250203.csv\n"
     ]
    },
    {
     "name": "stderr",
     "output_type": "stream",
     "text": [
      "150it [22:29,  9.00s/it]\n"
     ]
    },
    {
     "name": "stdout",
     "output_type": "stream",
     "text": [
      "Task l_4_30_Y_sys_prompt9_5 실행 중: 45\n",
      "./result/sc_l_result_4_30_Y_100_sys_prompt9_5_0.01_ver3_45.csv\n",
      "/usr/share/d_ollama/data/q_output_code_y_250203.csv\n"
     ]
    },
    {
     "name": "stderr",
     "output_type": "stream",
     "text": [
      "150it [17:55,  7.17s/it]\n"
     ]
    },
    {
     "name": "stdout",
     "output_type": "stream",
     "text": [
      "Task l_4_30_Y_sys_prompt9_5 실행 중: 46\n",
      "./result/sc_l_result_4_30_Y_100_sys_prompt9_5_0.01_ver3_46.csv\n",
      "/usr/share/d_ollama/data/q_output_code_y_250203.csv\n"
     ]
    },
    {
     "name": "stderr",
     "output_type": "stream",
     "text": [
      "150it [19:19,  7.73s/it]\n"
     ]
    },
    {
     "name": "stdout",
     "output_type": "stream",
     "text": [
      "Task l_4_30_Y_sys_prompt9_5 실행 중: 47\n",
      "./result/sc_l_result_4_30_Y_100_sys_prompt9_5_0.01_ver3_47.csv\n",
      "/usr/share/d_ollama/data/q_output_code_y_250203.csv\n"
     ]
    },
    {
     "name": "stderr",
     "output_type": "stream",
     "text": [
      "150it [21:46,  8.71s/it]\n"
     ]
    },
    {
     "name": "stdout",
     "output_type": "stream",
     "text": [
      "Task l_4_30_Y_sys_prompt9_5 실행 중: 48\n",
      "./result/sc_l_result_4_30_Y_100_sys_prompt9_5_0.01_ver3_48.csv\n",
      "/usr/share/d_ollama/data/q_output_code_y_250203.csv\n"
     ]
    },
    {
     "name": "stderr",
     "output_type": "stream",
     "text": [
      "150it [19:34,  7.83s/it]\n"
     ]
    },
    {
     "name": "stdout",
     "output_type": "stream",
     "text": [
      "Task l_4_30_Y_sys_prompt9_5 실행 중: 49\n",
      "./result/sc_l_result_4_30_Y_100_sys_prompt9_5_0.01_ver3_49.csv\n",
      "/usr/share/d_ollama/data/q_output_code_y_250203.csv\n"
     ]
    },
    {
     "name": "stderr",
     "output_type": "stream",
     "text": [
      "150it [20:03,  8.02s/it]\n"
     ]
    },
    {
     "name": "stdout",
     "output_type": "stream",
     "text": [
      "Task l_4_30_Y_sys_prompt9_5 실행 중: 50\n",
      "./result/sc_l_result_4_30_Y_100_sys_prompt9_5_0.01_ver3_50.csv\n",
      "/usr/share/d_ollama/data/q_output_code_y_250203.csv\n"
     ]
    },
    {
     "name": "stderr",
     "output_type": "stream",
     "text": [
      "150it [13:06,  5.24s/it]\n"
     ]
    },
    {
     "name": "stdout",
     "output_type": "stream",
     "text": [
      "Task l_4_30_Y_sys_prompt9_5 실행 중: 51\n",
      "./result/sc_l_result_4_30_Y_100_sys_prompt9_5_0.01_ver3_51.csv\n",
      "/usr/share/d_ollama/data/q_output_code_y_250203.csv\n"
     ]
    },
    {
     "name": "stderr",
     "output_type": "stream",
     "text": [
      "150it [19:54,  7.97s/it]\n"
     ]
    },
    {
     "name": "stdout",
     "output_type": "stream",
     "text": [
      "Task l_4_30_Y_sys_prompt9_5 실행 중: 52\n",
      "./result/sc_l_result_4_30_Y_100_sys_prompt9_5_0.01_ver3_52.csv\n",
      "/usr/share/d_ollama/data/q_output_code_y_250203.csv\n"
     ]
    },
    {
     "name": "stderr",
     "output_type": "stream",
     "text": [
      "150it [21:49,  8.73s/it]\n"
     ]
    },
    {
     "name": "stdout",
     "output_type": "stream",
     "text": [
      "Task l_4_30_Y_sys_prompt9_5 실행 중: 53\n",
      "./result/sc_l_result_4_30_Y_100_sys_prompt9_5_0.01_ver3_53.csv\n",
      "/usr/share/d_ollama/data/q_output_code_y_250203.csv\n"
     ]
    },
    {
     "name": "stderr",
     "output_type": "stream",
     "text": [
      "150it [22:21,  8.94s/it]\n"
     ]
    },
    {
     "name": "stdout",
     "output_type": "stream",
     "text": [
      "Task l_4_30_Y_sys_prompt9_5 실행 중: 54\n",
      "./result/sc_l_result_4_30_Y_100_sys_prompt9_5_0.01_ver3_54.csv\n",
      "/usr/share/d_ollama/data/q_output_code_y_250203.csv\n"
     ]
    },
    {
     "name": "stderr",
     "output_type": "stream",
     "text": [
      "150it [19:07,  7.65s/it]\n"
     ]
    },
    {
     "name": "stdout",
     "output_type": "stream",
     "text": [
      "Task l_4_30_Y_sys_prompt9_5 실행 중: 55\n",
      "./result/sc_l_result_4_30_Y_100_sys_prompt9_5_0.01_ver3_55.csv\n",
      "/usr/share/d_ollama/data/q_output_code_y_250203.csv\n"
     ]
    },
    {
     "name": "stderr",
     "output_type": "stream",
     "text": [
      "150it [16:56,  6.78s/it]\n"
     ]
    },
    {
     "name": "stdout",
     "output_type": "stream",
     "text": [
      "Task l_4_30_Y_sys_prompt9_5 실행 중: 56\n",
      "./result/sc_l_result_4_30_Y_100_sys_prompt9_5_0.01_ver3_56.csv\n",
      "/usr/share/d_ollama/data/q_output_code_y_250203.csv\n"
     ]
    },
    {
     "name": "stderr",
     "output_type": "stream",
     "text": [
      "150it [21:59,  8.80s/it]\n"
     ]
    },
    {
     "name": "stdout",
     "output_type": "stream",
     "text": [
      "Task l_4_30_Y_sys_prompt9_5 실행 중: 57\n",
      "./result/sc_l_result_4_30_Y_100_sys_prompt9_5_0.01_ver3_57.csv\n",
      "/usr/share/d_ollama/data/q_output_code_y_250203.csv\n"
     ]
    },
    {
     "name": "stderr",
     "output_type": "stream",
     "text": [
      "150it [07:09,  2.86s/it]\n"
     ]
    },
    {
     "name": "stdout",
     "output_type": "stream",
     "text": [
      "Task l_4_30_Y_sys_prompt9_5 실행 중: 58\n",
      "./result/sc_l_result_4_30_Y_100_sys_prompt9_5_0.01_ver3_58.csv\n",
      "/usr/share/d_ollama/data/q_output_code_y_250203.csv\n"
     ]
    },
    {
     "name": "stderr",
     "output_type": "stream",
     "text": [
      "150it [18:16,  7.31s/it]\n"
     ]
    },
    {
     "name": "stdout",
     "output_type": "stream",
     "text": [
      "Task l_4_30_Y_sys_prompt9_5 실행 중: 59\n",
      "./result/sc_l_result_4_30_Y_100_sys_prompt9_5_0.01_ver3_59.csv\n",
      "/usr/share/d_ollama/data/q_output_code_y_250203.csv\n"
     ]
    },
    {
     "name": "stderr",
     "output_type": "stream",
     "text": [
      "150it [22:51,  9.14s/it]\n"
     ]
    },
    {
     "name": "stdout",
     "output_type": "stream",
     "text": [
      "Task l_4_30_Y_sys_prompt9_5 실행 중: 60\n",
      "./result/sc_l_result_4_30_Y_100_sys_prompt9_5_0.01_ver3_60.csv\n",
      "/usr/share/d_ollama/data/q_output_code_y_250203.csv\n"
     ]
    },
    {
     "name": "stderr",
     "output_type": "stream",
     "text": [
      "150it [17:07,  6.85s/it]\n"
     ]
    },
    {
     "name": "stdout",
     "output_type": "stream",
     "text": [
      "Task l_4_30_Y_sys_prompt9_5 실행 중: 61\n",
      "./result/sc_l_result_4_30_Y_100_sys_prompt9_5_0.01_ver3_61.csv\n",
      "/usr/share/d_ollama/data/q_output_code_y_250203.csv\n"
     ]
    },
    {
     "name": "stderr",
     "output_type": "stream",
     "text": [
      "150it [16:18,  6.52s/it]\n"
     ]
    },
    {
     "name": "stdout",
     "output_type": "stream",
     "text": [
      "Task l_4_30_Y_sys_prompt9_5 실행 중: 62\n",
      "./result/sc_l_result_4_30_Y_100_sys_prompt9_5_0.01_ver3_62.csv\n",
      "/usr/share/d_ollama/data/q_output_code_y_250203.csv\n"
     ]
    },
    {
     "name": "stderr",
     "output_type": "stream",
     "text": [
      "150it [21:35,  8.64s/it]\n"
     ]
    },
    {
     "name": "stdout",
     "output_type": "stream",
     "text": [
      "Task l_4_30_Y_sys_prompt9_5 실행 중: 63\n",
      "./result/sc_l_result_4_30_Y_100_sys_prompt9_5_0.01_ver3_63.csv\n",
      "/usr/share/d_ollama/data/q_output_code_y_250203.csv\n"
     ]
    },
    {
     "name": "stderr",
     "output_type": "stream",
     "text": [
      "150it [21:11,  8.48s/it]\n"
     ]
    },
    {
     "name": "stdout",
     "output_type": "stream",
     "text": [
      "Task l_4_30_Y_sys_prompt9_5 실행 중: 64\n",
      "./result/sc_l_result_4_30_Y_100_sys_prompt9_5_0.01_ver3_64.csv\n",
      "/usr/share/d_ollama/data/q_output_code_y_250203.csv\n"
     ]
    },
    {
     "name": "stderr",
     "output_type": "stream",
     "text": [
      "150it [24:06,  9.64s/it]\n"
     ]
    },
    {
     "name": "stdout",
     "output_type": "stream",
     "text": [
      "Task l_4_30_Y_sys_prompt9_5 실행 중: 65\n",
      "./result/sc_l_result_4_30_Y_100_sys_prompt9_5_0.01_ver3_65.csv\n",
      "/usr/share/d_ollama/data/q_output_code_y_250203.csv\n"
     ]
    },
    {
     "name": "stderr",
     "output_type": "stream",
     "text": [
      "150it [18:26,  7.38s/it]\n"
     ]
    },
    {
     "name": "stdout",
     "output_type": "stream",
     "text": [
      "Task l_4_30_Y_sys_prompt9_5 실행 중: 66\n",
      "./result/sc_l_result_4_30_Y_100_sys_prompt9_5_0.01_ver3_66.csv\n",
      "/usr/share/d_ollama/data/q_output_code_y_250203.csv\n"
     ]
    },
    {
     "name": "stderr",
     "output_type": "stream",
     "text": [
      "150it [12:46,  5.11s/it]\n"
     ]
    },
    {
     "name": "stdout",
     "output_type": "stream",
     "text": [
      "Task l_4_30_Y_sys_prompt9_5 실행 중: 67\n",
      "./result/sc_l_result_4_30_Y_100_sys_prompt9_5_0.01_ver3_67.csv\n",
      "/usr/share/d_ollama/data/q_output_code_y_250203.csv\n"
     ]
    },
    {
     "name": "stderr",
     "output_type": "stream",
     "text": [
      "150it [16:50,  6.74s/it]\n"
     ]
    },
    {
     "name": "stdout",
     "output_type": "stream",
     "text": [
      "Task l_4_30_Y_sys_prompt9_5 실행 중: 68\n",
      "./result/sc_l_result_4_30_Y_100_sys_prompt9_5_0.01_ver3_68.csv\n",
      "/usr/share/d_ollama/data/q_output_code_y_250203.csv\n"
     ]
    },
    {
     "name": "stderr",
     "output_type": "stream",
     "text": [
      "150it [19:57,  7.98s/it]\n"
     ]
    },
    {
     "name": "stdout",
     "output_type": "stream",
     "text": [
      "Task l_4_30_Y_sys_prompt9_5 실행 중: 69\n",
      "./result/sc_l_result_4_30_Y_100_sys_prompt9_5_0.01_ver3_69.csv\n",
      "/usr/share/d_ollama/data/q_output_code_y_250203.csv\n"
     ]
    },
    {
     "name": "stderr",
     "output_type": "stream",
     "text": [
      "150it [22:48,  9.13s/it]\n"
     ]
    },
    {
     "name": "stdout",
     "output_type": "stream",
     "text": [
      "Task l_4_30_Y_sys_prompt9_5 실행 중: 70\n",
      "./result/sc_l_result_4_30_Y_100_sys_prompt9_5_0.01_ver3_70.csv\n",
      "/usr/share/d_ollama/data/q_output_code_y_250203.csv\n"
     ]
    },
    {
     "name": "stderr",
     "output_type": "stream",
     "text": [
      "150it [20:22,  8.15s/it]\n"
     ]
    },
    {
     "name": "stdout",
     "output_type": "stream",
     "text": [
      "Task l_4_30_Y_sys_prompt9_5 실행 중: 71\n",
      "./result/sc_l_result_4_30_Y_100_sys_prompt9_5_0.01_ver3_71.csv\n",
      "/usr/share/d_ollama/data/q_output_code_y_250203.csv\n"
     ]
    },
    {
     "name": "stderr",
     "output_type": "stream",
     "text": [
      "150it [17:40,  7.07s/it]\n"
     ]
    },
    {
     "name": "stdout",
     "output_type": "stream",
     "text": [
      "Task l_4_30_Y_sys_prompt9_5 실행 중: 72\n",
      "./result/sc_l_result_4_30_Y_100_sys_prompt9_5_0.01_ver3_72.csv\n",
      "/usr/share/d_ollama/data/q_output_code_y_250203.csv\n"
     ]
    },
    {
     "name": "stderr",
     "output_type": "stream",
     "text": [
      "150it [24:34,  9.83s/it]\n"
     ]
    },
    {
     "name": "stdout",
     "output_type": "stream",
     "text": [
      "Task l_4_30_Y_sys_prompt9_5 실행 중: 73\n",
      "./result/sc_l_result_4_30_Y_100_sys_prompt9_5_0.01_ver3_73.csv\n",
      "/usr/share/d_ollama/data/q_output_code_y_250203.csv\n"
     ]
    },
    {
     "name": "stderr",
     "output_type": "stream",
     "text": [
      "150it [25:28, 10.19s/it]\n"
     ]
    },
    {
     "name": "stdout",
     "output_type": "stream",
     "text": [
      "Task l_4_30_Y_sys_prompt9_5 실행 중: 74\n",
      "./result/sc_l_result_4_30_Y_100_sys_prompt9_5_0.01_ver3_74.csv\n",
      "/usr/share/d_ollama/data/q_output_code_y_250203.csv\n"
     ]
    },
    {
     "name": "stderr",
     "output_type": "stream",
     "text": [
      "150it [21:00,  8.40s/it]\n"
     ]
    },
    {
     "name": "stdout",
     "output_type": "stream",
     "text": [
      "Task l_4_30_Y_sys_prompt9_5 실행 중: 75\n",
      "./result/sc_l_result_4_30_Y_100_sys_prompt9_5_0.01_ver3_75.csv\n",
      "/usr/share/d_ollama/data/q_output_code_y_250203.csv\n"
     ]
    },
    {
     "name": "stderr",
     "output_type": "stream",
     "text": [
      "150it [04:21,  1.74s/it]\n"
     ]
    },
    {
     "name": "stdout",
     "output_type": "stream",
     "text": [
      "Task l_4_30_Y_sys_prompt9_5 실행 중: 76\n",
      "./result/sc_l_result_4_30_Y_100_sys_prompt9_5_0.01_ver3_76.csv\n",
      "/usr/share/d_ollama/data/q_output_code_y_250203.csv\n"
     ]
    },
    {
     "name": "stderr",
     "output_type": "stream",
     "text": [
      "150it [15:54,  6.36s/it]\n"
     ]
    },
    {
     "name": "stdout",
     "output_type": "stream",
     "text": [
      "Task l_4_30_Y_sys_prompt9_5 실행 중: 77\n",
      "./result/sc_l_result_4_30_Y_100_sys_prompt9_5_0.01_ver3_77.csv\n",
      "/usr/share/d_ollama/data/q_output_code_y_250203.csv\n"
     ]
    },
    {
     "name": "stderr",
     "output_type": "stream",
     "text": [
      "150it [12:00,  4.80s/it]\n"
     ]
    },
    {
     "name": "stdout",
     "output_type": "stream",
     "text": [
      "Task l_4_30_Y_sys_prompt9_5 실행 중: 78\n",
      "./result/sc_l_result_4_30_Y_100_sys_prompt9_5_0.01_ver3_78.csv\n",
      "/usr/share/d_ollama/data/q_output_code_y_250203.csv\n"
     ]
    },
    {
     "name": "stderr",
     "output_type": "stream",
     "text": [
      "150it [11:20,  4.53s/it]\n"
     ]
    },
    {
     "name": "stdout",
     "output_type": "stream",
     "text": [
      "Task l_4_30_Y_sys_prompt9_5 실행 중: 79\n",
      "./result/sc_l_result_4_30_Y_100_sys_prompt9_5_0.01_ver3_79.csv\n",
      "/usr/share/d_ollama/data/q_output_code_y_250203.csv\n"
     ]
    },
    {
     "name": "stderr",
     "output_type": "stream",
     "text": [
      "150it [15:19,  6.13s/it]\n"
     ]
    },
    {
     "name": "stdout",
     "output_type": "stream",
     "text": [
      "Task l_4_30_Y_sys_prompt9_5 실행 중: 80\n",
      "./result/sc_l_result_4_30_Y_100_sys_prompt9_5_0.01_ver3_80.csv\n",
      "/usr/share/d_ollama/data/q_output_code_y_250203.csv\n"
     ]
    },
    {
     "name": "stderr",
     "output_type": "stream",
     "text": [
      "150it [22:31,  9.01s/it]\n"
     ]
    },
    {
     "name": "stdout",
     "output_type": "stream",
     "text": [
      "Task l_4_30_Y_sys_prompt9_5 실행 중: 81\n",
      "./result/sc_l_result_4_30_Y_100_sys_prompt9_5_0.01_ver3_81.csv\n",
      "/usr/share/d_ollama/data/q_output_code_y_250203.csv\n"
     ]
    },
    {
     "name": "stderr",
     "output_type": "stream",
     "text": [
      "150it [22:37,  9.05s/it]\n"
     ]
    },
    {
     "name": "stdout",
     "output_type": "stream",
     "text": [
      "Task l_4_30_Y_sys_prompt9_5 실행 중: 82\n",
      "./result/sc_l_result_4_30_Y_100_sys_prompt9_5_0.01_ver3_82.csv\n",
      "/usr/share/d_ollama/data/q_output_code_y_250203.csv\n"
     ]
    },
    {
     "name": "stderr",
     "output_type": "stream",
     "text": [
      "150it [18:28,  7.39s/it]\n"
     ]
    },
    {
     "name": "stdout",
     "output_type": "stream",
     "text": [
      "Task l_4_30_Y_sys_prompt9_5 실행 중: 83\n",
      "./result/sc_l_result_4_30_Y_100_sys_prompt9_5_0.01_ver3_83.csv\n",
      "/usr/share/d_ollama/data/q_output_code_y_250203.csv\n"
     ]
    },
    {
     "name": "stderr",
     "output_type": "stream",
     "text": [
      "150it [21:59,  8.80s/it]\n"
     ]
    },
    {
     "name": "stdout",
     "output_type": "stream",
     "text": [
      "Task l_4_30_Y_sys_prompt9_5 실행 중: 84\n",
      "./result/sc_l_result_4_30_Y_100_sys_prompt9_5_0.01_ver3_84.csv\n",
      "/usr/share/d_ollama/data/q_output_code_y_250203.csv\n"
     ]
    },
    {
     "name": "stderr",
     "output_type": "stream",
     "text": [
      "150it [18:22,  7.35s/it]\n"
     ]
    },
    {
     "name": "stdout",
     "output_type": "stream",
     "text": [
      "Task l_4_30_Y_sys_prompt9_5 실행 중: 85\n",
      "./result/sc_l_result_4_30_Y_100_sys_prompt9_5_0.01_ver3_85.csv\n",
      "/usr/share/d_ollama/data/q_output_code_y_250203.csv\n"
     ]
    },
    {
     "name": "stderr",
     "output_type": "stream",
     "text": [
      "150it [21:03,  8.42s/it]\n"
     ]
    },
    {
     "name": "stdout",
     "output_type": "stream",
     "text": [
      "Task l_4_30_Y_sys_prompt9_5 실행 중: 86\n",
      "./result/sc_l_result_4_30_Y_100_sys_prompt9_5_0.01_ver3_86.csv\n",
      "/usr/share/d_ollama/data/q_output_code_y_250203.csv\n"
     ]
    },
    {
     "name": "stderr",
     "output_type": "stream",
     "text": [
      "150it [21:46,  8.71s/it]\n"
     ]
    },
    {
     "name": "stdout",
     "output_type": "stream",
     "text": [
      "Task l_4_30_Y_sys_prompt9_5 실행 중: 87\n",
      "./result/sc_l_result_4_30_Y_100_sys_prompt9_5_0.01_ver3_87.csv\n",
      "/usr/share/d_ollama/data/q_output_code_y_250203.csv\n"
     ]
    },
    {
     "name": "stderr",
     "output_type": "stream",
     "text": [
      "150it [18:35,  7.43s/it]\n"
     ]
    },
    {
     "name": "stdout",
     "output_type": "stream",
     "text": [
      "Task l_4_30_Y_sys_prompt9_5 실행 중: 88\n",
      "./result/sc_l_result_4_30_Y_100_sys_prompt9_5_0.01_ver3_88.csv\n",
      "/usr/share/d_ollama/data/q_output_code_y_250203.csv\n"
     ]
    },
    {
     "name": "stderr",
     "output_type": "stream",
     "text": [
      "150it [26:38, 10.66s/it]\n"
     ]
    },
    {
     "name": "stdout",
     "output_type": "stream",
     "text": [
      "Task l_4_30_Y_sys_prompt9_5 실행 중: 89\n",
      "./result/sc_l_result_4_30_Y_100_sys_prompt9_5_0.01_ver3_89.csv\n",
      "/usr/share/d_ollama/data/q_output_code_y_250203.csv\n"
     ]
    },
    {
     "name": "stderr",
     "output_type": "stream",
     "text": [
      "150it [21:23,  8.55s/it]\n"
     ]
    },
    {
     "name": "stdout",
     "output_type": "stream",
     "text": [
      "Task l_4_30_Y_sys_prompt9_5 실행 중: 90\n",
      "./result/sc_l_result_4_30_Y_100_sys_prompt9_5_0.01_ver3_90.csv\n",
      "/usr/share/d_ollama/data/q_output_code_y_250203.csv\n"
     ]
    },
    {
     "name": "stderr",
     "output_type": "stream",
     "text": [
      "47it [06:22,  8.10s/it]"
     ]
    },
    {
     "ename": "KeyboardInterrupt",
     "evalue": "",
     "output_type": "error",
     "traceback": [
      "\u001b[0;31m---------------------------------------------------------------------------\u001b[0m",
      "\u001b[0;31mKeyboardInterrupt\u001b[0m                         Traceback (most recent call last)",
      "Cell \u001b[0;32mIn[3], line 27\u001b[0m\n\u001b[1;32m     24\u001b[0m process3 \u001b[38;5;241m=\u001b[39m Process(target\u001b[38;5;241m=\u001b[39mtask, args\u001b[38;5;241m=\u001b[39m(\u001b[38;5;124m'\u001b[39m\u001b[38;5;124ml\u001b[39m\u001b[38;5;124m'\u001b[39m, \u001b[38;5;241m4\u001b[39m, \u001b[38;5;241m30\u001b[39m, \u001b[38;5;124m'\u001b[39m\u001b[38;5;124mY\u001b[39m\u001b[38;5;124m'\u001b[39m, \u001b[38;5;241m100\u001b[39m, \u001b[38;5;124m'\u001b[39m\u001b[38;5;124msys_prompt9\u001b[39m\u001b[38;5;124m'\u001b[39m, \u001b[38;5;241m5\u001b[39m, \u001b[38;5;241m0.01\u001b[39m, \u001b[38;5;124m'\u001b[39m\u001b[38;5;124mver3\u001b[39m\u001b[38;5;124m'\u001b[39m))\n\u001b[1;32m     25\u001b[0m process3\u001b[38;5;241m.\u001b[39mstart()\n\u001b[0;32m---> 27\u001b[0m \u001b[43mprocess3\u001b[49m\u001b[38;5;241;43m.\u001b[39;49m\u001b[43mjoin\u001b[49m\u001b[43m(\u001b[49m\u001b[43m)\u001b[49m\n\u001b[1;32m     28\u001b[0m \u001b[38;5;28mprint\u001b[39m(\u001b[38;5;124m\"\u001b[39m\u001b[38;5;124m모든 작업 완료\u001b[39m\u001b[38;5;124m\"\u001b[39m)\n",
      "File \u001b[0;32m/usr/lib/python3.10/multiprocessing/process.py:149\u001b[0m, in \u001b[0;36mBaseProcess.join\u001b[0;34m(self, timeout)\u001b[0m\n\u001b[1;32m    147\u001b[0m \u001b[38;5;28;01massert\u001b[39;00m \u001b[38;5;28mself\u001b[39m\u001b[38;5;241m.\u001b[39m_parent_pid \u001b[38;5;241m==\u001b[39m os\u001b[38;5;241m.\u001b[39mgetpid(), \u001b[38;5;124m'\u001b[39m\u001b[38;5;124mcan only join a child process\u001b[39m\u001b[38;5;124m'\u001b[39m\n\u001b[1;32m    148\u001b[0m \u001b[38;5;28;01massert\u001b[39;00m \u001b[38;5;28mself\u001b[39m\u001b[38;5;241m.\u001b[39m_popen \u001b[38;5;129;01mis\u001b[39;00m \u001b[38;5;129;01mnot\u001b[39;00m \u001b[38;5;28;01mNone\u001b[39;00m, \u001b[38;5;124m'\u001b[39m\u001b[38;5;124mcan only join a started process\u001b[39m\u001b[38;5;124m'\u001b[39m\n\u001b[0;32m--> 149\u001b[0m res \u001b[38;5;241m=\u001b[39m \u001b[38;5;28;43mself\u001b[39;49m\u001b[38;5;241;43m.\u001b[39;49m\u001b[43m_popen\u001b[49m\u001b[38;5;241;43m.\u001b[39;49m\u001b[43mwait\u001b[49m\u001b[43m(\u001b[49m\u001b[43mtimeout\u001b[49m\u001b[43m)\u001b[49m\n\u001b[1;32m    150\u001b[0m \u001b[38;5;28;01mif\u001b[39;00m res \u001b[38;5;129;01mis\u001b[39;00m \u001b[38;5;129;01mnot\u001b[39;00m \u001b[38;5;28;01mNone\u001b[39;00m:\n\u001b[1;32m    151\u001b[0m     _children\u001b[38;5;241m.\u001b[39mdiscard(\u001b[38;5;28mself\u001b[39m)\n",
      "File \u001b[0;32m/usr/lib/python3.10/multiprocessing/popen_fork.py:43\u001b[0m, in \u001b[0;36mPopen.wait\u001b[0;34m(self, timeout)\u001b[0m\n\u001b[1;32m     41\u001b[0m             \u001b[38;5;28;01mreturn\u001b[39;00m \u001b[38;5;28;01mNone\u001b[39;00m\n\u001b[1;32m     42\u001b[0m     \u001b[38;5;66;03m# This shouldn't block if wait() returned successfully.\u001b[39;00m\n\u001b[0;32m---> 43\u001b[0m     \u001b[38;5;28;01mreturn\u001b[39;00m \u001b[38;5;28;43mself\u001b[39;49m\u001b[38;5;241;43m.\u001b[39;49m\u001b[43mpoll\u001b[49m\u001b[43m(\u001b[49m\u001b[43mos\u001b[49m\u001b[38;5;241;43m.\u001b[39;49m\u001b[43mWNOHANG\u001b[49m\u001b[43m \u001b[49m\u001b[38;5;28;43;01mif\u001b[39;49;00m\u001b[43m \u001b[49m\u001b[43mtimeout\u001b[49m\u001b[43m \u001b[49m\u001b[38;5;241;43m==\u001b[39;49m\u001b[43m \u001b[49m\u001b[38;5;241;43m0.0\u001b[39;49m\u001b[43m \u001b[49m\u001b[38;5;28;43;01melse\u001b[39;49;00m\u001b[43m \u001b[49m\u001b[38;5;241;43m0\u001b[39;49m\u001b[43m)\u001b[49m\n\u001b[1;32m     44\u001b[0m \u001b[38;5;28;01mreturn\u001b[39;00m \u001b[38;5;28mself\u001b[39m\u001b[38;5;241m.\u001b[39mreturncode\n",
      "File \u001b[0;32m/usr/lib/python3.10/multiprocessing/popen_fork.py:27\u001b[0m, in \u001b[0;36mPopen.poll\u001b[0;34m(self, flag)\u001b[0m\n\u001b[1;32m     25\u001b[0m \u001b[38;5;28;01mif\u001b[39;00m \u001b[38;5;28mself\u001b[39m\u001b[38;5;241m.\u001b[39mreturncode \u001b[38;5;129;01mis\u001b[39;00m \u001b[38;5;28;01mNone\u001b[39;00m:\n\u001b[1;32m     26\u001b[0m     \u001b[38;5;28;01mtry\u001b[39;00m:\n\u001b[0;32m---> 27\u001b[0m         pid, sts \u001b[38;5;241m=\u001b[39m \u001b[43mos\u001b[49m\u001b[38;5;241;43m.\u001b[39;49m\u001b[43mwaitpid\u001b[49m\u001b[43m(\u001b[49m\u001b[38;5;28;43mself\u001b[39;49m\u001b[38;5;241;43m.\u001b[39;49m\u001b[43mpid\u001b[49m\u001b[43m,\u001b[49m\u001b[43m \u001b[49m\u001b[43mflag\u001b[49m\u001b[43m)\u001b[49m\n\u001b[1;32m     28\u001b[0m     \u001b[38;5;28;01mexcept\u001b[39;00m \u001b[38;5;167;01mOSError\u001b[39;00m:\n\u001b[1;32m     29\u001b[0m         \u001b[38;5;66;03m# Child process not yet created. See #1731717\u001b[39;00m\n\u001b[1;32m     30\u001b[0m         \u001b[38;5;66;03m# e.errno == errno.ECHILD == 10\u001b[39;00m\n\u001b[1;32m     31\u001b[0m         \u001b[38;5;28;01mreturn\u001b[39;00m \u001b[38;5;28;01mNone\u001b[39;00m\n",
      "\u001b[0;31mKeyboardInterrupt\u001b[0m: "
     ]
    },
    {
     "name": "stderr",
     "output_type": "stream",
     "text": [
      "55it [07:49, 10.09s/it]"
     ]
    }
   ],
   "source": [
    "from multiprocessing import Process\n",
    "    \n",
    "def task(llm_model, few_shot_n, test_n, q_src_yn, ver, p_ver, sc_num, temperature, excel_ver):\n",
    "\n",
    "    print(f\"Task {llm_model}_{few_shot_n}_{test_n}_{q_src_yn}_{p_ver}_{sc_num} 시작\")\n",
    "    for i in range(ver):\n",
    "        print(f\"Task {llm_model}_{few_shot_n}_{test_n}_{q_src_yn}_{p_ver}_{sc_num} 실행 중: {i}\")\n",
    "        sc.Self_Consistency(   llm_model\n",
    "                            , few_shot_n\n",
    "                            , test_n\n",
    "                            , q_src_yn\n",
    "                            , ver\n",
    "                            , p_ver\n",
    "                            , sc_num\n",
    "                            , temperature\n",
    "                            , excel_ver\n",
    "                            , i)\n",
    "    \n",
    "    print(f\"Task {llm_model}_{few_shot_n}_{test_n}_{q_src_yn}_{p_ver}_{sc_num} 완료\")\n",
    "\n",
    "if __name__ == \"__main__\":\n",
    "\n",
    "\n",
    "    process3 = Process(target=task, args=('l', 4, 30, 'Y', 100, 'sys_prompt9', 5, 0.01, 'ver3'))\n",
    "    process3.start()\n",
    "    \n",
    "    process3.join()\n",
    "    print(\"모든 작업 완료\")"
   ]
  },
  {
   "cell_type": "code",
   "execution_count": null,
   "metadata": {},
   "outputs": [],
   "source": []
  }
 ],
 "metadata": {
  "kernelspec": {
   "display_name": "venv_stackoverflow_src",
   "language": "python",
   "name": "python3"
  },
  "language_info": {
   "codemirror_mode": {
    "name": "ipython",
    "version": 3
   },
   "file_extension": ".py",
   "mimetype": "text/x-python",
   "name": "python",
   "nbconvert_exporter": "python",
   "pygments_lexer": "ipython3",
   "version": "3.10.12"
  }
 },
 "nbformat": 4,
 "nbformat_minor": 2
}
