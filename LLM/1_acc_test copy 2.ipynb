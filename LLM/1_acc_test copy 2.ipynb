{
 "cells": [
  {
   "cell_type": "code",
   "execution_count": 2,
   "metadata": {},
   "outputs": [],
   "source": [
    "import sys, os\n",
    "p = os.path.abspath('..')\n",
    "# p = p+r'\\config'\n",
    "sys.path.insert(1, p)"
   ]
  },
  {
   "cell_type": "code",
   "execution_count": 3,
   "metadata": {},
   "outputs": [
    {
     "name": "stdout",
     "output_type": "stream",
     "text": [
      "INFO 10-24 19:30:49 [__init__.py:216] Automatically detected platform cuda.\n"
     ]
    }
   ],
   "source": [
    "import lib.annotation.D_Annotation as da\n",
    "import lib.annotation.Self_Consistency as sc\n",
    "\n",
    "\n"
   ]
  },
  {
   "cell_type": "code",
   "execution_count": 3,
   "metadata": {},
   "outputs": [
    {
     "name": "stdout",
     "output_type": "stream",
     "text": [
      "Task l_4_10_Y_sys_prompt10_5 시작\n",
      "Task l_4_10_Y_sys_prompt10_5 실행 중: 0\n",
      "./result/sc_l_result_4_10_Y_10_sys_prompt10_5_0.01_ver5_0.csv\n",
      "/usr/share/d_ollama/data/q_output_code_y_103.csv\n"
     ]
    },
    {
     "name": "stderr",
     "output_type": "stream",
     "text": [
      "50it [04:28,  5.37s/it]\n"
     ]
    },
    {
     "name": "stdout",
     "output_type": "stream",
     "text": [
      "Task l_4_10_Y_sys_prompt10_5 실행 중: 1\n",
      "./result/sc_l_result_4_10_Y_10_sys_prompt10_5_0.01_ver5_1.csv\n",
      "/usr/share/d_ollama/data/q_output_code_y_103.csv\n"
     ]
    },
    {
     "name": "stderr",
     "output_type": "stream",
     "text": [
      "50it [07:00,  8.41s/it]\n"
     ]
    },
    {
     "name": "stdout",
     "output_type": "stream",
     "text": [
      "Task l_4_10_Y_sys_prompt10_5 실행 중: 2\n",
      "./result/sc_l_result_4_10_Y_10_sys_prompt10_5_0.01_ver5_2.csv\n",
      "/usr/share/d_ollama/data/q_output_code_y_103.csv\n"
     ]
    },
    {
     "name": "stderr",
     "output_type": "stream",
     "text": [
      "50it [06:57,  8.35s/it]\n"
     ]
    },
    {
     "name": "stdout",
     "output_type": "stream",
     "text": [
      "Task l_4_10_Y_sys_prompt10_5 실행 중: 3\n",
      "./result/sc_l_result_4_10_Y_10_sys_prompt10_5_0.01_ver5_3.csv\n",
      "/usr/share/d_ollama/data/q_output_code_y_103.csv\n"
     ]
    },
    {
     "name": "stderr",
     "output_type": "stream",
     "text": [
      "50it [07:48,  9.37s/it]\n"
     ]
    },
    {
     "name": "stdout",
     "output_type": "stream",
     "text": [
      "Task l_4_10_Y_sys_prompt10_5 실행 중: 4\n",
      "./result/sc_l_result_4_10_Y_10_sys_prompt10_5_0.01_ver5_4.csv\n",
      "/usr/share/d_ollama/data/q_output_code_y_103.csv\n"
     ]
    },
    {
     "name": "stderr",
     "output_type": "stream",
     "text": [
      "50it [07:56,  9.54s/it]\n"
     ]
    },
    {
     "name": "stdout",
     "output_type": "stream",
     "text": [
      "Task l_4_10_Y_sys_prompt10_5 실행 중: 5\n",
      "./result/sc_l_result_4_10_Y_10_sys_prompt10_5_0.01_ver5_5.csv\n",
      "/usr/share/d_ollama/data/q_output_code_y_103.csv\n"
     ]
    },
    {
     "name": "stderr",
     "output_type": "stream",
     "text": [
      "50it [08:00,  9.61s/it]\n"
     ]
    },
    {
     "name": "stdout",
     "output_type": "stream",
     "text": [
      "Task l_4_10_Y_sys_prompt10_5 실행 중: 6\n",
      "./result/sc_l_result_4_10_Y_10_sys_prompt10_5_0.01_ver5_6.csv\n",
      "/usr/share/d_ollama/data/q_output_code_y_103.csv\n"
     ]
    },
    {
     "name": "stderr",
     "output_type": "stream",
     "text": [
      "50it [07:32,  9.04s/it]\n"
     ]
    },
    {
     "name": "stdout",
     "output_type": "stream",
     "text": [
      "Task l_4_10_Y_sys_prompt10_5 실행 중: 7\n",
      "./result/sc_l_result_4_10_Y_10_sys_prompt10_5_0.01_ver5_7.csv\n",
      "/usr/share/d_ollama/data/q_output_code_y_103.csv\n"
     ]
    },
    {
     "name": "stderr",
     "output_type": "stream",
     "text": [
      "50it [07:51,  9.42s/it]\n"
     ]
    },
    {
     "name": "stdout",
     "output_type": "stream",
     "text": [
      "Task l_4_10_Y_sys_prompt10_5 실행 중: 8\n",
      "./result/sc_l_result_4_10_Y_10_sys_prompt10_5_0.01_ver5_8.csv\n",
      "/usr/share/d_ollama/data/q_output_code_y_103.csv\n"
     ]
    },
    {
     "name": "stderr",
     "output_type": "stream",
     "text": [
      "50it [07:36,  9.12s/it]\n"
     ]
    },
    {
     "name": "stdout",
     "output_type": "stream",
     "text": [
      "Task l_4_10_Y_sys_prompt10_5 실행 중: 9\n",
      "./result/sc_l_result_4_10_Y_10_sys_prompt10_5_0.01_ver5_9.csv\n",
      "/usr/share/d_ollama/data/q_output_code_y_103.csv\n"
     ]
    },
    {
     "name": "stderr",
     "output_type": "stream",
     "text": [
      "50it [08:44, 10.49s/it]\n"
     ]
    },
    {
     "name": "stdout",
     "output_type": "stream",
     "text": [
      "Task l_4_10_Y_sys_prompt10_5 완료\n",
      "모든 작업 완료\n"
     ]
    }
   ],
   "source": [
    "from multiprocessing import Process\n",
    "    \n",
    "def task(llm_model, few_shot_n, test_n, q_src_yn, ver, p_ver, sc_num, temperature, excel_ver):\n",
    "\n",
    "    print(f\"Task {llm_model}_{few_shot_n}_{test_n}_{q_src_yn}_{p_ver}_{sc_num} 시작\")\n",
    "    for i in range(ver):\n",
    "        print(f\"Task {llm_model}_{few_shot_n}_{test_n}_{q_src_yn}_{p_ver}_{sc_num} 실행 중: {i}\")\n",
    "        sc.Self_Consistency(   llm_model\n",
    "                            , few_shot_n\n",
    "                            , test_n\n",
    "                            , q_src_yn\n",
    "                            , ver\n",
    "                            , p_ver\n",
    "                            , sc_num\n",
    "                            , temperature\n",
    "                            , excel_ver\n",
    "                            , i)\n",
    "    \n",
    "    print(f\"Task {llm_model}_{few_shot_n}_{test_n}_{q_src_yn}_{p_ver}_{sc_num} 완료\")\n",
    "\n",
    "if __name__ == \"__main__\":\n",
    "\n",
    "\n",
    "    process3 = Process(target=task, args=('l', 4, 10, 'Y', 10, 'sys_prompt10', 5, 0.01, 'ver5'))\n",
    "    process3.start()\n",
    "    \n",
    "    process3.join()\n",
    "    print(\"모든 작업 완료\")\n"
   ]
  },
  {
   "cell_type": "code",
   "execution_count": 4,
   "metadata": {},
   "outputs": [
    {
     "name": "stdout",
     "output_type": "stream",
     "text": [
      "Task l_1_10_Y_sys_prompt10_3 시작\n",
      "Task l_1_10_Y_sys_prompt10_3 실행 중: 0\n",
      "./result/sc_l_result_1_10_Y_10_sys_prompt10_3_0.01_ver5_0.csv\n",
      "/usr/share/d_ollama/data/q_output_code_y_103.csv\n"
     ]
    },
    {
     "name": "stderr",
     "output_type": "stream",
     "text": [
      "30it [03:14,  6.49s/it]\n"
     ]
    },
    {
     "name": "stdout",
     "output_type": "stream",
     "text": [
      "Task l_1_10_Y_sys_prompt10_3 실행 중: 1\n",
      "./result/sc_l_result_1_10_Y_10_sys_prompt10_3_0.01_ver5_1.csv\n",
      "/usr/share/d_ollama/data/q_output_code_y_103.csv\n"
     ]
    },
    {
     "name": "stderr",
     "output_type": "stream",
     "text": [
      "30it [02:07,  4.26s/it]\n"
     ]
    },
    {
     "name": "stdout",
     "output_type": "stream",
     "text": [
      "Task l_1_10_Y_sys_prompt10_3 실행 중: 2\n",
      "./result/sc_l_result_1_10_Y_10_sys_prompt10_3_0.01_ver5_2.csv\n",
      "/usr/share/d_ollama/data/q_output_code_y_103.csv\n"
     ]
    },
    {
     "name": "stderr",
     "output_type": "stream",
     "text": [
      "30it [01:53,  3.78s/it]\n"
     ]
    },
    {
     "name": "stdout",
     "output_type": "stream",
     "text": [
      "Task l_1_10_Y_sys_prompt10_3 실행 중: 3\n",
      "./result/sc_l_result_1_10_Y_10_sys_prompt10_3_0.01_ver5_3.csv\n",
      "/usr/share/d_ollama/data/q_output_code_y_103.csv\n"
     ]
    },
    {
     "name": "stderr",
     "output_type": "stream",
     "text": [
      "30it [02:02,  4.07s/it]\n"
     ]
    },
    {
     "name": "stdout",
     "output_type": "stream",
     "text": [
      "Task l_1_10_Y_sys_prompt10_3 실행 중: 4\n",
      "./result/sc_l_result_1_10_Y_10_sys_prompt10_3_0.01_ver5_4.csv\n",
      "/usr/share/d_ollama/data/q_output_code_y_103.csv\n"
     ]
    },
    {
     "name": "stderr",
     "output_type": "stream",
     "text": [
      "30it [03:23,  6.79s/it]\n"
     ]
    },
    {
     "name": "stdout",
     "output_type": "stream",
     "text": [
      "Task l_1_10_Y_sys_prompt10_3 실행 중: 5\n",
      "./result/sc_l_result_1_10_Y_10_sys_prompt10_3_0.01_ver5_5.csv\n",
      "/usr/share/d_ollama/data/q_output_code_y_103.csv\n"
     ]
    },
    {
     "name": "stderr",
     "output_type": "stream",
     "text": [
      "30it [03:02,  6.08s/it]\n"
     ]
    },
    {
     "name": "stdout",
     "output_type": "stream",
     "text": [
      "Task l_1_10_Y_sys_prompt10_3 실행 중: 6\n",
      "./result/sc_l_result_1_10_Y_10_sys_prompt10_3_0.01_ver5_6.csv\n",
      "/usr/share/d_ollama/data/q_output_code_y_103.csv\n"
     ]
    },
    {
     "name": "stderr",
     "output_type": "stream",
     "text": [
      "30it [03:14,  6.48s/it]\n"
     ]
    },
    {
     "name": "stdout",
     "output_type": "stream",
     "text": [
      "Task l_1_10_Y_sys_prompt10_3 실행 중: 7\n",
      "./result/sc_l_result_1_10_Y_10_sys_prompt10_3_0.01_ver5_7.csv\n",
      "/usr/share/d_ollama/data/q_output_code_y_103.csv\n"
     ]
    },
    {
     "name": "stderr",
     "output_type": "stream",
     "text": [
      "30it [03:20,  6.69s/it]\n"
     ]
    },
    {
     "name": "stdout",
     "output_type": "stream",
     "text": [
      "Task l_1_10_Y_sys_prompt10_3 실행 중: 8\n",
      "./result/sc_l_result_1_10_Y_10_sys_prompt10_3_0.01_ver5_8.csv\n",
      "/usr/share/d_ollama/data/q_output_code_y_103.csv\n"
     ]
    },
    {
     "name": "stderr",
     "output_type": "stream",
     "text": [
      "30it [02:51,  5.72s/it]\n"
     ]
    },
    {
     "name": "stdout",
     "output_type": "stream",
     "text": [
      "Task l_1_10_Y_sys_prompt10_3 실행 중: 9\n",
      "./result/sc_l_result_1_10_Y_10_sys_prompt10_3_0.01_ver5_9.csv\n",
      "/usr/share/d_ollama/data/q_output_code_y_103.csv\n"
     ]
    },
    {
     "name": "stderr",
     "output_type": "stream",
     "text": [
      "30it [03:03,  6.13s/it]\n"
     ]
    },
    {
     "name": "stdout",
     "output_type": "stream",
     "text": [
      "Task l_1_10_Y_sys_prompt10_3 완료\n",
      "모든 작업 완료\n"
     ]
    }
   ],
   "source": [
    "from multiprocessing import Process\n",
    "    \n",
    "def task(llm_model, few_shot_n, test_n, q_src_yn, ver, p_ver, sc_num, temperature, excel_ver):\n",
    "\n",
    "    print(f\"Task {llm_model}_{few_shot_n}_{test_n}_{q_src_yn}_{p_ver}_{sc_num} 시작\")\n",
    "    for i in range(ver):\n",
    "        print(f\"Task {llm_model}_{few_shot_n}_{test_n}_{q_src_yn}_{p_ver}_{sc_num} 실행 중: {i}\")\n",
    "        sc.Self_Consistency(   llm_model\n",
    "                            , few_shot_n\n",
    "                            , test_n\n",
    "                            , q_src_yn\n",
    "                            , ver\n",
    "                            , p_ver\n",
    "                            , sc_num\n",
    "                            , temperature\n",
    "                            , excel_ver\n",
    "                            , i)\n",
    "    \n",
    "    print(f\"Task {llm_model}_{few_shot_n}_{test_n}_{q_src_yn}_{p_ver}_{sc_num} 완료\")\n",
    "\n",
    "if __name__ == \"__main__\":\n",
    "\n",
    "\n",
    "    process3 = Process(target=task, args=('l', 1, 10, 'Y', 10, 'sys_prompt10', 3, 0.01, 'ver5'))\n",
    "    process3.start()\n",
    "    \n",
    "    process3.join()\n",
    "    print(\"모든 작업 완료\")\n"
   ]
  },
  {
   "cell_type": "code",
   "execution_count": 5,
   "metadata": {},
   "outputs": [
    {
     "name": "stdout",
     "output_type": "stream",
     "text": [
      "Task l_2_10_Y_sys_prompt10_3 시작\n",
      "Task l_2_10_Y_sys_prompt10_3 실행 중: 0\n",
      "./result/sc_l_result_2_10_Y_10_sys_prompt10_3_0.01_ver5_0.csv\n",
      "/usr/share/d_ollama/data/q_output_code_y_103.csv\n"
     ]
    },
    {
     "name": "stderr",
     "output_type": "stream",
     "text": [
      "30it [04:16,  8.55s/it]\n"
     ]
    },
    {
     "name": "stdout",
     "output_type": "stream",
     "text": [
      "Task l_2_10_Y_sys_prompt10_3 실행 중: 1\n",
      "./result/sc_l_result_2_10_Y_10_sys_prompt10_3_0.01_ver5_1.csv\n",
      "/usr/share/d_ollama/data/q_output_code_y_103.csv\n"
     ]
    },
    {
     "name": "stderr",
     "output_type": "stream",
     "text": [
      "30it [04:42,  9.43s/it]\n"
     ]
    },
    {
     "name": "stdout",
     "output_type": "stream",
     "text": [
      "Task l_2_10_Y_sys_prompt10_3 실행 중: 2\n",
      "./result/sc_l_result_2_10_Y_10_sys_prompt10_3_0.01_ver5_2.csv\n",
      "/usr/share/d_ollama/data/q_output_code_y_103.csv\n"
     ]
    },
    {
     "name": "stderr",
     "output_type": "stream",
     "text": [
      "30it [04:32,  9.09s/it]\n"
     ]
    },
    {
     "name": "stdout",
     "output_type": "stream",
     "text": [
      "Task l_2_10_Y_sys_prompt10_3 실행 중: 3\n",
      "./result/sc_l_result_2_10_Y_10_sys_prompt10_3_0.01_ver5_3.csv\n",
      "/usr/share/d_ollama/data/q_output_code_y_103.csv\n"
     ]
    },
    {
     "name": "stderr",
     "output_type": "stream",
     "text": [
      "30it [04:33,  9.11s/it]\n"
     ]
    },
    {
     "name": "stdout",
     "output_type": "stream",
     "text": [
      "Task l_2_10_Y_sys_prompt10_3 실행 중: 4\n",
      "./result/sc_l_result_2_10_Y_10_sys_prompt10_3_0.01_ver5_4.csv\n",
      "/usr/share/d_ollama/data/q_output_code_y_103.csv\n"
     ]
    },
    {
     "name": "stderr",
     "output_type": "stream",
     "text": [
      "30it [04:27,  8.90s/it]\n"
     ]
    },
    {
     "name": "stdout",
     "output_type": "stream",
     "text": [
      "Task l_2_10_Y_sys_prompt10_3 실행 중: 5\n",
      "./result/sc_l_result_2_10_Y_10_sys_prompt10_3_0.01_ver5_5.csv\n",
      "/usr/share/d_ollama/data/q_output_code_y_103.csv\n"
     ]
    },
    {
     "name": "stderr",
     "output_type": "stream",
     "text": [
      "30it [04:34,  9.14s/it]\n"
     ]
    },
    {
     "name": "stdout",
     "output_type": "stream",
     "text": [
      "Task l_2_10_Y_sys_prompt10_3 실행 중: 6\n",
      "./result/sc_l_result_2_10_Y_10_sys_prompt10_3_0.01_ver5_6.csv\n",
      "/usr/share/d_ollama/data/q_output_code_y_103.csv\n"
     ]
    },
    {
     "name": "stderr",
     "output_type": "stream",
     "text": [
      "30it [04:35,  9.18s/it]\n"
     ]
    },
    {
     "name": "stdout",
     "output_type": "stream",
     "text": [
      "Task l_2_10_Y_sys_prompt10_3 실행 중: 7\n",
      "./result/sc_l_result_2_10_Y_10_sys_prompt10_3_0.01_ver5_7.csv\n",
      "/usr/share/d_ollama/data/q_output_code_y_103.csv\n"
     ]
    },
    {
     "name": "stderr",
     "output_type": "stream",
     "text": [
      "30it [04:24,  8.81s/it]\n"
     ]
    },
    {
     "name": "stdout",
     "output_type": "stream",
     "text": [
      "Task l_2_10_Y_sys_prompt10_3 실행 중: 8\n",
      "./result/sc_l_result_2_10_Y_10_sys_prompt10_3_0.01_ver5_8.csv\n",
      "/usr/share/d_ollama/data/q_output_code_y_103.csv\n"
     ]
    },
    {
     "name": "stderr",
     "output_type": "stream",
     "text": [
      "30it [04:21,  8.72s/it]\n"
     ]
    },
    {
     "name": "stdout",
     "output_type": "stream",
     "text": [
      "Task l_2_10_Y_sys_prompt10_3 실행 중: 9\n",
      "./result/sc_l_result_2_10_Y_10_sys_prompt10_3_0.01_ver5_9.csv\n",
      "/usr/share/d_ollama/data/q_output_code_y_103.csv\n"
     ]
    },
    {
     "name": "stderr",
     "output_type": "stream",
     "text": [
      "30it [04:19,  8.64s/it]\n"
     ]
    },
    {
     "name": "stdout",
     "output_type": "stream",
     "text": [
      "Task l_2_10_Y_sys_prompt10_3 완료\n",
      "모든 작업 완료\n"
     ]
    }
   ],
   "source": [
    "from multiprocessing import Process\n",
    "    \n",
    "def task(llm_model, few_shot_n, test_n, q_src_yn, ver, p_ver, sc_num, temperature, excel_ver):\n",
    "\n",
    "    print(f\"Task {llm_model}_{few_shot_n}_{test_n}_{q_src_yn}_{p_ver}_{sc_num} 시작\")\n",
    "    for i in range(ver):\n",
    "        print(f\"Task {llm_model}_{few_shot_n}_{test_n}_{q_src_yn}_{p_ver}_{sc_num} 실행 중: {i}\")\n",
    "        sc.Self_Consistency(   llm_model\n",
    "                            , few_shot_n\n",
    "                            , test_n\n",
    "                            , q_src_yn\n",
    "                            , ver\n",
    "                            , p_ver\n",
    "                            , sc_num\n",
    "                            , temperature\n",
    "                            , excel_ver\n",
    "                            , i)\n",
    "    \n",
    "    print(f\"Task {llm_model}_{few_shot_n}_{test_n}_{q_src_yn}_{p_ver}_{sc_num} 완료\")\n",
    "\n",
    "if __name__ == \"__main__\":\n",
    "\n",
    "\n",
    "    process3 = Process(target=task, args=('l', 2, 10, 'Y', 10, 'sys_prompt10', 3, 0.01, 'ver5'))\n",
    "    process3.start()\n",
    "    \n",
    "    process3.join()\n",
    "    print(\"모든 작업 완료\")\n"
   ]
  },
  {
   "cell_type": "markdown",
   "metadata": {},
   "source": [
    "<!-- Process(target=task, args=('l', 1, 10, 'Y', 10, 'sys_prompt10', 3, 0.01, 'ver5'))\n",
    "Process(target=task, args=('l', 2, 10, 'Y', 10, 'sys_prompt10', 3, 0.01, 'ver5'))\n",
    "Process(target=task, args=('l', 4, 10, 'Y', 10, 'sys_prompt10', 5, 0.01, 'ver5')) -->"
   ]
  },
  {
   "cell_type": "markdown",
   "metadata": {},
   "source": []
  }
 ],
 "metadata": {
  "kernelspec": {
   "display_name": "venv_stackoverflow_src",
   "language": "python",
   "name": "python3"
  },
  "language_info": {
   "codemirror_mode": {
    "name": "ipython",
    "version": 3
   },
   "file_extension": ".py",
   "mimetype": "text/x-python",
   "name": "python",
   "nbconvert_exporter": "python",
   "pygments_lexer": "ipython3",
   "version": "3.10.12"
  }
 },
 "nbformat": 4,
 "nbformat_minor": 2
}
