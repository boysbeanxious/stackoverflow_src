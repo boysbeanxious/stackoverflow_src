{
 "cells": [
  {
   "cell_type": "code",
   "execution_count": 1,
   "metadata": {},
   "outputs": [],
   "source": [
    "import sys, os\n",
    "p = os.path.abspath('..')\n",
    "# p = p+r'\\config'\n",
    "sys.path.insert(1, p)"
   ]
  },
  {
   "cell_type": "code",
   "execution_count": 2,
   "metadata": {},
   "outputs": [],
   "source": [
    "import lib.annotation.D_Annotation as da\n",
    "import lib.annotation.Self_Consistency as sc\n",
    "\n",
    "\n"
   ]
  },
  {
   "cell_type": "code",
   "execution_count": 3,
   "metadata": {},
   "outputs": [
    {
     "name": "stdout",
     "output_type": "stream",
     "text": [
      "Task l_4_10_Y_sys_prompt10_5 시작\n",
      "Task l_4_10_Y_sys_prompt10_5 실행 중: 0\n",
      "./result/sc_l_result_4_10_Y_10_sys_prompt10_5_0.01_ver4_0.csv\n",
      "/usr/share/d_ollama/data/q_output_code_y_105.csv\n"
     ]
    },
    {
     "name": "stderr",
     "output_type": "stream",
     "text": [
      "50it [07:03,  8.48s/it]\n"
     ]
    },
    {
     "name": "stdout",
     "output_type": "stream",
     "text": [
      "Task l_4_10_Y_sys_prompt10_5 실행 중: 1\n",
      "./result/sc_l_result_4_10_Y_10_sys_prompt10_5_0.01_ver4_1.csv\n",
      "/usr/share/d_ollama/data/q_output_code_y_105.csv\n"
     ]
    },
    {
     "name": "stderr",
     "output_type": "stream",
     "text": [
      "50it [07:04,  8.48s/it]\n"
     ]
    },
    {
     "name": "stdout",
     "output_type": "stream",
     "text": [
      "Task l_4_10_Y_sys_prompt10_5 실행 중: 2\n",
      "./result/sc_l_result_4_10_Y_10_sys_prompt10_5_0.01_ver4_2.csv\n",
      "/usr/share/d_ollama/data/q_output_code_y_105.csv\n"
     ]
    },
    {
     "name": "stderr",
     "output_type": "stream",
     "text": [
      "50it [07:46,  9.33s/it]\n"
     ]
    },
    {
     "name": "stdout",
     "output_type": "stream",
     "text": [
      "Task l_4_10_Y_sys_prompt10_5 실행 중: 3\n",
      "./result/sc_l_result_4_10_Y_10_sys_prompt10_5_0.01_ver4_3.csv\n",
      "/usr/share/d_ollama/data/q_output_code_y_105.csv\n"
     ]
    },
    {
     "name": "stderr",
     "output_type": "stream",
     "text": [
      "50it [07:12,  8.64s/it]\n"
     ]
    },
    {
     "name": "stdout",
     "output_type": "stream",
     "text": [
      "Task l_4_10_Y_sys_prompt10_5 실행 중: 4\n",
      "./result/sc_l_result_4_10_Y_10_sys_prompt10_5_0.01_ver4_4.csv\n",
      "/usr/share/d_ollama/data/q_output_code_y_105.csv\n"
     ]
    },
    {
     "name": "stderr",
     "output_type": "stream",
     "text": [
      "50it [08:06,  9.73s/it]\n"
     ]
    },
    {
     "name": "stdout",
     "output_type": "stream",
     "text": [
      "Task l_4_10_Y_sys_prompt10_5 실행 중: 5\n",
      "./result/sc_l_result_4_10_Y_10_sys_prompt10_5_0.01_ver4_5.csv\n",
      "/usr/share/d_ollama/data/q_output_code_y_105.csv\n"
     ]
    },
    {
     "name": "stderr",
     "output_type": "stream",
     "text": [
      "50it [07:14,  8.68s/it]\n"
     ]
    },
    {
     "name": "stdout",
     "output_type": "stream",
     "text": [
      "Task l_4_10_Y_sys_prompt10_5 실행 중: 6\n",
      "./result/sc_l_result_4_10_Y_10_sys_prompt10_5_0.01_ver4_6.csv\n",
      "/usr/share/d_ollama/data/q_output_code_y_105.csv\n"
     ]
    },
    {
     "name": "stderr",
     "output_type": "stream",
     "text": [
      "50it [07:47,  9.35s/it]\n"
     ]
    },
    {
     "name": "stdout",
     "output_type": "stream",
     "text": [
      "Task l_4_10_Y_sys_prompt10_5 실행 중: 7\n",
      "./result/sc_l_result_4_10_Y_10_sys_prompt10_5_0.01_ver4_7.csv\n",
      "/usr/share/d_ollama/data/q_output_code_y_105.csv\n"
     ]
    },
    {
     "name": "stderr",
     "output_type": "stream",
     "text": [
      "50it [07:38,  9.18s/it]\n"
     ]
    },
    {
     "name": "stdout",
     "output_type": "stream",
     "text": [
      "Task l_4_10_Y_sys_prompt10_5 실행 중: 8\n",
      "./result/sc_l_result_4_10_Y_10_sys_prompt10_5_0.01_ver4_8.csv\n",
      "/usr/share/d_ollama/data/q_output_code_y_105.csv\n"
     ]
    },
    {
     "name": "stderr",
     "output_type": "stream",
     "text": [
      "50it [07:23,  8.86s/it]\n"
     ]
    },
    {
     "name": "stdout",
     "output_type": "stream",
     "text": [
      "Task l_4_10_Y_sys_prompt10_5 실행 중: 9\n",
      "./result/sc_l_result_4_10_Y_10_sys_prompt10_5_0.01_ver4_9.csv\n",
      "/usr/share/d_ollama/data/q_output_code_y_105.csv\n"
     ]
    },
    {
     "name": "stderr",
     "output_type": "stream",
     "text": [
      "50it [06:56,  8.33s/it]\n"
     ]
    },
    {
     "name": "stdout",
     "output_type": "stream",
     "text": [
      "Task l_4_10_Y_sys_prompt10_5 완료\n",
      "모든 작업 완료\n"
     ]
    }
   ],
   "source": [
    "from multiprocessing import Process\n",
    "    \n",
    "def task(llm_model, few_shot_n, test_n, q_src_yn, ver, p_ver, sc_num, temperature, excel_ver):\n",
    "\n",
    "    print(f\"Task {llm_model}_{few_shot_n}_{test_n}_{q_src_yn}_{p_ver}_{sc_num} 시작\")\n",
    "    for i in range(ver):\n",
    "        print(f\"Task {llm_model}_{few_shot_n}_{test_n}_{q_src_yn}_{p_ver}_{sc_num} 실행 중: {i}\")\n",
    "        sc.Self_Consistency(   llm_model\n",
    "                            , few_shot_n\n",
    "                            , test_n\n",
    "                            , q_src_yn\n",
    "                            , ver\n",
    "                            , p_ver\n",
    "                            , sc_num\n",
    "                            , temperature\n",
    "                            , excel_ver\n",
    "                            , i)\n",
    "    \n",
    "    print(f\"Task {llm_model}_{few_shot_n}_{test_n}_{q_src_yn}_{p_ver}_{sc_num} 완료\")\n",
    "\n",
    "if __name__ == \"__main__\":\n",
    "\n",
    "\n",
    "    process3 = Process(target=task, args=('l', 4, 10, 'Y', 10, 'sys_prompt10', 5, 0.01, 'ver4'))\n",
    "    process3.start()\n",
    "    \n",
    "    process3.join()\n",
    "    print(\"모든 작업 완료\")\n"
   ]
  },
  {
   "cell_type": "markdown",
   "metadata": {},
   "source": []
  },
  {
   "cell_type": "markdown",
   "metadata": {},
   "source": []
  }
 ],
 "metadata": {
  "kernelspec": {
   "display_name": "venv_stackoverflow_src",
   "language": "python",
   "name": "python3"
  },
  "language_info": {
   "codemirror_mode": {
    "name": "ipython",
    "version": 3
   },
   "file_extension": ".py",
   "mimetype": "text/x-python",
   "name": "python",
   "nbconvert_exporter": "python",
   "pygments_lexer": "ipython3",
   "version": "3.10.12"
  }
 },
 "nbformat": 4,
 "nbformat_minor": 2
}
