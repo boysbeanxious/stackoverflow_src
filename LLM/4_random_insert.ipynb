{
 "cells": [
  {
   "cell_type": "code",
   "execution_count": 1,
   "metadata": {},
   "outputs": [],
   "source": [
    "import sys, os\n",
    "p = os.path.abspath('..')\n",
    "# p = p+r'\\config'\n",
    "sys.path.insert(1, p)"
   ]
  },
  {
   "cell_type": "code",
   "execution_count": null,
   "metadata": {},
   "outputs": [],
   "source": [
    "import lib.annotation.D_Annotation as da\n",
    "import lib.annotation.Self_Consistency as sc\n",
    "import lib.annotation.Sample_Insert as si\n",
    "import lib.annotation.Q_Extract as qe\n",
    "import lib.annotation.SampleSelf_Consistency as ssc\n"
   ]
  },
  {
   "cell_type": "code",
   "execution_count": 3,
   "metadata": {},
   "outputs": [],
   "source": [
    "# sample_insert = si.Sample_Insert('2021-11-30', '2023-11-30', 10, 1, '1')"
   ]
  },
  {
   "cell_type": "code",
   "execution_count": 4,
   "metadata": {},
   "outputs": [],
   "source": [
    "# get samples from database;\n",
    "# for x in range(10):\n",
    "#     sample_insert.insert_sample()"
   ]
  },
  {
   "cell_type": "code",
   "execution_count": 5,
   "metadata": {},
   "outputs": [],
   "source": [
    "# ver = 1\n",
    "# date = '2024-12-04'\n",
    "\n",
    "# q_output = sample_insert.get_target_list(ver, date)"
   ]
  },
  {
   "cell_type": "code",
   "execution_count": null,
   "metadata": {},
   "outputs": [],
   "source": [
    "t_extract = qe.Q_Extract('2022-10-01', '2022-12-31', 1, '2024-12-04', 'Y')\n",
    "df = t_extract.db_extract()\n",
    "q_output = t_extract.tb_extract(df)\n",
    "\n",
    "print('SampleSelf_Consistency start')\n",
    "sample_sc = ssc.SampleSelf_Consistency('2024-12-04', 1, q_output[:1]) \n",
    "print('SampleSelf_Consistency end')\n",
    "\n",
    "print('write_promt start')\n",
    "chk_list = sample_sc.write_promt()\n",
    "print('write_promt end')\n",
    "\n",
    "print('calc_acc_for_l start')\n",
    "result_df = sample_sc.calc_acc_for_l()\n",
    "print('calc_acc_for_l end')\n",
    "\n",
    "\n"
   ]
  }
 ],
 "metadata": {
  "kernelspec": {
   "display_name": "venv_stackoverflow_src",
   "language": "python",
   "name": "python3"
  },
  "language_info": {
   "codemirror_mode": {
    "name": "ipython",
    "version": 3
   },
   "file_extension": ".py",
   "mimetype": "text/x-python",
   "name": "python",
   "nbconvert_exporter": "python",
   "pygments_lexer": "ipython3",
   "version": "3.10.12"
  }
 },
 "nbformat": 4,
 "nbformat_minor": 2
}
