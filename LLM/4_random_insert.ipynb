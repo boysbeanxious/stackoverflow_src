{
 "cells": [
  {
   "cell_type": "code",
   "execution_count": 2,
   "metadata": {},
   "outputs": [],
   "source": [
    "import sys, os\n",
    "p = os.path.abspath('..')\n",
    "# p = p+r'\\config'\n",
    "sys.path.insert(1, p)"
   ]
  },
  {
   "cell_type": "code",
   "execution_count": 3,
   "metadata": {},
   "outputs": [],
   "source": [
    "import lib.annotation.D_Annotation as da\n",
    "import lib.annotation.Self_Consistency as sc\n",
    "import lib.annotation.Sample_Insert as si\n",
    "import lib.annotation.Q_Extract as qe\n",
    "import lib.annotation.SampleSelf_Consistency as ssc\n"
   ]
  },
  {
   "cell_type": "code",
   "execution_count": null,
   "metadata": {},
   "outputs": [],
   "source": [
    "from datetime import datetime, timedelta\n",
    "\n",
    "def return_date_list(stday) :\n",
    "    start_date = datetime(2021, 12, 1)\n",
    "    end_date = datetime(2023, 12, 1)\n",
    "\n",
    "    # 결과 날짜를 저장할 리스트\n",
    "    dates = []\n",
    "\n",
    "    # 현재 날짜를 시작 날짜로 설정\n",
    "    current_date = start_date\n",
    "\n",
    "    # 매달 15일을 반복하여 계산\n",
    "    while current_date <= end_date:\n",
    "        dates.append([datetime(current_date.year, current_date.month, stday).strftime(\"%Y-%m-%d\"), \n",
    "                            datetime(current_date.year, current_date.month, stday+1).strftime(\"%Y-%m-%d\")\n",
    "                        ])\n",
    "        # 다음 달로 이동\n",
    "        year = current_date.year\n",
    "        month = current_date.month + 1\n",
    "        if month > 12:\n",
    "            month = 1\n",
    "            year += 1\n",
    "        current_date = datetime(year, month, 1)\n",
    "\n",
    "    return dates"
   ]
  },
  {
   "cell_type": "code",
   "execution_count": null,
   "metadata": {},
   "outputs": [],
   "source": [
    "date_5 = return_date_list(5)\n",
    "date_10 = return_date_list(10)\n",
    "date_15 = return_date_list(15)\n",
    "date_20 = return_date_list(20)\n",
    "date_25 = return_date_list(25)\n",
    "# date_20 = return_date_list(30)\n",
    "\n"
   ]
  },
  {
   "cell_type": "code",
   "execution_count": null,
   "metadata": {},
   "outputs": [],
   "source": [
    "date_15"
   ]
  },
  {
   "cell_type": "code",
   "execution_count": null,
   "metadata": {},
   "outputs": [],
   "source": [
    "for st_dt, end_dt in date_15:\n",
    "    num_of_date = int(st_dt.split('-')[2])\n",
    "    sample_insert = si.Sample_Insert(st_dt, end_dt, 30, 1, '1', num_of_date)\n",
    "    sample_insert.insert_sample()\n"
   ]
  },
  {
   "cell_type": "markdown",
   "metadata": {},
   "source": []
  },
  {
   "cell_type": "code",
   "execution_count": null,
   "metadata": {},
   "outputs": [],
   "source": []
  },
  {
   "cell_type": "markdown",
   "metadata": {},
   "source": [
    "If there is no pattern of num of date "
   ]
  },
  {
   "cell_type": "code",
   "execution_count": 5,
   "metadata": {},
   "outputs": [
    {
     "name": "stdout",
     "output_type": "stream",
     "text": [
      "sample_insert\n",
      "sample_insert> get_id_list\n",
      "sample_insert> get_id_list> posttype==1\n",
      "sample_insert > create connection\n",
      "<class 'tuple'>\n",
      "sample_insert > create connection> dt_p_id_list> 2022-11-29 678\n",
      "sample_insert > create connection> first_ann_q_id> 2022-11-29 [[11110002, '2022-11-29', 74612754], [11110002, '2022-11-29', 74616644], [11110002, '2022-11-29', 74609637], [11110002, '2022-11-29', 74621497], [11110002, '2022-11-29', 74620714], [11110002, '2022-11-29', 74611917], [11110002, '2022-11-29', 74609190], [11110002, '2022-11-29', 74617024], [11110002, '2022-11-29', 74608499], [11110002, '2022-11-29', 74608795], [11110002, '2022-11-29', 74612873], [11110002, '2022-11-29', 74608745], [11110002, '2022-11-29', 74609959], [11110002, '2022-11-29', 74612910], [11110002, '2022-11-29', 74617327], [11110002, '2022-11-29', 74613427], [11110002, '2022-11-29', 74619148], [11110002, '2022-11-29', 74620163], [11110002, '2022-11-29', 74611659], [11110002, '2022-11-29', 74621441], [11110002, '2022-11-29', 74620120], [11110002, '2022-11-29', 74608971], [11110002, '2022-11-29', 74611602], [11110002, '2022-11-29', 74621197], [11110002, '2022-11-29', 74618512], [11110002, '2022-11-29', 74621198], [11110002, '2022-11-29', 74615858], [11110002, '2022-11-29', 74616904], [11110002, '2022-11-29', 74612984], [11110002, '2022-11-29', 74620048]]\n",
      "insert_db : else - \n"
     ]
    }
   ],
   "source": [
    "sample_insert = si.Sample_Insert('2022-11-29', '2022-11-30', 30, 1, '1', 1111)\n",
    "sample_insert.insert_sample()"
   ]
  },
  {
   "cell_type": "code",
   "execution_count": null,
   "metadata": {},
   "outputs": [],
   "source": []
  },
  {
   "cell_type": "markdown",
   "metadata": {},
   "source": []
  }
 ],
 "metadata": {
  "kernelspec": {
   "display_name": "venv_stackoverflow_src",
   "language": "python",
   "name": "python3"
  },
  "language_info": {
   "codemirror_mode": {
    "name": "ipython",
    "version": 3
   },
   "file_extension": ".py",
   "mimetype": "text/x-python",
   "name": "python",
   "nbconvert_exporter": "python",
   "pygments_lexer": "ipython3",
   "version": "3.10.12"
  }
 },
 "nbformat": 4,
 "nbformat_minor": 2
}
