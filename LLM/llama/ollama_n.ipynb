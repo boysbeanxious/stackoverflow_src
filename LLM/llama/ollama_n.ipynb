{
 "cells": [
  {
   "cell_type": "code",
   "execution_count": 1,
   "metadata": {},
   "outputs": [],
   "source": [
    "# https://github.com/openai/openai-cookbook/blob/main/examples/How_to_format_inputs_to_ChatGPT_models.ipynb\n",
    "# https://stackoverflow.com/questions/77285102/how-to-format-a-few-shot-prompt-for-gpt4-chat-completion-api"
   ]
  },
  {
   "cell_type": "code",
   "execution_count": 2,
   "metadata": {},
   "outputs": [],
   "source": [
    "# pip install --upgrade openai\n",
    "# OLLAMA_MODELS=/usr/share/d_ollama/.ollama/models/hf_model ollama serve"
   ]
  },
  {
   "cell_type": "code",
   "execution_count": 3,
   "metadata": {},
   "outputs": [],
   "source": [
    "import sys, os\n",
    "p = os.path.abspath('..')\n",
    "# p = p+r'\\config'\n",
    "sys.path.insert(1, p)\n"
   ]
  },
  {
   "cell_type": "code",
   "execution_count": 4,
   "metadata": {},
   "outputs": [],
   "source": [
    "import warnings\n",
    "\n",
    "\n",
    "import pandas as pd\n",
    "import numpy as np\n",
    "from tqdm import tqdm\n",
    "import time\n",
    "import config.config as conf\n",
    "\n",
    "import json\n",
    "from itertools import chain\n",
    "warnings.filterwarnings(\"ignore\", category=DeprecationWarning)\n",
    "# https://wikidocs.net/233348"
   ]
  },
  {
   "cell_type": "code",
   "execution_count": 5,
   "metadata": {},
   "outputs": [],
   "source": [
    "# # Example OpenAI Python library request\n",
    "# MODEL = \"gpt-4o-2024-08-06\"\n",
    "# response = client.chat.completions.create(\n",
    "#     model=MODEL,\n",
    "#     messages=[\n",
    "#         {\"role\": \"system\", \"content\": \"You are a helpful assistant.\"},\n",
    "#         {\"role\": \"user\", \"content\": \"Explain asynchronous programming in the style of the pirate Blackbeard.\"},\n",
    "#     ],\n",
    "#     temperature=0,\n",
    "# )"
   ]
  },
  {
   "cell_type": "code",
   "execution_count": 6,
   "metadata": {},
   "outputs": [],
   "source": [
    "# print(json.dumps(json.loads(response.model_dump_json()), indent=4))"
   ]
  },
  {
   "cell_type": "code",
   "execution_count": 7,
   "metadata": {},
   "outputs": [],
   "source": [
    "df = pd.read_csv('../../data/q_output_code_y.csv', index_col = 0)"
   ]
  },
  {
   "cell_type": "code",
   "execution_count": 8,
   "metadata": {},
   "outputs": [
    {
     "data": {
      "text/plain": [
       "(76, 3)"
      ]
     },
     "execution_count": 8,
     "metadata": {},
     "output_type": "execute_result"
    }
   ],
   "source": [
    "df.shape"
   ]
  },
  {
   "cell_type": "code",
   "execution_count": 9,
   "metadata": {},
   "outputs": [
    {
     "data": {
      "text/plain": [
       "'<Title>Why joblib is not recommended when saving keras model?</Title>. <Question>According to this keras documentation, pickle is not recommended to save keras mode, and since joblib.dump() and joblib.load() are based on the Python pickle serialization model, joblib is also not recommended to save keras model. What is the reason for that ?\\n</Question>'"
      ]
     },
     "execution_count": 9,
     "metadata": {},
     "output_type": "execute_result"
    }
   ],
   "source": [
    "df['question'][0]"
   ]
  },
  {
   "cell_type": "code",
   "execution_count": 10,
   "metadata": {},
   "outputs": [],
   "source": [
    "# sys_promt=\"\"\"\\nYou are an expert in analyzing and categorizing the difficulty level of Python-related programming questions based on examples below. \n",
    "# Questions are sourced from the \"StackOverflow\" community using the keyword \"Python.\"\\n\"\"\""
   ]
  },
  {
   "cell_type": "code",
   "execution_count": 11,
   "metadata": {},
   "outputs": [],
   "source": [
    "# user_prompt_front = \"\"\"\\nFor the given (target) post that is marked by\n",
    "#     <target_post> </target_post>, please let me know the\n",
    "#     \"Difficulty Level\" of the target post, where the\n",
    "#     \"Difficulty Level\" can be one of the followings: (0) Basic, (1)\n",
    "#     Intermediate, and (2) Advanced\\n\"\"\""
   ]
  },
  {
   "cell_type": "code",
   "execution_count": 12,
   "metadata": {},
   "outputs": [],
   "source": [
    "# user_prompt_back = \"\"\"\\nplease output only the difficulty label of the target post, where it can only be one of, (0) Basic, (1)\n",
    "#     Intermediate, and (2) Advanced, \n",
    "#     and mark '0' if it is basic, '1' if is is intermediate, and '2' if it is advanced question. \n",
    "#     Please refer to the samples below that may be helpful to measure the baseline of the difficulty labels, where each\n",
    "#     of the sample is delimited by \"----\"\\n\n",
    "#     \"\"\""
   ]
  },
  {
   "cell_type": "code",
   "execution_count": 13,
   "metadata": {},
   "outputs": [],
   "source": [
    "diff_dict = {'Difficulty Level : Basic':0 ,\n",
    " 'Difficulty Level : Intermediate':1, \n",
    " 'Difficulty Level : Advanced':2}"
   ]
  },
  {
   "cell_type": "code",
   "execution_count": 14,
   "metadata": {},
   "outputs": [],
   "source": [
    "df['answer_encode'] = df['answer'].apply(lambda x : diff_dict[x])"
   ]
  },
  {
   "cell_type": "code",
   "execution_count": 15,
   "metadata": {},
   "outputs": [
    {
     "data": {
      "text/html": [
       "<div>\n",
       "<style scoped>\n",
       "    .dataframe tbody tr th:only-of-type {\n",
       "        vertical-align: middle;\n",
       "    }\n",
       "\n",
       "    .dataframe tbody tr th {\n",
       "        vertical-align: top;\n",
       "    }\n",
       "\n",
       "    .dataframe thead th {\n",
       "        text-align: right;\n",
       "    }\n",
       "</style>\n",
       "<table border=\"1\" class=\"dataframe\">\n",
       "  <thead>\n",
       "    <tr style=\"text-align: right;\">\n",
       "      <th></th>\n",
       "      <th>id</th>\n",
       "      <th>question</th>\n",
       "      <th>answer</th>\n",
       "      <th>answer_encode</th>\n",
       "    </tr>\n",
       "  </thead>\n",
       "  <tbody>\n",
       "    <tr>\n",
       "      <th>0</th>\n",
       "      <td>74693871</td>\n",
       "      <td>&lt;Title&gt;Why joblib is not recommended when savi...</td>\n",
       "      <td>Difficulty Level : Advanced</td>\n",
       "      <td>2</td>\n",
       "    </tr>\n",
       "    <tr>\n",
       "      <th>1</th>\n",
       "      <td>74700764</td>\n",
       "      <td>&lt;Title&gt;replace multiple strings in a list with...</td>\n",
       "      <td>Difficulty Level : Basic</td>\n",
       "      <td>0</td>\n",
       "    </tr>\n",
       "    <tr>\n",
       "      <th>2</th>\n",
       "      <td>74727945</td>\n",
       "      <td>&lt;Title&gt;pandas unit test AssertionError: DataFr...</td>\n",
       "      <td>Difficulty Level : Intermediate</td>\n",
       "      <td>1</td>\n",
       "    </tr>\n",
       "    <tr>\n",
       "      <th>3</th>\n",
       "      <td>74751254</td>\n",
       "      <td>&lt;Title&gt;Removing all duplicate images with diff...</td>\n",
       "      <td>Difficulty Level : Intermediate</td>\n",
       "      <td>1</td>\n",
       "    </tr>\n",
       "    <tr>\n",
       "      <th>4</th>\n",
       "      <td>74760874</td>\n",
       "      <td>&lt;Title&gt;How do I extract a binary pattern from ...</td>\n",
       "      <td>Difficulty Level : Intermediate</td>\n",
       "      <td>1</td>\n",
       "    </tr>\n",
       "  </tbody>\n",
       "</table>\n",
       "</div>"
      ],
      "text/plain": [
       "         id                                           question  \\\n",
       "0  74693871  <Title>Why joblib is not recommended when savi...   \n",
       "1  74700764  <Title>replace multiple strings in a list with...   \n",
       "2  74727945  <Title>pandas unit test AssertionError: DataFr...   \n",
       "3  74751254  <Title>Removing all duplicate images with diff...   \n",
       "4  74760874  <Title>How do I extract a binary pattern from ...   \n",
       "\n",
       "                            answer  answer_encode  \n",
       "0      Difficulty Level : Advanced              2  \n",
       "1         Difficulty Level : Basic              0  \n",
       "2  Difficulty Level : Intermediate              1  \n",
       "3  Difficulty Level : Intermediate              1  \n",
       "4  Difficulty Level : Intermediate              1  "
      ]
     },
     "execution_count": 15,
     "metadata": {},
     "output_type": "execute_result"
    }
   ],
   "source": [
    "df.head()"
   ]
  },
  {
   "cell_type": "code",
   "execution_count": 16,
   "metadata": {},
   "outputs": [],
   "source": [
    "diff_idx = {x : list(df[df['answer']==x].index) for x in list(diff_dict.keys())}"
   ]
  },
  {
   "cell_type": "code",
   "execution_count": 17,
   "metadata": {},
   "outputs": [
    {
     "name": "stdout",
     "output_type": "stream",
     "text": [
      "Difficulty Level : Basic [1, 7, 11, 16, 17, 18, 21, 22, 29, 31, 32, 33, 39, 41, 43, 44, 54, 55, 56, 57, 60, 65, 67, 69, 70, 72, 73]\n",
      "Difficulty Level : Intermediate [2, 3, 4, 5, 6, 8, 9, 10, 12, 14, 19, 20, 23, 24, 25, 26, 27, 28, 30, 34, 35, 36, 38, 40, 42, 45, 46, 47, 48, 50, 51, 52, 53, 58, 59, 61, 63, 64, 68, 71]\n",
      "Difficulty Level : Advanced [0, 13, 15, 37, 49, 62, 66, 74, 75]\n"
     ]
    }
   ],
   "source": [
    "diff_s_idx = {}\n",
    "for key, value in diff_idx.items():\n",
    "    print(key, value)\n",
    "    dic_col = f'{key}_sample_idx'\n",
    "    diff_population = value\n",
    "    diff_s_idx[dic_col] = np.random.choice(diff_population, size=3, replace=False)"
   ]
  },
  {
   "cell_type": "code",
   "execution_count": 18,
   "metadata": {},
   "outputs": [
    {
     "data": {
      "text/plain": [
       "{'Difficulty Level : Basic_sample_idx': array([43, 22, 11]),\n",
       " 'Difficulty Level : Intermediate_sample_idx': array([27, 42, 50]),\n",
       " 'Difficulty Level : Advanced_sample_idx': array([13, 37, 75])}"
      ]
     },
     "execution_count": 18,
     "metadata": {},
     "output_type": "execute_result"
    }
   ],
   "source": [
    "diff_s_idx"
   ]
  },
  {
   "cell_type": "code",
   "execution_count": 19,
   "metadata": {},
   "outputs": [],
   "source": [
    "fewshot_q_id = list(chain.from_iterable(diff_s_idx.values()))\n"
   ]
  },
  {
   "cell_type": "code",
   "execution_count": 20,
   "metadata": {},
   "outputs": [],
   "source": [
    "eval_q_id =np.setdiff1d(list(df.index), fewshot_q_id)"
   ]
  },
  {
   "cell_type": "code",
   "execution_count": 21,
   "metadata": {},
   "outputs": [],
   "source": [
    "examples = []\n",
    "for idx in fewshot_q_id:\n",
    "# for idx in [19]:\n",
    "    temp_dict = {\"question\" : str(df.loc[idx, 'question']),\n",
    "                 \"answer\"   : str(df.loc[idx, 'answer_encode'])}\n",
    "    examples.append(temp_dict)"
   ]
  },
  {
   "cell_type": "code",
   "execution_count": 22,
   "metadata": {},
   "outputs": [
    {
     "data": {
      "text/plain": [
       "[{'question': \"<Title>How do I remove time duration as outliers from a column in a dataframe?</Title>. <Question>I want to remove outliers from a datetime columns after applying difference between two datetime to get the duration. I applied boxplot to get the outliers, but, I cannot remove the outliers from the new duration column. here is the code.\\n```df['tpep_pickup_datetime'] = pd.to_datetime(df['tpep_pickup_datetime'])\\ndf['tpep_dropoff_datetime'] = pd.to_datetime(df['tpep_dropoff_datetime'])\\n\\ndf['trip duration'] = df['tpep_dropoff_datetime'] -df['tpep_pickup_datetime']\\n# convert time duration to integer.\\ndf['trip duration'] = int(df['trip duration'].dp.strftime('%Y%m%d%H%M%S')) \\nfor the distance column\\nfig = plt.figure(figsize =(10, 7))\\nplt.boxplot(df['trip_distance'])\\nplt.show()\\n# for the duration column\\nfig = plt.figure(figsize =(10, 7))\\nplt.boxplot(df['trip duration'])\\nplt.show()\\n\\n\\n# drop the outliers\\n\\ndf_2= df[df['trip_distance'] <; 6] \\n\\ndf_2= df[df['trip duration'] >; 0]\\n \\nTypeError: Invalid comparison between dtype=timedelta64[ns] and int\\n```\\nI am trying to convert the duration column to inttype but I can't.\\n</Question>\",\n",
       "  'answer': '0'},\n",
       " {'question': '<Title>Assign a 2-column pandas DataFrame to a Series such that the first column is the index of the Series and the second column is the data does not work</Title>. <Question>\\nGiven a dataset\\n\\n```df = pd.DataFrame({\"Runner\": [\"Runner1\", \"Runner2\", \"Runner3\", \"Runner4\"], \"distance\":[2,1,0,1]}) \\n```\\n\\nI first remove the 0s.\\n\\n```df = df[df[\"Runner\"] >; 0]\\n```\\n\\nI assign df[\"distance] as the parameter data and df[\"Runner] as parameter index of a new Series ser1\\n\\n```ser1 = pd.Series(data=df[\"distance\"], index=df[df[\"Runner\"])\\n```\\nHere is how ser1 looks -\\n```Runner  \\nRunner1   NaN  \\nRunner2   NaN  \\nRunner4   NaN  \\nName: distance, dtype: float64  \\n```\\nI expected ser1 to show\\n```Runner  \\nRunner1    2  \\nRunner2    1  \\nRunner4    1  \\nName: distance, dtype: int64  \\n```\\n</Question>',\n",
       "  'answer': '0'},\n",
       " {'question': '<Title>pandas transform the dataframe by adding custom column names based on row data</Title>. <Question>I am very new to pandas and am trying to figure out how to transform a dataframe by grouping by rows.. The column names need to be changed depending on data. Any help will be greatly appreciated. I added the image to show original vs transformed view.\\nhere is an example of the data.\\nOriginal dataframe:\\na       b       c\\n111     2020        33.2\\n111     2021        48.3\\n111     2022        68.0\\n222     2020        32.2\\n222     2021        45.5\\n222     2022        57.2\\n333     2020        45.5\\n333     2021        78.4\\n333     2022        67.4\\nTransformed need to look like this:\\na       2020_b      2021_b      2022_b\\n111     33.2        48.3        68.0\\n222     32.2        45.5        57.2\\n333     45.5        78.4        67.4\\n\\n</Question>',\n",
       "  'answer': '0'},\n",
       " {'question': '<Title>How to pass input values in python executable file?</Title>. <Question>Some times, when we call an .exe file in command prompt, we also pass some parameters or attributes in one command. which are mostly following hyphen \"--\"; or simply following a space. For example, app.exe parameters or app.exe --parameter=\"value\". How we can create such type type of exe files in python.\\nFor this I created a python file \"file.py\"; which has following code :\\n```variable = input()\\nprint(\"You have entered \"+variable)\\n```\\nAfter exporting it into \"file.exe\"; I tried to call it as :file.exe \"any_text But it doesn\\'t work but I try to call it as :file.exe --variable=\"any_text\". but still not worked.\\nLet me know how to create such type of .exe files. Thanks in advance.\\n</Question>',\n",
       "  'answer': '1'},\n",
       " {'question': \"<Title>Vectorize a For Statement - Zeros In A Diagonal</Title>. <Question>Want to replace a Python 'for' loop with a vectorized comprehension statement to replace the left diagonal in a pandas DataFrame with zeroes.\\nThe dataframe is instantiated using a standard numpy.random.randint() method.\\n```df = pd.DataFrame(np.random.randint(1,100, 100).reshape(10, -1))\\n```\\nI tried to apply a lambda function that locates/replaces the diagonal cells using the df.iloc[] method. Was expecting the left diagonal to be replaced with zeroes.\\n```df = df.apply(lambda i : [df.iloc[i, i] * 0 for i in range(df.shape[0])])\\n```\\nThe result yields an entire DataFrame loaded with zeroes.  Need help on how to write the lambda function since an assignment is not allowed in the lambda function.\\n</Question>\",\n",
       "  'answer': '1'},\n",
       " {'question': '<Title>Unable to view output when using VS Code</Title>. <Question>Attempting to webscrape AHA for clinical guidelines. Upon running code, there seems to be no problems, but no output is shown in both the output and terminal windows. Terminal window simply returns the folder my file is saved in.\\nCode attached:\\n```import requests\\nfrom bs4 import BeautifulSoup\\nimport sys\\n\\ndef get_clinical_guidelines():\\n\"Returns a list of clinical guidelines from the American Heart Association website.\";\\n\\nurl = \"https://professional.heart.org/en/guidelines-and-statements\";\\nresponse = requests.get(url, timeout=5)\\nsoup = BeautifulSoup(response.content, \"html.parser\")\\n\\nguidelines = []\\nfor guideline in soup.find_all(\"div\", class_=\"row guideline-item\"):\\n  title = guideline.find(\"h4\").text\\n  link = guideline.find(\"a\")[\"href\"]\\n  guidelines.append({\"title\": title, \"link\": link})\\n\\nreturn guidelines\\n\\ndef main():\\nguidelines = get_clinical_guidelines()\\nfor guideline in guidelines:\\nprint(f\"Title: {guideline[\\'title\\']}\")\\nprint(f\"Link: https://professional.heart.org{guideline[\\'link\\']}\")\\n\\n if __name__ == \"__main__\":\\n main()\\n\\nget_clinical_guidelines()\\n```\\n</Question>',\n",
       "  'answer': '1'},\n",
       " {'question': '<Title>Strange error: TypeError: forward() takes 2 positional arguments but 3 were given</Title>. <Question>I am trying to train a VAE model. However I keep getting the following error:\\n```Traceback (most recent call last):\\n  File \"/Users/devcharaf/Documents/Uni/UdeM/Internship/newGNN/app/train.py\", line 28, in <module>;\\n    trained_model, loss = train(model, train_data, optimizer, num_epochs=1000, model_type=\"VAE\")\\n  File \"/Users/devcharaf/Documents/Uni/UdeM/Internship/newGNN/app/utils.py\", line 322, in train\\n    recon_x, mean, logvar = model(data[\"x\"], data[\"edge_index\"])\\n  File \"/opt/anaconda3/envs/pygeometric/lib/python3.9/site-packages/torch/nn/modules/module.py\", line 1194, in _call_impl\\n    return forward_call(*input, **kwargs)\\n  File \"/Users/devcharaf/Documents/Uni/UdeM/Internship/newGNN/app/model.py\", line 47, in forward\\n    mean, logvar = self.encoder_forward(x, edge_index)\\n  File \"/Users/devcharaf/Documents/Uni/UdeM/Internship/newGNN/app/model.py\", line 53, in encoder_forward\\n    x = self.encoder(x, edge_index)\\n  File \"/opt/anaconda3/envs/pygeometric/lib/python3.9/site-packages/torch/nn/modules/module.py\", line 1194, in _call_impl\\n    return forward_call(*input, **kwargs)\\nTypeError: forward() takes 2 positional arguments but 3 were given\\n```\\nI tried many combinations of arguments but nothing seems to work. Can you spot the error?\\nAs you can see in the following model, the forward function was called in the train() function with only two arguments and not 3. Also the error hints at the line self.encoder(x, edge_index). But when I try to remove one of these arguments, I get an error saying not enough arguments.\\nHere is my model:\\n```# Variational Auto Encoder\\nclass VAE(nn.Module):\\n    def __init__(self, in_dim, hidden_dim, latent_dim):\\n        super(VAE, self).__init__()\\n        self.in_dim = in_dim\\n        self.hidden_dim = hidden_dim\\n        self.latent_dim = latent_dim\\n\\n        self.encoder = nn.Sequential(\\n            gnn.GCNConv(in_dim, hidden_dim),\\n            nn.ReLU(),\\n            gnn.GCNConv(hidden_dim, hidden_dim),\\n            nn.ReLU()\\n        )\\n        self.fc_mean = nn.Linear(hidden_dim, latent_dim)\\n        self.fc_logvar = nn.Linear(hidden_dim, latent_dim)\\n        self.decoder = nn.Sequential(\\n            gnn.GCNConv(latent_dim, hidden_dim),\\n            nn.ReLU(),\\n            gnn.GCNConv(hidden_dim, in_dim),\\n            nn.Sigmoid()\\n        )\\n\\n    def forward(self, x, edge_index):\\n        mean, logvar = self.encoder_forward(x, edge_index)\\n        z = self.reparameterize(mean, logvar)\\n        recon_x = self.decoder_forward(z, edge_index)\\n        return recon_x, mean, logvar\\n\\n    def encoder_forward(self, x, edge_index):\\n        x = self.encoder(x, edge_index)\\n        mean = self.fc_mean(x)\\n        logvar = self.fc_logvar(x)\\n        return mean, logvar\\n\\n    def decoder_forward(self, x, edge_index):\\n        x = self.decoder(x, edge_index)\\n        return x\\n\\n    def reparameterize(self, mean, logvar):\\n        std = torch.exp(0.5 * logvar)\\n        eps = torch.randn_like(std)\\n        return eps.mul(std).add_(mean)\\n```\\nand here is my train function:\\n```def train(model, data, optimizer, num_epochs):\\n    model.train()\\n    criterion = nn.MSELoss()\\n    beta = 1\\n    epoch_losses = []\\n    for epoch in range(num_epochs):\\n        optimizer.zero_grad()\\n\\n        # Output of the model\\n        recon_x, mean, logvar = model(data[\"x\"], data[\"edge_index\"])\\n        output = recon_x\\n        kl_loss = -0.5 * torch.mean(1 + logvar - mean.pow(2) - logvar.exp())\\n        kl_loss *= beta\\n        kl_loss.backward(retain_graph=True)\\n\\n        target = torch.zeros(data[\"num_nodes\"], 1)\\n\\n        # Loss computation\\n        loss = criterion(output, target)\\n        loss += kl_loss\\n\\n        loss.backward()\\n        optimizer.step()\\n        epoch_losses.append(loss.item())\\n    \\n    return model, epoch_losses\\n```\\nHere is the code I am using to train the model:\\n```model = VAE(in_dim=10, hidden_dim=32, latent_dim=8)\\n\\n# Create an instance of the optimizer.\\noptimizer = torch.optim.Adam(model.parameters(), lr=0.001)\\n\\n# Train the model for a specified number of epochs.\\ntrained_model, loss = train(model, train_data, optimizer, num_epochs=1000)\\n```\\n</Question>',\n",
       "  'answer': '2'},\n",
       " {'question': '<Title>in my trainer, a thread doesn\\'t stop when the condition is met</Title>. <Question>i am making a Alan Wake remaster trainer in python with customtkinter and pymem, everything worked fine until i started adding threading.\\nin the window there are checkboxes that, when active, starts setting a value to the batteries or revolver ammo to simulate a NOP instruction, but when that happens the rest of the program freezes, i solved that by adding threads, the thing is, when you activate both batteries and revolver checkboxes, and uncheck the battery one, it doesn\\'t stop doing the battery cheat.\\n```from pymem import *\\nfrom pymem.process import *\\nfrom customtkinter import *\\nimport threading\\n\\nclass Trainer:\\n    def __init__(self):\\n        \\n        self.root = CTk()\\n        self.root.title(\"Alan Wake Remaster Trainer\")\\n        set_appearance_mode(\"dark\")\\n        self.root.geometry(\"400x600\")\\n        self.root.resizable(0,0)\\n    \\n        self.mf = CTkFrame(master=self.root)\\n        self.mf.pack(fill=\"both\", expand= True)\\n    \\n        self.bc_var = IntVar()\\n        self.rv_var = IntVar()\\n        \\n        self.battery_checkbox = CTkCheckBox(master=self.mf,text=\"Unlimited Batteries\",variable=self.bc_var,command=self.check)\\n        self.battery_checkbox.pack()\\n        self.battery_checkbox.place(x=140,y=50)\\n        \\n        self.revolver_checkbox = CTkCheckBox(master=self.mf, text=\"Unlimited Revolver Ammo\", variable=self.rv_var,command=self.check)\\n        self.revolver_checkbox.pack()\\n        self.revolver_checkbox.place(x=140,y=80)\\n\\n        self.keep_running = True\\n    \\n    def check(self):\\n        if self.bc_var.get() == 1:\\n            self.keep_running = True\\n            t = threading.Thread(target=self.write_bat)\\n            t.start()\\n        if self.rv_var.get() == 1:\\n            self.keep_running = True\\n            t1 = threading.Thread(target=self.write_rev)\\n            t1.start()\\n        elif self.bc_var.get() == 0:\\n            self.keep_running = False\\n        elif self.rv_var.get() == 0:\\n            self.keep_running == False\\n            \\n    \\n        \\n    \\n    def write_bat(self):\\n        while self.keep_running:\\n            Pymem.write_int(mem, self.getpointer(module_bat + 0x00AE69D0, offsets_bat), 20)\\n        \\n    def write_rev(self):\\n        while self.keep_running:\\n            Pymem.write_int(mem, self.getpointer(module_rev + 0x0000027C, offsets_rev), 42)\\n    \\n    def run(self):\\n        self.root.mainloop()\\n    \\n    def getpointer(self,base,offsets):\\n        addr = mem.read_int(base)\\n        for offset in offsets:\\n            if offset != offsets[-1]:\\n                addr = mem.read_int(addr + offset)\\n        addr = addr + offsets[-1]\\n        return addr\\n \\n\\nmem = Pymem(\"Game_f_x64_EOS.exe\")\\nmodule_bat = module_from_name(mem.process_handle, \"Game_f_x64_EOS.exe\").lpBaseOfDll\\nmodule_rev = module_from_name(mem.process_handle, \"fmod.dll\").lpBaseOfDll\\noffsets_bat = [0x50,0x128,0x10,0x48,0xD0,0x144]\\noffsets_rev = [0xC0,0x68,0x10,0xE0,0x148]\\n\\napp = Trainer()\\napp.run()\\n```\\nwhat im trying to explain is that the battery thread doesn\\'t stop when the checkbox is unmarked and the revolver ammo is.\\ni tried separating the threads with another check function but the same happens, and tried other stuff but it just breaks.\\nmy knowledge in threading is new and very limited, so if there is an alternative or a better way to do this, i\\'d appreciate to be told.\\n</Question>',\n",
       "  'answer': '2'},\n",
       " {'question': \"<Title>MediaPipe Model retraining for 15 classes</Title>. <Question>I am a beginner to ML and am using Google Colab for model training. I am using MediaPipe and I followed the instructions from the 5 classes of flowers example: https://developers.google.com/mediapipe/solutions/customization/image_classifier. I am successful at retraining this model using the flower set, and can modify this code to detect a green android or pink pig figurine with high accuracy, using only 12 images for each figurine. I can download the model to my Raspberry Pi and apply it on live video from the pi camera.\\nMy goal is to detect a single light when it is on and identify in which position it is located. The light can be in one of 15 positions and I have 6 images for each of the 15 classes, modifying the light condition in the room only. The live feed from the camera is at a fixed position, identical to the position when the sample images were taken, thus I have not done any rotations or other modifications to the images.\\nHere are a couple of images as an example - position 7 and position 1.\\nI was expecting this to be an easy classification, but it turns out I have been running into problems. My retrained model has very low accuracy, even when I increase the training epochs to 150 or so, it is still under 25% accurate under training:\\nEpoch 150/150\\n33/33 [==============================] - 4s 123ms/step - loss: 2.4801 - accuracy: 0.2273 - val_loss: 3.3785 - val_accuracy: 0.0000e+00\\nand testing is terrible\\n1/1 [==============================] - 1s 673ms/step - loss: 2.9110 - accuracy: 0.0000e+00\\nTest loss:2.9109785556793213, Test accuracy:0.0\\nI just don't know how to continue from here. Does anyone have a model that would be better fit for this example application?\\nThanks for your help!\\n</Question>\",\n",
       "  'answer': '2'}]"
      ]
     },
     "execution_count": 22,
     "metadata": {},
     "output_type": "execute_result"
    }
   ],
   "source": [
    "examples"
   ]
  },
  {
   "cell_type": "code",
   "execution_count": 23,
   "metadata": {},
   "outputs": [],
   "source": [
    "sys_promt = \"\"\"\n",
    "You are an expert in analyzing and categorizing the \"Difficulty Level\" of Python-related questions.\n",
    "please let me know the\n",
    "    \"Difficulty Level\" of the target post, where the\n",
    "    \"Difficulty Level\" can be one of the followings: (1)\n",
    "    Advanced, which is for a difficult one, (2) Intermediate,\n",
    "    which is for a somewhat difficult one, and (3) Basic,\n",
    "    which is an easy one.\n",
    "\n",
    "***Instructions***\n",
    "\n",
    "***1. Analyze the examples of questions***\n",
    "- refer to the samples below that may be helpful to measure the baseline of the \"Difficulty Level\", where each\n",
    "of the sample is delimited by \"----\"\n",
    "\n",
    "***2.Measure the \"Difficulty Level\" of target question***\n",
    "- For the given (target) post that is marked by <target_post> </target_post>\n",
    "- please let me know the \"Difficulty Level\" of the target post, where the \"Difficulty Level\" can be one of the followings : (1)\n",
    "    Advanced, which is for a difficult one, (2) Intermediate,\n",
    "    which is for a somewhat difficult one, and (3) Basic,\n",
    "    which is an easy one.\n",
    "\n",
    "***3.Print out the \"Difficulty Level\"***\n",
    "- no explanation is needed for \"Difficulty Level\"\n",
    "- Expected  output\n",
    "    if question == Easy or Basic or Bigginer level:\n",
    "        Difficulty Level: 0\n",
    "    elif question == intermediate level:\n",
    "        Difficulty Level: 1\n",
    "    elif question == advanced level:\n",
    "        Difficulty Level: 2\n",
    "\"\"\""
   ]
  },
  {
   "cell_type": "code",
   "execution_count": 24,
   "metadata": {},
   "outputs": [],
   "source": [
    "q_prompt = \"\"\"\\nHere is the examples of question\"\"\"\n",
    "for q_a in examples : \n",
    "    q_prompt = q_prompt+\"\"\"\\n----\\n\"\"\"\n",
    "    q_prompt = q_prompt+f\"Difficulty Level : {q_a['answer']}\\n\"\n",
    "    q_prompt = q_prompt+\"\"\"<post>\\n\"\"\"\n",
    "    q_prompt = q_prompt+f\"{q_a['question']}\\n\"\n",
    "    q_prompt = q_prompt+\"\"\"</post>\\n\"\"\"\n",
    "q_prompt = q_prompt+\"\"\"----\\n\"\"\""
   ]
  },
  {
   "cell_type": "code",
   "execution_count": 25,
   "metadata": {},
   "outputs": [],
   "source": [
    "eval_q_idx= np.random.choice(eval_q_id, size=1, replace=False)"
   ]
  },
  {
   "cell_type": "code",
   "execution_count": 26,
   "metadata": {},
   "outputs": [],
   "source": [
    "target_post=\"\"\"\\nHere is the target post. Answer the \"Difficulty Level\".\\n\"\"\"\n",
    "target_post = target_post+\"\"\"\\n<target_post>\\n\"\"\"\n",
    "target_post = target_post+df.loc[eval_q_idx, 'question'].values[0]+'\\n'\n",
    "target_post = target_post+\"\"\"</target_post>\\n\"\"\"\n"
   ]
  },
  {
   "cell_type": "code",
   "execution_count": 27,
   "metadata": {},
   "outputs": [],
   "source": [
    "# tot_prompt = sys_promt+user_prompt_front+target_post+user_prompt_back+q_prompt\n",
    "tot_prompt = q_prompt+target_post"
   ]
  },
  {
   "cell_type": "code",
   "execution_count": 28,
   "metadata": {},
   "outputs": [
    {
     "name": "stdout",
     "output_type": "stream",
     "text": [
      "\n",
      "Here is the examples of question\n",
      "----\n",
      "Difficulty Level : 0\n",
      "<post>\n",
      "<Title>How do I remove time duration as outliers from a column in a dataframe?</Title>. <Question>I want to remove outliers from a datetime columns after applying difference between two datetime to get the duration. I applied boxplot to get the outliers, but, I cannot remove the outliers from the new duration column. here is the code.\n",
      "```df['tpep_pickup_datetime'] = pd.to_datetime(df['tpep_pickup_datetime'])\n",
      "df['tpep_dropoff_datetime'] = pd.to_datetime(df['tpep_dropoff_datetime'])\n",
      "\n",
      "df['trip duration'] = df['tpep_dropoff_datetime'] -df['tpep_pickup_datetime']\n",
      "# convert time duration to integer.\n",
      "df['trip duration'] = int(df['trip duration'].dp.strftime('%Y%m%d%H%M%S')) \n",
      "for the distance column\n",
      "fig = plt.figure(figsize =(10, 7))\n",
      "plt.boxplot(df['trip_distance'])\n",
      "plt.show()\n",
      "# for the duration column\n",
      "fig = plt.figure(figsize =(10, 7))\n",
      "plt.boxplot(df['trip duration'])\n",
      "plt.show()\n",
      "\n",
      "\n",
      "# drop the outliers\n",
      "\n",
      "df_2= df[df['trip_distance'] <; 6] \n",
      "\n",
      "df_2= df[df['trip duration'] >; 0]\n",
      " \n",
      "TypeError: Invalid comparison between dtype=timedelta64[ns] and int\n",
      "```\n",
      "I am trying to convert the duration column to inttype but I can't.\n",
      "</Question>\n",
      "</post>\n",
      "\n",
      "----\n",
      "Difficulty Level : 0\n",
      "<post>\n",
      "<Title>Assign a 2-column pandas DataFrame to a Series such that the first column is the index of the Series and the second column is the data does not work</Title>. <Question>\n",
      "Given a dataset\n",
      "\n",
      "```df = pd.DataFrame({\"Runner\": [\"Runner1\", \"Runner2\", \"Runner3\", \"Runner4\"], \"distance\":[2,1,0,1]}) \n",
      "```\n",
      "\n",
      "I first remove the 0s.\n",
      "\n",
      "```df = df[df[\"Runner\"] >; 0]\n",
      "```\n",
      "\n",
      "I assign df[\"distance] as the parameter data and df[\"Runner] as parameter index of a new Series ser1\n",
      "\n",
      "```ser1 = pd.Series(data=df[\"distance\"], index=df[df[\"Runner\"])\n",
      "```\n",
      "Here is how ser1 looks -\n",
      "```Runner  \n",
      "Runner1   NaN  \n",
      "Runner2   NaN  \n",
      "Runner4   NaN  \n",
      "Name: distance, dtype: float64  \n",
      "```\n",
      "I expected ser1 to show\n",
      "```Runner  \n",
      "Runner1    2  \n",
      "Runner2    1  \n",
      "Runner4    1  \n",
      "Name: distance, dtype: int64  \n",
      "```\n",
      "</Question>\n",
      "</post>\n",
      "\n",
      "----\n",
      "Difficulty Level : 0\n",
      "<post>\n",
      "<Title>pandas transform the dataframe by adding custom column names based on row data</Title>. <Question>I am very new to pandas and am trying to figure out how to transform a dataframe by grouping by rows.. The column names need to be changed depending on data. Any help will be greatly appreciated. I added the image to show original vs transformed view.\n",
      "here is an example of the data.\n",
      "Original dataframe:\n",
      "a       b       c\n",
      "111     2020        33.2\n",
      "111     2021        48.3\n",
      "111     2022        68.0\n",
      "222     2020        32.2\n",
      "222     2021        45.5\n",
      "222     2022        57.2\n",
      "333     2020        45.5\n",
      "333     2021        78.4\n",
      "333     2022        67.4\n",
      "Transformed need to look like this:\n",
      "a       2020_b      2021_b      2022_b\n",
      "111     33.2        48.3        68.0\n",
      "222     32.2        45.5        57.2\n",
      "333     45.5        78.4        67.4\n",
      "\n",
      "</Question>\n",
      "</post>\n",
      "\n",
      "----\n",
      "Difficulty Level : 1\n",
      "<post>\n",
      "<Title>How to pass input values in python executable file?</Title>. <Question>Some times, when we call an .exe file in command prompt, we also pass some parameters or attributes in one command. which are mostly following hyphen \"--\"; or simply following a space. For example, app.exe parameters or app.exe --parameter=\"value\". How we can create such type type of exe files in python.\n",
      "For this I created a python file \"file.py\"; which has following code :\n",
      "```variable = input()\n",
      "print(\"You have entered \"+variable)\n",
      "```\n",
      "After exporting it into \"file.exe\"; I tried to call it as :file.exe \"any_text But it doesn't work but I try to call it as :file.exe --variable=\"any_text\". but still not worked.\n",
      "Let me know how to create such type of .exe files. Thanks in advance.\n",
      "</Question>\n",
      "</post>\n",
      "\n",
      "----\n",
      "Difficulty Level : 1\n",
      "<post>\n",
      "<Title>Vectorize a For Statement - Zeros In A Diagonal</Title>. <Question>Want to replace a Python 'for' loop with a vectorized comprehension statement to replace the left diagonal in a pandas DataFrame with zeroes.\n",
      "The dataframe is instantiated using a standard numpy.random.randint() method.\n",
      "```df = pd.DataFrame(np.random.randint(1,100, 100).reshape(10, -1))\n",
      "```\n",
      "I tried to apply a lambda function that locates/replaces the diagonal cells using the df.iloc[] method. Was expecting the left diagonal to be replaced with zeroes.\n",
      "```df = df.apply(lambda i : [df.iloc[i, i] * 0 for i in range(df.shape[0])])\n",
      "```\n",
      "The result yields an entire DataFrame loaded with zeroes.  Need help on how to write the lambda function since an assignment is not allowed in the lambda function.\n",
      "</Question>\n",
      "</post>\n",
      "\n",
      "----\n",
      "Difficulty Level : 1\n",
      "<post>\n",
      "<Title>Unable to view output when using VS Code</Title>. <Question>Attempting to webscrape AHA for clinical guidelines. Upon running code, there seems to be no problems, but no output is shown in both the output and terminal windows. Terminal window simply returns the folder my file is saved in.\n",
      "Code attached:\n",
      "```import requests\n",
      "from bs4 import BeautifulSoup\n",
      "import sys\n",
      "\n",
      "def get_clinical_guidelines():\n",
      "\"Returns a list of clinical guidelines from the American Heart Association website.\";\n",
      "\n",
      "url = \"https://professional.heart.org/en/guidelines-and-statements\";\n",
      "response = requests.get(url, timeout=5)\n",
      "soup = BeautifulSoup(response.content, \"html.parser\")\n",
      "\n",
      "guidelines = []\n",
      "for guideline in soup.find_all(\"div\", class_=\"row guideline-item\"):\n",
      "  title = guideline.find(\"h4\").text\n",
      "  link = guideline.find(\"a\")[\"href\"]\n",
      "  guidelines.append({\"title\": title, \"link\": link})\n",
      "\n",
      "return guidelines\n",
      "\n",
      "def main():\n",
      "guidelines = get_clinical_guidelines()\n",
      "for guideline in guidelines:\n",
      "print(f\"Title: {guideline['title']}\")\n",
      "print(f\"Link: https://professional.heart.org{guideline['link']}\")\n",
      "\n",
      " if __name__ == \"__main__\":\n",
      " main()\n",
      "\n",
      "get_clinical_guidelines()\n",
      "```\n",
      "</Question>\n",
      "</post>\n",
      "\n",
      "----\n",
      "Difficulty Level : 2\n",
      "<post>\n",
      "<Title>Strange error: TypeError: forward() takes 2 positional arguments but 3 were given</Title>. <Question>I am trying to train a VAE model. However I keep getting the following error:\n",
      "```Traceback (most recent call last):\n",
      "  File \"/Users/devcharaf/Documents/Uni/UdeM/Internship/newGNN/app/train.py\", line 28, in <module>;\n",
      "    trained_model, loss = train(model, train_data, optimizer, num_epochs=1000, model_type=\"VAE\")\n",
      "  File \"/Users/devcharaf/Documents/Uni/UdeM/Internship/newGNN/app/utils.py\", line 322, in train\n",
      "    recon_x, mean, logvar = model(data[\"x\"], data[\"edge_index\"])\n",
      "  File \"/opt/anaconda3/envs/pygeometric/lib/python3.9/site-packages/torch/nn/modules/module.py\", line 1194, in _call_impl\n",
      "    return forward_call(*input, **kwargs)\n",
      "  File \"/Users/devcharaf/Documents/Uni/UdeM/Internship/newGNN/app/model.py\", line 47, in forward\n",
      "    mean, logvar = self.encoder_forward(x, edge_index)\n",
      "  File \"/Users/devcharaf/Documents/Uni/UdeM/Internship/newGNN/app/model.py\", line 53, in encoder_forward\n",
      "    x = self.encoder(x, edge_index)\n",
      "  File \"/opt/anaconda3/envs/pygeometric/lib/python3.9/site-packages/torch/nn/modules/module.py\", line 1194, in _call_impl\n",
      "    return forward_call(*input, **kwargs)\n",
      "TypeError: forward() takes 2 positional arguments but 3 were given\n",
      "```\n",
      "I tried many combinations of arguments but nothing seems to work. Can you spot the error?\n",
      "As you can see in the following model, the forward function was called in the train() function with only two arguments and not 3. Also the error hints at the line self.encoder(x, edge_index). But when I try to remove one of these arguments, I get an error saying not enough arguments.\n",
      "Here is my model:\n",
      "```# Variational Auto Encoder\n",
      "class VAE(nn.Module):\n",
      "    def __init__(self, in_dim, hidden_dim, latent_dim):\n",
      "        super(VAE, self).__init__()\n",
      "        self.in_dim = in_dim\n",
      "        self.hidden_dim = hidden_dim\n",
      "        self.latent_dim = latent_dim\n",
      "\n",
      "        self.encoder = nn.Sequential(\n",
      "            gnn.GCNConv(in_dim, hidden_dim),\n",
      "            nn.ReLU(),\n",
      "            gnn.GCNConv(hidden_dim, hidden_dim),\n",
      "            nn.ReLU()\n",
      "        )\n",
      "        self.fc_mean = nn.Linear(hidden_dim, latent_dim)\n",
      "        self.fc_logvar = nn.Linear(hidden_dim, latent_dim)\n",
      "        self.decoder = nn.Sequential(\n",
      "            gnn.GCNConv(latent_dim, hidden_dim),\n",
      "            nn.ReLU(),\n",
      "            gnn.GCNConv(hidden_dim, in_dim),\n",
      "            nn.Sigmoid()\n",
      "        )\n",
      "\n",
      "    def forward(self, x, edge_index):\n",
      "        mean, logvar = self.encoder_forward(x, edge_index)\n",
      "        z = self.reparameterize(mean, logvar)\n",
      "        recon_x = self.decoder_forward(z, edge_index)\n",
      "        return recon_x, mean, logvar\n",
      "\n",
      "    def encoder_forward(self, x, edge_index):\n",
      "        x = self.encoder(x, edge_index)\n",
      "        mean = self.fc_mean(x)\n",
      "        logvar = self.fc_logvar(x)\n",
      "        return mean, logvar\n",
      "\n",
      "    def decoder_forward(self, x, edge_index):\n",
      "        x = self.decoder(x, edge_index)\n",
      "        return x\n",
      "\n",
      "    def reparameterize(self, mean, logvar):\n",
      "        std = torch.exp(0.5 * logvar)\n",
      "        eps = torch.randn_like(std)\n",
      "        return eps.mul(std).add_(mean)\n",
      "```\n",
      "and here is my train function:\n",
      "```def train(model, data, optimizer, num_epochs):\n",
      "    model.train()\n",
      "    criterion = nn.MSELoss()\n",
      "    beta = 1\n",
      "    epoch_losses = []\n",
      "    for epoch in range(num_epochs):\n",
      "        optimizer.zero_grad()\n",
      "\n",
      "        # Output of the model\n",
      "        recon_x, mean, logvar = model(data[\"x\"], data[\"edge_index\"])\n",
      "        output = recon_x\n",
      "        kl_loss = -0.5 * torch.mean(1 + logvar - mean.pow(2) - logvar.exp())\n",
      "        kl_loss *= beta\n",
      "        kl_loss.backward(retain_graph=True)\n",
      "\n",
      "        target = torch.zeros(data[\"num_nodes\"], 1)\n",
      "\n",
      "        # Loss computation\n",
      "        loss = criterion(output, target)\n",
      "        loss += kl_loss\n",
      "\n",
      "        loss.backward()\n",
      "        optimizer.step()\n",
      "        epoch_losses.append(loss.item())\n",
      "    \n",
      "    return model, epoch_losses\n",
      "```\n",
      "Here is the code I am using to train the model:\n",
      "```model = VAE(in_dim=10, hidden_dim=32, latent_dim=8)\n",
      "\n",
      "# Create an instance of the optimizer.\n",
      "optimizer = torch.optim.Adam(model.parameters(), lr=0.001)\n",
      "\n",
      "# Train the model for a specified number of epochs.\n",
      "trained_model, loss = train(model, train_data, optimizer, num_epochs=1000)\n",
      "```\n",
      "</Question>\n",
      "</post>\n",
      "\n",
      "----\n",
      "Difficulty Level : 2\n",
      "<post>\n",
      "<Title>in my trainer, a thread doesn't stop when the condition is met</Title>. <Question>i am making a Alan Wake remaster trainer in python with customtkinter and pymem, everything worked fine until i started adding threading.\n",
      "in the window there are checkboxes that, when active, starts setting a value to the batteries or revolver ammo to simulate a NOP instruction, but when that happens the rest of the program freezes, i solved that by adding threads, the thing is, when you activate both batteries and revolver checkboxes, and uncheck the battery one, it doesn't stop doing the battery cheat.\n",
      "```from pymem import *\n",
      "from pymem.process import *\n",
      "from customtkinter import *\n",
      "import threading\n",
      "\n",
      "class Trainer:\n",
      "    def __init__(self):\n",
      "        \n",
      "        self.root = CTk()\n",
      "        self.root.title(\"Alan Wake Remaster Trainer\")\n",
      "        set_appearance_mode(\"dark\")\n",
      "        self.root.geometry(\"400x600\")\n",
      "        self.root.resizable(0,0)\n",
      "    \n",
      "        self.mf = CTkFrame(master=self.root)\n",
      "        self.mf.pack(fill=\"both\", expand= True)\n",
      "    \n",
      "        self.bc_var = IntVar()\n",
      "        self.rv_var = IntVar()\n",
      "        \n",
      "        self.battery_checkbox = CTkCheckBox(master=self.mf,text=\"Unlimited Batteries\",variable=self.bc_var,command=self.check)\n",
      "        self.battery_checkbox.pack()\n",
      "        self.battery_checkbox.place(x=140,y=50)\n",
      "        \n",
      "        self.revolver_checkbox = CTkCheckBox(master=self.mf, text=\"Unlimited Revolver Ammo\", variable=self.rv_var,command=self.check)\n",
      "        self.revolver_checkbox.pack()\n",
      "        self.revolver_checkbox.place(x=140,y=80)\n",
      "\n",
      "        self.keep_running = True\n",
      "    \n",
      "    def check(self):\n",
      "        if self.bc_var.get() == 1:\n",
      "            self.keep_running = True\n",
      "            t = threading.Thread(target=self.write_bat)\n",
      "            t.start()\n",
      "        if self.rv_var.get() == 1:\n",
      "            self.keep_running = True\n",
      "            t1 = threading.Thread(target=self.write_rev)\n",
      "            t1.start()\n",
      "        elif self.bc_var.get() == 0:\n",
      "            self.keep_running = False\n",
      "        elif self.rv_var.get() == 0:\n",
      "            self.keep_running == False\n",
      "            \n",
      "    \n",
      "        \n",
      "    \n",
      "    def write_bat(self):\n",
      "        while self.keep_running:\n",
      "            Pymem.write_int(mem, self.getpointer(module_bat + 0x00AE69D0, offsets_bat), 20)\n",
      "        \n",
      "    def write_rev(self):\n",
      "        while self.keep_running:\n",
      "            Pymem.write_int(mem, self.getpointer(module_rev + 0x0000027C, offsets_rev), 42)\n",
      "    \n",
      "    def run(self):\n",
      "        self.root.mainloop()\n",
      "    \n",
      "    def getpointer(self,base,offsets):\n",
      "        addr = mem.read_int(base)\n",
      "        for offset in offsets:\n",
      "            if offset != offsets[-1]:\n",
      "                addr = mem.read_int(addr + offset)\n",
      "        addr = addr + offsets[-1]\n",
      "        return addr\n",
      " \n",
      "\n",
      "mem = Pymem(\"Game_f_x64_EOS.exe\")\n",
      "module_bat = module_from_name(mem.process_handle, \"Game_f_x64_EOS.exe\").lpBaseOfDll\n",
      "module_rev = module_from_name(mem.process_handle, \"fmod.dll\").lpBaseOfDll\n",
      "offsets_bat = [0x50,0x128,0x10,0x48,0xD0,0x144]\n",
      "offsets_rev = [0xC0,0x68,0x10,0xE0,0x148]\n",
      "\n",
      "app = Trainer()\n",
      "app.run()\n",
      "```\n",
      "what im trying to explain is that the battery thread doesn't stop when the checkbox is unmarked and the revolver ammo is.\n",
      "i tried separating the threads with another check function but the same happens, and tried other stuff but it just breaks.\n",
      "my knowledge in threading is new and very limited, so if there is an alternative or a better way to do this, i'd appreciate to be told.\n",
      "</Question>\n",
      "</post>\n",
      "\n",
      "----\n",
      "Difficulty Level : 2\n",
      "<post>\n",
      "<Title>MediaPipe Model retraining for 15 classes</Title>. <Question>I am a beginner to ML and am using Google Colab for model training. I am using MediaPipe and I followed the instructions from the 5 classes of flowers example: https://developers.google.com/mediapipe/solutions/customization/image_classifier. I am successful at retraining this model using the flower set, and can modify this code to detect a green android or pink pig figurine with high accuracy, using only 12 images for each figurine. I can download the model to my Raspberry Pi and apply it on live video from the pi camera.\n",
      "My goal is to detect a single light when it is on and identify in which position it is located. The light can be in one of 15 positions and I have 6 images for each of the 15 classes, modifying the light condition in the room only. The live feed from the camera is at a fixed position, identical to the position when the sample images were taken, thus I have not done any rotations or other modifications to the images.\n",
      "Here are a couple of images as an example - position 7 and position 1.\n",
      "I was expecting this to be an easy classification, but it turns out I have been running into problems. My retrained model has very low accuracy, even when I increase the training epochs to 150 or so, it is still under 25% accurate under training:\n",
      "Epoch 150/150\n",
      "33/33 [==============================] - 4s 123ms/step - loss: 2.4801 - accuracy: 0.2273 - val_loss: 3.3785 - val_accuracy: 0.0000e+00\n",
      "and testing is terrible\n",
      "1/1 [==============================] - 1s 673ms/step - loss: 2.9110 - accuracy: 0.0000e+00\n",
      "Test loss:2.9109785556793213, Test accuracy:0.0\n",
      "I just don't know how to continue from here. Does anyone have a model that would be better fit for this example application?\n",
      "Thanks for your help!\n",
      "</Question>\n",
      "</post>\n",
      "----\n",
      "\n",
      "Here is the target post. Answer the \"Difficulty Level\".\n",
      "\n",
      "<target_post>\n",
      "<Title>How would I make the turtle player move animation smooth instead of the current way it jumps?</Title>. <Question>Trying to make the player move glide across the screen on key presses instead of jumping across.\n",
      "```import turtle\n",
      "\n",
      "scrn = turtle.Screen()\n",
      "scrn.title(\"Falling Skies Game\")\n",
      "scrn.setup(width=800, height=600)\n",
      "scrn.bgcolor(\"sky blue\")\n",
      "\n",
      "# Adding the player\n",
      "player = turtle.Turtle()\n",
      "player.speed(0)\n",
      "player.shape(\"square\")\n",
      "player.color(\"white\")\n",
      "player.penup()  \n",
      "player.goto(0,-250)\n",
      "\n",
      "def playerleft():\n",
      "    player.setheading(180)\n",
      "    player.forward(25)\n",
      "\n",
      "def playerright():\n",
      "    player.setheading(0)\n",
      "    player.forward(25)\n",
      "\n",
      "scrn.listen()       \n",
      "scrn.onkeypress(playerleft, 'Left')\n",
      "scrn.onkeypress(playerright, 'Right')\n",
      "\n",
      "scrn.mainloop()\n",
      "```\n",
      "Able to make the player move but it jumps across the screen on keypress but I need it to glide across.\n",
      "</Question>\n",
      "</target_post>\n",
      "\n"
     ]
    }
   ],
   "source": [
    "print(tot_prompt)"
   ]
  },
  {
   "cell_type": "code",
   "execution_count": 29,
   "metadata": {},
   "outputs": [],
   "source": [
    "with open(\"output.json\", \"w\") as file:\n",
    "    json.dump(tot_prompt, file)"
   ]
  },
  {
   "cell_type": "code",
   "execution_count": 30,
   "metadata": {},
   "outputs": [
    {
     "data": {
      "text/html": [
       "<div>\n",
       "<style scoped>\n",
       "    .dataframe tbody tr th:only-of-type {\n",
       "        vertical-align: middle;\n",
       "    }\n",
       "\n",
       "    .dataframe tbody tr th {\n",
       "        vertical-align: top;\n",
       "    }\n",
       "\n",
       "    .dataframe thead th {\n",
       "        text-align: right;\n",
       "    }\n",
       "</style>\n",
       "<table border=\"1\" class=\"dataframe\">\n",
       "  <thead>\n",
       "    <tr style=\"text-align: right;\">\n",
       "      <th></th>\n",
       "      <th>id</th>\n",
       "      <th>question</th>\n",
       "      <th>answer</th>\n",
       "      <th>answer_encode</th>\n",
       "    </tr>\n",
       "  </thead>\n",
       "  <tbody>\n",
       "    <tr>\n",
       "      <th>69</th>\n",
       "      <td>77404924</td>\n",
       "      <td>&lt;Title&gt;How would I make the turtle player move...</td>\n",
       "      <td>Difficulty Level : Basic</td>\n",
       "      <td>0</td>\n",
       "    </tr>\n",
       "  </tbody>\n",
       "</table>\n",
       "</div>"
      ],
      "text/plain": [
       "          id                                           question  \\\n",
       "69  77404924  <Title>How would I make the turtle player move...   \n",
       "\n",
       "                      answer  answer_encode  \n",
       "69  Difficulty Level : Basic              0  "
      ]
     },
     "execution_count": 30,
     "metadata": {},
     "output_type": "execute_result"
    }
   ],
   "source": [
    "df.loc[eval_q_idx, :]"
   ]
  },
  {
   "cell_type": "code",
   "execution_count": 31,
   "metadata": {},
   "outputs": [],
   "source": [
    "from ollama import chat\n",
    "# from pathlib import Path\n",
    "\n",
    "response = chat(\n",
    "  model='llama-3.1-70b-instruct-lorablated.Q4_K_M:latest',\n",
    "  messages=[\n",
    "    # {\"role\": \"system\", \"content\": sys_promt},\n",
    "    {'role': 'user','content': tot_prompt}\n",
    "    \n",
    "  ],\n",
    ")\n"
   ]
  },
  {
   "cell_type": "code",
   "execution_count": 32,
   "metadata": {},
   "outputs": [
    {
     "name": "stdout",
     "output_type": "stream",
     "text": [
      "Difficulty Level: 1\n",
      "\n"
     ]
    }
   ],
   "source": [
    "print(response['message']['content'])"
   ]
  },
  {
   "cell_type": "code",
   "execution_count": null,
   "metadata": {},
   "outputs": [],
   "source": [
    "sys_promt + "
   ]
  }
 ],
 "metadata": {
  "kernelspec": {
   "display_name": "venv_stackoverflow_src",
   "language": "python",
   "name": "python3"
  },
  "language_info": {
   "codemirror_mode": {
    "name": "ipython",
    "version": 3
   },
   "file_extension": ".py",
   "mimetype": "text/x-python",
   "name": "python",
   "nbconvert_exporter": "python",
   "pygments_lexer": "ipython3",
   "version": "3.10.12"
  }
 },
 "nbformat": 4,
 "nbformat_minor": 2
}
