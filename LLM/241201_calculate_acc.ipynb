{
 "cells": [
  {
   "cell_type": "code",
   "execution_count": 1,
   "metadata": {},
   "outputs": [],
   "source": [
    "import sys, os\n",
    "p = os.path.abspath('..')\n",
    "# p = p+r'\\config'\n",
    "sys.path.insert(1, p)"
   ]
  },
  {
   "cell_type": "code",
   "execution_count": 2,
   "metadata": {},
   "outputs": [],
   "source": [
    "import pandas as pd\n",
    "import re\n",
    "import numpy as np\n"
   ]
  },
  {
   "cell_type": "code",
   "execution_count": 3,
   "metadata": {},
   "outputs": [],
   "source": [
    "path = './result_241201'\n",
    "file_list = os.listdir(path)"
   ]
  },
  {
   "cell_type": "code",
   "execution_count": null,
   "metadata": {},
   "outputs": [],
   "source": [
    "tmp = pd.DataFrame()\n",
    "df_eval = pd.DataFrame()\n",
    "def sc_calc_acc_condition_with_temp(llm_model, few_shot_n, test_n, q_src_yn, p_ver, temp):\n",
    "    opt_file = [x for x in file_list if x.startswith(f'sc_{llm_model}_result_{few_shot_n}_{test_n}_{q_src_yn}')]\n",
    "    opt_file = [x for x in opt_file if x.endswith(f'_{p_ver}_{temp}.csv')]\n",
    "    df = pd.DataFrame()\n",
    "    if len(opt_file)>0 : \n",
    "        for f in opt_file:\n",
    "            print(f)\n",
    "            tmp = pd.read_csv(f'{path}/{f}', index_col =0)\n",
    "            tmp['gold'] = tmp['answer_encode'].apply(lambda x : re.sub(r'[^0-9]', '', x))\n",
    "            tmp['o_result'] = tmp['result'].apply(lambda x : re.sub(r'[^0-9]', '', x))\n",
    "            \n",
    "            gold_df = tmp[['id', 'gold']].drop_duplicates()\n",
    "            chk_cnt = tmp.groupby(['id', 'o_result']).count().reset_index()[['id', 'o_result', 'question']]\n",
    "            chk_cnt = chk_cnt.rename(columns = {'question': 'cnt'})\n",
    "            chk_cnt = chk_cnt.sort_values(by = ['id', 'cnt'], ascending=[True, False]).groupby(['id']).head(1)\n",
    "            df_eval = pd.merge(gold_df, chk_cnt, on = ['id'])\n",
    "\n",
    "            df_eval['equal_yn'] = np.where(df_eval['gold']==df_eval['o_result'], 1, 0)\n",
    "            acc = (df_eval['equal_yn'].sum()/df_eval.shape[0])*100  \n",
    "            print(acc)\n",
    "            # print(df_eval)\n",
    "            df = pd.concat([df, df_eval], axis =0)\n",
    "            \n",
    "        df['equal_yn'] = np.where(df['gold']==df['o_result'], 1, 0)\n",
    "        acc = (df['equal_yn'].sum()/df.shape[0])*100            \n",
    "        print(f'{llm_model}_result_{few_shot_n}_{test_n}_{q_src_yn} : ', acc)\n"
   ]
  },
  {
   "cell_type": "code",
   "execution_count": 5,
   "metadata": {},
   "outputs": [
    {
     "name": "stdout",
     "output_type": "stream",
     "text": [
      "sc_l_result_2_10_Y_1_sys_prompt4_0.2.csv\n",
      "80.0\n",
      "         id gold o_result  cnt  equal_yn\n",
      "0  74727945    0        0    5         1\n",
      "1  74793352    0        0    5         1\n",
      "2  75057003    1        1    5         1\n",
      "3  75198212    2        1    5         0\n",
      "4  76115814    1        0    4         0\n",
      "5  76675433    2        2    5         1\n",
      "6  76917593    0        0    4         1\n",
      "7  77019129    1        1    5         1\n",
      "8  77020489    1        1    5         1\n",
      "9  77467788    1        1    5         1\n",
      "sc_l_result_2_10_Y_4_sys_prompt4_0.2.csv\n",
      "80.0\n",
      "         id gold o_result  cnt  equal_yn\n",
      "0  74693871    1        1    3         1\n",
      "1  74936129    1        0    5         0\n",
      "2  75266730    1        1    3         1\n",
      "3  75492157    1        1    5         1\n",
      "4  76045819    1        0    3         0\n",
      "5  76774917    0        0    5         1\n",
      "6  76784524    1        1    4         1\n",
      "7  77068633    1        1    5         1\n",
      "8  77370805    1        1    5         1\n",
      "9  77543317    2        2    5         1\n",
      "sc_l_result_2_10_Y_2_sys_prompt4_0.2.csv\n",
      "80.0\n",
      "         id gold o_result  cnt  equal_yn\n",
      "0  74844950    1        1    5         1\n",
      "1  75022065    0        1    3         0\n",
      "2  75243277    0        1    4         0\n",
      "3  76548866    1        1    3         1\n",
      "4  76784524    1        1    4         1\n",
      "5  76798081    0        0    3         1\n",
      "6  76992629    1        1    5         1\n",
      "7  77291783    2        2    3         1\n",
      "8  77467788    1        1    5         1\n",
      "9  77543317    2        2    4         1\n",
      "sc_l_result_2_10_Y_3_sys_prompt4_0.2.csv\n",
      "70.0\n",
      "         id gold o_result  cnt  equal_yn\n",
      "0  74793352    0        0    5         1\n",
      "1  74844950    1        1    5         1\n",
      "2  75179892    1        0    5         0\n",
      "3  75460677    1        1    5         1\n",
      "4  75995957    0        0    5         1\n",
      "5  76045819    1        0    4         0\n",
      "6  76367594    1        1    5         1\n",
      "7  76570219    0        0    4         1\n",
      "8  77068633    1        1    4         1\n",
      "9  77150535    1        0    4         0\n",
      "sc_l_result_2_10_Y_0_sys_prompt4_0.2.csv\n",
      "70.0\n",
      "         id gold o_result  cnt  equal_yn\n",
      "0  74793352    0        0    5         1\n",
      "1  75789316    0        0    3         1\n",
      "2  75862649    2        2    5         1\n",
      "3  76040179    1        2    4         0\n",
      "4  76427264    1        0    2         0\n",
      "5  76548866    1        2    4         0\n",
      "6  77020489    1        1    5         1\n",
      "7  77068633    1        1    5         1\n",
      "8  77076663    2        2    5         1\n",
      "9  77249095    0        0    5         1\n",
      "l_result_2_10_Y :  76.0\n"
     ]
    }
   ],
   "source": [
    "sc_calc_acc_condition_with_temp('l', 2, 10, 'Y','sys_prompt4', 0.2)"
   ]
  },
  {
   "cell_type": "code",
   "execution_count": null,
   "metadata": {},
   "outputs": [],
   "source": []
  }
 ],
 "metadata": {
  "kernelspec": {
   "display_name": "venv_stackoverflow_src",
   "language": "python",
   "name": "python3"
  },
  "language_info": {
   "codemirror_mode": {
    "name": "ipython",
    "version": 3
   },
   "file_extension": ".py",
   "mimetype": "text/x-python",
   "name": "python",
   "nbconvert_exporter": "python",
   "pygments_lexer": "ipython3",
   "version": "3.10.12"
  }
 },
 "nbformat": 4,
 "nbformat_minor": 2
}
