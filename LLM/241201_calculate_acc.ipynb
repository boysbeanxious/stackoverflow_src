{
 "cells": [
  {
   "cell_type": "code",
   "execution_count": 1,
   "metadata": {},
   "outputs": [],
   "source": [
    "import sys, os\n",
    "p = os.path.abspath('..')\n",
    "# p = p+r'\\config'\n",
    "sys.path.insert(1, p)\n"
   ]
  },
  {
   "cell_type": "code",
   "execution_count": 2,
   "metadata": {},
   "outputs": [],
   "source": [
    "import pandas as pd\n",
    "import re\n",
    "import numpy as np\n"
   ]
  },
  {
   "cell_type": "code",
   "execution_count": 3,
   "metadata": {},
   "outputs": [],
   "source": [
    "tmp = pd.DataFrame()\n",
    "df_eval = pd.DataFrame()\n",
    "def sc_calc_acc_condition_with_temp_with_sc(llm_model, few_shot_n, test_n, q_src_yn, ver, p_ver, sc_num, temp, excel_ver):\n",
    "    path = './result'\n",
    "    # ./result/sc_l_result_4_15_Y_30_sys_prompt8_0.01_ver1_0.csv\n",
    "    file_list = os.listdir(path)\n",
    "    opt_file = [x for x in file_list if x.startswith(f'sc_{llm_model}_result_{few_shot_n}_{test_n}_{q_src_yn}_{ver}_{p_ver}_{sc_num}_{temp}_{excel_ver}')]\n",
    "    opt_file = [x for x in opt_file if x.endswith(f'.csv')]\n",
    "    df = pd.DataFrame()\n",
    "    \n",
    "    if len(opt_file)>0 : \n",
    "        for f in opt_file:\n",
    "            print(f)\n",
    "            tmp = pd.read_csv(f'{path}/{f}', index_col =0)\n",
    "            tmp = tmp.dropna()\n",
    "\n",
    "            tmp['gold'] = tmp['answer_encode'].apply(lambda x : re.sub(r'[^012]', '', x))\n",
    "            tmp['o_result'] = tmp['result'].apply(lambda x : re.sub(r'[^012]', '', x))\n",
    "            \n",
    "            \n",
    "            gold_df = tmp[['id', 'gold']].drop_duplicates()\n",
    "            chk_cnt = tmp.groupby(['id', 'o_result']).count().reset_index()[['id', 'o_result', 'question']]\n",
    "            chk_cnt = chk_cnt.rename(columns = {'question': 'cnt'})\n",
    "            chk_cnt = chk_cnt[chk_cnt['cnt'] == sc_num]\n",
    "            chk_cnt = chk_cnt.sort_values(by = ['id', 'cnt'], ascending=[True, False]).groupby(['id']).head(1)\n",
    "            df_eval = pd.merge(gold_df, chk_cnt, on = ['id'])\n",
    "\n",
    "            df_eval['equal_yn'] = np.where(df_eval['gold']==df_eval['o_result'], 1, 0)\n",
    "            acc = (df_eval['equal_yn'].sum()/df_eval.shape[0])*100  \n",
    "            print(acc)\n",
    "            # print(df_eval)\n",
    "            df = pd.concat([df, df_eval], axis =0)\n",
    "            \n",
    "        df['equal_yn'] = np.where(df['gold']==df['o_result'], 1, 0)\n",
    "        acc = (df['equal_yn'].sum()/df.shape[0])*100            \n",
    "        print(f'{llm_model}_result_{few_shot_n}_{test_n}_{q_src_yn} : ', acc)\n"
   ]
  },
  {
   "cell_type": "code",
   "execution_count": null,
   "metadata": {},
   "outputs": [
    {
     "name": "stdout",
     "output_type": "stream",
     "text": [
      "sc_l_result_4_30_Y_100_sys_prompt8_5_0.01_ver2_16.csv\n",
      "78.94736842105263\n",
      "sc_l_result_4_30_Y_100_sys_prompt8_5_0.01_ver2_84.csv\n",
      "84.0\n",
      "sc_l_result_4_30_Y_100_sys_prompt8_5_0.01_ver2_0.csv\n",
      "86.66666666666667\n",
      "sc_l_result_4_30_Y_100_sys_prompt8_5_0.01_ver2_10.csv\n"
     ]
    },
    {
     "name": "stdout",
     "output_type": "stream",
     "text": [
      "90.0\n",
      "sc_l_result_4_30_Y_100_sys_prompt8_5_0.01_ver2_64.csv\n",
      "72.72727272727273\n",
      "sc_l_result_4_30_Y_100_sys_prompt8_5_0.01_ver2_35.csv\n",
      "81.25\n",
      "sc_l_result_4_30_Y_100_sys_prompt8_5_0.01_ver2_72.csv\n",
      "85.71428571428571\n",
      "sc_l_result_4_30_Y_100_sys_prompt8_5_0.01_ver2_2.csv\n",
      "86.66666666666667\n",
      "sc_l_result_4_30_Y_100_sys_prompt8_5_0.01_ver2_12.csv\n",
      "90.0\n",
      "sc_l_result_4_30_Y_100_sys_prompt8_5_0.01_ver2_74.csv\n",
      "83.33333333333334\n",
      "sc_l_result_4_30_Y_100_sys_prompt8_5_0.01_ver2_62.csv\n",
      "82.35294117647058\n",
      "sc_l_result_4_30_Y_100_sys_prompt8_5_0.01_ver2_54.csv\n",
      "90.0\n",
      "sc_l_result_4_30_Y_100_sys_prompt8_5_0.01_ver2_32.csv\n",
      "91.30434782608695\n",
      "sc_l_result_4_30_Y_100_sys_prompt8_5_0.01_ver2_45.csv\n",
      "68.42105263157895\n",
      "sc_l_result_4_30_Y_100_sys_prompt8_5_0.01_ver2_18.csv\n",
      "72.22222222222221\n",
      "sc_l_result_4_30_Y_100_sys_prompt8_5_0.01_ver2_86.csv\n",
      "83.33333333333334\n",
      "sc_l_result_4_30_Y_100_sys_prompt8_5_0.01_ver2_15.csv\n",
      "86.66666666666667\n",
      "sc_l_result_4_30_Y_100_sys_prompt8_5_0.01_ver2_33.csv\n",
      "100.0\n",
      "sc_l_result_4_30_Y_100_sys_prompt8_5_0.01_ver2_3.csv\n",
      "90.47619047619048\n",
      "sc_l_result_4_30_Y_100_sys_prompt8_5_0.01_ver2_88.csv\n",
      "80.0\n",
      "sc_l_result_4_30_Y_100_sys_prompt8_5_0.01_ver2_98.csv\n",
      "90.47619047619048\n",
      "sc_l_result_4_30_Y_100_sys_prompt8_5_0.01_ver2_99.csv\n",
      "77.27272727272727\n",
      "sc_l_result_4_30_Y_100_sys_prompt8_5_0.01_ver2_69.csv\n",
      "85.71428571428571\n",
      "sc_l_result_4_30_Y_100_sys_prompt8_5_0.01_ver2_11.csv\n",
      "84.61538461538461\n",
      "sc_l_result_4_30_Y_100_sys_prompt8_5_0.01_ver2_40.csv\n",
      "77.27272727272727\n",
      "sc_l_result_4_30_Y_100_sys_prompt8_5_0.01_ver2_31.csv\n",
      "91.66666666666666\n",
      "sc_l_result_4_30_Y_100_sys_prompt8_5_0.01_ver2_52.csv\n",
      "87.5\n",
      "sc_l_result_4_30_Y_100_sys_prompt8_5_0.01_ver2_28.csv\n",
      "83.33333333333334\n",
      "sc_l_result_4_30_Y_100_sys_prompt8_5_0.01_ver2_94.csv\n",
      "89.47368421052632\n",
      "sc_l_result_4_30_Y_100_sys_prompt8_5_0.01_ver2_77.csv\n",
      "85.71428571428571\n",
      "sc_l_result_4_30_Y_100_sys_prompt8_5_0.01_ver2_20.csv\n",
      "76.0\n",
      "sc_l_result_4_30_Y_100_sys_prompt8_5_0.01_ver2_87.csv\n",
      "87.5\n",
      "sc_l_result_4_30_Y_100_sys_prompt8_5_0.01_ver2_44.csv\n",
      "83.33333333333334\n",
      "sc_l_result_4_30_Y_100_sys_prompt8_5_0.01_ver2_71.csv\n",
      "90.0\n",
      "sc_l_result_4_30_Y_100_sys_prompt8_5_0.01_ver2_57.csv\n",
      "66.66666666666666\n",
      "sc_l_result_4_30_Y_100_sys_prompt8_5_0.01_ver2_58.csv\n",
      "88.88888888888889\n",
      "sc_l_result_4_30_Y_100_sys_prompt8_5_0.01_ver2_24.csv\n",
      "80.0\n",
      "sc_l_result_4_30_Y_100_sys_prompt8_5_0.01_ver2_75.csv\n",
      "100.0\n",
      "sc_l_result_4_30_Y_100_sys_prompt8_5_0.01_ver2_19.csv\n",
      "75.0\n",
      "sc_l_result_4_30_Y_100_sys_prompt8_5_0.01_ver2_38.csv\n",
      "76.47058823529412\n",
      "sc_l_result_4_30_Y_100_sys_prompt8_5_0.01_ver2_22.csv\n",
      "84.21052631578947\n",
      "sc_l_result_4_30_Y_100_sys_prompt8_5_0.01_ver2_1.csv\n",
      "89.47368421052632\n",
      "sc_l_result_4_30_Y_100_sys_prompt8_5_0.01_ver2_90.csv\n",
      "83.33333333333334\n",
      "sc_l_result_4_30_Y_100_sys_prompt8_5_0.01_ver2_73.csv\n",
      "88.23529411764706\n",
      "sc_l_result_4_30_Y_100_sys_prompt8_5_0.01_ver2_78.csv\n",
      "100.0\n",
      "sc_l_result_4_30_Y_100_sys_prompt8_5_0.01_ver2_93.csv\n",
      "80.0\n",
      "sc_l_result_4_30_Y_100_sys_prompt8_5_0.01_ver2_82.csv\n",
      "82.14285714285714\n",
      "sc_l_result_4_30_Y_100_sys_prompt8_5_0.01_ver2_26.csv\n",
      "94.11764705882352\n",
      "sc_l_result_4_30_Y_100_sys_prompt8_5_0.01_ver2_42.csv\n",
      "86.36363636363636\n",
      "sc_l_result_4_30_Y_100_sys_prompt8_5_0.01_ver2_17.csv\n",
      "88.88888888888889\n",
      "sc_l_result_4_30_Y_100_sys_prompt8_5_0.01_ver2_30.csv\n",
      "90.0\n",
      "sc_l_result_4_30_Y_100_sys_prompt8_5_0.01_ver2_13.csv\n",
      "86.66666666666667\n",
      "sc_l_result_4_30_Y_100_sys_prompt8_5_0.01_ver2_91.csv\n",
      "84.21052631578947\n",
      "sc_l_result_4_30_Y_100_sys_prompt8_5_0.01_ver2_59.csv\n",
      "87.5\n",
      "sc_l_result_4_30_Y_100_sys_prompt8_5_0.01_ver2_34.csv\n",
      "86.66666666666667\n",
      "sc_l_result_4_30_Y_100_sys_prompt8_5_0.01_ver2_97.csv\n",
      "80.0\n",
      "sc_l_result_4_30_Y_100_sys_prompt8_5_0.01_ver2_8.csv\n",
      "71.42857142857143\n",
      "sc_l_result_4_30_Y_100_sys_prompt8_5_0.01_ver2_80.csv\n",
      "86.20689655172413\n",
      "sc_l_result_4_30_Y_100_sys_prompt8_5_0.01_ver2_9.csv\n",
      "69.56521739130434\n",
      "sc_l_result_4_30_Y_100_sys_prompt8_5_0.01_ver2_41.csv\n",
      "80.0\n",
      "sc_l_result_4_30_Y_100_sys_prompt8_5_0.01_ver2_5.csv\n",
      "80.95238095238095\n",
      "sc_l_result_4_30_Y_100_sys_prompt8_5_0.01_ver2_14.csv\n",
      "86.36363636363636\n",
      "sc_l_result_4_30_Y_100_sys_prompt8_5_0.01_ver2_53.csv\n",
      "86.36363636363636\n",
      "sc_l_result_4_30_Y_100_sys_prompt8_5_0.01_ver2_29.csv\n",
      "94.44444444444444\n",
      "sc_l_result_4_30_Y_100_sys_prompt8_5_0.01_ver2_66.csv\n",
      "83.33333333333334\n",
      "sc_l_result_4_30_Y_100_sys_prompt8_5_0.01_ver2_56.csv\n",
      "86.95652173913044\n",
      "sc_l_result_4_30_Y_100_sys_prompt8_5_0.01_ver2_83.csv\n",
      "90.47619047619048\n",
      "sc_l_result_4_30_Y_100_sys_prompt8_5_0.01_ver2_48.csv\n",
      "78.94736842105263\n",
      "sc_l_result_4_30_Y_100_sys_prompt8_5_0.01_ver2_36.csv\n",
      "88.23529411764706\n",
      "sc_l_result_4_30_Y_100_sys_prompt8_5_0.01_ver2_43.csv\n",
      "80.0\n",
      "sc_l_result_4_30_Y_100_sys_prompt8_5_0.01_ver2_55.csv\n",
      "68.42105263157895\n",
      "sc_l_result_4_30_Y_100_sys_prompt8_5_0.01_ver2_7.csv\n",
      "90.0\n",
      "sc_l_result_4_30_Y_100_sys_prompt8_5_0.01_ver2_92.csv\n",
      "90.0\n",
      "sc_l_result_4_30_Y_100_sys_prompt8_5_0.01_ver2_25.csv\n",
      "75.0\n",
      "sc_l_result_4_30_Y_100_sys_prompt8_5_0.01_ver2_81.csv\n",
      "76.47058823529412\n",
      "sc_l_result_4_30_Y_100_sys_prompt8_5_0.01_ver2_60.csv\n",
      "88.88888888888889\n",
      "sc_l_result_4_30_Y_100_sys_prompt8_5_0.01_ver2_21.csv\n",
      "87.5\n",
      "sc_l_result_4_30_Y_100_sys_prompt8_5_0.01_ver2_39.csv\n",
      "83.33333333333334\n",
      "sc_l_result_4_30_Y_100_sys_prompt8_5_0.01_ver2_61.csv\n",
      "76.19047619047619\n",
      "sc_l_result_4_30_Y_100_sys_prompt8_5_0.01_ver2_95.csv\n",
      "80.0\n",
      "sc_l_result_4_30_Y_100_sys_prompt8_5_0.01_ver2_49.csv\n",
      "84.21052631578947\n",
      "sc_l_result_4_30_Y_100_sys_prompt8_5_0.01_ver2_67.csv\n",
      "82.6086956521739\n",
      "sc_l_result_4_30_Y_100_sys_prompt8_5_0.01_ver2_65.csv\n",
      "94.44444444444444\n",
      "sc_l_result_4_30_Y_100_sys_prompt8_5_0.01_ver2_46.csv\n",
      "87.5\n",
      "sc_l_result_4_30_Y_100_sys_prompt8_5_0.01_ver2_37.csv\n",
      "70.0\n",
      "sc_l_result_4_30_Y_100_sys_prompt8_5_0.01_ver2_63.csv\n",
      "66.66666666666666\n",
      "sc_l_result_4_30_Y_100_sys_prompt8_5_0.01_ver2_23.csv\n",
      "79.16666666666666\n",
      "sc_l_result_4_30_Y_100_sys_prompt8_5_0.01_ver2_27.csv\n",
      "95.23809523809523\n",
      "sc_l_result_4_30_Y_100_sys_prompt8_5_0.01_ver2_50.csv\n",
      "84.0\n",
      "sc_l_result_4_30_Y_100_sys_prompt8_5_0.01_ver2_79.csv\n",
      "83.33333333333334\n",
      "sc_l_result_4_30_Y_100_sys_prompt8_5_0.01_ver2_68.csv\n",
      "71.42857142857143\n",
      "sc_l_result_4_30_Y_100_sys_prompt8_5_0.01_ver2_76.csv\n",
      "94.73684210526315\n",
      "sc_l_result_4_30_Y_100_sys_prompt8_5_0.01_ver2_51.csv\n",
      "88.88888888888889\n",
      "sc_l_result_4_30_Y_100_sys_prompt8_5_0.01_ver2_96.csv\n",
      "76.47058823529412\n",
      "sc_l_result_4_30_Y_100_sys_prompt8_5_0.01_ver2_6.csv\n",
      "85.71428571428571\n",
      "sc_l_result_4_30_Y_100_sys_prompt8_5_0.01_ver2_70.csv\n",
      "80.95238095238095\n",
      "sc_l_result_4_30_Y_100_sys_prompt8_5_0.01_ver2_89.csv\n",
      "79.16666666666666\n",
      "sc_l_result_4_30_Y_100_sys_prompt8_5_0.01_ver2_85.csv\n",
      "73.91304347826086\n",
      "sc_l_result_4_30_Y_100_sys_prompt8_5_0.01_ver2_4.csv\n",
      "88.88888888888889\n",
      "sc_l_result_4_30_Y_100_sys_prompt8_5_0.01_ver2_47.csv\n",
      "68.18181818181817\n",
      "l_result_4_30_Y :  83.52098259979529\n"
     ]
    }
   ],
   "source": [
    "# sc_calc_acc_condition_with_temp_with_sc('l', 4, 15, 'Y', 30, 'sys_prompt8', 5,  0.01, 'ver1')\n",
    "# # process3 = Process(target=task, args=('l', 4, 15, 'Y', 30, 'sys_prompt8', 3, 0.01, 'ver1'))\n",
    "sc_calc_acc_condition_with_temp_with_sc('l', 4, 30, 'Y', 100, 'sys_prompt8', 5,  0.01, 'ver2')\n",
    "# 그래프 그려서 넣어두기... 분포...."
   ]
  },
  {
   "cell_type": "code",
   "execution_count": null,
   "metadata": {},
   "outputs": [],
   "source": [
    "tmp = pd.DataFrame()\n",
    "df_eval = pd.DataFrame()\n",
    "def sc_calc_acc_condition_with_temp_with_sc(llm_model, few_shot_n, test_n, q_src_yn, ver, p_ver, sc_num, temp, excel_ver):\n",
    "    path = './result'\n",
    "    # ./result/sc_l_result_4_15_Y_30_sys_prompt8_0.01_ver1_0.csv\n",
    "    file_list = os.listdir(path)\n",
    "    opt_file = [x for x in file_list if x.startswith(f'sc_{llm_model}_result_{few_shot_n}_{test_n}_{q_src_yn}_{ver}_{p_ver}_{temp}_{excel_ver}')]\n",
    "    opt_file = [x for x in opt_file if x.endswith(f'.csv')]\n",
    "    df = pd.DataFrame()\n",
    "    \n",
    "    if len(opt_file)>0 : \n",
    "        for f in opt_file:\n",
    "            print(f)\n",
    "            tmp = pd.read_csv(f'{path}/{f}', index_col =0)\n",
    "            tmp = tmp.dropna()\n",
    "\n",
    "            tmp['gold'] = tmp['answer_encode'].apply(lambda x : re.sub(r'[^012]', '', x))\n",
    "            tmp['o_result'] = tmp['result'].apply(lambda x : re.sub(r'[^012]', '', x))\n",
    "            \n",
    "            \n",
    "            gold_df = tmp[['id', 'gold']].drop_duplicates()\n",
    "            chk_cnt = tmp.groupby(['id', 'o_result']).count().reset_index()[['id', 'o_result', 'question']]\n",
    "            chk_cnt = chk_cnt.rename(columns = {'question': 'cnt'})\n",
    "            chk_cnt = chk_cnt[chk_cnt['cnt'] == sc_num]\n",
    "            chk_cnt = chk_cnt.sort_values(by = ['id', 'cnt'], ascending=[True, False]).groupby(['id']).head(1)\n",
    "            df_eval = pd.merge(gold_df, chk_cnt, on = ['id'])\n",
    "\n",
    "            df_eval['equal_yn'] = np.where(df_eval['gold']==df_eval['o_result'], 1, 0)\n",
    "            acc = (df_eval['equal_yn'].sum()/df_eval.shape[0])*100  \n",
    "            # print(acc)\n",
    "            # print(df_eval)\n",
    "            df = pd.concat([df, df_eval], axis =0)\n",
    "            \n",
    "        df['equal_yn'] = np.where(df['gold']==df['o_result'], 1, 0)\n",
    "        acc = (df['equal_yn'].sum()/df.shape[0])*100            \n",
    "        print(f'{llm_model}_result_{few_shot_n}_{test_n}_{q_src_yn} : ', acc)\n"
   ]
  },
  {
   "cell_type": "code",
   "execution_count": null,
   "metadata": {},
   "outputs": [],
   "source": []
  },
  {
   "cell_type": "code",
   "execution_count": null,
   "metadata": {},
   "outputs": [],
   "source": [
    "sc_calc_acc_condition_with_temp_with_sc('l', 4, 15, 'Y', 30, 'sys_prompt8', 5,  0.01, 'ver1')"
   ]
  },
  {
   "cell_type": "code",
   "execution_count": null,
   "metadata": {},
   "outputs": [],
   "source": [
    "sc_calc_acc_condition_with_temp_with_sc('l', 4, 30, 'Y', 100, 'sys_prompt8', 5,  0.01, 'ver2')"
   ]
  },
  {
   "cell_type": "code",
   "execution_count": null,
   "metadata": {},
   "outputs": [],
   "source": [
    "sc_calc_acc_condition_with_temp('c', 3, 10, 'Y','sys_prompt8', 0.01)"
   ]
  },
  {
   "cell_type": "code",
   "execution_count": null,
   "metadata": {},
   "outputs": [],
   "source": [
    "sc_calc_acc_condition_with_temp('l', 2, 10, 'Y','sys_prompt4', 0.2)"
   ]
  },
  {
   "cell_type": "code",
   "execution_count": null,
   "metadata": {},
   "outputs": [],
   "source": [
    "sc_calc_acc_condition_with_temp('l', 2, 10, 'Y','sys_prompt8', 0.1)"
   ]
  },
  {
   "cell_type": "code",
   "execution_count": null,
   "metadata": {},
   "outputs": [],
   "source": [
    "sc_calc_acc_condition_with_temp('l', 3, 15, 'Y','sys_prompt8', 0.01)"
   ]
  },
  {
   "cell_type": "code",
   "execution_count": null,
   "metadata": {},
   "outputs": [],
   "source": [
    "sc_calc_acc_condition_with_temp('l', 3, 10, 'Y','sys_prompt8', 0.01)"
   ]
  },
  {
   "cell_type": "code",
   "execution_count": null,
   "metadata": {},
   "outputs": [],
   "source": [
    "sc_calc_acc_condition_with_temp('l', 4, 10, 'Y','sys_prompt8', 0.01)"
   ]
  },
  {
   "cell_type": "code",
   "execution_count": null,
   "metadata": {},
   "outputs": [],
   "source": [
    "sc_calc_acc_condition_with_temp('l', 4, 15, 'Y','sys_prompt8', 0.01)"
   ]
  },
  {
   "cell_type": "code",
   "execution_count": null,
   "metadata": {},
   "outputs": [],
   "source": [
    "sc_calc_acc_condition_with_temp('l', 5, 10, 'Y','sys_prompt8', 0.01)"
   ]
  },
  {
   "cell_type": "code",
   "execution_count": null,
   "metadata": {},
   "outputs": [],
   "source": [
    "tmp = pd.DataFrame()\n",
    "df_eval = pd.DataFrame()\n"
   ]
  },
  {
   "cell_type": "code",
   "execution_count": null,
   "metadata": {},
   "outputs": [],
   "source": [
    "def concat_all(llm_model, few_shot_n, test_n, q_src_yn, p_ver, temp):\n",
    "    path = './result_241201'\n",
    "    file_list = os.listdir(path)\n",
    "    opt_file = [x for x in file_list if x.startswith(f'sc_{llm_model}_result_{few_shot_n}_{test_n}_{q_src_yn}')]\n",
    "    opt_file = [x for x in opt_file if x.endswith(f'_{p_ver}_{temp}.csv')]\n",
    "    df = pd.DataFrame()\n",
    "    \n",
    "    if len(opt_file)>0 : \n",
    "        for f in opt_file:\n",
    "            print(f)\n",
    "            tmp = pd.read_csv(f'{path}/{f}', index_col =0)\n",
    "            tmp = tmp.dropna()\n",
    "            df = pd.concat([df, tmp], axis =0)\n",
    "            \n",
    "        df.to_csv('youcandoit.csv')\n"
   ]
  },
  {
   "cell_type": "code",
   "execution_count": null,
   "metadata": {},
   "outputs": [],
   "source": [
    "# concat_all('l', 2, 10, 'Y','sys_prompt8', 0.1)\n",
    "concat_all('l', 4, 15, 'Y','sys_prompt8', 0.01)\n",
    "concat_all('c', 3, 10, 'Y','sys_prompt8', 0.01)"
   ]
  },
  {
   "cell_type": "code",
   "execution_count": null,
   "metadata": {},
   "outputs": [],
   "source": [
    "tmp = pd.DataFrame()\n",
    "df_eval = pd.DataFrame()\n",
    "\n",
    "def calc_acc_condition(llm_model, few_shot_n, test_n, q_src_yn, p_ver):\n",
    "    path = './result'\n",
    "    file_list = os.listdir(path)\n",
    "    opt_file = [x for x in file_list if x.startswith(f'{llm_model}_result_{few_shot_n}_{test_n}_{q_src_yn}')]\n",
    "    opt_file = [x for x in opt_file if x.endswith(f'_{p_ver}.csv')]\n",
    "\n",
    "    df = pd.DataFrame()\n",
    "    if len(opt_file)>0 : \n",
    "        for f in opt_file:\n",
    "            print(f)\n",
    "            tmp = pd.read_csv(f'{path}/{f}', index_col =0)\n",
    "            tmp = tmp.dropna()\n",
    "            tmp['gold'] = tmp['answer_encode'].apply(lambda x : re.sub(r'[^012]', '', x))\n",
    "            tmp['o_result'] = tmp['result'].apply(lambda x : re.sub(r'[^012]', '', x))\n",
    "            \n",
    "            gold_df = tmp[['id', 'gold']].drop_duplicates()\n",
    "            chk_cnt = tmp.groupby(['id', 'o_result']).count().reset_index()[['id', 'o_result', 'question']]\n",
    "            chk_cnt = chk_cnt.rename(columns = {'question': 'cnt'})\n",
    "            chk_cnt = chk_cnt.sort_values(by = ['id', 'cnt'], ascending=[True, False]).groupby(['id']).head(1)\n",
    "            df_eval = pd.merge(gold_df, chk_cnt, on = ['id'])\n",
    "\n",
    "            df_eval['equal_yn'] = np.where(df_eval['gold']==df_eval['o_result'], 1, 0)\n",
    "            acc = (df_eval['equal_yn'].sum()/df_eval.shape[0])*100  \n",
    "            # print(acc)\n",
    "            # print(df_eval)\n",
    "            df = pd.concat([df, df_eval], axis =0)\n",
    "            \n",
    "        df['equal_yn'] = np.where(df['gold']==df['o_result'], 1, 0)\n",
    "        acc = (df['equal_yn'].sum()/df.shape[0])*100            \n",
    "        print(f'{llm_model}_result_{few_shot_n}_{test_n}_{q_src_yn} : ', acc)\n"
   ]
  },
  {
   "cell_type": "code",
   "execution_count": null,
   "metadata": {},
   "outputs": [],
   "source": [
    "calc_acc_condition('c', 3, 10, 'Y','sys_prompt8')\n",
    "# sc_calc_acc_condition_with_temp('c', 3, 10, 'Y','sys_prompt8', 0.01)"
   ]
  },
  {
   "cell_type": "code",
   "execution_count": null,
   "metadata": {},
   "outputs": [],
   "source": [
    "tmp = pd.read_csv('./result_241201/sc_l_result_4_15_Y_0_sys_prompt8_0.01.csv')"
   ]
  },
  {
   "cell_type": "code",
   "execution_count": null,
   "metadata": {},
   "outputs": [],
   "source": [
    "tmp.head(20)"
   ]
  },
  {
   "cell_type": "code",
   "execution_count": null,
   "metadata": {},
   "outputs": [],
   "source": []
  }
 ],
 "metadata": {
  "kernelspec": {
   "display_name": "venv_stackoverflow_src",
   "language": "python",
   "name": "python3"
  },
  "language_info": {
   "codemirror_mode": {
    "name": "ipython",
    "version": 3
   },
   "file_extension": ".py",
   "mimetype": "text/x-python",
   "name": "python",
   "nbconvert_exporter": "python",
   "pygments_lexer": "ipython3",
   "version": "3.10.12"
  }
 },
 "nbformat": 4,
 "nbformat_minor": 2
}
