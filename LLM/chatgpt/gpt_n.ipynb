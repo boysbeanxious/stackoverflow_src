{
 "cells": [
  {
   "cell_type": "code",
   "execution_count": 6,
   "metadata": {},
   "outputs": [],
   "source": [
    "# https://github.com/openai/openai-cookbook/blob/main/examples/How_to_format_inputs_to_ChatGPT_models.ipynb\n",
    "# https://stackoverflow.com/questions/77285102/how-to-format-a-few-shot-prompt-for-gpt4-chat-completion-api"
   ]
  },
  {
   "cell_type": "code",
   "execution_count": 7,
   "metadata": {},
   "outputs": [],
   "source": [
    "# pip install --upgrade openai"
   ]
  },
  {
   "cell_type": "code",
   "execution_count": 8,
   "metadata": {},
   "outputs": [],
   "source": [
    "import sys, os\n",
    "p = os.path.abspath('../..')\n",
    "# p = p+r'\\config'\n",
    "sys.path.insert(1, p)\n"
   ]
  },
  {
   "cell_type": "code",
   "execution_count": 9,
   "metadata": {},
   "outputs": [],
   "source": [
    "import warnings\n",
    "\n",
    "\n",
    "import pandas as pd\n",
    "import numpy as np\n",
    "from tqdm import tqdm\n",
    "import time\n",
    "import config.config as conf\n",
    "\n",
    "import json\n",
    "from itertools import chain\n",
    "warnings.filterwarnings(\"ignore\", category=DeprecationWarning)\n",
    "# https://wikidocs.net/233348"
   ]
  },
  {
   "cell_type": "code",
   "execution_count": 10,
   "metadata": {},
   "outputs": [],
   "source": [
    "# import the OpenAI Python library for calling the OpenAI API\n",
    "from openai import OpenAI\n",
    "import os\n",
    "\n",
    "client = OpenAI(api_key= conf.OEPN_AI_KEY)"
   ]
  },
  {
   "cell_type": "code",
   "execution_count": 11,
   "metadata": {},
   "outputs": [],
   "source": [
    "# # Example OpenAI Python library request\n",
    "# MODEL = \"gpt-4o-2024-08-06\"\n",
    "# response = client.chat.completions.create(\n",
    "#     model=MODEL,\n",
    "#     messages=[\n",
    "#         {\"role\": \"system\", \"content\": \"You are a helpful assistant.\"},\n",
    "#         {\"role\": \"user\", \"content\": \"Explain asynchronous programming in the style of the pirate Blackbeard.\"},\n",
    "#     ],\n",
    "#     temperature=0,\n",
    "# )"
   ]
  },
  {
   "cell_type": "code",
   "execution_count": null,
   "metadata": {},
   "outputs": [
    {
     "ename": "NameError",
     "evalue": "name 'response' is not defined",
     "output_type": "error",
     "traceback": [
      "\u001b[0;31m---------------------------------------------------------------------------\u001b[0m",
      "\u001b[0;31mNameError\u001b[0m                                 Traceback (most recent call last)",
      "Cell \u001b[0;32mIn[12], line 1\u001b[0m\n\u001b[0;32m----> 1\u001b[0m \u001b[38;5;28mprint\u001b[39m(json\u001b[38;5;241m.\u001b[39mdumps(json\u001b[38;5;241m.\u001b[39mloads(\u001b[43mresponse\u001b[49m\u001b[38;5;241m.\u001b[39mmodel_dump_json()), indent\u001b[38;5;241m=\u001b[39m\u001b[38;5;241m4\u001b[39m))\n",
      "\u001b[0;31mNameError\u001b[0m: name 'response' is not defined"
     ]
    }
   ],
   "source": [
    "# print(json.dumps(json.loads(response.model_dump_json()), indent=4))"
   ]
  },
  {
   "cell_type": "code",
   "execution_count": null,
   "metadata": {},
   "outputs": [
    {
     "ename": "FileNotFoundError",
     "evalue": "[Errno 2] No such file or directory: '../../data/part_one_q_output_code_y.csv'",
     "output_type": "error",
     "traceback": [
      "\u001b[0;31m---------------------------------------------------------------------------\u001b[0m",
      "\u001b[0;31mFileNotFoundError\u001b[0m                         Traceback (most recent call last)",
      "Cell \u001b[0;32mIn[13], line 1\u001b[0m\n\u001b[0;32m----> 1\u001b[0m df \u001b[38;5;241m=\u001b[39m \u001b[43mpd\u001b[49m\u001b[38;5;241;43m.\u001b[39;49m\u001b[43mread_csv\u001b[49m\u001b[43m(\u001b[49m\u001b[38;5;124;43m'\u001b[39;49m\u001b[38;5;124;43m../../data/part_one_q_output_code_y.csv\u001b[39;49m\u001b[38;5;124;43m'\u001b[39;49m\u001b[43m,\u001b[49m\u001b[43m \u001b[49m\u001b[43mindex_col\u001b[49m\u001b[43m \u001b[49m\u001b[38;5;241;43m=\u001b[39;49m\u001b[43m \u001b[49m\u001b[38;5;241;43m0\u001b[39;49m\u001b[43m)\u001b[49m\n",
      "File \u001b[0;32m~/sopjt/git/stackoverflow_src/venv_stackoverflow_src/lib/python3.10/site-packages/pandas/io/parsers/readers.py:1026\u001b[0m, in \u001b[0;36mread_csv\u001b[0;34m(filepath_or_buffer, sep, delimiter, header, names, index_col, usecols, dtype, engine, converters, true_values, false_values, skipinitialspace, skiprows, skipfooter, nrows, na_values, keep_default_na, na_filter, verbose, skip_blank_lines, parse_dates, infer_datetime_format, keep_date_col, date_parser, date_format, dayfirst, cache_dates, iterator, chunksize, compression, thousands, decimal, lineterminator, quotechar, quoting, doublequote, escapechar, comment, encoding, encoding_errors, dialect, on_bad_lines, delim_whitespace, low_memory, memory_map, float_precision, storage_options, dtype_backend)\u001b[0m\n\u001b[1;32m   1013\u001b[0m kwds_defaults \u001b[38;5;241m=\u001b[39m _refine_defaults_read(\n\u001b[1;32m   1014\u001b[0m     dialect,\n\u001b[1;32m   1015\u001b[0m     delimiter,\n\u001b[0;32m   (...)\u001b[0m\n\u001b[1;32m   1022\u001b[0m     dtype_backend\u001b[38;5;241m=\u001b[39mdtype_backend,\n\u001b[1;32m   1023\u001b[0m )\n\u001b[1;32m   1024\u001b[0m kwds\u001b[38;5;241m.\u001b[39mupdate(kwds_defaults)\n\u001b[0;32m-> 1026\u001b[0m \u001b[38;5;28;01mreturn\u001b[39;00m \u001b[43m_read\u001b[49m\u001b[43m(\u001b[49m\u001b[43mfilepath_or_buffer\u001b[49m\u001b[43m,\u001b[49m\u001b[43m \u001b[49m\u001b[43mkwds\u001b[49m\u001b[43m)\u001b[49m\n",
      "File \u001b[0;32m~/sopjt/git/stackoverflow_src/venv_stackoverflow_src/lib/python3.10/site-packages/pandas/io/parsers/readers.py:620\u001b[0m, in \u001b[0;36m_read\u001b[0;34m(filepath_or_buffer, kwds)\u001b[0m\n\u001b[1;32m    617\u001b[0m _validate_names(kwds\u001b[38;5;241m.\u001b[39mget(\u001b[38;5;124m\"\u001b[39m\u001b[38;5;124mnames\u001b[39m\u001b[38;5;124m\"\u001b[39m, \u001b[38;5;28;01mNone\u001b[39;00m))\n\u001b[1;32m    619\u001b[0m \u001b[38;5;66;03m# Create the parser.\u001b[39;00m\n\u001b[0;32m--> 620\u001b[0m parser \u001b[38;5;241m=\u001b[39m \u001b[43mTextFileReader\u001b[49m\u001b[43m(\u001b[49m\u001b[43mfilepath_or_buffer\u001b[49m\u001b[43m,\u001b[49m\u001b[43m \u001b[49m\u001b[38;5;241;43m*\u001b[39;49m\u001b[38;5;241;43m*\u001b[39;49m\u001b[43mkwds\u001b[49m\u001b[43m)\u001b[49m\n\u001b[1;32m    622\u001b[0m \u001b[38;5;28;01mif\u001b[39;00m chunksize \u001b[38;5;129;01mor\u001b[39;00m iterator:\n\u001b[1;32m    623\u001b[0m     \u001b[38;5;28;01mreturn\u001b[39;00m parser\n",
      "File \u001b[0;32m~/sopjt/git/stackoverflow_src/venv_stackoverflow_src/lib/python3.10/site-packages/pandas/io/parsers/readers.py:1620\u001b[0m, in \u001b[0;36mTextFileReader.__init__\u001b[0;34m(self, f, engine, **kwds)\u001b[0m\n\u001b[1;32m   1617\u001b[0m     \u001b[38;5;28mself\u001b[39m\u001b[38;5;241m.\u001b[39moptions[\u001b[38;5;124m\"\u001b[39m\u001b[38;5;124mhas_index_names\u001b[39m\u001b[38;5;124m\"\u001b[39m] \u001b[38;5;241m=\u001b[39m kwds[\u001b[38;5;124m\"\u001b[39m\u001b[38;5;124mhas_index_names\u001b[39m\u001b[38;5;124m\"\u001b[39m]\n\u001b[1;32m   1619\u001b[0m \u001b[38;5;28mself\u001b[39m\u001b[38;5;241m.\u001b[39mhandles: IOHandles \u001b[38;5;241m|\u001b[39m \u001b[38;5;28;01mNone\u001b[39;00m \u001b[38;5;241m=\u001b[39m \u001b[38;5;28;01mNone\u001b[39;00m\n\u001b[0;32m-> 1620\u001b[0m \u001b[38;5;28mself\u001b[39m\u001b[38;5;241m.\u001b[39m_engine \u001b[38;5;241m=\u001b[39m \u001b[38;5;28;43mself\u001b[39;49m\u001b[38;5;241;43m.\u001b[39;49m\u001b[43m_make_engine\u001b[49m\u001b[43m(\u001b[49m\u001b[43mf\u001b[49m\u001b[43m,\u001b[49m\u001b[43m \u001b[49m\u001b[38;5;28;43mself\u001b[39;49m\u001b[38;5;241;43m.\u001b[39;49m\u001b[43mengine\u001b[49m\u001b[43m)\u001b[49m\n",
      "File \u001b[0;32m~/sopjt/git/stackoverflow_src/venv_stackoverflow_src/lib/python3.10/site-packages/pandas/io/parsers/readers.py:1880\u001b[0m, in \u001b[0;36mTextFileReader._make_engine\u001b[0;34m(self, f, engine)\u001b[0m\n\u001b[1;32m   1878\u001b[0m     \u001b[38;5;28;01mif\u001b[39;00m \u001b[38;5;124m\"\u001b[39m\u001b[38;5;124mb\u001b[39m\u001b[38;5;124m\"\u001b[39m \u001b[38;5;129;01mnot\u001b[39;00m \u001b[38;5;129;01min\u001b[39;00m mode:\n\u001b[1;32m   1879\u001b[0m         mode \u001b[38;5;241m+\u001b[39m\u001b[38;5;241m=\u001b[39m \u001b[38;5;124m\"\u001b[39m\u001b[38;5;124mb\u001b[39m\u001b[38;5;124m\"\u001b[39m\n\u001b[0;32m-> 1880\u001b[0m \u001b[38;5;28mself\u001b[39m\u001b[38;5;241m.\u001b[39mhandles \u001b[38;5;241m=\u001b[39m \u001b[43mget_handle\u001b[49m\u001b[43m(\u001b[49m\n\u001b[1;32m   1881\u001b[0m \u001b[43m    \u001b[49m\u001b[43mf\u001b[49m\u001b[43m,\u001b[49m\n\u001b[1;32m   1882\u001b[0m \u001b[43m    \u001b[49m\u001b[43mmode\u001b[49m\u001b[43m,\u001b[49m\n\u001b[1;32m   1883\u001b[0m \u001b[43m    \u001b[49m\u001b[43mencoding\u001b[49m\u001b[38;5;241;43m=\u001b[39;49m\u001b[38;5;28;43mself\u001b[39;49m\u001b[38;5;241;43m.\u001b[39;49m\u001b[43moptions\u001b[49m\u001b[38;5;241;43m.\u001b[39;49m\u001b[43mget\u001b[49m\u001b[43m(\u001b[49m\u001b[38;5;124;43m\"\u001b[39;49m\u001b[38;5;124;43mencoding\u001b[39;49m\u001b[38;5;124;43m\"\u001b[39;49m\u001b[43m,\u001b[49m\u001b[43m \u001b[49m\u001b[38;5;28;43;01mNone\u001b[39;49;00m\u001b[43m)\u001b[49m\u001b[43m,\u001b[49m\n\u001b[1;32m   1884\u001b[0m \u001b[43m    \u001b[49m\u001b[43mcompression\u001b[49m\u001b[38;5;241;43m=\u001b[39;49m\u001b[38;5;28;43mself\u001b[39;49m\u001b[38;5;241;43m.\u001b[39;49m\u001b[43moptions\u001b[49m\u001b[38;5;241;43m.\u001b[39;49m\u001b[43mget\u001b[49m\u001b[43m(\u001b[49m\u001b[38;5;124;43m\"\u001b[39;49m\u001b[38;5;124;43mcompression\u001b[39;49m\u001b[38;5;124;43m\"\u001b[39;49m\u001b[43m,\u001b[49m\u001b[43m \u001b[49m\u001b[38;5;28;43;01mNone\u001b[39;49;00m\u001b[43m)\u001b[49m\u001b[43m,\u001b[49m\n\u001b[1;32m   1885\u001b[0m \u001b[43m    \u001b[49m\u001b[43mmemory_map\u001b[49m\u001b[38;5;241;43m=\u001b[39;49m\u001b[38;5;28;43mself\u001b[39;49m\u001b[38;5;241;43m.\u001b[39;49m\u001b[43moptions\u001b[49m\u001b[38;5;241;43m.\u001b[39;49m\u001b[43mget\u001b[49m\u001b[43m(\u001b[49m\u001b[38;5;124;43m\"\u001b[39;49m\u001b[38;5;124;43mmemory_map\u001b[39;49m\u001b[38;5;124;43m\"\u001b[39;49m\u001b[43m,\u001b[49m\u001b[43m \u001b[49m\u001b[38;5;28;43;01mFalse\u001b[39;49;00m\u001b[43m)\u001b[49m\u001b[43m,\u001b[49m\n\u001b[1;32m   1886\u001b[0m \u001b[43m    \u001b[49m\u001b[43mis_text\u001b[49m\u001b[38;5;241;43m=\u001b[39;49m\u001b[43mis_text\u001b[49m\u001b[43m,\u001b[49m\n\u001b[1;32m   1887\u001b[0m \u001b[43m    \u001b[49m\u001b[43merrors\u001b[49m\u001b[38;5;241;43m=\u001b[39;49m\u001b[38;5;28;43mself\u001b[39;49m\u001b[38;5;241;43m.\u001b[39;49m\u001b[43moptions\u001b[49m\u001b[38;5;241;43m.\u001b[39;49m\u001b[43mget\u001b[49m\u001b[43m(\u001b[49m\u001b[38;5;124;43m\"\u001b[39;49m\u001b[38;5;124;43mencoding_errors\u001b[39;49m\u001b[38;5;124;43m\"\u001b[39;49m\u001b[43m,\u001b[49m\u001b[43m \u001b[49m\u001b[38;5;124;43m\"\u001b[39;49m\u001b[38;5;124;43mstrict\u001b[39;49m\u001b[38;5;124;43m\"\u001b[39;49m\u001b[43m)\u001b[49m\u001b[43m,\u001b[49m\n\u001b[1;32m   1888\u001b[0m \u001b[43m    \u001b[49m\u001b[43mstorage_options\u001b[49m\u001b[38;5;241;43m=\u001b[39;49m\u001b[38;5;28;43mself\u001b[39;49m\u001b[38;5;241;43m.\u001b[39;49m\u001b[43moptions\u001b[49m\u001b[38;5;241;43m.\u001b[39;49m\u001b[43mget\u001b[49m\u001b[43m(\u001b[49m\u001b[38;5;124;43m\"\u001b[39;49m\u001b[38;5;124;43mstorage_options\u001b[39;49m\u001b[38;5;124;43m\"\u001b[39;49m\u001b[43m,\u001b[49m\u001b[43m \u001b[49m\u001b[38;5;28;43;01mNone\u001b[39;49;00m\u001b[43m)\u001b[49m\u001b[43m,\u001b[49m\n\u001b[1;32m   1889\u001b[0m \u001b[43m\u001b[49m\u001b[43m)\u001b[49m\n\u001b[1;32m   1890\u001b[0m \u001b[38;5;28;01massert\u001b[39;00m \u001b[38;5;28mself\u001b[39m\u001b[38;5;241m.\u001b[39mhandles \u001b[38;5;129;01mis\u001b[39;00m \u001b[38;5;129;01mnot\u001b[39;00m \u001b[38;5;28;01mNone\u001b[39;00m\n\u001b[1;32m   1891\u001b[0m f \u001b[38;5;241m=\u001b[39m \u001b[38;5;28mself\u001b[39m\u001b[38;5;241m.\u001b[39mhandles\u001b[38;5;241m.\u001b[39mhandle\n",
      "File \u001b[0;32m~/sopjt/git/stackoverflow_src/venv_stackoverflow_src/lib/python3.10/site-packages/pandas/io/common.py:873\u001b[0m, in \u001b[0;36mget_handle\u001b[0;34m(path_or_buf, mode, encoding, compression, memory_map, is_text, errors, storage_options)\u001b[0m\n\u001b[1;32m    868\u001b[0m \u001b[38;5;28;01melif\u001b[39;00m \u001b[38;5;28misinstance\u001b[39m(handle, \u001b[38;5;28mstr\u001b[39m):\n\u001b[1;32m    869\u001b[0m     \u001b[38;5;66;03m# Check whether the filename is to be opened in binary mode.\u001b[39;00m\n\u001b[1;32m    870\u001b[0m     \u001b[38;5;66;03m# Binary mode does not support 'encoding' and 'newline'.\u001b[39;00m\n\u001b[1;32m    871\u001b[0m     \u001b[38;5;28;01mif\u001b[39;00m ioargs\u001b[38;5;241m.\u001b[39mencoding \u001b[38;5;129;01mand\u001b[39;00m \u001b[38;5;124m\"\u001b[39m\u001b[38;5;124mb\u001b[39m\u001b[38;5;124m\"\u001b[39m \u001b[38;5;129;01mnot\u001b[39;00m \u001b[38;5;129;01min\u001b[39;00m ioargs\u001b[38;5;241m.\u001b[39mmode:\n\u001b[1;32m    872\u001b[0m         \u001b[38;5;66;03m# Encoding\u001b[39;00m\n\u001b[0;32m--> 873\u001b[0m         handle \u001b[38;5;241m=\u001b[39m \u001b[38;5;28;43mopen\u001b[39;49m\u001b[43m(\u001b[49m\n\u001b[1;32m    874\u001b[0m \u001b[43m            \u001b[49m\u001b[43mhandle\u001b[49m\u001b[43m,\u001b[49m\n\u001b[1;32m    875\u001b[0m \u001b[43m            \u001b[49m\u001b[43mioargs\u001b[49m\u001b[38;5;241;43m.\u001b[39;49m\u001b[43mmode\u001b[49m\u001b[43m,\u001b[49m\n\u001b[1;32m    876\u001b[0m \u001b[43m            \u001b[49m\u001b[43mencoding\u001b[49m\u001b[38;5;241;43m=\u001b[39;49m\u001b[43mioargs\u001b[49m\u001b[38;5;241;43m.\u001b[39;49m\u001b[43mencoding\u001b[49m\u001b[43m,\u001b[49m\n\u001b[1;32m    877\u001b[0m \u001b[43m            \u001b[49m\u001b[43merrors\u001b[49m\u001b[38;5;241;43m=\u001b[39;49m\u001b[43merrors\u001b[49m\u001b[43m,\u001b[49m\n\u001b[1;32m    878\u001b[0m \u001b[43m            \u001b[49m\u001b[43mnewline\u001b[49m\u001b[38;5;241;43m=\u001b[39;49m\u001b[38;5;124;43m\"\u001b[39;49m\u001b[38;5;124;43m\"\u001b[39;49m\u001b[43m,\u001b[49m\n\u001b[1;32m    879\u001b[0m \u001b[43m        \u001b[49m\u001b[43m)\u001b[49m\n\u001b[1;32m    880\u001b[0m     \u001b[38;5;28;01melse\u001b[39;00m:\n\u001b[1;32m    881\u001b[0m         \u001b[38;5;66;03m# Binary mode\u001b[39;00m\n\u001b[1;32m    882\u001b[0m         handle \u001b[38;5;241m=\u001b[39m \u001b[38;5;28mopen\u001b[39m(handle, ioargs\u001b[38;5;241m.\u001b[39mmode)\n",
      "\u001b[0;31mFileNotFoundError\u001b[0m: [Errno 2] No such file or directory: '../../data/part_one_q_output_code_y.csv'"
     ]
    }
   ],
   "source": [
    "df = pd.read_csv('../../../data/part_one_q_output_code_y.csv', index_col = 0)"
   ]
  },
  {
   "cell_type": "code",
   "execution_count": 14,
   "metadata": {},
   "outputs": [
    {
     "ename": "NameError",
     "evalue": "name 'df' is not defined",
     "output_type": "error",
     "traceback": [
      "\u001b[0;31m---------------------------------------------------------------------------\u001b[0m",
      "\u001b[0;31mNameError\u001b[0m                                 Traceback (most recent call last)",
      "Cell \u001b[0;32mIn[14], line 1\u001b[0m\n\u001b[0;32m----> 1\u001b[0m \u001b[43mdf\u001b[49m[\u001b[38;5;124m'\u001b[39m\u001b[38;5;124mquestion\u001b[39m\u001b[38;5;124m'\u001b[39m][\u001b[38;5;241m0\u001b[39m]\n",
      "\u001b[0;31mNameError\u001b[0m: name 'df' is not defined"
     ]
    }
   ],
   "source": [
    "df['question'][0]"
   ]
  },
  {
   "cell_type": "code",
   "execution_count": 15,
   "metadata": {},
   "outputs": [],
   "source": [
    "# sys_promt=\"\"\"\\nYou are an expert in analyzing and categorizing the \"Difficulty Level\" of Python-related programming questions based on examples below. \n",
    "# Questions are sourced from the \"StackOverflow\" community using the keyword \"Python.\"\\n\"\"\""
   ]
  },
  {
   "cell_type": "code",
   "execution_count": null,
   "metadata": {},
   "outputs": [],
   "source": [
    "# user_prompt_front = \"\"\"\\nFor the given (target) post that is marked by\n",
    "#     <target_post> </target_post>, please let me know the\n",
    "#     \"Difficulty Level\" of the target post, where the\n",
    "#     \"Difficulty Level\" can be one of the followings: (0) Basic, (1)\n",
    "#     Intermediate, and (2) Advanced\\n\"\"\""
   ]
  },
  {
   "cell_type": "code",
   "execution_count": null,
   "metadata": {},
   "outputs": [],
   "source": [
    "# user_prompt_back = \"\"\"\\nplease output only the \"Difficulty Level\" of the target post, where it can only be one of, (0) Basic, (1)\n",
    "#     Intermediate, and (2) Advanced, \n",
    "#     and mark '0' if it is basic, '1' if is is intermediate, and '2' if it is advanced question. \n",
    "#     Please refer to the samples below that may be helpful to measure the baseline of the difficulty labels, where each\n",
    "#     of the sample is delimited by \"----\"\\n\n",
    "#     \"\"\""
   ]
  },
  {
   "cell_type": "code",
   "execution_count": null,
   "metadata": {},
   "outputs": [],
   "source": [
    "diff_dict = {'Difficulty Level : Basic':0 ,\n",
    " 'Difficulty Level : Intermediate':1, \n",
    " 'Difficulty Level : Advanced':2}"
   ]
  },
  {
   "cell_type": "code",
   "execution_count": null,
   "metadata": {},
   "outputs": [],
   "source": [
    "df['answer_encode'] = df['answer'].apply(lambda x : diff_dict[x])"
   ]
  },
  {
   "cell_type": "code",
   "execution_count": null,
   "metadata": {},
   "outputs": [
    {
     "data": {
      "text/html": [
       "<div>\n",
       "<style scoped>\n",
       "    .dataframe tbody tr th:only-of-type {\n",
       "        vertical-align: middle;\n",
       "    }\n",
       "\n",
       "    .dataframe tbody tr th {\n",
       "        vertical-align: top;\n",
       "    }\n",
       "\n",
       "    .dataframe thead th {\n",
       "        text-align: right;\n",
       "    }\n",
       "</style>\n",
       "<table border=\"1\" class=\"dataframe\">\n",
       "  <thead>\n",
       "    <tr style=\"text-align: right;\">\n",
       "      <th></th>\n",
       "      <th>id</th>\n",
       "      <th>question</th>\n",
       "      <th>answer</th>\n",
       "      <th>answer_encode</th>\n",
       "    </tr>\n",
       "  </thead>\n",
       "  <tbody>\n",
       "    <tr>\n",
       "      <th>0</th>\n",
       "      <td>74693871</td>\n",
       "      <td>&lt;Title&gt;Why joblib is not recommended when savi...</td>\n",
       "      <td>Difficulty Level : Advanced</td>\n",
       "      <td>2</td>\n",
       "    </tr>\n",
       "    <tr>\n",
       "      <th>1</th>\n",
       "      <td>74700764</td>\n",
       "      <td>&lt;Title&gt;replace multiple strings in a list with...</td>\n",
       "      <td>Difficulty Level : Basic</td>\n",
       "      <td>0</td>\n",
       "    </tr>\n",
       "    <tr>\n",
       "      <th>2</th>\n",
       "      <td>74727945</td>\n",
       "      <td>&lt;Title&gt;pandas unit test AssertionError: DataFr...</td>\n",
       "      <td>Difficulty Level : Intermediate</td>\n",
       "      <td>1</td>\n",
       "    </tr>\n",
       "    <tr>\n",
       "      <th>3</th>\n",
       "      <td>74751254</td>\n",
       "      <td>&lt;Title&gt;Removing all duplicate images with diff...</td>\n",
       "      <td>Difficulty Level : Intermediate</td>\n",
       "      <td>1</td>\n",
       "    </tr>\n",
       "    <tr>\n",
       "      <th>4</th>\n",
       "      <td>74760874</td>\n",
       "      <td>&lt;Title&gt;How do I extract a binary pattern from ...</td>\n",
       "      <td>Difficulty Level : Intermediate</td>\n",
       "      <td>1</td>\n",
       "    </tr>\n",
       "  </tbody>\n",
       "</table>\n",
       "</div>"
      ],
      "text/plain": [
       "         id                                           question  \\\n",
       "0  74693871  <Title>Why joblib is not recommended when savi...   \n",
       "1  74700764  <Title>replace multiple strings in a list with...   \n",
       "2  74727945  <Title>pandas unit test AssertionError: DataFr...   \n",
       "3  74751254  <Title>Removing all duplicate images with diff...   \n",
       "4  74760874  <Title>How do I extract a binary pattern from ...   \n",
       "\n",
       "                            answer  answer_encode  \n",
       "0      Difficulty Level : Advanced              2  \n",
       "1         Difficulty Level : Basic              0  \n",
       "2  Difficulty Level : Intermediate              1  \n",
       "3  Difficulty Level : Intermediate              1  \n",
       "4  Difficulty Level : Intermediate              1  "
      ]
     },
     "execution_count": 205,
     "metadata": {},
     "output_type": "execute_result"
    }
   ],
   "source": [
    "df.head()"
   ]
  },
  {
   "cell_type": "code",
   "execution_count": null,
   "metadata": {},
   "outputs": [],
   "source": [
    "diff_idx = {x : list(df[df['answer']==x].index) for x in list(diff_dict.keys())}"
   ]
  },
  {
   "cell_type": "code",
   "execution_count": null,
   "metadata": {},
   "outputs": [
    {
     "name": "stdout",
     "output_type": "stream",
     "text": [
      "Difficulty Level : Basic [1, 7, 11, 16, 17, 18, 21, 22, 29, 31, 32, 33, 39, 41, 43, 44, 54, 55, 56, 57, 60, 65, 67, 69, 70, 72, 73]\n",
      "Difficulty Level : Intermediate [2, 3, 4, 5, 6, 8, 9, 10, 12, 14, 19, 20, 23, 24, 25, 26, 27, 28, 30, 34, 35, 36, 38, 40, 42, 45, 46, 47, 48, 50, 51, 52, 53, 58, 59, 61, 63, 64, 68, 71]\n",
      "Difficulty Level : Advanced [0, 13, 15, 37, 49, 62, 66, 74, 75]\n"
     ]
    }
   ],
   "source": [
    "diff_s_idx = {}\n",
    "for key, value in diff_idx.items():\n",
    "    print(key, value)\n",
    "    dic_col = f'{key}_sample_idx'\n",
    "    diff_population = value\n",
    "    diff_s_idx[dic_col] = np.random.choice(diff_population, size=3, replace=False)"
   ]
  },
  {
   "cell_type": "code",
   "execution_count": null,
   "metadata": {},
   "outputs": [
    {
     "data": {
      "text/plain": [
       "{'Difficulty Level : Basic_sample_idx': array([16,  7, 31]),\n",
       " 'Difficulty Level : Intermediate_sample_idx': array([59, 50, 35]),\n",
       " 'Difficulty Level : Advanced_sample_idx': array([74,  0, 15])}"
      ]
     },
     "execution_count": 208,
     "metadata": {},
     "output_type": "execute_result"
    }
   ],
   "source": [
    "diff_s_idx"
   ]
  },
  {
   "cell_type": "code",
   "execution_count": null,
   "metadata": {},
   "outputs": [],
   "source": [
    "fewshot_q_id = list(chain.from_iterable(diff_s_idx.values()))\n"
   ]
  },
  {
   "cell_type": "code",
   "execution_count": null,
   "metadata": {},
   "outputs": [],
   "source": [
    "eval_q_id =np.setdiff1d(list(df.index), fewshot_q_id)"
   ]
  },
  {
   "cell_type": "code",
   "execution_count": null,
   "metadata": {},
   "outputs": [],
   "source": [
    "examples = []\n",
    "for idx in fewshot_q_id:\n",
    "# for idx in [19]:\n",
    "    temp_dict = {\"question\" : str(df.loc[idx, 'question']),\n",
    "                 \"answer\"   : str(df.loc[idx, 'answer_encode'])}\n",
    "    examples.append(temp_dict)"
   ]
  },
  {
   "cell_type": "code",
   "execution_count": null,
   "metadata": {},
   "outputs": [
    {
     "data": {
      "text/plain": [
       "[{'question': \"<Title>How to add array to python dict?</Title>. <Question>Im creating dict from database entries:\\n```result = []\\n\\nfor row in rows:\\n    d = dict()\\n    d['first'] = row[0]\\n    d['second'] = row[1]\\n\\nresult.append(json.dumps(d, indent=3, default=str))\\n\\n```\\nresult:\\n```{'first': 1, 'second': 2 }\\n```\\nand everything looks nice but I want to add array to this dict and it should looks like below:\\n```{'first': 1, 'second': 2, 'third': [{'somekey': row[2]}] }\\n```\\nand I dont know how to handle it\\n```result = []\\n\\nfor row in rows:\\n    d = dict()\\n    d['first'] = row[0]\\n    d['second'] = row[1]\\n    d['third'] = []\\n    d['third'][somekey] = row[2]\\n\\nresult.append(json.dumps(d, indent=3, default=str))\\n \\n```\\nbut it doesn't work\\n</Question>\",\n",
       "  'answer': '0'},\n",
       " {'question': '<Title>matplotlib pyplot display ticks and values which are in scientific form</Title>. <Question>I have a plot which looks like this:\\n\\nThe values displayed on the blue line are the cost ratio.\\nThe corresponding code looks like this:\\n```    fpr=[some values]\\n    tpr=[some values]\\n    CR = \\n    plt.plot(tpr,fpr)\\n    plt.plot(x,y)\\n    plt.plot(*intersection.xy, \\'ro\\')\\n    plt.xlabel(\\'False Positive Rate\\')\\n    plt.ylabel(\\'True Positive Rate\\')\\n    plt.legend([\"Cost Ratio\"])\\n    for x,y,z in zip(tpr,fpr,CR):\\n        label = \"{:.2f}\".format(z) \\n        plt.annotate(label, # this is the text\\n                     (x,y),annotation_clip=True, # these are the coordinates to position the label\\n                     textcoords=\"offset points\", # how to position the text\\n                     xytext=(0,10), # distance from text to points (x,y)\\n                     ha=\\'center\\') # horizontal alignment can be left, right or center\\n    \\n    \\n    plt.show()\\n```\\nThe cost ratio values are :\\n```[3.436400227231698e-11\\n6.872800454463395e-11\\n1.374560090892679e-10\\n2.749120181785358e-10\\n5.498240363570716e-10\\n1.0996480727141433e-09\\n2.1992961454282866e-09\\n4.398592290856573e-09\\n8.797184581713146e-09\\n1.7594369163426292e-08\\n37.7836200753334]\\n```\\nI want to display the following values:\\n```[3.4e-11\\n6.8e-11\\n1.3e-10\\n2.7e-10\\n5.4e-10\\n1.0e-09\\n2.1e-09\\n4.3e-09\\n8.7e-09\\n1.7e-08\\n37.7]\\n```\\n</Question>',\n",
       "  'answer': '0'},\n",
       " {'question': \"<Title>How to convert 'YYYY-mm-dd HH:MM:SS.[]' to number of minutes in the date?</Title>. <Question>I have a dataframe df with column date in format 'YYYY-mm-dd HH:MM:SS.miliseconds' (datetime64[ns]). I want to generate another column, minutes (float), as the number of minutes counted from time 00:00:00 to time HH:MM:SS. How can I do that?\\n</Question>\",\n",
       "  'answer': '0'},\n",
       " {'question': \"<Title>How to pcolormesh RGB array with cartopy?</Title>. <Question>I have asked similar question about plotting RGB array on normal axis. The idea is plotting one channel of RGB array and set the facecolor by the combination of RGB.\\nI wanna apply this method to axis with projection.\\n```import numpy as np\\nimport matplotlib.pyplot as plt\\nimport cartopy.crs as ccrs\\n\\nnp.random.seed(100)\\n\\nx = np.arange(10, 20)\\ny = np.arange(0, 10)\\nx, y = np.meshgrid(x, y)\\n\\nimg = np.random.randint(low=0, high=255, size=(10, 10, 3))\\n\\nax = plt.axes(projection=ccrs.PlateCarree())\\n\\nmesh = ax.pcolormesh(x, y, img[:, :,0], facecolors=img.reshape(-1, 3)/255)\\nmesh.set_array(None)\\nplt.show()\\n```\\nHowever, I got this error because of None type.\\n```---------------------------------------------------------------------------\\nAttributeError                            Traceback (most recent call last)\\nCell In[59], line 17\\n     14 ax = plt.axes(projection=ccrs.PlateCarree())\\n     16 mesh = ax.pcolormesh(x, y, img[:, :,0], facecolors=img.reshape(-1, 3)/255)\\n--->; 17 mesh.set_array(None)\\n     18 plt.show()\\n\\nFile ~/miniconda3/envs/enpt/lib/python3.10/site-packages/cartopy/mpl/geocollection.py:29, in GeoQuadMesh.set_array(self, A)\\n     27 def set_array(self, A):\\n     28     # raise right away if A is 2-dimensional.\\n--->; 29     if A.ndim >; 1:\\n     30         raise ValueError('Collections can only map rank 1 arrays. '\\n     31                          'You likely want to call with a flattened array '\\n     32                          'using collection.set_array(A.ravel()) instead.')\\n     34     # Only use the mask attribute if it is there.\\n\\nAttributeError: 'NoneType' object has no attribute 'ndim'\\n```\\n</Question>\",\n",
       "  'answer': '1'},\n",
       " {'question': '<Title>Unable to view output when using VS Code</Title>. <Question>Attempting to webscrape AHA for clinical guidelines. Upon running code, there seems to be no problems, but no output is shown in both the output and terminal windows. Terminal window simply returns the folder my file is saved in.\\nCode attached:\\n```import requests\\nfrom bs4 import BeautifulSoup\\nimport sys\\n\\ndef get_clinical_guidelines():\\n\"Returns a list of clinical guidelines from the American Heart Association website.\";\\n\\nurl = \"https://professional.heart.org/en/guidelines-and-statements\";\\nresponse = requests.get(url, timeout=5)\\nsoup = BeautifulSoup(response.content, \"html.parser\")\\n\\nguidelines = []\\nfor guideline in soup.find_all(\"div\", class_=\"row guideline-item\"):\\n  title = guideline.find(\"h4\").text\\n  link = guideline.find(\"a\")[\"href\"]\\n  guidelines.append({\"title\": title, \"link\": link})\\n\\nreturn guidelines\\n\\ndef main():\\nguidelines = get_clinical_guidelines()\\nfor guideline in guidelines:\\nprint(f\"Title: {guideline[\\'title\\']}\")\\nprint(f\"Link: https://professional.heart.org{guideline[\\'link\\']}\")\\n\\n if __name__ == \"__main__\":\\n main()\\n\\nget_clinical_guidelines()\\n```\\n</Question>',\n",
       "  'answer': '1'},\n",
       " {'question': '<Title>how to combine two python functions with the same arguments</Title>. <Question>I have two functions that do different things and I want to find out what the best practice is for having two functions with the same argumets so that I do not have to give both of the functions the arguments, aka remove redundancy.\\nThe case where I have this is the following:\\n```def isBroken(time : np.ndarray, tol:float = 3):\\n\\n    finiteDifference = np.diff(time)\\n    broken = np.any(finiteDifference >= tol)\\n    \\n    return broken\\n\\ndef brokenLocation(time : np.ndarray, tol:float  = 3):\\n    \\n    finiteDifference = np.diff(time)\\n    brokenWhere = np.argwhere(finiteDifference >= tol)\\n    brokenStack = np.hstack((brokenWhere,brokenWhere+1))\\n    \\n    return brokenStack\\n\\n```\\nThis code checks isBroken if there is a break in an array larger than a certain tolerance and then brokenLocation gives the location at which it is broken. This is then used in this code:\\n```Time = np.array([0,1,2,3,4,5,6,7,8,13,14,15,16,17,24,25,26,27])\\n\\nif isBroken(Time):\\n    \\n    brokenTuples = brokenLocation(Time)#Technically not tuples\\n\\n    #do something with Tuples\\n\\n\\n```\\nThis part is only added for clarity in what way these functions are supposed to be used.\\nWhat I want to know is the best practice to remove such a redundancy?\\nHopefully someone can help me here.\\n</Question>',\n",
       "  'answer': '1'},\n",
       " {'question': '<Title>wandb error when running as a subprocess: ManagerConnectionRefusedError: Connection to wandb service failed since the process is not available</Title>. <Question>I’m having a problem when I try to run a subprocess (with Popen) in my python script that executes a bash command (slurm sbatch) on a different computing node.\\nThe error happens during wandb.init():\\nwandb.sdk.wandb_manager.ManagerConnectionRefusedError: Connection to wandb service failed since the process is not available.\\nThe sbatch command starts a job on a different node and looks like this:\\np = Popen([shutil.which(\"sbatch\"), \\'--mem=40G\\', \\'--gres=gpu:titan_xp:1\\', \\'--nodelist=tikgpu02\\', \\'--cpus-per-task=2\\', \\'--output=/home/pschlaepfer/denselp/slt/log/%j.out\\', \\'--error=/home/pschlaepfer/denselp/slt/log/%j.err\\', \\'/home/pschlaepfer/denselp/slt/scripts/slt.sh\\', \\'--action=fine-tune-thf\\', \\'--max-length\\', \\'128\\', \\'--lr=4e-5\\', \\'--epochs=5\\', \\'--batch-size=16\\', \\'--task\\', task, \\'--pre-trained-path\\', checkpoint_path, \\'--wandb-mode=offline\\'], start_new_session=True)\\nwandb.init() is called like that:\\n```experiment_name = f\"job-id:{meta_config.job_id}\";\\nrun = wandb.init(\\n  project=wandb_project_choice+(\"-proto\"; if meta_config.is_debug_instance else \"\"),\\n  name=experiment_name,\\n  tags=[\\n    \"job_id:\"+str(meta_config.job_id)\\n  ],\\n  settings=wandb.Settings(start_method=\\'fork\\'),\\n  dir=wandb_logging_dir_path,\\n  config=dict(experiment_config._asdict()) if type(experiment_config).__name__ == \\'ExperimentConfig\\' else dict(experiment_config._as_dict()),\\n  reinit=True,\\n  mode=\"offline\",\\n)\\n```\\nAnd here\\'s the whole stacktrace:\\n```    Traceback (most recent call last):\\n    File “/itet-stor/pschlaepfer/net_scratch/conda_envs/denselp/lib/python3.10/site-packages/wandb/sdk/wandb_manager.py”, line 115, in _service_connect\\n    svc_iface._svc_connect(port=port)\\n    File “/itet-stor/pschlaepfer/net_scratch/conda_envs/denselp/lib/python3.10/site-packages/wandb/sdk/service/service_sock.py”, line 30, in _svc_connect\\n    self._sock_client.connect(port=port)\\n    File “/itet-stor/pschlaepfer/net_scratch/conda_envs/denselp/lib/python3.10/site-packages/wandb/sdk/lib/sock_client.py”, line 102, in connect\\n    s.connect((“localhost”, port))\\n    ConnectionRefusedError: [Errno 111] Connection refused\\n\\n    During handling of the above exception, another exception occurred:\\n    Traceback (most recent call last):\\n    File “/itet-stor/pschlaepfer/net_scratch/conda_envs/denselp/lib/python3.10/runpy.py”, line 196, in _run_module_as_main\\n    return _run_code(code, main_globals, None,\\n    File “/itet-stor/pschlaepfer/net_scratch/conda_envs/denselp/lib/python3.10/runpy.py”, line 86, in _run_code\\n    exec(code, run_globals)\\n    File “/home/pschlaepfer/denselp/slt/main.py”, line 107, in\\n    run = wandb.init(\\n    File “/itet-stor/pschlaepfer/net_scratch/conda_envs/denselp/lib/python3.10/site-packages/wandb/sdk/wandb_init.py”, line 1185, in init\\n    raise e\\n    File “/itet-stor/pschlaepfer/net_scratch/conda_envs/denselp/lib/python3.10/site-packages/wandb/sdk/wandb_init.py”, line 1162, in init\\n    wi.setup(kwargs)\\n    File “/itet-stor/pschlaepfer/net_scratch/conda_envs/denselp/lib/python3.10/site-packages/wandb/sdk/wandb_init.py”, line 189, in setup\\n    self._wl = wandb_setup.setup(settings=setup_settings)\\n    File “/itet-stor/pschlaepfer/net_scratch/conda_envs/denselp/lib/python3.10/site-packages/wandb/sdk/wandb_setup.py”, line 327, in setup\\n    ret = _setup(settings=settings)\\n    File “/itet-stor/pschlaepfer/net_scratch/conda_envs/denselp/lib/python3.10/site-packages/wandb/sdk/wandb_setup.py”, line 320, in _setup\\n    wl = _WandbSetup(settings=settings)\\n    File “/itet-stor/pschlaepfer/net_scratch/conda_envs/denselp/lib/python3.10/site-packages/wandb/sdk/wandb_setup.py”, line 303, in init\\n    _WandbSetup._instance = _WandbSetup__WandbSetup(settings=settings, pid=pid)\\n    File “/itet-stor/pschlaepfer/net_scratch/conda_envs/denselp/lib/python3.10/site-packages/wandb/sdk/wandb_setup.py”, line 114, in init\\n    self._setup()\\n    File “/itet-stor/pschlaepfer/net_scratch/conda_envs/denselp/lib/python3.10/site-packages/wandb/sdk/wandb_setup.py”, line 250, in _setup\\n    self._setup_manager()\\n    File “/itet-stor/pschlaepfer/net_scratch/conda_envs/denselp/lib/python3.10/site-packages/wandb/sdk/wandb_setup.py”, line 277, in _setup_manager\\n    self._manager = wandb_manager._Manager(settings=self._settings)\\n    File “/itet-stor/pschlaepfer/net_scratch/conda_envs/denselp/lib/python3.10/site-packages/wandb/sdk/wandb_manager.py”, line 152, in init\\n    wandb._sentry.reraise(e)\\n    File “/itet-stor/pschlaepfer/net_scratch/conda_envs/denselp/lib/python3.10/site-packages/wandb/analytics/sentry.py”, line 154, in reraise\\n    raise exc.with_traceback(sys.exc_info()[2])\\n    File “/itet-stor/pschlaepfer/net_scratch/conda_envs/denselp/lib/python3.10/site-packages/wandb/sdk/wandb_manager.py”, line 150, in init\\n    self._service_connect()\\n    File “/itet-stor/pschlaepfer/net_scratch/conda_envs/denselp/lib/python3.10/site-packages/wandb/sdk/wandb_manager.py”, line 124, in _service_connect\\n    raise ManagerConnectionRefusedError(message)\\n    wandb.sdk.wandb_manager.ManagerConnectionRefusedError: Connection to wandb service failed since the process is not available.\\n```\\nWandb version used is 0.16.0\\nThank you very much for your help!\\n</Question>',\n",
       "  'answer': '2'},\n",
       " {'question': '<Title>Why joblib is not recommended when saving keras model?</Title>. <Question>According to this keras documentation, pickle is not recommended to save keras mode, and since joblib.dump() and joblib.load() are based on the Python pickle serialization model, joblib is also not recommended to save keras model. What is the reason for that ?\\n</Question>',\n",
       "  'answer': '2'},\n",
       " {'question': '<Title>Python Asyncio/Await: Having Trouble understanding the effect of await within a loop</Title>. <Question>Code Block B is from an Asyncio/Aiohttp Tutorial Video I am trying to follow along\\nQuick Description:\\nThe async function (The \"coroutine\") loops through a list of ticker symbols making API call requests for each symbol.\\nCODE BLOCK B\\n```# GETTING MARKET DATA via API REQUESTS\\n\\n######  SETUP STUFF  ######\\napi_key =  os.getenv(\\'ALPHAVANTAGE_API_KEY\\')\\nurl = \\'https://www.alphavantage.co/query?function=OVERVIEW&symbol={}&apikey={}\\'\\n\\nsymbols = [\\'AAPL\\' , \\'GOOG\\', \\'TSLA\\', \\'MSFT\\', \\'AAPL\\' , \\'DWAC\\' , \\'VAXX\\' , \\'MRNA\\' , \\'JNJ\\']\\nresults = []\\n######  SETUP STUFF  ######\\n\\n\\n\\nasync def get_symbols_async():\\n    ##########################\\n    session = aiohttp.ClientSession()\\n    for symbol in symbols:\\n        print(\\'Working on:   {}\\'.format(symbol))\\n        CR = session.get(url.format(symbol, api_key), ssl=False)\\n        # CR:       Creates/Is a Coroutine function &; does nothing by itself.\\n        response = await CR\\n        # AWAIT:    Throws Coroutine in the EVENT LOOP, where they can then run/ be executed.\\n        #           ... where Coroutines can MAKE &; RETURN Calls.\\n    await session.close()\\n    ##########################\\n\\n\\nasyncio.run(get_symbols_async())\\n```\\nHe says: at the end of each iteration within the for loop, the main program/thread has to wait for the response.\\nThe await in Code block A didn\\'t hold up / pause the execution of the next print line.\\n#####################  QUESTION\\nWhat I\\'m seeing is a builtin threading.join() equivalent mechanism in play here. I just don\\'t know why or where it\\'s coming from since I don\\'t know the internal workings of the event loop.\\nI thought the keyword await placed coroutines into the event loop where they are then queued/scheduled to run/execute ie send out whatever I/O calls. At first I thought this was a misleading keyword since an await statement starts Coroutines, where the response quietly gets stored in its assigned variable (the variable: \"response\"; in this case) without interupting the main, unless the main requires the return value before it is ready. So where exactly is the hangup?\\nWhy is the main thread is being affected/stopped at the end of each for loop iteration (according to guy in video)?\\n#####################  QUESTION\\nCODE BLOCK A\\n```async def greet():\\n    ##########################\\n    print(\\'welcome\\')\\n    await asyncio.sleep(1)\\n    print(\\'Hello\\')\\n    ##########################\\n\\nasyncio.run(greet())\\n```\\nseems to pass the coroutine into the event loop without holding up the main.\\n</Question>',\n",
       "  'answer': '2'}]"
      ]
     },
     "execution_count": 212,
     "metadata": {},
     "output_type": "execute_result"
    }
   ],
   "source": [
    "examples"
   ]
  },
  {
   "cell_type": "code",
   "execution_count": null,
   "metadata": {},
   "outputs": [],
   "source": [
    "q_prompt = \"\"\"\"\"\"\n",
    "a=1\n",
    "for q_a in examples : \n",
    "    q_prompt = q_prompt+\"\"\"\\n----\\n\"\"\"\n",
    "    q_prompt = q_prompt+f\"Difficulty Level : {q_a['answer']}\\n\"\n",
    "    q_prompt = q_prompt+\"\"\"<post>\\n\"\"\"\n",
    "    q_prompt = q_prompt+f\"{q_a['question']}\\n\"\n",
    "    q_prompt = q_prompt+\"\"\"</post>\\n\"\"\"\n",
    "q_prompt = q_prompt+\"\"\"----\\n\"\"\""
   ]
  },
  {
   "cell_type": "code",
   "execution_count": null,
   "metadata": {},
   "outputs": [],
   "source": [
    "eval_q_idx= np.random.choice(eval_q_id, size=1, replace=False)"
   ]
  },
  {
   "cell_type": "code",
   "execution_count": null,
   "metadata": {},
   "outputs": [],
   "source": [
    "target_post=\"\"\"\\n\"\"\"\n",
    "target_post = target_post+\"\"\"<target_post>\\n\"\"\"\n",
    "target_post = target_post+df.loc[eval_q_idx, 'question'].values[0]+'\\n'\n",
    "target_post = target_post+\"\"\"</target_post>\\n\"\"\"\n"
   ]
  },
  {
   "cell_type": "code",
   "execution_count": null,
   "metadata": {},
   "outputs": [],
   "source": [
    "sys_promt = \"\"\"\n",
    "You are an expert in analyzing and categorizing the \"Difficulty Level\" of Python-related questions.\n",
    "please let me know the\n",
    "    \"Difficulty Level\" of the target post, where the\n",
    "    \"Difficulty Level\" can be one of the followings: (1)\n",
    "    Advanced, which is for a difficult one, (2) Intermediate,\n",
    "    which is for a somewhat difficult one, and (3) Basic,\n",
    "    which is an easy one.\n",
    "\n",
    "***Instructions***\n",
    "\n",
    "***1. Analyze the examples of questions***\n",
    "- refer to the samples below that may be helpful to measure the baseline of the \"Difficulty Level\", where each\n",
    "of the sample is delimited by \"----\"\n",
    "\n",
    "***2.Measure the \"Difficulty Level\" of target question***\n",
    "- For the given (target) post that is marked by <target_post> </target_post>\n",
    "- please let me know the \"Difficulty Level\" of the target post, where the \"Difficulty Level\" can be one of the followings : (1)\n",
    "    Advanced, which is for a difficult one, (2) Intermediate,\n",
    "    which is for a somewhat difficult one, and (3) Basic,\n",
    "    which is an easy one.\n",
    "\n",
    "***3.Print out the \"Difficulty Level\"***\n",
    "- no explanation is needed for \"Difficulty Level\"\n",
    "- Expected  output\n",
    "    if question == Easy or Basic or Bigginer level:\n",
    "        Difficulty Level: 0\n",
    "    elif question == intermediate level:\n",
    "        Difficulty Level: 1\n",
    "    elif question == advanced level:\n",
    "        Difficulty Level: 2\n",
    "        \n",
    "\"\"\""
   ]
  },
  {
   "cell_type": "code",
   "execution_count": null,
   "metadata": {},
   "outputs": [],
   "source": [
    "# tot_prompt = sys_promt+user_prompt_front+target_post+user_prompt_back+q_prompt\n",
    "\n",
    "tot_prompt = sys_promt+q_prompt+target_post"
   ]
  },
  {
   "cell_type": "markdown",
   "metadata": {},
   "source": []
  },
  {
   "cell_type": "code",
   "execution_count": null,
   "metadata": {},
   "outputs": [],
   "source": [
    "with open(\"output.json\", \"w\") as file:\n",
    "    json.dump(tot_prompt, file)"
   ]
  },
  {
   "cell_type": "code",
   "execution_count": null,
   "metadata": {},
   "outputs": [
    {
     "data": {
      "text/html": [
       "<div>\n",
       "<style scoped>\n",
       "    .dataframe tbody tr th:only-of-type {\n",
       "        vertical-align: middle;\n",
       "    }\n",
       "\n",
       "    .dataframe tbody tr th {\n",
       "        vertical-align: top;\n",
       "    }\n",
       "\n",
       "    .dataframe thead th {\n",
       "        text-align: right;\n",
       "    }\n",
       "</style>\n",
       "<table border=\"1\" class=\"dataframe\">\n",
       "  <thead>\n",
       "    <tr style=\"text-align: right;\">\n",
       "      <th></th>\n",
       "      <th>id</th>\n",
       "      <th>question</th>\n",
       "      <th>answer</th>\n",
       "      <th>answer_encode</th>\n",
       "    </tr>\n",
       "  </thead>\n",
       "  <tbody>\n",
       "    <tr>\n",
       "      <th>54</th>\n",
       "      <td>76774917</td>\n",
       "      <td>&lt;Title&gt;What python library is PIP using to dis...</td>\n",
       "      <td>Difficulty Level : Basic</td>\n",
       "      <td>0</td>\n",
       "    </tr>\n",
       "  </tbody>\n",
       "</table>\n",
       "</div>"
      ],
      "text/plain": [
       "          id                                           question  \\\n",
       "54  76774917  <Title>What python library is PIP using to dis...   \n",
       "\n",
       "                      answer  answer_encode  \n",
       "54  Difficulty Level : Basic              0  "
      ]
     },
     "execution_count": 219,
     "metadata": {},
     "output_type": "execute_result"
    }
   ],
   "source": [
    "df.loc[eval_q_idx, :]"
   ]
  },
  {
   "cell_type": "code",
   "execution_count": null,
   "metadata": {},
   "outputs": [
    {
     "data": {
      "text/html": [
       "<div>\n",
       "<style scoped>\n",
       "    .dataframe tbody tr th:only-of-type {\n",
       "        vertical-align: middle;\n",
       "    }\n",
       "\n",
       "    .dataframe tbody tr th {\n",
       "        vertical-align: top;\n",
       "    }\n",
       "\n",
       "    .dataframe thead th {\n",
       "        text-align: right;\n",
       "    }\n",
       "</style>\n",
       "<table border=\"1\" class=\"dataframe\">\n",
       "  <thead>\n",
       "    <tr style=\"text-align: right;\">\n",
       "      <th></th>\n",
       "      <th>id</th>\n",
       "      <th>question</th>\n",
       "      <th>answer</th>\n",
       "      <th>answer_encode</th>\n",
       "    </tr>\n",
       "  </thead>\n",
       "  <tbody>\n",
       "    <tr>\n",
       "      <th>54</th>\n",
       "      <td>76774917</td>\n",
       "      <td>&lt;Title&gt;What python library is PIP using to dis...</td>\n",
       "      <td>Difficulty Level : Basic</td>\n",
       "      <td>0</td>\n",
       "    </tr>\n",
       "  </tbody>\n",
       "</table>\n",
       "</div>"
      ],
      "text/plain": [
       "          id                                           question  \\\n",
       "54  76774917  <Title>What python library is PIP using to dis...   \n",
       "\n",
       "                      answer  answer_encode  \n",
       "54  Difficulty Level : Basic              0  "
      ]
     },
     "execution_count": 220,
     "metadata": {},
     "output_type": "execute_result"
    }
   ],
   "source": [
    "df.loc[eval_q_idx, :]"
   ]
  },
  {
   "cell_type": "code",
   "execution_count": null,
   "metadata": {},
   "outputs": [],
   "source": [
    "user_prompt = q_prompt+target_post"
   ]
  },
  {
   "cell_type": "code",
   "execution_count": null,
   "metadata": {},
   "outputs": [],
   "source": [
    "# Example OpenAI Python library request\n",
    "MODEL = \"gpt-4o\"\n",
    "response = client.chat.completions.create(\n",
    "    model=MODEL,\n",
    "    messages=[\n",
    "        {\"role\": \"system\", \"content\": sys_promt},\n",
    "        {\"role\": \"user\", \"content\": user_prompt},\n",
    "    ],\n",
    "    temperature=0,\n",
    ")"
   ]
  },
  {
   "cell_type": "code",
   "execution_count": null,
   "metadata": {},
   "outputs": [],
   "source": [
    "js = json.dumps(json.loads(response.model_dump_json()), indent=4)"
   ]
  },
  {
   "cell_type": "code",
   "execution_count": null,
   "metadata": {},
   "outputs": [
    {
     "name": "stdout",
     "output_type": "stream",
     "text": [
      "{\n",
      "    \"id\": \"chatcmpl-AYPesi0JnQ7tJGu93jzpICbZs9sWv\",\n",
      "    \"choices\": [\n",
      "        {\n",
      "            \"finish_reason\": \"stop\",\n",
      "            \"index\": 0,\n",
      "            \"logprobs\": null,\n",
      "            \"message\": {\n",
      "                \"content\": \"Difficulty Level: 0\",\n",
      "                \"refusal\": null,\n",
      "                \"role\": \"assistant\",\n",
      "                \"audio\": null,\n",
      "                \"function_call\": null,\n",
      "                \"tool_calls\": null\n",
      "            }\n",
      "        }\n",
      "    ],\n",
      "    \"created\": 1732765146,\n",
      "    \"model\": \"gpt-4o-2024-08-06\",\n",
      "    \"object\": \"chat.completion\",\n",
      "    \"service_tier\": null,\n",
      "    \"system_fingerprint\": \"fp_7f6be3efb0\",\n",
      "    \"usage\": {\n",
      "        \"completion_tokens\": 5,\n",
      "        \"prompt_tokens\": 5551,\n",
      "        \"total_tokens\": 5556,\n",
      "        \"completion_tokens_details\": {\n",
      "            \"accepted_prediction_tokens\": 0,\n",
      "            \"audio_tokens\": 0,\n",
      "            \"reasoning_tokens\": 0,\n",
      "            \"rejected_prediction_tokens\": 0\n",
      "        },\n",
      "        \"prompt_tokens_details\": {\n",
      "            \"audio_tokens\": 0,\n",
      "            \"cached_tokens\": 0\n",
      "        }\n",
      "    }\n",
      "}\n"
     ]
    }
   ],
   "source": [
    "print(js)"
   ]
  },
  {
   "cell_type": "code",
   "execution_count": null,
   "metadata": {},
   "outputs": [],
   "source": [
    "r['choices'][0]['message']['content']"
   ]
  },
  {
   "cell_type": "code",
   "execution_count": null,
   "metadata": {},
   "outputs": [],
   "source": [
    "r['choices']"
   ]
  },
  {
   "cell_type": "code",
   "execution_count": null,
   "metadata": {},
   "outputs": [],
   "source": []
  }
 ],
 "metadata": {
  "kernelspec": {
   "display_name": "venv_stackoverflow_src",
   "language": "python",
   "name": "python3"
  },
  "language_info": {
   "codemirror_mode": {
    "name": "ipython",
    "version": 3
   },
   "file_extension": ".py",
   "mimetype": "text/x-python",
   "name": "python",
   "nbconvert_exporter": "python",
   "pygments_lexer": "ipython3",
   "version": "3.10.12"
  }
 },
 "nbformat": 4,
 "nbformat_minor": 2
}
