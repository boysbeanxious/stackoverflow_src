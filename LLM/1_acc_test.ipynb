{
 "cells": [
  {
   "cell_type": "code",
   "execution_count": 1,
   "metadata": {},
   "outputs": [],
   "source": [
    "import sys, os\n",
    "p = os.path.abspath('..')\n",
    "# p = p+r'\\config'\n",
    "sys.path.insert(1, p)"
   ]
  },
  {
   "cell_type": "code",
   "execution_count": 2,
   "metadata": {},
   "outputs": [],
   "source": [
    "import lib.annotation.D_Annotation as da\n",
    "import tqdm\n"
   ]
  },
  {
   "cell_type": "code",
   "execution_count": 3,
   "metadata": {},
   "outputs": [
    {
     "name": "stdout",
     "output_type": "stream",
     "text": [
      "Task l_1_10_Y_sys_prompt2 시작\n",
      "Task l_1_10_Y_sys_prompt2 실행 중: 0Task l_1_10_N_sys_prompt2 시작\n",
      "\n",
      "Task l_2_10_Y_sys_prompt2 시작Task l_1_10_N_sys_prompt2 실행 중: 0\n",
      "\n",
      "Task l_2_10_Y_sys_prompt2 실행 중: 0Task l_2_10_N_sys_prompt2 시작\n",
      "\n",
      "Task l_2_10_N_sys_prompt2 실행 중: 0Task l_3_10_Y_sys_prompt2 시작\n",
      "\n",
      "Task l_3_10_Y_sys_prompt2 실행 중: 0\n",
      "Task l_3_10_N_sys_prompt2 시작\n",
      "Task l_3_10_N_sys_prompt2 실행 중: 0\n"
     ]
    },
    {
     "name": "stderr",
     "output_type": "stream",
     "text": [
      "10it [06:57, 41.77s/it]\n"
     ]
    },
    {
     "name": "stdout",
     "output_type": "stream",
     "text": [
      "Task l_1_10_N_sys_prompt2 실행 중: 1\n"
     ]
    },
    {
     "name": "stderr",
     "output_type": "stream",
     "text": [
      "10it [07:20, 44.05s/it]\n"
     ]
    },
    {
     "name": "stdout",
     "output_type": "stream",
     "text": [
      "Task l_1_10_Y_sys_prompt2 실행 중: 1\n"
     ]
    },
    {
     "name": "stderr",
     "output_type": "stream",
     "text": [
      "10it [08:50, 53.07s/it]\n"
     ]
    },
    {
     "name": "stdout",
     "output_type": "stream",
     "text": [
      "Task l_3_10_Y_sys_prompt2 실행 중: 1\n"
     ]
    },
    {
     "name": "stderr",
     "output_type": "stream",
     "text": [
      "10it [08:51, 53.11s/it]\n"
     ]
    },
    {
     "name": "stdout",
     "output_type": "stream",
     "text": [
      "Task l_2_10_Y_sys_prompt2 실행 중: 1\n"
     ]
    },
    {
     "name": "stderr",
     "output_type": "stream",
     "text": [
      "10it [09:48, 58.82s/it]\n"
     ]
    },
    {
     "name": "stdout",
     "output_type": "stream",
     "text": [
      "Task l_2_10_N_sys_prompt2 실행 중: 1\n"
     ]
    },
    {
     "name": "stderr",
     "output_type": "stream",
     "text": [
      "10it [09:57, 59.77s/it]\n"
     ]
    },
    {
     "name": "stdout",
     "output_type": "stream",
     "text": [
      "Task l_3_10_N_sys_prompt2 실행 중: 1\n"
     ]
    },
    {
     "name": "stderr",
     "output_type": "stream",
     "text": [
      "10it [07:09, 42.93s/it]\n"
     ]
    },
    {
     "name": "stdout",
     "output_type": "stream",
     "text": [
      "Task l_1_10_N_sys_prompt2 실행 중: 2\n"
     ]
    },
    {
     "name": "stderr",
     "output_type": "stream",
     "text": [
      "1it [00:30, 30.42s/it]]\n"
     ]
    },
    {
     "name": "stdout",
     "output_type": "stream",
     "text": [
      "Task l_1_10_Y_sys_prompt2 실행 중: 2\n"
     ]
    },
    {
     "name": "stderr",
     "output_type": "stream",
     "text": [
      "10it [09:50, 59.03s/it]\n"
     ]
    },
    {
     "name": "stdout",
     "output_type": "stream",
     "text": [
      "Task l_3_10_Y_sys_prompt2 실행 중: 2\n"
     ]
    },
    {
     "name": "stderr",
     "output_type": "stream",
     "text": [
      "10it [10:00, 60.03s/it]\n"
     ]
    },
    {
     "name": "stdout",
     "output_type": "stream",
     "text": [
      "Task l_2_10_Y_sys_prompt2 실행 중: 2\n"
     ]
    },
    {
     "name": "stderr",
     "output_type": "stream",
     "text": [
      "10it [11:59, 72.00s/it]\n"
     ]
    },
    {
     "name": "stdout",
     "output_type": "stream",
     "text": [
      "Task l_2_10_N_sys_prompt2 실행 중: 2\n"
     ]
    },
    {
     "name": "stderr",
     "output_type": "stream",
     "text": [
      "10it [11:01, 66.12s/it]\n"
     ]
    },
    {
     "name": "stdout",
     "output_type": "stream",
     "text": [
      "Task l_1_10_N_sys_prompt2 실행 중: 3\n"
     ]
    },
    {
     "name": "stderr",
     "output_type": "stream",
     "text": [
      "10it [16:14, 97.48s/it] \n"
     ]
    },
    {
     "name": "stdout",
     "output_type": "stream",
     "text": [
      "Task l_3_10_N_sys_prompt2 실행 중: 2\n"
     ]
    },
    {
     "name": "stderr",
     "output_type": "stream",
     "text": [
      "10it [12:22, 74.24s/it]\n"
     ]
    },
    {
     "name": "stdout",
     "output_type": "stream",
     "text": [
      "Task l_1_10_Y_sys_prompt2 실행 중: 3\n"
     ]
    },
    {
     "name": "stderr",
     "output_type": "stream",
     "text": [
      "10it [16:25, 98.59s/it] \n"
     ]
    },
    {
     "name": "stdout",
     "output_type": "stream",
     "text": [
      "Task l_3_10_Y_sys_prompt2 실행 중: 3\n"
     ]
    },
    {
     "name": "stderr",
     "output_type": "stream",
     "text": [
      "10it [17:43, 106.34s/it]\n"
     ]
    },
    {
     "name": "stdout",
     "output_type": "stream",
     "text": [
      "Task l_2_10_Y_sys_prompt2 실행 중: 3\n"
     ]
    },
    {
     "name": "stderr",
     "output_type": "stream",
     "text": [
      "10it [11:45, 70.56s/it]\n"
     ]
    },
    {
     "name": "stdout",
     "output_type": "stream",
     "text": [
      "Task l_1_10_N_sys_prompt2 실행 중: 4\n"
     ]
    },
    {
     "name": "stderr",
     "output_type": "stream",
     "text": [
      "10it [12:39, 75.92s/it]\n"
     ]
    },
    {
     "name": "stdout",
     "output_type": "stream",
     "text": [
      "Task l_1_10_Y_sys_prompt2 실행 중: 4\n"
     ]
    },
    {
     "name": "stderr",
     "output_type": "stream",
     "text": [
      "10it [18:31, 111.10s/it]\n"
     ]
    },
    {
     "name": "stdout",
     "output_type": "stream",
     "text": [
      "Task l_2_10_N_sys_prompt2 실행 중: 3\n"
     ]
    },
    {
     "name": "stderr",
     "output_type": "stream",
     "text": [
      "10it [19:04, 114.46s/it]\n"
     ]
    },
    {
     "name": "stdout",
     "output_type": "stream",
     "text": [
      "Task l_3_10_N_sys_prompt2 실행 중: 3\n"
     ]
    },
    {
     "name": "stderr",
     "output_type": "stream",
     "text": [
      "10it [13:29, 80.98s/it]\n"
     ]
    },
    {
     "name": "stdout",
     "output_type": "stream",
     "text": [
      "Task l_1_10_N_sys_prompt2 실행 중: 5\n"
     ]
    },
    {
     "name": "stderr",
     "output_type": "stream",
     "text": [
      "10it [16:38, 99.84s/it] \n"
     ]
    },
    {
     "name": "stdout",
     "output_type": "stream",
     "text": [
      "Task l_3_10_Y_sys_prompt2 실행 중: 4\n"
     ]
    },
    {
     "name": "stderr",
     "output_type": "stream",
     "text": [
      "10it [15:44, 94.46s/it]\n"
     ]
    },
    {
     "name": "stdout",
     "output_type": "stream",
     "text": [
      "Task l_2_10_Y_sys_prompt2 실행 중: 4\n"
     ]
    },
    {
     "name": "stderr",
     "output_type": "stream",
     "text": [
      "10it [13:01, 78.13s/it]\n"
     ]
    },
    {
     "name": "stdout",
     "output_type": "stream",
     "text": [
      "Task l_1_10_Y_sys_prompt2 실행 중: 5\n"
     ]
    },
    {
     "name": "stderr",
     "output_type": "stream",
     "text": [
      "10it [19:10, 115.01s/it]\n"
     ]
    },
    {
     "name": "stdout",
     "output_type": "stream",
     "text": [
      "Task l_2_10_N_sys_prompt2 실행 중: 4\n"
     ]
    },
    {
     "name": "stderr",
     "output_type": "stream",
     "text": [
      "10it [12:05, 72.55s/it]\n"
     ]
    },
    {
     "name": "stdout",
     "output_type": "stream",
     "text": [
      "Task l_1_10_N_sys_prompt2 실행 중: 6\n"
     ]
    },
    {
     "name": "stderr",
     "output_type": "stream",
     "text": [
      "10it [18:07, 108.74s/it]\n"
     ]
    },
    {
     "name": "stdout",
     "output_type": "stream",
     "text": [
      "Task l_3_10_N_sys_prompt2 실행 중: 4\n"
     ]
    },
    {
     "name": "stderr",
     "output_type": "stream",
     "text": [
      "3it [05:13, 102.83s/it]\n"
     ]
    },
    {
     "name": "stdout",
     "output_type": "stream",
     "text": [
      "Task l_1_10_Y_sys_prompt2 실행 중: 6\n"
     ]
    },
    {
     "name": "stderr",
     "output_type": "stream",
     "text": [
      "10it [14:38, 87.89s/it]\n"
     ]
    },
    {
     "name": "stdout",
     "output_type": "stream",
     "text": [
      "Task l_2_10_Y_sys_prompt2 실행 중: 5\n"
     ]
    },
    {
     "name": "stderr",
     "output_type": "stream",
     "text": [
      "10it [17:11, 103.16s/it]\n"
     ]
    },
    {
     "name": "stdout",
     "output_type": "stream",
     "text": [
      "Task l_3_10_Y_sys_prompt2 실행 중: 5\n"
     ]
    },
    {
     "name": "stderr",
     "output_type": "stream",
     "text": [
      "10it [12:49, 76.98s/it]\n"
     ]
    },
    {
     "name": "stdout",
     "output_type": "stream",
     "text": [
      "Task l_1_10_N_sys_prompt2 실행 중: 7\n"
     ]
    },
    {
     "name": "stderr",
     "output_type": "stream",
     "text": [
      "10it [17:28, 104.87s/it]\n"
     ]
    },
    {
     "name": "stdout",
     "output_type": "stream",
     "text": [
      "Task l_2_10_N_sys_prompt2 실행 중: 5\n"
     ]
    },
    {
     "name": "stderr",
     "output_type": "stream",
     "text": [
      "10it [12:58, 77.88s/it]\n"
     ]
    },
    {
     "name": "stdout",
     "output_type": "stream",
     "text": [
      "Task l_1_10_Y_sys_prompt2 실행 중: 7\n"
     ]
    },
    {
     "name": "stderr",
     "output_type": "stream",
     "text": [
      "10it [14:29, 86.94s/it]\n"
     ]
    },
    {
     "name": "stdout",
     "output_type": "stream",
     "text": [
      "Task l_2_10_Y_sys_prompt2 실행 중: 6\n"
     ]
    },
    {
     "name": "stderr",
     "output_type": "stream",
     "text": [
      "10it [15:12, 91.22s/it]\n"
     ]
    },
    {
     "name": "stdout",
     "output_type": "stream",
     "text": [
      "Task l_3_10_Y_sys_prompt2 실행 중: 6\n"
     ]
    },
    {
     "name": "stderr",
     "output_type": "stream",
     "text": [
      "10it [20:45, 124.50s/it]\n"
     ]
    },
    {
     "name": "stdout",
     "output_type": "stream",
     "text": [
      "Task l_3_10_N_sys_prompt2 실행 중: 5\n"
     ]
    },
    {
     "name": "stderr",
     "output_type": "stream",
     "text": [
      "10it [12:56, 77.66s/it]\n"
     ]
    },
    {
     "name": "stdout",
     "output_type": "stream",
     "text": [
      "Task l_1_10_N_sys_prompt2 실행 중: 8\n"
     ]
    },
    {
     "name": "stderr",
     "output_type": "stream",
     "text": [
      "10it [12:57, 77.73s/it]\n"
     ]
    },
    {
     "name": "stdout",
     "output_type": "stream",
     "text": [
      "Task l_1_10_Y_sys_prompt2 실행 중: 8\n"
     ]
    },
    {
     "name": "stderr",
     "output_type": "stream",
     "text": [
      "10it [18:49, 112.90s/it]\n"
     ]
    },
    {
     "name": "stdout",
     "output_type": "stream",
     "text": [
      "Task l_2_10_N_sys_prompt2 실행 중: 6\n"
     ]
    },
    {
     "name": "stderr",
     "output_type": "stream",
     "text": [
      "10it [14:34, 87.49s/it]\n"
     ]
    },
    {
     "name": "stdout",
     "output_type": "stream",
     "text": [
      "Task l_2_10_Y_sys_prompt2 실행 중: 7\n"
     ]
    },
    {
     "name": "stderr",
     "output_type": "stream",
     "text": [
      "10it [15:22, 92.25s/it]\n"
     ]
    },
    {
     "name": "stdout",
     "output_type": "stream",
     "text": [
      "Task l_3_10_Y_sys_prompt2 실행 중: 7\n"
     ]
    },
    {
     "name": "stderr",
     "output_type": "stream",
     "text": [
      "10it [12:34, 75.45s/it]\n"
     ]
    },
    {
     "name": "stdout",
     "output_type": "stream",
     "text": [
      "Task l_1_10_N_sys_prompt2 실행 중: 9\n"
     ]
    },
    {
     "name": "stderr",
     "output_type": "stream",
     "text": [
      "10it [12:01, 72.16s/it]\n"
     ]
    },
    {
     "name": "stdout",
     "output_type": "stream",
     "text": [
      "Task l_1_10_Y_sys_prompt2 실행 중: 9\n"
     ]
    },
    {
     "name": "stderr",
     "output_type": "stream",
     "text": [
      "10it [20:19, 121.91s/it]\n"
     ]
    },
    {
     "name": "stdout",
     "output_type": "stream",
     "text": [
      "Task l_3_10_N_sys_prompt2 실행 중: 6\n"
     ]
    },
    {
     "name": "stderr",
     "output_type": "stream",
     "text": [
      "10it [15:06, 90.69s/it]\n"
     ]
    },
    {
     "name": "stdout",
     "output_type": "stream",
     "text": [
      "Task l_2_10_Y_sys_prompt2 실행 중: 8\n"
     ]
    },
    {
     "name": "stderr",
     "output_type": "stream",
     "text": [
      "10it [16:57, 101.74s/it]\n"
     ]
    },
    {
     "name": "stdout",
     "output_type": "stream",
     "text": [
      "Task l_2_10_N_sys_prompt2 실행 중: 7\n"
     ]
    },
    {
     "name": "stderr",
     "output_type": "stream",
     "text": [
      "10it [13:10, 79.07s/it]\n"
     ]
    },
    {
     "name": "stdout",
     "output_type": "stream",
     "text": [
      "Task l_1_10_N_sys_prompt2 완료\n"
     ]
    },
    {
     "name": "stderr",
     "output_type": "stream",
     "text": [
      "10it [16:05, 96.58s/it]\n"
     ]
    },
    {
     "name": "stdout",
     "output_type": "stream",
     "text": [
      "Task l_3_10_Y_sys_prompt2 실행 중: 8\n"
     ]
    },
    {
     "name": "stderr",
     "output_type": "stream",
     "text": [
      "10it [13:39, 81.97s/it]\n"
     ]
    },
    {
     "name": "stdout",
     "output_type": "stream",
     "text": [
      "Task l_1_10_Y_sys_prompt2 완료\n"
     ]
    },
    {
     "name": "stderr",
     "output_type": "stream",
     "text": [
      "10it [18:25, 110.56s/it]\n"
     ]
    },
    {
     "name": "stdout",
     "output_type": "stream",
     "text": [
      "Task l_3_10_N_sys_prompt2 실행 중: 7\n"
     ]
    },
    {
     "name": "stderr",
     "output_type": "stream",
     "text": [
      "10it [12:27, 74.71s/it]\n"
     ]
    },
    {
     "name": "stdout",
     "output_type": "stream",
     "text": [
      "Task l_2_10_Y_sys_prompt2 실행 중: 9\n"
     ]
    },
    {
     "name": "stderr",
     "output_type": "stream",
     "text": [
      "10it [14:25, 86.55s/it]\n"
     ]
    },
    {
     "name": "stdout",
     "output_type": "stream",
     "text": [
      "Task l_3_10_Y_sys_prompt2 실행 중: 9\n"
     ]
    },
    {
     "name": "stderr",
     "output_type": "stream",
     "text": [
      "10it [17:47, 106.72s/it]\n"
     ]
    },
    {
     "name": "stdout",
     "output_type": "stream",
     "text": [
      "Task l_2_10_N_sys_prompt2 실행 중: 8\n"
     ]
    },
    {
     "name": "stderr",
     "output_type": "stream",
     "text": [
      "10it [16:43, 100.36s/it]\n"
     ]
    },
    {
     "name": "stdout",
     "output_type": "stream",
     "text": [
      "Task l_3_10_N_sys_prompt2 실행 중: 8\n"
     ]
    },
    {
     "name": "stderr",
     "output_type": "stream",
     "text": [
      "10it [16:07, 96.77s/it]\n"
     ]
    },
    {
     "name": "stdout",
     "output_type": "stream",
     "text": [
      "Task l_2_10_Y_sys_prompt2 완료\n"
     ]
    },
    {
     "name": "stderr",
     "output_type": "stream",
     "text": [
      "10it [12:55, 77.51s/it]\n"
     ]
    },
    {
     "name": "stdout",
     "output_type": "stream",
     "text": [
      "Task l_3_10_Y_sys_prompt2 완료\n"
     ]
    },
    {
     "name": "stderr",
     "output_type": "stream",
     "text": [
      "10it [12:52, 77.24s/it]\n"
     ]
    },
    {
     "name": "stdout",
     "output_type": "stream",
     "text": [
      "Task l_2_10_N_sys_prompt2 실행 중: 9\n"
     ]
    },
    {
     "name": "stderr",
     "output_type": "stream",
     "text": [
      "10it [07:33, 45.40s/it]\n"
     ]
    },
    {
     "name": "stdout",
     "output_type": "stream",
     "text": [
      "Task l_2_10_N_sys_prompt2 완료\n"
     ]
    },
    {
     "name": "stderr",
     "output_type": "stream",
     "text": [
      "10it [11:52, 71.25s/it]\n"
     ]
    },
    {
     "name": "stdout",
     "output_type": "stream",
     "text": [
      "Task l_3_10_N_sys_prompt2 실행 중: 9\n"
     ]
    },
    {
     "name": "stderr",
     "output_type": "stream",
     "text": [
      "10it [07:12, 43.26s/it]\n"
     ]
    },
    {
     "name": "stdout",
     "output_type": "stream",
     "text": [
      "Task l_3_10_N_sys_prompt2 완료\n",
      "모든 작업 완료\n"
     ]
    }
   ],
   "source": [
    "from multiprocessing import Process\n",
    "    \n",
    "def task(llm_model, few_shot_n, test_n, q_src_yn, ver, p_ver):\n",
    "\n",
    "    print(f\"Task {llm_model}_{few_shot_n}_{test_n}_{q_src_yn}_{p_ver} 시작\")\n",
    "    for i in range(ver):\n",
    "        print(f\"Task {llm_model}_{few_shot_n}_{test_n}_{q_src_yn}_{p_ver} 실행 중: {i}\")\n",
    "        da.D_Annotation(  llm_model\n",
    "                        , few_shot_n\n",
    "                        , test_n\n",
    "                        , q_src_yn\n",
    "                        , i\n",
    "                        , p_ver)  \n",
    "    \n",
    "    print(f\"Task {llm_model}_{few_shot_n}_{test_n}_{q_src_yn}_{p_ver} 완료\")\n",
    "\n",
    "if __name__ == \"__main__\":\n",
    "    process1 = Process(target=task, args=('l', 1, 10, 'Y', 10, 'sys_prompt2'))\n",
    "    process2 = Process(target=task, args=('l', 1, 10, 'N', 10, 'sys_prompt2'))\n",
    "\n",
    "    process3 = Process(target=task, args=('l', 2, 10, 'Y', 10, 'sys_prompt2'))\n",
    "    process4 = Process(target=task, args=('l', 2, 10, 'N', 10, 'sys_prompt2'))\n",
    "\n",
    "    process5 = Process(target=task, args=('l', 3, 10, 'Y', 10, 'sys_prompt2'))\n",
    "    process6 = Process(target=task, args=('l', 3, 10, 'N', 10, 'sys_prompt2'))\n",
    "    \n",
    "    process1.start()\n",
    "    process2.start()\n",
    "    process3.start()\n",
    "    process4.start()\n",
    "    process5.start()\n",
    "    process6.start()\n",
    "    \n",
    "    process1.join()\n",
    "    process2.join()\n",
    "    process3.join()\n",
    "    process4.join()\n",
    "    process5.join()\n",
    "    process6.join()\n",
    "    print(\"모든 작업 완료\")"
   ]
  },
  {
   "cell_type": "code",
   "execution_count": null,
   "metadata": {},
   "outputs": [
    {
     "name": "stdout",
     "output_type": "stream",
     "text": [
      "Task l_1_10_Y_sys_prompt2 시작\n",
      "Task l_1_10_Y_sys_prompt2 실행 중: 0Task l_1_10_N_sys_prompt2 시작\n",
      "\n",
      "Task l_2_10_Y_sys_prompt2 시작Task l_1_10_N_sys_prompt2 실행 중: 0\n",
      "\n",
      "Task l_2_10_Y_sys_prompt2 실행 중: 0Task l_2_10_N_sys_prompt2 시작\n",
      "\n",
      "Task l_2_10_N_sys_prompt2 실행 중: 0Task l_3_10_Y_sys_prompt2 시작\n",
      "\n",
      "Task l_3_10_Y_sys_prompt2 실행 중: 0\n",
      "Task l_3_10_N_sys_prompt2 시작\n",
      "Task l_3_10_N_sys_prompt2 실행 중: 0\n"
     ]
    },
    {
     "name": "stderr",
     "output_type": "stream",
     "text": [
      "10it [06:57, 41.77s/it]\n"
     ]
    },
    {
     "name": "stdout",
     "output_type": "stream",
     "text": [
      "Task l_1_10_N_sys_prompt2 실행 중: 1\n"
     ]
    },
    {
     "name": "stderr",
     "output_type": "stream",
     "text": [
      "10it [07:20, 44.05s/it]\n"
     ]
    },
    {
     "name": "stdout",
     "output_type": "stream",
     "text": [
      "Task l_1_10_Y_sys_prompt2 실행 중: 1\n"
     ]
    },
    {
     "name": "stderr",
     "output_type": "stream",
     "text": [
      "10it [08:50, 53.07s/it]\n"
     ]
    },
    {
     "name": "stdout",
     "output_type": "stream",
     "text": [
      "Task l_3_10_Y_sys_prompt2 실행 중: 1\n"
     ]
    },
    {
     "name": "stderr",
     "output_type": "stream",
     "text": [
      "10it [08:51, 53.11s/it]\n"
     ]
    },
    {
     "name": "stdout",
     "output_type": "stream",
     "text": [
      "Task l_2_10_Y_sys_prompt2 실행 중: 1\n"
     ]
    },
    {
     "name": "stderr",
     "output_type": "stream",
     "text": [
      "10it [09:48, 58.82s/it]\n"
     ]
    },
    {
     "name": "stdout",
     "output_type": "stream",
     "text": [
      "Task l_2_10_N_sys_prompt2 실행 중: 1\n"
     ]
    },
    {
     "name": "stderr",
     "output_type": "stream",
     "text": [
      "10it [09:57, 59.77s/it]\n"
     ]
    },
    {
     "name": "stdout",
     "output_type": "stream",
     "text": [
      "Task l_3_10_N_sys_prompt2 실행 중: 1\n"
     ]
    },
    {
     "name": "stderr",
     "output_type": "stream",
     "text": [
      "10it [07:09, 42.93s/it]\n"
     ]
    }
   ],
   "source": [
    "from multiprocessing import Process\n",
    "    \n",
    "def task(llm_model, few_shot_n, test_n, q_src_yn, ver, p_ver):\n",
    "\n",
    "    print(f\"Task {llm_model}_{few_shot_n}_{test_n}_{q_src_yn}_{p_ver} 시작\")\n",
    "    for i in range(ver):\n",
    "        print(f\"Task {llm_model}_{few_shot_n}_{test_n}_{q_src_yn}_{p_ver} 실행 중: {i}\")\n",
    "        da.D_Annotation(  llm_model\n",
    "                        , few_shot_n\n",
    "                        , test_n\n",
    "                        , q_src_yn\n",
    "                        , i\n",
    "                        , p_ver)  \n",
    "    \n",
    "    print(f\"Task {llm_model}_{few_shot_n}_{test_n}_{q_src_yn}_{p_ver} 완료\")\n",
    "\n",
    "if __name__ == \"__main__\":\n",
    "    process1 = Process(target=task, args=('l', 1, 10, 'Y', 10, 'sys_prompt2'))\n",
    "    process2 = Process(target=task, args=('l', 1, 10, 'N', 10, 'sys_prompt2'))\n",
    "\n",
    "    process3 = Process(target=task, args=('l', 2, 10, 'Y', 10, 'sys_prompt2'))\n",
    "    process4 = Process(target=task, args=('l', 2, 10, 'N', 10, 'sys_prompt2'))\n",
    "\n",
    "    process5 = Process(target=task, args=('l', 3, 10, 'Y', 10, 'sys_prompt2'))\n",
    "    process6 = Process(target=task, args=('l', 3, 10, 'N', 10, 'sys_prompt2'))\n",
    "    \n",
    "    process1.start()\n",
    "    process2.start()\n",
    "    process3.start()\n",
    "    process4.start()\n",
    "    process5.start()\n",
    "    process6.start()\n",
    "    \n",
    "    process1.join()\n",
    "    process2.join()\n",
    "    process3.join()\n",
    "    process4.join()\n",
    "    process5.join()\n",
    "    process6.join()\n",
    "    print(\"모든 작업 완료\")"
   ]
  },
  {
   "cell_type": "code",
   "execution_count": null,
   "metadata": {},
   "outputs": [],
   "source": []
  }
 ],
 "metadata": {
  "kernelspec": {
   "display_name": "venv_stackoverflow_src",
   "language": "python",
   "name": "python3"
  },
  "language_info": {
   "codemirror_mode": {
    "name": "ipython",
    "version": 3
   },
   "file_extension": ".py",
   "mimetype": "text/x-python",
   "name": "python",
   "nbconvert_exporter": "python",
   "pygments_lexer": "ipython3",
   "version": "3.10.12"
  }
 },
 "nbformat": 4,
 "nbformat_minor": 2
}
