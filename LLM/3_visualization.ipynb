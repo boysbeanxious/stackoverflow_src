{
 "cells": [
  {
   "cell_type": "code",
   "execution_count": 1,
   "metadata": {},
   "outputs": [],
   "source": [
    "import sys, os\n",
    "p = os.path.abspath('..')\n",
    "# p = p+r'\\config'\n",
    "sys.path.insert(1, p)"
   ]
  },
  {
   "cell_type": "code",
   "execution_count": 31,
   "metadata": {},
   "outputs": [],
   "source": [
    "import pandas as pd\n",
    "import re\n",
    "import numpy as np\n",
    "import pickle\n",
    "import matplotlib.pyplot as plt\n"
   ]
  },
  {
   "cell_type": "code",
   "execution_count": 3,
   "metadata": {},
   "outputs": [],
   "source": [
    "# 파일 불러오기\n",
    "with open('../../data/ann_qid.pkl', 'rb') as f:\n",
    "    qdf = pickle.load(f)\n"
   ]
  },
  {
   "cell_type": "code",
   "execution_count": 4,
   "metadata": {},
   "outputs": [],
   "source": [
    "path = './sample_result'\n",
    "file_list = os.listdir(path)"
   ]
  },
  {
   "cell_type": "code",
   "execution_count": 5,
   "metadata": {},
   "outputs": [],
   "source": [
    "ver = 1\n",
    "date = '2024-12-04'\n",
    "path = './sample_result'\n",
    "sc_num = 5"
   ]
  },
  {
   "cell_type": "code",
   "execution_count": 6,
   "metadata": {},
   "outputs": [],
   "source": [
    "def make_one_file(ver, date):\n",
    "    opt_file = [x for x in file_list if x.endswith(f'_{ver}_{date}.csv')]\n",
    "\n",
    "    if len(opt_file)>0 : \n",
    "        df = pd.DataFrame()\n",
    "        for f in opt_file:\n",
    "            tmp = pd.read_csv(f'{path}/{f}', index_col =0)\n",
    "            df = pd.concat([df, tmp], axis =0)\n",
    "        \n",
    "        return df\n",
    "        \n",
    "\n"
   ]
  },
  {
   "cell_type": "code",
   "execution_count": 7,
   "metadata": {},
   "outputs": [],
   "source": [
    "def pp_result(ver, date):\n",
    "    opt_file = [x for x in file_list if x.endswith(f'_{ver}_{date}.csv')]\n",
    "\n",
    "    if len(opt_file)>0 : \n",
    "        df = pd.DataFrame()\n",
    "        for f in opt_file:\n",
    "            tmp = pd.read_csv(f'{path}/{f}', index_col =0)\n",
    "            df = pd.concat([df, tmp], axis =0)\n",
    "        \n",
    "        return df\n",
    "        \n",
    "\n"
   ]
  },
  {
   "cell_type": "code",
   "execution_count": 8,
   "metadata": {},
   "outputs": [],
   "source": [
    "df = make_one_file(ver, date)"
   ]
  },
  {
   "cell_type": "code",
   "execution_count": 9,
   "metadata": {},
   "outputs": [
    {
     "data": {
      "text/html": [
       "<div>\n",
       "<style scoped>\n",
       "    .dataframe tbody tr th:only-of-type {\n",
       "        vertical-align: middle;\n",
       "    }\n",
       "\n",
       "    .dataframe tbody tr th {\n",
       "        vertical-align: top;\n",
       "    }\n",
       "\n",
       "    .dataframe thead th {\n",
       "        text-align: right;\n",
       "    }\n",
       "</style>\n",
       "<table border=\"1\" class=\"dataframe\">\n",
       "  <thead>\n",
       "    <tr style=\"text-align: right;\">\n",
       "      <th></th>\n",
       "      <th>id</th>\n",
       "      <th>message</th>\n",
       "      <th>result</th>\n",
       "    </tr>\n",
       "  </thead>\n",
       "  <tbody>\n",
       "    <tr>\n",
       "      <th>0</th>\n",
       "      <td>74384642</td>\n",
       "      <td>[{'role': 'system', 'content': '\\n# Python Que...</td>\n",
       "      <td>&lt;Difficulty Level&gt;0&lt;/Difficulty Level&gt;\\n</td>\n",
       "    </tr>\n",
       "    <tr>\n",
       "      <th>1</th>\n",
       "      <td>74384642</td>\n",
       "      <td>[{'role': 'system', 'content': '\\n# Python Que...</td>\n",
       "      <td>&lt;Difficulty Level&gt;1&lt;/Difficulty Level&gt;</td>\n",
       "    </tr>\n",
       "    <tr>\n",
       "      <th>2</th>\n",
       "      <td>74384642</td>\n",
       "      <td>[{'role': 'system', 'content': '\\n# Python Que...</td>\n",
       "      <td>&lt;Difficulty Level&gt;1&lt;/Difficulty Level&gt;\\n</td>\n",
       "    </tr>\n",
       "    <tr>\n",
       "      <th>3</th>\n",
       "      <td>74384642</td>\n",
       "      <td>[{'role': 'system', 'content': '\\n# Python Que...</td>\n",
       "      <td>&lt;Difficulty Level&gt;1&lt;/Difficulty Level&gt;\\n</td>\n",
       "    </tr>\n",
       "    <tr>\n",
       "      <th>4</th>\n",
       "      <td>74384642</td>\n",
       "      <td>[{'role': 'system', 'content': '\\n# Python Que...</td>\n",
       "      <td>&lt;Difficulty Level&gt;0&lt;/Difficulty Level&gt;\\n</td>\n",
       "    </tr>\n",
       "  </tbody>\n",
       "</table>\n",
       "</div>"
      ],
      "text/plain": [
       "         id                                            message  \\\n",
       "0  74384642  [{'role': 'system', 'content': '\\n# Python Que...   \n",
       "1  74384642  [{'role': 'system', 'content': '\\n# Python Que...   \n",
       "2  74384642  [{'role': 'system', 'content': '\\n# Python Que...   \n",
       "3  74384642  [{'role': 'system', 'content': '\\n# Python Que...   \n",
       "4  74384642  [{'role': 'system', 'content': '\\n# Python Que...   \n",
       "\n",
       "                                     result  \n",
       "0  <Difficulty Level>0</Difficulty Level>\\n  \n",
       "1    <Difficulty Level>1</Difficulty Level>  \n",
       "2  <Difficulty Level>1</Difficulty Level>\\n  \n",
       "3  <Difficulty Level>1</Difficulty Level>\\n  \n",
       "4  <Difficulty Level>0</Difficulty Level>\\n  "
      ]
     },
     "execution_count": 9,
     "metadata": {},
     "output_type": "execute_result"
    }
   ],
   "source": [
    "df.head()"
   ]
  },
  {
   "cell_type": "code",
   "execution_count": 10,
   "metadata": {},
   "outputs": [
    {
     "data": {
      "text/plain": [
       "id          0\n",
       "message     0\n",
       "result     12\n",
       "dtype: int64"
      ]
     },
     "execution_count": 10,
     "metadata": {},
     "output_type": "execute_result"
    }
   ],
   "source": [
    "df.isna().sum()"
   ]
  },
  {
   "cell_type": "code",
   "execution_count": 11,
   "metadata": {},
   "outputs": [],
   "source": [
    "df = df.dropna()"
   ]
  },
  {
   "cell_type": "code",
   "execution_count": 12,
   "metadata": {},
   "outputs": [],
   "source": [
    "df['o_result'] = df['result'].apply(lambda x : re.sub(r'[^0-9]', '', x))"
   ]
  },
  {
   "cell_type": "code",
   "execution_count": 13,
   "metadata": {},
   "outputs": [],
   "source": [
    "df = df[df['o_result'].isin(['1', '0', '2'])]"
   ]
  },
  {
   "cell_type": "code",
   "execution_count": 14,
   "metadata": {},
   "outputs": [
    {
     "data": {
      "text/html": [
       "<div>\n",
       "<style scoped>\n",
       "    .dataframe tbody tr th:only-of-type {\n",
       "        vertical-align: middle;\n",
       "    }\n",
       "\n",
       "    .dataframe tbody tr th {\n",
       "        vertical-align: top;\n",
       "    }\n",
       "\n",
       "    .dataframe thead th {\n",
       "        text-align: right;\n",
       "    }\n",
       "</style>\n",
       "<table border=\"1\" class=\"dataframe\">\n",
       "  <thead>\n",
       "    <tr style=\"text-align: right;\">\n",
       "      <th></th>\n",
       "      <th>id</th>\n",
       "      <th>message</th>\n",
       "      <th>result</th>\n",
       "      <th>o_result</th>\n",
       "    </tr>\n",
       "  </thead>\n",
       "  <tbody>\n",
       "    <tr>\n",
       "      <th>0</th>\n",
       "      <td>74384642</td>\n",
       "      <td>[{'role': 'system', 'content': '\\n# Python Que...</td>\n",
       "      <td>&lt;Difficulty Level&gt;0&lt;/Difficulty Level&gt;\\n</td>\n",
       "      <td>0</td>\n",
       "    </tr>\n",
       "    <tr>\n",
       "      <th>1</th>\n",
       "      <td>74384642</td>\n",
       "      <td>[{'role': 'system', 'content': '\\n# Python Que...</td>\n",
       "      <td>&lt;Difficulty Level&gt;1&lt;/Difficulty Level&gt;</td>\n",
       "      <td>1</td>\n",
       "    </tr>\n",
       "    <tr>\n",
       "      <th>2</th>\n",
       "      <td>74384642</td>\n",
       "      <td>[{'role': 'system', 'content': '\\n# Python Que...</td>\n",
       "      <td>&lt;Difficulty Level&gt;1&lt;/Difficulty Level&gt;\\n</td>\n",
       "      <td>1</td>\n",
       "    </tr>\n",
       "    <tr>\n",
       "      <th>3</th>\n",
       "      <td>74384642</td>\n",
       "      <td>[{'role': 'system', 'content': '\\n# Python Que...</td>\n",
       "      <td>&lt;Difficulty Level&gt;1&lt;/Difficulty Level&gt;\\n</td>\n",
       "      <td>1</td>\n",
       "    </tr>\n",
       "    <tr>\n",
       "      <th>4</th>\n",
       "      <td>74384642</td>\n",
       "      <td>[{'role': 'system', 'content': '\\n# Python Que...</td>\n",
       "      <td>&lt;Difficulty Level&gt;0&lt;/Difficulty Level&gt;\\n</td>\n",
       "      <td>0</td>\n",
       "    </tr>\n",
       "  </tbody>\n",
       "</table>\n",
       "</div>"
      ],
      "text/plain": [
       "         id                                            message  \\\n",
       "0  74384642  [{'role': 'system', 'content': '\\n# Python Que...   \n",
       "1  74384642  [{'role': 'system', 'content': '\\n# Python Que...   \n",
       "2  74384642  [{'role': 'system', 'content': '\\n# Python Que...   \n",
       "3  74384642  [{'role': 'system', 'content': '\\n# Python Que...   \n",
       "4  74384642  [{'role': 'system', 'content': '\\n# Python Que...   \n",
       "\n",
       "                                     result o_result  \n",
       "0  <Difficulty Level>0</Difficulty Level>\\n        0  \n",
       "1    <Difficulty Level>1</Difficulty Level>        1  \n",
       "2  <Difficulty Level>1</Difficulty Level>\\n        1  \n",
       "3  <Difficulty Level>1</Difficulty Level>\\n        1  \n",
       "4  <Difficulty Level>0</Difficulty Level>\\n        0  "
      ]
     },
     "execution_count": 14,
     "metadata": {},
     "output_type": "execute_result"
    }
   ],
   "source": [
    "df.head()"
   ]
  },
  {
   "cell_type": "code",
   "execution_count": 15,
   "metadata": {},
   "outputs": [
    {
     "data": {
      "text/plain": [
       "o_result\n",
       "1    2661\n",
       "0    1136\n",
       "2     697\n",
       "Name: count, dtype: int64"
      ]
     },
     "execution_count": 15,
     "metadata": {},
     "output_type": "execute_result"
    }
   ],
   "source": [
    "df['o_result'].value_counts()"
   ]
  },
  {
   "cell_type": "code",
   "execution_count": 16,
   "metadata": {},
   "outputs": [],
   "source": [
    "chk_cnt = df.groupby(['id', 'o_result']).count().reset_index()[['id', 'o_result', 'message']]"
   ]
  },
  {
   "cell_type": "code",
   "execution_count": 17,
   "metadata": {},
   "outputs": [],
   "source": [
    "chk_cnt = chk_cnt.rename(columns = {'message': 'cnt'})"
   ]
  },
  {
   "cell_type": "code",
   "execution_count": 18,
   "metadata": {},
   "outputs": [],
   "source": [
    "chk_cnt = chk_cnt[chk_cnt['cnt'] == sc_num]"
   ]
  },
  {
   "cell_type": "code",
   "execution_count": 19,
   "metadata": {},
   "outputs": [
    {
     "data": {
      "text/html": [
       "<div>\n",
       "<style scoped>\n",
       "    .dataframe tbody tr th:only-of-type {\n",
       "        vertical-align: middle;\n",
       "    }\n",
       "\n",
       "    .dataframe tbody tr th {\n",
       "        vertical-align: top;\n",
       "    }\n",
       "\n",
       "    .dataframe thead th {\n",
       "        text-align: right;\n",
       "    }\n",
       "</style>\n",
       "<table border=\"1\" class=\"dataframe\">\n",
       "  <thead>\n",
       "    <tr style=\"text-align: right;\">\n",
       "      <th></th>\n",
       "      <th>id</th>\n",
       "      <th>o_result</th>\n",
       "      <th>cnt</th>\n",
       "    </tr>\n",
       "  </thead>\n",
       "  <tbody>\n",
       "    <tr>\n",
       "      <th>0</th>\n",
       "      <td>73918802</td>\n",
       "      <td>0</td>\n",
       "      <td>5</td>\n",
       "    </tr>\n",
       "    <tr>\n",
       "      <th>1</th>\n",
       "      <td>73918849</td>\n",
       "      <td>1</td>\n",
       "      <td>5</td>\n",
       "    </tr>\n",
       "    <tr>\n",
       "      <th>2</th>\n",
       "      <td>73918869</td>\n",
       "      <td>1</td>\n",
       "      <td>5</td>\n",
       "    </tr>\n",
       "    <tr>\n",
       "      <th>3</th>\n",
       "      <td>73918893</td>\n",
       "      <td>0</td>\n",
       "      <td>5</td>\n",
       "    </tr>\n",
       "    <tr>\n",
       "      <th>4</th>\n",
       "      <td>73918967</td>\n",
       "      <td>0</td>\n",
       "      <td>5</td>\n",
       "    </tr>\n",
       "    <tr>\n",
       "      <th>...</th>\n",
       "      <td>...</td>\n",
       "      <td>...</td>\n",
       "      <td>...</td>\n",
       "    </tr>\n",
       "    <tr>\n",
       "      <th>1172</th>\n",
       "      <td>74953548</td>\n",
       "      <td>1</td>\n",
       "      <td>5</td>\n",
       "    </tr>\n",
       "    <tr>\n",
       "      <th>1173</th>\n",
       "      <td>74953559</td>\n",
       "      <td>1</td>\n",
       "      <td>5</td>\n",
       "    </tr>\n",
       "    <tr>\n",
       "      <th>1176</th>\n",
       "      <td>74953599</td>\n",
       "      <td>1</td>\n",
       "      <td>5</td>\n",
       "    </tr>\n",
       "    <tr>\n",
       "      <th>1179</th>\n",
       "      <td>74953917</td>\n",
       "      <td>1</td>\n",
       "      <td>5</td>\n",
       "    </tr>\n",
       "    <tr>\n",
       "      <th>1182</th>\n",
       "      <td>74954042</td>\n",
       "      <td>1</td>\n",
       "      <td>5</td>\n",
       "    </tr>\n",
       "  </tbody>\n",
       "</table>\n",
       "<p>616 rows × 3 columns</p>\n",
       "</div>"
      ],
      "text/plain": [
       "            id o_result  cnt\n",
       "0     73918802        0    5\n",
       "1     73918849        1    5\n",
       "2     73918869        1    5\n",
       "3     73918893        0    5\n",
       "4     73918967        0    5\n",
       "...        ...      ...  ...\n",
       "1172  74953548        1    5\n",
       "1173  74953559        1    5\n",
       "1176  74953599        1    5\n",
       "1179  74953917        1    5\n",
       "1182  74954042        1    5\n",
       "\n",
       "[616 rows x 3 columns]"
      ]
     },
     "execution_count": 19,
     "metadata": {},
     "output_type": "execute_result"
    }
   ],
   "source": [
    "chk_cnt"
   ]
  },
  {
   "cell_type": "code",
   "execution_count": 20,
   "metadata": {},
   "outputs": [],
   "source": [
    "m_chk_cnt = pd.merge(chk_cnt, qdf, on = 'id')"
   ]
  },
  {
   "cell_type": "code",
   "execution_count": 21,
   "metadata": {},
   "outputs": [
    {
     "data": {
      "text/html": [
       "<div>\n",
       "<style scoped>\n",
       "    .dataframe tbody tr th:only-of-type {\n",
       "        vertical-align: middle;\n",
       "    }\n",
       "\n",
       "    .dataframe tbody tr th {\n",
       "        vertical-align: top;\n",
       "    }\n",
       "\n",
       "    .dataframe thead th {\n",
       "        text-align: right;\n",
       "    }\n",
       "</style>\n",
       "<table border=\"1\" class=\"dataframe\">\n",
       "  <thead>\n",
       "    <tr style=\"text-align: right;\">\n",
       "      <th></th>\n",
       "      <th>id</th>\n",
       "      <th>o_result</th>\n",
       "      <th>cnt</th>\n",
       "      <th>creationdate</th>\n",
       "    </tr>\n",
       "  </thead>\n",
       "  <tbody>\n",
       "    <tr>\n",
       "      <th>0</th>\n",
       "      <td>73918802</td>\n",
       "      <td>0</td>\n",
       "      <td>5</td>\n",
       "      <td>2022-10-01 13:48:24.653</td>\n",
       "    </tr>\n",
       "    <tr>\n",
       "      <th>1</th>\n",
       "      <td>73918849</td>\n",
       "      <td>1</td>\n",
       "      <td>5</td>\n",
       "      <td>2022-10-01 13:55:32.917</td>\n",
       "    </tr>\n",
       "    <tr>\n",
       "      <th>2</th>\n",
       "      <td>73918869</td>\n",
       "      <td>1</td>\n",
       "      <td>5</td>\n",
       "      <td>2022-10-01 13:57:28.427</td>\n",
       "    </tr>\n",
       "    <tr>\n",
       "      <th>3</th>\n",
       "      <td>73918893</td>\n",
       "      <td>0</td>\n",
       "      <td>5</td>\n",
       "      <td>2022-10-01 14:01:03.843</td>\n",
       "    </tr>\n",
       "    <tr>\n",
       "      <th>4</th>\n",
       "      <td>73918967</td>\n",
       "      <td>0</td>\n",
       "      <td>5</td>\n",
       "      <td>2022-10-01 14:09:03.393</td>\n",
       "    </tr>\n",
       "  </tbody>\n",
       "</table>\n",
       "</div>"
      ],
      "text/plain": [
       "         id o_result  cnt            creationdate\n",
       "0  73918802        0    5 2022-10-01 13:48:24.653\n",
       "1  73918849        1    5 2022-10-01 13:55:32.917\n",
       "2  73918869        1    5 2022-10-01 13:57:28.427\n",
       "3  73918893        0    5 2022-10-01 14:01:03.843\n",
       "4  73918967        0    5 2022-10-01 14:09:03.393"
      ]
     },
     "execution_count": 21,
     "metadata": {},
     "output_type": "execute_result"
    }
   ],
   "source": [
    "m_chk_cnt.head()"
   ]
  },
  {
   "cell_type": "code",
   "execution_count": 22,
   "metadata": {},
   "outputs": [],
   "source": [
    "m_chk_cnt['creation_year'] = pd.to_datetime(m_chk_cnt['creationdate']).dt.year\n",
    "m_chk_cnt['creation_month'] = pd.to_datetime(m_chk_cnt['creationdate']).dt.month\n",
    "m_chk_cnt['creation_day'] = pd.to_datetime(m_chk_cnt['creationdate']).dt.day\n",
    "m_chk_cnt['creation_date'] = pd.to_datetime(m_chk_cnt['creationdate']).dt.date"
   ]
  },
  {
   "cell_type": "code",
   "execution_count": 23,
   "metadata": {},
   "outputs": [
    {
     "data": {
      "text/html": [
       "<div>\n",
       "<style scoped>\n",
       "    .dataframe tbody tr th:only-of-type {\n",
       "        vertical-align: middle;\n",
       "    }\n",
       "\n",
       "    .dataframe tbody tr th {\n",
       "        vertical-align: top;\n",
       "    }\n",
       "\n",
       "    .dataframe thead th {\n",
       "        text-align: right;\n",
       "    }\n",
       "</style>\n",
       "<table border=\"1\" class=\"dataframe\">\n",
       "  <thead>\n",
       "    <tr style=\"text-align: right;\">\n",
       "      <th></th>\n",
       "      <th>id</th>\n",
       "      <th>o_result</th>\n",
       "      <th>cnt</th>\n",
       "      <th>creationdate</th>\n",
       "      <th>creation_year</th>\n",
       "      <th>creation_month</th>\n",
       "      <th>creation_day</th>\n",
       "      <th>creation_date</th>\n",
       "    </tr>\n",
       "  </thead>\n",
       "  <tbody>\n",
       "    <tr>\n",
       "      <th>0</th>\n",
       "      <td>73918802</td>\n",
       "      <td>0</td>\n",
       "      <td>5</td>\n",
       "      <td>2022-10-01 13:48:24.653</td>\n",
       "      <td>2022</td>\n",
       "      <td>10</td>\n",
       "      <td>1</td>\n",
       "      <td>2022-10-01</td>\n",
       "    </tr>\n",
       "    <tr>\n",
       "      <th>1</th>\n",
       "      <td>73918849</td>\n",
       "      <td>1</td>\n",
       "      <td>5</td>\n",
       "      <td>2022-10-01 13:55:32.917</td>\n",
       "      <td>2022</td>\n",
       "      <td>10</td>\n",
       "      <td>1</td>\n",
       "      <td>2022-10-01</td>\n",
       "    </tr>\n",
       "    <tr>\n",
       "      <th>2</th>\n",
       "      <td>73918869</td>\n",
       "      <td>1</td>\n",
       "      <td>5</td>\n",
       "      <td>2022-10-01 13:57:28.427</td>\n",
       "      <td>2022</td>\n",
       "      <td>10</td>\n",
       "      <td>1</td>\n",
       "      <td>2022-10-01</td>\n",
       "    </tr>\n",
       "    <tr>\n",
       "      <th>3</th>\n",
       "      <td>73918893</td>\n",
       "      <td>0</td>\n",
       "      <td>5</td>\n",
       "      <td>2022-10-01 14:01:03.843</td>\n",
       "      <td>2022</td>\n",
       "      <td>10</td>\n",
       "      <td>1</td>\n",
       "      <td>2022-10-01</td>\n",
       "    </tr>\n",
       "    <tr>\n",
       "      <th>4</th>\n",
       "      <td>73918967</td>\n",
       "      <td>0</td>\n",
       "      <td>5</td>\n",
       "      <td>2022-10-01 14:09:03.393</td>\n",
       "      <td>2022</td>\n",
       "      <td>10</td>\n",
       "      <td>1</td>\n",
       "      <td>2022-10-01</td>\n",
       "    </tr>\n",
       "    <tr>\n",
       "      <th>5</th>\n",
       "      <td>73919032</td>\n",
       "      <td>1</td>\n",
       "      <td>5</td>\n",
       "      <td>2022-10-01 14:17:04.077</td>\n",
       "      <td>2022</td>\n",
       "      <td>10</td>\n",
       "      <td>1</td>\n",
       "      <td>2022-10-01</td>\n",
       "    </tr>\n",
       "    <tr>\n",
       "      <th>6</th>\n",
       "      <td>73919262</td>\n",
       "      <td>1</td>\n",
       "      <td>5</td>\n",
       "      <td>2022-10-01 14:47:57.533</td>\n",
       "      <td>2022</td>\n",
       "      <td>10</td>\n",
       "      <td>1</td>\n",
       "      <td>2022-10-01</td>\n",
       "    </tr>\n",
       "    <tr>\n",
       "      <th>7</th>\n",
       "      <td>73919321</td>\n",
       "      <td>0</td>\n",
       "      <td>5</td>\n",
       "      <td>2022-10-01 14:57:19.183</td>\n",
       "      <td>2022</td>\n",
       "      <td>10</td>\n",
       "      <td>1</td>\n",
       "      <td>2022-10-01</td>\n",
       "    </tr>\n",
       "    <tr>\n",
       "      <th>8</th>\n",
       "      <td>73921712</td>\n",
       "      <td>0</td>\n",
       "      <td>5</td>\n",
       "      <td>2022-10-01 20:58:45.580</td>\n",
       "      <td>2022</td>\n",
       "      <td>10</td>\n",
       "      <td>1</td>\n",
       "      <td>2022-10-01</td>\n",
       "    </tr>\n",
       "    <tr>\n",
       "      <th>9</th>\n",
       "      <td>73921753</td>\n",
       "      <td>0</td>\n",
       "      <td>5</td>\n",
       "      <td>2022-10-01 21:07:55.157</td>\n",
       "      <td>2022</td>\n",
       "      <td>10</td>\n",
       "      <td>1</td>\n",
       "      <td>2022-10-01</td>\n",
       "    </tr>\n",
       "  </tbody>\n",
       "</table>\n",
       "</div>"
      ],
      "text/plain": [
       "         id o_result  cnt            creationdate  creation_year  \\\n",
       "0  73918802        0    5 2022-10-01 13:48:24.653           2022   \n",
       "1  73918849        1    5 2022-10-01 13:55:32.917           2022   \n",
       "2  73918869        1    5 2022-10-01 13:57:28.427           2022   \n",
       "3  73918893        0    5 2022-10-01 14:01:03.843           2022   \n",
       "4  73918967        0    5 2022-10-01 14:09:03.393           2022   \n",
       "5  73919032        1    5 2022-10-01 14:17:04.077           2022   \n",
       "6  73919262        1    5 2022-10-01 14:47:57.533           2022   \n",
       "7  73919321        0    5 2022-10-01 14:57:19.183           2022   \n",
       "8  73921712        0    5 2022-10-01 20:58:45.580           2022   \n",
       "9  73921753        0    5 2022-10-01 21:07:55.157           2022   \n",
       "\n",
       "   creation_month  creation_day creation_date  \n",
       "0              10             1    2022-10-01  \n",
       "1              10             1    2022-10-01  \n",
       "2              10             1    2022-10-01  \n",
       "3              10             1    2022-10-01  \n",
       "4              10             1    2022-10-01  \n",
       "5              10             1    2022-10-01  \n",
       "6              10             1    2022-10-01  \n",
       "7              10             1    2022-10-01  \n",
       "8              10             1    2022-10-01  \n",
       "9              10             1    2022-10-01  "
      ]
     },
     "execution_count": 23,
     "metadata": {},
     "output_type": "execute_result"
    }
   ],
   "source": [
    "m_chk_cnt.head(10)"
   ]
  },
  {
   "cell_type": "code",
   "execution_count": 24,
   "metadata": {},
   "outputs": [],
   "source": [
    "m_chk_cnt = m_chk_cnt.groupby(['creation_date', 'o_result']).count().reset_index()[['creation_date'\t,'o_result',\t'id']]"
   ]
  },
  {
   "cell_type": "code",
   "execution_count": 25,
   "metadata": {},
   "outputs": [],
   "source": [
    "tot_df = m_chk_cnt.groupby(['creation_date']).sum().reset_index()[['creation_date', 'id']]"
   ]
  },
  {
   "cell_type": "code",
   "execution_count": 26,
   "metadata": {},
   "outputs": [],
   "source": [
    "tot_df = tot_df.rename(columns={'id':'tot'})"
   ]
  },
  {
   "cell_type": "code",
   "execution_count": 28,
   "metadata": {},
   "outputs": [],
   "source": [
    "m_chk_cnt = pd.merge(m_chk_cnt, tot_df, on = 'creation_date')"
   ]
  },
  {
   "cell_type": "code",
   "execution_count": 44,
   "metadata": {},
   "outputs": [],
   "source": [
    "m_chk_cnt['rate'] = m_chk_cnt['id']/m_chk_cnt['tot']*100"
   ]
  },
  {
   "cell_type": "code",
   "execution_count": 53,
   "metadata": {},
   "outputs": [],
   "source": [
    "m_chk_cnt = m_chk_cnt.set_index('creation_date')"
   ]
  },
  {
   "cell_type": "code",
   "execution_count": 54,
   "metadata": {},
   "outputs": [],
   "source": [
    "m_chk_cnt_0 = m_chk_cnt[m_chk_cnt['o_result'] =='0']\n",
    "m_chk_cnt_1 = m_chk_cnt[m_chk_cnt['o_result'] =='1']\n",
    "m_chk_cnt_2 = m_chk_cnt[m_chk_cnt['o_result'] =='2']"
   ]
  },
  {
   "cell_type": "code",
   "execution_count": 55,
   "metadata": {},
   "outputs": [
    {
     "data": {
      "text/html": [
       "<div>\n",
       "<style scoped>\n",
       "    .dataframe tbody tr th:only-of-type {\n",
       "        vertical-align: middle;\n",
       "    }\n",
       "\n",
       "    .dataframe tbody tr th {\n",
       "        vertical-align: top;\n",
       "    }\n",
       "\n",
       "    .dataframe thead th {\n",
       "        text-align: right;\n",
       "    }\n",
       "</style>\n",
       "<table border=\"1\" class=\"dataframe\">\n",
       "  <thead>\n",
       "    <tr style=\"text-align: right;\">\n",
       "      <th></th>\n",
       "      <th>o_result</th>\n",
       "      <th>id</th>\n",
       "      <th>tot</th>\n",
       "      <th>rate</th>\n",
       "    </tr>\n",
       "    <tr>\n",
       "      <th>creation_date</th>\n",
       "      <th></th>\n",
       "      <th></th>\n",
       "      <th></th>\n",
       "      <th></th>\n",
       "    </tr>\n",
       "  </thead>\n",
       "  <tbody>\n",
       "    <tr>\n",
       "      <th>2022-10-01</th>\n",
       "      <td>0</td>\n",
       "      <td>7</td>\n",
       "      <td>13</td>\n",
       "      <td>53.846154</td>\n",
       "    </tr>\n",
       "    <tr>\n",
       "      <th>2022-10-02</th>\n",
       "      <td>0</td>\n",
       "      <td>2</td>\n",
       "      <td>8</td>\n",
       "      <td>25.000000</td>\n",
       "    </tr>\n",
       "    <tr>\n",
       "      <th>2022-10-03</th>\n",
       "      <td>0</td>\n",
       "      <td>4</td>\n",
       "      <td>6</td>\n",
       "      <td>66.666667</td>\n",
       "    </tr>\n",
       "    <tr>\n",
       "      <th>2022-10-05</th>\n",
       "      <td>0</td>\n",
       "      <td>1</td>\n",
       "      <td>7</td>\n",
       "      <td>14.285714</td>\n",
       "    </tr>\n",
       "    <tr>\n",
       "      <th>2022-10-06</th>\n",
       "      <td>0</td>\n",
       "      <td>1</td>\n",
       "      <td>7</td>\n",
       "      <td>14.285714</td>\n",
       "    </tr>\n",
       "  </tbody>\n",
       "</table>\n",
       "</div>"
      ],
      "text/plain": [
       "              o_result  id  tot       rate\n",
       "creation_date                             \n",
       "2022-10-01           0   7   13  53.846154\n",
       "2022-10-02           0   2    8  25.000000\n",
       "2022-10-03           0   4    6  66.666667\n",
       "2022-10-05           0   1    7  14.285714\n",
       "2022-10-06           0   1    7  14.285714"
      ]
     },
     "execution_count": 55,
     "metadata": {},
     "output_type": "execute_result"
    }
   ],
   "source": [
    "m_chk_cnt_0.head()"
   ]
  },
  {
   "cell_type": "code",
   "execution_count": 56,
   "metadata": {},
   "outputs": [
    {
     "data": {
      "image/png": "[encoded data removed]",
      "text/plain": [
       "<Figure size 1000x500 with 1 Axes>"
      ]
     },
     "metadata": {},
     "output_type": "display_data"
    }
   ],
   "source": [
    "fig, ax = plt.subplots( figsize = (10, 5), sharey=True, sharex=True)\n",
    "\n",
    "ax.plot(m_chk_cnt_0.rate, # specify data\n",
    "        color = 'red',\n",
    "        label = 'Basic',\n",
    "        marker='*',\n",
    "        linestyle='--',\n",
    ") \n",
    "\n",
    "ax.plot(m_chk_cnt_1.rate, # specify data\n",
    "        color = 'yellow',\n",
    "        label = 'Intermediate',\n",
    "        marker='*',\n",
    "        linestyle='--',\n",
    ") \n",
    "\n",
    "\n",
    "ax.plot(m_chk_cnt_2.rate, # specify data\n",
    "        color = 'green',\n",
    "        label = 'Advanced',\n",
    "        marker='*',\n",
    "        linestyle='--',\n",
    ") \n",
    "\n",
    "ax.legend(loc = 'upper left', fontsize = 10) # add legend\n",
    "\n",
    "plt.tight_layout()  \n",
    "# plt.yscale('log');\n",
    "# plt.xscale('log');\n",
    "plt.show();"
   ]
  },
  {
   "cell_type": "code",
   "execution_count": null,
   "metadata": {},
   "outputs": [],
   "source": []
  }
 ],
 "metadata": {
  "kernelspec": {
   "display_name": "venv_stackoverflow_src",
   "language": "python",
   "name": "python3"
  },
  "language_info": {
   "codemirror_mode": {
    "name": "ipython",
    "version": 3
   },
   "file_extension": ".py",
   "mimetype": "text/x-python",
   "name": "python",
   "nbconvert_exporter": "python",
   "pygments_lexer": "ipython3",
   "version": "3.10.12"
  }
 },
 "nbformat": 4,
 "nbformat_minor": 2
}
