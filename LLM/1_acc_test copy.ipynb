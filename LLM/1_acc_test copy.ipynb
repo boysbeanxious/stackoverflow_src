{
 "cells": [
  {
   "cell_type": "code",
   "execution_count": 1,
   "metadata": {},
   "outputs": [],
   "source": [
    "import sys, os\n",
    "p = os.path.abspath('..')\n",
    "# p = p+r'\\config'\n",
    "sys.path.insert(1, p)"
   ]
  },
  {
   "cell_type": "code",
   "execution_count": 2,
   "metadata": {},
   "outputs": [],
   "source": [
    "import lib.annotation.D_Annotation as da\n",
    "import tqdm\n"
   ]
  },
  {
   "cell_type": "code",
   "execution_count": null,
   "metadata": {},
   "outputs": [
    {
     "name": "stdout",
     "output_type": "stream",
     "text": [
      "Task l_1_10_Y_sys_prompt2 시작\n",
      "Task l_1_10_Y_sys_prompt2 실행 중: 0Task l_1_10_N_sys_prompt2 시작\n",
      "\n",
      "Task l_2_10_Y_sys_prompt2 시작Task l_1_10_N_sys_prompt2 실행 중: 0\n",
      "\n",
      "Task l_2_10_Y_sys_prompt2 실행 중: 0Task l_2_10_N_sys_prompt2 시작\n",
      "\n",
      "Task l_2_10_N_sys_prompt2 실행 중: 0Task l_3_10_Y_sys_prompt2 시작\n",
      "\n",
      "Task l_3_10_Y_sys_prompt2 실행 중: 0\n",
      "Task l_3_10_N_sys_prompt2 시작\n",
      "Task l_3_10_N_sys_prompt2 실행 중: 0\n"
     ]
    },
    {
     "name": "stderr",
     "output_type": "stream",
     "text": [
      "10it [06:57, 41.77s/it]\n"
     ]
    },
    {
     "name": "stdout",
     "output_type": "stream",
     "text": [
      "Task l_1_10_N_sys_prompt2 실행 중: 1\n"
     ]
    },
    {
     "name": "stderr",
     "output_type": "stream",
     "text": [
      "10it [07:20, 44.05s/it]\n"
     ]
    },
    {
     "name": "stdout",
     "output_type": "stream",
     "text": [
      "Task l_1_10_Y_sys_prompt2 실행 중: 1\n"
     ]
    },
    {
     "name": "stderr",
     "output_type": "stream",
     "text": [
      "10it [08:50, 53.07s/it]\n"
     ]
    },
    {
     "name": "stdout",
     "output_type": "stream",
     "text": [
      "Task l_3_10_Y_sys_prompt2 실행 중: 1\n"
     ]
    },
    {
     "name": "stderr",
     "output_type": "stream",
     "text": [
      "10it [08:51, 53.11s/it]\n"
     ]
    },
    {
     "name": "stdout",
     "output_type": "stream",
     "text": [
      "Task l_2_10_Y_sys_prompt2 실행 중: 1\n"
     ]
    },
    {
     "name": "stderr",
     "output_type": "stream",
     "text": [
      "10it [09:48, 58.82s/it]\n"
     ]
    },
    {
     "name": "stdout",
     "output_type": "stream",
     "text": [
      "Task l_2_10_N_sys_prompt2 실행 중: 1\n"
     ]
    },
    {
     "name": "stderr",
     "output_type": "stream",
     "text": [
      "10it [09:57, 59.77s/it]\n"
     ]
    },
    {
     "name": "stdout",
     "output_type": "stream",
     "text": [
      "Task l_3_10_N_sys_prompt2 실행 중: 1\n"
     ]
    },
    {
     "name": "stderr",
     "output_type": "stream",
     "text": [
      "4it [03:40, 53.59s/it]"
     ]
    }
   ],
   "source": [
    "from multiprocessing import Process\n",
    "    \n",
    "def task(llm_model, few_shot_n, test_n, q_src_yn, ver, p_ver):\n",
    "\n",
    "    print(f\"Task {llm_model}_{few_shot_n}_{test_n}_{q_src_yn}_{p_ver} 시작\")\n",
    "    for i in range(ver):\n",
    "        print(f\"Task {llm_model}_{few_shot_n}_{test_n}_{q_src_yn}_{p_ver} 실행 중: {i}\")\n",
    "        da.D_Annotation(  llm_model\n",
    "                        , few_shot_n\n",
    "                        , test_n\n",
    "                        , q_src_yn\n",
    "                        , i\n",
    "                        , p_ver)  \n",
    "    \n",
    "    print(f\"Task {llm_model}_{few_shot_n}_{test_n}_{q_src_yn}_{p_ver} 완료\")\n",
    "\n",
    "if __name__ == \"__main__\":\n",
    "    process1 = Process(target=task, args=('l', 1, 10, 'Y', 10, 'sys_prompt1'))\n",
    "    process2 = Process(target=task, args=('l', 1, 10, 'N', 10, 'sys_prompt1'))\n",
    "\n",
    "    process3 = Process(target=task, args=('l', 2, 10, 'Y', 10, 'sys_prompt1'))\n",
    "    process4 = Process(target=task, args=('l', 2, 10, 'N', 10, 'sys_prompt1'))\n",
    "\n",
    "    process5 = Process(target=task, args=('l', 3, 10, 'Y', 10, 'sys_prompt1'))\n",
    "    process6 = Process(target=task, args=('l', 3, 10, 'N', 10, 'sys_prompt1'))\n",
    "    \n",
    "    process1.start()\n",
    "    process2.start()\n",
    "    process3.start()\n",
    "    process4.start()\n",
    "    process5.start()\n",
    "    process6.start()\n",
    "    \n",
    "    process1.join()\n",
    "    process2.join()\n",
    "    process3.join()\n",
    "    process4.join()\n",
    "    process5.join()\n",
    "    process6.join()\n",
    "    print(\"모든 작업 완료\")"
   ]
  },
  {
   "cell_type": "code",
   "execution_count": null,
   "metadata": {},
   "outputs": [
    {
     "name": "stdout",
     "output_type": "stream",
     "text": [
      "Task l_1_10_Y_sys_prompt2 시작\n",
      "Task l_1_10_Y_sys_prompt2 실행 중: 0Task l_1_10_N_sys_prompt2 시작\n",
      "\n",
      "Task l_2_10_Y_sys_prompt2 시작Task l_1_10_N_sys_prompt2 실행 중: 0\n",
      "\n",
      "Task l_2_10_Y_sys_prompt2 실행 중: 0Task l_2_10_N_sys_prompt2 시작\n",
      "\n",
      "Task l_2_10_N_sys_prompt2 실행 중: 0Task l_3_10_Y_sys_prompt2 시작\n",
      "\n",
      "Task l_3_10_Y_sys_prompt2 실행 중: 0\n",
      "Task l_3_10_N_sys_prompt2 시작\n",
      "Task l_3_10_N_sys_prompt2 실행 중: 0\n"
     ]
    },
    {
     "name": "stderr",
     "output_type": "stream",
     "text": [
      "10it [06:57, 41.77s/it]\n"
     ]
    },
    {
     "name": "stdout",
     "output_type": "stream",
     "text": [
      "Task l_1_10_N_sys_prompt2 실행 중: 1\n"
     ]
    },
    {
     "name": "stderr",
     "output_type": "stream",
     "text": [
      "10it [07:20, 44.05s/it]\n"
     ]
    },
    {
     "name": "stdout",
     "output_type": "stream",
     "text": [
      "Task l_1_10_Y_sys_prompt2 실행 중: 1\n"
     ]
    },
    {
     "name": "stderr",
     "output_type": "stream",
     "text": [
      "10it [08:50, 53.07s/it]\n"
     ]
    },
    {
     "name": "stdout",
     "output_type": "stream",
     "text": [
      "Task l_3_10_Y_sys_prompt2 실행 중: 1\n"
     ]
    },
    {
     "name": "stderr",
     "output_type": "stream",
     "text": [
      "10it [08:51, 53.11s/it]\n"
     ]
    },
    {
     "name": "stdout",
     "output_type": "stream",
     "text": [
      "Task l_2_10_Y_sys_prompt2 실행 중: 1\n"
     ]
    },
    {
     "name": "stderr",
     "output_type": "stream",
     "text": [
      "10it [09:48, 58.82s/it]\n"
     ]
    },
    {
     "name": "stdout",
     "output_type": "stream",
     "text": [
      "Task l_2_10_N_sys_prompt2 실행 중: 1\n"
     ]
    },
    {
     "name": "stderr",
     "output_type": "stream",
     "text": [
      "10it [09:57, 59.77s/it]\n"
     ]
    },
    {
     "name": "stdout",
     "output_type": "stream",
     "text": [
      "Task l_3_10_N_sys_prompt2 실행 중: 1\n"
     ]
    },
    {
     "name": "stderr",
     "output_type": "stream",
     "text": [
      "4it [03:40, 53.59s/it]"
     ]
    }
   ],
   "source": [
    "from multiprocessing import Process\n",
    "    \n",
    "def task(llm_model, few_shot_n, test_n, q_src_yn, ver, p_ver):\n",
    "\n",
    "    print(f\"Task {llm_model}_{few_shot_n}_{test_n}_{q_src_yn}_{p_ver} 시작\")\n",
    "    for i in range(ver):\n",
    "        print(f\"Task {llm_model}_{few_shot_n}_{test_n}_{q_src_yn}_{p_ver} 실행 중: {i}\")\n",
    "        da.D_Annotation(  llm_model\n",
    "                        , few_shot_n\n",
    "                        , test_n\n",
    "                        , q_src_yn\n",
    "                        , i\n",
    "                        , p_ver)  \n",
    "    \n",
    "    print(f\"Task {llm_model}_{few_shot_n}_{test_n}_{q_src_yn}_{p_ver} 완료\")\n",
    "\n",
    "if __name__ == \"__main__\":\n",
    "    process1 = Process(target=task, args=('l', 1, 10, 'Y', 10, 'sys_prompt2'))\n",
    "    process2 = Process(target=task, args=('l', 1, 10, 'N', 10, 'sys_prompt2'))\n",
    "\n",
    "    process3 = Process(target=task, args=('l', 2, 10, 'Y', 10, 'sys_prompt2'))\n",
    "    process4 = Process(target=task, args=('l', 2, 10, 'N', 10, 'sys_prompt2'))\n",
    "\n",
    "    process5 = Process(target=task, args=('l', 3, 10, 'Y', 10, 'sys_prompt2'))\n",
    "    process6 = Process(target=task, args=('l', 3, 10, 'N', 10, 'sys_prompt2'))\n",
    "    \n",
    "    process1.start()\n",
    "    process2.start()\n",
    "    process3.start()\n",
    "    process4.start()\n",
    "    process5.start()\n",
    "    process6.start()\n",
    "    \n",
    "    process1.join()\n",
    "    process2.join()\n",
    "    process3.join()\n",
    "    process4.join()\n",
    "    process5.join()\n",
    "    process6.join()\n",
    "    print(\"모든 작업 완료\")"
   ]
  },
  {
   "cell_type": "code",
   "execution_count": null,
   "metadata": {},
   "outputs": [],
   "source": []
  }
 ],
 "metadata": {
  "kernelspec": {
   "display_name": "venv_stackoverflow_src",
   "language": "python",
   "name": "python3"
  },
  "language_info": {
   "codemirror_mode": {
    "name": "ipython",
    "version": 3
   },
   "file_extension": ".py",
   "mimetype": "text/x-python",
   "name": "python",
   "nbconvert_exporter": "python",
   "pygments_lexer": "ipython3",
   "version": "3.10.12"
  }
 },
 "nbformat": 4,
 "nbformat_minor": 2
}
