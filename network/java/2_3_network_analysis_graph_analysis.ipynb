{
 "cells": [
  {
   "cell_type": "code",
   "execution_count": 2,
   "metadata": {},
   "outputs": [
    {
     "name": "stderr",
     "output_type": "stream",
     "text": [
      "/var/folders/lk/t243gzpx379bzd9mvx8dcsmm0000gp/T/ipykernel_91281/3872114279.py:2: DeprecationWarning: \n",
      "Pyarrow will become a required dependency of pandas in the next major release of pandas (pandas 3.0),\n",
      "(to allow more performant data types, such as the Arrow string type, and better interoperability with other libraries)\n",
      "but was not found to be installed on your system.\n",
      "If this would cause problems for you,\n",
      "please provide us feedback at https://github.com/pandas-dev/pandas/issues/54466\n",
      "        \n",
      "  import pandas as pd\n"
     ]
    },
    {
     "data": {
      "text/html": [
       "\n",
       "\t\t\t<script type=\"text/javascript\">\n",
       "\t\t\t<!--\n",
       "\t\t\t\t\n",
       "\t\t\t{\n",
       "\t\t\t\tvar element = document.getElementById('NetworKit_script');\n",
       "\t\t\t\tif (element) {\n",
       "\t\t\t\t\telement.parentNode.removeChild(element);\n",
       "\t\t\t\t}\n",
       "\t\t\t\telement = document.createElement('script');\n",
       "\t\t\t\telement.type = 'text/javascript';\n",
       "\t\t\t\telement.innerHTML = 'function NetworKit_pageEmbed(id) { var i, j; var elements; elements = document.getElementById(id).getElementsByClassName(\"Plot\"); for (i=0; i<elements.length; i++) { elements[i].id = id + \"_Plot_\" + i; var data = elements[i].getAttribute(\"data-image\").split(\"|\"); elements[i].removeAttribute(\"data-image\"); var content = \"<div class=\\\\\"Image\\\\\" id=\\\\\"\" + elements[i].id + \"_Image\\\\\" />\"; elements[i].innerHTML = content; elements[i].setAttribute(\"data-image-index\", 0); elements[i].setAttribute(\"data-image-length\", data.length); for (j=0; j<data.length; j++) { elements[i].setAttribute(\"data-image-\" + j, data[j]); } NetworKit_plotUpdate(elements[i]); elements[i].onclick = function (e) { NetworKit_overlayShow((e.target) ? e.target : e.srcElement); } } elements = document.getElementById(id).getElementsByClassName(\"HeatCell\"); for (i=0; i<elements.length; i++) { var data = parseFloat(elements[i].getAttribute(\"data-heat\")); var color = \"#00FF00\"; if (data <= 1 && data > 0) { color = \"hsla(0, 100%, 75%, \" + (data) + \")\"; } else if (data <= 0 && data >= -1) { color = \"hsla(240, 100%, 75%, \" + (-data) + \")\"; } elements[i].style.backgroundColor = color; } elements = document.getElementById(id).getElementsByClassName(\"Details\"); for (i=0; i<elements.length; i++) { elements[i].setAttribute(\"data-title\", \"-\"); NetworKit_toggleDetails(elements[i]); elements[i].onclick = function (e) { NetworKit_toggleDetails((e.target) ? e.target : e.srcElement); } } elements = document.getElementById(id).getElementsByClassName(\"MathValue\"); for (i=elements.length-1; i>=0; i--) { value = elements[i].innerHTML.trim(); if (value === \"nan\") { elements[i].parentNode.innerHTML = \"\" } } elements = document.getElementById(id).getElementsByClassName(\"SubCategory\"); for (i=elements.length-1; i>=0; i--) { value = elements[i].innerHTML.trim(); if (value === \"\") { elements[i].parentNode.removeChild(elements[i]) } } elements = document.getElementById(id).getElementsByClassName(\"Category\"); for (i=elements.length-1; i>=0; i--) { value = elements[i].innerHTML.trim(); if (value === \"\") { elements[i].parentNode.removeChild(elements[i]) } } var isFirefox = false; try { isFirefox = typeof InstallTrigger !== \"undefined\"; } catch (e) {} if (!isFirefox) { alert(\"Currently the function\\'s output is only fully supported by Firefox.\"); } } function NetworKit_plotUpdate(source) { var index = source.getAttribute(\"data-image-index\"); var data = source.getAttribute(\"data-image-\" + index); var image = document.getElementById(source.id + \"_Image\"); image.style.backgroundImage = \"url(\" + data + \")\"; } function NetworKit_showElement(id, show) { var element = document.getElementById(id); element.style.display = (show) ? \"block\" : \"none\"; } function NetworKit_overlayShow(source) { NetworKit_overlayUpdate(source); NetworKit_showElement(\"NetworKit_Overlay\", true); } function NetworKit_overlayUpdate(source) { document.getElementById(\"NetworKit_Overlay_Title\").innerHTML = source.title; var index = source.getAttribute(\"data-image-index\"); var data = source.getAttribute(\"data-image-\" + index); var image = document.getElementById(\"NetworKit_Overlay_Image\"); image.setAttribute(\"data-id\", source.id); image.style.backgroundImage = \"url(\" + data + \")\"; var link = document.getElementById(\"NetworKit_Overlay_Toolbar_Bottom_Save\"); link.href = data; link.download = source.title + \".svg\"; } function NetworKit_overlayImageShift(delta) { var image = document.getElementById(\"NetworKit_Overlay_Image\"); var source = document.getElementById(image.getAttribute(\"data-id\")); var index = parseInt(source.getAttribute(\"data-image-index\")); var length = parseInt(source.getAttribute(\"data-image-length\")); var index = (index+delta) % length; if (index < 0) { index = length + index; } source.setAttribute(\"data-image-index\", index); NetworKit_overlayUpdate(source); } function NetworKit_toggleDetails(source) { var childs = source.children; var show = false; if (source.getAttribute(\"data-title\") == \"-\") { source.setAttribute(\"data-title\", \"+\"); show = false; } else { source.setAttribute(\"data-title\", \"-\"); show = true; } for (i=0; i<childs.length; i++) { if (show) { childs[i].style.display = \"block\"; } else { childs[i].style.display = \"none\"; } } }';\n",
       "\t\t\t\telement.setAttribute('id', 'NetworKit_script');\n",
       "\t\t\t\tdocument.head.appendChild(element);\n",
       "\t\t\t}\n",
       "\t\t\n",
       "\t\t\t\t\n",
       "\t\t\t{\n",
       "\t\t\t\tvar element = document.getElementById('NetworKit_style');\n",
       "\t\t\t\tif (element) {\n",
       "\t\t\t\t\telement.parentNode.removeChild(element);\n",
       "\t\t\t\t}\n",
       "\t\t\t\telement = document.createElement('style');\n",
       "\t\t\t\telement.type = 'text/css';\n",
       "\t\t\t\telement.innerHTML = '.NetworKit_Page { font-family: Arial, Helvetica, sans-serif; font-size: 14px; } .NetworKit_Page .Value:before { font-family: Arial, Helvetica, sans-serif; font-size: 1.05em; content: attr(data-title) \":\"; margin-left: -2.5em; padding-right: 0.5em; } .NetworKit_Page .Details .Value:before { display: block; } .NetworKit_Page .Value { font-family: monospace; white-space: pre; padding-left: 2.5em; white-space: -moz-pre-wrap !important; white-space: -pre-wrap; white-space: -o-pre-wrap; white-space: pre-wrap; word-wrap: break-word; tab-size: 4; -moz-tab-size: 4; } .NetworKit_Page .Category { clear: both; padding-left: 1em; margin-bottom: 1.5em; } .NetworKit_Page .Category:before { content: attr(data-title); font-size: 1.75em; display: block; margin-left: -0.8em; margin-bottom: 0.5em; } .NetworKit_Page .SubCategory { margin-bottom: 1.5em; padding-left: 1em; } .NetworKit_Page .SubCategory:before { font-size: 1.6em; display: block; margin-left: -0.8em; margin-bottom: 0.5em; } .NetworKit_Page .SubCategory[data-title]:before { content: attr(data-title); } .NetworKit_Page .Block { display: block; } .NetworKit_Page .Block:after { content: \".\"; visibility: hidden; display: block; height: 0; clear: both; } .NetworKit_Page .Block .Thumbnail_Overview, .NetworKit_Page .Block .Thumbnail_ScatterPlot { width: 260px; float: left; } .NetworKit_Page .Block .Thumbnail_Overview img, .NetworKit_Page .Block .Thumbnail_ScatterPlot img { width: 260px; } .NetworKit_Page .Block .Thumbnail_Overview:before, .NetworKit_Page .Block .Thumbnail_ScatterPlot:before { display: block; text-align: center; font-weight: bold; } .NetworKit_Page .Block .Thumbnail_Overview:before { content: attr(data-title); } .NetworKit_Page .HeatCell { font-family: \"Courier New\", Courier, monospace; cursor: pointer; } .NetworKit_Page .HeatCell, .NetworKit_Page .HeatCellName { display: inline; padding: 0.1em; margin-right: 2px; background-color: #FFFFFF } .NetworKit_Page .HeatCellName { margin-left: 0.25em; } .NetworKit_Page .HeatCell:before { content: attr(data-heat); display: inline-block; color: #000000; width: 4em; text-align: center; } .NetworKit_Page .Measure { clear: both; } .NetworKit_Page .Measure .Details { cursor: pointer; } .NetworKit_Page .Measure .Details:before { content: \"[\" attr(data-title) \"]\"; display: block; } .NetworKit_Page .Measure .Details .Value { border-left: 1px dotted black; margin-left: 0.4em; padding-left: 3.5em; pointer-events: none; } .NetworKit_Page .Measure .Details .Spacer:before { content: \".\"; opacity: 0.0; pointer-events: none; } .NetworKit_Page .Measure .Plot { width: 440px; height: 440px; cursor: pointer; float: left; margin-left: -0.9em; margin-right: 20px; } .NetworKit_Page .Measure .Plot .Image { background-repeat: no-repeat; background-position: center center; background-size: contain; height: 100%; pointer-events: none; } .NetworKit_Page .Measure .Stat { width: 500px; float: left; } .NetworKit_Page .Measure .Stat .Group { padding-left: 1.25em; margin-bottom: 0.75em; } .NetworKit_Page .Measure .Stat .Group .Title { font-size: 1.1em; display: block; margin-bottom: 0.3em; margin-left: -0.75em; border-right-style: dotted; border-right-width: 1px; border-bottom-style: dotted; border-bottom-width: 1px; background-color: #D0D0D0; padding-left: 0.2em; } .NetworKit_Page .Measure .Stat .Group .List { -webkit-column-count: 3; -moz-column-count: 3; column-count: 3; } .NetworKit_Page .Measure .Stat .Group .List .Entry { position: relative; line-height: 1.75em; } .NetworKit_Page .Measure .Stat .Group .List .Entry[data-tooltip]:before { position: absolute; left: 0; top: -40px; background-color: #808080; color: #ffffff; height: 30px; line-height: 30px; border-radius: 5px; padding: 0 15px; content: attr(data-tooltip); white-space: nowrap; display: none; } .NetworKit_Page .Measure .Stat .Group .List .Entry[data-tooltip]:after { position: absolute; left: 15px; top: -10px; border-top: 7px solid #808080; border-left: 7px solid transparent; border-right: 7px solid transparent; content: \"\"; display: none; } .NetworKit_Page .Measure .Stat .Group .List .Entry[data-tooltip]:hover:after, .NetworKit_Page .Measure .Stat .Group .List .Entry[data-tooltip]:hover:before { display: block; } .NetworKit_Page .Measure .Stat .Group .List .Entry .MathValue { font-family: \"Courier New\", Courier, monospace; } .NetworKit_Page .Measure:after { content: \".\"; visibility: hidden; display: block; height: 0; clear: both; } .NetworKit_Page .PartitionPie { clear: both; } .NetworKit_Page .PartitionPie img { width: 600px; } #NetworKit_Overlay { left: 0px; top: 0px; display: none; position: absolute; width: 100%; height: 100%; background-color: rgba(0,0,0,0.6); z-index: 1000; } #NetworKit_Overlay_Title { position: absolute; color: white; transform: rotate(-90deg); width: 32em; height: 32em; padding-right: 0.5em; padding-top: 0.5em; text-align: right; font-size: 40px; } #NetworKit_Overlay .button { background: white; cursor: pointer; } #NetworKit_Overlay .button:before { size: 13px; display: inline-block; text-align: center; margin-top: 0.5em; margin-bottom: 0.5em; width: 1.5em; height: 1.5em; } #NetworKit_Overlay .icon-close:before { content: \"X\"; } #NetworKit_Overlay .icon-previous:before { content: \"P\"; } #NetworKit_Overlay .icon-next:before { content: \"N\"; } #NetworKit_Overlay .icon-save:before { content: \"S\"; } #NetworKit_Overlay_Toolbar_Top, #NetworKit_Overlay_Toolbar_Bottom { position: absolute; width: 40px; right: 13px; text-align: right; z-index: 1100; } #NetworKit_Overlay_Toolbar_Top { top: 0.5em; } #NetworKit_Overlay_Toolbar_Bottom { Bottom: 0.5em; } #NetworKit_Overlay_ImageContainer { position: absolute; top: 5%; left: 5%; height: 90%; width: 90%; background-repeat: no-repeat; background-position: center center; background-size: contain; } #NetworKit_Overlay_Image { height: 100%; width: 100%; background-repeat: no-repeat; background-position: center center; background-size: contain; }';\n",
       "\t\t\t\telement.setAttribute('id', 'NetworKit_style');\n",
       "\t\t\t\tdocument.head.appendChild(element);\n",
       "\t\t\t}\n",
       "\t\t\n",
       "\t\t\t\t\n",
       "\t\t\t{\n",
       "\t\t\t\tvar element = document.getElementById('NetworKit_Overlay');\n",
       "\t\t\t\tif (element) {\n",
       "\t\t\t\t\telement.parentNode.removeChild(element);\n",
       "\t\t\t\t}\n",
       "\t\t\t\telement = document.createElement('div');\n",
       "\t\t\t\telement.innerHTML = '<div id=\"NetworKit_Overlay_Toolbar_Top\"><div class=\"button icon-close\" id=\"NetworKit_Overlay_Close\" /></div><div id=\"NetworKit_Overlay_Title\" /> <div id=\"NetworKit_Overlay_ImageContainer\"> <div id=\"NetworKit_Overlay_Image\" /> </div> <div id=\"NetworKit_Overlay_Toolbar_Bottom\"> <div class=\"button icon-previous\" onclick=\"NetworKit_overlayImageShift(-1)\" /> <div class=\"button icon-next\" onclick=\"NetworKit_overlayImageShift(1)\" /> <a id=\"NetworKit_Overlay_Toolbar_Bottom_Save\"><div class=\"button icon-save\" /></a> </div>';\n",
       "\t\t\t\telement.setAttribute('id', 'NetworKit_Overlay');\n",
       "\t\t\t\tdocument.body.appendChild(element);\n",
       "\t\t\t\tdocument.getElementById('NetworKit_Overlay_Close').onclick = function (e) {\n",
       "\t\t\t\t\tdocument.getElementById('NetworKit_Overlay').style.display = 'none';\n",
       "\t\t\t\t}\n",
       "\t\t\t}\n",
       "\t\t\n",
       "\t\t\t-->\n",
       "\t\t\t</script>\n",
       "\t\t"
      ]
     },
     "metadata": {},
     "output_type": "display_data"
    }
   ],
   "source": [
    "import psycopg2\n",
    "import pandas as pd\n",
    "import seaborn as sns\n",
    "import matplotlib.pyplot as plt\n",
    "import networkx as nx\n",
    "import numpy as np\n",
    "import time\n",
    "import pprint\n",
    "import metis\n",
    "import networkit as nk\n",
    "from networkit import vizbridges\n",
    "import pickle\n",
    "# import powerlaw"
   ]
  },
  {
   "cell_type": "code",
   "execution_count": 3,
   "metadata": {},
   "outputs": [],
   "source": [
    "# 파일 불러오기\n",
    "with open('../../data/df.pkl', 'rb') as f:\n",
    "    df = pickle.load(f)\n"
   ]
  },
  {
   "cell_type": "code",
   "execution_count": 4,
   "metadata": {},
   "outputs": [],
   "source": [
    "# 파일 불러오기\n",
    "with open('../../data/df_qna.pkl', 'rb') as f:\n",
    "    df_qna = pickle.load(f)"
   ]
  },
  {
   "cell_type": "code",
   "execution_count": 5,
   "metadata": {},
   "outputs": [
    {
     "data": {
      "text/plain": [
       "Timestamp('2023-08-03 01:04:49.693000')"
      ]
     },
     "execution_count": 5,
     "metadata": {},
     "output_type": "execute_result"
    }
   ],
   "source": [
    "df['q_creationdate'].min()"
   ]
  },
  {
   "cell_type": "code",
   "execution_count": 6,
   "metadata": {},
   "outputs": [],
   "source": [
    "df_gephi = df[['q_owneruserid', 'a_owneruserid']]"
   ]
  },
  {
   "cell_type": "code",
   "execution_count": 7,
   "metadata": {},
   "outputs": [],
   "source": [
    "df_gephi.columns = ['Source', 'Target']"
   ]
  },
  {
   "cell_type": "code",
   "execution_count": 8,
   "metadata": {},
   "outputs": [],
   "source": [
    "node = np.unique(np.append(df_gephi['Source'].values, df_gephi['Target'].values))"
   ]
  },
  {
   "cell_type": "code",
   "execution_count": 9,
   "metadata": {},
   "outputs": [],
   "source": [
    "# 질문자->답변자 로 edgelist 생성\n",
    "edgelist = list(zip(df_gephi['Source'], df_gephi['Target']))"
   ]
  },
  {
   "cell_type": "code",
   "execution_count": 10,
   "metadata": {},
   "outputs": [],
   "source": [
    "di_github = nx.DiGraph()\n",
    "di_github.add_nodes_from(node)\n",
    "di_github.add_edges_from(edgelist)\n",
    "\n",
    "github = nx.from_pandas_edgelist(df,  source='q_owneruserid', target='a_owneruserid')"
   ]
  },
  {
   "cell_type": "code",
   "execution_count": 11,
   "metadata": {},
   "outputs": [],
   "source": [
    "di_github_nk = nk.nxadapter.nx2nk(di_github)\n",
    "github_nk = nk.nxadapter.nx2nk(github)"
   ]
  },
  {
   "cell_type": "code",
   "execution_count": 12,
   "metadata": {},
   "outputs": [
    {
     "name": "stdout",
     "output_type": "stream",
     "text": [
      "11392 11996\n"
     ]
    }
   ],
   "source": [
    "print(di_github_nk.numberOfNodes(), di_github_nk.numberOfEdges())"
   ]
  },
  {
   "cell_type": "markdown",
   "metadata": {},
   "source": [
    "### Core Decomposition"
   ]
  },
  {
   "cell_type": "code",
   "execution_count": 13,
   "metadata": {},
   "outputs": [],
   "source": [
    "rm_github_nk = github_nk.removeSelfLoops()"
   ]
  },
  {
   "cell_type": "code",
   "execution_count": 14,
   "metadata": {},
   "outputs": [
    {
     "data": {
      "text/plain": [
       "NoneType"
      ]
     },
     "execution_count": 14,
     "metadata": {},
     "output_type": "execute_result"
    }
   ],
   "source": [
    "type(rm_github_nk)"
   ]
  },
  {
   "cell_type": "code",
   "execution_count": 15,
   "metadata": {},
   "outputs": [
    {
     "data": {
      "text/plain": [
       "<networkit.centrality.CoreDecomposition at 0x2dda9be20>"
      ]
     },
     "execution_count": 15,
     "metadata": {},
     "output_type": "execute_result"
    }
   ],
   "source": [
    "coreDec = nk.centrality.CoreDecomposition(github_nk)\n",
    "coreDec.run()\n",
    "# direct 라 안되는데\n",
    "# untimeError: Core Decomposition implementation does not support graphs with self-loops. Call Graph.removeSelfLoops() first."
   ]
  },
  {
   "cell_type": "code",
   "execution_count": 16,
   "metadata": {},
   "outputs": [],
   "source": [
    "# nk.gephi.pyclient.GephiClient(url='http://116.45.16.200:5999/workspace0', autoflush=False)\n",
    "# gsc = nk.gephi.streaming.GephiStreamingClient(url='http://116.45.16.200:5999/workspace1')\n",
    "# gsc = nk.gephi.streaming.GephiStreamingClient(url='http://143.248.106.43:7777/workspace1')\n",
    "# gsc = nk.gephi.streaming.GephiStreamingClient(url='http://143.248.106.43:7777/workspace2')\n",
    "gsc = nk.gephi.streaming.GephiStreamingClient(url='http://localhost:7777/workspace1')\n"
   ]
  },
  {
   "cell_type": "code",
   "execution_count": 17,
   "metadata": {},
   "outputs": [],
   "source": [
    "# test = nk.gephi.streaming.GephiStreamingClient(url='http://localhost:8080/workspace1')"
   ]
  },
  {
   "cell_type": "code",
   "execution_count": 18,
   "metadata": {},
   "outputs": [],
   "source": [
    "# test = nk.gephi.streaming.GephiStreamingClient(url='http://116.45.16.200:8080/workspace2')"
   ]
  },
  {
   "cell_type": "code",
   "execution_count": 19,
   "metadata": {},
   "outputs": [],
   "source": [
    "# test.exportGraph(di_github_nk)"
   ]
  },
  {
   "cell_type": "code",
   "execution_count": 20,
   "metadata": {},
   "outputs": [
    {
     "name": "stdout",
     "output_type": "stream",
     "text": [
      "Could not connect to the gephi streaming plugin.\n",
      "Did you start the streaming master server in gephi and provide the name of your workspace?\n",
      "If the workspace is named 'Workspace 0', the corresponding url is http://localhost:8080/workspace0 (adapt port)\n"
     ]
    }
   ],
   "source": [
    "gsc.exportGraph(di_github_nk)"
   ]
  },
  {
   "cell_type": "code",
   "execution_count": 21,
   "metadata": {},
   "outputs": [],
   "source": [
    "# nk.vizbridges.widgetFromGraph(github_nk, dimension = nk.vizbridges.Dimension.Two, nodeScores = coreDec.scores())"
   ]
  },
  {
   "cell_type": "code",
   "execution_count": 22,
   "metadata": {},
   "outputs": [
    {
     "data": {
      "text/plain": [
       "<networkit.graph.Graph at 0x1071fbd40>"
      ]
     },
     "execution_count": 22,
     "metadata": {},
     "output_type": "execute_result"
    }
   ],
   "source": [
    "di_github_nk\n",
    "# 1762"
   ]
  },
  {
   "cell_type": "code",
   "execution_count": 23,
   "metadata": {},
   "outputs": [
    {
     "data": {
      "text/plain": [
       "2376954"
      ]
     },
     "execution_count": 23,
     "metadata": {},
     "output_type": "execute_result"
    }
   ],
   "source": [
    "list(di_github.nodes())[1762]"
   ]
  },
  {
   "cell_type": "code",
   "execution_count": 24,
   "metadata": {},
   "outputs": [
    {
     "data": {
      "text/plain": [
       "10542284"
      ]
     },
     "execution_count": 24,
     "metadata": {},
     "output_type": "execute_result"
    }
   ],
   "source": [
    "list(di_github.nodes())[5115]"
   ]
  },
  {
   "cell_type": "code",
   "execution_count": 31,
   "metadata": {},
   "outputs": [
    {
     "data": {
      "text/plain": [
       "17758716"
      ]
     },
     "execution_count": 31,
     "metadata": {},
     "output_type": "execute_result"
    }
   ],
   "source": [
    "list(di_github.nodes())[7498]"
   ]
  },
  {
   "cell_type": "code",
   "execution_count": 29,
   "metadata": {},
   "outputs": [
    {
     "data": {
      "text/html": [
       "<div>\n",
       "<style scoped>\n",
       "    .dataframe tbody tr th:only-of-type {\n",
       "        vertical-align: middle;\n",
       "    }\n",
       "\n",
       "    .dataframe tbody tr th {\n",
       "        vertical-align: top;\n",
       "    }\n",
       "\n",
       "    .dataframe thead th {\n",
       "        text-align: right;\n",
       "    }\n",
       "</style>\n",
       "<table border=\"1\" class=\"dataframe\">\n",
       "  <thead>\n",
       "    <tr style=\"text-align: right;\">\n",
       "      <th></th>\n",
       "      <th>q_id</th>\n",
       "      <th>q_posttypeid</th>\n",
       "      <th>q_acceptedanswerid</th>\n",
       "      <th>q_parentid</th>\n",
       "      <th>q_creationdate</th>\n",
       "      <th>q_score</th>\n",
       "      <th>q_viewcount</th>\n",
       "      <th>q_owneruserid</th>\n",
       "      <th>q_title</th>\n",
       "      <th>q_tags</th>\n",
       "      <th>...</th>\n",
       "      <th>a_parentid</th>\n",
       "      <th>a_creationdate</th>\n",
       "      <th>a_score</th>\n",
       "      <th>a_viewcount</th>\n",
       "      <th>a_owneruserid</th>\n",
       "      <th>a_title</th>\n",
       "      <th>a_tags</th>\n",
       "      <th>a_answercount</th>\n",
       "      <th>a_commentcount</th>\n",
       "      <th>a_reputation</th>\n",
       "    </tr>\n",
       "  </thead>\n",
       "  <tbody>\n",
       "    <tr>\n",
       "      <th>25</th>\n",
       "      <td>77574127</td>\n",
       "      <td>1</td>\n",
       "      <td>NaN</td>\n",
       "      <td>None</td>\n",
       "      <td>2023-11-29 19:52:09.290</td>\n",
       "      <td>0</td>\n",
       "      <td>71</td>\n",
       "      <td>1919389</td>\n",
       "      <td>Java - Exception without interrupting program</td>\n",
       "      <td>java exception arraylist</td>\n",
       "      <td>...</td>\n",
       "      <td>77574127</td>\n",
       "      <td>2023-11-29 20:07:08.440</td>\n",
       "      <td>0</td>\n",
       "      <td>None</td>\n",
       "      <td>17758716</td>\n",
       "      <td>None</td>\n",
       "      <td>None</td>\n",
       "      <td>None</td>\n",
       "      <td>0</td>\n",
       "      <td>1</td>\n",
       "    </tr>\n",
       "    <tr>\n",
       "      <th>173</th>\n",
       "      <td>77565205</td>\n",
       "      <td>1</td>\n",
       "      <td>NaN</td>\n",
       "      <td>None</td>\n",
       "      <td>2023-11-28 15:40:50.723</td>\n",
       "      <td>2</td>\n",
       "      <td>73</td>\n",
       "      <td>23001366</td>\n",
       "      <td>How to get index of a string in an a list</td>\n",
       "      <td>java json codeigniter encoding</td>\n",
       "      <td>...</td>\n",
       "      <td>77565205</td>\n",
       "      <td>2023-11-28 18:39:31.647</td>\n",
       "      <td>0</td>\n",
       "      <td>None</td>\n",
       "      <td>17758716</td>\n",
       "      <td>None</td>\n",
       "      <td>None</td>\n",
       "      <td>None</td>\n",
       "      <td>0</td>\n",
       "      <td>1</td>\n",
       "    </tr>\n",
       "    <tr>\n",
       "      <th>190</th>\n",
       "      <td>77566706</td>\n",
       "      <td>1</td>\n",
       "      <td>NaN</td>\n",
       "      <td>None</td>\n",
       "      <td>2023-11-28 19:36:17.640</td>\n",
       "      <td>0</td>\n",
       "      <td>54</td>\n",
       "      <td>13363175</td>\n",
       "      <td>Collectors example question on Lambda functions</td>\n",
       "      <td>java</td>\n",
       "      <td>...</td>\n",
       "      <td>77566706</td>\n",
       "      <td>2023-11-28 20:37:27.923</td>\n",
       "      <td>0</td>\n",
       "      <td>None</td>\n",
       "      <td>17758716</td>\n",
       "      <td>None</td>\n",
       "      <td>None</td>\n",
       "      <td>None</td>\n",
       "      <td>0</td>\n",
       "      <td>1</td>\n",
       "    </tr>\n",
       "    <tr>\n",
       "      <th>203</th>\n",
       "      <td>77562561</td>\n",
       "      <td>1</td>\n",
       "      <td>NaN</td>\n",
       "      <td>None</td>\n",
       "      <td>2023-11-28 09:13:27.563</td>\n",
       "      <td>-1</td>\n",
       "      <td>51</td>\n",
       "      <td>22998701</td>\n",
       "      <td>Scanning the next line, but only to a certain ...</td>\n",
       "      <td>java string java.util.scanner maxlength</td>\n",
       "      <td>...</td>\n",
       "      <td>77562561</td>\n",
       "      <td>2023-11-28 21:32:18.010</td>\n",
       "      <td>0</td>\n",
       "      <td>None</td>\n",
       "      <td>17758716</td>\n",
       "      <td>None</td>\n",
       "      <td>None</td>\n",
       "      <td>None</td>\n",
       "      <td>0</td>\n",
       "      <td>1</td>\n",
       "    </tr>\n",
       "    <tr>\n",
       "      <th>205</th>\n",
       "      <td>77567742</td>\n",
       "      <td>1</td>\n",
       "      <td>NaN</td>\n",
       "      <td>None</td>\n",
       "      <td>2023-11-28 23:26:37.360</td>\n",
       "      <td>0</td>\n",
       "      <td>51</td>\n",
       "      <td>20028948</td>\n",
       "      <td>How to advance row-major and wrap around rows ...</td>\n",
       "      <td>java arrays multidimensional-array char</td>\n",
       "      <td>...</td>\n",
       "      <td>77567742</td>\n",
       "      <td>2023-11-29 02:17:31.923</td>\n",
       "      <td>1</td>\n",
       "      <td>None</td>\n",
       "      <td>17758716</td>\n",
       "      <td>None</td>\n",
       "      <td>None</td>\n",
       "      <td>None</td>\n",
       "      <td>0</td>\n",
       "      <td>1</td>\n",
       "    </tr>\n",
       "    <tr>\n",
       "      <th>...</th>\n",
       "      <td>...</td>\n",
       "      <td>...</td>\n",
       "      <td>...</td>\n",
       "      <td>...</td>\n",
       "      <td>...</td>\n",
       "      <td>...</td>\n",
       "      <td>...</td>\n",
       "      <td>...</td>\n",
       "      <td>...</td>\n",
       "      <td>...</td>\n",
       "      <td>...</td>\n",
       "      <td>...</td>\n",
       "      <td>...</td>\n",
       "      <td>...</td>\n",
       "      <td>...</td>\n",
       "      <td>...</td>\n",
       "      <td>...</td>\n",
       "      <td>...</td>\n",
       "      <td>...</td>\n",
       "      <td>...</td>\n",
       "      <td>...</td>\n",
       "    </tr>\n",
       "    <tr>\n",
       "      <th>11887</th>\n",
       "      <td>76833588</td>\n",
       "      <td>1</td>\n",
       "      <td>NaN</td>\n",
       "      <td>None</td>\n",
       "      <td>2023-08-04 06:54:08.890</td>\n",
       "      <td>0</td>\n",
       "      <td>56</td>\n",
       "      <td>1781423</td>\n",
       "      <td>How to access and process Fields of Type Map i...</td>\n",
       "      <td>java reflection</td>\n",
       "      <td>...</td>\n",
       "      <td>76833588</td>\n",
       "      <td>2023-08-07 04:56:39.560</td>\n",
       "      <td>0</td>\n",
       "      <td>None</td>\n",
       "      <td>17758716</td>\n",
       "      <td>None</td>\n",
       "      <td>None</td>\n",
       "      <td>None</td>\n",
       "      <td>1</td>\n",
       "      <td>1</td>\n",
       "    </tr>\n",
       "    <tr>\n",
       "      <th>11914</th>\n",
       "      <td>76843490</td>\n",
       "      <td>1</td>\n",
       "      <td>76843513.0</td>\n",
       "      <td>None</td>\n",
       "      <td>2023-08-05 20:49:43.767</td>\n",
       "      <td>0</td>\n",
       "      <td>83</td>\n",
       "      <td>9784846</td>\n",
       "      <td>Compare string with toString() representation ...</td>\n",
       "      <td>java enums switch-statement</td>\n",
       "      <td>...</td>\n",
       "      <td>76843490</td>\n",
       "      <td>2023-08-05 21:51:28.217</td>\n",
       "      <td>0</td>\n",
       "      <td>None</td>\n",
       "      <td>17758716</td>\n",
       "      <td>None</td>\n",
       "      <td>None</td>\n",
       "      <td>None</td>\n",
       "      <td>5</td>\n",
       "      <td>1</td>\n",
       "    </tr>\n",
       "    <tr>\n",
       "      <th>11924</th>\n",
       "      <td>76843148</td>\n",
       "      <td>1</td>\n",
       "      <td>77034207.0</td>\n",
       "      <td>None</td>\n",
       "      <td>2023-08-05 19:07:44.470</td>\n",
       "      <td>4</td>\n",
       "      <td>1400</td>\n",
       "      <td>12905411</td>\n",
       "      <td>Find longest sum for array and given days</td>\n",
       "      <td>java algorithm</td>\n",
       "      <td>...</td>\n",
       "      <td>76843148</td>\n",
       "      <td>2023-08-05 22:51:58.427</td>\n",
       "      <td>0</td>\n",
       "      <td>None</td>\n",
       "      <td>17758716</td>\n",
       "      <td>None</td>\n",
       "      <td>None</td>\n",
       "      <td>None</td>\n",
       "      <td>5</td>\n",
       "      <td>1</td>\n",
       "    </tr>\n",
       "    <tr>\n",
       "      <th>11930</th>\n",
       "      <td>76841455</td>\n",
       "      <td>1</td>\n",
       "      <td>76842619.0</td>\n",
       "      <td>None</td>\n",
       "      <td>2023-08-05 11:37:08.453</td>\n",
       "      <td>1</td>\n",
       "      <td>79</td>\n",
       "      <td>7768127</td>\n",
       "      <td>How to match a complex string using Negative l...</td>\n",
       "      <td>java regex</td>\n",
       "      <td>...</td>\n",
       "      <td>76841455</td>\n",
       "      <td>2023-08-05 23:28:30.267</td>\n",
       "      <td>0</td>\n",
       "      <td>None</td>\n",
       "      <td>17758716</td>\n",
       "      <td>None</td>\n",
       "      <td>None</td>\n",
       "      <td>None</td>\n",
       "      <td>0</td>\n",
       "      <td>1</td>\n",
       "    </tr>\n",
       "    <tr>\n",
       "      <th>11982</th>\n",
       "      <td>76842266</td>\n",
       "      <td>1</td>\n",
       "      <td>NaN</td>\n",
       "      <td>None</td>\n",
       "      <td>2023-08-05 15:12:40.587</td>\n",
       "      <td>0</td>\n",
       "      <td>184</td>\n",
       "      <td>22343964</td>\n",
       "      <td>How to store data in a file in internal storag...</td>\n",
       "      <td>java android</td>\n",
       "      <td>...</td>\n",
       "      <td>76842266</td>\n",
       "      <td>2023-08-05 20:27:31.537</td>\n",
       "      <td>0</td>\n",
       "      <td>None</td>\n",
       "      <td>17758716</td>\n",
       "      <td>None</td>\n",
       "      <td>None</td>\n",
       "      <td>None</td>\n",
       "      <td>0</td>\n",
       "      <td>1</td>\n",
       "    </tr>\n",
       "  </tbody>\n",
       "</table>\n",
       "<p>362 rows × 26 columns</p>\n",
       "</div>"
      ],
      "text/plain": [
       "           q_id q_posttypeid  q_acceptedanswerid q_parentid  \\\n",
       "25     77574127            1                 NaN       None   \n",
       "173    77565205            1                 NaN       None   \n",
       "190    77566706            1                 NaN       None   \n",
       "203    77562561            1                 NaN       None   \n",
       "205    77567742            1                 NaN       None   \n",
       "...         ...          ...                 ...        ...   \n",
       "11887  76833588            1                 NaN       None   \n",
       "11914  76843490            1          76843513.0       None   \n",
       "11924  76843148            1          77034207.0       None   \n",
       "11930  76841455            1          76842619.0       None   \n",
       "11982  76842266            1                 NaN       None   \n",
       "\n",
       "               q_creationdate  q_score  q_viewcount  q_owneruserid  \\\n",
       "25    2023-11-29 19:52:09.290        0           71        1919389   \n",
       "173   2023-11-28 15:40:50.723        2           73       23001366   \n",
       "190   2023-11-28 19:36:17.640        0           54       13363175   \n",
       "203   2023-11-28 09:13:27.563       -1           51       22998701   \n",
       "205   2023-11-28 23:26:37.360        0           51       20028948   \n",
       "...                       ...      ...          ...            ...   \n",
       "11887 2023-08-04 06:54:08.890        0           56        1781423   \n",
       "11914 2023-08-05 20:49:43.767        0           83        9784846   \n",
       "11924 2023-08-05 19:07:44.470        4         1400       12905411   \n",
       "11930 2023-08-05 11:37:08.453        1           79        7768127   \n",
       "11982 2023-08-05 15:12:40.587        0          184       22343964   \n",
       "\n",
       "                                                 q_title  \\\n",
       "25         Java - Exception without interrupting program   \n",
       "173            How to get index of a string in an a list   \n",
       "190      Collectors example question on Lambda functions   \n",
       "203    Scanning the next line, but only to a certain ...   \n",
       "205    How to advance row-major and wrap around rows ...   \n",
       "...                                                  ...   \n",
       "11887  How to access and process Fields of Type Map i...   \n",
       "11914  Compare string with toString() representation ...   \n",
       "11924          Find longest sum for array and given days   \n",
       "11930  How to match a complex string using Negative l...   \n",
       "11982  How to store data in a file in internal storag...   \n",
       "\n",
       "                                         q_tags  ...  a_parentid  \\\n",
       "25                    java exception arraylist   ...    77574127   \n",
       "173             java json codeigniter encoding   ...    77565205   \n",
       "190                                       java   ...    77566706   \n",
       "203    java string java.util.scanner maxlength   ...    77562561   \n",
       "205    java arrays multidimensional-array char   ...    77567742   \n",
       "...                                         ...  ...         ...   \n",
       "11887                          java reflection   ...    76833588   \n",
       "11914              java enums switch-statement   ...    76843490   \n",
       "11924                           java algorithm   ...    76843148   \n",
       "11930                               java regex   ...    76841455   \n",
       "11982                             java android   ...    76842266   \n",
       "\n",
       "               a_creationdate  a_score  a_viewcount a_owneruserid a_title  \\\n",
       "25    2023-11-29 20:07:08.440        0         None      17758716    None   \n",
       "173   2023-11-28 18:39:31.647        0         None      17758716    None   \n",
       "190   2023-11-28 20:37:27.923        0         None      17758716    None   \n",
       "203   2023-11-28 21:32:18.010        0         None      17758716    None   \n",
       "205   2023-11-29 02:17:31.923        1         None      17758716    None   \n",
       "...                       ...      ...          ...           ...     ...   \n",
       "11887 2023-08-07 04:56:39.560        0         None      17758716    None   \n",
       "11914 2023-08-05 21:51:28.217        0         None      17758716    None   \n",
       "11924 2023-08-05 22:51:58.427        0         None      17758716    None   \n",
       "11930 2023-08-05 23:28:30.267        0         None      17758716    None   \n",
       "11982 2023-08-05 20:27:31.537        0         None      17758716    None   \n",
       "\n",
       "       a_tags a_answercount  a_commentcount a_reputation  \n",
       "25       None          None               0            1  \n",
       "173      None          None               0            1  \n",
       "190      None          None               0            1  \n",
       "203      None          None               0            1  \n",
       "205      None          None               0            1  \n",
       "...       ...           ...             ...          ...  \n",
       "11887    None          None               1            1  \n",
       "11914    None          None               5            1  \n",
       "11924    None          None               5            1  \n",
       "11930    None          None               0            1  \n",
       "11982    None          None               0            1  \n",
       "\n",
       "[362 rows x 26 columns]"
      ]
     },
     "execution_count": 29,
     "metadata": {},
     "output_type": "execute_result"
    }
   ],
   "source": [
    "# java spring 내에서 가장 답변을 많이 한 17758716 \n",
    "# in degree 가 높은 사람들의 질문에 답하기 보다는 상대적으로 낮은 사람들에게 답을 해줬다 \n",
    "# why?\n",
    "df[(df['q_owneruserid']==list(di_github.nodes())[7498])|(df['a_owneruserid']==list(di_github.nodes())[7498])]"
   ]
  },
  {
   "cell_type": "code",
   "execution_count": 28,
   "metadata": {},
   "outputs": [
    {
     "data": {
      "text/html": [
       "<div>\n",
       "<style scoped>\n",
       "    .dataframe tbody tr th:only-of-type {\n",
       "        vertical-align: middle;\n",
       "    }\n",
       "\n",
       "    .dataframe tbody tr th {\n",
       "        vertical-align: top;\n",
       "    }\n",
       "\n",
       "    .dataframe thead th {\n",
       "        text-align: right;\n",
       "    }\n",
       "</style>\n",
       "<table border=\"1\" class=\"dataframe\">\n",
       "  <thead>\n",
       "    <tr style=\"text-align: right;\">\n",
       "      <th></th>\n",
       "      <th>q_id</th>\n",
       "      <th>q_posttypeid</th>\n",
       "      <th>q_acceptedanswerid</th>\n",
       "      <th>q_parentid</th>\n",
       "      <th>q_creationdate</th>\n",
       "      <th>q_score</th>\n",
       "      <th>q_viewcount</th>\n",
       "      <th>q_owneruserid</th>\n",
       "      <th>q_title</th>\n",
       "      <th>q_tags</th>\n",
       "      <th>...</th>\n",
       "      <th>a_parentid</th>\n",
       "      <th>a_creationdate</th>\n",
       "      <th>a_score</th>\n",
       "      <th>a_viewcount</th>\n",
       "      <th>a_owneruserid</th>\n",
       "      <th>a_title</th>\n",
       "      <th>a_tags</th>\n",
       "      <th>a_answercount</th>\n",
       "      <th>a_commentcount</th>\n",
       "      <th>a_reputation</th>\n",
       "    </tr>\n",
       "  </thead>\n",
       "  <tbody>\n",
       "    <tr>\n",
       "      <th>5847</th>\n",
       "      <td>77228792</td>\n",
       "      <td>1</td>\n",
       "      <td>NaN</td>\n",
       "      <td>None</td>\n",
       "      <td>2023-10-04 10:30:49.673</td>\n",
       "      <td>0</td>\n",
       "      <td>43</td>\n",
       "      <td>16802243</td>\n",
       "      <td>getting ElementClickInterceptedException in th...</td>\n",
       "      <td>java selenium-webdriver selenium-chromedriver ...</td>\n",
       "      <td>...</td>\n",
       "      <td>77228792</td>\n",
       "      <td>2023-10-04 11:43:47.417</td>\n",
       "      <td>0</td>\n",
       "      <td>None</td>\n",
       "      <td>1751801</td>\n",
       "      <td>None</td>\n",
       "      <td>None</td>\n",
       "      <td>None</td>\n",
       "      <td>2</td>\n",
       "      <td>1497</td>\n",
       "    </tr>\n",
       "    <tr>\n",
       "      <th>6649</th>\n",
       "      <td>77177966</td>\n",
       "      <td>1</td>\n",
       "      <td>NaN</td>\n",
       "      <td>None</td>\n",
       "      <td>2023-09-26 07:47:04.080</td>\n",
       "      <td>-1</td>\n",
       "      <td>37</td>\n",
       "      <td>16802243</td>\n",
       "      <td>I can't able to create a node in my local machine</td>\n",
       "      <td>java selenium-webdriver selenium-chromedriver ...</td>\n",
       "      <td>...</td>\n",
       "      <td>77177966</td>\n",
       "      <td>2023-09-26 07:53:16.117</td>\n",
       "      <td>0</td>\n",
       "      <td>None</td>\n",
       "      <td>22531817</td>\n",
       "      <td>None</td>\n",
       "      <td>None</td>\n",
       "      <td>None</td>\n",
       "      <td>0</td>\n",
       "      <td>119</td>\n",
       "    </tr>\n",
       "  </tbody>\n",
       "</table>\n",
       "<p>2 rows × 26 columns</p>\n",
       "</div>"
      ],
      "text/plain": [
       "          q_id q_posttypeid  q_acceptedanswerid q_parentid  \\\n",
       "5847  77228792            1                 NaN       None   \n",
       "6649  77177966            1                 NaN       None   \n",
       "\n",
       "              q_creationdate  q_score  q_viewcount  q_owneruserid  \\\n",
       "5847 2023-10-04 10:30:49.673        0           43       16802243   \n",
       "6649 2023-09-26 07:47:04.080       -1           37       16802243   \n",
       "\n",
       "                                                q_title  \\\n",
       "5847  getting ElementClickInterceptedException in th...   \n",
       "6649  I can't able to create a node in my local machine   \n",
       "\n",
       "                                                 q_tags  ...  a_parentid  \\\n",
       "5847  java selenium-webdriver selenium-chromedriver ...  ...    77228792   \n",
       "6649  java selenium-webdriver selenium-chromedriver ...  ...    77177966   \n",
       "\n",
       "              a_creationdate  a_score  a_viewcount a_owneruserid a_title  \\\n",
       "5847 2023-10-04 11:43:47.417        0         None       1751801    None   \n",
       "6649 2023-09-26 07:53:16.117        0         None      22531817    None   \n",
       "\n",
       "      a_tags a_answercount  a_commentcount a_reputation  \n",
       "5847    None          None               2         1497  \n",
       "6649    None          None               0          119  \n",
       "\n",
       "[2 rows x 26 columns]"
      ]
     },
     "execution_count": 28,
     "metadata": {},
     "output_type": "execute_result"
    }
   ],
   "source": [
    "df[(df['q_owneruserid']==list(di_github.nodes())[7221])|(df['a_owneruserid']==list(di_github.nodes())[7221])]"
   ]
  },
  {
   "cell_type": "markdown",
   "metadata": {},
   "source": [
    "### 고군분투한 포인트  \n",
    "시각화 해서 노드 간의 전반적인 관계를 보고 싶은데, 현재 환경에서 바로 네트워크 그래프를 볼 수 있는 방법이 없음...  \n",
    "* 서브 그래프를 그리는 방법\n",
    "    * centrality기반으로 주요노드들 추출한 다음에 해당 노드를 포함하는 그래프를 서브 그래프로 그려보기(closeness/betweenness)\n",
    "    * community detection 결과로 나뉘어진 그룹기준으로 서브 그래프 그려보기(방향 없는 그래프로 변환 후 그려야 함)\n",
    "\n"
   ]
  }
 ],
 "metadata": {
  "kernelspec": {
   "display_name": "Python 3 (ipykernel)",
   "language": "python",
   "name": "python3"
  },
  "language_info": {
   "codemirror_mode": {
    "name": "ipython",
    "version": 3
   },
   "file_extension": ".py",
   "mimetype": "text/x-python",
   "name": "python",
   "nbconvert_exporter": "python",
   "pygments_lexer": "ipython3",
   "version": "3.9.6"
  }
 },
 "nbformat": 4,
 "nbformat_minor": 4
}
