{
 "cells": [
  {
   "cell_type": "code",
   "execution_count": 2,
   "metadata": {},
   "outputs": [],
   "source": [
    "import sys, os\n",
    "p = os.path.abspath('..')\n",
    "pp = os.path.abspath('../..')\n",
    "sys.path.insert(1, p)\n",
    "sys.path.insert(1, pp)"
   ]
  },
  {
   "cell_type": "code",
   "execution_count": 38,
   "metadata": {},
   "outputs": [],
   "source": [
    "import pandas as pd\n",
    "import seaborn as sns\n",
    "import matplotlib.pyplot as plt\n",
    "import numpy as np\n",
    "import pickle\n",
    "import config.config as conf\n",
    "import networkx as nx"
   ]
  },
  {
   "cell_type": "code",
   "execution_count": 4,
   "metadata": {},
   "outputs": [],
   "source": [
    "# 파일 불러오기\n",
    "with open(f'{conf.DATA_PATH}/data/tag_net_py.pkl', 'rb') as f:\n",
    "    tag_net_py = pickle.load(f)\n"
   ]
  },
  {
   "cell_type": "code",
   "execution_count": 5,
   "metadata": {},
   "outputs": [],
   "source": [
    "# 파일 불러오기\n",
    "with open(f'{conf.DATA_PATH}/data/tag_net_java.pkl', 'rb') as f:\n",
    "    tag_net_java = pickle.load(f)\n"
   ]
  },
  {
   "cell_type": "code",
   "execution_count": 7,
   "metadata": {},
   "outputs": [],
   "source": [
    "tag_net_py['creationdate']      = pd.to_datetime(tag_net_py['creationdate'])\n",
    "tag_net_java['creationdate']    = pd.to_datetime(tag_net_java['creationdate'])"
   ]
  },
  {
   "cell_type": "code",
   "execution_count": 8,
   "metadata": {},
   "outputs": [
    {
     "data": {
      "text/html": [
       "<div>\n",
       "<style scoped>\n",
       "    .dataframe tbody tr th:only-of-type {\n",
       "        vertical-align: middle;\n",
       "    }\n",
       "\n",
       "    .dataframe tbody tr th {\n",
       "        vertical-align: top;\n",
       "    }\n",
       "\n",
       "    .dataframe thead th {\n",
       "        text-align: right;\n",
       "    }\n",
       "</style>\n",
       "<table border=\"1\" class=\"dataframe\">\n",
       "  <thead>\n",
       "    <tr style=\"text-align: right;\">\n",
       "      <th></th>\n",
       "      <th>id</th>\n",
       "      <th>creationdate</th>\n",
       "      <th>tags</th>\n",
       "    </tr>\n",
       "  </thead>\n",
       "  <tbody>\n",
       "    <tr>\n",
       "      <th>0</th>\n",
       "      <td>70162777</td>\n",
       "      <td>2021-11-30 00:08:54.470</td>\n",
       "      <td>&lt;java&gt;&lt;android&gt;&lt;asynchronous&gt;&lt;arraylist&gt;&lt;andro...</td>\n",
       "    </tr>\n",
       "    <tr>\n",
       "      <th>1</th>\n",
       "      <td>70162790</td>\n",
       "      <td>2021-11-30 00:11:20.733</td>\n",
       "      <td>&lt;java&gt;&lt;excel&gt;</td>\n",
       "    </tr>\n",
       "    <tr>\n",
       "      <th>2</th>\n",
       "      <td>70162808</td>\n",
       "      <td>2021-11-30 00:14:26.370</td>\n",
       "      <td>&lt;java&gt;&lt;jvm&gt;</td>\n",
       "    </tr>\n",
       "    <tr>\n",
       "      <th>3</th>\n",
       "      <td>70162810</td>\n",
       "      <td>2021-11-30 00:14:49.373</td>\n",
       "      <td>&lt;java&gt;&lt;spring-boot&gt;&lt;resttemplate&gt;&lt;mockrestserv...</td>\n",
       "    </tr>\n",
       "    <tr>\n",
       "      <th>4</th>\n",
       "      <td>70162880</td>\n",
       "      <td>2021-11-30 00:26:16.910</td>\n",
       "      <td>&lt;java&gt;&lt;json&gt;&lt;date&gt;&lt;jsonschema&gt;&lt;jsonschema2pojo&gt;</td>\n",
       "    </tr>\n",
       "  </tbody>\n",
       "</table>\n",
       "</div>"
      ],
      "text/plain": [
       "         id            creationdate  \\\n",
       "0  70162777 2021-11-30 00:08:54.470   \n",
       "1  70162790 2021-11-30 00:11:20.733   \n",
       "2  70162808 2021-11-30 00:14:26.370   \n",
       "3  70162810 2021-11-30 00:14:49.373   \n",
       "4  70162880 2021-11-30 00:26:16.910   \n",
       "\n",
       "                                                tags  \n",
       "0  <java><android><asynchronous><arraylist><andro...  \n",
       "1                                      <java><excel>  \n",
       "2                                        <java><jvm>  \n",
       "3  <java><spring-boot><resttemplate><mockrestserv...  \n",
       "4    <java><json><date><jsonschema><jsonschema2pojo>  "
      ]
     },
     "execution_count": 8,
     "metadata": {},
     "output_type": "execute_result"
    }
   ],
   "source": [
    "tag_net_java.head()"
   ]
  },
  {
   "cell_type": "code",
   "execution_count": 18,
   "metadata": {},
   "outputs": [],
   "source": [
    "tag_net_py['taglist'] = tag_net_py['tags'].apply(lambda x: [y for y in x.replace('><', ' ').replace('<', '').replace('>', '').strip().split(' ') if y !='python'])\n",
    "tag_net_java['taglist'] = tag_net_java['tags'].apply(lambda x: [y for y in x.replace('><', ' ').replace('<', '').replace('>', '').strip().split(' ') if y !='java'])"
   ]
  },
  {
   "cell_type": "code",
   "execution_count": 19,
   "metadata": {},
   "outputs": [
    {
     "data": {
      "text/html": [
       "<div>\n",
       "<style scoped>\n",
       "    .dataframe tbody tr th:only-of-type {\n",
       "        vertical-align: middle;\n",
       "    }\n",
       "\n",
       "    .dataframe tbody tr th {\n",
       "        vertical-align: top;\n",
       "    }\n",
       "\n",
       "    .dataframe thead th {\n",
       "        text-align: right;\n",
       "    }\n",
       "</style>\n",
       "<table border=\"1\" class=\"dataframe\">\n",
       "  <thead>\n",
       "    <tr style=\"text-align: right;\">\n",
       "      <th></th>\n",
       "      <th>id</th>\n",
       "      <th>creationdate</th>\n",
       "      <th>tags</th>\n",
       "      <th>taglist</th>\n",
       "    </tr>\n",
       "  </thead>\n",
       "  <tbody>\n",
       "    <tr>\n",
       "      <th>0</th>\n",
       "      <td>70162722</td>\n",
       "      <td>2021-11-30 00:00:11.787</td>\n",
       "      <td>&lt;python&gt;&lt;python-3.x&gt;&lt;unit-testing&gt;</td>\n",
       "      <td>[python-3.x, unit-testing]</td>\n",
       "    </tr>\n",
       "    <tr>\n",
       "      <th>1</th>\n",
       "      <td>70162741</td>\n",
       "      <td>2021-11-30 00:03:41.067</td>\n",
       "      <td>&lt;python&gt;&lt;pandas&gt;&lt;dataframe&gt;&lt;group-by&gt;&lt;data-ana...</td>\n",
       "      <td>[pandas, dataframe, group-by, data-analysis]</td>\n",
       "    </tr>\n",
       "    <tr>\n",
       "      <th>2</th>\n",
       "      <td>70162770</td>\n",
       "      <td>2021-11-30 00:07:54.443</td>\n",
       "      <td>&lt;python&gt;&lt;string&gt;&lt;find&gt;&lt;getvalue&gt;</td>\n",
       "      <td>[string, find, getvalue]</td>\n",
       "    </tr>\n",
       "    <tr>\n",
       "      <th>3</th>\n",
       "      <td>70162816</td>\n",
       "      <td>2021-11-30 00:15:44.530</td>\n",
       "      <td>&lt;python&gt;&lt;pandas&gt;&lt;csv&gt;</td>\n",
       "      <td>[pandas, csv]</td>\n",
       "    </tr>\n",
       "    <tr>\n",
       "      <th>4</th>\n",
       "      <td>70162820</td>\n",
       "      <td>2021-11-30 00:16:44.513</td>\n",
       "      <td>&lt;python&gt;&lt;pyspark&gt;&lt;window-functions&gt;</td>\n",
       "      <td>[pyspark, window-functions]</td>\n",
       "    </tr>\n",
       "  </tbody>\n",
       "</table>\n",
       "</div>"
      ],
      "text/plain": [
       "         id            creationdate  \\\n",
       "0  70162722 2021-11-30 00:00:11.787   \n",
       "1  70162741 2021-11-30 00:03:41.067   \n",
       "2  70162770 2021-11-30 00:07:54.443   \n",
       "3  70162816 2021-11-30 00:15:44.530   \n",
       "4  70162820 2021-11-30 00:16:44.513   \n",
       "\n",
       "                                                tags  \\\n",
       "0                 <python><python-3.x><unit-testing>   \n",
       "1  <python><pandas><dataframe><group-by><data-ana...   \n",
       "2                   <python><string><find><getvalue>   \n",
       "3                              <python><pandas><csv>   \n",
       "4                <python><pyspark><window-functions>   \n",
       "\n",
       "                                        taglist  \n",
       "0                    [python-3.x, unit-testing]  \n",
       "1  [pandas, dataframe, group-by, data-analysis]  \n",
       "2                      [string, find, getvalue]  \n",
       "3                                 [pandas, csv]  \n",
       "4                   [pyspark, window-functions]  "
      ]
     },
     "execution_count": 19,
     "metadata": {},
     "output_type": "execute_result"
    }
   ],
   "source": [
    "tag_net_py.head()"
   ]
  },
  {
   "cell_type": "code",
   "execution_count": 21,
   "metadata": {},
   "outputs": [],
   "source": [
    "py_tag_df = tag_net_py.apply(pd.Series.explode)[['id', 'creationdate', 'taglist']]"
   ]
  },
  {
   "cell_type": "code",
   "execution_count": 22,
   "metadata": {},
   "outputs": [],
   "source": [
    "java_tag_df = tag_net_java.apply(pd.Series.explode)[['id', 'creationdate', 'taglist']]"
   ]
  },
  {
   "cell_type": "code",
   "execution_count": 23,
   "metadata": {},
   "outputs": [
    {
     "data": {
      "text/html": [
       "<div>\n",
       "<style scoped>\n",
       "    .dataframe tbody tr th:only-of-type {\n",
       "        vertical-align: middle;\n",
       "    }\n",
       "\n",
       "    .dataframe tbody tr th {\n",
       "        vertical-align: top;\n",
       "    }\n",
       "\n",
       "    .dataframe thead th {\n",
       "        text-align: right;\n",
       "    }\n",
       "</style>\n",
       "<table border=\"1\" class=\"dataframe\">\n",
       "  <thead>\n",
       "    <tr style=\"text-align: right;\">\n",
       "      <th></th>\n",
       "      <th>id</th>\n",
       "      <th>creationdate</th>\n",
       "      <th>taglist</th>\n",
       "    </tr>\n",
       "  </thead>\n",
       "  <tbody>\n",
       "    <tr>\n",
       "      <th>0</th>\n",
       "      <td>70162777</td>\n",
       "      <td>2021-11-30 00:08:54.470</td>\n",
       "      <td>android</td>\n",
       "    </tr>\n",
       "    <tr>\n",
       "      <th>0</th>\n",
       "      <td>70162777</td>\n",
       "      <td>2021-11-30 00:08:54.470</td>\n",
       "      <td>asynchronous</td>\n",
       "    </tr>\n",
       "    <tr>\n",
       "      <th>0</th>\n",
       "      <td>70162777</td>\n",
       "      <td>2021-11-30 00:08:54.470</td>\n",
       "      <td>arraylist</td>\n",
       "    </tr>\n",
       "    <tr>\n",
       "      <th>0</th>\n",
       "      <td>70162777</td>\n",
       "      <td>2021-11-30 00:08:54.470</td>\n",
       "      <td>android-volley</td>\n",
       "    </tr>\n",
       "    <tr>\n",
       "      <th>1</th>\n",
       "      <td>70162790</td>\n",
       "      <td>2021-11-30 00:11:20.733</td>\n",
       "      <td>excel</td>\n",
       "    </tr>\n",
       "  </tbody>\n",
       "</table>\n",
       "</div>"
      ],
      "text/plain": [
       "         id            creationdate         taglist\n",
       "0  70162777 2021-11-30 00:08:54.470         android\n",
       "0  70162777 2021-11-30 00:08:54.470    asynchronous\n",
       "0  70162777 2021-11-30 00:08:54.470       arraylist\n",
       "0  70162777 2021-11-30 00:08:54.470  android-volley\n",
       "1  70162790 2021-11-30 00:11:20.733           excel"
      ]
     },
     "execution_count": 23,
     "metadata": {},
     "output_type": "execute_result"
    }
   ],
   "source": [
    "java_tag_df.head()"
   ]
  },
  {
   "cell_type": "code",
   "execution_count": 24,
   "metadata": {},
   "outputs": [],
   "source": [
    "java_tag_df['core_tag'] = 'java'\n",
    "py_tag_df['core_tag'] = 'python'"
   ]
  },
  {
   "cell_type": "code",
   "execution_count": null,
   "metadata": {},
   "outputs": [
    {
     "data": {
      "text/html": [
       "<div>\n",
       "<style scoped>\n",
       "    .dataframe tbody tr th:only-of-type {\n",
       "        vertical-align: middle;\n",
       "    }\n",
       "\n",
       "    .dataframe tbody tr th {\n",
       "        vertical-align: top;\n",
       "    }\n",
       "\n",
       "    .dataframe thead th {\n",
       "        text-align: right;\n",
       "    }\n",
       "</style>\n",
       "<table border=\"1\" class=\"dataframe\">\n",
       "  <thead>\n",
       "    <tr style=\"text-align: right;\">\n",
       "      <th></th>\n",
       "      <th>id</th>\n",
       "      <th>creationdate</th>\n",
       "      <th>taglist</th>\n",
       "      <th>core_tag</th>\n",
       "    </tr>\n",
       "  </thead>\n",
       "  <tbody>\n",
       "    <tr>\n",
       "      <th>0</th>\n",
       "      <td>70162777</td>\n",
       "      <td>2021-11-30 00:08:54.470</td>\n",
       "      <td>android</td>\n",
       "      <td>java</td>\n",
       "    </tr>\n",
       "    <tr>\n",
       "      <th>0</th>\n",
       "      <td>70162777</td>\n",
       "      <td>2021-11-30 00:08:54.470</td>\n",
       "      <td>asynchronous</td>\n",
       "      <td>java</td>\n",
       "    </tr>\n",
       "    <tr>\n",
       "      <th>0</th>\n",
       "      <td>70162777</td>\n",
       "      <td>2021-11-30 00:08:54.470</td>\n",
       "      <td>arraylist</td>\n",
       "      <td>java</td>\n",
       "    </tr>\n",
       "    <tr>\n",
       "      <th>0</th>\n",
       "      <td>70162777</td>\n",
       "      <td>2021-11-30 00:08:54.470</td>\n",
       "      <td>android-volley</td>\n",
       "      <td>java</td>\n",
       "    </tr>\n",
       "    <tr>\n",
       "      <th>1</th>\n",
       "      <td>70162790</td>\n",
       "      <td>2021-11-30 00:11:20.733</td>\n",
       "      <td>excel</td>\n",
       "      <td>java</td>\n",
       "    </tr>\n",
       "    <tr>\n",
       "      <th>...</th>\n",
       "      <td>...</td>\n",
       "      <td>...</td>\n",
       "      <td>...</td>\n",
       "      <td>...</td>\n",
       "    </tr>\n",
       "    <tr>\n",
       "      <th>88119</th>\n",
       "      <td>77574984</td>\n",
       "      <td>2023-11-29 23:12:54.717</td>\n",
       "      <td>binary-search-tree</td>\n",
       "      <td>java</td>\n",
       "    </tr>\n",
       "    <tr>\n",
       "      <th>88120</th>\n",
       "      <td>77575008</td>\n",
       "      <td>2023-11-29 23:18:36.953</td>\n",
       "      <td>jdbc</td>\n",
       "      <td>java</td>\n",
       "    </tr>\n",
       "    <tr>\n",
       "      <th>88120</th>\n",
       "      <td>77575008</td>\n",
       "      <td>2023-11-29 23:18:36.953</td>\n",
       "      <td>mariadb</td>\n",
       "      <td>java</td>\n",
       "    </tr>\n",
       "    <tr>\n",
       "      <th>88121</th>\n",
       "      <td>77575116</td>\n",
       "      <td>2023-11-29 23:50:29.087</td>\n",
       "      <td>jpa</td>\n",
       "      <td>java</td>\n",
       "    </tr>\n",
       "    <tr>\n",
       "      <th>88121</th>\n",
       "      <td>77575116</td>\n",
       "      <td>2023-11-29 23:50:29.087</td>\n",
       "      <td>spring-data-jpa</td>\n",
       "      <td>java</td>\n",
       "    </tr>\n",
       "  </tbody>\n",
       "</table>\n",
       "<p>227777 rows × 4 columns</p>\n",
       "</div>"
      ],
      "text/plain": [
       "             id            creationdate             taglist core_tag\n",
       "0      70162777 2021-11-30 00:08:54.470             android     java\n",
       "0      70162777 2021-11-30 00:08:54.470        asynchronous     java\n",
       "0      70162777 2021-11-30 00:08:54.470           arraylist     java\n",
       "0      70162777 2021-11-30 00:08:54.470      android-volley     java\n",
       "1      70162790 2021-11-30 00:11:20.733               excel     java\n",
       "...         ...                     ...                 ...      ...\n",
       "88119  77574984 2023-11-29 23:12:54.717  binary-search-tree     java\n",
       "88120  77575008 2023-11-29 23:18:36.953                jdbc     java\n",
       "88120  77575008 2023-11-29 23:18:36.953             mariadb     java\n",
       "88121  77575116 2023-11-29 23:50:29.087                 jpa     java\n",
       "88121  77575116 2023-11-29 23:50:29.087     spring-data-jpa     java\n",
       "\n",
       "[227777 rows x 4 columns]"
      ]
     },
     "execution_count": 25,
     "metadata": {},
     "output_type": "execute_result"
    }
   ],
   "source": [
    "java_tag_df[['core_tag', 'taglist']]"
   ]
  },
  {
   "cell_type": "code",
   "execution_count": 29,
   "metadata": {},
   "outputs": [],
   "source": [
    "tag_df = pd.concat([py_tag_df[['core_tag', 'taglist']], java_tag_df[['core_tag', 'taglist']]], axis =0).reset_index(drop=True)"
   ]
  },
  {
   "cell_type": "code",
   "execution_count": 30,
   "metadata": {},
   "outputs": [
    {
     "data": {
      "text/html": [
       "<div>\n",
       "<style scoped>\n",
       "    .dataframe tbody tr th:only-of-type {\n",
       "        vertical-align: middle;\n",
       "    }\n",
       "\n",
       "    .dataframe tbody tr th {\n",
       "        vertical-align: top;\n",
       "    }\n",
       "\n",
       "    .dataframe thead th {\n",
       "        text-align: right;\n",
       "    }\n",
       "</style>\n",
       "<table border=\"1\" class=\"dataframe\">\n",
       "  <thead>\n",
       "    <tr style=\"text-align: right;\">\n",
       "      <th></th>\n",
       "      <th>core_tag</th>\n",
       "      <th>taglist</th>\n",
       "    </tr>\n",
       "  </thead>\n",
       "  <tbody>\n",
       "    <tr>\n",
       "      <th>0</th>\n",
       "      <td>python</td>\n",
       "      <td>python-3.x</td>\n",
       "    </tr>\n",
       "    <tr>\n",
       "      <th>1</th>\n",
       "      <td>python</td>\n",
       "      <td>unit-testing</td>\n",
       "    </tr>\n",
       "    <tr>\n",
       "      <th>2</th>\n",
       "      <td>python</td>\n",
       "      <td>pandas</td>\n",
       "    </tr>\n",
       "    <tr>\n",
       "      <th>3</th>\n",
       "      <td>python</td>\n",
       "      <td>dataframe</td>\n",
       "    </tr>\n",
       "    <tr>\n",
       "      <th>4</th>\n",
       "      <td>python</td>\n",
       "      <td>group-by</td>\n",
       "    </tr>\n",
       "  </tbody>\n",
       "</table>\n",
       "</div>"
      ],
      "text/plain": [
       "  core_tag       taglist\n",
       "0   python    python-3.x\n",
       "1   python  unit-testing\n",
       "2   python        pandas\n",
       "3   python     dataframe\n",
       "4   python      group-by"
      ]
     },
     "execution_count": 30,
     "metadata": {},
     "output_type": "execute_result"
    }
   ],
   "source": [
    "tag_df.head()"
   ]
  },
  {
   "cell_type": "code",
   "execution_count": 31,
   "metadata": {},
   "outputs": [],
   "source": [
    "tag_df.columns = ['Source', 'Target']"
   ]
  },
  {
   "cell_type": "code",
   "execution_count": 34,
   "metadata": {},
   "outputs": [],
   "source": [
    "tag_df.dropna(inplace=True)"
   ]
  },
  {
   "cell_type": "code",
   "execution_count": 35,
   "metadata": {},
   "outputs": [],
   "source": [
    "node = np.unique(np.append(tag_df['Source'].values, tag_df['Target'].values))"
   ]
  },
  {
   "cell_type": "code",
   "execution_count": 36,
   "metadata": {},
   "outputs": [],
   "source": [
    "# 질문자->답변자 로 edgelist 생성\n",
    "edgelist = list(zip(tag_df['Source'], tag_df['Target']))"
   ]
  },
  {
   "cell_type": "code",
   "execution_count": 39,
   "metadata": {},
   "outputs": [],
   "source": [
    "tag_df.to_csv('./gephi.csv', index=False)"
   ]
  }
 ],
 "metadata": {
  "kernelspec": {
   "display_name": "venv_stackoverflow_src",
   "language": "python",
   "name": "python3"
  },
  "language_info": {
   "codemirror_mode": {
    "name": "ipython",
    "version": 3
   },
   "file_extension": ".py",
   "mimetype": "text/x-python",
   "name": "python",
   "nbconvert_exporter": "python",
   "pygments_lexer": "ipython3",
   "version": "3.10.12"
  }
 },
 "nbformat": 4,
 "nbformat_minor": 4
}
