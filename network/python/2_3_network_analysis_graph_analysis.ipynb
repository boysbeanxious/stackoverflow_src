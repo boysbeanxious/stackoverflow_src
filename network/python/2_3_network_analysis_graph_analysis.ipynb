{
 "cells": [
  {
   "cell_type": "code",
   "execution_count": 2,
   "metadata": {},
   "outputs": [
    {
     "name": "stderr",
     "output_type": "stream",
     "text": [
      "/var/folders/lk/t243gzpx379bzd9mvx8dcsmm0000gp/T/ipykernel_8353/3872114279.py:2: DeprecationWarning: \n",
      "Pyarrow will become a required dependency of pandas in the next major release of pandas (pandas 3.0),\n",
      "(to allow more performant data types, such as the Arrow string type, and better interoperability with other libraries)\n",
      "but was not found to be installed on your system.\n",
      "If this would cause problems for you,\n",
      "please provide us feedback at https://github.com/pandas-dev/pandas/issues/54466\n",
      "        \n",
      "  import pandas as pd\n"
     ]
    },
    {
     "data": {
      "text/html": [
       "\n",
       "\t\t\t<script type=\"text/javascript\">\n",
       "\t\t\t<!--\n",
       "\t\t\t\t\n",
       "\t\t\t{\n",
       "\t\t\t\tvar element = document.getElementById('NetworKit_script');\n",
       "\t\t\t\tif (element) {\n",
       "\t\t\t\t\telement.parentNode.removeChild(element);\n",
       "\t\t\t\t}\n",
       "\t\t\t\telement = document.createElement('script');\n",
       "\t\t\t\telement.type = 'text/javascript';\n",
       "\t\t\t\telement.innerHTML = 'function NetworKit_pageEmbed(id) { var i, j; var elements; elements = document.getElementById(id).getElementsByClassName(\"Plot\"); for (i=0; i<elements.length; i++) { elements[i].id = id + \"_Plot_\" + i; var data = elements[i].getAttribute(\"data-image\").split(\"|\"); elements[i].removeAttribute(\"data-image\"); var content = \"<div class=\\\\\"Image\\\\\" id=\\\\\"\" + elements[i].id + \"_Image\\\\\" />\"; elements[i].innerHTML = content; elements[i].setAttribute(\"data-image-index\", 0); elements[i].setAttribute(\"data-image-length\", data.length); for (j=0; j<data.length; j++) { elements[i].setAttribute(\"data-image-\" + j, data[j]); } NetworKit_plotUpdate(elements[i]); elements[i].onclick = function (e) { NetworKit_overlayShow((e.target) ? e.target : e.srcElement); } } elements = document.getElementById(id).getElementsByClassName(\"HeatCell\"); for (i=0; i<elements.length; i++) { var data = parseFloat(elements[i].getAttribute(\"data-heat\")); var color = \"#00FF00\"; if (data <= 1 && data > 0) { color = \"hsla(0, 100%, 75%, \" + (data) + \")\"; } else if (data <= 0 && data >= -1) { color = \"hsla(240, 100%, 75%, \" + (-data) + \")\"; } elements[i].style.backgroundColor = color; } elements = document.getElementById(id).getElementsByClassName(\"Details\"); for (i=0; i<elements.length; i++) { elements[i].setAttribute(\"data-title\", \"-\"); NetworKit_toggleDetails(elements[i]); elements[i].onclick = function (e) { NetworKit_toggleDetails((e.target) ? e.target : e.srcElement); } } elements = document.getElementById(id).getElementsByClassName(\"MathValue\"); for (i=elements.length-1; i>=0; i--) { value = elements[i].innerHTML.trim(); if (value === \"nan\") { elements[i].parentNode.innerHTML = \"\" } } elements = document.getElementById(id).getElementsByClassName(\"SubCategory\"); for (i=elements.length-1; i>=0; i--) { value = elements[i].innerHTML.trim(); if (value === \"\") { elements[i].parentNode.removeChild(elements[i]) } } elements = document.getElementById(id).getElementsByClassName(\"Category\"); for (i=elements.length-1; i>=0; i--) { value = elements[i].innerHTML.trim(); if (value === \"\") { elements[i].parentNode.removeChild(elements[i]) } } var isFirefox = false; try { isFirefox = typeof InstallTrigger !== \"undefined\"; } catch (e) {} if (!isFirefox) { alert(\"Currently the function\\'s output is only fully supported by Firefox.\"); } } function NetworKit_plotUpdate(source) { var index = source.getAttribute(\"data-image-index\"); var data = source.getAttribute(\"data-image-\" + index); var image = document.getElementById(source.id + \"_Image\"); image.style.backgroundImage = \"url(\" + data + \")\"; } function NetworKit_showElement(id, show) { var element = document.getElementById(id); element.style.display = (show) ? \"block\" : \"none\"; } function NetworKit_overlayShow(source) { NetworKit_overlayUpdate(source); NetworKit_showElement(\"NetworKit_Overlay\", true); } function NetworKit_overlayUpdate(source) { document.getElementById(\"NetworKit_Overlay_Title\").innerHTML = source.title; var index = source.getAttribute(\"data-image-index\"); var data = source.getAttribute(\"data-image-\" + index); var image = document.getElementById(\"NetworKit_Overlay_Image\"); image.setAttribute(\"data-id\", source.id); image.style.backgroundImage = \"url(\" + data + \")\"; var link = document.getElementById(\"NetworKit_Overlay_Toolbar_Bottom_Save\"); link.href = data; link.download = source.title + \".svg\"; } function NetworKit_overlayImageShift(delta) { var image = document.getElementById(\"NetworKit_Overlay_Image\"); var source = document.getElementById(image.getAttribute(\"data-id\")); var index = parseInt(source.getAttribute(\"data-image-index\")); var length = parseInt(source.getAttribute(\"data-image-length\")); var index = (index+delta) % length; if (index < 0) { index = length + index; } source.setAttribute(\"data-image-index\", index); NetworKit_overlayUpdate(source); } function NetworKit_toggleDetails(source) { var childs = source.children; var show = false; if (source.getAttribute(\"data-title\") == \"-\") { source.setAttribute(\"data-title\", \"+\"); show = false; } else { source.setAttribute(\"data-title\", \"-\"); show = true; } for (i=0; i<childs.length; i++) { if (show) { childs[i].style.display = \"block\"; } else { childs[i].style.display = \"none\"; } } }';\n",
       "\t\t\t\telement.setAttribute('id', 'NetworKit_script');\n",
       "\t\t\t\tdocument.head.appendChild(element);\n",
       "\t\t\t}\n",
       "\t\t\n",
       "\t\t\t\t\n",
       "\t\t\t{\n",
       "\t\t\t\tvar element = document.getElementById('NetworKit_style');\n",
       "\t\t\t\tif (element) {\n",
       "\t\t\t\t\telement.parentNode.removeChild(element);\n",
       "\t\t\t\t}\n",
       "\t\t\t\telement = document.createElement('style');\n",
       "\t\t\t\telement.type = 'text/css';\n",
       "\t\t\t\telement.innerHTML = '.NetworKit_Page { font-family: Arial, Helvetica, sans-serif; font-size: 14px; } .NetworKit_Page .Value:before { font-family: Arial, Helvetica, sans-serif; font-size: 1.05em; content: attr(data-title) \":\"; margin-left: -2.5em; padding-right: 0.5em; } .NetworKit_Page .Details .Value:before { display: block; } .NetworKit_Page .Value { font-family: monospace; white-space: pre; padding-left: 2.5em; white-space: -moz-pre-wrap !important; white-space: -pre-wrap; white-space: -o-pre-wrap; white-space: pre-wrap; word-wrap: break-word; tab-size: 4; -moz-tab-size: 4; } .NetworKit_Page .Category { clear: both; padding-left: 1em; margin-bottom: 1.5em; } .NetworKit_Page .Category:before { content: attr(data-title); font-size: 1.75em; display: block; margin-left: -0.8em; margin-bottom: 0.5em; } .NetworKit_Page .SubCategory { margin-bottom: 1.5em; padding-left: 1em; } .NetworKit_Page .SubCategory:before { font-size: 1.6em; display: block; margin-left: -0.8em; margin-bottom: 0.5em; } .NetworKit_Page .SubCategory[data-title]:before { content: attr(data-title); } .NetworKit_Page .Block { display: block; } .NetworKit_Page .Block:after { content: \".\"; visibility: hidden; display: block; height: 0; clear: both; } .NetworKit_Page .Block .Thumbnail_Overview, .NetworKit_Page .Block .Thumbnail_ScatterPlot { width: 260px; float: left; } .NetworKit_Page .Block .Thumbnail_Overview img, .NetworKit_Page .Block .Thumbnail_ScatterPlot img { width: 260px; } .NetworKit_Page .Block .Thumbnail_Overview:before, .NetworKit_Page .Block .Thumbnail_ScatterPlot:before { display: block; text-align: center; font-weight: bold; } .NetworKit_Page .Block .Thumbnail_Overview:before { content: attr(data-title); } .NetworKit_Page .HeatCell { font-family: \"Courier New\", Courier, monospace; cursor: pointer; } .NetworKit_Page .HeatCell, .NetworKit_Page .HeatCellName { display: inline; padding: 0.1em; margin-right: 2px; background-color: #FFFFFF } .NetworKit_Page .HeatCellName { margin-left: 0.25em; } .NetworKit_Page .HeatCell:before { content: attr(data-heat); display: inline-block; color: #000000; width: 4em; text-align: center; } .NetworKit_Page .Measure { clear: both; } .NetworKit_Page .Measure .Details { cursor: pointer; } .NetworKit_Page .Measure .Details:before { content: \"[\" attr(data-title) \"]\"; display: block; } .NetworKit_Page .Measure .Details .Value { border-left: 1px dotted black; margin-left: 0.4em; padding-left: 3.5em; pointer-events: none; } .NetworKit_Page .Measure .Details .Spacer:before { content: \".\"; opacity: 0.0; pointer-events: none; } .NetworKit_Page .Measure .Plot { width: 440px; height: 440px; cursor: pointer; float: left; margin-left: -0.9em; margin-right: 20px; } .NetworKit_Page .Measure .Plot .Image { background-repeat: no-repeat; background-position: center center; background-size: contain; height: 100%; pointer-events: none; } .NetworKit_Page .Measure .Stat { width: 500px; float: left; } .NetworKit_Page .Measure .Stat .Group { padding-left: 1.25em; margin-bottom: 0.75em; } .NetworKit_Page .Measure .Stat .Group .Title { font-size: 1.1em; display: block; margin-bottom: 0.3em; margin-left: -0.75em; border-right-style: dotted; border-right-width: 1px; border-bottom-style: dotted; border-bottom-width: 1px; background-color: #D0D0D0; padding-left: 0.2em; } .NetworKit_Page .Measure .Stat .Group .List { -webkit-column-count: 3; -moz-column-count: 3; column-count: 3; } .NetworKit_Page .Measure .Stat .Group .List .Entry { position: relative; line-height: 1.75em; } .NetworKit_Page .Measure .Stat .Group .List .Entry[data-tooltip]:before { position: absolute; left: 0; top: -40px; background-color: #808080; color: #ffffff; height: 30px; line-height: 30px; border-radius: 5px; padding: 0 15px; content: attr(data-tooltip); white-space: nowrap; display: none; } .NetworKit_Page .Measure .Stat .Group .List .Entry[data-tooltip]:after { position: absolute; left: 15px; top: -10px; border-top: 7px solid #808080; border-left: 7px solid transparent; border-right: 7px solid transparent; content: \"\"; display: none; } .NetworKit_Page .Measure .Stat .Group .List .Entry[data-tooltip]:hover:after, .NetworKit_Page .Measure .Stat .Group .List .Entry[data-tooltip]:hover:before { display: block; } .NetworKit_Page .Measure .Stat .Group .List .Entry .MathValue { font-family: \"Courier New\", Courier, monospace; } .NetworKit_Page .Measure:after { content: \".\"; visibility: hidden; display: block; height: 0; clear: both; } .NetworKit_Page .PartitionPie { clear: both; } .NetworKit_Page .PartitionPie img { width: 600px; } #NetworKit_Overlay { left: 0px; top: 0px; display: none; position: absolute; width: 100%; height: 100%; background-color: rgba(0,0,0,0.6); z-index: 1000; } #NetworKit_Overlay_Title { position: absolute; color: white; transform: rotate(-90deg); width: 32em; height: 32em; padding-right: 0.5em; padding-top: 0.5em; text-align: right; font-size: 40px; } #NetworKit_Overlay .button { background: white; cursor: pointer; } #NetworKit_Overlay .button:before { size: 13px; display: inline-block; text-align: center; margin-top: 0.5em; margin-bottom: 0.5em; width: 1.5em; height: 1.5em; } #NetworKit_Overlay .icon-close:before { content: \"X\"; } #NetworKit_Overlay .icon-previous:before { content: \"P\"; } #NetworKit_Overlay .icon-next:before { content: \"N\"; } #NetworKit_Overlay .icon-save:before { content: \"S\"; } #NetworKit_Overlay_Toolbar_Top, #NetworKit_Overlay_Toolbar_Bottom { position: absolute; width: 40px; right: 13px; text-align: right; z-index: 1100; } #NetworKit_Overlay_Toolbar_Top { top: 0.5em; } #NetworKit_Overlay_Toolbar_Bottom { Bottom: 0.5em; } #NetworKit_Overlay_ImageContainer { position: absolute; top: 5%; left: 5%; height: 90%; width: 90%; background-repeat: no-repeat; background-position: center center; background-size: contain; } #NetworKit_Overlay_Image { height: 100%; width: 100%; background-repeat: no-repeat; background-position: center center; background-size: contain; }';\n",
       "\t\t\t\telement.setAttribute('id', 'NetworKit_style');\n",
       "\t\t\t\tdocument.head.appendChild(element);\n",
       "\t\t\t}\n",
       "\t\t\n",
       "\t\t\t\t\n",
       "\t\t\t{\n",
       "\t\t\t\tvar element = document.getElementById('NetworKit_Overlay');\n",
       "\t\t\t\tif (element) {\n",
       "\t\t\t\t\telement.parentNode.removeChild(element);\n",
       "\t\t\t\t}\n",
       "\t\t\t\telement = document.createElement('div');\n",
       "\t\t\t\telement.innerHTML = '<div id=\"NetworKit_Overlay_Toolbar_Top\"><div class=\"button icon-close\" id=\"NetworKit_Overlay_Close\" /></div><div id=\"NetworKit_Overlay_Title\" /> <div id=\"NetworKit_Overlay_ImageContainer\"> <div id=\"NetworKit_Overlay_Image\" /> </div> <div id=\"NetworKit_Overlay_Toolbar_Bottom\"> <div class=\"button icon-previous\" onclick=\"NetworKit_overlayImageShift(-1)\" /> <div class=\"button icon-next\" onclick=\"NetworKit_overlayImageShift(1)\" /> <a id=\"NetworKit_Overlay_Toolbar_Bottom_Save\"><div class=\"button icon-save\" /></a> </div>';\n",
       "\t\t\t\telement.setAttribute('id', 'NetworKit_Overlay');\n",
       "\t\t\t\tdocument.body.appendChild(element);\n",
       "\t\t\t\tdocument.getElementById('NetworKit_Overlay_Close').onclick = function (e) {\n",
       "\t\t\t\t\tdocument.getElementById('NetworKit_Overlay').style.display = 'none';\n",
       "\t\t\t\t}\n",
       "\t\t\t}\n",
       "\t\t\n",
       "\t\t\t-->\n",
       "\t\t\t</script>\n",
       "\t\t"
      ]
     },
     "metadata": {},
     "output_type": "display_data"
    }
   ],
   "source": [
    "import psycopg2\n",
    "import pandas as pd\n",
    "import seaborn as sns\n",
    "import matplotlib.pyplot as plt\n",
    "import networkx as nx\n",
    "import numpy as np\n",
    "import time\n",
    "import pprint\n",
    "import metis\n",
    "import networkit as nk\n",
    "from networkit import vizbridges\n",
    "import pickle\n",
    "# import powerlaw"
   ]
  },
  {
   "cell_type": "code",
   "execution_count": 3,
   "metadata": {},
   "outputs": [],
   "source": [
    "# 파일 불러오기\n",
    "with open('../../data/df.pkl', 'rb') as f:\n",
    "    df = pickle.load(f)\n"
   ]
  },
  {
   "cell_type": "code",
   "execution_count": 4,
   "metadata": {},
   "outputs": [],
   "source": [
    "# 파일 불러오기\n",
    "with open('../../data/df_qna.pkl', 'rb') as f:\n",
    "    df_qna = pickle.load(f)"
   ]
  },
  {
   "cell_type": "code",
   "execution_count": 5,
   "metadata": {},
   "outputs": [
    {
     "data": {
      "text/plain": [
       "Timestamp('2023-08-03 01:04:49.693000')"
      ]
     },
     "execution_count": 5,
     "metadata": {},
     "output_type": "execute_result"
    }
   ],
   "source": [
    "df['q_creationdate'].min()"
   ]
  },
  {
   "cell_type": "code",
   "execution_count": 6,
   "metadata": {},
   "outputs": [],
   "source": [
    "df_gephi = df[['q_owneruserid', 'a_owneruserid']]"
   ]
  },
  {
   "cell_type": "code",
   "execution_count": 7,
   "metadata": {},
   "outputs": [],
   "source": [
    "df_gephi.columns = ['Source', 'Target']"
   ]
  },
  {
   "cell_type": "code",
   "execution_count": 8,
   "metadata": {},
   "outputs": [],
   "source": [
    "node = np.unique(np.append(df_gephi['Source'].values, df_gephi['Target'].values))"
   ]
  },
  {
   "cell_type": "code",
   "execution_count": 9,
   "metadata": {},
   "outputs": [],
   "source": [
    "# 질문자->답변자 로 edgelist 생성\n",
    "edgelist = list(zip(df_gephi['Source'], df_gephi['Target']))"
   ]
  },
  {
   "cell_type": "code",
   "execution_count": 10,
   "metadata": {},
   "outputs": [],
   "source": [
    "di_github = nx.DiGraph()\n",
    "di_github.add_nodes_from(node)\n",
    "di_github.add_edges_from(edgelist)\n",
    "\n",
    "github = nx.from_pandas_edgelist(df,  source='q_owneruserid', target='a_owneruserid')"
   ]
  },
  {
   "cell_type": "code",
   "execution_count": 11,
   "metadata": {},
   "outputs": [],
   "source": [
    "di_github_nk = nk.nxadapter.nx2nk(di_github)\n",
    "github_nk = nk.nxadapter.nx2nk(github)"
   ]
  },
  {
   "cell_type": "code",
   "execution_count": 12,
   "metadata": {},
   "outputs": [
    {
     "name": "stdout",
     "output_type": "stream",
     "text": [
      "11392 11996\n"
     ]
    }
   ],
   "source": [
    "print(di_github_nk.numberOfNodes(), di_github_nk.numberOfEdges())"
   ]
  },
  {
   "cell_type": "markdown",
   "metadata": {},
   "source": [
    "### Core Decomposition"
   ]
  },
  {
   "cell_type": "code",
   "execution_count": 13,
   "metadata": {},
   "outputs": [],
   "source": [
    "rm_github_nk = github_nk.removeSelfLoops()"
   ]
  },
  {
   "cell_type": "code",
   "execution_count": 14,
   "metadata": {},
   "outputs": [
    {
     "data": {
      "text/plain": [
       "NoneType"
      ]
     },
     "execution_count": 14,
     "metadata": {},
     "output_type": "execute_result"
    }
   ],
   "source": [
    "type(rm_github_nk)"
   ]
  },
  {
   "cell_type": "code",
   "execution_count": 15,
   "metadata": {},
   "outputs": [
    {
     "data": {
      "text/plain": [
       "<networkit.centrality.CoreDecomposition at 0x2e41bff70>"
      ]
     },
     "execution_count": 15,
     "metadata": {},
     "output_type": "execute_result"
    }
   ],
   "source": [
    "coreDec = nk.centrality.CoreDecomposition(github_nk)\n",
    "coreDec.run()\n",
    "# direct 라 안되는데\n",
    "# untimeError: Core Decomposition implementation does not support graphs with self-loops. Call Graph.removeSelfLoops() first."
   ]
  },
  {
   "cell_type": "code",
   "execution_count": 16,
   "metadata": {},
   "outputs": [],
   "source": [
    "# nk.gephi.pyclient.GephiClient(url='http://116.45.16.200:5999/workspace0', autoflush=False)\n",
    "# gsc = nk.gephi.streaming.GephiStreamingClient(url='http://116.45.16.200:5999/workspace1')\n",
    "# gsc = nk.gephi.streaming.GephiStreamingClient(url='http://143.248.106.43:7777/workspace1')\n",
    "# gsc = nk.gephi.streaming.GephiStreamingClient(url='http://143.248.106.43:7777/workspace2')\n",
    "gsc = nk.gephi.streaming.GephiStreamingClient(url='http://localhost:7777/workspace1')\n"
   ]
  },
  {
   "cell_type": "code",
   "execution_count": 17,
   "metadata": {},
   "outputs": [],
   "source": [
    "# test = nk.gephi.streaming.GephiStreamingClient(url='http://localhost:8080/workspace1')"
   ]
  },
  {
   "cell_type": "code",
   "execution_count": 18,
   "metadata": {},
   "outputs": [],
   "source": [
    "# test = nk.gephi.streaming.GephiStreamingClient(url='http://116.45.16.200:8080/workspace2')"
   ]
  },
  {
   "cell_type": "code",
   "execution_count": 19,
   "metadata": {},
   "outputs": [],
   "source": [
    "# test.exportGraph(di_github_nk)"
   ]
  },
  {
   "cell_type": "code",
   "execution_count": 20,
   "metadata": {},
   "outputs": [
    {
     "name": "stdout",
     "output_type": "stream",
     "text": [
      "Could not connect to the gephi streaming plugin.\n",
      "Did you start the streaming master server in gephi and provide the name of your workspace?\n",
      "If the workspace is named 'Workspace 0', the corresponding url is http://localhost:8080/workspace0 (adapt port)\n"
     ]
    }
   ],
   "source": [
    "gsc.exportGraph(di_github_nk)"
   ]
  },
  {
   "cell_type": "code",
   "execution_count": 21,
   "metadata": {},
   "outputs": [],
   "source": [
    "# nk.vizbridges.widgetFromGraph(github_nk, dimension = nk.vizbridges.Dimension.Two, nodeScores = coreDec.scores())"
   ]
  },
  {
   "cell_type": "code",
   "execution_count": 22,
   "metadata": {},
   "outputs": [
    {
     "data": {
      "text/plain": [
       "<networkit.graph.Graph at 0x106f07d40>"
      ]
     },
     "execution_count": 22,
     "metadata": {},
     "output_type": "execute_result"
    }
   ],
   "source": [
    "di_github_nk\n",
    "# 1762"
   ]
  },
  {
   "cell_type": "code",
   "execution_count": 23,
   "metadata": {},
   "outputs": [
    {
     "data": {
      "text/plain": [
       "2376954"
      ]
     },
     "execution_count": 23,
     "metadata": {},
     "output_type": "execute_result"
    }
   ],
   "source": [
    "list(di_github.nodes())[1762]"
   ]
  },
  {
   "cell_type": "code",
   "execution_count": 24,
   "metadata": {},
   "outputs": [
    {
     "data": {
      "text/plain": [
       "10542284"
      ]
     },
     "execution_count": 24,
     "metadata": {},
     "output_type": "execute_result"
    }
   ],
   "source": [
    "list(di_github.nodes())[5115]"
   ]
  },
  {
   "cell_type": "code",
   "execution_count": 25,
   "metadata": {},
   "outputs": [
    {
     "data": {
      "text/html": [
       "<div>\n",
       "<style scoped>\n",
       "    .dataframe tbody tr th:only-of-type {\n",
       "        vertical-align: middle;\n",
       "    }\n",
       "\n",
       "    .dataframe tbody tr th {\n",
       "        vertical-align: top;\n",
       "    }\n",
       "\n",
       "    .dataframe thead th {\n",
       "        text-align: right;\n",
       "    }\n",
       "</style>\n",
       "<table border=\"1\" class=\"dataframe\">\n",
       "  <thead>\n",
       "    <tr style=\"text-align: right;\">\n",
       "      <th></th>\n",
       "      <th>q_id</th>\n",
       "      <th>q_posttypeid</th>\n",
       "      <th>q_acceptedanswerid</th>\n",
       "      <th>q_parentid</th>\n",
       "      <th>q_creationdate</th>\n",
       "      <th>q_score</th>\n",
       "      <th>q_viewcount</th>\n",
       "      <th>q_owneruserid</th>\n",
       "      <th>q_title</th>\n",
       "      <th>q_tags</th>\n",
       "      <th>...</th>\n",
       "      <th>a_parentid</th>\n",
       "      <th>a_creationdate</th>\n",
       "      <th>a_score</th>\n",
       "      <th>a_viewcount</th>\n",
       "      <th>a_owneruserid</th>\n",
       "      <th>a_title</th>\n",
       "      <th>a_tags</th>\n",
       "      <th>a_answercount</th>\n",
       "      <th>a_commentcount</th>\n",
       "      <th>a_reputation</th>\n",
       "    </tr>\n",
       "  </thead>\n",
       "  <tbody>\n",
       "    <tr>\n",
       "      <th>5766</th>\n",
       "      <td>77231004</td>\n",
       "      <td>1</td>\n",
       "      <td>NaN</td>\n",
       "      <td>None</td>\n",
       "      <td>2023-10-04 15:39:13.480</td>\n",
       "      <td>1</td>\n",
       "      <td>51</td>\n",
       "      <td>19556938</td>\n",
       "      <td>Java - Quarkus framework. Panache MongoDB. How...</td>\n",
       "      <td>java mongodb quarkus quarkus-panache</td>\n",
       "      <td>...</td>\n",
       "      <td>77231004</td>\n",
       "      <td>2023-10-04 16:42:50.920</td>\n",
       "      <td>0</td>\n",
       "      <td>None</td>\n",
       "      <td>19556938</td>\n",
       "      <td>None</td>\n",
       "      <td>None</td>\n",
       "      <td>None</td>\n",
       "      <td>0</td>\n",
       "      <td>11</td>\n",
       "    </tr>\n",
       "  </tbody>\n",
       "</table>\n",
       "<p>1 rows × 26 columns</p>\n",
       "</div>"
      ],
      "text/plain": [
       "          q_id q_posttypeid  q_acceptedanswerid q_parentid  \\\n",
       "5766  77231004            1                 NaN       None   \n",
       "\n",
       "              q_creationdate  q_score  q_viewcount  q_owneruserid  \\\n",
       "5766 2023-10-04 15:39:13.480        1           51       19556938   \n",
       "\n",
       "                                                q_title  \\\n",
       "5766  Java - Quarkus framework. Panache MongoDB. How...   \n",
       "\n",
       "                                     q_tags  ...  a_parentid  \\\n",
       "5766  java mongodb quarkus quarkus-panache   ...    77231004   \n",
       "\n",
       "              a_creationdate  a_score  a_viewcount a_owneruserid a_title  \\\n",
       "5766 2023-10-04 16:42:50.920        0         None      19556938    None   \n",
       "\n",
       "      a_tags a_answercount  a_commentcount a_reputation  \n",
       "5766    None          None               0           11  \n",
       "\n",
       "[1 rows x 26 columns]"
      ]
     },
     "execution_count": 25,
     "metadata": {},
     "output_type": "execute_result"
    }
   ],
   "source": [
    "df[(df['q_owneruserid']==19556938)|(df['a_owneruserid']==19556938)]"
   ]
  },
  {
   "cell_type": "code",
   "execution_count": 26,
   "metadata": {},
   "outputs": [
    {
     "data": {
      "text/html": [
       "<div>\n",
       "<style scoped>\n",
       "    .dataframe tbody tr th:only-of-type {\n",
       "        vertical-align: middle;\n",
       "    }\n",
       "\n",
       "    .dataframe tbody tr th {\n",
       "        vertical-align: top;\n",
       "    }\n",
       "\n",
       "    .dataframe thead th {\n",
       "        text-align: right;\n",
       "    }\n",
       "</style>\n",
       "<table border=\"1\" class=\"dataframe\">\n",
       "  <thead>\n",
       "    <tr style=\"text-align: right;\">\n",
       "      <th></th>\n",
       "      <th>q_id</th>\n",
       "      <th>q_posttypeid</th>\n",
       "      <th>q_acceptedanswerid</th>\n",
       "      <th>q_parentid</th>\n",
       "      <th>q_creationdate</th>\n",
       "      <th>q_score</th>\n",
       "      <th>q_viewcount</th>\n",
       "      <th>q_owneruserid</th>\n",
       "      <th>q_title</th>\n",
       "      <th>q_tags</th>\n",
       "      <th>...</th>\n",
       "      <th>a_parentid</th>\n",
       "      <th>a_creationdate</th>\n",
       "      <th>a_score</th>\n",
       "      <th>a_viewcount</th>\n",
       "      <th>a_owneruserid</th>\n",
       "      <th>a_title</th>\n",
       "      <th>a_tags</th>\n",
       "      <th>a_answercount</th>\n",
       "      <th>a_commentcount</th>\n",
       "      <th>a_reputation</th>\n",
       "    </tr>\n",
       "  </thead>\n",
       "  <tbody>\n",
       "    <tr>\n",
       "      <th>2667</th>\n",
       "      <td>77410093</td>\n",
       "      <td>1</td>\n",
       "      <td>NaN</td>\n",
       "      <td>None</td>\n",
       "      <td>2023-11-02 13:43:22.463</td>\n",
       "      <td>1</td>\n",
       "      <td>49</td>\n",
       "      <td>10542284</td>\n",
       "      <td>Why Spring Boot Backend is not letting me Logi...</td>\n",
       "      <td>reactjs spring spring-boot</td>\n",
       "      <td>...</td>\n",
       "      <td>77410093</td>\n",
       "      <td>2023-11-04 13:34:54.593</td>\n",
       "      <td>1</td>\n",
       "      <td>None</td>\n",
       "      <td>10542284</td>\n",
       "      <td>None</td>\n",
       "      <td>None</td>\n",
       "      <td>None</td>\n",
       "      <td>0</td>\n",
       "      <td>375</td>\n",
       "    </tr>\n",
       "    <tr>\n",
       "      <th>5094</th>\n",
       "      <td>77273036</td>\n",
       "      <td>1</td>\n",
       "      <td>NaN</td>\n",
       "      <td>None</td>\n",
       "      <td>2023-10-11 12:23:58.780</td>\n",
       "      <td>1</td>\n",
       "      <td>54</td>\n",
       "      <td>10542284</td>\n",
       "      <td>SpringBoot GetMapping Throwing always a 404 code</td>\n",
       "      <td>java spring-boot</td>\n",
       "      <td>...</td>\n",
       "      <td>77273036</td>\n",
       "      <td>2023-10-11 12:39:27.233</td>\n",
       "      <td>1</td>\n",
       "      <td>None</td>\n",
       "      <td>19984776</td>\n",
       "      <td>None</td>\n",
       "      <td>None</td>\n",
       "      <td>None</td>\n",
       "      <td>1</td>\n",
       "      <td>11</td>\n",
       "    </tr>\n",
       "    <tr>\n",
       "      <th>11474</th>\n",
       "      <td>76868443</td>\n",
       "      <td>1</td>\n",
       "      <td>76877800.0</td>\n",
       "      <td>None</td>\n",
       "      <td>2023-08-09 13:53:10.813</td>\n",
       "      <td>1</td>\n",
       "      <td>55</td>\n",
       "      <td>10542284</td>\n",
       "      <td>I'm getting RESULT_CANCELED from startActivity...</td>\n",
       "      <td>java android kotlin default</td>\n",
       "      <td>...</td>\n",
       "      <td>76868443</td>\n",
       "      <td>2023-08-10 16:50:21.053</td>\n",
       "      <td>1</td>\n",
       "      <td>None</td>\n",
       "      <td>10542284</td>\n",
       "      <td>None</td>\n",
       "      <td>None</td>\n",
       "      <td>None</td>\n",
       "      <td>0</td>\n",
       "      <td>375</td>\n",
       "    </tr>\n",
       "  </tbody>\n",
       "</table>\n",
       "<p>3 rows × 26 columns</p>\n",
       "</div>"
      ],
      "text/plain": [
       "           q_id q_posttypeid  q_acceptedanswerid q_parentid  \\\n",
       "2667   77410093            1                 NaN       None   \n",
       "5094   77273036            1                 NaN       None   \n",
       "11474  76868443            1          76877800.0       None   \n",
       "\n",
       "               q_creationdate  q_score  q_viewcount  q_owneruserid  \\\n",
       "2667  2023-11-02 13:43:22.463        1           49       10542284   \n",
       "5094  2023-10-11 12:23:58.780        1           54       10542284   \n",
       "11474 2023-08-09 13:53:10.813        1           55       10542284   \n",
       "\n",
       "                                                 q_title  \\\n",
       "2667   Why Spring Boot Backend is not letting me Logi...   \n",
       "5094    SpringBoot GetMapping Throwing always a 404 code   \n",
       "11474  I'm getting RESULT_CANCELED from startActivity...   \n",
       "\n",
       "                             q_tags  ...  a_parentid          a_creationdate  \\\n",
       "2667    reactjs spring spring-boot   ...    77410093 2023-11-04 13:34:54.593   \n",
       "5094              java spring-boot   ...    77273036 2023-10-11 12:39:27.233   \n",
       "11474  java android kotlin default   ...    76868443 2023-08-10 16:50:21.053   \n",
       "\n",
       "       a_score  a_viewcount a_owneruserid a_title  a_tags a_answercount  \\\n",
       "2667         1         None      10542284    None    None          None   \n",
       "5094         1         None      19984776    None    None          None   \n",
       "11474        1         None      10542284    None    None          None   \n",
       "\n",
       "       a_commentcount a_reputation  \n",
       "2667                0          375  \n",
       "5094                1           11  \n",
       "11474               0          375  \n",
       "\n",
       "[3 rows x 26 columns]"
      ]
     },
     "execution_count": 26,
     "metadata": {},
     "output_type": "execute_result"
    }
   ],
   "source": [
    "df[(df['q_owneruserid']==list(di_github.nodes())[5115])|(df['a_owneruserid']==list(di_github.nodes())[5115])]"
   ]
  },
  {
   "cell_type": "code",
   "execution_count": 27,
   "metadata": {},
   "outputs": [
    {
     "data": {
      "text/html": [
       "<div>\n",
       "<style scoped>\n",
       "    .dataframe tbody tr th:only-of-type {\n",
       "        vertical-align: middle;\n",
       "    }\n",
       "\n",
       "    .dataframe tbody tr th {\n",
       "        vertical-align: top;\n",
       "    }\n",
       "\n",
       "    .dataframe thead th {\n",
       "        text-align: right;\n",
       "    }\n",
       "</style>\n",
       "<table border=\"1\" class=\"dataframe\">\n",
       "  <thead>\n",
       "    <tr style=\"text-align: right;\">\n",
       "      <th></th>\n",
       "      <th>q_id</th>\n",
       "      <th>q_posttypeid</th>\n",
       "      <th>q_acceptedanswerid</th>\n",
       "      <th>q_parentid</th>\n",
       "      <th>q_creationdate</th>\n",
       "      <th>q_score</th>\n",
       "      <th>q_viewcount</th>\n",
       "      <th>q_owneruserid</th>\n",
       "      <th>q_title</th>\n",
       "      <th>q_tags</th>\n",
       "      <th>...</th>\n",
       "      <th>a_parentid</th>\n",
       "      <th>a_creationdate</th>\n",
       "      <th>a_score</th>\n",
       "      <th>a_viewcount</th>\n",
       "      <th>a_owneruserid</th>\n",
       "      <th>a_title</th>\n",
       "      <th>a_tags</th>\n",
       "      <th>a_answercount</th>\n",
       "      <th>a_commentcount</th>\n",
       "      <th>a_reputation</th>\n",
       "    </tr>\n",
       "  </thead>\n",
       "  <tbody>\n",
       "    <tr>\n",
       "      <th>9183</th>\n",
       "      <td>77022398</td>\n",
       "      <td>1</td>\n",
       "      <td>NaN</td>\n",
       "      <td>None</td>\n",
       "      <td>2023-09-01 10:36:23.383</td>\n",
       "      <td>0</td>\n",
       "      <td>795</td>\n",
       "      <td>9849018</td>\n",
       "      <td>Cannot deserialize value of type `java.lang.St...</td>\n",
       "      <td>java deserialization jackson-databind</td>\n",
       "      <td>...</td>\n",
       "      <td>77022398</td>\n",
       "      <td>2023-09-01 11:22:27.080</td>\n",
       "      <td>0</td>\n",
       "      <td>None</td>\n",
       "      <td>15328090</td>\n",
       "      <td>None</td>\n",
       "      <td>None</td>\n",
       "      <td>None</td>\n",
       "      <td>0</td>\n",
       "      <td>91</td>\n",
       "    </tr>\n",
       "    <tr>\n",
       "      <th>9186</th>\n",
       "      <td>77021421</td>\n",
       "      <td>1</td>\n",
       "      <td>NaN</td>\n",
       "      <td>None</td>\n",
       "      <td>2023-09-01 08:00:24.553</td>\n",
       "      <td>0</td>\n",
       "      <td>60</td>\n",
       "      <td>12571132</td>\n",
       "      <td>Declare multiple property variables in log4j2....</td>\n",
       "      <td>java xml spring yaml log4j2</td>\n",
       "      <td>...</td>\n",
       "      <td>77021421</td>\n",
       "      <td>2023-09-01 09:55:19.497</td>\n",
       "      <td>0</td>\n",
       "      <td>None</td>\n",
       "      <td>15328090</td>\n",
       "      <td>None</td>\n",
       "      <td>None</td>\n",
       "      <td>None</td>\n",
       "      <td>1</td>\n",
       "      <td>91</td>\n",
       "    </tr>\n",
       "    <tr>\n",
       "      <th>9455</th>\n",
       "      <td>77004940</td>\n",
       "      <td>1</td>\n",
       "      <td>NaN</td>\n",
       "      <td>None</td>\n",
       "      <td>2023-08-30 04:10:20.370</td>\n",
       "      <td>0</td>\n",
       "      <td>80</td>\n",
       "      <td>4737012</td>\n",
       "      <td>Java Servlet HTTP Status 405 Method Not Allowed</td>\n",
       "      <td>java spring jsp tomcat java-server</td>\n",
       "      <td>...</td>\n",
       "      <td>77004940</td>\n",
       "      <td>2023-08-30 11:14:31.793</td>\n",
       "      <td>2</td>\n",
       "      <td>None</td>\n",
       "      <td>15328090</td>\n",
       "      <td>None</td>\n",
       "      <td>None</td>\n",
       "      <td>None</td>\n",
       "      <td>2</td>\n",
       "      <td>91</td>\n",
       "    </tr>\n",
       "  </tbody>\n",
       "</table>\n",
       "<p>3 rows × 26 columns</p>\n",
       "</div>"
      ],
      "text/plain": [
       "          q_id q_posttypeid  q_acceptedanswerid q_parentid  \\\n",
       "9183  77022398            1                 NaN       None   \n",
       "9186  77021421            1                 NaN       None   \n",
       "9455  77004940            1                 NaN       None   \n",
       "\n",
       "              q_creationdate  q_score  q_viewcount  q_owneruserid  \\\n",
       "9183 2023-09-01 10:36:23.383        0          795        9849018   \n",
       "9186 2023-09-01 08:00:24.553        0           60       12571132   \n",
       "9455 2023-08-30 04:10:20.370        0           80        4737012   \n",
       "\n",
       "                                                q_title  \\\n",
       "9183  Cannot deserialize value of type `java.lang.St...   \n",
       "9186  Declare multiple property variables in log4j2....   \n",
       "9455    Java Servlet HTTP Status 405 Method Not Allowed   \n",
       "\n",
       "                                      q_tags  ...  a_parentid  \\\n",
       "9183  java deserialization jackson-databind   ...    77022398   \n",
       "9186            java xml spring yaml log4j2   ...    77021421   \n",
       "9455     java spring jsp tomcat java-server   ...    77004940   \n",
       "\n",
       "              a_creationdate  a_score  a_viewcount a_owneruserid a_title  \\\n",
       "9183 2023-09-01 11:22:27.080        0         None      15328090    None   \n",
       "9186 2023-09-01 09:55:19.497        0         None      15328090    None   \n",
       "9455 2023-08-30 11:14:31.793        2         None      15328090    None   \n",
       "\n",
       "      a_tags a_answercount  a_commentcount a_reputation  \n",
       "9183    None          None               0           91  \n",
       "9186    None          None               1           91  \n",
       "9455    None          None               2           91  \n",
       "\n",
       "[3 rows x 26 columns]"
      ]
     },
     "execution_count": 27,
     "metadata": {},
     "output_type": "execute_result"
    }
   ],
   "source": [
    "df[(df['q_owneruserid']==list(di_github.nodes())[6829])|(df['a_owneruserid']==list(di_github.nodes())[6829])]"
   ]
  },
  {
   "cell_type": "code",
   "execution_count": 28,
   "metadata": {},
   "outputs": [
    {
     "data": {
      "text/html": [
       "<div>\n",
       "<style scoped>\n",
       "    .dataframe tbody tr th:only-of-type {\n",
       "        vertical-align: middle;\n",
       "    }\n",
       "\n",
       "    .dataframe tbody tr th {\n",
       "        vertical-align: top;\n",
       "    }\n",
       "\n",
       "    .dataframe thead th {\n",
       "        text-align: right;\n",
       "    }\n",
       "</style>\n",
       "<table border=\"1\" class=\"dataframe\">\n",
       "  <thead>\n",
       "    <tr style=\"text-align: right;\">\n",
       "      <th></th>\n",
       "      <th>q_id</th>\n",
       "      <th>q_posttypeid</th>\n",
       "      <th>q_acceptedanswerid</th>\n",
       "      <th>q_parentid</th>\n",
       "      <th>q_creationdate</th>\n",
       "      <th>q_score</th>\n",
       "      <th>q_viewcount</th>\n",
       "      <th>q_owneruserid</th>\n",
       "      <th>q_title</th>\n",
       "      <th>q_tags</th>\n",
       "      <th>...</th>\n",
       "      <th>a_parentid</th>\n",
       "      <th>a_creationdate</th>\n",
       "      <th>a_score</th>\n",
       "      <th>a_viewcount</th>\n",
       "      <th>a_owneruserid</th>\n",
       "      <th>a_title</th>\n",
       "      <th>a_tags</th>\n",
       "      <th>a_answercount</th>\n",
       "      <th>a_commentcount</th>\n",
       "      <th>a_reputation</th>\n",
       "    </tr>\n",
       "  </thead>\n",
       "  <tbody>\n",
       "    <tr>\n",
       "      <th>8745</th>\n",
       "      <td>77054214</td>\n",
       "      <td>1</td>\n",
       "      <td>NaN</td>\n",
       "      <td>None</td>\n",
       "      <td>2023-09-06 17:48:55.400</td>\n",
       "      <td>0</td>\n",
       "      <td>41</td>\n",
       "      <td>21674811</td>\n",
       "      <td>Is there annotation for mark a visibility vari...</td>\n",
       "      <td>java android kotlin view annotations</td>\n",
       "      <td>...</td>\n",
       "      <td>77054214</td>\n",
       "      <td>2023-09-06 18:07:59.287</td>\n",
       "      <td>1</td>\n",
       "      <td>None</td>\n",
       "      <td>3621353</td>\n",
       "      <td>None</td>\n",
       "      <td>None</td>\n",
       "      <td>None</td>\n",
       "      <td>2</td>\n",
       "      <td>3263</td>\n",
       "    </tr>\n",
       "    <tr>\n",
       "      <th>11247</th>\n",
       "      <td>76891311</td>\n",
       "      <td>1</td>\n",
       "      <td>76891377.0</td>\n",
       "      <td>None</td>\n",
       "      <td>2023-08-12 22:10:42.470</td>\n",
       "      <td>0</td>\n",
       "      <td>44</td>\n",
       "      <td>21674811</td>\n",
       "      <td>Why layout editor in android studio working in...</td>\n",
       "      <td>java android xml kotlin layout</td>\n",
       "      <td>...</td>\n",
       "      <td>76891311</td>\n",
       "      <td>2023-08-12 22:42:53.357</td>\n",
       "      <td>1</td>\n",
       "      <td>None</td>\n",
       "      <td>4592885</td>\n",
       "      <td>None</td>\n",
       "      <td>None</td>\n",
       "      <td>None</td>\n",
       "      <td>0</td>\n",
       "      <td>344</td>\n",
       "    </tr>\n",
       "  </tbody>\n",
       "</table>\n",
       "<p>2 rows × 26 columns</p>\n",
       "</div>"
      ],
      "text/plain": [
       "           q_id q_posttypeid  q_acceptedanswerid q_parentid  \\\n",
       "8745   77054214            1                 NaN       None   \n",
       "11247  76891311            1          76891377.0       None   \n",
       "\n",
       "               q_creationdate  q_score  q_viewcount  q_owneruserid  \\\n",
       "8745  2023-09-06 17:48:55.400        0           41       21674811   \n",
       "11247 2023-08-12 22:10:42.470        0           44       21674811   \n",
       "\n",
       "                                                 q_title  \\\n",
       "8745   Is there annotation for mark a visibility vari...   \n",
       "11247  Why layout editor in android studio working in...   \n",
       "\n",
       "                                      q_tags  ...  a_parentid  \\\n",
       "8745   java android kotlin view annotations   ...    77054214   \n",
       "11247        java android xml kotlin layout   ...    76891311   \n",
       "\n",
       "               a_creationdate  a_score  a_viewcount a_owneruserid a_title  \\\n",
       "8745  2023-09-06 18:07:59.287        1         None       3621353    None   \n",
       "11247 2023-08-12 22:42:53.357        1         None       4592885    None   \n",
       "\n",
       "       a_tags a_answercount  a_commentcount a_reputation  \n",
       "8745     None          None               2         3263  \n",
       "11247    None          None               0          344  \n",
       "\n",
       "[2 rows x 26 columns]"
      ]
     },
     "execution_count": 28,
     "metadata": {},
     "output_type": "execute_result"
    }
   ],
   "source": [
    "df[(df['q_owneruserid']==list(di_github.nodes())[8907])|(df['a_owneruserid']==list(di_github.nodes())[8907])]"
   ]
  },
  {
   "cell_type": "code",
   "execution_count": 31,
   "metadata": {},
   "outputs": [
    {
     "data": {
      "text/plain": [
       "21674811"
      ]
     },
     "execution_count": 31,
     "metadata": {},
     "output_type": "execute_result"
    }
   ],
   "source": [
    "list(di_github.nodes())[8907]"
   ]
  }
 ],
 "metadata": {
  "kernelspec": {
   "display_name": "Python 3 (ipykernel)",
   "language": "python",
   "name": "python3"
  },
  "language_info": {
   "codemirror_mode": {
    "name": "ipython",
    "version": 3
   },
   "file_extension": ".py",
   "mimetype": "text/x-python",
   "name": "python",
   "nbconvert_exporter": "python",
   "pygments_lexer": "ipython3",
   "version": "3.9.6"
  }
 },
 "nbformat": 4,
 "nbformat_minor": 4
}
