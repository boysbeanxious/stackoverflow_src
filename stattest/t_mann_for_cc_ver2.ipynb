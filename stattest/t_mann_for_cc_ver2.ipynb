{
 "cells": [
  {
   "cell_type": "markdown",
   "metadata": {},
   "source": [
    "chow test 이외의 방법을 적용하여서 비교보아도 GPT전/후의 차이를 보이는지 확인 \n",
    "\n",
    "t-test와 mann-whitney방법 적용 "
   ]
  },
  {
   "cell_type": "code",
   "execution_count": 1,
   "metadata": {},
   "outputs": [],
   "source": [
    "import sys, os\n",
    "p = os.path.abspath('..')\n",
    "pp = os.path.abspath('../..')\n",
    "sys.path.insert(1, p)\n",
    "sys.path.insert(1, pp)"
   ]
  },
  {
   "cell_type": "code",
   "execution_count": 2,
   "metadata": {},
   "outputs": [],
   "source": [
    "import config.config as conf\n",
    "import pickle\n",
    "from scipy.stats import levene, ttest_ind\n",
    "import datetime \n",
    "import numpy as np\n",
    "import pandas as pd\n",
    "%matplotlib inline \n",
    "import matplotlib.pyplot as plt\n",
    "from scipy.stats import mannwhitneyu\n",
    "import scipy.stats as stats\n",
    "import seaborn as sns\n",
    "import lib.annotation.Result_Prep as rp"
   ]
  },
  {
   "cell_type": "markdown",
   "metadata": {},
   "source": [
    "1.3 독립표본 t-검정 (paired sample t-test)¶  \n",
    " \n",
    "두개의 독립된 모집단의 평균을 비교하고자 할 때 사용하는 검정\n",
    "두 개의 모집단에서 크기가 n개인 표본을 각각 추출한 후 표본의 관측값들을 이용해 검정을 실시. 따라서 독립표본 t검정에서는 모집단, 모수, 표본이 모두 두개씩 존재.\n",
    "두 모집단은 정규성을 만족해야한다. 표본의 크기가 충분히 크다면 중심극한정리에 따라 정규성을 만족한다고 볼 수 있다. / 두개의 모집단은 서로 독립적이어야 한다. / 두 모집단의 분산이 서로 같음을 의미하는 등분산성 가정을 만족해야한다 (등분산성 가정은 두 독립집단의 모분산이 동일해야함을 의미)/ 독립변수는 범주형, 종속변수는 연속형이어야 한다.\n",
    "부부100쌍을 뽑아 남편 100명과 아내 100명으로 집단 비교하는 경우는 대응표본/ 무작위로 남자 100명 여자 100명을 뽑아 두 집단을 비교하는 경우는 독립표본"
   ]
  },
  {
   "cell_type": "code",
   "execution_count": 3,
   "metadata": {},
   "outputs": [],
   "source": [
    "with open(f'{conf.DATA_PATH}/data/cc_python_chow_df_ver2.pkl', 'rb') as f:\n",
    "    calc_ed_com_df = pickle.load(f)"
   ]
  },
  {
   "cell_type": "code",
   "execution_count": 4,
   "metadata": {},
   "outputs": [],
   "source": [
    "calc_ed_com_df['cdate'] = pd.to_datetime(calc_ed_com_df['cdate'])"
   ]
  },
  {
   "cell_type": "code",
   "execution_count": 5,
   "metadata": {},
   "outputs": [],
   "source": [
    "calc_ed_com_df.loc[:,  'rel_days'] = (calc_ed_com_df.loc[:,  'cdate'] - datetime.datetime(2022,11,30)).dt.days"
   ]
  },
  {
   "cell_type": "code",
   "execution_count": 6,
   "metadata": {},
   "outputs": [],
   "source": [
    "with open(f'{conf.DATA_PATH}/data/cc_python_chow_df.pkl', 'rb') as f:\n",
    "    chow_df = pickle.load(f)"
   ]
  },
  {
   "cell_type": "code",
   "execution_count": 11,
   "metadata": {},
   "outputs": [
    {
     "data": {
      "text/html": [
       "<div>\n",
       "<style scoped>\n",
       "    .dataframe tbody tr th:only-of-type {\n",
       "        vertical-align: middle;\n",
       "    }\n",
       "\n",
       "    .dataframe tbody tr th {\n",
       "        vertical-align: top;\n",
       "    }\n",
       "\n",
       "    .dataframe thead th {\n",
       "        text-align: right;\n",
       "    }\n",
       "</style>\n",
       "<table border=\"1\" class=\"dataframe\">\n",
       "  <thead>\n",
       "    <tr style=\"text-align: right;\">\n",
       "      <th></th>\n",
       "      <th>rel_days</th>\n",
       "      <th>log_cc</th>\n",
       "      <th>cdate</th>\n",
       "    </tr>\n",
       "  </thead>\n",
       "  <tbody>\n",
       "    <tr>\n",
       "      <th>0</th>\n",
       "      <td>-698</td>\n",
       "      <td>0.000000</td>\n",
       "      <td>2021-01-01</td>\n",
       "    </tr>\n",
       "    <tr>\n",
       "      <th>1</th>\n",
       "      <td>-698</td>\n",
       "      <td>0.000000</td>\n",
       "      <td>2021-01-01</td>\n",
       "    </tr>\n",
       "    <tr>\n",
       "      <th>2</th>\n",
       "      <td>-698</td>\n",
       "      <td>1.098612</td>\n",
       "      <td>2021-01-01</td>\n",
       "    </tr>\n",
       "    <tr>\n",
       "      <th>3</th>\n",
       "      <td>-698</td>\n",
       "      <td>0.000000</td>\n",
       "      <td>2021-01-01</td>\n",
       "    </tr>\n",
       "    <tr>\n",
       "      <th>4</th>\n",
       "      <td>-698</td>\n",
       "      <td>0.693147</td>\n",
       "      <td>2021-01-01</td>\n",
       "    </tr>\n",
       "  </tbody>\n",
       "</table>\n",
       "</div>"
      ],
      "text/plain": [
       "   rel_days    log_cc      cdate\n",
       "0      -698  0.000000 2021-01-01\n",
       "1      -698  0.000000 2021-01-01\n",
       "2      -698  1.098612 2021-01-01\n",
       "3      -698  0.000000 2021-01-01\n",
       "4      -698  0.693147 2021-01-01"
      ]
     },
     "execution_count": 11,
     "metadata": {},
     "output_type": "execute_result"
    }
   ],
   "source": [
    "calc_ed_com_df.head()"
   ]
  },
  {
   "cell_type": "markdown",
   "metadata": {},
   "source": [
    "정규성 확인"
   ]
  },
  {
   "cell_type": "code",
   "execution_count": 9,
   "metadata": {},
   "outputs": [],
   "source": [
    "m_p = stats.shapiro(chow_df['Cognitive Complexity']).pvalue\n",
    "# r_p = stats.shapiro(calc_ed_com_df['Cognitive Complexity']).pvalue"
   ]
  },
  {
   "cell_type": "code",
   "execution_count": 10,
   "metadata": {},
   "outputs": [
    {
     "ename": "KeyError",
     "evalue": "'Cognitive Complexity'",
     "output_type": "error",
     "traceback": [
      "\u001b[0;31m---------------------------------------------------------------------------\u001b[0m",
      "\u001b[0;31mKeyError\u001b[0m                                  Traceback (most recent call last)",
      "File \u001b[0;32m~/sopjt/git/stackoverflow_src/venv_stackoverflow_src/lib/python3.10/site-packages/pandas/core/indexes/base.py:3805\u001b[0m, in \u001b[0;36mIndex.get_loc\u001b[0;34m(self, key)\u001b[0m\n\u001b[1;32m   3804\u001b[0m \u001b[38;5;28;01mtry\u001b[39;00m:\n\u001b[0;32m-> 3805\u001b[0m     \u001b[38;5;28;01mreturn\u001b[39;00m \u001b[38;5;28;43mself\u001b[39;49m\u001b[38;5;241;43m.\u001b[39;49m\u001b[43m_engine\u001b[49m\u001b[38;5;241;43m.\u001b[39;49m\u001b[43mget_loc\u001b[49m\u001b[43m(\u001b[49m\u001b[43mcasted_key\u001b[49m\u001b[43m)\u001b[49m\n\u001b[1;32m   3806\u001b[0m \u001b[38;5;28;01mexcept\u001b[39;00m \u001b[38;5;167;01mKeyError\u001b[39;00m \u001b[38;5;28;01mas\u001b[39;00m err:\n",
      "File \u001b[0;32mindex.pyx:167\u001b[0m, in \u001b[0;36mpandas._libs.index.IndexEngine.get_loc\u001b[0;34m()\u001b[0m\n",
      "File \u001b[0;32mindex.pyx:196\u001b[0m, in \u001b[0;36mpandas._libs.index.IndexEngine.get_loc\u001b[0;34m()\u001b[0m\n",
      "File \u001b[0;32mpandas/_libs/hashtable_class_helper.pxi:7081\u001b[0m, in \u001b[0;36mpandas._libs.hashtable.PyObjectHashTable.get_item\u001b[0;34m()\u001b[0m\n",
      "File \u001b[0;32mpandas/_libs/hashtable_class_helper.pxi:7089\u001b[0m, in \u001b[0;36mpandas._libs.hashtable.PyObjectHashTable.get_item\u001b[0;34m()\u001b[0m\n",
      "\u001b[0;31mKeyError\u001b[0m: 'Cognitive Complexity'",
      "\nThe above exception was the direct cause of the following exception:\n",
      "\u001b[0;31mKeyError\u001b[0m                                  Traceback (most recent call last)",
      "Cell \u001b[0;32mIn[10], line 13\u001b[0m\n\u001b[1;32m      9\u001b[0m axs[\u001b[38;5;241m0\u001b[39m]\u001b[38;5;241m.\u001b[39mset_title(\u001b[38;5;124mf\u001b[39m\u001b[38;5;124m\"\u001b[39m\u001b[38;5;124mA. Average Cognitive Complextiy per Day\u001b[39m\u001b[38;5;124m\"\u001b[39m)\n\u001b[1;32m     10\u001b[0m axs[\u001b[38;5;241m0\u001b[39m]\u001b[38;5;241m.\u001b[39mtext(\u001b[38;5;241m1.5\u001b[39m, \u001b[38;5;241m2\u001b[39m, s\u001b[38;5;241m=\u001b[39m\u001b[38;5;124mf\u001b[39m\u001b[38;5;124m'\u001b[39m\u001b[38;5;124mp-value : \u001b[39m\u001b[38;5;132;01m{\u001b[39;00mm_p\u001b[38;5;132;01m:\u001b[39;00m\u001b[38;5;124m.4f\u001b[39m\u001b[38;5;132;01m}\u001b[39;00m\u001b[38;5;124m'\u001b[39m, fontsize \u001b[38;5;241m=\u001b[39m \u001b[38;5;241m10\u001b[39m) \u001b[38;5;66;03m#\u001b[39;00m\n\u001b[0;32m---> 13\u001b[0m stats\u001b[38;5;241m.\u001b[39mprobplot(\u001b[43mcalc_ed_com_df\u001b[49m\u001b[43m[\u001b[49m\u001b[38;5;124;43m'\u001b[39;49m\u001b[38;5;124;43mCognitive Complexity\u001b[39;49m\u001b[38;5;124;43m'\u001b[39;49m\u001b[43m]\u001b[49m, plot\u001b[38;5;241m=\u001b[39maxs[\u001b[38;5;241m1\u001b[39m])\n\u001b[1;32m     14\u001b[0m axs[\u001b[38;5;241m1\u001b[39m]\u001b[38;5;241m.\u001b[39mset_title(\u001b[38;5;124mf\u001b[39m\u001b[38;5;124m\"\u001b[39m\u001b[38;5;124mB. Raw Cognitive Complextiy\u001b[39m\u001b[38;5;124m\"\u001b[39m)\n\u001b[1;32m     15\u001b[0m axs[\u001b[38;5;241m1\u001b[39m]\u001b[38;5;241m.\u001b[39mtext(\u001b[38;5;241m1.5\u001b[39m, \u001b[38;5;241m2\u001b[39m, s\u001b[38;5;241m=\u001b[39m\u001b[38;5;124mf\u001b[39m\u001b[38;5;124m'\u001b[39m\u001b[38;5;124mp-value : \u001b[39m\u001b[38;5;132;01m{\u001b[39;00mr_p\u001b[38;5;132;01m:\u001b[39;00m\u001b[38;5;124m.4f\u001b[39m\u001b[38;5;132;01m}\u001b[39;00m\u001b[38;5;124m'\u001b[39m, fontsize \u001b[38;5;241m=\u001b[39m \u001b[38;5;241m10\u001b[39m) \u001b[38;5;66;03m#\u001b[39;00m\n",
      "File \u001b[0;32m~/sopjt/git/stackoverflow_src/venv_stackoverflow_src/lib/python3.10/site-packages/pandas/core/frame.py:4102\u001b[0m, in \u001b[0;36mDataFrame.__getitem__\u001b[0;34m(self, key)\u001b[0m\n\u001b[1;32m   4100\u001b[0m \u001b[38;5;28;01mif\u001b[39;00m \u001b[38;5;28mself\u001b[39m\u001b[38;5;241m.\u001b[39mcolumns\u001b[38;5;241m.\u001b[39mnlevels \u001b[38;5;241m>\u001b[39m \u001b[38;5;241m1\u001b[39m:\n\u001b[1;32m   4101\u001b[0m     \u001b[38;5;28;01mreturn\u001b[39;00m \u001b[38;5;28mself\u001b[39m\u001b[38;5;241m.\u001b[39m_getitem_multilevel(key)\n\u001b[0;32m-> 4102\u001b[0m indexer \u001b[38;5;241m=\u001b[39m \u001b[38;5;28;43mself\u001b[39;49m\u001b[38;5;241;43m.\u001b[39;49m\u001b[43mcolumns\u001b[49m\u001b[38;5;241;43m.\u001b[39;49m\u001b[43mget_loc\u001b[49m\u001b[43m(\u001b[49m\u001b[43mkey\u001b[49m\u001b[43m)\u001b[49m\n\u001b[1;32m   4103\u001b[0m \u001b[38;5;28;01mif\u001b[39;00m is_integer(indexer):\n\u001b[1;32m   4104\u001b[0m     indexer \u001b[38;5;241m=\u001b[39m [indexer]\n",
      "File \u001b[0;32m~/sopjt/git/stackoverflow_src/venv_stackoverflow_src/lib/python3.10/site-packages/pandas/core/indexes/base.py:3812\u001b[0m, in \u001b[0;36mIndex.get_loc\u001b[0;34m(self, key)\u001b[0m\n\u001b[1;32m   3807\u001b[0m     \u001b[38;5;28;01mif\u001b[39;00m \u001b[38;5;28misinstance\u001b[39m(casted_key, \u001b[38;5;28mslice\u001b[39m) \u001b[38;5;129;01mor\u001b[39;00m (\n\u001b[1;32m   3808\u001b[0m         \u001b[38;5;28misinstance\u001b[39m(casted_key, abc\u001b[38;5;241m.\u001b[39mIterable)\n\u001b[1;32m   3809\u001b[0m         \u001b[38;5;129;01mand\u001b[39;00m \u001b[38;5;28many\u001b[39m(\u001b[38;5;28misinstance\u001b[39m(x, \u001b[38;5;28mslice\u001b[39m) \u001b[38;5;28;01mfor\u001b[39;00m x \u001b[38;5;129;01min\u001b[39;00m casted_key)\n\u001b[1;32m   3810\u001b[0m     ):\n\u001b[1;32m   3811\u001b[0m         \u001b[38;5;28;01mraise\u001b[39;00m InvalidIndexError(key)\n\u001b[0;32m-> 3812\u001b[0m     \u001b[38;5;28;01mraise\u001b[39;00m \u001b[38;5;167;01mKeyError\u001b[39;00m(key) \u001b[38;5;28;01mfrom\u001b[39;00m \u001b[38;5;21;01merr\u001b[39;00m\n\u001b[1;32m   3813\u001b[0m \u001b[38;5;28;01mexcept\u001b[39;00m \u001b[38;5;167;01mTypeError\u001b[39;00m:\n\u001b[1;32m   3814\u001b[0m     \u001b[38;5;66;03m# If we have a listlike key, _check_indexing_error will raise\u001b[39;00m\n\u001b[1;32m   3815\u001b[0m     \u001b[38;5;66;03m#  InvalidIndexError. Otherwise we fall through and re-raise\u001b[39;00m\n\u001b[1;32m   3816\u001b[0m     \u001b[38;5;66;03m#  the TypeError.\u001b[39;00m\n\u001b[1;32m   3817\u001b[0m     \u001b[38;5;28mself\u001b[39m\u001b[38;5;241m.\u001b[39m_check_indexing_error(key)\n",
      "\u001b[0;31mKeyError\u001b[0m: 'Cognitive Complexity'"
     ]
    },
    {
     "data": {
      "image/png": "[encoded data removed]",
      "text/plain": [
       "<Figure size 1200x500 with 2 Axes>"
      ]
     },
     "metadata": {},
     "output_type": "display_data"
    }
   ],
   "source": [
    "### create a figure with multiple subplots\n",
    "sharey = False ## 또는 sharey=False\n",
    "sharex = False ## 또는 sharex=False\n",
    "\n",
    "fig, axs = plt.subplots(1, 2, figsize = (12, 5), sharey=sharey, sharex=sharex)\n",
    "\n",
    "\n",
    "stats.probplot(chow_df['Cognitive Complexity'], plot=axs[0])\n",
    "axs[0].set_title(f\"A. Average Cognitive Complextiy per Day\")\n",
    "axs[0].text(1.5, 2, s=f'p-value : {m_p:.4f}', fontsize = 10) #\n",
    "\n",
    "\n",
    "stats.probplot(calc_ed_com_df['Cognitive Complexity'], plot=axs[1])\n",
    "axs[1].set_title(f\"B. Raw Cognitive Complextiy\")\n",
    "axs[1].text(1.5, 2, s=f'p-value : {r_p:.4f}', fontsize = 10) #\n",
    "\n",
    "\n",
    "fig.tight_layout()\n",
    "plt.show();"
   ]
  },
  {
   "cell_type": "code",
   "execution_count": 9,
   "metadata": {},
   "outputs": [],
   "source": [
    "def ttest_simulation(df, iv, max_diff_day):\n",
    "    return_df = pd.DataFrame()\n",
    "\n",
    "    for i in range(30, 30+max_diff_day):\n",
    "        af_df = df[(df['rel_days']>=0) & (df['rel_days'] <0+i)  ]\n",
    "        bf_df = df[(df['rel_days'] <0) & (df['rel_days']>=0-i)  ]\n",
    "\n",
    "        if levene(bf_df[iv],af_df[iv]).pvalue >=0.05 :\n",
    "            pvalue = ttest_ind(bf_df[iv],af_df[iv], equal_var=False).pvalue\n",
    "        else : \n",
    "            pvalue = ttest_ind(bf_df[iv],af_df[iv]).pvalue\n",
    "\n",
    "        n_rows = pd.DataFrame({'diff_day': [i], 'pvalue': [float(f'{pvalue:0.3f}')]})\n",
    "        return_df = pd.concat([return_df, n_rows], axis = 0).reset_index(drop=True)\n",
    "\n",
    "    return return_df\n"
   ]
  },
  {
   "cell_type": "code",
   "execution_count": 10,
   "metadata": {},
   "outputs": [],
   "source": [
    "def mann_simulation(df, iv, max_diff_day):\n",
    "    return_df = pd.DataFrame()\n",
    "\n",
    "    for i in range(30, 30+max_diff_day):\n",
    "        af_df = df[(df['rel_days']>=0) & (df['rel_days'] <0+i)  ]\n",
    "        bf_df = df[(df['rel_days'] <0) & (df['rel_days']>=0-i)  ]\n",
    "\n",
    "        stat, p = mannwhitneyu(af_df[iv], bf_df[iv])\n",
    "\n",
    "        n_rows = pd.DataFrame({'diff_day': [i], 'pvalue': [float(f'{p:0.3f}')]})\n",
    "        return_df = pd.concat([return_df, n_rows], axis = 0).reset_index(drop=True)\n",
    "\n",
    "    return return_df\n"
   ]
  },
  {
   "cell_type": "code",
   "execution_count": 11,
   "metadata": {},
   "outputs": [],
   "source": [
    "chow_p_tdf              = ttest_simulation(chow_df,'Cognitive Complexity',  270)\n",
    "calc_ed_com_df_p_tdf    = ttest_simulation(calc_ed_com_df,'Cognitive Complexity',270)\n",
    "\n",
    "chow_p_mdf              = mann_simulation(chow_df,'Cognitive Complexity',  270)\n",
    "calc_ed_com_df_p_mdf    = mann_simulation(calc_ed_com_df,'Cognitive Complexity',270)\n"
   ]
  },
  {
   "cell_type": "code",
   "execution_count": null,
   "metadata": {},
   "outputs": [],
   "source": [
    "### create a figure with multiple subplots\n",
    "sharey = True ## 또는 sharey=False\n",
    "sharex = True ## 또는 sharex=False\n",
    "\n",
    "fig, axs = plt.subplots(1, 2, figsize = (12, 5), sharey=sharey, sharex=sharex)\n",
    "\n",
    "\n",
    "axs[0].plot(chow_p_tdf['diff_day'], chow_p_tdf['pvalue'], label=\"Average Cognitive Complexity\", color=\"green\") \n",
    "axs[0].plot(calc_ed_com_df_p_tdf['diff_day'], calc_ed_com_df_p_tdf['pvalue'], label=\"Total Cognitive Complexity\", color=\"CornflowerBlue\")  \n",
    "axs[0].set_xlabel('size of timeframe')\n",
    "axs[0].set_ylabel('p-value')\n",
    "axs[0].axhline(0.05, color='orange', linestyle=':', linewidth=1)\n",
    "axs[0].axvline(110, color='red', linestyle='--', linewidth=1)\n",
    "axs[0].set_title('t-test for Cognitive Complexity')\n",
    "axs[0].grid(color='lightgray', linestyle = '--', linewidth = 0.5)\n",
    "axs[0].legend()\n",
    "\n",
    "\n",
    "axs[1].plot(chow_p_mdf['diff_day'], chow_p_mdf['pvalue'], label=\"Average Cognitive Complexity\", color=\"green\") \n",
    "axs[1].plot(calc_ed_com_df_p_mdf['diff_day'], calc_ed_com_df_p_mdf['pvalue'], label=\"Total Cognitive Complexity\", color=\"CornflowerBlue\")  \n",
    "axs[1].set_xlabel('size of timeframe')\n",
    "axs[1].set_ylabel('p-value')\n",
    "axs[1].axhline(0.05, color='orange', linestyle=':', linewidth=1)\n",
    "axs[1].axvline(110, color='red', linestyle='--', linewidth=1)\n",
    "axs[1].set_title('mann-whitney for Cognitive Complexity')\n",
    "axs[1].grid(color='lightgray', linestyle = '--', linewidth = 0.5)\n",
    "axs[1].legend()\n",
    "\n",
    "plt.show();\n",
    "\n"
   ]
  },
  {
   "cell_type": "code",
   "execution_count": 25,
   "metadata": {},
   "outputs": [],
   "source": [
    "from scipy.stats import mannwhitneyu\n",
    "\n",
    "def errorbar_pp(df, std_date, iv):\n",
    "    af_df = df[(df['rel_days']>=0) & (df['rel_days'] <0+std_date)  ]\n",
    "    bf_df = df[(df['rel_days'] <0) & (df['rel_days']>=0-std_date)  ]\n",
    "\n",
    "    \n",
    "    means = [np.mean(bf_df[iv]), np.mean(af_df[iv])]  # 그룹 평균\n",
    "    std_devs = [bf_df[iv].std(), af_df[iv].std()]  # 그룹 표준편차 (또는 표준오차)\n",
    "    stat, p = mannwhitneyu(bf_df[iv], af_df[iv])\n",
    "\n",
    "    return means, std_devs, stat, p\n",
    "\n"
   ]
  },
  {
   "cell_type": "code",
   "execution_count": 26,
   "metadata": {},
   "outputs": [],
   "source": [
    "means_0, std_devs_0, stat_0, p_0  = errorbar_pp(chow_df, 150, 'Cognitive Complexity')\n",
    "means_1, std_devs_1, stat_1, p_1  = errorbar_pp(calc_ed_com_df, 150, 'Cognitive Complexity')\n",
    "\n"
   ]
  },
  {
   "cell_type": "code",
   "execution_count": null,
   "metadata": {},
   "outputs": [],
   "source": [
    "groups = ['Before', 'After']\n",
    "\n",
    "sharey = False ## 또는 sharey=False\n",
    "sharex = True ## 또는 sharex=False\n",
    "\n",
    "fig, axs = plt.subplots(1, 2, figsize = (15, 5), sharey=sharey, sharex=sharex)\n",
    "\n",
    "\n",
    "axs[0].errorbar(groups, means_0, yerr=std_devs_0, fmt='o-', color='black', ecolor='black', capsize=5, elinewidth=1.2, markerfacecolor='white', markersize=8)\n",
    "axs[0].set_xlabel(f'{p_0:0.4f}')\n",
    "axs[0].set_ylabel('Mean')\n",
    "axs[0].set_title(f'A : Average Cognitive Complexity per Day')\n",
    "\n",
    "axs[1].errorbar(groups, means_1, yerr=std_devs_1, fmt='o-', color='black', ecolor='black', capsize=5, elinewidth=1.2, markerfacecolor='white', markersize=8)\n",
    "axs[1].set_xlabel(f'{p_1:0.4f}')\n",
    "axs[1].set_ylabel('Mean')\n",
    "axs[1].set_title('B : Total Cognitive Complexity')\n",
    "\n",
    "fig.tight_layout()\n",
    "plt.show();\n",
    "\n"
   ]
  },
  {
   "cell_type": "code",
   "execution_count": null,
   "metadata": {},
   "outputs": [],
   "source": []
  }
 ],
 "metadata": {
  "kernelspec": {
   "display_name": "venv_stackoverflow_src",
   "language": "python",
   "name": "python3"
  },
  "language_info": {
   "codemirror_mode": {
    "name": "ipython",
    "version": 3
   },
   "file_extension": ".py",
   "mimetype": "text/x-python",
   "name": "python",
   "nbconvert_exporter": "python",
   "pygments_lexer": "ipython3",
   "version": "3.10.12"
  }
 },
 "nbformat": 4,
 "nbformat_minor": 4
}
