{
 "cells": [
  {
   "cell_type": "markdown",
   "metadata": {},
   "source": [
    "chow test 이외의 방법을 적용하여서 비교보아도 GPT전/후의 차이를 보이는지 확인 \n",
    "\n",
    "t-test와 mann-whitney방법 적용 "
   ]
  },
  {
   "cell_type": "code",
   "execution_count": 1,
   "metadata": {},
   "outputs": [],
   "source": [
    "import sys, os\n",
    "p = os.path.abspath('..')\n",
    "pp = os.path.abspath('../..')\n",
    "sys.path.insert(1, p)\n",
    "sys.path.insert(1, pp)"
   ]
  },
  {
   "cell_type": "code",
   "execution_count": 2,
   "metadata": {},
   "outputs": [],
   "source": [
    "import config.config as conf\n",
    "import pickle\n",
    "from scipy.stats import levene, ttest_ind\n",
    "import datetime \n",
    "import numpy as np\n",
    "import pandas as pd\n",
    "%matplotlib inline \n",
    "import matplotlib.pyplot as plt\n",
    "from scipy.stats import mannwhitneyu\n",
    "import scipy.stats as stats\n",
    "import seaborn as sns\n",
    "import lib.annotation.Result_Prep as rp"
   ]
  },
  {
   "cell_type": "markdown",
   "metadata": {},
   "source": [
    "1.3 독립표본 t-검정 (paired sample t-test)¶  \n",
    " \n",
    "두개의 독립된 모집단의 평균을 비교하고자 할 때 사용하는 검정\n",
    "두 개의 모집단에서 크기가 n개인 표본을 각각 추출한 후 표본의 관측값들을 이용해 검정을 실시. 따라서 독립표본 t검정에서는 모집단, 모수, 표본이 모두 두개씩 존재.\n",
    "두 모집단은 정규성을 만족해야한다. 표본의 크기가 충분히 크다면 중심극한정리에 따라 정규성을 만족한다고 볼 수 있다. / 두개의 모집단은 서로 독립적이어야 한다. / 두 모집단의 분산이 서로 같음을 의미하는 등분산성 가정을 만족해야한다 (등분산성 가정은 두 독립집단의 모분산이 동일해야함을 의미)/ 독립변수는 범주형, 종속변수는 연속형이어야 한다.\n",
    "부부100쌍을 뽑아 남편 100명과 아내 100명으로 집단 비교하는 경우는 대응표본/ 무작위로 남자 100명 여자 100명을 뽑아 두 집단을 비교하는 경우는 독립표본"
   ]
  },
  {
   "cell_type": "code",
   "execution_count": 3,
   "metadata": {},
   "outputs": [],
   "source": [
    "with open(f'{conf.DATA_PATH}/data/m_chk_cnt_0.pkl', 'rb') as f:\n",
    "    m_chk_cnt_0 = pickle.load(f)"
   ]
  },
  {
   "cell_type": "code",
   "execution_count": 4,
   "metadata": {},
   "outputs": [],
   "source": [
    "with open(f'{conf.DATA_PATH}/data/m_chk_cnt_1.pkl', 'rb') as f:\n",
    "    m_chk_cnt_1 = pickle.load(f)"
   ]
  },
  {
   "cell_type": "code",
   "execution_count": 5,
   "metadata": {},
   "outputs": [],
   "source": [
    "with open(f'{conf.DATA_PATH}/data/m_chk_cnt_2.pkl', 'rb') as f:\n",
    "    m_chk_cnt_2 = pickle.load(f)"
   ]
  },
  {
   "cell_type": "code",
   "execution_count": 6,
   "metadata": {},
   "outputs": [],
   "source": [
    "path = f'../LLM/result'\n",
    "file_list = os.listdir(path)"
   ]
  },
  {
   "cell_type": "code",
   "execution_count": 7,
   "metadata": {},
   "outputs": [],
   "source": [
    "r_p = rp.Result_Prep()"
   ]
  },
  {
   "cell_type": "code",
   "execution_count": 8,
   "metadata": {},
   "outputs": [],
   "source": [
    "ver_list = sorted([y for y in [x for x in file_list if x.isdigit()] if (int(y)==11110000)])"
   ]
  },
  {
   "cell_type": "code",
   "execution_count": 9,
   "metadata": {},
   "outputs": [
    {
     "name": "stdout",
     "output_type": "stream",
     "text": [
      "['11110000']\n"
     ]
    }
   ],
   "source": [
    "print(ver_list)"
   ]
  },
  {
   "cell_type": "code",
   "execution_count": 10,
   "metadata": {},
   "outputs": [],
   "source": [
    "tot_calc = pd.DataFrame()\n",
    "for listid in ver_list:\n",
    "    df = r_p.make_one_file(listid)\n",
    "    if isinstance(df, pd.core.frame.DataFrame):\n",
    "        df = r_p.pp_df(df, 5)\n",
    "        df = r_p.calc_rate(df)\n",
    "        tot_calc = pd.concat([tot_calc, df], axis = 0)\n",
    "\n",
    "    "
   ]
  },
  {
   "cell_type": "code",
   "execution_count": 13,
   "metadata": {},
   "outputs": [
    {
     "data": {
      "text/plain": [
       "Timestamp('2023-09-18 00:00:00')"
      ]
     },
     "execution_count": 13,
     "metadata": {},
     "output_type": "execute_result"
    }
   ],
   "source": [
    "tot_calc['creationdate'].max()"
   ]
  },
  {
   "cell_type": "markdown",
   "metadata": {},
   "source": [
    "정규성 확인"
   ]
  },
  {
   "cell_type": "code",
   "execution_count": 11,
   "metadata": {},
   "outputs": [],
   "source": [
    "b_p = stats.shapiro(m_chk_cnt_0['rate']).pvalue\n",
    "i_p = stats.shapiro(m_chk_cnt_1['rate']).pvalue\n",
    "a_p = stats.shapiro(m_chk_cnt_2['rate']).pvalue"
   ]
  },
  {
   "cell_type": "code",
   "execution_count": null,
   "metadata": {},
   "outputs": [],
   "source": [
    "### create a figure with multiple subplots\n",
    "sharey = True ## 또는 sharey=False\n",
    "sharex = True ## 또는 sharex=False\n",
    "\n",
    "fig, axs = plt.subplots(1, 3, figsize = (15, 5), sharey=sharey, sharex=sharex)\n",
    "\n",
    "\n",
    "stats.probplot(m_chk_cnt_0['rate'], plot=axs[0])\n",
    "axs[0].set_title(f\"A. Basic Level Question\")\n",
    "axs[0].text(1.5, 0, s=f'p-value : {b_p:.4f}', fontsize = 10) #\n",
    "\n",
    "\n",
    "stats.probplot(m_chk_cnt_1['rate'], plot=axs[1])\n",
    "axs[1].set_title(f\"B. Intermediate Level Question\")\n",
    "axs[1].text(1.5, 0, s=f'p-value : {i_p:.4f}', fontsize = 10) #\n",
    "\n",
    "stats.probplot(m_chk_cnt_2['rate'], plot=axs[2])\n",
    "axs[2].set_title(f\"C. Advanced Level Question\")\n",
    "axs[2].text(1.5, 0, s=f'p-value : {a_p:.4f}', fontsize = 10) #\n",
    "\n",
    "fig.tight_layout()\n",
    "plt.show();"
   ]
  },
  {
   "cell_type": "code",
   "execution_count": 36,
   "metadata": {},
   "outputs": [],
   "source": [
    "def ttest_simulation(df, iv, max_diff_day):\n",
    "    return_df = pd.DataFrame()\n",
    "\n",
    "    for i in range(30, 30+max_diff_day):\n",
    "        af_df = df[(df['rel_days']>=0) & (df['rel_days'] <0+i)  ]\n",
    "        bf_df = df[(df['rel_days'] <0) & (df['rel_days']>=0-i)  ]\n",
    "\n",
    "        if levene(bf_df[iv],af_df[iv]).pvalue >=0.05 :\n",
    "            pvalue = ttest_ind(bf_df[iv],af_df[iv], equal_var=False).pvalue\n",
    "        else : \n",
    "            pvalue = ttest_ind(bf_df[iv],af_df[iv]).pvalue\n",
    "\n",
    "        n_rows = pd.DataFrame({'diff_day': [i], 'pvalue': [float(f'{pvalue:0.4f}')]})\n",
    "        return_df = pd.concat([return_df, n_rows], axis = 0).reset_index(drop=True)\n",
    "\n",
    "    return return_df\n"
   ]
  },
  {
   "cell_type": "code",
   "execution_count": 37,
   "metadata": {},
   "outputs": [],
   "source": [
    "def mann_simulation(df, iv, max_diff_day):\n",
    "    return_df = pd.DataFrame()\n",
    "\n",
    "    for i in range(30, 30+max_diff_day):\n",
    "        af_df = df[(df['rel_days']>=0) & (df['rel_days'] <0+i)  ]\n",
    "        bf_df = df[(df['rel_days'] <0) & (df['rel_days']>=0-i)  ]\n",
    "\n",
    "        stat, p = mannwhitneyu(af_df[iv], bf_df[iv])\n",
    "\n",
    "        n_rows = pd.DataFrame({'diff_day': [i], 'pvalue': [float(f'{p:0.4f}')]})\n",
    "        return_df = pd.concat([return_df, n_rows], axis = 0).reset_index(drop=True)\n",
    "\n",
    "    return return_df\n"
   ]
  },
  {
   "cell_type": "code",
   "execution_count": 38,
   "metadata": {},
   "outputs": [],
   "source": [
    "m_chk_cnt_0_p_tdf = ttest_simulation(m_chk_cnt_0,    'rate',     270)\n",
    "m_chk_cnt_1_p_tdf = ttest_simulation(m_chk_cnt_1,    'rate',     270)\n",
    "m_chk_cnt_2_p_tdf = ttest_simulation(m_chk_cnt_2,    'rate',     270)\n",
    "\n",
    "\n",
    "m_chk_cnt_0_p_mdf = mann_simulation(m_chk_cnt_0,    'rate',     270)\n",
    "m_chk_cnt_1_p_mdf = mann_simulation(m_chk_cnt_1,    'rate',     270)\n",
    "m_chk_cnt_2_p_mdf = mann_simulation(m_chk_cnt_2,    'rate',     270)\n"
   ]
  },
  {
   "cell_type": "code",
   "execution_count": null,
   "metadata": {},
   "outputs": [],
   "source": [
    "### create a figure with multiple subplots\n",
    "sharey = True ## 또는 sharey=False\n",
    "sharex = True ## 또는 sharex=False\n",
    "\n",
    "fig, axs = plt.subplots(1, 2, figsize = (12, 5), sharey=sharey, sharex=sharex)\n",
    "\n",
    "\n",
    "axs[0].plot(m_chk_cnt_0_p_tdf['diff_day'], m_chk_cnt_0_p_tdf['pvalue'], label=\"Basic\", color=\"green\") \n",
    "axs[0].plot(m_chk_cnt_1_p_tdf['diff_day'], m_chk_cnt_1_p_tdf['pvalue'], label=\"Intermediate\", color=\"CornflowerBlue\")  \n",
    "axs[0].plot(m_chk_cnt_2_p_tdf['diff_day'], m_chk_cnt_2_p_tdf['pvalue'], label=\"Advance\", color=\"hotpink\")  \n",
    "axs[0].set_xlabel('size of timeframe')\n",
    "axs[0].set_ylabel('p-value')\n",
    "axs[0].axhline(0.05, color='orange', linestyle=':', linewidth=1)\n",
    "axs[0].axvline(50, color='red', linestyle='--', linewidth=1)\n",
    "axs[0].set_title('t-test for Difficulty')\n",
    "axs[0].grid(color='lightgray', linestyle = '--', linewidth = 0.5)\n",
    "axs[0].legend()\n",
    "\n",
    "axs[1].plot(m_chk_cnt_0_p_mdf['diff_day'], m_chk_cnt_0_p_mdf['pvalue'], label=\"Basic\", color=\"green\") \n",
    "axs[1].plot(m_chk_cnt_1_p_mdf['diff_day'], m_chk_cnt_1_p_mdf['pvalue'], label=\"Intermediate\", color=\"CornflowerBlue\")  \n",
    "axs[1].plot(m_chk_cnt_2_p_mdf['diff_day'], m_chk_cnt_2_p_mdf['pvalue'], label=\"Advance\", color=\"hotpink\")\n",
    "axs[1].set_xlabel('size of timeframe')\n",
    "axs[1].set_ylabel('p-value')\n",
    "axs[1].axhline(0.05, color='orange', linestyle=':', linewidth=1)\n",
    "axs[1].axvline(50, color='red', linestyle='--', linewidth=1)\n",
    "axs[1].set_title('mann-whitney for Difficulty')\n",
    "axs[1].grid(color='lightgray', linestyle = '--', linewidth = 0.5)\n",
    "axs[1].legend()\n",
    "\n",
    "plt.show();"
   ]
  },
  {
   "cell_type": "code",
   "execution_count": 46,
   "metadata": {},
   "outputs": [],
   "source": [
    "from scipy.stats import mannwhitneyu\n",
    "\n",
    "def errorbar_pp(df, std_date, iv):\n",
    "    af_df = df[(df['rel_days']>=0) & (df['rel_days'] <0+std_date)  ]\n",
    "    bf_df = df[(df['rel_days'] <0) & (df['rel_days']>=0-std_date)  ]\n",
    "\n",
    "    \n",
    "    means = [np.mean(bf_df[iv]), np.mean(af_df[iv])]  # 그룹 평균\n",
    "    std_devs = [bf_df[iv].std(), af_df[iv].std()]  # 그룹 표준편차 (또는 표준오차)\n",
    "    stat, p = mannwhitneyu(bf_df[iv], af_df[iv])\n",
    "\n",
    "    return means, std_devs, stat, p\n",
    "\n"
   ]
  },
  {
   "cell_type": "code",
   "execution_count": 56,
   "metadata": {},
   "outputs": [],
   "source": [
    "means_0, std_devs_0, stat_0, p_0  = errorbar_pp(m_chk_cnt_0, 150, 'rate')\n",
    "means_1, std_devs_1, stat_1, p_1  = errorbar_pp(m_chk_cnt_1, 150, 'rate')\n",
    "means_2, std_devs_2, stat_2, p_2  = errorbar_pp(m_chk_cnt_2, 150, 'rate')"
   ]
  },
  {
   "cell_type": "code",
   "execution_count": null,
   "metadata": {},
   "outputs": [],
   "source": [
    "groups = ['Before', 'After']\n",
    "\n",
    "sharey = True ## 또는 sharey=False\n",
    "sharex = True ## 또는 sharex=False\n",
    "\n",
    "fig, axs = plt.subplots(1, 3, figsize = (15, 5), sharey=sharey, sharex=sharex)\n",
    "\n",
    "\n",
    "axs[0].errorbar(groups, means_0, yerr=std_devs_0, fmt='o-', color='black', ecolor='black', capsize=5, elinewidth=1.2, markerfacecolor='white', markersize=8)\n",
    "axs[0].set_xlabel(f'{p_0:0.4f}')\n",
    "axs[0].set_ylabel('Mean')\n",
    "axs[0].set_title(f'A : Basic Level')\n",
    "\n",
    "axs[1].errorbar(groups, means_1, yerr=std_devs_1, fmt='o-', color='black', ecolor='black', capsize=5, elinewidth=1.2, markerfacecolor='white', markersize=8)\n",
    "axs[1].set_xlabel(f'{p_1:0.4f}')\n",
    "axs[1].set_ylabel('Mean')\n",
    "axs[1].set_title('B : Intermediate Level')\n",
    "\n",
    "axs[2].errorbar(groups, means_2, yerr=std_devs_2, fmt='o-', color='black', ecolor='black', capsize=5, elinewidth=1.2, markerfacecolor='white', markersize=8)\n",
    "axs[2].set_xlabel(f'{p_2:0.4f}')\n",
    "axs[2].set_ylabel('Mean')\n",
    "axs[2].set_title('C : Advanced Level')\n",
    "fig.tight_layout()\n",
    "plt.show();\n",
    "\n"
   ]
  },
  {
   "cell_type": "code",
   "execution_count": null,
   "metadata": {},
   "outputs": [],
   "source": []
  },
  {
   "cell_type": "code",
   "execution_count": null,
   "metadata": {},
   "outputs": [],
   "source": []
  },
  {
   "cell_type": "code",
   "execution_count": null,
   "metadata": {},
   "outputs": [],
   "source": []
  }
 ],
 "metadata": {
  "kernelspec": {
   "display_name": "venv_stackoverflow_src",
   "language": "python",
   "name": "python3"
  },
  "language_info": {
   "codemirror_mode": {
    "name": "ipython",
    "version": 3
   },
   "file_extension": ".py",
   "mimetype": "text/x-python",
   "name": "python",
   "nbconvert_exporter": "python",
   "pygments_lexer": "ipython3",
   "version": "3.10.12"
  }
 },
 "nbformat": 4,
 "nbformat_minor": 4
}
