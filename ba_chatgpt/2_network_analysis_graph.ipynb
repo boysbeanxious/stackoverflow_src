{
 "cells": [
  {
   "cell_type": "code",
   "execution_count": 7,
   "metadata": {},
   "outputs": [],
   "source": [
    "import psycopg2\n",
    "import pandas as pd\n",
    "import seaborn as sns\n",
    "import matplotlib.pyplot as plt\n",
    "import networkx as nx\n",
    "import numpy as np\n",
    "import time\n",
    "import pprint\n",
    "import metis\n",
    "import networkit as nk\n",
    "from networkit import vizbridges\n",
    "import pickle\n",
    "import powerlaw"
   ]
  },
  {
   "cell_type": "code",
   "execution_count": 8,
   "metadata": {},
   "outputs": [],
   "source": [
    "# 파일 불러오기\n",
    "with open('../../data/df_bf_c_df.pkl', 'rb') as f:\n",
    "    df_bf_c = pickle.load(f)\n",
    "\n",
    "# 파일 불러오기\n",
    "with open('../../data/df_md_c_df.pkl', 'rb') as f:\n",
    "    df_md_c = pickle.load(f)\n",
    "\n",
    "# 파일 불러오기\n",
    "with open('../../data/df_af_c_df.pkl', 'rb') as f:\n",
    "    df_af_c = pickle.load(f)"
   ]
  },
  {
   "cell_type": "code",
   "execution_count": 9,
   "metadata": {},
   "outputs": [],
   "source": [
    "df_gephi_b = df_bf_c[['q_owneruserid', 'a_owneruserid']]\n",
    "df_gephi_m = df_md_c[['q_owneruserid', 'a_owneruserid']]\n",
    "df_gephi_a = df_af_c[['q_owneruserid', 'a_owneruserid']]"
   ]
  },
  {
   "cell_type": "code",
   "execution_count": 10,
   "metadata": {},
   "outputs": [],
   "source": [
    "df_gephi_b.columns = ['Source', 'Target']\n",
    "df_gephi_m.columns = ['Source', 'Target']\n",
    "df_gephi_a.columns = ['Source', 'Target']"
   ]
  },
  {
   "cell_type": "code",
   "execution_count": 11,
   "metadata": {},
   "outputs": [],
   "source": [
    "\n",
    "github_b = nx.DiGraph()\n",
    "github_b.add_nodes_from(np.unique(np.append(df_gephi_b['Source'].values, df_gephi_b['Target'].values)))\n",
    "github_b.add_edges_from(list(zip(df_gephi_b['Source'], df_gephi_b['Target'])))\n",
    "\n",
    "\n",
    "github_m = nx.DiGraph()\n",
    "github_m.add_nodes_from(np.unique(np.append(df_gephi_m['Source'].values, df_gephi_m['Target'].values)))\n",
    "github_m.add_edges_from(list(zip(df_gephi_m['Source'], df_gephi_m['Target'])))\n",
    "\n",
    "github_a = nx.DiGraph()\n",
    "github_a.add_nodes_from(np.unique(np.append(df_gephi_a['Source'].values, df_gephi_a['Target'].values)))\n",
    "github_a.add_edges_from(list(zip(df_gephi_a['Source'], df_gephi_a['Target'])))"
   ]
  },
  {
   "cell_type": "code",
   "execution_count": 12,
   "metadata": {},
   "outputs": [],
   "source": [
    "degree_b = nx.degree_centrality(github_b)\n",
    "indegree_b = nx.in_degree_centrality(github_b)\n",
    "outdegree_b = nx.out_degree_centrality(github_b)\n",
    "eigenvector_b = nx.eigenvector_centrality_numpy(github_b)\n",
    "betweenness_b = nx.betweenness_centrality(github_b)\n",
    "closeness_b = nx.closeness_centrality(github_b)\n",
    "\n",
    "\n",
    "nx.set_node_attributes(github_b, degree_b, 'degree')\n",
    "nx.set_node_attributes(github_b, indegree_b, 'indegree')\n",
    "nx.set_node_attributes(github_b, outdegree_b, 'outdegree')\n",
    "nx.set_node_attributes(github_b, eigenvector_b, 'eigenvector')\n",
    "nx.set_node_attributes(github_b, betweenness_b, 'betweenness')\n",
    "nx.set_node_attributes(github_b, closeness_b, 'closeness')\n",
    "\n",
    "df_centrality_b = pd.DataFrame.from_dict(dict(github_b.nodes(data=True)), orient='index')"
   ]
  },
  {
   "cell_type": "code",
   "execution_count": 13,
   "metadata": {},
   "outputs": [],
   "source": [
    "degree_m = nx.degree_centrality(github_m)\n",
    "indegree_m = nx.in_degree_centrality(github_m)\n",
    "outdegree_m = nx.out_degree_centrality(github_m)\n",
    "eigenvector_m = nx.eigenvector_centrality_numpy(github_m)\n",
    "betweenness_m = nx.betweenness_centrality(github_m)\n",
    "closeness_m = nx.closeness_centrality(github_m)\n",
    "\n",
    "\n",
    "nx.set_node_attributes(github_m, degree_m, 'degree')\n",
    "nx.set_node_attributes(github_m, indegree_m, 'indegree')\n",
    "nx.set_node_attributes(github_m, outdegree_m, 'outdegree')\n",
    "nx.set_node_attributes(github_m, eigenvector_m, 'eigenvector')\n",
    "nx.set_node_attributes(github_m, betweenness_m, 'betweenness')\n",
    "nx.set_node_attributes(github_m, closeness_m, 'closeness')\n",
    "\n",
    "df_centrality_m = pd.DataFrame.from_dict(dict(github_m.nodes(data=True)), orient='index')"
   ]
  },
  {
   "cell_type": "code",
   "execution_count": 14,
   "metadata": {},
   "outputs": [],
   "source": [
    "degree_a = nx.degree_centrality(github_a)\n",
    "indegree_a = nx.in_degree_centrality(github_a)\n",
    "outdegree_a = nx.out_degree_centrality(github_a)\n",
    "eigenvector_a = nx.eigenvector_centrality_numpy(github_a)\n",
    "betweenness_a = nx.betweenness_centrality(github_a)\n",
    "closeness_a = nx.closeness_centrality(github_a)\n",
    "\n",
    "\n",
    "nx.set_node_attributes(github_a, degree_a, 'degree')\n",
    "nx.set_node_attributes(github_a, indegree_a, 'indegree')\n",
    "nx.set_node_attributes(github_a, outdegree_a, 'outdegree')\n",
    "nx.set_node_attributes(github_a, eigenvector_a, 'eigenvector')\n",
    "nx.set_node_attributes(github_a, betweenness_a, 'betweenness')\n",
    "nx.set_node_attributes(github_a, closeness_a, 'closeness')\n",
    "\n",
    "df_centrality_a = pd.DataFrame.from_dict(dict(github_a.nodes(data=True)), orient='index')"
   ]
  }
 ],
 "metadata": {
  "kernelspec": {
   "display_name": "Python 3 (ipykernel)",
   "language": "python",
   "name": "python3"
  },
  "language_info": {
   "codemirror_mode": {
    "name": "ipython",
    "version": 3
   },
   "file_extension": ".py",
   "mimetype": "text/x-python",
   "name": "python",
   "nbconvert_exporter": "python",
   "pygments_lexer": "ipython3",
   "version": "3.9.6"
  }
 },
 "nbformat": 4,
 "nbformat_minor": 4
}
